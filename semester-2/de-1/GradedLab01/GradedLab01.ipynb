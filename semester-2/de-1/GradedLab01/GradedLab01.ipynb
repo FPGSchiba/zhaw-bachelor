{
 "cells": [
  {
   "cell_type": "markdown",
   "metadata": {},
   "source": [
    "# Data Engineering 1: Graded Lab 01\n",
    "---------------"
   ]
  },
  {
   "cell_type": "markdown",
   "metadata": {},
   "source": [
    "#### Grading\n",
    "For this graded lab you can get a total of 10 points. These 10 points count 10% of your final grade for the course.\n",
    "\n",
    "#### Start\n",
    "Start of the Graded Lab 01 is **Thursday, March 21st at 23:55**.\n",
    "\n",
    "#### Deadline\n",
    "Deadline for the submission of the Graded Lab 01 is **Thursday, April 11th at 23:59**.\n",
    "\n",
    "#### Note\n",
    "Check each result carefully. Use data filter, cleaning, and transformation methods wherever needed. The data can sometimes be really messy and have hidden issues.\n",
    "\n",
    "#### Submission\n",
    "You are allowed to submit the solution in groups of **two or three** students.\n",
    "Submit your GradedLab01.ipynb file renamed to FirstnameStudent01LastnameStudent01_FirstnameStudent02LastnameStudent02_FirstnameStudent03LastnameStudent03.ipynb in moodle.   \n",
    "Please submit a runnable python jupyter notebook file.\n",
    "All other submissions will be rejected and graded with 0 points."
   ]
  },
  {
   "cell_type": "markdown",
   "metadata": {},
   "source": [
    "##### Task 01: Structured Data [4 points].    \n",
    "The imdb.csv file contains a dataset extracted from IMDB with several attributes. For example, the title, plot, and the language of the movies. Read the imdb.csv file in a pandas dataframe and try to answer the following questions."
   ]
  },
  {
   "cell_type": "markdown",
   "metadata": {},
   "source": [
    "##### __(a)  What is the min, max, and the average value of the attribute 'rating' for all movies? [0.5 points].__ "
   ]
  },
  {
   "cell_type": "code",
   "outputs": [
    {
     "name": "stdout",
     "output_type": "stream",
     "text": [
      "Requirement already satisfied: pandas in /Users/schiba/anaconda3/envs/zhaw-jupiter/lib/python3.11/site-packages (2.2.0)\r\n",
      "Collecting spacy\r\n",
      "  Downloading spacy-3.7.4-cp311-cp311-macosx_11_0_arm64.whl.metadata (27 kB)\r\n",
      "Requirement already satisfied: numpy<2,>=1.23.2 in /Users/schiba/anaconda3/envs/zhaw-jupiter/lib/python3.11/site-packages (from pandas) (1.26.4)\r\n",
      "Requirement already satisfied: python-dateutil>=2.8.2 in /Users/schiba/anaconda3/envs/zhaw-jupiter/lib/python3.11/site-packages (from pandas) (2.8.2)\r\n",
      "Requirement already satisfied: pytz>=2020.1 in /Users/schiba/anaconda3/envs/zhaw-jupiter/lib/python3.11/site-packages (from pandas) (2023.3.post1)\r\n",
      "Requirement already satisfied: tzdata>=2022.7 in /Users/schiba/anaconda3/envs/zhaw-jupiter/lib/python3.11/site-packages (from pandas) (2024.1)\r\n",
      "Collecting spacy-legacy<3.1.0,>=3.0.11 (from spacy)\r\n",
      "  Downloading spacy_legacy-3.0.12-py2.py3-none-any.whl.metadata (2.8 kB)\r\n",
      "Collecting spacy-loggers<2.0.0,>=1.0.0 (from spacy)\r\n",
      "  Downloading spacy_loggers-1.0.5-py3-none-any.whl.metadata (23 kB)\r\n",
      "Collecting murmurhash<1.1.0,>=0.28.0 (from spacy)\r\n",
      "  Downloading murmurhash-1.0.10-cp311-cp311-macosx_11_0_arm64.whl.metadata (2.0 kB)\r\n",
      "Collecting cymem<2.1.0,>=2.0.2 (from spacy)\r\n",
      "  Downloading cymem-2.0.8-cp311-cp311-macosx_11_0_arm64.whl.metadata (8.4 kB)\r\n",
      "Collecting preshed<3.1.0,>=3.0.2 (from spacy)\r\n",
      "  Downloading preshed-3.0.9-cp311-cp311-macosx_11_0_arm64.whl.metadata (2.2 kB)\r\n",
      "Collecting thinc<8.3.0,>=8.2.2 (from spacy)\r\n",
      "  Downloading thinc-8.2.3-cp311-cp311-macosx_11_0_arm64.whl.metadata (15 kB)\r\n",
      "Collecting wasabi<1.2.0,>=0.9.1 (from spacy)\r\n",
      "  Downloading wasabi-1.1.2-py3-none-any.whl.metadata (28 kB)\r\n",
      "Collecting srsly<3.0.0,>=2.4.3 (from spacy)\r\n",
      "  Downloading srsly-2.4.8-cp311-cp311-macosx_11_0_arm64.whl.metadata (20 kB)\r\n",
      "Collecting catalogue<2.1.0,>=2.0.6 (from spacy)\r\n",
      "  Downloading catalogue-2.0.10-py3-none-any.whl.metadata (14 kB)\r\n",
      "Collecting weasel<0.4.0,>=0.1.0 (from spacy)\r\n",
      "  Downloading weasel-0.3.4-py3-none-any.whl.metadata (4.7 kB)\r\n",
      "Collecting typer<0.10.0,>=0.3.0 (from spacy)\r\n",
      "  Downloading typer-0.9.4-py3-none-any.whl.metadata (14 kB)\r\n",
      "Collecting smart-open<7.0.0,>=5.2.1 (from spacy)\r\n",
      "  Downloading smart_open-6.4.0-py3-none-any.whl.metadata (21 kB)\r\n",
      "Collecting tqdm<5.0.0,>=4.38.0 (from spacy)\r\n",
      "  Downloading tqdm-4.66.2-py3-none-any.whl.metadata (57 kB)\r\n",
      "\u001B[2K     \u001B[90m━━━━━━━━━━━━━━━━━━━━━━━━━━━━━━━━━━━━━━━━\u001B[0m \u001B[32m57.6/57.6 kB\u001B[0m \u001B[31m4.5 MB/s\u001B[0m eta \u001B[36m0:00:00\u001B[0m\r\n",
      "\u001B[?25hRequirement already satisfied: requests<3.0.0,>=2.13.0 in /Users/schiba/anaconda3/envs/zhaw-jupiter/lib/python3.11/site-packages (from spacy) (2.31.0)\r\n",
      "Collecting pydantic!=1.8,!=1.8.1,<3.0.0,>=1.7.4 (from spacy)\r\n",
      "  Downloading pydantic-2.6.4-py3-none-any.whl.metadata (85 kB)\r\n",
      "\u001B[2K     \u001B[90m━━━━━━━━━━━━━━━━━━━━━━━━━━━━━━━━━━━━━━━━\u001B[0m \u001B[32m85.1/85.1 kB\u001B[0m \u001B[31m4.5 MB/s\u001B[0m eta \u001B[36m0:00:00\u001B[0m\r\n",
      "\u001B[?25hRequirement already satisfied: jinja2 in /Users/schiba/anaconda3/envs/zhaw-jupiter/lib/python3.11/site-packages (from spacy) (3.1.3)\r\n",
      "Requirement already satisfied: setuptools in /Users/schiba/anaconda3/envs/zhaw-jupiter/lib/python3.11/site-packages (from spacy) (68.2.2)\r\n",
      "Requirement already satisfied: packaging>=20.0 in /Users/schiba/anaconda3/envs/zhaw-jupiter/lib/python3.11/site-packages (from spacy) (23.1)\r\n",
      "Collecting langcodes<4.0.0,>=3.2.0 (from spacy)\r\n",
      "  Downloading langcodes-3.3.0-py3-none-any.whl.metadata (29 kB)\r\n",
      "Collecting annotated-types>=0.4.0 (from pydantic!=1.8,!=1.8.1,<3.0.0,>=1.7.4->spacy)\r\n",
      "  Downloading annotated_types-0.6.0-py3-none-any.whl.metadata (12 kB)\r\n",
      "Collecting pydantic-core==2.16.3 (from pydantic!=1.8,!=1.8.1,<3.0.0,>=1.7.4->spacy)\r\n",
      "  Downloading pydantic_core-2.16.3-cp311-cp311-macosx_11_0_arm64.whl.metadata (6.5 kB)\r\n",
      "Requirement already satisfied: typing-extensions>=4.6.1 in /Users/schiba/anaconda3/envs/zhaw-jupiter/lib/python3.11/site-packages (from pydantic!=1.8,!=1.8.1,<3.0.0,>=1.7.4->spacy) (4.9.0)\r\n",
      "Requirement already satisfied: six>=1.5 in /Users/schiba/anaconda3/envs/zhaw-jupiter/lib/python3.11/site-packages (from python-dateutil>=2.8.2->pandas) (1.16.0)\r\n",
      "Requirement already satisfied: charset-normalizer<4,>=2 in /Users/schiba/anaconda3/envs/zhaw-jupiter/lib/python3.11/site-packages (from requests<3.0.0,>=2.13.0->spacy) (2.0.4)\r\n",
      "Requirement already satisfied: idna<4,>=2.5 in /Users/schiba/anaconda3/envs/zhaw-jupiter/lib/python3.11/site-packages (from requests<3.0.0,>=2.13.0->spacy) (3.4)\r\n",
      "Requirement already satisfied: urllib3<3,>=1.21.1 in /Users/schiba/anaconda3/envs/zhaw-jupiter/lib/python3.11/site-packages (from requests<3.0.0,>=2.13.0->spacy) (2.1.0)\r\n",
      "Requirement already satisfied: certifi>=2017.4.17 in /Users/schiba/anaconda3/envs/zhaw-jupiter/lib/python3.11/site-packages (from requests<3.0.0,>=2.13.0->spacy) (2024.2.2)\r\n",
      "Collecting blis<0.8.0,>=0.7.8 (from thinc<8.3.0,>=8.2.2->spacy)\r\n",
      "  Downloading blis-0.7.11-cp311-cp311-macosx_11_0_arm64.whl.metadata (7.4 kB)\r\n",
      "Collecting confection<1.0.0,>=0.0.1 (from thinc<8.3.0,>=8.2.2->spacy)\r\n",
      "  Downloading confection-0.1.4-py3-none-any.whl.metadata (19 kB)\r\n",
      "Collecting click<9.0.0,>=7.1.1 (from typer<0.10.0,>=0.3.0->spacy)\r\n",
      "  Downloading click-8.1.7-py3-none-any.whl.metadata (3.0 kB)\r\n",
      "Collecting cloudpathlib<0.17.0,>=0.7.0 (from weasel<0.4.0,>=0.1.0->spacy)\r\n",
      "  Downloading cloudpathlib-0.16.0-py3-none-any.whl.metadata (14 kB)\r\n",
      "Requirement already satisfied: MarkupSafe>=2.0 in /Users/schiba/anaconda3/envs/zhaw-jupiter/lib/python3.11/site-packages (from jinja2->spacy) (2.1.3)\r\n",
      "Downloading spacy-3.7.4-cp311-cp311-macosx_11_0_arm64.whl (6.5 MB)\r\n",
      "\u001B[2K   \u001B[90m━━━━━━━━━━━━━━━━━━━━━━━━━━━━━━━━━━━━━━━━\u001B[0m \u001B[32m6.5/6.5 MB\u001B[0m \u001B[31m7.7 MB/s\u001B[0m eta \u001B[36m0:00:00\u001B[0ma \u001B[36m0:00:01\u001B[0mm\r\n",
      "\u001B[?25hDownloading catalogue-2.0.10-py3-none-any.whl (17 kB)\r\n",
      "Downloading cymem-2.0.8-cp311-cp311-macosx_11_0_arm64.whl (41 kB)\r\n",
      "\u001B[2K   \u001B[90m━━━━━━━━━━━━━━━━━━━━━━━━━━━━━━━━━━━━━━━━\u001B[0m \u001B[32m41.2/41.2 kB\u001B[0m \u001B[31m3.1 MB/s\u001B[0m eta \u001B[36m0:00:00\u001B[0m\r\n",
      "\u001B[?25hDownloading langcodes-3.3.0-py3-none-any.whl (181 kB)\r\n",
      "\u001B[2K   \u001B[90m━━━━━━━━━━━━━━━━━━━━━━━━━━━━━━━━━━━━━━━━\u001B[0m \u001B[32m181.6/181.6 kB\u001B[0m \u001B[31m10.5 MB/s\u001B[0m eta \u001B[36m0:00:00\u001B[0m\r\n",
      "\u001B[?25hDownloading murmurhash-1.0.10-cp311-cp311-macosx_11_0_arm64.whl (26 kB)\r\n",
      "Downloading preshed-3.0.9-cp311-cp311-macosx_11_0_arm64.whl (128 kB)\r\n",
      "\u001B[2K   \u001B[90m━━━━━━━━━━━━━━━━━━━━━━━━━━━━━━━━━━━━━━━━\u001B[0m \u001B[32m128.8/128.8 kB\u001B[0m \u001B[31m8.5 MB/s\u001B[0m eta \u001B[36m0:00:00\u001B[0m\r\n",
      "\u001B[?25hDownloading pydantic-2.6.4-py3-none-any.whl (394 kB)\r\n",
      "\u001B[2K   \u001B[90m━━━━━━━━━━━━━━━━━━━━━━━━━━━━━━━━━━━━━━━━\u001B[0m \u001B[32m394.9/394.9 kB\u001B[0m \u001B[31m13.8 MB/s\u001B[0m eta \u001B[36m0:00:00\u001B[0m\r\n",
      "\u001B[?25hDownloading pydantic_core-2.16.3-cp311-cp311-macosx_11_0_arm64.whl (1.7 MB)\r\n",
      "\u001B[2K   \u001B[90m━━━━━━━━━━━━━━━━━━━━━━━━━━━━━━━━━━━━━━━━\u001B[0m \u001B[32m1.7/1.7 MB\u001B[0m \u001B[31m10.9 MB/s\u001B[0m eta \u001B[36m0:00:00\u001B[0ma \u001B[36m0:00:01\u001B[0m\r\n",
      "\u001B[?25hDownloading smart_open-6.4.0-py3-none-any.whl (57 kB)\r\n",
      "\u001B[2K   \u001B[90m━━━━━━━━━━━━━━━━━━━━━━━━━━━━━━━━━━━━━━━━\u001B[0m \u001B[32m57.0/57.0 kB\u001B[0m \u001B[31m3.9 MB/s\u001B[0m eta \u001B[36m0:00:00\u001B[0m\r\n",
      "\u001B[?25hDownloading spacy_legacy-3.0.12-py2.py3-none-any.whl (29 kB)\r\n",
      "Downloading spacy_loggers-1.0.5-py3-none-any.whl (22 kB)\r\n",
      "Downloading srsly-2.4.8-cp311-cp311-macosx_11_0_arm64.whl (488 kB)\r\n",
      "\u001B[2K   \u001B[90m━━━━━━━━━━━━━━━━━━━━━━━━━━━━━━━━━━━━━━━━\u001B[0m \u001B[32m488.4/488.4 kB\u001B[0m \u001B[31m9.8 MB/s\u001B[0m eta \u001B[36m0:00:00\u001B[0m:00:01\u001B[0m\r\n",
      "\u001B[?25hDownloading thinc-8.2.3-cp311-cp311-macosx_11_0_arm64.whl (781 kB)\r\n",
      "\u001B[2K   \u001B[90m━━━━━━━━━━━━━━━━━━━━━━━━━━━━━━━━━━━━━━━━\u001B[0m \u001B[32m781.1/781.1 kB\u001B[0m \u001B[31m6.3 MB/s\u001B[0m eta \u001B[36m0:00:00\u001B[0m00:01\u001B[0m:00:01\u001B[0m\r\n",
      "\u001B[?25hDownloading tqdm-4.66.2-py3-none-any.whl (78 kB)\r\n",
      "\u001B[2K   \u001B[90m━━━━━━━━━━━━━━━━━━━━━━━━━━━━━━━━━━━━━━━━\u001B[0m \u001B[32m78.3/78.3 kB\u001B[0m \u001B[31m5.9 MB/s\u001B[0m eta \u001B[36m0:00:00\u001B[0m\r\n",
      "\u001B[?25hDownloading typer-0.9.4-py3-none-any.whl (45 kB)\r\n",
      "\u001B[2K   \u001B[90m━━━━━━━━━━━━━━━━━━━━━━━━━━━━━━━━━━━━━━━━\u001B[0m \u001B[32m46.0/46.0 kB\u001B[0m \u001B[31m2.7 MB/s\u001B[0m eta \u001B[36m0:00:00\u001B[0m\r\n",
      "\u001B[?25hDownloading wasabi-1.1.2-py3-none-any.whl (27 kB)\r\n",
      "Downloading weasel-0.3.4-py3-none-any.whl (50 kB)\r\n",
      "\u001B[2K   \u001B[90m━━━━━━━━━━━━━━━━━━━━━━━━━━━━━━━━━━━━━━━━\u001B[0m \u001B[32m50.1/50.1 kB\u001B[0m \u001B[31m4.1 MB/s\u001B[0m eta \u001B[36m0:00:00\u001B[0m\r\n",
      "\u001B[?25hDownloading annotated_types-0.6.0-py3-none-any.whl (12 kB)\r\n",
      "Downloading blis-0.7.11-cp311-cp311-macosx_11_0_arm64.whl (1.1 MB)\r\n",
      "\u001B[2K   \u001B[90m━━━━━━━━━━━━━━━━━━━━━━━━━━━━━━━━━━━━━━━━\u001B[0m \u001B[32m1.1/1.1 MB\u001B[0m \u001B[31m11.0 MB/s\u001B[0m eta \u001B[36m0:00:00\u001B[0ma \u001B[36m0:00:01\u001B[0m\r\n",
      "\u001B[?25hDownloading click-8.1.7-py3-none-any.whl (97 kB)\r\n",
      "\u001B[2K   \u001B[90m━━━━━━━━━━━━━━━━━━━━━━━━━━━━━━━━━━━━━━━━\u001B[0m \u001B[32m97.9/97.9 kB\u001B[0m \u001B[31m5.7 MB/s\u001B[0m eta \u001B[36m0:00:00\u001B[0m\r\n",
      "\u001B[?25hDownloading cloudpathlib-0.16.0-py3-none-any.whl (45 kB)\r\n",
      "\u001B[2K   \u001B[90m━━━━━━━━━━━━━━━━━━━━━━━━━━━━━━━━━━━━━━━━\u001B[0m \u001B[32m45.0/45.0 kB\u001B[0m \u001B[31m2.5 MB/s\u001B[0m eta \u001B[36m0:00:00\u001B[0m\r\n",
      "\u001B[?25hDownloading confection-0.1.4-py3-none-any.whl (35 kB)\r\n",
      "Installing collected packages: cymem, wasabi, tqdm, spacy-loggers, spacy-legacy, smart-open, pydantic-core, murmurhash, langcodes, cloudpathlib, click, catalogue, blis, annotated-types, typer, srsly, pydantic, preshed, confection, weasel, thinc, spacy\r\n",
      "Successfully installed annotated-types-0.6.0 blis-0.7.11 catalogue-2.0.10 click-8.1.7 cloudpathlib-0.16.0 confection-0.1.4 cymem-2.0.8 langcodes-3.3.0 murmurhash-1.0.10 preshed-3.0.9 pydantic-2.6.4 pydantic-core-2.16.3 smart-open-6.4.0 spacy-3.7.4 spacy-legacy-3.0.12 spacy-loggers-1.0.5 srsly-2.4.8 thinc-8.2.3 tqdm-4.66.2 typer-0.9.4 wasabi-1.1.2 weasel-0.3.4\r\n"
     ]
    }
   ],
   "source": [
    "import datetime\n",
    "\n",
    "import numpy as np\n",
    "!pip install pandas spacy"
   ],
   "metadata": {
    "collapsed": false,
    "ExecuteTime": {
     "end_time": "2024-04-03T11:49:28.247187Z",
     "start_time": "2024-04-03T11:49:16.354282Z"
    }
   },
   "execution_count": 10
  },
  {
   "cell_type": "code",
   "execution_count": 2,
   "metadata": {
    "ExecuteTime": {
     "end_time": "2024-04-03T11:48:33.104225Z",
     "start_time": "2024-04-03T11:48:32.016781Z"
    }
   },
   "outputs": [
    {
     "name": "stdout",
     "output_type": "stream",
     "text": [
      "Min: 8.1\n",
      "Max: 9.6\n",
      "Average: 8.6\n"
     ]
    },
    {
     "name": "stderr",
     "output_type": "stream",
     "text": [
      "/var/folders/g8/ts4wj2w128q2scsf9ttnhwq40000gn/T/ipykernel_32042/3671413406.py:1: DeprecationWarning: \n",
      "Pyarrow will become a required dependency of pandas in the next major release of pandas (pandas 3.0),\n",
      "(to allow more performant data types, such as the Arrow string type, and better interoperability with other libraries)\n",
      "but was not found to be installed on your system.\n",
      "If this would cause problems for you,\n",
      "please provide us feedback at https://github.com/pandas-dev/pandas/issues/54466\n",
      "        \n",
      "  import pandas as pd\n"
     ]
    }
   ],
   "source": [
    "import pandas as pd\n",
    "\n",
    "data = pd.read_csv('imdb.csv')\n",
    "\n",
    "data.head()\n",
    "\n",
    "print(f\"Min: {data.rating.min()}\")\n",
    "print(f\"Max: {data.rating.max()}\")\n",
    "print(f\"Average: {data.rating.mean():.1f}\")"
   ]
  },
  {
   "cell_type": "markdown",
   "metadata": {},
   "source": [
    "##### __(b) What is the min, max, and the average value of the attribute 'cumulative worldwide gross' for all movies? [0.5 points].__ "
   ]
  },
  {
   "cell_type": "code",
   "execution_count": 3,
   "metadata": {
    "ExecuteTime": {
     "end_time": "2024-04-03T11:48:33.108466Z",
     "start_time": "2024-04-03T11:48:33.105186Z"
    }
   },
   "outputs": [
    {
     "name": "stdout",
     "output_type": "stream",
     "text": [
      "Min: 0.0\n",
      "Max: 2797800564.0\n",
      "Average: 238223230.2\n"
     ]
    }
   ],
   "source": [
    "data[\"cumulative worldwide gross\"] = data[\"cumulative worldwide gross\"].str.replace(r'\\s.+', '', regex=True).replace(r'\\D', '', regex=True).astype(float)\n",
    "\n",
    "print(f\"Min: {data['cumulative worldwide gross'].min()}\")\n",
    "print(f\"Max: {data['cumulative worldwide gross'].max()}\")\n",
    "print(f\"Average: {data['cumulative worldwide gross'].mean():.1f}\")"
   ]
  },
  {
   "cell_type": "markdown",
   "metadata": {},
   "source": [
    "##### __(c) What is the min, max, and the average value of the attribute 'cumulative worldwide gross' grouped by genre of the movies? [1 point].__ "
   ]
  },
  {
   "cell_type": "code",
   "execution_count": 4,
   "metadata": {
    "ExecuteTime": {
     "end_time": "2024-04-03T11:48:33.119135Z",
     "start_time": "2024-04-03T11:48:33.109503Z"
    }
   },
   "outputs": [
    {
     "data": {
      "text/plain": "genres\nAction         4.655257e+08\nAdventure      5.123588e+08\nAnimation      3.958353e+08\nBiography      1.538608e+08\nComedy         2.447827e+08\nCrime          1.824480e+08\nDocumentary    0.000000e+00\nDrama          2.290571e+08\nFamily         5.497713e+08\nFantasy        3.426368e+08\nGame-Show      0.000000e+00\nHistory        7.840920e+07\nHorror         8.982547e+07\nMusic          2.946962e+08\nMusical        6.325005e+08\nMystery        1.406539e+08\nNews           0.000000e+00\nReality-TV     0.000000e+00\nRomance        2.344835e+08\nSci-Fi         4.410689e+08\nSport          1.164948e+08\nTalk-Show      0.000000e+00\nThriller       2.154442e+08\nWar            1.213808e+08\nWestern        3.362419e+08\nName: cumulative worldwide gross, dtype: float64"
     },
     "execution_count": 4,
     "metadata": {},
     "output_type": "execute_result"
    }
   ],
   "source": [
    "data['genres'] = data['genres'].apply(lambda x: x.replace(\"'\", '').strip('][').split(', ') if not isinstance(x, list) else x)\n",
    "data = data.explode('genres')\n",
    "data.groupby(by=['genres'], dropna=True)['cumulative worldwide gross'].min()\n",
    "data.groupby(by=['genres'], dropna=True)['cumulative worldwide gross'].max()\n",
    "data.groupby(by=['genres'], dropna=True)['cumulative worldwide gross'].mean()"
   ]
  },
  {
   "cell_type": "markdown",
   "metadata": {},
   "source": [
    "##### __(d) What is the profit (defined as cumulative worldwide gross - budget) of each movie? [1 point].__ "
   ]
  },
  {
   "cell_type": "code",
   "execution_count": 5,
   "metadata": {
    "ExecuteTime": {
     "end_time": "2024-04-03T11:48:33.124861Z",
     "start_time": "2024-04-03T11:48:33.120647Z"
    }
   },
   "outputs": [
    {
     "data": {
      "text/plain": "0       33500000.0\n1      239066411.0\n1      239066411.0\n2      819558444.0\n2      819558444.0\n          ...     \n156            0.0\n156            0.0\n157            0.0\n157            0.0\n158            0.0\nLength: 487, dtype: float64"
     },
     "execution_count": 5,
     "metadata": {},
     "output_type": "execute_result"
    }
   ],
   "source": [
    "data.budget = data.budget.str.replace(r'\\D', '', regex=True).astype(float)\n",
    "profit = data['cumulative worldwide gross'] - data.budget\n",
    "profit"
   ]
  },
  {
   "cell_type": "markdown",
   "metadata": {},
   "source": [
    "##### __(e)  What is the min, max, and the average value of the atttribute 'opening weekend united states' per month? [1 point].__ "
   ]
  },
  {
   "cell_type": "code",
   "execution_count": 6,
   "metadata": {
    "ExecuteTime": {
     "end_time": "2024-04-03T11:48:33.160035Z",
     "start_time": "2024-04-03T11:48:33.125701Z"
    }
   },
   "outputs": [
    {
     "data": {
      "text/plain": "opening weekend united states dates\n1.0     1.326144e+07\n2.0     2.974682e+07\n3.0     3.421716e+07\n4.0     1.593046e+08\n5.0     5.929679e+07\n6.0     5.916076e+07\n7.0     5.430706e+07\n8.0     1.121913e+07\n9.0     1.056989e+07\n10.0    2.193238e+07\n11.0    2.672944e+07\n12.0    1.964329e+07\nName: opening weekend united states income, dtype: float64"
     },
     "execution_count": 6,
     "metadata": {},
     "output_type": "execute_result"
    }
   ],
   "source": [
    "import datetime\n",
    "\n",
    "data['opening weekend united states']= data['opening weekend united states'].apply(lambda x: x.replace(\"$\", '').split(', ') if not isinstance(x, list) else x)\n",
    "data = data.merge(data['opening weekend united states'].apply(lambda s: pd.Series({'opening weekend united states income': float(s[0].replace(',', '')), 'opening weekend united states dates': datetime.datetime.strptime(s[1], '%d %b %Y')}) if len(s) > 1 else pd.Series({'opening weekend united states income': np.NaN, 'opening weekend united states dates': np.NaN})), left_index=True, right_index=True)\n",
    "\n",
    "data.groupby(by=[data['opening weekend united states dates'].dt.month], dropna=True)['opening weekend united states income'].min()\n",
    "data.groupby(by=[data['opening weekend united states dates'].dt.month], dropna=True)['opening weekend united states income'].max()\n",
    "data.groupby(by=[data['opening weekend united states dates'].dt.month], dropna=True)['opening weekend united states income'].mean()"
   ]
  },
  {
   "cell_type": "markdown",
   "metadata": {},
   "source": [
    "#### Task 02: Unstructured Data [6 points]. \n",
    "This time use the files imdb.csv from Task 01 and the imdb2.csv file. In this task we mainly use the content of the attribute 'plot' for the implementation of a retrieval system."
   ]
  },
  {
   "cell_type": "markdown",
   "metadata": {},
   "source": [
    "##### __(a)  Read the files imdb.csv and imdb2.csv in a dataframe called imdb. Add a column which is called 'plotterms' to each item. The new column should contain all terms (lower-case and cleaned from special characters) from the plot attribute which are not contained in the stopwords_english.txt file. [0.5 points]__ "
   ]
  },
  {
   "cell_type": "code",
   "outputs": [
    {
     "name": "stdout",
     "output_type": "stream",
     "text": [
      "Collecting en-core-web-sm==3.7.1\r\n",
      "  Downloading https://github.com/explosion/spacy-models/releases/download/en_core_web_sm-3.7.1/en_core_web_sm-3.7.1-py3-none-any.whl (12.8 MB)\r\n",
      "\u001B[2K     \u001B[90m━━━━━━━━━━━━━━━━━━━━━━━━━━━━━━━━━━━━━━━━\u001B[0m \u001B[32m12.8/12.8 MB\u001B[0m \u001B[31m6.5 MB/s\u001B[0m eta \u001B[36m0:00:00\u001B[0m00:01\u001B[0m00:01\u001B[0m\r\n",
      "\u001B[?25hRequirement already satisfied: spacy<3.8.0,>=3.7.2 in /Users/schiba/anaconda3/envs/zhaw-jupiter/lib/python3.11/site-packages (from en-core-web-sm==3.7.1) (3.7.4)\r\n",
      "Requirement already satisfied: spacy-legacy<3.1.0,>=3.0.11 in /Users/schiba/anaconda3/envs/zhaw-jupiter/lib/python3.11/site-packages (from spacy<3.8.0,>=3.7.2->en-core-web-sm==3.7.1) (3.0.12)\r\n",
      "Requirement already satisfied: spacy-loggers<2.0.0,>=1.0.0 in /Users/schiba/anaconda3/envs/zhaw-jupiter/lib/python3.11/site-packages (from spacy<3.8.0,>=3.7.2->en-core-web-sm==3.7.1) (1.0.5)\r\n",
      "Requirement already satisfied: murmurhash<1.1.0,>=0.28.0 in /Users/schiba/anaconda3/envs/zhaw-jupiter/lib/python3.11/site-packages (from spacy<3.8.0,>=3.7.2->en-core-web-sm==3.7.1) (1.0.10)\r\n",
      "Requirement already satisfied: cymem<2.1.0,>=2.0.2 in /Users/schiba/anaconda3/envs/zhaw-jupiter/lib/python3.11/site-packages (from spacy<3.8.0,>=3.7.2->en-core-web-sm==3.7.1) (2.0.8)\r\n",
      "Requirement already satisfied: preshed<3.1.0,>=3.0.2 in /Users/schiba/anaconda3/envs/zhaw-jupiter/lib/python3.11/site-packages (from spacy<3.8.0,>=3.7.2->en-core-web-sm==3.7.1) (3.0.9)\r\n",
      "Requirement already satisfied: thinc<8.3.0,>=8.2.2 in /Users/schiba/anaconda3/envs/zhaw-jupiter/lib/python3.11/site-packages (from spacy<3.8.0,>=3.7.2->en-core-web-sm==3.7.1) (8.2.3)\r\n",
      "Requirement already satisfied: wasabi<1.2.0,>=0.9.1 in /Users/schiba/anaconda3/envs/zhaw-jupiter/lib/python3.11/site-packages (from spacy<3.8.0,>=3.7.2->en-core-web-sm==3.7.1) (1.1.2)\r\n",
      "Requirement already satisfied: srsly<3.0.0,>=2.4.3 in /Users/schiba/anaconda3/envs/zhaw-jupiter/lib/python3.11/site-packages (from spacy<3.8.0,>=3.7.2->en-core-web-sm==3.7.1) (2.4.8)\r\n",
      "Requirement already satisfied: catalogue<2.1.0,>=2.0.6 in /Users/schiba/anaconda3/envs/zhaw-jupiter/lib/python3.11/site-packages (from spacy<3.8.0,>=3.7.2->en-core-web-sm==3.7.1) (2.0.10)\r\n",
      "Requirement already satisfied: weasel<0.4.0,>=0.1.0 in /Users/schiba/anaconda3/envs/zhaw-jupiter/lib/python3.11/site-packages (from spacy<3.8.0,>=3.7.2->en-core-web-sm==3.7.1) (0.3.4)\r\n",
      "Requirement already satisfied: typer<0.10.0,>=0.3.0 in /Users/schiba/anaconda3/envs/zhaw-jupiter/lib/python3.11/site-packages (from spacy<3.8.0,>=3.7.2->en-core-web-sm==3.7.1) (0.9.4)\r\n",
      "Requirement already satisfied: smart-open<7.0.0,>=5.2.1 in /Users/schiba/anaconda3/envs/zhaw-jupiter/lib/python3.11/site-packages (from spacy<3.8.0,>=3.7.2->en-core-web-sm==3.7.1) (6.4.0)\r\n",
      "Requirement already satisfied: tqdm<5.0.0,>=4.38.0 in /Users/schiba/anaconda3/envs/zhaw-jupiter/lib/python3.11/site-packages (from spacy<3.8.0,>=3.7.2->en-core-web-sm==3.7.1) (4.66.2)\r\n",
      "Requirement already satisfied: requests<3.0.0,>=2.13.0 in /Users/schiba/anaconda3/envs/zhaw-jupiter/lib/python3.11/site-packages (from spacy<3.8.0,>=3.7.2->en-core-web-sm==3.7.1) (2.31.0)\r\n",
      "Requirement already satisfied: pydantic!=1.8,!=1.8.1,<3.0.0,>=1.7.4 in /Users/schiba/anaconda3/envs/zhaw-jupiter/lib/python3.11/site-packages (from spacy<3.8.0,>=3.7.2->en-core-web-sm==3.7.1) (2.6.4)\r\n",
      "Requirement already satisfied: jinja2 in /Users/schiba/anaconda3/envs/zhaw-jupiter/lib/python3.11/site-packages (from spacy<3.8.0,>=3.7.2->en-core-web-sm==3.7.1) (3.1.3)\r\n",
      "Requirement already satisfied: setuptools in /Users/schiba/anaconda3/envs/zhaw-jupiter/lib/python3.11/site-packages (from spacy<3.8.0,>=3.7.2->en-core-web-sm==3.7.1) (68.2.2)\r\n",
      "Requirement already satisfied: packaging>=20.0 in /Users/schiba/anaconda3/envs/zhaw-jupiter/lib/python3.11/site-packages (from spacy<3.8.0,>=3.7.2->en-core-web-sm==3.7.1) (23.1)\r\n",
      "Requirement already satisfied: langcodes<4.0.0,>=3.2.0 in /Users/schiba/anaconda3/envs/zhaw-jupiter/lib/python3.11/site-packages (from spacy<3.8.0,>=3.7.2->en-core-web-sm==3.7.1) (3.3.0)\r\n",
      "Requirement already satisfied: numpy>=1.19.0 in /Users/schiba/anaconda3/envs/zhaw-jupiter/lib/python3.11/site-packages (from spacy<3.8.0,>=3.7.2->en-core-web-sm==3.7.1) (1.26.4)\r\n",
      "Requirement already satisfied: annotated-types>=0.4.0 in /Users/schiba/anaconda3/envs/zhaw-jupiter/lib/python3.11/site-packages (from pydantic!=1.8,!=1.8.1,<3.0.0,>=1.7.4->spacy<3.8.0,>=3.7.2->en-core-web-sm==3.7.1) (0.6.0)\r\n",
      "Requirement already satisfied: pydantic-core==2.16.3 in /Users/schiba/anaconda3/envs/zhaw-jupiter/lib/python3.11/site-packages (from pydantic!=1.8,!=1.8.1,<3.0.0,>=1.7.4->spacy<3.8.0,>=3.7.2->en-core-web-sm==3.7.1) (2.16.3)\r\n",
      "Requirement already satisfied: typing-extensions>=4.6.1 in /Users/schiba/anaconda3/envs/zhaw-jupiter/lib/python3.11/site-packages (from pydantic!=1.8,!=1.8.1,<3.0.0,>=1.7.4->spacy<3.8.0,>=3.7.2->en-core-web-sm==3.7.1) (4.9.0)\r\n",
      "Requirement already satisfied: charset-normalizer<4,>=2 in /Users/schiba/anaconda3/envs/zhaw-jupiter/lib/python3.11/site-packages (from requests<3.0.0,>=2.13.0->spacy<3.8.0,>=3.7.2->en-core-web-sm==3.7.1) (2.0.4)\r\n",
      "Requirement already satisfied: idna<4,>=2.5 in /Users/schiba/anaconda3/envs/zhaw-jupiter/lib/python3.11/site-packages (from requests<3.0.0,>=2.13.0->spacy<3.8.0,>=3.7.2->en-core-web-sm==3.7.1) (3.4)\r\n",
      "Requirement already satisfied: urllib3<3,>=1.21.1 in /Users/schiba/anaconda3/envs/zhaw-jupiter/lib/python3.11/site-packages (from requests<3.0.0,>=2.13.0->spacy<3.8.0,>=3.7.2->en-core-web-sm==3.7.1) (2.1.0)\r\n",
      "Requirement already satisfied: certifi>=2017.4.17 in /Users/schiba/anaconda3/envs/zhaw-jupiter/lib/python3.11/site-packages (from requests<3.0.0,>=2.13.0->spacy<3.8.0,>=3.7.2->en-core-web-sm==3.7.1) (2024.2.2)\r\n",
      "Requirement already satisfied: blis<0.8.0,>=0.7.8 in /Users/schiba/anaconda3/envs/zhaw-jupiter/lib/python3.11/site-packages (from thinc<8.3.0,>=8.2.2->spacy<3.8.0,>=3.7.2->en-core-web-sm==3.7.1) (0.7.11)\r\n",
      "Requirement already satisfied: confection<1.0.0,>=0.0.1 in /Users/schiba/anaconda3/envs/zhaw-jupiter/lib/python3.11/site-packages (from thinc<8.3.0,>=8.2.2->spacy<3.8.0,>=3.7.2->en-core-web-sm==3.7.1) (0.1.4)\r\n",
      "Requirement already satisfied: click<9.0.0,>=7.1.1 in /Users/schiba/anaconda3/envs/zhaw-jupiter/lib/python3.11/site-packages (from typer<0.10.0,>=0.3.0->spacy<3.8.0,>=3.7.2->en-core-web-sm==3.7.1) (8.1.7)\r\n",
      "Requirement already satisfied: cloudpathlib<0.17.0,>=0.7.0 in /Users/schiba/anaconda3/envs/zhaw-jupiter/lib/python3.11/site-packages (from weasel<0.4.0,>=0.1.0->spacy<3.8.0,>=3.7.2->en-core-web-sm==3.7.1) (0.16.0)\r\n",
      "Requirement already satisfied: MarkupSafe>=2.0 in /Users/schiba/anaconda3/envs/zhaw-jupiter/lib/python3.11/site-packages (from jinja2->spacy<3.8.0,>=3.7.2->en-core-web-sm==3.7.1) (2.1.3)\r\n",
      "Installing collected packages: en-core-web-sm\r\n",
      "Successfully installed en-core-web-sm-3.7.1\r\n",
      "\u001B[38;5;2m✔ Download and installation successful\u001B[0m\r\n",
      "You can now load the package via spacy.load('en_core_web_sm')\r\n"
     ]
    }
   ],
   "source": [
    "!spacy download en_core_web_sm"
   ],
   "metadata": {
    "collapsed": false,
    "ExecuteTime": {
     "end_time": "2024-04-03T11:49:54.892688Z",
     "start_time": "2024-04-03T11:49:47.568693Z"
    }
   },
   "execution_count": 12
  },
  {
   "cell_type": "code",
   "execution_count": 13,
   "metadata": {
    "ExecuteTime": {
     "end_time": "2024-04-03T11:50:03.229619Z",
     "start_time": "2024-04-03T11:49:57.570344Z"
    }
   },
   "outputs": [
    {
     "data": {
      "text/plain": "           id       kind                           title  \\\n0      120669      movie  Fear and Loathing in Las Vegas   \n1     1343092      movie                The Great Gatsby   \n2     2069861      movie               My Favorite Movie   \n3     2267368      movie                     Joshua Tree   \n4    13560124      movie                   After America   \n..        ...        ...                             ...   \n154   2085059  tv series                    Black Mirror   \n155   2707408  tv series                          Narcos   \n156     98936  tv series                      Twin Peaks   \n157   4934214  tv series                      Taskmaster   \n158    200276  tv series                   The West Wing   \n\n                                             languages  \\\n0                                          ['English']   \n1                                          ['English']   \n2                                          ['English']   \n3                                          ['English']   \n4                                ['English', 'Somali']   \n..                                                 ...   \n154                                        ['English']   \n155                             ['English', 'Spanish']   \n156  ['English', 'Icelandic', 'Afrikaans', 'Norwegi...   \n157                                        ['English']   \n158                                        ['English']   \n\n                                          genres  rating       director  \\\n0               ['Adventure', 'Comedy', 'Drama']     7.5  Terry Gilliam   \n1                           ['Drama', 'Romance']     7.2   Baz Luhrmann   \n2                           ['Comedy', 'Family']     8.4  Martin Rogers   \n3                                      ['Drama']     6.6       Li Cheng   \n4                ['Drama', 'Fantasy', 'Mystery']     4.5     Jake Yuzna   \n..                                           ...     ...            ...   \n154   ['Drama', 'Mystery', 'Sci-Fi', 'Thriller']     8.8            NaN   \n155  ['Biography', 'Crime', 'Drama', 'Thriller']     8.8            NaN   \n156    ['Crime', 'Drama', 'Mystery', 'Thriller']     8.8            NaN   \n157                      ['Comedy', 'Game-Show']     9.0            NaN   \n158                                    ['Drama']     8.9            NaN   \n\n    cumulative worldwide gross opening weekend united states     budget  \\\n0                            0                             0          0   \n1                            0                             0          0   \n2                            0                             0          0   \n3                            0                             0          0   \n4                            0                             0          0   \n..                         ...                           ...        ...   \n154                  000000000                     000000000  000000000   \n155                  000000000                     000000000  000000000   \n156                  000000000                     000000000  000000000   \n157                  000000000                     000000000  000000000   \n158                  000000000                     000000000  000000000   \n\n                                                  plot  \\\n0    An oddball journalist and his psychopathic law...   \n1    A writer and wall street trader. Nick. finds h...   \n2    Dave has the American Dream and hates it His e...   \n3    Set in the US heartland following the 2008 eco...   \n4    A group of criminal justice deescalation worke...   \n..                                                 ...   \n154  An anthology series exploring a twisted. hight...   \n155  A chronicled look at the criminal exploits of ...   \n156  An idiosyncratic FBI agent investigates the mu...   \n157  Five comedians are set tasks challenging their...   \n158  Inside the lives of staffers in the West Wing ...   \n\n                                             plotterms  \n0    [an, oddball, journalist, and, his, psychopath...  \n1    [a, writer, and, wall, street, trader, ., nick...  \n2    [dave, has, the, american, dream, and, hates, ...  \n3    [set, in, the, us, heartland, following, the, ...  \n4    [a, group, of, criminal, justice, deescalation...  \n..                                                 ...  \n154  [an, anthology, series, exploring, a, twisted,...  \n155  [a, chronicled, look, at, the, criminal, explo...  \n156  [an, idiosyncratic, fbi, agent, investigates, ...  \n157  [five, comedians, are, set, tasks, challenging...  \n158  [inside, the, lives, of, staffers, in, the, we...  \n\n[167 rows x 12 columns]",
      "text/html": "<div>\n<style scoped>\n    .dataframe tbody tr th:only-of-type {\n        vertical-align: middle;\n    }\n\n    .dataframe tbody tr th {\n        vertical-align: top;\n    }\n\n    .dataframe thead th {\n        text-align: right;\n    }\n</style>\n<table border=\"1\" class=\"dataframe\">\n  <thead>\n    <tr style=\"text-align: right;\">\n      <th></th>\n      <th>id</th>\n      <th>kind</th>\n      <th>title</th>\n      <th>languages</th>\n      <th>genres</th>\n      <th>rating</th>\n      <th>director</th>\n      <th>cumulative worldwide gross</th>\n      <th>opening weekend united states</th>\n      <th>budget</th>\n      <th>plot</th>\n      <th>plotterms</th>\n    </tr>\n  </thead>\n  <tbody>\n    <tr>\n      <th>0</th>\n      <td>120669</td>\n      <td>movie</td>\n      <td>Fear and Loathing in Las Vegas</td>\n      <td>['English']</td>\n      <td>['Adventure', 'Comedy', 'Drama']</td>\n      <td>7.5</td>\n      <td>Terry Gilliam</td>\n      <td>0</td>\n      <td>0</td>\n      <td>0</td>\n      <td>An oddball journalist and his psychopathic law...</td>\n      <td>[an, oddball, journalist, and, his, psychopath...</td>\n    </tr>\n    <tr>\n      <th>1</th>\n      <td>1343092</td>\n      <td>movie</td>\n      <td>The Great Gatsby</td>\n      <td>['English']</td>\n      <td>['Drama', 'Romance']</td>\n      <td>7.2</td>\n      <td>Baz Luhrmann</td>\n      <td>0</td>\n      <td>0</td>\n      <td>0</td>\n      <td>A writer and wall street trader. Nick. finds h...</td>\n      <td>[a, writer, and, wall, street, trader, ., nick...</td>\n    </tr>\n    <tr>\n      <th>2</th>\n      <td>2069861</td>\n      <td>movie</td>\n      <td>My Favorite Movie</td>\n      <td>['English']</td>\n      <td>['Comedy', 'Family']</td>\n      <td>8.4</td>\n      <td>Martin Rogers</td>\n      <td>0</td>\n      <td>0</td>\n      <td>0</td>\n      <td>Dave has the American Dream and hates it His e...</td>\n      <td>[dave, has, the, american, dream, and, hates, ...</td>\n    </tr>\n    <tr>\n      <th>3</th>\n      <td>2267368</td>\n      <td>movie</td>\n      <td>Joshua Tree</td>\n      <td>['English']</td>\n      <td>['Drama']</td>\n      <td>6.6</td>\n      <td>Li Cheng</td>\n      <td>0</td>\n      <td>0</td>\n      <td>0</td>\n      <td>Set in the US heartland following the 2008 eco...</td>\n      <td>[set, in, the, us, heartland, following, the, ...</td>\n    </tr>\n    <tr>\n      <th>4</th>\n      <td>13560124</td>\n      <td>movie</td>\n      <td>After America</td>\n      <td>['English', 'Somali']</td>\n      <td>['Drama', 'Fantasy', 'Mystery']</td>\n      <td>4.5</td>\n      <td>Jake Yuzna</td>\n      <td>0</td>\n      <td>0</td>\n      <td>0</td>\n      <td>A group of criminal justice deescalation worke...</td>\n      <td>[a, group, of, criminal, justice, deescalation...</td>\n    </tr>\n    <tr>\n      <th>...</th>\n      <td>...</td>\n      <td>...</td>\n      <td>...</td>\n      <td>...</td>\n      <td>...</td>\n      <td>...</td>\n      <td>...</td>\n      <td>...</td>\n      <td>...</td>\n      <td>...</td>\n      <td>...</td>\n      <td>...</td>\n    </tr>\n    <tr>\n      <th>154</th>\n      <td>2085059</td>\n      <td>tv series</td>\n      <td>Black Mirror</td>\n      <td>['English']</td>\n      <td>['Drama', 'Mystery', 'Sci-Fi', 'Thriller']</td>\n      <td>8.8</td>\n      <td>NaN</td>\n      <td>000000000</td>\n      <td>000000000</td>\n      <td>000000000</td>\n      <td>An anthology series exploring a twisted. hight...</td>\n      <td>[an, anthology, series, exploring, a, twisted,...</td>\n    </tr>\n    <tr>\n      <th>155</th>\n      <td>2707408</td>\n      <td>tv series</td>\n      <td>Narcos</td>\n      <td>['English', 'Spanish']</td>\n      <td>['Biography', 'Crime', 'Drama', 'Thriller']</td>\n      <td>8.8</td>\n      <td>NaN</td>\n      <td>000000000</td>\n      <td>000000000</td>\n      <td>000000000</td>\n      <td>A chronicled look at the criminal exploits of ...</td>\n      <td>[a, chronicled, look, at, the, criminal, explo...</td>\n    </tr>\n    <tr>\n      <th>156</th>\n      <td>98936</td>\n      <td>tv series</td>\n      <td>Twin Peaks</td>\n      <td>['English', 'Icelandic', 'Afrikaans', 'Norwegi...</td>\n      <td>['Crime', 'Drama', 'Mystery', 'Thriller']</td>\n      <td>8.8</td>\n      <td>NaN</td>\n      <td>000000000</td>\n      <td>000000000</td>\n      <td>000000000</td>\n      <td>An idiosyncratic FBI agent investigates the mu...</td>\n      <td>[an, idiosyncratic, fbi, agent, investigates, ...</td>\n    </tr>\n    <tr>\n      <th>157</th>\n      <td>4934214</td>\n      <td>tv series</td>\n      <td>Taskmaster</td>\n      <td>['English']</td>\n      <td>['Comedy', 'Game-Show']</td>\n      <td>9.0</td>\n      <td>NaN</td>\n      <td>000000000</td>\n      <td>000000000</td>\n      <td>000000000</td>\n      <td>Five comedians are set tasks challenging their...</td>\n      <td>[five, comedians, are, set, tasks, challenging...</td>\n    </tr>\n    <tr>\n      <th>158</th>\n      <td>200276</td>\n      <td>tv series</td>\n      <td>The West Wing</td>\n      <td>['English']</td>\n      <td>['Drama']</td>\n      <td>8.9</td>\n      <td>NaN</td>\n      <td>000000000</td>\n      <td>000000000</td>\n      <td>000000000</td>\n      <td>Inside the lives of staffers in the West Wing ...</td>\n      <td>[inside, the, lives, of, staffers, in, the, we...</td>\n    </tr>\n  </tbody>\n</table>\n<p>167 rows × 12 columns</p>\n</div>"
     },
     "execution_count": 13,
     "metadata": {},
     "output_type": "execute_result"
    }
   ],
   "source": [
    "import pandas as pd\n",
    "import spacy\n",
    "import re\n",
    "\n",
    "nlp = spacy.load('en_core_web_sm')\n",
    "\n",
    "data = pd.read_csv('imdb2.csv')\n",
    "imdb = pd.read_csv('imdb.csv')\n",
    "\n",
    "imdb = pd.concat([data, imdb])\n",
    "\n",
    "with open('stopwords_english.txt', 'r+', encoding='utf-8') as file:\n",
    "    stopwords = file.readlines()\n",
    "\n",
    "def tokenize(text):\n",
    "    doc = nlp(text)\n",
    "    return [token.lemma_.lower() for token in doc if token.text not in stopwords]\n",
    "\n",
    "imdb['plot'] = imdb['plot'].apply(lambda x: '. '.join([re.sub(r'[^\\w\\s]', '', y) for y in x.split(', ')]))\n",
    "imdb['plotterms'] = imdb['plot'].apply(tokenize)\n",
    "imdb"
   ]
  },
  {
   "cell_type": "markdown",
   "metadata": {},
   "source": [
    "##### __(b)  Create an inverted index for the terms in the 'plotterms' column. Use a datastructure of your choice for the implementation [0.5 points]__ "
   ]
  },
  {
   "cell_type": "code",
   "execution_count": null,
   "metadata": {
    "ExecuteTime": {
     "end_time": "2024-04-03T11:48:47.132298Z",
     "start_time": "2024-04-03T11:48:47.132247Z"
    }
   },
   "outputs": [],
   "source": [
    "index = {}\n",
    "count = 0\n",
    "\n",
    "def append_index(plotterms):\n",
    "    for term in plotterms:\n",
    "        if index.get(term) is None: # TODO: right reverse Index\n",
    "            index[term] = len(index)\n",
    "imdb['plotterms'].apply(append_index)\n",
    "index"
   ]
  },
  {
   "cell_type": "markdown",
   "metadata": {},
   "source": [
    "##### __(c) Take the inverted index and create the posting list for the query 'american'. Return the posting list as well as the top5 items scored by the rating attribute. [0.5 points]__ "
   ]
  },
  {
   "cell_type": "code",
   "execution_count": null,
   "metadata": {},
   "outputs": [],
   "source": []
  },
  {
   "cell_type": "markdown",
   "metadata": {},
   "source": [
    "##### __(d) Take the inverted index and create the posting lists for the query terms 'american' and 'dream' (the term 'american' as well as the term 'dream' should be contained in the plot). Your merging algorithm should be efficient and reduce the number of comparison to a minimum. Don't use existing python methods (like intersect or in) for the merge algorithm. Return the merged posting list as well as the top5 items scored by the rating attribute. [1 point]__ "
   ]
  },
  {
   "cell_type": "code",
   "execution_count": null,
   "metadata": {},
   "outputs": [],
   "source": []
  },
  {
   "cell_type": "markdown",
   "metadata": {},
   "source": [
    "##### __(e) Extend your index to be able to rank the resulting items from Task 2d by the occurrence of search terms in the plotterms. Execute the query 'american' and 'dream' (the term 'american' as well as the term 'dream' should be contained in the plot) again and print the resulting items.  [1 point]__"
   ]
  },
  {
   "cell_type": "code",
   "execution_count": null,
   "metadata": {},
   "outputs": [],
   "source": []
  },
  {
   "cell_type": "markdown",
   "metadata": {},
   "source": [
    "##### __(f) Use the TF-IDF score and the cosine similarity to execute the query 'american' and 'dream' (the term 'american' as well as the term 'dream' should be contained in the plot) against all plots in the collection. Print the results with the corresponding ranking score. Also execute the query 'american' or 'dream' (the term 'american' or the term 'dream' should be contained in the plot).  [1.5 points]__"
   ]
  },
  {
   "cell_type": "code",
   "execution_count": null,
   "metadata": {},
   "outputs": [],
   "source": []
  }
 ],
 "metadata": {
  "kernelspec": {
   "display_name": "Python 3",
   "language": "python",
   "name": "python3"
  },
  "language_info": {
   "codemirror_mode": {
    "name": "ipython",
    "version": 3
   },
   "file_extension": ".py",
   "mimetype": "text/x-python",
   "name": "python",
   "nbconvert_exporter": "python",
   "pygments_lexer": "ipython3",
   "version": "3.8.6"
  }
 },
 "nbformat": 4,
 "nbformat_minor": 4
}
