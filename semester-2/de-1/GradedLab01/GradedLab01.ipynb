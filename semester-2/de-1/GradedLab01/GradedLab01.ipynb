{
 "cells": [
  {
   "cell_type": "markdown",
   "metadata": {},
   "source": [
    "# Data Engineering 1: Graded Lab 01\n",
    "---------------"
   ]
  },
  {
   "cell_type": "markdown",
   "metadata": {},
   "source": [
    "#### Grading\n",
    "For this graded lab you can get a total of 10 points. These 10 points count 10% of your final grade for the course.\n",
    "\n",
    "#### Start\n",
    "Start of the Graded Lab 01 is **Thursday, March 21st at 23:55**.\n",
    "\n",
    "#### Deadline\n",
    "Deadline for the submission of the Graded Lab 01 is **Thursday, April 11th at 23:59**.\n",
    "\n",
    "#### Note\n",
    "Check each result carefully. Use data filter, cleaning, and transformation methods wherever needed. The data can sometimes be really messy and have hidden issues.\n",
    "\n",
    "#### Submission\n",
    "You are allowed to submit the solution in groups of **two or three** students.\n",
    "Submit your GradedLab01.ipynb file renamed to FirstnameStudent01LastnameStudent01_FirstnameStudent02LastnameStudent02_FirstnameStudent03LastnameStudent03.ipynb in moodle.   \n",
    "Please submit a runnable python jupyter notebook file.\n",
    "All other submissions will be rejected and graded with 0 points."
   ]
  },
  {
   "cell_type": "markdown",
   "metadata": {},
   "source": [
    "##### Task 01: Structured Data [4 points].    \n",
    "The imdb.csv file contains a dataset extracted from IMDB with several attributes. For example, the title, plot, and the language of the movies. Read the imdb.csv file in a pandas dataframe and try to answer the following questions."
   ]
  },
  {
   "cell_type": "markdown",
   "metadata": {},
   "source": [
    "##### __(a)  What is the min, max, and the average value of the attribute 'rating' for all movies? [0.5 points].__ "
   ]
  },
  {
   "cell_type": "code",
   "outputs": [
    {
     "name": "stdout",
     "output_type": "stream",
     "text": [
      "Requirement already satisfied: pandas in /Users/schiba/anaconda3/envs/zhaw-jupiter/lib/python3.11/site-packages (2.2.0)\r\n",
      "Requirement already satisfied: spacy in /Users/schiba/anaconda3/envs/zhaw-jupiter/lib/python3.11/site-packages (3.7.4)\r\n",
      "Requirement already satisfied: numpy<2,>=1.23.2 in /Users/schiba/anaconda3/envs/zhaw-jupiter/lib/python3.11/site-packages (from pandas) (1.26.4)\r\n",
      "Requirement already satisfied: python-dateutil>=2.8.2 in /Users/schiba/anaconda3/envs/zhaw-jupiter/lib/python3.11/site-packages (from pandas) (2.8.2)\r\n",
      "Requirement already satisfied: pytz>=2020.1 in /Users/schiba/anaconda3/envs/zhaw-jupiter/lib/python3.11/site-packages (from pandas) (2023.3.post1)\r\n",
      "Requirement already satisfied: tzdata>=2022.7 in /Users/schiba/anaconda3/envs/zhaw-jupiter/lib/python3.11/site-packages (from pandas) (2024.1)\r\n",
      "Requirement already satisfied: spacy-legacy<3.1.0,>=3.0.11 in /Users/schiba/anaconda3/envs/zhaw-jupiter/lib/python3.11/site-packages (from spacy) (3.0.12)\r\n",
      "Requirement already satisfied: spacy-loggers<2.0.0,>=1.0.0 in /Users/schiba/anaconda3/envs/zhaw-jupiter/lib/python3.11/site-packages (from spacy) (1.0.5)\r\n",
      "Requirement already satisfied: murmurhash<1.1.0,>=0.28.0 in /Users/schiba/anaconda3/envs/zhaw-jupiter/lib/python3.11/site-packages (from spacy) (1.0.10)\r\n",
      "Requirement already satisfied: cymem<2.1.0,>=2.0.2 in /Users/schiba/anaconda3/envs/zhaw-jupiter/lib/python3.11/site-packages (from spacy) (2.0.8)\r\n",
      "Requirement already satisfied: preshed<3.1.0,>=3.0.2 in /Users/schiba/anaconda3/envs/zhaw-jupiter/lib/python3.11/site-packages (from spacy) (3.0.9)\r\n",
      "Requirement already satisfied: thinc<8.3.0,>=8.2.2 in /Users/schiba/anaconda3/envs/zhaw-jupiter/lib/python3.11/site-packages (from spacy) (8.2.3)\r\n",
      "Requirement already satisfied: wasabi<1.2.0,>=0.9.1 in /Users/schiba/anaconda3/envs/zhaw-jupiter/lib/python3.11/site-packages (from spacy) (1.1.2)\r\n",
      "Requirement already satisfied: srsly<3.0.0,>=2.4.3 in /Users/schiba/anaconda3/envs/zhaw-jupiter/lib/python3.11/site-packages (from spacy) (2.4.8)\r\n",
      "Requirement already satisfied: catalogue<2.1.0,>=2.0.6 in /Users/schiba/anaconda3/envs/zhaw-jupiter/lib/python3.11/site-packages (from spacy) (2.0.10)\r\n",
      "Requirement already satisfied: weasel<0.4.0,>=0.1.0 in /Users/schiba/anaconda3/envs/zhaw-jupiter/lib/python3.11/site-packages (from spacy) (0.3.4)\r\n",
      "Requirement already satisfied: typer<0.10.0,>=0.3.0 in /Users/schiba/anaconda3/envs/zhaw-jupiter/lib/python3.11/site-packages (from spacy) (0.9.4)\r\n",
      "Requirement already satisfied: smart-open<7.0.0,>=5.2.1 in /Users/schiba/anaconda3/envs/zhaw-jupiter/lib/python3.11/site-packages (from spacy) (6.4.0)\r\n",
      "Requirement already satisfied: tqdm<5.0.0,>=4.38.0 in /Users/schiba/anaconda3/envs/zhaw-jupiter/lib/python3.11/site-packages (from spacy) (4.66.2)\r\n",
      "Requirement already satisfied: requests<3.0.0,>=2.13.0 in /Users/schiba/anaconda3/envs/zhaw-jupiter/lib/python3.11/site-packages (from spacy) (2.31.0)\r\n",
      "Requirement already satisfied: pydantic!=1.8,!=1.8.1,<3.0.0,>=1.7.4 in /Users/schiba/anaconda3/envs/zhaw-jupiter/lib/python3.11/site-packages (from spacy) (2.6.4)\r\n",
      "Requirement already satisfied: jinja2 in /Users/schiba/anaconda3/envs/zhaw-jupiter/lib/python3.11/site-packages (from spacy) (3.1.3)\r\n",
      "Requirement already satisfied: setuptools in /Users/schiba/anaconda3/envs/zhaw-jupiter/lib/python3.11/site-packages (from spacy) (68.2.2)\r\n",
      "Requirement already satisfied: packaging>=20.0 in /Users/schiba/anaconda3/envs/zhaw-jupiter/lib/python3.11/site-packages (from spacy) (23.1)\r\n",
      "Requirement already satisfied: langcodes<4.0.0,>=3.2.0 in /Users/schiba/anaconda3/envs/zhaw-jupiter/lib/python3.11/site-packages (from spacy) (3.3.0)\r\n",
      "Requirement already satisfied: annotated-types>=0.4.0 in /Users/schiba/anaconda3/envs/zhaw-jupiter/lib/python3.11/site-packages (from pydantic!=1.8,!=1.8.1,<3.0.0,>=1.7.4->spacy) (0.6.0)\r\n",
      "Requirement already satisfied: pydantic-core==2.16.3 in /Users/schiba/anaconda3/envs/zhaw-jupiter/lib/python3.11/site-packages (from pydantic!=1.8,!=1.8.1,<3.0.0,>=1.7.4->spacy) (2.16.3)\r\n",
      "Requirement already satisfied: typing-extensions>=4.6.1 in /Users/schiba/anaconda3/envs/zhaw-jupiter/lib/python3.11/site-packages (from pydantic!=1.8,!=1.8.1,<3.0.0,>=1.7.4->spacy) (4.9.0)\r\n",
      "Requirement already satisfied: six>=1.5 in /Users/schiba/anaconda3/envs/zhaw-jupiter/lib/python3.11/site-packages (from python-dateutil>=2.8.2->pandas) (1.16.0)\r\n",
      "Requirement already satisfied: charset-normalizer<4,>=2 in /Users/schiba/anaconda3/envs/zhaw-jupiter/lib/python3.11/site-packages (from requests<3.0.0,>=2.13.0->spacy) (2.0.4)\r\n",
      "Requirement already satisfied: idna<4,>=2.5 in /Users/schiba/anaconda3/envs/zhaw-jupiter/lib/python3.11/site-packages (from requests<3.0.0,>=2.13.0->spacy) (3.4)\r\n",
      "Requirement already satisfied: urllib3<3,>=1.21.1 in /Users/schiba/anaconda3/envs/zhaw-jupiter/lib/python3.11/site-packages (from requests<3.0.0,>=2.13.0->spacy) (2.1.0)\r\n",
      "Requirement already satisfied: certifi>=2017.4.17 in /Users/schiba/anaconda3/envs/zhaw-jupiter/lib/python3.11/site-packages (from requests<3.0.0,>=2.13.0->spacy) (2024.2.2)\r\n",
      "Requirement already satisfied: blis<0.8.0,>=0.7.8 in /Users/schiba/anaconda3/envs/zhaw-jupiter/lib/python3.11/site-packages (from thinc<8.3.0,>=8.2.2->spacy) (0.7.11)\r\n",
      "Requirement already satisfied: confection<1.0.0,>=0.0.1 in /Users/schiba/anaconda3/envs/zhaw-jupiter/lib/python3.11/site-packages (from thinc<8.3.0,>=8.2.2->spacy) (0.1.4)\r\n",
      "Requirement already satisfied: click<9.0.0,>=7.1.1 in /Users/schiba/anaconda3/envs/zhaw-jupiter/lib/python3.11/site-packages (from typer<0.10.0,>=0.3.0->spacy) (8.1.7)\r\n",
      "Requirement already satisfied: cloudpathlib<0.17.0,>=0.7.0 in /Users/schiba/anaconda3/envs/zhaw-jupiter/lib/python3.11/site-packages (from weasel<0.4.0,>=0.1.0->spacy) (0.16.0)\r\n",
      "Requirement already satisfied: MarkupSafe>=2.0 in /Users/schiba/anaconda3/envs/zhaw-jupiter/lib/python3.11/site-packages (from jinja2->spacy) (2.1.3)\r\n"
     ]
    }
   ],
   "source": [
    "import datetime\n",
    "\n",
    "import numpy as np\n",
    "!pip install pandas spacy"
   ],
   "metadata": {
    "collapsed": false,
    "ExecuteTime": {
     "end_time": "2024-04-04T12:43:04.969348Z",
     "start_time": "2024-04-04T12:43:02.337058Z"
    }
   },
   "execution_count": 1
  },
  {
   "cell_type": "code",
   "execution_count": 2,
   "metadata": {
    "ExecuteTime": {
     "end_time": "2024-04-04T12:43:06.050597Z",
     "start_time": "2024-04-04T12:43:04.970540Z"
    }
   },
   "outputs": [
    {
     "name": "stdout",
     "output_type": "stream",
     "text": [
      "Min: 8.1\n",
      "Max: 9.6\n",
      "Average: 8.6\n"
     ]
    },
    {
     "name": "stderr",
     "output_type": "stream",
     "text": [
      "/var/folders/g8/ts4wj2w128q2scsf9ttnhwq40000gn/T/ipykernel_7420/3671413406.py:1: DeprecationWarning: \n",
      "Pyarrow will become a required dependency of pandas in the next major release of pandas (pandas 3.0),\n",
      "(to allow more performant data types, such as the Arrow string type, and better interoperability with other libraries)\n",
      "but was not found to be installed on your system.\n",
      "If this would cause problems for you,\n",
      "please provide us feedback at https://github.com/pandas-dev/pandas/issues/54466\n",
      "        \n",
      "  import pandas as pd\n"
     ]
    }
   ],
   "source": [
    "import pandas as pd\n",
    "\n",
    "data = pd.read_csv('imdb.csv')\n",
    "\n",
    "data.head()\n",
    "\n",
    "print(f\"Min: {data.rating.min()}\")\n",
    "print(f\"Max: {data.rating.max()}\")\n",
    "print(f\"Average: {data.rating.mean():.1f}\")"
   ]
  },
  {
   "cell_type": "markdown",
   "metadata": {},
   "source": [
    "##### __(b) What is the min, max, and the average value of the attribute 'cumulative worldwide gross' for all movies? [0.5 points].__ "
   ]
  },
  {
   "cell_type": "code",
   "execution_count": 3,
   "metadata": {
    "ExecuteTime": {
     "end_time": "2024-04-04T12:43:06.054266Z",
     "start_time": "2024-04-04T12:43:06.051206Z"
    }
   },
   "outputs": [
    {
     "name": "stdout",
     "output_type": "stream",
     "text": [
      "Min: 0.0\n",
      "Max: 2797800564.0\n",
      "Average: 238223230.2\n"
     ]
    }
   ],
   "source": [
    "data[\"cumulative worldwide gross\"] = data[\"cumulative worldwide gross\"].str.replace(r'\\s.+', '', regex=True).replace(r'\\D', '', regex=True).astype(float)\n",
    "\n",
    "print(f\"Min: {data['cumulative worldwide gross'].min()}\")\n",
    "print(f\"Max: {data['cumulative worldwide gross'].max()}\")\n",
    "print(f\"Average: {data['cumulative worldwide gross'].mean():.1f}\")"
   ]
  },
  {
   "cell_type": "markdown",
   "metadata": {},
   "source": [
    "##### __(c) What is the min, max, and the average value of the attribute 'cumulative worldwide gross' grouped by genre of the movies? [1 point].__ "
   ]
  },
  {
   "cell_type": "code",
   "execution_count": 4,
   "metadata": {
    "ExecuteTime": {
     "end_time": "2024-04-04T12:43:06.063286Z",
     "start_time": "2024-04-04T12:43:06.054962Z"
    }
   },
   "outputs": [
    {
     "data": {
      "text/plain": "genres\nAction         4.655257e+08\nAdventure      5.123588e+08\nAnimation      3.958353e+08\nBiography      1.538608e+08\nComedy         2.447827e+08\nCrime          1.824480e+08\nDocumentary    0.000000e+00\nDrama          2.290571e+08\nFamily         5.497713e+08\nFantasy        3.426368e+08\nGame-Show      0.000000e+00\nHistory        7.840920e+07\nHorror         8.982547e+07\nMusic          2.946962e+08\nMusical        6.325005e+08\nMystery        1.406539e+08\nNews           0.000000e+00\nReality-TV     0.000000e+00\nRomance        2.344835e+08\nSci-Fi         4.410689e+08\nSport          1.164948e+08\nTalk-Show      0.000000e+00\nThriller       2.154442e+08\nWar            1.213808e+08\nWestern        3.362419e+08\nName: cumulative worldwide gross, dtype: float64"
     },
     "execution_count": 4,
     "metadata": {},
     "output_type": "execute_result"
    }
   ],
   "source": [
    "data['genres'] = data['genres'].apply(lambda x: x.replace(\"'\", '').strip('][').split(', ') if not isinstance(x, list) else x)\n",
    "data = data.explode('genres')\n",
    "data.groupby(by=['genres'], dropna=True)['cumulative worldwide gross'].min()\n",
    "data.groupby(by=['genres'], dropna=True)['cumulative worldwide gross'].max()\n",
    "data.groupby(by=['genres'], dropna=True)['cumulative worldwide gross'].mean()"
   ]
  },
  {
   "cell_type": "markdown",
   "metadata": {},
   "source": [
    "##### __(d) What is the profit (defined as cumulative worldwide gross - budget) of each movie? [1 point].__ "
   ]
  },
  {
   "cell_type": "code",
   "execution_count": 5,
   "metadata": {
    "ExecuteTime": {
     "end_time": "2024-04-04T12:43:06.069326Z",
     "start_time": "2024-04-04T12:43:06.065025Z"
    }
   },
   "outputs": [
    {
     "data": {
      "text/plain": "0       33500000.0\n1      239066411.0\n1      239066411.0\n2      819558444.0\n2      819558444.0\n          ...     \n156            0.0\n156            0.0\n157            0.0\n157            0.0\n158            0.0\nLength: 487, dtype: float64"
     },
     "execution_count": 5,
     "metadata": {},
     "output_type": "execute_result"
    }
   ],
   "source": [
    "data.budget = data.budget.str.replace(r'\\D', '', regex=True).astype(float)\n",
    "profit = data['cumulative worldwide gross'] - data.budget\n",
    "profit"
   ]
  },
  {
   "cell_type": "markdown",
   "metadata": {},
   "source": [
    "##### __(e)  What is the min, max, and the average value of the atttribute 'opening weekend united states' per month? [1 point].__ "
   ]
  },
  {
   "cell_type": "code",
   "execution_count": 6,
   "metadata": {
    "ExecuteTime": {
     "end_time": "2024-04-04T12:43:06.102053Z",
     "start_time": "2024-04-04T12:43:06.069986Z"
    }
   },
   "outputs": [
    {
     "data": {
      "text/plain": "opening weekend united states dates\n1.0     1.326144e+07\n2.0     2.974682e+07\n3.0     3.421716e+07\n4.0     1.593046e+08\n5.0     5.929679e+07\n6.0     5.916076e+07\n7.0     5.430706e+07\n8.0     1.121913e+07\n9.0     1.056989e+07\n10.0    2.193238e+07\n11.0    2.672944e+07\n12.0    1.964329e+07\nName: opening weekend united states income, dtype: float64"
     },
     "execution_count": 6,
     "metadata": {},
     "output_type": "execute_result"
    }
   ],
   "source": [
    "import datetime\n",
    "\n",
    "data['opening weekend united states']= data['opening weekend united states'].apply(lambda x: x.replace(\"$\", '').split(', ') if not isinstance(x, list) else x)\n",
    "data = data.merge(data['opening weekend united states'].apply(lambda s: pd.Series({'opening weekend united states income': float(s[0].replace(',', '')), 'opening weekend united states dates': datetime.datetime.strptime(s[1], '%d %b %Y')}) if len(s) > 1 else pd.Series({'opening weekend united states income': np.NaN, 'opening weekend united states dates': np.NaN})), left_index=True, right_index=True)\n",
    "\n",
    "data.groupby(by=[data['opening weekend united states dates'].dt.month], dropna=True)['opening weekend united states income'].min()\n",
    "data.groupby(by=[data['opening weekend united states dates'].dt.month], dropna=True)['opening weekend united states income'].max()\n",
    "data.groupby(by=[data['opening weekend united states dates'].dt.month], dropna=True)['opening weekend united states income'].mean()"
   ]
  },
  {
   "cell_type": "markdown",
   "metadata": {},
   "source": [
    "#### Task 02: Unstructured Data [6 points]. \n",
    "This time use the files imdb.csv from Task 01 and the imdb2.csv file. In this task we mainly use the content of the attribute 'plot' for the implementation of a retrieval system."
   ]
  },
  {
   "cell_type": "markdown",
   "metadata": {},
   "source": [
    "##### __(a)  Read the files imdb.csv and imdb2.csv in a dataframe called imdb. Add a column which is called 'plotterms' to each item. The new column should contain all terms (lower-case and cleaned from special characters) from the plot attribute which are not contained in the stopwords_english.txt file. [0.5 points]__ "
   ]
  },
  {
   "cell_type": "code",
   "outputs": [
    {
     "name": "stdout",
     "output_type": "stream",
     "text": [
      "Collecting en-core-web-sm==3.7.1\r\n",
      "  Downloading https://github.com/explosion/spacy-models/releases/download/en_core_web_sm-3.7.1/en_core_web_sm-3.7.1-py3-none-any.whl (12.8 MB)\r\n",
      "\u001B[2K     \u001B[90m━━━━━━━━━━━━━━━━━━━━━━━━━━━━━━━━━━━━━━━━\u001B[0m \u001B[32m12.8/12.8 MB\u001B[0m \u001B[31m10.8 MB/s\u001B[0m eta \u001B[36m0:00:00\u001B[0m00:01\u001B[0m00:01\u001B[0m\r\n",
      "\u001B[?25hRequirement already satisfied: spacy<3.8.0,>=3.7.2 in /Users/schiba/anaconda3/envs/zhaw-jupiter/lib/python3.11/site-packages (from en-core-web-sm==3.7.1) (3.7.4)\r\n",
      "Requirement already satisfied: spacy-legacy<3.1.0,>=3.0.11 in /Users/schiba/anaconda3/envs/zhaw-jupiter/lib/python3.11/site-packages (from spacy<3.8.0,>=3.7.2->en-core-web-sm==3.7.1) (3.0.12)\r\n",
      "Requirement already satisfied: spacy-loggers<2.0.0,>=1.0.0 in /Users/schiba/anaconda3/envs/zhaw-jupiter/lib/python3.11/site-packages (from spacy<3.8.0,>=3.7.2->en-core-web-sm==3.7.1) (1.0.5)\r\n",
      "Requirement already satisfied: murmurhash<1.1.0,>=0.28.0 in /Users/schiba/anaconda3/envs/zhaw-jupiter/lib/python3.11/site-packages (from spacy<3.8.0,>=3.7.2->en-core-web-sm==3.7.1) (1.0.10)\r\n",
      "Requirement already satisfied: cymem<2.1.0,>=2.0.2 in /Users/schiba/anaconda3/envs/zhaw-jupiter/lib/python3.11/site-packages (from spacy<3.8.0,>=3.7.2->en-core-web-sm==3.7.1) (2.0.8)\r\n",
      "Requirement already satisfied: preshed<3.1.0,>=3.0.2 in /Users/schiba/anaconda3/envs/zhaw-jupiter/lib/python3.11/site-packages (from spacy<3.8.0,>=3.7.2->en-core-web-sm==3.7.1) (3.0.9)\r\n",
      "Requirement already satisfied: thinc<8.3.0,>=8.2.2 in /Users/schiba/anaconda3/envs/zhaw-jupiter/lib/python3.11/site-packages (from spacy<3.8.0,>=3.7.2->en-core-web-sm==3.7.1) (8.2.3)\r\n",
      "Requirement already satisfied: wasabi<1.2.0,>=0.9.1 in /Users/schiba/anaconda3/envs/zhaw-jupiter/lib/python3.11/site-packages (from spacy<3.8.0,>=3.7.2->en-core-web-sm==3.7.1) (1.1.2)\r\n",
      "Requirement already satisfied: srsly<3.0.0,>=2.4.3 in /Users/schiba/anaconda3/envs/zhaw-jupiter/lib/python3.11/site-packages (from spacy<3.8.0,>=3.7.2->en-core-web-sm==3.7.1) (2.4.8)\r\n",
      "Requirement already satisfied: catalogue<2.1.0,>=2.0.6 in /Users/schiba/anaconda3/envs/zhaw-jupiter/lib/python3.11/site-packages (from spacy<3.8.0,>=3.7.2->en-core-web-sm==3.7.1) (2.0.10)\r\n",
      "Requirement already satisfied: weasel<0.4.0,>=0.1.0 in /Users/schiba/anaconda3/envs/zhaw-jupiter/lib/python3.11/site-packages (from spacy<3.8.0,>=3.7.2->en-core-web-sm==3.7.1) (0.3.4)\r\n",
      "Requirement already satisfied: typer<0.10.0,>=0.3.0 in /Users/schiba/anaconda3/envs/zhaw-jupiter/lib/python3.11/site-packages (from spacy<3.8.0,>=3.7.2->en-core-web-sm==3.7.1) (0.9.4)\r\n",
      "Requirement already satisfied: smart-open<7.0.0,>=5.2.1 in /Users/schiba/anaconda3/envs/zhaw-jupiter/lib/python3.11/site-packages (from spacy<3.8.0,>=3.7.2->en-core-web-sm==3.7.1) (6.4.0)\r\n",
      "Requirement already satisfied: tqdm<5.0.0,>=4.38.0 in /Users/schiba/anaconda3/envs/zhaw-jupiter/lib/python3.11/site-packages (from spacy<3.8.0,>=3.7.2->en-core-web-sm==3.7.1) (4.66.2)\r\n",
      "Requirement already satisfied: requests<3.0.0,>=2.13.0 in /Users/schiba/anaconda3/envs/zhaw-jupiter/lib/python3.11/site-packages (from spacy<3.8.0,>=3.7.2->en-core-web-sm==3.7.1) (2.31.0)\r\n",
      "Requirement already satisfied: pydantic!=1.8,!=1.8.1,<3.0.0,>=1.7.4 in /Users/schiba/anaconda3/envs/zhaw-jupiter/lib/python3.11/site-packages (from spacy<3.8.0,>=3.7.2->en-core-web-sm==3.7.1) (2.6.4)\r\n",
      "Requirement already satisfied: jinja2 in /Users/schiba/anaconda3/envs/zhaw-jupiter/lib/python3.11/site-packages (from spacy<3.8.0,>=3.7.2->en-core-web-sm==3.7.1) (3.1.3)\r\n",
      "Requirement already satisfied: setuptools in /Users/schiba/anaconda3/envs/zhaw-jupiter/lib/python3.11/site-packages (from spacy<3.8.0,>=3.7.2->en-core-web-sm==3.7.1) (68.2.2)\r\n",
      "Requirement already satisfied: packaging>=20.0 in /Users/schiba/anaconda3/envs/zhaw-jupiter/lib/python3.11/site-packages (from spacy<3.8.0,>=3.7.2->en-core-web-sm==3.7.1) (23.1)\r\n",
      "Requirement already satisfied: langcodes<4.0.0,>=3.2.0 in /Users/schiba/anaconda3/envs/zhaw-jupiter/lib/python3.11/site-packages (from spacy<3.8.0,>=3.7.2->en-core-web-sm==3.7.1) (3.3.0)\r\n",
      "Requirement already satisfied: numpy>=1.19.0 in /Users/schiba/anaconda3/envs/zhaw-jupiter/lib/python3.11/site-packages (from spacy<3.8.0,>=3.7.2->en-core-web-sm==3.7.1) (1.26.4)\r\n",
      "Requirement already satisfied: annotated-types>=0.4.0 in /Users/schiba/anaconda3/envs/zhaw-jupiter/lib/python3.11/site-packages (from pydantic!=1.8,!=1.8.1,<3.0.0,>=1.7.4->spacy<3.8.0,>=3.7.2->en-core-web-sm==3.7.1) (0.6.0)\r\n",
      "Requirement already satisfied: pydantic-core==2.16.3 in /Users/schiba/anaconda3/envs/zhaw-jupiter/lib/python3.11/site-packages (from pydantic!=1.8,!=1.8.1,<3.0.0,>=1.7.4->spacy<3.8.0,>=3.7.2->en-core-web-sm==3.7.1) (2.16.3)\r\n",
      "Requirement already satisfied: typing-extensions>=4.6.1 in /Users/schiba/anaconda3/envs/zhaw-jupiter/lib/python3.11/site-packages (from pydantic!=1.8,!=1.8.1,<3.0.0,>=1.7.4->spacy<3.8.0,>=3.7.2->en-core-web-sm==3.7.1) (4.9.0)\r\n",
      "Requirement already satisfied: charset-normalizer<4,>=2 in /Users/schiba/anaconda3/envs/zhaw-jupiter/lib/python3.11/site-packages (from requests<3.0.0,>=2.13.0->spacy<3.8.0,>=3.7.2->en-core-web-sm==3.7.1) (2.0.4)\r\n",
      "Requirement already satisfied: idna<4,>=2.5 in /Users/schiba/anaconda3/envs/zhaw-jupiter/lib/python3.11/site-packages (from requests<3.0.0,>=2.13.0->spacy<3.8.0,>=3.7.2->en-core-web-sm==3.7.1) (3.4)\r\n",
      "Requirement already satisfied: urllib3<3,>=1.21.1 in /Users/schiba/anaconda3/envs/zhaw-jupiter/lib/python3.11/site-packages (from requests<3.0.0,>=2.13.0->spacy<3.8.0,>=3.7.2->en-core-web-sm==3.7.1) (2.1.0)\r\n",
      "Requirement already satisfied: certifi>=2017.4.17 in /Users/schiba/anaconda3/envs/zhaw-jupiter/lib/python3.11/site-packages (from requests<3.0.0,>=2.13.0->spacy<3.8.0,>=3.7.2->en-core-web-sm==3.7.1) (2024.2.2)\r\n",
      "Requirement already satisfied: blis<0.8.0,>=0.7.8 in /Users/schiba/anaconda3/envs/zhaw-jupiter/lib/python3.11/site-packages (from thinc<8.3.0,>=8.2.2->spacy<3.8.0,>=3.7.2->en-core-web-sm==3.7.1) (0.7.11)\r\n",
      "Requirement already satisfied: confection<1.0.0,>=0.0.1 in /Users/schiba/anaconda3/envs/zhaw-jupiter/lib/python3.11/site-packages (from thinc<8.3.0,>=8.2.2->spacy<3.8.0,>=3.7.2->en-core-web-sm==3.7.1) (0.1.4)\r\n",
      "Requirement already satisfied: click<9.0.0,>=7.1.1 in /Users/schiba/anaconda3/envs/zhaw-jupiter/lib/python3.11/site-packages (from typer<0.10.0,>=0.3.0->spacy<3.8.0,>=3.7.2->en-core-web-sm==3.7.1) (8.1.7)\r\n",
      "Requirement already satisfied: cloudpathlib<0.17.0,>=0.7.0 in /Users/schiba/anaconda3/envs/zhaw-jupiter/lib/python3.11/site-packages (from weasel<0.4.0,>=0.1.0->spacy<3.8.0,>=3.7.2->en-core-web-sm==3.7.1) (0.16.0)\r\n",
      "Requirement already satisfied: MarkupSafe>=2.0 in /Users/schiba/anaconda3/envs/zhaw-jupiter/lib/python3.11/site-packages (from jinja2->spacy<3.8.0,>=3.7.2->en-core-web-sm==3.7.1) (2.1.3)\r\n",
      "\u001B[38;5;2m✔ Download and installation successful\u001B[0m\r\n",
      "You can now load the package via spacy.load('en_core_web_sm')\r\n"
     ]
    }
   ],
   "source": [
    "!spacy download en_core_web_sm"
   ],
   "metadata": {
    "collapsed": false,
    "ExecuteTime": {
     "end_time": "2024-04-04T12:43:12.291065Z",
     "start_time": "2024-04-04T12:43:06.102742Z"
    }
   },
   "execution_count": 7
  },
  {
   "cell_type": "code",
   "execution_count": 8,
   "metadata": {
    "ExecuteTime": {
     "end_time": "2024-04-04T12:43:18.250770Z",
     "start_time": "2024-04-04T12:43:12.291898Z"
    }
   },
   "outputs": [
    {
     "data": {
      "text/plain": "           id       kind                           title  \\\n0      120669      movie  Fear and Loathing in Las Vegas   \n1     1343092      movie                The Great Gatsby   \n2     2069861      movie               My Favorite Movie   \n3     2267368      movie                     Joshua Tree   \n4    13560124      movie                   After America   \n..        ...        ...                             ...   \n154   2085059  tv series                    Black Mirror   \n155   2707408  tv series                          Narcos   \n156     98936  tv series                      Twin Peaks   \n157   4934214  tv series                      Taskmaster   \n158    200276  tv series                   The West Wing   \n\n                                             languages  \\\n0                                          ['English']   \n1                                          ['English']   \n2                                          ['English']   \n3                                          ['English']   \n4                                ['English', 'Somali']   \n..                                                 ...   \n154                                        ['English']   \n155                             ['English', 'Spanish']   \n156  ['English', 'Icelandic', 'Afrikaans', 'Norwegi...   \n157                                        ['English']   \n158                                        ['English']   \n\n                                          genres  rating       director  \\\n0               ['Adventure', 'Comedy', 'Drama']     7.5  Terry Gilliam   \n1                           ['Drama', 'Romance']     7.2   Baz Luhrmann   \n2                           ['Comedy', 'Family']     8.4  Martin Rogers   \n3                                      ['Drama']     6.6       Li Cheng   \n4                ['Drama', 'Fantasy', 'Mystery']     4.5     Jake Yuzna   \n..                                           ...     ...            ...   \n154   ['Drama', 'Mystery', 'Sci-Fi', 'Thriller']     8.8            NaN   \n155  ['Biography', 'Crime', 'Drama', 'Thriller']     8.8            NaN   \n156    ['Crime', 'Drama', 'Mystery', 'Thriller']     8.8            NaN   \n157                      ['Comedy', 'Game-Show']     9.0            NaN   \n158                                    ['Drama']     8.9            NaN   \n\n    cumulative worldwide gross opening weekend united states     budget  \\\n0                            0                             0          0   \n1                            0                             0          0   \n2                            0                             0          0   \n3                            0                             0          0   \n4                            0                             0          0   \n..                         ...                           ...        ...   \n154                  000000000                     000000000  000000000   \n155                  000000000                     000000000  000000000   \n156                  000000000                     000000000  000000000   \n157                  000000000                     000000000  000000000   \n158                  000000000                     000000000  000000000   \n\n                                                  plot  \\\n0    An oddball journalist and his psychopathic law...   \n1    A writer and wall street trader. Nick. finds h...   \n2    Dave has the American Dream and hates it His e...   \n3    Set in the US heartland following the 2008 eco...   \n4    A group of criminal justice deescalation worke...   \n..                                                 ...   \n154  An anthology series exploring a twisted. hight...   \n155  A chronicled look at the criminal exploits of ...   \n156  An idiosyncratic FBI agent investigates the mu...   \n157  Five comedians are set tasks challenging their...   \n158  Inside the lives of staffers in the West Wing ...   \n\n                                             plotterms  \n0    [an, oddball, journalist, and, his, psychopath...  \n1    [a, writer, and, wall, street, trader, ., nick...  \n2    [dave, have, the, american, dream, and, hate, ...  \n3    [set, in, the, us, heartland, follow, the, 200...  \n4    [a, group, of, criminal, justice, deescalation...  \n..                                                 ...  \n154  [an, anthology, series, explore, a, twist, ., ...  \n155  [a, chronicled, look, at, the, criminal, explo...  \n156  [an, idiosyncratic, fbi, agent, investigate, t...  \n157  [five, comedian, be, set, task, challenge, the...  \n158  [inside, the, life, of, staffer, in, the, west...  \n\n[167 rows x 12 columns]",
      "text/html": "<div>\n<style scoped>\n    .dataframe tbody tr th:only-of-type {\n        vertical-align: middle;\n    }\n\n    .dataframe tbody tr th {\n        vertical-align: top;\n    }\n\n    .dataframe thead th {\n        text-align: right;\n    }\n</style>\n<table border=\"1\" class=\"dataframe\">\n  <thead>\n    <tr style=\"text-align: right;\">\n      <th></th>\n      <th>id</th>\n      <th>kind</th>\n      <th>title</th>\n      <th>languages</th>\n      <th>genres</th>\n      <th>rating</th>\n      <th>director</th>\n      <th>cumulative worldwide gross</th>\n      <th>opening weekend united states</th>\n      <th>budget</th>\n      <th>plot</th>\n      <th>plotterms</th>\n    </tr>\n  </thead>\n  <tbody>\n    <tr>\n      <th>0</th>\n      <td>120669</td>\n      <td>movie</td>\n      <td>Fear and Loathing in Las Vegas</td>\n      <td>['English']</td>\n      <td>['Adventure', 'Comedy', 'Drama']</td>\n      <td>7.5</td>\n      <td>Terry Gilliam</td>\n      <td>0</td>\n      <td>0</td>\n      <td>0</td>\n      <td>An oddball journalist and his psychopathic law...</td>\n      <td>[an, oddball, journalist, and, his, psychopath...</td>\n    </tr>\n    <tr>\n      <th>1</th>\n      <td>1343092</td>\n      <td>movie</td>\n      <td>The Great Gatsby</td>\n      <td>['English']</td>\n      <td>['Drama', 'Romance']</td>\n      <td>7.2</td>\n      <td>Baz Luhrmann</td>\n      <td>0</td>\n      <td>0</td>\n      <td>0</td>\n      <td>A writer and wall street trader. Nick. finds h...</td>\n      <td>[a, writer, and, wall, street, trader, ., nick...</td>\n    </tr>\n    <tr>\n      <th>2</th>\n      <td>2069861</td>\n      <td>movie</td>\n      <td>My Favorite Movie</td>\n      <td>['English']</td>\n      <td>['Comedy', 'Family']</td>\n      <td>8.4</td>\n      <td>Martin Rogers</td>\n      <td>0</td>\n      <td>0</td>\n      <td>0</td>\n      <td>Dave has the American Dream and hates it His e...</td>\n      <td>[dave, have, the, american, dream, and, hate, ...</td>\n    </tr>\n    <tr>\n      <th>3</th>\n      <td>2267368</td>\n      <td>movie</td>\n      <td>Joshua Tree</td>\n      <td>['English']</td>\n      <td>['Drama']</td>\n      <td>6.6</td>\n      <td>Li Cheng</td>\n      <td>0</td>\n      <td>0</td>\n      <td>0</td>\n      <td>Set in the US heartland following the 2008 eco...</td>\n      <td>[set, in, the, us, heartland, follow, the, 200...</td>\n    </tr>\n    <tr>\n      <th>4</th>\n      <td>13560124</td>\n      <td>movie</td>\n      <td>After America</td>\n      <td>['English', 'Somali']</td>\n      <td>['Drama', 'Fantasy', 'Mystery']</td>\n      <td>4.5</td>\n      <td>Jake Yuzna</td>\n      <td>0</td>\n      <td>0</td>\n      <td>0</td>\n      <td>A group of criminal justice deescalation worke...</td>\n      <td>[a, group, of, criminal, justice, deescalation...</td>\n    </tr>\n    <tr>\n      <th>...</th>\n      <td>...</td>\n      <td>...</td>\n      <td>...</td>\n      <td>...</td>\n      <td>...</td>\n      <td>...</td>\n      <td>...</td>\n      <td>...</td>\n      <td>...</td>\n      <td>...</td>\n      <td>...</td>\n      <td>...</td>\n    </tr>\n    <tr>\n      <th>154</th>\n      <td>2085059</td>\n      <td>tv series</td>\n      <td>Black Mirror</td>\n      <td>['English']</td>\n      <td>['Drama', 'Mystery', 'Sci-Fi', 'Thriller']</td>\n      <td>8.8</td>\n      <td>NaN</td>\n      <td>000000000</td>\n      <td>000000000</td>\n      <td>000000000</td>\n      <td>An anthology series exploring a twisted. hight...</td>\n      <td>[an, anthology, series, explore, a, twist, ., ...</td>\n    </tr>\n    <tr>\n      <th>155</th>\n      <td>2707408</td>\n      <td>tv series</td>\n      <td>Narcos</td>\n      <td>['English', 'Spanish']</td>\n      <td>['Biography', 'Crime', 'Drama', 'Thriller']</td>\n      <td>8.8</td>\n      <td>NaN</td>\n      <td>000000000</td>\n      <td>000000000</td>\n      <td>000000000</td>\n      <td>A chronicled look at the criminal exploits of ...</td>\n      <td>[a, chronicled, look, at, the, criminal, explo...</td>\n    </tr>\n    <tr>\n      <th>156</th>\n      <td>98936</td>\n      <td>tv series</td>\n      <td>Twin Peaks</td>\n      <td>['English', 'Icelandic', 'Afrikaans', 'Norwegi...</td>\n      <td>['Crime', 'Drama', 'Mystery', 'Thriller']</td>\n      <td>8.8</td>\n      <td>NaN</td>\n      <td>000000000</td>\n      <td>000000000</td>\n      <td>000000000</td>\n      <td>An idiosyncratic FBI agent investigates the mu...</td>\n      <td>[an, idiosyncratic, fbi, agent, investigate, t...</td>\n    </tr>\n    <tr>\n      <th>157</th>\n      <td>4934214</td>\n      <td>tv series</td>\n      <td>Taskmaster</td>\n      <td>['English']</td>\n      <td>['Comedy', 'Game-Show']</td>\n      <td>9.0</td>\n      <td>NaN</td>\n      <td>000000000</td>\n      <td>000000000</td>\n      <td>000000000</td>\n      <td>Five comedians are set tasks challenging their...</td>\n      <td>[five, comedian, be, set, task, challenge, the...</td>\n    </tr>\n    <tr>\n      <th>158</th>\n      <td>200276</td>\n      <td>tv series</td>\n      <td>The West Wing</td>\n      <td>['English']</td>\n      <td>['Drama']</td>\n      <td>8.9</td>\n      <td>NaN</td>\n      <td>000000000</td>\n      <td>000000000</td>\n      <td>000000000</td>\n      <td>Inside the lives of staffers in the West Wing ...</td>\n      <td>[inside, the, life, of, staffer, in, the, west...</td>\n    </tr>\n  </tbody>\n</table>\n<p>167 rows × 12 columns</p>\n</div>"
     },
     "execution_count": 8,
     "metadata": {},
     "output_type": "execute_result"
    }
   ],
   "source": [
    "import pandas as pd\n",
    "import spacy\n",
    "import re\n",
    "\n",
    "nlp = spacy.load('en_core_web_sm')\n",
    "\n",
    "data = pd.read_csv('imdb2.csv')\n",
    "imdb = pd.read_csv('imdb.csv')\n",
    "\n",
    "imdb = pd.concat([data, imdb])\n",
    "\n",
    "with open('stopwords_english.txt', 'r+', encoding='utf-8') as file:\n",
    "    stopwords = file.readlines()\n",
    "\n",
    "def tokenize(text):\n",
    "    doc = nlp(text)\n",
    "    return [token.lemma_.lower() for token in doc if token.text not in stopwords]\n",
    "\n",
    "imdb['plot'] = imdb['plot'].apply(lambda x: '. '.join([re.sub(r'[^\\w\\s]', '', y) for y in x.split(', ')]))\n",
    "imdb['plotterms'] = imdb['plot'].apply(tokenize)\n",
    "imdb"
   ]
  },
  {
   "cell_type": "markdown",
   "metadata": {},
   "source": [
    "##### __(b)  Create an inverted index for the terms in the 'plotterms' column. Use a datastructure of your choice for the implementation [0.5 points]__ "
   ]
  },
  {
   "cell_type": "code",
   "execution_count": 9,
   "metadata": {
    "ExecuteTime": {
     "end_time": "2024-04-04T12:43:18.262378Z",
     "start_time": "2024-04-04T12:43:18.251673Z"
    }
   },
   "outputs": [
    {
     "data": {
      "text/plain": "{'an': 0,\n 'oddball': 1,\n 'journalist': 2,\n 'and': 3,\n 'his': 4,\n 'psychopathic': 5,\n 'lawyer': 6,\n 'travel': 7,\n 'to': 8,\n 'las': 9,\n 'vegas': 10,\n 'for': 11,\n 'a': 12,\n 'series': 13,\n 'of': 14,\n 'psychedelic': 15,\n 'escapade': 16,\n '.': 17,\n 'the': 18,\n 'bigscreen': 19,\n 'version': 20,\n 'hunter': 21,\n 's': 22,\n 'thompsons': 23,\n 'seminal': 24,\n 'classic': 25,\n 'about': 26,\n 'road': 27,\n 'trip': 28,\n 'across': 29,\n 'western': 30,\n 'america': 31,\n 'as': 32,\n 'he': 33,\n 'large': 34,\n 'samoan': 35,\n 'search': 36,\n 'desperately': 37,\n 'american': 38,\n 'dream': 39,\n 'they': 40,\n 'be': 41,\n 'help': 42,\n 'in': 43,\n 'part': 44,\n 'by': 45,\n 'huge': 46,\n 'amount': 47,\n 'drug': 48,\n 'alcohol': 49,\n 'keep': 50,\n 'their': 51,\n 'convertible': 52,\n 'red': 53,\n 'sharklaurence': 54,\n 'mixson': 55,\n 'raoul': 56,\n 'duke': 57,\n 'addled': 58,\n 'gonzo': 59,\n 'send': 60,\n 'cover': 61,\n 'motorcycle': 62,\n 'race': 63,\n 'article': 64,\n 'magazine': 65,\n 'but': 66,\n 'then': 67,\n 'situation': 68,\n 'escalate': 69,\n 'into': 70,\n 'psychotic': 71,\n 'attorney': 72,\n 'aid': 73,\n 'almost': 74,\n 'every': 75,\n 'know': 76,\n 'man': 77,\n 'boot': 78,\n 'convertiblepalmtreehead': 79,\n 'adaptation': 80,\n 'novel': 81,\n 'same': 82,\n 'name': 83,\n 'film': 84,\n 'detail': 85,\n 'whacky': 86,\n 'thompson': 87,\n 'craze': 88,\n 'fuel': 89,\n 'massive': 90,\n 'purchase': 91,\n 'with': 92,\n 'advance': 93,\n 'from': 94,\n 'sporting': 95,\n 'event': 96,\n 'set': 97,\n 'out': 98,\n 'shark': 99,\n 'encountering': 100,\n 'police': 101,\n 'reporter': 102,\n 'gambler': 103,\n 'racer': 104,\n 'hitchhiker': 105,\n 'some': 106,\n 'undefinable': 107,\n 'thing': 108,\n 'only': 109,\n 'find': 110,\n 'fear': 111,\n 'loathing': 112,\n 'hilarious': 113,\n 'adventure': 114,\n 'dementia': 115,\n 'modern': 116,\n 'westj': 117,\n 'd': 118,\n 'keith': 119,\n 'jkeithcompunetnet': 120,\n 'writer': 121,\n 'wall': 122,\n 'street': 123,\n 'trader': 124,\n 'nick': 125,\n 'himself': 126,\n 'draw': 127,\n 'past': 128,\n 'lifestyle': 129,\n 'millionaire': 130,\n 'neighbor': 131,\n 'jay': 132,\n 'gatsby': 133,\n 'f': 134,\n 'scott': 135,\n 'fitzgeralds': 136,\n 'long': 137,\n 'islandset': 138,\n 'where': 139,\n 'midwesterner': 140,\n 'carraway': 141,\n 'lure': 142,\n 'lavish': 143,\n 'world': 144,\n 'soon': 145,\n 'enough': 146,\n 'however': 147,\n 'will': 148,\n 'see': 149,\n 'through': 150,\n 'crack': 151,\n 'gatsbys': 152,\n 'nouveau': 153,\n 'riche': 154,\n 'existence': 155,\n 'obsession': 156,\n 'madness': 157,\n 'tragedy': 158,\n 'awaitanonymous': 159,\n 'new': 160,\n 'york1929': 161,\n 'bondseller': 162,\n 'sanitarium': 163,\n 'depression': 164,\n 'alcoholism': 165,\n 'persuade': 166,\n 'doctor': 167,\n 'write': 168,\n 'therapeutic': 169,\n 'account': 170,\n 'what': 171,\n 'put': 172,\n 'there': 173,\n 'nicks': 174,\n 'journal': 175,\n 'describe': 176,\n 'how': 177,\n 'seven': 178,\n 'year': 179,\n 'early': 180,\n 'have': 181,\n 'move': 182,\n 'tiny': 183,\n 'house': 184,\n 'on': 185,\n 'island': 186,\n 'adjoin': 187,\n 'sumptuous': 188,\n 'mansion': 189,\n 'own': 190,\n 'enigmatic': 191,\n 'neighbour': 192,\n 'fabulously': 193,\n 'wealthy': 194,\n 'after': 195,\n 'attend': 196,\n 'one': 197,\n 'legendary': 198,\n 'party': 199,\n 'ask': 200,\n 'arrange': 201,\n 'meeting': 202,\n 'cousin': 203,\n 'daisy': 204,\n 'now': 205,\n 'marry': 206,\n 'brutish': 207,\n 'philander': 208,\n 'tom': 209,\n 'buchanan': 210,\n 'who': 211,\n 'true': 212,\n 'love': 213,\n 'prior': 214,\n 'war': 215,\n 'service': 216,\n 'complie': 217,\n 'come': 218,\n 'that': 219,\n 'once': 220,\n 'poor': 221,\n 'boy': 222,\n 'recreate': 223,\n 'fascinating': 224,\n 'purely': 225,\n 'win': 226,\n 'back': 227,\n 'drunken': 228,\n 'afternoon': 229,\n 'conspire': 230,\n 'bring': 231,\n 'ending': 232,\n 'which': 233,\n 'anything': 234,\n 'happydon': 235,\n ' ': 236,\n 'minifie1': 237,\n 'midwest': 238,\n 'native': 239,\n 'arrive': 240,\n '1922': 241,\n 'york': 242,\n 'wouldbe': 243,\n 'nextdoor': 244,\n 'bay': 245,\n 'her': 246,\n 'husband': 247,\n 'joel': 248,\n 'edgerton': 249,\n 'thus': 250,\n 'becomes': 251,\n 'captivate': 252,\n 'bear': 253,\n 'witness': 254,\n 'illusion': 255,\n 'deceit': 256,\n 'pen': 257,\n 'tale': 258,\n 'impossible': 259,\n 'tragedyjwelch5742': 260,\n 'its': 261,\n 'spring': 262,\n 'wideeye': 263,\n 'tobey': 264,\n 'maguire': 265,\n 'just': 266,\n 'city': 267,\n 'pursuit': 268,\n 'settle': 269,\n 'home': 270,\n 'next': 271,\n 'door': 272,\n 'leonardo': 273,\n 'dicaprio': 274,\n 'grow': 275,\n 'increasingly': 276,\n 'fascinate': 277,\n 'elaborate': 278,\n 'hold': 279,\n 'at': 280,\n 'estate': 281,\n 'meanwhile': 282,\n 'carey': 283,\n 'mulligan': 284,\n 'flounder': 285,\n 'marriage': 286,\n 'aristocrat': 287,\n 'inspire': 288,\n 'debauchery': 289,\n 'display': 290,\n 'wild': 291,\n 'life': 292,\n 'elite': 293,\n 'begin': 294,\n 'paper': 295,\n 'it': 296,\n 'gradually': 297,\n 'become': 298,\n 'clear': 299,\n 'share': 300,\n 'complicated': 301,\n 'romantic': 302,\n 'remain': 303,\n 'unresolved': 304,\n 'decadence': 305,\n 'ebullience': 306,\n 'await': 307,\n 'innocent': 308,\n 'aspire': 309,\n 'cinematic': 310,\n 'great': 311,\n 'little': 312,\n 'cottage': 313,\n 'during': 314,\n 'roaring': 315,\n 'twenties': 316,\n 'elusive': 317,\n 'instead': 318,\n 'humble': 319,\n 'strike': 320,\n 'acquaintance': 321,\n 'mysterious': 322,\n 'selfmade': 323,\n 'whose': 324,\n 'extravagant': 325,\n 'bacchanalian': 326,\n 'gathering': 327,\n 'talk': 328,\n 'west': 329,\n 'egg': 330,\n 'instantly': 331,\n 'fabulous': 332,\n 'dazzle': 333,\n 'nouveauriche': 334,\n 'entangle': 335,\n 'jays': 336,\n 'triangle': 337,\n 'unrequited': 338,\n 'passion': 339,\n 'former': 340,\n 'overpowering': 341,\n 'impulse': 342,\n 'fervent': 343,\n 'desire': 344,\n 'pave': 345,\n 'way': 346,\n 'bitter': 347,\n 'heartbreak': 348,\n 'bloodsoake': 349,\n 'all': 350,\n 'fleeting': 351,\n 'illusionnick': 352,\n 'riganas': 353,\n 'ambitious': 354,\n 'stockbroker': 355,\n 'befriend': 356,\n 'beguile': 357,\n 'first': 358,\n 'glitz': 359,\n 'glamour': 360,\n 'surrounding': 361,\n 'surprising': 362,\n 'chain': 363,\n 'lead': 364,\n 'utterly': 365,\n 'repel': 366,\n 'wreckless': 367,\n 'behaviour': 368,\n 'questionable': 369,\n 'moralsbecksykane': 370,\n 'dave': 371,\n 'hate': 372,\n 'eccentric': 373,\n 'friend': 374,\n 'quite': 375,\n 'happy': 376,\n 'bizarre': 377,\n 'struggle': 378,\n 'pull': 379,\n 'depressed': 380,\n 'darkness': 381,\n 'want': 382,\n 'everyone': 383,\n 'young': 384,\n 'pushover': 385,\n 'bookworm': 386,\n 'up': 387,\n 'good': 388,\n 'grade': 389,\n 'receive': 390,\n 'college': 391,\n 'degree': 392,\n 'work': 393,\n 'cubicle': 394,\n 'gas': 395,\n 'station': 396,\n 'worker': 397,\n 'video': 398,\n 'game': 399,\n 'addicate': 400,\n 'secretareis': 401,\n 'stock': 402,\n 'broker': 403,\n 'evil': 404,\n 'fast': 405,\n 'food': 406,\n 'mcducks': 407,\n 'corporate': 408,\n 'daves': 409,\n 'quest': 410,\n 'happiness': 411,\n 'trouble': 412,\n 'arise': 413,\n 'when': 414,\n 'fall': 415,\n 'employee': 416,\n 'must': 417,\n 'within': 418,\n 'most': 419,\n 'entity': 420,\n 'while': 421,\n 'fight': 422,\n 'darknessmartin': 423,\n 'roger': 424,\n 'us': 425,\n 'heartland': 426,\n 'follow': 427,\n '2008': 428,\n 'economic': 429,\n 'collapse': 430,\n 'recently': 431,\n 'divorce': 432,\n 'suburban': 433,\n 'mother': 434,\n 'two': 435,\n 'girl': 436,\n 'onto': 437,\n 'usa': 438,\n 'face': 439,\n 'foreclosure': 440,\n 'inhibited': 441,\n 'dysfunctional': 442,\n 'family': 443,\n 'she': 444,\n 'few': 445,\n 'opportunity': 446,\n 'connections': 447,\n 'community': 448,\n 'lay': 449,\n 'bare': 450,\n 'father': 451,\n 'patriarch': 452,\n 'especially': 453,\n 'painful': 454,\n 'redemptionanonymous': 455,\n 'group': 456,\n 'criminal': 457,\n 'justice': 458,\n 'deescalation': 459,\n 'minneapolis': 460,\n 'embark': 461,\n 'collaborative': 462,\n 'project': 463,\n 'use': 464,\n 'radical': 465,\n 'workshop': 466,\n 'technique': 467,\n 'explore': 468,\n 'reallife': 469,\n 'escape': 470,\n 'pressure': 471,\n '2019': 472,\n 'theater': 473,\n 'result': 474,\n 'finish': 475,\n 'day': 476,\n 'before': 477,\n 'murder': 478,\n 'george': 479,\n 'floyd': 480,\n 'capture': 481,\n 'lie': 482,\n 'nightmare': 483,\n 'undocumented': 484,\n 'laborer': 485,\n 'hire': 486,\n 'couple': 487,\n 'expect': 488,\n 'big': 489,\n 'payday': 490,\n 'turn': 491,\n 'terrifying': 492,\n 'survival': 493,\n 'beneath': 494,\n 'play': 495,\n 'lynn': 496,\n 'collins': 497,\n 'james': 498,\n 'tupper': 499,\n 'hope': 500,\n 'seclude': 501,\n 'those': 502,\n 'think': 503,\n 'helpless': 504,\n 'prove': 505,\n 'can': 506,\n 'not': 507,\n 'discard': 508,\n 'so': 509,\n 'easily': 510,\n 'coming': 511,\n 'age': 512,\n 'story': 513,\n 'russian': 514,\n 'immigrant': 515,\n 'daanyik': 516,\n 'nine': 517,\n 'yearold': 518,\n 'immigrate': 519,\n 'united': 520,\n 'states': 521,\n 'late': 522,\n 'nineteenseventie': 523,\n 'pursue': 524,\n 'daanyiks': 525,\n 'childhood': 526,\n 'pencil': 527,\n 'drawing': 528,\n 'toy': 529,\n 'soldier': 530,\n 'battle': 531,\n 'moscow': 532,\n 'interrupt': 533,\n 'overnight': 534,\n 'hurl': 535,\n 'harsh': 536,\n 'reality': 537,\n 'adulthood': 538,\n 'upon': 539,\n 'lose': 540,\n 'deema': 541,\n 'meela': 542,\n 'leave': 543,\n 'alone': 544,\n 'foreign': 545,\n 'land': 546,\n 'desperation': 547,\n 'relationship': 548,\n 'tolik': 549,\n 'abusive': 550,\n 'may': 551,\n 'hand': 552,\n 'deemas': 553,\n 'death': 554,\n 'trap': 555,\n 'precarious': 556,\n 'web': 557,\n 'torment': 558,\n 'stepfather': 559,\n 'lecherous': 560,\n 'rabbi': 561,\n 'neighborhood': 562,\n 'bully': 563,\n 'source': 564,\n 'comfort': 565,\n 'catharsis': 566,\n 'fiercer': 567,\n 'tender': 568,\n 'overcome': 569,\n 'insurmountable': 570,\n 'odd': 571,\n 'save': 572,\n 'complete': 573,\n 'destructionanonymous': 574,\n 'promise': 575,\n 'jancsi': 576,\n 'major': 577,\n 'whirlwind': 578,\n 'budapest': 579,\n 'arrival': 580,\n 'immediately': 581,\n 'step': 582,\n 'mirage': 583,\n 'wealth': 584,\n 'themselves': 585,\n 'outskirt': 586,\n 'pack': 587,\n 'grandpa': 588,\n 'jenos': 589,\n 'doublewide': 590,\n 'trailer': 591,\n 'assimilate': 592,\n 'facetoface': 593,\n 'bond': 594,\n 'together': 595,\n 'force': 596,\n 'try': 597,\n 'push': 598,\n 'apart': 599,\n 'end': 600,\n 'we': 601,\n 'never': 602,\n 'truly': 603,\n 'behind': 604,\n 'woman': 605,\n 'continue': 606,\n 'cultivate': 607,\n 'plight': 608,\n 'universal': 609,\n 'truth': 610,\n 'obstacle': 611,\n 'achieve': 612,\n 'personal': 613,\n 'ourselves': 614,\n 'chronicle': 615,\n 'experience': 616,\n 'formerly': 617,\n 'successful': 618,\n 'banker': 619,\n 'prisoner': 620,\n 'gloomy': 621,\n 'jailhouse': 622,\n 'shawshank': 623,\n 'guilty': 624,\n 'crime': 625,\n 'do': 626,\n 'commit': 627,\n 'portray': 628,\n 'unique': 629,\n 'deal': 630,\n 'torturous': 631,\n 'along': 632,\n 'number': 633,\n 'fellow': 634,\n 'notably': 635,\n 'wise': 636,\n 'longterm': 637,\n 'inmate': 638,\n 'godfather': 639,\n 'don': 640,\n 'vito': 641,\n 'corleone': 642,\n 'head': 643,\n 'mafia': 644,\n 'daughter': 645,\n 'wed': 646,\n 'michael': 647,\n 'vitos': 648,\n 'son': 649,\n 'decorate': 650,\n 'ww': 651,\n 'ii': 652,\n 'marine': 653,\n 'also': 654,\n 'present': 655,\n 'wedding': 656,\n 'seem': 657,\n 'uninterested': 658,\n 'business': 659,\n 'powerful': 660,\n 'kind': 661,\n 'give': 662,\n 'respect': 663,\n 'ruthless': 664,\n 'against': 665,\n 'treacherous': 666,\n 'rival': 667,\n 'sell': 668,\n 'need': 669,\n 'dons': 670,\n 'influence': 671,\n 'refuse': 672,\n 'clash': 673,\n 'between': 674,\n 'fade': 675,\n 'old': 676,\n 'value': 677,\n 'cause': 678,\n 'reluctant': 679,\n 'wage': 680,\n 'mob': 681,\n 'other': 682,\n 'could': 683,\n 'tear': 684,\n 'batman': 685,\n 'begins': 686,\n '2005': 687,\n 'lieutenant': 688,\n 'gordon': 689,\n 'district': 690,\n 'harvey': 691,\n 'dent': 692,\n 'successfully': 693,\n 'round': 694,\n 'plague': 695,\n 'gotham': 696,\n 'until': 697,\n 'sadistic': 698,\n 'mastermind': 699,\n 'joker': 700,\n 'appear': 701,\n 'create': 702,\n 'wave': 703,\n 'chaos': 704,\n 'batmans': 705,\n 'deeply': 706,\n 'confront': 707,\n 'everything': 708,\n 'believe': 709,\n 'improve': 710,\n 'technology': 711,\n 'stop': 712,\n 'develop': 713,\n 'bruce': 714,\n 'wayne': 715,\n 'rachel': 716,\n 'dawes': 717,\n 'oskar': 718,\n 'schindler': 719,\n 'vain': 720,\n 'greedy': 721,\n 'german': 722,\n 'businessman': 723,\n 'unlikely': 724,\n 'humanitarian': 725,\n 'amid': 726,\n 'barbaric': 727,\n 'nazi': 728,\n 'reign': 729,\n 'feels': 730,\n 'compel': 731,\n 'factory': 732,\n 'refuge': 733,\n 'jews': 734,\n 'base': 735,\n 'manage': 736,\n '1100': 737,\n 'auschwitz': 738,\n 'concentration': 739,\n 'camp': 740,\n 'testament': 741,\n 'jules': 742,\n 'winnfield': 743,\n 'samuel': 744,\n 'l': 745,\n 'jackson': 746,\n 'vincent': 747,\n 'vega': 748,\n 'john': 749,\n 'travolta': 750,\n 'hit': 751,\n 'retrieve': 752,\n 'suitcase': 753,\n 'steal': 754,\n 'employer': 755,\n 'boss': 756,\n 'marsellus': 757,\n 'wallace': 758,\n 'ving': 759,\n 'rhames': 760,\n 'take': 761,\n 'wife': 762,\n 'mia': 763,\n 'uma': 764,\n 'thurman': 765,\n 'later': 766,\n 'town': 767,\n 'butch': 768,\n 'coolidge': 769,\n 'willis': 770,\n 'boxer': 771,\n 'pay': 772,\n 'these': 773,\n 'seemingly': 774,\n 'unrelated': 775,\n 'people': 776,\n 'weave': 777,\n 'comprise': 778,\n 'funny': 779,\n 'uncalledfor': 780,\n 'incident': 781,\n 'forrest': 782,\n 'gump': 783,\n 'simple': 784,\n 'low': 785,\n 'iq': 786,\n 'intention': 787,\n 'run': 788,\n 'jenny': 789,\n 'mama': 790,\n 'teach': 791,\n 'choose': 792,\n 'destiny': 793,\n 'join': 794,\n 'army': 795,\n 'vietnam': 796,\n 'call': 797,\n 'dan': 798,\n 'bubba': 799,\n 'medal': 800,\n 'famous': 801,\n 'shrimp': 802,\n 'fishing': 803,\n 'fleet': 804,\n 'jog': 805,\n 'start': 806,\n 'pingpong': 807,\n 'smiley': 808,\n 'bumper': 809,\n 'sticker': 810,\n 'song': 811,\n 'donate': 812,\n 'meet': 813,\n 'president': 814,\n 'several': 815,\n 'time': 816,\n 'this': 817,\n 'irrelevant': 818,\n 'sweetheart': 819,\n 'curran': 820,\n 'mess': 821,\n 'although': 822,\n 'anyone': 823,\n 'nameless': 824,\n 'person': 825,\n 'narrator': 826,\n 'edward': 827,\n 'norton': 828,\n 'support': 829,\n 'attempt': 830,\n 'subdue': 831,\n 'emotional': 832,\n 'state': 833,\n 'relieve': 834,\n 'insomniac': 835,\n 'marla': 836,\n 'helena': 837,\n 'bonham': 838,\n 'carter': 839,\n 'another': 840,\n 'fake': 841,\n 'attendee': 842,\n 'more': 843,\n 'bearable': 844,\n 'associate': 845,\n 'tyler': 846,\n 'brad': 847,\n 'pitt': 848,\n 'drag': 849,\n 'underground': 850,\n 'club': 851,\n 'soap': 852,\n 'make': 853,\n 'scheme': 854,\n 'spiral': 855,\n 'control': 856,\n 'engage': 857,\n 'competitive': 858,\n 'rivalry': 859,\n 'power': 860,\n 'dom': 861,\n 'cobb': 862,\n 'skilled': 863,\n 'thief': 864,\n 'absolute': 865,\n 'dangerous': 866,\n 'art': 867,\n 'extraction': 868,\n 'valuable': 869,\n 'secret': 870,\n 'deep': 871,\n 'subconscious': 872,\n 'mind': 873,\n 'vulnerable': 874,\n 'cobbs': 875,\n 'rare': 876,\n 'ability': 877,\n 'coveted': 878,\n 'player': 879,\n 'espionage': 880,\n 'international': 881,\n 'fugitive': 882,\n 'cost': 883,\n 'ever': 884,\n 'offer': 885,\n 'chance': 886,\n 'redemption': 887,\n 'last': 888,\n 'job': 889,\n 'if': 890,\n 'accomplish': 891,\n 'inception': 892,\n 'perfect': 893,\n 'heist': 894,\n 'team': 895,\n 'specialist': 896,\n 'off': 897,\n 'reverse': 898,\n 'task': 899,\n 'idea': 900,\n 'plant': 901,\n 'succeed': 902,\n 'no': 903,\n 'careful': 904,\n 'planning': 905,\n 'or': 906,\n 'expertise': 907,\n 'prepare': 908,\n 'enemy': 909,\n 'predict': 910,\n 'luke': 911,\n 'skywalker': 912,\n 'han': 913,\n 'solo': 914,\n 'princess': 915,\n 'leia': 916,\n 'chewbacca': 917,\n 'attack': 918,\n 'imperial': 919,\n 'atat': 920,\n 'walker': 921,\n 'ice': 922,\n 'planet': 923,\n 'hoth': 924,\n 'millennium': 925,\n 'falcon': 926,\n 'dagobah': 927,\n 'yoda': 928,\n 'jedi': 929,\n 'masters': 930,\n 'survive': 931,\n 'dark': 932,\n 'side': 933,\n 'beckon': 934,\n 'ultimate': 935,\n 'duel': 936,\n 'darth': 937,\n 'vader': 938,\n 'thomas': 939,\n 'anderson': 940,\n 'live': 941,\n 'average': 942,\n 'computer': 943,\n 'programmer': 944,\n 'night': 945,\n 'hacker': 946,\n 'neo': 947,\n 'always': 948,\n 'question': 949,\n 'far': 950,\n 'beyond': 951,\n 'imagination': 952,\n 'target': 953,\n 'contact': 954,\n 'morpheus': 955,\n 'brand': 956,\n 'terrorist': 957,\n 'government': 958,\n 'rebel': 959,\n 'machine': 960,\n 'agent': 961,\n 'superpowerful': 962,\n 'program': 963,\n 'devote': 964,\n 'entire': 965,\n 'human': 966,\n 'rebellion': 967,\n 'mcmurphy': 968,\n 'again': 969,\n 'get': 970,\n 'sentence': 971,\n 'court': 972,\n 'labor': 973,\n 'duty': 974,\n 'prison': 975,\n 'plead': 976,\n 'insanity': 977,\n 'ward': 978,\n 'mentally': 979,\n 'unstable': 980,\n 'here': 981,\n 'both': 982,\n 'endure': 983,\n 'stand': 984,\n 'abuse': 985,\n 'degradation': 986,\n 'oppressive': 987,\n 'nurse': 988,\n 'ratched': 989,\n 'gain': 990,\n 'superiority': 991,\n 'flaw': 992,\n 'band': 993,\n 'rebellious': 994,\n 'stance': 995,\n 'atrocious': 996,\n 'homicide': 997,\n 'detective': 998,\n 'morgan': 999,\n ...}"
     },
     "execution_count": 9,
     "metadata": {},
     "output_type": "execute_result"
    }
   ],
   "source": [
    "index = {}\n",
    "count = 0\n",
    "\n",
    "def append_index(plotterms):\n",
    "    for term in plotterms:\n",
    "        if index.get(term) is None: # TODO: right reverse Index\n",
    "            index[term] = len(index)\n",
    "imdb['plotterms'].apply(append_index)\n",
    "index"
   ]
  },
  {
   "cell_type": "markdown",
   "metadata": {},
   "source": [
    "##### __(c) Take the inverted index and create the posting list for the query 'american'. Return the posting list as well as the top5 items scored by the rating attribute. [0.5 points]__ "
   ]
  },
  {
   "cell_type": "code",
   "execution_count": 9,
   "metadata": {
    "ExecuteTime": {
     "end_time": "2024-04-04T12:43:18.264777Z",
     "start_time": "2024-04-04T12:43:18.263376Z"
    }
   },
   "outputs": [],
   "source": []
  },
  {
   "cell_type": "markdown",
   "metadata": {},
   "source": [
    "##### __(d) Take the inverted index and create the posting lists for the query terms 'american' and 'dream' (the term 'american' as well as the term 'dream' should be contained in the plot). Your merging algorithm should be efficient and reduce the number of comparison to a minimum. Don't use existing python methods (like intersect or in) for the merge algorithm. Return the merged posting list as well as the top5 items scored by the rating attribute. [1 point]__ "
   ]
  },
  {
   "cell_type": "code",
   "execution_count": 9,
   "metadata": {
    "ExecuteTime": {
     "end_time": "2024-04-04T12:43:18.266760Z",
     "start_time": "2024-04-04T12:43:18.265424Z"
    }
   },
   "outputs": [],
   "source": []
  },
  {
   "cell_type": "markdown",
   "metadata": {},
   "source": [
    "##### __(e) Extend your index to be able to rank the resulting items from Task 2d by the occurrence of search terms in the plotterms. Execute the query 'american' and 'dream' (the term 'american' as well as the term 'dream' should be contained in the plot) again and print the resulting items.  [1 point]__"
   ]
  },
  {
   "cell_type": "code",
   "execution_count": 9,
   "metadata": {
    "ExecuteTime": {
     "end_time": "2024-04-04T12:43:18.268761Z",
     "start_time": "2024-04-04T12:43:18.267393Z"
    }
   },
   "outputs": [],
   "source": []
  },
  {
   "cell_type": "markdown",
   "metadata": {},
   "source": [
    "##### __(f) Use the TF-IDF score and the cosine similarity to execute the query 'american' and 'dream' (the term 'american' as well as the term 'dream' should be contained in the plot) against all plots in the collection. Print the results with the corresponding ranking score. Also execute the query 'american' or 'dream' (the term 'american' or the term 'dream' should be contained in the plot).  [1.5 points]__"
   ]
  },
  {
   "cell_type": "code",
   "execution_count": 9,
   "metadata": {
    "ExecuteTime": {
     "end_time": "2024-04-04T12:43:18.270621Z",
     "start_time": "2024-04-04T12:43:18.269438Z"
    }
   },
   "outputs": [],
   "source": []
  }
 ],
 "metadata": {
  "kernelspec": {
   "display_name": "Python 3",
   "language": "python",
   "name": "python3"
  },
  "language_info": {
   "codemirror_mode": {
    "name": "ipython",
    "version": 3
   },
   "file_extension": ".py",
   "mimetype": "text/x-python",
   "name": "python",
   "nbconvert_exporter": "python",
   "pygments_lexer": "ipython3",
   "version": "3.8.6"
  }
 },
 "nbformat": 4,
 "nbformat_minor": 4
}
