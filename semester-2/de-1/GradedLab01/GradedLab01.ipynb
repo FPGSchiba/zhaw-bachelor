{
 "cells": [
  {
   "cell_type": "markdown",
   "metadata": {},
   "source": [
    "# Data Engineering 1: Graded Lab 01\n",
    "---------------"
   ]
  },
  {
   "cell_type": "markdown",
   "metadata": {},
   "source": [
    "#### Grading\n",
    "For this graded lab you can get a total of 10 points. These 10 points count 10% of your final grade for the course.\n",
    "\n",
    "#### Start\n",
    "Start of the Graded Lab 01 is **Thursday, March 21st at 23:55**.\n",
    "\n",
    "#### Deadline\n",
    "Deadline for the submission of the Graded Lab 01 is **Thursday, April 11th at 23:59**.\n",
    "\n",
    "#### Note\n",
    "Check each result carefully. Use data filter, cleaning, and transformation methods wherever needed. The data can sometimes be really messy and have hidden issues.\n",
    "\n",
    "#### Submission\n",
    "You are allowed to submit the solution in groups of **two or three** students.\n",
    "Submit your GradedLab01.ipynb file renamed to FirstnameStudent01LastnameStudent01_FirstnameStudent02LastnameStudent02_FirstnameStudent03LastnameStudent03.ipynb in moodle.   \n",
    "Please submit a runnable python jupyter notebook file.\n",
    "All other submissions will be rejected and graded with 0 points."
   ]
  },
  {
   "cell_type": "markdown",
   "metadata": {},
   "source": [
    "##### Task 01: Structured Data [4 points].    \n",
    "The imdb.csv file contains a dataset extracted from IMDB with several attributes. For example, the title, plot, and the language of the movies. Read the imdb.csv file in a pandas dataframe and try to answer the following questions."
   ]
  },
  {
   "cell_type": "markdown",
   "metadata": {},
   "source": [
    "##### __(a)  What is the min, max, and the average value of the attribute 'rating' for all movies? [0.5 points].__ "
   ]
  },
  {
   "cell_type": "code",
   "outputs": [
    {
     "name": "stdout",
     "output_type": "stream",
     "text": [
      "Requirement already satisfied: pandas in /Users/schiba/anaconda3/envs/zhaw-jupiter/lib/python3.11/site-packages (2.2.0)\r\n",
      "Requirement already satisfied: spacy in /Users/schiba/anaconda3/envs/zhaw-jupiter/lib/python3.11/site-packages (3.7.4)\r\n",
      "Requirement already satisfied: numpy<2,>=1.23.2 in /Users/schiba/anaconda3/envs/zhaw-jupiter/lib/python3.11/site-packages (from pandas) (1.26.4)\r\n",
      "Requirement already satisfied: python-dateutil>=2.8.2 in /Users/schiba/anaconda3/envs/zhaw-jupiter/lib/python3.11/site-packages (from pandas) (2.8.2)\r\n",
      "Requirement already satisfied: pytz>=2020.1 in /Users/schiba/anaconda3/envs/zhaw-jupiter/lib/python3.11/site-packages (from pandas) (2023.3.post1)\r\n",
      "Requirement already satisfied: tzdata>=2022.7 in /Users/schiba/anaconda3/envs/zhaw-jupiter/lib/python3.11/site-packages (from pandas) (2024.1)\r\n",
      "Requirement already satisfied: spacy-legacy<3.1.0,>=3.0.11 in /Users/schiba/anaconda3/envs/zhaw-jupiter/lib/python3.11/site-packages (from spacy) (3.0.12)\r\n",
      "Requirement already satisfied: spacy-loggers<2.0.0,>=1.0.0 in /Users/schiba/anaconda3/envs/zhaw-jupiter/lib/python3.11/site-packages (from spacy) (1.0.5)\r\n",
      "Requirement already satisfied: murmurhash<1.1.0,>=0.28.0 in /Users/schiba/anaconda3/envs/zhaw-jupiter/lib/python3.11/site-packages (from spacy) (1.0.10)\r\n",
      "Requirement already satisfied: cymem<2.1.0,>=2.0.2 in /Users/schiba/anaconda3/envs/zhaw-jupiter/lib/python3.11/site-packages (from spacy) (2.0.8)\r\n",
      "Requirement already satisfied: preshed<3.1.0,>=3.0.2 in /Users/schiba/anaconda3/envs/zhaw-jupiter/lib/python3.11/site-packages (from spacy) (3.0.9)\r\n",
      "Requirement already satisfied: thinc<8.3.0,>=8.2.2 in /Users/schiba/anaconda3/envs/zhaw-jupiter/lib/python3.11/site-packages (from spacy) (8.2.3)\r\n",
      "Requirement already satisfied: wasabi<1.2.0,>=0.9.1 in /Users/schiba/anaconda3/envs/zhaw-jupiter/lib/python3.11/site-packages (from spacy) (1.1.2)\r\n",
      "Requirement already satisfied: srsly<3.0.0,>=2.4.3 in /Users/schiba/anaconda3/envs/zhaw-jupiter/lib/python3.11/site-packages (from spacy) (2.4.8)\r\n",
      "Requirement already satisfied: catalogue<2.1.0,>=2.0.6 in /Users/schiba/anaconda3/envs/zhaw-jupiter/lib/python3.11/site-packages (from spacy) (2.0.10)\r\n",
      "Requirement already satisfied: weasel<0.4.0,>=0.1.0 in /Users/schiba/anaconda3/envs/zhaw-jupiter/lib/python3.11/site-packages (from spacy) (0.3.4)\r\n",
      "Requirement already satisfied: typer<0.10.0,>=0.3.0 in /Users/schiba/anaconda3/envs/zhaw-jupiter/lib/python3.11/site-packages (from spacy) (0.9.4)\r\n",
      "Requirement already satisfied: smart-open<7.0.0,>=5.2.1 in /Users/schiba/anaconda3/envs/zhaw-jupiter/lib/python3.11/site-packages (from spacy) (6.4.0)\r\n",
      "Requirement already satisfied: tqdm<5.0.0,>=4.38.0 in /Users/schiba/anaconda3/envs/zhaw-jupiter/lib/python3.11/site-packages (from spacy) (4.66.2)\r\n",
      "Requirement already satisfied: requests<3.0.0,>=2.13.0 in /Users/schiba/anaconda3/envs/zhaw-jupiter/lib/python3.11/site-packages (from spacy) (2.31.0)\r\n",
      "Requirement already satisfied: pydantic!=1.8,!=1.8.1,<3.0.0,>=1.7.4 in /Users/schiba/anaconda3/envs/zhaw-jupiter/lib/python3.11/site-packages (from spacy) (2.6.4)\r\n",
      "Requirement already satisfied: jinja2 in /Users/schiba/anaconda3/envs/zhaw-jupiter/lib/python3.11/site-packages (from spacy) (3.1.3)\r\n",
      "Requirement already satisfied: setuptools in /Users/schiba/anaconda3/envs/zhaw-jupiter/lib/python3.11/site-packages (from spacy) (68.2.2)\r\n",
      "Requirement already satisfied: packaging>=20.0 in /Users/schiba/anaconda3/envs/zhaw-jupiter/lib/python3.11/site-packages (from spacy) (23.1)\r\n",
      "Requirement already satisfied: langcodes<4.0.0,>=3.2.0 in /Users/schiba/anaconda3/envs/zhaw-jupiter/lib/python3.11/site-packages (from spacy) (3.3.0)\r\n",
      "Requirement already satisfied: annotated-types>=0.4.0 in /Users/schiba/anaconda3/envs/zhaw-jupiter/lib/python3.11/site-packages (from pydantic!=1.8,!=1.8.1,<3.0.0,>=1.7.4->spacy) (0.6.0)\r\n",
      "Requirement already satisfied: pydantic-core==2.16.3 in /Users/schiba/anaconda3/envs/zhaw-jupiter/lib/python3.11/site-packages (from pydantic!=1.8,!=1.8.1,<3.0.0,>=1.7.4->spacy) (2.16.3)\r\n",
      "Requirement already satisfied: typing-extensions>=4.6.1 in /Users/schiba/anaconda3/envs/zhaw-jupiter/lib/python3.11/site-packages (from pydantic!=1.8,!=1.8.1,<3.0.0,>=1.7.4->spacy) (4.9.0)\r\n",
      "Requirement already satisfied: six>=1.5 in /Users/schiba/anaconda3/envs/zhaw-jupiter/lib/python3.11/site-packages (from python-dateutil>=2.8.2->pandas) (1.16.0)\r\n",
      "Requirement already satisfied: charset-normalizer<4,>=2 in /Users/schiba/anaconda3/envs/zhaw-jupiter/lib/python3.11/site-packages (from requests<3.0.0,>=2.13.0->spacy) (2.0.4)\r\n",
      "Requirement already satisfied: idna<4,>=2.5 in /Users/schiba/anaconda3/envs/zhaw-jupiter/lib/python3.11/site-packages (from requests<3.0.0,>=2.13.0->spacy) (3.4)\r\n",
      "Requirement already satisfied: urllib3<3,>=1.21.1 in /Users/schiba/anaconda3/envs/zhaw-jupiter/lib/python3.11/site-packages (from requests<3.0.0,>=2.13.0->spacy) (2.1.0)\r\n",
      "Requirement already satisfied: certifi>=2017.4.17 in /Users/schiba/anaconda3/envs/zhaw-jupiter/lib/python3.11/site-packages (from requests<3.0.0,>=2.13.0->spacy) (2024.2.2)\r\n",
      "Requirement already satisfied: blis<0.8.0,>=0.7.8 in /Users/schiba/anaconda3/envs/zhaw-jupiter/lib/python3.11/site-packages (from thinc<8.3.0,>=8.2.2->spacy) (0.7.11)\r\n",
      "Requirement already satisfied: confection<1.0.0,>=0.0.1 in /Users/schiba/anaconda3/envs/zhaw-jupiter/lib/python3.11/site-packages (from thinc<8.3.0,>=8.2.2->spacy) (0.1.4)\r\n",
      "Requirement already satisfied: click<9.0.0,>=7.1.1 in /Users/schiba/anaconda3/envs/zhaw-jupiter/lib/python3.11/site-packages (from typer<0.10.0,>=0.3.0->spacy) (8.1.7)\r\n",
      "Requirement already satisfied: cloudpathlib<0.17.0,>=0.7.0 in /Users/schiba/anaconda3/envs/zhaw-jupiter/lib/python3.11/site-packages (from weasel<0.4.0,>=0.1.0->spacy) (0.16.0)\r\n",
      "Requirement already satisfied: MarkupSafe>=2.0 in /Users/schiba/anaconda3/envs/zhaw-jupiter/lib/python3.11/site-packages (from jinja2->spacy) (2.1.3)\r\n"
     ]
    }
   ],
   "source": [
    "import datetime\n",
    "\n",
    "import numpy as np\n",
    "!pip install pandas spacy"
   ],
   "metadata": {
    "collapsed": false,
    "ExecuteTime": {
     "end_time": "2024-04-05T13:48:58.022950Z",
     "start_time": "2024-04-05T13:48:54.915695Z"
    }
   },
   "execution_count": 2
  },
  {
   "cell_type": "code",
   "execution_count": 14,
   "metadata": {
    "ExecuteTime": {
     "end_time": "2024-04-05T13:59:35.131986Z",
     "start_time": "2024-04-05T13:59:35.122725Z"
    }
   },
   "outputs": [
    {
     "name": "stdout",
     "output_type": "stream",
     "text": [
      "Min: 8.1\n",
      "Max: 9.3\n",
      "Average: 8.4\n"
     ]
    }
   ],
   "source": [
    "import pandas as pd\n",
    "\n",
    "data = pd.read_csv('imdb.csv')\n",
    "\n",
    "data.head()\n",
    "\n",
    "data = data.where(data.kind == 'movie').dropna()\n",
    "\n",
    "print(f\"Min: {data.rating.min()}\")\n",
    "print(f\"Max: {data.rating.max()}\")\n",
    "print(f\"Average: {data.rating.mean():.1f}\")"
   ]
  },
  {
   "cell_type": "markdown",
   "metadata": {},
   "source": [
    "##### __(b) What is the min, max, and the average value of the attribute 'cumulative worldwide gross' for all movies? [0.5 points].__ "
   ]
  },
  {
   "cell_type": "code",
   "execution_count": 15,
   "metadata": {
    "ExecuteTime": {
     "end_time": "2024-04-05T13:59:39.414786Z",
     "start_time": "2024-04-05T13:59:39.410387Z"
    }
   },
   "outputs": [
    {
     "name": "stdout",
     "output_type": "stream",
     "text": [
      "Min: 6540000.0\n",
      "Max: 2797800564.0\n",
      "Average: 390489624.7\n"
     ]
    }
   ],
   "source": [
    "data[\"cumulative worldwide gross\"] = data[\"cumulative worldwide gross\"].str.replace(r'\\s.+', '', regex=True).replace(r'\\D', '', regex=True).astype(float)\n",
    "\n",
    "print(f\"Min: {data['cumulative worldwide gross'].min()}\")\n",
    "print(f\"Max: {data['cumulative worldwide gross'].max()}\")\n",
    "print(f\"Average: {data['cumulative worldwide gross'].mean():.1f}\")"
   ]
  },
  {
   "cell_type": "markdown",
   "metadata": {},
   "source": [
    "##### __(c) What is the min, max, and the average value of the attribute 'cumulative worldwide gross' grouped by genre of the movies? [1 point].__ "
   ]
  },
  {
   "cell_type": "code",
   "execution_count": 16,
   "metadata": {
    "ExecuteTime": {
     "end_time": "2024-04-05T13:59:42.117237Z",
     "start_time": "2024-04-05T13:59:42.108510Z"
    }
   },
   "outputs": [
    {
     "data": {
      "text/plain": "genres\nAction       6.331150e+08\nAdventure    6.941635e+08\nAnimation    6.597255e+08\nBiography    2.393391e+08\nComedy       5.031645e+08\nCrime        2.846189e+08\nDrama        3.398912e+08\nFamily       6.597255e+08\nFantasy      5.482189e+08\nHistory      2.548299e+08\nHorror       2.245637e+08\nMusic        3.929283e+08\nMusical      6.325005e+08\nMystery      2.488491e+08\nRomance      2.931044e+08\nSci-Fi       6.745759e+08\nSport        1.553263e+08\nThriller     3.360929e+08\nWar          3.641424e+08\nWestern      3.362419e+08\nName: cumulative worldwide gross, dtype: float64"
     },
     "execution_count": 16,
     "metadata": {},
     "output_type": "execute_result"
    }
   ],
   "source": [
    "data['genres'] = data['genres'].apply(lambda x: x.replace(\"'\", '').strip('][').split(', ') if not isinstance(x, list) else x)\n",
    "data = data.explode('genres')\n",
    "data.groupby(by=['genres'], dropna=True)['cumulative worldwide gross'].min()\n",
    "data.groupby(by=['genres'], dropna=True)['cumulative worldwide gross'].max()\n",
    "data.groupby(by=['genres'], dropna=True)['cumulative worldwide gross'].mean()"
   ]
  },
  {
   "cell_type": "markdown",
   "metadata": {},
   "source": [
    "##### __(d) What is the profit (defined as cumulative worldwide gross - budget) of each movie? [1 point].__ "
   ]
  },
  {
   "cell_type": "code",
   "execution_count": 17,
   "metadata": {
    "ExecuteTime": {
     "end_time": "2024-04-05T13:59:45.177152Z",
     "start_time": "2024-04-05T13:59:45.169947Z"
    }
   },
   "outputs": [
    {
     "data": {
      "text/plain": "0      33500000.0\n1     239066411.0\n1     239066411.0\n2     819558444.0\n2     819558444.0\n         ...     \n94    399967620.0\n95    191639112.0\n96    402200000.0\n96    402200000.0\n96    402200000.0\nLength: 299, dtype: float64"
     },
     "execution_count": 17,
     "metadata": {},
     "output_type": "execute_result"
    }
   ],
   "source": [
    "data.budget = data.budget.str.replace(r'\\D', '', regex=True).astype(float)\n",
    "profit = data['cumulative worldwide gross'] - data.budget\n",
    "profit"
   ]
  },
  {
   "cell_type": "markdown",
   "metadata": {},
   "source": [
    "##### __(e)  What is the min, max, and the average value of the atttribute 'opening weekend united states' per month? [1 point].__ "
   ]
  },
  {
   "cell_type": "code",
   "execution_count": 18,
   "metadata": {
    "ExecuteTime": {
     "end_time": "2024-04-05T13:59:48.491279Z",
     "start_time": "2024-04-05T13:59:48.456319Z"
    }
   },
   "outputs": [
    {
     "data": {
      "text/plain": "opening weekend united states dates\n1     1.326144e+07\n2     2.974682e+07\n3     3.421716e+07\n4     1.593046e+08\n5     5.929679e+07\n6     5.916076e+07\n7     5.430706e+07\n8     1.121913e+07\n9     1.056989e+07\n10    2.193238e+07\n11    2.672944e+07\n12    1.964329e+07\nName: opening weekend united states income, dtype: float64"
     },
     "execution_count": 18,
     "metadata": {},
     "output_type": "execute_result"
    }
   ],
   "source": [
    "import datetime\n",
    "\n",
    "data['opening weekend united states']= data['opening weekend united states'].apply(lambda x: x.replace(\"$\", '').split(', ') if not isinstance(x, list) else x)\n",
    "data = data.merge(data['opening weekend united states'].apply(lambda s: pd.Series({'opening weekend united states income': float(s[0].replace(',', '')), 'opening weekend united states dates': datetime.datetime.strptime(s[1], '%d %b %Y')}) if len(s) > 1 else pd.Series({'opening weekend united states income': np.NaN, 'opening weekend united states dates': np.NaN})), left_index=True, right_index=True)\n",
    "\n",
    "data.groupby(by=[data['opening weekend united states dates'].dt.month], dropna=True)['opening weekend united states income'].min()\n",
    "data.groupby(by=[data['opening weekend united states dates'].dt.month], dropna=True)['opening weekend united states income'].max()\n",
    "data.groupby(by=[data['opening weekend united states dates'].dt.month], dropna=True)['opening weekend united states income'].mean()"
   ]
  },
  {
   "cell_type": "markdown",
   "metadata": {},
   "source": [
    "#### Task 02: Unstructured Data [6 points]. \n",
    "This time use the files imdb.csv from Task 01 and the imdb2.csv file. In this task we mainly use the content of the attribute 'plot' for the implementation of a retrieval system."
   ]
  },
  {
   "cell_type": "markdown",
   "metadata": {},
   "source": [
    "##### __(a)  Read the files imdb.csv and imdb2.csv in a dataframe called imdb. Add a column which is called 'plotterms' to each item. The new column should contain all terms (lower-case and cleaned from special characters) from the plot attribute which are not contained in the stopwords_english.txt file. [0.5 points]__ "
   ]
  },
  {
   "cell_type": "code",
   "outputs": [
    {
     "name": "stdout",
     "output_type": "stream",
     "text": [
      "Collecting en-core-web-sm==3.7.1\r\n",
      "  Downloading https://github.com/explosion/spacy-models/releases/download/en_core_web_sm-3.7.1/en_core_web_sm-3.7.1-py3-none-any.whl (12.8 MB)\r\n",
      "\u001B[2K     \u001B[90m━━━━━━━━━━━━━━━━━━━━━━━━━━━━━━━━━━━━━━━━\u001B[0m \u001B[32m12.8/12.8 MB\u001B[0m \u001B[31m36.0 MB/s\u001B[0m eta \u001B[36m0:00:00\u001B[0ma \u001B[36m0:00:01\u001B[0m\r\n",
      "\u001B[?25hRequirement already satisfied: spacy<3.8.0,>=3.7.2 in /Users/schiba/anaconda3/envs/zhaw-jupiter/lib/python3.11/site-packages (from en-core-web-sm==3.7.1) (3.7.4)\r\n",
      "Requirement already satisfied: spacy-legacy<3.1.0,>=3.0.11 in /Users/schiba/anaconda3/envs/zhaw-jupiter/lib/python3.11/site-packages (from spacy<3.8.0,>=3.7.2->en-core-web-sm==3.7.1) (3.0.12)\r\n",
      "Requirement already satisfied: spacy-loggers<2.0.0,>=1.0.0 in /Users/schiba/anaconda3/envs/zhaw-jupiter/lib/python3.11/site-packages (from spacy<3.8.0,>=3.7.2->en-core-web-sm==3.7.1) (1.0.5)\r\n",
      "Requirement already satisfied: murmurhash<1.1.0,>=0.28.0 in /Users/schiba/anaconda3/envs/zhaw-jupiter/lib/python3.11/site-packages (from spacy<3.8.0,>=3.7.2->en-core-web-sm==3.7.1) (1.0.10)\r\n",
      "Requirement already satisfied: cymem<2.1.0,>=2.0.2 in /Users/schiba/anaconda3/envs/zhaw-jupiter/lib/python3.11/site-packages (from spacy<3.8.0,>=3.7.2->en-core-web-sm==3.7.1) (2.0.8)\r\n",
      "Requirement already satisfied: preshed<3.1.0,>=3.0.2 in /Users/schiba/anaconda3/envs/zhaw-jupiter/lib/python3.11/site-packages (from spacy<3.8.0,>=3.7.2->en-core-web-sm==3.7.1) (3.0.9)\r\n",
      "Requirement already satisfied: thinc<8.3.0,>=8.2.2 in /Users/schiba/anaconda3/envs/zhaw-jupiter/lib/python3.11/site-packages (from spacy<3.8.0,>=3.7.2->en-core-web-sm==3.7.1) (8.2.3)\r\n",
      "Requirement already satisfied: wasabi<1.2.0,>=0.9.1 in /Users/schiba/anaconda3/envs/zhaw-jupiter/lib/python3.11/site-packages (from spacy<3.8.0,>=3.7.2->en-core-web-sm==3.7.1) (1.1.2)\r\n",
      "Requirement already satisfied: srsly<3.0.0,>=2.4.3 in /Users/schiba/anaconda3/envs/zhaw-jupiter/lib/python3.11/site-packages (from spacy<3.8.0,>=3.7.2->en-core-web-sm==3.7.1) (2.4.8)\r\n",
      "Requirement already satisfied: catalogue<2.1.0,>=2.0.6 in /Users/schiba/anaconda3/envs/zhaw-jupiter/lib/python3.11/site-packages (from spacy<3.8.0,>=3.7.2->en-core-web-sm==3.7.1) (2.0.10)\r\n",
      "Requirement already satisfied: weasel<0.4.0,>=0.1.0 in /Users/schiba/anaconda3/envs/zhaw-jupiter/lib/python3.11/site-packages (from spacy<3.8.0,>=3.7.2->en-core-web-sm==3.7.1) (0.3.4)\r\n",
      "Requirement already satisfied: typer<0.10.0,>=0.3.0 in /Users/schiba/anaconda3/envs/zhaw-jupiter/lib/python3.11/site-packages (from spacy<3.8.0,>=3.7.2->en-core-web-sm==3.7.1) (0.9.4)\r\n",
      "Requirement already satisfied: smart-open<7.0.0,>=5.2.1 in /Users/schiba/anaconda3/envs/zhaw-jupiter/lib/python3.11/site-packages (from spacy<3.8.0,>=3.7.2->en-core-web-sm==3.7.1) (6.4.0)\r\n",
      "Requirement already satisfied: tqdm<5.0.0,>=4.38.0 in /Users/schiba/anaconda3/envs/zhaw-jupiter/lib/python3.11/site-packages (from spacy<3.8.0,>=3.7.2->en-core-web-sm==3.7.1) (4.66.2)\r\n",
      "Requirement already satisfied: requests<3.0.0,>=2.13.0 in /Users/schiba/anaconda3/envs/zhaw-jupiter/lib/python3.11/site-packages (from spacy<3.8.0,>=3.7.2->en-core-web-sm==3.7.1) (2.31.0)\r\n",
      "Requirement already satisfied: pydantic!=1.8,!=1.8.1,<3.0.0,>=1.7.4 in /Users/schiba/anaconda3/envs/zhaw-jupiter/lib/python3.11/site-packages (from spacy<3.8.0,>=3.7.2->en-core-web-sm==3.7.1) (2.6.4)\r\n",
      "Requirement already satisfied: jinja2 in /Users/schiba/anaconda3/envs/zhaw-jupiter/lib/python3.11/site-packages (from spacy<3.8.0,>=3.7.2->en-core-web-sm==3.7.1) (3.1.3)\r\n",
      "Requirement already satisfied: setuptools in /Users/schiba/anaconda3/envs/zhaw-jupiter/lib/python3.11/site-packages (from spacy<3.8.0,>=3.7.2->en-core-web-sm==3.7.1) (68.2.2)\r\n",
      "Requirement already satisfied: packaging>=20.0 in /Users/schiba/anaconda3/envs/zhaw-jupiter/lib/python3.11/site-packages (from spacy<3.8.0,>=3.7.2->en-core-web-sm==3.7.1) (23.1)\r\n",
      "Requirement already satisfied: langcodes<4.0.0,>=3.2.0 in /Users/schiba/anaconda3/envs/zhaw-jupiter/lib/python3.11/site-packages (from spacy<3.8.0,>=3.7.2->en-core-web-sm==3.7.1) (3.3.0)\r\n",
      "Requirement already satisfied: numpy>=1.19.0 in /Users/schiba/anaconda3/envs/zhaw-jupiter/lib/python3.11/site-packages (from spacy<3.8.0,>=3.7.2->en-core-web-sm==3.7.1) (1.26.4)\r\n",
      "Requirement already satisfied: annotated-types>=0.4.0 in /Users/schiba/anaconda3/envs/zhaw-jupiter/lib/python3.11/site-packages (from pydantic!=1.8,!=1.8.1,<3.0.0,>=1.7.4->spacy<3.8.0,>=3.7.2->en-core-web-sm==3.7.1) (0.6.0)\r\n",
      "Requirement already satisfied: pydantic-core==2.16.3 in /Users/schiba/anaconda3/envs/zhaw-jupiter/lib/python3.11/site-packages (from pydantic!=1.8,!=1.8.1,<3.0.0,>=1.7.4->spacy<3.8.0,>=3.7.2->en-core-web-sm==3.7.1) (2.16.3)\r\n",
      "Requirement already satisfied: typing-extensions>=4.6.1 in /Users/schiba/anaconda3/envs/zhaw-jupiter/lib/python3.11/site-packages (from pydantic!=1.8,!=1.8.1,<3.0.0,>=1.7.4->spacy<3.8.0,>=3.7.2->en-core-web-sm==3.7.1) (4.9.0)\r\n",
      "Requirement already satisfied: charset-normalizer<4,>=2 in /Users/schiba/anaconda3/envs/zhaw-jupiter/lib/python3.11/site-packages (from requests<3.0.0,>=2.13.0->spacy<3.8.0,>=3.7.2->en-core-web-sm==3.7.1) (2.0.4)\r\n",
      "Requirement already satisfied: idna<4,>=2.5 in /Users/schiba/anaconda3/envs/zhaw-jupiter/lib/python3.11/site-packages (from requests<3.0.0,>=2.13.0->spacy<3.8.0,>=3.7.2->en-core-web-sm==3.7.1) (3.4)\r\n",
      "Requirement already satisfied: urllib3<3,>=1.21.1 in /Users/schiba/anaconda3/envs/zhaw-jupiter/lib/python3.11/site-packages (from requests<3.0.0,>=2.13.0->spacy<3.8.0,>=3.7.2->en-core-web-sm==3.7.1) (2.1.0)\r\n",
      "Requirement already satisfied: certifi>=2017.4.17 in /Users/schiba/anaconda3/envs/zhaw-jupiter/lib/python3.11/site-packages (from requests<3.0.0,>=2.13.0->spacy<3.8.0,>=3.7.2->en-core-web-sm==3.7.1) (2024.2.2)\r\n",
      "Requirement already satisfied: blis<0.8.0,>=0.7.8 in /Users/schiba/anaconda3/envs/zhaw-jupiter/lib/python3.11/site-packages (from thinc<8.3.0,>=8.2.2->spacy<3.8.0,>=3.7.2->en-core-web-sm==3.7.1) (0.7.11)\r\n",
      "Requirement already satisfied: confection<1.0.0,>=0.0.1 in /Users/schiba/anaconda3/envs/zhaw-jupiter/lib/python3.11/site-packages (from thinc<8.3.0,>=8.2.2->spacy<3.8.0,>=3.7.2->en-core-web-sm==3.7.1) (0.1.4)\r\n",
      "Requirement already satisfied: click<9.0.0,>=7.1.1 in /Users/schiba/anaconda3/envs/zhaw-jupiter/lib/python3.11/site-packages (from typer<0.10.0,>=0.3.0->spacy<3.8.0,>=3.7.2->en-core-web-sm==3.7.1) (8.1.7)\r\n",
      "Requirement already satisfied: cloudpathlib<0.17.0,>=0.7.0 in /Users/schiba/anaconda3/envs/zhaw-jupiter/lib/python3.11/site-packages (from weasel<0.4.0,>=0.1.0->spacy<3.8.0,>=3.7.2->en-core-web-sm==3.7.1) (0.16.0)\r\n",
      "Requirement already satisfied: MarkupSafe>=2.0 in /Users/schiba/anaconda3/envs/zhaw-jupiter/lib/python3.11/site-packages (from jinja2->spacy<3.8.0,>=3.7.2->en-core-web-sm==3.7.1) (2.1.3)\r\n",
      "\u001B[38;5;2m✔ Download and installation successful\u001B[0m\r\n",
      "You can now load the package via spacy.load('en_core_web_sm')\r\n"
     ]
    }
   ],
   "source": [
    "!spacy download en_core_web_sm"
   ],
   "metadata": {
    "collapsed": false,
    "ExecuteTime": {
     "end_time": "2024-04-05T13:49:02.644462Z",
     "start_time": "2024-04-05T13:48:58.787490Z"
    }
   },
   "execution_count": 8
  },
  {
   "cell_type": "code",
   "execution_count": 9,
   "metadata": {
    "ExecuteTime": {
     "end_time": "2024-04-05T13:49:08.525771Z",
     "start_time": "2024-04-05T13:49:02.645213Z"
    }
   },
   "outputs": [
    {
     "data": {
      "text/plain": "           id       kind                           title  \\\n0      120669      movie  Fear and Loathing in Las Vegas   \n1     1343092      movie                The Great Gatsby   \n2     2069861      movie               My Favorite Movie   \n3     2267368      movie                     Joshua Tree   \n4    13560124      movie                   After America   \n..        ...        ...                             ...   \n154   2085059  tv series                    Black Mirror   \n155   2707408  tv series                          Narcos   \n156     98936  tv series                      Twin Peaks   \n157   4934214  tv series                      Taskmaster   \n158    200276  tv series                   The West Wing   \n\n                                             languages  \\\n0                                          ['English']   \n1                                          ['English']   \n2                                          ['English']   \n3                                          ['English']   \n4                                ['English', 'Somali']   \n..                                                 ...   \n154                                        ['English']   \n155                             ['English', 'Spanish']   \n156  ['English', 'Icelandic', 'Afrikaans', 'Norwegi...   \n157                                        ['English']   \n158                                        ['English']   \n\n                                          genres  rating       director  \\\n0               ['Adventure', 'Comedy', 'Drama']     7.5  Terry Gilliam   \n1                           ['Drama', 'Romance']     7.2   Baz Luhrmann   \n2                           ['Comedy', 'Family']     8.4  Martin Rogers   \n3                                      ['Drama']     6.6       Li Cheng   \n4                ['Drama', 'Fantasy', 'Mystery']     4.5     Jake Yuzna   \n..                                           ...     ...            ...   \n154   ['Drama', 'Mystery', 'Sci-Fi', 'Thriller']     8.8            NaN   \n155  ['Biography', 'Crime', 'Drama', 'Thriller']     8.8            NaN   \n156    ['Crime', 'Drama', 'Mystery', 'Thriller']     8.8            NaN   \n157                      ['Comedy', 'Game-Show']     9.0            NaN   \n158                                    ['Drama']     8.9            NaN   \n\n    cumulative worldwide gross opening weekend united states     budget  \\\n0                            0                             0          0   \n1                            0                             0          0   \n2                            0                             0          0   \n3                            0                             0          0   \n4                            0                             0          0   \n..                         ...                           ...        ...   \n154                  000000000                     000000000  000000000   \n155                  000000000                     000000000  000000000   \n156                  000000000                     000000000  000000000   \n157                  000000000                     000000000  000000000   \n158                  000000000                     000000000  000000000   \n\n                                                  plot  \\\n0    An oddball journalist and his psychopathic law...   \n1    A writer and wall street trader. Nick. finds h...   \n2    Dave has the American Dream and hates it His e...   \n3    Set in the US heartland following the 2008 eco...   \n4    A group of criminal justice deescalation worke...   \n..                                                 ...   \n154  An anthology series exploring a twisted. hight...   \n155  A chronicled look at the criminal exploits of ...   \n156  An idiosyncratic FBI agent investigates the mu...   \n157  Five comedians are set tasks challenging their...   \n158  Inside the lives of staffers in the West Wing ...   \n\n                                             plotterms  \n0    [an, oddball, journalist, and, his, psychopath...  \n1    [a, writer, and, wall, street, trader, ., nick...  \n2    [dave, have, the, american, dream, and, hate, ...  \n3    [set, in, the, us, heartland, follow, the, 200...  \n4    [a, group, of, criminal, justice, deescalation...  \n..                                                 ...  \n154  [an, anthology, series, explore, a, twist, ., ...  \n155  [a, chronicled, look, at, the, criminal, explo...  \n156  [an, idiosyncratic, fbi, agent, investigate, t...  \n157  [five, comedian, be, set, task, challenge, the...  \n158  [inside, the, life, of, staffer, in, the, west...  \n\n[167 rows x 12 columns]",
      "text/html": "<div>\n<style scoped>\n    .dataframe tbody tr th:only-of-type {\n        vertical-align: middle;\n    }\n\n    .dataframe tbody tr th {\n        vertical-align: top;\n    }\n\n    .dataframe thead th {\n        text-align: right;\n    }\n</style>\n<table border=\"1\" class=\"dataframe\">\n  <thead>\n    <tr style=\"text-align: right;\">\n      <th></th>\n      <th>id</th>\n      <th>kind</th>\n      <th>title</th>\n      <th>languages</th>\n      <th>genres</th>\n      <th>rating</th>\n      <th>director</th>\n      <th>cumulative worldwide gross</th>\n      <th>opening weekend united states</th>\n      <th>budget</th>\n      <th>plot</th>\n      <th>plotterms</th>\n    </tr>\n  </thead>\n  <tbody>\n    <tr>\n      <th>0</th>\n      <td>120669</td>\n      <td>movie</td>\n      <td>Fear and Loathing in Las Vegas</td>\n      <td>['English']</td>\n      <td>['Adventure', 'Comedy', 'Drama']</td>\n      <td>7.5</td>\n      <td>Terry Gilliam</td>\n      <td>0</td>\n      <td>0</td>\n      <td>0</td>\n      <td>An oddball journalist and his psychopathic law...</td>\n      <td>[an, oddball, journalist, and, his, psychopath...</td>\n    </tr>\n    <tr>\n      <th>1</th>\n      <td>1343092</td>\n      <td>movie</td>\n      <td>The Great Gatsby</td>\n      <td>['English']</td>\n      <td>['Drama', 'Romance']</td>\n      <td>7.2</td>\n      <td>Baz Luhrmann</td>\n      <td>0</td>\n      <td>0</td>\n      <td>0</td>\n      <td>A writer and wall street trader. Nick. finds h...</td>\n      <td>[a, writer, and, wall, street, trader, ., nick...</td>\n    </tr>\n    <tr>\n      <th>2</th>\n      <td>2069861</td>\n      <td>movie</td>\n      <td>My Favorite Movie</td>\n      <td>['English']</td>\n      <td>['Comedy', 'Family']</td>\n      <td>8.4</td>\n      <td>Martin Rogers</td>\n      <td>0</td>\n      <td>0</td>\n      <td>0</td>\n      <td>Dave has the American Dream and hates it His e...</td>\n      <td>[dave, have, the, american, dream, and, hate, ...</td>\n    </tr>\n    <tr>\n      <th>3</th>\n      <td>2267368</td>\n      <td>movie</td>\n      <td>Joshua Tree</td>\n      <td>['English']</td>\n      <td>['Drama']</td>\n      <td>6.6</td>\n      <td>Li Cheng</td>\n      <td>0</td>\n      <td>0</td>\n      <td>0</td>\n      <td>Set in the US heartland following the 2008 eco...</td>\n      <td>[set, in, the, us, heartland, follow, the, 200...</td>\n    </tr>\n    <tr>\n      <th>4</th>\n      <td>13560124</td>\n      <td>movie</td>\n      <td>After America</td>\n      <td>['English', 'Somali']</td>\n      <td>['Drama', 'Fantasy', 'Mystery']</td>\n      <td>4.5</td>\n      <td>Jake Yuzna</td>\n      <td>0</td>\n      <td>0</td>\n      <td>0</td>\n      <td>A group of criminal justice deescalation worke...</td>\n      <td>[a, group, of, criminal, justice, deescalation...</td>\n    </tr>\n    <tr>\n      <th>...</th>\n      <td>...</td>\n      <td>...</td>\n      <td>...</td>\n      <td>...</td>\n      <td>...</td>\n      <td>...</td>\n      <td>...</td>\n      <td>...</td>\n      <td>...</td>\n      <td>...</td>\n      <td>...</td>\n      <td>...</td>\n    </tr>\n    <tr>\n      <th>154</th>\n      <td>2085059</td>\n      <td>tv series</td>\n      <td>Black Mirror</td>\n      <td>['English']</td>\n      <td>['Drama', 'Mystery', 'Sci-Fi', 'Thriller']</td>\n      <td>8.8</td>\n      <td>NaN</td>\n      <td>000000000</td>\n      <td>000000000</td>\n      <td>000000000</td>\n      <td>An anthology series exploring a twisted. hight...</td>\n      <td>[an, anthology, series, explore, a, twist, ., ...</td>\n    </tr>\n    <tr>\n      <th>155</th>\n      <td>2707408</td>\n      <td>tv series</td>\n      <td>Narcos</td>\n      <td>['English', 'Spanish']</td>\n      <td>['Biography', 'Crime', 'Drama', 'Thriller']</td>\n      <td>8.8</td>\n      <td>NaN</td>\n      <td>000000000</td>\n      <td>000000000</td>\n      <td>000000000</td>\n      <td>A chronicled look at the criminal exploits of ...</td>\n      <td>[a, chronicled, look, at, the, criminal, explo...</td>\n    </tr>\n    <tr>\n      <th>156</th>\n      <td>98936</td>\n      <td>tv series</td>\n      <td>Twin Peaks</td>\n      <td>['English', 'Icelandic', 'Afrikaans', 'Norwegi...</td>\n      <td>['Crime', 'Drama', 'Mystery', 'Thriller']</td>\n      <td>8.8</td>\n      <td>NaN</td>\n      <td>000000000</td>\n      <td>000000000</td>\n      <td>000000000</td>\n      <td>An idiosyncratic FBI agent investigates the mu...</td>\n      <td>[an, idiosyncratic, fbi, agent, investigate, t...</td>\n    </tr>\n    <tr>\n      <th>157</th>\n      <td>4934214</td>\n      <td>tv series</td>\n      <td>Taskmaster</td>\n      <td>['English']</td>\n      <td>['Comedy', 'Game-Show']</td>\n      <td>9.0</td>\n      <td>NaN</td>\n      <td>000000000</td>\n      <td>000000000</td>\n      <td>000000000</td>\n      <td>Five comedians are set tasks challenging their...</td>\n      <td>[five, comedian, be, set, task, challenge, the...</td>\n    </tr>\n    <tr>\n      <th>158</th>\n      <td>200276</td>\n      <td>tv series</td>\n      <td>The West Wing</td>\n      <td>['English']</td>\n      <td>['Drama']</td>\n      <td>8.9</td>\n      <td>NaN</td>\n      <td>000000000</td>\n      <td>000000000</td>\n      <td>000000000</td>\n      <td>Inside the lives of staffers in the West Wing ...</td>\n      <td>[inside, the, life, of, staffer, in, the, west...</td>\n    </tr>\n  </tbody>\n</table>\n<p>167 rows × 12 columns</p>\n</div>"
     },
     "execution_count": 9,
     "metadata": {},
     "output_type": "execute_result"
    }
   ],
   "source": [
    "import pandas as pd\n",
    "import spacy\n",
    "import re\n",
    "\n",
    "nlp = spacy.load('en_core_web_sm')\n",
    "\n",
    "data = pd.read_csv('imdb2.csv')\n",
    "imdb = pd.read_csv('imdb.csv')\n",
    "\n",
    "imdb = pd.concat([data, imdb])\n",
    "\n",
    "with open('stopwords_english.txt', 'r+', encoding='utf-8') as file:\n",
    "    stopwords = file.readlines()\n",
    "\n",
    "def tokenize(text):\n",
    "    doc = nlp(text)\n",
    "    return [token.lemma_.lower() for token in doc if token.text not in stopwords]\n",
    "\n",
    "imdb['plot'] = imdb['plot'].apply(lambda x: '. '.join([re.sub(r'[^\\w\\s]', '', y) for y in x.split(', ')]))\n",
    "imdb['plotterms'] = imdb['plot'].apply(tokenize)\n",
    "imdb"
   ]
  },
  {
   "cell_type": "markdown",
   "metadata": {},
   "source": [
    "##### __(b)  Create an inverted index for the terms in the 'plotterms' column. Use a datastructure of your choice for the implementation [0.5 points]__ "
   ]
  },
  {
   "cell_type": "code",
   "execution_count": 13,
   "metadata": {
    "ExecuteTime": {
     "end_time": "2024-04-05T13:51:35.090661Z",
     "start_time": "2024-04-05T13:51:35.040653Z"
    }
   },
   "outputs": [
    {
     "data": {
      "text/plain": "{'an': [0,\n  1,\n  2,\n  3,\n  6,\n  11,\n  12,\n  14,\n  15,\n  17,\n  19,\n  20,\n  21,\n  27,\n  31,\n  33,\n  34,\n  35,\n  36,\n  42,\n  44,\n  45,\n  46,\n  50,\n  52,\n  53,\n  59,\n  64,\n  65,\n  67,\n  68,\n  69,\n  70,\n  72,\n  73,\n  76,\n  78,\n  81,\n  82,\n  84,\n  86,\n  91,\n  94,\n  96,\n  97,\n  99,\n  100,\n  106,\n  109,\n  111,\n  113,\n  114,\n  116,\n  117,\n  120,\n  121,\n  122,\n  123,\n  124,\n  127,\n  128,\n  129,\n  130,\n  133,\n  136,\n  138,\n  140,\n  141,\n  142,\n  143,\n  145,\n  146,\n  148,\n  150,\n  153,\n  154,\n  157,\n  159,\n  161,\n  162,\n  164],\n 'oddball': [0],\n 'journalist': [0, 124, 125],\n 'and': [0,\n  1,\n  2,\n  3,\n  5,\n  6,\n  7,\n  9,\n  10,\n  11,\n  12,\n  13,\n  14,\n  15,\n  16,\n  17,\n  18,\n  19,\n  20,\n  21,\n  23,\n  24,\n  25,\n  26,\n  27,\n  28,\n  29,\n  30,\n  31,\n  32,\n  33,\n  34,\n  36,\n  37,\n  38,\n  39,\n  40,\n  41,\n  42,\n  43,\n  44,\n  45,\n  46,\n  47,\n  48,\n  49,\n  50,\n  51,\n  52,\n  53,\n  54,\n  55,\n  56,\n  57,\n  58,\n  59,\n  60,\n  61,\n  62,\n  63,\n  64,\n  66,\n  67,\n  68,\n  69,\n  70,\n  71,\n  72,\n  73,\n  75,\n  76,\n  77,\n  78,\n  79,\n  80,\n  81,\n  82,\n  83,\n  84,\n  85,\n  86,\n  87,\n  88,\n  89,\n  90,\n  91,\n  92,\n  93,\n  94,\n  95,\n  96,\n  97,\n  98,\n  99,\n  100,\n  101,\n  102,\n  103,\n  104,\n  106,\n  107,\n  108,\n  109,\n  110,\n  111,\n  112,\n  113,\n  114,\n  115,\n  116,\n  117,\n  118,\n  120,\n  121,\n  122,\n  123,\n  124,\n  125,\n  126,\n  127,\n  128,\n  129,\n  130,\n  131,\n  133,\n  135,\n  136,\n  137,\n  138,\n  140,\n  141,\n  142,\n  143,\n  144,\n  145,\n  146,\n  147,\n  148,\n  149,\n  150,\n  151,\n  153,\n  154,\n  155,\n  156,\n  157,\n  158,\n  159,\n  160,\n  161,\n  162,\n  163,\n  164,\n  165,\n  166],\n 'his': [0,\n  1,\n  2,\n  6,\n  7,\n  8,\n  9,\n  10,\n  11,\n  12,\n  13,\n  14,\n  15,\n  17,\n  19,\n  20,\n  21,\n  26,\n  27,\n  28,\n  29,\n  32,\n  33,\n  34,\n  35,\n  36,\n  37,\n  38,\n  39,\n  40,\n  41,\n  42,\n  44,\n  45,\n  46,\n  48,\n  49,\n  50,\n  51,\n  53,\n  54,\n  55,\n  56,\n  57,\n  58,\n  59,\n  60,\n  61,\n  62,\n  63,\n  64,\n  65,\n  66,\n  67,\n  68,\n  69,\n  71,\n  72,\n  73,\n  74,\n  77,\n  78,\n  79,\n  80,\n  81,\n  82,\n  83,\n  84,\n  85,\n  86,\n  87,\n  88,\n  89,\n  90,\n  91,\n  92,\n  93,\n  94,\n  96,\n  97,\n  98,\n  99,\n  100,\n  101,\n  102,\n  104,\n  106,\n  111,\n  114,\n  116,\n  117,\n  120,\n  121,\n  123,\n  125,\n  126,\n  128,\n  129,\n  130,\n  133,\n  136,\n  138,\n  140,\n  141,\n  142,\n  145,\n  146,\n  148,\n  149,\n  150,\n  151,\n  157,\n  158,\n  160,\n  161,\n  163,\n  164,\n  165,\n  166],\n 'psychopathic': [0, 72],\n 'lawyer': [0, 140, 160],\n 'travel': [0, 16, 24, 61, 71, 113, 117, 123, 129, 140, 142],\n 'to': [0,\n  1,\n  2,\n  3,\n  4,\n  5,\n  6,\n  7,\n  9,\n  10,\n  11,\n  12,\n  13,\n  14,\n  15,\n  16,\n  17,\n  18,\n  19,\n  20,\n  21,\n  23,\n  24,\n  25,\n  26,\n  27,\n  28,\n  29,\n  31,\n  32,\n  33,\n  34,\n  35,\n  36,\n  37,\n  38,\n  39,\n  40,\n  41,\n  42,\n  43,\n  44,\n  45,\n  46,\n  47,\n  48,\n  49,\n  50,\n  51,\n  52,\n  53,\n  54,\n  55,\n  56,\n  57,\n  58,\n  59,\n  60,\n  61,\n  62,\n  63,\n  64,\n  65,\n  66,\n  68,\n  69,\n  70,\n  71,\n  72,\n  73,\n  74,\n  75,\n  76,\n  77,\n  78,\n  79,\n  80,\n  81,\n  82,\n  83,\n  84,\n  85,\n  87,\n  88,\n  89,\n  90,\n  91,\n  92,\n  93,\n  94,\n  97,\n  98,\n  99,\n  100,\n  101,\n  102,\n  103,\n  104,\n  106,\n  107,\n  108,\n  109,\n  110,\n  111,\n  112,\n  113,\n  114,\n  115,\n  116,\n  117,\n  118,\n  120,\n  121,\n  122,\n  123,\n  124,\n  125,\n  126,\n  127,\n  128,\n  129,\n  130,\n  131,\n  133,\n  135,\n  136,\n  138,\n  139,\n  140,\n  141,\n  142,\n  143,\n  145,\n  146,\n  147,\n  148,\n  149,\n  150,\n  151,\n  154,\n  155,\n  156,\n  158,\n  159,\n  160,\n  161,\n  162,\n  163,\n  164,\n  165,\n  166],\n 'las': [0, 7],\n 'vegas': [0, 7],\n 'for': [0,\n  1,\n  2,\n  3,\n  4,\n  5,\n  6,\n  9,\n  11,\n  13,\n  14,\n  15,\n  18,\n  19,\n  20,\n  25,\n  27,\n  29,\n  30,\n  31,\n  32,\n  33,\n  36,\n  37,\n  38,\n  39,\n  40,\n  41,\n  44,\n  49,\n  54,\n  56,\n  57,\n  58,\n  59,\n  60,\n  61,\n  62,\n  66,\n  67,\n  68,\n  69,\n  72,\n  73,\n  74,\n  75,\n  77,\n  78,\n  79,\n  81,\n  84,\n  86,\n  88,\n  90,\n  91,\n  92,\n  94,\n  96,\n  97,\n  98,\n  99,\n  100,\n  101,\n  102,\n  106,\n  109,\n  111,\n  113,\n  116,\n  117,\n  120,\n  121,\n  125,\n  127,\n  128,\n  129,\n  130,\n  131,\n  134,\n  138,\n  140,\n  141,\n  142,\n  144,\n  145,\n  146,\n  148,\n  150,\n  152,\n  154,\n  155,\n  156,\n  157,\n  160,\n  161,\n  163,\n  164,\n  165,\n  166],\n 'a': [0,\n  1,\n  2,\n  3,\n  4,\n  5,\n  6,\n  7,\n  8,\n  9,\n  10,\n  11,\n  12,\n  13,\n  14,\n  15,\n  17,\n  18,\n  19,\n  20,\n  21,\n  22,\n  24,\n  25,\n  26,\n  27,\n  28,\n  29,\n  30,\n  31,\n  32,\n  33,\n  34,\n  36,\n  37,\n  38,\n  39,\n  40,\n  42,\n  43,\n  44,\n  45,\n  46,\n  48,\n  49,\n  50,\n  52,\n  53,\n  54,\n  55,\n  56,\n  57,\n  58,\n  59,\n  60,\n  61,\n  62,\n  63,\n  64,\n  65,\n  66,\n  67,\n  68,\n  69,\n  70,\n  71,\n  73,\n  74,\n  75,\n  76,\n  77,\n  78,\n  79,\n  80,\n  81,\n  82,\n  83,\n  84,\n  85,\n  86,\n  87,\n  88,\n  89,\n  90,\n  91,\n  93,\n  94,\n  95,\n  96,\n  97,\n  98,\n  99,\n  100,\n  101,\n  102,\n  103,\n  104,\n  105,\n  106,\n  107,\n  108,\n  109,\n  110,\n  111,\n  112,\n  113,\n  114,\n  116,\n  117,\n  118,\n  120,\n  121,\n  123,\n  124,\n  125,\n  126,\n  127,\n  128,\n  129,\n  130,\n  132,\n  133,\n  135,\n  136,\n  138,\n  139,\n  140,\n  141,\n  142,\n  143,\n  144,\n  145,\n  146,\n  147,\n  148,\n  149,\n  150,\n  151,\n  152,\n  154,\n  155,\n  156,\n  157,\n  158,\n  159,\n  160,\n  161,\n  162,\n  163,\n  164,\n  165,\n  166],\n 'series': [0,\n  12,\n  93,\n  106,\n  107,\n  108,\n  109,\n  110,\n  111,\n  112,\n  113,\n  115,\n  116,\n  117,\n  118,\n  121,\n  123,\n  124,\n  126,\n  130,\n  131,\n  132,\n  135,\n  136,\n  138,\n  142,\n  143,\n  144,\n  146,\n  147,\n  151,\n  152,\n  155,\n  157,\n  162,\n  165,\n  166],\n 'of': [0,\n  1,\n  2,\n  3,\n  4,\n  5,\n  6,\n  7,\n  8,\n  9,\n  10,\n  11,\n  12,\n  13,\n  14,\n  15,\n  16,\n  18,\n  19,\n  20,\n  21,\n  22,\n  23,\n  24,\n  25,\n  26,\n  27,\n  28,\n  29,\n  30,\n  31,\n  32,\n  33,\n  34,\n  35,\n  36,\n  38,\n  39,\n  40,\n  41,\n  42,\n  43,\n  44,\n  45,\n  46,\n  47,\n  48,\n  50,\n  51,\n  52,\n  53,\n  54,\n  55,\n  56,\n  57,\n  58,\n  59,\n  60,\n  62,\n  63,\n  64,\n  65,\n  66,\n  67,\n  68,\n  69,\n  70,\n  71,\n  72,\n  73,\n  74,\n  75,\n  76,\n  78,\n  79,\n  80,\n  81,\n  82,\n  83,\n  84,\n  85,\n  86,\n  87,\n  88,\n  89,\n  90,\n  92,\n  93,\n  94,\n  95,\n  96,\n  97,\n  99,\n  100,\n  101,\n  102,\n  103,\n  104,\n  105,\n  106,\n  107,\n  108,\n  109,\n  110,\n  111,\n  112,\n  113,\n  114,\n  115,\n  116,\n  117,\n  118,\n  119,\n  120,\n  121,\n  122,\n  123,\n  124,\n  125,\n  126,\n  127,\n  128,\n  129,\n  130,\n  131,\n  132,\n  133,\n  135,\n  136,\n  138,\n  140,\n  141,\n  142,\n  143,\n  144,\n  145,\n  146,\n  147,\n  148,\n  149,\n  150,\n  151,\n  152,\n  153,\n  154,\n  155,\n  156,\n  157,\n  158,\n  159,\n  160,\n  161,\n  162,\n  163,\n  164,\n  165,\n  166],\n 'psychedelic': [0],\n 'escapade': [0],\n '.': [0,\n  1,\n  2,\n  3,\n  4,\n  5,\n  6,\n  7,\n  8,\n  9,\n  10,\n  11,\n  12,\n  13,\n  14,\n  15,\n  16,\n  17,\n  18,\n  20,\n  21,\n  22,\n  23,\n  24,\n  25,\n  26,\n  27,\n  28,\n  29,\n  30,\n  31,\n  32,\n  33,\n  34,\n  35,\n  36,\n  37,\n  38,\n  39,\n  40,\n  41,\n  42,\n  43,\n  44,\n  45,\n  46,\n  47,\n  48,\n  49,\n  50,\n  51,\n  52,\n  53,\n  54,\n  55,\n  56,\n  57,\n  58,\n  59,\n  60,\n  61,\n  62,\n  63,\n  64,\n  65,\n  66,\n  67,\n  68,\n  69,\n  70,\n  71,\n  72,\n  73,\n  74,\n  75,\n  76,\n  77,\n  78,\n  79,\n  80,\n  81,\n  82,\n  83,\n  84,\n  85,\n  86,\n  87,\n  88,\n  89,\n  90,\n  91,\n  92,\n  93,\n  94,\n  95,\n  96,\n  97,\n  98,\n  99,\n  100,\n  101,\n  102,\n  103,\n  104,\n  106,\n  107,\n  108,\n  109,\n  110,\n  111,\n  112,\n  113,\n  114,\n  115,\n  116,\n  117,\n  118,\n  119,\n  120,\n  121,\n  122,\n  123,\n  124,\n  125,\n  126,\n  127,\n  128,\n  129,\n  130,\n  131,\n  132,\n  133,\n  135,\n  136,\n  138,\n  140,\n  141,\n  142,\n  143,\n  144,\n  145,\n  146,\n  147,\n  148,\n  149,\n  150,\n  151,\n  152,\n  153,\n  154,\n  155,\n  156,\n  157,\n  158,\n  159,\n  160,\n  161,\n  162,\n  163,\n  164,\n  165,\n  166],\n 'the': [0,\n  1,\n  2,\n  3,\n  4,\n  5,\n  6,\n  7,\n  8,\n  9,\n  10,\n  11,\n  12,\n  13,\n  14,\n  15,\n  16,\n  17,\n  18,\n  19,\n  20,\n  21,\n  22,\n  23,\n  24,\n  25,\n  26,\n  27,\n  28,\n  29,\n  30,\n  31,\n  32,\n  33,\n  34,\n  35,\n  36,\n  37,\n  38,\n  39,\n  40,\n  41,\n  42,\n  43,\n  44,\n  45,\n  46,\n  47,\n  48,\n  49,\n  51,\n  52,\n  53,\n  54,\n  55,\n  56,\n  57,\n  58,\n  59,\n  60,\n  61,\n  62,\n  63,\n  64,\n  65,\n  66,\n  67,\n  68,\n  69,\n  70,\n  71,\n  72,\n  73,\n  74,\n  75,\n  76,\n  77,\n  78,\n  79,\n  80,\n  81,\n  82,\n  83,\n  84,\n  85,\n  86,\n  87,\n  88,\n  89,\n  90,\n  91,\n  92,\n  93,\n  94,\n  95,\n  96,\n  97,\n  98,\n  99,\n  100,\n  101,\n  102,\n  103,\n  104,\n  106,\n  107,\n  108,\n  109,\n  110,\n  111,\n  112,\n  113,\n  114,\n  115,\n  116,\n  117,\n  118,\n  119,\n  120,\n  121,\n  122,\n  123,\n  124,\n  125,\n  126,\n  127,\n  128,\n  129,\n  130,\n  131,\n  132,\n  133,\n  134,\n  135,\n  136,\n  137,\n  138,\n  139,\n  140,\n  141,\n  142,\n  143,\n  144,\n  145,\n  146,\n  147,\n  148,\n  149,\n  151,\n  152,\n  153,\n  154,\n  155,\n  156,\n  157,\n  158,\n  159,\n  160,\n  161,\n  162,\n  163,\n  164,\n  165,\n  166],\n 'bigscreen': [0],\n 'version': [0, 121, 130],\n 'hunter': [0, 57, 72, 90, 102, 142, 145],\n 's': [0,\n  2,\n  25,\n  43,\n  54,\n  68,\n  81,\n  106,\n  111,\n  114,\n  121,\n  122,\n  123,\n  129,\n  130,\n  133,\n  138,\n  140,\n  157,\n  158,\n  161],\n 'thompsons': [0],\n 'seminal': [0],\n 'classic': [0, 123, 159],\n 'about': [0,\n  1,\n  11,\n  19,\n  31,\n  36,\n  40,\n  45,\n  55,\n  60,\n  65,\n  71,\n  79,\n  82,\n  88,\n  99,\n  109,\n  117,\n  118,\n  120,\n  123,\n  129,\n  130,\n  134,\n  135,\n  136,\n  138,\n  142,\n  144,\n  145,\n  146,\n  147,\n  148,\n  155,\n  158,\n  159,\n  162],\n 'road': [0, 61, 75, 124, 141],\n 'trip': [0, 26, 129],\n 'across': [0, 1, 34, 113, 116, 117, 129, 131, 145, 163],\n 'western': [0, 104],\n 'america': [0, 4, 7, 36, 55, 77, 115, 140, 149],\n 'as': [0,\n  1,\n  2,\n  3,\n  6,\n  7,\n  8,\n  10,\n  17,\n  19,\n  20,\n  29,\n  30,\n  31,\n  35,\n  36,\n  38,\n  39,\n  40,\n  42,\n  45,\n  49,\n  53,\n  55,\n  60,\n  61,\n  62,\n  65,\n  66,\n  67,\n  68,\n  70,\n  71,\n  72,\n  75,\n  77,\n  78,\n  80,\n  82,\n  84,\n  85,\n  87,\n  89,\n  90,\n  91,\n  94,\n  98,\n  99,\n  100,\n  102,\n  103,\n  106,\n  108,\n  109,\n  110,\n  111,\n  112,\n  113,\n  116,\n  117,\n  118,\n  120,\n  123,\n  124,\n  125,\n  126,\n  127,\n  128,\n  129,\n  130,\n  133,\n  135,\n  136,\n  138,\n  139,\n  140,\n  142,\n  145,\n  146,\n  154,\n  155,\n  157,\n  159,\n  160,\n  161,\n  163,\n  164,\n  165,\n  166],\n 'he': [0,\n  1,\n  2,\n  6,\n  8,\n  9,\n  10,\n  11,\n  13,\n  14,\n  15,\n  16,\n  17,\n  20,\n  21,\n  25,\n  26,\n  27,\n  28,\n  29,\n  33,\n  34,\n  35,\n  36,\n  37,\n  38,\n  40,\n  41,\n  42,\n  44,\n  45,\n  46,\n  48,\n  53,\n  54,\n  55,\n  56,\n  57,\n  59,\n  60,\n  62,\n  63,\n  64,\n  65,\n  66,\n  67,\n  68,\n  69,\n  71,\n  72,\n  73,\n  74,\n  77,\n  78,\n  79,\n  80,\n  81,\n  82,\n  85,\n  87,\n  88,\n  94,\n  96,\n  98,\n  99,\n  100,\n  101,\n  102,\n  104,\n  106,\n  111,\n  114,\n  117,\n  121,\n  123,\n  125,\n  128,\n  130,\n  133,\n  136,\n  138,\n  139,\n  140,\n  141,\n  142,\n  146,\n  148,\n  149,\n  151,\n  157,\n  160,\n  161,\n  163,\n  164,\n  166],\n 'large': [0, 20, 38, 39, 100, 122, 126, 128, 140, 145],\n 'samoan': [0],\n 'search': [0,\n  1,\n  3,\n  4,\n  6,\n  16,\n  20,\n  36,\n  59,\n  71,\n  100,\n  120,\n  121,\n  129,\n  138,\n  142,\n  164],\n 'desperately': [0, 2, 50, 72, 146],\n 'american': [0, 1, 2, 3, 4, 5, 6, 7, 26, 77, 85, 99, 110, 124, 143],\n 'dream': [0, 1, 2, 3, 4, 5, 6, 7, 15, 46, 81, 96, 123, 142, 146, 160],\n 'they': [0,\n  2,\n  5,\n  7,\n  15,\n  20,\n  22,\n  25,\n  30,\n  31,\n  32,\n  37,\n  38,\n  39,\n  40,\n  45,\n  46,\n  47,\n  49,\n  52,\n  54,\n  55,\n  57,\n  58,\n  59,\n  61,\n  62,\n  67,\n  75,\n  76,\n  78,\n  85,\n  87,\n  90,\n  92,\n  94,\n  98,\n  99,\n  100,\n  101,\n  103,\n  106,\n  108,\n  111,\n  112,\n  116,\n  117,\n  120,\n  121,\n  123,\n  125,\n  127,\n  128,\n  129,\n  130,\n  131,\n  135,\n  136,\n  138,\n  140,\n  141,\n  142,\n  144,\n  145,\n  146,\n  147,\n  148,\n  150,\n  151,\n  154,\n  158,\n  159,\n  163,\n  165,\n  166],\n 'be': [0,\n  1,\n  2,\n  3,\n  5,\n  6,\n  8,\n  9,\n  11,\n  12,\n  13,\n  14,\n  15,\n  17,\n  18,\n  19,\n  20,\n  21,\n  24,\n  25,\n  26,\n  27,\n  28,\n  29,\n  30,\n  31,\n  32,\n  33,\n  35,\n  36,\n  37,\n  38,\n  39,\n  40,\n  41,\n  42,\n  44,\n  45,\n  47,\n  49,\n  50,\n  52,\n  53,\n  54,\n  55,\n  56,\n  57,\n  58,\n  59,\n  60,\n  61,\n  62,\n  63,\n  65,\n  66,\n  67,\n  68,\n  69,\n  70,\n  71,\n  72,\n  73,\n  74,\n  75,\n  76,\n  77,\n  79,\n  80,\n  81,\n  84,\n  85,\n  88,\n  89,\n  90,\n  91,\n  92,\n  94,\n  96,\n  98,\n  99,\n  100,\n  101,\n  102,\n  103,\n  104,\n  106,\n  107,\n  108,\n  109,\n  110,\n  111,\n  112,\n  114,\n  116,\n  117,\n  118,\n  120,\n  121,\n  122,\n  123,\n  124,\n  125,\n  126,\n  127,\n  128,\n  129,\n  130,\n  131,\n  133,\n  134,\n  135,\n  136,\n  138,\n  140,\n  141,\n  142,\n  143,\n  144,\n  145,\n  146,\n  147,\n  148,\n  151,\n  152,\n  154,\n  155,\n  156,\n  158,\n  159,\n  160,\n  161,\n  162,\n  163,\n  164,\n  165,\n  166],\n 'help': [0,\n  2,\n  16,\n  20,\n  23,\n  34,\n  37,\n  47,\n  75,\n  88,\n  102,\n  111,\n  114,\n  116,\n  117,\n  120,\n  123,\n  126,\n  129,\n  133,\n  140,\n  146,\n  148,\n  150,\n  161,\n  164],\n 'in': [0,\n  1,\n  2,\n  3,\n  4,\n  5,\n  6,\n  7,\n  8,\n  9,\n  10,\n  11,\n  13,\n  14,\n  15,\n  16,\n  18,\n  19,\n  20,\n  21,\n  22,\n  23,\n  24,\n  25,\n  26,\n  29,\n  30,\n  31,\n  32,\n  33,\n  35,\n  36,\n  37,\n  38,\n  40,\n  41,\n  45,\n  46,\n  47,\n  48,\n  49,\n  50,\n  51,\n  52,\n  53,\n  54,\n  56,\n  57,\n  58,\n  60,\n  61,\n  62,\n  63,\n  64,\n  66,\n  68,\n  69,\n  71,\n  72,\n  73,\n  74,\n  75,\n  77,\n  78,\n  79,\n  80,\n  81,\n  82,\n  84,\n  85,\n  87,\n  89,\n  90,\n  92,\n  93,\n  94,\n  95,\n  96,\n  97,\n  98,\n  99,\n  101,\n  102,\n  103,\n  105,\n  106,\n  107,\n  108,\n  109,\n  110,\n  111,\n  112,\n  113,\n  114,\n  116,\n  117,\n  118,\n  119,\n  120,\n  121,\n  122,\n  123,\n  124,\n  125,\n  126,\n  127,\n  128,\n  129,\n  130,\n  131,\n  132,\n  133,\n  134,\n  135,\n  136,\n  137,\n  138,\n  139,\n  140,\n  141,\n  142,\n  143,\n  145,\n  146,\n  147,\n  148,\n  149,\n  150,\n  151,\n  153,\n  154,\n  155,\n  156,\n  157,\n  158,\n  159,\n  160,\n  162,\n  163,\n  164,\n  165,\n  166],\n 'part': [0, 9, 42, 53, 68, 129, 140, 141],\n 'by': [0,\n  1,\n  5,\n  6,\n  12,\n  16,\n  17,\n  18,\n  20,\n  24,\n  25,\n  26,\n  27,\n  28,\n  31,\n  33,\n  37,\n  38,\n  40,\n  50,\n  52,\n  55,\n  57,\n  58,\n  60,\n  63,\n  65,\n  68,\n  70,\n  71,\n  73,\n  75,\n  76,\n  78,\n  79,\n  84,\n  85,\n  90,\n  91,\n  94,\n  96,\n  100,\n  101,\n  102,\n  104,\n  106,\n  107,\n  113,\n  114,\n  116,\n  118,\n  119,\n  120,\n  121,\n  123,\n  124,\n  125,\n  126,\n  128,\n  129,\n  130,\n  133,\n  135,\n  138,\n  140,\n  141,\n  142,\n  143,\n  144,\n  145,\n  146,\n  148,\n  151,\n  155,\n  156,\n  158,\n  159,\n  161,\n  164,\n  165,\n  166],\n 'huge': [0, 69, 79, 109, 125],\n 'amount': [0, 15, 62, 106],\n 'drug': [0, 9, 50, 54, 72, 106, 110, 127, 158, 163],\n 'alcohol': [0, 94],\n 'keep': [0, 2, 29, 40, 56, 72, 75, 78, 94, 109, 114, 117, 130, 159],\n 'their': [0,\n  1,\n  2,\n  4,\n  5,\n  7,\n  12,\n  15,\n  21,\n  22,\n  23,\n  31,\n  33,\n  38,\n  39,\n  40,\n  43,\n  44,\n  49,\n  51,\n  55,\n  56,\n  57,\n  61,\n  62,\n  66,\n  70,\n  71,\n  76,\n  77,\n  78,\n  80,\n  85,\n  87,\n  90,\n  92,\n  95,\n  98,\n  99,\n  103,\n  106,\n  108,\n  109,\n  110,\n  111,\n  116,\n  120,\n  125,\n  126,\n  128,\n  129,\n  130,\n  135,\n  138,\n  140,\n  141,\n  142,\n  143,\n  145,\n  146,\n  147,\n  148,\n  151,\n  154,\n  158,\n  161,\n  162,\n  165,\n  166],\n 'convertible': [0],\n 'red': [0, 8],\n 'sharklaurence': [0],\n 'mixson': [0],\n 'raoul': [0],\n 'duke': [0],\n 'addled': [0],\n 'gonzo': [0],\n 'send': [0, 18, 21, 25, 26, 38, 71, 89, 92, 148, 159, 163],\n 'cover': [0, 38, 62, 106, 109, 118, 146],\n 'motorcycle': [0],\n 'race': [0, 31, 34, 69, 96, 117, 123, 128, 166],\n 'article': [0],\n 'magazine': [0, 62],\n 'but': [0,\n  1,\n  2,\n  9,\n  13,\n  15,\n  17,\n  19,\n  27,\n  30,\n  31,\n  33,\n  36,\n  38,\n  45,\n  50,\n  52,\n  53,\n  54,\n  56,\n  60,\n  62,\n  63,\n  64,\n  66,\n  67,\n  68,\n  69,\n  73,\n  74,\n  77,\n  78,\n  80,\n  81,\n  82,\n  84,\n  87,\n  91,\n  94,\n  98,\n  100,\n  103,\n  104,\n  106,\n  110,\n  111,\n  114,\n  116,\n  118,\n  121,\n  125,\n  126,\n  128,\n  129,\n  130,\n  133,\n  136,\n  140,\n  141,\n  146,\n  148,\n  150,\n  151,\n  152,\n  158,\n  159,\n  160,\n  161,\n  163,\n  165],\n 'then': [0, 30, 36, 45, 70, 111, 125, 148],\n 'situation': [0, 106, 123, 127, 136, 151, 154, 161],\n 'escalate': [0, 76, 106],\n 'into': [0,\n  1,\n  5,\n  6,\n  7,\n  11,\n  14,\n  16,\n  18,\n  20,\n  28,\n  37,\n  40,\n  43,\n  58,\n  60,\n  61,\n  63,\n  71,\n  76,\n  80,\n  84,\n  87,\n  88,\n  89,\n  95,\n  96,\n  98,\n  106,\n  108,\n  111,\n  117,\n  127,\n  129,\n  133,\n  135,\n  136,\n  148,\n  150,\n  157,\n  158,\n  159,\n  160,\n  162,\n  164,\n  166],\n 'psychotic': [0],\n 'attorney': [0, 10, 160],\n 'aid': [0, 51],\n 'almost': [0, 56, 136, 138, 142, 162, 166],\n 'every': [0, 15, 33, 67, 72, 80, 110, 116, 128, 136, 148, 162],\n 'know': [0,\n  2,\n  10,\n  17,\n  20,\n  33,\n  37,\n  45,\n  54,\n  60,\n  63,\n  67,\n  73,\n  74,\n  80,\n  88,\n  89,\n  100,\n  101,\n  108,\n  111,\n  125,\n  126,\n  128,\n  133,\n  135,\n  145,\n  148,\n  160],\n 'man': [0,\n  2,\n  6,\n  7,\n  8,\n  9,\n  12,\n  13,\n  14,\n  17,\n  21,\n  24,\n  25,\n  28,\n  29,\n  30,\n  31,\n  33,\n  34,\n  37,\n  40,\n  48,\n  59,\n  61,\n  63,\n  66,\n  70,\n  74,\n  79,\n  84,\n  106,\n  108,\n  109,\n  116,\n  117,\n  125,\n  131,\n  135,\n  138,\n  140,\n  141,\n  145,\n  146,\n  158,\n  159,\n  160,\n  165],\n 'boot': [0],\n 'convertiblepalmtreehead': [0],\n 'adaptation': [0, 1, 121, 130],\n 'novel': [0, 1, 121, 159],\n 'same': [0, 9, 21, 25, 29, 53, 65, 83, 123, 145, 151],\n 'name': [0,\n  1,\n  8,\n  36,\n  37,\n  45,\n  49,\n  52,\n  71,\n  89,\n  94,\n  96,\n  99,\n  102,\n  111,\n  117,\n  129,\n  133,\n  142],\n 'film': [0, 4, 8, 19, 107, 112, 124, 134, 144, 155],\n 'detail': [0, 118],\n 'whacky': [0],\n 'thompson': [0],\n 'craze': [0, 13],\n 'fuel': [0, 28],\n 'massive': [0, 38, 146],\n 'purchase': [0, 66],\n 'with': [0,\n  1,\n  2,\n  6,\n  7,\n  8,\n  13,\n  14,\n  16,\n  20,\n  21,\n  22,\n  23,\n  27,\n  29,\n  32,\n  33,\n  37,\n  38,\n  40,\n  41,\n  43,\n  44,\n  45,\n  47,\n  49,\n  50,\n  51,\n  52,\n  53,\n  54,\n  55,\n  58,\n  61,\n  62,\n  63,\n  65,\n  67,\n  68,\n  69,\n  70,\n  72,\n  73,\n  74,\n  77,\n  78,\n  79,\n  80,\n  84,\n  85,\n  87,\n  88,\n  89,\n  90,\n  92,\n  94,\n  97,\n  98,\n  99,\n  100,\n  102,\n  104,\n  105,\n  106,\n  108,\n  111,\n  113,\n  114,\n  116,\n  117,\n  118,\n  120,\n  121,\n  123,\n  124,\n  125,\n  126,\n  127,\n  129,\n  130,\n  131,\n  133,\n  135,\n  138,\n  140,\n  141,\n  142,\n  144,\n  145,\n  146,\n  147,\n  148,\n  149,\n  151,\n  153,\n  154,\n  155,\n  157,\n  158,\n  159,\n  160,\n  161,\n  162,\n  164,\n  165,\n  166],\n 'advance': [0, 20],\n 'from': [0,\n  1,\n  2,\n  6,\n  7,\n  11,\n  12,\n  15,\n  19,\n  20,\n  21,\n  23,\n  29,\n  33,\n  36,\n  38,\n  39,\n  40,\n  53,\n  60,\n  62,\n  64,\n  66,\n  68,\n  70,\n  71,\n  72,\n  74,\n  75,\n  76,\n  77,\n  78,\n  79,\n  81,\n  83,\n  84,\n  85,\n  88,\n  90,\n  93,\n  98,\n  101,\n  102,\n  103,\n  106,\n  108,\n  109,\n  110,\n  114,\n  115,\n  116,\n  118,\n  120,\n  123,\n  124,\n  125,\n  126,\n  128,\n  129,\n  131,\n  133,\n  138,\n  140,\n  141,\n  142,\n  143,\n  144,\n  145,\n  146,\n  147,\n  148,\n  151,\n  159,\n  160,\n  161,\n  162,\n  165,\n  166],\n 'sporting': [0],\n 'event': [0, 1, 9, 10, 41, 46, 47, 109, 118, 124, 136, 166],\n 'set': [0,\n  3,\n  10,\n  36,\n  46,\n  57,\n  67,\n  78,\n  79,\n  80,\n  91,\n  96,\n  103,\n  113,\n  116,\n  125,\n  127,\n  128,\n  129,\n  130,\n  135,\n  140,\n  148,\n  162,\n  165],\n 'out': [0,\n  2,\n  6,\n  12,\n  14,\n  20,\n  21,\n  27,\n  29,\n  33,\n  34,\n  37,\n  38,\n  50,\n  52,\n  54,\n  55,\n  56,\n  57,\n  60,\n  61,\n  87,\n  89,\n  90,\n  99,\n  103,\n  104,\n  106,\n  112,\n  114,\n  116,\n  120,\n  121,\n  123,\n  128,\n  129,\n  142,\n  146,\n  148,\n  158,\n  161],\n 'shark': [0, 71, 90],\n 'encountering': [0],\n 'police': [0,\n  17,\n  30,\n  31,\n  41,\n  52,\n  56,\n  57,\n  58,\n  72,\n  73,\n  80,\n  83,\n  110,\n  121,\n  126,\n  133,\n  135,\n  140,\n  141,\n  145],\n 'reporter': [0, 95, 99, 125],\n 'gambler': [0],\n 'racer': [0],\n 'hitchhiker': [0],\n 'some': [0,\n  20,\n  21,\n  30,\n  37,\n  120,\n  121,\n  124,\n  127,\n  129,\n  130,\n  131,\n  138,\n  142,\n  145,\n  148,\n  153,\n  154,\n  155,\n  166],\n 'undefinable': [0],\n 'thing': [0,\n  9,\n  35,\n  40,\n  75,\n  76,\n  77,\n  79,\n  85,\n  103,\n  117,\n  118,\n  130,\n  138,\n  140,\n  145,\n  151],\n 'only': [0,\n  6,\n  7,\n  10,\n  13,\n  15,\n  16,\n  24,\n  28,\n  33,\n  65,\n  66,\n  67,\n  73,\n  76,\n  80,\n  81,\n  82,\n  84,\n  91,\n  99,\n  101,\n  102,\n  106,\n  110,\n  111,\n  116,\n  117,\n  141,\n  148,\n  154,\n  155,\n  162,\n  164],\n 'find': [0,\n  1,\n  2,\n  6,\n  7,\n  8,\n  13,\n  17,\n  21,\n  35,\n  36,\n  37,\n  38,\n  45,\n  46,\n  48,\n  49,\n  54,\n  55,\n  56,\n  59,\n  61,\n  63,\n  64,\n  76,\n  77,\n  87,\n  89,\n  96,\n  99,\n  104,\n  106,\n  116,\n  117,\n  120,\n  121,\n  123,\n  129,\n  133,\n  136,\n  142,\n  146,\n  148,\n  154,\n  159],\n 'fear': [0, 33, 60, 75, 100, 114],\n 'loathing': [0],\n 'hilarious': [0, 96, 117, 157, 165],\n 'adventure': [0, 86, 101, 117, 120, 148],\n 'dementia': [0],\n 'modern': [0, 121, 162],\n 'westj': [0],\n 'd': [0, 135],\n 'keith': [0],\n 'jkeithcompunetnet': [0],\n 'writer': [1, 33, 77, 103, 138],\n 'wall': [1, 2, 62, 116, 128],\n 'street': [1, 43, 62, 80, 101, 110, 121, 126, 138],\n 'trader': [1, 138],\n 'nick': [1, 83],\n 'himself': [1,\n  6,\n  12,\n  14,\n  17,\n  18,\n  20,\n  44,\n  46,\n  48,\n  54,\n  64,\n  72,\n  79,\n  87,\n  94,\n  96,\n  102,\n  117,\n  136,\n  138,\n  140,\n  157],\n 'draw': [1, 62, 135, 150],\n 'past': [1, 18, 27, 73, 78, 123, 141, 146, 160],\n 'lifestyle': [1, 62],\n 'millionaire': [1, 88, 126, 138, 158],\n 'neighbor': [1, 34, 136],\n 'jay': [1],\n 'gatsby': [1],\n 'f': [1],\n 'scott': [1, 20, 130],\n 'fitzgeralds': [1],\n 'long': [1, 31, 35, 44, 57, 60, 62, 68, 73, 74, 87, 94, 111, 142],\n 'islandset': [1],\n 'where': [1,\n  24,\n  38,\n  40,\n  43,\n  48,\n  49,\n  58,\n  60,\n  75,\n  92,\n  98,\n  110,\n  111,\n  116,\n  117,\n  118,\n  128,\n  130,\n  133,\n  140,\n  142,\n  158,\n  160,\n  162,\n  164],\n 'midwesterner': [1],\n 'carraway': [1],\n 'lure': [1],\n 'lavish': [1, 62, 126],\n 'world': [1,\n  7,\n  15,\n  19,\n  33,\n  39,\n  48,\n  50,\n  56,\n  63,\n  78,\n  87,\n  89,\n  94,\n  95,\n  96,\n  98,\n  106,\n  108,\n  109,\n  110,\n  111,\n  112,\n  113,\n  115,\n  116,\n  118,\n  127,\n  128,\n  132,\n  133,\n  135,\n  142,\n  146,\n  149,\n  151,\n  153,\n  154,\n  155,\n  156,\n  160,\n  162],\n 'soon': [1, 54, 55, 64, 68, 73, 83, 88, 90, 96, 98, 103, 104, 106, 116, 133],\n 'enough': [1],\n 'however': [1,\n  13,\n  14,\n  25,\n  36,\n  45,\n  54,\n  61,\n  63,\n  87,\n  102,\n  116,\n  120,\n  141,\n  146,\n  154,\n  159],\n 'will': [1,\n  12,\n  16,\n  20,\n  25,\n  27,\n  28,\n  33,\n  36,\n  37,\n  39,\n  45,\n  52,\n  54,\n  62,\n  66,\n  67,\n  69,\n  80,\n  84,\n  85,\n  87,\n  98,\n  100,\n  106,\n  111,\n  113,\n  114,\n  116,\n  127,\n  128,\n  130,\n  133,\n  138,\n  140,\n  141,\n  142,\n  146,\n  148,\n  160,\n  166],\n 'see': [1, 15, 20, 40, 65, 91, 99, 110, 112, 114, 124, 128, 142, 160, 164],\n 'through': [1,\n  7,\n  13,\n  18,\n  25,\n  29,\n  38,\n  40,\n  45,\n  61,\n  62,\n  75,\n  79,\n  108,\n  110,\n  112,\n  117,\n  118,\n  124,\n  128,\n  129,\n  135,\n  136,\n  138,\n  141,\n  143,\n  146,\n  147,\n  149,\n  153,\n  154,\n  158,\n  160,\n  163,\n  166],\n 'crack': [1, 146],\n 'gatsbys': [1],\n 'nouveau': [1],\n 'riche': [1],\n 'existence': [1, 36, 39, 50, 67, 81, 162],\n 'obsession': [1],\n 'madness': [1, 123],\n 'tragedy': [1, 64, 145],\n 'awaitanonymous': [1],\n 'new': [1,\n  6,\n  7,\n  8,\n  9,\n  10,\n  13,\n  15,\n  21,\n  25,\n  30,\n  34,\n  35,\n  38,\n  39,\n  40,\n  45,\n  54,\n  55,\n  62,\n  74,\n  75,\n  84,\n  90,\n  92,\n  99,\n  103,\n  105,\n  106,\n  111,\n  113,\n  114,\n  125,\n  127,\n  131,\n  133,\n  136,\n  140,\n  146,\n  147,\n  158,\n  160,\n  165],\n 'york1929': [1],\n 'bondseller': [1],\n 'sanitarium': [1],\n 'depression': [1],\n 'alcoholism': [1],\n 'persuade': [1, 145],\n 'doctor': [1, 68, 82, 121, 129, 141],\n 'write': [1, 13, 124, 133, 146],\n 'therapeutic': [1],\n 'account': [1, 93],\n 'what': [1,\n  4,\n  5,\n  9,\n  20,\n  27,\n  33,\n  38,\n  40,\n  45,\n  47,\n  54,\n  65,\n  66,\n  67,\n  79,\n  85,\n  89,\n  99,\n  101,\n  109,\n  116,\n  123,\n  129,\n  130,\n  136,\n  138,\n  146,\n  150,\n  151,\n  160],\n 'put': [1, 20, 28, 57, 72, 82, 90, 94, 130],\n 'there': [1, 24, 31, 68, 74, 77, 111, 129, 130, 138, 148, 158],\n 'nicks': [1],\n 'journal': [1, 108, 148],\n 'describe': [1, 138],\n 'how': [1, 20, 33, 60, 62, 75, 80, 85, 99, 106, 109, 125, 131, 160, 162],\n 'seven': [1, 19, 116],\n 'year': [1,\n  10,\n  20,\n  25,\n  29,\n  33,\n  36,\n  38,\n  40,\n  55,\n  63,\n  64,\n  70,\n  73,\n  78,\n  84,\n  98,\n  99,\n  102,\n  106,\n  107,\n  111,\n  116,\n  123,\n  124,\n  128,\n  129,\n  132,\n  138,\n  141,\n  142,\n  145,\n  146,\n  147,\n  148,\n  158,\n  160,\n  162,\n  163],\n 'early': [1, 21, 38, 62, 64, 66, 79, 80, 99, 108, 121, 125, 134, 138, 156],\n 'have': [1,\n  2,\n  3,\n  6,\n  12,\n  13,\n  15,\n  17,\n  18,\n  20,\n  22,\n  24,\n  25,\n  30,\n  31,\n  33,\n  34,\n  36,\n  38,\n  39,\n  40,\n  42,\n  45,\n  50,\n  53,\n  54,\n  55,\n  57,\n  59,\n  63,\n  69,\n  72,\n  74,\n  76,\n  77,\n  78,\n  79,\n  80,\n  81,\n  83,\n  87,\n  92,\n  94,\n  98,\n  99,\n  100,\n  101,\n  102,\n  103,\n  106,\n  111,\n  114,\n  117,\n  120,\n  121,\n  124,\n  126,\n  128,\n  129,\n  130,\n  133,\n  136,\n  138,\n  140,\n  141,\n  142,\n  143,\n  145,\n  146,\n  148,\n  154,\n  156,\n  158,\n  159,\n  160,\n  161,\n  162,\n  164,\n  165],\n 'move': [1, 7, 15, 35, 38, 40, 45, 67, 114, 160],\n 'tiny': [1],\n 'house': [1, 40, 55, 75, 116, 146, 160, 166],\n 'on': [1,\n  4,\n  6,\n  7,\n  11,\n  16,\n  20,\n  21,\n  31,\n  32,\n  33,\n  38,\n  39,\n  40,\n  42,\n  46,\n  50,\n  52,\n  55,\n  57,\n  58,\n  59,\n  61,\n  62,\n  63,\n  64,\n  65,\n  66,\n  68,\n  70,\n  72,\n  75,\n  77,\n  78,\n  80,\n  83,\n  84,\n  85,\n  87,\n  88,\n  90,\n  93,\n  98,\n  99,\n  104,\n  106,\n  107,\n  108,\n  109,\n  110,\n  111,\n  112,\n  113,\n  115,\n  116,\n  117,\n  118,\n  120,\n  121,\n  124,\n  127,\n  129,\n  130,\n  133,\n  135,\n  136,\n  137,\n  138,\n  140,\n  141,\n  142,\n  143,\n  144,\n  145,\n  146,\n  147,\n  148,\n  153,\n  162,\n  163,\n  164,\n  166],\n 'island': [1, 68, 69, 87, 90, 98, 142],\n 'adjoin': [1],\n 'sumptuous': [1],\n 'mansion': [1, 5],\n 'own': [1,\n  28,\n  40,\n  50,\n  56,\n  58,\n  59,\n  66,\n  68,\n  80,\n  87,\n  92,\n  101,\n  102,\n  114,\n  130,\n  133,\n  135,\n  141,\n  142,\n  146,\n  148,\n  151,\n  162,\n  164,\n  165],\n 'enigmatic': [1, 73, 148],\n 'neighbour': [1],\n 'fabulously': [1],\n 'wealthy': [1, 5, 77, 79, 88, 159],\n 'after': [1,\n  4,\n  8,\n  10,\n  20,\n  29,\n  37,\n  40,\n  41,\n  47,\n  56,\n  63,\n  64,\n  65,\n  71,\n  74,\n  76,\n  90,\n  93,\n  104,\n  106,\n  112,\n  114,\n  116,\n  117,\n  120,\n  126,\n  128,\n  133,\n  142,\n  146,\n  148,\n  159,\n  164],\n 'attend': [1, 14],\n 'one': [1,\n  15,\n  19,\n  20,\n  22,\n  24,\n  30,\n  35,\n  38,\n  39,\n  43,\n  44,\n  48,\n  49,\n  52,\n  57,\n  66,\n  72,\n  73,\n  77,\n  81,\n  84,\n  89,\n  94,\n  106,\n  109,\n  111,\n  117,\n  118,\n  119,\n  120,\n  124,\n  125,\n  128,\n  129,\n  136,\n  140,\n  141,\n  142,\n  144,\n  148,\n  153,\n  156,\n  159,\n  166],\n 'legendary': [1, 17, 30, 86, 122, 142],\n 'party': [1, 45, 58, 62, 73, 74],\n 'ask': [1, 12, 20, 33, 77, 81, 83, 85, 94, 116],\n 'arrange': [1, 125],\n 'meeting': [1, 33, 84, 99],\n 'cousin': [1, 74],\n 'daisy': [1],\n 'now': [1,\n  2,\n  15,\n  25,\n  28,\n  30,\n  40,\n  45,\n  53,\n  63,\n  69,\n  89,\n  94,\n  99,\n  111,\n  116,\n  120,\n  121,\n  128,\n  129,\n  142,\n  146,\n  148,\n  158,\n  160],\n 'marry': [1, 74, 101, 159],\n 'brutish': [1],\n 'philander': [1],\n 'tom': [1, 72],\n 'buchanan': [1],\n 'who': [1,\n  2,\n  9,\n  11,\n  12,\n  13,\n  18,\n  19,\n  20,\n  25,\n  27,\n  28,\n  29,\n  30,\n  31,\n  35,\n  37,\n  38,\n  40,\n  44,\n  45,\n  47,\n  48,\n  52,\n  63,\n  65,\n  66,\n  70,\n  72,\n  74,\n  75,\n  77,\n  79,\n  81,\n  82,\n  86,\n  89,\n  91,\n  92,\n  93,\n  98,\n  99,\n  101,\n  103,\n  104,\n  106,\n  108,\n  109,\n  110,\n  111,\n  117,\n  120,\n  124,\n  125,\n  129,\n  130,\n  133,\n  136,\n  140,\n  141,\n  142,\n  146,\n  148,\n  151,\n  154,\n  158,\n  159,\n  161,\n  163,\n  164,\n  165],\n 'true': [1, 2, 11, 38, 82, 84, 93, 140, 147],\n 'love': [1,\n  10,\n  13,\n  14,\n  15,\n  26,\n  28,\n  38,\n  40,\n  44,\n  45,\n  51,\n  53,\n  57,\n  77,\n  85,\n  99,\n  100,\n  102,\n  141,\n  144,\n  146,\n  148,\n  157,\n  159,\n  163],\n 'prior': [1],\n 'war': [1,\n  9,\n  31,\n  47,\n  74,\n  84,\n  86,\n  104,\n  108,\n  110,\n  111,\n  116,\n  118,\n  121,\n  124,\n  129,\n  140,\n  143,\n  155,\n  156],\n 'service': [1, 13],\n 'complie': [1],\n 'come': [1,\n  6,\n  7,\n  15,\n  19,\n  27,\n  33,\n  37,\n  38,\n  45,\n  54,\n  57,\n  62,\n  79,\n  103,\n  106,\n  114,\n  128,\n  135,\n  136,\n  141,\n  142,\n  145,\n  164],\n 'that': [1,\n  4,\n  6,\n  7,\n  10,\n  13,\n  15,\n  20,\n  24,\n  25,\n  28,\n  29,\n  30,\n  31,\n  33,\n  34,\n  37,\n  38,\n  40,\n  43,\n  45,\n  50,\n  52,\n  53,\n  55,\n  57,\n  59,\n  61,\n  62,\n  63,\n  65,\n  73,\n  74,\n  76,\n  77,\n  78,\n  79,\n  80,\n  83,\n  85,\n  87,\n  88,\n  89,\n  90,\n  94,\n  96,\n  98,\n  99,\n  100,\n  101,\n  105,\n  106,\n  108,\n  109,\n  111,\n  112,\n  114,\n  116,\n  117,\n  118,\n  120,\n  123,\n  125,\n  127,\n  128,\n  130,\n  133,\n  134,\n  135,\n  136,\n  138,\n  140,\n  141,\n  142,\n  143,\n  146,\n  148,\n  149,\n  154,\n  157,\n  159,\n  161,\n  162,\n  164,\n  165,\n  166],\n 'once': [1, 18, 38, 40, 44, 47, 54, 99, 106, 116, 158],\n 'poor': [1, 6, 53, 101, 117],\n 'boy': [1,\n  6,\n  25,\n  44,\n  45,\n  55,\n  56,\n  65,\n  86,\n  87,\n  90,\n  111,\n  117,\n  138,\n  142,\n  148,\n  158],\n 'recreate': [1],\n 'fascinating': [1, 108],\n 'purely': [1],\n 'win': [1, 13, 91, 116, 128, 129, 138, 165],\n 'back': [1,\n  7,\n  15,\n  21,\n  25,\n  26,\n  30,\n  38,\n  45,\n  49,\n  53,\n  60,\n  89,\n  90,\n  98,\n  99,\n  102,\n  113,\n  116,\n  120,\n  121,\n  123,\n  125,\n  128,\n  135,\n  136,\n  140,\n  141,\n  165],\n 'drunken': [1],\n 'afternoon': [1],\n 'conspire': [1],\n 'bring': [1,\n  6,\n  21,\n  30,\n  43,\n  54,\n  66,\n  68,\n  87,\n  111,\n  120,\n  124,\n  127,\n  128,\n  133,\n  135,\n  140,\n  146,\n  149,\n  160,\n  163],\n 'ending': [1, 57],\n 'which': [1,\n  9,\n  20,\n  33,\n  35,\n  36,\n  38,\n  40,\n  41,\n  42,\n  50,\n  71,\n  73,\n  79,\n  94,\n  99,\n  107,\n  109,\n  117,\n  118,\n  120,\n  123,\n  125,\n  130,\n  135,\n  136,\n  151,\n  152,\n  155,\n  159,\n  166],\n 'anything': [1, 56, 57, 129, 130, 138, 142],\n 'happydon': [1],\n ' ': [1,\n  19,\n  26,\n  31,\n  64,\n  65,\n  68,\n  75,\n  78,\n  86,\n  103,\n  106,\n  110,\n  120,\n  129,\n  130,\n  138,\n  140,\n  146,\n  159,\n  162,\n  164],\n 'minifie1': [1],\n 'midwest': [1, 75],\n 'native': [1, 104, 111],\n 'arrive': [1, 38, 74, 77, 164],\n '1922': [1],\n 'york': [1, 6, 9, 30, 34, 84, 99, 131, 136, 146, 147],\n 'wouldbe': [1],\n 'nextdoor': [1],\n 'bay': [1],\n 'her': [1,\n  3,\n  13,\n  20,\n  21,\n  25,\n  32,\n  38,\n  40,\n  50,\n  53,\n  63,\n  65,\n  70,\n  74,\n  75,\n  77,\n  79,\n  80,\n  89,\n  97,\n  101,\n  102,\n  103,\n  111,\n  120,\n  136,\n  140,\n  141,\n  146,\n  158,\n  159,\n  164],\n 'husband': [1, 40, 77, 129, 140],\n 'joel': [1, 53],\n 'edgerton': [1],\n 'thus': [1, 20, 57],\n 'becomes': [1, 31, 40],\n 'captivate': [1],\n 'bear': [1, 42, 49, 98, 127, 140],\n 'witness': [1, 18, 61, 124, 128],\n 'illusion': [1],\n 'deceit': [1, 83, 121],\n 'pen': [1],\n 'tale': [1, 48, 56, 100, 108, 123, 140, 160],\n 'impossible': [1, 15],\n 'tragedyjwelch5742': [1],\n 'its': [1,\n  15,\n  16,\n  20,\n  25,\n  41,\n  43,\n  49,\n  59,\n  67,\n  75,\n  80,\n  89,\n  90,\n  99,\n  108,\n  111,\n  118,\n  124,\n  130,\n  135,\n  142,\n  146,\n  147,\n  148,\n  158,\n  163,\n  164],\n 'spring': [1, 147],\n 'wideeye': [1],\n 'tobey': [1],\n 'maguire': [1],\n 'just': [1, 37, 80, 111, 140, 141, 146, 148, 158],\n 'city': [1,\n  4,\n  6,\n  10,\n  41,\n  60,\n  75,\n  89,\n  101,\n  110,\n  121,\n  126,\n  127,\n  128,\n  135,\n  136,\n  140,\n  146,\n  147],\n 'pursuit': [1, 72, 82],\n 'settle': [1, 33, 146],\n 'home': [1, 3, 21, 37, 40, 60, 77, 114, 118, 123, 124, 142, 162],\n 'next': [1, 19, 40, 85, 116, 138],\n 'door': [1, 40, 89, 109, 140],\n 'leonardo': [1],\n 'dicaprio': [1],\n 'grow': [1, 2, 6, 27, 62, 72, 75, 83, 106, 127, 146, 158],\n 'increasingly': [1, 127],\n 'fascinate': [1],\n 'elaborate': [1, 62, 67],\n 'hold': [1, 3, 7, 23, 36, 58, 109, 128],\n 'at': [1,\n  5,\n  6,\n  9,\n  11,\n  15,\n  19,\n  20,\n  22,\n  30,\n  33,\n  34,\n  38,\n  40,\n  52,\n  54,\n  57,\n  58,\n  61,\n  65,\n  66,\n  69,\n  73,\n  74,\n  76,\n  77,\n  79,\n  80,\n  81,\n  86,\n  90,\n  91,\n  94,\n  95,\n  97,\n  99,\n  106,\n  107,\n  108,\n  109,\n  110,\n  114,\n  117,\n  118,\n  120,\n  123,\n  128,\n  130,\n  132,\n  138,\n  140,\n  141,\n  145,\n  146,\n  148,\n  151,\n  158,\n  159,\n  160,\n  163],\n 'estate': [1, 40, 138, 159],\n 'meanwhile': [1, 50, 72, 73, 77, 97, 116, 141, 158],\n 'carey': [1],\n 'mulligan': [1],\n 'flounder': [1],\n 'marriage': [1, 77, 161],\n 'aristocrat': [1],\n 'inspire': [1, 13, 151],\n 'debauchery': [1, 116],\n 'display': [1],\n 'wild': [1, 67],\n 'life': [1,\n  2,\n  7,\n  8,\n  12,\n  13,\n  14,\n  15,\n  17,\n  24,\n  31,\n  33,\n  38,\n  40,\n  44,\n  45,\n  53,\n  57,\n  61,\n  64,\n  66,\n  67,\n  70,\n  71,\n  75,\n  76,\n  78,\n  80,\n  81,\n  84,\n  92,\n  93,\n  98,\n  99,\n  100,\n  102,\n  103,\n  105,\n  106,\n  109,\n  114,\n  117,\n  118,\n  122,\n  124,\n  125,\n  127,\n  130,\n  131,\n  132,\n  136,\n  137,\n  141,\n  142,\n  145,\n  146,\n  150,\n  151,\n  157,\n  160,\n  162,\n  166],\n 'elite': [1, 142],\n 'begin': [1,\n  6,\n  10,\n  25,\n  34,\n  44,\n  52,\n  53,\n  55,\n  61,\n  68,\n  70,\n  72,\n  74,\n  83,\n  87,\n  97,\n  101,\n  106,\n  111,\n  120,\n  133,\n  141,\n  142,\n  148,\n  151,\n  164],\n 'paper': [1, 130],\n 'it': [1,\n  2,\n  9,\n  11,\n  15,\n  30,\n  31,\n  36,\n  38,\n  50,\n  54,\n  60,\n  64,\n  66,\n  69,\n  73,\n  76,\n  79,\n  82,\n  87,\n  88,\n  94,\n  98,\n  99,\n  103,\n  104,\n  106,\n  111,\n  120,\n  123,\n  124,\n  125,\n  127,\n  128,\n  129,\n  130,\n  133,\n  134,\n  135,\n  136,\n  138,\n  141,\n  146,\n  148,\n  154,\n  157,\n  158,\n  159,\n  160,\n  162,\n  163,\n  164],\n 'gradually': [1, 53, 73, 104, 164],\n 'become': [1,\n  5,\n  6,\n  10,\n  11,\n  14,\n  25,\n  27,\n  29,\n  30,\n  31,\n  32,\n  33,\n  38,\n  45,\n  46,\n  50,\n  69,\n  73,\n  86,\n  91,\n  96,\n  103,\n  106,\n  109,\n  116,\n  117,\n  120,\n  125,\n  126,\n  135,\n  142,\n  146,\n  147,\n  158,\n  160],\n 'clear': [1, 30, 31, 40, 135],\n 'share': [1, 121, 128, 138, 146],\n 'complicated': [1, 106, 145],\n 'romantic': [1, 99],\n 'remain': [1, 19, 27, 47, 52, 72, 76, 90, 94, 116, 145],\n 'unresolved': [1],\n 'decadence': [1],\n 'ebullience': [1],\n 'await': [1],\n 'innocent': [1, 117],\n 'aspire': [1, 20, 40, 42, 81, 142],\n 'cinematic': [1],\n 'great': [1,\n  7,\n  20,\n  33,\n  49,\n  71,\n  81,\n  90,\n  96,\n  98,\n  109,\n  111,\n  116,\n  120,\n  123,\n  124,\n  128,\n  136,\n  148,\n  157,\n  162],\n 'little': [1, 14, 45, 49, 63, 100, 101, 146, 148],\n 'cottage': [1],\n 'during': [1, 2, 15, 26, 31, 32, 40, 54, 103, 104, 108, 109, 120, 136, 164],\n 'roaring': [1],\n 'twenties': [1],\n 'elusive': [1],\n 'instead': [1, 15, 52, 74, 87],\n 'humble': [1],\n 'strike': [1, 60, 111, 116],\n 'acquaintance': [1],\n 'mysterious': [1, 10, 46, 73, 87, 98, 102, 115, 116, 133, 141, 148, 164],\n 'selfmade': [1],\n 'whose': [1, 6, 66, 68, 90, 94, 120, 133, 142, 159],\n 'extravagant': [1],\n 'bacchanalian': [1],\n 'gathering': [1],\n 'talk': [1, 20, 55, 99],\n 'west': [1, 20, 110, 166],\n 'egg': [1],\n 'instantly': [1],\n 'fabulous': [1],\n 'dazzle': [1],\n 'nouveauriche': [1],\n 'entangle': [1],\n 'jays': [1],\n 'triangle': [1, 10],\n 'unrequited': [1],\n 'passion': [1, 96],\n 'former': [1, 37, 63, 78, 106, 116, 129, 135, 136, 145, 149],\n 'overpowering': [1],\n 'impulse': [1],\n 'fervent': [1],\n 'desire': [1, 28, 106, 116, 148],\n 'pave': [1],\n 'way': [1,\n  2,\n  8,\n  9,\n  13,\n  24,\n  37,\n  45,\n  46,\n  53,\n  54,\n  57,\n  62,\n  63,\n  71,\n  87,\n  92,\n  93,\n  94,\n  103,\n  104,\n  106,\n  123,\n  127,\n  133,\n  140,\n  146,\n  154,\n  159],\n 'bitter': [1, 129],\n 'heartbreak': [1],\n 'bloodsoake': [1],\n 'all': [1,\n  9,\n  11,\n  13,\n  20,\n  21,\n  38,\n  39,\n  40,\n  44,\n  49,\n  54,\n  56,\n  64,\n  66,\n  72,\n  75,\n  76,\n  77,\n  78,\n  79,\n  86,\n  106,\n  111,\n  116,\n  117,\n  122,\n  124,\n  128,\n  129,\n  131,\n  133,\n  136,\n  140,\n  141,\n  142,\n  143,\n  146,\n  149,\n  157,\n  158,\n  159,\n  161,\n  166],\n 'fleeting': [1],\n 'illusionnick': [1],\n 'riganas': [1],\n 'ambitious': [1, 67],\n 'stockbroker': [1, 125],\n 'befriend': [1, 8, 142, 146],\n 'beguile': [1],\n 'first': [1,\n  14,\n  19,\n  20,\n  25,\n  33,\n  40,\n  43,\n  73,\n  90,\n  94,\n  103,\n  107,\n  108,\n  114,\n  122,\n  129,\n  141,\n  147,\n  159,\n  160,\n  166],\n 'glitz': [1],\n 'glamour': [1],\n 'surrounding': [1, 60, 148],\n 'surprising': [1],\n 'chain': [1, 46],\n 'lead': [1,\n  39,\n  40,\n  44,\n  58,\n  62,\n  68,\n  70,\n  80,\n  81,\n  88,\n  104,\n  106,\n  109,\n  114,\n  116,\n  119,\n  121,\n  123,\n  125,\n  127,\n  135,\n  140,\n  146,\n  154,\n  158,\n  160,\n  164],\n 'utterly': [1, 53, 67],\n 'repel': [1],\n 'wreckless': [1],\n 'behaviour': [1],\n 'questionable': [1],\n 'moralsbecksykane': [1],\n 'dave': [2],\n 'hate': [2, 40, 146],\n 'eccentric': [2, 121, 136, 146, 164],\n 'friend': [2,\n  3,\n  13,\n  31,\n  32,\n  38,\n  50,\n  54,\n  55,\n  80,\n  81,\n  86,\n  89,\n  92,\n  103,\n  104,\n  116,\n  117,\n  120,\n  125,\n  127,\n  128,\n  136,\n  142,\n  146,\n  148,\n  151,\n  154,\n  157,\n  158,\n  159],\n 'quite': [2, 40, 130, 138, 159],\n 'happy': [2, 33, 146],\n 'bizarre': [2, 12, 121, 130, 135, 136, 165],\n 'struggle': [2,\n  3,\n  4,\n  7,\n  10,\n  28,\n  41,\n  48,\n  64,\n  72,\n  75,\n  84,\n  91,\n  141,\n  145,\n  146,\n  156,\n  160,\n  166],\n 'pull': [2, 15, 135],\n 'depressed': [2, 117],\n 'darkness': [2, 53, 116, 133, 135],\n 'want': [2,\n  9,\n  13,\n  33,\n  37,\n  40,\n  50,\n  54,\n  55,\n  66,\n  74,\n  81,\n  87,\n  88,\n  91,\n  94,\n  129,\n  133,\n  146,\n  148,\n  151,\n  158],\n 'everyone': [2, 58, 83, 88, 103, 160, 164],\n 'young': [2,\n  3,\n  6,\n  9,\n  20,\n  25,\n  27,\n  31,\n  44,\n  48,\n  54,\n  63,\n  65,\n  70,\n  80,\n  87,\n  90,\n  97,\n  101,\n  102,\n  108,\n  111,\n  117,\n  120,\n  121,\n  128,\n  129,\n  140,\n  142,\n  146,\n  147,\n  151,\n  158,\n  159,\n  164,\n  166],\n 'pushover': [2],\n 'bookworm': [2],\n 'up': [2,\n  10,\n  13,\n  27,\n  33,\n  37,\n  38,\n  39,\n  52,\n  53,\n  62,\n  63,\n  71,\n  75,\n  79,\n  87,\n  89,\n  91,\n  103,\n  106,\n  108,\n  109,\n  111,\n  120,\n  125,\n  127,\n  129,\n  130,\n  136,\n  143,\n  146,\n  150,\n  151,\n  153,\n  154,\n  158,\n  164,\n  165,\n  166],\n 'good': [2,\n  11,\n  13,\n  15,\n  33,\n  45,\n  75,\n  81,\n  89,\n  94,\n  99,\n  103,\n  110,\n  130,\n  133,\n  136,\n  142,\n  146,\n  150,\n  157,\n  158,\n  159],\n 'grade': [2],\n 'receive': [2, 21, 64, 65, 120, 126, 151],\n 'college': [2, 49, 77, 103, 146],\n 'degree': [2, 150],\n 'work': [2,\n  3,\n  20,\n  23,\n  33,\n  42,\n  54,\n  58,\n  61,\n  66,\n  77,\n  79,\n  91,\n  94,\n  106,\n  109,\n  114,\n  130,\n  135,\n  138,\n  141,\n  146,\n  151,\n  154,\n  160,\n  166],\n 'cubicle': [2],\n 'gas': [2, 11],\n 'station': [2, 76, 99, 109],\n 'worker': [2, 4, 130],\n 'video': [2, 38, 112, 165],\n 'game': [2, 20, 28, 116, 166],\n 'addicate': [2],\n 'secretareis': [2],\n 'stock': [2, 125, 138],\n 'broker': [2, 125],\n 'evil': [2, 51, 55, 60, 89, 98, 110, 111, 116, 133, 148, 164],\n 'fast': [2],\n 'food': [2, 101, 128, 129],\n 'mcducks': [2],\n 'corporate': [2, 15, 140],\n 'daves': [2],\n 'quest': [2, 44, 100, 111, 113, 117],\n 'happiness': [2, 7, 123, 146],\n 'trouble': [2, 18, 88, 125, 146, 154, 160, 161],\n 'arise': [2, 30, 109],\n 'when': [2,\n  9,\n  11,\n  12,\n  14,\n  15,\n  16,\n  17,\n  20,\n  21,\n  22,\n  25,\n  27,\n  31,\n  32,\n  38,\n  40,\n  44,\n  45,\n  52,\n  54,\n  60,\n  61,\n  62,\n  66,\n  74,\n  75,\n  77,\n  78,\n  79,\n  85,\n  88,\n  89,\n  90,\n  91,\n  95,\n  96,\n  98,\n  99,\n  101,\n  102,\n  103,\n  106,\n  109,\n  111,\n  116,\n  118,\n  120,\n  121,\n  123,\n  125,\n  129,\n  141,\n  142,\n  144,\n  145,\n  146,\n  147,\n  148,\n  160,\n  166],\n 'fall': [2, 26, 38, 40, 57, 79, 102, 125, 133, 148, 159],\n 'employee': [2, 40, 69, 73, 130],\n 'must': [2,\n  5,\n  17,\n  26,\n  27,\n  30,\n  31,\n  45,\n  47,\n  73,\n  78,\n  87,\n  111,\n  114,\n  117,\n  120,\n  129,\n  142,\n  146],\n 'within': [2, 7, 10, 15, 33, 48, 78, 128, 135, 142],\n 'most': [2,\n  8,\n  9,\n  15,\n  42,\n  50,\n  61,\n  75,\n  78,\n  86,\n  107,\n  111,\n  119,\n  121,\n  124,\n  131,\n  136,\n  140,\n  141,\n  143,\n  146,\n  149,\n  153,\n  155],\n 'entity': [2],\n 'while': [2,\n  7,\n  16,\n  19,\n  20,\n  27,\n  31,\n  34,\n  35,\n  40,\n  57,\n  58,\n  59,\n  71,\n  73,\n  76,\n  77,\n  78,\n  88,\n  97,\n  106,\n  116,\n  120,\n  125,\n  129,\n  130,\n  133,\n  135,\n  141,\n  146,\n  158,\n  159],\n 'fight': [2,\n  5,\n  12,\n  14,\n  21,\n  36,\n  39,\n  60,\n  78,\n  84,\n  87,\n  91,\n  109,\n  116,\n  124,\n  129,\n  133,\n  146,\n  147,\n  159],\n 'darknessmartin': [2],\n 'roger': [2],\n 'us': [3, 5, 20, 40, 68, 76, 108, 110, 124, 130, 143, 163, 164, 166],\n 'heartland': [3],\n 'follow': [3,\n  7,\n  9,\n  30,\n  46,\n  100,\n  106,\n  107,\n  109,\n  117,\n  125,\n  127,\n  130,\n  136,\n  138,\n  139,\n  142,\n  146,\n  160,\n  166],\n '2008': [3, 41],\n 'economic': [3],\n 'collapse': [3],\n 'recently': [3, 116, 121, 140],\n 'divorce': [3, 146],\n 'suburban': [3, 164],\n 'mother': [3, 6, 21, 45, 54, 90, 97, 114, 120, 128, 159],\n 'two': [3,\n  12,\n  14,\n  17,\n  19,\n  21,\n  29,\n  35,\n  52,\n  66,\n  69,\n  71,\n  72,\n  73,\n  78,\n  79,\n  85,\n  87,\n  88,\n  89,\n  92,\n  103,\n  106,\n  117,\n  120,\n  127,\n  128,\n  135,\n  138,\n  140,\n  144,\n  148,\n  158,\n  166],\n 'girl': [3, 40, 81, 89, 94, 101, 103, 117, 146, 158, 164],\n 'onto': [3, 57, 62, 123, 133, 136],\n 'usa': [3, 162],\n 'face': [3,\n  16,\n  25,\n  27,\n  47,\n  61,\n  72,\n  78,\n  80,\n  84,\n  111,\n  112,\n  122,\n  140,\n  143,\n  146,\n  151,\n  154],\n 'foreclosure': [3],\n 'inhibited': [3],\n 'dysfunctional': [3],\n 'family': [3,\n  6,\n  7,\n  9,\n  28,\n  45,\n  46,\n  66,\n  78,\n  80,\n  86,\n  96,\n  98,\n  103,\n  106,\n  116,\n  120,\n  126,\n  127,\n  140,\n  141,\n  146,\n  148,\n  163],\n 'she': [3,\n  20,\n  37,\n  38,\n  40,\n  50,\n  53,\n  58,\n  70,\n  73,\n  74,\n  75,\n  77,\n  81,\n  85,\n  94,\n  99,\n  103,\n  117,\n  120,\n  125,\n  129,\n  141,\n  146,\n  158,\n  159],\n 'few': [3, 12, 40, 52, 81, 110, 160],\n 'opportunity': [3, 7, 21, 141],\n 'connections': [3],\n 'community': [3, 62, 90, 103, 114],\n 'lay': [3],\n 'bare': [3],\n 'father': [3,\n  6,\n  27,\n  33,\n  40,\n  44,\n  59,\n  66,\n  71,\n  75,\n  78,\n  79,\n  80,\n  87,\n  92,\n  101,\n  102,\n  106,\n  114,\n  120,\n  133,\n  142,\n  146,\n  159],\n 'patriarch': [3],\n 'especially': [3, 20, 45, 50, 89, 136, 146, 165],\n 'painful': [3, 64],\n 'redemptionanonymous': [3],\n 'group': [4, 5, 14, 52, 58, 111, 122, 130, 134, 135, 136, 146, 158],\n 'criminal': [4,\n  10,\n  18,\n  30,\n  31,\n  57,\n  60,\n  68,\n  106,\n  121,\n  126,\n  133,\n  141,\n  142,\n  160,\n  163],\n 'justice': [4, 23, 56, 63, 133, 163],\n 'deescalation': [4],\n 'minneapolis': [4],\n 'embark': [4, 59, 63, 106, 117, 120],\n 'collaborative': [4],\n 'project': [4],\n 'use': [4, 39, 94, 106, 111, 120, 121, 133, 148, 150, 162],\n 'radical': [4, 68],\n 'workshop': [4],\n 'technique': [4, 120],\n 'explore': [4, 55, 106, 117, 124, 162],\n 'reallife': [4],\n 'escape': [4, 16, 18, 36, 37, 49, 58, 63, 68, 70, 76],\n 'pressure': [4, 80, 83, 141, 146],\n '2019': [4],\n 'theater': [4, 77],\n 'result': [4, 67, 109, 120],\n 'finish': [4],\n 'day': [4,\n  5,\n  12,\n  17,\n  21,\n  27,\n  38,\n  48,\n  70,\n  74,\n  79,\n  85,\n  94,\n  99,\n  108,\n  126,\n  128,\n  135,\n  142,\n  151,\n  156,\n  166],\n 'before': [4,\n  24,\n  28,\n  29,\n  38,\n  45,\n  68,\n  82,\n  85,\n  89,\n  103,\n  111,\n  112,\n  124,\n  138,\n  154,\n  160,\n  162],\n 'murder': [4, 20, 34, 72, 77, 79, 116, 121, 128, 135, 140, 141, 164],\n 'george': [4, 21, 116, 136, 143],\n 'floyd': [4, 140],\n 'capture': [4, 28, 73, 82, 110, 125, 130, 142, 163],\n 'lie': [4, 7, 62, 67, 83, 109],\n 'nightmare': [5, 80, 147],\n 'undocumented': [5],\n 'laborer': [5],\n 'hire': [5, 40, 52],\n 'couple': [5, 77, 117],\n 'expect': [5, 59, 123],\n 'big': [5,\n  50,\n  57,\n  63,\n  67,\n  78,\n  90,\n  91,\n  120,\n  125,\n  128,\n  138,\n  140,\n  141,\n  154,\n  164],\n 'payday': [5],\n 'turn': [5, 11, 20, 31, 50, 57, 61, 66, 79, 80, 85, 96, 103, 106, 129, 150],\n 'terrifying': [5, 156],\n 'survival': [5, 6, 24, 69, 84],\n 'beneath': [5, 96],\n 'play': [5, 20, 33, 45, 49, 77, 116, 121, 129, 143, 165, 166],\n 'lynn': [5, 124],\n 'collins': [5, 159],\n 'james': [5, 10, 21, 89, 126, 160],\n 'tupper': [5],\n 'hope': [5, 65, 90, 102, 111, 120, 128, 146, 147],\n 'seclude': [5],\n 'those': [5, 9, 59, 66, 109, 135, 141],\n 'think': [5, 13, 40, 68, 106, 118, 142, 148, 154],\n 'helpless': [5, 6],\n 'prove': [5, 7, 13, 46, 81, 106, 142, 163],\n 'can': [5,\n  13,\n  15,\n  20,\n  26,\n  33,\n  35,\n  36,\n  37,\n  38,\n  40,\n  43,\n  48,\n  57,\n  61,\n  74,\n  75,\n  76,\n  77,\n  87,\n  94,\n  106,\n  111,\n  116,\n  117,\n  120,\n  128,\n  129,\n  133,\n  136,\n  138,\n  140,\n  142,\n  148,\n  149,\n  161,\n  162],\n 'not': [5,\n  8,\n  9,\n  15,\n  25,\n  33,\n  37,\n  38,\n  40,\n  45,\n  49,\n  52,\n  57,\n  60,\n  73,\n  74,\n  77,\n  79,\n  81,\n  82,\n  84,\n  87,\n  90,\n  99,\n  103,\n  104,\n  106,\n  110,\n  114,\n  117,\n  118,\n  120,\n  128,\n  129,\n  130,\n  136,\n  138,\n  140,\n  141,\n  151,\n  159,\n  160,\n  161,\n  163,\n  164],\n 'discard': [5],\n 'so': [5,\n  20,\n  26,\n  28,\n  37,\n  38,\n  49,\n  50,\n  61,\n  62,\n  74,\n  77,\n  85,\n  87,\n  92,\n  116,\n  117,\n  138,\n  140,\n  146,\n  149,\n  159],\n 'easily': [5, 91, 146],\n 'coming': [6],\n 'age': [6, 12, 28, 111, 114],\n 'story': [6,\n  11,\n  35,\n  46,\n  66,\n  82,\n  84,\n  86,\n  93,\n  97,\n  103,\n  108,\n  109,\n  116,\n  118,\n  121,\n  124,\n  125,\n  127,\n  128,\n  135,\n  142,\n  143,\n  145,\n  147,\n  151,\n  156,\n  158,\n  160,\n  162,\n  163,\n  164],\n 'russian': [6],\n 'immigrant': [6],\n 'daanyik': [6],\n 'nine': [6, 99, 116],\n 'yearold': [6, 117],\n 'immigrate': [6],\n 'united': [6, 21, 33, 73, 84, 108, 124],\n 'states': [6, 21, 33, 84, 108, 124],\n 'late': [6, 64],\n 'nineteenseventie': [6],\n 'pursue': [6, 80, 94, 142, 151],\n 'daanyiks': [6],\n 'childhood': [6, 13, 55, 116],\n 'pencil': [6],\n 'drawing': [6],\n 'toy': [6, 45, 49, 53],\n 'soldier': [6, 108, 124, 155],\n 'battle': [6, 25, 51, 78, 86, 87, 98, 106, 116, 118, 126, 133, 143, 148, 166],\n 'moscow': [6],\n 'interrupt': [6],\n 'overnight': [6],\n 'hurl': [6],\n 'harsh': [6, 160],\n 'reality': [6, 17, 39, 66, 67, 133, 140, 162, 166],\n 'adulthood': [6],\n 'upon': [6, 7, 70, 111, 120, 121, 133, 142, 144],\n 'lose': [6, 12, 44, 45, 50, 71, 106, 111, 120, 124, 129, 141, 142, 145, 146],\n 'deema': [6],\n 'meela': [6],\n 'leave': [6, 7, 13, 28, 30, 38, 54, 106, 120, 135, 142, 160],\n 'alone': [6, 25, 38, 104, 111, 141],\n 'foreign': [6, 125],\n 'land': [6, 46, 66, 116, 128, 142],\n 'desperation': [6],\n 'relationship': [6, 127, 146, 154],\n 'tolik': [6],\n 'abusive': [6, 117],\n 'may': [6, 9, 20, 24, 33, 34, 47, 116, 123, 146, 160],\n 'hand': [6, 58, 80, 116, 130, 141],\n 'deemas': [6],\n 'death': [6, 22, 28, 32, 40, 63, 114, 123, 135, 138, 140, 142, 143],\n 'trap': [6, 36, 63, 120, 123, 147, 148],\n 'precarious': [6, 154],\n 'web': [6, 164],\n 'torment': [6],\n 'stepfather': [6],\n 'lecherous': [6],\n 'rabbi': [6],\n 'neighborhood': [6, 40, 154],\n 'bully': [6, 158],\n 'source': [6, 99, 124, 125, 128, 136],\n 'comfort': [6, 146],\n 'catharsis': [6],\n 'fiercer': [6],\n 'tender': [6],\n 'overcome': [6],\n 'insurmountable': [6],\n 'odd': [6, 129],\n 'save': [6, 11, 28, 31, 51, 98, 111, 116, 120, 126, 155],\n 'complete': [6, 146, 157],\n 'destructionanonymous': [6],\n 'promise': [7],\n 'jancsi': [7],\n 'major': [7, 66, 106, 108, 118, 122, 140, 143],\n 'whirlwind': [7],\n 'budapest': [7, 85],\n 'arrival': [7, 159],\n 'immediately': [7, 40, 102],\n 'step': [7, 72],\n 'mirage': [7],\n 'wealth': [7, 62, 123],\n 'themselves': [7, 31, 49, 103, 120, 123, 128, 142, 143],\n 'outskirt': [7, 129],\n 'pack': [7],\n 'grandpa': [7],\n 'jenos': [7],\n 'doublewide': [7],\n 'trailer': [7],\n 'assimilate': [7, 76],\n 'facetoface': [7],\n 'bond': [7, 73, 85, 120, 127],\n 'together': [7,\n  12,\n  14,\n  18,\n  23,\n  30,\n  46,\n  57,\n  61,\n  73,\n  80,\n  85,\n  99,\n  111,\n  117,\n  120,\n  121,\n  129,\n  135,\n  136,\n  140,\n  145],\n 'force': [7, 10, 16, 31, 41, 56, 58, 78, 80, 94, 98, 101, 106, 128, 148, 166],\n 'try': [7,\n  20,\n  25,\n  29,\n  32,\n  37,\n  38,\n  40,\n  44,\n  45,\n  57,\n  66,\n  71,\n  75,\n  76,\n  79,\n  91,\n  106,\n  109,\n  120,\n  123,\n  129,\n  130,\n  133,\n  138,\n  148,\n  154,\n  160,\n  161,\n  166],\n 'push': [7, 68],\n 'apart': [7, 9, 78, 116, 127],\n 'end': [7, 13, 32, 53, 65, 78, 99, 106, 108, 117, 120, 145, 146, 148],\n 'we': [7, 11, 19, 29, 75, 113, 114, 136, 141, 146, 148, 153, 160, 162, 166],\n 'never': [7, 33, 39, 77, 79, 112, 117, 124, 136, 146, 161],\n 'truly': [7, 40],\n 'behind': [7, 20, 40, 43, 46, 56, 63, 72, 82, 108, 109, 125, 135],\n 'woman': [7,\n  20,\n  33,\n  74,\n  102,\n  103,\n  104,\n  109,\n  136,\n  141,\n  145,\n  146,\n  159,\n  161,\n  164],\n 'continue': [7, 39, 103, 106, 136],\n 'cultivate': [7],\n 'plight': [7],\n 'universal': [7, 123],\n 'truth': [7, 17, 56, 67, 109, 120],\n 'obstacle': [7, 133, 146],\n 'achieve': [7, 33, 66, 133],\n 'personal': [7, 10, 57, 68, 114, 135, 146, 165, 166],\n 'ourselves': [7],\n 'chronicle': [8, 35, 108, 110, 140, 158],\n 'experience': [8, 64, 90, 108, 109, 143, 146, 150],\n 'formerly': [8, 149],\n 'successful': [8, 32, 130, 136, 138, 146, 157],\n 'banker': [8],\n 'prisoner': [8, 22, 102, 109],\n 'gloomy': [8],\n 'jailhouse': [8],\n 'shawshank': [8],\n 'guilty': [8, 30],\n 'crime': [8,\n  15,\n  19,\n  29,\n  31,\n  41,\n  52,\n  56,\n  63,\n  72,\n  77,\n  106,\n  110,\n  121,\n  126,\n  127,\n  140,\n  141,\n  145,\n  147,\n  163],\n 'do': [8,\n  9,\n  25,\n  29,\n  33,\n  38,\n  40,\n  45,\n  49,\n  53,\n  54,\n  56,\n  60,\n  61,\n  62,\n  65,\n  66,\n  67,\n  74,\n  76,\n  77,\n  79,\n  83,\n  85,\n  87,\n  90,\n  92,\n  100,\n  101,\n  108,\n  111,\n  123,\n  128,\n  129,\n  130,\n  135,\n  136,\n  141,\n  142,\n  148,\n  149,\n  150,\n  160],\n 'commit': [8, 29, 125, 141],\n 'portray': [8],\n 'unique': [8, 43],\n 'deal': [8, 54, 74, 97, 111, 114, 138, 144],\n 'torturous': [8],\n 'along': [8, 20, 37, 44, 46, 50, 52, 55, 61, 63, 69, 92, 93, 100, 103, 149],\n 'number': [8, 73, 109, 138, 140],\n 'fellow': [8, 129],\n 'notably': [8],\n 'wise': [8, 138],\n 'longterm': [8],\n 'inmate': [8, 18],\n 'godfather': [9],\n 'don': [9, 61],\n 'vito': [9],\n 'corleone': [9],\n 'head': [9, 60, 63, 80, 130, 145, 163],\n 'mafia': [9, 114],\n 'daughter': [9, 20, 80, 81, 97, 100, 114, 117, 141, 166],\n 'wed': [9],\n 'michael': [9, 119, 130, 136, 147],\n 'vitos': [9],\n 'son': [9, 25, 28, 40, 50, 65, 66, 71, 87, 106, 111, 120, 126, 140, 142],\n 'decorate': [9],\n 'ww': [9],\n 'ii': [9, 108, 118, 156],\n 'marine': [9, 40, 78],\n 'also': [9,\n  12,\n  15,\n  20,\n  25,\n  40,\n  54,\n  66,\n  99,\n  108,\n  110,\n  116,\n  117,\n  118,\n  121,\n  125,\n  129,\n  130,\n  131,\n  138,\n  142,\n  146,\n  159,\n  160,\n  166],\n 'present': [9, 66, 72, 114, 128, 135, 152, 155, 157],\n 'wedding': [9, 70, 83, 146],\n 'seem': [9, 14, 15, 79, 88, 128, 129, 161, 164],\n 'uninterested': [9],\n 'business': [9, 40, 66, 90, 106, 114, 116, 125, 140, 150, 166],\n 'powerful': [9, 25, 28, 38, 94, 116],\n 'kind': [9, 43, 136],\n 'give': [9, 15, 21, 38, 40, 45, 52, 53, 77, 93, 106, 109, 114, 129, 151],\n 'respect': [9, 61, 104],\n 'ruthless': [9, 45, 111],\n 'against': [9,\n  10,\n  17,\n  18,\n  23,\n  25,\n  30,\n  44,\n  86,\n  87,\n  92,\n  111,\n  116,\n  126,\n  133,\n  162],\n 'treacherous': [9, 15],\n 'rival': [9, 32, 72, 89],\n 'sell': [9, 37, 38, 56, 84, 106, 138],\n 'need': [9, 27, 37, 63, 66, 77, 79, 90, 111, 146, 166],\n 'dons': [9],\n 'influence': [9, 29, 30, 110, 112, 129],\n 'refuse': [9, 68, 81, 94, 114],\n 'clash': [9, 61, 66, 130],\n 'between': [9, 10, 20, 73, 86, 91, 110, 111, 116, 117, 127, 133, 146, 159],\n 'fade': [9, 53],\n 'old': [9,\n  33,\n  63,\n  92,\n  94,\n  97,\n  106,\n  111,\n  116,\n  117,\n  120,\n  123,\n  128,\n  138,\n  145,\n  146,\n  148,\n  158,\n  159],\n 'value': [9],\n 'cause': [9, 117, 118, 120, 125, 143],\n 'reluctant': [9, 73, 111],\n 'wage': [9, 31, 78],\n 'mob': [9, 12, 31, 114, 140],\n 'other': [9,\n  18,\n  31,\n  32,\n  33,\n  35,\n  40,\n  44,\n  52,\n  61,\n  62,\n  71,\n  72,\n  76,\n  92,\n  99,\n  111,\n  116,\n  120,\n  122,\n  124,\n  135,\n  136,\n  138,\n  141,\n  142,\n  146,\n  148,\n  154,\n  163,\n  164],\n 'could': [9, 15, 50, 76, 111, 116, 120, 136, 142, 146, 154, 157, 163],\n 'tear': [9, 78, 116, 127, 146],\n 'batman': [10, 41, 60, 126],\n 'begins': [10],\n '2005': [10, 130],\n 'lieutenant': [10],\n 'gordon': [10, 126],\n 'district': [10, 128, 141],\n 'harvey': [10],\n 'dent': [10],\n 'successfully': [10, 20, 82, 120],\n 'round': [10, 146, 151],\n 'plague': [10, 87, 163],\n 'gotham': [10, 60, 126],\n 'until': [10, 28, 48, 56, 73, 99, 108, 138, 162],\n 'sadistic': [10],\n 'mastermind': [10, 30],\n 'joker': [10],\n 'appear': [10, 40, 94, 114, 128, 136],\n 'create': [10, 13, 33, 40, 69, 106, 128, 133, 144, 146, 154],\n 'wave': [10, 95],\n 'chaos': [10, 47, 109],\n 'batmans': [10],\n 'deeply': [10, 31, 66, 141],\n 'confront': [10, 17, 40, 78],\n 'everything': [10, 15, 20, 39, 54, 68, 69, 73, 74, 111, 123, 165],\n 'believe': [10, 33, 45, 111, 135, 142, 146],\n 'improve': [10, 106],\n 'technology': [10, 69, 162],\n 'stop': [10, 17, 53, 99, 111, 133, 162],\n 'develop': [10, 50, 85, 106],\n 'bruce': [10, 12, 44, 60, 65, 126],\n 'wayne': [10, 60, 126, 136],\n 'rachel': [10, 135, 146],\n 'dawes': [10],\n 'oskar': [11],\n 'schindler': [11],\n 'vain': [11],\n 'greedy': [11],\n 'german': [11, 156],\n 'businessman': [11, 90, 159],\n 'unlikely': [11, 78, 96, 103],\n 'humanitarian': [11],\n 'amid': [11],\n 'barbaric': [11],\n 'nazi': [11],\n 'reign': [11],\n 'feels': [11, 41],\n 'compel': [11, 41],\n 'factory': [11],\n 'refuge': [11],\n 'jews': [11],\n 'base': [11,\n  33,\n  76,\n  84,\n  93,\n  106,\n  108,\n  116,\n  130,\n  138,\n  142,\n  144,\n  146,\n  147,\n  148],\n 'manage': [11, 54, 120, 130],\n '1100': [11],\n 'auschwitz': [11],\n 'concentration': [11, 108],\n 'camp': [11, 54, 108],\n 'testament': [11],\n 'jules': [12],\n 'winnfield': [12],\n 'samuel': [12],\n 'l': [12, 133],\n 'jackson': [12],\n 'vincent': [12, 57],\n 'vega': [12],\n 'john': [12, 19, 25, 58, 64, 69, 104, 116, 121, 130, 138, 143, 147, 149],\n 'travolta': [12],\n 'hit': [12, 62, 130],\n 'retrieve': [12, 20, 71, 77, 101],\n 'suitcase': [12],\n 'steal': [12, 15, 38, 69, 77, 101, 116, 127, 129],\n 'employer': [12, 72],\n 'boss': [12, 52, 89, 114, 130],\n 'marsellus': [12],\n 'wallace': [12, 44, 99],\n 'ving': [12],\n 'rhames': [12],\n 'take': [12,\n  19,\n  20,\n  38,\n  41,\n  42,\n  58,\n  65,\n  66,\n  72,\n  76,\n  80,\n  87,\n  94,\n  98,\n  102,\n  103,\n  107,\n  116,\n  117,\n  120,\n  124,\n  125,\n  128,\n  130,\n  132,\n  136,\n  140,\n  141,\n  142,\n  146,\n  153,\n  159,\n  160],\n 'wife': [12,\n  32,\n  34,\n  35,\n  37,\n  40,\n  58,\n  65,\n  77,\n  79,\n  83,\n  98,\n  106,\n  114,\n  141,\n  157,\n  161],\n 'mia': [12],\n 'uma': [12],\n 'thurman': [12],\n 'later': [12, 55, 70, 98, 102, 111, 138, 142, 145, 166],\n 'town': [12, 63, 87, 103, 120, 123, 130, 140, 148, 164],\n 'butch': [12],\n 'coolidge': [12],\n 'willis': [12, 65],\n 'boxer': [12, 81, 91],\n 'pay': [12, 30, 53, 79, 88, 120],\n 'these': [12, 42, 104, 108, 127, 129, 130, 133, 140, 144, 145, 146, 148, 166],\n 'seemingly': [12, 123, 126],\n 'unrelated': [12],\n 'people': [12,\n  13,\n  28,\n  38,\n  52,\n  65,\n  70,\n  85,\n  87,\n  104,\n  110,\n  111,\n  123,\n  124,\n  130,\n  133,\n  136,\n  145,\n  146,\n  147,\n  150,\n  160,\n  164,\n  166],\n 'weave': [12],\n 'comprise': [12],\n 'funny': [12, 130, 148, 165],\n 'uncalledfor': [12],\n 'incident': [12, 109, 147],\n 'forrest': [13],\n 'gump': [13],\n 'simple': [13],\n 'low': [13, 112, 142, 146],\n 'iq': [13],\n 'intention': [13, 52],\n 'run': [13, 31, 117, 129, 133, 139, 146, 148, 154, 161, 162, 166],\n 'jenny': [13],\n 'mama': [13],\n 'teach': [13, 57],\n 'choose': [13, 20, 28, 37, 74, 106, 111],\n 'destiny': [13, 111],\n 'join': [13, 33, 49, 56, 69, 87, 113, 116, 120, 128],\n 'army': [13, 21, 74, 108, 116, 120, 121, 129],\n 'vietnam': [13, 124, 140],\n 'call': [13,\n  25,\n  30,\n  36,\n  49,\n  62,\n  70,\n  77,\n  89,\n  120,\n  121,\n  127,\n  128,\n  129,\n  133,\n  145,\n  146,\n  160,\n  164],\n 'dan': [13],\n 'bubba': [13],\n 'medal': [13],\n 'famous': [13, 32, 86, 96, 98, 121, 127, 146],\n 'shrimp': [13],\n 'fishing': [13, 145],\n 'fleet': [13],\n 'jog': [13],\n 'start': [13, 33, 61, 62, 73, 75, 106, 108, 125, 128, 146, 151, 158, 160],\n 'pingpong': [13],\n 'smiley': [13],\n 'bumper': [13],\n 'sticker': [13],\n 'song': [13, 116, 146],\n 'donate': [13],\n 'meet': [13,\n  14,\n  26,\n  46,\n  48,\n  70,\n  71,\n  78,\n  85,\n  92,\n  99,\n  101,\n  104,\n  106,\n  142,\n  145,\n  148,\n  153,\n  160,\n  163],\n 'president': [13, 143, 166],\n 'several': [13, 72, 90, 116, 118, 128, 143, 148, 160],\n 'time': [13,\n  19,\n  20,\n  25,\n  26,\n  31,\n  33,\n  34,\n  35,\n  42,\n  50,\n  52,\n  65,\n  79,\n  85,\n  91,\n  94,\n  99,\n  101,\n  103,\n  106,\n  113,\n  117,\n  123,\n  125,\n  138,\n  142,\n  143,\n  146,\n  151,\n  157,\n  160,\n  162],\n 'this': [13,\n  15,\n  20,\n  25,\n  31,\n  33,\n  36,\n  38,\n  39,\n  40,\n  55,\n  56,\n  60,\n  65,\n  72,\n  76,\n  80,\n  86,\n  90,\n  91,\n  94,\n  99,\n  100,\n  106,\n  108,\n  109,\n  111,\n  112,\n  113,\n  114,\n  116,\n  120,\n  121,\n  123,\n  126,\n  127,\n  128,\n  129,\n  130,\n  131,\n  133,\n  136,\n  138,\n  141,\n  142,\n  143,\n  144,\n  146,\n  147,\n  148,\n  149,\n  150,\n  151,\n  157,\n  158,\n  160,\n  164,\n  165,\n  166],\n 'irrelevant': [13],\n 'sweetheart': [13],\n 'curran': [13],\n 'mess': [13, 38],\n 'although': [13, 40, 61, 75, 92, 99, 111, 140, 141],\n 'anyone': [13, 40, 76, 106, 111, 133, 159, 160],\n 'nameless': [14],\n 'person': [14, 114, 127, 128, 135, 142],\n 'narrator': [14],\n 'edward': [14, 44, 120, 145],\n 'norton': [14],\n 'support': [14, 108, 138, 146, 160],\n 'attempt': [14, 35, 69, 72, 79, 88, 116, 120, 121, 128, 139, 146],\n 'subdue': [14, 19],\n 'emotional': [14, 20, 33, 144],\n 'state': [14, 15, 31, 38, 50, 61, 73, 114, 120, 125, 135, 140, 151, 164],\n 'relieve': [14],\n 'insomniac': [14],\n 'marla': [14],\n 'helena': [14],\n 'bonham': [14],\n 'carter': [14],\n 'another': [14, 20, 25, 44, 59, 120, 128, 133, 136, 140, 148],\n 'fake': [14],\n 'attendee': [14],\n 'more': [14,\n  20,\n  25,\n  33,\n  35,\n  39,\n  40,\n  42,\n  43,\n  47,\n  62,\n  68,\n  79,\n  88,\n  103,\n  112,\n  117,\n  120,\n  121,\n  124,\n  133,\n  136,\n  142,\n  145,\n  148,\n  158,\n  164,\n  166],\n 'bearable': [14],\n 'associate': [14, 163],\n 'tyler': [14],\n 'brad': [14, 19],\n 'pitt': [14, 19],\n 'drag': [14],\n 'underground': [14, 73, 127],\n 'club': [14],\n 'soap': [14, 166],\n 'make': [14,\n  15,\n  18,\n  26,\n  31,\n  42,\n  44,\n  50,\n  54,\n  55,\n  64,\n  78,\n  82,\n  91,\n  94,\n  96,\n  100,\n  104,\n  106,\n  117,\n  120,\n  129,\n  130,\n  136,\n  138,\n  141,\n  143,\n  145,\n  146,\n  154,\n  158,\n  165,\n  166],\n 'scheme': [14, 62, 79, 116, 138, 154],\n 'spiral': [14],\n 'control': [14, 56, 58, 75, 109, 116, 127],\n 'engage': [14, 111, 130],\n 'competitive': [14, 66],\n 'rivalry': [14, 127],\n 'power': [14,\n  18,\n  28,\n  31,\n  39,\n  59,\n  89,\n  94,\n  106,\n  109,\n  111,\n  116,\n  120,\n  127,\n  133,\n  166],\n 'dom': [15],\n 'cobb': [15, 129],\n 'skilled': [15],\n 'thief': [15],\n 'absolute': [15, 117],\n 'dangerous': [15, 38, 63, 68, 71, 97, 106, 111, 120, 142],\n 'art': [15, 59, 111, 145],\n 'extraction': [15],\n 'valuable': [15],\n 'secret': [15, 32, 98, 114, 116, 124, 133, 135, 148, 164],\n 'deep': [15, 48, 61, 67, 112, 115, 122, 142, 164],\n 'subconscious': [15],\n 'mind': [15, 19, 33, 43, 48, 75, 136],\n 'vulnerable': [15],\n 'cobbs': [15],\n 'rare': [15, 112],\n 'ability': [15, 89, 111, 117],\n 'coveted': [15],\n 'player': [15, 40, 77, 106, 166],\n 'espionage': [15],\n 'international': [15, 64, 133, 166],\n 'fugitive': [15, 129, 145],\n 'cost': [15, 109],\n 'ever': [15, 107, 143, 146],\n 'offer': [15, 37, 61, 90, 102, 136, 138, 143, 148],\n 'chance': [15, 28, 77, 84, 85, 91, 98, 99, 102, 120, 141],\n 'redemption': [15, 123],\n 'last': [15, 35, 40, 57, 63, 81, 99, 111, 116, 128, 162],\n 'job': [15,\n  22,\n  30,\n  40,\n  52,\n  57,\n  61,\n  75,\n  77,\n  88,\n  106,\n  129,\n  130,\n  141,\n  145,\n  146,\n  151,\n  161],\n 'if': [15, 20, 33, 37, 57, 66, 94, 120, 136, 141, 142, 160],\n 'accomplish': [15],\n 'inception': [15],\n 'perfect': [15, 67, 77, 85, 146],\n 'heist': [15, 58],\n 'team': [15, 24, 51, 57, 62, 76, 95, 106, 125],\n 'specialist': [15],\n 'off': [15, 36, 46, 66, 68, 71, 74, 95, 146, 151, 159],\n 'reverse': [15],\n 'task': [15, 65, 73, 116, 142, 165],\n 'idea': [15, 40, 53, 73, 130, 133, 146, 151],\n 'plant': [15, 38, 94, 109, 122],\n 'succeed': [15, 166],\n 'no': [15,\n  24,\n  27,\n  35,\n  40,\n  47,\n  58,\n  62,\n  75,\n  77,\n  80,\n  81,\n  89,\n  98,\n  118,\n  128,\n  141,\n  146,\n  166],\n 'careful': [15, 123],\n 'planning': [15],\n 'or': [15,\n  20,\n  27,\n  33,\n  38,\n  40,\n  50,\n  76,\n  94,\n  103,\n  107,\n  116,\n  123,\n  127,\n  129,\n  130,\n  140,\n  141,\n  154],\n 'expertise': [15],\n 'prepare': [15, 49],\n 'enemy': [15, 31, 32, 36, 73, 97, 108, 116, 120, 130, 156, 159],\n 'predict': [15],\n 'luke': [16, 23, 51],\n 'skywalker': [16, 23, 51],\n 'han': [16, 23, 51],\n 'solo': [16, 23, 51],\n 'princess': [16, 23, 51, 101, 146],\n 'leia': [16, 23, 51],\n 'chewbacca': [16, 51],\n 'attack': [16, 90, 111, 147, 161],\n 'imperial': [16, 23],\n 'atat': [16],\n 'walker': [16],\n 'ice': [16, 116],\n 'planet': [16, 24, 112, 122, 129],\n 'hoth': [16],\n 'millennium': [16, 23, 116],\n 'falcon': [16, 23],\n 'dagobah': [16],\n 'yoda': [16],\n 'jedi': [16],\n 'masters': [16],\n 'survive': [16, 106, 128, 129, 146, 160],\n 'dark': [16, 19, 41, 51, 56, 83, 126, 135, 160],\n 'side': [16, 51, 124, 129, 135, 148],\n 'beckon': [16],\n 'ultimate': [16],\n 'duel': [16],\n 'darth': [16, 23, 51],\n 'vader': [16, 23, 51],\n 'thomas': [17, 126],\n 'anderson': [17, 92],\n 'live': [17,\n  27,\n  38,\n  40,\n  48,\n  50,\n  69,\n  71,\n  75,\n  93,\n  98,\n  100,\n  102,\n  103,\n  106,\n  111,\n  116,\n  120,\n  121,\n  126,\n  128,\n  129,\n  131,\n  135,\n  136,\n  138,\n  141,\n  142,\n  145,\n  146,\n  164],\n 'average': [17, 73, 133, 146, 164],\n 'computer': [17, 38],\n 'programmer': [17],\n 'night': [17, 65, 87, 89, 116, 126, 164],\n 'hacker': [17, 145],\n 'neo': [17],\n 'always': [17,\n  26,\n  56,\n  81,\n  98,\n  106,\n  123,\n  130,\n  136,\n  138,\n  140,\n  146,\n  152,\n  154,\n  165],\n 'question': [17, 20, 30, 33, 73, 83, 109, 135, 136, 147, 158, 162],\n 'far': [17, 20, 24, 60, 71, 80, 116, 125, 129, 145, 150, 161, 164],\n 'beyond': [17, 27, 99, 116, 124, 150],\n 'imagination': [17, 67],\n 'target': [17, 54, 57, 110, 161, 163],\n 'contact': [17, 29, 99],\n 'morpheus': [17],\n 'brand': [17, 165],\n 'terrorist': [17],\n 'government': [17, 73, 95, 109, 129, 163],\n 'rebel': [17, 23, 44, 51],\n 'machine': [17, 25, 26],\n 'agent': [17, 40, 82, 129, 163, 164],\n 'superpowerful': [17],\n 'program': [17, 149],\n 'devote': [17],\n 'entire': [17, 67, 93, 118, 120, 129, 141],\n 'human': [17, 24, 25, 36, 38, 76, 89, 109, 111, 120, 124, 127, 128, 131],\n 'rebellion': [17, 23, 116],\n 'mcmurphy': [18],\n 'again': [18, 38, 71, 99, 108, 116],\n 'get': [18,\n  19,\n  26,\n  28,\n  34,\n  45,\n  52,\n  54,\n  55,\n  56,\n  60,\n  61,\n  66,\n  79,\n  98,\n  101,\n  106,\n  120,\n  125,\n  129,\n  133,\n  136,\n  145,\n  146,\n  148,\n  149,\n  151,\n  154,\n  157,\n  158,\n  161,\n  164,\n  166],\n 'sentence': [18],\n 'court': [18, 40],\n 'labor': [18],\n 'duty': [18, 166],\n 'prison': [18, 20, 29],\n 'plead': [18, 74],\n 'insanity': [18],\n 'ward': [18, 124],\n 'mentally': [18],\n 'unstable': [18],\n 'here': [18, 164],\n 'both': [18,\n  31,\n  32,\n  40,\n  45,\n  61,\n  78,\n  87,\n  101,\n  110,\n  112,\n  124,\n  129,\n  135,\n  136,\n  137,\n  140,\n  141],\n 'endure': [18, 33, 61],\n 'stand': [18, 64, 73, 116, 148],\n 'abuse': [18, 33, 62, 95],\n 'degradation': [18],\n 'oppressive': [18],\n 'nurse': [18, 34],\n 'ratched': [18],\n 'gain': [18, 31, 88, 116],\n 'superiority': [18],\n 'flaw': [18],\n 'band': [18, 33, 36, 38, 145, 148],\n 'rebellious': [18, 117, 142],\n 'stance': [18],\n 'atrocious': [18],\n 'homicide': [19, 135, 141],\n 'detective': [19, 80, 121, 133, 135, 140],\n 'morgan': [19, 143],\n ...}"
     },
     "execution_count": 13,
     "metadata": {},
     "output_type": "execute_result"
    }
   ],
   "source": [
    "index = {}\n",
    "count = 0\n",
    "\n",
    "def append_index(plotterms):\n",
    "    global count\n",
    "    added_terms = []\n",
    "    \n",
    "    for term in plotterms:\n",
    "        if index.get(term) is not None:\n",
    "            if term not in added_terms:\n",
    "                index[term].append(count)\n",
    "                added_terms.append(term)\n",
    "        else:\n",
    "            index[term] = [count]\n",
    "            added_terms.append(term)\n",
    "    \n",
    "    count += 1\n",
    "imdb['plotterms'].apply(append_index)\n",
    "index"
   ]
  },
  {
   "cell_type": "markdown",
   "metadata": {},
   "source": [
    "##### __(c) Take the inverted index and create the posting list for the query 'american'. Return the posting list as well as the top5 items scored by the rating attribute. [0.5 points]__ "
   ]
  },
  {
   "cell_type": "code",
   "execution_count": null,
   "metadata": {
    "ExecuteTime": {
     "end_time": "2024-04-05T13:49:09.068754Z",
     "start_time": "2024-04-05T13:49:09.068692Z"
    }
   },
   "outputs": [],
   "source": []
  },
  {
   "cell_type": "markdown",
   "metadata": {},
   "source": [
    "##### __(d) Take the inverted index and create the posting lists for the query terms 'american' and 'dream' (the term 'american' as well as the term 'dream' should be contained in the plot). Your merging algorithm should be efficient and reduce the number of comparison to a minimum. Don't use existing python methods (like intersect or in) for the merge algorithm. Return the merged posting list as well as the top5 items scored by the rating attribute. [1 point]__ "
   ]
  },
  {
   "cell_type": "code",
   "execution_count": null,
   "metadata": {},
   "outputs": [],
   "source": []
  },
  {
   "cell_type": "markdown",
   "metadata": {},
   "source": [
    "##### __(e) Extend your index to be able to rank the resulting items from Task 2d by the occurrence of search terms in the plotterms. Execute the query 'american' and 'dream' (the term 'american' as well as the term 'dream' should be contained in the plot) again and print the resulting items.  [1 point]__"
   ]
  },
  {
   "cell_type": "code",
   "execution_count": null,
   "metadata": {},
   "outputs": [],
   "source": []
  },
  {
   "cell_type": "markdown",
   "metadata": {},
   "source": [
    "##### __(f) Use the TF-IDF score and the cosine similarity to execute the query 'american' and 'dream' (the term 'american' as well as the term 'dream' should be contained in the plot) against all plots in the collection. Print the results with the corresponding ranking score. Also execute the query 'american' or 'dream' (the term 'american' or the term 'dream' should be contained in the plot).  [1.5 points]__"
   ]
  },
  {
   "cell_type": "code",
   "execution_count": null,
   "metadata": {},
   "outputs": [],
   "source": []
  }
 ],
 "metadata": {
  "kernelspec": {
   "display_name": "Python 3",
   "language": "python",
   "name": "python3"
  },
  "language_info": {
   "codemirror_mode": {
    "name": "ipython",
    "version": 3
   },
   "file_extension": ".py",
   "mimetype": "text/x-python",
   "name": "python",
   "nbconvert_exporter": "python",
   "pygments_lexer": "ipython3",
   "version": "3.8.6"
  }
 },
 "nbformat": 4,
 "nbformat_minor": 4
}
