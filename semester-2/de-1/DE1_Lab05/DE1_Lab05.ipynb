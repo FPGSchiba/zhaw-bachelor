{
 "cells": [
  {
   "cell_type": "markdown",
   "metadata": {},
   "source": [
    "# Data Engineering 1: Lab 05\n",
    "---------------"
   ]
  },
  {
   "cell_type": "markdown",
   "metadata": {},
   "source": [
    "### Task 01: Read the headlines of 20min."
   ]
  },
  {
   "cell_type": "markdown",
   "metadata": {},
   "source": [
    "##### Use the libraries urllib.request and  BeautifulSoup to print all headlines of the website http://20min.ch."
   ]
  },
  {
   "cell_type": "code",
   "metadata": {
    "ExecuteTime": {
     "end_time": "2024-04-11T13:19:33.565687Z",
     "start_time": "2024-04-11T13:19:33.328117Z"
    }
   },
   "source": [
    "import urllib.request\n",
    "from bs4 import BeautifulSoup\n",
    "\n",
    "url = 'http://20min.ch'\n",
    "data = urllib.request.urlopen(url).read()\n",
    "soup = BeautifulSoup(data, \"html.parser\")\n",
    "\n",
    "\n",
    "articles = [element.findNext('h2').text for element in soup.find_all(\"article\")]\n",
    "\n",
    "print(articles)"
   ],
   "outputs": [
    {
     "name": "stdout",
     "output_type": "stream",
     "text": [
      "['Benchmark-CheckDeutsche testen Schweizer Mobilfunknetze und staunen', 'ÖsterreichZwei Tote bei Lawinenunglück – alle Verschütteten geborgen', 'UerkheimAusgeschlagenes Erbe: Freddy Nock war vor seinem Tod verschuldet', 'VietnamMilliardärin Truong My Lan wurde zum Tode verurteilt', 'GesundheitsdramaTil Schweiger kämpft mit schwerer Beininfektion', 'Los AngelesAstro-Influencerin (34) bringt wegen Eklipse ihre Familie um', 'Signa HoldingRené Benkos Mutterkonzern ist bankrott', 'Fooby - Tagesrezept (do not move!)', '«Nicht mehr sicher»Deutsche Medien warnen Autofahrer vor hohen Schweizer Bussen', 'EZB belässt Leitzins bei 4,5 Prozent', 'Crews in Angst: Swiss muss Ausbau der Tel-Aviv-Flüge abblasen', '«Historischer Entscheid» – EU-Parlament stimmt Asylpakt zu', 'Schweiz organisiert hochrangige Friedenskonferenz', '«Was sich bei der Credit Suisse ereignet hat, darf sich nicht wiederholen»', 'Diese Massnahmen ergreift der Bundesrat für Grossbanken', '«Zu Beginn war ich skeptisch»: Luzern schafft Schulnoten ab', 'Nun soll der Steuerzahler deine Zahnbehandlungen übernehmen', 'Diese Massnahmen sollte die Schweiz nach dem Klimaurteil ergreifen', 'Goldpreis schiesst auf Allzeithoch und soll weiter steigen', 'Moskau hat kein Interesse an Friedenskonferenz in der Schweiz', 'Trumps Ukraine-Plan «ist eine primitive Idee»', 'RumänienPilot tankt bleifrei, angezeigt wird er aus einem andern Grund', 'VerzeihungEntschuldigst du dich aus Reue oder weil du ein Ziel verfolgst?', 'Freizeitpark«Matterhornblitz» im Europa-Park evakuiert', 'JungunternehmerinFehlende Transparenz? Doku über Yaël Meier sorgt für Diskussionen', 'Dass sie sich nervt, kommt bei andern gar nicht gut an', 'Nati-Goalie Kobel zögert und schon nimmt das Unheil seinen Lauf', 'Russlands «Schildkrötenpanzer» ist laut Militärexperte nutzlos', 'Elffache Freude auf dem Grossen Sankt Bernhard', '«Wüste Gestalten» – das ist das krasseste Eierleset der Schweiz', 'Nach diesem Streit muss der Anzeigenhauptmeister gepflegt werden', 'Paar droht Busse von umgerechnet zwölf Franken', 'Entführte Savannah (15): Zwei Jahre danach gesteht Polizei fatalen Fehler', 'Marco Odermatt kann alles? Nein, das nicht', 'Blue Fire versucht vier Mal die Kurve zu kriegen', 'Riesenschritt für Italien oder Milliardengrab?', 'Bushido und Anna-Maria Ferchichi schmusen in Zürich auf der Bühne', 'Betroffene sprechenCrack-Szene Luzern: «Wir betteln, um zu konsumieren»', 'Anwohner sprechen«Sie rauchten im Bus Crack»\\xa0– das sagen Kinder im Drogen-Quartier', 'StrassenverkehrTCS warnt vor lebensgefährlichem Kindersitz', 'DeutschlandBei Schweizer Handball-Star wurden Methamphetamine gefunden', '«Wüste Gestalten» – das ist das krasseste Eierleset der Schweiz', 'Jamie Foxx bestellt singend 700 Chicken Wings', 'Bushido und Anna-Maria Ferchichi schmusen in Zürich auf der Bühne', 'Katy Perry verschluckt beinahe Zahnstocher', 'Zendaya trägt Tennisball-Heels', 'Diese zwei Schülerinnen haben den Selecta-Automat gewonnen', 'Aurora Ramazzotti zeigt ihr Wohnungs-Chaos', '«Ich bin 75 und habe jeden Tag Sex»', 'Spice Girls schmeissen Mel B aus ihrer Whatsapp-Gruppe', '«Du denkst, es wird 19 Grad? – Falsch!»', 'Nina Chuba: «Schweizer haben nichts zu verlieren»', 'Rihanna zahlt 45’000 Dollar für Zimmerservice', 'Bülach ZHFlucht vor Tempokontrolle endet in Unfall', 'Djibril Sow«Fällt mir schwer zu akzeptieren»: Saisonende für Spanien-Söldner', 'Stürze im Radsport«Es ist nicht auszuschliessen, dass es wieder Todesfälle geben wird»', 'SRF-Sendung«Mona mittendrin» – und für einmal tief im Pornobusiness', 'Einst waren sie Freunde: Dieser Mann schürte im Iran den Israel-Hass', 'Wann ist es sinnvoll, die Komfortzone zu verlassen?', '«Reagieren die Schulen nicht, wirkt Gewalt ansteckend»', 'Gold, Diamanten, Metalle: Im Kongo braut sich ein Krieg zusammen', 'Warum kaufen Firmen ihre Aktien zurück, um sie zu vernichten?', '«Ich glaube, ich habe Samsung gehackt»', '«Russisches Killerkommando nutzt Genf als wichtige Basis»', 'Sechs Stunden Sport am Tag – «Ich sah keinen Ausweg mehr»', 'Ist die Ära Erdogan nach Wahlschlappe jetzt vorbei?', 'Smartphones rauben einer ganzen Generation die Kindheit', '«In Kenia hatte ich Hausangestellte – hier war ich Putzfrau»', 'Prämien steigen wohl weiter an – so siehts in deinem Kanton aus', 'TokioSumo-Legende Akebono stirbt mit 54 an Herzversagen', 'Basel«Meine Nachbarn streiten\\xa0laut, soll ich die Polizei rufen?»', 'Olten SOMaulkorbpflicht: Rottweiler-Halter blitzt zum zweiten Mal ab', 'SprachassistentHelena verkaufte Stimme für 3000 Dollar an Microsoft – und bereut es']\n"
     ]
    }
   ],
   "execution_count": 3
  },
  {
   "cell_type": "markdown",
   "metadata": {},
   "source": [
    "### Task 02: Read a Wikipedia Page."
   ]
  },
  {
   "cell_type": "markdown",
   "metadata": {},
   "source": [
    "##### Use the libraries urllib.request and  BeautifulSoup to create csv data of the table from the website https://en.wikipedia.org/wiki/List_of_FIFA_World_Cup_finals."
   ]
  },
  {
   "cell_type": "code",
   "metadata": {
    "ExecuteTime": {
     "end_time": "2024-04-12T06:05:51.724728Z",
     "start_time": "2024-04-12T06:05:51.487609Z"
    }
   },
   "source": [
    "# https://en.wikipedia.org/wiki/List_of_FIFA_World_Cup_finals\n",
    "# This Wikipedia page has a table with data on all of the Fifa World Cup Finals. \n",
    "# Our goal is to use Beautiful Soup to scrape some of this data into a CSV file. \n",
    "# The columns of the CSV should be: \n",
    "# year, \n",
    "# winners,\n",
    "# score,\n",
    "# runners-up, \n",
    "# venue,\n",
    "# location,\n",
    "# and attendance.\n",
    "# Use commas as the delimiter.\n",
    "\n",
    "import urllib.request\n",
    "from bs4 import BeautifulSoup\n",
    "\n",
    "url = 'https://en.wikipedia.org/wiki/List_of_FIFA_World_Cup_finals'\n",
    "data = urllib.request.urlopen(url).read()\n",
    "soup = BeautifulSoup(data, \"html.parser\")\n",
    "\n",
    "table_rows = soup.select(\".wikitable\")[1].select(\"tr\")\n",
    "\n",
    "csv_data = [['year', 'winners', 'score', 'runners-up', 'venue', 'location', 'attendance']]\n",
    "\n",
    "for row in table_rows:\n",
    "    year = row.findNext('th').text.replace('\\n', '')\n",
    "    if year == 'Year':\n",
    "        continue\n",
    "    columns = [item.text.replace('\\xa0', '').replace('\\n', '') for item in row.findAll('td')]\n",
    "    csv_data.append([year, columns[0], columns[1], columns[2], columns[3], columns[4], columns[5]])\n",
    "\n",
    "print(csv_data)"
   ],
   "execution_count": 23,
   "outputs": [
    {
     "name": "stdout",
     "output_type": "stream",
     "text": [
      "[['year', 'winners', 'score', 'runners-up', 'venue', 'location', 'attendance'], ['1930', 'Uruguay', '4–2', 'Argentina', 'Estadio Centenario', 'Montevideo, Uruguay', '68,346'], ['1934', 'Italy', '2–1 (a.e.t.)', 'Czechoslovakia', 'Stadio Nazionale PNF', 'Rome, Italy', '55,000'], ['1938', 'Italy', '4–2', 'Hungary', 'Stade Olympique de Colombes', 'Paris, France', '45,000'], ['1950', 'Uruguay', '2–1[n 3]', 'Brazil', 'Maracanã Stadium', 'Rio de Janeiro, Brazil', '173,850'], ['1954', 'West Germany', '3–2', 'Hungary', 'Wankdorf Stadium', 'Bern, Switzerland', '62,500'], ['1958', 'Brazil', '5–2', 'Sweden', 'Råsunda Stadium', 'Solna, Sweden', '49,737'], ['1962', 'Brazil', '3–1', 'Czechoslovakia', 'Estadio Nacional', 'Santiago, Chile', '68,679'], ['1966', 'England', '4–2 (a.e.t.)', 'West Germany', 'Wembley Stadium', 'London, England', '96,924'], ['1970', 'Brazil', '4–1', 'Italy', 'Estadio Azteca', 'Mexico City, Mexico', '107,412'], ['1974', 'West Germany', '2–1', 'Netherlands', 'Olympiastadion', 'Munich, West Germany', '78,200'], ['1978', 'Argentina', '3–1 (a.e.t.)', 'Netherlands', 'Estadio Monumental', 'Buenos Aires, Argentina', '71,483'], ['1982', 'Italy', '3–1', 'West Germany', 'Santiago Bernabéu', 'Madrid, Spain', '90,000'], ['1986', 'Argentina', '3–2', 'West Germany', 'Estadio Azteca', 'Mexico City, Mexico', '114,600'], ['1990', 'West Germany', '1–0', 'Argentina', 'Stadio Olimpico', 'Rome, Italy', '73,603'], ['1994', 'Brazil', '0–0 (a.e.t.)(3–2 pen.)', 'Italy', 'Rose Bowl', 'Pasadena, California, United States', '94,194'], ['1998', 'France', '3–0', 'Brazil', 'Stade de France', 'Saint-Denis, France', '80,000'], ['2002', 'Brazil', '2–0', 'Germany', 'International Stadium', 'Yokohama, Japan', '69,029'], ['2006', 'Italy', '1–1 (a.e.t.)(5–3 pen.)', 'France', 'Olympiastadion', 'Berlin, Germany', '69,000'], ['2010', 'Spain', '1–0 (a.e.t.)', 'Netherlands', 'Soccer City', 'Johannesburg, South Africa', '84,490'], ['2014', 'Germany', '1–0 (a.e.t.)', 'Argentina', 'Maracanã Stadium', 'Rio de Janeiro, Brazil', '74,738'], ['2018', 'France', '4–2', 'Croatia', 'Luzhniki Stadium', 'Moscow, Russia', '78,011'], ['2022', 'Argentina', '3–3 (a.e.t.)(4–2 pen.)', 'France', 'Lusail Stadium', 'Lusail, Qatar', '88,966'], ['2026', '', '', '', 'MetLife Stadium', 'East Rutherford, New Jersey, United States', '']]\n"
     ]
    }
   ]
  }
 ],
 "metadata": {
  "kernelspec": {
   "display_name": "Python 3",
   "language": "python",
   "name": "python3"
  },
  "language_info": {
   "codemirror_mode": {
    "name": "ipython",
    "version": 3
   },
   "file_extension": ".py",
   "mimetype": "text/x-python",
   "name": "python",
   "nbconvert_exporter": "python",
   "pygments_lexer": "ipython3",
   "version": "3.8.6"
  }
 },
 "nbformat": 4,
 "nbformat_minor": 4
}
