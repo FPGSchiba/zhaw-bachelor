{
 "cells": [
  {
   "cell_type": "markdown",
   "metadata": {},
   "source": [
    "# Data Engineering: Lab 02\n",
    "---------------"
   ]
  },
  {
   "cell_type": "markdown",
   "metadata": {},
   "source": [
    "### Task 01: Create data frame called df_beers containing 5 names of beers, their type, alcohol value, and the brewing company."
   ]
  },
  {
   "cell_type": "code",
   "execution_count": 1,
   "metadata": {
    "ExecuteTime": {
     "end_time": "2024-02-29T13:44:50.734289Z",
     "start_time": "2024-02-29T13:44:49.495188Z"
    }
   },
   "outputs": [
    {
     "name": "stderr",
     "output_type": "stream",
     "text": [
      "/var/folders/g8/ts4wj2w128q2scsf9ttnhwq40000gn/T/ipykernel_40437/3728011278.py:1: DeprecationWarning: \n",
      "Pyarrow will become a required dependency of pandas in the next major release of pandas (pandas 3.0),\n",
      "(to allow more performant data types, such as the Arrow string type, and better interoperability with other libraries)\n",
      "but was not found to be installed on your system.\n",
      "If this would cause problems for you,\n",
      "please provide us feedback at https://github.com/pandas-dev/pandas/issues/54466\n",
      "        \n",
      "  import pandas as pd\n"
     ]
    },
    {
     "data": {
      "text/plain": "        name        type  alcohol   company\n0  Suri Hugo   Sauerbier      5.2  Sauer AG\n1   Das Bier  Weizenbier      5.1  Heineken\n2  Test Bier  Weizenbier      5.0  Heineken\n3    Bierman  Weizenbier      1.0  Heineken\n4     Kopfab  Weizenbier      2.0  Heineken",
      "text/html": "<div>\n<style scoped>\n    .dataframe tbody tr th:only-of-type {\n        vertical-align: middle;\n    }\n\n    .dataframe tbody tr th {\n        vertical-align: top;\n    }\n\n    .dataframe thead th {\n        text-align: right;\n    }\n</style>\n<table border=\"1\" class=\"dataframe\">\n  <thead>\n    <tr style=\"text-align: right;\">\n      <th></th>\n      <th>name</th>\n      <th>type</th>\n      <th>alcohol</th>\n      <th>company</th>\n    </tr>\n  </thead>\n  <tbody>\n    <tr>\n      <th>0</th>\n      <td>Suri Hugo</td>\n      <td>Sauerbier</td>\n      <td>5.2</td>\n      <td>Sauer AG</td>\n    </tr>\n    <tr>\n      <th>1</th>\n      <td>Das Bier</td>\n      <td>Weizenbier</td>\n      <td>5.1</td>\n      <td>Heineken</td>\n    </tr>\n    <tr>\n      <th>2</th>\n      <td>Test Bier</td>\n      <td>Weizenbier</td>\n      <td>5.0</td>\n      <td>Heineken</td>\n    </tr>\n    <tr>\n      <th>3</th>\n      <td>Bierman</td>\n      <td>Weizenbier</td>\n      <td>1.0</td>\n      <td>Heineken</td>\n    </tr>\n    <tr>\n      <th>4</th>\n      <td>Kopfab</td>\n      <td>Weizenbier</td>\n      <td>2.0</td>\n      <td>Heineken</td>\n    </tr>\n  </tbody>\n</table>\n</div>"
     },
     "execution_count": 1,
     "metadata": {},
     "output_type": "execute_result"
    }
   ],
   "source": [
    "import pandas as pd\n",
    "\n",
    "df_beers = pd.DataFrame({'name': ['Suri Hugo', 'Das Bier', 'Test Bier', 'Bierman', 'Kopfab'], 'type': ['Sauerbier', 'Weizenbier', 'Weizenbier', 'Weizenbier', 'Weizenbier'], 'alcohol': [5.2, 5.1, 5, 1, 2], 'company': ['Sauer AG', 'Heineken', 'Heineken', 'Heineken', 'Heineken']})\n",
    "df_beers"
   ]
  },
  {
   "cell_type": "markdown",
   "metadata": {},
   "source": [
    "### Task 02: Creating a dataframe from csv"
   ]
  },
  {
   "cell_type": "markdown",
   "metadata": {},
   "source": [
    "##### a) Create a DataFrame called meteorites with the meteorite_landings.csv file."
   ]
  },
  {
   "cell_type": "code",
   "execution_count": 4,
   "metadata": {
    "ExecuteTime": {
     "end_time": "2024-02-29T13:45:48.370006Z",
     "start_time": "2024-02-29T13:45:48.316785Z"
    }
   },
   "outputs": [
    {
     "data": {
      "text/plain": "           Aachen  Valid                     L5        21   Fell  \\\n0          Aarhus  Valid                     H6     720.0   Fell   \n1            Abee  Valid                    EH4  107000.0   Fell   \n2        Acapulco  Valid            Acapulcoite    1914.0   Fell   \n3         Achiras  Valid                     L6     780.0   Fell   \n4        Adhi Kot  Valid                    EH4    4239.0   Fell   \n...           ...    ...                    ...       ...    ...   \n45710  Zillah 002  Valid                Eucrite     172.0  Found   \n45711      Zinder  Valid  Pallasite & ungrouped      46.0  Found   \n45712        Zlin  Valid                     H4       3.3  Found   \n45713   Zubkovsky  Valid                     L6    2167.0  Found   \n45714  Zulu Queen  Valid                   L3.7     200.0  Found   \n\n       01/01/1880 12:00:00 AM      1    50.775    6.08333  \n0      01/01/1951 12:00:00 AM      2  56.18333   10.23333  \n1      01/01/1952 12:00:00 AM      6  54.21667 -113.00000  \n2      01/01/1976 12:00:00 AM     10  16.88333  -99.90000  \n3      01/01/1902 12:00:00 AM    370 -33.16667  -64.95000  \n4      01/01/1919 12:00:00 AM    379  32.10000   71.80000  \n...                       ...    ...       ...        ...  \n45710  01/01/1990 12:00:00 AM  31356  29.03700   17.01850  \n45711  01/01/1999 12:00:00 AM  30409  13.78333    8.96667  \n45712  01/01/1939 12:00:00 AM  30410  49.25000   17.66667  \n45713  01/01/2003 12:00:00 AM  31357  49.78917   41.50460  \n45714  01/01/1976 12:00:00 AM  30414  33.98333 -115.68333  \n\n[45715 rows x 9 columns]",
      "text/html": "<div>\n<style scoped>\n    .dataframe tbody tr th:only-of-type {\n        vertical-align: middle;\n    }\n\n    .dataframe tbody tr th {\n        vertical-align: top;\n    }\n\n    .dataframe thead th {\n        text-align: right;\n    }\n</style>\n<table border=\"1\" class=\"dataframe\">\n  <thead>\n    <tr style=\"text-align: right;\">\n      <th></th>\n      <th>Aachen</th>\n      <th>Valid</th>\n      <th>L5</th>\n      <th>21</th>\n      <th>Fell</th>\n      <th>01/01/1880 12:00:00 AM</th>\n      <th>1</th>\n      <th>50.775</th>\n      <th>6.08333</th>\n    </tr>\n  </thead>\n  <tbody>\n    <tr>\n      <th>0</th>\n      <td>Aarhus</td>\n      <td>Valid</td>\n      <td>H6</td>\n      <td>720.0</td>\n      <td>Fell</td>\n      <td>01/01/1951 12:00:00 AM</td>\n      <td>2</td>\n      <td>56.18333</td>\n      <td>10.23333</td>\n    </tr>\n    <tr>\n      <th>1</th>\n      <td>Abee</td>\n      <td>Valid</td>\n      <td>EH4</td>\n      <td>107000.0</td>\n      <td>Fell</td>\n      <td>01/01/1952 12:00:00 AM</td>\n      <td>6</td>\n      <td>54.21667</td>\n      <td>-113.00000</td>\n    </tr>\n    <tr>\n      <th>2</th>\n      <td>Acapulco</td>\n      <td>Valid</td>\n      <td>Acapulcoite</td>\n      <td>1914.0</td>\n      <td>Fell</td>\n      <td>01/01/1976 12:00:00 AM</td>\n      <td>10</td>\n      <td>16.88333</td>\n      <td>-99.90000</td>\n    </tr>\n    <tr>\n      <th>3</th>\n      <td>Achiras</td>\n      <td>Valid</td>\n      <td>L6</td>\n      <td>780.0</td>\n      <td>Fell</td>\n      <td>01/01/1902 12:00:00 AM</td>\n      <td>370</td>\n      <td>-33.16667</td>\n      <td>-64.95000</td>\n    </tr>\n    <tr>\n      <th>4</th>\n      <td>Adhi Kot</td>\n      <td>Valid</td>\n      <td>EH4</td>\n      <td>4239.0</td>\n      <td>Fell</td>\n      <td>01/01/1919 12:00:00 AM</td>\n      <td>379</td>\n      <td>32.10000</td>\n      <td>71.80000</td>\n    </tr>\n    <tr>\n      <th>...</th>\n      <td>...</td>\n      <td>...</td>\n      <td>...</td>\n      <td>...</td>\n      <td>...</td>\n      <td>...</td>\n      <td>...</td>\n      <td>...</td>\n      <td>...</td>\n    </tr>\n    <tr>\n      <th>45710</th>\n      <td>Zillah 002</td>\n      <td>Valid</td>\n      <td>Eucrite</td>\n      <td>172.0</td>\n      <td>Found</td>\n      <td>01/01/1990 12:00:00 AM</td>\n      <td>31356</td>\n      <td>29.03700</td>\n      <td>17.01850</td>\n    </tr>\n    <tr>\n      <th>45711</th>\n      <td>Zinder</td>\n      <td>Valid</td>\n      <td>Pallasite &amp; ungrouped</td>\n      <td>46.0</td>\n      <td>Found</td>\n      <td>01/01/1999 12:00:00 AM</td>\n      <td>30409</td>\n      <td>13.78333</td>\n      <td>8.96667</td>\n    </tr>\n    <tr>\n      <th>45712</th>\n      <td>Zlin</td>\n      <td>Valid</td>\n      <td>H4</td>\n      <td>3.3</td>\n      <td>Found</td>\n      <td>01/01/1939 12:00:00 AM</td>\n      <td>30410</td>\n      <td>49.25000</td>\n      <td>17.66667</td>\n    </tr>\n    <tr>\n      <th>45713</th>\n      <td>Zubkovsky</td>\n      <td>Valid</td>\n      <td>L6</td>\n      <td>2167.0</td>\n      <td>Found</td>\n      <td>01/01/2003 12:00:00 AM</td>\n      <td>31357</td>\n      <td>49.78917</td>\n      <td>41.50460</td>\n    </tr>\n    <tr>\n      <th>45714</th>\n      <td>Zulu Queen</td>\n      <td>Valid</td>\n      <td>L3.7</td>\n      <td>200.0</td>\n      <td>Found</td>\n      <td>01/01/1976 12:00:00 AM</td>\n      <td>30414</td>\n      <td>33.98333</td>\n      <td>-115.68333</td>\n    </tr>\n  </tbody>\n</table>\n<p>45715 rows × 9 columns</p>\n</div>"
     },
     "execution_count": 4,
     "metadata": {},
     "output_type": "execute_result"
    }
   ],
   "source": [
    "meteorites = pd.read_csv('DE_Lab02_WorkingWithData_meteorite_landings.csv')\n",
    "meteorites"
   ]
  },
  {
   "cell_type": "markdown",
   "metadata": {},
   "source": [
    "##### b) Print the top5 entries of your DataFrame and check if everything is ok. What information is missing?"
   ]
  },
  {
   "cell_type": "code",
   "execution_count": 5,
   "metadata": {
    "ExecuteTime": {
     "end_time": "2024-02-29T13:46:06.513747Z",
     "start_time": "2024-02-29T13:46:06.508566Z"
    }
   },
   "outputs": [
    {
     "data": {
      "text/plain": "     Aachen  Valid           L5        21  Fell  01/01/1880 12:00:00 AM    1  \\\n0    Aarhus  Valid           H6     720.0  Fell  01/01/1951 12:00:00 AM    2   \n1      Abee  Valid          EH4  107000.0  Fell  01/01/1952 12:00:00 AM    6   \n2  Acapulco  Valid  Acapulcoite    1914.0  Fell  01/01/1976 12:00:00 AM   10   \n3   Achiras  Valid           L6     780.0  Fell  01/01/1902 12:00:00 AM  370   \n4  Adhi Kot  Valid          EH4    4239.0  Fell  01/01/1919 12:00:00 AM  379   \n\n     50.775    6.08333  \n0  56.18333   10.23333  \n1  54.21667 -113.00000  \n2  16.88333  -99.90000  \n3 -33.16667  -64.95000  \n4  32.10000   71.80000  ",
      "text/html": "<div>\n<style scoped>\n    .dataframe tbody tr th:only-of-type {\n        vertical-align: middle;\n    }\n\n    .dataframe tbody tr th {\n        vertical-align: top;\n    }\n\n    .dataframe thead th {\n        text-align: right;\n    }\n</style>\n<table border=\"1\" class=\"dataframe\">\n  <thead>\n    <tr style=\"text-align: right;\">\n      <th></th>\n      <th>Aachen</th>\n      <th>Valid</th>\n      <th>L5</th>\n      <th>21</th>\n      <th>Fell</th>\n      <th>01/01/1880 12:00:00 AM</th>\n      <th>1</th>\n      <th>50.775</th>\n      <th>6.08333</th>\n    </tr>\n  </thead>\n  <tbody>\n    <tr>\n      <th>0</th>\n      <td>Aarhus</td>\n      <td>Valid</td>\n      <td>H6</td>\n      <td>720.0</td>\n      <td>Fell</td>\n      <td>01/01/1951 12:00:00 AM</td>\n      <td>2</td>\n      <td>56.18333</td>\n      <td>10.23333</td>\n    </tr>\n    <tr>\n      <th>1</th>\n      <td>Abee</td>\n      <td>Valid</td>\n      <td>EH4</td>\n      <td>107000.0</td>\n      <td>Fell</td>\n      <td>01/01/1952 12:00:00 AM</td>\n      <td>6</td>\n      <td>54.21667</td>\n      <td>-113.00000</td>\n    </tr>\n    <tr>\n      <th>2</th>\n      <td>Acapulco</td>\n      <td>Valid</td>\n      <td>Acapulcoite</td>\n      <td>1914.0</td>\n      <td>Fell</td>\n      <td>01/01/1976 12:00:00 AM</td>\n      <td>10</td>\n      <td>16.88333</td>\n      <td>-99.90000</td>\n    </tr>\n    <tr>\n      <th>3</th>\n      <td>Achiras</td>\n      <td>Valid</td>\n      <td>L6</td>\n      <td>780.0</td>\n      <td>Fell</td>\n      <td>01/01/1902 12:00:00 AM</td>\n      <td>370</td>\n      <td>-33.16667</td>\n      <td>-64.95000</td>\n    </tr>\n    <tr>\n      <th>4</th>\n      <td>Adhi Kot</td>\n      <td>Valid</td>\n      <td>EH4</td>\n      <td>4239.0</td>\n      <td>Fell</td>\n      <td>01/01/1919 12:00:00 AM</td>\n      <td>379</td>\n      <td>32.10000</td>\n      <td>71.80000</td>\n    </tr>\n  </tbody>\n</table>\n</div>"
     },
     "execution_count": 5,
     "metadata": {},
     "output_type": "execute_result"
    }
   ],
   "source": [
    "meteorites.head(5) # All column names are missing"
   ]
  },
  {
   "cell_type": "markdown",
   "metadata": {},
   "source": [
    "##### c) Create the DataFrame again with the missing information and print the top5 entries."
   ]
  },
  {
   "cell_type": "code",
   "execution_count": 8,
   "metadata": {
    "ExecuteTime": {
     "end_time": "2024-02-29T13:49:24.351424Z",
     "start_time": "2024-02-29T13:49:24.301248Z"
    }
   },
   "outputs": [
    {
     "data": {
      "text/plain": "             Name Validity                   Type  Weight (g)   Fall  \\\n0          Aachen    Valid                     L5        21.0   Fell   \n1          Aarhus    Valid                     H6       720.0   Fell   \n2            Abee    Valid                    EH4    107000.0   Fell   \n3        Acapulco    Valid            Acapulcoite      1914.0   Fell   \n4         Achiras    Valid                     L6       780.0   Fell   \n...           ...      ...                    ...         ...    ...   \n45711  Zillah 002    Valid                Eucrite       172.0  Found   \n45712      Zinder    Valid  Pallasite & ungrouped        46.0  Found   \n45713        Zlin    Valid                     H4         3.3  Found   \n45714   Zubkovsky    Valid                     L6      2167.0  Found   \n45715  Zulu Queen    Valid                   L3.7       200.0  Found   \n\n                         Year     ID       Lat       Long  \n0      01/01/1880 12:00:00 AM      1  50.77500    6.08333  \n1      01/01/1951 12:00:00 AM      2  56.18333   10.23333  \n2      01/01/1952 12:00:00 AM      6  54.21667 -113.00000  \n3      01/01/1976 12:00:00 AM     10  16.88333  -99.90000  \n4      01/01/1902 12:00:00 AM    370 -33.16667  -64.95000  \n...                       ...    ...       ...        ...  \n45711  01/01/1990 12:00:00 AM  31356  29.03700   17.01850  \n45712  01/01/1999 12:00:00 AM  30409  13.78333    8.96667  \n45713  01/01/1939 12:00:00 AM  30410  49.25000   17.66667  \n45714  01/01/2003 12:00:00 AM  31357  49.78917   41.50460  \n45715  01/01/1976 12:00:00 AM  30414  33.98333 -115.68333  \n\n[45716 rows x 9 columns]",
      "text/html": "<div>\n<style scoped>\n    .dataframe tbody tr th:only-of-type {\n        vertical-align: middle;\n    }\n\n    .dataframe tbody tr th {\n        vertical-align: top;\n    }\n\n    .dataframe thead th {\n        text-align: right;\n    }\n</style>\n<table border=\"1\" class=\"dataframe\">\n  <thead>\n    <tr style=\"text-align: right;\">\n      <th></th>\n      <th>Name</th>\n      <th>Validity</th>\n      <th>Type</th>\n      <th>Weight (g)</th>\n      <th>Fall</th>\n      <th>Year</th>\n      <th>ID</th>\n      <th>Lat</th>\n      <th>Long</th>\n    </tr>\n  </thead>\n  <tbody>\n    <tr>\n      <th>0</th>\n      <td>Aachen</td>\n      <td>Valid</td>\n      <td>L5</td>\n      <td>21.0</td>\n      <td>Fell</td>\n      <td>01/01/1880 12:00:00 AM</td>\n      <td>1</td>\n      <td>50.77500</td>\n      <td>6.08333</td>\n    </tr>\n    <tr>\n      <th>1</th>\n      <td>Aarhus</td>\n      <td>Valid</td>\n      <td>H6</td>\n      <td>720.0</td>\n      <td>Fell</td>\n      <td>01/01/1951 12:00:00 AM</td>\n      <td>2</td>\n      <td>56.18333</td>\n      <td>10.23333</td>\n    </tr>\n    <tr>\n      <th>2</th>\n      <td>Abee</td>\n      <td>Valid</td>\n      <td>EH4</td>\n      <td>107000.0</td>\n      <td>Fell</td>\n      <td>01/01/1952 12:00:00 AM</td>\n      <td>6</td>\n      <td>54.21667</td>\n      <td>-113.00000</td>\n    </tr>\n    <tr>\n      <th>3</th>\n      <td>Acapulco</td>\n      <td>Valid</td>\n      <td>Acapulcoite</td>\n      <td>1914.0</td>\n      <td>Fell</td>\n      <td>01/01/1976 12:00:00 AM</td>\n      <td>10</td>\n      <td>16.88333</td>\n      <td>-99.90000</td>\n    </tr>\n    <tr>\n      <th>4</th>\n      <td>Achiras</td>\n      <td>Valid</td>\n      <td>L6</td>\n      <td>780.0</td>\n      <td>Fell</td>\n      <td>01/01/1902 12:00:00 AM</td>\n      <td>370</td>\n      <td>-33.16667</td>\n      <td>-64.95000</td>\n    </tr>\n    <tr>\n      <th>...</th>\n      <td>...</td>\n      <td>...</td>\n      <td>...</td>\n      <td>...</td>\n      <td>...</td>\n      <td>...</td>\n      <td>...</td>\n      <td>...</td>\n      <td>...</td>\n    </tr>\n    <tr>\n      <th>45711</th>\n      <td>Zillah 002</td>\n      <td>Valid</td>\n      <td>Eucrite</td>\n      <td>172.0</td>\n      <td>Found</td>\n      <td>01/01/1990 12:00:00 AM</td>\n      <td>31356</td>\n      <td>29.03700</td>\n      <td>17.01850</td>\n    </tr>\n    <tr>\n      <th>45712</th>\n      <td>Zinder</td>\n      <td>Valid</td>\n      <td>Pallasite &amp; ungrouped</td>\n      <td>46.0</td>\n      <td>Found</td>\n      <td>01/01/1999 12:00:00 AM</td>\n      <td>30409</td>\n      <td>13.78333</td>\n      <td>8.96667</td>\n    </tr>\n    <tr>\n      <th>45713</th>\n      <td>Zlin</td>\n      <td>Valid</td>\n      <td>H4</td>\n      <td>3.3</td>\n      <td>Found</td>\n      <td>01/01/1939 12:00:00 AM</td>\n      <td>30410</td>\n      <td>49.25000</td>\n      <td>17.66667</td>\n    </tr>\n    <tr>\n      <th>45714</th>\n      <td>Zubkovsky</td>\n      <td>Valid</td>\n      <td>L6</td>\n      <td>2167.0</td>\n      <td>Found</td>\n      <td>01/01/2003 12:00:00 AM</td>\n      <td>31357</td>\n      <td>49.78917</td>\n      <td>41.50460</td>\n    </tr>\n    <tr>\n      <th>45715</th>\n      <td>Zulu Queen</td>\n      <td>Valid</td>\n      <td>L3.7</td>\n      <td>200.0</td>\n      <td>Found</td>\n      <td>01/01/1976 12:00:00 AM</td>\n      <td>30414</td>\n      <td>33.98333</td>\n      <td>-115.68333</td>\n    </tr>\n  </tbody>\n</table>\n<p>45716 rows × 9 columns</p>\n</div>"
     },
     "execution_count": 8,
     "metadata": {},
     "output_type": "execute_result"
    }
   ],
   "source": [
    "meteorites = pd.read_csv('DE_Lab02_WorkingWithData_meteorite_landings.csv', names=['Name', 'Validity', 'Type', 'Weight (g)', 'Fall', 'Year', 'ID', 'Lat', 'Long'])\n",
    "meteorites"
   ]
  },
  {
   "cell_type": "markdown",
   "metadata": {},
   "source": [
    "### Task 03: Extracting subsets"
   ]
  },
  {
   "cell_type": "markdown",
   "metadata": {},
   "source": [
    "##### a) Use the query method to extract the meteorites with mass(g) greater then 50000."
   ]
  },
  {
   "cell_type": "code",
   "execution_count": 11,
   "metadata": {
    "ExecuteTime": {
     "end_time": "2024-02-29T13:50:51.751561Z",
     "start_time": "2024-02-29T13:50:51.745685Z"
    }
   },
   "outputs": [
    {
     "data": {
      "text/plain": "       Name Validity        Type  Weight (g)  Fall                    Year  \\\n2      Abee    Valid         EH4    107000.0  Fell  01/01/1952 12:00:00 AM   \n7      Agen    Valid          H5     30000.0  Fell  01/01/1814 12:00:00 AM   \n11      Aïr    Valid          L6     24000.0  Fell  01/01/1925 12:00:00 AM   \n16  Akyumak    Valid  Iron & IVA     50000.0  Fell  01/01/1981 12:00:00 AM   \n19    Alais    Valid         CI1      6000.0  Fell  01/01/1806 12:00:00 AM   \n\n     ID       Lat       Long  \n2     6  54.21667 -113.00000  \n7   392  44.21667    0.61667  \n11  424  19.08333    8.38333  \n16  433  39.91667   42.81667  \n19  448  44.11667    4.08333  ",
      "text/html": "<div>\n<style scoped>\n    .dataframe tbody tr th:only-of-type {\n        vertical-align: middle;\n    }\n\n    .dataframe tbody tr th {\n        vertical-align: top;\n    }\n\n    .dataframe thead th {\n        text-align: right;\n    }\n</style>\n<table border=\"1\" class=\"dataframe\">\n  <thead>\n    <tr style=\"text-align: right;\">\n      <th></th>\n      <th>Name</th>\n      <th>Validity</th>\n      <th>Type</th>\n      <th>Weight (g)</th>\n      <th>Fall</th>\n      <th>Year</th>\n      <th>ID</th>\n      <th>Lat</th>\n      <th>Long</th>\n    </tr>\n  </thead>\n  <tbody>\n    <tr>\n      <th>2</th>\n      <td>Abee</td>\n      <td>Valid</td>\n      <td>EH4</td>\n      <td>107000.0</td>\n      <td>Fell</td>\n      <td>01/01/1952 12:00:00 AM</td>\n      <td>6</td>\n      <td>54.21667</td>\n      <td>-113.00000</td>\n    </tr>\n    <tr>\n      <th>7</th>\n      <td>Agen</td>\n      <td>Valid</td>\n      <td>H5</td>\n      <td>30000.0</td>\n      <td>Fell</td>\n      <td>01/01/1814 12:00:00 AM</td>\n      <td>392</td>\n      <td>44.21667</td>\n      <td>0.61667</td>\n    </tr>\n    <tr>\n      <th>11</th>\n      <td>Aïr</td>\n      <td>Valid</td>\n      <td>L6</td>\n      <td>24000.0</td>\n      <td>Fell</td>\n      <td>01/01/1925 12:00:00 AM</td>\n      <td>424</td>\n      <td>19.08333</td>\n      <td>8.38333</td>\n    </tr>\n    <tr>\n      <th>16</th>\n      <td>Akyumak</td>\n      <td>Valid</td>\n      <td>Iron &amp; IVA</td>\n      <td>50000.0</td>\n      <td>Fell</td>\n      <td>01/01/1981 12:00:00 AM</td>\n      <td>433</td>\n      <td>39.91667</td>\n      <td>42.81667</td>\n    </tr>\n    <tr>\n      <th>19</th>\n      <td>Alais</td>\n      <td>Valid</td>\n      <td>CI1</td>\n      <td>6000.0</td>\n      <td>Fell</td>\n      <td>01/01/1806 12:00:00 AM</td>\n      <td>448</td>\n      <td>44.11667</td>\n      <td>4.08333</td>\n    </tr>\n  </tbody>\n</table>\n</div>"
     },
     "execution_count": 11,
     "metadata": {},
     "output_type": "execute_result"
    }
   ],
   "source": [
    "meteorites[meteorites['Weight (g)'] > 5000]"
   ]
  },
  {
   "cell_type": "markdown",
   "metadata": {},
   "source": [
    "##### b) Use the query method to extract the meteorites with mass(g) greater then 50000 and fall equals 'Fell' and nametype equals 'Valid'."
   ]
  },
  {
   "cell_type": "markdown",
   "source": [],
   "metadata": {
    "collapsed": false
   }
  },
  {
   "cell_type": "code",
   "execution_count": 14,
   "metadata": {
    "ExecuteTime": {
     "end_time": "2024-02-29T13:54:12.071191Z",
     "start_time": "2024-02-29T13:54:12.060815Z"
    }
   },
   "outputs": [
    {
     "data": {
      "text/plain": "              Name Validity        Type  Weight (g)  Fall  \\\n2             Abee    Valid         EH4    107000.0  Fell   \n7             Agen    Valid          H5     30000.0  Fell   \n11             Aïr    Valid          L6     24000.0  Fell   \n16         Akyumak    Valid  Iron & IVA     50000.0  Fell   \n19           Alais    Valid         CI1      6000.0  Fell   \n...            ...      ...         ...         ...   ...   \n1097         Zavid    Valid          L6     95000.0  Fell   \n1099  Zemaitkiemis    Valid          L6     44100.0  Fell   \n1100      Zhaodong    Valid          L4     42000.0  Fell   \n1101    Zhovtnevyi    Valid          H6    107000.0  Fell   \n1104         Zomba    Valid          L6      7500.0  Fell   \n\n                        Year     ID       Lat       Long  \n2     01/01/1952 12:00:00 AM      6  54.21667 -113.00000  \n7     01/01/1814 12:00:00 AM    392  44.21667    0.61667  \n11    01/01/1925 12:00:00 AM    424  19.08333    8.38333  \n16    01/01/1981 12:00:00 AM    433  39.91667   42.81667  \n19    01/01/1806 12:00:00 AM    448  44.11667    4.08333  \n...                      ...    ...       ...        ...  \n1097  01/01/1897 12:00:00 AM  30396  44.40000   19.11667  \n1099  01/01/1933 12:00:00 AM  30399  55.30000   25.00000  \n1100  01/01/1984 12:00:00 AM  30404  45.81667  125.91667  \n1101  01/01/1938 12:00:00 AM  30407  47.58333   37.25000  \n1104  01/01/1899 12:00:00 AM  30412 -15.18333   35.28333  \n\n[388 rows x 9 columns]",
      "text/html": "<div>\n<style scoped>\n    .dataframe tbody tr th:only-of-type {\n        vertical-align: middle;\n    }\n\n    .dataframe tbody tr th {\n        vertical-align: top;\n    }\n\n    .dataframe thead th {\n        text-align: right;\n    }\n</style>\n<table border=\"1\" class=\"dataframe\">\n  <thead>\n    <tr style=\"text-align: right;\">\n      <th></th>\n      <th>Name</th>\n      <th>Validity</th>\n      <th>Type</th>\n      <th>Weight (g)</th>\n      <th>Fall</th>\n      <th>Year</th>\n      <th>ID</th>\n      <th>Lat</th>\n      <th>Long</th>\n    </tr>\n  </thead>\n  <tbody>\n    <tr>\n      <th>2</th>\n      <td>Abee</td>\n      <td>Valid</td>\n      <td>EH4</td>\n      <td>107000.0</td>\n      <td>Fell</td>\n      <td>01/01/1952 12:00:00 AM</td>\n      <td>6</td>\n      <td>54.21667</td>\n      <td>-113.00000</td>\n    </tr>\n    <tr>\n      <th>7</th>\n      <td>Agen</td>\n      <td>Valid</td>\n      <td>H5</td>\n      <td>30000.0</td>\n      <td>Fell</td>\n      <td>01/01/1814 12:00:00 AM</td>\n      <td>392</td>\n      <td>44.21667</td>\n      <td>0.61667</td>\n    </tr>\n    <tr>\n      <th>11</th>\n      <td>Aïr</td>\n      <td>Valid</td>\n      <td>L6</td>\n      <td>24000.0</td>\n      <td>Fell</td>\n      <td>01/01/1925 12:00:00 AM</td>\n      <td>424</td>\n      <td>19.08333</td>\n      <td>8.38333</td>\n    </tr>\n    <tr>\n      <th>16</th>\n      <td>Akyumak</td>\n      <td>Valid</td>\n      <td>Iron &amp; IVA</td>\n      <td>50000.0</td>\n      <td>Fell</td>\n      <td>01/01/1981 12:00:00 AM</td>\n      <td>433</td>\n      <td>39.91667</td>\n      <td>42.81667</td>\n    </tr>\n    <tr>\n      <th>19</th>\n      <td>Alais</td>\n      <td>Valid</td>\n      <td>CI1</td>\n      <td>6000.0</td>\n      <td>Fell</td>\n      <td>01/01/1806 12:00:00 AM</td>\n      <td>448</td>\n      <td>44.11667</td>\n      <td>4.08333</td>\n    </tr>\n    <tr>\n      <th>...</th>\n      <td>...</td>\n      <td>...</td>\n      <td>...</td>\n      <td>...</td>\n      <td>...</td>\n      <td>...</td>\n      <td>...</td>\n      <td>...</td>\n      <td>...</td>\n    </tr>\n    <tr>\n      <th>1097</th>\n      <td>Zavid</td>\n      <td>Valid</td>\n      <td>L6</td>\n      <td>95000.0</td>\n      <td>Fell</td>\n      <td>01/01/1897 12:00:00 AM</td>\n      <td>30396</td>\n      <td>44.40000</td>\n      <td>19.11667</td>\n    </tr>\n    <tr>\n      <th>1099</th>\n      <td>Zemaitkiemis</td>\n      <td>Valid</td>\n      <td>L6</td>\n      <td>44100.0</td>\n      <td>Fell</td>\n      <td>01/01/1933 12:00:00 AM</td>\n      <td>30399</td>\n      <td>55.30000</td>\n      <td>25.00000</td>\n    </tr>\n    <tr>\n      <th>1100</th>\n      <td>Zhaodong</td>\n      <td>Valid</td>\n      <td>L4</td>\n      <td>42000.0</td>\n      <td>Fell</td>\n      <td>01/01/1984 12:00:00 AM</td>\n      <td>30404</td>\n      <td>45.81667</td>\n      <td>125.91667</td>\n    </tr>\n    <tr>\n      <th>1101</th>\n      <td>Zhovtnevyi</td>\n      <td>Valid</td>\n      <td>H6</td>\n      <td>107000.0</td>\n      <td>Fell</td>\n      <td>01/01/1938 12:00:00 AM</td>\n      <td>30407</td>\n      <td>47.58333</td>\n      <td>37.25000</td>\n    </tr>\n    <tr>\n      <th>1104</th>\n      <td>Zomba</td>\n      <td>Valid</td>\n      <td>L6</td>\n      <td>7500.0</td>\n      <td>Fell</td>\n      <td>01/01/1899 12:00:00 AM</td>\n      <td>30412</td>\n      <td>-15.18333</td>\n      <td>35.28333</td>\n    </tr>\n  </tbody>\n</table>\n<p>388 rows × 9 columns</p>\n</div>"
     },
     "execution_count": 14,
     "metadata": {},
     "output_type": "execute_result"
    }
   ],
   "source": [
    "meteorites[(meteorites['Weight (g)'] > 5000) & (meteorites.Fall == 'Fell') & (meteorites.Validity == 'Valid')]"
   ]
  },
  {
   "cell_type": "markdown",
   "metadata": {},
   "source": [
    "##### c) Use the query method to extract the meteorites with mass(g) greater then 100000 and the substring 'ur' in the name."
   ]
  },
  {
   "cell_type": "code",
   "execution_count": 15,
   "metadata": {
    "ExecuteTime": {
     "end_time": "2024-02-29T13:56:13.150314Z",
     "start_time": "2024-02-29T13:56:13.131606Z"
    }
   },
   "outputs": [
    {
     "data": {
      "text/plain": "                Name Validity                Type  Weight (g)   Fall  \\\n120         Bjurböle    Valid               L/LL4    330000.0   Fell   \n149      Bur-Gheluai    Valid                  H5    120000.0   Fell   \n5089         Bitburg    Valid  Iron & IAB complex   1500000.0  Found   \n5220    Buenaventura    Valid        Iron & IIIAB    113600.0  Found   \n5224        Bur-Abor    Valid        Iron & IIIAB    290000.0  Found   \n5575      Cranbourne    Valid       Iron & IAB-MG   8600000.0  Found   \n9179         Durango    Valid        Iron & IIIAB    164000.0  Found   \n16368        Henbury    Valid        Iron & IIIAB   2000000.0  Found   \n16525     Itapuranga    Valid       Iron & IAB-MG    628000.0  Found   \n17451    Lake Murray    Valid         Iron & IIAB    270000.0  Found   \n22879         Magura    Valid       Iron & IAB-MG    150000.0  Found   \n26207  Mount Padbury    Valid     Mesosiderite-A1    272000.0  Found   \n26317     Murnpeowie    Valid           Iron & IC   1143000.0  Found   \n37418         Scurry    Valid                  H5    118000.0  Found   \n\n                         Year     ID       Lat       Long  \n120    01/01/1899 12:00:00 AM   5064  60.40000   25.80000  \n149    01/01/1919 12:00:00 AM   5169   5.00000   48.00000  \n5089   01/01/1805 12:00:00 AM   5062  49.96667    6.53333  \n5220   01/01/1969 12:00:00 AM   5162  29.80000 -107.55000  \n5224   01/01/1997 12:00:00 AM   5166   3.98333   41.65000  \n5575   01/01/1854 12:00:00 AM   5463 -38.10000  145.30000  \n9179   01/01/1804 12:00:00 AM   7751       NaN        NaN  \n16368  01/01/1931 12:00:00 AM  11872 -24.56667  133.16667  \n16525                     NaN  12057 -15.58333  -50.15000  \n17451  01/01/1933 12:00:00 AM  12446  34.10000  -97.00000  \n22879  01/01/1840 12:00:00 AM  15388  49.33333   19.48333  \n26207  01/01/1964 12:00:00 AM  16785 -25.66667  118.10000  \n26317  01/01/1909 12:00:00 AM  16878 -29.58333  139.90000  \n37418  01/01/1937 12:00:00 AM  23468  32.50000 -101.00000  ",
      "text/html": "<div>\n<style scoped>\n    .dataframe tbody tr th:only-of-type {\n        vertical-align: middle;\n    }\n\n    .dataframe tbody tr th {\n        vertical-align: top;\n    }\n\n    .dataframe thead th {\n        text-align: right;\n    }\n</style>\n<table border=\"1\" class=\"dataframe\">\n  <thead>\n    <tr style=\"text-align: right;\">\n      <th></th>\n      <th>Name</th>\n      <th>Validity</th>\n      <th>Type</th>\n      <th>Weight (g)</th>\n      <th>Fall</th>\n      <th>Year</th>\n      <th>ID</th>\n      <th>Lat</th>\n      <th>Long</th>\n    </tr>\n  </thead>\n  <tbody>\n    <tr>\n      <th>120</th>\n      <td>Bjurböle</td>\n      <td>Valid</td>\n      <td>L/LL4</td>\n      <td>330000.0</td>\n      <td>Fell</td>\n      <td>01/01/1899 12:00:00 AM</td>\n      <td>5064</td>\n      <td>60.40000</td>\n      <td>25.80000</td>\n    </tr>\n    <tr>\n      <th>149</th>\n      <td>Bur-Gheluai</td>\n      <td>Valid</td>\n      <td>H5</td>\n      <td>120000.0</td>\n      <td>Fell</td>\n      <td>01/01/1919 12:00:00 AM</td>\n      <td>5169</td>\n      <td>5.00000</td>\n      <td>48.00000</td>\n    </tr>\n    <tr>\n      <th>5089</th>\n      <td>Bitburg</td>\n      <td>Valid</td>\n      <td>Iron &amp; IAB complex</td>\n      <td>1500000.0</td>\n      <td>Found</td>\n      <td>01/01/1805 12:00:00 AM</td>\n      <td>5062</td>\n      <td>49.96667</td>\n      <td>6.53333</td>\n    </tr>\n    <tr>\n      <th>5220</th>\n      <td>Buenaventura</td>\n      <td>Valid</td>\n      <td>Iron &amp; IIIAB</td>\n      <td>113600.0</td>\n      <td>Found</td>\n      <td>01/01/1969 12:00:00 AM</td>\n      <td>5162</td>\n      <td>29.80000</td>\n      <td>-107.55000</td>\n    </tr>\n    <tr>\n      <th>5224</th>\n      <td>Bur-Abor</td>\n      <td>Valid</td>\n      <td>Iron &amp; IIIAB</td>\n      <td>290000.0</td>\n      <td>Found</td>\n      <td>01/01/1997 12:00:00 AM</td>\n      <td>5166</td>\n      <td>3.98333</td>\n      <td>41.65000</td>\n    </tr>\n    <tr>\n      <th>5575</th>\n      <td>Cranbourne</td>\n      <td>Valid</td>\n      <td>Iron &amp; IAB-MG</td>\n      <td>8600000.0</td>\n      <td>Found</td>\n      <td>01/01/1854 12:00:00 AM</td>\n      <td>5463</td>\n      <td>-38.10000</td>\n      <td>145.30000</td>\n    </tr>\n    <tr>\n      <th>9179</th>\n      <td>Durango</td>\n      <td>Valid</td>\n      <td>Iron &amp; IIIAB</td>\n      <td>164000.0</td>\n      <td>Found</td>\n      <td>01/01/1804 12:00:00 AM</td>\n      <td>7751</td>\n      <td>NaN</td>\n      <td>NaN</td>\n    </tr>\n    <tr>\n      <th>16368</th>\n      <td>Henbury</td>\n      <td>Valid</td>\n      <td>Iron &amp; IIIAB</td>\n      <td>2000000.0</td>\n      <td>Found</td>\n      <td>01/01/1931 12:00:00 AM</td>\n      <td>11872</td>\n      <td>-24.56667</td>\n      <td>133.16667</td>\n    </tr>\n    <tr>\n      <th>16525</th>\n      <td>Itapuranga</td>\n      <td>Valid</td>\n      <td>Iron &amp; IAB-MG</td>\n      <td>628000.0</td>\n      <td>Found</td>\n      <td>NaN</td>\n      <td>12057</td>\n      <td>-15.58333</td>\n      <td>-50.15000</td>\n    </tr>\n    <tr>\n      <th>17451</th>\n      <td>Lake Murray</td>\n      <td>Valid</td>\n      <td>Iron &amp; IIAB</td>\n      <td>270000.0</td>\n      <td>Found</td>\n      <td>01/01/1933 12:00:00 AM</td>\n      <td>12446</td>\n      <td>34.10000</td>\n      <td>-97.00000</td>\n    </tr>\n    <tr>\n      <th>22879</th>\n      <td>Magura</td>\n      <td>Valid</td>\n      <td>Iron &amp; IAB-MG</td>\n      <td>150000.0</td>\n      <td>Found</td>\n      <td>01/01/1840 12:00:00 AM</td>\n      <td>15388</td>\n      <td>49.33333</td>\n      <td>19.48333</td>\n    </tr>\n    <tr>\n      <th>26207</th>\n      <td>Mount Padbury</td>\n      <td>Valid</td>\n      <td>Mesosiderite-A1</td>\n      <td>272000.0</td>\n      <td>Found</td>\n      <td>01/01/1964 12:00:00 AM</td>\n      <td>16785</td>\n      <td>-25.66667</td>\n      <td>118.10000</td>\n    </tr>\n    <tr>\n      <th>26317</th>\n      <td>Murnpeowie</td>\n      <td>Valid</td>\n      <td>Iron &amp; IC</td>\n      <td>1143000.0</td>\n      <td>Found</td>\n      <td>01/01/1909 12:00:00 AM</td>\n      <td>16878</td>\n      <td>-29.58333</td>\n      <td>139.90000</td>\n    </tr>\n    <tr>\n      <th>37418</th>\n      <td>Scurry</td>\n      <td>Valid</td>\n      <td>H5</td>\n      <td>118000.0</td>\n      <td>Found</td>\n      <td>01/01/1937 12:00:00 AM</td>\n      <td>23468</td>\n      <td>32.50000</td>\n      <td>-101.00000</td>\n    </tr>\n  </tbody>\n</table>\n</div>"
     },
     "execution_count": 15,
     "metadata": {},
     "output_type": "execute_result"
    }
   ],
   "source": [
    "meteorites[(meteorites['Weight (g)'] > 100000) & (meteorites.Name.str.contains('ur'))]"
   ]
  },
  {
   "cell_type": "markdown",
   "metadata": {},
   "source": [
    "### Task 04:  Working with the dataframe"
   ]
  },
  {
   "cell_type": "markdown",
   "metadata": {},
   "source": [
    "##### a) Add a column with the name 'just_year' which contains only the year of the 'year' column."
   ]
  },
  {
   "cell_type": "code",
   "execution_count": 28,
   "metadata": {
    "ExecuteTime": {
     "end_time": "2024-02-29T14:06:40.463154Z",
     "start_time": "2024-02-29T14:06:40.420984Z"
    }
   },
   "outputs": [
    {
     "data": {
      "text/plain": "0    1880\n1    1951\n2    1952\n3    1976\n4    1902\nName: just_year, dtype: object"
     },
     "execution_count": 28,
     "metadata": {},
     "output_type": "execute_result"
    }
   ],
   "source": [
    "meteorites['just_year'] = meteorites.Year.str.replace(r'\\d{2}\\/\\d{2}\\/', '', regex=True).replace(r'\\s\\d{2}:\\d{2}:\\d{2}\\s(A|P)M', '', regex=True)\n",
    "meteorites.just_year.head()"
   ]
  },
  {
   "cell_type": "markdown",
   "metadata": {},
   "source": [
    "##### b) Then add a column 'age', which contains the difference of the current year and the data in the 'just_year' column. For all entries with NaN in the year column set the age to 0."
   ]
  },
  {
   "cell_type": "code",
   "execution_count": 40,
   "metadata": {
    "ExecuteTime": {
     "end_time": "2024-02-29T14:15:58.958843Z",
     "start_time": "2024-02-29T14:15:58.953546Z"
    }
   },
   "outputs": [
    {
     "data": {
      "text/plain": "0        144\n1         73\n2         72\n3         48\n4        122\n        ... \n45711     34\n45712     25\n45713     85\n45714     21\n45715     48\nName: age, Length: 45716, dtype: int64"
     },
     "execution_count": 40,
     "metadata": {},
     "output_type": "execute_result"
    }
   ],
   "source": [
    "import datetime\n",
    "meteorites['age'] = 0\n",
    "meteorites.just_year = pd.to_numeric(meteorites.just_year)\n",
    "meteorites['age'] = datetime.datetime.now().year - meteorites.just_year\n",
    "meteorites.age"
   ]
  },
  {
   "cell_type": "markdown",
   "metadata": {},
   "source": [
    "### Task 05: Reading\n",
    "Take your list of the top12 most important and interesting sections of the ebook \"97 Things Every Data Engineer Should Know\". Read the next top3 sections of your list and write down the most important points of the section with three bullet points each."
   ]
  }
 ],
 "metadata": {
  "kernelspec": {
   "display_name": "Python 3",
   "language": "python",
   "name": "python3"
  },
  "language_info": {
   "codemirror_mode": {
    "name": "ipython",
    "version": 3
   },
   "file_extension": ".py",
   "mimetype": "text/x-python",
   "name": "python",
   "nbconvert_exporter": "python",
   "pygments_lexer": "ipython3",
   "version": "3.8.6"
  }
 },
 "nbformat": 4,
 "nbformat_minor": 4
}
