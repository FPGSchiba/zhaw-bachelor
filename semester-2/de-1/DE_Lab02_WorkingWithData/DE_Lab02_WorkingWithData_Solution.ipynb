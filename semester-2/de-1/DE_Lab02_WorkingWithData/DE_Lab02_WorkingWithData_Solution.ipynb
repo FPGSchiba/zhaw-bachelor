{
 "cells": [
  {
   "cell_type": "markdown",
   "metadata": {},
   "source": [
    "# Data Engineering: Lab 02 - Solution\n",
    "---------------"
   ]
  },
  {
   "cell_type": "markdown",
   "metadata": {},
   "source": [
    "### Task 01: Create data frame called df_beers containing 5 names of beers, their type, alcohol value, and the brewing company."
   ]
  },
  {
   "cell_type": "code",
   "execution_count": 9,
   "metadata": {
    "ExecuteTime": {
     "end_time": "2024-02-29T14:18:10.134686Z",
     "start_time": "2024-02-29T14:18:10.129168Z"
    }
   },
   "outputs": [
    {
     "data": {
      "text/plain": "Beer Name       Chopfab AMBER      Züri-Amber Hürlimann Lagerbier  \\\nBeer Type               Amber           Amber               Lager   \nAlcohol Value             5.4             5.0                 4.8   \nBrewing Company       Chopfab  Brauerei Uster           Hürlimann   \n\nBeer Name       Appenzeller Brandlöscher Feldschlösschen 1876  \nBeer Type                          Lager                Lager  \nAlcohol Value                        4.8                  4.8  \nBrewing Company              Appenzeller      Feldschlösschen  ",
      "text/html": "<div>\n<style scoped>\n    .dataframe tbody tr th:only-of-type {\n        vertical-align: middle;\n    }\n\n    .dataframe tbody tr th {\n        vertical-align: top;\n    }\n\n    .dataframe thead th {\n        text-align: right;\n    }\n</style>\n<table border=\"1\" class=\"dataframe\">\n  <thead>\n    <tr style=\"text-align: right;\">\n      <th>Beer Name</th>\n      <th>Chopfab AMBER</th>\n      <th>Züri-Amber</th>\n      <th>Hürlimann Lagerbier</th>\n      <th>Appenzeller Brandlöscher</th>\n      <th>Feldschlösschen 1876</th>\n    </tr>\n  </thead>\n  <tbody>\n    <tr>\n      <th>Beer Type</th>\n      <td>Amber</td>\n      <td>Amber</td>\n      <td>Lager</td>\n      <td>Lager</td>\n      <td>Lager</td>\n    </tr>\n    <tr>\n      <th>Alcohol Value</th>\n      <td>5.4</td>\n      <td>5.0</td>\n      <td>4.8</td>\n      <td>4.8</td>\n      <td>4.8</td>\n    </tr>\n    <tr>\n      <th>Brewing Company</th>\n      <td>Chopfab</td>\n      <td>Brauerei Uster</td>\n      <td>Hürlimann</td>\n      <td>Appenzeller</td>\n      <td>Feldschlösschen</td>\n    </tr>\n  </tbody>\n</table>\n</div>"
     },
     "execution_count": 9,
     "metadata": {},
     "output_type": "execute_result"
    }
   ],
   "source": [
    "import pandas as pd\n",
    "\n",
    "beers = {\n",
    "\"Beer Name\": [\"Chopfab AMBER\",\"Züri-Amber\",\"Hürlimann Lagerbier\",\"Appenzeller Brandlöscher\",\"Feldschlösschen 1876\"],\n",
    "\"Beer Type\": [\"Amber\",\"Amber\",\"Lager\",\"Lager\",\"Lager\"],\n",
    "\"Alcohol Value\": [\"5.4\",\"5.0\",\"4.8\",\"4.8\",\"4.8\"],\n",
    "\"Brewing Company\": [\"Chopfab\", \"Brauerei Uster\", \"Hürlimann\", \"Appenzeller\", \"Feldschlösschen\"]}\n",
    "df_beers = pd.DataFrame(beers).set_index(\"Beer Name\")\n",
    "df_beers.T"
   ]
  },
  {
   "cell_type": "markdown",
   "metadata": {},
   "source": [
    "### Task 02: Creating a dataframe from csv"
   ]
  },
  {
   "cell_type": "markdown",
   "metadata": {},
   "source": [
    "##### a) Create a DataFrame called meteorites with the meteorite_landings.csv file."
   ]
  },
  {
   "cell_type": "code",
   "execution_count": 10,
   "metadata": {
    "ExecuteTime": {
     "end_time": "2024-02-29T14:18:10.186462Z",
     "start_time": "2024-02-29T14:18:10.142974Z"
    }
   },
   "outputs": [],
   "source": [
    "import pandas as pd\n",
    "\n",
    "meteorites = pd.read_csv('DE_Lab02_WorkingWithData_meteorite_landings.csv')"
   ]
  },
  {
   "cell_type": "markdown",
   "metadata": {},
   "source": [
    "##### b) Print the top5 entries of your DataFrame and check if everything is ok. What information is missing?"
   ]
  },
  {
   "cell_type": "code",
   "execution_count": 11,
   "metadata": {
    "ExecuteTime": {
     "end_time": "2024-02-29T14:18:10.192464Z",
     "start_time": "2024-02-29T14:18:10.187614Z"
    }
   },
   "outputs": [
    {
     "data": {
      "text/plain": "     Aachen  Valid           L5        21  Fell  01/01/1880 12:00:00 AM    1  \\\n0    Aarhus  Valid           H6     720.0  Fell  01/01/1951 12:00:00 AM    2   \n1      Abee  Valid          EH4  107000.0  Fell  01/01/1952 12:00:00 AM    6   \n2  Acapulco  Valid  Acapulcoite    1914.0  Fell  01/01/1976 12:00:00 AM   10   \n3   Achiras  Valid           L6     780.0  Fell  01/01/1902 12:00:00 AM  370   \n4  Adhi Kot  Valid          EH4    4239.0  Fell  01/01/1919 12:00:00 AM  379   \n\n     50.775    6.08333  \n0  56.18333   10.23333  \n1  54.21667 -113.00000  \n2  16.88333  -99.90000  \n3 -33.16667  -64.95000  \n4  32.10000   71.80000  ",
      "text/html": "<div>\n<style scoped>\n    .dataframe tbody tr th:only-of-type {\n        vertical-align: middle;\n    }\n\n    .dataframe tbody tr th {\n        vertical-align: top;\n    }\n\n    .dataframe thead th {\n        text-align: right;\n    }\n</style>\n<table border=\"1\" class=\"dataframe\">\n  <thead>\n    <tr style=\"text-align: right;\">\n      <th></th>\n      <th>Aachen</th>\n      <th>Valid</th>\n      <th>L5</th>\n      <th>21</th>\n      <th>Fell</th>\n      <th>01/01/1880 12:00:00 AM</th>\n      <th>1</th>\n      <th>50.775</th>\n      <th>6.08333</th>\n    </tr>\n  </thead>\n  <tbody>\n    <tr>\n      <th>0</th>\n      <td>Aarhus</td>\n      <td>Valid</td>\n      <td>H6</td>\n      <td>720.0</td>\n      <td>Fell</td>\n      <td>01/01/1951 12:00:00 AM</td>\n      <td>2</td>\n      <td>56.18333</td>\n      <td>10.23333</td>\n    </tr>\n    <tr>\n      <th>1</th>\n      <td>Abee</td>\n      <td>Valid</td>\n      <td>EH4</td>\n      <td>107000.0</td>\n      <td>Fell</td>\n      <td>01/01/1952 12:00:00 AM</td>\n      <td>6</td>\n      <td>54.21667</td>\n      <td>-113.00000</td>\n    </tr>\n    <tr>\n      <th>2</th>\n      <td>Acapulco</td>\n      <td>Valid</td>\n      <td>Acapulcoite</td>\n      <td>1914.0</td>\n      <td>Fell</td>\n      <td>01/01/1976 12:00:00 AM</td>\n      <td>10</td>\n      <td>16.88333</td>\n      <td>-99.90000</td>\n    </tr>\n    <tr>\n      <th>3</th>\n      <td>Achiras</td>\n      <td>Valid</td>\n      <td>L6</td>\n      <td>780.0</td>\n      <td>Fell</td>\n      <td>01/01/1902 12:00:00 AM</td>\n      <td>370</td>\n      <td>-33.16667</td>\n      <td>-64.95000</td>\n    </tr>\n    <tr>\n      <th>4</th>\n      <td>Adhi Kot</td>\n      <td>Valid</td>\n      <td>EH4</td>\n      <td>4239.0</td>\n      <td>Fell</td>\n      <td>01/01/1919 12:00:00 AM</td>\n      <td>379</td>\n      <td>32.10000</td>\n      <td>71.80000</td>\n    </tr>\n  </tbody>\n</table>\n</div>"
     },
     "execution_count": 11,
     "metadata": {},
     "output_type": "execute_result"
    }
   ],
   "source": [
    "meteorites.head()"
   ]
  },
  {
   "cell_type": "markdown",
   "metadata": {},
   "source": [
    "##### c) Create the DataFrame again with the missing information and print the top5 entries."
   ]
  },
  {
   "cell_type": "code",
   "execution_count": 12,
   "metadata": {
    "ExecuteTime": {
     "end_time": "2024-02-29T14:18:10.235962Z",
     "start_time": "2024-02-29T14:18:10.193128Z"
    }
   },
   "outputs": [
    {
     "data": {
      "text/plain": "       name nametype     recclass  mass (g)  fall                    year  \\\n0    Aachen    Valid           L5      21.0  Fell  01/01/1880 12:00:00 AM   \n1    Aarhus    Valid           H6     720.0  Fell  01/01/1951 12:00:00 AM   \n2      Abee    Valid          EH4  107000.0  Fell  01/01/1952 12:00:00 AM   \n3  Acapulco    Valid  Acapulcoite    1914.0  Fell  01/01/1976 12:00:00 AM   \n4   Achiras    Valid           L6     780.0  Fell  01/01/1902 12:00:00 AM   \n\n    id    reclat    reclong  \n0    1  50.77500    6.08333  \n1    2  56.18333   10.23333  \n2    6  54.21667 -113.00000  \n3   10  16.88333  -99.90000  \n4  370 -33.16667  -64.95000  ",
      "text/html": "<div>\n<style scoped>\n    .dataframe tbody tr th:only-of-type {\n        vertical-align: middle;\n    }\n\n    .dataframe tbody tr th {\n        vertical-align: top;\n    }\n\n    .dataframe thead th {\n        text-align: right;\n    }\n</style>\n<table border=\"1\" class=\"dataframe\">\n  <thead>\n    <tr style=\"text-align: right;\">\n      <th></th>\n      <th>name</th>\n      <th>nametype</th>\n      <th>recclass</th>\n      <th>mass (g)</th>\n      <th>fall</th>\n      <th>year</th>\n      <th>id</th>\n      <th>reclat</th>\n      <th>reclong</th>\n    </tr>\n  </thead>\n  <tbody>\n    <tr>\n      <th>0</th>\n      <td>Aachen</td>\n      <td>Valid</td>\n      <td>L5</td>\n      <td>21.0</td>\n      <td>Fell</td>\n      <td>01/01/1880 12:00:00 AM</td>\n      <td>1</td>\n      <td>50.77500</td>\n      <td>6.08333</td>\n    </tr>\n    <tr>\n      <th>1</th>\n      <td>Aarhus</td>\n      <td>Valid</td>\n      <td>H6</td>\n      <td>720.0</td>\n      <td>Fell</td>\n      <td>01/01/1951 12:00:00 AM</td>\n      <td>2</td>\n      <td>56.18333</td>\n      <td>10.23333</td>\n    </tr>\n    <tr>\n      <th>2</th>\n      <td>Abee</td>\n      <td>Valid</td>\n      <td>EH4</td>\n      <td>107000.0</td>\n      <td>Fell</td>\n      <td>01/01/1952 12:00:00 AM</td>\n      <td>6</td>\n      <td>54.21667</td>\n      <td>-113.00000</td>\n    </tr>\n    <tr>\n      <th>3</th>\n      <td>Acapulco</td>\n      <td>Valid</td>\n      <td>Acapulcoite</td>\n      <td>1914.0</td>\n      <td>Fell</td>\n      <td>01/01/1976 12:00:00 AM</td>\n      <td>10</td>\n      <td>16.88333</td>\n      <td>-99.90000</td>\n    </tr>\n    <tr>\n      <th>4</th>\n      <td>Achiras</td>\n      <td>Valid</td>\n      <td>L6</td>\n      <td>780.0</td>\n      <td>Fell</td>\n      <td>01/01/1902 12:00:00 AM</td>\n      <td>370</td>\n      <td>-33.16667</td>\n      <td>-64.95000</td>\n    </tr>\n  </tbody>\n</table>\n</div>"
     },
     "execution_count": 12,
     "metadata": {},
     "output_type": "execute_result"
    }
   ],
   "source": [
    "meteorites = pd.read_csv('DE_Lab02_WorkingWithData_meteorite_landings.csv', names=['name', 'nametype', 'recclass', 'mass (g)', 'fall', 'year', 'id', 'reclat', 'reclong'])\n",
    "\n",
    "meteorites.head()"
   ]
  },
  {
   "cell_type": "markdown",
   "metadata": {},
   "source": [
    "### Task 03: Extracting subsets"
   ]
  },
  {
   "cell_type": "markdown",
   "metadata": {},
   "source": [
    "##### a) Use the query method to extract the meteorites with mass(g) greater then 50000."
   ]
  },
  {
   "cell_type": "code",
   "execution_count": 13,
   "metadata": {
    "ExecuteTime": {
     "end_time": "2024-02-29T14:18:10.243576Z",
     "start_time": "2024-02-29T14:18:10.237238Z"
    }
   },
   "outputs": [
    {
     "data": {
      "text/plain": "               name nametype            recclass   mass (g)   fall  \\\n2              Abee    Valid                 EH4   107000.0   Fell   \n27       Alfianello    Valid                  L6   228000.0   Fell   \n29          Allende    Valid                 CV3  2000000.0   Fell   \n84     Bath Furnace    Valid                  L6    86000.0   Fell   \n120        Bjurböle    Valid               L/LL4   330000.0   Fell   \n...             ...      ...                 ...        ...    ...   \n45700      Zaragoza    Valid       Iron & IVA-an   162000.0  Found   \n45705      Zerhamra    Valid     Iron & IIIAB-an   630000.0  Found   \n45707      Zhaoping    Valid  Iron & IAB complex  2000000.0  Found   \n45708      Zhigansk    Valid        Iron & IIIAB   900000.0  Found   \n45709    Zhongxiang    Valid                Iron   100000.0  Found   \n\n                         year     id    reclat    reclong  \n2      01/01/1952 12:00:00 AM      6  54.21667 -113.00000  \n27     01/01/1883 12:00:00 AM    466  45.26667   10.15000  \n29     01/01/1969 12:00:00 AM   2278  26.96667 -105.31667  \n84     01/01/1902 12:00:00 AM   4975  38.25000  -83.75000  \n120    01/01/1899 12:00:00 AM   5064  60.40000   25.80000  \n...                       ...    ...       ...        ...  \n45700                     NaN  48916  41.65000   -0.86667  \n45705  01/01/1967 12:00:00 AM  30403  29.85861   -2.64500  \n45707  01/01/1983 12:00:00 AM  54609  24.23333  111.18333  \n45708  01/01/1966 12:00:00 AM  30405  68.00000  128.30000  \n45709  01/01/1981 12:00:00 AM  30406  31.20000  112.50000  \n\n[459 rows x 9 columns]",
      "text/html": "<div>\n<style scoped>\n    .dataframe tbody tr th:only-of-type {\n        vertical-align: middle;\n    }\n\n    .dataframe tbody tr th {\n        vertical-align: top;\n    }\n\n    .dataframe thead th {\n        text-align: right;\n    }\n</style>\n<table border=\"1\" class=\"dataframe\">\n  <thead>\n    <tr style=\"text-align: right;\">\n      <th></th>\n      <th>name</th>\n      <th>nametype</th>\n      <th>recclass</th>\n      <th>mass (g)</th>\n      <th>fall</th>\n      <th>year</th>\n      <th>id</th>\n      <th>reclat</th>\n      <th>reclong</th>\n    </tr>\n  </thead>\n  <tbody>\n    <tr>\n      <th>2</th>\n      <td>Abee</td>\n      <td>Valid</td>\n      <td>EH4</td>\n      <td>107000.0</td>\n      <td>Fell</td>\n      <td>01/01/1952 12:00:00 AM</td>\n      <td>6</td>\n      <td>54.21667</td>\n      <td>-113.00000</td>\n    </tr>\n    <tr>\n      <th>27</th>\n      <td>Alfianello</td>\n      <td>Valid</td>\n      <td>L6</td>\n      <td>228000.0</td>\n      <td>Fell</td>\n      <td>01/01/1883 12:00:00 AM</td>\n      <td>466</td>\n      <td>45.26667</td>\n      <td>10.15000</td>\n    </tr>\n    <tr>\n      <th>29</th>\n      <td>Allende</td>\n      <td>Valid</td>\n      <td>CV3</td>\n      <td>2000000.0</td>\n      <td>Fell</td>\n      <td>01/01/1969 12:00:00 AM</td>\n      <td>2278</td>\n      <td>26.96667</td>\n      <td>-105.31667</td>\n    </tr>\n    <tr>\n      <th>84</th>\n      <td>Bath Furnace</td>\n      <td>Valid</td>\n      <td>L6</td>\n      <td>86000.0</td>\n      <td>Fell</td>\n      <td>01/01/1902 12:00:00 AM</td>\n      <td>4975</td>\n      <td>38.25000</td>\n      <td>-83.75000</td>\n    </tr>\n    <tr>\n      <th>120</th>\n      <td>Bjurböle</td>\n      <td>Valid</td>\n      <td>L/LL4</td>\n      <td>330000.0</td>\n      <td>Fell</td>\n      <td>01/01/1899 12:00:00 AM</td>\n      <td>5064</td>\n      <td>60.40000</td>\n      <td>25.80000</td>\n    </tr>\n    <tr>\n      <th>...</th>\n      <td>...</td>\n      <td>...</td>\n      <td>...</td>\n      <td>...</td>\n      <td>...</td>\n      <td>...</td>\n      <td>...</td>\n      <td>...</td>\n      <td>...</td>\n    </tr>\n    <tr>\n      <th>45700</th>\n      <td>Zaragoza</td>\n      <td>Valid</td>\n      <td>Iron &amp; IVA-an</td>\n      <td>162000.0</td>\n      <td>Found</td>\n      <td>NaN</td>\n      <td>48916</td>\n      <td>41.65000</td>\n      <td>-0.86667</td>\n    </tr>\n    <tr>\n      <th>45705</th>\n      <td>Zerhamra</td>\n      <td>Valid</td>\n      <td>Iron &amp; IIIAB-an</td>\n      <td>630000.0</td>\n      <td>Found</td>\n      <td>01/01/1967 12:00:00 AM</td>\n      <td>30403</td>\n      <td>29.85861</td>\n      <td>-2.64500</td>\n    </tr>\n    <tr>\n      <th>45707</th>\n      <td>Zhaoping</td>\n      <td>Valid</td>\n      <td>Iron &amp; IAB complex</td>\n      <td>2000000.0</td>\n      <td>Found</td>\n      <td>01/01/1983 12:00:00 AM</td>\n      <td>54609</td>\n      <td>24.23333</td>\n      <td>111.18333</td>\n    </tr>\n    <tr>\n      <th>45708</th>\n      <td>Zhigansk</td>\n      <td>Valid</td>\n      <td>Iron &amp; IIIAB</td>\n      <td>900000.0</td>\n      <td>Found</td>\n      <td>01/01/1966 12:00:00 AM</td>\n      <td>30405</td>\n      <td>68.00000</td>\n      <td>128.30000</td>\n    </tr>\n    <tr>\n      <th>45709</th>\n      <td>Zhongxiang</td>\n      <td>Valid</td>\n      <td>Iron</td>\n      <td>100000.0</td>\n      <td>Found</td>\n      <td>01/01/1981 12:00:00 AM</td>\n      <td>30406</td>\n      <td>31.20000</td>\n      <td>112.50000</td>\n    </tr>\n  </tbody>\n</table>\n<p>459 rows × 9 columns</p>\n</div>"
     },
     "execution_count": 13,
     "metadata": {},
     "output_type": "execute_result"
    }
   ],
   "source": [
    "meteorites.query(\"`mass (g)` > 50000\")"
   ]
  },
  {
   "cell_type": "markdown",
   "metadata": {},
   "source": [
    "##### b) Use the query method to extract the meteorites with mass(g) greater then 50000 and fall equals 'Fell' and nametype equals 'Valid'."
   ]
  },
  {
   "cell_type": "code",
   "execution_count": 14,
   "metadata": {
    "ExecuteTime": {
     "end_time": "2024-02-29T14:18:10.252037Z",
     "start_time": "2024-02-29T14:18:10.244312Z"
    }
   },
   "outputs": [
    {
     "data": {
      "text/plain": "              name nametype            recclass   mass (g)  fall  \\\n2             Abee    Valid                 EH4   107000.0  Fell   \n27      Alfianello    Valid                  L6   228000.0  Fell   \n29         Allende    Valid                 CV3  2000000.0  Fell   \n84    Bath Furnace    Valid                  L6    86000.0  Fell   \n120       Bjurböle    Valid               L/LL4   330000.0  Fell   \n...            ...      ...                 ...        ...   ...   \n1077      Xingyang    Valid                  H6    75500.0  Fell   \n1082      Yardymly    Valid  Iron & IAB complex   150200.0  Fell   \n1091           Zag    Valid                H3-6   175000.0  Fell   \n1097         Zavid    Valid                  L6    95000.0  Fell   \n1101    Zhovtnevyi    Valid                  H6   107000.0  Fell   \n\n                        year     id    reclat    reclong  \n2     01/01/1952 12:00:00 AM      6  54.21667 -113.00000  \n27    01/01/1883 12:00:00 AM    466  45.26667   10.15000  \n29    01/01/1969 12:00:00 AM   2278  26.96667 -105.31667  \n84    01/01/1902 12:00:00 AM   4975  38.25000  -83.75000  \n120   01/01/1899 12:00:00 AM   5064  60.40000   25.80000  \n...                      ...    ...       ...        ...  \n1077  01/01/1977 12:00:00 AM  24346  32.33333  114.31667  \n1082  01/01/1959 12:00:00 AM  30352  38.93333   48.25000  \n1091  01/01/1998 12:00:00 AM  30384  27.33333   -9.33333  \n1097  01/01/1897 12:00:00 AM  30396  44.40000   19.11667  \n1101  01/01/1938 12:00:00 AM  30407  47.58333   37.25000  \n\n[89 rows x 9 columns]",
      "text/html": "<div>\n<style scoped>\n    .dataframe tbody tr th:only-of-type {\n        vertical-align: middle;\n    }\n\n    .dataframe tbody tr th {\n        vertical-align: top;\n    }\n\n    .dataframe thead th {\n        text-align: right;\n    }\n</style>\n<table border=\"1\" class=\"dataframe\">\n  <thead>\n    <tr style=\"text-align: right;\">\n      <th></th>\n      <th>name</th>\n      <th>nametype</th>\n      <th>recclass</th>\n      <th>mass (g)</th>\n      <th>fall</th>\n      <th>year</th>\n      <th>id</th>\n      <th>reclat</th>\n      <th>reclong</th>\n    </tr>\n  </thead>\n  <tbody>\n    <tr>\n      <th>2</th>\n      <td>Abee</td>\n      <td>Valid</td>\n      <td>EH4</td>\n      <td>107000.0</td>\n      <td>Fell</td>\n      <td>01/01/1952 12:00:00 AM</td>\n      <td>6</td>\n      <td>54.21667</td>\n      <td>-113.00000</td>\n    </tr>\n    <tr>\n      <th>27</th>\n      <td>Alfianello</td>\n      <td>Valid</td>\n      <td>L6</td>\n      <td>228000.0</td>\n      <td>Fell</td>\n      <td>01/01/1883 12:00:00 AM</td>\n      <td>466</td>\n      <td>45.26667</td>\n      <td>10.15000</td>\n    </tr>\n    <tr>\n      <th>29</th>\n      <td>Allende</td>\n      <td>Valid</td>\n      <td>CV3</td>\n      <td>2000000.0</td>\n      <td>Fell</td>\n      <td>01/01/1969 12:00:00 AM</td>\n      <td>2278</td>\n      <td>26.96667</td>\n      <td>-105.31667</td>\n    </tr>\n    <tr>\n      <th>84</th>\n      <td>Bath Furnace</td>\n      <td>Valid</td>\n      <td>L6</td>\n      <td>86000.0</td>\n      <td>Fell</td>\n      <td>01/01/1902 12:00:00 AM</td>\n      <td>4975</td>\n      <td>38.25000</td>\n      <td>-83.75000</td>\n    </tr>\n    <tr>\n      <th>120</th>\n      <td>Bjurböle</td>\n      <td>Valid</td>\n      <td>L/LL4</td>\n      <td>330000.0</td>\n      <td>Fell</td>\n      <td>01/01/1899 12:00:00 AM</td>\n      <td>5064</td>\n      <td>60.40000</td>\n      <td>25.80000</td>\n    </tr>\n    <tr>\n      <th>...</th>\n      <td>...</td>\n      <td>...</td>\n      <td>...</td>\n      <td>...</td>\n      <td>...</td>\n      <td>...</td>\n      <td>...</td>\n      <td>...</td>\n      <td>...</td>\n    </tr>\n    <tr>\n      <th>1077</th>\n      <td>Xingyang</td>\n      <td>Valid</td>\n      <td>H6</td>\n      <td>75500.0</td>\n      <td>Fell</td>\n      <td>01/01/1977 12:00:00 AM</td>\n      <td>24346</td>\n      <td>32.33333</td>\n      <td>114.31667</td>\n    </tr>\n    <tr>\n      <th>1082</th>\n      <td>Yardymly</td>\n      <td>Valid</td>\n      <td>Iron &amp; IAB complex</td>\n      <td>150200.0</td>\n      <td>Fell</td>\n      <td>01/01/1959 12:00:00 AM</td>\n      <td>30352</td>\n      <td>38.93333</td>\n      <td>48.25000</td>\n    </tr>\n    <tr>\n      <th>1091</th>\n      <td>Zag</td>\n      <td>Valid</td>\n      <td>H3-6</td>\n      <td>175000.0</td>\n      <td>Fell</td>\n      <td>01/01/1998 12:00:00 AM</td>\n      <td>30384</td>\n      <td>27.33333</td>\n      <td>-9.33333</td>\n    </tr>\n    <tr>\n      <th>1097</th>\n      <td>Zavid</td>\n      <td>Valid</td>\n      <td>L6</td>\n      <td>95000.0</td>\n      <td>Fell</td>\n      <td>01/01/1897 12:00:00 AM</td>\n      <td>30396</td>\n      <td>44.40000</td>\n      <td>19.11667</td>\n    </tr>\n    <tr>\n      <th>1101</th>\n      <td>Zhovtnevyi</td>\n      <td>Valid</td>\n      <td>H6</td>\n      <td>107000.0</td>\n      <td>Fell</td>\n      <td>01/01/1938 12:00:00 AM</td>\n      <td>30407</td>\n      <td>47.58333</td>\n      <td>37.25000</td>\n    </tr>\n  </tbody>\n</table>\n<p>89 rows × 9 columns</p>\n</div>"
     },
     "execution_count": 14,
     "metadata": {},
     "output_type": "execute_result"
    }
   ],
   "source": [
    "meteorites.query(\"`mass (g)` > 50000 and fall == 'Fell' and nametype == 'Valid'\")"
   ]
  },
  {
   "cell_type": "markdown",
   "metadata": {},
   "source": [
    "##### c) Use the query method to extract the meteorites with mass(g) greater then 100000 and the substring 'ur' in the name."
   ]
  },
  {
   "cell_type": "code",
   "execution_count": 15,
   "metadata": {
    "ExecuteTime": {
     "end_time": "2024-02-29T14:18:10.265139Z",
     "start_time": "2024-02-29T14:18:10.252652Z"
    }
   },
   "outputs": [
    {
     "data": {
      "text/plain": "                name nametype            recclass   mass (g)   fall  \\\n120         Bjurböle    Valid               L/LL4   330000.0   Fell   \n149      Bur-Gheluai    Valid                  H5   120000.0   Fell   \n5089         Bitburg    Valid  Iron & IAB complex  1500000.0  Found   \n5220    Buenaventura    Valid        Iron & IIIAB   113600.0  Found   \n5224        Bur-Abor    Valid        Iron & IIIAB   290000.0  Found   \n5575      Cranbourne    Valid       Iron & IAB-MG  8600000.0  Found   \n9179         Durango    Valid        Iron & IIIAB   164000.0  Found   \n16368        Henbury    Valid        Iron & IIIAB  2000000.0  Found   \n16525     Itapuranga    Valid       Iron & IAB-MG   628000.0  Found   \n17451    Lake Murray    Valid         Iron & IIAB   270000.0  Found   \n22879         Magura    Valid       Iron & IAB-MG   150000.0  Found   \n26207  Mount Padbury    Valid     Mesosiderite-A1   272000.0  Found   \n26317     Murnpeowie    Valid           Iron & IC  1143000.0  Found   \n37418         Scurry    Valid                  H5   118000.0  Found   \n\n                         year     id    reclat    reclong  \n120    01/01/1899 12:00:00 AM   5064  60.40000   25.80000  \n149    01/01/1919 12:00:00 AM   5169   5.00000   48.00000  \n5089   01/01/1805 12:00:00 AM   5062  49.96667    6.53333  \n5220   01/01/1969 12:00:00 AM   5162  29.80000 -107.55000  \n5224   01/01/1997 12:00:00 AM   5166   3.98333   41.65000  \n5575   01/01/1854 12:00:00 AM   5463 -38.10000  145.30000  \n9179   01/01/1804 12:00:00 AM   7751       NaN        NaN  \n16368  01/01/1931 12:00:00 AM  11872 -24.56667  133.16667  \n16525                     NaN  12057 -15.58333  -50.15000  \n17451  01/01/1933 12:00:00 AM  12446  34.10000  -97.00000  \n22879  01/01/1840 12:00:00 AM  15388  49.33333   19.48333  \n26207  01/01/1964 12:00:00 AM  16785 -25.66667  118.10000  \n26317  01/01/1909 12:00:00 AM  16878 -29.58333  139.90000  \n37418  01/01/1937 12:00:00 AM  23468  32.50000 -101.00000  ",
      "text/html": "<div>\n<style scoped>\n    .dataframe tbody tr th:only-of-type {\n        vertical-align: middle;\n    }\n\n    .dataframe tbody tr th {\n        vertical-align: top;\n    }\n\n    .dataframe thead th {\n        text-align: right;\n    }\n</style>\n<table border=\"1\" class=\"dataframe\">\n  <thead>\n    <tr style=\"text-align: right;\">\n      <th></th>\n      <th>name</th>\n      <th>nametype</th>\n      <th>recclass</th>\n      <th>mass (g)</th>\n      <th>fall</th>\n      <th>year</th>\n      <th>id</th>\n      <th>reclat</th>\n      <th>reclong</th>\n    </tr>\n  </thead>\n  <tbody>\n    <tr>\n      <th>120</th>\n      <td>Bjurböle</td>\n      <td>Valid</td>\n      <td>L/LL4</td>\n      <td>330000.0</td>\n      <td>Fell</td>\n      <td>01/01/1899 12:00:00 AM</td>\n      <td>5064</td>\n      <td>60.40000</td>\n      <td>25.80000</td>\n    </tr>\n    <tr>\n      <th>149</th>\n      <td>Bur-Gheluai</td>\n      <td>Valid</td>\n      <td>H5</td>\n      <td>120000.0</td>\n      <td>Fell</td>\n      <td>01/01/1919 12:00:00 AM</td>\n      <td>5169</td>\n      <td>5.00000</td>\n      <td>48.00000</td>\n    </tr>\n    <tr>\n      <th>5089</th>\n      <td>Bitburg</td>\n      <td>Valid</td>\n      <td>Iron &amp; IAB complex</td>\n      <td>1500000.0</td>\n      <td>Found</td>\n      <td>01/01/1805 12:00:00 AM</td>\n      <td>5062</td>\n      <td>49.96667</td>\n      <td>6.53333</td>\n    </tr>\n    <tr>\n      <th>5220</th>\n      <td>Buenaventura</td>\n      <td>Valid</td>\n      <td>Iron &amp; IIIAB</td>\n      <td>113600.0</td>\n      <td>Found</td>\n      <td>01/01/1969 12:00:00 AM</td>\n      <td>5162</td>\n      <td>29.80000</td>\n      <td>-107.55000</td>\n    </tr>\n    <tr>\n      <th>5224</th>\n      <td>Bur-Abor</td>\n      <td>Valid</td>\n      <td>Iron &amp; IIIAB</td>\n      <td>290000.0</td>\n      <td>Found</td>\n      <td>01/01/1997 12:00:00 AM</td>\n      <td>5166</td>\n      <td>3.98333</td>\n      <td>41.65000</td>\n    </tr>\n    <tr>\n      <th>5575</th>\n      <td>Cranbourne</td>\n      <td>Valid</td>\n      <td>Iron &amp; IAB-MG</td>\n      <td>8600000.0</td>\n      <td>Found</td>\n      <td>01/01/1854 12:00:00 AM</td>\n      <td>5463</td>\n      <td>-38.10000</td>\n      <td>145.30000</td>\n    </tr>\n    <tr>\n      <th>9179</th>\n      <td>Durango</td>\n      <td>Valid</td>\n      <td>Iron &amp; IIIAB</td>\n      <td>164000.0</td>\n      <td>Found</td>\n      <td>01/01/1804 12:00:00 AM</td>\n      <td>7751</td>\n      <td>NaN</td>\n      <td>NaN</td>\n    </tr>\n    <tr>\n      <th>16368</th>\n      <td>Henbury</td>\n      <td>Valid</td>\n      <td>Iron &amp; IIIAB</td>\n      <td>2000000.0</td>\n      <td>Found</td>\n      <td>01/01/1931 12:00:00 AM</td>\n      <td>11872</td>\n      <td>-24.56667</td>\n      <td>133.16667</td>\n    </tr>\n    <tr>\n      <th>16525</th>\n      <td>Itapuranga</td>\n      <td>Valid</td>\n      <td>Iron &amp; IAB-MG</td>\n      <td>628000.0</td>\n      <td>Found</td>\n      <td>NaN</td>\n      <td>12057</td>\n      <td>-15.58333</td>\n      <td>-50.15000</td>\n    </tr>\n    <tr>\n      <th>17451</th>\n      <td>Lake Murray</td>\n      <td>Valid</td>\n      <td>Iron &amp; IIAB</td>\n      <td>270000.0</td>\n      <td>Found</td>\n      <td>01/01/1933 12:00:00 AM</td>\n      <td>12446</td>\n      <td>34.10000</td>\n      <td>-97.00000</td>\n    </tr>\n    <tr>\n      <th>22879</th>\n      <td>Magura</td>\n      <td>Valid</td>\n      <td>Iron &amp; IAB-MG</td>\n      <td>150000.0</td>\n      <td>Found</td>\n      <td>01/01/1840 12:00:00 AM</td>\n      <td>15388</td>\n      <td>49.33333</td>\n      <td>19.48333</td>\n    </tr>\n    <tr>\n      <th>26207</th>\n      <td>Mount Padbury</td>\n      <td>Valid</td>\n      <td>Mesosiderite-A1</td>\n      <td>272000.0</td>\n      <td>Found</td>\n      <td>01/01/1964 12:00:00 AM</td>\n      <td>16785</td>\n      <td>-25.66667</td>\n      <td>118.10000</td>\n    </tr>\n    <tr>\n      <th>26317</th>\n      <td>Murnpeowie</td>\n      <td>Valid</td>\n      <td>Iron &amp; IC</td>\n      <td>1143000.0</td>\n      <td>Found</td>\n      <td>01/01/1909 12:00:00 AM</td>\n      <td>16878</td>\n      <td>-29.58333</td>\n      <td>139.90000</td>\n    </tr>\n    <tr>\n      <th>37418</th>\n      <td>Scurry</td>\n      <td>Valid</td>\n      <td>H5</td>\n      <td>118000.0</td>\n      <td>Found</td>\n      <td>01/01/1937 12:00:00 AM</td>\n      <td>23468</td>\n      <td>32.50000</td>\n      <td>-101.00000</td>\n    </tr>\n  </tbody>\n</table>\n</div>"
     },
     "execution_count": 15,
     "metadata": {},
     "output_type": "execute_result"
    }
   ],
   "source": [
    "meteorites.query(\"`mass (g)` > 100000 and name.str.contains('ur')\")"
   ]
  },
  {
   "cell_type": "code",
   "execution_count": 16,
   "metadata": {
    "ExecuteTime": {
     "end_time": "2024-02-29T14:18:10.268695Z",
     "start_time": "2024-02-29T14:18:10.265834Z"
    }
   },
   "outputs": [],
   "source": [
    "meteorites[\"name\"] = meteorites[\"name\"].astype(str)"
   ]
  },
  {
   "cell_type": "code",
   "execution_count": 17,
   "metadata": {
    "ExecuteTime": {
     "end_time": "2024-02-29T14:18:10.277784Z",
     "start_time": "2024-02-29T14:18:10.269362Z"
    }
   },
   "outputs": [
    {
     "name": "stdout",
     "output_type": "stream",
     "text": [
      "<class 'pandas.core.frame.DataFrame'>\n",
      "RangeIndex: 45716 entries, 0 to 45715\n",
      "Data columns (total 9 columns):\n",
      " #   Column    Non-Null Count  Dtype  \n",
      "---  ------    --------------  -----  \n",
      " 0   name      45716 non-null  object \n",
      " 1   nametype  45716 non-null  object \n",
      " 2   recclass  45716 non-null  object \n",
      " 3   mass (g)  45585 non-null  float64\n",
      " 4   fall      45716 non-null  object \n",
      " 5   year      45428 non-null  object \n",
      " 6   id        45716 non-null  int64  \n",
      " 7   reclat    38401 non-null  float64\n",
      " 8   reclong   38401 non-null  float64\n",
      "dtypes: float64(3), int64(1), object(5)\n",
      "memory usage: 3.1+ MB\n"
     ]
    }
   ],
   "source": [
    "meteorites.info()"
   ]
  },
  {
   "cell_type": "markdown",
   "metadata": {},
   "source": [
    "### Task 04:  Working with the dataframe"
   ]
  },
  {
   "cell_type": "markdown",
   "metadata": {},
   "source": [
    "##### a) Add a column with the name 'just_year' which contains only the year of the 'year' column."
   ]
  },
  {
   "cell_type": "code",
   "execution_count": 18,
   "metadata": {
    "ExecuteTime": {
     "end_time": "2024-02-29T14:18:10.284449Z",
     "start_time": "2024-02-29T14:18:10.278427Z"
    }
   },
   "outputs": [],
   "source": [
    "meteorites['just_year'] = meteorites.year.str.slice(6, 10)"
   ]
  },
  {
   "cell_type": "markdown",
   "metadata": {},
   "source": [
    "##### b) Then add a column 'age', which contains the difference of the current year and the data in the 'just_year' column. For all entries with NaN in the year column set the age to 0."
   ]
  },
  {
   "cell_type": "code",
   "execution_count": 21,
   "metadata": {
    "ExecuteTime": {
     "end_time": "2024-02-29T14:18:35.248330Z",
     "start_time": "2024-02-29T14:18:35.243992Z"
    }
   },
   "outputs": [
    {
     "data": {
      "text/plain": "0        141.0\n1         70.0\n2         69.0\n3         45.0\n4        119.0\n         ...  \n45711     31.0\n45712     22.0\n45713     82.0\n45714     18.0\n45715     45.0\nName: age, Length: 45716, dtype: float64"
     },
     "execution_count": 21,
     "metadata": {},
     "output_type": "execute_result"
    }
   ],
   "source": [
    "meteorites['age'] = 0\n",
    "meteorites['just_year'] = pd.to_numeric(meteorites['just_year'])\n",
    "meteorites['age'] = 2021 - meteorites['just_year']\n",
    "meteorites.age"
   ]
  },
  {
   "cell_type": "markdown",
   "metadata": {},
   "source": [
    "### Task 05: Reading\n",
    "Take your list of the top12 most important and interesting sections of the ebook \"97 Things Every Data Engineer Should Know\". Read the next top3 sections of your list and write down the most important points of the section with three bullet points each."
   ]
  }
 ],
 "metadata": {
  "kernelspec": {
   "display_name": "Python 3",
   "language": "python",
   "name": "python3"
  },
  "language_info": {
   "codemirror_mode": {
    "name": "ipython",
    "version": 3
   },
   "file_extension": ".py",
   "mimetype": "text/x-python",
   "name": "python",
   "nbconvert_exporter": "python",
   "pygments_lexer": "ipython3",
   "version": "3.8.6"
  }
 },
 "nbformat": 4,
 "nbformat_minor": 4
}
