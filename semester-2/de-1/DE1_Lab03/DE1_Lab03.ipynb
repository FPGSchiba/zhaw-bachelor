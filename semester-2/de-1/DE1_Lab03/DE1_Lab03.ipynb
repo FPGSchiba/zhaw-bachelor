{
 "cells": [
  {
   "cell_type": "markdown",
   "metadata": {},
   "source": [
    "# Data Engineering 1: Lab 03\n",
    "---------------"
   ]
  },
  {
   "cell_type": "markdown",
   "metadata": {
    "id": "6Ijg5wUCTQYG"
   },
   "source": [
    "## **The Dataset**\n",
    "\n",
    "The dataset to be used in this lab is a CSV file named `airbnb.csv`, which contains data on airbnb listings in the state of New York. It contains the following columns:\n",
    "\n",
    "- `listing_id`: The unique identifier for a listing\n",
    "- `description`: The description used on the listing\n",
    "- `host_id`: Unique identifier for a host\n",
    "- `host_name`: Name of host\n",
    "- `neighbourhood_full`: Name of boroughs and neighbourhoods\n",
    "- `coordinates`: Coordinates of listing _(latitude, longitude)_\n",
    "- `Listing added`: Date of added listing\n",
    "- `room_type`: Type of room \n",
    "- `rating`: Rating from 0 to 5.\n",
    "- `price`: Price per night for listing\n",
    "- `number_of_reviews`: Amount of reviews received \n",
    "- `last_review`: Date of last review\n",
    "- `reviews_per_month`: Number of reviews per month\n",
    "- `availability_365`: Number of days available per year\n",
    "- `Number of stays`: Total number of stays thus far\n"
   ]
  },
  {
   "cell_type": "markdown",
   "metadata": {
    "id": "BMYfcKeDY85K"
   },
   "source": [
    "## **Getting started**"
   ]
  },
  {
   "cell_type": "code",
   "execution_count": 68,
   "metadata": {
    "id": "EMQfyC7GUNhT",
    "ExecuteTime": {
     "end_time": "2024-03-07T13:38:18.300333Z",
     "start_time": "2024-03-07T13:38:18.298724Z"
    }
   },
   "outputs": [],
   "source": [
    "import re\n",
    "\n",
    "# Import libraries\n",
    "import pandas as pd\n",
    "import numpy as np\n",
    "import datetime as dt"
   ]
  },
  {
   "cell_type": "code",
   "execution_count": 69,
   "metadata": {
    "id": "l8t_EwRNZPLB",
    "ExecuteTime": {
     "end_time": "2024-03-07T13:38:18.473406Z",
     "start_time": "2024-03-07T13:38:18.448859Z"
    }
   },
   "outputs": [],
   "source": [
    "# Read in the dataset\n",
    "airbnb = pd.read_csv('DE1_Lab03_airbnb.csv', index_col = 'Unnamed: 0')"
   ]
  },
  {
   "cell_type": "markdown",
   "metadata": {
    "id": "1ui1uvtyZwfQ"
   },
   "source": [
    "## **Diagnosing data cleaning problems using simple `pandas`** "
   ]
  },
  {
   "cell_type": "markdown",
   "metadata": {
    "id": "t3fgtos4Z6Xa"
   },
   "source": [
    "Some important and common methods needed to get a better understanding of DataFrames and diagnose potential data problems are the following: \n",
    "\n",
    "- `.head()` prints the header of a DataFrame\n",
    "- `.dtypes` prints datatypes of all columns in a DataFrame\n",
    "- `.info()` provides a bird's eye view of column data types and missing values in a DataFrame\n",
    "- `.describe()` returns a distribution of numeric columns in your DataFrame\n",
    "- `.isna().sum()` allows us to break down the number of missing values per column in our DataFrame\n",
    "- `.unique()` finds the number of unique values in a DataFrame column"
   ]
  },
  {
   "cell_type": "markdown",
   "metadata": {
    "id": "WqwmfLp9lKjU"
   },
   "source": [
    "## **Our task list:**\n",
    "\n",
    "_Data type problems:_\n",
    "\n",
    "- **Task 1:** Split `coordinates` into 2 columns (`latitude` and `longitude`) and convert them to `float`.\n",
    "- **Task 2**: Remove `$` from `price` and convert it to `float`\n",
    "- **Task 3**: Convert `listing_added` and `last_review` to `datetime`\n",
    "\n",
    "<br>\n",
    "\n",
    "_Text/categorical data problems:_\n",
    "\n",
    "- **Task 4**: We need to collapse `room_type` into correct categories\n",
    "- **Task 5**: Divide `neighbourhood_full` into 2 columns and making sure they are clean\n",
    "\n",
    "<br>\n",
    "\n",
    "_Data range problems:_\n",
    "\n",
    "- **Task 6**: Make sure we set the correct maximum for `rating` column out of range values\n",
    "\n",
    "<br>\n",
    "\n",
    "_Dealing with date problems:_\n",
    "\n",
    "- **Task 7**: Check consitent date format in the date columns.\n",
    "\n",
    "<br>\n",
    "\n",
    "\n",
    "_Dealing with duplicate data:_\n",
    "\n",
    "- **Task 8**: Check for duplicate data."
   ]
  },
  {
   "cell_type": "markdown",
   "metadata": {
    "id": "8jp5m7QmnCsM"
   },
   "source": [
    "## **Tasks** "
   ]
  },
  {
   "cell_type": "markdown",
   "metadata": {
    "id": "3Ev1mCwXniDv"
   },
   "source": [
    "##### **Task 1:** Split `coordinates` into 2 columns (`latitude` and `longitude`) and convert them to `float`."
   ]
  },
  {
   "cell_type": "markdown",
   "metadata": {
    "id": "ijAlYOgglvzt"
   },
   "source": [
    "To perform this task, we will use the following methods:\n",
    "\n",
    "- `.str.replace(\"\",\"\")` replaces one string in each row of a column with another\n",
    "- `.str.split(\"\")` takes in a string and lets you split a column into two based on that string\n",
    "- `.astype()` lets you convert a column from one type to another"
   ]
  },
  {
   "cell_type": "code",
   "execution_count": 70,
   "metadata": {
    "colab": {
     "base_uri": "https://localhost:8080/",
     "height": 119
    },
    "id": "UpIxvD_onOgt",
    "outputId": "bf3af853-768e-4358-e179-c0c334bdec5f",
    "ExecuteTime": {
     "end_time": "2024-03-07T13:38:18.479586Z",
     "start_time": "2024-03-07T13:38:18.474431Z"
    }
   },
   "outputs": [
    {
     "data": {
      "text/plain": "0    40.63222, -73.93398\n1    40.78761, -73.96862\n2     40.7007, -73.99517\n3    40.79169, -73.97498\n4    40.71884, -73.98354\nName: coordinates, dtype: object"
     },
     "execution_count": 70,
     "metadata": {},
     "output_type": "execute_result"
    }
   ],
   "source": [
    "# Remove \"(\" and \")\" from coordinates\n",
    "airbnb.coordinates = airbnb.coordinates.str.replace(\"(\", \"\").str.replace(\")\", \"\")\n",
    "\n",
    "# Print the header of the column\n",
    "airbnb.coordinates.head()"
   ]
  },
  {
   "cell_type": "code",
   "execution_count": 71,
   "metadata": {
    "colab": {
     "base_uri": "https://localhost:8080/",
     "height": 204
    },
    "id": "nvEKmdRun2Md",
    "outputId": "19d527b7-17d8-42eb-e8c1-c597ae1c29b9",
    "ExecuteTime": {
     "end_time": "2024-03-07T13:38:18.488127Z",
     "start_time": "2024-03-07T13:38:18.480484Z"
    }
   },
   "outputs": [
    {
     "data": {
      "text/plain": "              0                   1\n0      40.63222           -73.93398\n1      40.78761           -73.96862\n2       40.7007           -73.99517\n3      40.79169           -73.97498\n4      40.71884           -73.98354\n...         ...                 ...\n10014  40.80379           -73.95257\n10015  40.79531            -73.9333\n10016  40.68266  -73.96743000000002\n10017  40.68832           -73.96366\n10018  40.76174           -73.96625\n\n[10019 rows x 2 columns]",
      "text/html": "<div>\n<style scoped>\n    .dataframe tbody tr th:only-of-type {\n        vertical-align: middle;\n    }\n\n    .dataframe tbody tr th {\n        vertical-align: top;\n    }\n\n    .dataframe thead th {\n        text-align: right;\n    }\n</style>\n<table border=\"1\" class=\"dataframe\">\n  <thead>\n    <tr style=\"text-align: right;\">\n      <th></th>\n      <th>0</th>\n      <th>1</th>\n    </tr>\n  </thead>\n  <tbody>\n    <tr>\n      <th>0</th>\n      <td>40.63222</td>\n      <td>-73.93398</td>\n    </tr>\n    <tr>\n      <th>1</th>\n      <td>40.78761</td>\n      <td>-73.96862</td>\n    </tr>\n    <tr>\n      <th>2</th>\n      <td>40.7007</td>\n      <td>-73.99517</td>\n    </tr>\n    <tr>\n      <th>3</th>\n      <td>40.79169</td>\n      <td>-73.97498</td>\n    </tr>\n    <tr>\n      <th>4</th>\n      <td>40.71884</td>\n      <td>-73.98354</td>\n    </tr>\n    <tr>\n      <th>...</th>\n      <td>...</td>\n      <td>...</td>\n    </tr>\n    <tr>\n      <th>10014</th>\n      <td>40.80379</td>\n      <td>-73.95257</td>\n    </tr>\n    <tr>\n      <th>10015</th>\n      <td>40.79531</td>\n      <td>-73.9333</td>\n    </tr>\n    <tr>\n      <th>10016</th>\n      <td>40.68266</td>\n      <td>-73.96743000000002</td>\n    </tr>\n    <tr>\n      <th>10017</th>\n      <td>40.68832</td>\n      <td>-73.96366</td>\n    </tr>\n    <tr>\n      <th>10018</th>\n      <td>40.76174</td>\n      <td>-73.96625</td>\n    </tr>\n  </tbody>\n</table>\n<p>10019 rows × 2 columns</p>\n</div>"
     },
     "execution_count": 71,
     "metadata": {},
     "output_type": "execute_result"
    }
   ],
   "source": [
    "# Split column into two\n",
    "two_columns = airbnb.coordinates.str.split(\", \", expand = True)\n",
    "two_columns"
   ]
  },
  {
   "cell_type": "code",
   "execution_count": 72,
   "metadata": {
    "colab": {
     "base_uri": "https://localhost:8080/",
     "height": 479
    },
    "id": "LezCKPzfn4yf",
    "outputId": "06eff294-308d-4aa7-a7e1-9be62ffaae73",
    "ExecuteTime": {
     "end_time": "2024-03-07T13:38:18.495916Z",
     "start_time": "2024-03-07T13:38:18.489263Z"
    }
   },
   "outputs": [
    {
     "data": {
      "text/plain": "       listing_id                                               name  \\\n0        13740704  Cozy,budget friendly, cable inc, private entra...   \n1        22005115              Two floor apartment near Central Park   \n2        21667615                  Beautiful 1BR in Brooklyn Heights   \n3         6425850                          Spacious, charming studio   \n4        22986519              Bedroom on the lively Lower East Side   \n...           ...                                                ...   \n10014    22307861                        Lovely 1BR Harlem apartment   \n10015      953275                Apartment For Your Holidays in NYC!   \n10016     3452835          Artsy, Garden Getaway in Central Brooklyn   \n10017    23540194     Immaculate townhouse in Clinton Hill, Brooklyn   \n10018    32876011     Private room in a perfect location in the city   \n\n         host_id host_name          neighbourhood_full  \\\n0       20583125    Michel         Brooklyn, Flatlands   \n1       82746113   Cecilia  Manhattan, Upper West Side   \n2          78251    Leslie  Brooklyn, Brooklyn Heights   \n3       32715865    Yelena  Manhattan, Upper West Side   \n4      154262349    Brooke  Manhattan, Lower East Side   \n...          ...       ...                         ...   \n10014   16004068    Rachel           Manhattan, Harlem   \n10015    4460034     Alain      Manhattan, East Harlem   \n10016     666862       Amy      Brooklyn, Clinton Hill   \n10017   67176930    Sophie      Brooklyn, Clinton Hill   \n10018   59583716      Shai  Manhattan, Upper East Side   \n\n                        coordinates        room_type price  number_of_reviews  \\\n0               40.63222, -73.93398     Private room   45$                 10   \n1               40.78761, -73.96862  Entire home/apt  135$                  1   \n2                40.7007, -73.99517  Entire home/apt  150$                  0   \n3               40.79169, -73.97498  Entire home/apt   86$                  5   \n4               40.71884, -73.98354     Private room  160$                 23   \n...                             ...              ...   ...                ...   \n10014           40.80379, -73.95257  Entire home/apt  105$                  4   \n10015            40.79531, -73.9333  Entire home/apt  125$                 50   \n10016  40.68266, -73.96743000000002  Entire home/apt  100$                 45   \n10017           40.68832, -73.96366  Entire home/apt  450$                  2   \n10018           40.76174, -73.96625     Private room   90$                  1   \n\n      last_review  reviews_per_month  availability_365    rating  \\\n0      2018-12-12               0.70                85  4.100954   \n1      2019-06-30               1.00               145  3.367600   \n2             NaN                NaN                65       NaN   \n3      2017-09-23               0.13                 0  4.763203   \n4      2019-06-12               2.29               102  3.822591   \n...           ...                ...               ...       ...   \n10014  2018-05-28               0.21                 0  4.757555   \n10015  2018-05-06               0.66               188  4.344704   \n10016  2016-11-27               0.98                 0  3.966214   \n10017  2019-05-31               0.17                99  4.078581   \n10018  2019-03-12               0.25                 8  4.069096   \n\n       number_of_stays   5_stars listing_added       lat                long  \n0                 12.0  0.609432    2018-06-08  40.63222           -73.93398  \n1                  1.2  0.746135    2018-12-25  40.78761           -73.96862  \n2                  NaN       NaN    2018-08-15   40.7007           -73.99517  \n3                  6.0  0.769947    2017-03-20  40.79169           -73.97498  \n4                 27.6  0.649383    2020-10-23  40.71884           -73.98354  \n...                ...       ...           ...       ...                 ...  \n10014              4.8  0.639223    2017-11-22  40.80379           -73.95257  \n10015             60.0  0.648778    2017-10-31  40.79531            -73.9333  \n10016             54.0  0.631713    2016-05-24  40.68266  -73.96743000000002  \n10017              2.4  0.703360    2018-11-25  40.68832           -73.96366  \n10018              1.2  0.720249    2018-09-06  40.76174           -73.96625  \n\n[10019 rows x 18 columns]",
      "text/html": "<div>\n<style scoped>\n    .dataframe tbody tr th:only-of-type {\n        vertical-align: middle;\n    }\n\n    .dataframe tbody tr th {\n        vertical-align: top;\n    }\n\n    .dataframe thead th {\n        text-align: right;\n    }\n</style>\n<table border=\"1\" class=\"dataframe\">\n  <thead>\n    <tr style=\"text-align: right;\">\n      <th></th>\n      <th>listing_id</th>\n      <th>name</th>\n      <th>host_id</th>\n      <th>host_name</th>\n      <th>neighbourhood_full</th>\n      <th>coordinates</th>\n      <th>room_type</th>\n      <th>price</th>\n      <th>number_of_reviews</th>\n      <th>last_review</th>\n      <th>reviews_per_month</th>\n      <th>availability_365</th>\n      <th>rating</th>\n      <th>number_of_stays</th>\n      <th>5_stars</th>\n      <th>listing_added</th>\n      <th>lat</th>\n      <th>long</th>\n    </tr>\n  </thead>\n  <tbody>\n    <tr>\n      <th>0</th>\n      <td>13740704</td>\n      <td>Cozy,budget friendly, cable inc, private entra...</td>\n      <td>20583125</td>\n      <td>Michel</td>\n      <td>Brooklyn, Flatlands</td>\n      <td>40.63222, -73.93398</td>\n      <td>Private room</td>\n      <td>45$</td>\n      <td>10</td>\n      <td>2018-12-12</td>\n      <td>0.70</td>\n      <td>85</td>\n      <td>4.100954</td>\n      <td>12.0</td>\n      <td>0.609432</td>\n      <td>2018-06-08</td>\n      <td>40.63222</td>\n      <td>-73.93398</td>\n    </tr>\n    <tr>\n      <th>1</th>\n      <td>22005115</td>\n      <td>Two floor apartment near Central Park</td>\n      <td>82746113</td>\n      <td>Cecilia</td>\n      <td>Manhattan, Upper West Side</td>\n      <td>40.78761, -73.96862</td>\n      <td>Entire home/apt</td>\n      <td>135$</td>\n      <td>1</td>\n      <td>2019-06-30</td>\n      <td>1.00</td>\n      <td>145</td>\n      <td>3.367600</td>\n      <td>1.2</td>\n      <td>0.746135</td>\n      <td>2018-12-25</td>\n      <td>40.78761</td>\n      <td>-73.96862</td>\n    </tr>\n    <tr>\n      <th>2</th>\n      <td>21667615</td>\n      <td>Beautiful 1BR in Brooklyn Heights</td>\n      <td>78251</td>\n      <td>Leslie</td>\n      <td>Brooklyn, Brooklyn Heights</td>\n      <td>40.7007, -73.99517</td>\n      <td>Entire home/apt</td>\n      <td>150$</td>\n      <td>0</td>\n      <td>NaN</td>\n      <td>NaN</td>\n      <td>65</td>\n      <td>NaN</td>\n      <td>NaN</td>\n      <td>NaN</td>\n      <td>2018-08-15</td>\n      <td>40.7007</td>\n      <td>-73.99517</td>\n    </tr>\n    <tr>\n      <th>3</th>\n      <td>6425850</td>\n      <td>Spacious, charming studio</td>\n      <td>32715865</td>\n      <td>Yelena</td>\n      <td>Manhattan, Upper West Side</td>\n      <td>40.79169, -73.97498</td>\n      <td>Entire home/apt</td>\n      <td>86$</td>\n      <td>5</td>\n      <td>2017-09-23</td>\n      <td>0.13</td>\n      <td>0</td>\n      <td>4.763203</td>\n      <td>6.0</td>\n      <td>0.769947</td>\n      <td>2017-03-20</td>\n      <td>40.79169</td>\n      <td>-73.97498</td>\n    </tr>\n    <tr>\n      <th>4</th>\n      <td>22986519</td>\n      <td>Bedroom on the lively Lower East Side</td>\n      <td>154262349</td>\n      <td>Brooke</td>\n      <td>Manhattan, Lower East Side</td>\n      <td>40.71884, -73.98354</td>\n      <td>Private room</td>\n      <td>160$</td>\n      <td>23</td>\n      <td>2019-06-12</td>\n      <td>2.29</td>\n      <td>102</td>\n      <td>3.822591</td>\n      <td>27.6</td>\n      <td>0.649383</td>\n      <td>2020-10-23</td>\n      <td>40.71884</td>\n      <td>-73.98354</td>\n    </tr>\n    <tr>\n      <th>...</th>\n      <td>...</td>\n      <td>...</td>\n      <td>...</td>\n      <td>...</td>\n      <td>...</td>\n      <td>...</td>\n      <td>...</td>\n      <td>...</td>\n      <td>...</td>\n      <td>...</td>\n      <td>...</td>\n      <td>...</td>\n      <td>...</td>\n      <td>...</td>\n      <td>...</td>\n      <td>...</td>\n      <td>...</td>\n      <td>...</td>\n    </tr>\n    <tr>\n      <th>10014</th>\n      <td>22307861</td>\n      <td>Lovely 1BR Harlem apartment</td>\n      <td>16004068</td>\n      <td>Rachel</td>\n      <td>Manhattan, Harlem</td>\n      <td>40.80379, -73.95257</td>\n      <td>Entire home/apt</td>\n      <td>105$</td>\n      <td>4</td>\n      <td>2018-05-28</td>\n      <td>0.21</td>\n      <td>0</td>\n      <td>4.757555</td>\n      <td>4.8</td>\n      <td>0.639223</td>\n      <td>2017-11-22</td>\n      <td>40.80379</td>\n      <td>-73.95257</td>\n    </tr>\n    <tr>\n      <th>10015</th>\n      <td>953275</td>\n      <td>Apartment For Your Holidays in NYC!</td>\n      <td>4460034</td>\n      <td>Alain</td>\n      <td>Manhattan, East Harlem</td>\n      <td>40.79531, -73.9333</td>\n      <td>Entire home/apt</td>\n      <td>125$</td>\n      <td>50</td>\n      <td>2018-05-06</td>\n      <td>0.66</td>\n      <td>188</td>\n      <td>4.344704</td>\n      <td>60.0</td>\n      <td>0.648778</td>\n      <td>2017-10-31</td>\n      <td>40.79531</td>\n      <td>-73.9333</td>\n    </tr>\n    <tr>\n      <th>10016</th>\n      <td>3452835</td>\n      <td>Artsy, Garden Getaway in Central Brooklyn</td>\n      <td>666862</td>\n      <td>Amy</td>\n      <td>Brooklyn, Clinton Hill</td>\n      <td>40.68266, -73.96743000000002</td>\n      <td>Entire home/apt</td>\n      <td>100$</td>\n      <td>45</td>\n      <td>2016-11-27</td>\n      <td>0.98</td>\n      <td>0</td>\n      <td>3.966214</td>\n      <td>54.0</td>\n      <td>0.631713</td>\n      <td>2016-05-24</td>\n      <td>40.68266</td>\n      <td>-73.96743000000002</td>\n    </tr>\n    <tr>\n      <th>10017</th>\n      <td>23540194</td>\n      <td>Immaculate townhouse in Clinton Hill, Brooklyn</td>\n      <td>67176930</td>\n      <td>Sophie</td>\n      <td>Brooklyn, Clinton Hill</td>\n      <td>40.68832, -73.96366</td>\n      <td>Entire home/apt</td>\n      <td>450$</td>\n      <td>2</td>\n      <td>2019-05-31</td>\n      <td>0.17</td>\n      <td>99</td>\n      <td>4.078581</td>\n      <td>2.4</td>\n      <td>0.703360</td>\n      <td>2018-11-25</td>\n      <td>40.68832</td>\n      <td>-73.96366</td>\n    </tr>\n    <tr>\n      <th>10018</th>\n      <td>32876011</td>\n      <td>Private room in a perfect location in the city</td>\n      <td>59583716</td>\n      <td>Shai</td>\n      <td>Manhattan, Upper East Side</td>\n      <td>40.76174, -73.96625</td>\n      <td>Private room</td>\n      <td>90$</td>\n      <td>1</td>\n      <td>2019-03-12</td>\n      <td>0.25</td>\n      <td>8</td>\n      <td>4.069096</td>\n      <td>1.2</td>\n      <td>0.720249</td>\n      <td>2018-09-06</td>\n      <td>40.76174</td>\n      <td>-73.96625</td>\n    </tr>\n  </tbody>\n</table>\n<p>10019 rows × 18 columns</p>\n</div>"
     },
     "execution_count": 72,
     "metadata": {},
     "output_type": "execute_result"
    }
   ],
   "source": [
    "# Assign correct columns to latitude and longitude columns in airbnb\n",
    "airbnb['lat'] = two_columns[0]\n",
    "airbnb['long'] = two_columns[1]\n",
    "\n",
    "# Print the header and confirm new column creation\n",
    "airbnb"
   ]
  },
  {
   "cell_type": "code",
   "execution_count": 73,
   "metadata": {
    "colab": {
     "base_uri": "https://localhost:8080/",
     "height": 340
    },
    "id": "toTHDWjFosXs",
    "outputId": "22273a70-dda1-4134-e5e7-1f2a8ed724ac",
    "ExecuteTime": {
     "end_time": "2024-03-07T13:38:18.515994Z",
     "start_time": "2024-03-07T13:38:18.513112Z"
    }
   },
   "outputs": [
    {
     "data": {
      "text/plain": "dtype('O')"
     },
     "execution_count": 73,
     "metadata": {},
     "output_type": "execute_result"
    }
   ],
   "source": [
    "# Print out dtypes again\n",
    "airbnb.lat.dtypes\n",
    "airbnb.long.dtypes\n",
    "airbnb.coordinates.dtypes"
   ]
  },
  {
   "cell_type": "code",
   "execution_count": 74,
   "metadata": {
    "colab": {
     "base_uri": "https://localhost:8080/",
     "height": 340
    },
    "id": "8zDpaIqDoeNl",
    "outputId": "ead1ab19-04c5-4722-c181-eedddc64f057",
    "ExecuteTime": {
     "end_time": "2024-03-07T13:38:18.528812Z",
     "start_time": "2024-03-07T13:38:18.524485Z"
    }
   },
   "outputs": [
    {
     "data": {
      "text/plain": "dtype('float64')"
     },
     "execution_count": 74,
     "metadata": {},
     "output_type": "execute_result"
    }
   ],
   "source": [
    "# Convert latitude and longitude to float\n",
    "airbnb.lat = airbnb.lat.astype(float)\n",
    "airbnb.long = airbnb.long.astype(float)\n",
    "# Print dtypes again\n",
    "airbnb.long.dtypes"
   ]
  },
  {
   "cell_type": "code",
   "execution_count": 75,
   "metadata": {
    "id": "aKZGhJQRo8mp",
    "ExecuteTime": {
     "end_time": "2024-03-07T13:38:18.546980Z",
     "start_time": "2024-03-07T13:38:18.538779Z"
    }
   },
   "outputs": [
    {
     "data": {
      "text/plain": "       listing_id                                               name  \\\n0        13740704  Cozy,budget friendly, cable inc, private entra...   \n1        22005115              Two floor apartment near Central Park   \n2        21667615                  Beautiful 1BR in Brooklyn Heights   \n3         6425850                          Spacious, charming studio   \n4        22986519              Bedroom on the lively Lower East Side   \n...           ...                                                ...   \n10014    22307861                        Lovely 1BR Harlem apartment   \n10015      953275                Apartment For Your Holidays in NYC!   \n10016     3452835          Artsy, Garden Getaway in Central Brooklyn   \n10017    23540194     Immaculate townhouse in Clinton Hill, Brooklyn   \n10018    32876011     Private room in a perfect location in the city   \n\n         host_id host_name          neighbourhood_full        room_type price  \\\n0       20583125    Michel         Brooklyn, Flatlands     Private room   45$   \n1       82746113   Cecilia  Manhattan, Upper West Side  Entire home/apt  135$   \n2          78251    Leslie  Brooklyn, Brooklyn Heights  Entire home/apt  150$   \n3       32715865    Yelena  Manhattan, Upper West Side  Entire home/apt   86$   \n4      154262349    Brooke  Manhattan, Lower East Side     Private room  160$   \n...          ...       ...                         ...              ...   ...   \n10014   16004068    Rachel           Manhattan, Harlem  Entire home/apt  105$   \n10015    4460034     Alain      Manhattan, East Harlem  Entire home/apt  125$   \n10016     666862       Amy      Brooklyn, Clinton Hill  Entire home/apt  100$   \n10017   67176930    Sophie      Brooklyn, Clinton Hill  Entire home/apt  450$   \n10018   59583716      Shai  Manhattan, Upper East Side     Private room   90$   \n\n       number_of_reviews last_review  reviews_per_month  availability_365  \\\n0                     10  2018-12-12               0.70                85   \n1                      1  2019-06-30               1.00               145   \n2                      0         NaN                NaN                65   \n3                      5  2017-09-23               0.13                 0   \n4                     23  2019-06-12               2.29               102   \n...                  ...         ...                ...               ...   \n10014                  4  2018-05-28               0.21                 0   \n10015                 50  2018-05-06               0.66               188   \n10016                 45  2016-11-27               0.98                 0   \n10017                  2  2019-05-31               0.17                99   \n10018                  1  2019-03-12               0.25                 8   \n\n         rating  number_of_stays   5_stars listing_added       lat      long  \n0      4.100954             12.0  0.609432    2018-06-08  40.63222 -73.93398  \n1      3.367600              1.2  0.746135    2018-12-25  40.78761 -73.96862  \n2           NaN              NaN       NaN    2018-08-15  40.70070 -73.99517  \n3      4.763203              6.0  0.769947    2017-03-20  40.79169 -73.97498  \n4      3.822591             27.6  0.649383    2020-10-23  40.71884 -73.98354  \n...         ...              ...       ...           ...       ...       ...  \n10014  4.757555              4.8  0.639223    2017-11-22  40.80379 -73.95257  \n10015  4.344704             60.0  0.648778    2017-10-31  40.79531 -73.93330  \n10016  3.966214             54.0  0.631713    2016-05-24  40.68266 -73.96743  \n10017  4.078581              2.4  0.703360    2018-11-25  40.68832 -73.96366  \n10018  4.069096              1.2  0.720249    2018-09-06  40.76174 -73.96625  \n\n[10019 rows x 17 columns]",
      "text/html": "<div>\n<style scoped>\n    .dataframe tbody tr th:only-of-type {\n        vertical-align: middle;\n    }\n\n    .dataframe tbody tr th {\n        vertical-align: top;\n    }\n\n    .dataframe thead th {\n        text-align: right;\n    }\n</style>\n<table border=\"1\" class=\"dataframe\">\n  <thead>\n    <tr style=\"text-align: right;\">\n      <th></th>\n      <th>listing_id</th>\n      <th>name</th>\n      <th>host_id</th>\n      <th>host_name</th>\n      <th>neighbourhood_full</th>\n      <th>room_type</th>\n      <th>price</th>\n      <th>number_of_reviews</th>\n      <th>last_review</th>\n      <th>reviews_per_month</th>\n      <th>availability_365</th>\n      <th>rating</th>\n      <th>number_of_stays</th>\n      <th>5_stars</th>\n      <th>listing_added</th>\n      <th>lat</th>\n      <th>long</th>\n    </tr>\n  </thead>\n  <tbody>\n    <tr>\n      <th>0</th>\n      <td>13740704</td>\n      <td>Cozy,budget friendly, cable inc, private entra...</td>\n      <td>20583125</td>\n      <td>Michel</td>\n      <td>Brooklyn, Flatlands</td>\n      <td>Private room</td>\n      <td>45$</td>\n      <td>10</td>\n      <td>2018-12-12</td>\n      <td>0.70</td>\n      <td>85</td>\n      <td>4.100954</td>\n      <td>12.0</td>\n      <td>0.609432</td>\n      <td>2018-06-08</td>\n      <td>40.63222</td>\n      <td>-73.93398</td>\n    </tr>\n    <tr>\n      <th>1</th>\n      <td>22005115</td>\n      <td>Two floor apartment near Central Park</td>\n      <td>82746113</td>\n      <td>Cecilia</td>\n      <td>Manhattan, Upper West Side</td>\n      <td>Entire home/apt</td>\n      <td>135$</td>\n      <td>1</td>\n      <td>2019-06-30</td>\n      <td>1.00</td>\n      <td>145</td>\n      <td>3.367600</td>\n      <td>1.2</td>\n      <td>0.746135</td>\n      <td>2018-12-25</td>\n      <td>40.78761</td>\n      <td>-73.96862</td>\n    </tr>\n    <tr>\n      <th>2</th>\n      <td>21667615</td>\n      <td>Beautiful 1BR in Brooklyn Heights</td>\n      <td>78251</td>\n      <td>Leslie</td>\n      <td>Brooklyn, Brooklyn Heights</td>\n      <td>Entire home/apt</td>\n      <td>150$</td>\n      <td>0</td>\n      <td>NaN</td>\n      <td>NaN</td>\n      <td>65</td>\n      <td>NaN</td>\n      <td>NaN</td>\n      <td>NaN</td>\n      <td>2018-08-15</td>\n      <td>40.70070</td>\n      <td>-73.99517</td>\n    </tr>\n    <tr>\n      <th>3</th>\n      <td>6425850</td>\n      <td>Spacious, charming studio</td>\n      <td>32715865</td>\n      <td>Yelena</td>\n      <td>Manhattan, Upper West Side</td>\n      <td>Entire home/apt</td>\n      <td>86$</td>\n      <td>5</td>\n      <td>2017-09-23</td>\n      <td>0.13</td>\n      <td>0</td>\n      <td>4.763203</td>\n      <td>6.0</td>\n      <td>0.769947</td>\n      <td>2017-03-20</td>\n      <td>40.79169</td>\n      <td>-73.97498</td>\n    </tr>\n    <tr>\n      <th>4</th>\n      <td>22986519</td>\n      <td>Bedroom on the lively Lower East Side</td>\n      <td>154262349</td>\n      <td>Brooke</td>\n      <td>Manhattan, Lower East Side</td>\n      <td>Private room</td>\n      <td>160$</td>\n      <td>23</td>\n      <td>2019-06-12</td>\n      <td>2.29</td>\n      <td>102</td>\n      <td>3.822591</td>\n      <td>27.6</td>\n      <td>0.649383</td>\n      <td>2020-10-23</td>\n      <td>40.71884</td>\n      <td>-73.98354</td>\n    </tr>\n    <tr>\n      <th>...</th>\n      <td>...</td>\n      <td>...</td>\n      <td>...</td>\n      <td>...</td>\n      <td>...</td>\n      <td>...</td>\n      <td>...</td>\n      <td>...</td>\n      <td>...</td>\n      <td>...</td>\n      <td>...</td>\n      <td>...</td>\n      <td>...</td>\n      <td>...</td>\n      <td>...</td>\n      <td>...</td>\n      <td>...</td>\n    </tr>\n    <tr>\n      <th>10014</th>\n      <td>22307861</td>\n      <td>Lovely 1BR Harlem apartment</td>\n      <td>16004068</td>\n      <td>Rachel</td>\n      <td>Manhattan, Harlem</td>\n      <td>Entire home/apt</td>\n      <td>105$</td>\n      <td>4</td>\n      <td>2018-05-28</td>\n      <td>0.21</td>\n      <td>0</td>\n      <td>4.757555</td>\n      <td>4.8</td>\n      <td>0.639223</td>\n      <td>2017-11-22</td>\n      <td>40.80379</td>\n      <td>-73.95257</td>\n    </tr>\n    <tr>\n      <th>10015</th>\n      <td>953275</td>\n      <td>Apartment For Your Holidays in NYC!</td>\n      <td>4460034</td>\n      <td>Alain</td>\n      <td>Manhattan, East Harlem</td>\n      <td>Entire home/apt</td>\n      <td>125$</td>\n      <td>50</td>\n      <td>2018-05-06</td>\n      <td>0.66</td>\n      <td>188</td>\n      <td>4.344704</td>\n      <td>60.0</td>\n      <td>0.648778</td>\n      <td>2017-10-31</td>\n      <td>40.79531</td>\n      <td>-73.93330</td>\n    </tr>\n    <tr>\n      <th>10016</th>\n      <td>3452835</td>\n      <td>Artsy, Garden Getaway in Central Brooklyn</td>\n      <td>666862</td>\n      <td>Amy</td>\n      <td>Brooklyn, Clinton Hill</td>\n      <td>Entire home/apt</td>\n      <td>100$</td>\n      <td>45</td>\n      <td>2016-11-27</td>\n      <td>0.98</td>\n      <td>0</td>\n      <td>3.966214</td>\n      <td>54.0</td>\n      <td>0.631713</td>\n      <td>2016-05-24</td>\n      <td>40.68266</td>\n      <td>-73.96743</td>\n    </tr>\n    <tr>\n      <th>10017</th>\n      <td>23540194</td>\n      <td>Immaculate townhouse in Clinton Hill, Brooklyn</td>\n      <td>67176930</td>\n      <td>Sophie</td>\n      <td>Brooklyn, Clinton Hill</td>\n      <td>Entire home/apt</td>\n      <td>450$</td>\n      <td>2</td>\n      <td>2019-05-31</td>\n      <td>0.17</td>\n      <td>99</td>\n      <td>4.078581</td>\n      <td>2.4</td>\n      <td>0.703360</td>\n      <td>2018-11-25</td>\n      <td>40.68832</td>\n      <td>-73.96366</td>\n    </tr>\n    <tr>\n      <th>10018</th>\n      <td>32876011</td>\n      <td>Private room in a perfect location in the city</td>\n      <td>59583716</td>\n      <td>Shai</td>\n      <td>Manhattan, Upper East Side</td>\n      <td>Private room</td>\n      <td>90$</td>\n      <td>1</td>\n      <td>2019-03-12</td>\n      <td>0.25</td>\n      <td>8</td>\n      <td>4.069096</td>\n      <td>1.2</td>\n      <td>0.720249</td>\n      <td>2018-09-06</td>\n      <td>40.76174</td>\n      <td>-73.96625</td>\n    </tr>\n  </tbody>\n</table>\n<p>10019 rows × 17 columns</p>\n</div>"
     },
     "execution_count": 75,
     "metadata": {},
     "output_type": "execute_result"
    }
   ],
   "source": [
    "# Drop coordinates column\n",
    "airbnb.drop(columns = ['coordinates'], inplace = True)\n",
    "airbnb"
   ]
  },
  {
   "cell_type": "markdown",
   "metadata": {
    "id": "bkgGPHpdpMEW"
   },
   "source": [
    "##### **Task 2:** Remove `$` from `price` and convert it to `float`"
   ]
  },
  {
   "cell_type": "markdown",
   "metadata": {
    "id": "9jkKFojOmJy5"
   },
   "source": [
    "To perform this task, we will be using the following methods:\n",
    "\n",
    "- `.str.strip()` which removes a specified string from each row in a column\n",
    "- `.astype()`"
   ]
  },
  {
   "cell_type": "code",
   "execution_count": 76,
   "metadata": {
    "colab": {
     "base_uri": "https://localhost:8080/",
     "height": 119
    },
    "id": "gHIB5d-1pdIO",
    "outputId": "8b332216-20e5-42a9-a070-b705d2ae84ae",
    "ExecuteTime": {
     "end_time": "2024-03-07T13:38:18.616143Z",
     "start_time": "2024-03-07T13:38:18.611070Z"
    }
   },
   "outputs": [
    {
     "data": {
      "text/plain": "0         45\n1        135\n2        150\n3         86\n4        160\n        ... \n10014    105\n10015    125\n10016    100\n10017    450\n10018     90\nName: price, Length: 10019, dtype: object"
     },
     "execution_count": 76,
     "metadata": {},
     "output_type": "execute_result"
    }
   ],
   "source": [
    "# Remove $ from price before conversion to float\n",
    "airbnb.price = airbnb.price.str.replace(\"$\", \"\")\n",
    "# Print header to make sure change was done\n",
    "airbnb.price"
   ]
  },
  {
   "cell_type": "code",
   "execution_count": 77,
   "metadata": {
    "colab": {
     "base_uri": "https://localhost:8080/",
     "height": 34
    },
    "id": "Gz4Q2xoGp4AJ",
    "outputId": "2d453984-04ff-4b0e-d646-5890304044db",
    "ExecuteTime": {
     "end_time": "2024-03-07T13:38:18.651642Z",
     "start_time": "2024-03-07T13:38:18.648271Z"
    }
   },
   "outputs": [
    {
     "data": {
      "text/plain": "150.90512217564665"
     },
     "execution_count": 77,
     "metadata": {},
     "output_type": "execute_result"
    }
   ],
   "source": [
    "# Convert price to float\n",
    "airbnb.price = airbnb.price.astype(float)\n",
    "# Calculate mean of price after conversion\n",
    "airbnb.price.mean()"
   ]
  },
  {
   "cell_type": "markdown",
   "metadata": {
    "id": "HZKW5mWvqg2Z"
   },
   "source": [
    "##### **Task 3:** Convert `listing_added` and `last_review` columns to `datetime`"
   ]
  },
  {
   "cell_type": "markdown",
   "metadata": {
    "id": "9ijLZ4zwmWNS"
   },
   "source": [
    "To perform this task, we will use the following functions:\n",
    "\n",
    "- `pd.to_datetime(format = \"\")`\n",
    "  - `format` takes in the desired date format `\"%Y-%m-%d\"`"
   ]
  },
  {
   "cell_type": "code",
   "execution_count": 167,
   "metadata": {
    "colab": {
     "base_uri": "https://localhost:8080/",
     "height": 204
    },
    "id": "cggG5Bucqc6T",
    "outputId": "9f5aed2d-0542-4959-8694-958801d8acdf",
    "ExecuteTime": {
     "end_time": "2024-03-07T13:57:07.006387Z",
     "start_time": "2024-03-07T13:57:07.001697Z"
    }
   },
   "outputs": [
    {
     "data": {
      "text/plain": "     listing_added last_review\n0       2018-06-08  2018-12-12\n1       2018-12-25  2019-06-30\n2       2018-08-15         NaN\n4       2020-10-23  2019-06-12\n5       2018-12-15  2019-06-20\n...            ...         ...\n8532    2018-08-08  2019-02-11\n8600    2018-12-05  2019-06-10\n8646    2018-10-15  2019-04-20\n8869    2018-04-11         NaN\n9119    2018-04-18  2018-10-22\n\n[198 rows x 2 columns]",
      "text/html": "<div>\n<style scoped>\n    .dataframe tbody tr th:only-of-type {\n        vertical-align: middle;\n    }\n\n    .dataframe tbody tr th {\n        vertical-align: top;\n    }\n\n    .dataframe thead th {\n        text-align: right;\n    }\n</style>\n<table border=\"1\" class=\"dataframe\">\n  <thead>\n    <tr style=\"text-align: right;\">\n      <th></th>\n      <th>listing_added</th>\n      <th>last_review</th>\n    </tr>\n  </thead>\n  <tbody>\n    <tr>\n      <th>0</th>\n      <td>2018-06-08</td>\n      <td>2018-12-12</td>\n    </tr>\n    <tr>\n      <th>1</th>\n      <td>2018-12-25</td>\n      <td>2019-06-30</td>\n    </tr>\n    <tr>\n      <th>2</th>\n      <td>2018-08-15</td>\n      <td>NaN</td>\n    </tr>\n    <tr>\n      <th>4</th>\n      <td>2020-10-23</td>\n      <td>2019-06-12</td>\n    </tr>\n    <tr>\n      <th>5</th>\n      <td>2018-12-15</td>\n      <td>2019-06-20</td>\n    </tr>\n    <tr>\n      <th>...</th>\n      <td>...</td>\n      <td>...</td>\n    </tr>\n    <tr>\n      <th>8532</th>\n      <td>2018-08-08</td>\n      <td>2019-02-11</td>\n    </tr>\n    <tr>\n      <th>8600</th>\n      <td>2018-12-05</td>\n      <td>2019-06-10</td>\n    </tr>\n    <tr>\n      <th>8646</th>\n      <td>2018-10-15</td>\n      <td>2019-04-20</td>\n    </tr>\n    <tr>\n      <th>8869</th>\n      <td>2018-04-11</td>\n      <td>NaN</td>\n    </tr>\n    <tr>\n      <th>9119</th>\n      <td>2018-04-18</td>\n      <td>2018-10-22</td>\n    </tr>\n  </tbody>\n</table>\n<p>198 rows × 2 columns</p>\n</div>"
     },
     "execution_count": 167,
     "metadata": {},
     "output_type": "execute_result"
    }
   ],
   "source": [
    "# Print header of two columns\n",
    "airbnb[['listing_added', 'last_review']]"
   ]
  },
  {
   "cell_type": "code",
   "execution_count": 169,
   "metadata": {
    "id": "9lVyr6-Gs19z",
    "ExecuteTime": {
     "end_time": "2024-03-07T13:57:18.586249Z",
     "start_time": "2024-03-07T13:57:18.580525Z"
    }
   },
   "outputs": [
    {
     "data": {
      "text/plain": "           listing_added         last_review\n0    2018-01-08 00:06:00 2018-01-12 00:12:00\n1    2018-01-25 00:12:00 2019-01-30 00:06:00\n2    2018-01-15 00:08:00                 NaT\n4    2020-01-23 00:10:00 2019-01-12 00:06:00\n5    2018-01-15 00:12:00 2019-01-20 00:06:00\n...                  ...                 ...\n8532 2018-01-08 00:08:00 2019-01-11 00:02:00\n8600 2018-01-05 00:12:00 2019-01-10 00:06:00\n8646 2018-01-15 00:10:00 2019-01-20 00:04:00\n8869 2018-01-11 00:04:00                 NaT\n9119 2018-01-18 00:04:00 2018-01-22 00:10:00\n\n[198 rows x 2 columns]",
      "text/html": "<div>\n<style scoped>\n    .dataframe tbody tr th:only-of-type {\n        vertical-align: middle;\n    }\n\n    .dataframe tbody tr th {\n        vertical-align: top;\n    }\n\n    .dataframe thead th {\n        text-align: right;\n    }\n</style>\n<table border=\"1\" class=\"dataframe\">\n  <thead>\n    <tr style=\"text-align: right;\">\n      <th></th>\n      <th>listing_added</th>\n      <th>last_review</th>\n    </tr>\n  </thead>\n  <tbody>\n    <tr>\n      <th>0</th>\n      <td>2018-01-08 00:06:00</td>\n      <td>2018-01-12 00:12:00</td>\n    </tr>\n    <tr>\n      <th>1</th>\n      <td>2018-01-25 00:12:00</td>\n      <td>2019-01-30 00:06:00</td>\n    </tr>\n    <tr>\n      <th>2</th>\n      <td>2018-01-15 00:08:00</td>\n      <td>NaT</td>\n    </tr>\n    <tr>\n      <th>4</th>\n      <td>2020-01-23 00:10:00</td>\n      <td>2019-01-12 00:06:00</td>\n    </tr>\n    <tr>\n      <th>5</th>\n      <td>2018-01-15 00:12:00</td>\n      <td>2019-01-20 00:06:00</td>\n    </tr>\n    <tr>\n      <th>...</th>\n      <td>...</td>\n      <td>...</td>\n    </tr>\n    <tr>\n      <th>8532</th>\n      <td>2018-01-08 00:08:00</td>\n      <td>2019-01-11 00:02:00</td>\n    </tr>\n    <tr>\n      <th>8600</th>\n      <td>2018-01-05 00:12:00</td>\n      <td>2019-01-10 00:06:00</td>\n    </tr>\n    <tr>\n      <th>8646</th>\n      <td>2018-01-15 00:10:00</td>\n      <td>2019-01-20 00:04:00</td>\n    </tr>\n    <tr>\n      <th>8869</th>\n      <td>2018-01-11 00:04:00</td>\n      <td>NaT</td>\n    </tr>\n    <tr>\n      <th>9119</th>\n      <td>2018-01-18 00:04:00</td>\n      <td>2018-01-22 00:10:00</td>\n    </tr>\n  </tbody>\n</table>\n<p>198 rows × 2 columns</p>\n</div>"
     },
     "execution_count": 169,
     "metadata": {},
     "output_type": "execute_result"
    }
   ],
   "source": [
    "# Convert both columns to datetime\n",
    "airbnb.listing_added = pd.to_datetime(airbnb.listing_added, format = '%Y-%M-%d')\n",
    "airbnb.last_review = pd.to_datetime(airbnb.last_review, format='%Y-%M-%d')\n",
    "airbnb[['listing_added', 'last_review']]"
   ]
  },
  {
   "cell_type": "code",
   "execution_count": null,
   "metadata": {
    "colab": {
     "base_uri": "https://localhost:8080/",
     "height": 170
    },
    "id": "jlVDTYUvtG1f",
    "outputId": "dc7b3850-48ad-45e8-9641-7ba05c7fc6b2",
    "ExecuteTime": {
     "end_time": "2024-03-07T13:38:18.886086Z",
     "start_time": "2024-03-07T13:38:18.886027Z"
    }
   },
   "outputs": [],
   "source": [
    "# Print header and datatypes of both columns again\n",
    "airbnb[['listing_added', 'last_review']].head()\n",
    "airbnb[['listing_added', 'last_review']].dtypes"
   ]
  },
  {
   "cell_type": "markdown",
   "metadata": {
    "id": "SvMs1y6gucs6"
   },
   "source": [
    "### Text and categorical data problems"
   ]
  },
  {
   "cell_type": "markdown",
   "metadata": {
    "id": "Z19JboeNukIS"
   },
   "source": [
    "##### **Task 4:** We need to collapse `room_type` into correct categories"
   ]
  },
  {
   "cell_type": "markdown",
   "metadata": {
    "id": "85lW-8k_msaY"
   },
   "source": [
    "To perform this task, we will be using the following methods:\n",
    "\n",
    "- `.str.lower()` to lowercase all rows in a string column\n",
    "- `.str.strip()` to remove all white spaces of each row in a string column\n",
    "- `.replace()` to replace values in a column with another"
   ]
  },
  {
   "cell_type": "code",
   "execution_count": 110,
   "metadata": {
    "colab": {
     "base_uri": "https://localhost:8080/",
     "height": 51
    },
    "id": "hPJHPWB4tOlP",
    "outputId": "ad30c92a-b7ed-49a6-c592-e70f82f2a94d",
    "ExecuteTime": {
     "end_time": "2024-03-07T13:38:29.167665Z",
     "start_time": "2024-03-07T13:38:29.164336Z"
    }
   },
   "outputs": [
    {
     "data": {
      "text/plain": "array(['Private room', 'Entire home/apt', 'Private', 'Shared room',\n       'PRIVATE ROOM', 'home'], dtype=object)"
     },
     "execution_count": 110,
     "metadata": {},
     "output_type": "execute_result"
    }
   ],
   "source": [
    "# Print unique values of `room_type`\n",
    "airbnb.room_type.unique()"
   ]
  },
  {
   "cell_type": "code",
   "execution_count": 126,
   "metadata": {
    "colab": {
     "base_uri": "https://localhost:8080/",
     "height": 51
    },
    "id": "HwnSnaPEvncy",
    "outputId": "66d9e493-e5c0-471e-8f5b-632f8b0f326d",
    "ExecuteTime": {
     "end_time": "2024-03-07T13:39:34.593565Z",
     "start_time": "2024-03-07T13:39:34.588347Z"
    }
   },
   "outputs": [
    {
     "data": {
      "text/plain": "array(['private room', 'entire home/apt', 'private', 'shared room',\n       'home'], dtype=object)"
     },
     "execution_count": 126,
     "metadata": {},
     "output_type": "execute_result"
    }
   ],
   "source": [
    "# Deal with capitalized values\n",
    "airbnb.room_type = airbnb.room_type.str.lower()\n",
    "airbnb.room_type.unique()"
   ]
  },
  {
   "cell_type": "code",
   "execution_count": 127,
   "metadata": {
    "colab": {
     "base_uri": "https://localhost:8080/",
     "height": 51
    },
    "id": "u47Ws-GtvvrC",
    "outputId": "3df8ba6a-9c50-4b1f-83c9-d99e855eca11",
    "ExecuteTime": {
     "end_time": "2024-03-07T13:39:38.485951Z",
     "start_time": "2024-03-07T13:39:38.479486Z"
    }
   },
   "outputs": [
    {
     "data": {
      "text/plain": "array(['private room', 'entire home/apt', 'private', 'shared room',\n       'home'], dtype=object)"
     },
     "execution_count": 127,
     "metadata": {},
     "output_type": "execute_result"
    }
   ],
   "source": [
    "# Deal with trailing spaces\n",
    "airbnb.room_type = airbnb.room_type.str.strip()\n",
    "airbnb.room_type.unique()"
   ]
  },
  {
   "cell_type": "code",
   "execution_count": 150,
   "metadata": {
    "colab": {
     "base_uri": "https://localhost:8080/",
     "height": 34
    },
    "id": "tYyyzZ2pwMtx",
    "outputId": "104a9671-5899-4e62-edcb-ca6be7cd29cb",
    "ExecuteTime": {
     "end_time": "2024-03-07T13:47:43.468731Z",
     "start_time": "2024-03-07T13:47:43.453533Z"
    }
   },
   "outputs": [
    {
     "data": {
      "text/plain": "array(['private room', 'entire place', 'shared room'], dtype=object)"
     },
     "execution_count": 150,
     "metadata": {},
     "output_type": "execute_result"
    }
   ],
   "source": [
    "# Replace values to 'Shared room', 'Entire place', 'Private room' and 'Hotel room' (if applicable).\n",
    "airbnb.room_type = airbnb.room_type.str.replace(r\"^private$\", \"private room\")\n",
    "airbnb.room_type = airbnb.room_type.str.replace(r\"^entire home/apt$\", \"entire place\")\n",
    "airbnb.room_type = airbnb.room_type.str.replace(r\"^home$\", \"entire place\")\n",
    "airbnb.loc[airbnb['room_type'].str.contains(\"private\"), \"room_type\"] = \"private room\"\n",
    "airbnb.loc[airbnb['room_type'].str.contains(\"home\"), \"room_type\"] = \"entire place\"\n",
    "airbnb.loc[airbnb['room_type'].str.contains(\"shared\"), \"room_type\"] = \"shared room\"\n",
    "airbnb.room_type.unique()"
   ]
  },
  {
   "cell_type": "markdown",
   "metadata": {
    "id": "VA_2KMIkxjhL"
   },
   "source": [
    "##### **Task 5:** Divide `neighbourhood_full` into 2 columns and making sure they are clean"
   ]
  },
  {
   "cell_type": "code",
   "execution_count": 151,
   "metadata": {
    "colab": {
     "base_uri": "https://localhost:8080/",
     "height": 119
    },
    "id": "Nc3u9b57xKOu",
    "outputId": "9e815839-48cf-4a48-fda3-0735ddfec707",
    "ExecuteTime": {
     "end_time": "2024-03-07T13:49:25.309405Z",
     "start_time": "2024-03-07T13:49:25.306800Z"
    }
   },
   "outputs": [
    {
     "data": {
      "text/plain": "0           Brooklyn, Flatlands\n1    Manhattan, Upper West Side\n2    Brooklyn, Brooklyn Heights\n3    Manhattan, Upper West Side\n4    Manhattan, Lower East Side\nName: neighbourhood_full, dtype: object"
     },
     "execution_count": 151,
     "metadata": {},
     "output_type": "execute_result"
    }
   ],
   "source": [
    "# Print header of column\n",
    "airbnb.neighbourhood_full.head()"
   ]
  },
  {
   "cell_type": "code",
   "execution_count": 152,
   "metadata": {
    "colab": {
     "base_uri": "https://localhost:8080/",
     "height": 204
    },
    "id": "88O9T3WYxreo",
    "outputId": "69009b8a-6957-407c-a9ac-2e6434c10169",
    "ExecuteTime": {
     "end_time": "2024-03-07T13:49:53.875317Z",
     "start_time": "2024-03-07T13:49:53.864100Z"
    }
   },
   "outputs": [],
   "source": [
    "# Split neighbourhood_full\n",
    "two_columns = airbnb.neighbourhood_full.str.split(\", \", expand=True)"
   ]
  },
  {
   "cell_type": "code",
   "execution_count": 153,
   "metadata": {
    "colab": {
     "base_uri": "https://localhost:8080/",
     "height": 204
    },
    "id": "mmKhwDxkypDJ",
    "outputId": "4fe03746-000b-4281-dfd9-890184f799f5",
    "ExecuteTime": {
     "end_time": "2024-03-07T13:50:51.447168Z",
     "start_time": "2024-03-07T13:50:51.441789Z"
    }
   },
   "outputs": [
    {
     "name": "stdout",
     "output_type": "stream",
     "text": [
      "0     Brooklyn\n",
      "1    Manhattan\n",
      "2     Brooklyn\n",
      "3    Manhattan\n",
      "4    Manhattan\n",
      "Name: borough, dtype: object\n"
     ]
    },
    {
     "data": {
      "text/plain": "0           Flatlands\n1     Upper West Side\n2    Brooklyn Heights\n3     Upper West Side\n4     Lower East Side\nName: neighbourhood, dtype: object"
     },
     "execution_count": 153,
     "metadata": {},
     "output_type": "execute_result"
    }
   ],
   "source": [
    "# Create borough and neighbourhood columns\n",
    "airbnb['borough'] = two_columns[0]\n",
    "airbnb['neighbourhood'] = two_columns[1]\n",
    "# Print header of columns\n",
    "print(airbnb.borough.head())\n",
    "airbnb.neighbourhood.head()"
   ]
  },
  {
   "cell_type": "code",
   "execution_count": 154,
   "metadata": {
    "id": "SnflzqkwzCnt",
    "ExecuteTime": {
     "end_time": "2024-03-07T13:51:08.126164Z",
     "start_time": "2024-03-07T13:51:08.122810Z"
    }
   },
   "outputs": [],
   "source": [
    "# Drop neighbourhood_full column\n",
    "airbnb.drop_duplicates(subset=['neighbourhood'], inplace=True)"
   ]
  },
  {
   "cell_type": "code",
   "execution_count": 157,
   "metadata": {
    "colab": {
     "base_uri": "https://localhost:8080/",
     "height": 816
    },
    "id": "NJqrhMlNzNxk",
    "outputId": "fb53c48b-df6e-4622-921c-82e8fd715a56",
    "ExecuteTime": {
     "end_time": "2024-03-07T13:51:36.049410Z",
     "start_time": "2024-03-07T13:51:36.045567Z"
    }
   },
   "outputs": [
    {
     "data": {
      "text/plain": "array(['Flatlands', 'Upper West Side', 'Brooklyn Heights',\n       'Lower East Side', 'Greenwich Village', 'Harlem', 'Sheepshead Bay',\n       'Theater District', 'Bushwick', 'Laurelton', 'Mott Haven',\n       'Flushing', 'Crown Heights', 'Midtown', 'Financial District',\n       'East Village', 'Park Slope', 'Washington Heights', 'Williamsburg',\n       'Chelsea', 'Bedford-Stuyvesant', 'Gowanus', 'Upper East Side',\n       'Ditmars Steinway', 'Cypress Hills', \"Hell's Kitchen\", 'Ridgewood',\n       'Marble Hill', 'Kips Bay', 'Prospect Heights', 'East New York',\n       'Concord', 'Stapleton', 'Astoria', 'East Harlem', 'Sunnyside',\n       'Gramercy', 'Prospect-Lefferts Gardens', 'Sunset Park',\n       'Forest Hills', 'Windsor Terrace', 'Clinton Hill', 'Murray Hill',\n       'Flatiron District', 'Greenpoint', 'East Flatbush', 'Tribeca',\n       'Woodhaven', 'Fort Greene', 'Inwood', 'Chinatown',\n       'Rockaway Beach', 'Woodside', 'Bayside', 'Bensonhurst', 'SoHo',\n       'Red Hook', 'West Village', 'South Slope', 'Richmond Hill',\n       'Jamaica', 'Boerum Hill', 'St. George', 'Clason Point',\n       'College Point', 'Vinegar Hill', 'Rego Park', 'East Elmhurst',\n       'Kensington', 'Roosevelt Island', 'Ozone Park', 'Arverne',\n       'Fordham', 'Wakefield', 'Port Morris', 'Flatbush', 'Elmhurst',\n       'Bay Ridge', 'Canarsie', 'Little Italy', 'Civic Center',\n       'St. Albans', 'Morningside Heights', 'Morrisania', 'Two Bridges',\n       'Concourse', 'Downtown Brooklyn', 'Queens Village', 'Fieldston',\n       'Allerton', 'Grymes Hill', 'Carroll Gardens', 'Kingsbridge',\n       'Belle Harbor', 'NoHo', 'Maspeth', 'Borough Park', 'Midwood',\n       'Fresh Meadows', 'Battery Park City', 'Pelham Bay', 'Van Nest',\n       'Long Island City', 'Williamsbridge', 'Nolita', 'Kew Gardens',\n       'Corona', 'Middle Village', 'Jackson Heights', 'Gravesend',\n       'New Dorp Beach', 'Brighton Beach', 'Belmont', 'Eltingville',\n       'South Ozone Park', 'Stuyvesant Town', 'Far Rockaway', 'Longwood',\n       'Glendale', 'Dongan Hills', 'Hollis', 'Columbia St',\n       'Tompkinsville', 'Springfield Gardens', 'Concourse Village',\n       'Throgs Neck', 'Cobble Hill', 'South Beach', 'North Riverdale',\n       'Rosedale', 'Mount Hope', 'Edenwald', 'Parkchester', 'Mill Basin',\n       'Brownsville', 'Fort Hamilton', 'Howard Beach',\n       'Claremont Village', 'Pelham Gardens', 'Westchester Square',\n       'Kew Gardens Hills', 'Arrochar', 'Edgemere', 'Shore Acres',\n       'Dyker Heights', 'Mount Eden', 'Randall Manor', 'Jamaica Hills',\n       'Norwood', 'Tottenville', 'Cambria Heights', 'East Morrisania',\n       'Soundview', 'Morris Park', 'Bronxdale', 'Bellerose', 'Navy Yard',\n       'Unionport', 'DUMBO', 'Bayswater', 'Tremont', 'Highbridge',\n       'Graniteville', 'Baychester', 'Morris Heights', 'Coney Island',\n       'Briarwood', 'West Farms', \"Prince's Bay\", 'University Heights',\n       'Clifton', 'Bay Terrace', 'City Island', 'West Brighton',\n       'Douglaston', 'Schuylerville', 'Port Richmond', 'Oakwood',\n       'Westerleigh', 'Little Neck', 'Holliswood', 'Bergen Beach',\n       'Castle Hill', 'Olinville', 'Rosebank', 'Melrose', 'Whitestone',\n       'Grant City', 'Riverdale', 'Neponsit', 'Bath Beach',\n       'Mariners Harbor', 'Hunts Point', 'Great Kills', 'Midland Beach',\n       'Eastchester', 'Jamaica Estates', 'New Springville'], dtype=object)"
     },
     "execution_count": 157,
     "metadata": {},
     "output_type": "execute_result"
    }
   ],
   "source": [
    "# Print out unique values of borough and neighbourhood\n",
    "airbnb.borough.unique()\n",
    "airbnb.neighbourhood.unique()"
   ]
  },
  {
   "cell_type": "code",
   "execution_count": 160,
   "metadata": {
    "colab": {
     "base_uri": "https://localhost:8080/",
     "height": 731
    },
    "id": "sIC_fuLRz-en",
    "outputId": "76d43de4-1409-44c7-e813-a182b858282e",
    "ExecuteTime": {
     "end_time": "2024-03-07T13:52:47.885057Z",
     "start_time": "2024-03-07T13:52:47.882183Z"
    }
   },
   "outputs": [
    {
     "data": {
      "text/plain": "array(['Brooklyn', 'Manhattan', 'Queens', 'Bronx', 'Staten Island'],\n      dtype=object)"
     },
     "execution_count": 160,
     "metadata": {},
     "output_type": "execute_result"
    }
   ],
   "source": [
    "# Strip white space from neighbourhood column\n",
    "airbnb.borough = airbnb.borough.str.strip()\n",
    "\n",
    "# Print unique values again\n",
    "airbnb.borough.unique()"
   ]
  },
  {
   "cell_type": "markdown",
   "metadata": {
    "id": "iFUQqbRp1lil"
   },
   "source": [
    "##### **Task 6:** Make sure we set the correct maximum for `rating` column out of range values"
   ]
  },
  {
   "cell_type": "code",
   "execution_count": 164,
   "metadata": {
    "colab": {
     "base_uri": "https://localhost:8080/",
     "height": 349
    },
    "id": "toWXIeUx2C0o",
    "outputId": "544d5863-c5ff-4b01-c299-fe5a17cd04a1",
    "ExecuteTime": {
     "end_time": "2024-03-07T13:54:02.228928Z",
     "start_time": "2024-03-07T13:54:02.226255Z"
    }
   },
   "outputs": [
    {
     "data": {
      "text/plain": "Series([], Name: rating, dtype: float64)"
     },
     "execution_count": 164,
     "metadata": {},
     "output_type": "execute_result"
    }
   ],
   "source": [
    "# Isolate rows of rating > 5.0\n",
    "airbnb.rating[airbnb.rating > 5.0]"
   ]
  },
  {
   "cell_type": "code",
   "execution_count": 89,
   "metadata": {
    "id": "O6GzdjlP2JZN",
    "ExecuteTime": {
     "end_time": "2024-03-07T13:38:19.090100Z",
     "start_time": "2024-03-07T13:38:19.088422Z"
    }
   },
   "outputs": [],
   "source": [
    "# Drop these rows and make sure we have effected changes"
   ]
  },
  {
   "cell_type": "code",
   "execution_count": 165,
   "metadata": {
    "colab": {
     "base_uri": "https://localhost:8080/",
     "height": 34
    },
    "id": "ll1KvVJX4Pd3",
    "outputId": "5e1a6b80-1ba8-47f0-88ea-6b53e3cdcd3d",
    "ExecuteTime": {
     "end_time": "2024-03-07T13:54:15.779463Z",
     "start_time": "2024-03-07T13:54:15.776953Z"
    }
   },
   "outputs": [
    {
     "data": {
      "text/plain": "4.984868192025561"
     },
     "execution_count": 165,
     "metadata": {},
     "output_type": "execute_result"
    }
   ],
   "source": [
    "# Get the maximum\n",
    "airbnb.rating.max()"
   ]
  },
  {
   "cell_type": "markdown",
   "metadata": {
    "id": "KGpasg3L6Je4"
   },
   "source": [
    "##### **Task 7:** Check consitent date format in the date columns."
   ]
  },
  {
   "cell_type": "code",
   "execution_count": 91,
   "metadata": {
    "id": "jT_hz8Dj0EhB",
    "ExecuteTime": {
     "end_time": "2024-03-07T13:38:19.128269Z",
     "start_time": "2024-03-07T13:38:19.126640Z"
    }
   },
   "outputs": [],
   "source": [
    "# Doing some sanity checks on date data"
   ]
  },
  {
   "cell_type": "code",
   "execution_count": 173,
   "metadata": {
    "colab": {
     "base_uri": "https://localhost:8080/",
     "height": 69
    },
    "id": "pUKi4Dbi27Zb",
    "outputId": "a34f2e24-1ae0-42ce-f779-437549f1dce8",
    "ExecuteTime": {
     "end_time": "2024-03-07T13:58:24.834949Z",
     "start_time": "2024-03-07T13:58:24.830152Z"
    }
   },
   "outputs": [
    {
     "data": {
      "text/plain": "Series([], Name: last_review, dtype: datetime64[ns])"
     },
     "execution_count": 173,
     "metadata": {},
     "output_type": "execute_result"
    }
   ],
   "source": [
    "# Are there reviews in the future?\n",
    "import datetime\n",
    "airbnb.last_review[airbnb.last_review > datetime.datetime.now()]"
   ]
  },
  {
   "cell_type": "code",
   "execution_count": 175,
   "metadata": {
    "colab": {
     "base_uri": "https://localhost:8080/",
     "height": 499
    },
    "id": "dZO_yoOZ2-jf",
    "outputId": "44ea0a3e-dbec-49fd-c004-27fe8d14ada4",
    "ExecuteTime": {
     "end_time": "2024-03-07T13:58:37.887468Z",
     "start_time": "2024-03-07T13:58:37.883256Z"
    }
   },
   "outputs": [
    {
     "data": {
      "text/plain": "Series([], Name: listing_added, dtype: datetime64[ns])"
     },
     "execution_count": 175,
     "metadata": {},
     "output_type": "execute_result"
    }
   ],
   "source": [
    "# Are there listings in the future?\n",
    "airbnb.listing_added[airbnb.listing_added > datetime.datetime.now()]"
   ]
  },
  {
   "cell_type": "code",
   "execution_count": 94,
   "metadata": {
    "id": "3xJUlJFm3cmc",
    "ExecuteTime": {
     "end_time": "2024-03-07T13:38:19.138409Z",
     "start_time": "2024-03-07T13:38:19.136770Z"
    }
   },
   "outputs": [],
   "source": [
    "# Drop these rows since they are only 4 rows\n",
    "# Nope"
   ]
  },
  {
   "cell_type": "code",
   "execution_count": 176,
   "metadata": {
    "colab": {
     "base_uri": "https://localhost:8080/",
     "height": 250
    },
    "id": "BvqMxmux4e_Q",
    "outputId": "acda368c-0aaf-4ea2-fce3-583502a1a4d1",
    "ExecuteTime": {
     "end_time": "2024-03-07T13:59:18.468490Z",
     "start_time": "2024-03-07T13:59:18.463745Z"
    }
   },
   "outputs": [
    {
     "data": {
      "text/plain": "4      2020-01-23 00:10:00\n50     2020-01-17 00:02:00\n5587   2018-01-31 00:05:00\nName: listing_added, dtype: datetime64[ns]"
     },
     "execution_count": 176,
     "metadata": {},
     "output_type": "execute_result"
    }
   ],
   "source": [
    "# Are there any listings with listing_added > last_review\n",
    "airbnb.listing_added[airbnb.listing_added > airbnb.last_review]"
   ]
  },
  {
   "cell_type": "code",
   "execution_count": 180,
   "metadata": {
    "id": "cCziTT7T4xbT",
    "ExecuteTime": {
     "end_time": "2024-03-07T14:00:19.347754Z",
     "start_time": "2024-03-07T14:00:19.339014Z"
    }
   },
   "outputs": [
    {
     "data": {
      "text/plain": "      listing_id                                               name  \\\n0       13740704  Cozy,budget friendly, cable inc, private entra...   \n1       22005115              Two floor apartment near Central Park   \n2       21667615                  Beautiful 1BR in Brooklyn Heights   \n4       22986519              Bedroom on the lively Lower East Side   \n5         271954                     Beautiful brownstone apartment   \n...          ...                                                ...   \n8532    24624154                           1 Bedroom Cozy Apartment   \n8600    20136828                                    2 BD cozy house   \n8646     7791636  **Dominique's NYC couch bed **sleep*shower &  ...   \n8869    11656721                                3 bedroom near Park   \n9119      503460                    Spacious Apartment w extra room   \n\n        host_id host_name              neighbourhood_full     room_type  \\\n0      20583125    Michel             Brooklyn, Flatlands  private room   \n1      82746113   Cecilia      Manhattan, Upper West Side  entire place   \n2         78251    Leslie      Brooklyn, Brooklyn Heights  entire place   \n4     154262349    Brooke      Manhattan, Lower East Side  private room   \n5       1423798        Aj    Manhattan, Greenwich Village  entire place   \n...         ...       ...                             ...           ...   \n8532  139756559     Maria      Staten Island, Great Kills  entire place   \n8600  143199593       Val    Staten Island, Midland Beach  entire place   \n8646     310670       Vie              Bronx, Eastchester   shared room   \n8869   46502890    Jackie         Queens, Jamaica Estates  private room   \n9119    2483236   Caitlin  Staten Island, New Springville  private room   \n\n      price  number_of_reviews         last_review  reviews_per_month  \\\n0      45.0                 10 2018-01-12 00:12:00               0.70   \n1     135.0                  1 2019-01-30 00:06:00               1.00   \n2     150.0                  0                 NaT                NaN   \n4     160.0                 23 2019-01-12 00:06:00               2.29   \n5     150.0                203 2019-01-20 00:06:00               2.22   \n...     ...                ...                 ...                ...   \n8532   75.0                  3 2019-01-11 00:02:00               0.22   \n8600  105.0                 20 2019-01-10 00:06:00               1.05   \n8646   45.0                  1 2019-01-20 00:04:00               0.37   \n8869  750.0                  0                 NaT                NaN   \n9119   68.0                 11 2018-01-22 00:10:00               0.24   \n\n      availability_365    rating  number_of_stays   5_stars  \\\n0                   85  4.100954             12.0  0.609432   \n1                  145  3.367600              1.2  0.746135   \n2                   65       NaN              NaN       NaN   \n4                  102  3.822591             27.6  0.649383   \n5                  300  4.478396            243.6  0.743500   \n...                ...       ...              ...       ...   \n8532               129  3.872523              3.6  0.707174   \n8600               358  4.477754             24.0  0.665771   \n8646               318  4.479847              1.2  0.614649   \n8869                 0       NaN              NaN       NaN   \n9119                88  4.672686             13.2  0.807788   \n\n           listing_added       lat      long        borough      neighbourhood  \n0    2018-01-08 00:06:00  40.63222 -73.93398       Brooklyn          Flatlands  \n1    2018-01-25 00:12:00  40.78761 -73.96862      Manhattan    Upper West Side  \n2    2018-01-15 00:08:00  40.70070 -73.99517       Brooklyn   Brooklyn Heights  \n4                    NaT  40.71884 -73.98354      Manhattan    Lower East Side  \n5    2018-01-15 00:12:00  40.73388 -73.99452      Manhattan  Greenwich Village  \n...                  ...       ...       ...            ...                ...  \n8532 2018-01-08 00:08:00  40.54878 -74.13908  Staten Island        Great Kills  \n8600 2018-01-05 00:12:00  40.57509 -74.09606  Staten Island      Midland Beach  \n8646 2018-01-15 00:10:00  40.88211 -73.83625          Bronx        Eastchester  \n8869 2018-01-11 00:04:00  40.72191 -73.78207         Queens    Jamaica Estates  \n9119 2018-01-18 00:04:00  40.59274 -74.16178  Staten Island    New Springville  \n\n[198 rows x 19 columns]",
      "text/html": "<div>\n<style scoped>\n    .dataframe tbody tr th:only-of-type {\n        vertical-align: middle;\n    }\n\n    .dataframe tbody tr th {\n        vertical-align: top;\n    }\n\n    .dataframe thead th {\n        text-align: right;\n    }\n</style>\n<table border=\"1\" class=\"dataframe\">\n  <thead>\n    <tr style=\"text-align: right;\">\n      <th></th>\n      <th>listing_id</th>\n      <th>name</th>\n      <th>host_id</th>\n      <th>host_name</th>\n      <th>neighbourhood_full</th>\n      <th>room_type</th>\n      <th>price</th>\n      <th>number_of_reviews</th>\n      <th>last_review</th>\n      <th>reviews_per_month</th>\n      <th>availability_365</th>\n      <th>rating</th>\n      <th>number_of_stays</th>\n      <th>5_stars</th>\n      <th>listing_added</th>\n      <th>lat</th>\n      <th>long</th>\n      <th>borough</th>\n      <th>neighbourhood</th>\n    </tr>\n  </thead>\n  <tbody>\n    <tr>\n      <th>0</th>\n      <td>13740704</td>\n      <td>Cozy,budget friendly, cable inc, private entra...</td>\n      <td>20583125</td>\n      <td>Michel</td>\n      <td>Brooklyn, Flatlands</td>\n      <td>private room</td>\n      <td>45.0</td>\n      <td>10</td>\n      <td>2018-01-12 00:12:00</td>\n      <td>0.70</td>\n      <td>85</td>\n      <td>4.100954</td>\n      <td>12.0</td>\n      <td>0.609432</td>\n      <td>2018-01-08 00:06:00</td>\n      <td>40.63222</td>\n      <td>-73.93398</td>\n      <td>Brooklyn</td>\n      <td>Flatlands</td>\n    </tr>\n    <tr>\n      <th>1</th>\n      <td>22005115</td>\n      <td>Two floor apartment near Central Park</td>\n      <td>82746113</td>\n      <td>Cecilia</td>\n      <td>Manhattan, Upper West Side</td>\n      <td>entire place</td>\n      <td>135.0</td>\n      <td>1</td>\n      <td>2019-01-30 00:06:00</td>\n      <td>1.00</td>\n      <td>145</td>\n      <td>3.367600</td>\n      <td>1.2</td>\n      <td>0.746135</td>\n      <td>2018-01-25 00:12:00</td>\n      <td>40.78761</td>\n      <td>-73.96862</td>\n      <td>Manhattan</td>\n      <td>Upper West Side</td>\n    </tr>\n    <tr>\n      <th>2</th>\n      <td>21667615</td>\n      <td>Beautiful 1BR in Brooklyn Heights</td>\n      <td>78251</td>\n      <td>Leslie</td>\n      <td>Brooklyn, Brooklyn Heights</td>\n      <td>entire place</td>\n      <td>150.0</td>\n      <td>0</td>\n      <td>NaT</td>\n      <td>NaN</td>\n      <td>65</td>\n      <td>NaN</td>\n      <td>NaN</td>\n      <td>NaN</td>\n      <td>2018-01-15 00:08:00</td>\n      <td>40.70070</td>\n      <td>-73.99517</td>\n      <td>Brooklyn</td>\n      <td>Brooklyn Heights</td>\n    </tr>\n    <tr>\n      <th>4</th>\n      <td>22986519</td>\n      <td>Bedroom on the lively Lower East Side</td>\n      <td>154262349</td>\n      <td>Brooke</td>\n      <td>Manhattan, Lower East Side</td>\n      <td>private room</td>\n      <td>160.0</td>\n      <td>23</td>\n      <td>2019-01-12 00:06:00</td>\n      <td>2.29</td>\n      <td>102</td>\n      <td>3.822591</td>\n      <td>27.6</td>\n      <td>0.649383</td>\n      <td>NaT</td>\n      <td>40.71884</td>\n      <td>-73.98354</td>\n      <td>Manhattan</td>\n      <td>Lower East Side</td>\n    </tr>\n    <tr>\n      <th>5</th>\n      <td>271954</td>\n      <td>Beautiful brownstone apartment</td>\n      <td>1423798</td>\n      <td>Aj</td>\n      <td>Manhattan, Greenwich Village</td>\n      <td>entire place</td>\n      <td>150.0</td>\n      <td>203</td>\n      <td>2019-01-20 00:06:00</td>\n      <td>2.22</td>\n      <td>300</td>\n      <td>4.478396</td>\n      <td>243.6</td>\n      <td>0.743500</td>\n      <td>2018-01-15 00:12:00</td>\n      <td>40.73388</td>\n      <td>-73.99452</td>\n      <td>Manhattan</td>\n      <td>Greenwich Village</td>\n    </tr>\n    <tr>\n      <th>...</th>\n      <td>...</td>\n      <td>...</td>\n      <td>...</td>\n      <td>...</td>\n      <td>...</td>\n      <td>...</td>\n      <td>...</td>\n      <td>...</td>\n      <td>...</td>\n      <td>...</td>\n      <td>...</td>\n      <td>...</td>\n      <td>...</td>\n      <td>...</td>\n      <td>...</td>\n      <td>...</td>\n      <td>...</td>\n      <td>...</td>\n      <td>...</td>\n    </tr>\n    <tr>\n      <th>8532</th>\n      <td>24624154</td>\n      <td>1 Bedroom Cozy Apartment</td>\n      <td>139756559</td>\n      <td>Maria</td>\n      <td>Staten Island, Great Kills</td>\n      <td>entire place</td>\n      <td>75.0</td>\n      <td>3</td>\n      <td>2019-01-11 00:02:00</td>\n      <td>0.22</td>\n      <td>129</td>\n      <td>3.872523</td>\n      <td>3.6</td>\n      <td>0.707174</td>\n      <td>2018-01-08 00:08:00</td>\n      <td>40.54878</td>\n      <td>-74.13908</td>\n      <td>Staten Island</td>\n      <td>Great Kills</td>\n    </tr>\n    <tr>\n      <th>8600</th>\n      <td>20136828</td>\n      <td>2 BD cozy house</td>\n      <td>143199593</td>\n      <td>Val</td>\n      <td>Staten Island, Midland Beach</td>\n      <td>entire place</td>\n      <td>105.0</td>\n      <td>20</td>\n      <td>2019-01-10 00:06:00</td>\n      <td>1.05</td>\n      <td>358</td>\n      <td>4.477754</td>\n      <td>24.0</td>\n      <td>0.665771</td>\n      <td>2018-01-05 00:12:00</td>\n      <td>40.57509</td>\n      <td>-74.09606</td>\n      <td>Staten Island</td>\n      <td>Midland Beach</td>\n    </tr>\n    <tr>\n      <th>8646</th>\n      <td>7791636</td>\n      <td>**Dominique's NYC couch bed **sleep*shower &amp;  ...</td>\n      <td>310670</td>\n      <td>Vie</td>\n      <td>Bronx, Eastchester</td>\n      <td>shared room</td>\n      <td>45.0</td>\n      <td>1</td>\n      <td>2019-01-20 00:04:00</td>\n      <td>0.37</td>\n      <td>318</td>\n      <td>4.479847</td>\n      <td>1.2</td>\n      <td>0.614649</td>\n      <td>2018-01-15 00:10:00</td>\n      <td>40.88211</td>\n      <td>-73.83625</td>\n      <td>Bronx</td>\n      <td>Eastchester</td>\n    </tr>\n    <tr>\n      <th>8869</th>\n      <td>11656721</td>\n      <td>3 bedroom near Park</td>\n      <td>46502890</td>\n      <td>Jackie</td>\n      <td>Queens, Jamaica Estates</td>\n      <td>private room</td>\n      <td>750.0</td>\n      <td>0</td>\n      <td>NaT</td>\n      <td>NaN</td>\n      <td>0</td>\n      <td>NaN</td>\n      <td>NaN</td>\n      <td>NaN</td>\n      <td>2018-01-11 00:04:00</td>\n      <td>40.72191</td>\n      <td>-73.78207</td>\n      <td>Queens</td>\n      <td>Jamaica Estates</td>\n    </tr>\n    <tr>\n      <th>9119</th>\n      <td>503460</td>\n      <td>Spacious Apartment w extra room</td>\n      <td>2483236</td>\n      <td>Caitlin</td>\n      <td>Staten Island, New Springville</td>\n      <td>private room</td>\n      <td>68.0</td>\n      <td>11</td>\n      <td>2018-01-22 00:10:00</td>\n      <td>0.24</td>\n      <td>88</td>\n      <td>4.672686</td>\n      <td>13.2</td>\n      <td>0.807788</td>\n      <td>2018-01-18 00:04:00</td>\n      <td>40.59274</td>\n      <td>-74.16178</td>\n      <td>Staten Island</td>\n      <td>New Springville</td>\n    </tr>\n  </tbody>\n</table>\n<p>198 rows × 19 columns</p>\n</div>"
     },
     "execution_count": 180,
     "metadata": {},
     "output_type": "execute_result"
    }
   ],
   "source": [
    "# Drop these rows since they are only 2 rows\n",
    "airbnb.drop(index=airbnb.listing_added[airbnb.listing_added > airbnb.last_review].index) "
   ]
  },
  {
   "cell_type": "markdown",
   "metadata": {
    "id": "JD1ChXPF6BR7"
   },
   "source": [
    "##### **Task 8:** Let's deal with duplicate data"
   ]
  },
  {
   "cell_type": "markdown",
   "metadata": {
    "id": "hz9oQHyt8KmO"
   },
   "source": [
    "\n",
    "There are two notable types of duplicate data:\n",
    "\n",
    "- Identical duplicate data across all columns\n",
    "- Identical duplicate data cross most or some columns\n",
    "\n",
    "To diagnose, and deal with duplicate data, we will be using the following methods and functions:\n",
    "\n",
    "- `.duplicated(subset = , keep = )`\n",
    "  - `subset` lets us pick one or more columns with duplicate values.\n",
    "  - `keep` returns lets us return all instances of duplicate values.\n",
    "- `.drop_duplicates(subset = , keep = )`\n",
    "  "
   ]
  },
  {
   "cell_type": "code",
   "execution_count": 181,
   "metadata": {
    "colab": {
     "base_uri": "https://localhost:8080/",
     "height": 462
    },
    "id": "_m3Gdg7x6ATJ",
    "outputId": "d66e76c5-0d10-4b8b-ded5-f0299630652e",
    "ExecuteTime": {
     "end_time": "2024-03-07T14:00:35.589223Z",
     "start_time": "2024-03-07T14:00:35.582901Z"
    }
   },
   "outputs": [
    {
     "data": {
      "text/plain": "   listing_id                                               name    host_id  \\\n0    13740704  Cozy,budget friendly, cable inc, private entra...   20583125   \n1    22005115              Two floor apartment near Central Park   82746113   \n2    21667615                  Beautiful 1BR in Brooklyn Heights      78251   \n4    22986519              Bedroom on the lively Lower East Side  154262349   \n5      271954                     Beautiful brownstone apartment    1423798   \n\n  host_name            neighbourhood_full     room_type  price  \\\n0    Michel           Brooklyn, Flatlands  private room   45.0   \n1   Cecilia    Manhattan, Upper West Side  entire place  135.0   \n2    Leslie    Brooklyn, Brooklyn Heights  entire place  150.0   \n4    Brooke    Manhattan, Lower East Side  private room  160.0   \n5        Aj  Manhattan, Greenwich Village  entire place  150.0   \n\n   number_of_reviews         last_review  reviews_per_month  availability_365  \\\n0                 10 2018-01-12 00:12:00               0.70                85   \n1                  1 2019-01-30 00:06:00               1.00               145   \n2                  0                 NaT                NaN                65   \n4                 23 2019-01-12 00:06:00               2.29               102   \n5                203 2019-01-20 00:06:00               2.22               300   \n\n     rating  number_of_stays   5_stars       listing_added       lat  \\\n0  4.100954             12.0  0.609432 2018-01-08 00:06:00  40.63222   \n1  3.367600              1.2  0.746135 2018-01-25 00:12:00  40.78761   \n2       NaN              NaN       NaN 2018-01-15 00:08:00  40.70070   \n4  3.822591             27.6  0.649383                 NaT  40.71884   \n5  4.478396            243.6  0.743500 2018-01-15 00:12:00  40.73388   \n\n       long    borough      neighbourhood  \n0 -73.93398   Brooklyn          Flatlands  \n1 -73.96862  Manhattan    Upper West Side  \n2 -73.99517   Brooklyn   Brooklyn Heights  \n4 -73.98354  Manhattan    Lower East Side  \n5 -73.99452  Manhattan  Greenwich Village  ",
      "text/html": "<div>\n<style scoped>\n    .dataframe tbody tr th:only-of-type {\n        vertical-align: middle;\n    }\n\n    .dataframe tbody tr th {\n        vertical-align: top;\n    }\n\n    .dataframe thead th {\n        text-align: right;\n    }\n</style>\n<table border=\"1\" class=\"dataframe\">\n  <thead>\n    <tr style=\"text-align: right;\">\n      <th></th>\n      <th>listing_id</th>\n      <th>name</th>\n      <th>host_id</th>\n      <th>host_name</th>\n      <th>neighbourhood_full</th>\n      <th>room_type</th>\n      <th>price</th>\n      <th>number_of_reviews</th>\n      <th>last_review</th>\n      <th>reviews_per_month</th>\n      <th>availability_365</th>\n      <th>rating</th>\n      <th>number_of_stays</th>\n      <th>5_stars</th>\n      <th>listing_added</th>\n      <th>lat</th>\n      <th>long</th>\n      <th>borough</th>\n      <th>neighbourhood</th>\n    </tr>\n  </thead>\n  <tbody>\n    <tr>\n      <th>0</th>\n      <td>13740704</td>\n      <td>Cozy,budget friendly, cable inc, private entra...</td>\n      <td>20583125</td>\n      <td>Michel</td>\n      <td>Brooklyn, Flatlands</td>\n      <td>private room</td>\n      <td>45.0</td>\n      <td>10</td>\n      <td>2018-01-12 00:12:00</td>\n      <td>0.70</td>\n      <td>85</td>\n      <td>4.100954</td>\n      <td>12.0</td>\n      <td>0.609432</td>\n      <td>2018-01-08 00:06:00</td>\n      <td>40.63222</td>\n      <td>-73.93398</td>\n      <td>Brooklyn</td>\n      <td>Flatlands</td>\n    </tr>\n    <tr>\n      <th>1</th>\n      <td>22005115</td>\n      <td>Two floor apartment near Central Park</td>\n      <td>82746113</td>\n      <td>Cecilia</td>\n      <td>Manhattan, Upper West Side</td>\n      <td>entire place</td>\n      <td>135.0</td>\n      <td>1</td>\n      <td>2019-01-30 00:06:00</td>\n      <td>1.00</td>\n      <td>145</td>\n      <td>3.367600</td>\n      <td>1.2</td>\n      <td>0.746135</td>\n      <td>2018-01-25 00:12:00</td>\n      <td>40.78761</td>\n      <td>-73.96862</td>\n      <td>Manhattan</td>\n      <td>Upper West Side</td>\n    </tr>\n    <tr>\n      <th>2</th>\n      <td>21667615</td>\n      <td>Beautiful 1BR in Brooklyn Heights</td>\n      <td>78251</td>\n      <td>Leslie</td>\n      <td>Brooklyn, Brooklyn Heights</td>\n      <td>entire place</td>\n      <td>150.0</td>\n      <td>0</td>\n      <td>NaT</td>\n      <td>NaN</td>\n      <td>65</td>\n      <td>NaN</td>\n      <td>NaN</td>\n      <td>NaN</td>\n      <td>2018-01-15 00:08:00</td>\n      <td>40.70070</td>\n      <td>-73.99517</td>\n      <td>Brooklyn</td>\n      <td>Brooklyn Heights</td>\n    </tr>\n    <tr>\n      <th>4</th>\n      <td>22986519</td>\n      <td>Bedroom on the lively Lower East Side</td>\n      <td>154262349</td>\n      <td>Brooke</td>\n      <td>Manhattan, Lower East Side</td>\n      <td>private room</td>\n      <td>160.0</td>\n      <td>23</td>\n      <td>2019-01-12 00:06:00</td>\n      <td>2.29</td>\n      <td>102</td>\n      <td>3.822591</td>\n      <td>27.6</td>\n      <td>0.649383</td>\n      <td>NaT</td>\n      <td>40.71884</td>\n      <td>-73.98354</td>\n      <td>Manhattan</td>\n      <td>Lower East Side</td>\n    </tr>\n    <tr>\n      <th>5</th>\n      <td>271954</td>\n      <td>Beautiful brownstone apartment</td>\n      <td>1423798</td>\n      <td>Aj</td>\n      <td>Manhattan, Greenwich Village</td>\n      <td>entire place</td>\n      <td>150.0</td>\n      <td>203</td>\n      <td>2019-01-20 00:06:00</td>\n      <td>2.22</td>\n      <td>300</td>\n      <td>4.478396</td>\n      <td>243.6</td>\n      <td>0.743500</td>\n      <td>2018-01-15 00:12:00</td>\n      <td>40.73388</td>\n      <td>-73.99452</td>\n      <td>Manhattan</td>\n      <td>Greenwich Village</td>\n    </tr>\n  </tbody>\n</table>\n</div>"
     },
     "execution_count": 181,
     "metadata": {},
     "output_type": "execute_result"
    }
   ],
   "source": [
    "# Print the header of the DataFrame again\n",
    "airbnb.head()"
   ]
  },
  {
   "cell_type": "code",
   "execution_count": 185,
   "metadata": {
    "colab": {
     "base_uri": "https://localhost:8080/",
     "height": 221
    },
    "id": "EzT8q3SCIW7w",
    "outputId": "72825341-2a6b-4db3-b32a-ab1a806be314",
    "ExecuteTime": {
     "end_time": "2024-03-07T14:01:16.788666Z",
     "start_time": "2024-03-07T14:01:16.783291Z"
    }
   },
   "outputs": [
    {
     "data": {
      "text/plain": "Empty DataFrame\nColumns: [listing_id, name, host_id, host_name, neighbourhood_full, room_type, price, number_of_reviews, last_review, reviews_per_month, availability_365, rating, number_of_stays, 5_stars, listing_added, lat, long, borough, neighbourhood]\nIndex: []",
      "text/html": "<div>\n<style scoped>\n    .dataframe tbody tr th:only-of-type {\n        vertical-align: middle;\n    }\n\n    .dataframe tbody tr th {\n        vertical-align: top;\n    }\n\n    .dataframe thead th {\n        text-align: right;\n    }\n</style>\n<table border=\"1\" class=\"dataframe\">\n  <thead>\n    <tr style=\"text-align: right;\">\n      <th></th>\n      <th>listing_id</th>\n      <th>name</th>\n      <th>host_id</th>\n      <th>host_name</th>\n      <th>neighbourhood_full</th>\n      <th>room_type</th>\n      <th>price</th>\n      <th>number_of_reviews</th>\n      <th>last_review</th>\n      <th>reviews_per_month</th>\n      <th>availability_365</th>\n      <th>rating</th>\n      <th>number_of_stays</th>\n      <th>5_stars</th>\n      <th>listing_added</th>\n      <th>lat</th>\n      <th>long</th>\n      <th>borough</th>\n      <th>neighbourhood</th>\n    </tr>\n  </thead>\n  <tbody>\n  </tbody>\n</table>\n</div>"
     },
     "execution_count": 185,
     "metadata": {},
     "output_type": "execute_result"
    }
   ],
   "source": [
    "# Find duplicates\n",
    "airbnb[airbnb.duplicated()]"
   ]
  },
  {
   "cell_type": "code",
   "execution_count": 99,
   "metadata": {
    "colab": {
     "base_uri": "https://localhost:8080/",
     "height": 1000
    },
    "id": "pqVxdea4Ik5g",
    "outputId": "c7b21e06-1fc6-4466-9bdf-64509d3c5a6a",
    "ExecuteTime": {
     "end_time": "2024-03-07T13:38:19.190430Z",
     "start_time": "2024-03-07T13:38:19.188765Z"
    }
   },
   "outputs": [],
   "source": [
    "# Find duplicates"
   ]
  },
  {
   "cell_type": "code",
   "execution_count": 100,
   "metadata": {
    "id": "uSXEpMFlJCJc",
    "ExecuteTime": {
     "end_time": "2024-03-07T13:38:19.200461Z",
     "start_time": "2024-03-07T13:38:19.198965Z"
    }
   },
   "outputs": [],
   "source": [
    "# Remove identical duplicates"
   ]
  },
  {
   "cell_type": "code",
   "execution_count": 101,
   "metadata": {
    "id": "nYf1M1cNKIIN",
    "ExecuteTime": {
     "end_time": "2024-03-07T13:38:19.207043Z",
     "start_time": "2024-03-07T13:38:19.201556Z"
    }
   },
   "outputs": [],
   "source": [
    "# Find non-identical duplicates"
   ]
  },
  {
   "cell_type": "code",
   "execution_count": 102,
   "metadata": {
    "colab": {
     "base_uri": "https://localhost:8080/",
     "height": 1000
    },
    "id": "wiN1SBw8Kizr",
    "outputId": "2cdb3279-a0e0-4806-9bbe-2506539332c4",
    "ExecuteTime": {
     "end_time": "2024-03-07T13:38:19.210318Z",
     "start_time": "2024-03-07T13:38:19.208498Z"
    }
   },
   "outputs": [],
   "source": [
    "# Show all duplicates"
   ]
  },
  {
   "cell_type": "markdown",
   "metadata": {
    "id": "E6_O2EYkcGoF"
   },
   "source": [
    "To treat identical duplicates across some columns, we will chain the `.groupby()` and `.agg()` methods where we group by the column used to find duplicates (`listing_id`) and aggregate across statistical measures for `price`, `rating` and `list_added`. The `.agg()` method takes in a dictionary with each column's aggregation method - we will use the following aggregations:\n",
    "\n",
    "- `mean` for `price` and `rating` columns\n",
    "- `max` for `listing_added` column\n",
    "- `first` for all remaining column\n",
    "\n",
    "*A note on dictionary comprehensions:*\n",
    "\n",
    "Dictionaries are useful data structures in Python with the following format\n",
    "`my_dictionary = {key: value}` where a `key` is mapped to a `value` and whose `value` can be returned with `my_dictionary[key]` - dictionary comprehensions allow us to programmatically create dicitonaries using the structure:\n",
    "\n",
    "```\n",
    "{x: x*2 for x in [1,2,3,4,5]} \n",
    "{1:2, 2:4, 3:6, 4:8, 5:10}\n",
    "```"
   ]
  },
  {
   "cell_type": "code",
   "execution_count": 103,
   "metadata": {
    "colab": {
     "base_uri": "https://localhost:8080/",
     "height": 102
    },
    "id": "lYhIclpMqa_i",
    "outputId": "a9fb963d-8b7b-4db8-e8f1-a1ffc13835be",
    "ExecuteTime": {
     "end_time": "2024-03-07T13:38:19.215426Z",
     "start_time": "2024-03-07T13:38:19.213601Z"
    }
   },
   "outputs": [],
   "source": [
    "# Get column names from airbnb"
   ]
  },
  {
   "cell_type": "code",
   "execution_count": 104,
   "metadata": {
    "colab": {
     "base_uri": "https://localhost:8080/",
     "height": 323
    },
    "id": "CxCJ3xPbKmJg",
    "outputId": "41b354f9-6a4f-4ccc-d6ac-57b8030400ef",
    "ExecuteTime": {
     "end_time": "2024-03-07T13:38:19.228970Z",
     "start_time": "2024-03-07T13:38:19.227385Z"
    }
   },
   "outputs": [],
   "source": [
    "# Create dictionary comprehension with 'first' as value for all columns not being aggregated"
   ]
  },
  {
   "cell_type": "code",
   "execution_count": 105,
   "metadata": {
    "id": "jaS5j-KsRUD-",
    "ExecuteTime": {
     "end_time": "2024-03-07T13:38:19.239735Z",
     "start_time": "2024-03-07T13:38:19.238179Z"
    }
   },
   "outputs": [],
   "source": [
    "# Remove non-identical duplicates"
   ]
  },
  {
   "cell_type": "code",
   "execution_count": 106,
   "metadata": {
    "colab": {
     "base_uri": "https://localhost:8080/",
     "height": 69
    },
    "id": "q93L6waFWpTq",
    "outputId": "fc9621eb-236e-40c3-e087-f23393ec4e23",
    "ExecuteTime": {
     "end_time": "2024-03-07T13:38:19.247566Z",
     "start_time": "2024-03-07T13:38:19.245811Z"
    }
   },
   "outputs": [],
   "source": [
    "# Make sure no duplication happened"
   ]
  },
  {
   "cell_type": "code",
   "execution_count": 107,
   "metadata": {
    "colab": {
     "base_uri": "https://localhost:8080/",
     "height": 445
    },
    "id": "ZmIRBaZgW4q2",
    "outputId": "86fdbcff-636a-4b20-c310-a070c3857b3a",
    "ExecuteTime": {
     "end_time": "2024-03-07T13:38:19.259286Z",
     "start_time": "2024-03-07T13:38:19.257864Z"
    }
   },
   "outputs": [],
   "source": [
    "# Print header of DataFrame"
   ]
  },
  {
   "cell_type": "markdown",
   "metadata": {},
   "source": [
    "## **Record Linkage**\n",
    "\n",
    "Some selected examples will be presented in the on-site meeting."
   ]
  },
  {
   "cell_type": "code",
   "execution_count": 108,
   "metadata": {
    "ExecuteTime": {
     "end_time": "2024-03-07T13:38:19.268675Z",
     "start_time": "2024-03-07T13:38:19.267231Z"
    }
   },
   "outputs": [],
   "source": [
    "# Task 1: Choose 3 different examples of word pairs, draw a matrix for each example, and calculate the levensthein distance manually without any digital support."
   ]
  },
  {
   "cell_type": "code",
   "execution_count": 109,
   "metadata": {
    "ExecuteTime": {
     "end_time": "2024-03-07T13:38:19.277246Z",
     "start_time": "2024-03-07T13:38:19.275662Z"
    }
   },
   "outputs": [],
   "source": [
    "# Task 2: Calculate the levensthein distance for the three examples by using a python levensthein distance library of your choice."
   ]
  },
  {
   "cell_type": "code",
   "execution_count": 109,
   "metadata": {
    "ExecuteTime": {
     "end_time": "2024-03-07T13:38:19.281489Z",
     "start_time": "2024-03-07T13:38:19.280105Z"
    }
   },
   "outputs": [],
   "source": []
  }
 ],
 "metadata": {
  "colab": {
   "name": "Cleaning Data in Python live session.ipynb",
   "provenance": []
  },
  "kernelspec": {
   "display_name": "Python 3",
   "language": "python",
   "name": "python3"
  },
  "language_info": {
   "codemirror_mode": {
    "name": "ipython",
    "version": 3
   },
   "file_extension": ".py",
   "mimetype": "text/x-python",
   "name": "python",
   "nbconvert_exporter": "python",
   "pygments_lexer": "ipython3",
   "version": "3.8.6"
  }
 },
 "nbformat": 4,
 "nbformat_minor": 1
}
