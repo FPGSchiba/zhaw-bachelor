{
 "cells": [
  {
   "cell_type": "markdown",
   "source": [
    "# Entering the world of Python and Pandas\n",
    "\n",
    "## Resources\n",
    "\n",
    "- The Introduction to Pandas chapter in the Python for Data Analysis book by Wes McKinney is essential reading for this topic.  This is the [companion notebook](https://github.com/wesm/pydata-book/blob/2nd-edition/ch05.ipynb) for that chapter. You can find the book at the ZHAW university library here: https://zhaw.swisscovery.slsp.ch/permalink/41SLSP_ZAW/47r7nv/cdi_askewsholts_vlebooks_9781491957639\n",
    "- [Pandas documentation](http://pandas.pydata.org/pandas-docs/stable/)\n",
    "\n",
    "\n",
    "## Pandas\n",
    "\n",
    "**pandas** is a Python package providing fast, flexible, and expressive data structures designed to work with *relational* or *labeled* data both. It is a fundamental high-level building block for doing practical, real world data analysis in Python.\n",
    "\n",
    "pandas is well suited for:\n",
    "\n",
    "- **Tabular** data with heterogeneously-typed columns, as you might find in an SQL table or Excel spreadsheet\n",
    "- Ordered and unordered (not necessarily fixed-frequency) **time series** data.\n",
    "- Arbitrary **matrix** data with row and column labels\n",
    "\n",
    "Virtually any statistical dataset, labeled or unlabeled, can be converted to a pandas data structure for cleaning, transformation, and analysis.\n",
    "\n",
    "\n",
    "### Key features\n",
    "    \n",
    "- Easy handling of **missing data**\n",
    "- **Size mutability**: columns can be inserted and deleted from DataFrame and higher dimensional objects\n",
    "- Automatic and explicit **data alignment**: objects can be explicitly aligned to a set of labels, or the data can be aligned automatically\n",
    "- Powerful, flexible **group by functionality** to perform split-apply-combine operations on data sets\n",
    "- Intelligent label-based **slicing, fancy indexing, and subsetting** of large data sets\n",
    "- Intuitive **merging and joining** data sets\n",
    "- Flexible **reshaping and pivoting** of data sets\n",
    "- **Hierarchical labeling** of axes\n",
    "- Robust **IO tools** for loading data from flat files, Excel files, databases, and HDF5\n",
    "- **Time series functionality**: date range generation and frequency conversion, moving window statistics, moving window linear regressions, date shifting and lagging, etc."
   ],
   "metadata": {
    "id": "9e-N30F740hs"
   }
  },
  {
   "cell_type": "code",
   "outputs": [
    {
     "name": "stdout",
     "output_type": "stream",
     "text": [
      "Requirement already satisfied: numpy in /Users/schiba/miniforge3/envs/zhaw/lib/python3.11/site-packages (1.26.0)\r\n",
      "Collecting pandas\r\n",
      "  Obtaining dependency information for pandas from https://files.pythonhosted.org/packages/6f/4e/63e6b79132e854a67df3d37a5c8560e45c79e2504fa57e032c1d61abb090/pandas-2.2.0-cp311-cp311-macosx_11_0_arm64.whl.metadata\r\n",
      "  Downloading pandas-2.2.0-cp311-cp311-macosx_11_0_arm64.whl.metadata (19 kB)\r\n",
      "Requirement already satisfied: python-dateutil>=2.8.2 in /Users/schiba/miniforge3/envs/zhaw/lib/python3.11/site-packages (from pandas) (2.8.2)\r\n",
      "Requirement already satisfied: pytz>=2020.1 in /Users/schiba/miniforge3/envs/zhaw/lib/python3.11/site-packages (from pandas) (2023.3.post1)\r\n",
      "Collecting tzdata>=2022.7 (from pandas)\r\n",
      "  Obtaining dependency information for tzdata>=2022.7 from https://files.pythonhosted.org/packages/65/58/f9c9e6be752e9fcb8b6a0ee9fb87e6e7a1f6bcab2cdc73f02bb7ba91ada0/tzdata-2024.1-py2.py3-none-any.whl.metadata\r\n",
      "  Downloading tzdata-2024.1-py2.py3-none-any.whl.metadata (1.4 kB)\r\n",
      "Requirement already satisfied: six>=1.5 in /Users/schiba/miniforge3/envs/zhaw/lib/python3.11/site-packages (from python-dateutil>=2.8.2->pandas) (1.16.0)\r\n",
      "Downloading pandas-2.2.0-cp311-cp311-macosx_11_0_arm64.whl (11.8 MB)\r\n",
      "\u001B[2K   \u001B[90m━━━━━━━━━━━━━━━━━━━━━━━━━━━━━━━━━━━━━━━━\u001B[0m \u001B[32m11.8/11.8 MB\u001B[0m \u001B[31m28.1 MB/s\u001B[0m eta \u001B[36m0:00:00\u001B[0m00:01\u001B[0m00:01\u001B[0m\r\n",
      "\u001B[?25hDownloading tzdata-2024.1-py2.py3-none-any.whl (345 kB)\r\n",
      "\u001B[2K   \u001B[90m━━━━━━━━━━━━━━━━━━━━━━━━━━━━━━━━━━━━━━━━\u001B[0m \u001B[32m345.4/345.4 kB\u001B[0m \u001B[31m31.8 MB/s\u001B[0m eta \u001B[36m0:00:00\u001B[0m\r\n",
      "\u001B[?25hInstalling collected packages: tzdata, pandas\r\n",
      "Successfully installed pandas-2.2.0 tzdata-2024.1\r\n"
     ]
    }
   ],
   "source": [
    "!pip install numpy pandas"
   ],
   "metadata": {
    "collapsed": false,
    "ExecuteTime": {
     "end_time": "2024-02-23T11:53:14.174838Z",
     "start_time": "2024-02-23T11:53:04.903472Z"
    }
   },
   "execution_count": 2
  },
  {
   "cell_type": "code",
   "outputs": [
    {
     "name": "stderr",
     "output_type": "stream",
     "text": [
      "/var/folders/g8/ts4wj2w128q2scsf9ttnhwq40000gn/T/ipykernel_17573/2674888900.py:2: DeprecationWarning: \n",
      "Pyarrow will become a required dependency of pandas in the next major release of pandas (pandas 3.0),\n",
      "(to allow more performant data types, such as the Arrow string type, and better interoperability with other libraries)\n",
      "but was not found to be installed on your system.\n",
      "If this would cause problems for you,\n",
      "please provide us feedback at https://github.com/pandas-dev/pandas/issues/54466\n",
      "        \n",
      "  import pandas as pd\n"
     ]
    }
   ],
   "source": [
    "import numpy as np\n",
    "import pandas as pd\n",
    "\n",
    "from pandas import Series, DataFrame"
   ],
   "metadata": {
    "id": "YQ5mDoNw40hs",
    "ExecuteTime": {
     "end_time": "2024-02-23T11:53:17.513367Z",
     "start_time": "2024-02-23T11:53:14.176358Z"
    }
   },
   "execution_count": 3
  },
  {
   "cell_type": "markdown",
   "source": [
    "## Working with Series\n",
    "\n",
    "* A pandas Series is a generationalization of 1d numpy array\n",
    "* A series has an *index* that labels each element in the vector.\n",
    "* A `Series` can be thought of as an ordered key-value store."
   ],
   "metadata": {
    "id": "xaUnvuUu40ht"
   }
  },
  {
   "cell_type": "code",
   "execution_count": 4,
   "metadata": {
    "id": "tcNWzifB40ht",
    "outputId": "35a1a4c5-a594-4034-a269-f4ec8f2aa98d",
    "colab": {
     "base_uri": "https://localhost:8080/"
    },
    "ExecuteTime": {
     "end_time": "2024-02-23T11:53:17.516223Z",
     "start_time": "2024-02-23T11:53:17.483318Z"
    }
   },
   "outputs": [
    {
     "data": {
      "text/plain": "array([5, 6, 7, 8, 9])"
     },
     "execution_count": 4,
     "metadata": {},
     "output_type": "execute_result"
    }
   ],
   "source": [
    "np.array(range(5,10))"
   ]
  },
  {
   "cell_type": "code",
   "execution_count": 5,
   "metadata": {
    "id": "bdq6gS2Y40hu",
    "ExecuteTime": {
     "end_time": "2024-02-23T11:53:17.518003Z",
     "start_time": "2024-02-23T11:53:17.487229Z"
    }
   },
   "outputs": [],
   "source": [
    "x = Series(range(5,10))"
   ]
  },
  {
   "cell_type": "code",
   "execution_count": 6,
   "metadata": {
    "scrolled": true,
    "id": "TbeXGkpv40hu",
    "outputId": "0d4db9cd-d147-410b-a19a-f6971a48ee29",
    "colab": {
     "base_uri": "https://localhost:8080/"
    },
    "ExecuteTime": {
     "end_time": "2024-02-23T11:53:17.520177Z",
     "start_time": "2024-02-23T11:53:17.489925Z"
    }
   },
   "outputs": [
    {
     "data": {
      "text/plain": "0    5\n1    6\n2    7\n3    8\n4    9\ndtype: int64"
     },
     "execution_count": 6,
     "metadata": {},
     "output_type": "execute_result"
    }
   ],
   "source": [
    "x"
   ]
  },
  {
   "cell_type": "markdown",
   "metadata": {
    "id": "X28MzdwN40hv"
   },
   "source": [
    "### We can treat Series objects much like numpy vectors"
   ]
  },
  {
   "cell_type": "code",
   "execution_count": 7,
   "metadata": {
    "id": "CNLlqQEN40hv",
    "outputId": "ae02401b-4ac8-4d9d-f85b-e6a5cb0c98f8",
    "colab": {
     "base_uri": "https://localhost:8080/"
    },
    "ExecuteTime": {
     "end_time": "2024-02-23T11:53:17.521979Z",
     "start_time": "2024-02-23T11:53:17.493640Z"
    }
   },
   "outputs": [
    {
     "data": {
      "text/plain": "(35, 7.0, 1.5811388300841898)"
     },
     "execution_count": 7,
     "metadata": {},
     "output_type": "execute_result"
    }
   ],
   "source": [
    "x.sum(), x.mean(), x.std()"
   ]
  },
  {
   "cell_type": "code",
   "execution_count": 8,
   "metadata": {
    "id": "t6zunvUZ40hv",
    "outputId": "8355e592-b021-4c2e-eb14-c43a5e734a7c",
    "colab": {
     "base_uri": "https://localhost:8080/"
    },
    "ExecuteTime": {
     "end_time": "2024-02-23T11:53:17.545969Z",
     "start_time": "2024-02-23T11:53:17.496731Z"
    }
   },
   "outputs": [
    {
     "data": {
      "text/plain": "0    25\n1    36\n2    49\n3    64\n4    81\ndtype: int64"
     },
     "execution_count": 8,
     "metadata": {},
     "output_type": "execute_result"
    }
   ],
   "source": [
    "x**2"
   ]
  },
  {
   "cell_type": "code",
   "execution_count": 9,
   "metadata": {
    "id": "i_39LeLb40hv",
    "outputId": "7a4e7ab1-5060-4e64-dcd2-f05e0cbaabf4",
    "colab": {
     "base_uri": "https://localhost:8080/"
    },
    "ExecuteTime": {
     "end_time": "2024-02-23T11:53:17.548226Z",
     "start_time": "2024-02-23T11:53:17.500625Z"
    }
   },
   "outputs": [
    {
     "data": {
      "text/plain": "4    9\ndtype: int64"
     },
     "execution_count": 9,
     "metadata": {},
     "output_type": "execute_result"
    }
   ],
   "source": [
    "x[x > 8]"
   ]
  },
  {
   "cell_type": "markdown",
   "metadata": {
    "id": "fvZmzdyU40hv"
   },
   "source": [
    "### Series can also contain more information than numpy vectors"
   ]
  },
  {
   "cell_type": "markdown",
   "metadata": {
    "id": "FpLhRR9j40hv"
   },
   "source": [
    "#### You can always use standard positional indexing"
   ]
  },
  {
   "cell_type": "code",
   "execution_count": 62,
   "metadata": {
    "id": "9JE8kzUI40hv",
    "outputId": "d243af98-8587-4ea7-d250-a6b5d2685003",
    "colab": {
     "base_uri": "https://localhost:8080/"
    },
    "ExecuteTime": {
     "end_time": "2024-02-23T11:53:52.646655Z",
     "start_time": "2024-02-23T11:53:52.619743Z"
    }
   },
   "outputs": [
    {
     "data": {
      "text/plain": "b    6\nc    7\nd    8\ndtype: int64"
     },
     "execution_count": 62,
     "metadata": {},
     "output_type": "execute_result"
    }
   ],
   "source": [
    "x[1:4]"
   ]
  },
  {
   "cell_type": "markdown",
   "metadata": {
    "id": "d7Xp40A-40hw"
   },
   "source": [
    "#### Series index\n",
    "\n",
    "But you can also assign labeled indexes."
   ]
  },
  {
   "cell_type": "code",
   "execution_count": 11,
   "metadata": {
    "id": "5RvolIFg40hw",
    "outputId": "6880e149-c909-44cb-c2ba-210d725e5ddb",
    "colab": {
     "base_uri": "https://localhost:8080/"
    },
    "ExecuteTime": {
     "end_time": "2024-02-23T11:53:17.655431Z",
     "start_time": "2024-02-23T11:53:17.508595Z"
    }
   },
   "outputs": [
    {
     "data": {
      "text/plain": "a    5\nb    6\nc    7\nd    8\ne    9\ndtype: int64"
     },
     "execution_count": 11,
     "metadata": {},
     "output_type": "execute_result"
    }
   ],
   "source": [
    "x.index = list('abcde')\n",
    "x"
   ]
  },
  {
   "cell_type": "markdown",
   "metadata": {
    "id": "vq35kblA40hw"
   },
   "source": [
    "#### Note that with labels, the end index is included"
   ]
  },
  {
   "cell_type": "code",
   "execution_count": 12,
   "metadata": {
    "id": "pjS1vdgw40hw",
    "outputId": "83496ff8-5473-454c-eb37-922b85cf534f",
    "colab": {
     "base_uri": "https://localhost:8080/"
    },
    "ExecuteTime": {
     "end_time": "2024-02-23T11:53:17.672528Z",
     "start_time": "2024-02-23T11:53:17.512357Z"
    }
   },
   "outputs": [
    {
     "data": {
      "text/plain": "b    6\nc    7\nd    8\ndtype: int64"
     },
     "execution_count": 12,
     "metadata": {},
     "output_type": "execute_result"
    }
   ],
   "source": [
    "x['b':'d']"
   ]
  },
  {
   "cell_type": "markdown",
   "metadata": {
    "id": "sciHBTFZ40hw"
   },
   "source": [
    "#### Even when you have a labeled index, positional arguments still work"
   ]
  },
  {
   "cell_type": "code",
   "execution_count": 13,
   "metadata": {
    "id": "lnGgGg4T40hw",
    "outputId": "4027a1c3-4048-4602-9316-b116dfa87bb6",
    "colab": {
     "base_uri": "https://localhost:8080/"
    },
    "ExecuteTime": {
     "end_time": "2024-02-23T11:53:17.687725Z",
     "start_time": "2024-02-23T11:53:17.515962Z"
    }
   },
   "outputs": [
    {
     "data": {
      "text/plain": "b    6\nc    7\nd    8\ndtype: int64"
     },
     "execution_count": 13,
     "metadata": {},
     "output_type": "execute_result"
    }
   ],
   "source": [
    "x[1:4]"
   ]
  },
  {
   "cell_type": "markdown",
   "metadata": {
    "id": "mfAUAynR40hw"
   },
   "source": [
    "#### Working with missing data\n",
    "\n",
    "Missing data is indicated with NaN (not a number)."
   ]
  },
  {
   "cell_type": "code",
   "execution_count": 14,
   "metadata": {
    "id": "tYG4_akM40hw",
    "outputId": "4f894eed-45b0-4b45-9124-ae5bd9add78d",
    "colab": {
     "base_uri": "https://localhost:8080/"
    },
    "ExecuteTime": {
     "end_time": "2024-02-23T11:53:17.703244Z",
     "start_time": "2024-02-23T11:53:17.519691Z"
    }
   },
   "outputs": [
    {
     "data": {
      "text/plain": "0    10.0\n1     NaN\n2     NaN\n3    13.0\n4    14.0\ndtype: float64"
     },
     "execution_count": 14,
     "metadata": {},
     "output_type": "execute_result"
    }
   ],
   "source": [
    "y = Series([10, np.nan, np.nan, 13, 14])\n",
    "y"
   ]
  },
  {
   "cell_type": "markdown",
   "metadata": {
    "id": "nfdtxavW40hw"
   },
   "source": [
    "#### Concatenating two series"
   ]
  },
  {
   "cell_type": "code",
   "execution_count": 15,
   "metadata": {
    "id": "_atG39YP40hw",
    "outputId": "ef1ddce0-bc7f-48c5-fe03-6c40d0820408",
    "colab": {
     "base_uri": "https://localhost:8080/"
    },
    "ExecuteTime": {
     "end_time": "2024-02-23T11:53:17.709656Z",
     "start_time": "2024-02-23T11:53:17.523277Z"
    }
   },
   "outputs": [
    {
     "data": {
      "text/plain": "a     5.0\nb     6.0\nc     7.0\nd     8.0\ne     9.0\n0    10.0\n1     NaN\n2     NaN\n3    13.0\n4    14.0\ndtype: float64"
     },
     "execution_count": 15,
     "metadata": {},
     "output_type": "execute_result"
    }
   ],
   "source": [
    "z = pd.concat([x, y])\n",
    "z"
   ]
  },
  {
   "cell_type": "markdown",
   "metadata": {
    "id": "yWVpUFNf40hw"
   },
   "source": [
    "#### Reset index to default"
   ]
  },
  {
   "cell_type": "code",
   "execution_count": 16,
   "metadata": {
    "id": "6uEaxw4n40hw",
    "outputId": "069b03ca-1ef4-4770-c853-5e6ebcda79fb",
    "colab": {
     "base_uri": "https://localhost:8080/"
    },
    "ExecuteTime": {
     "end_time": "2024-02-23T11:53:17.711654Z",
     "start_time": "2024-02-23T11:53:17.526546Z"
    }
   },
   "outputs": [
    {
     "data": {
      "text/plain": "0     5.0\n1     6.0\n2     7.0\n3     8.0\n4     9.0\n5    10.0\n6     NaN\n7     NaN\n8    13.0\n9    14.0\ndtype: float64"
     },
     "execution_count": 16,
     "metadata": {},
     "output_type": "execute_result"
    }
   ],
   "source": [
    "z = z.reset_index(drop=True)\n",
    "z"
   ]
  },
  {
   "cell_type": "code",
   "execution_count": 17,
   "metadata": {
    "id": "MW5Txter40hw",
    "outputId": "2f109d49-a686-4317-c950-a92a482440fa",
    "colab": {
     "base_uri": "https://localhost:8080/"
    },
    "ExecuteTime": {
     "end_time": "2024-02-23T11:53:17.732774Z",
     "start_time": "2024-02-23T11:53:17.530130Z"
    }
   },
   "outputs": [
    {
     "data": {
      "text/plain": "0     25.0\n1     36.0\n2     49.0\n3     64.0\n4     81.0\n5    100.0\n6      NaN\n7      NaN\n8    169.0\n9    196.0\ndtype: float64"
     },
     "execution_count": 17,
     "metadata": {},
     "output_type": "execute_result"
    }
   ],
   "source": [
    "z**2"
   ]
  },
  {
   "cell_type": "markdown",
   "metadata": {
    "id": "IgrWSwGu40hw"
   },
   "source": [
    "#### `pandas` aggregate functions ignore missing data"
   ]
  },
  {
   "cell_type": "code",
   "execution_count": 18,
   "metadata": {
    "id": "nKvkWhHG40hw",
    "outputId": "649771eb-0027-4378-9cda-de83684277f0",
    "colab": {
     "base_uri": "https://localhost:8080/"
    },
    "ExecuteTime": {
     "end_time": "2024-02-23T11:53:17.734823Z",
     "start_time": "2024-02-23T11:53:17.533452Z"
    }
   },
   "outputs": [
    {
     "data": {
      "text/plain": "(72.0, 9.0, 3.2071349029490928)"
     },
     "execution_count": 18,
     "metadata": {},
     "output_type": "execute_result"
    }
   ],
   "source": [
    "z.sum(), z.mean(), z.std()"
   ]
  },
  {
   "cell_type": "markdown",
   "metadata": {
    "id": "4Fo3Sery40hw"
   },
   "source": [
    "#### Selecting missing values"
   ]
  },
  {
   "cell_type": "code",
   "execution_count": 19,
   "metadata": {
    "id": "AbunIZdp40hw",
    "outputId": "f8140b71-02e3-46dd-a906-89b41f348dd7",
    "colab": {
     "base_uri": "https://localhost:8080/"
    },
    "ExecuteTime": {
     "end_time": "2024-02-23T11:53:17.736876Z",
     "start_time": "2024-02-23T11:53:17.537048Z"
    }
   },
   "outputs": [
    {
     "data": {
      "text/plain": "6   NaN\n7   NaN\ndtype: float64"
     },
     "execution_count": 19,
     "metadata": {},
     "output_type": "execute_result"
    }
   ],
   "source": [
    "z[z.isnull()]"
   ]
  },
  {
   "cell_type": "markdown",
   "metadata": {
    "id": "jGhWvrkq40hw"
   },
   "source": [
    "#### Selecting non-missing values"
   ]
  },
  {
   "cell_type": "code",
   "execution_count": 20,
   "metadata": {
    "id": "fBdEXn_V40hw",
    "outputId": "8422b9a6-7a19-4578-b035-cf808e479ec1",
    "colab": {
     "base_uri": "https://localhost:8080/"
    },
    "ExecuteTime": {
     "end_time": "2024-02-23T11:53:17.738574Z",
     "start_time": "2024-02-23T11:53:17.540232Z"
    }
   },
   "outputs": [
    {
     "data": {
      "text/plain": "0     5.0\n1     6.0\n2     7.0\n3     8.0\n4     9.0\n5    10.0\n8    13.0\n9    14.0\ndtype: float64"
     },
     "execution_count": 20,
     "metadata": {},
     "output_type": "execute_result"
    }
   ],
   "source": [
    "z[z.notnull()]"
   ]
  },
  {
   "cell_type": "markdown",
   "metadata": {
    "id": "c5LqF2j140hw"
   },
   "source": [
    "#### Replacement of missing values"
   ]
  },
  {
   "cell_type": "code",
   "execution_count": 21,
   "metadata": {
    "id": "pQi7tDMD40hw",
    "outputId": "ad7d140b-346b-4bd4-cb3d-3f507f876c5f",
    "colab": {
     "base_uri": "https://localhost:8080/"
    },
    "ExecuteTime": {
     "end_time": "2024-02-23T11:53:17.740241Z",
     "start_time": "2024-02-23T11:53:17.543168Z"
    }
   },
   "outputs": [
    {
     "data": {
      "text/plain": "0     5.0\n1     6.0\n2     7.0\n3     8.0\n4     9.0\n5    10.0\n6     0.0\n7     0.0\n8    13.0\n9    14.0\ndtype: float64"
     },
     "execution_count": 21,
     "metadata": {},
     "output_type": "execute_result"
    }
   ],
   "source": [
    "z.fillna(0)"
   ]
  },
  {
   "cell_type": "code",
   "execution_count": 63,
   "metadata": {
    "id": "QFGOcxTS40hx",
    "outputId": "1d33560b-70c1-4885-afec-9d1df23d4fbc",
    "colab": {
     "base_uri": "https://localhost:8080/"
    },
    "ExecuteTime": {
     "end_time": "2024-02-23T11:55:18.480268Z",
     "start_time": "2024-02-23T11:55:18.462099Z"
    }
   },
   "outputs": [
    {
     "data": {
      "text/plain": "2016-01-01     5.0\n2016-01-02     6.0\n2016-01-03     7.0\n2016-01-04     8.0\n2016-01-05     9.0\n2016-01-06    10.0\n2016-01-07    10.0\n2016-01-08    10.0\n2016-01-09    13.0\n2016-01-10    14.0\nFreq: D, dtype: float64"
     },
     "execution_count": 63,
     "metadata": {},
     "output_type": "execute_result"
    }
   ],
   "source": [
    "# z.fillna(method='ffill')\n",
    "z.ffill()"
   ]
  },
  {
   "cell_type": "code",
   "execution_count": 64,
   "metadata": {
    "id": "vuu_5bJK40hx",
    "outputId": "89d7c734-df98-4f9b-a642-cf9ba617651d",
    "colab": {
     "base_uri": "https://localhost:8080/"
    },
    "ExecuteTime": {
     "end_time": "2024-02-23T11:55:38.941046Z",
     "start_time": "2024-02-23T11:55:38.912370Z"
    }
   },
   "outputs": [
    {
     "data": {
      "text/plain": "2016-01-01     5.0\n2016-01-02     6.0\n2016-01-03     7.0\n2016-01-04     8.0\n2016-01-05     9.0\n2016-01-06    10.0\n2016-01-07    13.0\n2016-01-08    13.0\n2016-01-09    13.0\n2016-01-10    14.0\nFreq: D, dtype: float64"
     },
     "execution_count": 64,
     "metadata": {},
     "output_type": "execute_result"
    }
   ],
   "source": [
    "# z.fillna(method='bfill')\n",
    "z.bfill()"
   ]
  },
  {
   "cell_type": "code",
   "execution_count": 24,
   "metadata": {
    "id": "MdIketCO40hx",
    "outputId": "e8aadb2f-1834-421c-cab4-f9add13de4f7",
    "colab": {
     "base_uri": "https://localhost:8080/"
    },
    "ExecuteTime": {
     "end_time": "2024-02-23T11:53:17.770214Z",
     "start_time": "2024-02-23T11:53:17.555524Z"
    }
   },
   "outputs": [
    {
     "data": {
      "text/plain": "0     5.0\n1     6.0\n2     7.0\n3     8.0\n4     9.0\n5    10.0\n6     9.0\n7     9.0\n8    13.0\n9    14.0\ndtype: float64"
     },
     "execution_count": 24,
     "metadata": {},
     "output_type": "execute_result"
    }
   ],
   "source": [
    "z.fillna(z.mean())"
   ]
  },
  {
   "cell_type": "markdown",
   "metadata": {
    "id": "I_GR4TTF40h0"
   },
   "source": [
    "#### Working with dates / times\n",
    "\n",
    "We will see more date/time handling in the DataFrame section."
   ]
  },
  {
   "cell_type": "code",
   "execution_count": 25,
   "metadata": {
    "id": "P8xUkGIR40h0",
    "ExecuteTime": {
     "end_time": "2024-02-23T11:53:17.771880Z",
     "start_time": "2024-02-23T11:53:17.559211Z"
    }
   },
   "outputs": [],
   "source": [
    "z.index = pd.date_range('01-Jan-2016', periods=len(z))"
   ]
  },
  {
   "cell_type": "code",
   "execution_count": 26,
   "metadata": {
    "id": "QxKy1l9H40h0",
    "outputId": "4a5813a5-f10f-465c-b44d-0204c9872f0c",
    "colab": {
     "base_uri": "https://localhost:8080/"
    },
    "ExecuteTime": {
     "end_time": "2024-02-23T11:53:17.795503Z",
     "start_time": "2024-02-23T11:53:17.563233Z"
    }
   },
   "outputs": [
    {
     "data": {
      "text/plain": "2016-01-01     5.0\n2016-01-02     6.0\n2016-01-03     7.0\n2016-01-04     8.0\n2016-01-05     9.0\n2016-01-06    10.0\n2016-01-07     NaN\n2016-01-08     NaN\n2016-01-09    13.0\n2016-01-10    14.0\nFreq: D, dtype: float64"
     },
     "execution_count": 26,
     "metadata": {},
     "output_type": "execute_result"
    }
   ],
   "source": [
    "z"
   ]
  },
  {
   "cell_type": "markdown",
   "metadata": {
    "id": "_xsnSZ8o40h0"
   },
   "source": [
    "#### Intelligent aggregation over datetime ranges"
   ]
  },
  {
   "cell_type": "code",
   "execution_count": 27,
   "metadata": {
    "id": "PC6aex_940h0",
    "outputId": "9373616c-cd13-447c-f972-31b7cb3727be",
    "colab": {
     "base_uri": "https://localhost:8080/"
    },
    "ExecuteTime": {
     "end_time": "2024-02-23T11:53:17.797728Z",
     "start_time": "2024-02-23T11:53:17.568133Z"
    }
   },
   "outputs": [
    {
     "data": {
      "text/plain": "2016-01-03    18.0\n2016-01-10    54.0\nFreq: W-SUN, dtype: float64"
     },
     "execution_count": 27,
     "metadata": {},
     "output_type": "execute_result"
    }
   ],
   "source": [
    "z.resample('W').sum()"
   ]
  },
  {
   "cell_type": "markdown",
   "metadata": {
    "id": "Sb2B8mcC40h0"
   },
   "source": [
    "#### Formatting datetime objects (see http://strftime.org)"
   ]
  },
  {
   "cell_type": "code",
   "execution_count": 28,
   "metadata": {
    "id": "mxAX-jep40h0",
    "outputId": "be3e2459-175e-47d4-da02-199480138bcc",
    "colab": {
     "base_uri": "https://localhost:8080/"
    },
    "ExecuteTime": {
     "end_time": "2024-02-23T11:53:17.964723Z",
     "start_time": "2024-02-23T11:53:17.571461Z"
    }
   },
   "outputs": [
    {
     "data": {
      "text/plain": "Index(['Jan 01, 2016', 'Jan 02, 2016', 'Jan 03, 2016', 'Jan 04, 2016',\n       'Jan 05, 2016', 'Jan 06, 2016', 'Jan 07, 2016', 'Jan 08, 2016',\n       'Jan 09, 2016', 'Jan 10, 2016'],\n      dtype='object')"
     },
     "execution_count": 28,
     "metadata": {},
     "output_type": "execute_result"
    }
   ],
   "source": [
    "z.index.strftime('%b %d, %Y')"
   ]
  },
  {
   "cell_type": "markdown",
   "metadata": {
    "id": "z9QjUPPc40h0"
   },
   "source": [
    "### DataFrames\n",
    "\n",
    "Inevitably, we want to be able to store, view and manipulate data that is *multivariate*, where for every index there are multiple fields or columns of data, often of varying data type.\n",
    "\n",
    "A `DataFrame` is a tabular data structure, encapsulating multiple series like columns in a spreadsheet.  It is directly inspired by the R DataFrame."
   ]
  },
  {
   "cell_type": "markdown",
   "metadata": {
    "id": "AjIOHKGn40h0"
   },
   "source": [
    "### Titanic data"
   ]
  },
  {
   "cell_type": "code",
   "execution_count": 29,
   "metadata": {
    "id": "MSDqcJc640h0",
    "outputId": "19d9a0e2-7414-4d99-b6f8-b7eef651c2f3",
    "colab": {
     "base_uri": "https://localhost:8080/",
     "height": 206
    },
    "ExecuteTime": {
     "end_time": "2024-02-23T11:53:18.142669Z",
     "start_time": "2024-02-23T11:53:17.578721Z"
    }
   },
   "outputs": [
    {
     "data": {
      "text/plain": "   survived  pclass     sex   age  sibsp  parch     fare embarked  class  \\\n0         0       3    male  22.0      1      0   7.2500        S  Third   \n1         1       1  female  38.0      1      0  71.2833        C  First   \n2         1       3  female  26.0      0      0   7.9250        S  Third   \n3         1       1  female  35.0      1      0  53.1000        S  First   \n4         0       3    male  35.0      0      0   8.0500        S  Third   \n\n     who  adult_male deck  embark_town alive  alone  \n0    man        True  NaN  Southampton    no  False  \n1  woman       False    C    Cherbourg   yes  False  \n2  woman       False  NaN  Southampton   yes   True  \n3  woman       False    C  Southampton   yes  False  \n4    man        True  NaN  Southampton    no   True  ",
      "text/html": "<div>\n<style scoped>\n    .dataframe tbody tr th:only-of-type {\n        vertical-align: middle;\n    }\n\n    .dataframe tbody tr th {\n        vertical-align: top;\n    }\n\n    .dataframe thead th {\n        text-align: right;\n    }\n</style>\n<table border=\"1\" class=\"dataframe\">\n  <thead>\n    <tr style=\"text-align: right;\">\n      <th></th>\n      <th>survived</th>\n      <th>pclass</th>\n      <th>sex</th>\n      <th>age</th>\n      <th>sibsp</th>\n      <th>parch</th>\n      <th>fare</th>\n      <th>embarked</th>\n      <th>class</th>\n      <th>who</th>\n      <th>adult_male</th>\n      <th>deck</th>\n      <th>embark_town</th>\n      <th>alive</th>\n      <th>alone</th>\n    </tr>\n  </thead>\n  <tbody>\n    <tr>\n      <th>0</th>\n      <td>0</td>\n      <td>3</td>\n      <td>male</td>\n      <td>22.0</td>\n      <td>1</td>\n      <td>0</td>\n      <td>7.2500</td>\n      <td>S</td>\n      <td>Third</td>\n      <td>man</td>\n      <td>True</td>\n      <td>NaN</td>\n      <td>Southampton</td>\n      <td>no</td>\n      <td>False</td>\n    </tr>\n    <tr>\n      <th>1</th>\n      <td>1</td>\n      <td>1</td>\n      <td>female</td>\n      <td>38.0</td>\n      <td>1</td>\n      <td>0</td>\n      <td>71.2833</td>\n      <td>C</td>\n      <td>First</td>\n      <td>woman</td>\n      <td>False</td>\n      <td>C</td>\n      <td>Cherbourg</td>\n      <td>yes</td>\n      <td>False</td>\n    </tr>\n    <tr>\n      <th>2</th>\n      <td>1</td>\n      <td>3</td>\n      <td>female</td>\n      <td>26.0</td>\n      <td>0</td>\n      <td>0</td>\n      <td>7.9250</td>\n      <td>S</td>\n      <td>Third</td>\n      <td>woman</td>\n      <td>False</td>\n      <td>NaN</td>\n      <td>Southampton</td>\n      <td>yes</td>\n      <td>True</td>\n    </tr>\n    <tr>\n      <th>3</th>\n      <td>1</td>\n      <td>1</td>\n      <td>female</td>\n      <td>35.0</td>\n      <td>1</td>\n      <td>0</td>\n      <td>53.1000</td>\n      <td>S</td>\n      <td>First</td>\n      <td>woman</td>\n      <td>False</td>\n      <td>C</td>\n      <td>Southampton</td>\n      <td>yes</td>\n      <td>False</td>\n    </tr>\n    <tr>\n      <th>4</th>\n      <td>0</td>\n      <td>3</td>\n      <td>male</td>\n      <td>35.0</td>\n      <td>0</td>\n      <td>0</td>\n      <td>8.0500</td>\n      <td>S</td>\n      <td>Third</td>\n      <td>man</td>\n      <td>True</td>\n      <td>NaN</td>\n      <td>Southampton</td>\n      <td>no</td>\n      <td>True</td>\n    </tr>\n  </tbody>\n</table>\n</div>"
     },
     "execution_count": 29,
     "metadata": {},
     "output_type": "execute_result"
    }
   ],
   "source": [
    "url = 'https://raw.githubusercontent.com/mwaskom/seaborn-data/master/titanic.csv'\n",
    "titanic = pd.read_csv(url)\n",
    "titanic.head()"
   ]
  },
  {
   "cell_type": "code",
   "execution_count": 30,
   "metadata": {
    "id": "cPerZEJD40h0",
    "outputId": "771d665d-482c-482d-b0a9-298d84fbee3d",
    "colab": {
     "base_uri": "https://localhost:8080/"
    },
    "ExecuteTime": {
     "end_time": "2024-02-23T11:53:18.144720Z",
     "start_time": "2024-02-23T11:53:17.812105Z"
    }
   },
   "outputs": [
    {
     "data": {
      "text/plain": "(891, 15)"
     },
     "execution_count": 30,
     "metadata": {},
     "output_type": "execute_result"
    }
   ],
   "source": [
    "titanic.shape"
   ]
  },
  {
   "cell_type": "code",
   "execution_count": 31,
   "metadata": {
    "id": "KFdWjB3840h0",
    "outputId": "8484fafb-07f1-4009-990a-be7b2bdf55ef",
    "colab": {
     "base_uri": "https://localhost:8080/"
    },
    "ExecuteTime": {
     "end_time": "2024-02-23T11:53:18.178749Z",
     "start_time": "2024-02-23T11:53:17.815753Z"
    }
   },
   "outputs": [
    {
     "data": {
      "text/plain": "13365"
     },
     "execution_count": 31,
     "metadata": {},
     "output_type": "execute_result"
    }
   ],
   "source": [
    "titanic.size"
   ]
  },
  {
   "cell_type": "code",
   "execution_count": 32,
   "metadata": {
    "id": "nQGfJpZs40h0",
    "outputId": "6b052605-19a0-48a3-b43f-460b06d21562",
    "colab": {
     "base_uri": "https://localhost:8080/"
    },
    "ExecuteTime": {
     "end_time": "2024-02-23T11:53:18.180796Z",
     "start_time": "2024-02-23T11:53:17.818952Z"
    }
   },
   "outputs": [
    {
     "data": {
      "text/plain": "Index(['survived', 'pclass', 'sex', 'age', 'sibsp', 'parch', 'fare',\n       'embarked', 'class', 'who', 'adult_male', 'deck', 'embark_town',\n       'alive', 'alone'],\n      dtype='object')"
     },
     "execution_count": 32,
     "metadata": {},
     "output_type": "execute_result"
    }
   ],
   "source": [
    "titanic.columns"
   ]
  },
  {
   "cell_type": "code",
   "outputs": [
    {
     "name": "stdout",
     "output_type": "stream",
     "text": [
      "<class 'pandas.core.frame.DataFrame'>\n",
      "RangeIndex: 891 entries, 0 to 890\n",
      "Data columns (total 9 columns):\n",
      " #   Column       Non-Null Count  Dtype  \n",
      "---  ------       --------------  -----  \n",
      " 0   survived     891 non-null    int64  \n",
      " 1   sex          891 non-null    object \n",
      " 2   age          714 non-null    float64\n",
      " 3   fare         891 non-null    float64\n",
      " 4   embarked     889 non-null    object \n",
      " 5   class        891 non-null    object \n",
      " 6   who          891 non-null    object \n",
      " 7   deck         203 non-null    object \n",
      " 8   embark_town  889 non-null    object \n",
      "dtypes: float64(2), int64(1), object(6)\n",
      "memory usage: 62.8+ KB\n"
     ]
    }
   ],
   "source": [
    "titanic.info()"
   ],
   "metadata": {
    "collapsed": false,
    "ExecuteTime": {
     "end_time": "2024-02-23T11:57:56.656590Z",
     "start_time": "2024-02-23T11:57:56.600703Z"
    }
   },
   "execution_count": 65
  },
  {
   "cell_type": "code",
   "execution_count": 33,
   "metadata": {
    "id": "AiznX2G140h1",
    "ExecuteTime": {
     "end_time": "2024-02-23T11:53:18.182395Z",
     "start_time": "2024-02-23T11:53:17.822169Z"
    }
   },
   "outputs": [],
   "source": [
    "# For display purposes, we will drop some columns\n",
    "titanic = titanic[['survived', 'sex', 'age', 'fare',\n",
    "                   'embarked', 'class', 'who', 'deck', 'embark_town',]]"
   ]
  },
  {
   "cell_type": "code",
   "execution_count": 34,
   "metadata": {
    "id": "lBn4eOMj40h1",
    "outputId": "9c944eed-6f5d-4d79-87b2-5ff1cc6a3346",
    "colab": {
     "base_uri": "https://localhost:8080/"
    },
    "ExecuteTime": {
     "end_time": "2024-02-23T11:53:18.184351Z",
     "start_time": "2024-02-23T11:53:17.825264Z"
    }
   },
   "outputs": [
    {
     "data": {
      "text/plain": "survived         int64\nsex             object\nage            float64\nfare           float64\nembarked        object\nclass           object\nwho             object\ndeck            object\nembark_town     object\ndtype: object"
     },
     "execution_count": 34,
     "metadata": {},
     "output_type": "execute_result"
    }
   ],
   "source": [
    "titanic.dtypes"
   ]
  },
  {
   "cell_type": "markdown",
   "metadata": {
    "id": "tmcIouD940h1"
   },
   "source": [
    "### Summarizing a data frame"
   ]
  },
  {
   "cell_type": "code",
   "execution_count": 35,
   "metadata": {
    "id": "k9uToes940h1",
    "outputId": "afb40bad-f5a9-47de-b65f-fab4a93a5060",
    "colab": {
     "base_uri": "https://localhost:8080/",
     "height": 300
    },
    "ExecuteTime": {
     "end_time": "2024-02-23T11:53:18.313459Z",
     "start_time": "2024-02-23T11:53:17.828396Z"
    }
   },
   "outputs": [
    {
     "data": {
      "text/plain": "         survived         age        fare\ncount  891.000000  714.000000  891.000000\nmean     0.383838   29.699118   32.204208\nstd      0.486592   14.526497   49.693429\nmin      0.000000    0.420000    0.000000\n25%      0.000000   20.125000    7.910400\n50%      0.000000   28.000000   14.454200\n75%      1.000000   38.000000   31.000000\nmax      1.000000   80.000000  512.329200",
      "text/html": "<div>\n<style scoped>\n    .dataframe tbody tr th:only-of-type {\n        vertical-align: middle;\n    }\n\n    .dataframe tbody tr th {\n        vertical-align: top;\n    }\n\n    .dataframe thead th {\n        text-align: right;\n    }\n</style>\n<table border=\"1\" class=\"dataframe\">\n  <thead>\n    <tr style=\"text-align: right;\">\n      <th></th>\n      <th>survived</th>\n      <th>age</th>\n      <th>fare</th>\n    </tr>\n  </thead>\n  <tbody>\n    <tr>\n      <th>count</th>\n      <td>891.000000</td>\n      <td>714.000000</td>\n      <td>891.000000</td>\n    </tr>\n    <tr>\n      <th>mean</th>\n      <td>0.383838</td>\n      <td>29.699118</td>\n      <td>32.204208</td>\n    </tr>\n    <tr>\n      <th>std</th>\n      <td>0.486592</td>\n      <td>14.526497</td>\n      <td>49.693429</td>\n    </tr>\n    <tr>\n      <th>min</th>\n      <td>0.000000</td>\n      <td>0.420000</td>\n      <td>0.000000</td>\n    </tr>\n    <tr>\n      <th>25%</th>\n      <td>0.000000</td>\n      <td>20.125000</td>\n      <td>7.910400</td>\n    </tr>\n    <tr>\n      <th>50%</th>\n      <td>0.000000</td>\n      <td>28.000000</td>\n      <td>14.454200</td>\n    </tr>\n    <tr>\n      <th>75%</th>\n      <td>1.000000</td>\n      <td>38.000000</td>\n      <td>31.000000</td>\n    </tr>\n    <tr>\n      <th>max</th>\n      <td>1.000000</td>\n      <td>80.000000</td>\n      <td>512.329200</td>\n    </tr>\n  </tbody>\n</table>\n</div>"
     },
     "execution_count": 35,
     "metadata": {},
     "output_type": "execute_result"
    }
   ],
   "source": [
    "titanic.describe()"
   ]
  },
  {
   "cell_type": "code",
   "execution_count": 36,
   "metadata": {
    "id": "Qg5A915K40h1",
    "outputId": "b2598b78-efd0-42a0-b7bb-9f896b9acb2e",
    "colab": {
     "base_uri": "https://localhost:8080/",
     "height": 677
    },
    "ExecuteTime": {
     "end_time": "2024-02-23T11:53:18.316394Z",
     "start_time": "2024-02-23T11:53:17.840724Z"
    }
   },
   "outputs": [
    {
     "data": {
      "text/plain": "    survived     sex   age     fare embarked   class    who deck  embark_town\n0          0    male  22.0   7.2500        S   Third    man  NaN  Southampton\n1          1  female  38.0  71.2833        C   First  woman    C    Cherbourg\n2          1  female  26.0   7.9250        S   Third  woman  NaN  Southampton\n3          1  female  35.0  53.1000        S   First  woman    C  Southampton\n4          0    male  35.0   8.0500        S   Third    man  NaN  Southampton\n5          0    male   NaN   8.4583        Q   Third    man  NaN   Queenstown\n6          0    male  54.0  51.8625        S   First    man    E  Southampton\n7          0    male   2.0  21.0750        S   Third  child  NaN  Southampton\n8          1  female  27.0  11.1333        S   Third  woman  NaN  Southampton\n9          1  female  14.0  30.0708        C  Second  child  NaN    Cherbourg\n10         1  female   4.0  16.7000        S   Third  child    G  Southampton\n11         1  female  58.0  26.5500        S   First  woman    C  Southampton\n12         0    male  20.0   8.0500        S   Third    man  NaN  Southampton\n13         0    male  39.0  31.2750        S   Third    man  NaN  Southampton\n14         0  female  14.0   7.8542        S   Third  child  NaN  Southampton\n15         1  female  55.0  16.0000        S  Second  woman  NaN  Southampton\n16         0    male   2.0  29.1250        Q   Third  child  NaN   Queenstown\n17         1    male   NaN  13.0000        S  Second    man  NaN  Southampton\n18         0  female  31.0  18.0000        S   Third  woman  NaN  Southampton\n19         1  female   NaN   7.2250        C   Third  woman  NaN    Cherbourg",
      "text/html": "<div>\n<style scoped>\n    .dataframe tbody tr th:only-of-type {\n        vertical-align: middle;\n    }\n\n    .dataframe tbody tr th {\n        vertical-align: top;\n    }\n\n    .dataframe thead th {\n        text-align: right;\n    }\n</style>\n<table border=\"1\" class=\"dataframe\">\n  <thead>\n    <tr style=\"text-align: right;\">\n      <th></th>\n      <th>survived</th>\n      <th>sex</th>\n      <th>age</th>\n      <th>fare</th>\n      <th>embarked</th>\n      <th>class</th>\n      <th>who</th>\n      <th>deck</th>\n      <th>embark_town</th>\n    </tr>\n  </thead>\n  <tbody>\n    <tr>\n      <th>0</th>\n      <td>0</td>\n      <td>male</td>\n      <td>22.0</td>\n      <td>7.2500</td>\n      <td>S</td>\n      <td>Third</td>\n      <td>man</td>\n      <td>NaN</td>\n      <td>Southampton</td>\n    </tr>\n    <tr>\n      <th>1</th>\n      <td>1</td>\n      <td>female</td>\n      <td>38.0</td>\n      <td>71.2833</td>\n      <td>C</td>\n      <td>First</td>\n      <td>woman</td>\n      <td>C</td>\n      <td>Cherbourg</td>\n    </tr>\n    <tr>\n      <th>2</th>\n      <td>1</td>\n      <td>female</td>\n      <td>26.0</td>\n      <td>7.9250</td>\n      <td>S</td>\n      <td>Third</td>\n      <td>woman</td>\n      <td>NaN</td>\n      <td>Southampton</td>\n    </tr>\n    <tr>\n      <th>3</th>\n      <td>1</td>\n      <td>female</td>\n      <td>35.0</td>\n      <td>53.1000</td>\n      <td>S</td>\n      <td>First</td>\n      <td>woman</td>\n      <td>C</td>\n      <td>Southampton</td>\n    </tr>\n    <tr>\n      <th>4</th>\n      <td>0</td>\n      <td>male</td>\n      <td>35.0</td>\n      <td>8.0500</td>\n      <td>S</td>\n      <td>Third</td>\n      <td>man</td>\n      <td>NaN</td>\n      <td>Southampton</td>\n    </tr>\n    <tr>\n      <th>5</th>\n      <td>0</td>\n      <td>male</td>\n      <td>NaN</td>\n      <td>8.4583</td>\n      <td>Q</td>\n      <td>Third</td>\n      <td>man</td>\n      <td>NaN</td>\n      <td>Queenstown</td>\n    </tr>\n    <tr>\n      <th>6</th>\n      <td>0</td>\n      <td>male</td>\n      <td>54.0</td>\n      <td>51.8625</td>\n      <td>S</td>\n      <td>First</td>\n      <td>man</td>\n      <td>E</td>\n      <td>Southampton</td>\n    </tr>\n    <tr>\n      <th>7</th>\n      <td>0</td>\n      <td>male</td>\n      <td>2.0</td>\n      <td>21.0750</td>\n      <td>S</td>\n      <td>Third</td>\n      <td>child</td>\n      <td>NaN</td>\n      <td>Southampton</td>\n    </tr>\n    <tr>\n      <th>8</th>\n      <td>1</td>\n      <td>female</td>\n      <td>27.0</td>\n      <td>11.1333</td>\n      <td>S</td>\n      <td>Third</td>\n      <td>woman</td>\n      <td>NaN</td>\n      <td>Southampton</td>\n    </tr>\n    <tr>\n      <th>9</th>\n      <td>1</td>\n      <td>female</td>\n      <td>14.0</td>\n      <td>30.0708</td>\n      <td>C</td>\n      <td>Second</td>\n      <td>child</td>\n      <td>NaN</td>\n      <td>Cherbourg</td>\n    </tr>\n    <tr>\n      <th>10</th>\n      <td>1</td>\n      <td>female</td>\n      <td>4.0</td>\n      <td>16.7000</td>\n      <td>S</td>\n      <td>Third</td>\n      <td>child</td>\n      <td>G</td>\n      <td>Southampton</td>\n    </tr>\n    <tr>\n      <th>11</th>\n      <td>1</td>\n      <td>female</td>\n      <td>58.0</td>\n      <td>26.5500</td>\n      <td>S</td>\n      <td>First</td>\n      <td>woman</td>\n      <td>C</td>\n      <td>Southampton</td>\n    </tr>\n    <tr>\n      <th>12</th>\n      <td>0</td>\n      <td>male</td>\n      <td>20.0</td>\n      <td>8.0500</td>\n      <td>S</td>\n      <td>Third</td>\n      <td>man</td>\n      <td>NaN</td>\n      <td>Southampton</td>\n    </tr>\n    <tr>\n      <th>13</th>\n      <td>0</td>\n      <td>male</td>\n      <td>39.0</td>\n      <td>31.2750</td>\n      <td>S</td>\n      <td>Third</td>\n      <td>man</td>\n      <td>NaN</td>\n      <td>Southampton</td>\n    </tr>\n    <tr>\n      <th>14</th>\n      <td>0</td>\n      <td>female</td>\n      <td>14.0</td>\n      <td>7.8542</td>\n      <td>S</td>\n      <td>Third</td>\n      <td>child</td>\n      <td>NaN</td>\n      <td>Southampton</td>\n    </tr>\n    <tr>\n      <th>15</th>\n      <td>1</td>\n      <td>female</td>\n      <td>55.0</td>\n      <td>16.0000</td>\n      <td>S</td>\n      <td>Second</td>\n      <td>woman</td>\n      <td>NaN</td>\n      <td>Southampton</td>\n    </tr>\n    <tr>\n      <th>16</th>\n      <td>0</td>\n      <td>male</td>\n      <td>2.0</td>\n      <td>29.1250</td>\n      <td>Q</td>\n      <td>Third</td>\n      <td>child</td>\n      <td>NaN</td>\n      <td>Queenstown</td>\n    </tr>\n    <tr>\n      <th>17</th>\n      <td>1</td>\n      <td>male</td>\n      <td>NaN</td>\n      <td>13.0000</td>\n      <td>S</td>\n      <td>Second</td>\n      <td>man</td>\n      <td>NaN</td>\n      <td>Southampton</td>\n    </tr>\n    <tr>\n      <th>18</th>\n      <td>0</td>\n      <td>female</td>\n      <td>31.0</td>\n      <td>18.0000</td>\n      <td>S</td>\n      <td>Third</td>\n      <td>woman</td>\n      <td>NaN</td>\n      <td>Southampton</td>\n    </tr>\n    <tr>\n      <th>19</th>\n      <td>1</td>\n      <td>female</td>\n      <td>NaN</td>\n      <td>7.2250</td>\n      <td>C</td>\n      <td>Third</td>\n      <td>woman</td>\n      <td>NaN</td>\n      <td>Cherbourg</td>\n    </tr>\n  </tbody>\n</table>\n</div>"
     },
     "execution_count": 36,
     "metadata": {},
     "output_type": "execute_result"
    }
   ],
   "source": [
    "titanic.head(20)"
   ]
  },
  {
   "cell_type": "code",
   "execution_count": 37,
   "metadata": {
    "id": "CHsftbSa40h1",
    "outputId": "2952d261-8fc2-41c1-95a2-273eac9e48e0",
    "colab": {
     "base_uri": "https://localhost:8080/",
     "height": 206
    },
    "ExecuteTime": {
     "end_time": "2024-02-23T11:53:18.329595Z",
     "start_time": "2024-02-23T11:53:17.846655Z"
    }
   },
   "outputs": [
    {
     "data": {
      "text/plain": "     survived     sex   age   fare embarked   class    who deck  embark_town\n886         0    male  27.0  13.00        S  Second    man  NaN  Southampton\n887         1  female  19.0  30.00        S   First  woman    B  Southampton\n888         0  female   NaN  23.45        S   Third  woman  NaN  Southampton\n889         1    male  26.0  30.00        C   First    man    C    Cherbourg\n890         0    male  32.0   7.75        Q   Third    man  NaN   Queenstown",
      "text/html": "<div>\n<style scoped>\n    .dataframe tbody tr th:only-of-type {\n        vertical-align: middle;\n    }\n\n    .dataframe tbody tr th {\n        vertical-align: top;\n    }\n\n    .dataframe thead th {\n        text-align: right;\n    }\n</style>\n<table border=\"1\" class=\"dataframe\">\n  <thead>\n    <tr style=\"text-align: right;\">\n      <th></th>\n      <th>survived</th>\n      <th>sex</th>\n      <th>age</th>\n      <th>fare</th>\n      <th>embarked</th>\n      <th>class</th>\n      <th>who</th>\n      <th>deck</th>\n      <th>embark_town</th>\n    </tr>\n  </thead>\n  <tbody>\n    <tr>\n      <th>886</th>\n      <td>0</td>\n      <td>male</td>\n      <td>27.0</td>\n      <td>13.00</td>\n      <td>S</td>\n      <td>Second</td>\n      <td>man</td>\n      <td>NaN</td>\n      <td>Southampton</td>\n    </tr>\n    <tr>\n      <th>887</th>\n      <td>1</td>\n      <td>female</td>\n      <td>19.0</td>\n      <td>30.00</td>\n      <td>S</td>\n      <td>First</td>\n      <td>woman</td>\n      <td>B</td>\n      <td>Southampton</td>\n    </tr>\n    <tr>\n      <th>888</th>\n      <td>0</td>\n      <td>female</td>\n      <td>NaN</td>\n      <td>23.45</td>\n      <td>S</td>\n      <td>Third</td>\n      <td>woman</td>\n      <td>NaN</td>\n      <td>Southampton</td>\n    </tr>\n    <tr>\n      <th>889</th>\n      <td>1</td>\n      <td>male</td>\n      <td>26.0</td>\n      <td>30.00</td>\n      <td>C</td>\n      <td>First</td>\n      <td>man</td>\n      <td>C</td>\n      <td>Cherbourg</td>\n    </tr>\n    <tr>\n      <th>890</th>\n      <td>0</td>\n      <td>male</td>\n      <td>32.0</td>\n      <td>7.75</td>\n      <td>Q</td>\n      <td>Third</td>\n      <td>man</td>\n      <td>NaN</td>\n      <td>Queenstown</td>\n    </tr>\n  </tbody>\n</table>\n</div>"
     },
     "execution_count": 37,
     "metadata": {},
     "output_type": "execute_result"
    }
   ],
   "source": [
    "titanic.tail(5)"
   ]
  },
  {
   "cell_type": "code",
   "execution_count": 38,
   "metadata": {
    "id": "57KXuWt_40h1",
    "outputId": "aa1731f1-96cf-40c7-b4e6-b70272500fec",
    "colab": {
     "base_uri": "https://localhost:8080/"
    },
    "ExecuteTime": {
     "end_time": "2024-02-23T11:53:18.331975Z",
     "start_time": "2024-02-23T11:53:17.849352Z"
    }
   },
   "outputs": [
    {
     "data": {
      "text/plain": "Index(['survived', 'sex', 'age', 'fare', 'embarked', 'class', 'who', 'deck',\n       'embark_town'],\n      dtype='object')"
     },
     "execution_count": 38,
     "metadata": {},
     "output_type": "execute_result"
    }
   ],
   "source": [
    "titanic.columns"
   ]
  },
  {
   "cell_type": "code",
   "execution_count": 39,
   "metadata": {
    "id": "Pj9jkpl640h1",
    "outputId": "bb87c48c-b367-4a99-fb38-38598e953fff",
    "colab": {
     "base_uri": "https://localhost:8080/"
    },
    "ExecuteTime": {
     "end_time": "2024-02-23T11:53:18.333949Z",
     "start_time": "2024-02-23T11:53:17.853140Z"
    }
   },
   "outputs": [
    {
     "data": {
      "text/plain": "RangeIndex(start=0, stop=891, step=1)"
     },
     "execution_count": 39,
     "metadata": {},
     "output_type": "execute_result"
    }
   ],
   "source": [
    "titanic.index"
   ]
  },
  {
   "cell_type": "markdown",
   "metadata": {
    "id": "iGYHSG1J40h1"
   },
   "source": [
    "### Indexing\n",
    "\n",
    "The default indexing mode for dataframes with `df[X]` is to access the DataFrame's *columns*:"
   ]
  },
  {
   "cell_type": "code",
   "execution_count": 40,
   "metadata": {
    "id": "0BKn8K8v40h1",
    "outputId": "d0474567-f57f-41b1-cac6-8bfe519d3af2",
    "colab": {
     "base_uri": "https://localhost:8080/",
     "height": 206
    },
    "ExecuteTime": {
     "end_time": "2024-02-23T11:53:18.344713Z",
     "start_time": "2024-02-23T11:53:17.855189Z"
    }
   },
   "outputs": [
    {
     "data": {
      "text/plain": "      sex   age  class\n0    male  22.0  Third\n1  female  38.0  First\n2  female  26.0  Third\n3  female  35.0  First\n4    male  35.0  Third",
      "text/html": "<div>\n<style scoped>\n    .dataframe tbody tr th:only-of-type {\n        vertical-align: middle;\n    }\n\n    .dataframe tbody tr th {\n        vertical-align: top;\n    }\n\n    .dataframe thead th {\n        text-align: right;\n    }\n</style>\n<table border=\"1\" class=\"dataframe\">\n  <thead>\n    <tr style=\"text-align: right;\">\n      <th></th>\n      <th>sex</th>\n      <th>age</th>\n      <th>class</th>\n    </tr>\n  </thead>\n  <tbody>\n    <tr>\n      <th>0</th>\n      <td>male</td>\n      <td>22.0</td>\n      <td>Third</td>\n    </tr>\n    <tr>\n      <th>1</th>\n      <td>female</td>\n      <td>38.0</td>\n      <td>First</td>\n    </tr>\n    <tr>\n      <th>2</th>\n      <td>female</td>\n      <td>26.0</td>\n      <td>Third</td>\n    </tr>\n    <tr>\n      <th>3</th>\n      <td>female</td>\n      <td>35.0</td>\n      <td>First</td>\n    </tr>\n    <tr>\n      <th>4</th>\n      <td>male</td>\n      <td>35.0</td>\n      <td>Third</td>\n    </tr>\n  </tbody>\n</table>\n</div>"
     },
     "execution_count": 40,
     "metadata": {},
     "output_type": "execute_result"
    }
   ],
   "source": [
    "titanic[['sex', 'age', 'class']].head()"
   ]
  },
  {
   "cell_type": "markdown",
   "metadata": {
    "id": "zgp4NzLn40h1"
   },
   "source": [
    "#### Using the `iloc` helper for indexing"
   ]
  },
  {
   "cell_type": "code",
   "execution_count": 41,
   "metadata": {
    "id": "CdGIHQ7g40h1",
    "outputId": "0bdd5d8b-9abe-4d07-e88d-3ff1ed3da2bd",
    "colab": {
     "base_uri": "https://localhost:8080/",
     "height": 143
    },
    "ExecuteTime": {
     "end_time": "2024-02-23T11:53:18.347724Z",
     "start_time": "2024-02-23T11:53:17.863490Z"
    }
   },
   "outputs": [
    {
     "data": {
      "text/plain": "   survived     sex   age     fare embarked  class    who deck  embark_town\n0         0    male  22.0   7.2500        S  Third    man  NaN  Southampton\n1         1  female  38.0  71.2833        C  First  woman    C    Cherbourg\n2         1  female  26.0   7.9250        S  Third  woman  NaN  Southampton",
      "text/html": "<div>\n<style scoped>\n    .dataframe tbody tr th:only-of-type {\n        vertical-align: middle;\n    }\n\n    .dataframe tbody tr th {\n        vertical-align: top;\n    }\n\n    .dataframe thead th {\n        text-align: right;\n    }\n</style>\n<table border=\"1\" class=\"dataframe\">\n  <thead>\n    <tr style=\"text-align: right;\">\n      <th></th>\n      <th>survived</th>\n      <th>sex</th>\n      <th>age</th>\n      <th>fare</th>\n      <th>embarked</th>\n      <th>class</th>\n      <th>who</th>\n      <th>deck</th>\n      <th>embark_town</th>\n    </tr>\n  </thead>\n  <tbody>\n    <tr>\n      <th>0</th>\n      <td>0</td>\n      <td>male</td>\n      <td>22.0</td>\n      <td>7.2500</td>\n      <td>S</td>\n      <td>Third</td>\n      <td>man</td>\n      <td>NaN</td>\n      <td>Southampton</td>\n    </tr>\n    <tr>\n      <th>1</th>\n      <td>1</td>\n      <td>female</td>\n      <td>38.0</td>\n      <td>71.2833</td>\n      <td>C</td>\n      <td>First</td>\n      <td>woman</td>\n      <td>C</td>\n      <td>Cherbourg</td>\n    </tr>\n    <tr>\n      <th>2</th>\n      <td>1</td>\n      <td>female</td>\n      <td>26.0</td>\n      <td>7.9250</td>\n      <td>S</td>\n      <td>Third</td>\n      <td>woman</td>\n      <td>NaN</td>\n      <td>Southampton</td>\n    </tr>\n  </tbody>\n</table>\n</div>"
     },
     "execution_count": 41,
     "metadata": {},
     "output_type": "execute_result"
    }
   ],
   "source": [
    "titanic.head(3)"
   ]
  },
  {
   "cell_type": "code",
   "execution_count": 42,
   "metadata": {
    "id": "AzoriwuC40h1",
    "outputId": "0749b91d-12d9-49fb-8783-a4e2c3c40f6f",
    "colab": {
     "base_uri": "https://localhost:8080/"
    },
    "ExecuteTime": {
     "end_time": "2024-02-23T11:53:18.355295Z",
     "start_time": "2024-02-23T11:53:17.866447Z"
    }
   },
   "outputs": [
    {
     "data": {
      "text/plain": "<pandas.core.indexing._iLocIndexer at 0x10fe298b0>"
     },
     "execution_count": 42,
     "metadata": {},
     "output_type": "execute_result"
    }
   ],
   "source": [
    "titanic.iloc"
   ]
  },
  {
   "cell_type": "code",
   "execution_count": 43,
   "metadata": {
    "id": "hfRnYqK340h1",
    "outputId": "f662cf00-5b5d-43c4-c9c5-7dbd60973598",
    "colab": {
     "base_uri": "https://localhost:8080/"
    },
    "ExecuteTime": {
     "end_time": "2024-02-23T11:53:18.357471Z",
     "start_time": "2024-02-23T11:53:17.869908Z"
    }
   },
   "outputs": [
    {
     "data": {
      "text/plain": "survived                 0\nsex                   male\nage                   22.0\nfare                  7.25\nembarked                 S\nclass                Third\nwho                    man\ndeck                   NaN\nembark_town    Southampton\nName: 0, dtype: object"
     },
     "execution_count": 43,
     "metadata": {},
     "output_type": "execute_result"
    }
   ],
   "source": [
    "titanic.iloc[0]"
   ]
  },
  {
   "cell_type": "code",
   "execution_count": 44,
   "metadata": {
    "id": "KFXQlgBf40h1",
    "outputId": "54e59469-e537-400b-aa5a-1bad069d5cc2",
    "colab": {
     "base_uri": "https://localhost:8080/",
     "height": 206
    },
    "ExecuteTime": {
     "end_time": "2024-02-23T11:53:18.359625Z",
     "start_time": "2024-02-23T11:53:17.874863Z"
    }
   },
   "outputs": [
    {
     "data": {
      "text/plain": "   survived     sex   age     fare embarked  class    who deck  embark_town\n0         0    male  22.0   7.2500        S  Third    man  NaN  Southampton\n1         1  female  38.0  71.2833        C  First  woman    C    Cherbourg\n2         1  female  26.0   7.9250        S  Third  woman  NaN  Southampton\n3         1  female  35.0  53.1000        S  First  woman    C  Southampton\n4         0    male  35.0   8.0500        S  Third    man  NaN  Southampton",
      "text/html": "<div>\n<style scoped>\n    .dataframe tbody tr th:only-of-type {\n        vertical-align: middle;\n    }\n\n    .dataframe tbody tr th {\n        vertical-align: top;\n    }\n\n    .dataframe thead th {\n        text-align: right;\n    }\n</style>\n<table border=\"1\" class=\"dataframe\">\n  <thead>\n    <tr style=\"text-align: right;\">\n      <th></th>\n      <th>survived</th>\n      <th>sex</th>\n      <th>age</th>\n      <th>fare</th>\n      <th>embarked</th>\n      <th>class</th>\n      <th>who</th>\n      <th>deck</th>\n      <th>embark_town</th>\n    </tr>\n  </thead>\n  <tbody>\n    <tr>\n      <th>0</th>\n      <td>0</td>\n      <td>male</td>\n      <td>22.0</td>\n      <td>7.2500</td>\n      <td>S</td>\n      <td>Third</td>\n      <td>man</td>\n      <td>NaN</td>\n      <td>Southampton</td>\n    </tr>\n    <tr>\n      <th>1</th>\n      <td>1</td>\n      <td>female</td>\n      <td>38.0</td>\n      <td>71.2833</td>\n      <td>C</td>\n      <td>First</td>\n      <td>woman</td>\n      <td>C</td>\n      <td>Cherbourg</td>\n    </tr>\n    <tr>\n      <th>2</th>\n      <td>1</td>\n      <td>female</td>\n      <td>26.0</td>\n      <td>7.9250</td>\n      <td>S</td>\n      <td>Third</td>\n      <td>woman</td>\n      <td>NaN</td>\n      <td>Southampton</td>\n    </tr>\n    <tr>\n      <th>3</th>\n      <td>1</td>\n      <td>female</td>\n      <td>35.0</td>\n      <td>53.1000</td>\n      <td>S</td>\n      <td>First</td>\n      <td>woman</td>\n      <td>C</td>\n      <td>Southampton</td>\n    </tr>\n    <tr>\n      <th>4</th>\n      <td>0</td>\n      <td>male</td>\n      <td>35.0</td>\n      <td>8.0500</td>\n      <td>S</td>\n      <td>Third</td>\n      <td>man</td>\n      <td>NaN</td>\n      <td>Southampton</td>\n    </tr>\n  </tbody>\n</table>\n</div>"
     },
     "execution_count": 44,
     "metadata": {},
     "output_type": "execute_result"
    }
   ],
   "source": [
    "titanic.iloc[0:5]"
   ]
  },
  {
   "cell_type": "code",
   "execution_count": 45,
   "metadata": {
    "id": "8uXJ2CLQ40h1",
    "outputId": "30643d77-280f-43e0-f977-29c7d28b4b60",
    "colab": {
     "base_uri": "https://localhost:8080/",
     "height": 175
    },
    "ExecuteTime": {
     "end_time": "2024-02-23T11:53:18.361784Z",
     "start_time": "2024-02-23T11:53:17.880537Z"
    }
   },
   "outputs": [
    {
     "data": {
      "text/plain": "    survived     sex   age     fare embarked  class    who deck  embark_town\n0          0    male  22.0   7.2500        S  Third    man  NaN  Southampton\n10         1  female   4.0  16.7000        S  Third  child    G  Southampton\n1          1  female  38.0  71.2833        C  First  woman    C    Cherbourg\n5          0    male   NaN   8.4583        Q  Third    man  NaN   Queenstown",
      "text/html": "<div>\n<style scoped>\n    .dataframe tbody tr th:only-of-type {\n        vertical-align: middle;\n    }\n\n    .dataframe tbody tr th {\n        vertical-align: top;\n    }\n\n    .dataframe thead th {\n        text-align: right;\n    }\n</style>\n<table border=\"1\" class=\"dataframe\">\n  <thead>\n    <tr style=\"text-align: right;\">\n      <th></th>\n      <th>survived</th>\n      <th>sex</th>\n      <th>age</th>\n      <th>fare</th>\n      <th>embarked</th>\n      <th>class</th>\n      <th>who</th>\n      <th>deck</th>\n      <th>embark_town</th>\n    </tr>\n  </thead>\n  <tbody>\n    <tr>\n      <th>0</th>\n      <td>0</td>\n      <td>male</td>\n      <td>22.0</td>\n      <td>7.2500</td>\n      <td>S</td>\n      <td>Third</td>\n      <td>man</td>\n      <td>NaN</td>\n      <td>Southampton</td>\n    </tr>\n    <tr>\n      <th>10</th>\n      <td>1</td>\n      <td>female</td>\n      <td>4.0</td>\n      <td>16.7000</td>\n      <td>S</td>\n      <td>Third</td>\n      <td>child</td>\n      <td>G</td>\n      <td>Southampton</td>\n    </tr>\n    <tr>\n      <th>1</th>\n      <td>1</td>\n      <td>female</td>\n      <td>38.0</td>\n      <td>71.2833</td>\n      <td>C</td>\n      <td>First</td>\n      <td>woman</td>\n      <td>C</td>\n      <td>Cherbourg</td>\n    </tr>\n    <tr>\n      <th>5</th>\n      <td>0</td>\n      <td>male</td>\n      <td>NaN</td>\n      <td>8.4583</td>\n      <td>Q</td>\n      <td>Third</td>\n      <td>man</td>\n      <td>NaN</td>\n      <td>Queenstown</td>\n    </tr>\n  </tbody>\n</table>\n</div>"
     },
     "execution_count": 45,
     "metadata": {},
     "output_type": "execute_result"
    }
   ],
   "source": [
    "titanic.iloc[ [0, 10, 1, 5] ]"
   ]
  },
  {
   "cell_type": "code",
   "execution_count": 46,
   "metadata": {
    "id": "J4-YqN1d40h1",
    "outputId": "9dec0cd2-5448-40bb-e4ad-e0897fa5e1fd",
    "colab": {
     "base_uri": "https://localhost:8080/"
    },
    "ExecuteTime": {
     "end_time": "2024-02-23T11:53:18.364029Z",
     "start_time": "2024-02-23T11:53:17.884042Z"
    }
   },
   "outputs": [
    {
     "data": {
      "text/plain": "10     4.0\n11    58.0\n12    20.0\n13    39.0\n14    14.0\nName: age, dtype: float64"
     },
     "execution_count": 46,
     "metadata": {},
     "output_type": "execute_result"
    }
   ],
   "source": [
    "titanic.iloc[10:15]['age']"
   ]
  },
  {
   "cell_type": "code",
   "execution_count": 47,
   "metadata": {
    "id": "OTYEQSMH40h1",
    "outputId": "c6971d54-fc66-4783-e64f-856775e91a39",
    "colab": {
     "base_uri": "https://localhost:8080/",
     "height": 206
    },
    "ExecuteTime": {
     "end_time": "2024-02-23T11:53:18.366670Z",
     "start_time": "2024-02-23T11:53:17.888857Z"
    }
   },
   "outputs": [
    {
     "data": {
      "text/plain": "     age\n10   4.0\n11  58.0\n12  20.0\n13  39.0\n14  14.0",
      "text/html": "<div>\n<style scoped>\n    .dataframe tbody tr th:only-of-type {\n        vertical-align: middle;\n    }\n\n    .dataframe tbody tr th {\n        vertical-align: top;\n    }\n\n    .dataframe thead th {\n        text-align: right;\n    }\n</style>\n<table border=\"1\" class=\"dataframe\">\n  <thead>\n    <tr style=\"text-align: right;\">\n      <th></th>\n      <th>age</th>\n    </tr>\n  </thead>\n  <tbody>\n    <tr>\n      <th>10</th>\n      <td>4.0</td>\n    </tr>\n    <tr>\n      <th>11</th>\n      <td>58.0</td>\n    </tr>\n    <tr>\n      <th>12</th>\n      <td>20.0</td>\n    </tr>\n    <tr>\n      <th>13</th>\n      <td>39.0</td>\n    </tr>\n    <tr>\n      <th>14</th>\n      <td>14.0</td>\n    </tr>\n  </tbody>\n</table>\n</div>"
     },
     "execution_count": 47,
     "metadata": {},
     "output_type": "execute_result"
    }
   ],
   "source": [
    "titanic.iloc[10:15][  ['age'] ]"
   ]
  },
  {
   "cell_type": "markdown",
   "metadata": {
    "id": "1SATwmly40h1"
   },
   "source": [
    "#### Sorting and ordering data"
   ]
  },
  {
   "cell_type": "code",
   "execution_count": 48,
   "metadata": {
    "id": "wYp9y_fV40h1",
    "outputId": "05e94700-b1ee-45f4-90a1-541391c1f79e",
    "colab": {
     "base_uri": "https://localhost:8080/",
     "height": 206
    },
    "ExecuteTime": {
     "end_time": "2024-02-23T11:53:18.395415Z",
     "start_time": "2024-02-23T11:53:17.895021Z"
    }
   },
   "outputs": [
    {
     "data": {
      "text/plain": "   survived     sex   age     fare embarked  class    who deck  embark_town\n0         0    male  22.0   7.2500        S  Third    man  NaN  Southampton\n1         1  female  38.0  71.2833        C  First  woman    C    Cherbourg\n2         1  female  26.0   7.9250        S  Third  woman  NaN  Southampton\n3         1  female  35.0  53.1000        S  First  woman    C  Southampton\n4         0    male  35.0   8.0500        S  Third    man  NaN  Southampton",
      "text/html": "<div>\n<style scoped>\n    .dataframe tbody tr th:only-of-type {\n        vertical-align: middle;\n    }\n\n    .dataframe tbody tr th {\n        vertical-align: top;\n    }\n\n    .dataframe thead th {\n        text-align: right;\n    }\n</style>\n<table border=\"1\" class=\"dataframe\">\n  <thead>\n    <tr style=\"text-align: right;\">\n      <th></th>\n      <th>survived</th>\n      <th>sex</th>\n      <th>age</th>\n      <th>fare</th>\n      <th>embarked</th>\n      <th>class</th>\n      <th>who</th>\n      <th>deck</th>\n      <th>embark_town</th>\n    </tr>\n  </thead>\n  <tbody>\n    <tr>\n      <th>0</th>\n      <td>0</td>\n      <td>male</td>\n      <td>22.0</td>\n      <td>7.2500</td>\n      <td>S</td>\n      <td>Third</td>\n      <td>man</td>\n      <td>NaN</td>\n      <td>Southampton</td>\n    </tr>\n    <tr>\n      <th>1</th>\n      <td>1</td>\n      <td>female</td>\n      <td>38.0</td>\n      <td>71.2833</td>\n      <td>C</td>\n      <td>First</td>\n      <td>woman</td>\n      <td>C</td>\n      <td>Cherbourg</td>\n    </tr>\n    <tr>\n      <th>2</th>\n      <td>1</td>\n      <td>female</td>\n      <td>26.0</td>\n      <td>7.9250</td>\n      <td>S</td>\n      <td>Third</td>\n      <td>woman</td>\n      <td>NaN</td>\n      <td>Southampton</td>\n    </tr>\n    <tr>\n      <th>3</th>\n      <td>1</td>\n      <td>female</td>\n      <td>35.0</td>\n      <td>53.1000</td>\n      <td>S</td>\n      <td>First</td>\n      <td>woman</td>\n      <td>C</td>\n      <td>Southampton</td>\n    </tr>\n    <tr>\n      <th>4</th>\n      <td>0</td>\n      <td>male</td>\n      <td>35.0</td>\n      <td>8.0500</td>\n      <td>S</td>\n      <td>Third</td>\n      <td>man</td>\n      <td>NaN</td>\n      <td>Southampton</td>\n    </tr>\n  </tbody>\n</table>\n</div>"
     },
     "execution_count": 48,
     "metadata": {},
     "output_type": "execute_result"
    }
   ],
   "source": [
    "titanic.head()"
   ]
  },
  {
   "cell_type": "markdown",
   "metadata": {
    "id": "Z7TFOPlu40h2"
   },
   "source": [
    "The `sort_index` method is designed to sort a DataFrame by either its index or its columns:"
   ]
  },
  {
   "cell_type": "code",
   "execution_count": 49,
   "metadata": {
    "scrolled": true,
    "id": "k_t-ifux40h2",
    "outputId": "c3e0b25f-f8f4-4d31-cee5-966263fb89e7",
    "colab": {
     "base_uri": "https://localhost:8080/",
     "height": 206
    },
    "ExecuteTime": {
     "end_time": "2024-02-23T11:53:18.398965Z",
     "start_time": "2024-02-23T11:53:17.901311Z"
    }
   },
   "outputs": [
    {
     "data": {
      "text/plain": "     survived     sex   age   fare embarked   class    who deck  embark_town\n890         0    male  32.0   7.75        Q   Third    man  NaN   Queenstown\n889         1    male  26.0  30.00        C   First    man    C    Cherbourg\n888         0  female   NaN  23.45        S   Third  woman  NaN  Southampton\n887         1  female  19.0  30.00        S   First  woman    B  Southampton\n886         0    male  27.0  13.00        S  Second    man  NaN  Southampton",
      "text/html": "<div>\n<style scoped>\n    .dataframe tbody tr th:only-of-type {\n        vertical-align: middle;\n    }\n\n    .dataframe tbody tr th {\n        vertical-align: top;\n    }\n\n    .dataframe thead th {\n        text-align: right;\n    }\n</style>\n<table border=\"1\" class=\"dataframe\">\n  <thead>\n    <tr style=\"text-align: right;\">\n      <th></th>\n      <th>survived</th>\n      <th>sex</th>\n      <th>age</th>\n      <th>fare</th>\n      <th>embarked</th>\n      <th>class</th>\n      <th>who</th>\n      <th>deck</th>\n      <th>embark_town</th>\n    </tr>\n  </thead>\n  <tbody>\n    <tr>\n      <th>890</th>\n      <td>0</td>\n      <td>male</td>\n      <td>32.0</td>\n      <td>7.75</td>\n      <td>Q</td>\n      <td>Third</td>\n      <td>man</td>\n      <td>NaN</td>\n      <td>Queenstown</td>\n    </tr>\n    <tr>\n      <th>889</th>\n      <td>1</td>\n      <td>male</td>\n      <td>26.0</td>\n      <td>30.00</td>\n      <td>C</td>\n      <td>First</td>\n      <td>man</td>\n      <td>C</td>\n      <td>Cherbourg</td>\n    </tr>\n    <tr>\n      <th>888</th>\n      <td>0</td>\n      <td>female</td>\n      <td>NaN</td>\n      <td>23.45</td>\n      <td>S</td>\n      <td>Third</td>\n      <td>woman</td>\n      <td>NaN</td>\n      <td>Southampton</td>\n    </tr>\n    <tr>\n      <th>887</th>\n      <td>1</td>\n      <td>female</td>\n      <td>19.0</td>\n      <td>30.00</td>\n      <td>S</td>\n      <td>First</td>\n      <td>woman</td>\n      <td>B</td>\n      <td>Southampton</td>\n    </tr>\n    <tr>\n      <th>886</th>\n      <td>0</td>\n      <td>male</td>\n      <td>27.0</td>\n      <td>13.00</td>\n      <td>S</td>\n      <td>Second</td>\n      <td>man</td>\n      <td>NaN</td>\n      <td>Southampton</td>\n    </tr>\n  </tbody>\n</table>\n</div>"
     },
     "execution_count": 49,
     "metadata": {},
     "output_type": "execute_result"
    }
   ],
   "source": [
    "titanic.sort_index(ascending=False).head()"
   ]
  },
  {
   "cell_type": "markdown",
   "metadata": {
    "id": "5FVfRGEL40h2"
   },
   "source": [
    "Since the Titanic index is already sorted, it's easier to illustrate how to use it for the index with a small test DF:"
   ]
  },
  {
   "cell_type": "code",
   "execution_count": 50,
   "metadata": {
    "id": "x02U_gEs40h2",
    "outputId": "96c29c63-f52c-47ec-a89d-d38ba7a84776",
    "colab": {
     "base_uri": "https://localhost:8080/",
     "height": 206
    },
    "ExecuteTime": {
     "end_time": "2024-02-23T11:53:18.401479Z",
     "start_time": "2024-02-23T11:53:17.906077Z"
    }
   },
   "outputs": [
    {
     "data": {
      "text/plain": "     A\n100  1\n29   2\n234  3\n1    4\n150  5",
      "text/html": "<div>\n<style scoped>\n    .dataframe tbody tr th:only-of-type {\n        vertical-align: middle;\n    }\n\n    .dataframe tbody tr th {\n        vertical-align: top;\n    }\n\n    .dataframe thead th {\n        text-align: right;\n    }\n</style>\n<table border=\"1\" class=\"dataframe\">\n  <thead>\n    <tr style=\"text-align: right;\">\n      <th></th>\n      <th>A</th>\n    </tr>\n  </thead>\n  <tbody>\n    <tr>\n      <th>100</th>\n      <td>1</td>\n    </tr>\n    <tr>\n      <th>29</th>\n      <td>2</td>\n    </tr>\n    <tr>\n      <th>234</th>\n      <td>3</td>\n    </tr>\n    <tr>\n      <th>1</th>\n      <td>4</td>\n    </tr>\n    <tr>\n      <th>150</th>\n      <td>5</td>\n    </tr>\n  </tbody>\n</table>\n</div>"
     },
     "execution_count": 50,
     "metadata": {},
     "output_type": "execute_result"
    }
   ],
   "source": [
    "df = pd.DataFrame([1, 2, 3, 4, 5], index=[100, 29, 234, 1, 150], columns=['A'])\n",
    "df"
   ]
  },
  {
   "cell_type": "code",
   "execution_count": 51,
   "metadata": {
    "id": "Tg5J8Qpo40h2",
    "outputId": "77531924-fe17-4555-81b0-7206b22c2719",
    "colab": {
     "base_uri": "https://localhost:8080/",
     "height": 206
    },
    "ExecuteTime": {
     "end_time": "2024-02-23T11:53:18.403444Z",
     "start_time": "2024-02-23T11:53:17.910616Z"
    }
   },
   "outputs": [
    {
     "data": {
      "text/plain": "     A\n1    4\n29   2\n100  1\n150  5\n234  3",
      "text/html": "<div>\n<style scoped>\n    .dataframe tbody tr th:only-of-type {\n        vertical-align: middle;\n    }\n\n    .dataframe tbody tr th {\n        vertical-align: top;\n    }\n\n    .dataframe thead th {\n        text-align: right;\n    }\n</style>\n<table border=\"1\" class=\"dataframe\">\n  <thead>\n    <tr style=\"text-align: right;\">\n      <th></th>\n      <th>A</th>\n    </tr>\n  </thead>\n  <tbody>\n    <tr>\n      <th>1</th>\n      <td>4</td>\n    </tr>\n    <tr>\n      <th>29</th>\n      <td>2</td>\n    </tr>\n    <tr>\n      <th>100</th>\n      <td>1</td>\n    </tr>\n    <tr>\n      <th>150</th>\n      <td>5</td>\n    </tr>\n    <tr>\n      <th>234</th>\n      <td>3</td>\n    </tr>\n  </tbody>\n</table>\n</div>"
     },
     "execution_count": 51,
     "metadata": {},
     "output_type": "execute_result"
    }
   ],
   "source": [
    "df.sort_index() # same as df.sort_index('index')"
   ]
  },
  {
   "cell_type": "markdown",
   "metadata": {
    "id": "Gjq8bhTi40h2"
   },
   "source": [
    "Pandas also makes it easy to sort on the *values* of the DF:"
   ]
  },
  {
   "cell_type": "code",
   "execution_count": 52,
   "metadata": {
    "id": "EIhtwl1L40h2",
    "outputId": "7210a390-7901-4480-9660-d440633db1b2",
    "colab": {
     "base_uri": "https://localhost:8080/",
     "height": 206
    },
    "ExecuteTime": {
     "end_time": "2024-02-23T11:53:18.405627Z",
     "start_time": "2024-02-23T11:53:17.913604Z"
    }
   },
   "outputs": [
    {
     "data": {
      "text/plain": "     survived     sex   age     fare embarked   class    who deck  embark_town\n803         1    male  0.42   8.5167        C   Third  child  NaN    Cherbourg\n755         1    male  0.67  14.5000        S  Second  child  NaN  Southampton\n644         1  female  0.75  19.2583        C   Third  child  NaN    Cherbourg\n469         1  female  0.75  19.2583        C   Third  child  NaN    Cherbourg\n78          1    male  0.83  29.0000        S  Second  child  NaN  Southampton",
      "text/html": "<div>\n<style scoped>\n    .dataframe tbody tr th:only-of-type {\n        vertical-align: middle;\n    }\n\n    .dataframe tbody tr th {\n        vertical-align: top;\n    }\n\n    .dataframe thead th {\n        text-align: right;\n    }\n</style>\n<table border=\"1\" class=\"dataframe\">\n  <thead>\n    <tr style=\"text-align: right;\">\n      <th></th>\n      <th>survived</th>\n      <th>sex</th>\n      <th>age</th>\n      <th>fare</th>\n      <th>embarked</th>\n      <th>class</th>\n      <th>who</th>\n      <th>deck</th>\n      <th>embark_town</th>\n    </tr>\n  </thead>\n  <tbody>\n    <tr>\n      <th>803</th>\n      <td>1</td>\n      <td>male</td>\n      <td>0.42</td>\n      <td>8.5167</td>\n      <td>C</td>\n      <td>Third</td>\n      <td>child</td>\n      <td>NaN</td>\n      <td>Cherbourg</td>\n    </tr>\n    <tr>\n      <th>755</th>\n      <td>1</td>\n      <td>male</td>\n      <td>0.67</td>\n      <td>14.5000</td>\n      <td>S</td>\n      <td>Second</td>\n      <td>child</td>\n      <td>NaN</td>\n      <td>Southampton</td>\n    </tr>\n    <tr>\n      <th>644</th>\n      <td>1</td>\n      <td>female</td>\n      <td>0.75</td>\n      <td>19.2583</td>\n      <td>C</td>\n      <td>Third</td>\n      <td>child</td>\n      <td>NaN</td>\n      <td>Cherbourg</td>\n    </tr>\n    <tr>\n      <th>469</th>\n      <td>1</td>\n      <td>female</td>\n      <td>0.75</td>\n      <td>19.2583</td>\n      <td>C</td>\n      <td>Third</td>\n      <td>child</td>\n      <td>NaN</td>\n      <td>Cherbourg</td>\n    </tr>\n    <tr>\n      <th>78</th>\n      <td>1</td>\n      <td>male</td>\n      <td>0.83</td>\n      <td>29.0000</td>\n      <td>S</td>\n      <td>Second</td>\n      <td>child</td>\n      <td>NaN</td>\n      <td>Southampton</td>\n    </tr>\n  </tbody>\n</table>\n</div>"
     },
     "execution_count": 52,
     "metadata": {},
     "output_type": "execute_result"
    }
   ],
   "source": [
    "titanic.sort_values('age', ascending=True).head()"
   ]
  },
  {
   "cell_type": "markdown",
   "metadata": {
    "id": "w12vIU7340h2"
   },
   "source": [
    "And we can sort on more than one column in a single call:"
   ]
  },
  {
   "cell_type": "code",
   "execution_count": 53,
   "metadata": {
    "id": "bcH3pfHa40h2",
    "outputId": "1d126d4e-e098-469a-bc42-7b30b5ac6386",
    "colab": {
     "base_uri": "https://localhost:8080/",
     "height": 206
    },
    "ExecuteTime": {
     "end_time": "2024-02-23T11:53:18.429133Z",
     "start_time": "2024-02-23T11:53:17.920251Z"
    }
   },
   "outputs": [
    {
     "data": {
      "text/plain": "     survived     sex  age     fare embarked  class    who deck  embark_town\n164         0    male  1.0  39.6875        S  Third  child  NaN  Southampton\n386         0    male  1.0  46.9000        S  Third  child  NaN  Southampton\n7           0    male  2.0  21.0750        S  Third  child  NaN  Southampton\n16          0    male  2.0  29.1250        Q  Third  child  NaN   Queenstown\n119         0  female  2.0  31.2750        S  Third  child  NaN  Southampton",
      "text/html": "<div>\n<style scoped>\n    .dataframe tbody tr th:only-of-type {\n        vertical-align: middle;\n    }\n\n    .dataframe tbody tr th {\n        vertical-align: top;\n    }\n\n    .dataframe thead th {\n        text-align: right;\n    }\n</style>\n<table border=\"1\" class=\"dataframe\">\n  <thead>\n    <tr style=\"text-align: right;\">\n      <th></th>\n      <th>survived</th>\n      <th>sex</th>\n      <th>age</th>\n      <th>fare</th>\n      <th>embarked</th>\n      <th>class</th>\n      <th>who</th>\n      <th>deck</th>\n      <th>embark_town</th>\n    </tr>\n  </thead>\n  <tbody>\n    <tr>\n      <th>164</th>\n      <td>0</td>\n      <td>male</td>\n      <td>1.0</td>\n      <td>39.6875</td>\n      <td>S</td>\n      <td>Third</td>\n      <td>child</td>\n      <td>NaN</td>\n      <td>Southampton</td>\n    </tr>\n    <tr>\n      <th>386</th>\n      <td>0</td>\n      <td>male</td>\n      <td>1.0</td>\n      <td>46.9000</td>\n      <td>S</td>\n      <td>Third</td>\n      <td>child</td>\n      <td>NaN</td>\n      <td>Southampton</td>\n    </tr>\n    <tr>\n      <th>7</th>\n      <td>0</td>\n      <td>male</td>\n      <td>2.0</td>\n      <td>21.0750</td>\n      <td>S</td>\n      <td>Third</td>\n      <td>child</td>\n      <td>NaN</td>\n      <td>Southampton</td>\n    </tr>\n    <tr>\n      <th>16</th>\n      <td>0</td>\n      <td>male</td>\n      <td>2.0</td>\n      <td>29.1250</td>\n      <td>Q</td>\n      <td>Third</td>\n      <td>child</td>\n      <td>NaN</td>\n      <td>Queenstown</td>\n    </tr>\n    <tr>\n      <th>119</th>\n      <td>0</td>\n      <td>female</td>\n      <td>2.0</td>\n      <td>31.2750</td>\n      <td>S</td>\n      <td>Third</td>\n      <td>child</td>\n      <td>NaN</td>\n      <td>Southampton</td>\n    </tr>\n  </tbody>\n</table>\n</div>"
     },
     "execution_count": 53,
     "metadata": {},
     "output_type": "execute_result"
    }
   ],
   "source": [
    "titanic.sort_values(['survived', 'age'], ascending=[True, True]).head()"
   ]
  },
  {
   "cell_type": "markdown",
   "metadata": {
    "id": "c0sP5uU640h2"
   },
   "source": [
    "*Note:* both the index and the columns can be named:"
   ]
  },
  {
   "cell_type": "code",
   "execution_count": 54,
   "metadata": {
    "id": "lAaB2Uxk40h2",
    "outputId": "c533ff6b-cc34-496d-a3f3-b6d4a3814001",
    "colab": {
     "base_uri": "https://localhost:8080/",
     "height": 238
    },
    "ExecuteTime": {
     "end_time": "2024-02-23T11:53:18.431587Z",
     "start_time": "2024-02-23T11:53:17.926553Z"
    }
   },
   "outputs": [
    {
     "data": {
      "text/plain": "attributes  survived   sex   age     fare embarked   class  who deck  \\\nid                                                                     \n851                0  male  74.0   7.7750        S   Third  man  NaN   \n96                 0  male  71.0  34.6542        C   First  man    A   \n493                0  male  71.0  49.5042        C   First  man  NaN   \n116                0  male  70.5   7.7500        Q   Third  man  NaN   \n672                0  male  70.0  10.5000        S  Second  man  NaN   \n\nattributes  embark_town  \nid                       \n851         Southampton  \n96            Cherbourg  \n493           Cherbourg  \n116          Queenstown  \n672         Southampton  ",
      "text/html": "<div>\n<style scoped>\n    .dataframe tbody tr th:only-of-type {\n        vertical-align: middle;\n    }\n\n    .dataframe tbody tr th {\n        vertical-align: top;\n    }\n\n    .dataframe thead th {\n        text-align: right;\n    }\n</style>\n<table border=\"1\" class=\"dataframe\">\n  <thead>\n    <tr style=\"text-align: right;\">\n      <th>attributes</th>\n      <th>survived</th>\n      <th>sex</th>\n      <th>age</th>\n      <th>fare</th>\n      <th>embarked</th>\n      <th>class</th>\n      <th>who</th>\n      <th>deck</th>\n      <th>embark_town</th>\n    </tr>\n    <tr>\n      <th>id</th>\n      <th></th>\n      <th></th>\n      <th></th>\n      <th></th>\n      <th></th>\n      <th></th>\n      <th></th>\n      <th></th>\n      <th></th>\n    </tr>\n  </thead>\n  <tbody>\n    <tr>\n      <th>851</th>\n      <td>0</td>\n      <td>male</td>\n      <td>74.0</td>\n      <td>7.7750</td>\n      <td>S</td>\n      <td>Third</td>\n      <td>man</td>\n      <td>NaN</td>\n      <td>Southampton</td>\n    </tr>\n    <tr>\n      <th>96</th>\n      <td>0</td>\n      <td>male</td>\n      <td>71.0</td>\n      <td>34.6542</td>\n      <td>C</td>\n      <td>First</td>\n      <td>man</td>\n      <td>A</td>\n      <td>Cherbourg</td>\n    </tr>\n    <tr>\n      <th>493</th>\n      <td>0</td>\n      <td>male</td>\n      <td>71.0</td>\n      <td>49.5042</td>\n      <td>C</td>\n      <td>First</td>\n      <td>man</td>\n      <td>NaN</td>\n      <td>Cherbourg</td>\n    </tr>\n    <tr>\n      <th>116</th>\n      <td>0</td>\n      <td>male</td>\n      <td>70.5</td>\n      <td>7.7500</td>\n      <td>Q</td>\n      <td>Third</td>\n      <td>man</td>\n      <td>NaN</td>\n      <td>Queenstown</td>\n    </tr>\n    <tr>\n      <th>672</th>\n      <td>0</td>\n      <td>male</td>\n      <td>70.0</td>\n      <td>10.5000</td>\n      <td>S</td>\n      <td>Second</td>\n      <td>man</td>\n      <td>NaN</td>\n      <td>Southampton</td>\n    </tr>\n  </tbody>\n</table>\n</div>"
     },
     "execution_count": 54,
     "metadata": {},
     "output_type": "execute_result"
    }
   ],
   "source": [
    "t = titanic.sort_values(['survived', 'age'], ascending=[True, False])\n",
    "t.index.name = 'id'\n",
    "t.columns.name = 'attributes'\n",
    "t.head()"
   ]
  },
  {
   "cell_type": "markdown",
   "metadata": {
    "id": "bthV7dKU40h2"
   },
   "source": [
    "#### Grouping data"
   ]
  },
  {
   "cell_type": "code",
   "execution_count": 55,
   "metadata": {
    "id": "SIjhHyP-40h2",
    "ExecuteTime": {
     "end_time": "2024-02-23T11:53:18.433404Z",
     "start_time": "2024-02-23T11:53:17.933696Z"
    }
   },
   "outputs": [],
   "source": [
    "sex_class = titanic.groupby(['sex', 'class'])"
   ]
  },
  {
   "cell_type": "markdown",
   "metadata": {
    "id": "YW8Caxvv40h2"
   },
   "source": [
    "What is a GroubBy object?"
   ]
  },
  {
   "cell_type": "code",
   "execution_count": 56,
   "metadata": {
    "id": "Z5EcQMSk40h2",
    "outputId": "3463f2ad-b1df-4f43-ad18-1bd7b43e0254",
    "colab": {
     "base_uri": "https://localhost:8080/"
    },
    "ExecuteTime": {
     "end_time": "2024-02-23T11:53:18.435383Z",
     "start_time": "2024-02-23T11:53:17.937014Z"
    }
   },
   "outputs": [
    {
     "data": {
      "text/plain": "<pandas.core.groupby.generic.DataFrameGroupBy object at 0x10fe1afd0>"
     },
     "execution_count": 56,
     "metadata": {},
     "output_type": "execute_result"
    }
   ],
   "source": [
    "sex_class"
   ]
  },
  {
   "cell_type": "code",
   "execution_count": 57,
   "metadata": {
    "id": "HVl14AaJ40h2",
    "outputId": "1febedc9-8c23-4b09-da30-8715f12861bc",
    "colab": {
     "base_uri": "https://localhost:8080/",
     "height": 909
    },
    "ExecuteTime": {
     "end_time": "2024-02-23T11:53:18.439295Z",
     "start_time": "2024-02-23T11:53:17.940545Z"
    }
   },
   "outputs": [
    {
     "name": "stdout",
     "output_type": "stream",
     "text": [
      "name: ('female', 'First') \n",
      "group:\n"
     ]
    },
    {
     "data": {
      "text/plain": "attributes  survived     sex   age     fare embarked  class    who deck  \\\n1                  1  female  38.0  71.2833        C  First  woman    C   \n3                  1  female  35.0  53.1000        S  First  woman    C   \n\nattributes  embark_town  \n1             Cherbourg  \n3           Southampton  ",
      "text/html": "<div>\n<style scoped>\n    .dataframe tbody tr th:only-of-type {\n        vertical-align: middle;\n    }\n\n    .dataframe tbody tr th {\n        vertical-align: top;\n    }\n\n    .dataframe thead th {\n        text-align: right;\n    }\n</style>\n<table border=\"1\" class=\"dataframe\">\n  <thead>\n    <tr style=\"text-align: right;\">\n      <th>attributes</th>\n      <th>survived</th>\n      <th>sex</th>\n      <th>age</th>\n      <th>fare</th>\n      <th>embarked</th>\n      <th>class</th>\n      <th>who</th>\n      <th>deck</th>\n      <th>embark_town</th>\n    </tr>\n  </thead>\n  <tbody>\n    <tr>\n      <th>1</th>\n      <td>1</td>\n      <td>female</td>\n      <td>38.0</td>\n      <td>71.2833</td>\n      <td>C</td>\n      <td>First</td>\n      <td>woman</td>\n      <td>C</td>\n      <td>Cherbourg</td>\n    </tr>\n    <tr>\n      <th>3</th>\n      <td>1</td>\n      <td>female</td>\n      <td>35.0</td>\n      <td>53.1000</td>\n      <td>S</td>\n      <td>First</td>\n      <td>woman</td>\n      <td>C</td>\n      <td>Southampton</td>\n    </tr>\n  </tbody>\n</table>\n</div>"
     },
     "metadata": {},
     "output_type": "display_data"
    },
    {
     "name": "stdout",
     "output_type": "stream",
     "text": [
      "name: ('female', 'Second') \n",
      "group:\n"
     ]
    },
    {
     "data": {
      "text/plain": "attributes  survived     sex   age     fare embarked   class    who deck  \\\n9                  1  female  14.0  30.0708        C  Second  child  NaN   \n15                 1  female  55.0  16.0000        S  Second  woman  NaN   \n\nattributes  embark_town  \n9             Cherbourg  \n15          Southampton  ",
      "text/html": "<div>\n<style scoped>\n    .dataframe tbody tr th:only-of-type {\n        vertical-align: middle;\n    }\n\n    .dataframe tbody tr th {\n        vertical-align: top;\n    }\n\n    .dataframe thead th {\n        text-align: right;\n    }\n</style>\n<table border=\"1\" class=\"dataframe\">\n  <thead>\n    <tr style=\"text-align: right;\">\n      <th>attributes</th>\n      <th>survived</th>\n      <th>sex</th>\n      <th>age</th>\n      <th>fare</th>\n      <th>embarked</th>\n      <th>class</th>\n      <th>who</th>\n      <th>deck</th>\n      <th>embark_town</th>\n    </tr>\n  </thead>\n  <tbody>\n    <tr>\n      <th>9</th>\n      <td>1</td>\n      <td>female</td>\n      <td>14.0</td>\n      <td>30.0708</td>\n      <td>C</td>\n      <td>Second</td>\n      <td>child</td>\n      <td>NaN</td>\n      <td>Cherbourg</td>\n    </tr>\n    <tr>\n      <th>15</th>\n      <td>1</td>\n      <td>female</td>\n      <td>55.0</td>\n      <td>16.0000</td>\n      <td>S</td>\n      <td>Second</td>\n      <td>woman</td>\n      <td>NaN</td>\n      <td>Southampton</td>\n    </tr>\n  </tbody>\n</table>\n</div>"
     },
     "metadata": {},
     "output_type": "display_data"
    },
    {
     "name": "stdout",
     "output_type": "stream",
     "text": [
      "name: ('female', 'Third') \n",
      "group:\n"
     ]
    },
    {
     "data": {
      "text/plain": "attributes  survived     sex   age     fare embarked  class    who deck  \\\n2                  1  female  26.0   7.9250        S  Third  woman  NaN   \n8                  1  female  27.0  11.1333        S  Third  woman  NaN   \n\nattributes  embark_town  \n2           Southampton  \n8           Southampton  ",
      "text/html": "<div>\n<style scoped>\n    .dataframe tbody tr th:only-of-type {\n        vertical-align: middle;\n    }\n\n    .dataframe tbody tr th {\n        vertical-align: top;\n    }\n\n    .dataframe thead th {\n        text-align: right;\n    }\n</style>\n<table border=\"1\" class=\"dataframe\">\n  <thead>\n    <tr style=\"text-align: right;\">\n      <th>attributes</th>\n      <th>survived</th>\n      <th>sex</th>\n      <th>age</th>\n      <th>fare</th>\n      <th>embarked</th>\n      <th>class</th>\n      <th>who</th>\n      <th>deck</th>\n      <th>embark_town</th>\n    </tr>\n  </thead>\n  <tbody>\n    <tr>\n      <th>2</th>\n      <td>1</td>\n      <td>female</td>\n      <td>26.0</td>\n      <td>7.9250</td>\n      <td>S</td>\n      <td>Third</td>\n      <td>woman</td>\n      <td>NaN</td>\n      <td>Southampton</td>\n    </tr>\n    <tr>\n      <th>8</th>\n      <td>1</td>\n      <td>female</td>\n      <td>27.0</td>\n      <td>11.1333</td>\n      <td>S</td>\n      <td>Third</td>\n      <td>woman</td>\n      <td>NaN</td>\n      <td>Southampton</td>\n    </tr>\n  </tbody>\n</table>\n</div>"
     },
     "metadata": {},
     "output_type": "display_data"
    },
    {
     "name": "stdout",
     "output_type": "stream",
     "text": [
      "name: ('male', 'First') \n",
      "group:\n"
     ]
    },
    {
     "data": {
      "text/plain": "attributes  survived   sex   age     fare embarked  class  who deck  \\\n6                  0  male  54.0  51.8625        S  First  man    E   \n23                 1  male  28.0  35.5000        S  First  man    A   \n\nattributes  embark_town  \n6           Southampton  \n23          Southampton  ",
      "text/html": "<div>\n<style scoped>\n    .dataframe tbody tr th:only-of-type {\n        vertical-align: middle;\n    }\n\n    .dataframe tbody tr th {\n        vertical-align: top;\n    }\n\n    .dataframe thead th {\n        text-align: right;\n    }\n</style>\n<table border=\"1\" class=\"dataframe\">\n  <thead>\n    <tr style=\"text-align: right;\">\n      <th>attributes</th>\n      <th>survived</th>\n      <th>sex</th>\n      <th>age</th>\n      <th>fare</th>\n      <th>embarked</th>\n      <th>class</th>\n      <th>who</th>\n      <th>deck</th>\n      <th>embark_town</th>\n    </tr>\n  </thead>\n  <tbody>\n    <tr>\n      <th>6</th>\n      <td>0</td>\n      <td>male</td>\n      <td>54.0</td>\n      <td>51.8625</td>\n      <td>S</td>\n      <td>First</td>\n      <td>man</td>\n      <td>E</td>\n      <td>Southampton</td>\n    </tr>\n    <tr>\n      <th>23</th>\n      <td>1</td>\n      <td>male</td>\n      <td>28.0</td>\n      <td>35.5000</td>\n      <td>S</td>\n      <td>First</td>\n      <td>man</td>\n      <td>A</td>\n      <td>Southampton</td>\n    </tr>\n  </tbody>\n</table>\n</div>"
     },
     "metadata": {},
     "output_type": "display_data"
    },
    {
     "name": "stdout",
     "output_type": "stream",
     "text": [
      "name: ('male', 'Second') \n",
      "group:\n"
     ]
    },
    {
     "data": {
      "text/plain": "attributes  survived   sex   age  fare embarked   class  who deck  embark_town\n17                 1  male   NaN  13.0        S  Second  man  NaN  Southampton\n20                 0  male  35.0  26.0        S  Second  man  NaN  Southampton",
      "text/html": "<div>\n<style scoped>\n    .dataframe tbody tr th:only-of-type {\n        vertical-align: middle;\n    }\n\n    .dataframe tbody tr th {\n        vertical-align: top;\n    }\n\n    .dataframe thead th {\n        text-align: right;\n    }\n</style>\n<table border=\"1\" class=\"dataframe\">\n  <thead>\n    <tr style=\"text-align: right;\">\n      <th>attributes</th>\n      <th>survived</th>\n      <th>sex</th>\n      <th>age</th>\n      <th>fare</th>\n      <th>embarked</th>\n      <th>class</th>\n      <th>who</th>\n      <th>deck</th>\n      <th>embark_town</th>\n    </tr>\n  </thead>\n  <tbody>\n    <tr>\n      <th>17</th>\n      <td>1</td>\n      <td>male</td>\n      <td>NaN</td>\n      <td>13.0</td>\n      <td>S</td>\n      <td>Second</td>\n      <td>man</td>\n      <td>NaN</td>\n      <td>Southampton</td>\n    </tr>\n    <tr>\n      <th>20</th>\n      <td>0</td>\n      <td>male</td>\n      <td>35.0</td>\n      <td>26.0</td>\n      <td>S</td>\n      <td>Second</td>\n      <td>man</td>\n      <td>NaN</td>\n      <td>Southampton</td>\n    </tr>\n  </tbody>\n</table>\n</div>"
     },
     "metadata": {},
     "output_type": "display_data"
    },
    {
     "name": "stdout",
     "output_type": "stream",
     "text": [
      "name: ('male', 'Third') \n",
      "group:\n"
     ]
    },
    {
     "data": {
      "text/plain": "attributes  survived   sex   age  fare embarked  class  who deck  embark_town\n0                  0  male  22.0  7.25        S  Third  man  NaN  Southampton\n4                  0  male  35.0  8.05        S  Third  man  NaN  Southampton",
      "text/html": "<div>\n<style scoped>\n    .dataframe tbody tr th:only-of-type {\n        vertical-align: middle;\n    }\n\n    .dataframe tbody tr th {\n        vertical-align: top;\n    }\n\n    .dataframe thead th {\n        text-align: right;\n    }\n</style>\n<table border=\"1\" class=\"dataframe\">\n  <thead>\n    <tr style=\"text-align: right;\">\n      <th>attributes</th>\n      <th>survived</th>\n      <th>sex</th>\n      <th>age</th>\n      <th>fare</th>\n      <th>embarked</th>\n      <th>class</th>\n      <th>who</th>\n      <th>deck</th>\n      <th>embark_town</th>\n    </tr>\n  </thead>\n  <tbody>\n    <tr>\n      <th>0</th>\n      <td>0</td>\n      <td>male</td>\n      <td>22.0</td>\n      <td>7.25</td>\n      <td>S</td>\n      <td>Third</td>\n      <td>man</td>\n      <td>NaN</td>\n      <td>Southampton</td>\n    </tr>\n    <tr>\n      <th>4</th>\n      <td>0</td>\n      <td>male</td>\n      <td>35.0</td>\n      <td>8.05</td>\n      <td>S</td>\n      <td>Third</td>\n      <td>man</td>\n      <td>NaN</td>\n      <td>Southampton</td>\n    </tr>\n  </tbody>\n</table>\n</div>"
     },
     "metadata": {},
     "output_type": "display_data"
    }
   ],
   "source": [
    "from IPython.display import display\n",
    "\n",
    "for name, group in sex_class:\n",
    "    print('name:', name, '\\ngroup:\\n')\n",
    "    display(group.head(2))"
   ]
  },
  {
   "cell_type": "code",
   "execution_count": 58,
   "metadata": {
    "id": "V57NNLMy40h2",
    "outputId": "529714c9-7447-4bce-a2ec-7fd13c18a80b",
    "colab": {
     "base_uri": "https://localhost:8080/",
     "height": 206
    },
    "ExecuteTime": {
     "end_time": "2024-02-23T11:53:18.462235Z",
     "start_time": "2024-02-23T11:53:17.962607Z"
    }
   },
   "outputs": [
    {
     "data": {
      "text/plain": "attributes  survived     sex   age     fare embarked   class    who deck  \\\n9                  1  female  14.0  30.0708        C  Second  child  NaN   \n15                 1  female  55.0  16.0000        S  Second  woman  NaN   \n41                 0  female  27.0  21.0000        S  Second  woman  NaN   \n43                 1  female   3.0  41.5792        C  Second  child  NaN   \n53                 1  female  29.0  26.0000        S  Second  woman  NaN   \n\nattributes  embark_town  \n9             Cherbourg  \n15          Southampton  \n41          Southampton  \n43            Cherbourg  \n53          Southampton  ",
      "text/html": "<div>\n<style scoped>\n    .dataframe tbody tr th:only-of-type {\n        vertical-align: middle;\n    }\n\n    .dataframe tbody tr th {\n        vertical-align: top;\n    }\n\n    .dataframe thead th {\n        text-align: right;\n    }\n</style>\n<table border=\"1\" class=\"dataframe\">\n  <thead>\n    <tr style=\"text-align: right;\">\n      <th>attributes</th>\n      <th>survived</th>\n      <th>sex</th>\n      <th>age</th>\n      <th>fare</th>\n      <th>embarked</th>\n      <th>class</th>\n      <th>who</th>\n      <th>deck</th>\n      <th>embark_town</th>\n    </tr>\n  </thead>\n  <tbody>\n    <tr>\n      <th>9</th>\n      <td>1</td>\n      <td>female</td>\n      <td>14.0</td>\n      <td>30.0708</td>\n      <td>C</td>\n      <td>Second</td>\n      <td>child</td>\n      <td>NaN</td>\n      <td>Cherbourg</td>\n    </tr>\n    <tr>\n      <th>15</th>\n      <td>1</td>\n      <td>female</td>\n      <td>55.0</td>\n      <td>16.0000</td>\n      <td>S</td>\n      <td>Second</td>\n      <td>woman</td>\n      <td>NaN</td>\n      <td>Southampton</td>\n    </tr>\n    <tr>\n      <th>41</th>\n      <td>0</td>\n      <td>female</td>\n      <td>27.0</td>\n      <td>21.0000</td>\n      <td>S</td>\n      <td>Second</td>\n      <td>woman</td>\n      <td>NaN</td>\n      <td>Southampton</td>\n    </tr>\n    <tr>\n      <th>43</th>\n      <td>1</td>\n      <td>female</td>\n      <td>3.0</td>\n      <td>41.5792</td>\n      <td>C</td>\n      <td>Second</td>\n      <td>child</td>\n      <td>NaN</td>\n      <td>Cherbourg</td>\n    </tr>\n    <tr>\n      <th>53</th>\n      <td>1</td>\n      <td>female</td>\n      <td>29.0</td>\n      <td>26.0000</td>\n      <td>S</td>\n      <td>Second</td>\n      <td>woman</td>\n      <td>NaN</td>\n      <td>Southampton</td>\n    </tr>\n  </tbody>\n</table>\n</div>"
     },
     "execution_count": 58,
     "metadata": {},
     "output_type": "execute_result"
    }
   ],
   "source": [
    "sex_class.get_group(('female', 'Second')).head()"
   ]
  },
  {
   "cell_type": "markdown",
   "metadata": {
    "id": "5FJNotXk40h2"
   },
   "source": [
    "The GroubBy object has a number of aggregation methods that will then compute summary statistics over the group members, e.g.:"
   ]
  },
  {
   "cell_type": "code",
   "execution_count": 59,
   "metadata": {
    "id": "IiyGAVEE40h2",
    "outputId": "5a9e9547-d37a-41bf-c420-e566f843ebbf",
    "colab": {
     "base_uri": "https://localhost:8080/",
     "height": 269
    },
    "ExecuteTime": {
     "end_time": "2024-02-23T11:53:18.468212Z",
     "start_time": "2024-02-23T11:53:17.965756Z"
    }
   },
   "outputs": [
    {
     "data": {
      "text/plain": "attributes     survived  age  fare  embarked  who  deck  embark_town\nsex    class                                                        \nfemale First         94   85    94        92   94    81           92\n       Second        76   74    76        76   76    10           76\n       Third        144  102   144       144  144     6          144\nmale   First        122  101   122       122  122    94          122\n       Second       108   99   108       108  108     6          108\n       Third        347  253   347       347  347     6          347",
      "text/html": "<div>\n<style scoped>\n    .dataframe tbody tr th:only-of-type {\n        vertical-align: middle;\n    }\n\n    .dataframe tbody tr th {\n        vertical-align: top;\n    }\n\n    .dataframe thead th {\n        text-align: right;\n    }\n</style>\n<table border=\"1\" class=\"dataframe\">\n  <thead>\n    <tr style=\"text-align: right;\">\n      <th></th>\n      <th>attributes</th>\n      <th>survived</th>\n      <th>age</th>\n      <th>fare</th>\n      <th>embarked</th>\n      <th>who</th>\n      <th>deck</th>\n      <th>embark_town</th>\n    </tr>\n    <tr>\n      <th>sex</th>\n      <th>class</th>\n      <th></th>\n      <th></th>\n      <th></th>\n      <th></th>\n      <th></th>\n      <th></th>\n      <th></th>\n    </tr>\n  </thead>\n  <tbody>\n    <tr>\n      <th rowspan=\"3\" valign=\"top\">female</th>\n      <th>First</th>\n      <td>94</td>\n      <td>85</td>\n      <td>94</td>\n      <td>92</td>\n      <td>94</td>\n      <td>81</td>\n      <td>92</td>\n    </tr>\n    <tr>\n      <th>Second</th>\n      <td>76</td>\n      <td>74</td>\n      <td>76</td>\n      <td>76</td>\n      <td>76</td>\n      <td>10</td>\n      <td>76</td>\n    </tr>\n    <tr>\n      <th>Third</th>\n      <td>144</td>\n      <td>102</td>\n      <td>144</td>\n      <td>144</td>\n      <td>144</td>\n      <td>6</td>\n      <td>144</td>\n    </tr>\n    <tr>\n      <th rowspan=\"3\" valign=\"top\">male</th>\n      <th>First</th>\n      <td>122</td>\n      <td>101</td>\n      <td>122</td>\n      <td>122</td>\n      <td>122</td>\n      <td>94</td>\n      <td>122</td>\n    </tr>\n    <tr>\n      <th>Second</th>\n      <td>108</td>\n      <td>99</td>\n      <td>108</td>\n      <td>108</td>\n      <td>108</td>\n      <td>6</td>\n      <td>108</td>\n    </tr>\n    <tr>\n      <th>Third</th>\n      <td>347</td>\n      <td>253</td>\n      <td>347</td>\n      <td>347</td>\n      <td>347</td>\n      <td>6</td>\n      <td>347</td>\n    </tr>\n  </tbody>\n</table>\n</div>"
     },
     "execution_count": 59,
     "metadata": {},
     "output_type": "execute_result"
    }
   ],
   "source": [
    "sex_class.count()"
   ]
  },
  {
   "cell_type": "markdown",
   "metadata": {
    "id": "2JIACp7I40h2"
   },
   "source": [
    "#### Why Kate Winslett survived and Leonardo DiCaprio didn't"
   ]
  },
  {
   "cell_type": "code",
   "execution_count": 60,
   "metadata": {
    "id": "YFyVkhul40h2",
    "outputId": "45f3808f-44d6-4dcb-c82b-2d4153e9c932",
    "colab": {
     "base_uri": "https://localhost:8080/",
     "height": 325
    },
    "ExecuteTime": {
     "end_time": "2024-02-23T11:53:20.413292Z",
     "start_time": "2024-02-23T11:53:17.974460Z"
    }
   },
   "outputs": [
    {
     "ename": "TypeError",
     "evalue": "agg function failed [how->mean,dtype->object]",
     "output_type": "error",
     "traceback": [
      "\u001B[0;31m---------------------------------------------------------------------------\u001B[0m",
      "\u001B[0;31mTypeError\u001B[0m                                 Traceback (most recent call last)",
      "File \u001B[0;32m~/miniforge3/envs/zhaw/lib/python3.11/site-packages/pandas/core/groupby/groupby.py:1942\u001B[0m, in \u001B[0;36mGroupBy._agg_py_fallback\u001B[0;34m(self, how, values, ndim, alt)\u001B[0m\n\u001B[1;32m   1941\u001B[0m \u001B[38;5;28;01mtry\u001B[39;00m:\n\u001B[0;32m-> 1942\u001B[0m     res_values \u001B[38;5;241m=\u001B[39m \u001B[38;5;28mself\u001B[39m\u001B[38;5;241m.\u001B[39m_grouper\u001B[38;5;241m.\u001B[39magg_series(ser, alt, preserve_dtype\u001B[38;5;241m=\u001B[39m\u001B[38;5;28;01mTrue\u001B[39;00m)\n\u001B[1;32m   1943\u001B[0m \u001B[38;5;28;01mexcept\u001B[39;00m \u001B[38;5;167;01mException\u001B[39;00m \u001B[38;5;28;01mas\u001B[39;00m err:\n",
      "File \u001B[0;32m~/miniforge3/envs/zhaw/lib/python3.11/site-packages/pandas/core/groupby/ops.py:863\u001B[0m, in \u001B[0;36mBaseGrouper.agg_series\u001B[0;34m(self, obj, func, preserve_dtype)\u001B[0m\n\u001B[1;32m    861\u001B[0m     preserve_dtype \u001B[38;5;241m=\u001B[39m \u001B[38;5;28;01mTrue\u001B[39;00m\n\u001B[0;32m--> 863\u001B[0m result \u001B[38;5;241m=\u001B[39m \u001B[38;5;28mself\u001B[39m\u001B[38;5;241m.\u001B[39m_aggregate_series_pure_python(obj, func)\n\u001B[1;32m    865\u001B[0m npvalues \u001B[38;5;241m=\u001B[39m lib\u001B[38;5;241m.\u001B[39mmaybe_convert_objects(result, try_float\u001B[38;5;241m=\u001B[39m\u001B[38;5;28;01mFalse\u001B[39;00m)\n",
      "File \u001B[0;32m~/miniforge3/envs/zhaw/lib/python3.11/site-packages/pandas/core/groupby/ops.py:884\u001B[0m, in \u001B[0;36mBaseGrouper._aggregate_series_pure_python\u001B[0;34m(self, obj, func)\u001B[0m\n\u001B[1;32m    883\u001B[0m \u001B[38;5;28;01mfor\u001B[39;00m i, group \u001B[38;5;129;01min\u001B[39;00m \u001B[38;5;28menumerate\u001B[39m(splitter):\n\u001B[0;32m--> 884\u001B[0m     res \u001B[38;5;241m=\u001B[39m func(group)\n\u001B[1;32m    885\u001B[0m     res \u001B[38;5;241m=\u001B[39m extract_result(res)\n",
      "File \u001B[0;32m~/miniforge3/envs/zhaw/lib/python3.11/site-packages/pandas/core/groupby/groupby.py:2454\u001B[0m, in \u001B[0;36mGroupBy.mean.<locals>.<lambda>\u001B[0;34m(x)\u001B[0m\n\u001B[1;32m   2451\u001B[0m \u001B[38;5;28;01melse\u001B[39;00m:\n\u001B[1;32m   2452\u001B[0m     result \u001B[38;5;241m=\u001B[39m \u001B[38;5;28mself\u001B[39m\u001B[38;5;241m.\u001B[39m_cython_agg_general(\n\u001B[1;32m   2453\u001B[0m         \u001B[38;5;124m\"\u001B[39m\u001B[38;5;124mmean\u001B[39m\u001B[38;5;124m\"\u001B[39m,\n\u001B[0;32m-> 2454\u001B[0m         alt\u001B[38;5;241m=\u001B[39m\u001B[38;5;28;01mlambda\u001B[39;00m x: Series(x, copy\u001B[38;5;241m=\u001B[39m\u001B[38;5;28;01mFalse\u001B[39;00m)\u001B[38;5;241m.\u001B[39mmean(numeric_only\u001B[38;5;241m=\u001B[39mnumeric_only),\n\u001B[1;32m   2455\u001B[0m         numeric_only\u001B[38;5;241m=\u001B[39mnumeric_only,\n\u001B[1;32m   2456\u001B[0m     )\n\u001B[1;32m   2457\u001B[0m     \u001B[38;5;28;01mreturn\u001B[39;00m result\u001B[38;5;241m.\u001B[39m__finalize__(\u001B[38;5;28mself\u001B[39m\u001B[38;5;241m.\u001B[39mobj, method\u001B[38;5;241m=\u001B[39m\u001B[38;5;124m\"\u001B[39m\u001B[38;5;124mgroupby\u001B[39m\u001B[38;5;124m\"\u001B[39m)\n",
      "File \u001B[0;32m~/miniforge3/envs/zhaw/lib/python3.11/site-packages/pandas/core/series.py:6529\u001B[0m, in \u001B[0;36mSeries.mean\u001B[0;34m(self, axis, skipna, numeric_only, **kwargs)\u001B[0m\n\u001B[1;32m   6521\u001B[0m \u001B[38;5;129m@doc\u001B[39m(make_doc(\u001B[38;5;124m\"\u001B[39m\u001B[38;5;124mmean\u001B[39m\u001B[38;5;124m\"\u001B[39m, ndim\u001B[38;5;241m=\u001B[39m\u001B[38;5;241m1\u001B[39m))\n\u001B[1;32m   6522\u001B[0m \u001B[38;5;28;01mdef\u001B[39;00m \u001B[38;5;21mmean\u001B[39m(\n\u001B[1;32m   6523\u001B[0m     \u001B[38;5;28mself\u001B[39m,\n\u001B[0;32m   (...)\u001B[0m\n\u001B[1;32m   6527\u001B[0m     \u001B[38;5;241m*\u001B[39m\u001B[38;5;241m*\u001B[39mkwargs,\n\u001B[1;32m   6528\u001B[0m ):\n\u001B[0;32m-> 6529\u001B[0m     \u001B[38;5;28;01mreturn\u001B[39;00m NDFrame\u001B[38;5;241m.\u001B[39mmean(\u001B[38;5;28mself\u001B[39m, axis, skipna, numeric_only, \u001B[38;5;241m*\u001B[39m\u001B[38;5;241m*\u001B[39mkwargs)\n",
      "File \u001B[0;32m~/miniforge3/envs/zhaw/lib/python3.11/site-packages/pandas/core/generic.py:12413\u001B[0m, in \u001B[0;36mNDFrame.mean\u001B[0;34m(self, axis, skipna, numeric_only, **kwargs)\u001B[0m\n\u001B[1;32m  12406\u001B[0m \u001B[38;5;28;01mdef\u001B[39;00m \u001B[38;5;21mmean\u001B[39m(\n\u001B[1;32m  12407\u001B[0m     \u001B[38;5;28mself\u001B[39m,\n\u001B[1;32m  12408\u001B[0m     axis: Axis \u001B[38;5;241m|\u001B[39m \u001B[38;5;28;01mNone\u001B[39;00m \u001B[38;5;241m=\u001B[39m \u001B[38;5;241m0\u001B[39m,\n\u001B[0;32m   (...)\u001B[0m\n\u001B[1;32m  12411\u001B[0m     \u001B[38;5;241m*\u001B[39m\u001B[38;5;241m*\u001B[39mkwargs,\n\u001B[1;32m  12412\u001B[0m ) \u001B[38;5;241m-\u001B[39m\u001B[38;5;241m>\u001B[39m Series \u001B[38;5;241m|\u001B[39m \u001B[38;5;28mfloat\u001B[39m:\n\u001B[0;32m> 12413\u001B[0m     \u001B[38;5;28;01mreturn\u001B[39;00m \u001B[38;5;28mself\u001B[39m\u001B[38;5;241m.\u001B[39m_stat_function(\n\u001B[1;32m  12414\u001B[0m         \u001B[38;5;124m\"\u001B[39m\u001B[38;5;124mmean\u001B[39m\u001B[38;5;124m\"\u001B[39m, nanops\u001B[38;5;241m.\u001B[39mnanmean, axis, skipna, numeric_only, \u001B[38;5;241m*\u001B[39m\u001B[38;5;241m*\u001B[39mkwargs\n\u001B[1;32m  12415\u001B[0m     )\n",
      "File \u001B[0;32m~/miniforge3/envs/zhaw/lib/python3.11/site-packages/pandas/core/generic.py:12370\u001B[0m, in \u001B[0;36mNDFrame._stat_function\u001B[0;34m(self, name, func, axis, skipna, numeric_only, **kwargs)\u001B[0m\n\u001B[1;32m  12368\u001B[0m validate_bool_kwarg(skipna, \u001B[38;5;124m\"\u001B[39m\u001B[38;5;124mskipna\u001B[39m\u001B[38;5;124m\"\u001B[39m, none_allowed\u001B[38;5;241m=\u001B[39m\u001B[38;5;28;01mFalse\u001B[39;00m)\n\u001B[0;32m> 12370\u001B[0m \u001B[38;5;28;01mreturn\u001B[39;00m \u001B[38;5;28mself\u001B[39m\u001B[38;5;241m.\u001B[39m_reduce(\n\u001B[1;32m  12371\u001B[0m     func, name\u001B[38;5;241m=\u001B[39mname, axis\u001B[38;5;241m=\u001B[39maxis, skipna\u001B[38;5;241m=\u001B[39mskipna, numeric_only\u001B[38;5;241m=\u001B[39mnumeric_only\n\u001B[1;32m  12372\u001B[0m )\n",
      "File \u001B[0;32m~/miniforge3/envs/zhaw/lib/python3.11/site-packages/pandas/core/series.py:6437\u001B[0m, in \u001B[0;36mSeries._reduce\u001B[0;34m(self, op, name, axis, skipna, numeric_only, filter_type, **kwds)\u001B[0m\n\u001B[1;32m   6433\u001B[0m     \u001B[38;5;28;01mraise\u001B[39;00m \u001B[38;5;167;01mTypeError\u001B[39;00m(\n\u001B[1;32m   6434\u001B[0m         \u001B[38;5;124mf\u001B[39m\u001B[38;5;124m\"\u001B[39m\u001B[38;5;124mSeries.\u001B[39m\u001B[38;5;132;01m{\u001B[39;00mname\u001B[38;5;132;01m}\u001B[39;00m\u001B[38;5;124m does not allow \u001B[39m\u001B[38;5;132;01m{\u001B[39;00mkwd_name\u001B[38;5;132;01m}\u001B[39;00m\u001B[38;5;124m=\u001B[39m\u001B[38;5;132;01m{\u001B[39;00mnumeric_only\u001B[38;5;132;01m}\u001B[39;00m\u001B[38;5;124m \u001B[39m\u001B[38;5;124m\"\u001B[39m\n\u001B[1;32m   6435\u001B[0m         \u001B[38;5;124m\"\u001B[39m\u001B[38;5;124mwith non-numeric dtypes.\u001B[39m\u001B[38;5;124m\"\u001B[39m\n\u001B[1;32m   6436\u001B[0m     )\n\u001B[0;32m-> 6437\u001B[0m \u001B[38;5;28;01mreturn\u001B[39;00m op(delegate, skipna\u001B[38;5;241m=\u001B[39mskipna, \u001B[38;5;241m*\u001B[39m\u001B[38;5;241m*\u001B[39mkwds)\n",
      "File \u001B[0;32m~/miniforge3/envs/zhaw/lib/python3.11/site-packages/pandas/core/nanops.py:147\u001B[0m, in \u001B[0;36mbottleneck_switch.__call__.<locals>.f\u001B[0;34m(values, axis, skipna, **kwds)\u001B[0m\n\u001B[1;32m    146\u001B[0m \u001B[38;5;28;01melse\u001B[39;00m:\n\u001B[0;32m--> 147\u001B[0m     result \u001B[38;5;241m=\u001B[39m alt(values, axis\u001B[38;5;241m=\u001B[39maxis, skipna\u001B[38;5;241m=\u001B[39mskipna, \u001B[38;5;241m*\u001B[39m\u001B[38;5;241m*\u001B[39mkwds)\n\u001B[1;32m    149\u001B[0m \u001B[38;5;28;01mreturn\u001B[39;00m result\n",
      "File \u001B[0;32m~/miniforge3/envs/zhaw/lib/python3.11/site-packages/pandas/core/nanops.py:404\u001B[0m, in \u001B[0;36m_datetimelike_compat.<locals>.new_func\u001B[0;34m(values, axis, skipna, mask, **kwargs)\u001B[0m\n\u001B[1;32m    402\u001B[0m     mask \u001B[38;5;241m=\u001B[39m isna(values)\n\u001B[0;32m--> 404\u001B[0m result \u001B[38;5;241m=\u001B[39m func(values, axis\u001B[38;5;241m=\u001B[39maxis, skipna\u001B[38;5;241m=\u001B[39mskipna, mask\u001B[38;5;241m=\u001B[39mmask, \u001B[38;5;241m*\u001B[39m\u001B[38;5;241m*\u001B[39mkwargs)\n\u001B[1;32m    406\u001B[0m \u001B[38;5;28;01mif\u001B[39;00m datetimelike:\n",
      "File \u001B[0;32m~/miniforge3/envs/zhaw/lib/python3.11/site-packages/pandas/core/nanops.py:719\u001B[0m, in \u001B[0;36mnanmean\u001B[0;34m(values, axis, skipna, mask)\u001B[0m\n\u001B[1;32m    718\u001B[0m count \u001B[38;5;241m=\u001B[39m _get_counts(values\u001B[38;5;241m.\u001B[39mshape, mask, axis, dtype\u001B[38;5;241m=\u001B[39mdtype_count)\n\u001B[0;32m--> 719\u001B[0m the_sum \u001B[38;5;241m=\u001B[39m values\u001B[38;5;241m.\u001B[39msum(axis, dtype\u001B[38;5;241m=\u001B[39mdtype_sum)\n\u001B[1;32m    720\u001B[0m the_sum \u001B[38;5;241m=\u001B[39m _ensure_numeric(the_sum)\n",
      "File \u001B[0;32m~/miniforge3/envs/zhaw/lib/python3.11/site-packages/numpy/core/_methods.py:49\u001B[0m, in \u001B[0;36m_sum\u001B[0;34m(a, axis, dtype, out, keepdims, initial, where)\u001B[0m\n\u001B[1;32m     47\u001B[0m \u001B[38;5;28;01mdef\u001B[39;00m \u001B[38;5;21m_sum\u001B[39m(a, axis\u001B[38;5;241m=\u001B[39m\u001B[38;5;28;01mNone\u001B[39;00m, dtype\u001B[38;5;241m=\u001B[39m\u001B[38;5;28;01mNone\u001B[39;00m, out\u001B[38;5;241m=\u001B[39m\u001B[38;5;28;01mNone\u001B[39;00m, keepdims\u001B[38;5;241m=\u001B[39m\u001B[38;5;28;01mFalse\u001B[39;00m,\n\u001B[1;32m     48\u001B[0m          initial\u001B[38;5;241m=\u001B[39m_NoValue, where\u001B[38;5;241m=\u001B[39m\u001B[38;5;28;01mTrue\u001B[39;00m):\n\u001B[0;32m---> 49\u001B[0m     \u001B[38;5;28;01mreturn\u001B[39;00m umr_sum(a, axis, dtype, out, keepdims, initial, where)\n",
      "\u001B[0;31mTypeError\u001B[0m: can only concatenate str (not \"int\") to str",
      "\nThe above exception was the direct cause of the following exception:\n",
      "\u001B[0;31mTypeError\u001B[0m                                 Traceback (most recent call last)",
      "Cell \u001B[0;32mIn[60], line 1\u001B[0m\n\u001B[0;32m----> 1\u001B[0m sex_class\u001B[38;5;241m.\u001B[39mmean()[[\u001B[38;5;124m'\u001B[39m\u001B[38;5;124msurvived\u001B[39m\u001B[38;5;124m'\u001B[39m]]\n",
      "File \u001B[0;32m~/miniforge3/envs/zhaw/lib/python3.11/site-packages/pandas/core/groupby/groupby.py:2452\u001B[0m, in \u001B[0;36mGroupBy.mean\u001B[0;34m(self, numeric_only, engine, engine_kwargs)\u001B[0m\n\u001B[1;32m   2445\u001B[0m     \u001B[38;5;28;01mreturn\u001B[39;00m \u001B[38;5;28mself\u001B[39m\u001B[38;5;241m.\u001B[39m_numba_agg_general(\n\u001B[1;32m   2446\u001B[0m         grouped_mean,\n\u001B[1;32m   2447\u001B[0m         executor\u001B[38;5;241m.\u001B[39mfloat_dtype_mapping,\n\u001B[1;32m   2448\u001B[0m         engine_kwargs,\n\u001B[1;32m   2449\u001B[0m         min_periods\u001B[38;5;241m=\u001B[39m\u001B[38;5;241m0\u001B[39m,\n\u001B[1;32m   2450\u001B[0m     )\n\u001B[1;32m   2451\u001B[0m \u001B[38;5;28;01melse\u001B[39;00m:\n\u001B[0;32m-> 2452\u001B[0m     result \u001B[38;5;241m=\u001B[39m \u001B[38;5;28mself\u001B[39m\u001B[38;5;241m.\u001B[39m_cython_agg_general(\n\u001B[1;32m   2453\u001B[0m         \u001B[38;5;124m\"\u001B[39m\u001B[38;5;124mmean\u001B[39m\u001B[38;5;124m\"\u001B[39m,\n\u001B[1;32m   2454\u001B[0m         alt\u001B[38;5;241m=\u001B[39m\u001B[38;5;28;01mlambda\u001B[39;00m x: Series(x, copy\u001B[38;5;241m=\u001B[39m\u001B[38;5;28;01mFalse\u001B[39;00m)\u001B[38;5;241m.\u001B[39mmean(numeric_only\u001B[38;5;241m=\u001B[39mnumeric_only),\n\u001B[1;32m   2455\u001B[0m         numeric_only\u001B[38;5;241m=\u001B[39mnumeric_only,\n\u001B[1;32m   2456\u001B[0m     )\n\u001B[1;32m   2457\u001B[0m     \u001B[38;5;28;01mreturn\u001B[39;00m result\u001B[38;5;241m.\u001B[39m__finalize__(\u001B[38;5;28mself\u001B[39m\u001B[38;5;241m.\u001B[39mobj, method\u001B[38;5;241m=\u001B[39m\u001B[38;5;124m\"\u001B[39m\u001B[38;5;124mgroupby\u001B[39m\u001B[38;5;124m\"\u001B[39m)\n",
      "File \u001B[0;32m~/miniforge3/envs/zhaw/lib/python3.11/site-packages/pandas/core/groupby/groupby.py:1998\u001B[0m, in \u001B[0;36mGroupBy._cython_agg_general\u001B[0;34m(self, how, alt, numeric_only, min_count, **kwargs)\u001B[0m\n\u001B[1;32m   1995\u001B[0m     result \u001B[38;5;241m=\u001B[39m \u001B[38;5;28mself\u001B[39m\u001B[38;5;241m.\u001B[39m_agg_py_fallback(how, values, ndim\u001B[38;5;241m=\u001B[39mdata\u001B[38;5;241m.\u001B[39mndim, alt\u001B[38;5;241m=\u001B[39malt)\n\u001B[1;32m   1996\u001B[0m     \u001B[38;5;28;01mreturn\u001B[39;00m result\n\u001B[0;32m-> 1998\u001B[0m new_mgr \u001B[38;5;241m=\u001B[39m data\u001B[38;5;241m.\u001B[39mgrouped_reduce(array_func)\n\u001B[1;32m   1999\u001B[0m res \u001B[38;5;241m=\u001B[39m \u001B[38;5;28mself\u001B[39m\u001B[38;5;241m.\u001B[39m_wrap_agged_manager(new_mgr)\n\u001B[1;32m   2000\u001B[0m \u001B[38;5;28;01mif\u001B[39;00m how \u001B[38;5;129;01min\u001B[39;00m [\u001B[38;5;124m\"\u001B[39m\u001B[38;5;124midxmin\u001B[39m\u001B[38;5;124m\"\u001B[39m, \u001B[38;5;124m\"\u001B[39m\u001B[38;5;124midxmax\u001B[39m\u001B[38;5;124m\"\u001B[39m]:\n",
      "File \u001B[0;32m~/miniforge3/envs/zhaw/lib/python3.11/site-packages/pandas/core/internals/managers.py:1470\u001B[0m, in \u001B[0;36mBlockManager.grouped_reduce\u001B[0;34m(self, func)\u001B[0m\n\u001B[1;32m   1466\u001B[0m \u001B[38;5;28;01mif\u001B[39;00m blk\u001B[38;5;241m.\u001B[39mis_object:\n\u001B[1;32m   1467\u001B[0m     \u001B[38;5;66;03m# split on object-dtype blocks bc some columns may raise\u001B[39;00m\n\u001B[1;32m   1468\u001B[0m     \u001B[38;5;66;03m#  while others do not.\u001B[39;00m\n\u001B[1;32m   1469\u001B[0m     \u001B[38;5;28;01mfor\u001B[39;00m sb \u001B[38;5;129;01min\u001B[39;00m blk\u001B[38;5;241m.\u001B[39m_split():\n\u001B[0;32m-> 1470\u001B[0m         applied \u001B[38;5;241m=\u001B[39m sb\u001B[38;5;241m.\u001B[39mapply(func)\n\u001B[1;32m   1471\u001B[0m         result_blocks \u001B[38;5;241m=\u001B[39m extend_blocks(applied, result_blocks)\n\u001B[1;32m   1472\u001B[0m \u001B[38;5;28;01melse\u001B[39;00m:\n",
      "File \u001B[0;32m~/miniforge3/envs/zhaw/lib/python3.11/site-packages/pandas/core/internals/blocks.py:393\u001B[0m, in \u001B[0;36mBlock.apply\u001B[0;34m(self, func, **kwargs)\u001B[0m\n\u001B[1;32m    387\u001B[0m \u001B[38;5;129m@final\u001B[39m\n\u001B[1;32m    388\u001B[0m \u001B[38;5;28;01mdef\u001B[39;00m \u001B[38;5;21mapply\u001B[39m(\u001B[38;5;28mself\u001B[39m, func, \u001B[38;5;241m*\u001B[39m\u001B[38;5;241m*\u001B[39mkwargs) \u001B[38;5;241m-\u001B[39m\u001B[38;5;241m>\u001B[39m \u001B[38;5;28mlist\u001B[39m[Block]:\n\u001B[1;32m    389\u001B[0m \u001B[38;5;250m    \u001B[39m\u001B[38;5;124;03m\"\"\"\u001B[39;00m\n\u001B[1;32m    390\u001B[0m \u001B[38;5;124;03m    apply the function to my values; return a block if we are not\u001B[39;00m\n\u001B[1;32m    391\u001B[0m \u001B[38;5;124;03m    one\u001B[39;00m\n\u001B[1;32m    392\u001B[0m \u001B[38;5;124;03m    \"\"\"\u001B[39;00m\n\u001B[0;32m--> 393\u001B[0m     result \u001B[38;5;241m=\u001B[39m func(\u001B[38;5;28mself\u001B[39m\u001B[38;5;241m.\u001B[39mvalues, \u001B[38;5;241m*\u001B[39m\u001B[38;5;241m*\u001B[39mkwargs)\n\u001B[1;32m    395\u001B[0m     result \u001B[38;5;241m=\u001B[39m maybe_coerce_values(result)\n\u001B[1;32m    396\u001B[0m     \u001B[38;5;28;01mreturn\u001B[39;00m \u001B[38;5;28mself\u001B[39m\u001B[38;5;241m.\u001B[39m_split_op_result(result)\n",
      "File \u001B[0;32m~/miniforge3/envs/zhaw/lib/python3.11/site-packages/pandas/core/groupby/groupby.py:1995\u001B[0m, in \u001B[0;36mGroupBy._cython_agg_general.<locals>.array_func\u001B[0;34m(values)\u001B[0m\n\u001B[1;32m   1992\u001B[0m     \u001B[38;5;28;01mreturn\u001B[39;00m result\n\u001B[1;32m   1994\u001B[0m \u001B[38;5;28;01massert\u001B[39;00m alt \u001B[38;5;129;01mis\u001B[39;00m \u001B[38;5;129;01mnot\u001B[39;00m \u001B[38;5;28;01mNone\u001B[39;00m\n\u001B[0;32m-> 1995\u001B[0m result \u001B[38;5;241m=\u001B[39m \u001B[38;5;28mself\u001B[39m\u001B[38;5;241m.\u001B[39m_agg_py_fallback(how, values, ndim\u001B[38;5;241m=\u001B[39mdata\u001B[38;5;241m.\u001B[39mndim, alt\u001B[38;5;241m=\u001B[39malt)\n\u001B[1;32m   1996\u001B[0m \u001B[38;5;28;01mreturn\u001B[39;00m result\n",
      "File \u001B[0;32m~/miniforge3/envs/zhaw/lib/python3.11/site-packages/pandas/core/groupby/groupby.py:1946\u001B[0m, in \u001B[0;36mGroupBy._agg_py_fallback\u001B[0;34m(self, how, values, ndim, alt)\u001B[0m\n\u001B[1;32m   1944\u001B[0m     msg \u001B[38;5;241m=\u001B[39m \u001B[38;5;124mf\u001B[39m\u001B[38;5;124m\"\u001B[39m\u001B[38;5;124magg function failed [how->\u001B[39m\u001B[38;5;132;01m{\u001B[39;00mhow\u001B[38;5;132;01m}\u001B[39;00m\u001B[38;5;124m,dtype->\u001B[39m\u001B[38;5;132;01m{\u001B[39;00mser\u001B[38;5;241m.\u001B[39mdtype\u001B[38;5;132;01m}\u001B[39;00m\u001B[38;5;124m]\u001B[39m\u001B[38;5;124m\"\u001B[39m\n\u001B[1;32m   1945\u001B[0m     \u001B[38;5;66;03m# preserve the kind of exception that raised\u001B[39;00m\n\u001B[0;32m-> 1946\u001B[0m     \u001B[38;5;28;01mraise\u001B[39;00m \u001B[38;5;28mtype\u001B[39m(err)(msg) \u001B[38;5;28;01mfrom\u001B[39;00m \u001B[38;5;21;01merr\u001B[39;00m\n\u001B[1;32m   1948\u001B[0m \u001B[38;5;28;01mif\u001B[39;00m ser\u001B[38;5;241m.\u001B[39mdtype \u001B[38;5;241m==\u001B[39m \u001B[38;5;28mobject\u001B[39m:\n\u001B[1;32m   1949\u001B[0m     res_values \u001B[38;5;241m=\u001B[39m res_values\u001B[38;5;241m.\u001B[39mastype(\u001B[38;5;28mobject\u001B[39m, copy\u001B[38;5;241m=\u001B[39m\u001B[38;5;28;01mFalse\u001B[39;00m)\n",
      "\u001B[0;31mTypeError\u001B[0m: agg function failed [how->mean,dtype->object]"
     ]
    }
   ],
   "source": [
    "sex_class.mean()[['survived']]"
   ]
  },
  {
   "cell_type": "markdown",
   "metadata": {
    "id": "_Op9ltfW40h2"
   },
   "source": [
    "#### Of the females who were in first class, count the number from each embarking town"
   ]
  },
  {
   "cell_type": "code",
   "execution_count": 66,
   "metadata": {
    "id": "B7r77wIV40h3",
    "outputId": "21dc298b-49d8-422e-8501-6b5c6a7dd1d7",
    "colab": {
     "base_uri": "https://localhost:8080/",
     "height": 175
    },
    "ExecuteTime": {
     "end_time": "2024-02-23T12:02:17.430206Z",
     "start_time": "2024-02-23T12:02:17.381644Z"
    }
   },
   "outputs": [
    {
     "data": {
      "text/plain": "attributes   survived  sex  age  fare  embarked  class  who  deck\nembark_town                                                      \nCherbourg          43   43   38    43        43     43   43    35\nQueenstown          1    1    1     1         1      1    1     1\nSouthampton        48   48   44    48        48     48   48    43",
      "text/html": "<div>\n<style scoped>\n    .dataframe tbody tr th:only-of-type {\n        vertical-align: middle;\n    }\n\n    .dataframe tbody tr th {\n        vertical-align: top;\n    }\n\n    .dataframe thead th {\n        text-align: right;\n    }\n</style>\n<table border=\"1\" class=\"dataframe\">\n  <thead>\n    <tr style=\"text-align: right;\">\n      <th>attributes</th>\n      <th>survived</th>\n      <th>sex</th>\n      <th>age</th>\n      <th>fare</th>\n      <th>embarked</th>\n      <th>class</th>\n      <th>who</th>\n      <th>deck</th>\n    </tr>\n    <tr>\n      <th>embark_town</th>\n      <th></th>\n      <th></th>\n      <th></th>\n      <th></th>\n      <th></th>\n      <th></th>\n      <th></th>\n      <th></th>\n    </tr>\n  </thead>\n  <tbody>\n    <tr>\n      <th>Cherbourg</th>\n      <td>43</td>\n      <td>43</td>\n      <td>38</td>\n      <td>43</td>\n      <td>43</td>\n      <td>43</td>\n      <td>43</td>\n      <td>35</td>\n    </tr>\n    <tr>\n      <th>Queenstown</th>\n      <td>1</td>\n      <td>1</td>\n      <td>1</td>\n      <td>1</td>\n      <td>1</td>\n      <td>1</td>\n      <td>1</td>\n      <td>1</td>\n    </tr>\n    <tr>\n      <th>Southampton</th>\n      <td>48</td>\n      <td>48</td>\n      <td>44</td>\n      <td>48</td>\n      <td>48</td>\n      <td>48</td>\n      <td>48</td>\n      <td>43</td>\n    </tr>\n  </tbody>\n</table>\n</div>"
     },
     "execution_count": 66,
     "metadata": {},
     "output_type": "execute_result"
    }
   ],
   "source": [
    "sex_class.get_group(('female', 'First')).groupby('embark_town').count()"
   ]
  },
  {
   "cell_type": "markdown",
   "metadata": {
    "id": "3HOP3qJI40h3"
   },
   "source": [
    "Since `count` counts non-missing data, we're really interested in the maximum value for each row, which we can obtain directly:"
   ]
  },
  {
   "cell_type": "code",
   "execution_count": 67,
   "metadata": {
    "id": "HUO-_tQF40h3",
    "outputId": "31b7f7c4-60c2-4a4b-c183-16bf0b345ebb",
    "colab": {
     "base_uri": "https://localhost:8080/"
    },
    "ExecuteTime": {
     "end_time": "2024-02-23T12:02:26.178511Z",
     "start_time": "2024-02-23T12:02:26.092580Z"
    }
   },
   "outputs": [
    {
     "data": {
      "text/plain": "embark_town\nCherbourg      43\nQueenstown      1\nSouthampton    48\ndtype: int64"
     },
     "execution_count": 67,
     "metadata": {},
     "output_type": "execute_result"
    }
   ],
   "source": [
    "sex_class.get_group(('female', 'First')).groupby('embark_town').count().max('columns')"
   ]
  },
  {
   "cell_type": "markdown",
   "metadata": {
    "id": "t0w8lEPF40h3"
   },
   "source": [
    "#### Cross-tabulation"
   ]
  },
  {
   "cell_type": "code",
   "execution_count": 68,
   "metadata": {
    "id": "TUA1Hafz40h3",
    "outputId": "1ce770b1-71ca-4952-ed6c-3d5f4e28edb7",
    "colab": {
     "base_uri": "https://localhost:8080/",
     "height": 143
    },
    "ExecuteTime": {
     "end_time": "2024-02-23T12:02:32.528299Z",
     "start_time": "2024-02-23T12:02:32.490571Z"
    }
   },
   "outputs": [
    {
     "data": {
      "text/plain": "class     First  Second  Third\nsurvived                      \n0            80      97    372\n1           136      87    119",
      "text/html": "<div>\n<style scoped>\n    .dataframe tbody tr th:only-of-type {\n        vertical-align: middle;\n    }\n\n    .dataframe tbody tr th {\n        vertical-align: top;\n    }\n\n    .dataframe thead th {\n        text-align: right;\n    }\n</style>\n<table border=\"1\" class=\"dataframe\">\n  <thead>\n    <tr style=\"text-align: right;\">\n      <th>class</th>\n      <th>First</th>\n      <th>Second</th>\n      <th>Third</th>\n    </tr>\n    <tr>\n      <th>survived</th>\n      <th></th>\n      <th></th>\n      <th></th>\n    </tr>\n  </thead>\n  <tbody>\n    <tr>\n      <th>0</th>\n      <td>80</td>\n      <td>97</td>\n      <td>372</td>\n    </tr>\n    <tr>\n      <th>1</th>\n      <td>136</td>\n      <td>87</td>\n      <td>119</td>\n    </tr>\n  </tbody>\n</table>\n</div>"
     },
     "execution_count": 68,
     "metadata": {},
     "output_type": "execute_result"
    }
   ],
   "source": [
    "pd.crosstab(titanic.survived, titanic['class'])"
   ]
  },
  {
   "cell_type": "markdown",
   "metadata": {
    "id": "JxqI9PaU40h3"
   },
   "source": [
    "#### We can also get multiple summaries at the same time\n",
    "\n",
    "The `agg` method is the most flexible, as it allows us to specify directly which functions we want to call, and where:"
   ]
  },
  {
   "cell_type": "code",
   "execution_count": 69,
   "metadata": {
    "id": "hpB_REhc40h3",
    "ExecuteTime": {
     "end_time": "2024-02-23T12:04:01.248270Z",
     "start_time": "2024-02-23T12:04:01.225898Z"
    }
   },
   "outputs": [],
   "source": [
    "def my_func(x):\n",
    "    return np.max(x)"
   ]
  },
  {
   "cell_type": "code",
   "execution_count": 70,
   "metadata": {
    "id": "w5CW-AlI40h3",
    "outputId": "74e4910c-548c-4d81-d648-c117aa938e08",
    "colab": {
     "base_uri": "https://localhost:8080/",
     "height": 206
    },
    "ExecuteTime": {
     "end_time": "2024-02-23T12:04:04.728381Z",
     "start_time": "2024-02-23T12:04:04.697809Z"
    }
   },
   "outputs": [
    {
     "name": "stderr",
     "output_type": "stream",
     "text": [
      "/var/folders/g8/ts4wj2w128q2scsf9ttnhwq40000gn/T/ipykernel_17573/215386588.py:5: FutureWarning: The provided callable <built-in function sum> is currently using SeriesGroupBy.sum. In a future version of pandas, the provided callable will be used directly. To keep current behavior pass the string \"sum\" instead.\n",
      "  sex_class.get_group(('female', 'First')).groupby('embark_town').agg(mapped_funcs)\n"
     ]
    },
    {
     "data": {
      "text/plain": "attributes  embarked        age                survived\n               count       mean median my_func      sum\nembark_town                                            \nCherbourg         43  36.052632   37.0    60.0       42\nQueenstown         1  33.000000   33.0    33.0        1\nSouthampton       48  32.704545   33.0    63.0       46",
      "text/html": "<div>\n<style scoped>\n    .dataframe tbody tr th:only-of-type {\n        vertical-align: middle;\n    }\n\n    .dataframe tbody tr th {\n        vertical-align: top;\n    }\n\n    .dataframe thead tr th {\n        text-align: left;\n    }\n\n    .dataframe thead tr:last-of-type th {\n        text-align: right;\n    }\n</style>\n<table border=\"1\" class=\"dataframe\">\n  <thead>\n    <tr>\n      <th>attributes</th>\n      <th>embarked</th>\n      <th colspan=\"3\" halign=\"left\">age</th>\n      <th>survived</th>\n    </tr>\n    <tr>\n      <th></th>\n      <th>count</th>\n      <th>mean</th>\n      <th>median</th>\n      <th>my_func</th>\n      <th>sum</th>\n    </tr>\n    <tr>\n      <th>embark_town</th>\n      <th></th>\n      <th></th>\n      <th></th>\n      <th></th>\n      <th></th>\n    </tr>\n  </thead>\n  <tbody>\n    <tr>\n      <th>Cherbourg</th>\n      <td>43</td>\n      <td>36.052632</td>\n      <td>37.0</td>\n      <td>60.0</td>\n      <td>42</td>\n    </tr>\n    <tr>\n      <th>Queenstown</th>\n      <td>1</td>\n      <td>33.000000</td>\n      <td>33.0</td>\n      <td>33.0</td>\n      <td>1</td>\n    </tr>\n    <tr>\n      <th>Southampton</th>\n      <td>48</td>\n      <td>32.704545</td>\n      <td>33.0</td>\n      <td>63.0</td>\n      <td>46</td>\n    </tr>\n  </tbody>\n</table>\n</div>"
     },
     "execution_count": 70,
     "metadata": {},
     "output_type": "execute_result"
    }
   ],
   "source": [
    "mapped_funcs = {'embarked': 'count',\n",
    "                'age': ('mean', 'median', my_func),\n",
    "                'survived': sum}\n",
    "\n",
    "sex_class.get_group(('female', 'First')).groupby('embark_town').agg(mapped_funcs)"
   ]
  },
  {
   "cell_type": "code",
   "outputs": [],
   "source": [],
   "metadata": {
    "collapsed": false
   }
  }
 ],
 "metadata": {
  "kernelspec": {
   "display_name": "Python 3",
   "language": "python",
   "name": "python3"
  },
  "language_info": {
   "codemirror_mode": {
    "name": "ipython",
    "version": 3
   },
   "file_extension": ".py",
   "mimetype": "text/x-python",
   "name": "python",
   "nbconvert_exporter": "python",
   "pygments_lexer": "ipython3",
   "version": "3.7.4"
  },
  "colab": {
   "provenance": []
  }
 },
 "nbformat": 4,
 "nbformat_minor": 0
}
