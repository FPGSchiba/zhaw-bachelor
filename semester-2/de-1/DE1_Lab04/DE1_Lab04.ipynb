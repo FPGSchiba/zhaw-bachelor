{
 "cells": [
  {
   "cell_type": "markdown",
   "metadata": {},
   "source": [
    "# Data Engineering 1: Lab 04\n",
    "---------------"
   ]
  },
  {
   "cell_type": "markdown",
   "metadata": {},
   "source": [
    "### Task 01: Read the customers."
   ]
  },
  {
   "cell_type": "markdown",
   "metadata": {},
   "source": [
    "##### a) Create a DataFrame called customers with the customers.csv file. Print the count of customers and 5 entries to have a look at the data."
   ]
  },
  {
   "cell_type": "code",
   "outputs": [
    {
     "name": "stderr",
     "output_type": "stream",
     "text": [
      "/var/folders/g8/ts4wj2w128q2scsf9ttnhwq40000gn/T/ipykernel_30117/616077626.py:1: DeprecationWarning: \n",
      "Pyarrow will become a required dependency of pandas in the next major release of pandas (pandas 3.0),\n",
      "(to allow more performant data types, such as the Arrow string type, and better interoperability with other libraries)\n",
      "but was not found to be installed on your system.\n",
      "If this would cause problems for you,\n",
      "please provide us feedback at https://github.com/pandas-dev/pandas/issues/54466\n",
      "        \n",
      "  import pandas as pd\n"
     ]
    },
    {
     "data": {
      "text/plain": "      id                name  status                bdate          city canton\n0      1        Lesia Joiner  silver  1985-07-11 21:56:26       Buelach   todo\n1      2        Michael Berg    gold  1962-08-03 21:29:12    Frauenfeld   todo\n2      3      Stephen Vaughn  silver  1983-03-11 11:05:41    St. Gallen   todo\n3      4  Cynthia Conigliaro  bronze  1987-09-30 10:22:44        Zürich   todo\n4      5     Beverly Heifner  bronze  1998-01-11 14:13:39         Uster   todo\n..   ...                 ...     ...                  ...           ...    ...\n994  995    Adelle Blanchard    gold  1970-01-10 01:02:49     St Gallen   todo\n995  996         Randy Ramon  silver  1990-02-08 03:56:18        Gossau   todo\n996  997          Lori Reyes  bronze  2001-05-31 15:39:19        Zürich   todo\n997  998      Erica Martinez    gold  1971-05-24 09:04:24  Sankt Gallen   todo\n998  999    Thomas Coppenger  silver  1984-05-01 10:54:29    Romanshorn   todo\n\n[999 rows x 6 columns]",
      "text/html": "<div>\n<style scoped>\n    .dataframe tbody tr th:only-of-type {\n        vertical-align: middle;\n    }\n\n    .dataframe tbody tr th {\n        vertical-align: top;\n    }\n\n    .dataframe thead th {\n        text-align: right;\n    }\n</style>\n<table border=\"1\" class=\"dataframe\">\n  <thead>\n    <tr style=\"text-align: right;\">\n      <th></th>\n      <th>id</th>\n      <th>name</th>\n      <th>status</th>\n      <th>bdate</th>\n      <th>city</th>\n      <th>canton</th>\n    </tr>\n  </thead>\n  <tbody>\n    <tr>\n      <th>0</th>\n      <td>1</td>\n      <td>Lesia Joiner</td>\n      <td>silver</td>\n      <td>1985-07-11 21:56:26</td>\n      <td>Buelach</td>\n      <td>todo</td>\n    </tr>\n    <tr>\n      <th>1</th>\n      <td>2</td>\n      <td>Michael Berg</td>\n      <td>gold</td>\n      <td>1962-08-03 21:29:12</td>\n      <td>Frauenfeld</td>\n      <td>todo</td>\n    </tr>\n    <tr>\n      <th>2</th>\n      <td>3</td>\n      <td>Stephen Vaughn</td>\n      <td>silver</td>\n      <td>1983-03-11 11:05:41</td>\n      <td>St. Gallen</td>\n      <td>todo</td>\n    </tr>\n    <tr>\n      <th>3</th>\n      <td>4</td>\n      <td>Cynthia Conigliaro</td>\n      <td>bronze</td>\n      <td>1987-09-30 10:22:44</td>\n      <td>Zürich</td>\n      <td>todo</td>\n    </tr>\n    <tr>\n      <th>4</th>\n      <td>5</td>\n      <td>Beverly Heifner</td>\n      <td>bronze</td>\n      <td>1998-01-11 14:13:39</td>\n      <td>Uster</td>\n      <td>todo</td>\n    </tr>\n    <tr>\n      <th>...</th>\n      <td>...</td>\n      <td>...</td>\n      <td>...</td>\n      <td>...</td>\n      <td>...</td>\n      <td>...</td>\n    </tr>\n    <tr>\n      <th>994</th>\n      <td>995</td>\n      <td>Adelle Blanchard</td>\n      <td>gold</td>\n      <td>1970-01-10 01:02:49</td>\n      <td>St Gallen</td>\n      <td>todo</td>\n    </tr>\n    <tr>\n      <th>995</th>\n      <td>996</td>\n      <td>Randy Ramon</td>\n      <td>silver</td>\n      <td>1990-02-08 03:56:18</td>\n      <td>Gossau</td>\n      <td>todo</td>\n    </tr>\n    <tr>\n      <th>996</th>\n      <td>997</td>\n      <td>Lori Reyes</td>\n      <td>bronze</td>\n      <td>2001-05-31 15:39:19</td>\n      <td>Zürich</td>\n      <td>todo</td>\n    </tr>\n    <tr>\n      <th>997</th>\n      <td>998</td>\n      <td>Erica Martinez</td>\n      <td>gold</td>\n      <td>1971-05-24 09:04:24</td>\n      <td>Sankt Gallen</td>\n      <td>todo</td>\n    </tr>\n    <tr>\n      <th>998</th>\n      <td>999</td>\n      <td>Thomas Coppenger</td>\n      <td>silver</td>\n      <td>1984-05-01 10:54:29</td>\n      <td>Romanshorn</td>\n      <td>todo</td>\n    </tr>\n  </tbody>\n</table>\n<p>999 rows × 6 columns</p>\n</div>"
     },
     "execution_count": 1,
     "metadata": {},
     "output_type": "execute_result"
    }
   ],
   "source": [
    "import pandas as pd\n",
    "        \n",
    "customers = pd.read_csv('DE1_Lab04_customers.csv')\n",
    "customers"
   ],
   "metadata": {
    "collapsed": false,
    "ExecuteTime": {
     "end_time": "2024-03-14T10:43:46.833933Z",
     "start_time": "2024-03-14T10:43:45.644380Z"
    }
   },
   "execution_count": 1
  },
  {
   "cell_type": "markdown",
   "metadata": {},
   "source": [
    "##### b) Get the count of customers per each status."
   ]
  },
  {
   "cell_type": "code",
   "execution_count": 8,
   "metadata": {
    "ExecuteTime": {
     "end_time": "2024-03-14T10:46:39.268644Z",
     "start_time": "2024-03-14T10:46:39.263059Z"
    }
   },
   "outputs": [
    {
     "data": {
      "text/plain": "status\nbronze    326\ngold      331\nsilver    342\nName: id, dtype: int64"
     },
     "execution_count": 8,
     "metadata": {},
     "output_type": "execute_result"
    }
   ],
   "source": [
    "customers.groupby('status').count()['id']"
   ]
  },
  {
   "cell_type": "markdown",
   "metadata": {},
   "source": [
    "##### c) Get the count of customers per each city and check the result. Clean the messy entries and print the result again."
   ]
  },
  {
   "cell_type": "code",
   "execution_count": 10,
   "metadata": {
    "ExecuteTime": {
     "end_time": "2024-03-14T10:47:26.937796Z",
     "start_time": "2024-03-14T10:47:26.934066Z"
    }
   },
   "outputs": [
    {
     "data": {
      "text/plain": "city\nBuelach         66\nBülach          61\nFrauenfeld      59\nGossau          98\nKreuzlingen     74\nRomanshorn      65\nSankt Gallen    86\nSt Gallen       74\nSt. Gallen      79\nUster           65\nWil             69\nWinterthur      77\nZuerich         62\nZürich          64\nName: name, dtype: int64"
     },
     "execution_count": 10,
     "metadata": {},
     "output_type": "execute_result"
    }
   ],
   "source": [
    "customers.groupby('city').count()['name']"
   ]
  },
  {
   "cell_type": "code",
   "execution_count": 12,
   "metadata": {
    "ExecuteTime": {
     "end_time": "2024-03-14T10:50:28.929130Z",
     "start_time": "2024-03-14T10:50:28.925927Z"
    }
   },
   "outputs": [],
   "source": [
    "customers.city = customers.city.str.replace(r\"ü\", \"ue\", regex=True)\n",
    "customers.city = customers.city.str.replace(r\"Sankt\", \"St.\", regex=True)\n",
    "customers.city = customers.city.str.replace(r'St\\s', \"St. \", regex=True)"
   ]
  },
  {
   "cell_type": "code",
   "execution_count": 13,
   "metadata": {
    "ExecuteTime": {
     "end_time": "2024-03-14T10:50:31.034535Z",
     "start_time": "2024-03-14T10:50:31.028483Z"
    }
   },
   "outputs": [
    {
     "data": {
      "text/plain": "city\nBuelach        127\nFrauenfeld      59\nGossau          98\nKreuzlingen     74\nRomanshorn      65\nSt. Gallen     239\nUster           65\nWil             69\nWinterthur      77\nZuerich        126\nName: name, dtype: int64"
     },
     "execution_count": 13,
     "metadata": {},
     "output_type": "execute_result"
    }
   ],
   "source": [
    "customers.groupby('city').count()['name']"
   ]
  },
  {
   "cell_type": "markdown",
   "metadata": {},
   "source": [
    "##### d) Add the canton information to the entries and get the count of customers per each status and canton."
   ]
  },
  {
   "cell_type": "code",
   "execution_count": 15,
   "metadata": {
    "ExecuteTime": {
     "end_time": "2024-03-14T10:56:29.383181Z",
     "start_time": "2024-03-14T10:56:29.375768Z"
    }
   },
   "outputs": [],
   "source": [
    "import numpy as np\n",
    "conditions = [\n",
    "    (customers['city'] == 'St. Gallen') | (customers['city'] == 'Wil'),\n",
    "    (customers['city'] == 'Kreuzlingen') | (customers['city'] == 'Romanshorn') | (customers['city'] == 'Frauenfeld'),\n",
    "    (customers['city'] == 'Buelach') | (customers['city'] == 'Zuerich') | (customers['city'] == 'Gossau') | (customers['city'] == 'Winterthur') | (customers['city'] == 'Uster')]\n",
    "choices = ['St. Gallen', 'Thurgau', 'Zuerich']\n",
    "customers['canton'] = np.select(conditions, choices, default='todo')"
   ]
  },
  {
   "cell_type": "code",
   "execution_count": 17,
   "metadata": {
    "ExecuteTime": {
     "end_time": "2024-03-14T10:56:47.342540Z",
     "start_time": "2024-03-14T10:56:47.339938Z"
    }
   },
   "outputs": [
    {
     "data": {
      "text/plain": "array(['Zuerich', 'Thurgau', 'St. Gallen'], dtype=object)"
     },
     "execution_count": 17,
     "metadata": {},
     "output_type": "execute_result"
    }
   ],
   "source": [
    "customers.canton.unique()"
   ]
  },
  {
   "cell_type": "markdown",
   "metadata": {},
   "source": [
    "### Task 02: Read the transactions."
   ]
  },
  {
   "cell_type": "markdown",
   "metadata": {},
   "source": [
    "##### a) Create a DataFrame called transactions with the transactions.csv file. Print the count of transactions and 5 entries to have a look at the data"
   ]
  },
  {
   "cell_type": "code",
   "outputs": [
    {
     "data": {
      "text/plain": "        id  customer  article                 date  price\n0        1       628  Whiskey  2021-01-14 23:00:02   4.03\n1        2       298     Coke  2021-12-29 03:51:24   2.14\n2        3       908  Whiskey  2021-11-06 01:40:58   3.67\n3        4       325      Gin  2021-05-24 05:51:52   4.46\n4        5       242    Tonic  2021-05-17 04:21:13   4.58\n...    ...       ...      ...                  ...    ...\n9994  9995       864    Fries  2021-03-19 22:27:50   3.31\n9995  9996       749     Coke  2021-06-11 15:43:28   2.89\n9996  9997       478    Tonic  2021-07-29 01:41:24   0.97\n9997  9998       807   Nachos  2021-06-03 23:36:52   1.89\n9998  9999       246    Pizza  2021-10-30 17:44:13   2.93\n\n[9999 rows x 5 columns]",
      "text/html": "<div>\n<style scoped>\n    .dataframe tbody tr th:only-of-type {\n        vertical-align: middle;\n    }\n\n    .dataframe tbody tr th {\n        vertical-align: top;\n    }\n\n    .dataframe thead th {\n        text-align: right;\n    }\n</style>\n<table border=\"1\" class=\"dataframe\">\n  <thead>\n    <tr style=\"text-align: right;\">\n      <th></th>\n      <th>id</th>\n      <th>customer</th>\n      <th>article</th>\n      <th>date</th>\n      <th>price</th>\n    </tr>\n  </thead>\n  <tbody>\n    <tr>\n      <th>0</th>\n      <td>1</td>\n      <td>628</td>\n      <td>Whiskey</td>\n      <td>2021-01-14 23:00:02</td>\n      <td>4.03</td>\n    </tr>\n    <tr>\n      <th>1</th>\n      <td>2</td>\n      <td>298</td>\n      <td>Coke</td>\n      <td>2021-12-29 03:51:24</td>\n      <td>2.14</td>\n    </tr>\n    <tr>\n      <th>2</th>\n      <td>3</td>\n      <td>908</td>\n      <td>Whiskey</td>\n      <td>2021-11-06 01:40:58</td>\n      <td>3.67</td>\n    </tr>\n    <tr>\n      <th>3</th>\n      <td>4</td>\n      <td>325</td>\n      <td>Gin</td>\n      <td>2021-05-24 05:51:52</td>\n      <td>4.46</td>\n    </tr>\n    <tr>\n      <th>4</th>\n      <td>5</td>\n      <td>242</td>\n      <td>Tonic</td>\n      <td>2021-05-17 04:21:13</td>\n      <td>4.58</td>\n    </tr>\n    <tr>\n      <th>...</th>\n      <td>...</td>\n      <td>...</td>\n      <td>...</td>\n      <td>...</td>\n      <td>...</td>\n    </tr>\n    <tr>\n      <th>9994</th>\n      <td>9995</td>\n      <td>864</td>\n      <td>Fries</td>\n      <td>2021-03-19 22:27:50</td>\n      <td>3.31</td>\n    </tr>\n    <tr>\n      <th>9995</th>\n      <td>9996</td>\n      <td>749</td>\n      <td>Coke</td>\n      <td>2021-06-11 15:43:28</td>\n      <td>2.89</td>\n    </tr>\n    <tr>\n      <th>9996</th>\n      <td>9997</td>\n      <td>478</td>\n      <td>Tonic</td>\n      <td>2021-07-29 01:41:24</td>\n      <td>0.97</td>\n    </tr>\n    <tr>\n      <th>9997</th>\n      <td>9998</td>\n      <td>807</td>\n      <td>Nachos</td>\n      <td>2021-06-03 23:36:52</td>\n      <td>1.89</td>\n    </tr>\n    <tr>\n      <th>9998</th>\n      <td>9999</td>\n      <td>246</td>\n      <td>Pizza</td>\n      <td>2021-10-30 17:44:13</td>\n      <td>2.93</td>\n    </tr>\n  </tbody>\n</table>\n<p>9999 rows × 5 columns</p>\n</div>"
     },
     "execution_count": 19,
     "metadata": {},
     "output_type": "execute_result"
    }
   ],
   "source": [
    "import pandas as pd\n",
    "        \n",
    "transactions = pd.read_csv('DE1_Lab04_transactions.csv')\n",
    "transactions"
   ],
   "metadata": {
    "collapsed": false,
    "ExecuteTime": {
     "end_time": "2024-03-14T10:57:17.935901Z",
     "start_time": "2024-03-14T10:57:17.918540Z"
    }
   },
   "execution_count": 19
  },
  {
   "cell_type": "markdown",
   "metadata": {},
   "source": [
    "##### b) Get the count of all transactions for the article whiskey."
   ]
  },
  {
   "cell_type": "code",
   "execution_count": 22,
   "metadata": {
    "ExecuteTime": {
     "end_time": "2024-03-14T10:58:26.204802Z",
     "start_time": "2024-03-14T10:58:26.200171Z"
    }
   },
   "outputs": [
    {
     "data": {
      "text/plain": "article\nWhiskey    819\nName: id, dtype: int64"
     },
     "execution_count": 22,
     "metadata": {},
     "output_type": "execute_result"
    }
   ],
   "source": [
    "transactions[transactions.article == 'Whiskey'].groupby('article').count()['id']"
   ]
  },
  {
   "cell_type": "markdown",
   "metadata": {},
   "source": [
    "##### c) Get the count of articles per each article."
   ]
  },
  {
   "cell_type": "code",
   "execution_count": 23,
   "metadata": {
    "ExecuteTime": {
     "end_time": "2024-03-14T10:58:38.029957Z",
     "start_time": "2024-03-14T10:58:38.024945Z"
    }
   },
   "outputs": [
    {
     "data": {
      "text/plain": "article\nBeer         846\nBurger       830\nChips        865\nCoke         805\nFries        790\nGin          859\nGuacamole    818\nNachos       850\nPizza        843\nPopcorn      840\nTonic        834\nWhiskey      819\nName: id, dtype: int64"
     },
     "execution_count": 23,
     "metadata": {},
     "output_type": "execute_result"
    }
   ],
   "source": [
    "transactions.groupby('article').count()['id']"
   ]
  },
  {
   "cell_type": "markdown",
   "metadata": {},
   "source": [
    "### Task 03: Doing Analytics."
   ]
  },
  {
   "cell_type": "markdown",
   "metadata": {},
   "source": [
    "##### a) Calculate the sum of all sold articles to the customer with the name 'Beverly Heifner'."
   ]
  },
  {
   "cell_type": "code",
   "outputs": [
    {
     "data": {
      "text/plain": "      id                name  status                bdate        city  \\\n0      1        Lesia Joiner  silver  1985-07-11 21:56:26     Buelach   \n1      2        Michael Berg    gold  1962-08-03 21:29:12  Frauenfeld   \n2      3      Stephen Vaughn  silver  1983-03-11 11:05:41  St. Gallen   \n3      4  Cynthia Conigliaro  bronze  1987-09-30 10:22:44     Zuerich   \n4      5     Beverly Heifner  bronze  1998-01-11 14:13:39       Uster   \n..   ...                 ...     ...                  ...         ...   \n994  995    Adelle Blanchard    gold  1970-01-10 01:02:49  St. Gallen   \n995  996         Randy Ramon  silver  1990-02-08 03:56:18      Gossau   \n996  997          Lori Reyes  bronze  2001-05-31 15:39:19     Zuerich   \n997  998      Erica Martinez    gold  1971-05-24 09:04:24  St. Gallen   \n998  999    Thomas Coppenger  silver  1984-05-01 10:54:29  Romanshorn   \n\n         canton  \n0       Zuerich  \n1       Thurgau  \n2    St. Gallen  \n3       Zuerich  \n4       Zuerich  \n..          ...  \n994  St. Gallen  \n995     Zuerich  \n996     Zuerich  \n997  St. Gallen  \n998     Thurgau  \n\n[999 rows x 6 columns]",
      "text/html": "<div>\n<style scoped>\n    .dataframe tbody tr th:only-of-type {\n        vertical-align: middle;\n    }\n\n    .dataframe tbody tr th {\n        vertical-align: top;\n    }\n\n    .dataframe thead th {\n        text-align: right;\n    }\n</style>\n<table border=\"1\" class=\"dataframe\">\n  <thead>\n    <tr style=\"text-align: right;\">\n      <th></th>\n      <th>id</th>\n      <th>name</th>\n      <th>status</th>\n      <th>bdate</th>\n      <th>city</th>\n      <th>canton</th>\n    </tr>\n  </thead>\n  <tbody>\n    <tr>\n      <th>0</th>\n      <td>1</td>\n      <td>Lesia Joiner</td>\n      <td>silver</td>\n      <td>1985-07-11 21:56:26</td>\n      <td>Buelach</td>\n      <td>Zuerich</td>\n    </tr>\n    <tr>\n      <th>1</th>\n      <td>2</td>\n      <td>Michael Berg</td>\n      <td>gold</td>\n      <td>1962-08-03 21:29:12</td>\n      <td>Frauenfeld</td>\n      <td>Thurgau</td>\n    </tr>\n    <tr>\n      <th>2</th>\n      <td>3</td>\n      <td>Stephen Vaughn</td>\n      <td>silver</td>\n      <td>1983-03-11 11:05:41</td>\n      <td>St. Gallen</td>\n      <td>St. Gallen</td>\n    </tr>\n    <tr>\n      <th>3</th>\n      <td>4</td>\n      <td>Cynthia Conigliaro</td>\n      <td>bronze</td>\n      <td>1987-09-30 10:22:44</td>\n      <td>Zuerich</td>\n      <td>Zuerich</td>\n    </tr>\n    <tr>\n      <th>4</th>\n      <td>5</td>\n      <td>Beverly Heifner</td>\n      <td>bronze</td>\n      <td>1998-01-11 14:13:39</td>\n      <td>Uster</td>\n      <td>Zuerich</td>\n    </tr>\n    <tr>\n      <th>...</th>\n      <td>...</td>\n      <td>...</td>\n      <td>...</td>\n      <td>...</td>\n      <td>...</td>\n      <td>...</td>\n    </tr>\n    <tr>\n      <th>994</th>\n      <td>995</td>\n      <td>Adelle Blanchard</td>\n      <td>gold</td>\n      <td>1970-01-10 01:02:49</td>\n      <td>St. Gallen</td>\n      <td>St. Gallen</td>\n    </tr>\n    <tr>\n      <th>995</th>\n      <td>996</td>\n      <td>Randy Ramon</td>\n      <td>silver</td>\n      <td>1990-02-08 03:56:18</td>\n      <td>Gossau</td>\n      <td>Zuerich</td>\n    </tr>\n    <tr>\n      <th>996</th>\n      <td>997</td>\n      <td>Lori Reyes</td>\n      <td>bronze</td>\n      <td>2001-05-31 15:39:19</td>\n      <td>Zuerich</td>\n      <td>Zuerich</td>\n    </tr>\n    <tr>\n      <th>997</th>\n      <td>998</td>\n      <td>Erica Martinez</td>\n      <td>gold</td>\n      <td>1971-05-24 09:04:24</td>\n      <td>St. Gallen</td>\n      <td>St. Gallen</td>\n    </tr>\n    <tr>\n      <th>998</th>\n      <td>999</td>\n      <td>Thomas Coppenger</td>\n      <td>silver</td>\n      <td>1984-05-01 10:54:29</td>\n      <td>Romanshorn</td>\n      <td>Thurgau</td>\n    </tr>\n  </tbody>\n</table>\n<p>999 rows × 6 columns</p>\n</div>"
     },
     "execution_count": 25,
     "metadata": {},
     "output_type": "execute_result"
    }
   ],
   "source": [
    "customers"
   ],
   "metadata": {
    "collapsed": false,
    "ExecuteTime": {
     "end_time": "2024-03-14T11:01:49.573609Z",
     "start_time": "2024-03-14T11:01:49.569317Z"
    }
   },
   "execution_count": 25
  },
  {
   "cell_type": "code",
   "execution_count": 24,
   "metadata": {
    "ExecuteTime": {
     "end_time": "2024-03-14T11:01:44.440757Z",
     "start_time": "2024-03-14T11:01:44.436532Z"
    }
   },
   "outputs": [
    {
     "data": {
      "text/plain": "        id  customer  article                 date  price\n0        1       628  Whiskey  2021-01-14 23:00:02   4.03\n1        2       298     Coke  2021-12-29 03:51:24   2.14\n2        3       908  Whiskey  2021-11-06 01:40:58   3.67\n3        4       325      Gin  2021-05-24 05:51:52   4.46\n4        5       242    Tonic  2021-05-17 04:21:13   4.58\n...    ...       ...      ...                  ...    ...\n9994  9995       864    Fries  2021-03-19 22:27:50   3.31\n9995  9996       749     Coke  2021-06-11 15:43:28   2.89\n9996  9997       478    Tonic  2021-07-29 01:41:24   0.97\n9997  9998       807   Nachos  2021-06-03 23:36:52   1.89\n9998  9999       246    Pizza  2021-10-30 17:44:13   2.93\n\n[9999 rows x 5 columns]",
      "text/html": "<div>\n<style scoped>\n    .dataframe tbody tr th:only-of-type {\n        vertical-align: middle;\n    }\n\n    .dataframe tbody tr th {\n        vertical-align: top;\n    }\n\n    .dataframe thead th {\n        text-align: right;\n    }\n</style>\n<table border=\"1\" class=\"dataframe\">\n  <thead>\n    <tr style=\"text-align: right;\">\n      <th></th>\n      <th>id</th>\n      <th>customer</th>\n      <th>article</th>\n      <th>date</th>\n      <th>price</th>\n    </tr>\n  </thead>\n  <tbody>\n    <tr>\n      <th>0</th>\n      <td>1</td>\n      <td>628</td>\n      <td>Whiskey</td>\n      <td>2021-01-14 23:00:02</td>\n      <td>4.03</td>\n    </tr>\n    <tr>\n      <th>1</th>\n      <td>2</td>\n      <td>298</td>\n      <td>Coke</td>\n      <td>2021-12-29 03:51:24</td>\n      <td>2.14</td>\n    </tr>\n    <tr>\n      <th>2</th>\n      <td>3</td>\n      <td>908</td>\n      <td>Whiskey</td>\n      <td>2021-11-06 01:40:58</td>\n      <td>3.67</td>\n    </tr>\n    <tr>\n      <th>3</th>\n      <td>4</td>\n      <td>325</td>\n      <td>Gin</td>\n      <td>2021-05-24 05:51:52</td>\n      <td>4.46</td>\n    </tr>\n    <tr>\n      <th>4</th>\n      <td>5</td>\n      <td>242</td>\n      <td>Tonic</td>\n      <td>2021-05-17 04:21:13</td>\n      <td>4.58</td>\n    </tr>\n    <tr>\n      <th>...</th>\n      <td>...</td>\n      <td>...</td>\n      <td>...</td>\n      <td>...</td>\n      <td>...</td>\n    </tr>\n    <tr>\n      <th>9994</th>\n      <td>9995</td>\n      <td>864</td>\n      <td>Fries</td>\n      <td>2021-03-19 22:27:50</td>\n      <td>3.31</td>\n    </tr>\n    <tr>\n      <th>9995</th>\n      <td>9996</td>\n      <td>749</td>\n      <td>Coke</td>\n      <td>2021-06-11 15:43:28</td>\n      <td>2.89</td>\n    </tr>\n    <tr>\n      <th>9996</th>\n      <td>9997</td>\n      <td>478</td>\n      <td>Tonic</td>\n      <td>2021-07-29 01:41:24</td>\n      <td>0.97</td>\n    </tr>\n    <tr>\n      <th>9997</th>\n      <td>9998</td>\n      <td>807</td>\n      <td>Nachos</td>\n      <td>2021-06-03 23:36:52</td>\n      <td>1.89</td>\n    </tr>\n    <tr>\n      <th>9998</th>\n      <td>9999</td>\n      <td>246</td>\n      <td>Pizza</td>\n      <td>2021-10-30 17:44:13</td>\n      <td>2.93</td>\n    </tr>\n  </tbody>\n</table>\n<p>9999 rows × 5 columns</p>\n</div>"
     },
     "execution_count": 24,
     "metadata": {},
     "output_type": "execute_result"
    }
   ],
   "source": [
    "transactions"
   ]
  },
  {
   "cell_type": "code",
   "outputs": [
    {
     "data": {
      "text/plain": "      id_x  customer  article                 date  price              name  \\\n0        1       628  Whiskey  2021-01-14 23:00:02   4.03   Carlos Balderas   \n1        2       298     Coke  2021-12-29 03:51:24   2.14  Patricia Crespin   \n2        3       908  Whiskey  2021-11-06 01:40:58   3.67      Chad Foslien   \n3        4       325      Gin  2021-05-24 05:51:52   4.46        Rick Plack   \n4        5       242    Tonic  2021-05-17 04:21:13   4.58        John Costa   \n...    ...       ...      ...                  ...    ...               ...   \n9994  9995       864    Fries  2021-03-19 22:27:50   3.31     Phillip Evans   \n9995  9996       749     Coke  2021-06-11 15:43:28   2.89       Rafael Boyd   \n9996  9997       478    Tonic  2021-07-29 01:41:24   0.97    Mario Yasutomi   \n9997  9998       807   Nachos  2021-06-03 23:36:52   1.89       Mary Mather   \n9998  9999       246    Pizza  2021-10-30 17:44:13   2.93    Eugene Langton   \n\n      status                bdate         city      canton  \n0     silver  1995-03-27 10:44:04      Zuerich     Zuerich  \n1     bronze  1978-09-13 18:33:54   St. Gallen  St. Gallen  \n2     silver  1998-03-01 13:35:04  Kreuzlingen     Thurgau  \n3       gold  1975-05-02 11:29:36   St. Gallen  St. Gallen  \n4     bronze  2002-02-23 21:33:25   St. Gallen  St. Gallen  \n...      ...                  ...          ...         ...  \n9994    gold  1957-06-27 07:13:29   St. Gallen  St. Gallen  \n9995  silver  1994-04-26 20:29:32   Winterthur     Zuerich  \n9996  bronze  1977-08-29 14:29:50   Romanshorn     Thurgau  \n9997    gold  1958-03-02 00:27:46   Winterthur     Zuerich  \n9998  bronze  1978-11-27 07:02:34   Winterthur     Zuerich  \n\n[9999 rows x 10 columns]",
      "text/html": "<div>\n<style scoped>\n    .dataframe tbody tr th:only-of-type {\n        vertical-align: middle;\n    }\n\n    .dataframe tbody tr th {\n        vertical-align: top;\n    }\n\n    .dataframe thead th {\n        text-align: right;\n    }\n</style>\n<table border=\"1\" class=\"dataframe\">\n  <thead>\n    <tr style=\"text-align: right;\">\n      <th></th>\n      <th>id_x</th>\n      <th>customer</th>\n      <th>article</th>\n      <th>date</th>\n      <th>price</th>\n      <th>name</th>\n      <th>status</th>\n      <th>bdate</th>\n      <th>city</th>\n      <th>canton</th>\n    </tr>\n  </thead>\n  <tbody>\n    <tr>\n      <th>0</th>\n      <td>1</td>\n      <td>628</td>\n      <td>Whiskey</td>\n      <td>2021-01-14 23:00:02</td>\n      <td>4.03</td>\n      <td>Carlos Balderas</td>\n      <td>silver</td>\n      <td>1995-03-27 10:44:04</td>\n      <td>Zuerich</td>\n      <td>Zuerich</td>\n    </tr>\n    <tr>\n      <th>1</th>\n      <td>2</td>\n      <td>298</td>\n      <td>Coke</td>\n      <td>2021-12-29 03:51:24</td>\n      <td>2.14</td>\n      <td>Patricia Crespin</td>\n      <td>bronze</td>\n      <td>1978-09-13 18:33:54</td>\n      <td>St. Gallen</td>\n      <td>St. Gallen</td>\n    </tr>\n    <tr>\n      <th>2</th>\n      <td>3</td>\n      <td>908</td>\n      <td>Whiskey</td>\n      <td>2021-11-06 01:40:58</td>\n      <td>3.67</td>\n      <td>Chad Foslien</td>\n      <td>silver</td>\n      <td>1998-03-01 13:35:04</td>\n      <td>Kreuzlingen</td>\n      <td>Thurgau</td>\n    </tr>\n    <tr>\n      <th>3</th>\n      <td>4</td>\n      <td>325</td>\n      <td>Gin</td>\n      <td>2021-05-24 05:51:52</td>\n      <td>4.46</td>\n      <td>Rick Plack</td>\n      <td>gold</td>\n      <td>1975-05-02 11:29:36</td>\n      <td>St. Gallen</td>\n      <td>St. Gallen</td>\n    </tr>\n    <tr>\n      <th>4</th>\n      <td>5</td>\n      <td>242</td>\n      <td>Tonic</td>\n      <td>2021-05-17 04:21:13</td>\n      <td>4.58</td>\n      <td>John Costa</td>\n      <td>bronze</td>\n      <td>2002-02-23 21:33:25</td>\n      <td>St. Gallen</td>\n      <td>St. Gallen</td>\n    </tr>\n    <tr>\n      <th>...</th>\n      <td>...</td>\n      <td>...</td>\n      <td>...</td>\n      <td>...</td>\n      <td>...</td>\n      <td>...</td>\n      <td>...</td>\n      <td>...</td>\n      <td>...</td>\n      <td>...</td>\n    </tr>\n    <tr>\n      <th>9994</th>\n      <td>9995</td>\n      <td>864</td>\n      <td>Fries</td>\n      <td>2021-03-19 22:27:50</td>\n      <td>3.31</td>\n      <td>Phillip Evans</td>\n      <td>gold</td>\n      <td>1957-06-27 07:13:29</td>\n      <td>St. Gallen</td>\n      <td>St. Gallen</td>\n    </tr>\n    <tr>\n      <th>9995</th>\n      <td>9996</td>\n      <td>749</td>\n      <td>Coke</td>\n      <td>2021-06-11 15:43:28</td>\n      <td>2.89</td>\n      <td>Rafael Boyd</td>\n      <td>silver</td>\n      <td>1994-04-26 20:29:32</td>\n      <td>Winterthur</td>\n      <td>Zuerich</td>\n    </tr>\n    <tr>\n      <th>9996</th>\n      <td>9997</td>\n      <td>478</td>\n      <td>Tonic</td>\n      <td>2021-07-29 01:41:24</td>\n      <td>0.97</td>\n      <td>Mario Yasutomi</td>\n      <td>bronze</td>\n      <td>1977-08-29 14:29:50</td>\n      <td>Romanshorn</td>\n      <td>Thurgau</td>\n    </tr>\n    <tr>\n      <th>9997</th>\n      <td>9998</td>\n      <td>807</td>\n      <td>Nachos</td>\n      <td>2021-06-03 23:36:52</td>\n      <td>1.89</td>\n      <td>Mary Mather</td>\n      <td>gold</td>\n      <td>1958-03-02 00:27:46</td>\n      <td>Winterthur</td>\n      <td>Zuerich</td>\n    </tr>\n    <tr>\n      <th>9998</th>\n      <td>9999</td>\n      <td>246</td>\n      <td>Pizza</td>\n      <td>2021-10-30 17:44:13</td>\n      <td>2.93</td>\n      <td>Eugene Langton</td>\n      <td>bronze</td>\n      <td>1978-11-27 07:02:34</td>\n      <td>Winterthur</td>\n      <td>Zuerich</td>\n    </tr>\n  </tbody>\n</table>\n<p>9999 rows × 10 columns</p>\n</div>"
     },
     "execution_count": 29,
     "metadata": {},
     "output_type": "execute_result"
    }
   ],
   "source": [
    "cus_trans = pd.merge(transactions, customers, left_on='customer', right_on='id')\n",
    "cus_trans.drop('id_y', axis=1, inplace=True)"
   ],
   "metadata": {
    "collapsed": false,
    "ExecuteTime": {
     "end_time": "2024-03-14T11:04:02.979516Z",
     "start_time": "2024-03-14T11:04:02.965988Z"
    }
   },
   "execution_count": 29
  },
  {
   "cell_type": "markdown",
   "metadata": {},
   "source": [
    "##### b) Calculate the sum of all sold articles to customers from the city Uster."
   ]
  },
  {
   "cell_type": "code",
   "execution_count": 33,
   "metadata": {
    "ExecuteTime": {
     "end_time": "2024-03-14T11:05:44.381881Z",
     "start_time": "2024-03-14T11:05:44.374421Z"
    }
   },
   "outputs": [
    {
     "data": {
      "text/plain": "city\nUster    1931.04\nName: price, dtype: float64"
     },
     "execution_count": 33,
     "metadata": {},
     "output_type": "execute_result"
    }
   ],
   "source": [
    "cus_trans[cus_trans.city == 'Uster'].groupby('city')['price'].sum()"
   ]
  },
  {
   "cell_type": "markdown",
   "metadata": {},
   "source": [
    "##### c) Calculate the average price of all sold articles to customers from the canton Thurgau."
   ]
  },
  {
   "cell_type": "code",
   "execution_count": 34,
   "metadata": {
    "ExecuteTime": {
     "end_time": "2024-03-14T11:07:14.320410Z",
     "start_time": "2024-03-14T11:07:14.314323Z"
    }
   },
   "outputs": [
    {
     "data": {
      "text/plain": "canton\nThurgau    2.98469\nName: price, dtype: float64"
     },
     "execution_count": 34,
     "metadata": {},
     "output_type": "execute_result"
    }
   ],
   "source": [
    "prices = cus_trans[cus_trans.canton == 'Thurgau'].groupby('canton')['price']\n",
    "prices.sum() / prices.count()"
   ]
  },
  {
   "cell_type": "markdown",
   "metadata": {},
   "source": [
    "##### d) Calculate the sum of all sold articles in the month March."
   ]
  },
  {
   "cell_type": "code",
   "execution_count": 45,
   "metadata": {
    "ExecuteTime": {
     "end_time": "2024-03-14T11:10:16.055548Z",
     "start_time": "2024-03-14T11:10:16.046626Z"
    }
   },
   "outputs": [
    {
     "data": {
      "text/plain": "2407.74"
     },
     "execution_count": 45,
     "metadata": {},
     "output_type": "execute_result"
    }
   ],
   "source": [
    "cus_trans.date = pd.to_datetime(cus_trans.date)\n",
    "cus_trans[cus_trans.date.dt.month == 3].price.sum()"
   ]
  },
  {
   "cell_type": "markdown",
   "metadata": {},
   "source": [
    "##### e) Calculate the sum of all sold articles in the month October from customers with the status gold."
   ]
  },
  {
   "cell_type": "code",
   "execution_count": 47,
   "metadata": {
    "ExecuteTime": {
     "end_time": "2024-03-14T11:11:04.245995Z",
     "start_time": "2024-03-14T11:11:04.241130Z"
    }
   },
   "outputs": [
    {
     "data": {
      "text/plain": "969.0200000000001"
     },
     "execution_count": 47,
     "metadata": {},
     "output_type": "execute_result"
    }
   ],
   "source": [
    "cus_trans[(cus_trans.date.dt.month == 10) & (cus_trans.status == 'gold')].price.sum()"
   ]
  },
  {
   "cell_type": "markdown",
   "metadata": {},
   "source": [
    "##### f) Calculate the sum of all sold articles between the hours 21 to 23."
   ]
  },
  {
   "cell_type": "code",
   "execution_count": 50,
   "metadata": {
    "ExecuteTime": {
     "end_time": "2024-03-14T11:12:35.510990Z",
     "start_time": "2024-03-14T11:12:35.507460Z"
    }
   },
   "outputs": [
    {
     "data": {
      "text/plain": "3755.1500000000005"
     },
     "execution_count": 50,
     "metadata": {},
     "output_type": "execute_result"
    }
   ],
   "source": [
    "cus_trans[(21 <= cus_trans.date.dt.hour) & (cus_trans.date.dt.hour <= 23)].price.sum()"
   ]
  },
  {
   "cell_type": "markdown",
   "metadata": {},
   "source": [
    "##### g) Calculate the average price of all sold whiskeys to customers born after or in 1980."
   ]
  },
  {
   "cell_type": "code",
   "execution_count": 54,
   "metadata": {
    "ExecuteTime": {
     "end_time": "2024-03-14T11:14:20.199682Z",
     "start_time": "2024-03-14T11:14:20.190268Z"
    }
   },
   "outputs": [
    {
     "data": {
      "text/plain": "2.993526064193034"
     },
     "execution_count": 54,
     "metadata": {},
     "output_type": "execute_result"
    }
   ],
   "source": [
    "cus_trans.bdate = pd.to_datetime(cus_trans.bdate)\n",
    "prices = cus_trans[cus_trans.bdate.dt.year >= 1980].price\n",
    "prices.sum() / prices.count()"
   ]
  },
  {
   "cell_type": "markdown",
   "metadata": {},
   "source": [
    "##### h) Which month has the highest count of sold whiskeys?"
   ]
  },
  {
   "cell_type": "code",
   "execution_count": 63,
   "metadata": {
    "ExecuteTime": {
     "end_time": "2024-03-14T11:17:11.225034Z",
     "start_time": "2024-03-14T11:17:11.219847Z"
    }
   },
   "outputs": [
    {
     "data": {
      "text/plain": "date\n8     233.40\n5     232.02\n1     221.06\n4     219.96\n12    213.10\n10    207.60\n11    204.03\n6     198.21\n9     194.36\n7     181.14\n3     170.25\n2     164.12\nName: price, dtype: float64"
     },
     "execution_count": 63,
     "metadata": {},
     "output_type": "execute_result"
    }
   ],
   "source": [
    "cus_trans[cus_trans.article == \"Whiskey\"].groupby(by=[cus_trans.date.dt.month]).price.sum().sort_values(ascending=False) # 8 -> August"
   ]
  },
  {
   "cell_type": "markdown",
   "metadata": {},
   "source": [
    "##### i) Which month has the highest amount of sold gins?"
   ]
  },
  {
   "cell_type": "code",
   "execution_count": 64,
   "metadata": {
    "ExecuteTime": {
     "end_time": "2024-03-14T11:17:44.363289Z",
     "start_time": "2024-03-14T11:17:44.357319Z"
    }
   },
   "outputs": [
    {
     "data": {
      "text/plain": "date\n12    82\n7     81\n1     77\n3     76\n10    76\n9     73\n11    69\n6     67\n4     66\n5     66\n8     64\n2     62\nName: price, dtype: int64"
     },
     "execution_count": 64,
     "metadata": {},
     "output_type": "execute_result"
    }
   ],
   "source": [
    "cus_trans[cus_trans.article == \"Gin\"].groupby(by=[cus_trans.date.dt.month]).price.count().sort_values(ascending=False) # 12 -> December"
   ]
  },
  {
   "cell_type": "markdown",
   "metadata": {},
   "source": [
    "##### j) Which is the customer with the highest revenue?"
   ]
  },
  {
   "cell_type": "code",
   "execution_count": 65,
   "metadata": {
    "ExecuteTime": {
     "end_time": "2024-03-14T11:18:21.839531Z",
     "start_time": "2024-03-14T11:18:21.835611Z"
    }
   },
   "outputs": [
    {
     "data": {
      "text/plain": "customer\n958    68.48\n985    67.03\n927    65.03\n908    64.36\n133    63.73\n       ...  \n301     5.57\n847     5.33\n364     4.70\n502     4.40\n728     3.00\nName: price, Length: 999, dtype: float64"
     },
     "execution_count": 65,
     "metadata": {},
     "output_type": "execute_result"
    }
   ],
   "source": [
    "cus_trans.groupby('customer').price.sum().sort_values(ascending=False) # 958"
   ]
  },
  {
   "cell_type": "markdown",
   "metadata": {},
   "source": [
    "##### k) Which canton has the highest revenue?"
   ]
  },
  {
   "cell_type": "code",
   "execution_count": 66,
   "metadata": {
    "ExecuteTime": {
     "end_time": "2024-03-14T11:18:43.796101Z",
     "start_time": "2024-03-14T11:18:43.791674Z"
    }
   },
   "outputs": [
    {
     "data": {
      "text/plain": "canton\nZuerich       14740.43\nSt. Gallen     9278.48\nThurgau        5912.67\nName: price, dtype: float64"
     },
     "execution_count": 66,
     "metadata": {},
     "output_type": "execute_result"
    }
   ],
   "source": [
    "cus_trans.groupby('canton').price.sum().sort_values(ascending=False) # Zuerich"
   ]
  }
 ],
 "metadata": {
  "kernelspec": {
   "display_name": "Python 3",
   "language": "python",
   "name": "python3"
  },
  "language_info": {
   "codemirror_mode": {
    "name": "ipython",
    "version": 3
   },
   "file_extension": ".py",
   "mimetype": "text/x-python",
   "name": "python",
   "nbconvert_exporter": "python",
   "pygments_lexer": "ipython3",
   "version": "3.8.6"
  }
 },
 "nbformat": 4,
 "nbformat_minor": 4
}
