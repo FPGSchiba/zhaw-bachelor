{
 "cells": [
  {
   "cell_type": "code",
   "execution_count": 3,
   "id": "initial_id",
   "metadata": {
    "collapsed": true,
    "ExecuteTime": {
     "end_time": "2024-03-15T09:31:45.424637Z",
     "start_time": "2024-03-15T09:31:45.422215Z"
    }
   },
   "outputs": [
    {
     "data": {
      "text/plain": "0.323211453267225"
     },
     "execution_count": 3,
     "metadata": {},
     "output_type": "execute_result"
    }
   ],
   "source": [
    "import math\n",
    "math.sin(math.degrees(45) + math.degrees(90))"
   ]
  },
  {
   "cell_type": "code",
   "outputs": [
    {
     "data": {
      "text/plain": "-0.14801597635690045"
     },
     "execution_count": 4,
     "metadata": {},
     "output_type": "execute_result"
    }
   ],
   "source": [
    "math.sin(math.degrees(45)) + math.sin(math.degrees(90))"
   ],
   "metadata": {
    "collapsed": false,
    "ExecuteTime": {
     "end_time": "2024-03-15T09:31:57.380577Z",
     "start_time": "2024-03-15T09:31:57.376819Z"
    }
   },
   "id": "90ed0f984bbe565",
   "execution_count": 4
  },
  {
   "cell_type": "code",
   "outputs": [
    {
     "data": {
      "text/plain": "0.0"
     },
     "execution_count": 5,
     "metadata": {},
     "output_type": "execute_result"
    }
   ],
   "source": [
    "math.sqrt(0)"
   ],
   "metadata": {
    "collapsed": false,
    "ExecuteTime": {
     "end_time": "2024-03-15T09:37:22.888815Z",
     "start_time": "2024-03-15T09:37:22.886603Z"
    }
   },
   "id": "6235acacd20f6bf",
   "execution_count": 5
  },
  {
   "cell_type": "code",
   "outputs": [
    {
     "data": {
      "text/plain": "False"
     },
     "execution_count": 6,
     "metadata": {},
     "output_type": "execute_result"
    }
   ],
   "source": [
    "math.sqrt((2 + 2)**2 + (1 + 3)**2) == (math.sqrt(2**2 + 1**2) + math.sqrt(2**2 + 3**2))"
   ],
   "metadata": {
    "collapsed": false,
    "ExecuteTime": {
     "end_time": "2024-03-15T09:41:20.172618Z",
     "start_time": "2024-03-15T09:41:20.169108Z"
    }
   },
   "id": "372207b436b048d1",
   "execution_count": 6
  },
  {
   "cell_type": "code",
   "outputs": [
    {
     "data": {
      "text/plain": "0.0"
     },
     "execution_count": 2,
     "metadata": {},
     "output_type": "execute_result"
    }
   ],
   "source": [
    "import math\n",
    "math.tan(0)"
   ],
   "metadata": {
    "collapsed": false,
    "ExecuteTime": {
     "end_time": "2024-03-16T09:16:09.628804Z",
     "start_time": "2024-03-16T09:16:09.624224Z"
    }
   },
   "id": "27a944ae08db53c4",
   "execution_count": 2
  },
  {
   "cell_type": "code",
   "outputs": [
    {
     "data": {
      "text/plain": "1.0"
     },
     "execution_count": 4,
     "metadata": {},
     "output_type": "execute_result"
    }
   ],
   "source": [
    "math.cos(0)"
   ],
   "metadata": {
    "collapsed": false,
    "ExecuteTime": {
     "end_time": "2024-03-16T09:34:03.475286Z",
     "start_time": "2024-03-16T09:34:03.472838Z"
    }
   },
   "id": "1899b0f54c80cce0",
   "execution_count": 4
  },
  {
   "cell_type": "code",
   "outputs": [
    {
     "data": {
      "text/plain": "1.0"
     },
     "execution_count": 5,
     "metadata": {},
     "output_type": "execute_result"
    }
   ],
   "source": [
    "math.cos(0)**2 - math.sin(0)**2"
   ],
   "metadata": {
    "collapsed": false,
    "ExecuteTime": {
     "end_time": "2024-03-16T09:57:48.854789Z",
     "start_time": "2024-03-16T09:57:48.852073Z"
    }
   },
   "id": "eafa2b63b41cfcee",
   "execution_count": 5
  },
  {
   "cell_type": "code",
   "outputs": [
    {
     "data": {
      "text/plain": "1.2246467991473532e-16"
     },
     "execution_count": 6,
     "metadata": {},
     "output_type": "execute_result"
    }
   ],
   "source": [
    "math.sin(math.pi)"
   ],
   "metadata": {
    "collapsed": false,
    "ExecuteTime": {
     "end_time": "2024-03-16T10:02:15.688970Z",
     "start_time": "2024-03-16T10:02:15.686173Z"
    }
   },
   "id": "698460b258ce055e",
   "execution_count": 6
  },
  {
   "cell_type": "code",
   "outputs": [
    {
     "data": {
      "text/plain": "1.0"
     },
     "execution_count": 11,
     "metadata": {},
     "output_type": "execute_result"
    }
   ],
   "source": [
    "math.cos(0)**2"
   ],
   "metadata": {
    "collapsed": false,
    "ExecuteTime": {
     "end_time": "2024-03-16T10:23:15.101780Z",
     "start_time": "2024-03-16T10:23:15.099742Z"
    }
   },
   "id": "f6ee8fcd44950d90",
   "execution_count": 11
  },
  {
   "cell_type": "code",
   "outputs": [
    {
     "data": {
      "text/plain": "0.0"
     },
     "execution_count": 10,
     "metadata": {},
     "output_type": "execute_result"
    }
   ],
   "source": [
    "math.sin(0)**2"
   ],
   "metadata": {
    "collapsed": false,
    "ExecuteTime": {
     "end_time": "2024-03-16T10:23:11.935642Z",
     "start_time": "2024-03-16T10:23:11.932466Z"
    }
   },
   "id": "e2d6e7d944c93497",
   "execution_count": 10
  },
  {
   "cell_type": "code",
   "source": "import math ",
   "metadata": {
    "collapsed": false,
    "ExecuteTime": {
     "end_time": "2024-04-12T09:17:49.208354Z",
     "start_time": "2024-04-12T09:17:49.202921Z"
    }
   },
   "id": "c10837cd893ed0dc",
   "outputs": [
    {
     "data": {
      "text/plain": [
       "3.605551275463989"
      ]
     },
     "execution_count": 1,
     "metadata": {},
     "output_type": "execute_result"
    }
   ],
   "execution_count": 1
  },
  {
   "metadata": {
    "ExecuteTime": {
     "end_time": "2024-04-12T09:20:23.418857Z",
     "start_time": "2024-04-12T09:20:23.413883Z"
    }
   },
   "cell_type": "code",
   "source": "math.sqrt((math.cos(-60)*3 + (-math.sin(-60)*2))**2 + ((math.sin(-60)*3) + math.cos(-60)*2)**2) == math.sqrt(13)",
   "id": "9205f369ed9dd0cc",
   "outputs": [
    {
     "data": {
      "text/plain": [
       "True"
      ]
     },
     "execution_count": 4,
     "metadata": {},
     "output_type": "execute_result"
    }
   ],
   "execution_count": 4
  },
  {
   "metadata": {
    "ExecuteTime": {
     "end_time": "2024-04-13T08:35:10.881784Z",
     "start_time": "2024-04-13T08:35:10.879229Z"
    }
   },
   "cell_type": "code",
   "source": [
    "p3 = 4 + 4*0.2 + 6*0.2**2 + (10/6)*0.2**3\n",
    "f02 = (1 + math.e**0.2)**2\n",
    "p3-f02"
   ],
   "id": "3472bbf1950b29e0",
   "outputs": [
    {
     "data": {
      "text/plain": [
       "0.11870311937172495"
      ]
     },
     "execution_count": 10,
     "metadata": {},
     "output_type": "execute_result"
    }
   ],
   "execution_count": 10
  },
  {
   "metadata": {
    "ExecuteTime": {
     "end_time": "2024-04-13T08:46:41.118750Z",
     "start_time": "2024-04-13T08:46:41.116189Z"
    }
   },
   "cell_type": "code",
   "source": "math.sqrt(72)",
   "id": "58f843bc47c7f864",
   "outputs": [
    {
     "data": {
      "text/plain": [
       "8.48528137423857"
      ]
     },
     "execution_count": 12,
     "metadata": {},
     "output_type": "execute_result"
    }
   ],
   "execution_count": 12
  },
  {
   "metadata": {
    "ExecuteTime": {
     "end_time": "2024-04-17T13:20:46.476481Z",
     "start_time": "2024-04-17T13:20:46.463278Z"
    }
   },
   "cell_type": "code",
   "source": [
    "import math\n",
    "\n",
    "math.cos(math.radians(90))"
   ],
   "id": "83b31c210f8669af",
   "outputs": [
    {
     "data": {
      "text/plain": [
       "6.123233995736766e-17"
      ]
     },
     "execution_count": 20,
     "metadata": {},
     "output_type": "execute_result"
    }
   ],
   "execution_count": 20
  },
  {
   "metadata": {
    "ExecuteTime": {
     "end_time": "2024-05-01T07:00:17.200849Z",
     "start_time": "2024-05-01T07:00:17.198368Z"
    }
   },
   "cell_type": "code",
   "source": [
    "import math\n",
    "\n",
    "math.sqrt(3)/3"
   ],
   "id": "69b3543451b5cde9",
   "outputs": [
    {
     "data": {
      "text/plain": [
       "0.5773502691896257"
      ]
     },
     "execution_count": 13,
     "metadata": {},
     "output_type": "execute_result"
    }
   ],
   "execution_count": 13
  },
  {
   "metadata": {
    "ExecuteTime": {
     "end_time": "2024-05-01T07:00:08.501671Z",
     "start_time": "2024-05-01T07:00:08.499Z"
    }
   },
   "cell_type": "code",
   "source": "(4/math.sqrt(3))/4",
   "id": "420d579d838f50f9",
   "outputs": [
    {
     "data": {
      "text/plain": [
       "0.5773502691896258"
      ]
     },
     "execution_count": 10,
     "metadata": {},
     "output_type": "execute_result"
    }
   ],
   "execution_count": 10
  }
 ],
 "metadata": {
  "kernelspec": {
   "display_name": "Python 3",
   "language": "python",
   "name": "python3"
  },
  "language_info": {
   "codemirror_mode": {
    "name": "ipython",
    "version": 2
   },
   "file_extension": ".py",
   "mimetype": "text/x-python",
   "name": "python",
   "nbconvert_exporter": "python",
   "pygments_lexer": "ipython2",
   "version": "2.7.6"
  }
 },
 "nbformat": 4,
 "nbformat_minor": 5
}
