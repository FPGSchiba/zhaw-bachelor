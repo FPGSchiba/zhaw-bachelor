{
 "cells": [
  {
   "metadata": {
    "ExecuteTime": {
     "end_time": "2025-06-17T12:10:38.054441Z",
     "start_time": "2025-06-17T12:10:37.376022Z"
    }
   },
   "cell_type": "code",
   "source": [
    "import numpy as np\n",
    "import math\n",
    "import matplotlib.pyplot as plt"
   ],
   "id": "ac6637fa2ef2484e",
   "outputs": [],
   "execution_count": 2
  },
  {
   "metadata": {},
   "cell_type": "markdown",
   "source": "## Aufgabe 3",
   "id": "75ef92892d434a0e"
  },
  {
   "cell_type": "code",
   "id": "initial_id",
   "metadata": {
    "collapsed": true,
    "ExecuteTime": {
     "end_time": "2025-05-05T12:43:10.593038Z",
     "start_time": "2025-05-05T12:43:10.589589Z"
    }
   },
   "source": "-2 * math.cos(1) + 2 * math.sin(1)",
   "outputs": [
    {
     "data": {
      "text/plain": [
       "0.6023373578795135"
      ]
     },
     "execution_count": 2,
     "metadata": {},
     "output_type": "execute_result"
    }
   ],
   "execution_count": 2
  },
  {
   "metadata": {
    "ExecuteTime": {
     "end_time": "2025-05-05T12:46:54.681342Z",
     "start_time": "2025-05-05T12:46:54.676965Z"
    }
   },
   "cell_type": "code",
   "source": "2*np.sin(1)",
   "id": "4d994818b9df2760",
   "outputs": [
    {
     "data": {
      "text/plain": [
       "1.682941969615793"
      ]
     },
     "execution_count": 3,
     "metadata": {},
     "output_type": "execute_result"
    }
   ],
   "execution_count": 3
  },
  {
   "metadata": {
    "ExecuteTime": {
     "end_time": "2025-05-05T12:48:10.170835Z",
     "start_time": "2025-05-05T12:48:10.167802Z"
    }
   },
   "cell_type": "code",
   "source": "2*np.sin(1)",
   "id": "8fc4f7cbac23fa55",
   "outputs": [
    {
     "data": {
      "text/plain": [
       "1.682941969615793"
      ]
     },
     "execution_count": 4,
     "metadata": {},
     "output_type": "execute_result"
    }
   ],
   "execution_count": 4
  },
  {
   "metadata": {
    "ExecuteTime": {
     "end_time": "2025-05-05T12:50:12.294185Z",
     "start_time": "2025-05-05T12:50:12.291564Z"
    }
   },
   "cell_type": "code",
   "source": "(2*np.sin(1))/6",
   "id": "74f9429432353e41",
   "outputs": [
    {
     "data": {
      "text/plain": [
       "0.2804903282692988"
      ]
     },
     "execution_count": 5,
     "metadata": {},
     "output_type": "execute_result"
    }
   ],
   "execution_count": 5
  },
  {
   "metadata": {
    "ExecuteTime": {
     "end_time": "2025-05-05T12:54:29.825223Z",
     "start_time": "2025-05-05T12:54:29.818542Z"
    }
   },
   "cell_type": "code",
   "source": "(np.sin(1))/4 + (6*np.sin(1/3))/8",
   "id": "d83657f09788967e",
   "outputs": [
    {
     "data": {
      "text/plain": [
       "0.4557637687990883"
      ]
     },
     "execution_count": 6,
     "metadata": {},
     "output_type": "execute_result"
    }
   ],
   "execution_count": 6
  },
  {
   "metadata": {},
   "cell_type": "markdown",
   "source": "## Aufgabe 4",
   "id": "f167aad0de692d8c"
  },
  {
   "metadata": {
    "ExecuteTime": {
     "end_time": "2025-05-05T12:59:50.684917Z",
     "start_time": "2025-05-05T12:59:50.682291Z"
    }
   },
   "cell_type": "code",
   "source": "0.3*15.2",
   "id": "36f92800c29ff1f6",
   "outputs": [
    {
     "data": {
      "text/plain": [
       "4.56"
      ]
     },
     "execution_count": 7,
     "metadata": {},
     "output_type": "execute_result"
    }
   ],
   "execution_count": 7
  },
  {
   "metadata": {
    "ExecuteTime": {
     "end_time": "2025-05-05T13:03:23.784625Z",
     "start_time": "2025-05-05T13:03:23.781555Z"
    }
   },
   "cell_type": "code",
   "source": "0.3*10.9",
   "id": "4ed9e631d36de2a2",
   "outputs": [
    {
     "data": {
      "text/plain": [
       "3.27"
      ]
     },
     "execution_count": 9,
     "metadata": {},
     "output_type": "execute_result"
    }
   ],
   "execution_count": 9
  },
  {
   "metadata": {
    "ExecuteTime": {
     "end_time": "2025-05-05T13:12:35.330712Z",
     "start_time": "2025-05-05T13:12:35.324037Z"
    }
   },
   "cell_type": "code",
   "source": "0.1*sum([0.5, 4*0.6, 2*0.8, 4*1.3, 2*2, 4*3.2, 4.8])",
   "id": "a1433bdace135f76",
   "outputs": [
    {
     "data": {
      "text/plain": [
       "3.1300000000000003"
      ]
     },
     "execution_count": 11,
     "metadata": {},
     "output_type": "execute_result"
    }
   ],
   "execution_count": 11
  },
  {
   "metadata": {
    "ExecuteTime": {
     "end_time": "2025-05-05T13:15:07.735855Z",
     "start_time": "2025-05-05T13:15:07.732451Z"
    }
   },
   "cell_type": "code",
   "source": "(0.9/8)*sum([0.5, 3*0.6, 3*0.8, 2*1.3, 3*2, 3*3.2, 4.8])",
   "id": "fa4dd896b13fe2f3",
   "outputs": [
    {
     "data": {
      "text/plain": [
       "3.1162500000000004"
      ]
     },
     "execution_count": 12,
     "metadata": {},
     "output_type": "execute_result"
    }
   ],
   "execution_count": 12
  },
  {
   "metadata": {},
   "cell_type": "markdown",
   "source": "## Aufgabe 6",
   "id": "9ac0757fdb5e4d1e"
  },
  {
   "metadata": {
    "ExecuteTime": {
     "end_time": "2025-05-05T13:35:45.540551Z",
     "start_time": "2025-05-05T13:35:45.536350Z"
    }
   },
   "cell_type": "code",
   "source": "",
   "id": "8fcea71942101ac1",
   "outputs": [
    {
     "data": {
      "text/plain": [
       "1.5400883635269271"
      ]
     },
     "execution_count": 26,
     "metadata": {},
     "output_type": "execute_result"
    }
   ],
   "execution_count": 26
  },
  {
   "metadata": {
    "ExecuteTime": {
     "end_time": "2025-05-05T13:30:38.066723Z",
     "start_time": "2025-05-05T13:30:38.062839Z"
    }
   },
   "cell_type": "code",
   "source": "np.pi",
   "id": "d29ef5aafeb2ed30",
   "outputs": [
    {
     "data": {
      "text/plain": [
       "3.141592653589793"
      ]
     },
     "execution_count": 14,
     "metadata": {},
     "output_type": "execute_result"
    }
   ],
   "execution_count": 14
  },
  {
   "metadata": {
    "ExecuteTime": {
     "end_time": "2025-06-17T12:10:40.211984Z",
     "start_time": "2025-06-17T12:10:40.207223Z"
    }
   },
   "cell_type": "code",
   "source": [
    "A = np.array([[1, 1],\n",
    "              [2, 4],\n",
    "              [3, 9],\n",
    "              [4, 16]])\n",
    "b = np.array([13, 35.5, 68, 110.5])\n",
    "np.linalg.solve(A.T@A, A.T@b)"
   ],
   "id": "7309869e154a6d5f",
   "outputs": [
    {
     "data": {
      "text/plain": [
       "array([7.93548387, 4.91935484])"
      ]
     },
     "execution_count": 3,
     "metadata": {},
     "output_type": "execute_result"
    }
   ],
   "execution_count": 3
  }
 ],
 "metadata": {
  "kernelspec": {
   "display_name": "Python 3",
   "language": "python",
   "name": "python3"
  },
  "language_info": {
   "codemirror_mode": {
    "name": "ipython",
    "version": 2
   },
   "file_extension": ".py",
   "mimetype": "text/x-python",
   "name": "python",
   "nbconvert_exporter": "python",
   "pygments_lexer": "ipython2",
   "version": "2.7.6"
  }
 },
 "nbformat": 4,
 "nbformat_minor": 5
}
