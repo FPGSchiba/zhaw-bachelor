{
 "cells": [
  {
   "metadata": {},
   "cell_type": "markdown",
   "source": [
    "# Praktikum 7: Numerische Lineare gleichungssysteme\n",
    "\n",
    "## Aufgabe 3"
   ],
   "id": "73eb4b8504099583"
  },
  {
   "cell_type": "code",
   "id": "initial_id",
   "metadata": {
    "collapsed": true,
    "ExecuteTime": {
     "end_time": "2025-04-07T15:04:52.670634Z",
     "start_time": "2025-04-07T15:04:52.667746Z"
    }
   },
   "source": "import numpy as np",
   "outputs": [],
   "execution_count": 24
  },
  {
   "metadata": {
    "ExecuteTime": {
     "end_time": "2025-04-07T15:04:52.682136Z",
     "start_time": "2025-04-07T15:04:52.678558Z"
    }
   },
   "cell_type": "code",
   "source": "np.linalg.solve(np.array([[1, 2, -1], [4, -2, 6], [3, 1, 0]]), np.array([9, -4, 9]))",
   "id": "c802de7d46f0c023",
   "outputs": [
    {
     "data": {
      "text/plain": [
       "array([ 2.,  3., -1.])"
      ]
     },
     "execution_count": 25,
     "metadata": {},
     "output_type": "execute_result"
    }
   ],
   "execution_count": 25
  },
  {
   "metadata": {},
   "cell_type": "markdown",
   "source": [
    "## Aufgabe 5\n",
    "\n",
    "### a)"
   ],
   "id": "7e0d9c27e4080229"
  },
  {
   "metadata": {
    "ExecuteTime": {
     "end_time": "2025-04-07T15:04:52.737609Z",
     "start_time": "2025-04-07T15:04:52.708010Z"
    }
   },
   "cell_type": "code",
   "source": [
    "n = 22\n",
    "A = np.vander(np.linspace(0,1,n))\n",
    "x_ex = np.ones(n)\n",
    "b = A@x_ex\n",
    "x = np.linalg.solve(A,b)\n",
    "print(np.linalg.norm(x-x_ex)/np.linalg.norm(x_ex)*100)"
   ],
   "id": "7648ef5fd021cd28",
   "outputs": [
    {
     "name": "stdout",
     "output_type": "stream",
     "text": [
      "337.87252998241445\n"
     ]
    }
   ],
   "execution_count": 26
  },
  {
   "metadata": {},
   "cell_type": "markdown",
   "source": [
    "### b)\n",
    "\n",
    "\n"
   ],
   "id": "559013ed373fd951"
  },
  {
   "metadata": {
    "ExecuteTime": {
     "end_time": "2025-04-07T15:04:52.861452Z",
     "start_time": "2025-04-07T15:04:52.850649Z"
    }
   },
   "cell_type": "code",
   "source": [
    "# Matrix kondition\n",
    "np.linalg.cond(A) # Verstärkugsfaktor des fehlers"
   ],
   "id": "2ae9193c21b9ac4b",
   "outputs": [
    {
     "data": {
      "text/plain": [
       "4.960091142751438e+17"
      ]
     },
     "execution_count": 27,
     "metadata": {},
     "output_type": "execute_result"
    }
   ],
   "execution_count": 27
  },
  {
   "metadata": {
    "ExecuteTime": {
     "end_time": "2025-04-07T15:04:52.893051Z",
     "start_time": "2025-04-07T15:04:52.889030Z"
    }
   },
   "cell_type": "code",
   "source": [
    "# berechnung: r\n",
    "r = b - A@x"
   ],
   "id": "6c19c48e6dc08c86",
   "outputs": [],
   "execution_count": 28
  },
  {
   "metadata": {
    "ExecuteTime": {
     "end_time": "2025-04-07T15:04:52.911611Z",
     "start_time": "2025-04-07T15:04:52.905656Z"
    }
   },
   "cell_type": "code",
   "source": [
    "# Obere schranke für den Fehler\n",
    "np.linalg.cond(A)*np.linalg.norm(r)/np.linalg.norm(b) # Qualität der Approximation"
   ],
   "id": "3530cf6f9c63a492",
   "outputs": [
    {
     "data": {
      "text/plain": [
       "74.47253900391483"
      ]
     },
     "execution_count": 29,
     "metadata": {},
     "output_type": "execute_result"
    }
   ],
   "execution_count": 29
  },
  {
   "metadata": {},
   "cell_type": "markdown",
   "source": "## Aufgabe 6",
   "id": "ffbe4936d62c5a01"
  },
  {
   "metadata": {
    "ExecuteTime": {
     "end_time": "2025-04-07T15:04:52.939104Z",
     "start_time": "2025-04-07T15:04:52.932799Z"
    }
   },
   "cell_type": "code",
   "source": [
    "def forwardsubst (L, b):\n",
    "    # Loese L y = b durch Vorwaerts-Einsetzen (L: linke untere Dreiecksmatrix)\n",
    "    n = len (b)\n",
    "    y = np. zeros ([n,1])\n",
    "    bb = np.array(b, np.float64)\n",
    "    for i in range(n):\n",
    "        for j in range(i):\n",
    "            bb [i] = bb[i] - L[i, j] * y[j]\n",
    "        if L[i,i] == 0:\n",
    "            raise Exception ( 'L-Matrix ist singulaer!')\n",
    "        else:\n",
    "            y[i] = bb[i]/L[i,i]\n",
    "    return y\n",
    "\n",
    "def backsubst(U, y):\n",
    "    # Berechnet die Loesung x von U x = y durch Rueckwaerts-Einsetzen\n",
    "    # Dabei ist U eine rechte obere Dreiecksmatrix\n",
    "    n= len(y)\n",
    "    x = np.zeros ([n,1])\n",
    "    yy = np. array (y, np.float64)\n",
    "    for i in range (n-1, -1, -1):\n",
    "        for j in range ( i+1, n):\n",
    "            yy[i] = yy[i] - U[i,j] * x[j]\n",
    "        if U[i,i] == 0:\n",
    "            raise Exception('U-Matrix ist singulaer!')\n",
    "        else:\n",
    "            x[i] = yy[i]/U[i,i]\n",
    "    return x"
   ],
   "id": "e4f7060aa31ec074",
   "outputs": [],
   "execution_count": 30
  },
  {
   "metadata": {
    "ExecuteTime": {
     "end_time": "2025-04-07T15:04:52.960382Z",
     "start_time": "2025-04-07T15:04:52.954361Z"
    }
   },
   "cell_type": "code",
   "source": [
    "from scipy.linalg import lu\n",
    "\n",
    "A = np.array([[1, 2, -1], [4, -2, 6], [3, 1, 0]])\n",
    "b = np.array([9, -4, 9])\n",
    "P, L, U = lu(A)\n",
    "\n",
    "y = forwardsubst(L, P.transpose()@b)\n",
    "x = backsubst(U, y)\n",
    "\n",
    "print(x)"
   ],
   "id": "33ee2a2a2b906f4c",
   "outputs": [
    {
     "name": "stdout",
     "output_type": "stream",
     "text": [
      "[[ 2.]\n",
      " [ 3.]\n",
      " [-1.]]\n"
     ]
    },
    {
     "name": "stderr",
     "output_type": "stream",
     "text": [
      "/var/folders/g8/ts4wj2w128q2scsf9ttnhwq40000gn/T/ipykernel_92266/768354262.py:8: DeprecationWarning: Conversion of an array with ndim > 0 to a scalar is deprecated, and will error in future. Ensure you extract a single element from your array before performing this operation. (Deprecated NumPy 1.25.)\n",
      "  bb [i] = bb[i] - L[i, j] * y[j]\n"
     ]
    }
   ],
   "execution_count": 31
  }
 ],
 "metadata": {
  "kernelspec": {
   "display_name": "Python 3",
   "language": "python",
   "name": "python3"
  },
  "language_info": {
   "codemirror_mode": {
    "name": "ipython",
    "version": 2
   },
   "file_extension": ".py",
   "mimetype": "text/x-python",
   "name": "python",
   "nbconvert_exporter": "python",
   "pygments_lexer": "ipython2",
   "version": "2.7.6"
  }
 },
 "nbformat": 4,
 "nbformat_minor": 5
}
