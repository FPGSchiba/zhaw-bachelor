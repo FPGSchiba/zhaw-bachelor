{
 "cells": [
  {
   "cell_type": "code",
   "id": "initial_id",
   "metadata": {
    "collapsed": true,
    "ExecuteTime": {
     "end_time": "2025-03-17T09:02:29.341135Z",
     "start_time": "2025-03-17T09:02:28.980137Z"
    }
   },
   "source": [
    "import numpy as np\n",
    "import matplotlib.pyplot as plt"
   ],
   "outputs": [],
   "execution_count": 1
  },
  {
   "metadata": {
    "ExecuteTime": {
     "end_time": "2025-03-17T09:13:20.582561Z",
     "start_time": "2025-03-17T09:12:59.817947Z"
    }
   },
   "cell_type": "code",
   "source": "",
   "id": "b1131d3dd37d1e77",
   "outputs": [
    {
     "name": "stdout",
     "output_type": "stream",
     "text": [
      "Willkommen beim Zahlen raten. Sie müssen eine Zahl zwischen 1 und 8 erraten.\n",
      "\n",
      "Die gesuchte Zahl ist höher.\n",
      "Die gesuchte Zahl ist höher.\n",
      "Sehr gut! Sie haben die Zahl gefunden!.\n"
     ]
    }
   ],
   "execution_count": 2
  }
 ],
 "metadata": {
  "kernelspec": {
   "display_name": "Python 3",
   "language": "python",
   "name": "python3"
  },
  "language_info": {
   "codemirror_mode": {
    "name": "ipython",
    "version": 2
   },
   "file_extension": ".py",
   "mimetype": "text/x-python",
   "name": "python",
   "nbconvert_exporter": "python",
   "pygments_lexer": "ipython2",
   "version": "2.7.6"
  }
 },
 "nbformat": 4,
 "nbformat_minor": 5
}
