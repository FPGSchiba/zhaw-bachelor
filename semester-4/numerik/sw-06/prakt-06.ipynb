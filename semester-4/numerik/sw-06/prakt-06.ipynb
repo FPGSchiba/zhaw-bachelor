{
 "cells": [
  {
   "metadata": {},
   "cell_type": "markdown",
   "source": [
    "# Praktikum 06\n",
    "\n",
    "## Aufgabe 1\n",
    "\n",
    "### 2)"
   ],
   "id": "4f435aea742847d3"
  },
  {
   "cell_type": "code",
   "id": "initial_id",
   "metadata": {
    "collapsed": true,
    "ExecuteTime": {
     "end_time": "2025-03-28T08:55:25.526073Z",
     "start_time": "2025-03-28T08:55:25.029542Z"
    }
   },
   "source": [
    "import numpy as np\n",
    "from matplotlib import pyplot as plt\n",
    "\n",
    "x = (-0.5, -0.5) # 2D-Startwert\n",
    "tol = 1.e-10 # Abbruchtoleranz\n",
    "k = 0\n",
    "f = (x[0]**2 + x[1]**2 + 0.6*x[1] - 0.16, x[0]**2 - x[1]**2 + x[0] - 1.6*x[1] - 0.14) # Auswertung von 2D-f in x\n",
    "res = np.linalg.norm(f)\n",
    "# Norm von Vektor f\n",
    "while res > tol:\n",
    "    k += 1\n",
    "    # mehrdimensionale Ableitung (Jacobimatrix) an Stelle x\n",
    "    J = np.array([[2*x[0], 2*x[1] + 0.6], [2*x[0] + 1, -2*x[1] - 1.6]])\n",
    "    # x = x - J^(-1)*f %2D Newton\n",
    "    # Gauss-Algorithmus, numerisch besser als d=inv(J)*f\n",
    "    d = np.linalg.solve(J, f)\n",
    "    x = x- d # 2D Newton-Schritt\n",
    "    f = (x[0]**2 + x[1]**2 + 0.6*x[1] - 0.16, x[0]**2 - x[1]**2 + x[0] - 1.6*x[1] - 0.14) # 2D-f an neuer Stelle x\n",
    "    res = np.linalg.norm(f)\n",
    "print(\"x =\", x, \"in\", k, \"Schritten\" )"
   ],
   "outputs": [
    {
     "name": "stdout",
     "output_type": "stream",
     "text": [
      "x = [-0.5 -0.3] in 5 Schritten\n"
     ]
    }
   ],
   "execution_count": 2
  },
  {
   "metadata": {},
   "cell_type": "markdown",
   "source": "### 3)",
   "id": "b5c36b1fd46ff8a8"
  },
  {
   "metadata": {
    "ExecuteTime": {
     "end_time": "2025-03-28T08:55:25.541535Z",
     "start_time": "2025-03-28T08:55:25.528535Z"
    }
   },
   "cell_type": "code",
   "source": [
    "# Multi Newton\n",
    "def newton(f, J, x0, tol=1.e-10):\n",
    "    max_loops = 1000\n",
    "    x = x0\n",
    "    k = 0\n",
    "    res = np.linalg.norm(f(x))\n",
    "    while res > tol and k < max_loops:\n",
    "        k += 1\n",
    "        d = np.linalg.solve(J(x), f(x))\n",
    "        x = x - d\n",
    "        res = np.linalg.norm(f(x))\n",
    "    return x, k"
   ],
   "id": "565c0b110ca04cc3",
   "outputs": [],
   "execution_count": 3
  },
  {
   "metadata": {
    "ExecuteTime": {
     "end_time": "2025-03-28T08:55:25.557070Z",
     "start_time": "2025-03-28T08:55:25.543535Z"
    }
   },
   "cell_type": "code",
   "source": [
    "f = lambda x: (x[0]**2 + x[0]*x[1]**3 - 9, 3*x[0]**2*x[1] - x[1]**3 - 4)\n",
    "J = lambda x: np.array([[2*x[0] + x[1]**3, 3*x[0]*x[1]**2], [6*x[0]*x[1], 3*x[0]**2 - 3*x[1]**2]])\n",
    "\n",
    "x0 = np.array([3, -1])\n",
    "print(f\"{x0}: {newton(f, J, x0)}\")\n",
    "\n",
    "x1 = np.array([1, 2])\n",
    "print(f\"{x1}: {newton(f, J, x1)}\")\n",
    "\n",
    "x2 = np.array([1, -1.5])\n",
    "print(f\"{x2}: {newton(f, J, x1)}\")\n",
    "\n",
    "x3 = np.array([0, -2])\n",
    "print(f\"{x3}: {newton(f, J, x1)}\")"
   ],
   "id": "bc7a9258c6aedc8d",
   "outputs": [
    {
     "name": "stdout",
     "output_type": "stream",
     "text": [
      "[ 3 -1]: (array([2.99836535, 0.14843098]), 6)\n",
      "[1 2]: (array([1.33635538, 1.7542352 ]), 4)\n",
      "[ 1.  -1.5]: (array([1.33635538, 1.7542352 ]), 4)\n",
      "[ 0 -2]: (array([1.33635538, 1.7542352 ]), 4)\n"
     ]
    }
   ],
   "execution_count": 4
  },
  {
   "metadata": {},
   "cell_type": "markdown",
   "source": "## Aufgabe 2",
   "id": "6283d6797e69635b"
  },
  {
   "metadata": {
    "ExecuteTime": {
     "end_time": "2025-03-28T08:55:25.572535Z",
     "start_time": "2025-03-28T08:55:25.558542Z"
    }
   },
   "cell_type": "code",
   "source": [
    "def newton_tol(f, f1, x0, tol=1.e-10):\n",
    "    x = x0\n",
    "    i = 0\n",
    "    while abs(f(x)) > tol and i < 100:\n",
    "        i += 1\n",
    "        x = x - f(x) / f1(x)\n",
    "    return x"
   ],
   "id": "aef3de2bcab8f6d9",
   "outputs": [],
   "execution_count": 5
  },
  {
   "metadata": {
    "ExecuteTime": {
     "end_time": "2025-03-28T08:55:25.588066Z",
     "start_time": "2025-03-28T08:55:25.576036Z"
    }
   },
   "cell_type": "code",
   "source": [
    "f_1 = lambda x: 1+np.tan(x)**2 - np.exp(x)\n",
    "f_2 = lambda x: 2*np.tan(x) + 2*np.tan(x)**3 - np.exp(x)\n",
    "newton_tol(f_1, f_2, 0.8)"
   ],
   "id": "e21d952df4a3d7b1",
   "outputs": [
    {
     "data": {
      "text/plain": [
       "0.8644392227690583"
      ]
     },
     "execution_count": 6,
     "metadata": {},
     "output_type": "execute_result"
    }
   ],
   "execution_count": 6
  },
  {
   "metadata": {},
   "cell_type": "markdown",
   "source": "### Aufgabe 3",
   "id": "530302c53b53b04b"
  },
  {
   "metadata": {
    "ExecuteTime": {
     "end_time": "2025-03-28T08:55:25.603569Z",
     "start_time": "2025-03-28T08:55:25.589541Z"
    }
   },
   "cell_type": "code",
   "source": [
    "f = lambda x: (-2*x[0]**3 + 3*x[1]**2 + 42, 5*x[0]**2 + 3*x[1]**3 - 69)\n",
    "J = lambda x: np.array([[-6*x[0]**2, 6*x[1]], [10*x[0], 9*x[1]**2]])\n",
    "\n",
    "x0 = np.array([1, 1])\n",
    "print(f\"{x0}: {newton(f, J, x0, tol=1.e-8)}\")"
   ],
   "id": "c528547f9f02e0ee",
   "outputs": [
    {
     "name": "stdout",
     "output_type": "stream",
     "text": [
      "[1 1]: (array([3., 2.]), 16)\n"
     ]
    }
   ],
   "execution_count": 7
  },
  {
   "metadata": {},
   "cell_type": "markdown",
   "source": "## Aufgabe 4",
   "id": "4ab12d4760fc9fe7"
  },
  {
   "metadata": {
    "ExecuteTime": {
     "end_time": "2025-03-28T08:55:25.619065Z",
     "start_time": "2025-03-28T08:55:25.606035Z"
    }
   },
   "cell_type": "code",
   "source": [
    "f = lambda x: (x[0]*np.exp(x[1]) - 1, x[1] - 1 - x[0]**2)\n",
    "J = lambda x: np.array([[np.exp(x[1]), x[0]*np.exp(x[1])], [-2*x[0], 1]])\n",
    "\n",
    "x0 = np.array([-1, -1])\n",
    "print(f\"{x0}: {newton(f, J, x0, tol=1.e-6)}\")"
   ],
   "id": "930c946af90a1881",
   "outputs": [
    {
     "name": "stdout",
     "output_type": "stream",
     "text": [
      "[-1 -1]: (array([0.32993569, 1.10885756]), 11)\n"
     ]
    }
   ],
   "execution_count": 8
  },
  {
   "metadata": {},
   "cell_type": "markdown",
   "source": [
    "## Aufgabe 7\n",
    "\n",
    "### a)"
   ],
   "id": "740c698beb6bffc"
  },
  {
   "metadata": {
    "ExecuteTime": {
     "end_time": "2025-03-28T08:55:25.789535Z",
     "start_time": "2025-03-28T08:55:25.620542Z"
    }
   },
   "cell_type": "code",
   "source": [
    "f_1 = lambda x: x[0]**2 - x[1] -1\n",
    "f_2 = lambda x: (x[0] - 2)**2 + (x[1] - 1/2)**2 - 1\n",
    "\n",
    "x = np.linspace(-2, 2, 100)\n",
    "y = np.linspace(-2, 2, 100)\n",
    "X, Y = np.meshgrid(x, y)\n",
    "\n",
    "fig, ax = plt.subplots()\n",
    "\n",
    "ax.contour(X, Y, [[f_1([x, y]) for x in np.linspace(-2, 2, 100)] for y in np.linspace(-2, 2, 100)], levels=[0], colors='b')\n",
    "x = np.linspace(0, 4, 100)\n",
    "y = np.linspace(-2, 2, 100)\n",
    "X, Y = np.meshgrid(x, y)\n",
    "ax.contour(X, Y, [[f_2([x, y]) for x in np.linspace(0, 4, 100)] for y in np.linspace(-2, 2, 100)], levels=[0], colors='r')\n",
    "plt.show()"
   ],
   "id": "e15bba4d2b084ec",
   "outputs": [
    {
     "data": {
      "text/plain": [
       "<Figure size 640x480 with 1 Axes>"
      ],
      "image/png": "[encoded data removed]"
     },
     "metadata": {},
     "output_type": "display_data"
    }
   ],
   "execution_count": 9
  },
  {
   "metadata": {
    "ExecuteTime": {
     "end_time": "2025-03-28T08:55:25.805072Z",
     "start_time": "2025-03-28T08:55:25.791535Z"
    }
   },
   "cell_type": "code",
   "source": [
    "x0 = np.array([1, 0])\n",
    "J = lambda x: np.array([[2*x[0], -1], [2*x[0] - 4, 2*x[1] - 1]])\n",
    "newton(lambda x: (f_1(x), f_2(x)), J, x0)"
   ],
   "id": "5268d4d8101566e3",
   "outputs": [
    {
     "data": {
      "text/plain": [
       "(array([1.06734609, 0.13922767]), 4)"
      ]
     },
     "execution_count": 10,
     "metadata": {},
     "output_type": "execute_result"
    }
   ],
   "execution_count": 10
  },
  {
   "metadata": {
    "ExecuteTime": {
     "end_time": "2025-03-28T08:55:25.820570Z",
     "start_time": "2025-03-28T08:55:25.807070Z"
    }
   },
   "cell_type": "code",
   "source": [
    "x1 = np.array([2, 1])\n",
    "J = lambda x: np.array([[2*x[0], -1], [2*x[0] - 4, 2*x[1] - 1]])\n",
    "newton(lambda x: (f_1(x), f_2(x)), J, x1)"
   ],
   "id": "a113124816566744",
   "outputs": [
    {
     "data": {
      "text/plain": [
       "(array([1.54634288, 1.39117631]), 5)"
      ]
     },
     "execution_count": 11,
     "metadata": {},
     "output_type": "execute_result"
    }
   ],
   "execution_count": 11
  }
 ],
 "metadata": {
  "kernelspec": {
   "display_name": "Python 3",
   "language": "python",
   "name": "python3"
  },
  "language_info": {
   "codemirror_mode": {
    "name": "ipython",
    "version": 2
   },
   "file_extension": ".py",
   "mimetype": "text/x-python",
   "name": "python",
   "nbconvert_exporter": "python",
   "pygments_lexer": "ipython2",
   "version": "2.7.6"
  }
 },
 "nbformat": 4,
 "nbformat_minor": 5
}
