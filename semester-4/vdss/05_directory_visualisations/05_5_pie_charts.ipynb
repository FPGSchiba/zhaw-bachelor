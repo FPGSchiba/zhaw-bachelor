{
 "cells": [
  {
   "cell_type": "markdown",
   "metadata": {},
   "source": [
    "# Pie charts vs Bar plots"
   ]
  },
  {
   "cell_type": "code",
   "metadata": {
    "ExecuteTime": {
     "end_time": "2025-03-22T13:13:04.432386Z",
     "start_time": "2025-03-22T13:13:04.419896Z"
    }
   },
   "source": [
    "import os\n",
    "from dotenv import load_dotenv, find_dotenv\n",
    "\n",
    "import numpy as np\n",
    "import pandas as pd\n",
    "from matplotlib import pyplot as plt\n",
    "import matplotlib as mpl\n",
    "\n",
    "load_dotenv(find_dotenv(usecwd=True));\n",
    "data_folder=os.getenv('DATA_FOLDER')\n",
    "\n",
    "# makes the inline-figures in notebooks look crisper\n",
    "%config InlineBackend.figure_format = 'svg'\n",
    "\n",
    "# Define colors\n",
    "four_greys = [mpl.colormaps['tab20c_r'](i) for i in range(4)]\n",
    "\n",
    "facecolor = four_greys[2]\n",
    "\n",
    "edgecolor = 'black'\n",
    "\n",
    "# Get the \"PuBu\" color map with 7 colors\n",
    "seven_blues = plt.cm.PuBu(np.linspace(0, 1, 8))[1:] \n",
    "# Select the last 4 colors \n",
    "four_blues = plt.cm.PuBu(np.linspace(0, 1, 8))[-4:]\n",
    "\n",
    "colors_okabeito = ['#000000', '#E69F00', '#56B4E9', '#009E73', '#F0E442', '#0072B2', '#D55E00', '#CC79A7']\n",
    "\n",
    "lw = 2\n",
    "\n",
    "fs_xl = 36 # titles\n",
    "fs_l = 24 # subtitles\n",
    "fs_m = 16 # axs[0]s[0]es and tick labels\n",
    "fs_s = 14 # small stuff\n",
    "\n",
    "figsize_rect = (9, 5)\n",
    "figsize_square = (8, 8)\n",
    "\n",
    "def stamp(ax, color, alpha, label, clip_on=False, linewidth=5, fontsize=fs_m):\n",
    "    ax.text(1.0, 1.0, label + \"  \", color=color, alpha=alpha, fontsize=fontsize, weight='bold',\n",
    "            va='top', ha='right', transform=ax.figure.transFigure, clip_on=clip_on)\n",
    "    ax.add_patch(mpl.patches.ConnectionPatch(xyA=(1, 0), xyB=(1, 1), coordsA=\"figure fraction\", \n",
    "                                         coordsB=\"figure fraction\", axesA=ax, axesB=ax, \n",
    "                                         color=color, alpha=alpha, linewidth=linewidth,\n",
    "                                         capstyle='butt', transform=ax.figure.transFigure))\n",
    "\n",
    "def stamp_good(ax):\n",
    "    stamp(ax, \"olivedrab\", 0.7, \"good\")\n",
    "\n",
    "def stamp_phantom(ax):\n",
    "    stamp(ax, \"transparent\", 0, \"\")\n",
    "\n",
    "def stamp_bad(ax):\n",
    "    stamp(ax, \"#d02138\", 1, \"bad\")\n",
    "\n",
    "def stamp_wrong(ax):\n",
    "    stamp(ax, \"#8E202C\", 1, \"wrong\")\n",
    "\n",
    "def stamp_ugly(ax):\n",
    "    stamp(ax, \"#DC9515\", 1, \"ugly\")\n",
    "\n",
    "def plot_color_grid(colors):\n",
    "    fig, ax = plt.subplots(1, 1, figsize=(len(colors), 1))\n",
    "\n",
    "    for i, color in enumerate(colors):\n",
    "        rect = mpl.patches.Rectangle((i, 0), 1, 1, facecolor=color)\n",
    "        ax.add_patch(rect)\n",
    "\n",
    "    ax.set_xlim(0, len(colors))\n",
    "    ax.set_ylim(0, 1)\n",
    "    ax.axis('off')  # Hide axes\n",
    "    plt.show()"
   ],
   "outputs": [],
   "execution_count": 13
  },
  {
   "cell_type": "markdown",
   "metadata": {},
   "source": [
    "## Attribution and License{.smaller}\n",
    "The content of this presentation is based on chapter 10, Visualizing proportions in Wilke, Claus O. *Fundamentals in Data Vizualizations*;  O'Reilly Media Inc., 2019. \n",
    "\n",
    "The [author's manuscript](https://clauswilke.com/dataviz), [source code](https://github.com/clauswilke/dataviz) and [accompanying R-package](https://github.com/clauswilke/dviz.supp) are available online, licensed under the [Attribution-NonCommercial-NoDerivatives 4.0 International License](https://creativecommons.org/licenses/by-nc-nd/4.0/legalcode)."
   ]
  },
  {
   "cell_type": "code",
   "metadata": {
    "ExecuteTime": {
     "end_time": "2025-03-22T13:13:04.438926Z",
     "start_time": "2025-03-22T13:13:04.436153Z"
    }
   },
   "source": [
    "data_bundestag = {'party': ['CDU/CSU', 'SPD', 'FDP'], 'seats': [243, 214, 39],\n",
    "                  'colors': ['#4E4E4E', '#B6494A', '#E7D739'],\n",
    "                  'colors_original': ['#000000', '#E30113', '#FFED00']}\n",
    "\n",
    "bundestag = pd.DataFrame(data_bundestag)"
   ],
   "outputs": [],
   "execution_count": 14
  },
  {
   "cell_type": "code",
   "metadata": {
    "ExecuteTime": {
     "end_time": "2025-03-22T13:13:04.475597Z",
     "start_time": "2025-03-22T13:13:04.453710Z"
    }
   },
   "source": [
    "bundestag = bundestag.sort_values('seats')\n",
    "\n",
    "# Calculate the total number of seats\n",
    "seat_total = bundestag['seats'].sum()\n",
    "\n",
    "# Calculate the angles for the pie slices\n",
    "bundestag['angle'] = 2 * np.pi * bundestag['seats'] / seat_total\n",
    "\n",
    "# Calculate the cumulative sum of the angles\n",
    "bundestag['cumsum'] = np.cumsum(bundestag['angle'])\n",
    "\n",
    "# Calculate the mid angle for the labels\n",
    "bundestag['mid_angle'] = bundestag['cumsum'] - 0.5 * bundestag['angle']\n",
    "\n",
    "# Create the pie chart\n",
    "fig, ax = plt.subplots(figsize=figsize_rect)\n",
    "\n",
    "# Draw the pie slices\n",
    "ax.pie(bundestag['seats'], labels=bundestag['party'], colors=bundestag['colors'],\n",
    "       startangle=90.0, counterclock=False, textprops={'fontsize': fs_m}, \n",
    "       wedgeprops=dict(edgecolor='white', linewidth=2))\n",
    "\n",
    "\n",
    "# Draw the labels\n",
    "for i, row in bundestag.iterrows():\n",
    "    x = 0.5 * np.sin(row['mid_angle'])\n",
    "    y = 0.5 * np.cos(row['mid_angle'])\n",
    "    ax.text(x, y, row['seats'], ha='center', va='center', fontsize=fs_m)\n",
    "\n",
    "# Set the aspect ratio of the plot to 1 to ensure the pie is drawn as a circle\n",
    "ax.set_aspect('equal')\n",
    "\n",
    "plt.show()"
   ],
   "outputs": [
    {
     "data": {
      "text/plain": [
       "<Figure size 900x500 with 1 Axes>"
      ],
      "image/svg+xml": "<?xml version=\"1.0\" encoding=\"utf-8\" standalone=\"no\"?>\n<!DOCTYPE svg PUBLIC \"-//W3C//DTD SVG 1.1//EN\"\n  \"http://www.w3.org/Graphics/SVG/1.1/DTD/svg11.dtd\">\n<svg xmlns:xlink=\"http://www.w3.org/1999/xlink\" width=\"359.326418pt\" height=\"291.6pt\" viewBox=\"0 0 359.326418 291.6\" xmlns=\"http://www.w3.org/2000/svg\" version=\"1.1\">\n <metadata>\n  <rdf:RDF xmlns:dc=\"http://purl.org/dc/elements/1.1/\" xmlns:cc=\"http://creativecommons.org/ns#\" xmlns:rdf=\"http://www.w3.org/1999/02/22-rdf-syntax-ns#\">\n   <cc:Work>\n    <dc:type rdf:resource=\"http://purl.org/dc/dcmitype/StillImage\"/>\n    <dc:date>2025-03-22T14:13:04.471237</dc:date>\n    <dc:format>image/svg+xml</dc:format>\n    <dc:creator>\n     <cc:Agent>\n      <dc:title>Matplotlib v3.10.0, https://matplotlib.org/</dc:title>\n     </cc:Agent>\n    </dc:creator>\n   </cc:Work>\n  </rdf:RDF>\n </metadata>\n <defs>\n  <style type=\"text/css\">*{stroke-linejoin: round; stroke-linecap: butt}</style>\n </defs>\n <g id=\"figure_1\">\n  <g id=\"patch_1\">\n   <path d=\"M 0 291.6 \nL 359.326418 291.6 \nL 359.326418 0 \nL 0 0 \nz\n\" style=\"fill: #ffffff\"/>\n  </g>\n  <g id=\"axes_1\">\n   <g id=\"patch_2\">\n    <path d=\"M 255.317238 48.178591 \nC 247.268876 43.843825 238.715232 40.520957 229.851256 38.285727 \nC 220.987279 36.050496 211.880801 34.92 202.739337 34.92 \nL 202.739342 145.8 \nz\n\" style=\"fill: #e7d739; stroke: #ffffff; stroke-width: 2; stroke-linejoin: miter\"/>\n   </g>\n   <g id=\"patch_3\">\n    <path d=\"M 195.72107 256.457661 \nC 220.956132 258.058154 245.994988 250.97934 266.656712 236.403226 \nC 287.318432 221.827111 302.385215 200.612809 309.341228 176.302651 \nC 316.297241 151.992494 314.732503 126.019304 304.908286 102.720063 \nC 295.084069 79.420818 277.579431 60.168783 255.317238 48.178591 \nL 202.739342 145.8 \nz\n\" style=\"fill: #b6494a; stroke: #ffffff; stroke-width: 2; stroke-linejoin: miter\"/>\n   </g>\n   <g id=\"patch_4\">\n    <path d=\"M 202.739343 34.92 \nC 173.950236 34.92 146.263354 46.132304 125.586605 66.164395 \nC 104.909856 86.196485 92.826517 113.514436 91.914943 142.289103 \nC 91.003362 171.063772 101.333356 199.091776 120.700691 220.392458 \nC 140.068026 241.693139 166.989693 254.635425 195.72107 256.457661 \nL 202.739342 145.8 \nz\n\" style=\"fill: #4e4e4e; stroke: #ffffff; stroke-width: 2; stroke-linejoin: miter\"/>\n   </g>\n   <g id=\"matplotlib.axis_1\"/>\n   <g id=\"matplotlib.axis_2\"/>\n   <g id=\"text_1\">\n    <!-- FDP -->\n    <g transform=\"translate(232.562447 31.949302) scale(0.16 -0.16)\">\n     <defs>\n      <path id=\"DejaVuSans-46\" d=\"M 628 4666 \nL 3309 4666 \nL 3309 4134 \nL 1259 4134 \nL 1259 2759 \nL 3109 2759 \nL 3109 2228 \nL 1259 2228 \nL 1259 0 \nL 628 0 \nL 628 4666 \nz\n\" transform=\"scale(0.015625)\"/>\n      <path id=\"DejaVuSans-44\" d=\"M 1259 4147 \nL 1259 519 \nL 2022 519 \nQ 2988 519 3436 956 \nQ 3884 1394 3884 2338 \nQ 3884 3275 3436 3711 \nQ 2988 4147 2022 4147 \nL 1259 4147 \nz\nM 628 4666 \nL 1925 4666 \nQ 3281 4666 3915 4102 \nQ 4550 3538 4550 2338 \nQ 4550 1131 3912 565 \nQ 3275 0 1925 0 \nL 628 0 \nL 628 4666 \nz\n\" transform=\"scale(0.015625)\"/>\n      <path id=\"DejaVuSans-50\" d=\"M 1259 4147 \nL 1259 2394 \nL 2053 2394 \nQ 2494 2394 2734 2622 \nQ 2975 2850 2975 3272 \nQ 2975 3691 2734 3919 \nQ 2494 4147 2053 4147 \nL 1259 4147 \nz\nM 628 4666 \nL 2053 4666 \nQ 2838 4666 3239 4311 \nQ 3641 3956 3641 3272 \nQ 3641 2581 3239 2228 \nQ 2838 1875 2053 1875 \nL 1259 1875 \nL 1259 0 \nL 628 0 \nL 628 4666 \nz\n\" transform=\"scale(0.015625)\"/>\n     </defs>\n     <use xlink:href=\"#DejaVuSans-46\"/>\n     <use xlink:href=\"#DejaVuSans-44\" transform=\"translate(57.519531 0)\"/>\n     <use xlink:href=\"#DejaVuSans-50\" transform=\"translate(134.521484 0)\"/>\n    </g>\n   </g>\n   <g id=\"text_2\">\n    <!-- SPD -->\n    <g transform=\"translate(320.001418 183.767921) scale(0.16 -0.16)\">\n     <defs>\n      <path id=\"DejaVuSans-53\" d=\"M 3425 4513 \nL 3425 3897 \nQ 3066 4069 2747 4153 \nQ 2428 4238 2131 4238 \nQ 1616 4238 1336 4038 \nQ 1056 3838 1056 3469 \nQ 1056 3159 1242 3001 \nQ 1428 2844 1947 2747 \nL 2328 2669 \nQ 3034 2534 3370 2195 \nQ 3706 1856 3706 1288 \nQ 3706 609 3251 259 \nQ 2797 -91 1919 -91 \nQ 1588 -91 1214 -16 \nQ 841 59 441 206 \nL 441 856 \nQ 825 641 1194 531 \nQ 1563 422 1919 422 \nQ 2459 422 2753 634 \nQ 3047 847 3047 1241 \nQ 3047 1584 2836 1778 \nQ 2625 1972 2144 2069 \nL 1759 2144 \nQ 1053 2284 737 2584 \nQ 422 2884 422 3419 \nQ 422 4038 858 4394 \nQ 1294 4750 2059 4750 \nQ 2388 4750 2728 4690 \nQ 3069 4631 3425 4513 \nz\n\" transform=\"scale(0.015625)\"/>\n     </defs>\n     <use xlink:href=\"#DejaVuSans-53\"/>\n     <use xlink:href=\"#DejaVuSans-50\" transform=\"translate(63.476562 0)\"/>\n     <use xlink:href=\"#DejaVuSans-44\" transform=\"translate(123.779297 0)\"/>\n    </g>\n   </g>\n   <g id=\"text_3\">\n    <!-- CDU/CSU -->\n    <g transform=\"translate(7.2 146.353013) scale(0.16 -0.16)\">\n     <defs>\n      <path id=\"DejaVuSans-43\" d=\"M 4122 4306 \nL 4122 3641 \nQ 3803 3938 3442 4084 \nQ 3081 4231 2675 4231 \nQ 1875 4231 1450 3742 \nQ 1025 3253 1025 2328 \nQ 1025 1406 1450 917 \nQ 1875 428 2675 428 \nQ 3081 428 3442 575 \nQ 3803 722 4122 1019 \nL 4122 359 \nQ 3791 134 3420 21 \nQ 3050 -91 2638 -91 \nQ 1578 -91 968 557 \nQ 359 1206 359 2328 \nQ 359 3453 968 4101 \nQ 1578 4750 2638 4750 \nQ 3056 4750 3426 4639 \nQ 3797 4528 4122 4306 \nz\n\" transform=\"scale(0.015625)\"/>\n      <path id=\"DejaVuSans-55\" d=\"M 556 4666 \nL 1191 4666 \nL 1191 1831 \nQ 1191 1081 1462 751 \nQ 1734 422 2344 422 \nQ 2950 422 3222 751 \nQ 3494 1081 3494 1831 \nL 3494 4666 \nL 4128 4666 \nL 4128 1753 \nQ 4128 841 3676 375 \nQ 3225 -91 2344 -91 \nQ 1459 -91 1007 375 \nQ 556 841 556 1753 \nL 556 4666 \nz\n\" transform=\"scale(0.015625)\"/>\n      <path id=\"DejaVuSans-2f\" d=\"M 1625 4666 \nL 2156 4666 \nL 531 -594 \nL 0 -594 \nL 1625 4666 \nz\n\" transform=\"scale(0.015625)\"/>\n     </defs>\n     <use xlink:href=\"#DejaVuSans-43\"/>\n     <use xlink:href=\"#DejaVuSans-44\" transform=\"translate(69.824219 0)\"/>\n     <use xlink:href=\"#DejaVuSans-55\" transform=\"translate(146.826172 0)\"/>\n     <use xlink:href=\"#DejaVuSans-2f\" transform=\"translate(220.019531 0)\"/>\n     <use xlink:href=\"#DejaVuSans-43\" transform=\"translate(253.710938 0)\"/>\n     <use xlink:href=\"#DejaVuSans-53\" transform=\"translate(323.535156 0)\"/>\n     <use xlink:href=\"#DejaVuSans-55\" transform=\"translate(387.011719 0)\"/>\n    </g>\n   </g>\n   <g id=\"text_4\">\n    <!-- 39 -->\n    <g transform=\"translate(206.115302 96.457865) scale(0.16 -0.16)\">\n     <defs>\n      <path id=\"DejaVuSans-33\" d=\"M 2597 2516 \nQ 3050 2419 3304 2112 \nQ 3559 1806 3559 1356 \nQ 3559 666 3084 287 \nQ 2609 -91 1734 -91 \nQ 1441 -91 1130 -33 \nQ 819 25 488 141 \nL 488 750 \nQ 750 597 1062 519 \nQ 1375 441 1716 441 \nQ 2309 441 2620 675 \nQ 2931 909 2931 1356 \nQ 2931 1769 2642 2001 \nQ 2353 2234 1838 2234 \nL 1294 2234 \nL 1294 2753 \nL 1863 2753 \nQ 2328 2753 2575 2939 \nQ 2822 3125 2822 3475 \nQ 2822 3834 2567 4026 \nQ 2313 4219 1838 4219 \nQ 1578 4219 1281 4162 \nQ 984 4106 628 3988 \nL 628 4550 \nQ 988 4650 1302 4700 \nQ 1616 4750 1894 4750 \nQ 2613 4750 3031 4423 \nQ 3450 4097 3450 3541 \nQ 3450 3153 3228 2886 \nQ 3006 2619 2597 2516 \nz\n\" transform=\"scale(0.015625)\"/>\n      <path id=\"DejaVuSans-39\" d=\"M 703 97 \nL 703 672 \nQ 941 559 1184 500 \nQ 1428 441 1663 441 \nQ 2288 441 2617 861 \nQ 2947 1281 2994 2138 \nQ 2813 1869 2534 1725 \nQ 2256 1581 1919 1581 \nQ 1219 1581 811 2004 \nQ 403 2428 403 3163 \nQ 403 3881 828 4315 \nQ 1253 4750 1959 4750 \nQ 2769 4750 3195 4129 \nQ 3622 3509 3622 2328 \nQ 3622 1225 3098 567 \nQ 2575 -91 1691 -91 \nQ 1453 -91 1209 -44 \nQ 966 3 703 97 \nz\nM 1959 2075 \nQ 2384 2075 2632 2365 \nQ 2881 2656 2881 3163 \nQ 2881 3666 2632 3958 \nQ 2384 4250 1959 4250 \nQ 1534 4250 1286 3958 \nQ 1038 3666 1038 3163 \nQ 1038 2656 1286 2365 \nQ 1534 2075 1959 2075 \nz\n\" transform=\"scale(0.015625)\"/>\n     </defs>\n     <use xlink:href=\"#DejaVuSans-33\"/>\n     <use xlink:href=\"#DejaVuSans-39\" transform=\"translate(63.623047 0)\"/>\n    </g>\n   </g>\n   <g id=\"text_5\">\n    <!-- 214 -->\n    <g transform=\"translate(240.770285 165.466328) scale(0.16 -0.16)\">\n     <defs>\n      <path id=\"DejaVuSans-32\" d=\"M 1228 531 \nL 3431 531 \nL 3431 0 \nL 469 0 \nL 469 531 \nQ 828 903 1448 1529 \nQ 2069 2156 2228 2338 \nQ 2531 2678 2651 2914 \nQ 2772 3150 2772 3378 \nQ 2772 3750 2511 3984 \nQ 2250 4219 1831 4219 \nQ 1534 4219 1204 4116 \nQ 875 4013 500 3803 \nL 500 4441 \nQ 881 4594 1212 4672 \nQ 1544 4750 1819 4750 \nQ 2544 4750 2975 4387 \nQ 3406 4025 3406 3419 \nQ 3406 3131 3298 2873 \nQ 3191 2616 2906 2266 \nQ 2828 2175 2409 1742 \nQ 1991 1309 1228 531 \nz\n\" transform=\"scale(0.015625)\"/>\n      <path id=\"DejaVuSans-31\" d=\"M 794 531 \nL 1825 531 \nL 1825 4091 \nL 703 3866 \nL 703 4441 \nL 1819 4666 \nL 2450 4666 \nL 2450 531 \nL 3481 531 \nL 3481 0 \nL 794 0 \nL 794 531 \nz\n\" transform=\"scale(0.015625)\"/>\n      <path id=\"DejaVuSans-34\" d=\"M 2419 4116 \nL 825 1625 \nL 2419 1625 \nL 2419 4116 \nz\nM 2253 4666 \nL 3047 4666 \nL 3047 1625 \nL 3713 1625 \nL 3713 1100 \nL 3047 1100 \nL 3047 0 \nL 2419 0 \nL 2419 1100 \nL 313 1100 \nL 313 1709 \nL 2253 4666 \nz\n\" transform=\"scale(0.015625)\"/>\n     </defs>\n     <use xlink:href=\"#DejaVuSans-32\"/>\n     <use xlink:href=\"#DejaVuSans-31\" transform=\"translate(63.623047 0)\"/>\n     <use xlink:href=\"#DejaVuSans-34\" transform=\"translate(127.246094 0)\"/>\n    </g>\n   </g>\n   <g id=\"text_6\">\n    <!-- 243 -->\n    <g transform=\"translate(132.057141 148.459549) scale(0.16 -0.16)\">\n     <use xlink:href=\"#DejaVuSans-32\"/>\n     <use xlink:href=\"#DejaVuSans-34\" transform=\"translate(63.623047 0)\"/>\n     <use xlink:href=\"#DejaVuSans-33\" transform=\"translate(127.246094 0)\"/>\n    </g>\n   </g>\n  </g>\n </g>\n</svg>\n"
     },
     "metadata": {},
     "output_type": "display_data"
    }
   ],
   "execution_count": 15
  },
  {
   "cell_type": "code",
   "metadata": {
    "ExecuteTime": {
     "end_time": "2025-03-22T13:13:04.559802Z",
     "start_time": "2025-03-22T13:13:04.488333Z"
    }
   },
   "source": [
    "bundestag = bundestag.sort_values('seats', ascending=False)\n",
    "\n",
    "# Calculate the cumulative sum of the seats\n",
    "bundestag['cumsum'] = np.cumsum(bundestag['seats'])\n",
    "\n",
    "# Calculate the y position for the labels\n",
    "bundestag['label_y'] = bundestag['cumsum'] - 0.5 * bundestag['seats']\n",
    "\n",
    "# Create the bar plot\n",
    "fig, axs = plt.subplots(nrows=1, ncols=2, figsize=figsize_rect,\n",
    "                        gridspec_kw={'width_ratios': [1, 2]})\n",
    "\n",
    "bar_width = 0.5\n",
    "\n",
    "bars = []\n",
    "for i, row in bundestag.iterrows():\n",
    "    bars.append(axs[0].bar(0, row['seats'], bottom=row['label_y'] - row['seats'] / 2,\n",
    "           color=row['colors'], label=row['party'], width=bar_width,\n",
    "           align='edge'))\n",
    "\n",
    "# Draw the labels\n",
    "for bar, label_y, seats, party in zip(bars, bundestag['label_y'], bundestag['seats'], bundestag['party']):\n",
    "    axs[0].text(bar_width/2, label_y, seats, ha='center', va='center', fontsize=fs_m)\n",
    "\n",
    "    axs[0].text(bar_width, label_y, ' ' + party, ha='left', va='center', fontsize=fs_m)\n",
    "\n",
    "# Set the x limits to remove the space between the y-axis and the bars\n",
    "axs[0].set_xlim(0, 1)\n",
    "\n",
    "# Remove the x-axis\n",
    "axs[0].xaxis.set_visible(False)\n",
    "\n",
    "# Remove the y-axis\n",
    "# ax.yaxis.set_visible(False)\n",
    "axs[0].set_ylabel('seats', fontsize=fs_m)\n",
    "\n",
    "# Set the y-ticks color to grey\n",
    "axs[0].tick_params(axis='y', colors='grey', labelsize=fs_s)\n",
    "\n",
    "# Set the y-tick labels color to black\n",
    "for label in axs[0].get_yticklabels():\n",
    "    label.set_color('black')\n",
    "\n",
    "# Set the y-ticks color to grey\n",
    "for line in axs[0].yaxis.get_ticklines():\n",
    "    line.set_color('grey')\n",
    "\n",
    "# Remove the plot frame\n",
    "axs[0].set_frame_on(False)\n",
    "\n",
    "\n",
    "# Get the position of axs[0] and axs[1]\n",
    "pos_axs0 = axs[0].get_position()\n",
    "pos_axs1 = axs[1].get_position()\n",
    "\n",
    "# Calculate the width of axs[0] and the height of axs[1]\n",
    "width_axs0 = pos_axs0.x1 - pos_axs0.x0\n",
    "height_axs1 = pos_axs1.y1 - pos_axs1.y0\n",
    "\n",
    "# Calculate the ratio\n",
    "ratio = width_axs0 / height_axs1\n",
    "\n",
    "h_bar_height = bar_width * ratio *2\n",
    "\n",
    "bars = []\n",
    "for i, row in bundestag.iterrows():\n",
    "    bars.append(axs[1].barh(1-h_bar_height, row['seats'], left=row['label_y'] - row['seats'] / 2,\n",
    "           color=row['colors'], label=row['party'], height=h_bar_height, align='edge'))\n",
    "\n",
    "# Draw the labels\n",
    "for bar, label_y, seats, party in zip(bars, bundestag['label_y'], bundestag['seats'], bundestag['party']):\n",
    "    axs[1].text(label_y, 1-h_bar_height/2, seats, ha='center', va='center', fontsize=fs_m)\n",
    "    axs[1].text(label_y, 1-h_bar_height*1.1, party, ha='center', va='top', fontsize=fs_m)\n",
    "\n",
    "# Set the y limits to remove the space between the x-axis and the bars\n",
    "axs[1].set_ylim(0, 1)\n",
    "\n",
    "# Remove the y-axis\n",
    "axs[1].yaxis.set_visible(False)\n",
    "\n",
    "# Set the x-axis label\n",
    "axs[1].set_xlabel('seats', fontsize=fs_m)\n",
    "axs[1].xaxis.set_label_position('top')\n",
    "\n",
    "# Set the x-ticks color to grey\n",
    "axs[1].tick_params(axis='x', colors='grey', labelsize=fs_s)\n",
    "# Move the x-ticks to the top\n",
    "axs[1].xaxis.tick_top()\n",
    "\n",
    "# Set the x-tick labels color to black\n",
    "for label in axs[1].get_xticklabels():\n",
    "    label.set_color('black')\n",
    "\n",
    "# Set the x-ticks color to grey\n",
    "for line in axs[1].xaxis.get_ticklines():\n",
    "    line.set_color('grey')\n",
    "\n",
    "# Remove the plot frame\n",
    "axs[1].set_frame_on(False)\n",
    "\n",
    "# Add label 'a)' to axs[0]\n",
    "axs[0].text(-0.1, 1.15, 'a)', transform=axs[0].transAxes, fontsize=16, fontweight='bold', va='top')\n",
    "\n",
    "# Add label 'b)' to axs[1]\n",
    "axs[1].text(-0.1, 1.15, 'b)', transform=axs[1].transAxes, fontsize=16, fontweight='bold', va='top')\n",
    "plt.show()"
   ],
   "outputs": [
    {
     "data": {
      "text/plain": [
       "<Figure size 900x500 with 2 Axes>"
      ],
      "image/svg+xml": "<?xml version=\"1.0\" encoding=\"utf-8\" standalone=\"no\"?>\n<!DOCTYPE svg PUBLIC \"-//W3C//DTD SVG 1.1//EN\"\n  \"http://www.w3.org/Graphics/SVG/1.1/DTD/svg11.dtd\">\n<svg xmlns:xlink=\"http://www.w3.org/1999/xlink\" width=\"571.012906pt\" height=\"341.410469pt\" viewBox=\"0 0 571.012906 341.410469\" xmlns=\"http://www.w3.org/2000/svg\" version=\"1.1\">\n <metadata>\n  <rdf:RDF xmlns:dc=\"http://purl.org/dc/elements/1.1/\" xmlns:cc=\"http://creativecommons.org/ns#\" xmlns:rdf=\"http://www.w3.org/1999/02/22-rdf-syntax-ns#\">\n   <cc:Work>\n    <dc:type rdf:resource=\"http://purl.org/dc/dcmitype/StillImage\"/>\n    <dc:date>2025-03-22T14:13:04.542728</dc:date>\n    <dc:format>image/svg+xml</dc:format>\n    <dc:creator>\n     <cc:Agent>\n      <dc:title>Matplotlib v3.10.0, https://matplotlib.org/</dc:title>\n     </cc:Agent>\n    </dc:creator>\n   </cc:Work>\n  </rdf:RDF>\n </metadata>\n <defs>\n  <style type=\"text/css\">*{stroke-linejoin: round; stroke-linecap: butt}</style>\n </defs>\n <g id=\"figure_1\">\n  <g id=\"patch_1\">\n   <path d=\"M 0 341.410469 \nL 571.012906 341.410469 \nL 571.012906 0 \nL 0 0 \nz\n\" style=\"fill: #ffffff\"/>\n  </g>\n  <g id=\"axes_1\">\n   <g id=\"patch_2\">\n    <path d=\"M 60.4075 325.98 \nL 136.498409 325.98 \nL 136.498409 196.64129 \nL 60.4075 196.64129 \nz\n\" clip-path=\"url(#pd55b913195)\" style=\"fill: #4e4e4e\"/>\n   </g>\n   <g id=\"patch_3\">\n    <path d=\"M 60.4075 196.64129 \nL 136.498409 196.64129 \nL 136.498409 82.738065 \nL 60.4075 82.738065 \nz\n\" clip-path=\"url(#pd55b913195)\" style=\"fill: #b6494a\"/>\n   </g>\n   <g id=\"patch_4\">\n    <path d=\"M 60.4075 82.738065 \nL 136.498409 82.738065 \nL 136.498409 61.98 \nL 60.4075 61.98 \nz\n\" clip-path=\"url(#pd55b913195)\" style=\"fill: #e7d739\"/>\n   </g>\n   <g id=\"matplotlib.axis_1\">\n    <g id=\"ytick_1\">\n     <g id=\"line2d_1\">\n      <defs>\n       <path id=\"m1da833d381\" d=\"M 0 0 \nL -3.5 0 \n\" style=\"stroke: #808080; stroke-width: 0.8\"/>\n      </defs>\n      <g>\n       <use xlink:href=\"#m1da833d381\" x=\"60.4075\" y=\"325.98\" style=\"fill: #808080; stroke: #808080; stroke-width: 0.8\"/>\n      </g>\n     </g>\n     <g id=\"text_1\">\n      <!-- 0 -->\n      <g transform=\"translate(44.5 331.298906) scale(0.14 -0.14)\">\n       <defs>\n        <path id=\"DejaVuSans-30\" d=\"M 2034 4250 \nQ 1547 4250 1301 3770 \nQ 1056 3291 1056 2328 \nQ 1056 1369 1301 889 \nQ 1547 409 2034 409 \nQ 2525 409 2770 889 \nQ 3016 1369 3016 2328 \nQ 3016 3291 2770 3770 \nQ 2525 4250 2034 4250 \nz\nM 2034 4750 \nQ 2819 4750 3233 4129 \nQ 3647 3509 3647 2328 \nQ 3647 1150 3233 529 \nQ 2819 -91 2034 -91 \nQ 1250 -91 836 529 \nQ 422 1150 422 2328 \nQ 422 3509 836 4129 \nQ 1250 4750 2034 4750 \nz\n\" transform=\"scale(0.015625)\"/>\n       </defs>\n       <use xlink:href=\"#DejaVuSans-30\"/>\n      </g>\n     </g>\n    </g>\n    <g id=\"ytick_2\">\n     <g id=\"line2d_2\">\n      <g>\n       <use xlink:href=\"#m1da833d381\" x=\"60.4075\" y=\"272.754194\" style=\"fill: #808080; stroke: #808080; stroke-width: 0.8\"/>\n      </g>\n     </g>\n     <g id=\"text_2\">\n      <!-- 100 -->\n      <g transform=\"translate(26.685 278.0731) scale(0.14 -0.14)\">\n       <defs>\n        <path id=\"DejaVuSans-31\" d=\"M 794 531 \nL 1825 531 \nL 1825 4091 \nL 703 3866 \nL 703 4441 \nL 1819 4666 \nL 2450 4666 \nL 2450 531 \nL 3481 531 \nL 3481 0 \nL 794 0 \nL 794 531 \nz\n\" transform=\"scale(0.015625)\"/>\n       </defs>\n       <use xlink:href=\"#DejaVuSans-31\"/>\n       <use xlink:href=\"#DejaVuSans-30\" transform=\"translate(63.623047 0)\"/>\n       <use xlink:href=\"#DejaVuSans-30\" transform=\"translate(127.246094 0)\"/>\n      </g>\n     </g>\n    </g>\n    <g id=\"ytick_3\">\n     <g id=\"line2d_3\">\n      <g>\n       <use xlink:href=\"#m1da833d381\" x=\"60.4075\" y=\"219.528387\" style=\"fill: #808080; stroke: #808080; stroke-width: 0.8\"/>\n      </g>\n     </g>\n     <g id=\"text_3\">\n      <!-- 200 -->\n      <g transform=\"translate(26.685 224.847293) scale(0.14 -0.14)\">\n       <defs>\n        <path id=\"DejaVuSans-32\" d=\"M 1228 531 \nL 3431 531 \nL 3431 0 \nL 469 0 \nL 469 531 \nQ 828 903 1448 1529 \nQ 2069 2156 2228 2338 \nQ 2531 2678 2651 2914 \nQ 2772 3150 2772 3378 \nQ 2772 3750 2511 3984 \nQ 2250 4219 1831 4219 \nQ 1534 4219 1204 4116 \nQ 875 4013 500 3803 \nL 500 4441 \nQ 881 4594 1212 4672 \nQ 1544 4750 1819 4750 \nQ 2544 4750 2975 4387 \nQ 3406 4025 3406 3419 \nQ 3406 3131 3298 2873 \nQ 3191 2616 2906 2266 \nQ 2828 2175 2409 1742 \nQ 1991 1309 1228 531 \nz\n\" transform=\"scale(0.015625)\"/>\n       </defs>\n       <use xlink:href=\"#DejaVuSans-32\"/>\n       <use xlink:href=\"#DejaVuSans-30\" transform=\"translate(63.623047 0)\"/>\n       <use xlink:href=\"#DejaVuSans-30\" transform=\"translate(127.246094 0)\"/>\n      </g>\n     </g>\n    </g>\n    <g id=\"ytick_4\">\n     <g id=\"line2d_4\">\n      <g>\n       <use xlink:href=\"#m1da833d381\" x=\"60.4075\" y=\"166.302581\" style=\"fill: #808080; stroke: #808080; stroke-width: 0.8\"/>\n      </g>\n     </g>\n     <g id=\"text_4\">\n      <!-- 300 -->\n      <g transform=\"translate(26.685 171.621487) scale(0.14 -0.14)\">\n       <defs>\n        <path id=\"DejaVuSans-33\" d=\"M 2597 2516 \nQ 3050 2419 3304 2112 \nQ 3559 1806 3559 1356 \nQ 3559 666 3084 287 \nQ 2609 -91 1734 -91 \nQ 1441 -91 1130 -33 \nQ 819 25 488 141 \nL 488 750 \nQ 750 597 1062 519 \nQ 1375 441 1716 441 \nQ 2309 441 2620 675 \nQ 2931 909 2931 1356 \nQ 2931 1769 2642 2001 \nQ 2353 2234 1838 2234 \nL 1294 2234 \nL 1294 2753 \nL 1863 2753 \nQ 2328 2753 2575 2939 \nQ 2822 3125 2822 3475 \nQ 2822 3834 2567 4026 \nQ 2313 4219 1838 4219 \nQ 1578 4219 1281 4162 \nQ 984 4106 628 3988 \nL 628 4550 \nQ 988 4650 1302 4700 \nQ 1616 4750 1894 4750 \nQ 2613 4750 3031 4423 \nQ 3450 4097 3450 3541 \nQ 3450 3153 3228 2886 \nQ 3006 2619 2597 2516 \nz\n\" transform=\"scale(0.015625)\"/>\n       </defs>\n       <use xlink:href=\"#DejaVuSans-33\"/>\n       <use xlink:href=\"#DejaVuSans-30\" transform=\"translate(63.623047 0)\"/>\n       <use xlink:href=\"#DejaVuSans-30\" transform=\"translate(127.246094 0)\"/>\n      </g>\n     </g>\n    </g>\n    <g id=\"ytick_5\">\n     <g id=\"line2d_5\">\n      <g>\n       <use xlink:href=\"#m1da833d381\" x=\"60.4075\" y=\"113.076774\" style=\"fill: #808080; stroke: #808080; stroke-width: 0.8\"/>\n      </g>\n     </g>\n     <g id=\"text_5\">\n      <!-- 400 -->\n      <g transform=\"translate(26.685 118.39568) scale(0.14 -0.14)\">\n       <defs>\n        <path id=\"DejaVuSans-34\" d=\"M 2419 4116 \nL 825 1625 \nL 2419 1625 \nL 2419 4116 \nz\nM 2253 4666 \nL 3047 4666 \nL 3047 1625 \nL 3713 1625 \nL 3713 1100 \nL 3047 1100 \nL 3047 0 \nL 2419 0 \nL 2419 1100 \nL 313 1100 \nL 313 1709 \nL 2253 4666 \nz\n\" transform=\"scale(0.015625)\"/>\n       </defs>\n       <use xlink:href=\"#DejaVuSans-34\"/>\n       <use xlink:href=\"#DejaVuSans-30\" transform=\"translate(63.623047 0)\"/>\n       <use xlink:href=\"#DejaVuSans-30\" transform=\"translate(127.246094 0)\"/>\n      </g>\n     </g>\n    </g>\n    <g id=\"ytick_6\">\n     <g id=\"line2d_6\">\n      <g>\n       <use xlink:href=\"#m1da833d381\" x=\"60.4075\" y=\"59.850968\" style=\"fill: #808080; stroke: #808080; stroke-width: 0.8\"/>\n      </g>\n     </g>\n     <g id=\"text_6\">\n      <!-- 500 -->\n      <g transform=\"translate(26.685 65.169874) scale(0.14 -0.14)\">\n       <defs>\n        <path id=\"DejaVuSans-35\" d=\"M 691 4666 \nL 3169 4666 \nL 3169 4134 \nL 1269 4134 \nL 1269 2991 \nQ 1406 3038 1543 3061 \nQ 1681 3084 1819 3084 \nQ 2600 3084 3056 2656 \nQ 3513 2228 3513 1497 \nQ 3513 744 3044 326 \nQ 2575 -91 1722 -91 \nQ 1428 -91 1123 -41 \nQ 819 9 494 109 \nL 494 744 \nQ 775 591 1075 516 \nQ 1375 441 1709 441 \nQ 2250 441 2565 725 \nQ 2881 1009 2881 1497 \nQ 2881 1984 2565 2268 \nQ 2250 2553 1709 2553 \nQ 1456 2553 1204 2497 \nQ 953 2441 691 2322 \nL 691 4666 \nz\n\" transform=\"scale(0.015625)\"/>\n       </defs>\n       <use xlink:href=\"#DejaVuSans-35\"/>\n       <use xlink:href=\"#DejaVuSans-30\" transform=\"translate(63.623047 0)\"/>\n       <use xlink:href=\"#DejaVuSans-30\" transform=\"translate(127.246094 0)\"/>\n      </g>\n     </g>\n    </g>\n    <g id=\"text_7\">\n     <!-- seats -->\n     <g transform=\"translate(19.3575 208.67625) rotate(-90) scale(0.16 -0.16)\">\n      <defs>\n       <path id=\"DejaVuSans-73\" d=\"M 2834 3397 \nL 2834 2853 \nQ 2591 2978 2328 3040 \nQ 2066 3103 1784 3103 \nQ 1356 3103 1142 2972 \nQ 928 2841 928 2578 \nQ 928 2378 1081 2264 \nQ 1234 2150 1697 2047 \nL 1894 2003 \nQ 2506 1872 2764 1633 \nQ 3022 1394 3022 966 \nQ 3022 478 2636 193 \nQ 2250 -91 1575 -91 \nQ 1294 -91 989 -36 \nQ 684 19 347 128 \nL 347 722 \nQ 666 556 975 473 \nQ 1284 391 1588 391 \nQ 1994 391 2212 530 \nQ 2431 669 2431 922 \nQ 2431 1156 2273 1281 \nQ 2116 1406 1581 1522 \nL 1381 1569 \nQ 847 1681 609 1914 \nQ 372 2147 372 2553 \nQ 372 3047 722 3315 \nQ 1072 3584 1716 3584 \nQ 2034 3584 2315 3537 \nQ 2597 3491 2834 3397 \nz\n\" transform=\"scale(0.015625)\"/>\n       <path id=\"DejaVuSans-65\" d=\"M 3597 1894 \nL 3597 1613 \nL 953 1613 \nQ 991 1019 1311 708 \nQ 1631 397 2203 397 \nQ 2534 397 2845 478 \nQ 3156 559 3463 722 \nL 3463 178 \nQ 3153 47 2828 -22 \nQ 2503 -91 2169 -91 \nQ 1331 -91 842 396 \nQ 353 884 353 1716 \nQ 353 2575 817 3079 \nQ 1281 3584 2069 3584 \nQ 2775 3584 3186 3129 \nQ 3597 2675 3597 1894 \nz\nM 3022 2063 \nQ 3016 2534 2758 2815 \nQ 2500 3097 2075 3097 \nQ 1594 3097 1305 2825 \nQ 1016 2553 972 2059 \nL 3022 2063 \nz\n\" transform=\"scale(0.015625)\"/>\n       <path id=\"DejaVuSans-61\" d=\"M 2194 1759 \nQ 1497 1759 1228 1600 \nQ 959 1441 959 1056 \nQ 959 750 1161 570 \nQ 1363 391 1709 391 \nQ 2188 391 2477 730 \nQ 2766 1069 2766 1631 \nL 2766 1759 \nL 2194 1759 \nz\nM 3341 1997 \nL 3341 0 \nL 2766 0 \nL 2766 531 \nQ 2569 213 2275 61 \nQ 1981 -91 1556 -91 \nQ 1019 -91 701 211 \nQ 384 513 384 1019 \nQ 384 1609 779 1909 \nQ 1175 2209 1959 2209 \nL 2766 2209 \nL 2766 2266 \nQ 2766 2663 2505 2880 \nQ 2244 3097 1772 3097 \nQ 1472 3097 1187 3025 \nQ 903 2953 641 2809 \nL 641 3341 \nQ 956 3463 1253 3523 \nQ 1550 3584 1831 3584 \nQ 2591 3584 2966 3190 \nQ 3341 2797 3341 1997 \nz\n\" transform=\"scale(0.015625)\"/>\n       <path id=\"DejaVuSans-74\" d=\"M 1172 4494 \nL 1172 3500 \nL 2356 3500 \nL 2356 3053 \nL 1172 3053 \nL 1172 1153 \nQ 1172 725 1289 603 \nQ 1406 481 1766 481 \nL 2356 481 \nL 2356 0 \nL 1766 0 \nQ 1100 0 847 248 \nQ 594 497 594 1153 \nL 594 3053 \nL 172 3053 \nL 172 3500 \nL 594 3500 \nL 594 4494 \nL 1172 4494 \nz\n\" transform=\"scale(0.015625)\"/>\n      </defs>\n      <use xlink:href=\"#DejaVuSans-73\"/>\n      <use xlink:href=\"#DejaVuSans-65\" transform=\"translate(52.099609 0)\"/>\n      <use xlink:href=\"#DejaVuSans-61\" transform=\"translate(113.623047 0)\"/>\n      <use xlink:href=\"#DejaVuSans-74\" transform=\"translate(174.902344 0)\"/>\n      <use xlink:href=\"#DejaVuSans-73\" transform=\"translate(214.111328 0)\"/>\n     </g>\n    </g>\n   </g>\n   <g id=\"text_8\">\n    <!-- 243 -->\n    <g transform=\"translate(83.182955 265.725645) scale(0.16 -0.16)\">\n     <use xlink:href=\"#DejaVuSans-32\"/>\n     <use xlink:href=\"#DejaVuSans-34\" transform=\"translate(63.623047 0)\"/>\n     <use xlink:href=\"#DejaVuSans-33\" transform=\"translate(127.246094 0)\"/>\n    </g>\n   </g>\n   <g id=\"text_9\">\n    <!--  CDU/CSU -->\n    <g transform=\"translate(136.498409 265.725645) scale(0.16 -0.16)\">\n     <defs>\n      <path id=\"DejaVuSans-20\" transform=\"scale(0.015625)\"/>\n      <path id=\"DejaVuSans-43\" d=\"M 4122 4306 \nL 4122 3641 \nQ 3803 3938 3442 4084 \nQ 3081 4231 2675 4231 \nQ 1875 4231 1450 3742 \nQ 1025 3253 1025 2328 \nQ 1025 1406 1450 917 \nQ 1875 428 2675 428 \nQ 3081 428 3442 575 \nQ 3803 722 4122 1019 \nL 4122 359 \nQ 3791 134 3420 21 \nQ 3050 -91 2638 -91 \nQ 1578 -91 968 557 \nQ 359 1206 359 2328 \nQ 359 3453 968 4101 \nQ 1578 4750 2638 4750 \nQ 3056 4750 3426 4639 \nQ 3797 4528 4122 4306 \nz\n\" transform=\"scale(0.015625)\"/>\n      <path id=\"DejaVuSans-44\" d=\"M 1259 4147 \nL 1259 519 \nL 2022 519 \nQ 2988 519 3436 956 \nQ 3884 1394 3884 2338 \nQ 3884 3275 3436 3711 \nQ 2988 4147 2022 4147 \nL 1259 4147 \nz\nM 628 4666 \nL 1925 4666 \nQ 3281 4666 3915 4102 \nQ 4550 3538 4550 2338 \nQ 4550 1131 3912 565 \nQ 3275 0 1925 0 \nL 628 0 \nL 628 4666 \nz\n\" transform=\"scale(0.015625)\"/>\n      <path id=\"DejaVuSans-55\" d=\"M 556 4666 \nL 1191 4666 \nL 1191 1831 \nQ 1191 1081 1462 751 \nQ 1734 422 2344 422 \nQ 2950 422 3222 751 \nQ 3494 1081 3494 1831 \nL 3494 4666 \nL 4128 4666 \nL 4128 1753 \nQ 4128 841 3676 375 \nQ 3225 -91 2344 -91 \nQ 1459 -91 1007 375 \nQ 556 841 556 1753 \nL 556 4666 \nz\n\" transform=\"scale(0.015625)\"/>\n      <path id=\"DejaVuSans-2f\" d=\"M 1625 4666 \nL 2156 4666 \nL 531 -594 \nL 0 -594 \nL 1625 4666 \nz\n\" transform=\"scale(0.015625)\"/>\n      <path id=\"DejaVuSans-53\" d=\"M 3425 4513 \nL 3425 3897 \nQ 3066 4069 2747 4153 \nQ 2428 4238 2131 4238 \nQ 1616 4238 1336 4038 \nQ 1056 3838 1056 3469 \nQ 1056 3159 1242 3001 \nQ 1428 2844 1947 2747 \nL 2328 2669 \nQ 3034 2534 3370 2195 \nQ 3706 1856 3706 1288 \nQ 3706 609 3251 259 \nQ 2797 -91 1919 -91 \nQ 1588 -91 1214 -16 \nQ 841 59 441 206 \nL 441 856 \nQ 825 641 1194 531 \nQ 1563 422 1919 422 \nQ 2459 422 2753 634 \nQ 3047 847 3047 1241 \nQ 3047 1584 2836 1778 \nQ 2625 1972 2144 2069 \nL 1759 2144 \nQ 1053 2284 737 2584 \nQ 422 2884 422 3419 \nQ 422 4038 858 4394 \nQ 1294 4750 2059 4750 \nQ 2388 4750 2728 4690 \nQ 3069 4631 3425 4513 \nz\n\" transform=\"scale(0.015625)\"/>\n     </defs>\n     <use xlink:href=\"#DejaVuSans-20\"/>\n     <use xlink:href=\"#DejaVuSans-43\" transform=\"translate(31.787109 0)\"/>\n     <use xlink:href=\"#DejaVuSans-44\" transform=\"translate(101.611328 0)\"/>\n     <use xlink:href=\"#DejaVuSans-55\" transform=\"translate(178.613281 0)\"/>\n     <use xlink:href=\"#DejaVuSans-2f\" transform=\"translate(251.806641 0)\"/>\n     <use xlink:href=\"#DejaVuSans-43\" transform=\"translate(285.498047 0)\"/>\n     <use xlink:href=\"#DejaVuSans-53\" transform=\"translate(355.322266 0)\"/>\n     <use xlink:href=\"#DejaVuSans-55\" transform=\"translate(418.798828 0)\"/>\n    </g>\n   </g>\n   <g id=\"text_10\">\n    <!-- 214 -->\n    <g transform=\"translate(83.182955 144.104677) scale(0.16 -0.16)\">\n     <use xlink:href=\"#DejaVuSans-32\"/>\n     <use xlink:href=\"#DejaVuSans-31\" transform=\"translate(63.623047 0)\"/>\n     <use xlink:href=\"#DejaVuSans-34\" transform=\"translate(127.246094 0)\"/>\n    </g>\n   </g>\n   <g id=\"text_11\">\n    <!--  SPD -->\n    <g transform=\"translate(136.498409 144.104677) scale(0.16 -0.16)\">\n     <defs>\n      <path id=\"DejaVuSans-50\" d=\"M 1259 4147 \nL 1259 2394 \nL 2053 2394 \nQ 2494 2394 2734 2622 \nQ 2975 2850 2975 3272 \nQ 2975 3691 2734 3919 \nQ 2494 4147 2053 4147 \nL 1259 4147 \nz\nM 628 4666 \nL 2053 4666 \nQ 2838 4666 3239 4311 \nQ 3641 3956 3641 3272 \nQ 3641 2581 3239 2228 \nQ 2838 1875 2053 1875 \nL 1259 1875 \nL 1259 0 \nL 628 0 \nL 628 4666 \nz\n\" transform=\"scale(0.015625)\"/>\n     </defs>\n     <use xlink:href=\"#DejaVuSans-20\"/>\n     <use xlink:href=\"#DejaVuSans-53\" transform=\"translate(31.787109 0)\"/>\n     <use xlink:href=\"#DejaVuSans-50\" transform=\"translate(95.263672 0)\"/>\n     <use xlink:href=\"#DejaVuSans-44\" transform=\"translate(155.566406 0)\"/>\n    </g>\n   </g>\n   <g id=\"text_12\">\n    <!-- 39 -->\n    <g transform=\"translate(88.272955 76.774032) scale(0.16 -0.16)\">\n     <defs>\n      <path id=\"DejaVuSans-39\" d=\"M 703 97 \nL 703 672 \nQ 941 559 1184 500 \nQ 1428 441 1663 441 \nQ 2288 441 2617 861 \nQ 2947 1281 2994 2138 \nQ 2813 1869 2534 1725 \nQ 2256 1581 1919 1581 \nQ 1219 1581 811 2004 \nQ 403 2428 403 3163 \nQ 403 3881 828 4315 \nQ 1253 4750 1959 4750 \nQ 2769 4750 3195 4129 \nQ 3622 3509 3622 2328 \nQ 3622 1225 3098 567 \nQ 2575 -91 1691 -91 \nQ 1453 -91 1209 -44 \nQ 966 3 703 97 \nz\nM 1959 2075 \nQ 2384 2075 2632 2365 \nQ 2881 2656 2881 3163 \nQ 2881 3666 2632 3958 \nQ 2384 4250 1959 4250 \nQ 1534 4250 1286 3958 \nQ 1038 3666 1038 3163 \nQ 1038 2656 1286 2365 \nQ 1534 2075 1959 2075 \nz\n\" transform=\"scale(0.015625)\"/>\n     </defs>\n     <use xlink:href=\"#DejaVuSans-33\"/>\n     <use xlink:href=\"#DejaVuSans-39\" transform=\"translate(63.623047 0)\"/>\n    </g>\n   </g>\n   <g id=\"text_13\">\n    <!--  FDP -->\n    <g transform=\"translate(136.498409 76.774032) scale(0.16 -0.16)\">\n     <defs>\n      <path id=\"DejaVuSans-46\" d=\"M 628 4666 \nL 3309 4666 \nL 3309 4134 \nL 1259 4134 \nL 1259 2759 \nL 3109 2759 \nL 3109 2228 \nL 1259 2228 \nL 1259 0 \nL 628 0 \nL 628 4666 \nz\n\" transform=\"scale(0.015625)\"/>\n     </defs>\n     <use xlink:href=\"#DejaVuSans-20\"/>\n     <use xlink:href=\"#DejaVuSans-46\" transform=\"translate(31.787109 0)\"/>\n     <use xlink:href=\"#DejaVuSans-44\" transform=\"translate(89.306641 0)\"/>\n     <use xlink:href=\"#DejaVuSans-50\" transform=\"translate(166.308594 0)\"/>\n    </g>\n   </g>\n   <g id=\"text_14\">\n    <!-- a) -->\n    <g transform=\"translate(45.189318 19.3575) scale(0.16 -0.16)\">\n     <defs>\n      <path id=\"DejaVuSans-Bold-61\" d=\"M 2106 1575 \nQ 1756 1575 1579 1456 \nQ 1403 1338 1403 1106 \nQ 1403 894 1545 773 \nQ 1688 653 1941 653 \nQ 2256 653 2472 879 \nQ 2688 1106 2688 1447 \nL 2688 1575 \nL 2106 1575 \nz\nM 3816 1997 \nL 3816 0 \nL 2688 0 \nL 2688 519 \nQ 2463 200 2181 54 \nQ 1900 -91 1497 -91 \nQ 953 -91 614 226 \nQ 275 544 275 1050 \nQ 275 1666 698 1953 \nQ 1122 2241 2028 2241 \nL 2688 2241 \nL 2688 2328 \nQ 2688 2594 2478 2717 \nQ 2269 2841 1825 2841 \nQ 1466 2841 1156 2769 \nQ 847 2697 581 2553 \nL 581 3406 \nQ 941 3494 1303 3539 \nQ 1666 3584 2028 3584 \nQ 2975 3584 3395 3211 \nQ 3816 2838 3816 1997 \nz\n\" transform=\"scale(0.015625)\"/>\n      <path id=\"DejaVuSans-Bold-29\" d=\"M 513 -844 \nQ 913 -100 1113 609 \nQ 1313 1319 1313 2009 \nQ 1313 2700 1113 3408 \nQ 913 4116 513 4856 \nL 1441 4856 \nQ 1916 4091 2145 3389 \nQ 2375 2688 2375 2003 \nQ 2375 1319 2147 623 \nQ 1919 -72 1441 -844 \nL 513 -844 \nz\n\" transform=\"scale(0.015625)\"/>\n     </defs>\n     <use xlink:href=\"#DejaVuSans-Bold-61\"/>\n     <use xlink:href=\"#DejaVuSans-Bold-29\" transform=\"translate(67.480469 0)\"/>\n    </g>\n   </g>\n  </g>\n  <g id=\"axes_2\">\n   <g id=\"patch_5\">\n    <path d=\"M 258.243864 133.325455 \nL 400.256851 133.325455 \nL 400.256851 48.78 \nL 258.243864 48.78 \nz\n\" clip-path=\"url(#pa3455cfd0b)\" style=\"fill: #4e4e4e\"/>\n   </g>\n   <g id=\"patch_6\">\n    <path d=\"M 400.256851 133.325455 \nL 525.321786 133.325455 \nL 525.321786 48.78 \nL 400.256851 48.78 \nz\n\" clip-path=\"url(#pa3455cfd0b)\" style=\"fill: #b6494a\"/>\n   </g>\n   <g id=\"patch_7\">\n    <path d=\"M 525.321786 133.325455 \nL 548.113994 133.325455 \nL 548.113994 48.78 \nL 525.321786 48.78 \nz\n\" clip-path=\"url(#pa3455cfd0b)\" style=\"fill: #e7d739\"/>\n   </g>\n   <g id=\"matplotlib.axis_2\">\n    <g id=\"xtick_1\">\n     <g id=\"line2d_7\">\n      <defs>\n       <path id=\"m8950cdbdb0\" d=\"M 0 0 \nL 0 -3.5 \n\" style=\"stroke: #808080; stroke-width: 0.8\"/>\n      </defs>\n      <g>\n       <use xlink:href=\"#m8950cdbdb0\" x=\"258.243864\" y=\"48.78\" style=\"fill: #808080; stroke: #808080; stroke-width: 0.8\"/>\n      </g>\n     </g>\n     <g id=\"text_15\">\n      <!-- 0 -->\n      <g transform=\"translate(253.790114 38.868437) scale(0.14 -0.14)\">\n       <use xlink:href=\"#DejaVuSans-30\"/>\n      </g>\n     </g>\n    </g>\n    <g id=\"xtick_2\">\n     <g id=\"line2d_8\">\n      <g>\n       <use xlink:href=\"#m8950cdbdb0\" x=\"316.685422\" y=\"48.78\" style=\"fill: #808080; stroke: #808080; stroke-width: 0.8\"/>\n      </g>\n     </g>\n     <g id=\"text_16\">\n      <!-- 100 -->\n      <g transform=\"translate(303.324172 38.868437) scale(0.14 -0.14)\">\n       <use xlink:href=\"#DejaVuSans-31\"/>\n       <use xlink:href=\"#DejaVuSans-30\" transform=\"translate(63.623047 0)\"/>\n       <use xlink:href=\"#DejaVuSans-30\" transform=\"translate(127.246094 0)\"/>\n      </g>\n     </g>\n    </g>\n    <g id=\"xtick_3\">\n     <g id=\"line2d_9\">\n      <g>\n       <use xlink:href=\"#m8950cdbdb0\" x=\"375.126981\" y=\"48.78\" style=\"fill: #808080; stroke: #808080; stroke-width: 0.8\"/>\n      </g>\n     </g>\n     <g id=\"text_17\">\n      <!-- 200 -->\n      <g transform=\"translate(361.765731 38.868437) scale(0.14 -0.14)\">\n       <use xlink:href=\"#DejaVuSans-32\"/>\n       <use xlink:href=\"#DejaVuSans-30\" transform=\"translate(63.623047 0)\"/>\n       <use xlink:href=\"#DejaVuSans-30\" transform=\"translate(127.246094 0)\"/>\n      </g>\n     </g>\n    </g>\n    <g id=\"xtick_4\">\n     <g id=\"line2d_10\">\n      <g>\n       <use xlink:href=\"#m8950cdbdb0\" x=\"433.568539\" y=\"48.78\" style=\"fill: #808080; stroke: #808080; stroke-width: 0.8\"/>\n      </g>\n     </g>\n     <g id=\"text_18\">\n      <!-- 300 -->\n      <g transform=\"translate(420.207289 38.868437) scale(0.14 -0.14)\">\n       <use xlink:href=\"#DejaVuSans-33\"/>\n       <use xlink:href=\"#DejaVuSans-30\" transform=\"translate(63.623047 0)\"/>\n       <use xlink:href=\"#DejaVuSans-30\" transform=\"translate(127.246094 0)\"/>\n      </g>\n     </g>\n    </g>\n    <g id=\"xtick_5\">\n     <g id=\"line2d_11\">\n      <g>\n       <use xlink:href=\"#m8950cdbdb0\" x=\"492.010097\" y=\"48.78\" style=\"fill: #808080; stroke: #808080; stroke-width: 0.8\"/>\n      </g>\n     </g>\n     <g id=\"text_19\">\n      <!-- 400 -->\n      <g transform=\"translate(478.648847 38.868437) scale(0.14 -0.14)\">\n       <use xlink:href=\"#DejaVuSans-34\"/>\n       <use xlink:href=\"#DejaVuSans-30\" transform=\"translate(63.623047 0)\"/>\n       <use xlink:href=\"#DejaVuSans-30\" transform=\"translate(127.246094 0)\"/>\n      </g>\n     </g>\n    </g>\n    <g id=\"xtick_6\">\n     <g id=\"line2d_12\">\n      <g>\n       <use xlink:href=\"#m8950cdbdb0\" x=\"550.451656\" y=\"48.78\" style=\"fill: #808080; stroke: #808080; stroke-width: 0.8\"/>\n      </g>\n     </g>\n     <g id=\"text_20\">\n      <!-- 500 -->\n      <g transform=\"translate(537.090406 38.868437) scale(0.14 -0.14)\">\n       <use xlink:href=\"#DejaVuSans-35\"/>\n       <use xlink:href=\"#DejaVuSans-30\" transform=\"translate(63.623047 0)\"/>\n       <use xlink:href=\"#DejaVuSans-30\" transform=\"translate(127.246094 0)\"/>\n      </g>\n     </g>\n    </g>\n    <g id=\"text_21\">\n     <!-- seats -->\n     <g transform=\"translate(389.129432 24.230625) scale(0.16 -0.16)\">\n      <use xlink:href=\"#DejaVuSans-73\"/>\n      <use xlink:href=\"#DejaVuSans-65\" transform=\"translate(52.099609 0)\"/>\n      <use xlink:href=\"#DejaVuSans-61\" transform=\"translate(113.623047 0)\"/>\n      <use xlink:href=\"#DejaVuSans-74\" transform=\"translate(174.902344 0)\"/>\n      <use xlink:href=\"#DejaVuSans-73\" transform=\"translate(214.111328 0)\"/>\n     </g>\n    </g>\n   </g>\n   <g id=\"text_22\">\n    <!-- 243 -->\n    <g transform=\"translate(313.980357 95.467727) scale(0.16 -0.16)\">\n     <use xlink:href=\"#DejaVuSans-32\"/>\n     <use xlink:href=\"#DejaVuSans-34\" transform=\"translate(63.623047 0)\"/>\n     <use xlink:href=\"#DejaVuSans-33\" transform=\"translate(127.246094 0)\"/>\n    </g>\n   </g>\n   <g id=\"text_23\">\n    <!-- CDU/CSU -->\n    <g transform=\"translate(292.434107 153.9375) scale(0.16 -0.16)\">\n     <use xlink:href=\"#DejaVuSans-43\"/>\n     <use xlink:href=\"#DejaVuSans-44\" transform=\"translate(69.824219 0)\"/>\n     <use xlink:href=\"#DejaVuSans-55\" transform=\"translate(146.826172 0)\"/>\n     <use xlink:href=\"#DejaVuSans-2f\" transform=\"translate(220.019531 0)\"/>\n     <use xlink:href=\"#DejaVuSans-43\" transform=\"translate(253.710938 0)\"/>\n     <use xlink:href=\"#DejaVuSans-53\" transform=\"translate(323.535156 0)\"/>\n     <use xlink:href=\"#DejaVuSans-55\" transform=\"translate(387.011719 0)\"/>\n    </g>\n   </g>\n   <g id=\"text_24\">\n    <!-- 214 -->\n    <g transform=\"translate(447.519318 95.467727) scale(0.16 -0.16)\">\n     <use xlink:href=\"#DejaVuSans-32\"/>\n     <use xlink:href=\"#DejaVuSans-31\" transform=\"translate(63.623047 0)\"/>\n     <use xlink:href=\"#DejaVuSans-34\" transform=\"translate(127.246094 0)\"/>\n    </g>\n   </g>\n   <g id=\"text_25\">\n    <!-- SPD -->\n    <g transform=\"translate(446.726818 153.9375) scale(0.16 -0.16)\">\n     <use xlink:href=\"#DejaVuSans-53\"/>\n     <use xlink:href=\"#DejaVuSans-50\" transform=\"translate(63.476562 0)\"/>\n     <use xlink:href=\"#DejaVuSans-44\" transform=\"translate(123.779297 0)\"/>\n    </g>\n   </g>\n   <g id=\"text_26\">\n    <!-- 39 -->\n    <g transform=\"translate(526.53789 95.467727) scale(0.16 -0.16)\">\n     <use xlink:href=\"#DejaVuSans-33\"/>\n     <use xlink:href=\"#DejaVuSans-39\" transform=\"translate(63.623047 0)\"/>\n    </g>\n   </g>\n   <g id=\"text_27\">\n    <!-- FDP -->\n    <g transform=\"translate(521.13289 153.9375) scale(0.16 -0.16)\">\n     <use xlink:href=\"#DejaVuSans-46\"/>\n     <use xlink:href=\"#DejaVuSans-44\" transform=\"translate(57.519531 0)\"/>\n     <use xlink:href=\"#DejaVuSans-50\" transform=\"translate(134.521484 0)\"/>\n    </g>\n   </g>\n   <g id=\"text_28\">\n    <!-- b) -->\n    <g transform=\"translate(227.8075 19.3575) scale(0.16 -0.16)\">\n     <defs>\n      <path id=\"DejaVuSans-Bold-62\" d=\"M 2400 722 \nQ 2759 722 2948 984 \nQ 3138 1247 3138 1747 \nQ 3138 2247 2948 2509 \nQ 2759 2772 2400 2772 \nQ 2041 2772 1848 2508 \nQ 1656 2244 1656 1747 \nQ 1656 1250 1848 986 \nQ 2041 722 2400 722 \nz\nM 1656 2988 \nQ 1888 3294 2169 3439 \nQ 2450 3584 2816 3584 \nQ 3463 3584 3878 3070 \nQ 4294 2556 4294 1747 \nQ 4294 938 3878 423 \nQ 3463 -91 2816 -91 \nQ 2450 -91 2169 54 \nQ 1888 200 1656 506 \nL 1656 0 \nL 538 0 \nL 538 4863 \nL 1656 4863 \nL 1656 2988 \nz\n\" transform=\"scale(0.015625)\"/>\n     </defs>\n     <use xlink:href=\"#DejaVuSans-Bold-62\"/>\n     <use xlink:href=\"#DejaVuSans-Bold-29\" transform=\"translate(71.582031 0)\"/>\n    </g>\n   </g>\n  </g>\n </g>\n <defs>\n  <clipPath id=\"pd55b913195\">\n   <rect x=\"60.4075\" y=\"48.78\" width=\"152.181818\" height=\"277.2\"/>\n  </clipPath>\n  <clipPath id=\"pa3455cfd0b\">\n   <rect x=\"258.243864\" y=\"48.78\" width=\"304.363636\" height=\"277.2\"/>\n  </clipPath>\n </defs>\n</svg>\n"
     },
     "metadata": {},
     "output_type": "display_data"
    }
   ],
   "execution_count": 16
  },
  {
   "cell_type": "code",
   "metadata": {
    "ExecuteTime": {
     "end_time": "2025-03-22T13:13:04.605730Z",
     "start_time": "2025-03-22T13:13:04.573381Z"
    }
   },
   "source": [
    "bundestag = bundestag.sort_values('seats', ascending=False)\n",
    "\n",
    "# Calculate the cumulative sum of the seats\n",
    "bundestag['cumsum'] = np.cumsum(bundestag['seats'])\n",
    "\n",
    "# Calculate the y position for the labels\n",
    "bundestag['label_y'] = bundestag['cumsum'] - 0.5 * bundestag['seats']\n",
    "\n",
    "# Create the bar plot\n",
    "fig, ax = plt.subplots(figsize=figsize_rect)\n",
    "\n",
    "ax.bar(bundestag['party'], bundestag['seats'], color=bundestag['colors'])\n",
    "\n",
    "# Draw the labels\n",
    "for bar, label_y, seats, party in zip(bars, bundestag['label_y'], bundestag['seats'], bundestag['party']):\n",
    "    ax.text(party, seats-5, str(seats), ha='center', va='top', fontsize=fs_m)\n",
    "\n",
    "# Set y-axis labels\n",
    "plt.yticks([0, 50, 100, 150, 200], ['0', '50', '100', '150', '200'])\n",
    "\n",
    "# Add horizontal grid lines at the y-tick locations and set their color to light grey\n",
    "ax.yaxis.grid(True, color='lightgrey')\n",
    "\n",
    "ax.set_ylabel('seats', fontsize=fs_m)\n",
    "\n",
    "# Set the same line properties on the y-ticks\n",
    "for tick in ax.yaxis.get_major_ticks():\n",
    "    tick.gridline.set_color('lightgrey')\n",
    "\n",
    "# Remove the x-ticks but keep the labels\n",
    "ax.tick_params(axis='both', which='both', bottom=False, top=False, left=False,\n",
    "               labelsize=fs_s)\n",
    "\n",
    "# Set the y-tick labels color to black\n",
    "for label in ax.get_yticklabels():\n",
    "    label.set_color('black')\n",
    "\n",
    "# Set the y-ticks color to grey\n",
    "for line in ax.yaxis.get_ticklines():\n",
    "    line.set_color('grey')\n",
    "\n",
    "# Move gridlines to the background\n",
    "ax.set_axisbelow(True)\n",
    "\n",
    "# Remove the plot frame\n",
    "ax.set_frame_on(False)\n",
    "\n",
    "# Remove the spines\n",
    "ax.spines[:].set_visible(False)\n",
    "plt.show()"
   ],
   "outputs": [
    {
     "data": {
      "text/plain": [
       "<Figure size 900x500 with 1 Axes>"
      ],
      "image/svg+xml": "<?xml version=\"1.0\" encoding=\"utf-8\" standalone=\"no\"?>\n<!DOCTYPE svg PUBLIC \"-//W3C//DTD SVG 1.1//EN\"\n  \"http://www.w3.org/Graphics/SVG/1.1/DTD/svg11.dtd\">\n<svg xmlns:xlink=\"http://www.w3.org/1999/xlink\" width=\"569.8075pt\" height=\"312.149375pt\" viewBox=\"0 0 569.8075 312.149375\" xmlns=\"http://www.w3.org/2000/svg\" version=\"1.1\">\n <metadata>\n  <rdf:RDF xmlns:dc=\"http://purl.org/dc/elements/1.1/\" xmlns:cc=\"http://creativecommons.org/ns#\" xmlns:rdf=\"http://www.w3.org/1999/02/22-rdf-syntax-ns#\">\n   <cc:Work>\n    <dc:type rdf:resource=\"http://purl.org/dc/dcmitype/StillImage\"/>\n    <dc:date>2025-03-22T14:13:04.596606</dc:date>\n    <dc:format>image/svg+xml</dc:format>\n    <dc:creator>\n     <cc:Agent>\n      <dc:title>Matplotlib v3.10.0, https://matplotlib.org/</dc:title>\n     </cc:Agent>\n    </dc:creator>\n   </cc:Work>\n  </rdf:RDF>\n </metadata>\n <defs>\n  <style type=\"text/css\">*{stroke-linejoin: round; stroke-linecap: butt}</style>\n </defs>\n <g id=\"figure_1\">\n  <g id=\"patch_1\">\n   <path d=\"M 0 312.149375 \nL 569.8075 312.149375 \nL 569.8075 0 \nL 0 0 \nz\n\" style=\"fill: #ffffff\"/>\n  </g>\n  <g id=\"axes_1\">\n   <g id=\"matplotlib.axis_1\">\n    <g id=\"xtick_1\">\n     <g id=\"text_1\">\n      <!-- CDU/CSU -->\n      <g transform=\"translate(116.241333 302.037812) scale(0.14 -0.14)\">\n       <defs>\n        <path id=\"DejaVuSans-43\" d=\"M 4122 4306 \nL 4122 3641 \nQ 3803 3938 3442 4084 \nQ 3081 4231 2675 4231 \nQ 1875 4231 1450 3742 \nQ 1025 3253 1025 2328 \nQ 1025 1406 1450 917 \nQ 1875 428 2675 428 \nQ 3081 428 3442 575 \nQ 3803 722 4122 1019 \nL 4122 359 \nQ 3791 134 3420 21 \nQ 3050 -91 2638 -91 \nQ 1578 -91 968 557 \nQ 359 1206 359 2328 \nQ 359 3453 968 4101 \nQ 1578 4750 2638 4750 \nQ 3056 4750 3426 4639 \nQ 3797 4528 4122 4306 \nz\n\" transform=\"scale(0.015625)\"/>\n        <path id=\"DejaVuSans-44\" d=\"M 1259 4147 \nL 1259 519 \nL 2022 519 \nQ 2988 519 3436 956 \nQ 3884 1394 3884 2338 \nQ 3884 3275 3436 3711 \nQ 2988 4147 2022 4147 \nL 1259 4147 \nz\nM 628 4666 \nL 1925 4666 \nQ 3281 4666 3915 4102 \nQ 4550 3538 4550 2338 \nQ 4550 1131 3912 565 \nQ 3275 0 1925 0 \nL 628 0 \nL 628 4666 \nz\n\" transform=\"scale(0.015625)\"/>\n        <path id=\"DejaVuSans-55\" d=\"M 556 4666 \nL 1191 4666 \nL 1191 1831 \nQ 1191 1081 1462 751 \nQ 1734 422 2344 422 \nQ 2950 422 3222 751 \nQ 3494 1081 3494 1831 \nL 3494 4666 \nL 4128 4666 \nL 4128 1753 \nQ 4128 841 3676 375 \nQ 3225 -91 2344 -91 \nQ 1459 -91 1007 375 \nQ 556 841 556 1753 \nL 556 4666 \nz\n\" transform=\"scale(0.015625)\"/>\n        <path id=\"DejaVuSans-2f\" d=\"M 1625 4666 \nL 2156 4666 \nL 531 -594 \nL 0 -594 \nL 1625 4666 \nz\n\" transform=\"scale(0.015625)\"/>\n        <path id=\"DejaVuSans-53\" d=\"M 3425 4513 \nL 3425 3897 \nQ 3066 4069 2747 4153 \nQ 2428 4238 2131 4238 \nQ 1616 4238 1336 4038 \nQ 1056 3838 1056 3469 \nQ 1056 3159 1242 3001 \nQ 1428 2844 1947 2747 \nL 2328 2669 \nQ 3034 2534 3370 2195 \nQ 3706 1856 3706 1288 \nQ 3706 609 3251 259 \nQ 2797 -91 1919 -91 \nQ 1588 -91 1214 -16 \nQ 841 59 441 206 \nL 441 856 \nQ 825 641 1194 531 \nQ 1563 422 1919 422 \nQ 2459 422 2753 634 \nQ 3047 847 3047 1241 \nQ 3047 1584 2836 1778 \nQ 2625 1972 2144 2069 \nL 1759 2144 \nQ 1053 2284 737 2584 \nQ 422 2884 422 3419 \nQ 422 4038 858 4394 \nQ 1294 4750 2059 4750 \nQ 2388 4750 2728 4690 \nQ 3069 4631 3425 4513 \nz\n\" transform=\"scale(0.015625)\"/>\n       </defs>\n       <use xlink:href=\"#DejaVuSans-43\"/>\n       <use xlink:href=\"#DejaVuSans-44\" transform=\"translate(69.824219 0)\"/>\n       <use xlink:href=\"#DejaVuSans-55\" transform=\"translate(146.826172 0)\"/>\n       <use xlink:href=\"#DejaVuSans-2f\" transform=\"translate(220.019531 0)\"/>\n       <use xlink:href=\"#DejaVuSans-43\" transform=\"translate(253.710938 0)\"/>\n       <use xlink:href=\"#DejaVuSans-53\" transform=\"translate(323.535156 0)\"/>\n       <use xlink:href=\"#DejaVuSans-55\" transform=\"translate(387.011719 0)\"/>\n      </g>\n     </g>\n    </g>\n    <g id=\"xtick_2\">\n     <g id=\"text_2\">\n      <!-- SPD -->\n      <g transform=\"translate(297.452812 302.037812) scale(0.14 -0.14)\">\n       <defs>\n        <path id=\"DejaVuSans-50\" d=\"M 1259 4147 \nL 1259 2394 \nL 2053 2394 \nQ 2494 2394 2734 2622 \nQ 2975 2850 2975 3272 \nQ 2975 3691 2734 3919 \nQ 2494 4147 2053 4147 \nL 1259 4147 \nz\nM 628 4666 \nL 2053 4666 \nQ 2838 4666 3239 4311 \nQ 3641 3956 3641 3272 \nQ 3641 2581 3239 2228 \nQ 2838 1875 2053 1875 \nL 1259 1875 \nL 1259 0 \nL 628 0 \nL 628 4666 \nz\n\" transform=\"scale(0.015625)\"/>\n       </defs>\n       <use xlink:href=\"#DejaVuSans-53\"/>\n       <use xlink:href=\"#DejaVuSans-50\" transform=\"translate(63.476562 0)\"/>\n       <use xlink:href=\"#DejaVuSans-44\" transform=\"translate(123.779297 0)\"/>\n      </g>\n     </g>\n    </g>\n    <g id=\"xtick_3\">\n     <g id=\"text_3\">\n      <!-- FDP -->\n      <g transform=\"translate(460.922573 302.037812) scale(0.14 -0.14)\">\n       <defs>\n        <path id=\"DejaVuSans-46\" d=\"M 628 4666 \nL 3309 4666 \nL 3309 4134 \nL 1259 4134 \nL 1259 2759 \nL 3109 2759 \nL 3109 2228 \nL 1259 2228 \nL 1259 0 \nL 628 0 \nL 628 4666 \nz\n\" transform=\"scale(0.015625)\"/>\n       </defs>\n       <use xlink:href=\"#DejaVuSans-46\"/>\n       <use xlink:href=\"#DejaVuSans-44\" transform=\"translate(57.519531 0)\"/>\n       <use xlink:href=\"#DejaVuSans-50\" transform=\"translate(134.521484 0)\"/>\n      </g>\n     </g>\n    </g>\n   </g>\n   <g id=\"matplotlib.axis_2\">\n    <g id=\"ytick_1\">\n     <g id=\"line2d_1\">\n      <path d=\"M 60.4075 284.4 \nL 562.6075 284.4 \n\" clip-path=\"url(#peda8a94b8a)\" style=\"fill: none; stroke: #d3d3d3; stroke-width: 0.8; stroke-linecap: square\"/>\n     </g>\n     <g id=\"text_4\">\n      <!-- 0 -->\n      <g transform=\"translate(44.5 289.718906) scale(0.14 -0.14)\">\n       <defs>\n        <path id=\"DejaVuSans-30\" d=\"M 2034 4250 \nQ 1547 4250 1301 3770 \nQ 1056 3291 1056 2328 \nQ 1056 1369 1301 889 \nQ 1547 409 2034 409 \nQ 2525 409 2770 889 \nQ 3016 1369 3016 2328 \nQ 3016 3291 2770 3770 \nQ 2525 4250 2034 4250 \nz\nM 2034 4750 \nQ 2819 4750 3233 4129 \nQ 3647 3509 3647 2328 \nQ 3647 1150 3233 529 \nQ 2819 -91 2034 -91 \nQ 1250 -91 836 529 \nQ 422 1150 422 2328 \nQ 422 3509 836 4129 \nQ 1250 4750 2034 4750 \nz\n\" transform=\"scale(0.015625)\"/>\n       </defs>\n       <use xlink:href=\"#DejaVuSans-30\"/>\n      </g>\n     </g>\n    </g>\n    <g id=\"ytick_2\">\n     <g id=\"line2d_2\">\n      <path d=\"M 60.4075 230.079012 \nL 562.6075 230.079012 \n\" clip-path=\"url(#peda8a94b8a)\" style=\"fill: none; stroke: #d3d3d3; stroke-width: 0.8; stroke-linecap: square\"/>\n     </g>\n     <g id=\"text_5\">\n      <!-- 50 -->\n      <g transform=\"translate(35.5925 235.397919) scale(0.14 -0.14)\">\n       <defs>\n        <path id=\"DejaVuSans-35\" d=\"M 691 4666 \nL 3169 4666 \nL 3169 4134 \nL 1269 4134 \nL 1269 2991 \nQ 1406 3038 1543 3061 \nQ 1681 3084 1819 3084 \nQ 2600 3084 3056 2656 \nQ 3513 2228 3513 1497 \nQ 3513 744 3044 326 \nQ 2575 -91 1722 -91 \nQ 1428 -91 1123 -41 \nQ 819 9 494 109 \nL 494 744 \nQ 775 591 1075 516 \nQ 1375 441 1709 441 \nQ 2250 441 2565 725 \nQ 2881 1009 2881 1497 \nQ 2881 1984 2565 2268 \nQ 2250 2553 1709 2553 \nQ 1456 2553 1204 2497 \nQ 953 2441 691 2322 \nL 691 4666 \nz\n\" transform=\"scale(0.015625)\"/>\n       </defs>\n       <use xlink:href=\"#DejaVuSans-35\"/>\n       <use xlink:href=\"#DejaVuSans-30\" transform=\"translate(63.623047 0)\"/>\n      </g>\n     </g>\n    </g>\n    <g id=\"ytick_3\">\n     <g id=\"line2d_3\">\n      <path d=\"M 60.4075 175.758025 \nL 562.6075 175.758025 \n\" clip-path=\"url(#peda8a94b8a)\" style=\"fill: none; stroke: #d3d3d3; stroke-width: 0.8; stroke-linecap: square\"/>\n     </g>\n     <g id=\"text_6\">\n      <!-- 100 -->\n      <g transform=\"translate(26.685 181.076931) scale(0.14 -0.14)\">\n       <defs>\n        <path id=\"DejaVuSans-31\" d=\"M 794 531 \nL 1825 531 \nL 1825 4091 \nL 703 3866 \nL 703 4441 \nL 1819 4666 \nL 2450 4666 \nL 2450 531 \nL 3481 531 \nL 3481 0 \nL 794 0 \nL 794 531 \nz\n\" transform=\"scale(0.015625)\"/>\n       </defs>\n       <use xlink:href=\"#DejaVuSans-31\"/>\n       <use xlink:href=\"#DejaVuSans-30\" transform=\"translate(63.623047 0)\"/>\n       <use xlink:href=\"#DejaVuSans-30\" transform=\"translate(127.246094 0)\"/>\n      </g>\n     </g>\n    </g>\n    <g id=\"ytick_4\">\n     <g id=\"line2d_4\">\n      <path d=\"M 60.4075 121.437037 \nL 562.6075 121.437037 \n\" clip-path=\"url(#peda8a94b8a)\" style=\"fill: none; stroke: #d3d3d3; stroke-width: 0.8; stroke-linecap: square\"/>\n     </g>\n     <g id=\"text_7\">\n      <!-- 150 -->\n      <g transform=\"translate(26.685 126.755943) scale(0.14 -0.14)\">\n       <use xlink:href=\"#DejaVuSans-31\"/>\n       <use xlink:href=\"#DejaVuSans-35\" transform=\"translate(63.623047 0)\"/>\n       <use xlink:href=\"#DejaVuSans-30\" transform=\"translate(127.246094 0)\"/>\n      </g>\n     </g>\n    </g>\n    <g id=\"ytick_5\">\n     <g id=\"line2d_5\">\n      <path d=\"M 60.4075 67.116049 \nL 562.6075 67.116049 \n\" clip-path=\"url(#peda8a94b8a)\" style=\"fill: none; stroke: #d3d3d3; stroke-width: 0.8; stroke-linecap: square\"/>\n     </g>\n     <g id=\"text_8\">\n      <!-- 200 -->\n      <g transform=\"translate(26.685 72.434956) scale(0.14 -0.14)\">\n       <defs>\n        <path id=\"DejaVuSans-32\" d=\"M 1228 531 \nL 3431 531 \nL 3431 0 \nL 469 0 \nL 469 531 \nQ 828 903 1448 1529 \nQ 2069 2156 2228 2338 \nQ 2531 2678 2651 2914 \nQ 2772 3150 2772 3378 \nQ 2772 3750 2511 3984 \nQ 2250 4219 1831 4219 \nQ 1534 4219 1204 4116 \nQ 875 4013 500 3803 \nL 500 4441 \nQ 881 4594 1212 4672 \nQ 1544 4750 1819 4750 \nQ 2544 4750 2975 4387 \nQ 3406 4025 3406 3419 \nQ 3406 3131 3298 2873 \nQ 3191 2616 2906 2266 \nQ 2828 2175 2409 1742 \nQ 1991 1309 1228 531 \nz\n\" transform=\"scale(0.015625)\"/>\n       </defs>\n       <use xlink:href=\"#DejaVuSans-32\"/>\n       <use xlink:href=\"#DejaVuSans-30\" transform=\"translate(63.623047 0)\"/>\n       <use xlink:href=\"#DejaVuSans-30\" transform=\"translate(127.246094 0)\"/>\n      </g>\n     </g>\n    </g>\n    <g id=\"text_9\">\n     <!-- seats -->\n     <g transform=\"translate(19.3575 167.09625) rotate(-90) scale(0.16 -0.16)\">\n      <defs>\n       <path id=\"DejaVuSans-73\" d=\"M 2834 3397 \nL 2834 2853 \nQ 2591 2978 2328 3040 \nQ 2066 3103 1784 3103 \nQ 1356 3103 1142 2972 \nQ 928 2841 928 2578 \nQ 928 2378 1081 2264 \nQ 1234 2150 1697 2047 \nL 1894 2003 \nQ 2506 1872 2764 1633 \nQ 3022 1394 3022 966 \nQ 3022 478 2636 193 \nQ 2250 -91 1575 -91 \nQ 1294 -91 989 -36 \nQ 684 19 347 128 \nL 347 722 \nQ 666 556 975 473 \nQ 1284 391 1588 391 \nQ 1994 391 2212 530 \nQ 2431 669 2431 922 \nQ 2431 1156 2273 1281 \nQ 2116 1406 1581 1522 \nL 1381 1569 \nQ 847 1681 609 1914 \nQ 372 2147 372 2553 \nQ 372 3047 722 3315 \nQ 1072 3584 1716 3584 \nQ 2034 3584 2315 3537 \nQ 2597 3491 2834 3397 \nz\n\" transform=\"scale(0.015625)\"/>\n       <path id=\"DejaVuSans-65\" d=\"M 3597 1894 \nL 3597 1613 \nL 953 1613 \nQ 991 1019 1311 708 \nQ 1631 397 2203 397 \nQ 2534 397 2845 478 \nQ 3156 559 3463 722 \nL 3463 178 \nQ 3153 47 2828 -22 \nQ 2503 -91 2169 -91 \nQ 1331 -91 842 396 \nQ 353 884 353 1716 \nQ 353 2575 817 3079 \nQ 1281 3584 2069 3584 \nQ 2775 3584 3186 3129 \nQ 3597 2675 3597 1894 \nz\nM 3022 2063 \nQ 3016 2534 2758 2815 \nQ 2500 3097 2075 3097 \nQ 1594 3097 1305 2825 \nQ 1016 2553 972 2059 \nL 3022 2063 \nz\n\" transform=\"scale(0.015625)\"/>\n       <path id=\"DejaVuSans-61\" d=\"M 2194 1759 \nQ 1497 1759 1228 1600 \nQ 959 1441 959 1056 \nQ 959 750 1161 570 \nQ 1363 391 1709 391 \nQ 2188 391 2477 730 \nQ 2766 1069 2766 1631 \nL 2766 1759 \nL 2194 1759 \nz\nM 3341 1997 \nL 3341 0 \nL 2766 0 \nL 2766 531 \nQ 2569 213 2275 61 \nQ 1981 -91 1556 -91 \nQ 1019 -91 701 211 \nQ 384 513 384 1019 \nQ 384 1609 779 1909 \nQ 1175 2209 1959 2209 \nL 2766 2209 \nL 2766 2266 \nQ 2766 2663 2505 2880 \nQ 2244 3097 1772 3097 \nQ 1472 3097 1187 3025 \nQ 903 2953 641 2809 \nL 641 3341 \nQ 956 3463 1253 3523 \nQ 1550 3584 1831 3584 \nQ 2591 3584 2966 3190 \nQ 3341 2797 3341 1997 \nz\n\" transform=\"scale(0.015625)\"/>\n       <path id=\"DejaVuSans-74\" d=\"M 1172 4494 \nL 1172 3500 \nL 2356 3500 \nL 2356 3053 \nL 1172 3053 \nL 1172 1153 \nQ 1172 725 1289 603 \nQ 1406 481 1766 481 \nL 2356 481 \nL 2356 0 \nL 1766 0 \nQ 1100 0 847 248 \nQ 594 497 594 1153 \nL 594 3053 \nL 172 3053 \nL 172 3500 \nL 594 3500 \nL 594 4494 \nL 1172 4494 \nz\n\" transform=\"scale(0.015625)\"/>\n      </defs>\n      <use xlink:href=\"#DejaVuSans-73\"/>\n      <use xlink:href=\"#DejaVuSans-65\" transform=\"translate(52.099609 0)\"/>\n      <use xlink:href=\"#DejaVuSans-61\" transform=\"translate(113.623047 0)\"/>\n      <use xlink:href=\"#DejaVuSans-74\" transform=\"translate(174.902344 0)\"/>\n      <use xlink:href=\"#DejaVuSans-73\" transform=\"translate(214.111328 0)\"/>\n     </g>\n    </g>\n   </g>\n   <g id=\"patch_2\">\n    <path d=\"M 83.234773 284.4 \nL 213.676331 284.4 \nL 213.676331 20.4 \nL 83.234773 20.4 \nz\n\" clip-path=\"url(#peda8a94b8a)\" style=\"fill: #4e4e4e\"/>\n   </g>\n   <g id=\"patch_3\">\n    <path d=\"M 246.286721 284.4 \nL 376.728279 284.4 \nL 376.728279 51.906173 \nL 246.286721 51.906173 \nz\n\" clip-path=\"url(#peda8a94b8a)\" style=\"fill: #b6494a\"/>\n   </g>\n   <g id=\"patch_4\">\n    <path d=\"M 409.338669 284.4 \nL 539.780227 284.4 \nL 539.780227 242.02963 \nL 409.338669 242.02963 \nz\n\" clip-path=\"url(#peda8a94b8a)\" style=\"fill: #e7d739\"/>\n   </g>\n   <g id=\"text_10\">\n    <!-- 243 -->\n    <g transform=\"translate(133.185552 37.989599) scale(0.16 -0.16)\">\n     <defs>\n      <path id=\"DejaVuSans-34\" d=\"M 2419 4116 \nL 825 1625 \nL 2419 1625 \nL 2419 4116 \nz\nM 2253 4666 \nL 3047 4666 \nL 3047 1625 \nL 3713 1625 \nL 3713 1100 \nL 3047 1100 \nL 3047 0 \nL 2419 0 \nL 2419 1100 \nL 313 1100 \nL 313 1709 \nL 2253 4666 \nz\n\" transform=\"scale(0.015625)\"/>\n      <path id=\"DejaVuSans-33\" d=\"M 2597 2516 \nQ 3050 2419 3304 2112 \nQ 3559 1806 3559 1356 \nQ 3559 666 3084 287 \nQ 2609 -91 1734 -91 \nQ 1441 -91 1130 -33 \nQ 819 25 488 141 \nL 488 750 \nQ 750 597 1062 519 \nQ 1375 441 1716 441 \nQ 2309 441 2620 675 \nQ 2931 909 2931 1356 \nQ 2931 1769 2642 2001 \nQ 2353 2234 1838 2234 \nL 1294 2234 \nL 1294 2753 \nL 1863 2753 \nQ 2328 2753 2575 2939 \nQ 2822 3125 2822 3475 \nQ 2822 3834 2567 4026 \nQ 2313 4219 1838 4219 \nQ 1578 4219 1281 4162 \nQ 984 4106 628 3988 \nL 628 4550 \nQ 988 4650 1302 4700 \nQ 1616 4750 1894 4750 \nQ 2613 4750 3031 4423 \nQ 3450 4097 3450 3541 \nQ 3450 3153 3228 2886 \nQ 3006 2619 2597 2516 \nz\n\" transform=\"scale(0.015625)\"/>\n     </defs>\n     <use xlink:href=\"#DejaVuSans-32\"/>\n     <use xlink:href=\"#DejaVuSans-34\" transform=\"translate(63.623047 0)\"/>\n     <use xlink:href=\"#DejaVuSans-33\" transform=\"translate(127.246094 0)\"/>\n    </g>\n   </g>\n   <g id=\"text_11\">\n    <!-- 214 -->\n    <g transform=\"translate(296.2375 69.495772) scale(0.16 -0.16)\">\n     <use xlink:href=\"#DejaVuSans-32\"/>\n     <use xlink:href=\"#DejaVuSans-31\" transform=\"translate(63.623047 0)\"/>\n     <use xlink:href=\"#DejaVuSans-34\" transform=\"translate(127.246094 0)\"/>\n    </g>\n   </g>\n   <g id=\"text_12\">\n    <!-- 39 -->\n    <g transform=\"translate(464.379448 259.619228) scale(0.16 -0.16)\">\n     <defs>\n      <path id=\"DejaVuSans-39\" d=\"M 703 97 \nL 703 672 \nQ 941 559 1184 500 \nQ 1428 441 1663 441 \nQ 2288 441 2617 861 \nQ 2947 1281 2994 2138 \nQ 2813 1869 2534 1725 \nQ 2256 1581 1919 1581 \nQ 1219 1581 811 2004 \nQ 403 2428 403 3163 \nQ 403 3881 828 4315 \nQ 1253 4750 1959 4750 \nQ 2769 4750 3195 4129 \nQ 3622 3509 3622 2328 \nQ 3622 1225 3098 567 \nQ 2575 -91 1691 -91 \nQ 1453 -91 1209 -44 \nQ 966 3 703 97 \nz\nM 1959 2075 \nQ 2384 2075 2632 2365 \nQ 2881 2656 2881 3163 \nQ 2881 3666 2632 3958 \nQ 2384 4250 1959 4250 \nQ 1534 4250 1286 3958 \nQ 1038 3666 1038 3163 \nQ 1038 2656 1286 2365 \nQ 1534 2075 1959 2075 \nz\n\" transform=\"scale(0.015625)\"/>\n     </defs>\n     <use xlink:href=\"#DejaVuSans-33\"/>\n     <use xlink:href=\"#DejaVuSans-39\" transform=\"translate(63.623047 0)\"/>\n    </g>\n   </g>\n  </g>\n </g>\n <defs>\n  <clipPath id=\"peda8a94b8a\">\n   <rect x=\"60.4075\" y=\"7.2\" width=\"502.2\" height=\"277.2\"/>\n  </clipPath>\n </defs>\n</svg>\n"
     },
     "metadata": {},
     "output_type": "display_data"
    }
   ],
   "execution_count": 17
  },
  {
   "cell_type": "code",
   "metadata": {
    "ExecuteTime": {
     "end_time": "2025-03-22T13:13:04.625013Z",
     "start_time": "2025-03-22T13:13:04.618631Z"
    }
   },
   "source": [
    "percent = [17, 18, 20, 22, 23, 20, 20, 19, 21, 20, 23, 22, 20, 18, 17]\n",
    "company = ['A', 'B', 'C', 'D', 'E'] * 3\n",
    "year = ['2015'] * 5 + ['2016'] * 5 + ['2017'] * 5\n",
    "\n",
    "marketshare = pd.DataFrame({'percent': percent, 'company': company, 'year': year})\n",
    "marketshare"
   ],
   "outputs": [
    {
     "data": {
      "text/plain": [
       "    percent company  year\n",
       "0        17       A  2015\n",
       "1        18       B  2015\n",
       "2        20       C  2015\n",
       "3        22       D  2015\n",
       "4        23       E  2015\n",
       "5        20       A  2016\n",
       "6        20       B  2016\n",
       "7        19       C  2016\n",
       "8        21       D  2016\n",
       "9        20       E  2016\n",
       "10       23       A  2017\n",
       "11       22       B  2017\n",
       "12       20       C  2017\n",
       "13       18       D  2017\n",
       "14       17       E  2017"
      ],
      "text/html": [
       "<div>\n",
       "<style scoped>\n",
       "    .dataframe tbody tr th:only-of-type {\n",
       "        vertical-align: middle;\n",
       "    }\n",
       "\n",
       "    .dataframe tbody tr th {\n",
       "        vertical-align: top;\n",
       "    }\n",
       "\n",
       "    .dataframe thead th {\n",
       "        text-align: right;\n",
       "    }\n",
       "</style>\n",
       "<table border=\"1\" class=\"dataframe\">\n",
       "  <thead>\n",
       "    <tr style=\"text-align: right;\">\n",
       "      <th></th>\n",
       "      <th>percent</th>\n",
       "      <th>company</th>\n",
       "      <th>year</th>\n",
       "    </tr>\n",
       "  </thead>\n",
       "  <tbody>\n",
       "    <tr>\n",
       "      <th>0</th>\n",
       "      <td>17</td>\n",
       "      <td>A</td>\n",
       "      <td>2015</td>\n",
       "    </tr>\n",
       "    <tr>\n",
       "      <th>1</th>\n",
       "      <td>18</td>\n",
       "      <td>B</td>\n",
       "      <td>2015</td>\n",
       "    </tr>\n",
       "    <tr>\n",
       "      <th>2</th>\n",
       "      <td>20</td>\n",
       "      <td>C</td>\n",
       "      <td>2015</td>\n",
       "    </tr>\n",
       "    <tr>\n",
       "      <th>3</th>\n",
       "      <td>22</td>\n",
       "      <td>D</td>\n",
       "      <td>2015</td>\n",
       "    </tr>\n",
       "    <tr>\n",
       "      <th>4</th>\n",
       "      <td>23</td>\n",
       "      <td>E</td>\n",
       "      <td>2015</td>\n",
       "    </tr>\n",
       "    <tr>\n",
       "      <th>5</th>\n",
       "      <td>20</td>\n",
       "      <td>A</td>\n",
       "      <td>2016</td>\n",
       "    </tr>\n",
       "    <tr>\n",
       "      <th>6</th>\n",
       "      <td>20</td>\n",
       "      <td>B</td>\n",
       "      <td>2016</td>\n",
       "    </tr>\n",
       "    <tr>\n",
       "      <th>7</th>\n",
       "      <td>19</td>\n",
       "      <td>C</td>\n",
       "      <td>2016</td>\n",
       "    </tr>\n",
       "    <tr>\n",
       "      <th>8</th>\n",
       "      <td>21</td>\n",
       "      <td>D</td>\n",
       "      <td>2016</td>\n",
       "    </tr>\n",
       "    <tr>\n",
       "      <th>9</th>\n",
       "      <td>20</td>\n",
       "      <td>E</td>\n",
       "      <td>2016</td>\n",
       "    </tr>\n",
       "    <tr>\n",
       "      <th>10</th>\n",
       "      <td>23</td>\n",
       "      <td>A</td>\n",
       "      <td>2017</td>\n",
       "    </tr>\n",
       "    <tr>\n",
       "      <th>11</th>\n",
       "      <td>22</td>\n",
       "      <td>B</td>\n",
       "      <td>2017</td>\n",
       "    </tr>\n",
       "    <tr>\n",
       "      <th>12</th>\n",
       "      <td>20</td>\n",
       "      <td>C</td>\n",
       "      <td>2017</td>\n",
       "    </tr>\n",
       "    <tr>\n",
       "      <th>13</th>\n",
       "      <td>18</td>\n",
       "      <td>D</td>\n",
       "      <td>2017</td>\n",
       "    </tr>\n",
       "    <tr>\n",
       "      <th>14</th>\n",
       "      <td>17</td>\n",
       "      <td>E</td>\n",
       "      <td>2017</td>\n",
       "    </tr>\n",
       "  </tbody>\n",
       "</table>\n",
       "</div>"
      ]
     },
     "execution_count": 18,
     "metadata": {},
     "output_type": "execute_result"
    }
   ],
   "execution_count": 18
  },
  {
   "cell_type": "code",
   "metadata": {
    "ExecuteTime": {
     "end_time": "2025-03-22T13:13:04.675824Z",
     "start_time": "2025-03-22T13:13:04.670790Z"
    }
   },
   "source": [
    "marketshare.style.hide()"
   ],
   "outputs": [
    {
     "data": {
      "text/plain": [
       "<pandas.io.formats.style.Styler at 0x120e23100>"
      ],
      "text/html": [
       "<style type=\"text/css\">\n",
       "</style>\n",
       "<table id=\"T_98f4f\">\n",
       "  <thead>\n",
       "    <tr>\n",
       "      <th id=\"T_98f4f_level0_col0\" class=\"col_heading level0 col0\" >percent</th>\n",
       "      <th id=\"T_98f4f_level0_col1\" class=\"col_heading level0 col1\" >company</th>\n",
       "      <th id=\"T_98f4f_level0_col2\" class=\"col_heading level0 col2\" >year</th>\n",
       "    </tr>\n",
       "  </thead>\n",
       "  <tbody>\n",
       "    <tr>\n",
       "      <td id=\"T_98f4f_row0_col0\" class=\"data row0 col0\" >17</td>\n",
       "      <td id=\"T_98f4f_row0_col1\" class=\"data row0 col1\" >A</td>\n",
       "      <td id=\"T_98f4f_row0_col2\" class=\"data row0 col2\" >2015</td>\n",
       "    </tr>\n",
       "    <tr>\n",
       "      <td id=\"T_98f4f_row1_col0\" class=\"data row1 col0\" >18</td>\n",
       "      <td id=\"T_98f4f_row1_col1\" class=\"data row1 col1\" >B</td>\n",
       "      <td id=\"T_98f4f_row1_col2\" class=\"data row1 col2\" >2015</td>\n",
       "    </tr>\n",
       "    <tr>\n",
       "      <td id=\"T_98f4f_row2_col0\" class=\"data row2 col0\" >20</td>\n",
       "      <td id=\"T_98f4f_row2_col1\" class=\"data row2 col1\" >C</td>\n",
       "      <td id=\"T_98f4f_row2_col2\" class=\"data row2 col2\" >2015</td>\n",
       "    </tr>\n",
       "    <tr>\n",
       "      <td id=\"T_98f4f_row3_col0\" class=\"data row3 col0\" >22</td>\n",
       "      <td id=\"T_98f4f_row3_col1\" class=\"data row3 col1\" >D</td>\n",
       "      <td id=\"T_98f4f_row3_col2\" class=\"data row3 col2\" >2015</td>\n",
       "    </tr>\n",
       "    <tr>\n",
       "      <td id=\"T_98f4f_row4_col0\" class=\"data row4 col0\" >23</td>\n",
       "      <td id=\"T_98f4f_row4_col1\" class=\"data row4 col1\" >E</td>\n",
       "      <td id=\"T_98f4f_row4_col2\" class=\"data row4 col2\" >2015</td>\n",
       "    </tr>\n",
       "    <tr>\n",
       "      <td id=\"T_98f4f_row5_col0\" class=\"data row5 col0\" >20</td>\n",
       "      <td id=\"T_98f4f_row5_col1\" class=\"data row5 col1\" >A</td>\n",
       "      <td id=\"T_98f4f_row5_col2\" class=\"data row5 col2\" >2016</td>\n",
       "    </tr>\n",
       "    <tr>\n",
       "      <td id=\"T_98f4f_row6_col0\" class=\"data row6 col0\" >20</td>\n",
       "      <td id=\"T_98f4f_row6_col1\" class=\"data row6 col1\" >B</td>\n",
       "      <td id=\"T_98f4f_row6_col2\" class=\"data row6 col2\" >2016</td>\n",
       "    </tr>\n",
       "    <tr>\n",
       "      <td id=\"T_98f4f_row7_col0\" class=\"data row7 col0\" >19</td>\n",
       "      <td id=\"T_98f4f_row7_col1\" class=\"data row7 col1\" >C</td>\n",
       "      <td id=\"T_98f4f_row7_col2\" class=\"data row7 col2\" >2016</td>\n",
       "    </tr>\n",
       "    <tr>\n",
       "      <td id=\"T_98f4f_row8_col0\" class=\"data row8 col0\" >21</td>\n",
       "      <td id=\"T_98f4f_row8_col1\" class=\"data row8 col1\" >D</td>\n",
       "      <td id=\"T_98f4f_row8_col2\" class=\"data row8 col2\" >2016</td>\n",
       "    </tr>\n",
       "    <tr>\n",
       "      <td id=\"T_98f4f_row9_col0\" class=\"data row9 col0\" >20</td>\n",
       "      <td id=\"T_98f4f_row9_col1\" class=\"data row9 col1\" >E</td>\n",
       "      <td id=\"T_98f4f_row9_col2\" class=\"data row9 col2\" >2016</td>\n",
       "    </tr>\n",
       "    <tr>\n",
       "      <td id=\"T_98f4f_row10_col0\" class=\"data row10 col0\" >23</td>\n",
       "      <td id=\"T_98f4f_row10_col1\" class=\"data row10 col1\" >A</td>\n",
       "      <td id=\"T_98f4f_row10_col2\" class=\"data row10 col2\" >2017</td>\n",
       "    </tr>\n",
       "    <tr>\n",
       "      <td id=\"T_98f4f_row11_col0\" class=\"data row11 col0\" >22</td>\n",
       "      <td id=\"T_98f4f_row11_col1\" class=\"data row11 col1\" >B</td>\n",
       "      <td id=\"T_98f4f_row11_col2\" class=\"data row11 col2\" >2017</td>\n",
       "    </tr>\n",
       "    <tr>\n",
       "      <td id=\"T_98f4f_row12_col0\" class=\"data row12 col0\" >20</td>\n",
       "      <td id=\"T_98f4f_row12_col1\" class=\"data row12 col1\" >C</td>\n",
       "      <td id=\"T_98f4f_row12_col2\" class=\"data row12 col2\" >2017</td>\n",
       "    </tr>\n",
       "    <tr>\n",
       "      <td id=\"T_98f4f_row13_col0\" class=\"data row13 col0\" >18</td>\n",
       "      <td id=\"T_98f4f_row13_col1\" class=\"data row13 col1\" >D</td>\n",
       "      <td id=\"T_98f4f_row13_col2\" class=\"data row13 col2\" >2017</td>\n",
       "    </tr>\n",
       "    <tr>\n",
       "      <td id=\"T_98f4f_row14_col0\" class=\"data row14 col0\" >17</td>\n",
       "      <td id=\"T_98f4f_row14_col1\" class=\"data row14 col1\" >E</td>\n",
       "      <td id=\"T_98f4f_row14_col2\" class=\"data row14 col2\" >2017</td>\n",
       "    </tr>\n",
       "  </tbody>\n",
       "</table>\n"
      ]
     },
     "execution_count": 19,
     "metadata": {},
     "output_type": "execute_result"
    }
   ],
   "execution_count": 19
  },
  {
   "cell_type": "code",
   "metadata": {
    "ExecuteTime": {
     "end_time": "2025-03-22T13:13:04.719032Z",
     "start_time": "2025-03-22T13:13:04.713778Z"
    }
   },
   "source": [
    "np.sort(marketshare['year'].unique())"
   ],
   "outputs": [
    {
     "data": {
      "text/plain": [
       "array(['2015', '2016', '2017'], dtype=object)"
      ]
     },
     "execution_count": 20,
     "metadata": {},
     "output_type": "execute_result"
    }
   ],
   "execution_count": 20
  },
  {
   "cell_type": "code",
   "metadata": {
    "ExecuteTime": {
     "end_time": "2025-03-22T13:13:04.853073Z",
     "start_time": "2025-03-22T13:13:04.754190Z"
    }
   },
   "source": [
    "# Group by year and calculate cumulative sum of percent\n",
    "marketshare['total'] = marketshare.groupby('year')['percent'].transform('sum')\n",
    "marketshare['cumsum'] = marketshare.groupby('year')['percent'].cumsum()\n",
    "\n",
    "# Calculate angles for pie chart\n",
    "marketshare['start_angle'] = 2 * np.pi * (marketshare['cumsum'] - marketshare['percent']) / marketshare['total']\n",
    "marketshare['end_angle'] = 2 * np.pi * marketshare['cumsum'] / marketshare['total']\n",
    "\n",
    "years = np.sort(marketshare['year'].unique())\n",
    "\n",
    "fig, axs = plt.subplots(nrows=1, ncols=len(years), figsize=(9,2.5))\n",
    "\n",
    "# Plot pie chart for each year\n",
    "for i, yr in enumerate(years):\n",
    "    df = marketshare[marketshare['year'] == yr]\n",
    "    \n",
    "    axs[i].pie(df['percent'], labels=df['company'], startangle=90, counterclock=False,\n",
    "               colors=[colors_okabeito[i] for i in [1, 2, 3, 5, 4]],\n",
    "               textprops={'fontsize': fs_s}, wedgeprops=dict(edgecolor='white', linewidth=2))\n",
    "    axs[i].set_aspect('equal')\n",
    "    axs[i].set_title(yr, fontsize=fs_m)\n",
    "\n",
    "stamp_bad(axs[-1])\n",
    "plt.show()\n"
   ],
   "outputs": [
    {
     "data": {
      "text/plain": [
       "<Figure size 900x250 with 3 Axes>"
      ],
      "image/svg+xml": "<?xml version=\"1.0\" encoding=\"utf-8\" standalone=\"no\"?>\n<!DOCTYPE svg PUBLIC \"-//W3C//DTD SVG 1.1//EN\"\n  \"http://www.w3.org/Graphics/SVG/1.1/DTD/svg11.dtd\">\n<svg xmlns:xlink=\"http://www.w3.org/1999/xlink\" width=\"576.847059pt\" height=\"174.6pt\" viewBox=\"0 0 576.847059 174.6\" xmlns=\"http://www.w3.org/2000/svg\" version=\"1.1\">\n <metadata>\n  <rdf:RDF xmlns:dc=\"http://purl.org/dc/elements/1.1/\" xmlns:cc=\"http://creativecommons.org/ns#\" xmlns:rdf=\"http://www.w3.org/1999/02/22-rdf-syntax-ns#\">\n   <cc:Work>\n    <dc:type rdf:resource=\"http://purl.org/dc/dcmitype/StillImage\"/>\n    <dc:date>2025-03-22T14:13:04.842163</dc:date>\n    <dc:format>image/svg+xml</dc:format>\n    <dc:creator>\n     <cc:Agent>\n      <dc:title>Matplotlib v3.10.0, https://matplotlib.org/</dc:title>\n     </cc:Agent>\n    </dc:creator>\n   </cc:Work>\n  </rdf:RDF>\n </metadata>\n <defs>\n  <style type=\"text/css\">*{stroke-linejoin: round; stroke-linecap: butt}</style>\n </defs>\n <g id=\"figure_1\">\n  <g id=\"patch_1\">\n   <path d=\"M 0 174.6 \nL 576.847059 174.6 \nL 576.847059 0 \nL 0 0 \nz\n\" style=\"fill: #ffffff\"/>\n  </g>\n  <g id=\"axes_1\">\n   <g id=\"patch_2\">\n    <path d=\"M 125.082444 71.391578 \nC 120.299643 62.691694 113.266613 55.434174 104.721257 50.380465 \nC 96.175901 45.326756 86.427893 42.66 76.499998 42.66 \nL 76.5 98.1 \nz\n\" style=\"fill: #e69f00; stroke: #ffffff; stroke-width: 2; stroke-linejoin: miter\"/>\n   </g>\n   <g id=\"patch_3\">\n    <path d=\"M 121.351899 130.686817 \nC 127.534994 122.176518 131.170089 112.079662 131.830602 101.581111 \nC 132.491115 91.082561 130.150157 80.609716 125.082444 71.391578 \nL 76.5 98.1 \nz\n\" style=\"fill: #56b4e9; stroke: #ffffff; stroke-width: 2; stroke-linejoin: miter\"/>\n   </g>\n   <g id=\"patch_4\">\n    <path d=\"M 59.368089 150.826571 \nC 70.501119 154.443914 82.498864 154.443914 93.631894 150.826575 \nC 104.764926 147.209235 114.471308 140.157137 121.351899 130.686817 \nL 76.5 98.1 \nz\n\" style=\"fill: #009e73; stroke: #ffffff; stroke-width: 2; stroke-linejoin: miter\"/>\n   </g>\n   <g id=\"patch_5\">\n    <path d=\"M 21.49716 91.151531 \nC 19.880591 103.947984 22.779279 116.915959 29.690456 127.806235 \nC 36.601634 138.69651 47.101211 146.840818 59.368089 150.826571 \nL 76.5 98.1 \nz\n\" style=\"fill: #0072b2; stroke: #ffffff; stroke-width: 2; stroke-linejoin: miter\"/>\n   </g>\n   <g id=\"patch_6\">\n    <path d=\"M 76.500001 42.66 \nC 63.003503 42.66 49.960739 47.588449 39.836867 56.513844 \nC 29.712996 65.439238 23.188717 77.761457 21.49716 91.151531 \nL 76.5 98.1 \nz\n\" style=\"fill: #f0e442; stroke: #ffffff; stroke-width: 2; stroke-linejoin: miter\"/>\n   </g>\n   <g id=\"matplotlib.axis_1\"/>\n   <g id=\"matplotlib.axis_2\"/>\n   <g id=\"text_1\">\n    <!-- A -->\n    <g transform=\"translate(107.543385 49.471635) scale(0.14 -0.14)\">\n     <defs>\n      <path id=\"DejaVuSans-41\" d=\"M 2188 4044 \nL 1331 1722 \nL 3047 1722 \nL 2188 4044 \nz\nM 1831 4666 \nL 2547 4666 \nL 4325 0 \nL 3669 0 \nL 3244 1197 \nL 1141 1197 \nL 716 0 \nL 50 0 \nL 1831 4666 \nz\n\" transform=\"scale(0.015625)\"/>\n     </defs>\n     <use xlink:href=\"#DejaVuSans-41\"/>\n    </g>\n   </g>\n   <g id=\"text_2\">\n    <!-- B -->\n    <g transform=\"translate(137.363662 105.792344) scale(0.14 -0.14)\">\n     <defs>\n      <path id=\"DejaVuSans-42\" d=\"M 1259 2228 \nL 1259 519 \nL 2272 519 \nQ 2781 519 3026 730 \nQ 3272 941 3272 1375 \nQ 3272 1813 3026 2020 \nQ 2781 2228 2272 2228 \nL 1259 2228 \nz\nM 1259 4147 \nL 1259 2741 \nL 2194 2741 \nQ 2656 2741 2882 2914 \nQ 3109 3088 3109 3444 \nQ 3109 3797 2882 3972 \nQ 2656 4147 2194 4147 \nL 1259 4147 \nz\nM 628 4666 \nL 2241 4666 \nQ 2963 4666 3353 4366 \nQ 3744 4066 3744 3513 \nQ 3744 3084 3544 2831 \nQ 3344 2578 2956 2516 \nQ 3422 2416 3680 2098 \nQ 3938 1781 3938 1306 \nQ 3938 681 3513 340 \nQ 3088 0 2303 0 \nL 628 0 \nL 628 4666 \nz\n\" transform=\"scale(0.015625)\"/>\n     </defs>\n     <use xlink:href=\"#DejaVuSans-42\"/>\n    </g>\n   </g>\n   <g id=\"text_3\">\n    <!-- C -->\n    <g transform=\"translate(95.345083 159.962358) scale(0.14 -0.14)\">\n     <defs>\n      <path id=\"DejaVuSans-43\" d=\"M 4122 4306 \nL 4122 3641 \nQ 3803 3938 3442 4084 \nQ 3081 4231 2675 4231 \nQ 1875 4231 1450 3742 \nQ 1025 3253 1025 2328 \nQ 1025 1406 1450 917 \nQ 1875 428 2675 428 \nQ 3081 428 3442 575 \nQ 3803 722 4122 1019 \nL 4122 359 \nQ 3791 134 3420 21 \nQ 3050 -91 2638 -91 \nQ 1578 -91 968 557 \nQ 359 1206 359 2328 \nQ 359 3453 968 4101 \nQ 1578 4750 2638 4750 \nQ 3056 4750 3426 4639 \nQ 3797 4528 4122 4306 \nz\n\" transform=\"scale(0.015625)\"/>\n     </defs>\n     <use xlink:href=\"#DejaVuSans-43\"/>\n    </g>\n   </g>\n   <g id=\"text_4\">\n    <!-- D -->\n    <g transform=\"translate(14.229503 134.639981) scale(0.14 -0.14)\">\n     <defs>\n      <path id=\"DejaVuSans-44\" d=\"M 1259 4147 \nL 1259 519 \nL 2022 519 \nQ 2988 519 3436 956 \nQ 3884 1394 3884 2338 \nQ 3884 3275 3436 3711 \nQ 2988 4147 2022 4147 \nL 1259 4147 \nz\nM 628 4666 \nL 1925 4666 \nQ 3281 4666 3915 4102 \nQ 4550 3538 4550 2338 \nQ 4550 1131 3912 565 \nQ 3275 0 1925 0 \nL 628 0 \nL 628 4666 \nz\n\" transform=\"scale(0.015625)\"/>\n     </defs>\n     <use xlink:href=\"#DejaVuSans-44\"/>\n    </g>\n   </g>\n   <g id=\"text_5\">\n    <!-- E -->\n    <g transform=\"translate(27.324305 56.218353) scale(0.14 -0.14)\">\n     <defs>\n      <path id=\"DejaVuSans-45\" d=\"M 628 4666 \nL 3578 4666 \nL 3578 4134 \nL 1259 4134 \nL 1259 2753 \nL 3481 2753 \nL 3481 2222 \nL 1259 2222 \nL 1259 531 \nL 3634 531 \nL 3634 0 \nL 628 0 \nL 628 4666 \nz\n\" transform=\"scale(0.015625)\"/>\n     </defs>\n     <use xlink:href=\"#DejaVuSans-45\"/>\n    </g>\n   </g>\n   <g id=\"text_6\">\n    <!-- 2015 -->\n    <g transform=\"translate(56.14 22.8) scale(0.16 -0.16)\">\n     <defs>\n      <path id=\"DejaVuSans-32\" d=\"M 1228 531 \nL 3431 531 \nL 3431 0 \nL 469 0 \nL 469 531 \nQ 828 903 1448 1529 \nQ 2069 2156 2228 2338 \nQ 2531 2678 2651 2914 \nQ 2772 3150 2772 3378 \nQ 2772 3750 2511 3984 \nQ 2250 4219 1831 4219 \nQ 1534 4219 1204 4116 \nQ 875 4013 500 3803 \nL 500 4441 \nQ 881 4594 1212 4672 \nQ 1544 4750 1819 4750 \nQ 2544 4750 2975 4387 \nQ 3406 4025 3406 3419 \nQ 3406 3131 3298 2873 \nQ 3191 2616 2906 2266 \nQ 2828 2175 2409 1742 \nQ 1991 1309 1228 531 \nz\n\" transform=\"scale(0.015625)\"/>\n      <path id=\"DejaVuSans-30\" d=\"M 2034 4250 \nQ 1547 4250 1301 3770 \nQ 1056 3291 1056 2328 \nQ 1056 1369 1301 889 \nQ 1547 409 2034 409 \nQ 2525 409 2770 889 \nQ 3016 1369 3016 2328 \nQ 3016 3291 2770 3770 \nQ 2525 4250 2034 4250 \nz\nM 2034 4750 \nQ 2819 4750 3233 4129 \nQ 3647 3509 3647 2328 \nQ 3647 1150 3233 529 \nQ 2819 -91 2034 -91 \nQ 1250 -91 836 529 \nQ 422 1150 422 2328 \nQ 422 3509 836 4129 \nQ 1250 4750 2034 4750 \nz\n\" transform=\"scale(0.015625)\"/>\n      <path id=\"DejaVuSans-31\" d=\"M 794 531 \nL 1825 531 \nL 1825 4091 \nL 703 3866 \nL 703 4441 \nL 1819 4666 \nL 2450 4666 \nL 2450 531 \nL 3481 531 \nL 3481 0 \nL 794 0 \nL 794 531 \nz\n\" transform=\"scale(0.015625)\"/>\n      <path id=\"DejaVuSans-35\" d=\"M 691 4666 \nL 3169 4666 \nL 3169 4134 \nL 1269 4134 \nL 1269 2991 \nQ 1406 3038 1543 3061 \nQ 1681 3084 1819 3084 \nQ 2600 3084 3056 2656 \nQ 3513 2228 3513 1497 \nQ 3513 744 3044 326 \nQ 2575 -91 1722 -91 \nQ 1428 -91 1123 -41 \nQ 819 9 494 109 \nL 494 744 \nQ 775 591 1075 516 \nQ 1375 441 1709 441 \nQ 2250 441 2565 725 \nQ 2881 1009 2881 1497 \nQ 2881 1984 2565 2268 \nQ 2250 2553 1709 2553 \nQ 1456 2553 1204 2497 \nQ 953 2441 691 2322 \nL 691 4666 \nz\n\" transform=\"scale(0.015625)\"/>\n     </defs>\n     <use xlink:href=\"#DejaVuSans-32\"/>\n     <use xlink:href=\"#DejaVuSans-30\" transform=\"translate(63.623047 0)\"/>\n     <use xlink:href=\"#DejaVuSans-31\" transform=\"translate(127.246094 0)\"/>\n     <use xlink:href=\"#DejaVuSans-35\" transform=\"translate(190.869141 0)\"/>\n    </g>\n   </g>\n  </g>\n  <g id=\"axes_2\">\n   <g id=\"patch_7\">\n    <path d=\"M 306.473633 80.968099 \nC 302.856293 69.835068 295.804193 60.128689 286.333873 53.248097 \nC 276.863553 46.367506 265.453017 42.66 253.747056 42.66 \nL 253.747059 98.1 \nz\n\" style=\"fill: #e69f00; stroke: #ffffff; stroke-width: 2; stroke-linejoin: miter\"/>\n   </g>\n   <g id=\"patch_8\">\n    <path d=\"M 286.333869 142.951906 \nC 295.804193 136.071315 302.856287 126.364935 306.47363 115.231906 \nC 310.090973 104.098876 310.090973 92.101129 306.473633 80.968099 \nL 253.747059 98.1 \nz\n\" style=\"fill: #56b4e9; stroke: #ffffff; stroke-width: 2; stroke-linejoin: miter\"/>\n   </g>\n   <g id=\"patch_9\">\n    <path d=\"M 224.040824 144.909544 \nC 233.422971 150.863634 244.381983 153.861678 255.48847 153.512642 \nC 266.594956 153.163606 277.344097 149.483359 286.333869 142.951906 \nL 253.747059 98.1 \nz\n\" style=\"fill: #009e73; stroke: #ffffff; stroke-width: 2; stroke-linejoin: miter\"/>\n   </g>\n   <g id=\"patch_10\">\n    <path d=\"M 201.020484 80.968099 \nC 197.219164 92.667364 197.417697 105.305543 201.584629 116.879633 \nC 205.751557 128.453721 213.654462 138.31816 224.040824 144.909544 \nL 253.747059 98.1 \nz\n\" style=\"fill: #0072b2; stroke: #ffffff; stroke-width: 2; stroke-linejoin: miter\"/>\n   </g>\n   <g id=\"patch_11\">\n    <path d=\"M 253.747059 42.66 \nC 242.041099 42.66 230.630552 46.367513 221.160232 53.248107 \nC 211.689912 60.128702 204.637824 69.835068 201.020484 80.968099 \nL 253.747059 98.1 \nz\n\" style=\"fill: #f0e442; stroke: #ffffff; stroke-width: 2; stroke-linejoin: miter\"/>\n   </g>\n   <g id=\"matplotlib.axis_3\"/>\n   <g id=\"matplotlib.axis_4\"/>\n   <g id=\"text_7\">\n    <!-- A -->\n    <g transform=\"translate(289.59255 52.62603) scale(0.14 -0.14)\">\n     <use xlink:href=\"#DejaVuSans-41\"/>\n    </g>\n   </g>\n   <g id=\"text_8\">\n    <!-- B -->\n    <g transform=\"translate(311.746289 120.80822) scale(0.14 -0.14)\">\n     <use xlink:href=\"#DejaVuSans-42\"/>\n    </g>\n   </g>\n   <g id=\"text_9\">\n    <!-- C -->\n    <g transform=\"translate(255.662611 162.917033) scale(0.14 -0.14)\">\n     <use xlink:href=\"#DejaVuSans-43\"/>\n    </g>\n   </g>\n   <g id=\"text_10\">\n    <!-- D -->\n    <g transform=\"translate(185.588387 122.620721) scale(0.14 -0.14)\">\n     <use xlink:href=\"#DejaVuSans-44\"/>\n    </g>\n   </g>\n   <g id=\"text_11\">\n    <!-- E -->\n    <g transform=\"translate(209.055301 52.626041) scale(0.14 -0.14)\">\n     <use xlink:href=\"#DejaVuSans-45\"/>\n    </g>\n   </g>\n   <g id=\"text_12\">\n    <!-- 2016 -->\n    <g transform=\"translate(233.387059 22.8) scale(0.16 -0.16)\">\n     <defs>\n      <path id=\"DejaVuSans-36\" d=\"M 2113 2584 \nQ 1688 2584 1439 2293 \nQ 1191 2003 1191 1497 \nQ 1191 994 1439 701 \nQ 1688 409 2113 409 \nQ 2538 409 2786 701 \nQ 3034 994 3034 1497 \nQ 3034 2003 2786 2293 \nQ 2538 2584 2113 2584 \nz\nM 3366 4563 \nL 3366 3988 \nQ 3128 4100 2886 4159 \nQ 2644 4219 2406 4219 \nQ 1781 4219 1451 3797 \nQ 1122 3375 1075 2522 \nQ 1259 2794 1537 2939 \nQ 1816 3084 2150 3084 \nQ 2853 3084 3261 2657 \nQ 3669 2231 3669 1497 \nQ 3669 778 3244 343 \nQ 2819 -91 2113 -91 \nQ 1303 -91 875 529 \nQ 447 1150 447 2328 \nQ 447 3434 972 4092 \nQ 1497 4750 2381 4750 \nQ 2619 4750 2861 4703 \nQ 3103 4656 3366 4563 \nz\n\" transform=\"scale(0.015625)\"/>\n     </defs>\n     <use xlink:href=\"#DejaVuSans-32\"/>\n     <use xlink:href=\"#DejaVuSans-30\" transform=\"translate(63.623047 0)\"/>\n     <use xlink:href=\"#DejaVuSans-31\" transform=\"translate(127.246094 0)\"/>\n     <use xlink:href=\"#DejaVuSans-36\" transform=\"translate(190.869141 0)\"/>\n    </g>\n   </g>\n  </g>\n  <g id=\"axes_3\">\n   <g id=\"patch_12\">\n    <path d=\"M 485.996958 91.151527 \nC 484.305397 77.761452 477.781118 65.439235 467.657244 56.51384 \nC 457.53337 47.588446 444.490613 42.66 430.994115 42.66 \nL 430.994118 98.1 \nz\n\" style=\"fill: #e69f00; stroke: #ffffff; stroke-width: 2; stroke-linejoin: miter\"/>\n   </g>\n   <g id=\"patch_13\">\n    <path d=\"M 448.126019 150.826575 \nC 460.3929 146.840825 470.892474 138.696517 477.803655 127.806241 \nC 484.714836 116.915966 487.613527 103.947982 485.996958 91.151527 \nL 430.994118 98.1 \nz\n\" style=\"fill: #56b4e9; stroke: #ffffff; stroke-width: 2; stroke-linejoin: miter\"/>\n   </g>\n   <g id=\"patch_14\">\n    <path d=\"M 386.142215 130.686814 \nC 393.022806 140.157134 402.729182 147.209231 413.862213 150.826571 \nC 424.995243 154.443914 436.992988 154.443914 448.126019 150.826575 \nL 430.994118 98.1 \nz\n\" style=\"fill: #009e73; stroke: #ffffff; stroke-width: 2; stroke-linejoin: miter\"/>\n   </g>\n   <g id=\"patch_15\">\n    <path d=\"M 382.411683 71.391563 \nC 377.343967 80.609702 375.003009 91.082539 375.663516 101.58109 \nC 376.324025 112.07964 379.95912 122.176515 386.142215 130.686814 \nL 430.994118 98.1 \nz\n\" style=\"fill: #0072b2; stroke: #ffffff; stroke-width: 2; stroke-linejoin: miter\"/>\n   </g>\n   <g id=\"patch_16\">\n    <path d=\"M 430.994145 42.66 \nC 421.066247 42.659993 411.318234 45.326746 402.772874 50.380455 \nC 394.227515 55.434164 387.194488 62.691681 382.411683 71.391563 \nL 430.994118 98.1 \nz\n\" style=\"fill: #f0e442; stroke: #ffffff; stroke-width: 2; stroke-linejoin: miter\"/>\n   </g>\n   <g id=\"patch_17\">\n    <path d=\"M 569.647059 187.2 \nQ 569.647059 97.2 569.647059 7.2 \n\" style=\"fill: none; stroke: #d02138; stroke-width: 5\"/>\n   </g>\n   <g id=\"matplotlib.axis_5\"/>\n   <g id=\"matplotlib.axis_6\"/>\n   <g id=\"text_13\">\n    <!-- A -->\n    <g transform=\"translate(471.323561 56.218352) scale(0.14 -0.14)\">\n     <use xlink:href=\"#DejaVuSans-41\"/>\n    </g>\n   </g>\n   <g id=\"text_14\">\n    <!-- B -->\n    <g transform=\"translate(482.48461 134.639989) scale(0.14 -0.14)\">\n     <use xlink:href=\"#DejaVuSans-42\"/>\n    </g>\n   </g>\n   <g id=\"text_15\">\n    <!-- C -->\n    <g transform=\"translate(402.373078 159.962352) scale(0.14 -0.14)\">\n     <use xlink:href=\"#DejaVuSans-43\"/>\n    </g>\n   </g>\n   <g id=\"text_16\">\n    <!-- D -->\n    <g transform=\"translate(359.350455 105.792338) scale(0.14 -0.14)\">\n     <use xlink:href=\"#DejaVuSans-44\"/>\n    </g>\n   </g>\n   <g id=\"text_17\">\n    <!-- E -->\n    <g transform=\"translate(391.104525 49.47161) scale(0.14 -0.14)\">\n     <use xlink:href=\"#DejaVuSans-45\"/>\n    </g>\n   </g>\n   <g id=\"text_18\">\n    <!-- bad   -->\n    <g style=\"fill: #d02138\" transform=\"translate(524.804559 19.3575) scale(0.16 -0.16)\">\n     <defs>\n      <path id=\"DejaVuSans-Bold-62\" d=\"M 2400 722 \nQ 2759 722 2948 984 \nQ 3138 1247 3138 1747 \nQ 3138 2247 2948 2509 \nQ 2759 2772 2400 2772 \nQ 2041 2772 1848 2508 \nQ 1656 2244 1656 1747 \nQ 1656 1250 1848 986 \nQ 2041 722 2400 722 \nz\nM 1656 2988 \nQ 1888 3294 2169 3439 \nQ 2450 3584 2816 3584 \nQ 3463 3584 3878 3070 \nQ 4294 2556 4294 1747 \nQ 4294 938 3878 423 \nQ 3463 -91 2816 -91 \nQ 2450 -91 2169 54 \nQ 1888 200 1656 506 \nL 1656 0 \nL 538 0 \nL 538 4863 \nL 1656 4863 \nL 1656 2988 \nz\n\" transform=\"scale(0.015625)\"/>\n      <path id=\"DejaVuSans-Bold-61\" d=\"M 2106 1575 \nQ 1756 1575 1579 1456 \nQ 1403 1338 1403 1106 \nQ 1403 894 1545 773 \nQ 1688 653 1941 653 \nQ 2256 653 2472 879 \nQ 2688 1106 2688 1447 \nL 2688 1575 \nL 2106 1575 \nz\nM 3816 1997 \nL 3816 0 \nL 2688 0 \nL 2688 519 \nQ 2463 200 2181 54 \nQ 1900 -91 1497 -91 \nQ 953 -91 614 226 \nQ 275 544 275 1050 \nQ 275 1666 698 1953 \nQ 1122 2241 2028 2241 \nL 2688 2241 \nL 2688 2328 \nQ 2688 2594 2478 2717 \nQ 2269 2841 1825 2841 \nQ 1466 2841 1156 2769 \nQ 847 2697 581 2553 \nL 581 3406 \nQ 941 3494 1303 3539 \nQ 1666 3584 2028 3584 \nQ 2975 3584 3395 3211 \nQ 3816 2838 3816 1997 \nz\n\" transform=\"scale(0.015625)\"/>\n      <path id=\"DejaVuSans-Bold-64\" d=\"M 2919 2988 \nL 2919 4863 \nL 4044 4863 \nL 4044 0 \nL 2919 0 \nL 2919 506 \nQ 2688 197 2409 53 \nQ 2131 -91 1766 -91 \nQ 1119 -91 703 423 \nQ 288 938 288 1747 \nQ 288 2556 703 3070 \nQ 1119 3584 1766 3584 \nQ 2128 3584 2408 3439 \nQ 2688 3294 2919 2988 \nz\nM 2181 722 \nQ 2541 722 2730 984 \nQ 2919 1247 2919 1747 \nQ 2919 2247 2730 2509 \nQ 2541 2772 2181 2772 \nQ 1825 2772 1636 2509 \nQ 1447 2247 1447 1747 \nQ 1447 1247 1636 984 \nQ 1825 722 2181 722 \nz\n\" transform=\"scale(0.015625)\"/>\n      <path id=\"DejaVuSans-Bold-20\" transform=\"scale(0.015625)\"/>\n     </defs>\n     <use xlink:href=\"#DejaVuSans-Bold-62\"/>\n     <use xlink:href=\"#DejaVuSans-Bold-61\" transform=\"translate(71.582031 0)\"/>\n     <use xlink:href=\"#DejaVuSans-Bold-64\" transform=\"translate(139.0625 0)\"/>\n     <use xlink:href=\"#DejaVuSans-Bold-20\" transform=\"translate(210.644531 0)\"/>\n     <use xlink:href=\"#DejaVuSans-Bold-20\" transform=\"translate(245.458984 0)\"/>\n    </g>\n   </g>\n   <g id=\"text_19\">\n    <!-- 2017 -->\n    <g transform=\"translate(410.634118 22.8) scale(0.16 -0.16)\">\n     <defs>\n      <path id=\"DejaVuSans-37\" d=\"M 525 4666 \nL 3525 4666 \nL 3525 4397 \nL 1831 0 \nL 1172 0 \nL 2766 4134 \nL 525 4134 \nL 525 4666 \nz\n\" transform=\"scale(0.015625)\"/>\n     </defs>\n     <use xlink:href=\"#DejaVuSans-32\"/>\n     <use xlink:href=\"#DejaVuSans-30\" transform=\"translate(63.623047 0)\"/>\n     <use xlink:href=\"#DejaVuSans-31\" transform=\"translate(127.246094 0)\"/>\n     <use xlink:href=\"#DejaVuSans-37\" transform=\"translate(190.869141 0)\"/>\n    </g>\n   </g>\n  </g>\n </g>\n</svg>\n"
     },
     "metadata": {},
     "output_type": "display_data"
    }
   ],
   "execution_count": 21
  },
  {
   "cell_type": "markdown",
   "metadata": {},
   "source": [
    "Source: Wikipedia, User:Schutz. 2007. “File:Piecharts.svg.” https://en.wikipedia.org/wiki/File:Piecharts.svg."
   ]
  },
  {
   "cell_type": "code",
   "metadata": {
    "ExecuteTime": {
     "end_time": "2025-03-22T13:13:04.963796Z",
     "start_time": "2025-03-22T13:13:04.909436Z"
    }
   },
   "source": [
    "fig, ax = plt.subplots(figsize=figsize_rect)\n",
    "\n",
    "bottom = np.zeros(len(marketshare['year'].unique()))\n",
    "for company, color in zip(['A', 'B', 'C', 'D', 'E'], [colors_okabeito[i] for i in [1, 2, 3, 5, 4]]):\n",
    "    data = marketshare[marketshare['company'] == company]\n",
    "    ax.bar(data['year'], data['percent'], bottom=bottom, color=color, label=company)\n",
    "    bottom += data['percent'].to_numpy()\n",
    "\n",
    "# Remove x-axis and y-axis labels\n",
    "ax.set_xlabel('year', fontsize=fs_m)\n",
    "ax.set_ylabel('market share', fontsize=fs_m)\n",
    "\n",
    "# Remove x-axis ticks\n",
    "ax.xaxis.set_ticks_position('none')\n",
    "\n",
    "ax.set_ylim([0,100])\n",
    "\n",
    "# Format y-axis tick labels with percentage sign\n",
    "fmt = '%.0f%%' # Format you want the ticks, e.g. '40%'\n",
    "yticks = mpl.ticker.FormatStrFormatter(fmt)\n",
    "ax.yaxis.set_major_formatter(yticks)\n",
    "\n",
    "ax.tick_params(axis='both', bottom=False, left=True, labelsize=fs_m)\n",
    "\n",
    "# Remove grid lines\n",
    "ax.grid(False)\n",
    "\n",
    "# Move the legend to the bottom\n",
    "ax.legend(loc='center left', bbox_to_anchor=(1, 0.5), ncol=1,\n",
    "          frameon=False, title='company', title_fontsize=fs_m,\n",
    "          handlelength=1, handletextpad=0.3, fontsize=fs_s)\n",
    "\n",
    "# Remove axis line\n",
    "for loc in ['right', 'top', 'bottom']:\n",
    "    ax.spines[loc].set_visible(False)\n",
    "\n",
    "plt.subplots_adjust(right=0.85)\n",
    "\n",
    "stamp_bad(ax)\n",
    "plt.show()"
   ],
   "outputs": [
    {
     "data": {
      "text/plain": [
       "<Figure size 900x500 with 1 Axes>"
      ],
      "image/svg+xml": "<?xml version=\"1.0\" encoding=\"utf-8\" standalone=\"no\"?>\n<!DOCTYPE svg PUBLIC \"-//W3C//DTD SVG 1.1//EN\"\n  \"http://www.w3.org/Graphics/SVG/1.1/DTD/svg11.dtd\">\n<svg xmlns:xlink=\"http://www.w3.org/1999/xlink\" width=\"653.6275pt\" height=\"376.77pt\" viewBox=\"0 0 653.6275 376.77\" xmlns=\"http://www.w3.org/2000/svg\" version=\"1.1\">\n <metadata>\n  <rdf:RDF xmlns:dc=\"http://purl.org/dc/elements/1.1/\" xmlns:cc=\"http://creativecommons.org/ns#\" xmlns:rdf=\"http://www.w3.org/1999/02/22-rdf-syntax-ns#\">\n   <cc:Work>\n    <dc:type rdf:resource=\"http://purl.org/dc/dcmitype/StillImage\"/>\n    <dc:date>2025-03-22T14:13:04.946403</dc:date>\n    <dc:format>image/svg+xml</dc:format>\n    <dc:creator>\n     <cc:Agent>\n      <dc:title>Matplotlib v3.10.0, https://matplotlib.org/</dc:title>\n     </cc:Agent>\n    </dc:creator>\n   </cc:Work>\n  </rdf:RDF>\n </metadata>\n <defs>\n  <style type=\"text/css\">*{stroke-linejoin: round; stroke-linecap: butt}</style>\n </defs>\n <g id=\"figure_1\">\n  <g id=\"patch_1\">\n   <path d=\"M 0 376.77 \nL 653.6275 376.77 \nL 653.6275 0 \nL 0 0 \nz\n\" style=\"fill: #ffffff\"/>\n  </g>\n  <g id=\"axes_1\">\n   <g id=\"patch_2\">\n    <path d=\"M 79.4275 327.6 \nL 549.2275 327.6 \nL 549.2275 50.4 \nL 79.4275 50.4 \nz\n\" style=\"fill: #ffffff\"/>\n   </g>\n   <g id=\"patch_3\">\n    <path d=\"M 100.782045 327.6 \nL 222.808019 327.6 \nL 222.808019 280.476 \nL 100.782045 280.476 \nz\n\" clip-path=\"url(#p17bb29d1fc)\" style=\"fill: #e69f00\"/>\n   </g>\n   <g id=\"patch_4\">\n    <path d=\"M 253.314513 327.6 \nL 375.340487 327.6 \nL 375.340487 272.16 \nL 253.314513 272.16 \nz\n\" clip-path=\"url(#p17bb29d1fc)\" style=\"fill: #e69f00\"/>\n   </g>\n   <g id=\"patch_5\">\n    <path d=\"M 405.846981 327.6 \nL 527.872955 327.6 \nL 527.872955 263.844 \nL 405.846981 263.844 \nz\n\" clip-path=\"url(#p17bb29d1fc)\" style=\"fill: #e69f00\"/>\n   </g>\n   <g id=\"patch_6\">\n    <path d=\"M 100.782045 280.476 \nL 222.808019 280.476 \nL 222.808019 230.58 \nL 100.782045 230.58 \nz\n\" clip-path=\"url(#p17bb29d1fc)\" style=\"fill: #56b4e9\"/>\n   </g>\n   <g id=\"patch_7\">\n    <path d=\"M 253.314513 272.16 \nL 375.340487 272.16 \nL 375.340487 216.72 \nL 253.314513 216.72 \nz\n\" clip-path=\"url(#p17bb29d1fc)\" style=\"fill: #56b4e9\"/>\n   </g>\n   <g id=\"patch_8\">\n    <path d=\"M 405.846981 263.844 \nL 527.872955 263.844 \nL 527.872955 202.86 \nL 405.846981 202.86 \nz\n\" clip-path=\"url(#p17bb29d1fc)\" style=\"fill: #56b4e9\"/>\n   </g>\n   <g id=\"patch_9\">\n    <path d=\"M 100.782045 230.58 \nL 222.808019 230.58 \nL 222.808019 175.14 \nL 100.782045 175.14 \nz\n\" clip-path=\"url(#p17bb29d1fc)\" style=\"fill: #009e73\"/>\n   </g>\n   <g id=\"patch_10\">\n    <path d=\"M 253.314513 216.72 \nL 375.340487 216.72 \nL 375.340487 164.052 \nL 253.314513 164.052 \nz\n\" clip-path=\"url(#p17bb29d1fc)\" style=\"fill: #009e73\"/>\n   </g>\n   <g id=\"patch_11\">\n    <path d=\"M 405.846981 202.86 \nL 527.872955 202.86 \nL 527.872955 147.42 \nL 405.846981 147.42 \nz\n\" clip-path=\"url(#p17bb29d1fc)\" style=\"fill: #009e73\"/>\n   </g>\n   <g id=\"patch_12\">\n    <path d=\"M 100.782045 175.14 \nL 222.808019 175.14 \nL 222.808019 114.156 \nL 100.782045 114.156 \nz\n\" clip-path=\"url(#p17bb29d1fc)\" style=\"fill: #0072b2\"/>\n   </g>\n   <g id=\"patch_13\">\n    <path d=\"M 253.314513 164.052 \nL 375.340487 164.052 \nL 375.340487 105.84 \nL 253.314513 105.84 \nz\n\" clip-path=\"url(#p17bb29d1fc)\" style=\"fill: #0072b2\"/>\n   </g>\n   <g id=\"patch_14\">\n    <path d=\"M 405.846981 147.42 \nL 527.872955 147.42 \nL 527.872955 97.524 \nL 405.846981 97.524 \nz\n\" clip-path=\"url(#p17bb29d1fc)\" style=\"fill: #0072b2\"/>\n   </g>\n   <g id=\"patch_15\">\n    <path d=\"M 100.782045 114.156 \nL 222.808019 114.156 \nL 222.808019 50.4 \nL 100.782045 50.4 \nz\n\" clip-path=\"url(#p17bb29d1fc)\" style=\"fill: #f0e442\"/>\n   </g>\n   <g id=\"patch_16\">\n    <path d=\"M 253.314513 105.84 \nL 375.340487 105.84 \nL 375.340487 50.4 \nL 253.314513 50.4 \nz\n\" clip-path=\"url(#p17bb29d1fc)\" style=\"fill: #f0e442\"/>\n   </g>\n   <g id=\"patch_17\">\n    <path d=\"M 405.846981 97.524 \nL 527.872955 97.524 \nL 527.872955 50.4 \nL 405.846981 50.4 \nz\n\" clip-path=\"url(#p17bb29d1fc)\" style=\"fill: #f0e442\"/>\n   </g>\n   <g id=\"patch_18\">\n    <path d=\"M 646.4275 367.2 \nQ 646.4275 187.2 646.4275 7.2 \n\" style=\"fill: none; stroke: #d02138; stroke-width: 5\"/>\n   </g>\n   <g id=\"matplotlib.axis_1\">\n    <g id=\"xtick_1\">\n     <g id=\"text_1\">\n      <!-- 2015 -->\n      <g transform=\"translate(141.435032 346.7575) scale(0.16 -0.16)\">\n       <defs>\n        <path id=\"DejaVuSans-32\" d=\"M 1228 531 \nL 3431 531 \nL 3431 0 \nL 469 0 \nL 469 531 \nQ 828 903 1448 1529 \nQ 2069 2156 2228 2338 \nQ 2531 2678 2651 2914 \nQ 2772 3150 2772 3378 \nQ 2772 3750 2511 3984 \nQ 2250 4219 1831 4219 \nQ 1534 4219 1204 4116 \nQ 875 4013 500 3803 \nL 500 4441 \nQ 881 4594 1212 4672 \nQ 1544 4750 1819 4750 \nQ 2544 4750 2975 4387 \nQ 3406 4025 3406 3419 \nQ 3406 3131 3298 2873 \nQ 3191 2616 2906 2266 \nQ 2828 2175 2409 1742 \nQ 1991 1309 1228 531 \nz\n\" transform=\"scale(0.015625)\"/>\n        <path id=\"DejaVuSans-30\" d=\"M 2034 4250 \nQ 1547 4250 1301 3770 \nQ 1056 3291 1056 2328 \nQ 1056 1369 1301 889 \nQ 1547 409 2034 409 \nQ 2525 409 2770 889 \nQ 3016 1369 3016 2328 \nQ 3016 3291 2770 3770 \nQ 2525 4250 2034 4250 \nz\nM 2034 4750 \nQ 2819 4750 3233 4129 \nQ 3647 3509 3647 2328 \nQ 3647 1150 3233 529 \nQ 2819 -91 2034 -91 \nQ 1250 -91 836 529 \nQ 422 1150 422 2328 \nQ 422 3509 836 4129 \nQ 1250 4750 2034 4750 \nz\n\" transform=\"scale(0.015625)\"/>\n        <path id=\"DejaVuSans-31\" d=\"M 794 531 \nL 1825 531 \nL 1825 4091 \nL 703 3866 \nL 703 4441 \nL 1819 4666 \nL 2450 4666 \nL 2450 531 \nL 3481 531 \nL 3481 0 \nL 794 0 \nL 794 531 \nz\n\" transform=\"scale(0.015625)\"/>\n        <path id=\"DejaVuSans-35\" d=\"M 691 4666 \nL 3169 4666 \nL 3169 4134 \nL 1269 4134 \nL 1269 2991 \nQ 1406 3038 1543 3061 \nQ 1681 3084 1819 3084 \nQ 2600 3084 3056 2656 \nQ 3513 2228 3513 1497 \nQ 3513 744 3044 326 \nQ 2575 -91 1722 -91 \nQ 1428 -91 1123 -41 \nQ 819 9 494 109 \nL 494 744 \nQ 775 591 1075 516 \nQ 1375 441 1709 441 \nQ 2250 441 2565 725 \nQ 2881 1009 2881 1497 \nQ 2881 1984 2565 2268 \nQ 2250 2553 1709 2553 \nQ 1456 2553 1204 2497 \nQ 953 2441 691 2322 \nL 691 4666 \nz\n\" transform=\"scale(0.015625)\"/>\n       </defs>\n       <use xlink:href=\"#DejaVuSans-32\"/>\n       <use xlink:href=\"#DejaVuSans-30\" transform=\"translate(63.623047 0)\"/>\n       <use xlink:href=\"#DejaVuSans-31\" transform=\"translate(127.246094 0)\"/>\n       <use xlink:href=\"#DejaVuSans-35\" transform=\"translate(190.869141 0)\"/>\n      </g>\n     </g>\n    </g>\n    <g id=\"xtick_2\">\n     <g id=\"text_2\">\n      <!-- 2016 -->\n      <g transform=\"translate(293.9675 346.7575) scale(0.16 -0.16)\">\n       <defs>\n        <path id=\"DejaVuSans-36\" d=\"M 2113 2584 \nQ 1688 2584 1439 2293 \nQ 1191 2003 1191 1497 \nQ 1191 994 1439 701 \nQ 1688 409 2113 409 \nQ 2538 409 2786 701 \nQ 3034 994 3034 1497 \nQ 3034 2003 2786 2293 \nQ 2538 2584 2113 2584 \nz\nM 3366 4563 \nL 3366 3988 \nQ 3128 4100 2886 4159 \nQ 2644 4219 2406 4219 \nQ 1781 4219 1451 3797 \nQ 1122 3375 1075 2522 \nQ 1259 2794 1537 2939 \nQ 1816 3084 2150 3084 \nQ 2853 3084 3261 2657 \nQ 3669 2231 3669 1497 \nQ 3669 778 3244 343 \nQ 2819 -91 2113 -91 \nQ 1303 -91 875 529 \nQ 447 1150 447 2328 \nQ 447 3434 972 4092 \nQ 1497 4750 2381 4750 \nQ 2619 4750 2861 4703 \nQ 3103 4656 3366 4563 \nz\n\" transform=\"scale(0.015625)\"/>\n       </defs>\n       <use xlink:href=\"#DejaVuSans-32\"/>\n       <use xlink:href=\"#DejaVuSans-30\" transform=\"translate(63.623047 0)\"/>\n       <use xlink:href=\"#DejaVuSans-31\" transform=\"translate(127.246094 0)\"/>\n       <use xlink:href=\"#DejaVuSans-36\" transform=\"translate(190.869141 0)\"/>\n      </g>\n     </g>\n    </g>\n    <g id=\"xtick_3\">\n     <g id=\"text_3\">\n      <!-- 2017 -->\n      <g transform=\"translate(446.499968 346.7575) scale(0.16 -0.16)\">\n       <defs>\n        <path id=\"DejaVuSans-37\" d=\"M 525 4666 \nL 3525 4666 \nL 3525 4397 \nL 1831 0 \nL 1172 0 \nL 2766 4134 \nL 525 4134 \nL 525 4666 \nz\n\" transform=\"scale(0.015625)\"/>\n       </defs>\n       <use xlink:href=\"#DejaVuSans-32\"/>\n       <use xlink:href=\"#DejaVuSans-30\" transform=\"translate(63.623047 0)\"/>\n       <use xlink:href=\"#DejaVuSans-31\" transform=\"translate(127.246094 0)\"/>\n       <use xlink:href=\"#DejaVuSans-37\" transform=\"translate(190.869141 0)\"/>\n      </g>\n     </g>\n    </g>\n    <g id=\"text_4\">\n     <!-- year -->\n     <g transform=\"translate(296.47875 366.2425) scale(0.16 -0.16)\">\n      <defs>\n       <path id=\"DejaVuSans-79\" d=\"M 2059 -325 \nQ 1816 -950 1584 -1140 \nQ 1353 -1331 966 -1331 \nL 506 -1331 \nL 506 -850 \nL 844 -850 \nQ 1081 -850 1212 -737 \nQ 1344 -625 1503 -206 \nL 1606 56 \nL 191 3500 \nL 800 3500 \nL 1894 763 \nL 2988 3500 \nL 3597 3500 \nL 2059 -325 \nz\n\" transform=\"scale(0.015625)\"/>\n       <path id=\"DejaVuSans-65\" d=\"M 3597 1894 \nL 3597 1613 \nL 953 1613 \nQ 991 1019 1311 708 \nQ 1631 397 2203 397 \nQ 2534 397 2845 478 \nQ 3156 559 3463 722 \nL 3463 178 \nQ 3153 47 2828 -22 \nQ 2503 -91 2169 -91 \nQ 1331 -91 842 396 \nQ 353 884 353 1716 \nQ 353 2575 817 3079 \nQ 1281 3584 2069 3584 \nQ 2775 3584 3186 3129 \nQ 3597 2675 3597 1894 \nz\nM 3022 2063 \nQ 3016 2534 2758 2815 \nQ 2500 3097 2075 3097 \nQ 1594 3097 1305 2825 \nQ 1016 2553 972 2059 \nL 3022 2063 \nz\n\" transform=\"scale(0.015625)\"/>\n       <path id=\"DejaVuSans-61\" d=\"M 2194 1759 \nQ 1497 1759 1228 1600 \nQ 959 1441 959 1056 \nQ 959 750 1161 570 \nQ 1363 391 1709 391 \nQ 2188 391 2477 730 \nQ 2766 1069 2766 1631 \nL 2766 1759 \nL 2194 1759 \nz\nM 3341 1997 \nL 3341 0 \nL 2766 0 \nL 2766 531 \nQ 2569 213 2275 61 \nQ 1981 -91 1556 -91 \nQ 1019 -91 701 211 \nQ 384 513 384 1019 \nQ 384 1609 779 1909 \nQ 1175 2209 1959 2209 \nL 2766 2209 \nL 2766 2266 \nQ 2766 2663 2505 2880 \nQ 2244 3097 1772 3097 \nQ 1472 3097 1187 3025 \nQ 903 2953 641 2809 \nL 641 3341 \nQ 956 3463 1253 3523 \nQ 1550 3584 1831 3584 \nQ 2591 3584 2966 3190 \nQ 3341 2797 3341 1997 \nz\n\" transform=\"scale(0.015625)\"/>\n       <path id=\"DejaVuSans-72\" d=\"M 2631 2963 \nQ 2534 3019 2420 3045 \nQ 2306 3072 2169 3072 \nQ 1681 3072 1420 2755 \nQ 1159 2438 1159 1844 \nL 1159 0 \nL 581 0 \nL 581 3500 \nL 1159 3500 \nL 1159 2956 \nQ 1341 3275 1631 3429 \nQ 1922 3584 2338 3584 \nQ 2397 3584 2469 3576 \nQ 2541 3569 2628 3553 \nL 2631 2963 \nz\n\" transform=\"scale(0.015625)\"/>\n      </defs>\n      <use xlink:href=\"#DejaVuSans-79\"/>\n      <use xlink:href=\"#DejaVuSans-65\" transform=\"translate(59.179688 0)\"/>\n      <use xlink:href=\"#DejaVuSans-61\" transform=\"translate(120.703125 0)\"/>\n      <use xlink:href=\"#DejaVuSans-72\" transform=\"translate(181.982422 0)\"/>\n     </g>\n    </g>\n   </g>\n   <g id=\"matplotlib.axis_2\">\n    <g id=\"ytick_1\">\n     <g id=\"line2d_1\">\n      <defs>\n       <path id=\"ma0cc66a258\" d=\"M 0 0 \nL -3.5 0 \n\" style=\"stroke: #000000; stroke-width: 0.8\"/>\n      </defs>\n      <g>\n       <use xlink:href=\"#ma0cc66a258\" x=\"79.4275\" y=\"327.6\" style=\"stroke: #000000; stroke-width: 0.8\"/>\n      </g>\n     </g>\n     <g id=\"text_5\">\n      <!-- 0% -->\n      <g transform=\"translate(47.045 333.67875) scale(0.16 -0.16)\">\n       <defs>\n        <path id=\"DejaVuSans-25\" d=\"M 4653 2053 \nQ 4381 2053 4226 1822 \nQ 4072 1591 4072 1178 \nQ 4072 772 4226 539 \nQ 4381 306 4653 306 \nQ 4919 306 5073 539 \nQ 5228 772 5228 1178 \nQ 5228 1588 5073 1820 \nQ 4919 2053 4653 2053 \nz\nM 4653 2450 \nQ 5147 2450 5437 2106 \nQ 5728 1763 5728 1178 \nQ 5728 594 5436 251 \nQ 5144 -91 4653 -91 \nQ 4153 -91 3862 251 \nQ 3572 594 3572 1178 \nQ 3572 1766 3864 2108 \nQ 4156 2450 4653 2450 \nz\nM 1428 4353 \nQ 1159 4353 1004 4120 \nQ 850 3888 850 3481 \nQ 850 3069 1003 2837 \nQ 1156 2606 1428 2606 \nQ 1700 2606 1854 2837 \nQ 2009 3069 2009 3481 \nQ 2009 3884 1853 4118 \nQ 1697 4353 1428 4353 \nz\nM 4250 4750 \nL 4750 4750 \nL 1831 -91 \nL 1331 -91 \nL 4250 4750 \nz\nM 1428 4750 \nQ 1922 4750 2215 4408 \nQ 2509 4066 2509 3481 \nQ 2509 2891 2217 2550 \nQ 1925 2209 1428 2209 \nQ 931 2209 642 2551 \nQ 353 2894 353 3481 \nQ 353 4063 643 4406 \nQ 934 4750 1428 4750 \nz\n\" transform=\"scale(0.015625)\"/>\n       </defs>\n       <use xlink:href=\"#DejaVuSans-30\"/>\n       <use xlink:href=\"#DejaVuSans-25\" transform=\"translate(63.623047 0)\"/>\n      </g>\n     </g>\n    </g>\n    <g id=\"ytick_2\">\n     <g id=\"line2d_2\">\n      <g>\n       <use xlink:href=\"#ma0cc66a258\" x=\"79.4275\" y=\"272.16\" style=\"stroke: #000000; stroke-width: 0.8\"/>\n      </g>\n     </g>\n     <g id=\"text_6\">\n      <!-- 20% -->\n      <g transform=\"translate(36.865 278.23875) scale(0.16 -0.16)\">\n       <use xlink:href=\"#DejaVuSans-32\"/>\n       <use xlink:href=\"#DejaVuSans-30\" transform=\"translate(63.623047 0)\"/>\n       <use xlink:href=\"#DejaVuSans-25\" transform=\"translate(127.246094 0)\"/>\n      </g>\n     </g>\n    </g>\n    <g id=\"ytick_3\">\n     <g id=\"line2d_3\">\n      <g>\n       <use xlink:href=\"#ma0cc66a258\" x=\"79.4275\" y=\"216.72\" style=\"stroke: #000000; stroke-width: 0.8\"/>\n      </g>\n     </g>\n     <g id=\"text_7\">\n      <!-- 40% -->\n      <g transform=\"translate(36.865 222.79875) scale(0.16 -0.16)\">\n       <defs>\n        <path id=\"DejaVuSans-34\" d=\"M 2419 4116 \nL 825 1625 \nL 2419 1625 \nL 2419 4116 \nz\nM 2253 4666 \nL 3047 4666 \nL 3047 1625 \nL 3713 1625 \nL 3713 1100 \nL 3047 1100 \nL 3047 0 \nL 2419 0 \nL 2419 1100 \nL 313 1100 \nL 313 1709 \nL 2253 4666 \nz\n\" transform=\"scale(0.015625)\"/>\n       </defs>\n       <use xlink:href=\"#DejaVuSans-34\"/>\n       <use xlink:href=\"#DejaVuSans-30\" transform=\"translate(63.623047 0)\"/>\n       <use xlink:href=\"#DejaVuSans-25\" transform=\"translate(127.246094 0)\"/>\n      </g>\n     </g>\n    </g>\n    <g id=\"ytick_4\">\n     <g id=\"line2d_4\">\n      <g>\n       <use xlink:href=\"#ma0cc66a258\" x=\"79.4275\" y=\"161.28\" style=\"stroke: #000000; stroke-width: 0.8\"/>\n      </g>\n     </g>\n     <g id=\"text_8\">\n      <!-- 60% -->\n      <g transform=\"translate(36.865 167.35875) scale(0.16 -0.16)\">\n       <use xlink:href=\"#DejaVuSans-36\"/>\n       <use xlink:href=\"#DejaVuSans-30\" transform=\"translate(63.623047 0)\"/>\n       <use xlink:href=\"#DejaVuSans-25\" transform=\"translate(127.246094 0)\"/>\n      </g>\n     </g>\n    </g>\n    <g id=\"ytick_5\">\n     <g id=\"line2d_5\">\n      <g>\n       <use xlink:href=\"#ma0cc66a258\" x=\"79.4275\" y=\"105.84\" style=\"stroke: #000000; stroke-width: 0.8\"/>\n      </g>\n     </g>\n     <g id=\"text_9\">\n      <!-- 80% -->\n      <g transform=\"translate(36.865 111.91875) scale(0.16 -0.16)\">\n       <defs>\n        <path id=\"DejaVuSans-38\" d=\"M 2034 2216 \nQ 1584 2216 1326 1975 \nQ 1069 1734 1069 1313 \nQ 1069 891 1326 650 \nQ 1584 409 2034 409 \nQ 2484 409 2743 651 \nQ 3003 894 3003 1313 \nQ 3003 1734 2745 1975 \nQ 2488 2216 2034 2216 \nz\nM 1403 2484 \nQ 997 2584 770 2862 \nQ 544 3141 544 3541 \nQ 544 4100 942 4425 \nQ 1341 4750 2034 4750 \nQ 2731 4750 3128 4425 \nQ 3525 4100 3525 3541 \nQ 3525 3141 3298 2862 \nQ 3072 2584 2669 2484 \nQ 3125 2378 3379 2068 \nQ 3634 1759 3634 1313 \nQ 3634 634 3220 271 \nQ 2806 -91 2034 -91 \nQ 1263 -91 848 271 \nQ 434 634 434 1313 \nQ 434 1759 690 2068 \nQ 947 2378 1403 2484 \nz\nM 1172 3481 \nQ 1172 3119 1398 2916 \nQ 1625 2713 2034 2713 \nQ 2441 2713 2670 2916 \nQ 2900 3119 2900 3481 \nQ 2900 3844 2670 4047 \nQ 2441 4250 2034 4250 \nQ 1625 4250 1398 4047 \nQ 1172 3844 1172 3481 \nz\n\" transform=\"scale(0.015625)\"/>\n       </defs>\n       <use xlink:href=\"#DejaVuSans-38\"/>\n       <use xlink:href=\"#DejaVuSans-30\" transform=\"translate(63.623047 0)\"/>\n       <use xlink:href=\"#DejaVuSans-25\" transform=\"translate(127.246094 0)\"/>\n      </g>\n     </g>\n    </g>\n    <g id=\"ytick_6\">\n     <g id=\"line2d_6\">\n      <g>\n       <use xlink:href=\"#ma0cc66a258\" x=\"79.4275\" y=\"50.4\" style=\"stroke: #000000; stroke-width: 0.8\"/>\n      </g>\n     </g>\n     <g id=\"text_10\">\n      <!-- 100% -->\n      <g transform=\"translate(26.685 56.47875) scale(0.16 -0.16)\">\n       <use xlink:href=\"#DejaVuSans-31\"/>\n       <use xlink:href=\"#DejaVuSans-30\" transform=\"translate(63.623047 0)\"/>\n       <use xlink:href=\"#DejaVuSans-30\" transform=\"translate(127.246094 0)\"/>\n       <use xlink:href=\"#DejaVuSans-25\" transform=\"translate(190.869141 0)\"/>\n      </g>\n     </g>\n    </g>\n    <g id=\"text_11\">\n     <!-- market share -->\n     <g transform=\"translate(19.3575 242.09875) rotate(-90) scale(0.16 -0.16)\">\n      <defs>\n       <path id=\"DejaVuSans-6d\" d=\"M 3328 2828 \nQ 3544 3216 3844 3400 \nQ 4144 3584 4550 3584 \nQ 5097 3584 5394 3201 \nQ 5691 2819 5691 2113 \nL 5691 0 \nL 5113 0 \nL 5113 2094 \nQ 5113 2597 4934 2840 \nQ 4756 3084 4391 3084 \nQ 3944 3084 3684 2787 \nQ 3425 2491 3425 1978 \nL 3425 0 \nL 2847 0 \nL 2847 2094 \nQ 2847 2600 2669 2842 \nQ 2491 3084 2119 3084 \nQ 1678 3084 1418 2786 \nQ 1159 2488 1159 1978 \nL 1159 0 \nL 581 0 \nL 581 3500 \nL 1159 3500 \nL 1159 2956 \nQ 1356 3278 1631 3431 \nQ 1906 3584 2284 3584 \nQ 2666 3584 2933 3390 \nQ 3200 3197 3328 2828 \nz\n\" transform=\"scale(0.015625)\"/>\n       <path id=\"DejaVuSans-6b\" d=\"M 581 4863 \nL 1159 4863 \nL 1159 1991 \nL 2875 3500 \nL 3609 3500 \nL 1753 1863 \nL 3688 0 \nL 2938 0 \nL 1159 1709 \nL 1159 0 \nL 581 0 \nL 581 4863 \nz\n\" transform=\"scale(0.015625)\"/>\n       <path id=\"DejaVuSans-74\" d=\"M 1172 4494 \nL 1172 3500 \nL 2356 3500 \nL 2356 3053 \nL 1172 3053 \nL 1172 1153 \nQ 1172 725 1289 603 \nQ 1406 481 1766 481 \nL 2356 481 \nL 2356 0 \nL 1766 0 \nQ 1100 0 847 248 \nQ 594 497 594 1153 \nL 594 3053 \nL 172 3053 \nL 172 3500 \nL 594 3500 \nL 594 4494 \nL 1172 4494 \nz\n\" transform=\"scale(0.015625)\"/>\n       <path id=\"DejaVuSans-20\" transform=\"scale(0.015625)\"/>\n       <path id=\"DejaVuSans-73\" d=\"M 2834 3397 \nL 2834 2853 \nQ 2591 2978 2328 3040 \nQ 2066 3103 1784 3103 \nQ 1356 3103 1142 2972 \nQ 928 2841 928 2578 \nQ 928 2378 1081 2264 \nQ 1234 2150 1697 2047 \nL 1894 2003 \nQ 2506 1872 2764 1633 \nQ 3022 1394 3022 966 \nQ 3022 478 2636 193 \nQ 2250 -91 1575 -91 \nQ 1294 -91 989 -36 \nQ 684 19 347 128 \nL 347 722 \nQ 666 556 975 473 \nQ 1284 391 1588 391 \nQ 1994 391 2212 530 \nQ 2431 669 2431 922 \nQ 2431 1156 2273 1281 \nQ 2116 1406 1581 1522 \nL 1381 1569 \nQ 847 1681 609 1914 \nQ 372 2147 372 2553 \nQ 372 3047 722 3315 \nQ 1072 3584 1716 3584 \nQ 2034 3584 2315 3537 \nQ 2597 3491 2834 3397 \nz\n\" transform=\"scale(0.015625)\"/>\n       <path id=\"DejaVuSans-68\" d=\"M 3513 2113 \nL 3513 0 \nL 2938 0 \nL 2938 2094 \nQ 2938 2591 2744 2837 \nQ 2550 3084 2163 3084 \nQ 1697 3084 1428 2787 \nQ 1159 2491 1159 1978 \nL 1159 0 \nL 581 0 \nL 581 4863 \nL 1159 4863 \nL 1159 2956 \nQ 1366 3272 1645 3428 \nQ 1925 3584 2291 3584 \nQ 2894 3584 3203 3211 \nQ 3513 2838 3513 2113 \nz\n\" transform=\"scale(0.015625)\"/>\n      </defs>\n      <use xlink:href=\"#DejaVuSans-6d\"/>\n      <use xlink:href=\"#DejaVuSans-61\" transform=\"translate(97.412109 0)\"/>\n      <use xlink:href=\"#DejaVuSans-72\" transform=\"translate(158.691406 0)\"/>\n      <use xlink:href=\"#DejaVuSans-6b\" transform=\"translate(199.804688 0)\"/>\n      <use xlink:href=\"#DejaVuSans-65\" transform=\"translate(254.089844 0)\"/>\n      <use xlink:href=\"#DejaVuSans-74\" transform=\"translate(315.613281 0)\"/>\n      <use xlink:href=\"#DejaVuSans-20\" transform=\"translate(354.822266 0)\"/>\n      <use xlink:href=\"#DejaVuSans-73\" transform=\"translate(386.609375 0)\"/>\n      <use xlink:href=\"#DejaVuSans-68\" transform=\"translate(438.708984 0)\"/>\n      <use xlink:href=\"#DejaVuSans-61\" transform=\"translate(502.087891 0)\"/>\n      <use xlink:href=\"#DejaVuSans-72\" transform=\"translate(563.367188 0)\"/>\n      <use xlink:href=\"#DejaVuSans-65\" transform=\"translate(602.230469 0)\"/>\n     </g>\n    </g>\n   </g>\n   <g id=\"patch_19\">\n    <path d=\"M 79.4275 327.6 \nL 79.4275 50.4 \n\" style=\"fill: none; stroke: #000000; stroke-width: 0.8; stroke-linejoin: miter; stroke-linecap: square\"/>\n   </g>\n   <g id=\"text_12\">\n    <!-- bad   -->\n    <g style=\"fill: #d02138\" transform=\"translate(601.585 19.3575) scale(0.16 -0.16)\">\n     <defs>\n      <path id=\"DejaVuSans-Bold-62\" d=\"M 2400 722 \nQ 2759 722 2948 984 \nQ 3138 1247 3138 1747 \nQ 3138 2247 2948 2509 \nQ 2759 2772 2400 2772 \nQ 2041 2772 1848 2508 \nQ 1656 2244 1656 1747 \nQ 1656 1250 1848 986 \nQ 2041 722 2400 722 \nz\nM 1656 2988 \nQ 1888 3294 2169 3439 \nQ 2450 3584 2816 3584 \nQ 3463 3584 3878 3070 \nQ 4294 2556 4294 1747 \nQ 4294 938 3878 423 \nQ 3463 -91 2816 -91 \nQ 2450 -91 2169 54 \nQ 1888 200 1656 506 \nL 1656 0 \nL 538 0 \nL 538 4863 \nL 1656 4863 \nL 1656 2988 \nz\n\" transform=\"scale(0.015625)\"/>\n      <path id=\"DejaVuSans-Bold-61\" d=\"M 2106 1575 \nQ 1756 1575 1579 1456 \nQ 1403 1338 1403 1106 \nQ 1403 894 1545 773 \nQ 1688 653 1941 653 \nQ 2256 653 2472 879 \nQ 2688 1106 2688 1447 \nL 2688 1575 \nL 2106 1575 \nz\nM 3816 1997 \nL 3816 0 \nL 2688 0 \nL 2688 519 \nQ 2463 200 2181 54 \nQ 1900 -91 1497 -91 \nQ 953 -91 614 226 \nQ 275 544 275 1050 \nQ 275 1666 698 1953 \nQ 1122 2241 2028 2241 \nL 2688 2241 \nL 2688 2328 \nQ 2688 2594 2478 2717 \nQ 2269 2841 1825 2841 \nQ 1466 2841 1156 2769 \nQ 847 2697 581 2553 \nL 581 3406 \nQ 941 3494 1303 3539 \nQ 1666 3584 2028 3584 \nQ 2975 3584 3395 3211 \nQ 3816 2838 3816 1997 \nz\n\" transform=\"scale(0.015625)\"/>\n      <path id=\"DejaVuSans-Bold-64\" d=\"M 2919 2988 \nL 2919 4863 \nL 4044 4863 \nL 4044 0 \nL 2919 0 \nL 2919 506 \nQ 2688 197 2409 53 \nQ 2131 -91 1766 -91 \nQ 1119 -91 703 423 \nQ 288 938 288 1747 \nQ 288 2556 703 3070 \nQ 1119 3584 1766 3584 \nQ 2128 3584 2408 3439 \nQ 2688 3294 2919 2988 \nz\nM 2181 722 \nQ 2541 722 2730 984 \nQ 2919 1247 2919 1747 \nQ 2919 2247 2730 2509 \nQ 2541 2772 2181 2772 \nQ 1825 2772 1636 2509 \nQ 1447 2247 1447 1747 \nQ 1447 1247 1636 984 \nQ 1825 722 2181 722 \nz\n\" transform=\"scale(0.015625)\"/>\n      <path id=\"DejaVuSans-Bold-20\" transform=\"scale(0.015625)\"/>\n     </defs>\n     <use xlink:href=\"#DejaVuSans-Bold-62\"/>\n     <use xlink:href=\"#DejaVuSans-Bold-61\" transform=\"translate(71.582031 0)\"/>\n     <use xlink:href=\"#DejaVuSans-Bold-64\" transform=\"translate(139.0625 0)\"/>\n     <use xlink:href=\"#DejaVuSans-Bold-20\" transform=\"translate(210.644531 0)\"/>\n     <use xlink:href=\"#DejaVuSans-Bold-20\" transform=\"translate(245.458984 0)\"/>\n    </g>\n   </g>\n   <g id=\"legend_1\">\n    <g id=\"text_13\">\n     <!-- company -->\n     <g transform=\"translate(561.8275 142.041562) scale(0.16 -0.16)\">\n      <defs>\n       <path id=\"DejaVuSans-63\" d=\"M 3122 3366 \nL 3122 2828 \nQ 2878 2963 2633 3030 \nQ 2388 3097 2138 3097 \nQ 1578 3097 1268 2742 \nQ 959 2388 959 1747 \nQ 959 1106 1268 751 \nQ 1578 397 2138 397 \nQ 2388 397 2633 464 \nQ 2878 531 3122 666 \nL 3122 134 \nQ 2881 22 2623 -34 \nQ 2366 -91 2075 -91 \nQ 1284 -91 818 406 \nQ 353 903 353 1747 \nQ 353 2603 823 3093 \nQ 1294 3584 2113 3584 \nQ 2378 3584 2631 3529 \nQ 2884 3475 3122 3366 \nz\n\" transform=\"scale(0.015625)\"/>\n       <path id=\"DejaVuSans-6f\" d=\"M 1959 3097 \nQ 1497 3097 1228 2736 \nQ 959 2375 959 1747 \nQ 959 1119 1226 758 \nQ 1494 397 1959 397 \nQ 2419 397 2687 759 \nQ 2956 1122 2956 1747 \nQ 2956 2369 2687 2733 \nQ 2419 3097 1959 3097 \nz\nM 1959 3584 \nQ 2709 3584 3137 3096 \nQ 3566 2609 3566 1747 \nQ 3566 888 3137 398 \nQ 2709 -91 1959 -91 \nQ 1206 -91 779 398 \nQ 353 888 353 1747 \nQ 353 2609 779 3096 \nQ 1206 3584 1959 3584 \nz\n\" transform=\"scale(0.015625)\"/>\n       <path id=\"DejaVuSans-70\" d=\"M 1159 525 \nL 1159 -1331 \nL 581 -1331 \nL 581 3500 \nL 1159 3500 \nL 1159 2969 \nQ 1341 3281 1617 3432 \nQ 1894 3584 2278 3584 \nQ 2916 3584 3314 3078 \nQ 3713 2572 3713 1747 \nQ 3713 922 3314 415 \nQ 2916 -91 2278 -91 \nQ 1894 -91 1617 61 \nQ 1341 213 1159 525 \nz\nM 3116 1747 \nQ 3116 2381 2855 2742 \nQ 2594 3103 2138 3103 \nQ 1681 3103 1420 2742 \nQ 1159 2381 1159 1747 \nQ 1159 1113 1420 752 \nQ 1681 391 2138 391 \nQ 2594 391 2855 752 \nQ 3116 1113 3116 1747 \nz\n\" transform=\"scale(0.015625)\"/>\n       <path id=\"DejaVuSans-6e\" d=\"M 3513 2113 \nL 3513 0 \nL 2938 0 \nL 2938 2094 \nQ 2938 2591 2744 2837 \nQ 2550 3084 2163 3084 \nQ 1697 3084 1428 2787 \nQ 1159 2491 1159 1978 \nL 1159 0 \nL 581 0 \nL 581 3500 \nL 1159 3500 \nL 1159 2956 \nQ 1366 3272 1645 3428 \nQ 1925 3584 2291 3584 \nQ 2894 3584 3203 3211 \nQ 3513 2838 3513 2113 \nz\n\" transform=\"scale(0.015625)\"/>\n      </defs>\n      <use xlink:href=\"#DejaVuSans-63\"/>\n      <use xlink:href=\"#DejaVuSans-6f\" transform=\"translate(54.980469 0)\"/>\n      <use xlink:href=\"#DejaVuSans-6d\" transform=\"translate(116.162109 0)\"/>\n      <use xlink:href=\"#DejaVuSans-70\" transform=\"translate(213.574219 0)\"/>\n      <use xlink:href=\"#DejaVuSans-61\" transform=\"translate(277.050781 0)\"/>\n      <use xlink:href=\"#DejaVuSans-6e\" transform=\"translate(338.330078 0)\"/>\n      <use xlink:href=\"#DejaVuSans-79\" transform=\"translate(401.708984 0)\"/>\n     </g>\n    </g>\n    <g id=\"patch_20\">\n     <path d=\"M 584.21 163.006875 \nL 598.21 163.006875 \nL 598.21 153.206875 \nL 584.21 153.206875 \nz\n\" style=\"fill: #e69f00\"/>\n    </g>\n    <g id=\"text_14\">\n     <!-- A -->\n     <g transform=\"translate(602.41 163.006875) scale(0.14 -0.14)\">\n      <defs>\n       <path id=\"DejaVuSans-41\" d=\"M 2188 4044 \nL 1331 1722 \nL 3047 1722 \nL 2188 4044 \nz\nM 1831 4666 \nL 2547 4666 \nL 4325 0 \nL 3669 0 \nL 3244 1197 \nL 1141 1197 \nL 716 0 \nL 50 0 \nL 1831 4666 \nz\n\" transform=\"scale(0.015625)\"/>\n      </defs>\n      <use xlink:href=\"#DejaVuSans-41\"/>\n     </g>\n    </g>\n    <g id=\"patch_21\">\n     <path d=\"M 584.21 183.55625 \nL 598.21 183.55625 \nL 598.21 173.75625 \nL 584.21 173.75625 \nz\n\" style=\"fill: #56b4e9\"/>\n    </g>\n    <g id=\"text_15\">\n     <!-- B -->\n     <g transform=\"translate(602.41 183.55625) scale(0.14 -0.14)\">\n      <defs>\n       <path id=\"DejaVuSans-42\" d=\"M 1259 2228 \nL 1259 519 \nL 2272 519 \nQ 2781 519 3026 730 \nQ 3272 941 3272 1375 \nQ 3272 1813 3026 2020 \nQ 2781 2228 2272 2228 \nL 1259 2228 \nz\nM 1259 4147 \nL 1259 2741 \nL 2194 2741 \nQ 2656 2741 2882 2914 \nQ 3109 3088 3109 3444 \nQ 3109 3797 2882 3972 \nQ 2656 4147 2194 4147 \nL 1259 4147 \nz\nM 628 4666 \nL 2241 4666 \nQ 2963 4666 3353 4366 \nQ 3744 4066 3744 3513 \nQ 3744 3084 3544 2831 \nQ 3344 2578 2956 2516 \nQ 3422 2416 3680 2098 \nQ 3938 1781 3938 1306 \nQ 3938 681 3513 340 \nQ 3088 0 2303 0 \nL 628 0 \nL 628 4666 \nz\n\" transform=\"scale(0.015625)\"/>\n      </defs>\n      <use xlink:href=\"#DejaVuSans-42\"/>\n     </g>\n    </g>\n    <g id=\"patch_22\">\n     <path d=\"M 584.21 204.105625 \nL 598.21 204.105625 \nL 598.21 194.305625 \nL 584.21 194.305625 \nz\n\" style=\"fill: #009e73\"/>\n    </g>\n    <g id=\"text_16\">\n     <!-- C -->\n     <g transform=\"translate(602.41 204.105625) scale(0.14 -0.14)\">\n      <defs>\n       <path id=\"DejaVuSans-43\" d=\"M 4122 4306 \nL 4122 3641 \nQ 3803 3938 3442 4084 \nQ 3081 4231 2675 4231 \nQ 1875 4231 1450 3742 \nQ 1025 3253 1025 2328 \nQ 1025 1406 1450 917 \nQ 1875 428 2675 428 \nQ 3081 428 3442 575 \nQ 3803 722 4122 1019 \nL 4122 359 \nQ 3791 134 3420 21 \nQ 3050 -91 2638 -91 \nQ 1578 -91 968 557 \nQ 359 1206 359 2328 \nQ 359 3453 968 4101 \nQ 1578 4750 2638 4750 \nQ 3056 4750 3426 4639 \nQ 3797 4528 4122 4306 \nz\n\" transform=\"scale(0.015625)\"/>\n      </defs>\n      <use xlink:href=\"#DejaVuSans-43\"/>\n     </g>\n    </g>\n    <g id=\"patch_23\">\n     <path d=\"M 584.21 224.655 \nL 598.21 224.655 \nL 598.21 214.855 \nL 584.21 214.855 \nz\n\" style=\"fill: #0072b2\"/>\n    </g>\n    <g id=\"text_17\">\n     <!-- D -->\n     <g transform=\"translate(602.41 224.655) scale(0.14 -0.14)\">\n      <defs>\n       <path id=\"DejaVuSans-44\" d=\"M 1259 4147 \nL 1259 519 \nL 2022 519 \nQ 2988 519 3436 956 \nQ 3884 1394 3884 2338 \nQ 3884 3275 3436 3711 \nQ 2988 4147 2022 4147 \nL 1259 4147 \nz\nM 628 4666 \nL 1925 4666 \nQ 3281 4666 3915 4102 \nQ 4550 3538 4550 2338 \nQ 4550 1131 3912 565 \nQ 3275 0 1925 0 \nL 628 0 \nL 628 4666 \nz\n\" transform=\"scale(0.015625)\"/>\n      </defs>\n      <use xlink:href=\"#DejaVuSans-44\"/>\n     </g>\n    </g>\n    <g id=\"patch_24\">\n     <path d=\"M 584.21 245.204375 \nL 598.21 245.204375 \nL 598.21 235.404375 \nL 584.21 235.404375 \nz\n\" style=\"fill: #f0e442\"/>\n    </g>\n    <g id=\"text_18\">\n     <!-- E -->\n     <g transform=\"translate(602.41 245.204375) scale(0.14 -0.14)\">\n      <defs>\n       <path id=\"DejaVuSans-45\" d=\"M 628 4666 \nL 3578 4666 \nL 3578 4134 \nL 1259 4134 \nL 1259 2753 \nL 3481 2753 \nL 3481 2222 \nL 1259 2222 \nL 1259 531 \nL 3634 531 \nL 3634 0 \nL 628 0 \nL 628 4666 \nz\n\" transform=\"scale(0.015625)\"/>\n      </defs>\n      <use xlink:href=\"#DejaVuSans-45\"/>\n     </g>\n    </g>\n   </g>\n  </g>\n </g>\n <defs>\n  <clipPath id=\"p17bb29d1fc\">\n   <rect x=\"79.4275\" y=\"50.4\" width=\"469.8\" height=\"277.2\"/>\n  </clipPath>\n </defs>\n</svg>\n"
     },
     "metadata": {},
     "output_type": "display_data"
    }
   ],
   "execution_count": 22
  },
  {
   "cell_type": "code",
   "metadata": {
    "ExecuteTime": {
     "end_time": "2025-03-22T13:13:05.036408Z",
     "start_time": "2025-03-22T13:13:04.976525Z"
    }
   },
   "source": [
    "years = marketshare['year'].unique()\n",
    "\n",
    "companies = ['A', 'B', 'C', 'D', 'E']\n",
    "\n",
    "# Positions\n",
    "x = np.arange(len(years))  # the label locations\n",
    "width = 0.15  # the width of the bars\n",
    "\n",
    "fig, ax = plt.subplots(figsize=figsize_rect)\n",
    "\n",
    "# Create bar plot\n",
    "multiplier = 0\n",
    "max_height = 0\n",
    "all_rects = []\n",
    "company_labels = []\n",
    "\n",
    "for i, company in enumerate(companies):\n",
    "    data = marketshare[marketshare['company'] == company]\n",
    "    \n",
    "    offset = width * multiplier\n",
    "    rects = ax.bar(x + offset, data['percent'], width, color=colors_okabeito[1:][i],\n",
    "                   alpha=0.9, label=company)\n",
    "    all_rects.extend(rects)\n",
    "    company_labels.extend([company] * len(data))\n",
    "    max_height = max(max_height, max(data['percent']))\n",
    "\n",
    "    multiplier += 1\n",
    "\n",
    "\n",
    "# Set y-axis labels and limits\n",
    "ax.set_ylim([0,23])\n",
    "\n",
    "ax.set_yticks([0, 5, 10, 15, 20])\n",
    "# Format y-axis tick labels with percentage sign\n",
    "fmt = '%.0f%%' # Format you want the ticks, e.g. '40%'\n",
    "yticks = mpl.ticker.FormatStrFormatter(fmt)\n",
    "ax.yaxis.set_major_formatter(yticks)\n",
    "\n",
    "ax.tick_params(axis='both', bottom=True, left=True, labelsize=fs_s)\n",
    "\n",
    "# Set x-axis label\n",
    "ax.set_xlabel('company', fontsize=fs_m)\n",
    "\n",
    "# Set y-axis label\n",
    "ax.set_ylabel('market share', fontsize=fs_m)\n",
    "\n",
    "# Add group labels above the bars\n",
    "for i, year in enumerate(years):\n",
    "    ax.text(i + width * (len(companies) - 1) / 2, ax.get_ylim()[1], year,\n",
    "            ha='center', va='bottom', fontsize=fs_m)\n",
    "\n",
    "# Set x-ticks to be the locations of the bars\n",
    "ax.set_xticks([r.get_x() + r.get_width() / 2 for r in all_rects])\n",
    "\n",
    "# Set x-tick labels to be the companies\n",
    "ax.set_xticklabels(company_labels)\n",
    "\n",
    "# Hide x-ticks\n",
    "ax.tick_params(axis='x', length=0)\n",
    "\n",
    "for loc in ['right', 'top', 'bottom']:\n",
    "    ax.spines[loc].set_visible(False)\n",
    "\n",
    "fig.tight_layout()\n",
    "\n",
    "plt.show()"
   ],
   "outputs": [
    {
     "data": {
      "text/plain": [
       "<Figure size 900x500 with 1 Axes>"
      ],
      "image/svg+xml": "<?xml version=\"1.0\" encoding=\"utf-8\" standalone=\"no\"?>\n<!DOCTYPE svg PUBLIC \"-//W3C//DTD SVG 1.1//EN\"\n  \"http://www.w3.org/Graphics/SVG/1.1/DTD/svg11.dtd\">\n<svg xmlns:xlink=\"http://www.w3.org/1999/xlink\" width=\"639.612187pt\" height=\"350.519375pt\" viewBox=\"0 0 639.612187 350.519375\" xmlns=\"http://www.w3.org/2000/svg\" version=\"1.1\">\n <metadata>\n  <rdf:RDF xmlns:dc=\"http://purl.org/dc/elements/1.1/\" xmlns:cc=\"http://creativecommons.org/ns#\" xmlns:rdf=\"http://www.w3.org/1999/02/22-rdf-syntax-ns#\">\n   <cc:Work>\n    <dc:type rdf:resource=\"http://purl.org/dc/dcmitype/StillImage\"/>\n    <dc:date>2025-03-22T14:13:05.019928</dc:date>\n    <dc:format>image/svg+xml</dc:format>\n    <dc:creator>\n     <cc:Agent>\n      <dc:title>Matplotlib v3.10.0, https://matplotlib.org/</dc:title>\n     </cc:Agent>\n    </dc:creator>\n   </cc:Work>\n  </rdf:RDF>\n </metadata>\n <defs>\n  <style type=\"text/css\">*{stroke-linejoin: round; stroke-linecap: butt}</style>\n </defs>\n <g id=\"figure_1\">\n  <g id=\"patch_1\">\n   <path d=\"M 0 350.519375 \nL 639.612187 350.519375 \nL 639.612187 0 \nL 0 0 \nz\n\" style=\"fill: #ffffff\"/>\n  </g>\n  <g id=\"axes_1\">\n   <g id=\"patch_2\">\n    <path d=\"M 64.802188 306.785 \nL 632.412187 306.785 \nL 632.412187 22.685 \nL 64.802188 22.685 \nz\n\" style=\"fill: #ffffff\"/>\n   </g>\n   <g id=\"patch_3\">\n    <path d=\"M 90.602642 306.785 \nL 118.748592 306.785 \nL 118.748592 96.798043 \nL 90.602642 96.798043 \nz\n\" clip-path=\"url(#pd16f4046a8)\" style=\"fill: #e69f00; opacity: 0.9\"/>\n   </g>\n   <g id=\"patch_4\">\n    <path d=\"M 278.242311 306.785 \nL 306.388262 306.785 \nL 306.388262 59.741522 \nL 278.242311 59.741522 \nz\n\" clip-path=\"url(#pd16f4046a8)\" style=\"fill: #e69f00; opacity: 0.9\"/>\n   </g>\n   <g id=\"patch_5\">\n    <path d=\"M 465.881981 306.785 \nL 494.027931 306.785 \nL 494.027931 22.685 \nL 465.881981 22.685 \nz\n\" clip-path=\"url(#pd16f4046a8)\" style=\"fill: #e69f00; opacity: 0.9\"/>\n   </g>\n   <g id=\"patch_6\">\n    <path d=\"M 118.748592 306.785 \nL 146.894543 306.785 \nL 146.894543 84.44587 \nL 118.748592 84.44587 \nz\n\" clip-path=\"url(#pd16f4046a8)\" style=\"fill: #56b4e9; opacity: 0.9\"/>\n   </g>\n   <g id=\"patch_7\">\n    <path d=\"M 306.388262 306.785 \nL 334.534212 306.785 \nL 334.534212 59.741522 \nL 306.388262 59.741522 \nz\n\" clip-path=\"url(#pd16f4046a8)\" style=\"fill: #56b4e9; opacity: 0.9\"/>\n   </g>\n   <g id=\"patch_8\">\n    <path d=\"M 494.027931 306.785 \nL 522.173882 306.785 \nL 522.173882 35.037174 \nL 494.027931 35.037174 \nz\n\" clip-path=\"url(#pd16f4046a8)\" style=\"fill: #56b4e9; opacity: 0.9\"/>\n   </g>\n   <g id=\"patch_9\">\n    <path d=\"M 146.894543 306.785 \nL 175.040493 306.785 \nL 175.040493 59.741522 \nL 146.894543 59.741522 \nz\n\" clip-path=\"url(#pd16f4046a8)\" style=\"fill: #009e73; opacity: 0.9\"/>\n   </g>\n   <g id=\"patch_10\">\n    <path d=\"M 334.534212 306.785 \nL 362.680163 306.785 \nL 362.680163 72.093696 \nL 334.534212 72.093696 \nz\n\" clip-path=\"url(#pd16f4046a8)\" style=\"fill: #009e73; opacity: 0.9\"/>\n   </g>\n   <g id=\"patch_11\">\n    <path d=\"M 522.173882 306.785 \nL 550.319832 306.785 \nL 550.319832 59.741522 \nL 522.173882 59.741522 \nz\n\" clip-path=\"url(#pd16f4046a8)\" style=\"fill: #009e73; opacity: 0.9\"/>\n   </g>\n   <g id=\"patch_12\">\n    <path d=\"M 175.040493 306.785 \nL 203.186444 306.785 \nL 203.186444 35.037174 \nL 175.040493 35.037174 \nz\n\" clip-path=\"url(#pd16f4046a8)\" style=\"fill: #f0e442; opacity: 0.9\"/>\n   </g>\n   <g id=\"patch_13\">\n    <path d=\"M 362.680163 306.785 \nL 390.826113 306.785 \nL 390.826113 47.389348 \nL 362.680163 47.389348 \nz\n\" clip-path=\"url(#pd16f4046a8)\" style=\"fill: #f0e442; opacity: 0.9\"/>\n   </g>\n   <g id=\"patch_14\">\n    <path d=\"M 550.319832 306.785 \nL 578.465783 306.785 \nL 578.465783 84.44587 \nL 550.319832 84.44587 \nz\n\" clip-path=\"url(#pd16f4046a8)\" style=\"fill: #f0e442; opacity: 0.9\"/>\n   </g>\n   <g id=\"patch_15\">\n    <path d=\"M 203.186444 306.785 \nL 231.332394 306.785 \nL 231.332394 22.685 \nL 203.186444 22.685 \nz\n\" clip-path=\"url(#pd16f4046a8)\" style=\"fill: #0072b2; opacity: 0.9\"/>\n   </g>\n   <g id=\"patch_16\">\n    <path d=\"M 390.826113 306.785 \nL 418.972064 306.785 \nL 418.972064 59.741522 \nL 390.826113 59.741522 \nz\n\" clip-path=\"url(#pd16f4046a8)\" style=\"fill: #0072b2; opacity: 0.9\"/>\n   </g>\n   <g id=\"patch_17\">\n    <path d=\"M 578.465783 306.785 \nL 606.611733 306.785 \nL 606.611733 96.798043 \nL 578.465783 96.798043 \nz\n\" clip-path=\"url(#pd16f4046a8)\" style=\"fill: #0072b2; opacity: 0.9\"/>\n   </g>\n   <g id=\"matplotlib.axis_1\">\n    <g id=\"xtick_1\">\n     <g id=\"line2d_1\"/>\n     <g id=\"text_1\">\n      <!-- A -->\n      <g transform=\"translate(99.88718 320.922812) scale(0.14 -0.14)\">\n       <defs>\n        <path id=\"DejaVuSans-41\" d=\"M 2188 4044 \nL 1331 1722 \nL 3047 1722 \nL 2188 4044 \nz\nM 1831 4666 \nL 2547 4666 \nL 4325 0 \nL 3669 0 \nL 3244 1197 \nL 1141 1197 \nL 716 0 \nL 50 0 \nL 1831 4666 \nz\n\" transform=\"scale(0.015625)\"/>\n       </defs>\n       <use xlink:href=\"#DejaVuSans-41\"/>\n      </g>\n     </g>\n    </g>\n    <g id=\"xtick_2\">\n     <g id=\"line2d_2\"/>\n     <g id=\"text_2\">\n      <!-- A -->\n      <g transform=\"translate(287.526849 320.922812) scale(0.14 -0.14)\">\n       <use xlink:href=\"#DejaVuSans-41\"/>\n      </g>\n     </g>\n    </g>\n    <g id=\"xtick_3\">\n     <g id=\"line2d_3\"/>\n     <g id=\"text_3\">\n      <!-- A -->\n      <g transform=\"translate(475.166519 320.922812) scale(0.14 -0.14)\">\n       <use xlink:href=\"#DejaVuSans-41\"/>\n      </g>\n     </g>\n    </g>\n    <g id=\"xtick_4\">\n     <g id=\"line2d_4\"/>\n     <g id=\"text_4\">\n      <!-- B -->\n      <g transform=\"translate(128.018911 320.922812) scale(0.14 -0.14)\">\n       <defs>\n        <path id=\"DejaVuSans-42\" d=\"M 1259 2228 \nL 1259 519 \nL 2272 519 \nQ 2781 519 3026 730 \nQ 3272 941 3272 1375 \nQ 3272 1813 3026 2020 \nQ 2781 2228 2272 2228 \nL 1259 2228 \nz\nM 1259 4147 \nL 1259 2741 \nL 2194 2741 \nQ 2656 2741 2882 2914 \nQ 3109 3088 3109 3444 \nQ 3109 3797 2882 3972 \nQ 2656 4147 2194 4147 \nL 1259 4147 \nz\nM 628 4666 \nL 2241 4666 \nQ 2963 4666 3353 4366 \nQ 3744 4066 3744 3513 \nQ 3744 3084 3544 2831 \nQ 3344 2578 2956 2516 \nQ 3422 2416 3680 2098 \nQ 3938 1781 3938 1306 \nQ 3938 681 3513 340 \nQ 3088 0 2303 0 \nL 628 0 \nL 628 4666 \nz\n\" transform=\"scale(0.015625)\"/>\n       </defs>\n       <use xlink:href=\"#DejaVuSans-42\"/>\n      </g>\n     </g>\n    </g>\n    <g id=\"xtick_5\">\n     <g id=\"line2d_5\"/>\n     <g id=\"text_5\">\n      <!-- B -->\n      <g transform=\"translate(315.658581 320.922812) scale(0.14 -0.14)\">\n       <use xlink:href=\"#DejaVuSans-42\"/>\n      </g>\n     </g>\n    </g>\n    <g id=\"xtick_6\">\n     <g id=\"line2d_6\"/>\n     <g id=\"text_6\">\n      <!-- B -->\n      <g transform=\"translate(503.29825 320.922812) scale(0.14 -0.14)\">\n       <use xlink:href=\"#DejaVuSans-42\"/>\n      </g>\n     </g>\n    </g>\n    <g id=\"xtick_7\">\n     <g id=\"line2d_7\"/>\n     <g id=\"text_7\">\n      <!-- C -->\n      <g transform=\"translate(156.079549 320.922812) scale(0.14 -0.14)\">\n       <defs>\n        <path id=\"DejaVuSans-43\" d=\"M 4122 4306 \nL 4122 3641 \nQ 3803 3938 3442 4084 \nQ 3081 4231 2675 4231 \nQ 1875 4231 1450 3742 \nQ 1025 3253 1025 2328 \nQ 1025 1406 1450 917 \nQ 1875 428 2675 428 \nQ 3081 428 3442 575 \nQ 3803 722 4122 1019 \nL 4122 359 \nQ 3791 134 3420 21 \nQ 3050 -91 2638 -91 \nQ 1578 -91 968 557 \nQ 359 1206 359 2328 \nQ 359 3453 968 4101 \nQ 1578 4750 2638 4750 \nQ 3056 4750 3426 4639 \nQ 3797 4528 4122 4306 \nz\n\" transform=\"scale(0.015625)\"/>\n       </defs>\n       <use xlink:href=\"#DejaVuSans-43\"/>\n      </g>\n     </g>\n    </g>\n    <g id=\"xtick_8\">\n     <g id=\"line2d_8\"/>\n     <g id=\"text_8\">\n      <!-- C -->\n      <g transform=\"translate(343.719219 320.922812) scale(0.14 -0.14)\">\n       <use xlink:href=\"#DejaVuSans-43\"/>\n      </g>\n     </g>\n    </g>\n    <g id=\"xtick_9\">\n     <g id=\"line2d_9\"/>\n     <g id=\"text_9\">\n      <!-- C -->\n      <g transform=\"translate(531.358888 320.922812) scale(0.14 -0.14)\">\n       <use xlink:href=\"#DejaVuSans-43\"/>\n      </g>\n     </g>\n    </g>\n    <g id=\"xtick_10\">\n     <g id=\"line2d_10\"/>\n     <g id=\"text_10\">\n      <!-- D -->\n      <g transform=\"translate(183.723468 320.922812) scale(0.14 -0.14)\">\n       <defs>\n        <path id=\"DejaVuSans-44\" d=\"M 1259 4147 \nL 1259 519 \nL 2022 519 \nQ 2988 519 3436 956 \nQ 3884 1394 3884 2338 \nQ 3884 3275 3436 3711 \nQ 2988 4147 2022 4147 \nL 1259 4147 \nz\nM 628 4666 \nL 1925 4666 \nQ 3281 4666 3915 4102 \nQ 4550 3538 4550 2338 \nQ 4550 1131 3912 565 \nQ 3275 0 1925 0 \nL 628 0 \nL 628 4666 \nz\n\" transform=\"scale(0.015625)\"/>\n       </defs>\n       <use xlink:href=\"#DejaVuSans-44\"/>\n      </g>\n     </g>\n    </g>\n    <g id=\"xtick_11\">\n     <g id=\"line2d_11\"/>\n     <g id=\"text_11\">\n      <!-- D -->\n      <g transform=\"translate(371.363138 320.922812) scale(0.14 -0.14)\">\n       <use xlink:href=\"#DejaVuSans-44\"/>\n      </g>\n     </g>\n    </g>\n    <g id=\"xtick_12\">\n     <g id=\"line2d_12\"/>\n     <g id=\"text_12\">\n      <!-- D -->\n      <g transform=\"translate(559.002807 320.922812) scale(0.14 -0.14)\">\n       <use xlink:href=\"#DejaVuSans-44\"/>\n      </g>\n     </g>\n    </g>\n    <g id=\"xtick_13\">\n     <g id=\"line2d_13\"/>\n     <g id=\"text_13\">\n      <!-- E -->\n      <g transform=\"translate(212.836294 320.922812) scale(0.14 -0.14)\">\n       <defs>\n        <path id=\"DejaVuSans-45\" d=\"M 628 4666 \nL 3578 4666 \nL 3578 4134 \nL 1259 4134 \nL 1259 2753 \nL 3481 2753 \nL 3481 2222 \nL 1259 2222 \nL 1259 531 \nL 3634 531 \nL 3634 0 \nL 628 0 \nL 628 4666 \nz\n\" transform=\"scale(0.015625)\"/>\n       </defs>\n       <use xlink:href=\"#DejaVuSans-45\"/>\n      </g>\n     </g>\n    </g>\n    <g id=\"xtick_14\">\n     <g id=\"line2d_14\"/>\n     <g id=\"text_14\">\n      <!-- E -->\n      <g transform=\"translate(400.475963 320.922812) scale(0.14 -0.14)\">\n       <use xlink:href=\"#DejaVuSans-45\"/>\n      </g>\n     </g>\n    </g>\n    <g id=\"xtick_15\">\n     <g id=\"line2d_15\"/>\n     <g id=\"text_15\">\n      <!-- E -->\n      <g transform=\"translate(588.115633 320.922812) scale(0.14 -0.14)\">\n       <use xlink:href=\"#DejaVuSans-45\"/>\n      </g>\n     </g>\n    </g>\n    <g id=\"text_16\">\n     <!-- company -->\n     <g transform=\"translate(311.734687 339.991875) scale(0.16 -0.16)\">\n      <defs>\n       <path id=\"DejaVuSans-63\" d=\"M 3122 3366 \nL 3122 2828 \nQ 2878 2963 2633 3030 \nQ 2388 3097 2138 3097 \nQ 1578 3097 1268 2742 \nQ 959 2388 959 1747 \nQ 959 1106 1268 751 \nQ 1578 397 2138 397 \nQ 2388 397 2633 464 \nQ 2878 531 3122 666 \nL 3122 134 \nQ 2881 22 2623 -34 \nQ 2366 -91 2075 -91 \nQ 1284 -91 818 406 \nQ 353 903 353 1747 \nQ 353 2603 823 3093 \nQ 1294 3584 2113 3584 \nQ 2378 3584 2631 3529 \nQ 2884 3475 3122 3366 \nz\n\" transform=\"scale(0.015625)\"/>\n       <path id=\"DejaVuSans-6f\" d=\"M 1959 3097 \nQ 1497 3097 1228 2736 \nQ 959 2375 959 1747 \nQ 959 1119 1226 758 \nQ 1494 397 1959 397 \nQ 2419 397 2687 759 \nQ 2956 1122 2956 1747 \nQ 2956 2369 2687 2733 \nQ 2419 3097 1959 3097 \nz\nM 1959 3584 \nQ 2709 3584 3137 3096 \nQ 3566 2609 3566 1747 \nQ 3566 888 3137 398 \nQ 2709 -91 1959 -91 \nQ 1206 -91 779 398 \nQ 353 888 353 1747 \nQ 353 2609 779 3096 \nQ 1206 3584 1959 3584 \nz\n\" transform=\"scale(0.015625)\"/>\n       <path id=\"DejaVuSans-6d\" d=\"M 3328 2828 \nQ 3544 3216 3844 3400 \nQ 4144 3584 4550 3584 \nQ 5097 3584 5394 3201 \nQ 5691 2819 5691 2113 \nL 5691 0 \nL 5113 0 \nL 5113 2094 \nQ 5113 2597 4934 2840 \nQ 4756 3084 4391 3084 \nQ 3944 3084 3684 2787 \nQ 3425 2491 3425 1978 \nL 3425 0 \nL 2847 0 \nL 2847 2094 \nQ 2847 2600 2669 2842 \nQ 2491 3084 2119 3084 \nQ 1678 3084 1418 2786 \nQ 1159 2488 1159 1978 \nL 1159 0 \nL 581 0 \nL 581 3500 \nL 1159 3500 \nL 1159 2956 \nQ 1356 3278 1631 3431 \nQ 1906 3584 2284 3584 \nQ 2666 3584 2933 3390 \nQ 3200 3197 3328 2828 \nz\n\" transform=\"scale(0.015625)\"/>\n       <path id=\"DejaVuSans-70\" d=\"M 1159 525 \nL 1159 -1331 \nL 581 -1331 \nL 581 3500 \nL 1159 3500 \nL 1159 2969 \nQ 1341 3281 1617 3432 \nQ 1894 3584 2278 3584 \nQ 2916 3584 3314 3078 \nQ 3713 2572 3713 1747 \nQ 3713 922 3314 415 \nQ 2916 -91 2278 -91 \nQ 1894 -91 1617 61 \nQ 1341 213 1159 525 \nz\nM 3116 1747 \nQ 3116 2381 2855 2742 \nQ 2594 3103 2138 3103 \nQ 1681 3103 1420 2742 \nQ 1159 2381 1159 1747 \nQ 1159 1113 1420 752 \nQ 1681 391 2138 391 \nQ 2594 391 2855 752 \nQ 3116 1113 3116 1747 \nz\n\" transform=\"scale(0.015625)\"/>\n       <path id=\"DejaVuSans-61\" d=\"M 2194 1759 \nQ 1497 1759 1228 1600 \nQ 959 1441 959 1056 \nQ 959 750 1161 570 \nQ 1363 391 1709 391 \nQ 2188 391 2477 730 \nQ 2766 1069 2766 1631 \nL 2766 1759 \nL 2194 1759 \nz\nM 3341 1997 \nL 3341 0 \nL 2766 0 \nL 2766 531 \nQ 2569 213 2275 61 \nQ 1981 -91 1556 -91 \nQ 1019 -91 701 211 \nQ 384 513 384 1019 \nQ 384 1609 779 1909 \nQ 1175 2209 1959 2209 \nL 2766 2209 \nL 2766 2266 \nQ 2766 2663 2505 2880 \nQ 2244 3097 1772 3097 \nQ 1472 3097 1187 3025 \nQ 903 2953 641 2809 \nL 641 3341 \nQ 956 3463 1253 3523 \nQ 1550 3584 1831 3584 \nQ 2591 3584 2966 3190 \nQ 3341 2797 3341 1997 \nz\n\" transform=\"scale(0.015625)\"/>\n       <path id=\"DejaVuSans-6e\" d=\"M 3513 2113 \nL 3513 0 \nL 2938 0 \nL 2938 2094 \nQ 2938 2591 2744 2837 \nQ 2550 3084 2163 3084 \nQ 1697 3084 1428 2787 \nQ 1159 2491 1159 1978 \nL 1159 0 \nL 581 0 \nL 581 3500 \nL 1159 3500 \nL 1159 2956 \nQ 1366 3272 1645 3428 \nQ 1925 3584 2291 3584 \nQ 2894 3584 3203 3211 \nQ 3513 2838 3513 2113 \nz\n\" transform=\"scale(0.015625)\"/>\n       <path id=\"DejaVuSans-79\" d=\"M 2059 -325 \nQ 1816 -950 1584 -1140 \nQ 1353 -1331 966 -1331 \nL 506 -1331 \nL 506 -850 \nL 844 -850 \nQ 1081 -850 1212 -737 \nQ 1344 -625 1503 -206 \nL 1606 56 \nL 191 3500 \nL 800 3500 \nL 1894 763 \nL 2988 3500 \nL 3597 3500 \nL 2059 -325 \nz\n\" transform=\"scale(0.015625)\"/>\n      </defs>\n      <use xlink:href=\"#DejaVuSans-63\"/>\n      <use xlink:href=\"#DejaVuSans-6f\" transform=\"translate(54.980469 0)\"/>\n      <use xlink:href=\"#DejaVuSans-6d\" transform=\"translate(116.162109 0)\"/>\n      <use xlink:href=\"#DejaVuSans-70\" transform=\"translate(213.574219 0)\"/>\n      <use xlink:href=\"#DejaVuSans-61\" transform=\"translate(277.050781 0)\"/>\n      <use xlink:href=\"#DejaVuSans-6e\" transform=\"translate(338.330078 0)\"/>\n      <use xlink:href=\"#DejaVuSans-79\" transform=\"translate(401.708984 0)\"/>\n     </g>\n    </g>\n   </g>\n   <g id=\"matplotlib.axis_2\">\n    <g id=\"ytick_1\">\n     <g id=\"line2d_16\">\n      <defs>\n       <path id=\"m9e299b8b3b\" d=\"M 0 0 \nL -3.5 0 \n\" style=\"stroke: #000000; stroke-width: 0.8\"/>\n      </defs>\n      <g>\n       <use xlink:href=\"#m9e299b8b3b\" x=\"64.802188\" y=\"306.785\" style=\"stroke: #000000; stroke-width: 0.8\"/>\n      </g>\n     </g>\n     <g id=\"text_17\">\n      <!-- 0% -->\n      <g transform=\"translate(35.5925 312.103906) scale(0.14 -0.14)\">\n       <defs>\n        <path id=\"DejaVuSans-30\" d=\"M 2034 4250 \nQ 1547 4250 1301 3770 \nQ 1056 3291 1056 2328 \nQ 1056 1369 1301 889 \nQ 1547 409 2034 409 \nQ 2525 409 2770 889 \nQ 3016 1369 3016 2328 \nQ 3016 3291 2770 3770 \nQ 2525 4250 2034 4250 \nz\nM 2034 4750 \nQ 2819 4750 3233 4129 \nQ 3647 3509 3647 2328 \nQ 3647 1150 3233 529 \nQ 2819 -91 2034 -91 \nQ 1250 -91 836 529 \nQ 422 1150 422 2328 \nQ 422 3509 836 4129 \nQ 1250 4750 2034 4750 \nz\n\" transform=\"scale(0.015625)\"/>\n        <path id=\"DejaVuSans-25\" d=\"M 4653 2053 \nQ 4381 2053 4226 1822 \nQ 4072 1591 4072 1178 \nQ 4072 772 4226 539 \nQ 4381 306 4653 306 \nQ 4919 306 5073 539 \nQ 5228 772 5228 1178 \nQ 5228 1588 5073 1820 \nQ 4919 2053 4653 2053 \nz\nM 4653 2450 \nQ 5147 2450 5437 2106 \nQ 5728 1763 5728 1178 \nQ 5728 594 5436 251 \nQ 5144 -91 4653 -91 \nQ 4153 -91 3862 251 \nQ 3572 594 3572 1178 \nQ 3572 1766 3864 2108 \nQ 4156 2450 4653 2450 \nz\nM 1428 4353 \nQ 1159 4353 1004 4120 \nQ 850 3888 850 3481 \nQ 850 3069 1003 2837 \nQ 1156 2606 1428 2606 \nQ 1700 2606 1854 2837 \nQ 2009 3069 2009 3481 \nQ 2009 3884 1853 4118 \nQ 1697 4353 1428 4353 \nz\nM 4250 4750 \nL 4750 4750 \nL 1831 -91 \nL 1331 -91 \nL 4250 4750 \nz\nM 1428 4750 \nQ 1922 4750 2215 4408 \nQ 2509 4066 2509 3481 \nQ 2509 2891 2217 2550 \nQ 1925 2209 1428 2209 \nQ 931 2209 642 2551 \nQ 353 2894 353 3481 \nQ 353 4063 643 4406 \nQ 934 4750 1428 4750 \nz\n\" transform=\"scale(0.015625)\"/>\n       </defs>\n       <use xlink:href=\"#DejaVuSans-30\"/>\n       <use xlink:href=\"#DejaVuSans-25\" transform=\"translate(63.623047 0)\"/>\n      </g>\n     </g>\n    </g>\n    <g id=\"ytick_2\">\n     <g id=\"line2d_17\">\n      <g>\n       <use xlink:href=\"#m9e299b8b3b\" x=\"64.802188\" y=\"245.02413\" style=\"stroke: #000000; stroke-width: 0.8\"/>\n      </g>\n     </g>\n     <g id=\"text_18\">\n      <!-- 5% -->\n      <g transform=\"translate(35.5925 250.343037) scale(0.14 -0.14)\">\n       <defs>\n        <path id=\"DejaVuSans-35\" d=\"M 691 4666 \nL 3169 4666 \nL 3169 4134 \nL 1269 4134 \nL 1269 2991 \nQ 1406 3038 1543 3061 \nQ 1681 3084 1819 3084 \nQ 2600 3084 3056 2656 \nQ 3513 2228 3513 1497 \nQ 3513 744 3044 326 \nQ 2575 -91 1722 -91 \nQ 1428 -91 1123 -41 \nQ 819 9 494 109 \nL 494 744 \nQ 775 591 1075 516 \nQ 1375 441 1709 441 \nQ 2250 441 2565 725 \nQ 2881 1009 2881 1497 \nQ 2881 1984 2565 2268 \nQ 2250 2553 1709 2553 \nQ 1456 2553 1204 2497 \nQ 953 2441 691 2322 \nL 691 4666 \nz\n\" transform=\"scale(0.015625)\"/>\n       </defs>\n       <use xlink:href=\"#DejaVuSans-35\"/>\n       <use xlink:href=\"#DejaVuSans-25\" transform=\"translate(63.623047 0)\"/>\n      </g>\n     </g>\n    </g>\n    <g id=\"ytick_3\">\n     <g id=\"line2d_18\">\n      <g>\n       <use xlink:href=\"#m9e299b8b3b\" x=\"64.802188\" y=\"183.263261\" style=\"stroke: #000000; stroke-width: 0.8\"/>\n      </g>\n     </g>\n     <g id=\"text_19\">\n      <!-- 10% -->\n      <g transform=\"translate(26.685 188.582167) scale(0.14 -0.14)\">\n       <defs>\n        <path id=\"DejaVuSans-31\" d=\"M 794 531 \nL 1825 531 \nL 1825 4091 \nL 703 3866 \nL 703 4441 \nL 1819 4666 \nL 2450 4666 \nL 2450 531 \nL 3481 531 \nL 3481 0 \nL 794 0 \nL 794 531 \nz\n\" transform=\"scale(0.015625)\"/>\n       </defs>\n       <use xlink:href=\"#DejaVuSans-31\"/>\n       <use xlink:href=\"#DejaVuSans-30\" transform=\"translate(63.623047 0)\"/>\n       <use xlink:href=\"#DejaVuSans-25\" transform=\"translate(127.246094 0)\"/>\n      </g>\n     </g>\n    </g>\n    <g id=\"ytick_4\">\n     <g id=\"line2d_19\">\n      <g>\n       <use xlink:href=\"#m9e299b8b3b\" x=\"64.802188\" y=\"121.502391\" style=\"stroke: #000000; stroke-width: 0.8\"/>\n      </g>\n     </g>\n     <g id=\"text_20\">\n      <!-- 15% -->\n      <g transform=\"translate(26.685 126.821298) scale(0.14 -0.14)\">\n       <use xlink:href=\"#DejaVuSans-31\"/>\n       <use xlink:href=\"#DejaVuSans-35\" transform=\"translate(63.623047 0)\"/>\n       <use xlink:href=\"#DejaVuSans-25\" transform=\"translate(127.246094 0)\"/>\n      </g>\n     </g>\n    </g>\n    <g id=\"ytick_5\">\n     <g id=\"line2d_20\">\n      <g>\n       <use xlink:href=\"#m9e299b8b3b\" x=\"64.802188\" y=\"59.741522\" style=\"stroke: #000000; stroke-width: 0.8\"/>\n      </g>\n     </g>\n     <g id=\"text_21\">\n      <!-- 20% -->\n      <g transform=\"translate(26.685 65.060428) scale(0.14 -0.14)\">\n       <defs>\n        <path id=\"DejaVuSans-32\" d=\"M 1228 531 \nL 3431 531 \nL 3431 0 \nL 469 0 \nL 469 531 \nQ 828 903 1448 1529 \nQ 2069 2156 2228 2338 \nQ 2531 2678 2651 2914 \nQ 2772 3150 2772 3378 \nQ 2772 3750 2511 3984 \nQ 2250 4219 1831 4219 \nQ 1534 4219 1204 4116 \nQ 875 4013 500 3803 \nL 500 4441 \nQ 881 4594 1212 4672 \nQ 1544 4750 1819 4750 \nQ 2544 4750 2975 4387 \nQ 3406 4025 3406 3419 \nQ 3406 3131 3298 2873 \nQ 3191 2616 2906 2266 \nQ 2828 2175 2409 1742 \nQ 1991 1309 1228 531 \nz\n\" transform=\"scale(0.015625)\"/>\n       </defs>\n       <use xlink:href=\"#DejaVuSans-32\"/>\n       <use xlink:href=\"#DejaVuSans-30\" transform=\"translate(63.623047 0)\"/>\n       <use xlink:href=\"#DejaVuSans-25\" transform=\"translate(127.246094 0)\"/>\n      </g>\n     </g>\n    </g>\n    <g id=\"text_22\">\n     <!-- market share -->\n     <g transform=\"translate(19.3575 217.83375) rotate(-90) scale(0.16 -0.16)\">\n      <defs>\n       <path id=\"DejaVuSans-72\" d=\"M 2631 2963 \nQ 2534 3019 2420 3045 \nQ 2306 3072 2169 3072 \nQ 1681 3072 1420 2755 \nQ 1159 2438 1159 1844 \nL 1159 0 \nL 581 0 \nL 581 3500 \nL 1159 3500 \nL 1159 2956 \nQ 1341 3275 1631 3429 \nQ 1922 3584 2338 3584 \nQ 2397 3584 2469 3576 \nQ 2541 3569 2628 3553 \nL 2631 2963 \nz\n\" transform=\"scale(0.015625)\"/>\n       <path id=\"DejaVuSans-6b\" d=\"M 581 4863 \nL 1159 4863 \nL 1159 1991 \nL 2875 3500 \nL 3609 3500 \nL 1753 1863 \nL 3688 0 \nL 2938 0 \nL 1159 1709 \nL 1159 0 \nL 581 0 \nL 581 4863 \nz\n\" transform=\"scale(0.015625)\"/>\n       <path id=\"DejaVuSans-65\" d=\"M 3597 1894 \nL 3597 1613 \nL 953 1613 \nQ 991 1019 1311 708 \nQ 1631 397 2203 397 \nQ 2534 397 2845 478 \nQ 3156 559 3463 722 \nL 3463 178 \nQ 3153 47 2828 -22 \nQ 2503 -91 2169 -91 \nQ 1331 -91 842 396 \nQ 353 884 353 1716 \nQ 353 2575 817 3079 \nQ 1281 3584 2069 3584 \nQ 2775 3584 3186 3129 \nQ 3597 2675 3597 1894 \nz\nM 3022 2063 \nQ 3016 2534 2758 2815 \nQ 2500 3097 2075 3097 \nQ 1594 3097 1305 2825 \nQ 1016 2553 972 2059 \nL 3022 2063 \nz\n\" transform=\"scale(0.015625)\"/>\n       <path id=\"DejaVuSans-74\" d=\"M 1172 4494 \nL 1172 3500 \nL 2356 3500 \nL 2356 3053 \nL 1172 3053 \nL 1172 1153 \nQ 1172 725 1289 603 \nQ 1406 481 1766 481 \nL 2356 481 \nL 2356 0 \nL 1766 0 \nQ 1100 0 847 248 \nQ 594 497 594 1153 \nL 594 3053 \nL 172 3053 \nL 172 3500 \nL 594 3500 \nL 594 4494 \nL 1172 4494 \nz\n\" transform=\"scale(0.015625)\"/>\n       <path id=\"DejaVuSans-20\" transform=\"scale(0.015625)\"/>\n       <path id=\"DejaVuSans-73\" d=\"M 2834 3397 \nL 2834 2853 \nQ 2591 2978 2328 3040 \nQ 2066 3103 1784 3103 \nQ 1356 3103 1142 2972 \nQ 928 2841 928 2578 \nQ 928 2378 1081 2264 \nQ 1234 2150 1697 2047 \nL 1894 2003 \nQ 2506 1872 2764 1633 \nQ 3022 1394 3022 966 \nQ 3022 478 2636 193 \nQ 2250 -91 1575 -91 \nQ 1294 -91 989 -36 \nQ 684 19 347 128 \nL 347 722 \nQ 666 556 975 473 \nQ 1284 391 1588 391 \nQ 1994 391 2212 530 \nQ 2431 669 2431 922 \nQ 2431 1156 2273 1281 \nQ 2116 1406 1581 1522 \nL 1381 1569 \nQ 847 1681 609 1914 \nQ 372 2147 372 2553 \nQ 372 3047 722 3315 \nQ 1072 3584 1716 3584 \nQ 2034 3584 2315 3537 \nQ 2597 3491 2834 3397 \nz\n\" transform=\"scale(0.015625)\"/>\n       <path id=\"DejaVuSans-68\" d=\"M 3513 2113 \nL 3513 0 \nL 2938 0 \nL 2938 2094 \nQ 2938 2591 2744 2837 \nQ 2550 3084 2163 3084 \nQ 1697 3084 1428 2787 \nQ 1159 2491 1159 1978 \nL 1159 0 \nL 581 0 \nL 581 4863 \nL 1159 4863 \nL 1159 2956 \nQ 1366 3272 1645 3428 \nQ 1925 3584 2291 3584 \nQ 2894 3584 3203 3211 \nQ 3513 2838 3513 2113 \nz\n\" transform=\"scale(0.015625)\"/>\n      </defs>\n      <use xlink:href=\"#DejaVuSans-6d\"/>\n      <use xlink:href=\"#DejaVuSans-61\" transform=\"translate(97.412109 0)\"/>\n      <use xlink:href=\"#DejaVuSans-72\" transform=\"translate(158.691406 0)\"/>\n      <use xlink:href=\"#DejaVuSans-6b\" transform=\"translate(199.804688 0)\"/>\n      <use xlink:href=\"#DejaVuSans-65\" transform=\"translate(254.089844 0)\"/>\n      <use xlink:href=\"#DejaVuSans-74\" transform=\"translate(315.613281 0)\"/>\n      <use xlink:href=\"#DejaVuSans-20\" transform=\"translate(354.822266 0)\"/>\n      <use xlink:href=\"#DejaVuSans-73\" transform=\"translate(386.609375 0)\"/>\n      <use xlink:href=\"#DejaVuSans-68\" transform=\"translate(438.708984 0)\"/>\n      <use xlink:href=\"#DejaVuSans-61\" transform=\"translate(502.087891 0)\"/>\n      <use xlink:href=\"#DejaVuSans-72\" transform=\"translate(563.367188 0)\"/>\n      <use xlink:href=\"#DejaVuSans-65\" transform=\"translate(602.230469 0)\"/>\n     </g>\n    </g>\n   </g>\n   <g id=\"patch_18\">\n    <path d=\"M 64.802188 306.785 \nL 64.802188 22.685 \n\" style=\"fill: none; stroke: #000000; stroke-width: 0.8; stroke-linejoin: miter; stroke-linecap: square\"/>\n   </g>\n   <g id=\"text_23\">\n    <!-- 2015 -->\n    <g transform=\"translate(140.607518 19.3575) scale(0.16 -0.16)\">\n     <use xlink:href=\"#DejaVuSans-32\"/>\n     <use xlink:href=\"#DejaVuSans-30\" transform=\"translate(63.623047 0)\"/>\n     <use xlink:href=\"#DejaVuSans-31\" transform=\"translate(127.246094 0)\"/>\n     <use xlink:href=\"#DejaVuSans-35\" transform=\"translate(190.869141 0)\"/>\n    </g>\n   </g>\n   <g id=\"text_24\">\n    <!-- 2016 -->\n    <g transform=\"translate(328.247187 19.3575) scale(0.16 -0.16)\">\n     <defs>\n      <path id=\"DejaVuSans-36\" d=\"M 2113 2584 \nQ 1688 2584 1439 2293 \nQ 1191 2003 1191 1497 \nQ 1191 994 1439 701 \nQ 1688 409 2113 409 \nQ 2538 409 2786 701 \nQ 3034 994 3034 1497 \nQ 3034 2003 2786 2293 \nQ 2538 2584 2113 2584 \nz\nM 3366 4563 \nL 3366 3988 \nQ 3128 4100 2886 4159 \nQ 2644 4219 2406 4219 \nQ 1781 4219 1451 3797 \nQ 1122 3375 1075 2522 \nQ 1259 2794 1537 2939 \nQ 1816 3084 2150 3084 \nQ 2853 3084 3261 2657 \nQ 3669 2231 3669 1497 \nQ 3669 778 3244 343 \nQ 2819 -91 2113 -91 \nQ 1303 -91 875 529 \nQ 447 1150 447 2328 \nQ 447 3434 972 4092 \nQ 1497 4750 2381 4750 \nQ 2619 4750 2861 4703 \nQ 3103 4656 3366 4563 \nz\n\" transform=\"scale(0.015625)\"/>\n     </defs>\n     <use xlink:href=\"#DejaVuSans-32\"/>\n     <use xlink:href=\"#DejaVuSans-30\" transform=\"translate(63.623047 0)\"/>\n     <use xlink:href=\"#DejaVuSans-31\" transform=\"translate(127.246094 0)\"/>\n     <use xlink:href=\"#DejaVuSans-36\" transform=\"translate(190.869141 0)\"/>\n    </g>\n   </g>\n   <g id=\"text_25\">\n    <!-- 2017 -->\n    <g transform=\"translate(515.886857 19.3575) scale(0.16 -0.16)\">\n     <defs>\n      <path id=\"DejaVuSans-37\" d=\"M 525 4666 \nL 3525 4666 \nL 3525 4397 \nL 1831 0 \nL 1172 0 \nL 2766 4134 \nL 525 4134 \nL 525 4666 \nz\n\" transform=\"scale(0.015625)\"/>\n     </defs>\n     <use xlink:href=\"#DejaVuSans-32\"/>\n     <use xlink:href=\"#DejaVuSans-30\" transform=\"translate(63.623047 0)\"/>\n     <use xlink:href=\"#DejaVuSans-31\" transform=\"translate(127.246094 0)\"/>\n     <use xlink:href=\"#DejaVuSans-37\" transform=\"translate(190.869141 0)\"/>\n    </g>\n   </g>\n  </g>\n </g>\n <defs>\n  <clipPath id=\"pd16f4046a8\">\n   <rect x=\"64.802188\" y=\"22.685\" width=\"567.61\" height=\"284.1\"/>\n  </clipPath>\n </defs>\n</svg>\n"
     },
     "metadata": {},
     "output_type": "display_data"
    }
   ],
   "execution_count": 23
  },
  {
   "cell_type": "code",
   "metadata": {
    "ExecuteTime": {
     "end_time": "2025-03-22T13:13:05.166325Z",
     "start_time": "2025-03-22T13:13:05.054111Z"
    }
   },
   "source": [
    "# Read the CSV file\n",
    "women_parliaments = pd.read_csv(os.path.join(data_folder, 'dataviz_data-raw', 'women_parliaments', \"women_tidy.csv\"))\n",
    "\n",
    "ccode = \"RWA\" # Rwanda\n",
    "\n",
    "# Filter the data\n",
    "women_rwanda = women_parliaments[(women_parliaments['country_code'] == ccode) & (women_parliaments['year'] > 1990)].copy()\n",
    "\n",
    "# Create new columns\n",
    "women_rwanda['women'] = women_rwanda['perc_women']\n",
    "women_rwanda['men'] = 100 - women_rwanda['perc_women']\n",
    "\n",
    "# Melt the dataframe to long format\n",
    "women_rwanda = pd.melt(women_rwanda, id_vars=['country', 'country_code', 'year'], value_vars=['women', 'men'], var_name='gender', value_name='percent')\n",
    "\n",
    "# Sort the dataframe by gender\n",
    "women_rwanda['gender'] = pd.Categorical(women_rwanda['gender'], categories=['women', 'men'], ordered=True)\n",
    "women_rwanda.sort_values('year', inplace=True)\n",
    "\n",
    "bar_width=1.0\n",
    "\n",
    "# Plot\n",
    "fig, ax = plt.subplots(figsize=figsize_rect)\n",
    "\n",
    "years = np.sort(women_rwanda['year'].unique())\n",
    "\n",
    "bottom = np.zeros(len(years))\n",
    "for gender, color in zip(['women', 'men'], ['#D55E00E0', '#0072B2E0']):\n",
    "    data = women_rwanda[women_rwanda['gender'] == gender]\n",
    "    ax.bar(data['year'], data['percent'], bottom=bottom, color=color, edgecolor='#FFFFFF',\n",
    "           linewidth=2.0, label=gender, width=bar_width)\n",
    "    bottom += data['percent'].to_numpy()\n",
    "\n",
    "# Add horizontal lines\n",
    "ax.axhline(y=50, color='#000000FF', linewidth=1.0, linestyle='--')\n",
    "ax.axhline(y=100, color='black', linewidth=1.0, linestyle='-')\n",
    "\n",
    "# Set the y-axis label\n",
    "ax.set_ylabel('relative proportion', fontsize=fs_m)\n",
    "\n",
    "ax.set_yticks([0, 25, 50, 75, 100])\n",
    "\n",
    "# Format the y-axis labels as percentages\n",
    "ax.yaxis.set_major_formatter(lambda x, _: '{:.0%}'.format(x/100))\n",
    "\n",
    "ax.set_xlim([years[0]-bar_width/2, years[-1]+bar_width/2])\n",
    "ax.set_xticks([2000, 2005, 2010, 2015])\n",
    "\n",
    "# Remove the y-axis line\n",
    "for loc in ['left', 'right', 'top']:\n",
    "    ax.spines[loc].set_visible(False)\n",
    "\n",
    "# Set the fontsize for the x-axis and y-axis tick labels\n",
    "ax.tick_params(axis='both', which='major', labelsize=fs_s)\n",
    "\n",
    "# Add labels\n",
    "bottom = 0.0\n",
    "for gender in ['women', 'men']:\n",
    "    data = women_rwanda[(women_rwanda['gender'] == gender) & (women_rwanda['year'] == years[-1])]\n",
    "    \n",
    "    ax.text(years[-1] + bar_width, bottom + data['percent'].to_numpy()[0]/2, gender,\n",
    "            fontsize=fs_m)\n",
    "\n",
    "    bottom += data['percent'].to_numpy()[0]\n",
    "\n",
    "plt.show()"
   ],
   "outputs": [
    {
     "data": {
      "text/plain": [
       "<Figure size 900x500 with 1 Axes>"
      ],
      "image/svg+xml": "<?xml version=\"1.0\" encoding=\"utf-8\" standalone=\"no\"?>\n<!DOCTYPE svg PUBLIC \"-//W3C//DTD SVG 1.1//EN\"\n  \"http://www.w3.org/Graphics/SVG/1.1/DTD/svg11.dtd\">\n<svg xmlns:xlink=\"http://www.w3.org/1999/xlink\" width=\"654.109687pt\" height=\"312.149375pt\" viewBox=\"0 0 654.109687 312.149375\" xmlns=\"http://www.w3.org/2000/svg\" version=\"1.1\">\n <metadata>\n  <rdf:RDF xmlns:dc=\"http://purl.org/dc/elements/1.1/\" xmlns:cc=\"http://creativecommons.org/ns#\" xmlns:rdf=\"http://www.w3.org/1999/02/22-rdf-syntax-ns#\">\n   <cc:Work>\n    <dc:type rdf:resource=\"http://purl.org/dc/dcmitype/StillImage\"/>\n    <dc:date>2025-03-22T14:13:05.125604</dc:date>\n    <dc:format>image/svg+xml</dc:format>\n    <dc:creator>\n     <cc:Agent>\n      <dc:title>Matplotlib v3.10.0, https://matplotlib.org/</dc:title>\n     </cc:Agent>\n    </dc:creator>\n   </cc:Work>\n  </rdf:RDF>\n </metadata>\n <defs>\n  <style type=\"text/css\">*{stroke-linejoin: round; stroke-linecap: butt}</style>\n </defs>\n <g id=\"figure_1\">\n  <g id=\"patch_1\">\n   <path d=\"M 0 312.149375 \nL 654.109687 312.149375 \nL 654.109687 0 \nL 0 0 \nz\n\" style=\"fill: #ffffff\"/>\n  </g>\n  <g id=\"axes_1\">\n   <g id=\"patch_2\">\n    <path d=\"M 73.709688 284.4 \nL 575.909688 284.4 \nL 575.909688 7.2 \nL 73.709688 7.2 \nz\n\" style=\"fill: #ffffff\"/>\n   </g>\n   <g id=\"patch_3\">\n    <path d=\"M 73.709687 284.4 \nL 98.819687 284.4 \nL 98.819687 239.256 \nL 73.709687 239.256 \nz\n\" clip-path=\"url(#pfc3371b18f)\" style=\"fill: #d55e00; fill-opacity: 0.878431; stroke: #ffffff; stroke-width: 2; stroke-linejoin: miter\"/>\n   </g>\n   <g id=\"patch_4\">\n    <path d=\"M 98.819687 284.4 \nL 123.929687 284.4 \nL 123.929687 239.256 \nL 98.819687 239.256 \nz\n\" clip-path=\"url(#pfc3371b18f)\" style=\"fill: #d55e00; fill-opacity: 0.878431; stroke: #ffffff; stroke-width: 2; stroke-linejoin: miter\"/>\n   </g>\n   <g id=\"patch_5\">\n    <path d=\"M 123.929688 284.4 \nL 149.039688 284.4 \nL 149.039688 239.256 \nL 123.929688 239.256 \nz\n\" clip-path=\"url(#pfc3371b18f)\" style=\"fill: #d55e00; fill-opacity: 0.878431; stroke: #ffffff; stroke-width: 2; stroke-linejoin: miter\"/>\n   </g>\n   <g id=\"patch_6\">\n    <path d=\"M 149.039688 284.4 \nL 174.149688 284.4 \nL 174.149688 216.552 \nL 149.039688 216.552 \nz\n\" clip-path=\"url(#pfc3371b18f)\" style=\"fill: #d55e00; fill-opacity: 0.878431; stroke: #ffffff; stroke-width: 2; stroke-linejoin: miter\"/>\n   </g>\n   <g id=\"patch_7\">\n    <path d=\"M 174.149688 284.4 \nL 199.259688 284.4 \nL 199.259688 216.552 \nL 174.149688 216.552 \nz\n\" clip-path=\"url(#pfc3371b18f)\" style=\"fill: #d55e00; fill-opacity: 0.878431; stroke: #ffffff; stroke-width: 2; stroke-linejoin: miter\"/>\n   </g>\n   <g id=\"patch_8\">\n    <path d=\"M 199.259688 284.4 \nL 224.369688 284.4 \nL 224.369688 216.552 \nL 199.259688 216.552 \nz\n\" clip-path=\"url(#pfc3371b18f)\" style=\"fill: #d55e00; fill-opacity: 0.878431; stroke: #ffffff; stroke-width: 2; stroke-linejoin: miter\"/>\n   </g>\n   <g id=\"patch_9\">\n    <path d=\"M 224.369688 284.4 \nL 249.479688 284.4 \nL 249.479688 155.568 \nL 224.369688 155.568 \nz\n\" clip-path=\"url(#pfc3371b18f)\" style=\"fill: #d55e00; fill-opacity: 0.878431; stroke: #ffffff; stroke-width: 2; stroke-linejoin: miter\"/>\n   </g>\n   <g id=\"patch_10\">\n    <path d=\"M 249.479688 284.4 \nL 274.589688 284.4 \nL 274.589688 155.568 \nL 249.479688 155.568 \nz\n\" clip-path=\"url(#pfc3371b18f)\" style=\"fill: #d55e00; fill-opacity: 0.878431; stroke: #ffffff; stroke-width: 2; stroke-linejoin: miter\"/>\n   </g>\n   <g id=\"patch_11\">\n    <path d=\"M 274.589687 284.4 \nL 299.699687 284.4 \nL 299.699687 155.568 \nL 274.589687 155.568 \nz\n\" clip-path=\"url(#pfc3371b18f)\" style=\"fill: #d55e00; fill-opacity: 0.878431; stroke: #ffffff; stroke-width: 2; stroke-linejoin: miter\"/>\n   </g>\n   <g id=\"patch_12\">\n    <path d=\"M 299.699687 284.4 \nL 324.809687 284.4 \nL 324.809687 155.568 \nL 299.699687 155.568 \nz\n\" clip-path=\"url(#pfc3371b18f)\" style=\"fill: #d55e00; fill-opacity: 0.878431; stroke: #ffffff; stroke-width: 2; stroke-linejoin: miter\"/>\n   </g>\n   <g id=\"patch_13\">\n    <path d=\"M 324.809687 284.4 \nL 349.919687 284.4 \nL 349.919687 155.568 \nL 324.809687 155.568 \nz\n\" clip-path=\"url(#pfc3371b18f)\" style=\"fill: #d55e00; fill-opacity: 0.878431; stroke: #ffffff; stroke-width: 2; stroke-linejoin: miter\"/>\n   </g>\n   <g id=\"patch_14\">\n    <path d=\"M 349.919687 284.4 \nL 375.029687 284.4 \nL 375.029687 135.768 \nL 349.919687 135.768 \nz\n\" clip-path=\"url(#pfc3371b18f)\" style=\"fill: #d55e00; fill-opacity: 0.878431; stroke: #ffffff; stroke-width: 2; stroke-linejoin: miter\"/>\n   </g>\n   <g id=\"patch_15\">\n    <path d=\"M 375.029687 284.4 \nL 400.139687 284.4 \nL 400.139687 135.768 \nL 375.029687 135.768 \nz\n\" clip-path=\"url(#pfc3371b18f)\" style=\"fill: #d55e00; fill-opacity: 0.878431; stroke: #ffffff; stroke-width: 2; stroke-linejoin: miter\"/>\n   </g>\n   <g id=\"patch_16\">\n    <path d=\"M 400.139687 284.4 \nL 425.249687 284.4 \nL 425.249687 135.768 \nL 400.139687 135.768 \nz\n\" clip-path=\"url(#pfc3371b18f)\" style=\"fill: #d55e00; fill-opacity: 0.878431; stroke: #ffffff; stroke-width: 2; stroke-linejoin: miter\"/>\n   </g>\n   <g id=\"patch_17\">\n    <path d=\"M 425.249687 284.4 \nL 450.359687 284.4 \nL 450.359687 135.768 \nL 425.249687 135.768 \nz\n\" clip-path=\"url(#pfc3371b18f)\" style=\"fill: #d55e00; fill-opacity: 0.878431; stroke: #ffffff; stroke-width: 2; stroke-linejoin: miter\"/>\n   </g>\n   <g id=\"patch_18\">\n    <path d=\"M 450.359688 284.4 \nL 475.469688 284.4 \nL 475.469688 135.768 \nL 450.359688 135.768 \nz\n\" clip-path=\"url(#pfc3371b18f)\" style=\"fill: #d55e00; fill-opacity: 0.878431; stroke: #ffffff; stroke-width: 2; stroke-linejoin: miter\"/>\n   </g>\n   <g id=\"patch_19\">\n    <path d=\"M 475.469688 284.4 \nL 500.579688 284.4 \nL 500.579688 115.968 \nL 475.469688 115.968 \nz\n\" clip-path=\"url(#pfc3371b18f)\" style=\"fill: #d55e00; fill-opacity: 0.878431; stroke: #ffffff; stroke-width: 2; stroke-linejoin: miter\"/>\n   </g>\n   <g id=\"patch_20\">\n    <path d=\"M 500.579688 284.4 \nL 525.689688 284.4 \nL 525.689688 115.968 \nL 500.579688 115.968 \nz\n\" clip-path=\"url(#pfc3371b18f)\" style=\"fill: #d55e00; fill-opacity: 0.878431; stroke: #ffffff; stroke-width: 2; stroke-linejoin: miter\"/>\n   </g>\n   <g id=\"patch_21\">\n    <path d=\"M 525.689688 284.4 \nL 550.799688 284.4 \nL 550.799688 115.968 \nL 525.689688 115.968 \nz\n\" clip-path=\"url(#pfc3371b18f)\" style=\"fill: #d55e00; fill-opacity: 0.878431; stroke: #ffffff; stroke-width: 2; stroke-linejoin: miter\"/>\n   </g>\n   <g id=\"patch_22\">\n    <path d=\"M 550.799688 284.4 \nL 575.909688 284.4 \nL 575.909688 115.968 \nL 550.799688 115.968 \nz\n\" clip-path=\"url(#pfc3371b18f)\" style=\"fill: #d55e00; fill-opacity: 0.878431; stroke: #ffffff; stroke-width: 2; stroke-linejoin: miter\"/>\n   </g>\n   <g id=\"patch_23\">\n    <path d=\"M 73.709687 239.256 \nL 98.819687 239.256 \nL 98.819687 20.4 \nL 73.709687 20.4 \nz\n\" clip-path=\"url(#pfc3371b18f)\" style=\"fill: #0072b2; fill-opacity: 0.878431; stroke: #ffffff; stroke-width: 2; stroke-linejoin: miter\"/>\n   </g>\n   <g id=\"patch_24\">\n    <path d=\"M 98.819687 239.256 \nL 123.929687 239.256 \nL 123.929687 20.4 \nL 98.819687 20.4 \nz\n\" clip-path=\"url(#pfc3371b18f)\" style=\"fill: #0072b2; fill-opacity: 0.878431; stroke: #ffffff; stroke-width: 2; stroke-linejoin: miter\"/>\n   </g>\n   <g id=\"patch_25\">\n    <path d=\"M 123.929688 239.256 \nL 149.039688 239.256 \nL 149.039688 20.4 \nL 123.929688 20.4 \nz\n\" clip-path=\"url(#pfc3371b18f)\" style=\"fill: #0072b2; fill-opacity: 0.878431; stroke: #ffffff; stroke-width: 2; stroke-linejoin: miter\"/>\n   </g>\n   <g id=\"patch_26\">\n    <path d=\"M 149.039688 216.552 \nL 174.149688 216.552 \nL 174.149688 20.4 \nL 149.039688 20.4 \nz\n\" clip-path=\"url(#pfc3371b18f)\" style=\"fill: #0072b2; fill-opacity: 0.878431; stroke: #ffffff; stroke-width: 2; stroke-linejoin: miter\"/>\n   </g>\n   <g id=\"patch_27\">\n    <path d=\"M 174.149688 216.552 \nL 199.259688 216.552 \nL 199.259688 20.4 \nL 174.149688 20.4 \nz\n\" clip-path=\"url(#pfc3371b18f)\" style=\"fill: #0072b2; fill-opacity: 0.878431; stroke: #ffffff; stroke-width: 2; stroke-linejoin: miter\"/>\n   </g>\n   <g id=\"patch_28\">\n    <path d=\"M 199.259688 216.552 \nL 224.369688 216.552 \nL 224.369688 20.4 \nL 199.259688 20.4 \nz\n\" clip-path=\"url(#pfc3371b18f)\" style=\"fill: #0072b2; fill-opacity: 0.878431; stroke: #ffffff; stroke-width: 2; stroke-linejoin: miter\"/>\n   </g>\n   <g id=\"patch_29\">\n    <path d=\"M 224.369688 155.568 \nL 249.479688 155.568 \nL 249.479688 20.4 \nL 224.369688 20.4 \nz\n\" clip-path=\"url(#pfc3371b18f)\" style=\"fill: #0072b2; fill-opacity: 0.878431; stroke: #ffffff; stroke-width: 2; stroke-linejoin: miter\"/>\n   </g>\n   <g id=\"patch_30\">\n    <path d=\"M 249.479688 155.568 \nL 274.589688 155.568 \nL 274.589688 20.4 \nL 249.479688 20.4 \nz\n\" clip-path=\"url(#pfc3371b18f)\" style=\"fill: #0072b2; fill-opacity: 0.878431; stroke: #ffffff; stroke-width: 2; stroke-linejoin: miter\"/>\n   </g>\n   <g id=\"patch_31\">\n    <path d=\"M 274.589687 155.568 \nL 299.699687 155.568 \nL 299.699687 20.4 \nL 274.589687 20.4 \nz\n\" clip-path=\"url(#pfc3371b18f)\" style=\"fill: #0072b2; fill-opacity: 0.878431; stroke: #ffffff; stroke-width: 2; stroke-linejoin: miter\"/>\n   </g>\n   <g id=\"patch_32\">\n    <path d=\"M 299.699687 155.568 \nL 324.809687 155.568 \nL 324.809687 20.4 \nL 299.699687 20.4 \nz\n\" clip-path=\"url(#pfc3371b18f)\" style=\"fill: #0072b2; fill-opacity: 0.878431; stroke: #ffffff; stroke-width: 2; stroke-linejoin: miter\"/>\n   </g>\n   <g id=\"patch_33\">\n    <path d=\"M 324.809687 155.568 \nL 349.919687 155.568 \nL 349.919687 20.4 \nL 324.809687 20.4 \nz\n\" clip-path=\"url(#pfc3371b18f)\" style=\"fill: #0072b2; fill-opacity: 0.878431; stroke: #ffffff; stroke-width: 2; stroke-linejoin: miter\"/>\n   </g>\n   <g id=\"patch_34\">\n    <path d=\"M 349.919687 135.768 \nL 375.029687 135.768 \nL 375.029687 20.4 \nL 349.919687 20.4 \nz\n\" clip-path=\"url(#pfc3371b18f)\" style=\"fill: #0072b2; fill-opacity: 0.878431; stroke: #ffffff; stroke-width: 2; stroke-linejoin: miter\"/>\n   </g>\n   <g id=\"patch_35\">\n    <path d=\"M 375.029687 135.768 \nL 400.139687 135.768 \nL 400.139687 20.4 \nL 375.029687 20.4 \nz\n\" clip-path=\"url(#pfc3371b18f)\" style=\"fill: #0072b2; fill-opacity: 0.878431; stroke: #ffffff; stroke-width: 2; stroke-linejoin: miter\"/>\n   </g>\n   <g id=\"patch_36\">\n    <path d=\"M 400.139687 135.768 \nL 425.249687 135.768 \nL 425.249687 20.4 \nL 400.139687 20.4 \nz\n\" clip-path=\"url(#pfc3371b18f)\" style=\"fill: #0072b2; fill-opacity: 0.878431; stroke: #ffffff; stroke-width: 2; stroke-linejoin: miter\"/>\n   </g>\n   <g id=\"patch_37\">\n    <path d=\"M 425.249687 135.768 \nL 450.359687 135.768 \nL 450.359687 20.4 \nL 425.249687 20.4 \nz\n\" clip-path=\"url(#pfc3371b18f)\" style=\"fill: #0072b2; fill-opacity: 0.878431; stroke: #ffffff; stroke-width: 2; stroke-linejoin: miter\"/>\n   </g>\n   <g id=\"patch_38\">\n    <path d=\"M 450.359688 135.768 \nL 475.469688 135.768 \nL 475.469688 20.4 \nL 450.359688 20.4 \nz\n\" clip-path=\"url(#pfc3371b18f)\" style=\"fill: #0072b2; fill-opacity: 0.878431; stroke: #ffffff; stroke-width: 2; stroke-linejoin: miter\"/>\n   </g>\n   <g id=\"patch_39\">\n    <path d=\"M 475.469688 115.968 \nL 500.579688 115.968 \nL 500.579688 20.4 \nL 475.469688 20.4 \nz\n\" clip-path=\"url(#pfc3371b18f)\" style=\"fill: #0072b2; fill-opacity: 0.878431; stroke: #ffffff; stroke-width: 2; stroke-linejoin: miter\"/>\n   </g>\n   <g id=\"patch_40\">\n    <path d=\"M 500.579688 115.968 \nL 525.689688 115.968 \nL 525.689688 20.4 \nL 500.579688 20.4 \nz\n\" clip-path=\"url(#pfc3371b18f)\" style=\"fill: #0072b2; fill-opacity: 0.878431; stroke: #ffffff; stroke-width: 2; stroke-linejoin: miter\"/>\n   </g>\n   <g id=\"patch_41\">\n    <path d=\"M 525.689688 115.968 \nL 550.799688 115.968 \nL 550.799688 20.4 \nL 525.689688 20.4 \nz\n\" clip-path=\"url(#pfc3371b18f)\" style=\"fill: #0072b2; fill-opacity: 0.878431; stroke: #ffffff; stroke-width: 2; stroke-linejoin: miter\"/>\n   </g>\n   <g id=\"patch_42\">\n    <path d=\"M 550.799688 115.968 \nL 575.909688 115.968 \nL 575.909688 20.4 \nL 550.799688 20.4 \nz\n\" clip-path=\"url(#pfc3371b18f)\" style=\"fill: #0072b2; fill-opacity: 0.878431; stroke: #ffffff; stroke-width: 2; stroke-linejoin: miter\"/>\n   </g>\n   <g id=\"matplotlib.axis_1\">\n    <g id=\"xtick_1\">\n     <g id=\"line2d_1\">\n      <defs>\n       <path id=\"m285d40e981\" d=\"M 0 0 \nL 0 3.5 \n\" style=\"stroke: #000000; stroke-width: 0.8\"/>\n      </defs>\n      <g>\n       <use xlink:href=\"#m285d40e981\" x=\"161.594688\" y=\"284.4\" style=\"stroke: #000000; stroke-width: 0.8\"/>\n      </g>\n     </g>\n     <g id=\"text_1\">\n      <!-- 2000 -->\n      <g transform=\"translate(143.779688 302.037812) scale(0.14 -0.14)\">\n       <defs>\n        <path id=\"DejaVuSans-32\" d=\"M 1228 531 \nL 3431 531 \nL 3431 0 \nL 469 0 \nL 469 531 \nQ 828 903 1448 1529 \nQ 2069 2156 2228 2338 \nQ 2531 2678 2651 2914 \nQ 2772 3150 2772 3378 \nQ 2772 3750 2511 3984 \nQ 2250 4219 1831 4219 \nQ 1534 4219 1204 4116 \nQ 875 4013 500 3803 \nL 500 4441 \nQ 881 4594 1212 4672 \nQ 1544 4750 1819 4750 \nQ 2544 4750 2975 4387 \nQ 3406 4025 3406 3419 \nQ 3406 3131 3298 2873 \nQ 3191 2616 2906 2266 \nQ 2828 2175 2409 1742 \nQ 1991 1309 1228 531 \nz\n\" transform=\"scale(0.015625)\"/>\n        <path id=\"DejaVuSans-30\" d=\"M 2034 4250 \nQ 1547 4250 1301 3770 \nQ 1056 3291 1056 2328 \nQ 1056 1369 1301 889 \nQ 1547 409 2034 409 \nQ 2525 409 2770 889 \nQ 3016 1369 3016 2328 \nQ 3016 3291 2770 3770 \nQ 2525 4250 2034 4250 \nz\nM 2034 4750 \nQ 2819 4750 3233 4129 \nQ 3647 3509 3647 2328 \nQ 3647 1150 3233 529 \nQ 2819 -91 2034 -91 \nQ 1250 -91 836 529 \nQ 422 1150 422 2328 \nQ 422 3509 836 4129 \nQ 1250 4750 2034 4750 \nz\n\" transform=\"scale(0.015625)\"/>\n       </defs>\n       <use xlink:href=\"#DejaVuSans-32\"/>\n       <use xlink:href=\"#DejaVuSans-30\" transform=\"translate(63.623047 0)\"/>\n       <use xlink:href=\"#DejaVuSans-30\" transform=\"translate(127.246094 0)\"/>\n       <use xlink:href=\"#DejaVuSans-30\" transform=\"translate(190.869141 0)\"/>\n      </g>\n     </g>\n    </g>\n    <g id=\"xtick_2\">\n     <g id=\"line2d_2\">\n      <g>\n       <use xlink:href=\"#m285d40e981\" x=\"287.144687\" y=\"284.4\" style=\"stroke: #000000; stroke-width: 0.8\"/>\n      </g>\n     </g>\n     <g id=\"text_2\">\n      <!-- 2005 -->\n      <g transform=\"translate(269.329687 302.037812) scale(0.14 -0.14)\">\n       <defs>\n        <path id=\"DejaVuSans-35\" d=\"M 691 4666 \nL 3169 4666 \nL 3169 4134 \nL 1269 4134 \nL 1269 2991 \nQ 1406 3038 1543 3061 \nQ 1681 3084 1819 3084 \nQ 2600 3084 3056 2656 \nQ 3513 2228 3513 1497 \nQ 3513 744 3044 326 \nQ 2575 -91 1722 -91 \nQ 1428 -91 1123 -41 \nQ 819 9 494 109 \nL 494 744 \nQ 775 591 1075 516 \nQ 1375 441 1709 441 \nQ 2250 441 2565 725 \nQ 2881 1009 2881 1497 \nQ 2881 1984 2565 2268 \nQ 2250 2553 1709 2553 \nQ 1456 2553 1204 2497 \nQ 953 2441 691 2322 \nL 691 4666 \nz\n\" transform=\"scale(0.015625)\"/>\n       </defs>\n       <use xlink:href=\"#DejaVuSans-32\"/>\n       <use xlink:href=\"#DejaVuSans-30\" transform=\"translate(63.623047 0)\"/>\n       <use xlink:href=\"#DejaVuSans-30\" transform=\"translate(127.246094 0)\"/>\n       <use xlink:href=\"#DejaVuSans-35\" transform=\"translate(190.869141 0)\"/>\n      </g>\n     </g>\n    </g>\n    <g id=\"xtick_3\">\n     <g id=\"line2d_3\">\n      <g>\n       <use xlink:href=\"#m285d40e981\" x=\"412.694687\" y=\"284.4\" style=\"stroke: #000000; stroke-width: 0.8\"/>\n      </g>\n     </g>\n     <g id=\"text_3\">\n      <!-- 2010 -->\n      <g transform=\"translate(394.879687 302.037812) scale(0.14 -0.14)\">\n       <defs>\n        <path id=\"DejaVuSans-31\" d=\"M 794 531 \nL 1825 531 \nL 1825 4091 \nL 703 3866 \nL 703 4441 \nL 1819 4666 \nL 2450 4666 \nL 2450 531 \nL 3481 531 \nL 3481 0 \nL 794 0 \nL 794 531 \nz\n\" transform=\"scale(0.015625)\"/>\n       </defs>\n       <use xlink:href=\"#DejaVuSans-32\"/>\n       <use xlink:href=\"#DejaVuSans-30\" transform=\"translate(63.623047 0)\"/>\n       <use xlink:href=\"#DejaVuSans-31\" transform=\"translate(127.246094 0)\"/>\n       <use xlink:href=\"#DejaVuSans-30\" transform=\"translate(190.869141 0)\"/>\n      </g>\n     </g>\n    </g>\n    <g id=\"xtick_4\">\n     <g id=\"line2d_4\">\n      <g>\n       <use xlink:href=\"#m285d40e981\" x=\"538.244688\" y=\"284.4\" style=\"stroke: #000000; stroke-width: 0.8\"/>\n      </g>\n     </g>\n     <g id=\"text_4\">\n      <!-- 2015 -->\n      <g transform=\"translate(520.429688 302.037812) scale(0.14 -0.14)\">\n       <use xlink:href=\"#DejaVuSans-32\"/>\n       <use xlink:href=\"#DejaVuSans-30\" transform=\"translate(63.623047 0)\"/>\n       <use xlink:href=\"#DejaVuSans-31\" transform=\"translate(127.246094 0)\"/>\n       <use xlink:href=\"#DejaVuSans-35\" transform=\"translate(190.869141 0)\"/>\n      </g>\n     </g>\n    </g>\n   </g>\n   <g id=\"matplotlib.axis_2\">\n    <g id=\"ytick_1\">\n     <g id=\"line2d_5\">\n      <defs>\n       <path id=\"mec984eae59\" d=\"M 0 0 \nL -3.5 0 \n\" style=\"stroke: #000000; stroke-width: 0.8\"/>\n      </defs>\n      <g>\n       <use xlink:href=\"#mec984eae59\" x=\"73.709688\" y=\"284.4\" style=\"stroke: #000000; stroke-width: 0.8\"/>\n      </g>\n     </g>\n     <g id=\"text_5\">\n      <!-- 0% -->\n      <g transform=\"translate(44.5 289.718906) scale(0.14 -0.14)\">\n       <defs>\n        <path id=\"DejaVuSans-25\" d=\"M 4653 2053 \nQ 4381 2053 4226 1822 \nQ 4072 1591 4072 1178 \nQ 4072 772 4226 539 \nQ 4381 306 4653 306 \nQ 4919 306 5073 539 \nQ 5228 772 5228 1178 \nQ 5228 1588 5073 1820 \nQ 4919 2053 4653 2053 \nz\nM 4653 2450 \nQ 5147 2450 5437 2106 \nQ 5728 1763 5728 1178 \nQ 5728 594 5436 251 \nQ 5144 -91 4653 -91 \nQ 4153 -91 3862 251 \nQ 3572 594 3572 1178 \nQ 3572 1766 3864 2108 \nQ 4156 2450 4653 2450 \nz\nM 1428 4353 \nQ 1159 4353 1004 4120 \nQ 850 3888 850 3481 \nQ 850 3069 1003 2837 \nQ 1156 2606 1428 2606 \nQ 1700 2606 1854 2837 \nQ 2009 3069 2009 3481 \nQ 2009 3884 1853 4118 \nQ 1697 4353 1428 4353 \nz\nM 4250 4750 \nL 4750 4750 \nL 1831 -91 \nL 1331 -91 \nL 4250 4750 \nz\nM 1428 4750 \nQ 1922 4750 2215 4408 \nQ 2509 4066 2509 3481 \nQ 2509 2891 2217 2550 \nQ 1925 2209 1428 2209 \nQ 931 2209 642 2551 \nQ 353 2894 353 3481 \nQ 353 4063 643 4406 \nQ 934 4750 1428 4750 \nz\n\" transform=\"scale(0.015625)\"/>\n       </defs>\n       <use xlink:href=\"#DejaVuSans-30\"/>\n       <use xlink:href=\"#DejaVuSans-25\" transform=\"translate(63.623047 0)\"/>\n      </g>\n     </g>\n    </g>\n    <g id=\"ytick_2\">\n     <g id=\"line2d_6\">\n      <g>\n       <use xlink:href=\"#mec984eae59\" x=\"73.709688\" y=\"218.4\" style=\"stroke: #000000; stroke-width: 0.8\"/>\n      </g>\n     </g>\n     <g id=\"text_6\">\n      <!-- 25% -->\n      <g transform=\"translate(35.5925 223.718906) scale(0.14 -0.14)\">\n       <use xlink:href=\"#DejaVuSans-32\"/>\n       <use xlink:href=\"#DejaVuSans-35\" transform=\"translate(63.623047 0)\"/>\n       <use xlink:href=\"#DejaVuSans-25\" transform=\"translate(127.246094 0)\"/>\n      </g>\n     </g>\n    </g>\n    <g id=\"ytick_3\">\n     <g id=\"line2d_7\">\n      <g>\n       <use xlink:href=\"#mec984eae59\" x=\"73.709688\" y=\"152.4\" style=\"stroke: #000000; stroke-width: 0.8\"/>\n      </g>\n     </g>\n     <g id=\"text_7\">\n      <!-- 50% -->\n      <g transform=\"translate(35.5925 157.718906) scale(0.14 -0.14)\">\n       <use xlink:href=\"#DejaVuSans-35\"/>\n       <use xlink:href=\"#DejaVuSans-30\" transform=\"translate(63.623047 0)\"/>\n       <use xlink:href=\"#DejaVuSans-25\" transform=\"translate(127.246094 0)\"/>\n      </g>\n     </g>\n    </g>\n    <g id=\"ytick_4\">\n     <g id=\"line2d_8\">\n      <g>\n       <use xlink:href=\"#mec984eae59\" x=\"73.709688\" y=\"86.4\" style=\"stroke: #000000; stroke-width: 0.8\"/>\n      </g>\n     </g>\n     <g id=\"text_8\">\n      <!-- 75% -->\n      <g transform=\"translate(35.5925 91.718906) scale(0.14 -0.14)\">\n       <defs>\n        <path id=\"DejaVuSans-37\" d=\"M 525 4666 \nL 3525 4666 \nL 3525 4397 \nL 1831 0 \nL 1172 0 \nL 2766 4134 \nL 525 4134 \nL 525 4666 \nz\n\" transform=\"scale(0.015625)\"/>\n       </defs>\n       <use xlink:href=\"#DejaVuSans-37\"/>\n       <use xlink:href=\"#DejaVuSans-35\" transform=\"translate(63.623047 0)\"/>\n       <use xlink:href=\"#DejaVuSans-25\" transform=\"translate(127.246094 0)\"/>\n      </g>\n     </g>\n    </g>\n    <g id=\"ytick_5\">\n     <g id=\"line2d_9\">\n      <g>\n       <use xlink:href=\"#mec984eae59\" x=\"73.709688\" y=\"20.4\" style=\"stroke: #000000; stroke-width: 0.8\"/>\n      </g>\n     </g>\n     <g id=\"text_9\">\n      <!-- 100% -->\n      <g transform=\"translate(26.685 25.718906) scale(0.14 -0.14)\">\n       <use xlink:href=\"#DejaVuSans-31\"/>\n       <use xlink:href=\"#DejaVuSans-30\" transform=\"translate(63.623047 0)\"/>\n       <use xlink:href=\"#DejaVuSans-30\" transform=\"translate(127.246094 0)\"/>\n       <use xlink:href=\"#DejaVuSans-25\" transform=\"translate(190.869141 0)\"/>\n      </g>\n     </g>\n    </g>\n    <g id=\"text_10\">\n     <!-- relative proportion -->\n     <g transform=\"translate(19.3575 220.18375) rotate(-90) scale(0.16 -0.16)\">\n      <defs>\n       <path id=\"DejaVuSans-72\" d=\"M 2631 2963 \nQ 2534 3019 2420 3045 \nQ 2306 3072 2169 3072 \nQ 1681 3072 1420 2755 \nQ 1159 2438 1159 1844 \nL 1159 0 \nL 581 0 \nL 581 3500 \nL 1159 3500 \nL 1159 2956 \nQ 1341 3275 1631 3429 \nQ 1922 3584 2338 3584 \nQ 2397 3584 2469 3576 \nQ 2541 3569 2628 3553 \nL 2631 2963 \nz\n\" transform=\"scale(0.015625)\"/>\n       <path id=\"DejaVuSans-65\" d=\"M 3597 1894 \nL 3597 1613 \nL 953 1613 \nQ 991 1019 1311 708 \nQ 1631 397 2203 397 \nQ 2534 397 2845 478 \nQ 3156 559 3463 722 \nL 3463 178 \nQ 3153 47 2828 -22 \nQ 2503 -91 2169 -91 \nQ 1331 -91 842 396 \nQ 353 884 353 1716 \nQ 353 2575 817 3079 \nQ 1281 3584 2069 3584 \nQ 2775 3584 3186 3129 \nQ 3597 2675 3597 1894 \nz\nM 3022 2063 \nQ 3016 2534 2758 2815 \nQ 2500 3097 2075 3097 \nQ 1594 3097 1305 2825 \nQ 1016 2553 972 2059 \nL 3022 2063 \nz\n\" transform=\"scale(0.015625)\"/>\n       <path id=\"DejaVuSans-6c\" d=\"M 603 4863 \nL 1178 4863 \nL 1178 0 \nL 603 0 \nL 603 4863 \nz\n\" transform=\"scale(0.015625)\"/>\n       <path id=\"DejaVuSans-61\" d=\"M 2194 1759 \nQ 1497 1759 1228 1600 \nQ 959 1441 959 1056 \nQ 959 750 1161 570 \nQ 1363 391 1709 391 \nQ 2188 391 2477 730 \nQ 2766 1069 2766 1631 \nL 2766 1759 \nL 2194 1759 \nz\nM 3341 1997 \nL 3341 0 \nL 2766 0 \nL 2766 531 \nQ 2569 213 2275 61 \nQ 1981 -91 1556 -91 \nQ 1019 -91 701 211 \nQ 384 513 384 1019 \nQ 384 1609 779 1909 \nQ 1175 2209 1959 2209 \nL 2766 2209 \nL 2766 2266 \nQ 2766 2663 2505 2880 \nQ 2244 3097 1772 3097 \nQ 1472 3097 1187 3025 \nQ 903 2953 641 2809 \nL 641 3341 \nQ 956 3463 1253 3523 \nQ 1550 3584 1831 3584 \nQ 2591 3584 2966 3190 \nQ 3341 2797 3341 1997 \nz\n\" transform=\"scale(0.015625)\"/>\n       <path id=\"DejaVuSans-74\" d=\"M 1172 4494 \nL 1172 3500 \nL 2356 3500 \nL 2356 3053 \nL 1172 3053 \nL 1172 1153 \nQ 1172 725 1289 603 \nQ 1406 481 1766 481 \nL 2356 481 \nL 2356 0 \nL 1766 0 \nQ 1100 0 847 248 \nQ 594 497 594 1153 \nL 594 3053 \nL 172 3053 \nL 172 3500 \nL 594 3500 \nL 594 4494 \nL 1172 4494 \nz\n\" transform=\"scale(0.015625)\"/>\n       <path id=\"DejaVuSans-69\" d=\"M 603 3500 \nL 1178 3500 \nL 1178 0 \nL 603 0 \nL 603 3500 \nz\nM 603 4863 \nL 1178 4863 \nL 1178 4134 \nL 603 4134 \nL 603 4863 \nz\n\" transform=\"scale(0.015625)\"/>\n       <path id=\"DejaVuSans-76\" d=\"M 191 3500 \nL 800 3500 \nL 1894 563 \nL 2988 3500 \nL 3597 3500 \nL 2284 0 \nL 1503 0 \nL 191 3500 \nz\n\" transform=\"scale(0.015625)\"/>\n       <path id=\"DejaVuSans-20\" transform=\"scale(0.015625)\"/>\n       <path id=\"DejaVuSans-70\" d=\"M 1159 525 \nL 1159 -1331 \nL 581 -1331 \nL 581 3500 \nL 1159 3500 \nL 1159 2969 \nQ 1341 3281 1617 3432 \nQ 1894 3584 2278 3584 \nQ 2916 3584 3314 3078 \nQ 3713 2572 3713 1747 \nQ 3713 922 3314 415 \nQ 2916 -91 2278 -91 \nQ 1894 -91 1617 61 \nQ 1341 213 1159 525 \nz\nM 3116 1747 \nQ 3116 2381 2855 2742 \nQ 2594 3103 2138 3103 \nQ 1681 3103 1420 2742 \nQ 1159 2381 1159 1747 \nQ 1159 1113 1420 752 \nQ 1681 391 2138 391 \nQ 2594 391 2855 752 \nQ 3116 1113 3116 1747 \nz\n\" transform=\"scale(0.015625)\"/>\n       <path id=\"DejaVuSans-6f\" d=\"M 1959 3097 \nQ 1497 3097 1228 2736 \nQ 959 2375 959 1747 \nQ 959 1119 1226 758 \nQ 1494 397 1959 397 \nQ 2419 397 2687 759 \nQ 2956 1122 2956 1747 \nQ 2956 2369 2687 2733 \nQ 2419 3097 1959 3097 \nz\nM 1959 3584 \nQ 2709 3584 3137 3096 \nQ 3566 2609 3566 1747 \nQ 3566 888 3137 398 \nQ 2709 -91 1959 -91 \nQ 1206 -91 779 398 \nQ 353 888 353 1747 \nQ 353 2609 779 3096 \nQ 1206 3584 1959 3584 \nz\n\" transform=\"scale(0.015625)\"/>\n       <path id=\"DejaVuSans-6e\" d=\"M 3513 2113 \nL 3513 0 \nL 2938 0 \nL 2938 2094 \nQ 2938 2591 2744 2837 \nQ 2550 3084 2163 3084 \nQ 1697 3084 1428 2787 \nQ 1159 2491 1159 1978 \nL 1159 0 \nL 581 0 \nL 581 3500 \nL 1159 3500 \nL 1159 2956 \nQ 1366 3272 1645 3428 \nQ 1925 3584 2291 3584 \nQ 2894 3584 3203 3211 \nQ 3513 2838 3513 2113 \nz\n\" transform=\"scale(0.015625)\"/>\n      </defs>\n      <use xlink:href=\"#DejaVuSans-72\"/>\n      <use xlink:href=\"#DejaVuSans-65\" transform=\"translate(38.863281 0)\"/>\n      <use xlink:href=\"#DejaVuSans-6c\" transform=\"translate(100.386719 0)\"/>\n      <use xlink:href=\"#DejaVuSans-61\" transform=\"translate(128.169922 0)\"/>\n      <use xlink:href=\"#DejaVuSans-74\" transform=\"translate(189.449219 0)\"/>\n      <use xlink:href=\"#DejaVuSans-69\" transform=\"translate(228.658203 0)\"/>\n      <use xlink:href=\"#DejaVuSans-76\" transform=\"translate(256.441406 0)\"/>\n      <use xlink:href=\"#DejaVuSans-65\" transform=\"translate(315.621094 0)\"/>\n      <use xlink:href=\"#DejaVuSans-20\" transform=\"translate(377.144531 0)\"/>\n      <use xlink:href=\"#DejaVuSans-70\" transform=\"translate(408.931641 0)\"/>\n      <use xlink:href=\"#DejaVuSans-72\" transform=\"translate(472.408203 0)\"/>\n      <use xlink:href=\"#DejaVuSans-6f\" transform=\"translate(511.271484 0)\"/>\n      <use xlink:href=\"#DejaVuSans-70\" transform=\"translate(572.453125 0)\"/>\n      <use xlink:href=\"#DejaVuSans-6f\" transform=\"translate(635.929688 0)\"/>\n      <use xlink:href=\"#DejaVuSans-72\" transform=\"translate(697.111328 0)\"/>\n      <use xlink:href=\"#DejaVuSans-74\" transform=\"translate(738.224609 0)\"/>\n      <use xlink:href=\"#DejaVuSans-69\" transform=\"translate(777.433594 0)\"/>\n      <use xlink:href=\"#DejaVuSans-6f\" transform=\"translate(805.216797 0)\"/>\n      <use xlink:href=\"#DejaVuSans-6e\" transform=\"translate(866.398438 0)\"/>\n     </g>\n    </g>\n   </g>\n   <g id=\"line2d_10\">\n    <path d=\"M 73.709688 152.4 \nL 575.909688 152.4 \n\" clip-path=\"url(#pfc3371b18f)\" style=\"fill: none; stroke-dasharray: 3.7,1.6; stroke-dashoffset: 0; stroke: #000000\"/>\n   </g>\n   <g id=\"line2d_11\">\n    <path d=\"M 73.709688 20.4 \nL 575.909688 20.4 \n\" clip-path=\"url(#pfc3371b18f)\" style=\"fill: none; stroke: #000000; stroke-linecap: square\"/>\n   </g>\n   <g id=\"patch_43\">\n    <path d=\"M 73.709687 284.4 \nL 575.909688 284.4 \n\" style=\"fill: none; stroke: #000000; stroke-width: 0.8; stroke-linejoin: miter; stroke-linecap: square\"/>\n   </g>\n   <g id=\"text_11\">\n    <!-- women -->\n    <g transform=\"translate(588.464687 200.184) scale(0.16 -0.16)\">\n     <defs>\n      <path id=\"DejaVuSans-77\" d=\"M 269 3500 \nL 844 3500 \nL 1563 769 \nL 2278 3500 \nL 2956 3500 \nL 3675 769 \nL 4391 3500 \nL 4966 3500 \nL 4050 0 \nL 3372 0 \nL 2619 2869 \nL 1863 0 \nL 1184 0 \nL 269 3500 \nz\n\" transform=\"scale(0.015625)\"/>\n      <path id=\"DejaVuSans-6d\" d=\"M 3328 2828 \nQ 3544 3216 3844 3400 \nQ 4144 3584 4550 3584 \nQ 5097 3584 5394 3201 \nQ 5691 2819 5691 2113 \nL 5691 0 \nL 5113 0 \nL 5113 2094 \nQ 5113 2597 4934 2840 \nQ 4756 3084 4391 3084 \nQ 3944 3084 3684 2787 \nQ 3425 2491 3425 1978 \nL 3425 0 \nL 2847 0 \nL 2847 2094 \nQ 2847 2600 2669 2842 \nQ 2491 3084 2119 3084 \nQ 1678 3084 1418 2786 \nQ 1159 2488 1159 1978 \nL 1159 0 \nL 581 0 \nL 581 3500 \nL 1159 3500 \nL 1159 2956 \nQ 1356 3278 1631 3431 \nQ 1906 3584 2284 3584 \nQ 2666 3584 2933 3390 \nQ 3200 3197 3328 2828 \nz\n\" transform=\"scale(0.015625)\"/>\n     </defs>\n     <use xlink:href=\"#DejaVuSans-77\"/>\n     <use xlink:href=\"#DejaVuSans-6f\" transform=\"translate(81.787109 0)\"/>\n     <use xlink:href=\"#DejaVuSans-6d\" transform=\"translate(142.96875 0)\"/>\n     <use xlink:href=\"#DejaVuSans-65\" transform=\"translate(240.380859 0)\"/>\n     <use xlink:href=\"#DejaVuSans-6e\" transform=\"translate(301.904297 0)\"/>\n    </g>\n   </g>\n   <g id=\"text_12\">\n    <!-- men -->\n    <g transform=\"translate(588.464687 68.184) scale(0.16 -0.16)\">\n     <use xlink:href=\"#DejaVuSans-6d\"/>\n     <use xlink:href=\"#DejaVuSans-65\" transform=\"translate(97.412109 0)\"/>\n     <use xlink:href=\"#DejaVuSans-6e\" transform=\"translate(158.935547 0)\"/>\n    </g>\n   </g>\n  </g>\n </g>\n <defs>\n  <clipPath id=\"pfc3371b18f\">\n   <rect x=\"73.709688\" y=\"7.2\" width=\"502.2\" height=\"277.2\"/>\n  </clipPath>\n </defs>\n</svg>\n"
     },
     "metadata": {},
     "output_type": "display_data"
    }
   ],
   "execution_count": 24
  },
  {
   "cell_type": "code",
   "metadata": {
    "ExecuteTime": {
     "end_time": "2025-03-22T13:13:05.186258Z",
     "start_time": "2025-03-22T13:13:05.184404Z"
    }
   },
   "source": [],
   "outputs": [],
   "execution_count": null
  }
 ],
 "metadata": {
  "kernelspec": {
   "display_name": "vdss",
   "language": "python",
   "name": "python3"
  },
  "language_info": {
   "codemirror_mode": {
    "name": "ipython",
    "version": 3
   },
   "file_extension": ".py",
   "mimetype": "text/x-python",
   "name": "python",
   "nbconvert_exporter": "python",
   "pygments_lexer": "ipython3",
   "version": "3.10.13"
  }
 },
 "nbformat": 4,
 "nbformat_minor": 2
}
