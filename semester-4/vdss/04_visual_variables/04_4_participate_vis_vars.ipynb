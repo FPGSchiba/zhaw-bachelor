{
 "cells": [
  {
   "cell_type": "markdown",
   "metadata": {},
   "source": [
    "# Visual variables - participate"
   ]
  },
  {
   "cell_type": "code",
   "metadata": {
    "ExecuteTime": {
     "end_time": "2025-03-18T13:43:39.592325Z",
     "start_time": "2025-03-18T13:43:39.586463Z"
    }
   },
   "source": [
    "import os\n",
    "from dotenv import load_dotenv\n",
    "\n",
    "import numpy as np\n",
    "import pandas as pd\n",
    "from matplotlib import pyplot as plt\n",
    "import matplotlib as mpl\n",
    "\n",
    "import colorsys\n",
    "\n",
    "# makes the inline-figures in notebooks look crisper\n",
    "%config InlineBackend.figure_format = 'svg'"
   ],
   "outputs": [],
   "execution_count": 29
  },
  {
   "cell_type": "code",
   "metadata": {
    "ExecuteTime": {
     "end_time": "2025-03-18T13:43:39.608378Z",
     "start_time": "2025-03-18T13:43:39.604686Z"
    }
   },
   "source": [
    "load_dotenv()\n",
    "\n",
    "data_folder = os.getenv('DATA_FOLDER')"
   ],
   "outputs": [],
   "execution_count": 30
  },
  {
   "cell_type": "markdown",
   "metadata": {},
   "source": [
    "## Coordinate Systems"
   ]
  },
  {
   "cell_type": "code",
   "metadata": {
    "ExecuteTime": {
     "end_time": "2025-03-18T13:43:39.618976Z",
     "start_time": "2025-03-18T13:43:39.616049Z"
    }
   },
   "source": [
    "# Generate data\n",
    "rng = np.random.default_rng(42)\n",
    "x = rng.lognormal(size=200)\n",
    "y = x + rng.normal(scale=5 * (x / np.max(x)), size=200)"
   ],
   "outputs": [],
   "execution_count": 31
  },
  {
   "cell_type": "code",
   "metadata": {
    "ExecuteTime": {
     "end_time": "2025-03-18T13:43:39.676718Z",
     "start_time": "2025-03-18T13:43:39.626173Z"
    }
   },
   "source": [
    "fig, ax = plt.subplots(figsize = (9, 5))\n",
    "\n",
    "# Add scatterplot\n",
    "ax.scatter(x, y, s=60, alpha=0.7, edgecolors=\"k\")\n",
    "\n",
    "ax.set_xlabel('x', fontsize=16)\n",
    "ax.set_ylabel('y', fontsize=16)\n",
    "# Enable minor and major gridlines\n",
    "ax.grid(True, which='both')\n",
    "\n",
    "ax.spines[:].set_visible(False)\n",
    "ax.tick_params(bottom=False, left=False, labelsize=14)\n",
    "ax.set_axisbelow(True)\n",
    "\n",
    "plt.show()"
   ],
   "outputs": [
    {
     "data": {
      "text/plain": [
       "<Figure size 900x500 with 1 Axes>"
      ],
      "image/svg+xml": "<?xml version=\"1.0\" encoding=\"utf-8\" standalone=\"no\"?>\n<!DOCTYPE svg PUBLIC \"-//W3C//DTD SVG 1.1//EN\"\n  \"http://www.w3.org/Graphics/SVG/1.1/DTD/svg11.dtd\">\n<svg xmlns:xlink=\"http://www.w3.org/1999/xlink\" width=\"560.9pt\" height=\"331.634375pt\" viewBox=\"0 0 560.9 331.634375\" xmlns=\"http://www.w3.org/2000/svg\" version=\"1.1\">\n <metadata>\n  <rdf:RDF xmlns:dc=\"http://purl.org/dc/elements/1.1/\" xmlns:cc=\"http://creativecommons.org/ns#\" xmlns:rdf=\"http://www.w3.org/1999/02/22-rdf-syntax-ns#\">\n   <cc:Work>\n    <dc:type rdf:resource=\"http://purl.org/dc/dcmitype/StillImage\"/>\n    <dc:date>2025-03-18T14:43:39.659579</dc:date>\n    <dc:format>image/svg+xml</dc:format>\n    <dc:creator>\n     <cc:Agent>\n      <dc:title>Matplotlib v3.10.0, https://matplotlib.org/</dc:title>\n     </cc:Agent>\n    </dc:creator>\n   </cc:Work>\n  </rdf:RDF>\n </metadata>\n <defs>\n  <style type=\"text/css\">*{stroke-linejoin: round; stroke-linecap: butt}</style>\n </defs>\n <g id=\"figure_1\">\n  <g id=\"patch_1\">\n   <path d=\"M 0 331.634375 \nL 560.9 331.634375 \nL 560.9 0 \nL 0 0 \nz\n\" style=\"fill: #ffffff\"/>\n  </g>\n  <g id=\"axes_1\">\n   <g id=\"patch_2\">\n    <path d=\"M 51.5 284.4 \nL 553.7 284.4 \nL 553.7 7.2 \nL 51.5 7.2 \nz\n\" style=\"fill: #ffffff\"/>\n   </g>\n   <g id=\"matplotlib.axis_1\">\n    <g id=\"xtick_1\">\n     <g id=\"line2d_1\">\n      <path d=\"M 71.370093 284.4 \nL 71.370093 7.2 \n\" clip-path=\"url(#p940ac27488)\" style=\"fill: none; stroke: #b0b0b0; stroke-width: 0.8; stroke-linecap: square\"/>\n     </g>\n     <g id=\"text_1\">\n      <!-- 0.0 -->\n      <g transform=\"translate(60.237906 302.037812) scale(0.14 -0.14)\">\n       <defs>\n        <path id=\"DejaVuSans-30\" d=\"M 2034 4250 \nQ 1547 4250 1301 3770 \nQ 1056 3291 1056 2328 \nQ 1056 1369 1301 889 \nQ 1547 409 2034 409 \nQ 2525 409 2770 889 \nQ 3016 1369 3016 2328 \nQ 3016 3291 2770 3770 \nQ 2525 4250 2034 4250 \nz\nM 2034 4750 \nQ 2819 4750 3233 4129 \nQ 3647 3509 3647 2328 \nQ 3647 1150 3233 529 \nQ 2819 -91 2034 -91 \nQ 1250 -91 836 529 \nQ 422 1150 422 2328 \nQ 422 3509 836 4129 \nQ 1250 4750 2034 4750 \nz\n\" transform=\"scale(0.015625)\"/>\n        <path id=\"DejaVuSans-2e\" d=\"M 684 794 \nL 1344 794 \nL 1344 0 \nL 684 0 \nL 684 794 \nz\n\" transform=\"scale(0.015625)\"/>\n       </defs>\n       <use xlink:href=\"#DejaVuSans-30\"/>\n       <use xlink:href=\"#DejaVuSans-2e\" transform=\"translate(63.623047 0)\"/>\n       <use xlink:href=\"#DejaVuSans-30\" transform=\"translate(95.410156 0)\"/>\n      </g>\n     </g>\n    </g>\n    <g id=\"xtick_2\">\n     <g id=\"line2d_2\">\n      <path d=\"M 133.708202 284.4 \nL 133.708202 7.2 \n\" clip-path=\"url(#p940ac27488)\" style=\"fill: none; stroke: #b0b0b0; stroke-width: 0.8; stroke-linecap: square\"/>\n     </g>\n     <g id=\"text_2\">\n      <!-- 2.5 -->\n      <g transform=\"translate(122.576015 302.037812) scale(0.14 -0.14)\">\n       <defs>\n        <path id=\"DejaVuSans-32\" d=\"M 1228 531 \nL 3431 531 \nL 3431 0 \nL 469 0 \nL 469 531 \nQ 828 903 1448 1529 \nQ 2069 2156 2228 2338 \nQ 2531 2678 2651 2914 \nQ 2772 3150 2772 3378 \nQ 2772 3750 2511 3984 \nQ 2250 4219 1831 4219 \nQ 1534 4219 1204 4116 \nQ 875 4013 500 3803 \nL 500 4441 \nQ 881 4594 1212 4672 \nQ 1544 4750 1819 4750 \nQ 2544 4750 2975 4387 \nQ 3406 4025 3406 3419 \nQ 3406 3131 3298 2873 \nQ 3191 2616 2906 2266 \nQ 2828 2175 2409 1742 \nQ 1991 1309 1228 531 \nz\n\" transform=\"scale(0.015625)\"/>\n        <path id=\"DejaVuSans-35\" d=\"M 691 4666 \nL 3169 4666 \nL 3169 4134 \nL 1269 4134 \nL 1269 2991 \nQ 1406 3038 1543 3061 \nQ 1681 3084 1819 3084 \nQ 2600 3084 3056 2656 \nQ 3513 2228 3513 1497 \nQ 3513 744 3044 326 \nQ 2575 -91 1722 -91 \nQ 1428 -91 1123 -41 \nQ 819 9 494 109 \nL 494 744 \nQ 775 591 1075 516 \nQ 1375 441 1709 441 \nQ 2250 441 2565 725 \nQ 2881 1009 2881 1497 \nQ 2881 1984 2565 2268 \nQ 2250 2553 1709 2553 \nQ 1456 2553 1204 2497 \nQ 953 2441 691 2322 \nL 691 4666 \nz\n\" transform=\"scale(0.015625)\"/>\n       </defs>\n       <use xlink:href=\"#DejaVuSans-32\"/>\n       <use xlink:href=\"#DejaVuSans-2e\" transform=\"translate(63.623047 0)\"/>\n       <use xlink:href=\"#DejaVuSans-35\" transform=\"translate(95.410156 0)\"/>\n      </g>\n     </g>\n    </g>\n    <g id=\"xtick_3\">\n     <g id=\"line2d_3\">\n      <path d=\"M 196.046311 284.4 \nL 196.046311 7.2 \n\" clip-path=\"url(#p940ac27488)\" style=\"fill: none; stroke: #b0b0b0; stroke-width: 0.8; stroke-linecap: square\"/>\n     </g>\n     <g id=\"text_3\">\n      <!-- 5.0 -->\n      <g transform=\"translate(184.914124 302.037812) scale(0.14 -0.14)\">\n       <use xlink:href=\"#DejaVuSans-35\"/>\n       <use xlink:href=\"#DejaVuSans-2e\" transform=\"translate(63.623047 0)\"/>\n       <use xlink:href=\"#DejaVuSans-30\" transform=\"translate(95.410156 0)\"/>\n      </g>\n     </g>\n    </g>\n    <g id=\"xtick_4\">\n     <g id=\"line2d_4\">\n      <path d=\"M 258.38442 284.4 \nL 258.38442 7.2 \n\" clip-path=\"url(#p940ac27488)\" style=\"fill: none; stroke: #b0b0b0; stroke-width: 0.8; stroke-linecap: square\"/>\n     </g>\n     <g id=\"text_4\">\n      <!-- 7.5 -->\n      <g transform=\"translate(247.252233 302.037812) scale(0.14 -0.14)\">\n       <defs>\n        <path id=\"DejaVuSans-37\" d=\"M 525 4666 \nL 3525 4666 \nL 3525 4397 \nL 1831 0 \nL 1172 0 \nL 2766 4134 \nL 525 4134 \nL 525 4666 \nz\n\" transform=\"scale(0.015625)\"/>\n       </defs>\n       <use xlink:href=\"#DejaVuSans-37\"/>\n       <use xlink:href=\"#DejaVuSans-2e\" transform=\"translate(63.623047 0)\"/>\n       <use xlink:href=\"#DejaVuSans-35\" transform=\"translate(95.410156 0)\"/>\n      </g>\n     </g>\n    </g>\n    <g id=\"xtick_5\">\n     <g id=\"line2d_5\">\n      <path d=\"M 320.722529 284.4 \nL 320.722529 7.2 \n\" clip-path=\"url(#p940ac27488)\" style=\"fill: none; stroke: #b0b0b0; stroke-width: 0.8; stroke-linecap: square\"/>\n     </g>\n     <g id=\"text_5\">\n      <!-- 10.0 -->\n      <g transform=\"translate(305.136592 302.037812) scale(0.14 -0.14)\">\n       <defs>\n        <path id=\"DejaVuSans-31\" d=\"M 794 531 \nL 1825 531 \nL 1825 4091 \nL 703 3866 \nL 703 4441 \nL 1819 4666 \nL 2450 4666 \nL 2450 531 \nL 3481 531 \nL 3481 0 \nL 794 0 \nL 794 531 \nz\n\" transform=\"scale(0.015625)\"/>\n       </defs>\n       <use xlink:href=\"#DejaVuSans-31\"/>\n       <use xlink:href=\"#DejaVuSans-30\" transform=\"translate(63.623047 0)\"/>\n       <use xlink:href=\"#DejaVuSans-2e\" transform=\"translate(127.246094 0)\"/>\n       <use xlink:href=\"#DejaVuSans-30\" transform=\"translate(159.033203 0)\"/>\n      </g>\n     </g>\n    </g>\n    <g id=\"xtick_6\">\n     <g id=\"line2d_6\">\n      <path d=\"M 383.060638 284.4 \nL 383.060638 7.2 \n\" clip-path=\"url(#p940ac27488)\" style=\"fill: none; stroke: #b0b0b0; stroke-width: 0.8; stroke-linecap: square\"/>\n     </g>\n     <g id=\"text_6\">\n      <!-- 12.5 -->\n      <g transform=\"translate(367.474701 302.037812) scale(0.14 -0.14)\">\n       <use xlink:href=\"#DejaVuSans-31\"/>\n       <use xlink:href=\"#DejaVuSans-32\" transform=\"translate(63.623047 0)\"/>\n       <use xlink:href=\"#DejaVuSans-2e\" transform=\"translate(127.246094 0)\"/>\n       <use xlink:href=\"#DejaVuSans-35\" transform=\"translate(159.033203 0)\"/>\n      </g>\n     </g>\n    </g>\n    <g id=\"xtick_7\">\n     <g id=\"line2d_7\">\n      <path d=\"M 445.398747 284.4 \nL 445.398747 7.2 \n\" clip-path=\"url(#p940ac27488)\" style=\"fill: none; stroke: #b0b0b0; stroke-width: 0.8; stroke-linecap: square\"/>\n     </g>\n     <g id=\"text_7\">\n      <!-- 15.0 -->\n      <g transform=\"translate(429.81281 302.037812) scale(0.14 -0.14)\">\n       <use xlink:href=\"#DejaVuSans-31\"/>\n       <use xlink:href=\"#DejaVuSans-35\" transform=\"translate(63.623047 0)\"/>\n       <use xlink:href=\"#DejaVuSans-2e\" transform=\"translate(127.246094 0)\"/>\n       <use xlink:href=\"#DejaVuSans-30\" transform=\"translate(159.033203 0)\"/>\n      </g>\n     </g>\n    </g>\n    <g id=\"xtick_8\">\n     <g id=\"line2d_8\">\n      <path d=\"M 507.736856 284.4 \nL 507.736856 7.2 \n\" clip-path=\"url(#p940ac27488)\" style=\"fill: none; stroke: #b0b0b0; stroke-width: 0.8; stroke-linecap: square\"/>\n     </g>\n     <g id=\"text_8\">\n      <!-- 17.5 -->\n      <g transform=\"translate(492.150919 302.037812) scale(0.14 -0.14)\">\n       <use xlink:href=\"#DejaVuSans-31\"/>\n       <use xlink:href=\"#DejaVuSans-37\" transform=\"translate(63.623047 0)\"/>\n       <use xlink:href=\"#DejaVuSans-2e\" transform=\"translate(127.246094 0)\"/>\n       <use xlink:href=\"#DejaVuSans-35\" transform=\"translate(159.033203 0)\"/>\n      </g>\n     </g>\n    </g>\n    <g id=\"text_9\">\n     <!-- x -->\n     <g transform=\"translate(297.865 321.106875) scale(0.16 -0.16)\">\n      <defs>\n       <path id=\"DejaVuSans-78\" d=\"M 3513 3500 \nL 2247 1797 \nL 3578 0 \nL 2900 0 \nL 1881 1375 \nL 863 0 \nL 184 0 \nL 1544 1831 \nL 300 3500 \nL 978 3500 \nL 1906 2253 \nL 2834 3500 \nL 3513 3500 \nz\n\" transform=\"scale(0.015625)\"/>\n      </defs>\n      <use xlink:href=\"#DejaVuSans-78\"/>\n     </g>\n    </g>\n   </g>\n   <g id=\"matplotlib.axis_2\">\n    <g id=\"ytick_1\">\n     <g id=\"line2d_9\">\n      <path d=\"M 51.5 272.542348 \nL 553.7 272.542348 \n\" clip-path=\"url(#p940ac27488)\" style=\"fill: none; stroke: #b0b0b0; stroke-width: 0.8; stroke-linecap: square\"/>\n     </g>\n     <g id=\"text_10\">\n      <!-- 0 -->\n      <g transform=\"translate(35.5925 277.861254) scale(0.14 -0.14)\">\n       <use xlink:href=\"#DejaVuSans-30\"/>\n      </g>\n     </g>\n    </g>\n    <g id=\"ytick_2\">\n     <g id=\"line2d_10\">\n      <path d=\"M 51.5 213.687439 \nL 553.7 213.687439 \n\" clip-path=\"url(#p940ac27488)\" style=\"fill: none; stroke: #b0b0b0; stroke-width: 0.8; stroke-linecap: square\"/>\n     </g>\n     <g id=\"text_11\">\n      <!-- 5 -->\n      <g transform=\"translate(35.5925 219.006345) scale(0.14 -0.14)\">\n       <use xlink:href=\"#DejaVuSans-35\"/>\n      </g>\n     </g>\n    </g>\n    <g id=\"ytick_3\">\n     <g id=\"line2d_11\">\n      <path d=\"M 51.5 154.83253 \nL 553.7 154.83253 \n\" clip-path=\"url(#p940ac27488)\" style=\"fill: none; stroke: #b0b0b0; stroke-width: 0.8; stroke-linecap: square\"/>\n     </g>\n     <g id=\"text_12\">\n      <!-- 10 -->\n      <g transform=\"translate(26.685 160.151436) scale(0.14 -0.14)\">\n       <use xlink:href=\"#DejaVuSans-31\"/>\n       <use xlink:href=\"#DejaVuSans-30\" transform=\"translate(63.623047 0)\"/>\n      </g>\n     </g>\n    </g>\n    <g id=\"ytick_4\">\n     <g id=\"line2d_12\">\n      <path d=\"M 51.5 95.977622 \nL 553.7 95.977622 \n\" clip-path=\"url(#p940ac27488)\" style=\"fill: none; stroke: #b0b0b0; stroke-width: 0.8; stroke-linecap: square\"/>\n     </g>\n     <g id=\"text_13\">\n      <!-- 15 -->\n      <g transform=\"translate(26.685 101.296528) scale(0.14 -0.14)\">\n       <use xlink:href=\"#DejaVuSans-31\"/>\n       <use xlink:href=\"#DejaVuSans-35\" transform=\"translate(63.623047 0)\"/>\n      </g>\n     </g>\n    </g>\n    <g id=\"ytick_5\">\n     <g id=\"line2d_13\">\n      <path d=\"M 51.5 37.122713 \nL 553.7 37.122713 \n\" clip-path=\"url(#p940ac27488)\" style=\"fill: none; stroke: #b0b0b0; stroke-width: 0.8; stroke-linecap: square\"/>\n     </g>\n     <g id=\"text_14\">\n      <!-- 20 -->\n      <g transform=\"translate(26.685 42.441619) scale(0.14 -0.14)\">\n       <use xlink:href=\"#DejaVuSans-32\"/>\n       <use xlink:href=\"#DejaVuSans-30\" transform=\"translate(63.623047 0)\"/>\n      </g>\n     </g>\n    </g>\n    <g id=\"text_15\">\n     <!-- y -->\n     <g transform=\"translate(19.3575 150.535) rotate(-90) scale(0.16 -0.16)\">\n      <defs>\n       <path id=\"DejaVuSans-79\" d=\"M 2059 -325 \nQ 1816 -950 1584 -1140 \nQ 1353 -1331 966 -1331 \nL 506 -1331 \nL 506 -850 \nL 844 -850 \nQ 1081 -850 1212 -737 \nQ 1344 -625 1503 -206 \nL 1606 56 \nL 191 3500 \nL 800 3500 \nL 1894 763 \nL 2988 3500 \nL 3597 3500 \nL 2059 -325 \nz\n\" transform=\"scale(0.015625)\"/>\n      </defs>\n      <use xlink:href=\"#DejaVuSans-79\"/>\n     </g>\n    </g>\n   </g>\n   <g id=\"PathCollection_1\">\n    <defs>\n     <path id=\"mf2a8c82f2d\" d=\"M 0 3.872983 \nC 1.027127 3.872983 2.012324 3.464901 2.738613 2.738613 \nC 3.464901 2.012324 3.872983 1.027127 3.872983 0 \nC 3.872983 -1.027127 3.464901 -2.012324 2.738613 -2.738613 \nC 2.012324 -3.464901 1.027127 -3.872983 0 -3.872983 \nC -1.027127 -3.872983 -2.012324 -3.464901 -2.738613 -2.738613 \nC -3.464901 -2.012324 -3.872983 -1.027127 -3.872983 0 \nC -3.872983 1.027127 -3.464901 2.012324 -2.738613 2.738613 \nC -2.012324 3.464901 -1.027127 3.872983 0 3.872983 \nz\n\" style=\"stroke: #000000; stroke-opacity: 0.7\"/>\n    </defs>\n    <g clip-path=\"url(#p940ac27488)\">\n     <use xlink:href=\"#mf2a8c82f2d\" x=\"105.188299\" y=\"255.115829\" style=\"fill: #1f77b4; fill-opacity: 0.7; stroke: #000000; stroke-opacity: 0.7\"/>\n     <use xlink:href=\"#mf2a8c82f2d\" x=\"80.183712\" y=\"266.79289\" style=\"fill: #1f77b4; fill-opacity: 0.7; stroke: #000000; stroke-opacity: 0.7\"/>\n     <use xlink:href=\"#mf2a8c82f2d\" x=\"124.181827\" y=\"246.999186\" style=\"fill: #1f77b4; fill-opacity: 0.7; stroke: #000000; stroke-opacity: 0.7\"/>\n     <use xlink:href=\"#mf2a8c82f2d\" x=\"135.239912\" y=\"237.123962\" style=\"fill: #1f77b4; fill-opacity: 0.7; stroke: #000000; stroke-opacity: 0.7\"/>\n     <use xlink:href=\"#mf2a8c82f2d\" x=\"74.914061\" y=\"271.8\" style=\"fill: #1f77b4; fill-opacity: 0.7; stroke: #000000; stroke-opacity: 0.7\"/>\n     <use xlink:href=\"#mf2a8c82f2d\" x=\"78.150945\" y=\"269.383678\" style=\"fill: #1f77b4; fill-opacity: 0.7; stroke: #000000; stroke-opacity: 0.7\"/>\n     <use xlink:href=\"#mf2a8c82f2d\" x=\"99.705797\" y=\"262.226514\" style=\"fill: #1f77b4; fill-opacity: 0.7; stroke: #000000; stroke-opacity: 0.7\"/>\n     <use xlink:href=\"#mf2a8c82f2d\" x=\"89.544959\" y=\"266.799969\" style=\"fill: #1f77b4; fill-opacity: 0.7; stroke: #000000; stroke-opacity: 0.7\"/>\n     <use xlink:href=\"#mf2a8c82f2d\" x=\"95.889896\" y=\"263.725399\" style=\"fill: #1f77b4; fill-opacity: 0.7; stroke: #000000; stroke-opacity: 0.7\"/>\n     <use xlink:href=\"#mf2a8c82f2d\" x=\"81.995397\" y=\"267.981264\" style=\"fill: #1f77b4; fill-opacity: 0.7; stroke: #000000; stroke-opacity: 0.7\"/>\n     <use xlink:href=\"#mf2a8c82f2d\" x=\"131.450284\" y=\"237.132619\" style=\"fill: #1f77b4; fill-opacity: 0.7; stroke: #000000; stroke-opacity: 0.7\"/>\n     <use xlink:href=\"#mf2a8c82f2d\" x=\"125.645659\" y=\"256.141768\" style=\"fill: #1f77b4; fill-opacity: 0.7; stroke: #000000; stroke-opacity: 0.7\"/>\n     <use xlink:href=\"#mf2a8c82f2d\" x=\"98.007404\" y=\"259.863376\" style=\"fill: #1f77b4; fill-opacity: 0.7; stroke: #000000; stroke-opacity: 0.7\"/>\n     <use xlink:href=\"#mf2a8c82f2d\" x=\"148.348382\" y=\"240.977577\" style=\"fill: #1f77b4; fill-opacity: 0.7; stroke: #000000; stroke-opacity: 0.7\"/>\n     <use xlink:href=\"#mf2a8c82f2d\" x=\"111.167094\" y=\"255.425961\" style=\"fill: #1f77b4; fill-opacity: 0.7; stroke: #000000; stroke-opacity: 0.7\"/>\n     <use xlink:href=\"#mf2a8c82f2d\" x=\"81.929211\" y=\"266.201606\" style=\"fill: #1f77b4; fill-opacity: 0.7; stroke: #000000; stroke-opacity: 0.7\"/>\n     <use xlink:href=\"#mf2a8c82f2d\" x=\"107.42464\" y=\"253.037343\" style=\"fill: #1f77b4; fill-opacity: 0.7; stroke: #000000; stroke-opacity: 0.7\"/>\n     <use xlink:href=\"#mf2a8c82f2d\" x=\"80.928295\" y=\"266.392971\" style=\"fill: #1f77b4; fill-opacity: 0.7; stroke: #000000; stroke-opacity: 0.7\"/>\n     <use xlink:href=\"#mf2a8c82f2d\" x=\"131.393375\" y=\"245.395478\" style=\"fill: #1f77b4; fill-opacity: 0.7; stroke: #000000; stroke-opacity: 0.7\"/>\n     <use xlink:href=\"#mf2a8c82f2d\" x=\"95.090988\" y=\"263.459072\" style=\"fill: #1f77b4; fill-opacity: 0.7; stroke: #000000; stroke-opacity: 0.7\"/>\n     <use xlink:href=\"#mf2a8c82f2d\" x=\"92.096734\" y=\"263.352377\" style=\"fill: #1f77b4; fill-opacity: 0.7; stroke: #000000; stroke-opacity: 0.7\"/>\n     <use xlink:href=\"#mf2a8c82f2d\" x=\"83.990974\" y=\"266.192505\" style=\"fill: #1f77b4; fill-opacity: 0.7; stroke: #000000; stroke-opacity: 0.7\"/>\n     <use xlink:href=\"#mf2a8c82f2d\" x=\"156.04536\" y=\"230.655335\" style=\"fill: #1f77b4; fill-opacity: 0.7; stroke: #000000; stroke-opacity: 0.7\"/>\n     <use xlink:href=\"#mf2a8c82f2d\" x=\"92.735065\" y=\"265.424194\" style=\"fill: #1f77b4; fill-opacity: 0.7; stroke: #000000; stroke-opacity: 0.7\"/>\n     <use xlink:href=\"#mf2a8c82f2d\" x=\"87.617842\" y=\"264.684086\" style=\"fill: #1f77b4; fill-opacity: 0.7; stroke: #000000; stroke-opacity: 0.7\"/>\n     <use xlink:href=\"#mf2a8c82f2d\" x=\"88.904213\" y=\"263.752591\" style=\"fill: #1f77b4; fill-opacity: 0.7; stroke: #000000; stroke-opacity: 0.7\"/>\n     <use xlink:href=\"#mf2a8c82f2d\" x=\"113.831322\" y=\"238.806476\" style=\"fill: #1f77b4; fill-opacity: 0.7; stroke: #000000; stroke-opacity: 0.7\"/>\n     <use xlink:href=\"#mf2a8c82f2d\" x=\"107.305615\" y=\"246.939881\" style=\"fill: #1f77b4; fill-opacity: 0.7; stroke: #000000; stroke-opacity: 0.7\"/>\n     <use xlink:href=\"#mf2a8c82f2d\" x=\"109.045774\" y=\"258.874543\" style=\"fill: #1f77b4; fill-opacity: 0.7; stroke: #000000; stroke-opacity: 0.7\"/>\n     <use xlink:href=\"#mf2a8c82f2d\" x=\"109.733468\" y=\"255.84458\" style=\"fill: #1f77b4; fill-opacity: 0.7; stroke: #000000; stroke-opacity: 0.7\"/>\n     <use xlink:href=\"#mf2a8c82f2d\" x=\"283.655114\" y=\"212.12208\" style=\"fill: #1f77b4; fill-opacity: 0.7; stroke: #000000; stroke-opacity: 0.7\"/>\n     <use xlink:href=\"#mf2a8c82f2d\" x=\"87.977806\" y=\"265.959018\" style=\"fill: #1f77b4; fill-opacity: 0.7; stroke: #000000; stroke-opacity: 0.7\"/>\n     <use xlink:href=\"#mf2a8c82f2d\" x=\"86.310053\" y=\"264.885828\" style=\"fill: #1f77b4; fill-opacity: 0.7; stroke: #000000; stroke-opacity: 0.7\"/>\n     <use xlink:href=\"#mf2a8c82f2d\" x=\"82.420967\" y=\"265.618837\" style=\"fill: #1f77b4; fill-opacity: 0.7; stroke: #000000; stroke-opacity: 0.7\"/>\n     <use xlink:href=\"#mf2a8c82f2d\" x=\"117.536926\" y=\"255.059979\" style=\"fill: #1f77b4; fill-opacity: 0.7; stroke: #000000; stroke-opacity: 0.7\"/>\n     <use xlink:href=\"#mf2a8c82f2d\" x=\"148.481753\" y=\"242.601712\" style=\"fill: #1f77b4; fill-opacity: 0.7; stroke: #000000; stroke-opacity: 0.7\"/>\n     <use xlink:href=\"#mf2a8c82f2d\" x=\"93.619932\" y=\"268.158489\" style=\"fill: #1f77b4; fill-opacity: 0.7; stroke: #000000; stroke-opacity: 0.7\"/>\n     <use xlink:href=\"#mf2a8c82f2d\" x=\"82.133216\" y=\"267.685734\" style=\"fill: #1f77b4; fill-opacity: 0.7; stroke: #000000; stroke-opacity: 0.7\"/>\n     <use xlink:href=\"#mf2a8c82f2d\" x=\"82.30326\" y=\"268.868981\" style=\"fill: #1f77b4; fill-opacity: 0.7; stroke: #000000; stroke-opacity: 0.7\"/>\n     <use xlink:href=\"#mf2a8c82f2d\" x=\"119.162893\" y=\"253.22214\" style=\"fill: #1f77b4; fill-opacity: 0.7; stroke: #000000; stroke-opacity: 0.7\"/>\n     <use xlink:href=\"#mf2a8c82f2d\" x=\"123.803105\" y=\"253.679559\" style=\"fill: #1f77b4; fill-opacity: 0.7; stroke: #000000; stroke-opacity: 0.7\"/>\n     <use xlink:href=\"#mf2a8c82f2d\" x=\"114.294324\" y=\"252.797695\" style=\"fill: #1f77b4; fill-opacity: 0.7; stroke: #000000; stroke-opacity: 0.7\"/>\n     <use xlink:href=\"#mf2a8c82f2d\" x=\"84.187094\" y=\"269.377506\" style=\"fill: #1f77b4; fill-opacity: 0.7; stroke: #000000; stroke-opacity: 0.7\"/>\n     <use xlink:href=\"#mf2a8c82f2d\" x=\"102.821494\" y=\"263.605209\" style=\"fill: #1f77b4; fill-opacity: 0.7; stroke: #000000; stroke-opacity: 0.7\"/>\n     <use xlink:href=\"#mf2a8c82f2d\" x=\"99.39148\" y=\"251.672456\" style=\"fill: #1f77b4; fill-opacity: 0.7; stroke: #000000; stroke-opacity: 0.7\"/>\n     <use xlink:href=\"#mf2a8c82f2d\" x=\"102.4006\" y=\"263.010897\" style=\"fill: #1f77b4; fill-opacity: 0.7; stroke: #000000; stroke-opacity: 0.7\"/>\n     <use xlink:href=\"#mf2a8c82f2d\" x=\"130.973396\" y=\"252.779\" style=\"fill: #1f77b4; fill-opacity: 0.7; stroke: #000000; stroke-opacity: 0.7\"/>\n     <use xlink:href=\"#mf2a8c82f2d\" x=\"102.553239\" y=\"250.485225\" style=\"fill: #1f77b4; fill-opacity: 0.7; stroke: #000000; stroke-opacity: 0.7\"/>\n     <use xlink:href=\"#mf2a8c82f2d\" x=\"120.535771\" y=\"231.03892\" style=\"fill: #1f77b4; fill-opacity: 0.7; stroke: #000000; stroke-opacity: 0.7\"/>\n     <use xlink:href=\"#mf2a8c82f2d\" x=\"98.048681\" y=\"263.951758\" style=\"fill: #1f77b4; fill-opacity: 0.7; stroke: #000000; stroke-opacity: 0.7\"/>\n     <use xlink:href=\"#mf2a8c82f2d\" x=\"104.664906\" y=\"258.39554\" style=\"fill: #1f77b4; fill-opacity: 0.7; stroke: #000000; stroke-opacity: 0.7\"/>\n     <use xlink:href=\"#mf2a8c82f2d\" x=\"118.249122\" y=\"248.361684\" style=\"fill: #1f77b4; fill-opacity: 0.7; stroke: #000000; stroke-opacity: 0.7\"/>\n     <use xlink:href=\"#mf2a8c82f2d\" x=\"77.177455\" y=\"268.515056\" style=\"fill: #1f77b4; fill-opacity: 0.7; stroke: #000000; stroke-opacity: 0.7\"/>\n     <use xlink:href=\"#mf2a8c82f2d\" x=\"89.482751\" y=\"266.2815\" style=\"fill: #1f77b4; fill-opacity: 0.7; stroke: #000000; stroke-opacity: 0.7\"/>\n     <use xlink:href=\"#mf2a8c82f2d\" x=\"86.94887\" y=\"265.677624\" style=\"fill: #1f77b4; fill-opacity: 0.7; stroke: #000000; stroke-opacity: 0.7\"/>\n     <use xlink:href=\"#mf2a8c82f2d\" x=\"84.533021\" y=\"265.018069\" style=\"fill: #1f77b4; fill-opacity: 0.7; stroke: #000000; stroke-opacity: 0.7\"/>\n     <use xlink:href=\"#mf2a8c82f2d\" x=\"90.307515\" y=\"262.54815\" style=\"fill: #1f77b4; fill-opacity: 0.7; stroke: #000000; stroke-opacity: 0.7\"/>\n     <use xlink:href=\"#mf2a8c82f2d\" x=\"182.558211\" y=\"225.411653\" style=\"fill: #1f77b4; fill-opacity: 0.7; stroke: #000000; stroke-opacity: 0.7\"/>\n     <use xlink:href=\"#mf2a8c82f2d\" x=\"81.860394\" y=\"267.770085\" style=\"fill: #1f77b4; fill-opacity: 0.7; stroke: #000000; stroke-opacity: 0.7\"/>\n     <use xlink:href=\"#mf2a8c82f2d\" x=\"137.034732\" y=\"253.108244\" style=\"fill: #1f77b4; fill-opacity: 0.7; stroke: #000000; stroke-opacity: 0.7\"/>\n     <use xlink:href=\"#mf2a8c82f2d\" x=\"76.004056\" y=\"270.496194\" style=\"fill: #1f77b4; fill-opacity: 0.7; stroke: #000000; stroke-opacity: 0.7\"/>\n     <use xlink:href=\"#mf2a8c82f2d\" x=\"89.209274\" y=\"264.72982\" style=\"fill: #1f77b4; fill-opacity: 0.7; stroke: #000000; stroke-opacity: 0.7\"/>\n     <use xlink:href=\"#mf2a8c82f2d\" x=\"100.712543\" y=\"257.818328\" style=\"fill: #1f77b4; fill-opacity: 0.7; stroke: #000000; stroke-opacity: 0.7\"/>\n     <use xlink:href=\"#mf2a8c82f2d\" x=\"116.183374\" y=\"254.575201\" style=\"fill: #1f77b4; fill-opacity: 0.7; stroke: #000000; stroke-opacity: 0.7\"/>\n     <use xlink:href=\"#mf2a8c82f2d\" x=\"122.150409\" y=\"245.503935\" style=\"fill: #1f77b4; fill-opacity: 0.7; stroke: #000000; stroke-opacity: 0.7\"/>\n     <use xlink:href=\"#mf2a8c82f2d\" x=\"126.496533\" y=\"239.368653\" style=\"fill: #1f77b4; fill-opacity: 0.7; stroke: #000000; stroke-opacity: 0.7\"/>\n     <use xlink:href=\"#mf2a8c82f2d\" x=\"88.964079\" y=\"263.886634\" style=\"fill: #1f77b4; fill-opacity: 0.7; stroke: #000000; stroke-opacity: 0.7\"/>\n     <use xlink:href=\"#mf2a8c82f2d\" x=\"87.074328\" y=\"264.42143\" style=\"fill: #1f77b4; fill-opacity: 0.7; stroke: #000000; stroke-opacity: 0.7\"/>\n     <use xlink:href=\"#mf2a8c82f2d\" x=\"130.176928\" y=\"244.381496\" style=\"fill: #1f77b4; fill-opacity: 0.7; stroke: #000000; stroke-opacity: 0.7\"/>\n     <use xlink:href=\"#mf2a8c82f2d\" x=\"91.963643\" y=\"262.820692\" style=\"fill: #1f77b4; fill-opacity: 0.7; stroke: #000000; stroke-opacity: 0.7\"/>\n     <use xlink:href=\"#mf2a8c82f2d\" x=\"78.332992\" y=\"269.898939\" style=\"fill: #1f77b4; fill-opacity: 0.7; stroke: #000000; stroke-opacity: 0.7\"/>\n     <use xlink:href=\"#mf2a8c82f2d\" x=\"79.398571\" y=\"268.426951\" style=\"fill: #1f77b4; fill-opacity: 0.7; stroke: #000000; stroke-opacity: 0.7\"/>\n     <use xlink:href=\"#mf2a8c82f2d\" x=\"81.312707\" y=\"267.972711\" style=\"fill: #1f77b4; fill-opacity: 0.7; stroke: #000000; stroke-opacity: 0.7\"/>\n     <use xlink:href=\"#mf2a8c82f2d\" x=\"112.3648\" y=\"242.199571\" style=\"fill: #1f77b4; fill-opacity: 0.7; stroke: #000000; stroke-opacity: 0.7\"/>\n     <use xlink:href=\"#mf2a8c82f2d\" x=\"100.122111\" y=\"253.175462\" style=\"fill: #1f77b4; fill-opacity: 0.7; stroke: #000000; stroke-opacity: 0.7\"/>\n     <use xlink:href=\"#mf2a8c82f2d\" x=\"121.10801\" y=\"246.60488\" style=\"fill: #1f77b4; fill-opacity: 0.7; stroke: #000000; stroke-opacity: 0.7\"/>\n     <use xlink:href=\"#mf2a8c82f2d\" x=\"87.635321\" y=\"266.453839\" style=\"fill: #1f77b4; fill-opacity: 0.7; stroke: #000000; stroke-opacity: 0.7\"/>\n     <use xlink:href=\"#mf2a8c82f2d\" x=\"100.589173\" y=\"262.912324\" style=\"fill: #1f77b4; fill-opacity: 0.7; stroke: #000000; stroke-opacity: 0.7\"/>\n     <use xlink:href=\"#mf2a8c82f2d\" x=\"117.982773\" y=\"243.426748\" style=\"fill: #1f77b4; fill-opacity: 0.7; stroke: #000000; stroke-opacity: 0.7\"/>\n     <use xlink:href=\"#mf2a8c82f2d\" x=\"89.670727\" y=\"263.287425\" style=\"fill: #1f77b4; fill-opacity: 0.7; stroke: #000000; stroke-opacity: 0.7\"/>\n     <use xlink:href=\"#mf2a8c82f2d\" x=\"110.742193\" y=\"251.534943\" style=\"fill: #1f77b4; fill-opacity: 0.7; stroke: #000000; stroke-opacity: 0.7\"/>\n     <use xlink:href=\"#mf2a8c82f2d\" x=\"84.23311\" y=\"269.344491\" style=\"fill: #1f77b4; fill-opacity: 0.7; stroke: #000000; stroke-opacity: 0.7\"/>\n     <use xlink:href=\"#mf2a8c82f2d\" x=\"88.713777\" y=\"262.294798\" style=\"fill: #1f77b4; fill-opacity: 0.7; stroke: #000000; stroke-opacity: 0.7\"/>\n     <use xlink:href=\"#mf2a8c82f2d\" x=\"88.392735\" y=\"263.51582\" style=\"fill: #1f77b4; fill-opacity: 0.7; stroke: #000000; stroke-opacity: 0.7\"/>\n     <use xlink:href=\"#mf2a8c82f2d\" x=\"78.911755\" y=\"270.054853\" style=\"fill: #1f77b4; fill-opacity: 0.7; stroke: #000000; stroke-opacity: 0.7\"/>\n     <use xlink:href=\"#mf2a8c82f2d\" x=\"111.949255\" y=\"255.837234\" style=\"fill: #1f77b4; fill-opacity: 0.7; stroke: #000000; stroke-opacity: 0.7\"/>\n     <use xlink:href=\"#mf2a8c82f2d\" x=\"86.963994\" y=\"264.654329\" style=\"fill: #1f77b4; fill-opacity: 0.7; stroke: #000000; stroke-opacity: 0.7\"/>\n     <use xlink:href=\"#mf2a8c82f2d\" x=\"96.618835\" y=\"260.4537\" style=\"fill: #1f77b4; fill-opacity: 0.7; stroke: #000000; stroke-opacity: 0.7\"/>\n     <use xlink:href=\"#mf2a8c82f2d\" x=\"111.697402\" y=\"255.014503\" style=\"fill: #1f77b4; fill-opacity: 0.7; stroke: #000000; stroke-opacity: 0.7\"/>\n     <use xlink:href=\"#mf2a8c82f2d\" x=\"110.340922\" y=\"254.662265\" style=\"fill: #1f77b4; fill-opacity: 0.7; stroke: #000000; stroke-opacity: 0.7\"/>\n     <use xlink:href=\"#mf2a8c82f2d\" x=\"119.875114\" y=\"251.210432\" style=\"fill: #1f77b4; fill-opacity: 0.7; stroke: #000000; stroke-opacity: 0.7\"/>\n     <use xlink:href=\"#mf2a8c82f2d\" x=\"93.966632\" y=\"261.433825\" style=\"fill: #1f77b4; fill-opacity: 0.7; stroke: #000000; stroke-opacity: 0.7\"/>\n     <use xlink:href=\"#mf2a8c82f2d\" x=\"87.699766\" y=\"261.756002\" style=\"fill: #1f77b4; fill-opacity: 0.7; stroke: #000000; stroke-opacity: 0.7\"/>\n     <use xlink:href=\"#mf2a8c82f2d\" x=\"94.394711\" y=\"269.242591\" style=\"fill: #1f77b4; fill-opacity: 0.7; stroke: #000000; stroke-opacity: 0.7\"/>\n     <use xlink:href=\"#mf2a8c82f2d\" x=\"75.983413\" y=\"270.504527\" style=\"fill: #1f77b4; fill-opacity: 0.7; stroke: #000000; stroke-opacity: 0.7\"/>\n     <use xlink:href=\"#mf2a8c82f2d\" x=\"77.236074\" y=\"269.64062\" style=\"fill: #1f77b4; fill-opacity: 0.7; stroke: #000000; stroke-opacity: 0.7\"/>\n     <use xlink:href=\"#mf2a8c82f2d\" x=\"78.013219\" y=\"269.154525\" style=\"fill: #1f77b4; fill-opacity: 0.7; stroke: #000000; stroke-opacity: 0.7\"/>\n     <use xlink:href=\"#mf2a8c82f2d\" x=\"80.568547\" y=\"268.638287\" style=\"fill: #1f77b4; fill-opacity: 0.7; stroke: #000000; stroke-opacity: 0.7\"/>\n     <use xlink:href=\"#mf2a8c82f2d\" x=\"108.560708\" y=\"263.354251\" style=\"fill: #1f77b4; fill-opacity: 0.7; stroke: #000000; stroke-opacity: 0.7\"/>\n     <use xlink:href=\"#mf2a8c82f2d\" x=\"81.452612\" y=\"267.359197\" style=\"fill: #1f77b4; fill-opacity: 0.7; stroke: #000000; stroke-opacity: 0.7\"/>\n     <use xlink:href=\"#mf2a8c82f2d\" x=\"88.453705\" y=\"260.698145\" style=\"fill: #1f77b4; fill-opacity: 0.7; stroke: #000000; stroke-opacity: 0.7\"/>\n     <use xlink:href=\"#mf2a8c82f2d\" x=\"162.79432\" y=\"247.345921\" style=\"fill: #1f77b4; fill-opacity: 0.7; stroke: #000000; stroke-opacity: 0.7\"/>\n     <use xlink:href=\"#mf2a8c82f2d\" x=\"88.831939\" y=\"262.367251\" style=\"fill: #1f77b4; fill-opacity: 0.7; stroke: #000000; stroke-opacity: 0.7\"/>\n     <use xlink:href=\"#mf2a8c82f2d\" x=\"123.503074\" y=\"250.12604\" style=\"fill: #1f77b4; fill-opacity: 0.7; stroke: #000000; stroke-opacity: 0.7\"/>\n     <use xlink:href=\"#mf2a8c82f2d\" x=\"81.172859\" y=\"267.991832\" style=\"fill: #1f77b4; fill-opacity: 0.7; stroke: #000000; stroke-opacity: 0.7\"/>\n     <use xlink:href=\"#mf2a8c82f2d\" x=\"91.674636\" y=\"265.695602\" style=\"fill: #1f77b4; fill-opacity: 0.7; stroke: #000000; stroke-opacity: 0.7\"/>\n     <use xlink:href=\"#mf2a8c82f2d\" x=\"81.013362\" y=\"268.403229\" style=\"fill: #1f77b4; fill-opacity: 0.7; stroke: #000000; stroke-opacity: 0.7\"/>\n     <use xlink:href=\"#mf2a8c82f2d\" x=\"89.135429\" y=\"261.197815\" style=\"fill: #1f77b4; fill-opacity: 0.7; stroke: #000000; stroke-opacity: 0.7\"/>\n     <use xlink:href=\"#mf2a8c82f2d\" x=\"129.147069\" y=\"240.956206\" style=\"fill: #1f77b4; fill-opacity: 0.7; stroke: #000000; stroke-opacity: 0.7\"/>\n     <use xlink:href=\"#mf2a8c82f2d\" x=\"75.802585\" y=\"269.46645\" style=\"fill: #1f77b4; fill-opacity: 0.7; stroke: #000000; stroke-opacity: 0.7\"/>\n     <use xlink:href=\"#mf2a8c82f2d\" x=\"109.871926\" y=\"248.560727\" style=\"fill: #1f77b4; fill-opacity: 0.7; stroke: #000000; stroke-opacity: 0.7\"/>\n     <use xlink:href=\"#mf2a8c82f2d\" x=\"102.997303\" y=\"255.83363\" style=\"fill: #1f77b4; fill-opacity: 0.7; stroke: #000000; stroke-opacity: 0.7\"/>\n     <use xlink:href=\"#mf2a8c82f2d\" x=\"85.135136\" y=\"262.969696\" style=\"fill: #1f77b4; fill-opacity: 0.7; stroke: #000000; stroke-opacity: 0.7\"/>\n     <use xlink:href=\"#mf2a8c82f2d\" x=\"77.242264\" y=\"269.440139\" style=\"fill: #1f77b4; fill-opacity: 0.7; stroke: #000000; stroke-opacity: 0.7\"/>\n     <use xlink:href=\"#mf2a8c82f2d\" x=\"98.170357\" y=\"257.04874\" style=\"fill: #1f77b4; fill-opacity: 0.7; stroke: #000000; stroke-opacity: 0.7\"/>\n     <use xlink:href=\"#mf2a8c82f2d\" x=\"86.054549\" y=\"266.168177\" style=\"fill: #1f77b4; fill-opacity: 0.7; stroke: #000000; stroke-opacity: 0.7\"/>\n     <use xlink:href=\"#mf2a8c82f2d\" x=\"102.837692\" y=\"257.419476\" style=\"fill: #1f77b4; fill-opacity: 0.7; stroke: #000000; stroke-opacity: 0.7\"/>\n     <use xlink:href=\"#mf2a8c82f2d\" x=\"96.856223\" y=\"262.787959\" style=\"fill: #1f77b4; fill-opacity: 0.7; stroke: #000000; stroke-opacity: 0.7\"/>\n     <use xlink:href=\"#mf2a8c82f2d\" x=\"195.095061\" y=\"198.454372\" style=\"fill: #1f77b4; fill-opacity: 0.7; stroke: #000000; stroke-opacity: 0.7\"/>\n     <use xlink:href=\"#mf2a8c82f2d\" x=\"90.997494\" y=\"266.239199\" style=\"fill: #1f77b4; fill-opacity: 0.7; stroke: #000000; stroke-opacity: 0.7\"/>\n     <use xlink:href=\"#mf2a8c82f2d\" x=\"80.330223\" y=\"267.414747\" style=\"fill: #1f77b4; fill-opacity: 0.7; stroke: #000000; stroke-opacity: 0.7\"/>\n     <use xlink:href=\"#mf2a8c82f2d\" x=\"101.201383\" y=\"259.188589\" style=\"fill: #1f77b4; fill-opacity: 0.7; stroke: #000000; stroke-opacity: 0.7\"/>\n     <use xlink:href=\"#mf2a8c82f2d\" x=\"102.441217\" y=\"253.213624\" style=\"fill: #1f77b4; fill-opacity: 0.7; stroke: #000000; stroke-opacity: 0.7\"/>\n     <use xlink:href=\"#mf2a8c82f2d\" x=\"168.443725\" y=\"217.381587\" style=\"fill: #1f77b4; fill-opacity: 0.7; stroke: #000000; stroke-opacity: 0.7\"/>\n     <use xlink:href=\"#mf2a8c82f2d\" x=\"128.847587\" y=\"232.00591\" style=\"fill: #1f77b4; fill-opacity: 0.7; stroke: #000000; stroke-opacity: 0.7\"/>\n     <use xlink:href=\"#mf2a8c82f2d\" x=\"106.998856\" y=\"252.388491\" style=\"fill: #1f77b4; fill-opacity: 0.7; stroke: #000000; stroke-opacity: 0.7\"/>\n     <use xlink:href=\"#mf2a8c82f2d\" x=\"179.095461\" y=\"243.38013\" style=\"fill: #1f77b4; fill-opacity: 0.7; stroke: #000000; stroke-opacity: 0.7\"/>\n     <use xlink:href=\"#mf2a8c82f2d\" x=\"78.965314\" y=\"269.022066\" style=\"fill: #1f77b4; fill-opacity: 0.7; stroke: #000000; stroke-opacity: 0.7\"/>\n     <use xlink:href=\"#mf2a8c82f2d\" x=\"84.521526\" y=\"268.308287\" style=\"fill: #1f77b4; fill-opacity: 0.7; stroke: #000000; stroke-opacity: 0.7\"/>\n     <use xlink:href=\"#mf2a8c82f2d\" x=\"81.242131\" y=\"268.537472\" style=\"fill: #1f77b4; fill-opacity: 0.7; stroke: #000000; stroke-opacity: 0.7\"/>\n     <use xlink:href=\"#mf2a8c82f2d\" x=\"88.255883\" y=\"261.302725\" style=\"fill: #1f77b4; fill-opacity: 0.7; stroke: #000000; stroke-opacity: 0.7\"/>\n     <use xlink:href=\"#mf2a8c82f2d\" x=\"77.664089\" y=\"269.057237\" style=\"fill: #1f77b4; fill-opacity: 0.7; stroke: #000000; stroke-opacity: 0.7\"/>\n     <use xlink:href=\"#mf2a8c82f2d\" x=\"118.430553\" y=\"254.539827\" style=\"fill: #1f77b4; fill-opacity: 0.7; stroke: #000000; stroke-opacity: 0.7\"/>\n     <use xlink:href=\"#mf2a8c82f2d\" x=\"91.336666\" y=\"265.709365\" style=\"fill: #1f77b4; fill-opacity: 0.7; stroke: #000000; stroke-opacity: 0.7\"/>\n     <use xlink:href=\"#mf2a8c82f2d\" x=\"77.09872\" y=\"269.814026\" style=\"fill: #1f77b4; fill-opacity: 0.7; stroke: #000000; stroke-opacity: 0.7\"/>\n     <use xlink:href=\"#mf2a8c82f2d\" x=\"80.401455\" y=\"269.686268\" style=\"fill: #1f77b4; fill-opacity: 0.7; stroke: #000000; stroke-opacity: 0.7\"/>\n     <use xlink:href=\"#mf2a8c82f2d\" x=\"105.487102\" y=\"259.369779\" style=\"fill: #1f77b4; fill-opacity: 0.7; stroke: #000000; stroke-opacity: 0.7\"/>\n     <use xlink:href=\"#mf2a8c82f2d\" x=\"129.021161\" y=\"243.023534\" style=\"fill: #1f77b4; fill-opacity: 0.7; stroke: #000000; stroke-opacity: 0.7\"/>\n     <use xlink:href=\"#mf2a8c82f2d\" x=\"255.016664\" y=\"158.67432\" style=\"fill: #1f77b4; fill-opacity: 0.7; stroke: #000000; stroke-opacity: 0.7\"/>\n     <use xlink:href=\"#mf2a8c82f2d\" x=\"530.872727\" y=\"19.8\" style=\"fill: #1f77b4; fill-opacity: 0.7; stroke: #000000; stroke-opacity: 0.7\"/>\n     <use xlink:href=\"#mf2a8c82f2d\" x=\"109.109003\" y=\"265.802758\" style=\"fill: #1f77b4; fill-opacity: 0.7; stroke: #000000; stroke-opacity: 0.7\"/>\n     <use xlink:href=\"#mf2a8c82f2d\" x=\"80.639729\" y=\"267.805132\" style=\"fill: #1f77b4; fill-opacity: 0.7; stroke: #000000; stroke-opacity: 0.7\"/>\n     <use xlink:href=\"#mf2a8c82f2d\" x=\"74.327273\" y=\"271.119091\" style=\"fill: #1f77b4; fill-opacity: 0.7; stroke: #000000; stroke-opacity: 0.7\"/>\n     <use xlink:href=\"#mf2a8c82f2d\" x=\"103.959708\" y=\"255.430364\" style=\"fill: #1f77b4; fill-opacity: 0.7; stroke: #000000; stroke-opacity: 0.7\"/>\n     <use xlink:href=\"#mf2a8c82f2d\" x=\"82.430161\" y=\"265.031759\" style=\"fill: #1f77b4; fill-opacity: 0.7; stroke: #000000; stroke-opacity: 0.7\"/>\n     <use xlink:href=\"#mf2a8c82f2d\" x=\"87.829958\" y=\"269.122081\" style=\"fill: #1f77b4; fill-opacity: 0.7; stroke: #000000; stroke-opacity: 0.7\"/>\n     <use xlink:href=\"#mf2a8c82f2d\" x=\"84.890301\" y=\"267.183597\" style=\"fill: #1f77b4; fill-opacity: 0.7; stroke: #000000; stroke-opacity: 0.7\"/>\n     <use xlink:href=\"#mf2a8c82f2d\" x=\"93.030615\" y=\"260.677848\" style=\"fill: #1f77b4; fill-opacity: 0.7; stroke: #000000; stroke-opacity: 0.7\"/>\n     <use xlink:href=\"#mf2a8c82f2d\" x=\"143.774158\" y=\"253.030525\" style=\"fill: #1f77b4; fill-opacity: 0.7; stroke: #000000; stroke-opacity: 0.7\"/>\n     <use xlink:href=\"#mf2a8c82f2d\" x=\"100.545636\" y=\"253.25418\" style=\"fill: #1f77b4; fill-opacity: 0.7; stroke: #000000; stroke-opacity: 0.7\"/>\n     <use xlink:href=\"#mf2a8c82f2d\" x=\"92.647534\" y=\"261.494194\" style=\"fill: #1f77b4; fill-opacity: 0.7; stroke: #000000; stroke-opacity: 0.7\"/>\n     <use xlink:href=\"#mf2a8c82f2d\" x=\"80.221961\" y=\"267.403875\" style=\"fill: #1f77b4; fill-opacity: 0.7; stroke: #000000; stroke-opacity: 0.7\"/>\n     <use xlink:href=\"#mf2a8c82f2d\" x=\"76.042149\" y=\"270.678509\" style=\"fill: #1f77b4; fill-opacity: 0.7; stroke: #000000; stroke-opacity: 0.7\"/>\n     <use xlink:href=\"#mf2a8c82f2d\" x=\"86.702586\" y=\"263.706353\" style=\"fill: #1f77b4; fill-opacity: 0.7; stroke: #000000; stroke-opacity: 0.7\"/>\n     <use xlink:href=\"#mf2a8c82f2d\" x=\"94.999681\" y=\"258.153911\" style=\"fill: #1f77b4; fill-opacity: 0.7; stroke: #000000; stroke-opacity: 0.7\"/>\n     <use xlink:href=\"#mf2a8c82f2d\" x=\"217.458523\" y=\"199.222031\" style=\"fill: #1f77b4; fill-opacity: 0.7; stroke: #000000; stroke-opacity: 0.7\"/>\n     <use xlink:href=\"#mf2a8c82f2d\" x=\"99.774853\" y=\"258.280743\" style=\"fill: #1f77b4; fill-opacity: 0.7; stroke: #000000; stroke-opacity: 0.7\"/>\n     <use xlink:href=\"#mf2a8c82f2d\" x=\"137.991218\" y=\"238.786179\" style=\"fill: #1f77b4; fill-opacity: 0.7; stroke: #000000; stroke-opacity: 0.7\"/>\n     <use xlink:href=\"#mf2a8c82f2d\" x=\"86.50474\" y=\"267.071455\" style=\"fill: #1f77b4; fill-opacity: 0.7; stroke: #000000; stroke-opacity: 0.7\"/>\n     <use xlink:href=\"#mf2a8c82f2d\" x=\"78.994377\" y=\"269.087281\" style=\"fill: #1f77b4; fill-opacity: 0.7; stroke: #000000; stroke-opacity: 0.7\"/>\n     <use xlink:href=\"#mf2a8c82f2d\" x=\"80.868893\" y=\"268.24389\" style=\"fill: #1f77b4; fill-opacity: 0.7; stroke: #000000; stroke-opacity: 0.7\"/>\n     <use xlink:href=\"#mf2a8c82f2d\" x=\"83.444115\" y=\"266.249746\" style=\"fill: #1f77b4; fill-opacity: 0.7; stroke: #000000; stroke-opacity: 0.7\"/>\n     <use xlink:href=\"#mf2a8c82f2d\" x=\"280.876001\" y=\"146.812937\" style=\"fill: #1f77b4; fill-opacity: 0.7; stroke: #000000; stroke-opacity: 0.7\"/>\n     <use xlink:href=\"#mf2a8c82f2d\" x=\"82.337146\" y=\"268.852148\" style=\"fill: #1f77b4; fill-opacity: 0.7; stroke: #000000; stroke-opacity: 0.7\"/>\n     <use xlink:href=\"#mf2a8c82f2d\" x=\"129.042072\" y=\"246.24102\" style=\"fill: #1f77b4; fill-opacity: 0.7; stroke: #000000; stroke-opacity: 0.7\"/>\n     <use xlink:href=\"#mf2a8c82f2d\" x=\"81.478375\" y=\"265.852559\" style=\"fill: #1f77b4; fill-opacity: 0.7; stroke: #000000; stroke-opacity: 0.7\"/>\n     <use xlink:href=\"#mf2a8c82f2d\" x=\"134.668187\" y=\"248.690339\" style=\"fill: #1f77b4; fill-opacity: 0.7; stroke: #000000; stroke-opacity: 0.7\"/>\n     <use xlink:href=\"#mf2a8c82f2d\" x=\"108.013488\" y=\"259.103566\" style=\"fill: #1f77b4; fill-opacity: 0.7; stroke: #000000; stroke-opacity: 0.7\"/>\n     <use xlink:href=\"#mf2a8c82f2d\" x=\"92.690066\" y=\"261.925551\" style=\"fill: #1f77b4; fill-opacity: 0.7; stroke: #000000; stroke-opacity: 0.7\"/>\n     <use xlink:href=\"#mf2a8c82f2d\" x=\"95.309351\" y=\"258.65245\" style=\"fill: #1f77b4; fill-opacity: 0.7; stroke: #000000; stroke-opacity: 0.7\"/>\n     <use xlink:href=\"#mf2a8c82f2d\" x=\"84.325258\" y=\"266.407746\" style=\"fill: #1f77b4; fill-opacity: 0.7; stroke: #000000; stroke-opacity: 0.7\"/>\n     <use xlink:href=\"#mf2a8c82f2d\" x=\"110.323039\" y=\"247.523628\" style=\"fill: #1f77b4; fill-opacity: 0.7; stroke: #000000; stroke-opacity: 0.7\"/>\n     <use xlink:href=\"#mf2a8c82f2d\" x=\"87.190469\" y=\"263.337996\" style=\"fill: #1f77b4; fill-opacity: 0.7; stroke: #000000; stroke-opacity: 0.7\"/>\n     <use xlink:href=\"#mf2a8c82f2d\" x=\"78.690577\" y=\"268.297304\" style=\"fill: #1f77b4; fill-opacity: 0.7; stroke: #000000; stroke-opacity: 0.7\"/>\n     <use xlink:href=\"#mf2a8c82f2d\" x=\"78.317334\" y=\"268.769749\" style=\"fill: #1f77b4; fill-opacity: 0.7; stroke: #000000; stroke-opacity: 0.7\"/>\n     <use xlink:href=\"#mf2a8c82f2d\" x=\"101.002546\" y=\"249.719521\" style=\"fill: #1f77b4; fill-opacity: 0.7; stroke: #000000; stroke-opacity: 0.7\"/>\n     <use xlink:href=\"#mf2a8c82f2d\" x=\"192.319637\" y=\"218.624962\" style=\"fill: #1f77b4; fill-opacity: 0.7; stroke: #000000; stroke-opacity: 0.7\"/>\n     <use xlink:href=\"#mf2a8c82f2d\" x=\"100.631627\" y=\"266.238155\" style=\"fill: #1f77b4; fill-opacity: 0.7; stroke: #000000; stroke-opacity: 0.7\"/>\n     <use xlink:href=\"#mf2a8c82f2d\" x=\"93.515805\" y=\"257.537714\" style=\"fill: #1f77b4; fill-opacity: 0.7; stroke: #000000; stroke-opacity: 0.7\"/>\n     <use xlink:href=\"#mf2a8c82f2d\" x=\"104.555438\" y=\"258.822262\" style=\"fill: #1f77b4; fill-opacity: 0.7; stroke: #000000; stroke-opacity: 0.7\"/>\n     <use xlink:href=\"#mf2a8c82f2d\" x=\"163.415679\" y=\"227.819258\" style=\"fill: #1f77b4; fill-opacity: 0.7; stroke: #000000; stroke-opacity: 0.7\"/>\n     <use xlink:href=\"#mf2a8c82f2d\" x=\"102.42214\" y=\"252.675421\" style=\"fill: #1f77b4; fill-opacity: 0.7; stroke: #000000; stroke-opacity: 0.7\"/>\n     <use xlink:href=\"#mf2a8c82f2d\" x=\"87.903037\" y=\"268.130725\" style=\"fill: #1f77b4; fill-opacity: 0.7; stroke: #000000; stroke-opacity: 0.7\"/>\n     <use xlink:href=\"#mf2a8c82f2d\" x=\"146.752274\" y=\"249.042245\" style=\"fill: #1f77b4; fill-opacity: 0.7; stroke: #000000; stroke-opacity: 0.7\"/>\n     <use xlink:href=\"#mf2a8c82f2d\" x=\"109.654346\" y=\"262.321829\" style=\"fill: #1f77b4; fill-opacity: 0.7; stroke: #000000; stroke-opacity: 0.7\"/>\n     <use xlink:href=\"#mf2a8c82f2d\" x=\"187.190202\" y=\"229.648842\" style=\"fill: #1f77b4; fill-opacity: 0.7; stroke: #000000; stroke-opacity: 0.7\"/>\n     <use xlink:href=\"#mf2a8c82f2d\" x=\"101.319714\" y=\"256.717794\" style=\"fill: #1f77b4; fill-opacity: 0.7; stroke: #000000; stroke-opacity: 0.7\"/>\n     <use xlink:href=\"#mf2a8c82f2d\" x=\"78.698903\" y=\"268.590638\" style=\"fill: #1f77b4; fill-opacity: 0.7; stroke: #000000; stroke-opacity: 0.7\"/>\n     <use xlink:href=\"#mf2a8c82f2d\" x=\"77.717987\" y=\"269.32112\" style=\"fill: #1f77b4; fill-opacity: 0.7; stroke: #000000; stroke-opacity: 0.7\"/>\n     <use xlink:href=\"#mf2a8c82f2d\" x=\"201.32794\" y=\"234.710396\" style=\"fill: #1f77b4; fill-opacity: 0.7; stroke: #000000; stroke-opacity: 0.7\"/>\n     <use xlink:href=\"#mf2a8c82f2d\" x=\"211.133065\" y=\"247.919623\" style=\"fill: #1f77b4; fill-opacity: 0.7; stroke: #000000; stroke-opacity: 0.7\"/>\n     <use xlink:href=\"#mf2a8c82f2d\" x=\"92.207776\" y=\"262.560601\" style=\"fill: #1f77b4; fill-opacity: 0.7; stroke: #000000; stroke-opacity: 0.7\"/>\n     <use xlink:href=\"#mf2a8c82f2d\" x=\"88.36808\" y=\"265.54538\" style=\"fill: #1f77b4; fill-opacity: 0.7; stroke: #000000; stroke-opacity: 0.7\"/>\n     <use xlink:href=\"#mf2a8c82f2d\" x=\"178.895429\" y=\"215.456935\" style=\"fill: #1f77b4; fill-opacity: 0.7; stroke: #000000; stroke-opacity: 0.7\"/>\n     <use xlink:href=\"#mf2a8c82f2d\" x=\"79.61204\" y=\"267.910613\" style=\"fill: #1f77b4; fill-opacity: 0.7; stroke: #000000; stroke-opacity: 0.7\"/>\n     <use xlink:href=\"#mf2a8c82f2d\" x=\"81.561605\" y=\"267.550866\" style=\"fill: #1f77b4; fill-opacity: 0.7; stroke: #000000; stroke-opacity: 0.7\"/>\n     <use xlink:href=\"#mf2a8c82f2d\" x=\"118.816889\" y=\"245.525057\" style=\"fill: #1f77b4; fill-opacity: 0.7; stroke: #000000; stroke-opacity: 0.7\"/>\n     <use xlink:href=\"#mf2a8c82f2d\" x=\"88.175104\" y=\"264.115974\" style=\"fill: #1f77b4; fill-opacity: 0.7; stroke: #000000; stroke-opacity: 0.7\"/>\n     <use xlink:href=\"#mf2a8c82f2d\" x=\"96.177948\" y=\"259.147227\" style=\"fill: #1f77b4; fill-opacity: 0.7; stroke: #000000; stroke-opacity: 0.7\"/>\n     <use xlink:href=\"#mf2a8c82f2d\" x=\"92.545476\" y=\"264.457487\" style=\"fill: #1f77b4; fill-opacity: 0.7; stroke: #000000; stroke-opacity: 0.7\"/>\n    </g>\n   </g>\n  </g>\n </g>\n <defs>\n  <clipPath id=\"p940ac27488\">\n   <rect x=\"51.5\" y=\"7.2\" width=\"502.2\" height=\"277.2\"/>\n  </clipPath>\n </defs>\n</svg>\n"
     },
     "metadata": {},
     "output_type": "display_data"
    }
   ],
   "execution_count": 32
  },
  {
   "cell_type": "markdown",
   "metadata": {},
   "source": [
    "**To do**\n",
    "1. Change the scale on the x-axis to logarithmic\n",
    "2. Change the scale on the y-axis to logarithmic\n",
    "3. Plot the same data with both axes on a logarithmic scale"
   ]
  },
  {
   "cell_type": "code",
   "metadata": {
    "ExecuteTime": {
     "end_time": "2025-03-18T13:43:39.818677Z",
     "start_time": "2025-03-18T13:43:39.685351Z"
    }
   },
   "source": [
    "fig, ax = plt.subplots(figsize = (9, 5))\n",
    "\n",
    "# Add scatterplot\n",
    "ax.scatter(x, y, s=60, alpha=0.7, edgecolors=\"k\")\n",
    "\n",
    "ax.set_xlabel('x', fontsize=16)\n",
    "ax.set_ylabel('y', fontsize=16)\n",
    "ax.set_xscale('log')\n",
    "ax.set_yscale('log')\n",
    "# Enable minor and major gridlines\n",
    "ax.grid(True, which='both')\n",
    "\n",
    "ax.spines[:].set_visible(False)\n",
    "ax.tick_params(bottom=False, left=False, labelsize=14)\n",
    "ax.set_axisbelow(True)\n",
    "\n",
    "plt.show()"
   ],
   "outputs": [
    {
     "data": {
      "text/plain": [
       "<Figure size 900x500 with 1 Axes>"
      ],
      "image/svg+xml": "<?xml version=\"1.0\" encoding=\"utf-8\" standalone=\"no\"?>\n<!DOCTYPE svg PUBLIC \"-//W3C//DTD SVG 1.1//EN\"\n  \"http://www.w3.org/Graphics/SVG/1.1/DTD/svg11.dtd\">\n<svg xmlns:xlink=\"http://www.w3.org/1999/xlink\" width=\"575.985pt\" height=\"331.634375pt\" viewBox=\"0 0 575.985 331.634375\" xmlns=\"http://www.w3.org/2000/svg\" version=\"1.1\">\n <metadata>\n  <rdf:RDF xmlns:dc=\"http://purl.org/dc/elements/1.1/\" xmlns:cc=\"http://creativecommons.org/ns#\" xmlns:rdf=\"http://www.w3.org/1999/02/22-rdf-syntax-ns#\">\n   <cc:Work>\n    <dc:type rdf:resource=\"http://purl.org/dc/dcmitype/StillImage\"/>\n    <dc:date>2025-03-18T14:43:39.784021</dc:date>\n    <dc:format>image/svg+xml</dc:format>\n    <dc:creator>\n     <cc:Agent>\n      <dc:title>Matplotlib v3.10.0, https://matplotlib.org/</dc:title>\n     </cc:Agent>\n    </dc:creator>\n   </cc:Work>\n  </rdf:RDF>\n </metadata>\n <defs>\n  <style type=\"text/css\">*{stroke-linejoin: round; stroke-linecap: butt}</style>\n </defs>\n <g id=\"figure_1\">\n  <g id=\"patch_1\">\n   <path d=\"M 0 331.634375 \nL 575.985 331.634375 \nL 575.985 0 \nL 0 0 \nz\n\" style=\"fill: #ffffff\"/>\n  </g>\n  <g id=\"axes_1\">\n   <g id=\"patch_2\">\n    <path d=\"M 66.585 284.4 \nL 568.785 284.4 \nL 568.785 7.2 \nL 66.585 7.2 \nz\n\" style=\"fill: #ffffff\"/>\n   </g>\n   <g id=\"matplotlib.axis_1\">\n    <g id=\"xtick_1\">\n     <g id=\"line2d_1\">\n      <path d=\"M 73.982204 284.4 \nL 73.982204 7.2 \n\" clip-path=\"url(#p343807a090)\" style=\"fill: none; stroke: #b0b0b0; stroke-width: 0.8; stroke-linecap: square\"/>\n     </g>\n     <g id=\"text_1\">\n      <!-- $\\mathdefault{10^{-1}}$ -->\n      <g transform=\"translate(57.532204 302.037812) scale(0.14 -0.14)\">\n       <defs>\n        <path id=\"DejaVuSans-31\" d=\"M 794 531 \nL 1825 531 \nL 1825 4091 \nL 703 3866 \nL 703 4441 \nL 1819 4666 \nL 2450 4666 \nL 2450 531 \nL 3481 531 \nL 3481 0 \nL 794 0 \nL 794 531 \nz\n\" transform=\"scale(0.015625)\"/>\n        <path id=\"DejaVuSans-30\" d=\"M 2034 4250 \nQ 1547 4250 1301 3770 \nQ 1056 3291 1056 2328 \nQ 1056 1369 1301 889 \nQ 1547 409 2034 409 \nQ 2525 409 2770 889 \nQ 3016 1369 3016 2328 \nQ 3016 3291 2770 3770 \nQ 2525 4250 2034 4250 \nz\nM 2034 4750 \nQ 2819 4750 3233 4129 \nQ 3647 3509 3647 2328 \nQ 3647 1150 3233 529 \nQ 2819 -91 2034 -91 \nQ 1250 -91 836 529 \nQ 422 1150 422 2328 \nQ 422 3509 836 4129 \nQ 1250 4750 2034 4750 \nz\n\" transform=\"scale(0.015625)\"/>\n        <path id=\"DejaVuSans-2212\" d=\"M 678 2272 \nL 4684 2272 \nL 4684 1741 \nL 678 1741 \nL 678 2272 \nz\n\" transform=\"scale(0.015625)\"/>\n       </defs>\n       <use xlink:href=\"#DejaVuSans-31\" transform=\"translate(0 0.684375)\"/>\n       <use xlink:href=\"#DejaVuSans-30\" transform=\"translate(63.623047 0.684375)\"/>\n       <use xlink:href=\"#DejaVuSans-2212\" transform=\"translate(128.203125 38.965625) scale(0.7)\"/>\n       <use xlink:href=\"#DejaVuSans-31\" transform=\"translate(186.855469 38.965625) scale(0.7)\"/>\n      </g>\n     </g>\n    </g>\n    <g id=\"xtick_2\">\n     <g id=\"line2d_2\">\n      <path d=\"M 282.316284 284.4 \nL 282.316284 7.2 \n\" clip-path=\"url(#p343807a090)\" style=\"fill: none; stroke: #b0b0b0; stroke-width: 0.8; stroke-linecap: square\"/>\n     </g>\n     <g id=\"text_2\">\n      <!-- $\\mathdefault{10^{0}}$ -->\n      <g transform=\"translate(269.996284 302.037812) scale(0.14 -0.14)\">\n       <use xlink:href=\"#DejaVuSans-31\" transform=\"translate(0 0.765625)\"/>\n       <use xlink:href=\"#DejaVuSans-30\" transform=\"translate(63.623047 0.765625)\"/>\n       <use xlink:href=\"#DejaVuSans-30\" transform=\"translate(128.203125 39.046875) scale(0.7)\"/>\n      </g>\n     </g>\n    </g>\n    <g id=\"xtick_3\">\n     <g id=\"line2d_3\">\n      <path d=\"M 490.650364 284.4 \nL 490.650364 7.2 \n\" clip-path=\"url(#p343807a090)\" style=\"fill: none; stroke: #b0b0b0; stroke-width: 0.8; stroke-linecap: square\"/>\n     </g>\n     <g id=\"text_3\">\n      <!-- $\\mathdefault{10^{1}}$ -->\n      <g transform=\"translate(478.330364 302.037812) scale(0.14 -0.14)\">\n       <use xlink:href=\"#DejaVuSans-31\" transform=\"translate(0 0.684375)\"/>\n       <use xlink:href=\"#DejaVuSans-30\" transform=\"translate(63.623047 0.684375)\"/>\n       <use xlink:href=\"#DejaVuSans-31\" transform=\"translate(128.203125 38.965625) scale(0.7)\"/>\n      </g>\n     </g>\n    </g>\n    <g id=\"xtick_4\">\n     <g id=\"line2d_4\">\n      <path d=\"M 136.697011 284.4 \nL 136.697011 7.2 \n\" clip-path=\"url(#p343807a090)\" style=\"fill: none; stroke: #b0b0b0; stroke-width: 0.8; stroke-linecap: square\"/>\n     </g>\n     <g id=\"line2d_5\">\n      <defs>\n       <path id=\"mc036c18eed\" d=\"M 0 0 \nL 0 2 \n\" style=\"stroke: #000000; stroke-width: 0.6\"/>\n      </defs>\n      <g>\n       <use xlink:href=\"#mc036c18eed\" x=\"136.697011\" y=\"284.4\" style=\"stroke: #000000; stroke-width: 0.6\"/>\n      </g>\n     </g>\n    </g>\n    <g id=\"xtick_5\">\n     <g id=\"line2d_6\">\n      <path d=\"M 173.382822 284.4 \nL 173.382822 7.2 \n\" clip-path=\"url(#p343807a090)\" style=\"fill: none; stroke: #b0b0b0; stroke-width: 0.8; stroke-linecap: square\"/>\n     </g>\n     <g id=\"line2d_7\">\n      <g>\n       <use xlink:href=\"#mc036c18eed\" x=\"173.382822\" y=\"284.4\" style=\"stroke: #000000; stroke-width: 0.6\"/>\n      </g>\n     </g>\n    </g>\n    <g id=\"xtick_6\">\n     <g id=\"line2d_8\">\n      <path d=\"M 199.411818 284.4 \nL 199.411818 7.2 \n\" clip-path=\"url(#p343807a090)\" style=\"fill: none; stroke: #b0b0b0; stroke-width: 0.8; stroke-linecap: square\"/>\n     </g>\n     <g id=\"line2d_9\">\n      <g>\n       <use xlink:href=\"#mc036c18eed\" x=\"199.411818\" y=\"284.4\" style=\"stroke: #000000; stroke-width: 0.6\"/>\n      </g>\n     </g>\n    </g>\n    <g id=\"xtick_7\">\n     <g id=\"line2d_10\">\n      <path d=\"M 219.601477 284.4 \nL 219.601477 7.2 \n\" clip-path=\"url(#p343807a090)\" style=\"fill: none; stroke: #b0b0b0; stroke-width: 0.8; stroke-linecap: square\"/>\n     </g>\n     <g id=\"line2d_11\">\n      <g>\n       <use xlink:href=\"#mc036c18eed\" x=\"219.601477\" y=\"284.4\" style=\"stroke: #000000; stroke-width: 0.6\"/>\n      </g>\n     </g>\n    </g>\n    <g id=\"xtick_8\">\n     <g id=\"line2d_12\">\n      <path d=\"M 236.097629 284.4 \nL 236.097629 7.2 \n\" clip-path=\"url(#p343807a090)\" style=\"fill: none; stroke: #b0b0b0; stroke-width: 0.8; stroke-linecap: square\"/>\n     </g>\n     <g id=\"line2d_13\">\n      <g>\n       <use xlink:href=\"#mc036c18eed\" x=\"236.097629\" y=\"284.4\" style=\"stroke: #000000; stroke-width: 0.6\"/>\n      </g>\n     </g>\n    </g>\n    <g id=\"xtick_9\">\n     <g id=\"line2d_14\">\n      <path d=\"M 250.044927 284.4 \nL 250.044927 7.2 \n\" clip-path=\"url(#p343807a090)\" style=\"fill: none; stroke: #b0b0b0; stroke-width: 0.8; stroke-linecap: square\"/>\n     </g>\n     <g id=\"line2d_15\">\n      <g>\n       <use xlink:href=\"#mc036c18eed\" x=\"250.044927\" y=\"284.4\" style=\"stroke: #000000; stroke-width: 0.6\"/>\n      </g>\n     </g>\n    </g>\n    <g id=\"xtick_10\">\n     <g id=\"line2d_16\">\n      <path d=\"M 262.126626 284.4 \nL 262.126626 7.2 \n\" clip-path=\"url(#p343807a090)\" style=\"fill: none; stroke: #b0b0b0; stroke-width: 0.8; stroke-linecap: square\"/>\n     </g>\n     <g id=\"line2d_17\">\n      <g>\n       <use xlink:href=\"#mc036c18eed\" x=\"262.126626\" y=\"284.4\" style=\"stroke: #000000; stroke-width: 0.6\"/>\n      </g>\n     </g>\n    </g>\n    <g id=\"xtick_11\">\n     <g id=\"line2d_18\">\n      <path d=\"M 272.783439 284.4 \nL 272.783439 7.2 \n\" clip-path=\"url(#p343807a090)\" style=\"fill: none; stroke: #b0b0b0; stroke-width: 0.8; stroke-linecap: square\"/>\n     </g>\n     <g id=\"line2d_19\">\n      <g>\n       <use xlink:href=\"#mc036c18eed\" x=\"272.783439\" y=\"284.4\" style=\"stroke: #000000; stroke-width: 0.6\"/>\n      </g>\n     </g>\n    </g>\n    <g id=\"xtick_12\">\n     <g id=\"line2d_20\">\n      <path d=\"M 345.031091 284.4 \nL 345.031091 7.2 \n\" clip-path=\"url(#p343807a090)\" style=\"fill: none; stroke: #b0b0b0; stroke-width: 0.8; stroke-linecap: square\"/>\n     </g>\n     <g id=\"line2d_21\">\n      <g>\n       <use xlink:href=\"#mc036c18eed\" x=\"345.031091\" y=\"284.4\" style=\"stroke: #000000; stroke-width: 0.6\"/>\n      </g>\n     </g>\n    </g>\n    <g id=\"xtick_13\">\n     <g id=\"line2d_22\">\n      <path d=\"M 381.716902 284.4 \nL 381.716902 7.2 \n\" clip-path=\"url(#p343807a090)\" style=\"fill: none; stroke: #b0b0b0; stroke-width: 0.8; stroke-linecap: square\"/>\n     </g>\n     <g id=\"line2d_23\">\n      <g>\n       <use xlink:href=\"#mc036c18eed\" x=\"381.716902\" y=\"284.4\" style=\"stroke: #000000; stroke-width: 0.6\"/>\n      </g>\n     </g>\n    </g>\n    <g id=\"xtick_14\">\n     <g id=\"line2d_24\">\n      <path d=\"M 407.745899 284.4 \nL 407.745899 7.2 \n\" clip-path=\"url(#p343807a090)\" style=\"fill: none; stroke: #b0b0b0; stroke-width: 0.8; stroke-linecap: square\"/>\n     </g>\n     <g id=\"line2d_25\">\n      <g>\n       <use xlink:href=\"#mc036c18eed\" x=\"407.745899\" y=\"284.4\" style=\"stroke: #000000; stroke-width: 0.6\"/>\n      </g>\n     </g>\n    </g>\n    <g id=\"xtick_15\">\n     <g id=\"line2d_26\">\n      <path d=\"M 427.935557 284.4 \nL 427.935557 7.2 \n\" clip-path=\"url(#p343807a090)\" style=\"fill: none; stroke: #b0b0b0; stroke-width: 0.8; stroke-linecap: square\"/>\n     </g>\n     <g id=\"line2d_27\">\n      <g>\n       <use xlink:href=\"#mc036c18eed\" x=\"427.935557\" y=\"284.4\" style=\"stroke: #000000; stroke-width: 0.6\"/>\n      </g>\n     </g>\n    </g>\n    <g id=\"xtick_16\">\n     <g id=\"line2d_28\">\n      <path d=\"M 444.431709 284.4 \nL 444.431709 7.2 \n\" clip-path=\"url(#p343807a090)\" style=\"fill: none; stroke: #b0b0b0; stroke-width: 0.8; stroke-linecap: square\"/>\n     </g>\n     <g id=\"line2d_29\">\n      <g>\n       <use xlink:href=\"#mc036c18eed\" x=\"444.431709\" y=\"284.4\" style=\"stroke: #000000; stroke-width: 0.6\"/>\n      </g>\n     </g>\n    </g>\n    <g id=\"xtick_17\">\n     <g id=\"line2d_30\">\n      <path d=\"M 458.379007 284.4 \nL 458.379007 7.2 \n\" clip-path=\"url(#p343807a090)\" style=\"fill: none; stroke: #b0b0b0; stroke-width: 0.8; stroke-linecap: square\"/>\n     </g>\n     <g id=\"line2d_31\">\n      <g>\n       <use xlink:href=\"#mc036c18eed\" x=\"458.379007\" y=\"284.4\" style=\"stroke: #000000; stroke-width: 0.6\"/>\n      </g>\n     </g>\n    </g>\n    <g id=\"xtick_18\">\n     <g id=\"line2d_32\">\n      <path d=\"M 470.460706 284.4 \nL 470.460706 7.2 \n\" clip-path=\"url(#p343807a090)\" style=\"fill: none; stroke: #b0b0b0; stroke-width: 0.8; stroke-linecap: square\"/>\n     </g>\n     <g id=\"line2d_33\">\n      <g>\n       <use xlink:href=\"#mc036c18eed\" x=\"470.460706\" y=\"284.4\" style=\"stroke: #000000; stroke-width: 0.6\"/>\n      </g>\n     </g>\n    </g>\n    <g id=\"xtick_19\">\n     <g id=\"line2d_34\">\n      <path d=\"M 481.11752 284.4 \nL 481.11752 7.2 \n\" clip-path=\"url(#p343807a090)\" style=\"fill: none; stroke: #b0b0b0; stroke-width: 0.8; stroke-linecap: square\"/>\n     </g>\n     <g id=\"line2d_35\">\n      <g>\n       <use xlink:href=\"#mc036c18eed\" x=\"481.11752\" y=\"284.4\" style=\"stroke: #000000; stroke-width: 0.6\"/>\n      </g>\n     </g>\n    </g>\n    <g id=\"xtick_20\">\n     <g id=\"line2d_36\">\n      <path d=\"M 553.365172 284.4 \nL 553.365172 7.2 \n\" clip-path=\"url(#p343807a090)\" style=\"fill: none; stroke: #b0b0b0; stroke-width: 0.8; stroke-linecap: square\"/>\n     </g>\n     <g id=\"line2d_37\">\n      <g>\n       <use xlink:href=\"#mc036c18eed\" x=\"553.365172\" y=\"284.4\" style=\"stroke: #000000; stroke-width: 0.6\"/>\n      </g>\n     </g>\n    </g>\n    <g id=\"text_4\">\n     <!-- x -->\n     <g transform=\"translate(312.95 321.106875) scale(0.16 -0.16)\">\n      <defs>\n       <path id=\"DejaVuSans-78\" d=\"M 3513 3500 \nL 2247 1797 \nL 3578 0 \nL 2900 0 \nL 1881 1375 \nL 863 0 \nL 184 0 \nL 1544 1831 \nL 300 3500 \nL 978 3500 \nL 1906 2253 \nL 2834 3500 \nL 3513 3500 \nz\n\" transform=\"scale(0.015625)\"/>\n      </defs>\n      <use xlink:href=\"#DejaVuSans-78\"/>\n     </g>\n    </g>\n   </g>\n   <g id=\"matplotlib.axis_2\">\n    <g id=\"ytick_1\">\n     <g id=\"line2d_38\">\n      <path d=\"M 66.585 251.874901 \nL 568.785 251.874901 \n\" clip-path=\"url(#p343807a090)\" style=\"fill: none; stroke: #b0b0b0; stroke-width: 0.8; stroke-linecap: square\"/>\n     </g>\n     <g id=\"text_5\">\n      <!-- $\\mathdefault{10^{-1}}$ -->\n      <g transform=\"translate(26.685 257.193807) scale(0.14 -0.14)\">\n       <use xlink:href=\"#DejaVuSans-31\" transform=\"translate(0 0.684375)\"/>\n       <use xlink:href=\"#DejaVuSans-30\" transform=\"translate(63.623047 0.684375)\"/>\n       <use xlink:href=\"#DejaVuSans-2212\" transform=\"translate(128.203125 38.965625) scale(0.7)\"/>\n       <use xlink:href=\"#DejaVuSans-31\" transform=\"translate(186.855469 38.965625) scale(0.7)\"/>\n      </g>\n     </g>\n    </g>\n    <g id=\"ytick_2\">\n     <g id=\"line2d_39\">\n      <path d=\"M 66.585 152.351615 \nL 568.785 152.351615 \n\" clip-path=\"url(#p343807a090)\" style=\"fill: none; stroke: #b0b0b0; stroke-width: 0.8; stroke-linecap: square\"/>\n     </g>\n     <g id=\"text_6\">\n      <!-- $\\mathdefault{10^{0}}$ -->\n      <g transform=\"translate(34.945 157.670521) scale(0.14 -0.14)\">\n       <use xlink:href=\"#DejaVuSans-31\" transform=\"translate(0 0.765625)\"/>\n       <use xlink:href=\"#DejaVuSans-30\" transform=\"translate(63.623047 0.765625)\"/>\n       <use xlink:href=\"#DejaVuSans-30\" transform=\"translate(128.203125 39.046875) scale(0.7)\"/>\n      </g>\n     </g>\n    </g>\n    <g id=\"ytick_3\">\n     <g id=\"line2d_40\">\n      <path d=\"M 66.585 52.828328 \nL 568.785 52.828328 \n\" clip-path=\"url(#p343807a090)\" style=\"fill: none; stroke: #b0b0b0; stroke-width: 0.8; stroke-linecap: square\"/>\n     </g>\n     <g id=\"text_7\">\n      <!-- $\\mathdefault{10^{1}}$ -->\n      <g transform=\"translate(34.945 58.147234) scale(0.14 -0.14)\">\n       <use xlink:href=\"#DejaVuSans-31\" transform=\"translate(0 0.684375)\"/>\n       <use xlink:href=\"#DejaVuSans-30\" transform=\"translate(63.623047 0.684375)\"/>\n       <use xlink:href=\"#DejaVuSans-31\" transform=\"translate(128.203125 38.965625) scale(0.7)\"/>\n      </g>\n     </g>\n    </g>\n    <g id=\"ytick_4\">\n     <g id=\"line2d_41\">\n      <path d=\"M 66.585 281.834396 \nL 568.785 281.834396 \n\" clip-path=\"url(#p343807a090)\" style=\"fill: none; stroke: #b0b0b0; stroke-width: 0.8; stroke-linecap: square\"/>\n     </g>\n     <g id=\"line2d_42\">\n      <defs>\n       <path id=\"mcaff723d1a\" d=\"M 0 0 \nL -2 0 \n\" style=\"stroke: #000000; stroke-width: 0.6\"/>\n      </defs>\n      <g>\n       <use xlink:href=\"#mcaff723d1a\" x=\"66.585\" y=\"281.834396\" style=\"stroke: #000000; stroke-width: 0.6\"/>\n      </g>\n     </g>\n    </g>\n    <g id=\"ytick_5\">\n     <g id=\"line2d_43\">\n      <path d=\"M 66.585 273.954018 \nL 568.785 273.954018 \n\" clip-path=\"url(#p343807a090)\" style=\"fill: none; stroke: #b0b0b0; stroke-width: 0.8; stroke-linecap: square\"/>\n     </g>\n     <g id=\"line2d_44\">\n      <g>\n       <use xlink:href=\"#mcaff723d1a\" x=\"66.585\" y=\"273.954018\" style=\"stroke: #000000; stroke-width: 0.6\"/>\n      </g>\n     </g>\n    </g>\n    <g id=\"ytick_6\">\n     <g id=\"line2d_45\">\n      <path d=\"M 66.585 267.291253 \nL 568.785 267.291253 \n\" clip-path=\"url(#p343807a090)\" style=\"fill: none; stroke: #b0b0b0; stroke-width: 0.8; stroke-linecap: square\"/>\n     </g>\n     <g id=\"line2d_46\">\n      <g>\n       <use xlink:href=\"#mcaff723d1a\" x=\"66.585\" y=\"267.291253\" style=\"stroke: #000000; stroke-width: 0.6\"/>\n      </g>\n     </g>\n    </g>\n    <g id=\"ytick_7\">\n     <g id=\"line2d_47\">\n      <path d=\"M 66.585 261.519704 \nL 568.785 261.519704 \n\" clip-path=\"url(#p343807a090)\" style=\"fill: none; stroke: #b0b0b0; stroke-width: 0.8; stroke-linecap: square\"/>\n     </g>\n     <g id=\"line2d_48\">\n      <g>\n       <use xlink:href=\"#mcaff723d1a\" x=\"66.585\" y=\"261.519704\" style=\"stroke: #000000; stroke-width: 0.6\"/>\n      </g>\n     </g>\n    </g>\n    <g id=\"ytick_8\">\n     <g id=\"line2d_49\">\n      <path d=\"M 66.585 256.428837 \nL 568.785 256.428837 \n\" clip-path=\"url(#p343807a090)\" style=\"fill: none; stroke: #b0b0b0; stroke-width: 0.8; stroke-linecap: square\"/>\n     </g>\n     <g id=\"line2d_50\">\n      <g>\n       <use xlink:href=\"#mcaff723d1a\" x=\"66.585\" y=\"256.428837\" style=\"stroke: #000000; stroke-width: 0.6\"/>\n      </g>\n     </g>\n    </g>\n    <g id=\"ytick_9\">\n     <g id=\"line2d_51\">\n      <path d=\"M 66.585 221.915407 \nL 568.785 221.915407 \n\" clip-path=\"url(#p343807a090)\" style=\"fill: none; stroke: #b0b0b0; stroke-width: 0.8; stroke-linecap: square\"/>\n     </g>\n     <g id=\"line2d_52\">\n      <g>\n       <use xlink:href=\"#mcaff723d1a\" x=\"66.585\" y=\"221.915407\" style=\"stroke: #000000; stroke-width: 0.6\"/>\n      </g>\n     </g>\n    </g>\n    <g id=\"ytick_10\">\n     <g id=\"line2d_53\">\n      <path d=\"M 66.585 204.390226 \nL 568.785 204.390226 \n\" clip-path=\"url(#p343807a090)\" style=\"fill: none; stroke: #b0b0b0; stroke-width: 0.8; stroke-linecap: square\"/>\n     </g>\n     <g id=\"line2d_54\">\n      <g>\n       <use xlink:href=\"#mcaff723d1a\" x=\"66.585\" y=\"204.390226\" style=\"stroke: #000000; stroke-width: 0.6\"/>\n      </g>\n     </g>\n    </g>\n    <g id=\"ytick_11\">\n     <g id=\"line2d_55\">\n      <path d=\"M 66.585 191.955912 \nL 568.785 191.955912 \n\" clip-path=\"url(#p343807a090)\" style=\"fill: none; stroke: #b0b0b0; stroke-width: 0.8; stroke-linecap: square\"/>\n     </g>\n     <g id=\"line2d_56\">\n      <g>\n       <use xlink:href=\"#mcaff723d1a\" x=\"66.585\" y=\"191.955912\" style=\"stroke: #000000; stroke-width: 0.6\"/>\n      </g>\n     </g>\n    </g>\n    <g id=\"ytick_12\">\n     <g id=\"line2d_57\">\n      <path d=\"M 66.585 182.311109 \nL 568.785 182.311109 \n\" clip-path=\"url(#p343807a090)\" style=\"fill: none; stroke: #b0b0b0; stroke-width: 0.8; stroke-linecap: square\"/>\n     </g>\n     <g id=\"line2d_58\">\n      <g>\n       <use xlink:href=\"#mcaff723d1a\" x=\"66.585\" y=\"182.311109\" style=\"stroke: #000000; stroke-width: 0.6\"/>\n      </g>\n     </g>\n    </g>\n    <g id=\"ytick_13\">\n     <g id=\"line2d_59\">\n      <path d=\"M 66.585 174.430731 \nL 568.785 174.430731 \n\" clip-path=\"url(#p343807a090)\" style=\"fill: none; stroke: #b0b0b0; stroke-width: 0.8; stroke-linecap: square\"/>\n     </g>\n     <g id=\"line2d_60\">\n      <g>\n       <use xlink:href=\"#mcaff723d1a\" x=\"66.585\" y=\"174.430731\" style=\"stroke: #000000; stroke-width: 0.6\"/>\n      </g>\n     </g>\n    </g>\n    <g id=\"ytick_14\">\n     <g id=\"line2d_61\">\n      <path d=\"M 66.585 167.767967 \nL 568.785 167.767967 \n\" clip-path=\"url(#p343807a090)\" style=\"fill: none; stroke: #b0b0b0; stroke-width: 0.8; stroke-linecap: square\"/>\n     </g>\n     <g id=\"line2d_62\">\n      <g>\n       <use xlink:href=\"#mcaff723d1a\" x=\"66.585\" y=\"167.767967\" style=\"stroke: #000000; stroke-width: 0.6\"/>\n      </g>\n     </g>\n    </g>\n    <g id=\"ytick_15\">\n     <g id=\"line2d_63\">\n      <path d=\"M 66.585 161.996418 \nL 568.785 161.996418 \n\" clip-path=\"url(#p343807a090)\" style=\"fill: none; stroke: #b0b0b0; stroke-width: 0.8; stroke-linecap: square\"/>\n     </g>\n     <g id=\"line2d_64\">\n      <g>\n       <use xlink:href=\"#mcaff723d1a\" x=\"66.585\" y=\"161.996418\" style=\"stroke: #000000; stroke-width: 0.6\"/>\n      </g>\n     </g>\n    </g>\n    <g id=\"ytick_16\">\n     <g id=\"line2d_65\">\n      <path d=\"M 66.585 156.905551 \nL 568.785 156.905551 \n\" clip-path=\"url(#p343807a090)\" style=\"fill: none; stroke: #b0b0b0; stroke-width: 0.8; stroke-linecap: square\"/>\n     </g>\n     <g id=\"line2d_66\">\n      <g>\n       <use xlink:href=\"#mcaff723d1a\" x=\"66.585\" y=\"156.905551\" style=\"stroke: #000000; stroke-width: 0.6\"/>\n      </g>\n     </g>\n    </g>\n    <g id=\"ytick_17\">\n     <g id=\"line2d_67\">\n      <path d=\"M 66.585 122.39212 \nL 568.785 122.39212 \n\" clip-path=\"url(#p343807a090)\" style=\"fill: none; stroke: #b0b0b0; stroke-width: 0.8; stroke-linecap: square\"/>\n     </g>\n     <g id=\"line2d_68\">\n      <g>\n       <use xlink:href=\"#mcaff723d1a\" x=\"66.585\" y=\"122.39212\" style=\"stroke: #000000; stroke-width: 0.6\"/>\n      </g>\n     </g>\n    </g>\n    <g id=\"ytick_18\">\n     <g id=\"line2d_69\">\n      <path d=\"M 66.585 104.866939 \nL 568.785 104.866939 \n\" clip-path=\"url(#p343807a090)\" style=\"fill: none; stroke: #b0b0b0; stroke-width: 0.8; stroke-linecap: square\"/>\n     </g>\n     <g id=\"line2d_70\">\n      <g>\n       <use xlink:href=\"#mcaff723d1a\" x=\"66.585\" y=\"104.866939\" style=\"stroke: #000000; stroke-width: 0.6\"/>\n      </g>\n     </g>\n    </g>\n    <g id=\"ytick_19\">\n     <g id=\"line2d_71\">\n      <path d=\"M 66.585 92.432626 \nL 568.785 92.432626 \n\" clip-path=\"url(#p343807a090)\" style=\"fill: none; stroke: #b0b0b0; stroke-width: 0.8; stroke-linecap: square\"/>\n     </g>\n     <g id=\"line2d_72\">\n      <g>\n       <use xlink:href=\"#mcaff723d1a\" x=\"66.585\" y=\"92.432626\" style=\"stroke: #000000; stroke-width: 0.6\"/>\n      </g>\n     </g>\n    </g>\n    <g id=\"ytick_20\">\n     <g id=\"line2d_73\">\n      <path d=\"M 66.585 82.787823 \nL 568.785 82.787823 \n\" clip-path=\"url(#p343807a090)\" style=\"fill: none; stroke: #b0b0b0; stroke-width: 0.8; stroke-linecap: square\"/>\n     </g>\n     <g id=\"line2d_74\">\n      <g>\n       <use xlink:href=\"#mcaff723d1a\" x=\"66.585\" y=\"82.787823\" style=\"stroke: #000000; stroke-width: 0.6\"/>\n      </g>\n     </g>\n    </g>\n    <g id=\"ytick_21\">\n     <g id=\"line2d_75\">\n      <path d=\"M 66.585 74.907445 \nL 568.785 74.907445 \n\" clip-path=\"url(#p343807a090)\" style=\"fill: none; stroke: #b0b0b0; stroke-width: 0.8; stroke-linecap: square\"/>\n     </g>\n     <g id=\"line2d_76\">\n      <g>\n       <use xlink:href=\"#mcaff723d1a\" x=\"66.585\" y=\"74.907445\" style=\"stroke: #000000; stroke-width: 0.6\"/>\n      </g>\n     </g>\n    </g>\n    <g id=\"ytick_22\">\n     <g id=\"line2d_77\">\n      <path d=\"M 66.585 68.24468 \nL 568.785 68.24468 \n\" clip-path=\"url(#p343807a090)\" style=\"fill: none; stroke: #b0b0b0; stroke-width: 0.8; stroke-linecap: square\"/>\n     </g>\n     <g id=\"line2d_78\">\n      <g>\n       <use xlink:href=\"#mcaff723d1a\" x=\"66.585\" y=\"68.24468\" style=\"stroke: #000000; stroke-width: 0.6\"/>\n      </g>\n     </g>\n    </g>\n    <g id=\"ytick_23\">\n     <g id=\"line2d_79\">\n      <path d=\"M 66.585 62.473131 \nL 568.785 62.473131 \n\" clip-path=\"url(#p343807a090)\" style=\"fill: none; stroke: #b0b0b0; stroke-width: 0.8; stroke-linecap: square\"/>\n     </g>\n     <g id=\"line2d_80\">\n      <g>\n       <use xlink:href=\"#mcaff723d1a\" x=\"66.585\" y=\"62.473131\" style=\"stroke: #000000; stroke-width: 0.6\"/>\n      </g>\n     </g>\n    </g>\n    <g id=\"ytick_24\">\n     <g id=\"line2d_81\">\n      <path d=\"M 66.585 57.382264 \nL 568.785 57.382264 \n\" clip-path=\"url(#p343807a090)\" style=\"fill: none; stroke: #b0b0b0; stroke-width: 0.8; stroke-linecap: square\"/>\n     </g>\n     <g id=\"line2d_82\">\n      <g>\n       <use xlink:href=\"#mcaff723d1a\" x=\"66.585\" y=\"57.382264\" style=\"stroke: #000000; stroke-width: 0.6\"/>\n      </g>\n     </g>\n    </g>\n    <g id=\"ytick_25\">\n     <g id=\"line2d_83\">\n      <path d=\"M 66.585 22.868834 \nL 568.785 22.868834 \n\" clip-path=\"url(#p343807a090)\" style=\"fill: none; stroke: #b0b0b0; stroke-width: 0.8; stroke-linecap: square\"/>\n     </g>\n     <g id=\"line2d_84\">\n      <g>\n       <use xlink:href=\"#mcaff723d1a\" x=\"66.585\" y=\"22.868834\" style=\"stroke: #000000; stroke-width: 0.6\"/>\n      </g>\n     </g>\n    </g>\n    <g id=\"text_8\">\n     <!-- y -->\n     <g transform=\"translate(19.3575 150.535) rotate(-90) scale(0.16 -0.16)\">\n      <defs>\n       <path id=\"DejaVuSans-79\" d=\"M 2059 -325 \nQ 1816 -950 1584 -1140 \nQ 1353 -1331 966 -1331 \nL 506 -1331 \nL 506 -850 \nL 844 -850 \nQ 1081 -850 1212 -737 \nQ 1344 -625 1503 -206 \nL 1606 56 \nL 191 3500 \nL 800 3500 \nL 1894 763 \nL 2988 3500 \nL 3597 3500 \nL 2059 -325 \nz\n\" transform=\"scale(0.015625)\"/>\n      </defs>\n      <use xlink:href=\"#DejaVuSans-79\"/>\n     </g>\n    </g>\n   </g>\n   <g id=\"PathCollection_1\">\n    <defs>\n     <path id=\"m7bb8221160\" d=\"M 0 3.872983 \nC 1.027127 3.872983 2.012324 3.464901 2.738613 2.738613 \nC 3.464901 2.012324 3.872983 1.027127 3.872983 0 \nC 3.872983 -1.027127 3.464901 -2.012324 2.738613 -2.738613 \nC 2.012324 -3.464901 1.027127 -3.872983 0 -3.872983 \nC -1.027127 -3.872983 -2.012324 -3.464901 -2.738613 -2.738613 \nC -3.464901 -2.012324 -3.872983 -1.027127 -3.872983 0 \nC -3.872983 1.027127 -3.464901 2.012324 -2.738613 2.738613 \nC -2.012324 3.464901 -1.027127 3.872983 0 3.872983 \nz\n\" style=\"stroke: #000000; stroke-opacity: 0.7\"/>\n    </defs>\n    <g clip-path=\"url(#p343807a090)\">\n     <use xlink:href=\"#m7bb8221160\" x=\"309.88658\" y=\"135.393051\" style=\"fill: #1f77b4; fill-opacity: 0.7; stroke: #000000; stroke-opacity: 0.7\"/>\n     <use xlink:href=\"#m7bb8221160\" x=\"188.220247\" y=\"183.321853\" style=\"fill: #1f77b4; fill-opacity: 0.7; stroke: #000000; stroke-opacity: 0.7\"/>\n     <use xlink:href=\"#m7bb8221160\" x=\"350.215864\" y=\"118.865815\" style=\"fill: #1f77b4; fill-opacity: 0.7; stroke: #000000; stroke-opacity: 0.7\"/>\n     <use xlink:href=\"#m7bb8221160\" x=\"367.41702\" y=\"104.738075\" style=\"fill: #1f77b4; fill-opacity: 0.7; stroke: #000000; stroke-opacity: 0.7\"/>\n     <use xlink:href=\"#m7bb8221160\" x=\"105.789856\" y=\"271.8\" style=\"fill: #1f77b4; fill-opacity: 0.7; stroke: #000000; stroke-opacity: 0.7\"/>\n     <use xlink:href=\"#m7bb8221160\" x=\"164.497242\" y=\"209.21011\" style=\"fill: #1f77b4; fill-opacity: 0.7; stroke: #000000; stroke-opacity: 0.7\"/>\n     <use xlink:href=\"#m7bb8221160\" x=\"293.883072\" y=\"158.055133\" style=\"fill: #1f77b4; fill-opacity: 0.7; stroke: #000000; stroke-opacity: 0.7\"/>\n     <use xlink:href=\"#m7bb8221160\" x=\"253.703179\" y=\"183.375099\" style=\"fill: #1f77b4; fill-opacity: 0.7; stroke: #000000; stroke-opacity: 0.7\"/>\n     <use xlink:href=\"#m7bb8221160\" x=\"280.796143\" y=\"164.841228\" style=\"fill: #1f77b4; fill-opacity: 0.7; stroke: #000000; stroke-opacity: 0.7\"/>\n     <use xlink:href=\"#m7bb8221160\" x=\"205.134284\" y=\"193.329797\" style=\"fill: #1f77b4; fill-opacity: 0.7; stroke: #000000; stroke-opacity: 0.7\"/>\n     <use xlink:href=\"#m7bb8221160\" x=\"361.882754\" y=\"104.74864\" style=\"fill: #1f77b4; fill-opacity: 0.7; stroke: #000000; stroke-opacity: 0.7\"/>\n     <use xlink:href=\"#m7bb8221160\" x=\"352.689608\" y=\"138.015633\" style=\"fill: #1f77b4; fill-opacity: 0.7; stroke: #000000; stroke-opacity: 0.7\"/>\n     <use xlink:href=\"#m7bb8221160\" x=\"288.290632\" y=\"149.139863\" style=\"fill: #1f77b4; fill-opacity: 0.7; stroke: #000000; stroke-opacity: 0.7\"/>\n     <use xlink:href=\"#m7bb8221160\" x=\"384.307199\" y=\"109.716839\" style=\"fill: #1f77b4; fill-opacity: 0.7; stroke: #000000; stroke-opacity: 0.7\"/>\n     <use xlink:href=\"#m7bb8221160\" x=\"324.615754\" y=\"136.169189\" style=\"fill: #1f77b4; fill-opacity: 0.7; stroke: #000000; stroke-opacity: 0.7\"/>\n     <use xlink:href=\"#m7bb8221160\" x=\"204.568927\" y=\"179.090796\" style=\"fill: #1f77b4; fill-opacity: 0.7; stroke: #000000; stroke-opacity: 0.7\"/>\n     <use xlink:href=\"#m7bb8221160\" x=\"315.680243\" y=\"130.522837\" style=\"fill: #1f77b4; fill-opacity: 0.7; stroke: #000000; stroke-opacity: 0.7\"/>\n     <use xlink:href=\"#m7bb8221160\" x=\"195.558177\" y=\"180.415349\" style=\"fill: #1f77b4; fill-opacity: 0.7; stroke: #000000; stroke-opacity: 0.7\"/>\n     <use xlink:href=\"#m7bb8221160\" x=\"361.79701\" y=\"116.23391\" style=\"fill: #1f77b4; fill-opacity: 0.7; stroke: #000000; stroke-opacity: 0.7\"/>\n     <use xlink:href=\"#m7bb8221160\" x=\"277.79907\" y=\"163.554972\" style=\"fill: #1f77b4; fill-opacity: 0.7; stroke: #000000; stroke-opacity: 0.7\"/>\n     <use xlink:href=\"#m7bb8221160\" x=\"265.590244\" y=\"163.050224\" style=\"fill: #1f77b4; fill-opacity: 0.7; stroke: #000000; stroke-opacity: 0.7\"/>\n     <use xlink:href=\"#m7bb8221160\" x=\"220.706908\" y=\"179.028804\" style=\"fill: #1f77b4; fill-opacity: 0.7; stroke: #000000; stroke-opacity: 0.7\"/>\n     <use xlink:href=\"#m7bb8221160\" x=\"392.929797\" y=\"97.487741\" style=\"fill: #1f77b4; fill-opacity: 0.7; stroke: #000000; stroke-opacity: 0.7\"/>\n     <use xlink:href=\"#m7bb8221160\" x=\"268.334713\" y=\"174.092014\" style=\"fill: #1f77b4; fill-opacity: 0.7; stroke: #000000; stroke-opacity: 0.7\"/>\n     <use xlink:href=\"#m7bb8221160\" x=\"243.561893\" y=\"169.816579\" style=\"fill: #1f77b4; fill-opacity: 0.7; stroke: #000000; stroke-opacity: 0.7\"/>\n     <use xlink:href=\"#m7bb8221160\" x=\"250.455824\" y=\"164.974737\" style=\"fill: #1f77b4; fill-opacity: 0.7; stroke: #000000; stroke-opacity: 0.7\"/>\n     <use xlink:href=\"#m7bb8221160\" x=\"330.478736\" y=\"106.84168\" style=\"fill: #1f77b4; fill-opacity: 0.7; stroke: #000000; stroke-opacity: 0.7\"/>\n     <use xlink:href=\"#m7bb8221160\" x=\"315.381057\" y=\"118.765578\" style=\"fill: #1f77b4; fill-opacity: 0.7; stroke: #000000; stroke-opacity: 0.7\"/>\n     <use xlink:href=\"#m7bb8221160\" x=\"319.659646\" y=\"145.893938\" style=\"fill: #1f77b4; fill-opacity: 0.7; stroke: #000000; stroke-opacity: 0.7\"/>\n     <use xlink:href=\"#m7bb8221160\" x=\"321.296254\" y=\"137.239429\" style=\"fill: #1f77b4; fill-opacity: 0.7; stroke: #000000; stroke-opacity: 0.7\"/>\n     <use xlink:href=\"#m7bb8221160\" x=\"476.089007\" y=\"81.653262\" style=\"fill: #1f77b4; fill-opacity: 0.7; stroke: #000000; stroke-opacity: 0.7\"/>\n     <use xlink:href=\"#m7bb8221160\" x=\"245.544527\" y=\"177.468017\" style=\"fill: #1f77b4; fill-opacity: 0.7; stroke: #000000; stroke-opacity: 0.7\"/>\n     <use xlink:href=\"#m7bb8221160\" x=\"235.969412\" y=\"170.940702\" style=\"fill: #1f77b4; fill-opacity: 0.7; stroke: #000000; stroke-opacity: 0.7\"/>\n     <use xlink:href=\"#m7bb8221160\" x=\"208.687477\" y=\"175.290371\" style=\"fill: #1f77b4; fill-opacity: 0.7; stroke: #000000; stroke-opacity: 0.7\"/>\n     <use xlink:href=\"#m7bb8221160\" x=\"338.049081\" y=\"135.25475\" style=\"fill: #1f77b4; fill-opacity: 0.7; stroke: #000000; stroke-opacity: 0.7\"/>\n     <use xlink:href=\"#m7bb8221160\" x=\"384.463825\" y=\"112.000064\" style=\"fill: #1f77b4; fill-opacity: 0.7; stroke: #000000; stroke-opacity: 0.7\"/>\n     <use xlink:href=\"#m7bb8221160\" x=\"272.006507\" y=\"195.042739\" style=\"fill: #1f77b4; fill-opacity: 0.7; stroke: #000000; stroke-opacity: 0.7\"/>\n     <use xlink:href=\"#m7bb8221160\" x=\"206.30032\" y=\"190.616246\" style=\"fill: #1f77b4; fill-opacity: 0.7; stroke: #000000; stroke-opacity: 0.7\"/>\n     <use xlink:href=\"#m7bb8221160\" x=\"207.718591\" y=\"202.685354\" style=\"fill: #1f77b4; fill-opacity: 0.7; stroke: #000000; stroke-opacity: 0.7\"/>\n     <use xlink:href=\"#m7bb8221160\" x=\"341.180841\" y=\"130.934292\" style=\"fill: #1f77b4; fill-opacity: 0.7; stroke: #000000; stroke-opacity: 0.7\"/>\n     <use xlink:href=\"#m7bb8221160\" x=\"349.564689\" y=\"131.969921\" style=\"fill: #1f77b4; fill-opacity: 0.7; stroke: #000000; stroke-opacity: 0.7\"/>\n     <use xlink:href=\"#m7bb8221160\" x=\"331.459981\" y=\"129.995021\" style=\"fill: #1f77b4; fill-opacity: 0.7; stroke: #000000; stroke-opacity: 0.7\"/>\n     <use xlink:href=\"#m7bb8221160\" x=\"222.10207\" y=\"209.125745\" style=\"fill: #1f77b4; fill-opacity: 0.7; stroke: #000000; stroke-opacity: 0.7\"/>\n     <use xlink:href=\"#m7bb8221160\" x=\"303.321856\" y=\"164.256012\" style=\"fill: #1f77b4; fill-opacity: 0.7; stroke: #000000; stroke-opacity: 0.7\"/>\n     <use xlink:href=\"#m7bb8221160\" x=\"292.873823\" y=\"127.599427\" style=\"fill: #1f77b4; fill-opacity: 0.7; stroke: #000000; stroke-opacity: 0.7\"/>\n     <use xlink:href=\"#m7bb8221160\" x=\"302.102866\" y=\"161.473291\" style=\"fill: #1f77b4; fill-opacity: 0.7; stroke: #000000; stroke-opacity: 0.7\"/>\n     <use xlink:href=\"#m7bb8221160\" x=\"361.161715\" y=\"129.954117\" style=\"fill: #1f77b4; fill-opacity: 0.7; stroke: #000000; stroke-opacity: 0.7\"/>\n     <use xlink:href=\"#m7bb8221160\" x=\"302.546839\" y=\"125.208015\" style=\"fill: #1f77b4; fill-opacity: 0.7; stroke: #000000; stroke-opacity: 0.7\"/>\n     <use xlink:href=\"#m7bb8221160\" x=\"343.743257\" y=\"97.885379\" style=\"fill: #1f77b4; fill-opacity: 0.7; stroke: #000000; stroke-opacity: 0.7\"/>\n     <use xlink:href=\"#m7bb8221160\" x=\"288.430726\" y=\"165.965377\" style=\"fill: #1f77b4; fill-opacity: 0.7; stroke: #000000; stroke-opacity: 0.7\"/>\n     <use xlink:href=\"#m7bb8221160\" x=\"308.475328\" y=\"144.405101\" style=\"fill: #1f77b4; fill-opacity: 0.7; stroke: #000000; stroke-opacity: 0.7\"/>\n     <use xlink:href=\"#m7bb8221160\" x=\"339.434196\" y=\"121.23511\" style=\"fill: #1f77b4; fill-opacity: 0.7; stroke: #000000; stroke-opacity: 0.7\"/>\n     <use xlink:href=\"#m7bb8221160\" x=\"150.475242\" y=\"198.70952\" style=\"fill: #1f77b4; fill-opacity: 0.7; stroke: #000000; stroke-opacity: 0.7\"/>\n     <use xlink:href=\"#m7bb8221160\" x=\"253.392963\" y=\"179.638862\" style=\"fill: #1f77b4; fill-opacity: 0.7; stroke: #000000; stroke-opacity: 0.7\"/>\n     <use xlink:href=\"#m7bb8221160\" x=\"239.757746\" y=\"175.658934\" style=\"fill: #1f77b4; fill-opacity: 0.7; stroke: #000000; stroke-opacity: 0.7\"/>\n     <use xlink:href=\"#m7bb8221160\" x=\"224.511676\" y=\"171.693751\" style=\"fill: #1f77b4; fill-opacity: 0.7; stroke: #000000; stroke-opacity: 0.7\"/>\n     <use xlink:href=\"#m7bb8221160\" x=\"257.42187\" y=\"159.424213\" style=\"fill: #1f77b4; fill-opacity: 0.7; stroke: #000000; stroke-opacity: 0.7\"/>\n     <use xlink:href=\"#m7bb8221160\" x=\"417.576095\" y=\"92.389715\" style=\"fill: #1f77b4; fill-opacity: 0.7; stroke: #000000; stroke-opacity: 0.7\"/>\n     <use xlink:href=\"#m7bb8221160\" x=\"203.977321\" y=\"191.373533\" style=\"fill: #1f77b4; fill-opacity: 0.7; stroke: #000000; stroke-opacity: 0.7\"/>\n     <use xlink:href=\"#m7bb8221160\" x=\"369.924504\" y=\"130.680237\" style=\"fill: #1f77b4; fill-opacity: 0.7; stroke: #000000; stroke-opacity: 0.7\"/>\n     <use xlink:href=\"#m7bb8221160\" x=\"130.053018\" y=\"227.976826\" style=\"fill: #1f77b4; fill-opacity: 0.7; stroke: #000000; stroke-opacity: 0.7\"/>\n     <use xlink:href=\"#m7bb8221160\" x=\"252.016442\" y=\"170.068862\" style=\"fill: #1f77b4; fill-opacity: 0.7; stroke: #000000; stroke-opacity: 0.7\"/>\n     <use xlink:href=\"#m7bb8221160\" x=\"297.041912\" y=\"142.676587\" style=\"fill: #1f77b4; fill-opacity: 0.7; stroke: #000000; stroke-opacity: 0.7\"/>\n     <use xlink:href=\"#m7bb8221160\" x=\"335.356708\" y=\"134.072528\" style=\"fill: #1f77b4; fill-opacity: 0.7; stroke: #000000; stroke-opacity: 0.7\"/>\n     <use xlink:href=\"#m7bb8221160\" x=\"346.666885\" y=\"116.406938\" style=\"fill: #1f77b4; fill-opacity: 0.7; stroke: #000000; stroke-opacity: 0.7\"/>\n     <use xlink:href=\"#m7bb8221160\" x=\"354.097026\" y=\"107.568011\" style=\"fill: #1f77b4; fill-opacity: 0.7; stroke: #000000; stroke-opacity: 0.7\"/>\n     <use xlink:href=\"#m7bb8221160\" x=\"250.764218\" y=\"165.638948\" style=\"fill: #1f77b4; fill-opacity: 0.7; stroke: #000000; stroke-opacity: 0.7\"/>\n     <use xlink:href=\"#m7bb8221160\" x=\"240.483461\" y=\"168.395526\" style=\"fill: #1f77b4; fill-opacity: 0.7; stroke: #000000; stroke-opacity: 0.7\"/>\n     <use xlink:href=\"#m7bb8221160\" x=\"359.944519\" y=\"114.6489\" style=\"fill: #1f77b4; fill-opacity: 0.7; stroke: #000000; stroke-opacity: 0.7\"/>\n     <use xlink:href=\"#m7bb8221160\" x=\"265.007386\" y=\"160.61926\" style=\"fill: #1f77b4; fill-opacity: 0.7; stroke: #000000; stroke-opacity: 0.7\"/>\n     <use xlink:href=\"#m7bb8221160\" x=\"166.894301\" y=\"216.907226\" style=\"fill: #1f77b4; fill-opacity: 0.7; stroke: #000000; stroke-opacity: 0.7\"/>\n     <use xlink:href=\"#m7bb8221160\" x=\"179.778337\" y=\"197.774139\" style=\"fill: #1f77b4; fill-opacity: 0.7; stroke: #000000; stroke-opacity: 0.7\"/>\n     <use xlink:href=\"#m7bb8221160\" x=\"199.125766\" y=\"193.248817\" style=\"fill: #1f77b4; fill-opacity: 0.7; stroke: #000000; stroke-opacity: 0.7\"/>\n     <use xlink:href=\"#m7bb8221160\" x=\"327.298564\" y=\"111.423396\" style=\"fill: #1f77b4; fill-opacity: 0.7; stroke: #000000; stroke-opacity: 0.7\"/>\n     <use xlink:href=\"#m7bb8221160\" x=\"295.202728\" y=\"130.829993\" style=\"fill: #1f77b4; fill-opacity: 0.7; stroke: #000000; stroke-opacity: 0.7\"/>\n     <use xlink:href=\"#m7bb8221160\" x=\"344.790254\" y=\"118.203694\" style=\"fill: #1f77b4; fill-opacity: 0.7; stroke: #000000; stroke-opacity: 0.7\"/>\n     <use xlink:href=\"#m7bb8221160\" x=\"243.659173\" y=\"180.845309\" style=\"fill: #1f77b4; fill-opacity: 0.7; stroke: #000000; stroke-opacity: 0.7\"/>\n     <use xlink:href=\"#m7bb8221160\" x=\"296.660692\" y=\"161.028585\" style=\"fill: #1f77b4; fill-opacity: 0.7; stroke: #000000; stroke-opacity: 0.7\"/>\n     <use xlink:href=\"#m7bb8221160\" x=\"338.918665\" y=\"113.207807\" style=\"fill: #1f77b4; fill-opacity: 0.7; stroke: #000000; stroke-opacity: 0.7\"/>\n     <use xlink:href=\"#m7bb8221160\" x=\"254.327122\" y=\"162.745815\" style=\"fill: #1f77b4; fill-opacity: 0.7; stroke: #000000; stroke-opacity: 0.7\"/>\n     <use xlink:href=\"#m7bb8221160\" x=\"323.64455\" y=\"127.315565\" style=\"fill: #1f77b4; fill-opacity: 0.7; stroke: #000000; stroke-opacity: 0.7\"/>\n     <use xlink:href=\"#m7bb8221160\" x=\"222.426323\" y=\"208.677191\" style=\"fill: #1f77b4; fill-opacity: 0.7; stroke: #000000; stroke-opacity: 0.7\"/>\n     <use xlink:href=\"#m7bb8221160\" x=\"249.467774\" y=\"158.342184\" style=\"fill: #1f77b4; fill-opacity: 0.7; stroke: #000000; stroke-opacity: 0.7\"/>\n     <use xlink:href=\"#m7bb8221160\" x=\"247.777273\" y=\"163.82585\" style=\"fill: #1f77b4; fill-opacity: 0.7; stroke: #000000; stroke-opacity: 0.7\"/>\n     <use xlink:href=\"#m7bb8221160\" x=\"174.118696\" y=\"219.53487\" style=\"fill: #1f77b4; fill-opacity: 0.7; stroke: #000000; stroke-opacity: 0.7\"/>\n     <use xlink:href=\"#m7bb8221160\" x=\"326.376747\" y=\"137.220419\" style=\"fill: #1f77b4; fill-opacity: 0.7; stroke: #000000; stroke-opacity: 0.7\"/>\n     <use xlink:href=\"#m7bb8221160\" x=\"239.845539\" y=\"169.653218\" style=\"fill: #1f77b4; fill-opacity: 0.7; stroke: #000000; stroke-opacity: 0.7\"/>\n     <use xlink:href=\"#m7bb8221160\" x=\"283.446731\" y=\"151.200624\" style=\"fill: #1f77b4; fill-opacity: 0.7; stroke: #000000; stroke-opacity: 0.7\"/>\n     <use xlink:href=\"#m7bb8221160\" x=\"325.813444\" y=\"135.142462\" style=\"fill: #1f77b4; fill-opacity: 0.7; stroke: #000000; stroke-opacity: 0.7\"/>\n     <use xlink:href=\"#m7bb8221160\" x=\"322.717684\" y=\"134.282481\" style=\"fill: #1f77b4; fill-opacity: 0.7; stroke: #000000; stroke-opacity: 0.7\"/>\n     <use xlink:href=\"#m7bb8221160\" x=\"342.519225\" y=\"126.652994\" style=\"fill: #1f77b4; fill-opacity: 0.7; stroke: #000000; stroke-opacity: 0.7\"/>\n     <use xlink:href=\"#m7bb8221160\" x=\"273.405481\" y=\"154.855261\" style=\"fill: #1f77b4; fill-opacity: 0.7; stroke: #000000; stroke-opacity: 0.7\"/>\n     <use xlink:href=\"#m7bb8221160\" x=\"244.016955\" y=\"156.127365\" style=\"fill: #1f77b4; fill-opacity: 0.7; stroke: #000000; stroke-opacity: 0.7\"/>\n     <use xlink:href=\"#m7bb8221160\" x=\"275.103513\" y=\"207.321383\" style=\"fill: #1f77b4; fill-opacity: 0.7; stroke: #000000; stroke-opacity: 0.7\"/>\n     <use xlink:href=\"#m7bb8221160\" x=\"129.649063\" y=\"228.153209\" style=\"fill: #1f77b4; fill-opacity: 0.7; stroke: #000000; stroke-opacity: 0.7\"/>\n     <use xlink:href=\"#m7bb8221160\" x=\"151.383948\" y=\"212.877306\" style=\"fill: #1f77b4; fill-opacity: 0.7; stroke: #000000; stroke-opacity: 0.7\"/>\n     <use xlink:href=\"#m7bb8221160\" x=\"162.640617\" y=\"206.182973\" style=\"fill: #1f77b4; fill-opacity: 0.7; stroke: #000000; stroke-opacity: 0.7\"/>\n     <use xlink:href=\"#m7bb8221160\" x=\"192.087045\" y=\"200.052742\" style=\"fill: #1f77b4; fill-opacity: 0.7; stroke: #000000; stroke-opacity: 0.7\"/>\n     <use xlink:href=\"#m7bb8221160\" x=\"318.487193\" y=\"163.059039\" style=\"fill: #1f77b4; fill-opacity: 0.7; stroke: #000000; stroke-opacity: 0.7\"/>\n     <use xlink:href=\"#m7bb8221160\" x=\"200.390041\" y=\"187.803685\" style=\"fill: #1f77b4; fill-opacity: 0.7; stroke: #000000; stroke-opacity: 0.7\"/>\n     <use xlink:href=\"#m7bb8221160\" x=\"248.100763\" y=\"152.083585\" style=\"fill: #1f77b4; fill-opacity: 0.7; stroke: #000000; stroke-opacity: 0.7\"/>\n     <use xlink:href=\"#m7bb8221160\" x=\"399.868306\" y=\"119.456554\" style=\"fill: #1f77b4; fill-opacity: 0.7; stroke: #000000; stroke-opacity: 0.7\"/>\n     <use xlink:href=\"#m7bb8221160\" x=\"250.082111\" y=\"158.648867\" style=\"fill: #1f77b4; fill-opacity: 0.7; stroke: #000000; stroke-opacity: 0.7\"/>\n     <use xlink:href=\"#m7bb8221160\" x=\"349.04547\" y=\"124.509838\" style=\"fill: #1f77b4; fill-opacity: 0.7; stroke: #000000; stroke-opacity: 0.7\"/>\n     <use xlink:href=\"#m7bb8221160\" x=\"197.844105\" y=\"193.430055\" style=\"fill: #1f77b4; fill-opacity: 0.7; stroke: #000000; stroke-opacity: 0.7\"/>\n     <use xlink:href=\"#m7bb8221160\" x=\"263.728635\" y=\"175.772281\" style=\"fill: #1f77b4; fill-opacity: 0.7; stroke: #000000; stroke-opacity: 0.7\"/>\n     <use xlink:href=\"#m7bb8221160\" x=\"196.359864\" y=\"197.525717\" style=\"fill: #1f77b4; fill-opacity: 0.7; stroke: #000000; stroke-opacity: 0.7\"/>\n     <use xlink:href=\"#m7bb8221160\" x=\"251.641134\" y=\"153.946583\" style=\"fill: #1f77b4; fill-opacity: 0.7; stroke: #000000; stroke-opacity: 0.7\"/>\n     <use xlink:href=\"#m7bb8221160\" x=\"358.345971\" y=\"109.687585\" style=\"fill: #1f77b4; fill-opacity: 0.7; stroke: #000000; stroke-opacity: 0.7\"/>\n     <use xlink:href=\"#m7bb8221160\" x=\"126.031197\" y=\"210.357846\" style=\"fill: #1f77b4; fill-opacity: 0.7; stroke: #000000; stroke-opacity: 0.7\"/>\n     <use xlink:href=\"#m7bb8221160\" x=\"321.622215\" y=\"121.592366\" style=\"fill: #1f77b4; fill-opacity: 0.7; stroke: #000000; stroke-opacity: 0.7\"/>\n     <use xlink:href=\"#m7bb8221160\" x=\"303.826207\" y=\"137.211094\" style=\"fill: #1f77b4; fill-opacity: 0.7; stroke: #000000; stroke-opacity: 0.7\"/>\n     <use xlink:href=\"#m7bb8221160\" x=\"228.558582\" y=\"161.286857\" style=\"fill: #1f77b4; fill-opacity: 0.7; stroke: #000000; stroke-opacity: 0.7\"/>\n     <use xlink:href=\"#m7bb8221160\" x=\"151.479368\" y=\"209.989692\" style=\"fill: #1f77b4; fill-opacity: 0.7; stroke: #000000; stroke-opacity: 0.7\"/>\n     <use xlink:href=\"#m7bb8221160\" x=\"288.842442\" y=\"140.474518\" style=\"fill: #1f77b4; fill-opacity: 0.7; stroke: #000000; stroke-opacity: 0.7\"/>\n     <use xlink:href=\"#m7bb8221160\" x=\"234.408662\" y=\"178.863524\" style=\"fill: #1f77b4; fill-opacity: 0.7; stroke: #000000; stroke-opacity: 0.7\"/>\n     <use xlink:href=\"#m7bb8221160\" x=\"303.368442\" y=\"141.521334\" style=\"fill: #1f77b4; fill-opacity: 0.7; stroke: #000000; stroke-opacity: 0.7\"/>\n     <use xlink:href=\"#m7bb8221160\" x=\"284.29343\" y=\"160.473971\" style=\"fill: #1f77b4; fill-opacity: 0.7; stroke: #000000; stroke-opacity: 0.7\"/>\n     <use xlink:href=\"#m7bb8221160\" x=\"427.242582\" y=\"72.838973\" style=\"fill: #1f77b4; fill-opacity: 0.7; stroke: #000000; stroke-opacity: 0.7\"/>\n     <use xlink:href=\"#m7bb8221160\" x=\"260.659784\" y=\"179.347818\" style=\"fill: #1f77b4; fill-opacity: 0.7; stroke: #000000; stroke-opacity: 0.7\"/>\n     <use xlink:href=\"#m7bb8221160\" x=\"189.711928\" y=\"188.26942\" style=\"fill: #1f77b4; fill-opacity: 0.7; stroke: #000000; stroke-opacity: 0.7\"/>\n     <use xlink:href=\"#m7bb8221160\" x=\"298.536846\" y=\"146.89865\" style=\"fill: #1f77b4; fill-opacity: 0.7; stroke: #000000; stroke-opacity: 0.7\"/>\n     <use xlink:href=\"#m7bb8221160\" x=\"302.221219\" y=\"130.915245\" style=\"fill: #1f77b4; fill-opacity: 0.7; stroke: #000000; stroke-opacity: 0.7\"/>\n     <use xlink:href=\"#m7bb8221160\" x=\"405.293322\" y=\"85.589646\" style=\"fill: #1f77b4; fill-opacity: 0.7; stroke: #000000; stroke-opacity: 0.7\"/>\n     <use xlink:href=\"#m7bb8221160\" x=\"357.875765\" y=\"98.904337\" style=\"fill: #1f77b4; fill-opacity: 0.7; stroke: #000000; stroke-opacity: 0.7\"/>\n     <use xlink:href=\"#m7bb8221160\" x=\"314.605386\" y=\"129.108401\" style=\"fill: #1f77b4; fill-opacity: 0.7; stroke: #000000; stroke-opacity: 0.7\"/>\n     <use xlink:href=\"#m7bb8221160\" x=\"414.713503\" y=\"113.138657\" style=\"fill: #1f77b4; fill-opacity: 0.7; stroke: #000000; stroke-opacity: 0.7\"/>\n     <use xlink:href=\"#m7bb8221160\" x=\"174.758975\" y=\"204.525235\" style=\"fill: #1f77b4; fill-opacity: 0.7; stroke: #000000; stroke-opacity: 0.7\"/>\n     <use xlink:href=\"#m7bb8221160\" x=\"224.432626\" y=\"196.545489\" style=\"fill: #1f77b4; fill-opacity: 0.7; stroke: #000000; stroke-opacity: 0.7\"/>\n     <use xlink:href=\"#m7bb8221160\" x=\"198.48123\" y=\"198.950774\" style=\"fill: #1f77b4; fill-opacity: 0.7; stroke: #000000; stroke-opacity: 0.7\"/>\n     <use xlink:href=\"#m7bb8221160\" x=\"247.04694\" y=\"154.348147\" style=\"fill: #1f77b4; fill-opacity: 0.7; stroke: #000000; stroke-opacity: 0.7\"/>\n     <use xlink:href=\"#m7bb8221160\" x=\"157.756005\" y=\"204.959241\" style=\"fill: #1f77b4; fill-opacity: 0.7; stroke: #000000; stroke-opacity: 0.7\"/>\n     <use xlink:href=\"#m7bb8221160\" x=\"339.783688\" y=\"133.987514\" style=\"fill: #1f77b4; fill-opacity: 0.7; stroke: #000000; stroke-opacity: 0.7\"/>\n     <use xlink:href=\"#m7bb8221160\" x=\"262.209943\" y=\"175.85925\" style=\"fill: #1f77b4; fill-opacity: 0.7; stroke: #000000; stroke-opacity: 0.7\"/>\n     <use xlink:href=\"#m7bb8221160\" x=\"149.24017\" y=\"215.540662\" style=\"fill: #1f77b4; fill-opacity: 0.7; stroke: #000000; stroke-opacity: 0.7\"/>\n     <use xlink:href=\"#m7bb8221160\" x=\"190.428373\" y=\"213.562653\" style=\"fill: #1f77b4; fill-opacity: 0.7; stroke: #000000; stroke-opacity: 0.7\"/>\n     <use xlink:href=\"#m7bb8221160\" x=\"310.682497\" y=\"147.489129\" style=\"fill: #1f77b4; fill-opacity: 0.7; stroke: #000000; stroke-opacity: 0.7\"/>\n     <use xlink:href=\"#m7bb8221160\" x=\"358.148586\" y=\"112.613339\" style=\"fill: #1f77b4; fill-opacity: 0.7; stroke: #000000; stroke-opacity: 0.7\"/>\n     <use xlink:href=\"#m7bb8221160\" x=\"462.977184\" y=\"54.262547\" style=\"fill: #1f77b4; fill-opacity: 0.7; stroke: #000000; stroke-opacity: 0.7\"/>\n     <use xlink:href=\"#m7bb8221160\" x=\"545.957727\" y=\"19.8\" style=\"fill: #1f77b4; fill-opacity: 0.7; stroke: #000000; stroke-opacity: 0.7\"/>\n     <use xlink:href=\"#m7bb8221160\" x=\"319.811362\" y=\"176.454089\" style=\"fill: #1f77b4; fill-opacity: 0.7; stroke: #000000; stroke-opacity: 0.7\"/>\n     <use xlink:href=\"#m7bb8221160\" x=\"192.784516\" y=\"191.692133\" style=\"fill: #1f77b4; fill-opacity: 0.7; stroke: #000000; stroke-opacity: 0.7\"/>\n     <use xlink:href=\"#m7bb8221160\" x=\"89.412273\" y=\"243.667179\" style=\"fill: #1f77b4; fill-opacity: 0.7; stroke: #000000; stroke-opacity: 0.7\"/>\n     <use xlink:href=\"#m7bb8221160\" x=\"306.538373\" y=\"136.180309\" style=\"fill: #1f77b4; fill-opacity: 0.7; stroke: #000000; stroke-opacity: 0.7\"/>\n     <use xlink:href=\"#m7bb8221160\" x=\"208.762722\" y=\"171.772463\" style=\"fill: #1f77b4; fill-opacity: 0.7; stroke: #000000; stroke-opacity: 0.7\"/>\n     <use xlink:href=\"#m7bb8221160\" x=\"244.735448\" y=\"205.77101\" style=\"fill: #1f77b4; fill-opacity: 0.7; stroke: #000000; stroke-opacity: 0.7\"/>\n     <use xlink:href=\"#m7bb8221160\" x=\"226.934781\" y=\"186.363617\" style=\"fill: #1f77b4; fill-opacity: 0.7; stroke: #000000; stroke-opacity: 0.7\"/>\n     <use xlink:href=\"#m7bb8221160\" x=\"269.577758\" y=\"152.009579\" style=\"fill: #1f77b4; fill-opacity: 0.7; stroke: #000000; stroke-opacity: 0.7\"/>\n     <use xlink:href=\"#m7bb8221160\" x=\"378.764407\" y=\"130.50773\" style=\"fill: #1f77b4; fill-opacity: 0.7; stroke: #000000; stroke-opacity: 0.7\"/>\n     <use xlink:href=\"#m7bb8221160\" x=\"296.525778\" y=\"131.006032\" style=\"fill: #1f77b4; fill-opacity: 0.7; stroke: #000000; stroke-opacity: 0.7\"/>\n     <use xlink:href=\"#m7bb8221160\" x=\"267.963267\" y=\"155.090793\" style=\"fill: #1f77b4; fill-opacity: 0.7; stroke: #000000; stroke-opacity: 0.7\"/>\n     <use xlink:href=\"#m7bb8221160\" x=\"188.61205\" y=\"188.177875\" style=\"fill: #1f77b4; fill-opacity: 0.7; stroke: #000000; stroke-opacity: 0.7\"/>\n     <use xlink:href=\"#m7bb8221160\" x=\"130.793749\" y=\"232.010484\" style=\"fill: #1f77b4; fill-opacity: 0.7; stroke: #000000; stroke-opacity: 0.7\"/>\n     <use xlink:href=\"#m7bb8221160\" x=\"238.315951\" y=\"164.747962\" style=\"fill: #1f77b4; fill-opacity: 0.7; stroke: #000000; stroke-opacity: 0.7\"/>\n     <use xlink:href=\"#m7bb8221160\" x=\"277.450128\" y=\"143.673094\" style=\"fill: #1f77b4; fill-opacity: 0.7; stroke: #000000; stroke-opacity: 0.7\"/>\n     <use xlink:href=\"#m7bb8221160\" x=\"442.275651\" y=\"73.289157\" style=\"fill: #1f77b4; fill-opacity: 0.7; stroke: #000000; stroke-opacity: 0.7\"/>\n     <use xlink:href=\"#m7bb8221160\" x=\"294.103307\" y=\"144.055781\" style=\"fill: #1f77b4; fill-opacity: 0.7; stroke: #000000; stroke-opacity: 0.7\"/>\n     <use xlink:href=\"#m7bb8221160\" x=\"371.232925\" y=\"106.815684\" style=\"fill: #1f77b4; fill-opacity: 0.7; stroke: #000000; stroke-opacity: 0.7\"/>\n     <use xlink:href=\"#m7bb8221160\" x=\"237.140846\" y=\"185.468434\" style=\"fill: #1f77b4; fill-opacity: 0.7; stroke: #000000; stroke-opacity: 0.7\"/>\n     <use xlink:href=\"#m7bb8221160\" x=\"175.104537\" y=\"205.333465\" style=\"fill: #1f77b4; fill-opacity: 0.7; stroke: #000000; stroke-opacity: 0.7\"/>\n     <use xlink:href=\"#m7bb8221160\" x=\"194.99412\" y=\"195.893061\" style=\"fill: #1f77b4; fill-opacity: 0.7; stroke: #000000; stroke-opacity: 0.7\"/>\n     <use xlink:href=\"#m7bb8221160\" x=\"216.699033\" y=\"179.420205\" style=\"fill: #1f77b4; fill-opacity: 0.7; stroke: #000000; stroke-opacity: 0.7\"/>\n     <use xlink:href=\"#m7bb8221160\" x=\"474.896695\" y=\"49.979554\" style=\"fill: #1f77b4; fill-opacity: 0.7; stroke: #000000; stroke-opacity: 0.7\"/>\n     <use xlink:href=\"#m7bb8221160\" x=\"207.99858\" y=\"202.487744\" style=\"fill: #1f77b4; fill-opacity: 0.7; stroke: #000000; stroke-opacity: 0.7\"/>\n     <use xlink:href=\"#m7bb8221160\" x=\"358.181397\" y=\"117.601568\" style=\"fill: #1f77b4; fill-opacity: 0.7; stroke: #000000; stroke-opacity: 0.7\"/>\n     <use xlink:href=\"#m7bb8221160\" x=\"200.620931\" y=\"176.774656\" style=\"fill: #1f77b4; fill-opacity: 0.7; stroke: #000000; stroke-opacity: 0.7\"/>\n     <use xlink:href=\"#m7bb8221160\" x=\"366.603465\" y=\"121.826602\" style=\"fill: #1f77b4; fill-opacity: 0.7; stroke: #000000; stroke-opacity: 0.7\"/>\n     <use xlink:href=\"#m7bb8221160\" x=\"317.146009\" y=\"146.624326\" style=\"fill: #1f77b4; fill-opacity: 0.7; stroke: #000000; stroke-opacity: 0.7\"/>\n     <use xlink:href=\"#m7bb8221160\" x=\"268.143947\" y=\"156.812169\" style=\"fill: #1f77b4; fill-opacity: 0.7; stroke: #000000; stroke-opacity: 0.7\"/>\n     <use xlink:href=\"#m7bb8221160\" x=\"278.628158\" y=\"145.197249\" style=\"fill: #1f77b4; fill-opacity: 0.7; stroke: #000000; stroke-opacity: 0.7\"/>\n     <use xlink:href=\"#m7bb8221160\" x=\"223.072179\" y=\"180.519328\" style=\"fill: #1f77b4; fill-opacity: 0.7; stroke: #000000; stroke-opacity: 0.7\"/>\n     <use xlink:href=\"#m7bb8221160\" x=\"322.676157\" y=\"119.762477\" style=\"fill: #1f77b4; fill-opacity: 0.7; stroke: #000000; stroke-opacity: 0.7\"/>\n     <use xlink:href=\"#m7bb8221160\" x=\"241.150133\" y=\"162.982642\" style=\"fill: #1f77b4; fill-opacity: 0.7; stroke: #000000; stroke-opacity: 0.7\"/>\n     <use xlink:href=\"#m7bb8221160\" x=\"171.425507\" y=\"196.433516\" style=\"fill: #1f77b4; fill-opacity: 0.7; stroke: #000000; stroke-opacity: 0.7\"/>\n     <use xlink:href=\"#m7bb8221160\" x=\"166.690612\" y=\"201.533248\" style=\"fill: #1f77b4; fill-opacity: 0.7; stroke: #000000; stroke-opacity: 0.7\"/>\n     <use xlink:href=\"#m7bb8221160\" x=\"297.931753\" y=\"123.733023\" style=\"fill: #1f77b4; fill-opacity: 0.7; stroke: #000000; stroke-opacity: 0.7\"/>\n     <use xlink:href=\"#m7bb8221160\" x=\"425.189842\" y=\"86.575069\" style=\"fill: #1f77b4; fill-opacity: 0.7; stroke: #000000; stroke-opacity: 0.7\"/>\n     <use xlink:href=\"#m7bb8221160\" x=\"296.79206\" y=\"179.340659\" style=\"fill: #1f77b4; fill-opacity: 0.7; stroke: #000000; stroke-opacity: 0.7\"/>\n     <use xlink:href=\"#m7bb8221160\" x=\"271.582085\" y=\"141.860596\" style=\"fill: #1f77b4; fill-opacity: 0.7; stroke: #000000; stroke-opacity: 0.7\"/>\n     <use xlink:href=\"#m7bb8221160\" x=\"308.177359\" y=\"145.728925\" style=\"fill: #1f77b4; fill-opacity: 0.7; stroke: #000000; stroke-opacity: 0.7\"/>\n     <use xlink:href=\"#m7bb8221160\" x=\"400.481156\" y=\"94.656064\" style=\"fill: #1f77b4; fill-opacity: 0.7; stroke: #000000; stroke-opacity: 0.7\"/>\n     <use xlink:href=\"#m7bb8221160\" x=\"302.165649\" y=\"129.72818\" style=\"fill: #1f77b4; fill-opacity: 0.7; stroke: #000000; stroke-opacity: 0.7\"/>\n     <use xlink:href=\"#m7bb8221160\" x=\"245.13627\" y=\"194.769864\" style=\"fill: #1f77b4; fill-opacity: 0.7; stroke: #000000; stroke-opacity: 0.7\"/>\n     <use xlink:href=\"#m7bb8221160\" x=\"382.411452\" y=\"122.469044\" style=\"fill: #1f77b4; fill-opacity: 0.7; stroke: #000000; stroke-opacity: 0.7\"/>\n     <use xlink:href=\"#m7bb8221160\" x=\"321.109456\" y=\"158.456348\" style=\"fill: #1f77b4; fill-opacity: 0.7; stroke: #000000; stroke-opacity: 0.7\"/>\n     <use xlink:href=\"#m7bb8221160\" x=\"421.268939\" y=\"96.461442\" style=\"fill: #1f77b4; fill-opacity: 0.7; stroke: #000000; stroke-opacity: 0.7\"/>\n     <use xlink:href=\"#m7bb8221160\" x=\"298.895032\" y=\"139.561004\" style=\"fill: #1f77b4; fill-opacity: 0.7; stroke: #000000; stroke-opacity: 0.7\"/>\n     <use xlink:href=\"#m7bb8221160\" x=\"171.528357\" y=\"199.528405\" style=\"fill: #1f77b4; fill-opacity: 0.7; stroke: #000000; stroke-opacity: 0.7\"/>\n     <use xlink:href=\"#m7bb8221160\" x=\"158.527509\" y=\"208.362449\" style=\"fill: #1f77b4; fill-opacity: 0.7; stroke: #000000; stroke-opacity: 0.7\"/>\n     <use xlink:href=\"#m7bb8221160\" x=\"431.689505\" y=\"101.888724\" style=\"fill: #1f77b4; fill-opacity: 0.7; stroke: #000000; stroke-opacity: 0.7\"/>\n     <use xlink:href=\"#m7bb8221160\" x=\"438.2707\" y=\"120.452071\" style=\"fill: #1f77b4; fill-opacity: 0.7; stroke: #000000; stroke-opacity: 0.7\"/>\n     <use xlink:href=\"#m7bb8221160\" x=\"266.073683\" y=\"159.478093\" style=\"fill: #1f77b4; fill-opacity: 0.7; stroke: #000000; stroke-opacity: 0.7\"/>\n     <use xlink:href=\"#m7bb8221160\" x=\"247.646131\" y=\"174.834205\" style=\"fill: #1f77b4; fill-opacity: 0.7; stroke: #000000; stroke-opacity: 0.7\"/>\n     <use xlink:href=\"#m7bb8221160\" x=\"414.54534\" y=\"84.107257\" style=\"fill: #1f77b4; fill-opacity: 0.7; stroke: #000000; stroke-opacity: 0.7\"/>\n     <use xlink:href=\"#m7bb8221160\" x=\"182.152627\" y=\"192.665411\" style=\"fill: #1f77b4; fill-opacity: 0.7; stroke: #000000; stroke-opacity: 0.7\"/>\n     <use xlink:href=\"#m7bb8221160\" x=\"201.362867\" y=\"189.432319\" style=\"fill: #1f77b4; fill-opacity: 0.7; stroke: #000000; stroke-opacity: 0.7\"/>\n     <use xlink:href=\"#m7bb8221160\" x=\"340.523426\" y=\"116.440715\" style=\"fill: #1f77b4; fill-opacity: 0.7; stroke: #000000; stroke-opacity: 0.7\"/>\n     <use xlink:href=\"#m7bb8221160\" x=\"246.613067\" y=\"166.799605\" style=\"fill: #1f77b4; fill-opacity: 0.7; stroke: #000000; stroke-opacity: 0.7\"/>\n     <use xlink:href=\"#m7bb8221160\" x=\"281.852866\" y=\"146.76498\" style=\"fill: #1f77b4; fill-opacity: 0.7; stroke: #000000; stroke-opacity: 0.7\"/>\n     <use xlink:href=\"#m7bb8221160\" x=\"267.528242\" y=\"168.587858\" style=\"fill: #1f77b4; fill-opacity: 0.7; stroke: #000000; stroke-opacity: 0.7\"/>\n    </g>\n   </g>\n  </g>\n </g>\n <defs>\n  <clipPath id=\"p343807a090\">\n   <rect x=\"66.585\" y=\"7.2\" width=\"502.2\" height=\"277.2\"/>\n  </clipPath>\n </defs>\n</svg>\n"
     },
     "metadata": {},
     "output_type": "display_data"
    }
   ],
   "execution_count": 33
  },
  {
   "cell_type": "markdown",
   "metadata": {},
   "source": [
    "## Color"
   ]
  },
  {
   "cell_type": "code",
   "metadata": {
    "ExecuteTime": {
     "end_time": "2025-03-18T13:43:39.839472Z",
     "start_time": "2025-03-18T13:43:39.826435Z"
    }
   },
   "source": [
    "# Some helper functions\n",
    "def plot_color_gradients(cmap_list, patchh=0.22):\n",
    "    \n",
    "    gradient = np.linspace(0, 1, 256)\n",
    "    gradient = np.vstack((gradient, gradient))\n",
    "\n",
    "    # Create figure and adjust figure height to number of colormaps\n",
    "    nrows = len(cmap_list)\n",
    "    figh = 0.35 + 0.15 + (nrows + (nrows - 1) * 0.1) * patchh\n",
    "    fig, axs = plt.subplots(nrows=nrows + 1, figsize=(6.4, figh))\n",
    "    fig.subplots_adjust(top=1 - 0.35 / figh, bottom=0.15 / figh,\n",
    "                        left=0.2, right=0.99)\n",
    "    # axs[0].set_title(f'{category} colormaps', fontsize=14)\n",
    "\n",
    "    for ax, name in zip(axs, cmap_list):\n",
    "        ax.imshow(gradient, aspect='auto', cmap=mpl.colormaps[name])\n",
    "        ax.text(-0.01, 0.5, name, va='center', ha='right', fontsize=10,\n",
    "                transform=ax.transAxes)\n",
    "\n",
    "    # Turn off *all* ticks & spines, not just the ones with colormaps.\n",
    "    for ax in axs:\n",
    "        ax.set_axis_off()\n",
    "\n",
    "# plot a grid of square patches from a list of color definitions\n",
    "def plot_color_grid(colors):\n",
    "    _, ax = plt.subplots(1, 1, figsize=(len(colors), 1))\n",
    "\n",
    "    for i, color in enumerate(colors):\n",
    "        rect = mpl.patches.Rectangle((i, 0), 1, 1, facecolor=color)\n",
    "        ax.add_patch(rect)\n",
    "\n",
    "    ax.set_xlim(0, len(colors))\n",
    "    ax.set_ylim(0, 1)\n",
    "    ax.axis('off')  # Hide axes\n",
    "    plt.show()\n",
    "\n",
    "def rgb_adjust_ls(rgb, l=None, s=None):\n",
    "    c = colorsys.rgb_to_hls(*rgb)\n",
    "    if l==None:\n",
    "        l=c[1]\n",
    "    if s==None:\n",
    "        s=c[2]\n",
    "    return colorsys.hls_to_rgb(c[0], max(0.0, min(1.0, l)), max(0.0, min(1.0, s)))"
   ],
   "outputs": [],
   "execution_count": 34
  },
  {
   "cell_type": "markdown",
   "metadata": {},
   "source": [
    "Named colors in matplotlib:"
   ]
  },
  {
   "cell_type": "code",
   "metadata": {
    "ExecuteTime": {
     "end_time": "2025-03-18T13:43:39.849825Z",
     "start_time": "2025-03-18T13:43:39.846965Z"
    }
   },
   "source": [
    "# mpl.colors.BASE_COLORS.keys()\n",
    "# mpl.colors.TABLEAU_COLORS.keys()\n",
    "mpl.colors.CSS4_COLORS.keys()\n",
    "# mpl.colors.XKCD_COLORS.keys()"
   ],
   "outputs": [
    {
     "data": {
      "text/plain": [
       "dict_keys(['aliceblue', 'antiquewhite', 'aqua', 'aquamarine', 'azure', 'beige', 'bisque', 'black', 'blanchedalmond', 'blue', 'blueviolet', 'brown', 'burlywood', 'cadetblue', 'chartreuse', 'chocolate', 'coral', 'cornflowerblue', 'cornsilk', 'crimson', 'cyan', 'darkblue', 'darkcyan', 'darkgoldenrod', 'darkgray', 'darkgreen', 'darkgrey', 'darkkhaki', 'darkmagenta', 'darkolivegreen', 'darkorange', 'darkorchid', 'darkred', 'darksalmon', 'darkseagreen', 'darkslateblue', 'darkslategray', 'darkslategrey', 'darkturquoise', 'darkviolet', 'deeppink', 'deepskyblue', 'dimgray', 'dimgrey', 'dodgerblue', 'firebrick', 'floralwhite', 'forestgreen', 'fuchsia', 'gainsboro', 'ghostwhite', 'gold', 'goldenrod', 'gray', 'green', 'greenyellow', 'grey', 'honeydew', 'hotpink', 'indianred', 'indigo', 'ivory', 'khaki', 'lavender', 'lavenderblush', 'lawngreen', 'lemonchiffon', 'lightblue', 'lightcoral', 'lightcyan', 'lightgoldenrodyellow', 'lightgray', 'lightgreen', 'lightgrey', 'lightpink', 'lightsalmon', 'lightseagreen', 'lightskyblue', 'lightslategray', 'lightslategrey', 'lightsteelblue', 'lightyellow', 'lime', 'limegreen', 'linen', 'magenta', 'maroon', 'mediumaquamarine', 'mediumblue', 'mediumorchid', 'mediumpurple', 'mediumseagreen', 'mediumslateblue', 'mediumspringgreen', 'mediumturquoise', 'mediumvioletred', 'midnightblue', 'mintcream', 'mistyrose', 'moccasin', 'navajowhite', 'navy', 'oldlace', 'olive', 'olivedrab', 'orange', 'orangered', 'orchid', 'palegoldenrod', 'palegreen', 'paleturquoise', 'palevioletred', 'papayawhip', 'peachpuff', 'peru', 'pink', 'plum', 'powderblue', 'purple', 'rebeccapurple', 'red', 'rosybrown', 'royalblue', 'saddlebrown', 'salmon', 'sandybrown', 'seagreen', 'seashell', 'sienna', 'silver', 'skyblue', 'slateblue', 'slategray', 'slategrey', 'snow', 'springgreen', 'steelblue', 'tan', 'teal', 'thistle', 'tomato', 'turquoise', 'violet', 'wheat', 'white', 'whitesmoke', 'yellow', 'yellowgreen'])"
      ]
     },
     "execution_count": 35,
     "metadata": {},
     "output_type": "execute_result"
    }
   ],
   "execution_count": 35
  },
  {
   "cell_type": "code",
   "metadata": {
    "ExecuteTime": {
     "end_time": "2025-03-18T13:43:39.872517Z",
     "start_time": "2025-03-18T13:43:39.869476Z"
    }
   },
   "source": [
    "mpl.colors.to_rgb('mediumorchid')"
   ],
   "outputs": [
    {
     "data": {
      "text/plain": [
       "(0.7294117647058823, 0.3333333333333333, 0.8274509803921568)"
      ]
     },
     "execution_count": 36,
     "metadata": {},
     "output_type": "execute_result"
    }
   ],
   "execution_count": 36
  },
  {
   "cell_type": "markdown",
   "metadata": {},
   "source": [
    "![Munstell Color System. Source: Wikipedia](https://upload.wikimedia.org/wikipedia/commons/d/d5/Munsell-system.svg)  \n",
    "Source: Wikipedia - https://upload.wikimedia.org/wikipedia/commons/d/d5/Munsell-system.svg\n",
    "\n",
    "* Hue: another word for color\n",
    "* Lightness (value): the relative degree of black or white mixed with a given hue\n",
    "* Saturation (chroma): the intensity or purity of a hue"
   ]
  },
  {
   "cell_type": "code",
   "metadata": {
    "ExecuteTime": {
     "end_time": "2025-03-18T13:43:39.911932Z",
     "start_time": "2025-03-18T13:43:39.899803Z"
    }
   },
   "source": [
    "plot_color_grid([colorsys.hls_to_rgb(0.3,0.5,0.5)])"
   ],
   "outputs": [
    {
     "data": {
      "text/plain": [
       "<Figure size 100x100 with 1 Axes>"
      ],
      "image/svg+xml": "<?xml version=\"1.0\" encoding=\"utf-8\" standalone=\"no\"?>\n<!DOCTYPE svg PUBLIC \"-//W3C//DTD SVG 1.1//EN\"\n  \"http://www.w3.org/Graphics/SVG/1.1/DTD/svg11.dtd\">\n<svg xmlns:xlink=\"http://www.w3.org/1999/xlink\" width=\"70.2pt\" height=\"69.84pt\" viewBox=\"0 0 70.2 69.84\" xmlns=\"http://www.w3.org/2000/svg\" version=\"1.1\">\n <metadata>\n  <rdf:RDF xmlns:dc=\"http://purl.org/dc/elements/1.1/\" xmlns:cc=\"http://creativecommons.org/ns#\" xmlns:rdf=\"http://www.w3.org/1999/02/22-rdf-syntax-ns#\">\n   <cc:Work>\n    <dc:type rdf:resource=\"http://purl.org/dc/dcmitype/StillImage\"/>\n    <dc:date>2025-03-18T14:43:39.909180</dc:date>\n    <dc:format>image/svg+xml</dc:format>\n    <dc:creator>\n     <cc:Agent>\n      <dc:title>Matplotlib v3.10.0, https://matplotlib.org/</dc:title>\n     </cc:Agent>\n    </dc:creator>\n   </cc:Work>\n  </rdf:RDF>\n </metadata>\n <defs>\n  <style type=\"text/css\">*{stroke-linejoin: round; stroke-linecap: butt}</style>\n </defs>\n <g id=\"figure_1\">\n  <g id=\"patch_1\">\n   <path d=\"M 0 69.84 \nL 70.2 69.84 \nL 70.2 0 \nL 0 0 \nz\n\" style=\"fill: #ffffff\"/>\n  </g>\n  <g id=\"axes_1\">\n   <g id=\"patch_2\">\n    <path d=\"M 7.2 62.64 \nL 63 62.64 \nL 63 7.2 \nL 7.2 7.2 \nz\n\" clip-path=\"url(#pbf166a4d9f)\" style=\"fill: #59bf40\"/>\n   </g>\n  </g>\n </g>\n <defs>\n  <clipPath id=\"pbf166a4d9f\">\n   <rect x=\"7.2\" y=\"7.2\" width=\"55.8\" height=\"55.44\"/>\n  </clipPath>\n </defs>\n</svg>\n"
     },
     "metadata": {},
     "output_type": "display_data"
    }
   ],
   "execution_count": 37
  },
  {
   "cell_type": "code",
   "metadata": {
    "ExecuteTime": {
     "end_time": "2025-03-18T13:43:39.936852Z",
     "start_time": "2025-03-18T13:43:39.921224Z"
    }
   },
   "source": [
    "plot_color_grid([colorsys.hls_to_rgb(h,0.5,1.0) for h in np.linspace(0, 0.9, 10)])"
   ],
   "outputs": [
    {
     "data": {
      "text/plain": [
       "<Figure size 1000x100 with 1 Axes>"
      ],
      "image/svg+xml": "<?xml version=\"1.0\" encoding=\"utf-8\" standalone=\"no\"?>\n<!DOCTYPE svg PUBLIC \"-//W3C//DTD SVG 1.1//EN\"\n  \"http://www.w3.org/Graphics/SVG/1.1/DTD/svg11.dtd\">\n<svg xmlns:xlink=\"http://www.w3.org/1999/xlink\" width=\"572.4pt\" height=\"69.84pt\" viewBox=\"0 0 572.4 69.84\" xmlns=\"http://www.w3.org/2000/svg\" version=\"1.1\">\n <metadata>\n  <rdf:RDF xmlns:dc=\"http://purl.org/dc/elements/1.1/\" xmlns:cc=\"http://creativecommons.org/ns#\" xmlns:rdf=\"http://www.w3.org/1999/02/22-rdf-syntax-ns#\">\n   <cc:Work>\n    <dc:type rdf:resource=\"http://purl.org/dc/dcmitype/StillImage\"/>\n    <dc:date>2025-03-18T14:43:39.932505</dc:date>\n    <dc:format>image/svg+xml</dc:format>\n    <dc:creator>\n     <cc:Agent>\n      <dc:title>Matplotlib v3.10.0, https://matplotlib.org/</dc:title>\n     </cc:Agent>\n    </dc:creator>\n   </cc:Work>\n  </rdf:RDF>\n </metadata>\n <defs>\n  <style type=\"text/css\">*{stroke-linejoin: round; stroke-linecap: butt}</style>\n </defs>\n <g id=\"figure_1\">\n  <g id=\"patch_1\">\n   <path d=\"M 0 69.84 \nL 572.4 69.84 \nL 572.4 0 \nL 0 0 \nz\n\" style=\"fill: #ffffff\"/>\n  </g>\n  <g id=\"axes_1\">\n   <g id=\"patch_2\">\n    <path d=\"M 7.2 62.64 \nL 63 62.64 \nL 63 7.2 \nL 7.2 7.2 \nz\n\" clip-path=\"url(#pd871fa595a)\" style=\"fill: #ff0000\"/>\n   </g>\n   <g id=\"patch_3\">\n    <path d=\"M 63 62.64 \nL 118.8 62.64 \nL 118.8 7.2 \nL 63 7.2 \nz\n\" clip-path=\"url(#pd871fa595a)\" style=\"fill: #ff9900\"/>\n   </g>\n   <g id=\"patch_4\">\n    <path d=\"M 118.8 62.64 \nL 174.6 62.64 \nL 174.6 7.2 \nL 118.8 7.2 \nz\n\" clip-path=\"url(#pd871fa595a)\" style=\"fill: #ccff00\"/>\n   </g>\n   <g id=\"patch_5\">\n    <path d=\"M 174.6 62.64 \nL 230.4 62.64 \nL 230.4 7.2 \nL 174.6 7.2 \nz\n\" clip-path=\"url(#pd871fa595a)\" style=\"fill: #33ff00\"/>\n   </g>\n   <g id=\"patch_6\">\n    <path d=\"M 230.4 62.64 \nL 286.2 62.64 \nL 286.2 7.2 \nL 230.4 7.2 \nz\n\" clip-path=\"url(#pd871fa595a)\" style=\"fill: #00ff66\"/>\n   </g>\n   <g id=\"patch_7\">\n    <path d=\"M 286.2 62.64 \nL 342 62.64 \nL 342 7.2 \nL 286.2 7.2 \nz\n\" clip-path=\"url(#pd871fa595a)\" style=\"fill: #00ffff\"/>\n   </g>\n   <g id=\"patch_8\">\n    <path d=\"M 342 62.64 \nL 397.8 62.64 \nL 397.8 7.2 \nL 342 7.2 \nz\n\" clip-path=\"url(#pd871fa595a)\" style=\"fill: #0066ff\"/>\n   </g>\n   <g id=\"patch_9\">\n    <path d=\"M 397.8 62.64 \nL 453.6 62.64 \nL 453.6 7.2 \nL 397.8 7.2 \nz\n\" clip-path=\"url(#pd871fa595a)\" style=\"fill: #3300ff\"/>\n   </g>\n   <g id=\"patch_10\">\n    <path d=\"M 453.6 62.64 \nL 509.4 62.64 \nL 509.4 7.2 \nL 453.6 7.2 \nz\n\" clip-path=\"url(#pd871fa595a)\" style=\"fill: #cc00ff\"/>\n   </g>\n   <g id=\"patch_11\">\n    <path d=\"M 509.4 62.64 \nL 565.2 62.64 \nL 565.2 7.2 \nL 509.4 7.2 \nz\n\" clip-path=\"url(#pd871fa595a)\" style=\"fill: #ff0099\"/>\n   </g>\n  </g>\n </g>\n <defs>\n  <clipPath id=\"pd871fa595a\">\n   <rect x=\"7.2\" y=\"7.2\" width=\"558\" height=\"55.44\"/>\n  </clipPath>\n </defs>\n</svg>\n"
     },
     "metadata": {},
     "output_type": "display_data"
    }
   ],
   "execution_count": 38
  },
  {
   "cell_type": "code",
   "metadata": {
    "ExecuteTime": {
     "end_time": "2025-03-18T13:43:39.953490Z",
     "start_time": "2025-03-18T13:43:39.951803Z"
    }
   },
   "source": [],
   "outputs": [],
   "execution_count": null
  },
  {
   "cell_type": "code",
   "metadata": {
    "ExecuteTime": {
     "end_time": "2025-03-18T13:43:39.964274Z",
     "start_time": "2025-03-18T13:43:39.961524Z"
    }
   },
   "source": [
    "mpl.colors.to_rgb('mediumorchid')"
   ],
   "outputs": [
    {
     "data": {
      "text/plain": [
       "(0.7294117647058823, 0.3333333333333333, 0.8274509803921568)"
      ]
     },
     "execution_count": 39,
     "metadata": {},
     "output_type": "execute_result"
    }
   ],
   "execution_count": 39
  },
  {
   "cell_type": "code",
   "metadata": {
    "ExecuteTime": {
     "end_time": "2025-03-18T13:43:39.991927Z",
     "start_time": "2025-03-18T13:43:39.989142Z"
    }
   },
   "source": [
    "colorsys.rgb_to_hls(*mpl.colors.to_rgb('mediumorchid'))"
   ],
   "outputs": [
    {
     "data": {
      "text/plain": [
       "(0.8002645502645502, 0.580392156862745, 0.5887850467289718)"
      ]
     },
     "execution_count": 40,
     "metadata": {},
     "output_type": "execute_result"
    }
   ],
   "execution_count": 40
  },
  {
   "cell_type": "code",
   "metadata": {
    "ExecuteTime": {
     "end_time": "2025-03-18T13:43:40.022303Z",
     "start_time": "2025-03-18T13:43:40.012958Z"
    }
   },
   "source": [
    "plot_color_grid([mpl.colors.to_rgb('mediumorchid')])"
   ],
   "outputs": [
    {
     "data": {
      "text/plain": [
       "<Figure size 100x100 with 1 Axes>"
      ],
      "image/svg+xml": "<?xml version=\"1.0\" encoding=\"utf-8\" standalone=\"no\"?>\n<!DOCTYPE svg PUBLIC \"-//W3C//DTD SVG 1.1//EN\"\n  \"http://www.w3.org/Graphics/SVG/1.1/DTD/svg11.dtd\">\n<svg xmlns:xlink=\"http://www.w3.org/1999/xlink\" width=\"70.2pt\" height=\"69.84pt\" viewBox=\"0 0 70.2 69.84\" xmlns=\"http://www.w3.org/2000/svg\" version=\"1.1\">\n <metadata>\n  <rdf:RDF xmlns:dc=\"http://purl.org/dc/elements/1.1/\" xmlns:cc=\"http://creativecommons.org/ns#\" xmlns:rdf=\"http://www.w3.org/1999/02/22-rdf-syntax-ns#\">\n   <cc:Work>\n    <dc:type rdf:resource=\"http://purl.org/dc/dcmitype/StillImage\"/>\n    <dc:date>2025-03-18T14:43:40.019551</dc:date>\n    <dc:format>image/svg+xml</dc:format>\n    <dc:creator>\n     <cc:Agent>\n      <dc:title>Matplotlib v3.10.0, https://matplotlib.org/</dc:title>\n     </cc:Agent>\n    </dc:creator>\n   </cc:Work>\n  </rdf:RDF>\n </metadata>\n <defs>\n  <style type=\"text/css\">*{stroke-linejoin: round; stroke-linecap: butt}</style>\n </defs>\n <g id=\"figure_1\">\n  <g id=\"patch_1\">\n   <path d=\"M 0 69.84 \nL 70.2 69.84 \nL 70.2 0 \nL 0 0 \nz\n\" style=\"fill: #ffffff\"/>\n  </g>\n  <g id=\"axes_1\">\n   <g id=\"patch_2\">\n    <path d=\"M 7.2 62.64 \nL 63 62.64 \nL 63 7.2 \nL 7.2 7.2 \nz\n\" clip-path=\"url(#p4e14c1e654)\" style=\"fill: #ba55d3\"/>\n   </g>\n  </g>\n </g>\n <defs>\n  <clipPath id=\"p4e14c1e654\">\n   <rect x=\"7.2\" y=\"7.2\" width=\"55.8\" height=\"55.44\"/>\n  </clipPath>\n </defs>\n</svg>\n"
     },
     "metadata": {},
     "output_type": "display_data"
    }
   ],
   "execution_count": 41
  },
  {
   "cell_type": "markdown",
   "metadata": {},
   "source": [
    "A hex color code is a 6‑symbol code made of up to three 2‑symbol elements: `#rrggbb`\n",
    "\n",
    "Where rr (red), gg (green) and bb (blue) are hexadecimal integers between `00` (0) and `ff` (255), specifying the intensity of the color.\n",
    "\n",
    "Hexadecimal uses sixteen distinct symbols, most often the symbols \"0\"–\"9\" to represent values 0 to 9, and \"A\"–\"F\" (or alternatively \"a\"–\"f\") to represent values from 10 to 15.\n",
    "\n",
    "To convert a hexadecimal number to decimal, each digit is multiplied by the corresponding power of 16 and then the products are added together. The rightmost digit represents the units place, the next digit to the left represents the 16s place, the next digit represents the 256s place, and so on.\n",
    "\n",
    "**To do: Calculate** `#3B` = "
   ]
  },
  {
   "cell_type": "code",
   "metadata": {
    "ExecuteTime": {
     "end_time": "2025-03-18T13:43:40.039534Z",
     "start_time": "2025-03-18T13:43:40.036695Z"
    }
   },
   "source": "32+16+11",
   "outputs": [
    {
     "data": {
      "text/plain": [
       "59"
      ]
     },
     "execution_count": 42,
     "metadata": {},
     "output_type": "execute_result"
    }
   ],
   "execution_count": 42
  },
  {
   "cell_type": "code",
   "metadata": {
    "ExecuteTime": {
     "end_time": "2025-03-18T13:43:40.067427Z",
     "start_time": "2025-03-18T13:43:40.064749Z"
    }
   },
   "source": [
    "mpl.colors.to_rgb('mediumorchid')"
   ],
   "outputs": [
    {
     "data": {
      "text/plain": [
       "(0.7294117647058823, 0.3333333333333333, 0.8274509803921568)"
      ]
     },
     "execution_count": 43,
     "metadata": {},
     "output_type": "execute_result"
    }
   ],
   "execution_count": 43
  },
  {
   "cell_type": "code",
   "metadata": {
    "ExecuteTime": {
     "end_time": "2025-03-18T13:43:40.090287Z",
     "start_time": "2025-03-18T13:43:40.087447Z"
    }
   },
   "source": [
    "[255*i for i in mpl.colors.to_rgb('mediumorchid')]"
   ],
   "outputs": [
    {
     "data": {
      "text/plain": [
       "[186.0, 85.0, 211.0]"
      ]
     },
     "execution_count": 44,
     "metadata": {},
     "output_type": "execute_result"
    }
   ],
   "execution_count": 44
  },
  {
   "cell_type": "markdown",
   "metadata": {},
   "source": [
    "**To do:** Convert to hex"
   ]
  },
  {
   "cell_type": "code",
   "metadata": {
    "ExecuteTime": {
     "end_time": "2025-03-18T13:43:40.120246Z",
     "start_time": "2025-03-18T13:43:40.118270Z"
    }
   },
   "source": "#BA55D3",
   "outputs": [],
   "execution_count": 45
  },
  {
   "cell_type": "markdown",
   "metadata": {},
   "source": [
    "Check:"
   ]
  },
  {
   "cell_type": "code",
   "metadata": {
    "ExecuteTime": {
     "end_time": "2025-03-18T13:43:40.141915Z",
     "start_time": "2025-03-18T13:43:40.139117Z"
    }
   },
   "source": "mpl.colors.rgb2hex(mpl.colors.to_rgb('mediumorchid'))",
   "outputs": [
    {
     "data": {
      "text/plain": [
       "'#ba55d3'"
      ]
     },
     "execution_count": 46,
     "metadata": {},
     "output_type": "execute_result"
    }
   ],
   "execution_count": 46
  },
  {
   "cell_type": "code",
   "metadata": {
    "ExecuteTime": {
     "end_time": "2025-03-18T13:43:40.226818Z",
     "start_time": "2025-03-18T13:43:40.222096Z"
    }
   },
   "source": "mpl.colors.hex2color('#BA55D3')",
   "outputs": [
    {
     "data": {
      "text/plain": [
       "(0.7294117647058823, 0.3333333333333333, 0.8274509803921568)"
      ]
     },
     "execution_count": 47,
     "metadata": {},
     "output_type": "execute_result"
    }
   ],
   "execution_count": 47
  },
  {
   "cell_type": "markdown",
   "metadata": {},
   "source": [
    "### Colormaps\n",
    "\n",
    "There are many:"
   ]
  },
  {
   "cell_type": "code",
   "metadata": {
    "ExecuteTime": {
     "end_time": "2025-03-18T13:43:40.254302Z",
     "start_time": "2025-03-18T13:43:40.250622Z"
    }
   },
   "source": [
    "len(plt.colormaps())"
   ],
   "outputs": [
    {
     "data": {
      "text/plain": [
       "180"
      ]
     },
     "execution_count": 48,
     "metadata": {},
     "output_type": "execute_result"
    }
   ],
   "execution_count": 48
  },
  {
   "cell_type": "code",
   "metadata": {
    "ExecuteTime": {
     "end_time": "2025-03-18T13:43:40.393412Z",
     "start_time": "2025-03-18T13:43:40.285418Z"
    }
   },
   "source": [
    "for cmap_key in plt.colormaps()[23:30]:\n",
    "    print(cmap_key, ':')\n",
    "    plot_color_grid([mpl.colormaps[cmap_key](s) for s in np.linspace(0, 1.0, 10)])"
   ],
   "outputs": [
    {
     "name": "stdout",
     "output_type": "stream",
     "text": [
      "PuBu :\n"
     ]
    },
    {
     "data": {
      "text/plain": [
       "<Figure size 1000x100 with 1 Axes>"
      ],
      "image/svg+xml": "<?xml version=\"1.0\" encoding=\"utf-8\" standalone=\"no\"?>\n<!DOCTYPE svg PUBLIC \"-//W3C//DTD SVG 1.1//EN\"\n  \"http://www.w3.org/Graphics/SVG/1.1/DTD/svg11.dtd\">\n<svg xmlns:xlink=\"http://www.w3.org/1999/xlink\" width=\"572.4pt\" height=\"69.84pt\" viewBox=\"0 0 572.4 69.84\" xmlns=\"http://www.w3.org/2000/svg\" version=\"1.1\">\n <metadata>\n  <rdf:RDF xmlns:dc=\"http://purl.org/dc/elements/1.1/\" xmlns:cc=\"http://creativecommons.org/ns#\" xmlns:rdf=\"http://www.w3.org/1999/02/22-rdf-syntax-ns#\">\n   <cc:Work>\n    <dc:type rdf:resource=\"http://purl.org/dc/dcmitype/StillImage\"/>\n    <dc:date>2025-03-18T14:43:40.297619</dc:date>\n    <dc:format>image/svg+xml</dc:format>\n    <dc:creator>\n     <cc:Agent>\n      <dc:title>Matplotlib v3.10.0, https://matplotlib.org/</dc:title>\n     </cc:Agent>\n    </dc:creator>\n   </cc:Work>\n  </rdf:RDF>\n </metadata>\n <defs>\n  <style type=\"text/css\">*{stroke-linejoin: round; stroke-linecap: butt}</style>\n </defs>\n <g id=\"figure_1\">\n  <g id=\"patch_1\">\n   <path d=\"M 0 69.84 \nL 572.4 69.84 \nL 572.4 0 \nL 0 0 \nz\n\" style=\"fill: #ffffff\"/>\n  </g>\n  <g id=\"axes_1\">\n   <g id=\"patch_2\">\n    <path d=\"M 7.2 62.64 \nL 63 62.64 \nL 63 7.2 \nL 7.2 7.2 \nz\n\" clip-path=\"url(#p5ce637d309)\" style=\"fill: #fff7fb\"/>\n   </g>\n   <g id=\"patch_3\">\n    <path d=\"M 63 62.64 \nL 118.8 62.64 \nL 118.8 7.2 \nL 63 7.2 \nz\n\" clip-path=\"url(#p5ce637d309)\" style=\"fill: #eee9f3\"/>\n   </g>\n   <g id=\"patch_4\">\n    <path d=\"M 118.8 62.64 \nL 174.6 62.64 \nL 174.6 7.2 \nL 118.8 7.2 \nz\n\" clip-path=\"url(#p5ce637d309)\" style=\"fill: #d7d6e9\"/>\n   </g>\n   <g id=\"patch_5\">\n    <path d=\"M 174.6 62.64 \nL 230.4 62.64 \nL 230.4 7.2 \nL 174.6 7.2 \nz\n\" clip-path=\"url(#p5ce637d309)\" style=\"fill: #b4c4df\"/>\n   </g>\n   <g id=\"patch_6\">\n    <path d=\"M 230.4 62.64 \nL 286.2 62.64 \nL 286.2 7.2 \nL 230.4 7.2 \nz\n\" clip-path=\"url(#p5ce637d309)\" style=\"fill: #8bb2d4\"/>\n   </g>\n   <g id=\"patch_7\">\n    <path d=\"M 286.2 62.64 \nL 342 62.64 \nL 342 7.2 \nL 286.2 7.2 \nz\n\" clip-path=\"url(#p5ce637d309)\" style=\"fill: #589ec8\"/>\n   </g>\n   <g id=\"patch_8\">\n    <path d=\"M 342 62.64 \nL 397.8 62.64 \nL 397.8 7.2 \nL 342 7.2 \nz\n\" clip-path=\"url(#p5ce637d309)\" style=\"fill: #2685bb\"/>\n   </g>\n   <g id=\"patch_9\">\n    <path d=\"M 397.8 62.64 \nL 453.6 62.64 \nL 453.6 7.2 \nL 397.8 7.2 \nz\n\" clip-path=\"url(#p5ce637d309)\" style=\"fill: #056ba7\"/>\n   </g>\n   <g id=\"patch_10\">\n    <path d=\"M 453.6 62.64 \nL 509.4 62.64 \nL 509.4 7.2 \nL 453.6 7.2 \nz\n\" clip-path=\"url(#p5ce637d309)\" style=\"fill: #045687\"/>\n   </g>\n   <g id=\"patch_11\">\n    <path d=\"M 509.4 62.64 \nL 565.2 62.64 \nL 565.2 7.2 \nL 509.4 7.2 \nz\n\" clip-path=\"url(#p5ce637d309)\" style=\"fill: #023858\"/>\n   </g>\n  </g>\n </g>\n <defs>\n  <clipPath id=\"p5ce637d309\">\n   <rect x=\"7.2\" y=\"7.2\" width=\"558\" height=\"55.44\"/>\n  </clipPath>\n </defs>\n</svg>\n"
     },
     "metadata": {},
     "output_type": "display_data"
    },
    {
     "name": "stdout",
     "output_type": "stream",
     "text": [
      "PuBuGn :\n"
     ]
    },
    {
     "data": {
      "text/plain": [
       "<Figure size 1000x100 with 1 Axes>"
      ],
      "image/svg+xml": "<?xml version=\"1.0\" encoding=\"utf-8\" standalone=\"no\"?>\n<!DOCTYPE svg PUBLIC \"-//W3C//DTD SVG 1.1//EN\"\n  \"http://www.w3.org/Graphics/SVG/1.1/DTD/svg11.dtd\">\n<svg xmlns:xlink=\"http://www.w3.org/1999/xlink\" width=\"572.4pt\" height=\"69.84pt\" viewBox=\"0 0 572.4 69.84\" xmlns=\"http://www.w3.org/2000/svg\" version=\"1.1\">\n <metadata>\n  <rdf:RDF xmlns:dc=\"http://purl.org/dc/elements/1.1/\" xmlns:cc=\"http://creativecommons.org/ns#\" xmlns:rdf=\"http://www.w3.org/1999/02/22-rdf-syntax-ns#\">\n   <cc:Work>\n    <dc:type rdf:resource=\"http://purl.org/dc/dcmitype/StillImage\"/>\n    <dc:date>2025-03-18T14:43:40.313036</dc:date>\n    <dc:format>image/svg+xml</dc:format>\n    <dc:creator>\n     <cc:Agent>\n      <dc:title>Matplotlib v3.10.0, https://matplotlib.org/</dc:title>\n     </cc:Agent>\n    </dc:creator>\n   </cc:Work>\n  </rdf:RDF>\n </metadata>\n <defs>\n  <style type=\"text/css\">*{stroke-linejoin: round; stroke-linecap: butt}</style>\n </defs>\n <g id=\"figure_1\">\n  <g id=\"patch_1\">\n   <path d=\"M 0 69.84 \nL 572.4 69.84 \nL 572.4 0 \nL 0 0 \nz\n\" style=\"fill: #ffffff\"/>\n  </g>\n  <g id=\"axes_1\">\n   <g id=\"patch_2\">\n    <path d=\"M 7.2 62.64 \nL 63 62.64 \nL 63 7.2 \nL 7.2 7.2 \nz\n\" clip-path=\"url(#p728d4c2774)\" style=\"fill: #fff7fb\"/>\n   </g>\n   <g id=\"patch_3\">\n    <path d=\"M 63 62.64 \nL 118.8 62.64 \nL 118.8 7.2 \nL 63 7.2 \nz\n\" clip-path=\"url(#p728d4c2774)\" style=\"fill: #eee5f1\"/>\n   </g>\n   <g id=\"patch_4\">\n    <path d=\"M 118.8 62.64 \nL 174.6 62.64 \nL 174.6 7.2 \nL 118.8 7.2 \nz\n\" clip-path=\"url(#p728d4c2774)\" style=\"fill: #d7d5e8\"/>\n   </g>\n   <g id=\"patch_5\">\n    <path d=\"M 174.6 62.64 \nL 230.4 62.64 \nL 230.4 7.2 \nL 174.6 7.2 \nz\n\" clip-path=\"url(#p728d4c2774)\" style=\"fill: #b4c4df\"/>\n   </g>\n   <g id=\"patch_6\">\n    <path d=\"M 230.4 62.64 \nL 286.2 62.64 \nL 286.2 7.2 \nL 230.4 7.2 \nz\n\" clip-path=\"url(#p728d4c2774)\" style=\"fill: #84b2d4\"/>\n   </g>\n   <g id=\"patch_7\">\n    <path d=\"M 286.2 62.64 \nL 342 62.64 \nL 342 7.2 \nL 286.2 7.2 \nz\n\" clip-path=\"url(#p728d4c2774)\" style=\"fill: #519ec8\"/>\n   </g>\n   <g id=\"patch_8\">\n    <path d=\"M 342 62.64 \nL 397.8 62.64 \nL 397.8 7.2 \nL 342 7.2 \nz\n\" clip-path=\"url(#p728d4c2774)\" style=\"fill: #258bae\"/>\n   </g>\n   <g id=\"patch_9\">\n    <path d=\"M 397.8 62.64 \nL 453.6 62.64 \nL 453.6 7.2 \nL 397.8 7.2 \nz\n\" clip-path=\"url(#p728d4c2774)\" style=\"fill: #027c7e\"/>\n   </g>\n   <g id=\"patch_10\">\n    <path d=\"M 453.6 62.64 \nL 509.4 62.64 \nL 509.4 7.2 \nL 453.6 7.2 \nz\n\" clip-path=\"url(#p728d4c2774)\" style=\"fill: #016755\"/>\n   </g>\n   <g id=\"patch_11\">\n    <path d=\"M 509.4 62.64 \nL 565.2 62.64 \nL 565.2 7.2 \nL 509.4 7.2 \nz\n\" clip-path=\"url(#p728d4c2774)\" style=\"fill: #014636\"/>\n   </g>\n  </g>\n </g>\n <defs>\n  <clipPath id=\"p728d4c2774\">\n   <rect x=\"7.2\" y=\"7.2\" width=\"558\" height=\"55.44\"/>\n  </clipPath>\n </defs>\n</svg>\n"
     },
     "metadata": {},
     "output_type": "display_data"
    },
    {
     "name": "stdout",
     "output_type": "stream",
     "text": [
      "PuOr :\n"
     ]
    },
    {
     "data": {
      "text/plain": [
       "<Figure size 1000x100 with 1 Axes>"
      ],
      "image/svg+xml": "<?xml version=\"1.0\" encoding=\"utf-8\" standalone=\"no\"?>\n<!DOCTYPE svg PUBLIC \"-//W3C//DTD SVG 1.1//EN\"\n  \"http://www.w3.org/Graphics/SVG/1.1/DTD/svg11.dtd\">\n<svg xmlns:xlink=\"http://www.w3.org/1999/xlink\" width=\"572.4pt\" height=\"69.84pt\" viewBox=\"0 0 572.4 69.84\" xmlns=\"http://www.w3.org/2000/svg\" version=\"1.1\">\n <metadata>\n  <rdf:RDF xmlns:dc=\"http://purl.org/dc/elements/1.1/\" xmlns:cc=\"http://creativecommons.org/ns#\" xmlns:rdf=\"http://www.w3.org/1999/02/22-rdf-syntax-ns#\">\n   <cc:Work>\n    <dc:type rdf:resource=\"http://purl.org/dc/dcmitype/StillImage\"/>\n    <dc:date>2025-03-18T14:43:40.325741</dc:date>\n    <dc:format>image/svg+xml</dc:format>\n    <dc:creator>\n     <cc:Agent>\n      <dc:title>Matplotlib v3.10.0, https://matplotlib.org/</dc:title>\n     </cc:Agent>\n    </dc:creator>\n   </cc:Work>\n  </rdf:RDF>\n </metadata>\n <defs>\n  <style type=\"text/css\">*{stroke-linejoin: round; stroke-linecap: butt}</style>\n </defs>\n <g id=\"figure_1\">\n  <g id=\"patch_1\">\n   <path d=\"M 0 69.84 \nL 572.4 69.84 \nL 572.4 0 \nL 0 0 \nz\n\" style=\"fill: #ffffff\"/>\n  </g>\n  <g id=\"axes_1\">\n   <g id=\"patch_2\">\n    <path d=\"M 7.2 62.64 \nL 63 62.64 \nL 63 7.2 \nL 7.2 7.2 \nz\n\" clip-path=\"url(#pe42ac84913)\" style=\"fill: #7f3b08\"/>\n   </g>\n   <g id=\"patch_3\">\n    <path d=\"M 63 62.64 \nL 118.8 62.64 \nL 118.8 7.2 \nL 63 7.2 \nz\n\" clip-path=\"url(#pe42ac84913)\" style=\"fill: #b75c07\"/>\n   </g>\n   <g id=\"patch_4\">\n    <path d=\"M 118.8 62.64 \nL 174.6 62.64 \nL 174.6 7.2 \nL 118.8 7.2 \nz\n\" clip-path=\"url(#pe42ac84913)\" style=\"fill: #e68d23\"/>\n   </g>\n   <g id=\"patch_5\">\n    <path d=\"M 174.6 62.64 \nL 230.4 62.64 \nL 230.4 7.2 \nL 174.6 7.2 \nz\n\" clip-path=\"url(#pe42ac84913)\" style=\"fill: #fdc57f\"/>\n   </g>\n   <g id=\"patch_6\">\n    <path d=\"M 230.4 62.64 \nL 286.2 62.64 \nL 286.2 7.2 \nL 230.4 7.2 \nz\n\" clip-path=\"url(#pe42ac84913)\" style=\"fill: #fbead2\"/>\n   </g>\n   <g id=\"patch_7\">\n    <path d=\"M 286.2 62.64 \nL 342 62.64 \nL 342 7.2 \nL 286.2 7.2 \nz\n\" clip-path=\"url(#pe42ac84913)\" style=\"fill: #e5e7f0\"/>\n   </g>\n   <g id=\"patch_8\">\n    <path d=\"M 342 62.64 \nL 397.8 62.64 \nL 397.8 7.2 \nL 342 7.2 \nz\n\" clip-path=\"url(#pe42ac84913)\" style=\"fill: #bfbbda\"/>\n   </g>\n   <g id=\"patch_9\">\n    <path d=\"M 397.8 62.64 \nL 453.6 62.64 \nL 453.6 7.2 \nL 397.8 7.2 \nz\n\" clip-path=\"url(#pe42ac84913)\" style=\"fill: #8a7eb3\"/>\n   </g>\n   <g id=\"patch_10\">\n    <path d=\"M 453.6 62.64 \nL 509.4 62.64 \nL 509.4 7.2 \nL 453.6 7.2 \nz\n\" clip-path=\"url(#pe42ac84913)\" style=\"fill: #582e8c\"/>\n   </g>\n   <g id=\"patch_11\">\n    <path d=\"M 509.4 62.64 \nL 565.2 62.64 \nL 565.2 7.2 \nL 509.4 7.2 \nz\n\" clip-path=\"url(#pe42ac84913)\" style=\"fill: #2d004b\"/>\n   </g>\n  </g>\n </g>\n <defs>\n  <clipPath id=\"pe42ac84913\">\n   <rect x=\"7.2\" y=\"7.2\" width=\"558\" height=\"55.44\"/>\n  </clipPath>\n </defs>\n</svg>\n"
     },
     "metadata": {},
     "output_type": "display_data"
    },
    {
     "name": "stdout",
     "output_type": "stream",
     "text": [
      "PuRd :\n"
     ]
    },
    {
     "data": {
      "text/plain": [
       "<Figure size 1000x100 with 1 Axes>"
      ],
      "image/svg+xml": "<?xml version=\"1.0\" encoding=\"utf-8\" standalone=\"no\"?>\n<!DOCTYPE svg PUBLIC \"-//W3C//DTD SVG 1.1//EN\"\n  \"http://www.w3.org/Graphics/SVG/1.1/DTD/svg11.dtd\">\n<svg xmlns:xlink=\"http://www.w3.org/1999/xlink\" width=\"572.4pt\" height=\"69.84pt\" viewBox=\"0 0 572.4 69.84\" xmlns=\"http://www.w3.org/2000/svg\" version=\"1.1\">\n <metadata>\n  <rdf:RDF xmlns:dc=\"http://purl.org/dc/elements/1.1/\" xmlns:cc=\"http://creativecommons.org/ns#\" xmlns:rdf=\"http://www.w3.org/1999/02/22-rdf-syntax-ns#\">\n   <cc:Work>\n    <dc:type rdf:resource=\"http://purl.org/dc/dcmitype/StillImage\"/>\n    <dc:date>2025-03-18T14:43:40.339733</dc:date>\n    <dc:format>image/svg+xml</dc:format>\n    <dc:creator>\n     <cc:Agent>\n      <dc:title>Matplotlib v3.10.0, https://matplotlib.org/</dc:title>\n     </cc:Agent>\n    </dc:creator>\n   </cc:Work>\n  </rdf:RDF>\n </metadata>\n <defs>\n  <style type=\"text/css\">*{stroke-linejoin: round; stroke-linecap: butt}</style>\n </defs>\n <g id=\"figure_1\">\n  <g id=\"patch_1\">\n   <path d=\"M 0 69.84 \nL 572.4 69.84 \nL 572.4 0 \nL 0 0 \nz\n\" style=\"fill: #ffffff\"/>\n  </g>\n  <g id=\"axes_1\">\n   <g id=\"patch_2\">\n    <path d=\"M 7.2 62.64 \nL 63 62.64 \nL 63 7.2 \nL 7.2 7.2 \nz\n\" clip-path=\"url(#pec9cd541dd)\" style=\"fill: #f7f4f9\"/>\n   </g>\n   <g id=\"patch_3\">\n    <path d=\"M 63 62.64 \nL 118.8 62.64 \nL 118.8 7.2 \nL 63 7.2 \nz\n\" clip-path=\"url(#pec9cd541dd)\" style=\"fill: #e9e3f0\"/>\n   </g>\n   <g id=\"patch_4\">\n    <path d=\"M 118.8 62.64 \nL 174.6 62.64 \nL 174.6 7.2 \nL 118.8 7.2 \nz\n\" clip-path=\"url(#pec9cd541dd)\" style=\"fill: #d9c3df\"/>\n   </g>\n   <g id=\"patch_5\">\n    <path d=\"M 174.6 62.64 \nL 230.4 62.64 \nL 230.4 7.2 \nL 174.6 7.2 \nz\n\" clip-path=\"url(#pec9cd541dd)\" style=\"fill: #cda0cd\"/>\n   </g>\n   <g id=\"patch_6\">\n    <path d=\"M 230.4 62.64 \nL 286.2 62.64 \nL 286.2 7.2 \nL 230.4 7.2 \nz\n\" clip-path=\"url(#pec9cd541dd)\" style=\"fill: #d57aba\"/>\n   </g>\n   <g id=\"patch_7\">\n    <path d=\"M 286.2 62.64 \nL 342 62.64 \nL 342 7.2 \nL 286.2 7.2 \nz\n\" clip-path=\"url(#pec9cd541dd)\" style=\"fill: #e34a9f\"/>\n   </g>\n   <g id=\"patch_8\">\n    <path d=\"M 342 62.64 \nL 397.8 62.64 \nL 397.8 7.2 \nL 342 7.2 \nz\n\" clip-path=\"url(#pec9cd541dd)\" style=\"fill: #df2179\"/>\n   </g>\n   <g id=\"patch_9\">\n    <path d=\"M 397.8 62.64 \nL 453.6 62.64 \nL 453.6 7.2 \nL 397.8 7.2 \nz\n\" clip-path=\"url(#pec9cd541dd)\" style=\"fill: #c10e51\"/>\n   </g>\n   <g id=\"patch_10\">\n    <path d=\"M 453.6 62.64 \nL 509.4 62.64 \nL 509.4 7.2 \nL 453.6 7.2 \nz\n\" clip-path=\"url(#pec9cd541dd)\" style=\"fill: #92003f\"/>\n   </g>\n   <g id=\"patch_11\">\n    <path d=\"M 509.4 62.64 \nL 565.2 62.64 \nL 565.2 7.2 \nL 509.4 7.2 \nz\n\" clip-path=\"url(#pec9cd541dd)\" style=\"fill: #67001f\"/>\n   </g>\n  </g>\n </g>\n <defs>\n  <clipPath id=\"pec9cd541dd\">\n   <rect x=\"7.2\" y=\"7.2\" width=\"558\" height=\"55.44\"/>\n  </clipPath>\n </defs>\n</svg>\n"
     },
     "metadata": {},
     "output_type": "display_data"
    },
    {
     "name": "stdout",
     "output_type": "stream",
     "text": [
      "Purples :\n"
     ]
    },
    {
     "data": {
      "text/plain": [
       "<Figure size 1000x100 with 1 Axes>"
      ],
      "image/svg+xml": "<?xml version=\"1.0\" encoding=\"utf-8\" standalone=\"no\"?>\n<!DOCTYPE svg PUBLIC \"-//W3C//DTD SVG 1.1//EN\"\n  \"http://www.w3.org/Graphics/SVG/1.1/DTD/svg11.dtd\">\n<svg xmlns:xlink=\"http://www.w3.org/1999/xlink\" width=\"572.4pt\" height=\"69.84pt\" viewBox=\"0 0 572.4 69.84\" xmlns=\"http://www.w3.org/2000/svg\" version=\"1.1\">\n <metadata>\n  <rdf:RDF xmlns:dc=\"http://purl.org/dc/elements/1.1/\" xmlns:cc=\"http://creativecommons.org/ns#\" xmlns:rdf=\"http://www.w3.org/1999/02/22-rdf-syntax-ns#\">\n   <cc:Work>\n    <dc:type rdf:resource=\"http://purl.org/dc/dcmitype/StillImage\"/>\n    <dc:date>2025-03-18T14:43:40.354530</dc:date>\n    <dc:format>image/svg+xml</dc:format>\n    <dc:creator>\n     <cc:Agent>\n      <dc:title>Matplotlib v3.10.0, https://matplotlib.org/</dc:title>\n     </cc:Agent>\n    </dc:creator>\n   </cc:Work>\n  </rdf:RDF>\n </metadata>\n <defs>\n  <style type=\"text/css\">*{stroke-linejoin: round; stroke-linecap: butt}</style>\n </defs>\n <g id=\"figure_1\">\n  <g id=\"patch_1\">\n   <path d=\"M 0 69.84 \nL 572.4 69.84 \nL 572.4 0 \nL 0 0 \nz\n\" style=\"fill: #ffffff\"/>\n  </g>\n  <g id=\"axes_1\">\n   <g id=\"patch_2\">\n    <path d=\"M 7.2 62.64 \nL 63 62.64 \nL 63 7.2 \nL 7.2 7.2 \nz\n\" clip-path=\"url(#p983dcbf39a)\" style=\"fill: #fcfbfd\"/>\n   </g>\n   <g id=\"patch_3\">\n    <path d=\"M 63 62.64 \nL 118.8 62.64 \nL 118.8 7.2 \nL 63 7.2 \nz\n\" clip-path=\"url(#p983dcbf39a)\" style=\"fill: #f1eff6\"/>\n   </g>\n   <g id=\"patch_4\">\n    <path d=\"M 118.8 62.64 \nL 174.6 62.64 \nL 174.6 7.2 \nL 118.8 7.2 \nz\n\" clip-path=\"url(#p983dcbf39a)\" style=\"fill: #dfdfed\"/>\n   </g>\n   <g id=\"patch_5\">\n    <path d=\"M 174.6 62.64 \nL 230.4 62.64 \nL 230.4 7.2 \nL 174.6 7.2 \nz\n\" clip-path=\"url(#p983dcbf39a)\" style=\"fill: #c6c7e1\"/>\n   </g>\n   <g id=\"patch_6\">\n    <path d=\"M 230.4 62.64 \nL 286.2 62.64 \nL 286.2 7.2 \nL 230.4 7.2 \nz\n\" clip-path=\"url(#p983dcbf39a)\" style=\"fill: #acaad1\"/>\n   </g>\n   <g id=\"patch_7\">\n    <path d=\"M 286.2 62.64 \nL 342 62.64 \nL 342 7.2 \nL 286.2 7.2 \nz\n\" clip-path=\"url(#p983dcbf39a)\" style=\"fill: #908dc2\"/>\n   </g>\n   <g id=\"patch_8\">\n    <path d=\"M 342 62.64 \nL 397.8 62.64 \nL 397.8 7.2 \nL 342 7.2 \nz\n\" clip-path=\"url(#p983dcbf39a)\" style=\"fill: #796eb2\"/>\n   </g>\n   <g id=\"patch_9\">\n    <path d=\"M 397.8 62.64 \nL 453.6 62.64 \nL 453.6 7.2 \nL 397.8 7.2 \nz\n\" clip-path=\"url(#p983dcbf39a)\" style=\"fill: #65479e\"/>\n   </g>\n   <g id=\"patch_10\">\n    <path d=\"M 453.6 62.64 \nL 509.4 62.64 \nL 509.4 7.2 \nL 453.6 7.2 \nz\n\" clip-path=\"url(#p983dcbf39a)\" style=\"fill: #51228d\"/>\n   </g>\n   <g id=\"patch_11\">\n    <path d=\"M 509.4 62.64 \nL 565.2 62.64 \nL 565.2 7.2 \nL 509.4 7.2 \nz\n\" clip-path=\"url(#p983dcbf39a)\" style=\"fill: #3f007d\"/>\n   </g>\n  </g>\n </g>\n <defs>\n  <clipPath id=\"p983dcbf39a\">\n   <rect x=\"7.2\" y=\"7.2\" width=\"558\" height=\"55.44\"/>\n  </clipPath>\n </defs>\n</svg>\n"
     },
     "metadata": {},
     "output_type": "display_data"
    },
    {
     "name": "stdout",
     "output_type": "stream",
     "text": [
      "RdBu :\n"
     ]
    },
    {
     "data": {
      "text/plain": [
       "<Figure size 1000x100 with 1 Axes>"
      ],
      "image/svg+xml": "<?xml version=\"1.0\" encoding=\"utf-8\" standalone=\"no\"?>\n<!DOCTYPE svg PUBLIC \"-//W3C//DTD SVG 1.1//EN\"\n  \"http://www.w3.org/Graphics/SVG/1.1/DTD/svg11.dtd\">\n<svg xmlns:xlink=\"http://www.w3.org/1999/xlink\" width=\"572.4pt\" height=\"69.84pt\" viewBox=\"0 0 572.4 69.84\" xmlns=\"http://www.w3.org/2000/svg\" version=\"1.1\">\n <metadata>\n  <rdf:RDF xmlns:dc=\"http://purl.org/dc/elements/1.1/\" xmlns:cc=\"http://creativecommons.org/ns#\" xmlns:rdf=\"http://www.w3.org/1999/02/22-rdf-syntax-ns#\">\n   <cc:Work>\n    <dc:type rdf:resource=\"http://purl.org/dc/dcmitype/StillImage\"/>\n    <dc:date>2025-03-18T14:43:40.369111</dc:date>\n    <dc:format>image/svg+xml</dc:format>\n    <dc:creator>\n     <cc:Agent>\n      <dc:title>Matplotlib v3.10.0, https://matplotlib.org/</dc:title>\n     </cc:Agent>\n    </dc:creator>\n   </cc:Work>\n  </rdf:RDF>\n </metadata>\n <defs>\n  <style type=\"text/css\">*{stroke-linejoin: round; stroke-linecap: butt}</style>\n </defs>\n <g id=\"figure_1\">\n  <g id=\"patch_1\">\n   <path d=\"M 0 69.84 \nL 572.4 69.84 \nL 572.4 0 \nL 0 0 \nz\n\" style=\"fill: #ffffff\"/>\n  </g>\n  <g id=\"axes_1\">\n   <g id=\"patch_2\">\n    <path d=\"M 7.2 62.64 \nL 63 62.64 \nL 63 7.2 \nL 7.2 7.2 \nz\n\" clip-path=\"url(#p8ef5538894)\" style=\"fill: #67001f\"/>\n   </g>\n   <g id=\"patch_3\">\n    <path d=\"M 63 62.64 \nL 118.8 62.64 \nL 118.8 7.2 \nL 63 7.2 \nz\n\" clip-path=\"url(#p8ef5538894)\" style=\"fill: #b61f2e\"/>\n   </g>\n   <g id=\"patch_4\">\n    <path d=\"M 118.8 62.64 \nL 174.6 62.64 \nL 174.6 7.2 \nL 118.8 7.2 \nz\n\" clip-path=\"url(#p8ef5538894)\" style=\"fill: #dc6e57\"/>\n   </g>\n   <g id=\"patch_5\">\n    <path d=\"M 174.6 62.64 \nL 230.4 62.64 \nL 230.4 7.2 \nL 174.6 7.2 \nz\n\" clip-path=\"url(#p8ef5538894)\" style=\"fill: #f7b799\"/>\n   </g>\n   <g id=\"patch_6\">\n    <path d=\"M 230.4 62.64 \nL 286.2 62.64 \nL 286.2 7.2 \nL 230.4 7.2 \nz\n\" clip-path=\"url(#p8ef5538894)\" style=\"fill: #fae7dc\"/>\n   </g>\n   <g id=\"patch_7\">\n    <path d=\"M 286.2 62.64 \nL 342 62.64 \nL 342 7.2 \nL 286.2 7.2 \nz\n\" clip-path=\"url(#p8ef5538894)\" style=\"fill: #e1edf3\"/>\n   </g>\n   <g id=\"patch_8\">\n    <path d=\"M 342 62.64 \nL 397.8 62.64 \nL 397.8 7.2 \nL 342 7.2 \nz\n\" clip-path=\"url(#p8ef5538894)\" style=\"fill: #a7d0e4\"/>\n   </g>\n   <g id=\"patch_9\">\n    <path d=\"M 397.8 62.64 \nL 453.6 62.64 \nL 453.6 7.2 \nL 397.8 7.2 \nz\n\" clip-path=\"url(#p8ef5538894)\" style=\"fill: #529dc8\"/>\n   </g>\n   <g id=\"patch_10\">\n    <path d=\"M 453.6 62.64 \nL 509.4 62.64 \nL 509.4 7.2 \nL 453.6 7.2 \nz\n\" clip-path=\"url(#p8ef5538894)\" style=\"fill: #246aae\"/>\n   </g>\n   <g id=\"patch_11\">\n    <path d=\"M 509.4 62.64 \nL 565.2 62.64 \nL 565.2 7.2 \nL 509.4 7.2 \nz\n\" clip-path=\"url(#p8ef5538894)\" style=\"fill: #053061\"/>\n   </g>\n  </g>\n </g>\n <defs>\n  <clipPath id=\"p8ef5538894\">\n   <rect x=\"7.2\" y=\"7.2\" width=\"558\" height=\"55.44\"/>\n  </clipPath>\n </defs>\n</svg>\n"
     },
     "metadata": {},
     "output_type": "display_data"
    },
    {
     "name": "stdout",
     "output_type": "stream",
     "text": [
      "RdGy :\n"
     ]
    },
    {
     "data": {
      "text/plain": [
       "<Figure size 1000x100 with 1 Axes>"
      ],
      "image/svg+xml": "<?xml version=\"1.0\" encoding=\"utf-8\" standalone=\"no\"?>\n<!DOCTYPE svg PUBLIC \"-//W3C//DTD SVG 1.1//EN\"\n  \"http://www.w3.org/Graphics/SVG/1.1/DTD/svg11.dtd\">\n<svg xmlns:xlink=\"http://www.w3.org/1999/xlink\" width=\"572.4pt\" height=\"69.84pt\" viewBox=\"0 0 572.4 69.84\" xmlns=\"http://www.w3.org/2000/svg\" version=\"1.1\">\n <metadata>\n  <rdf:RDF xmlns:dc=\"http://purl.org/dc/elements/1.1/\" xmlns:cc=\"http://creativecommons.org/ns#\" xmlns:rdf=\"http://www.w3.org/1999/02/22-rdf-syntax-ns#\">\n   <cc:Work>\n    <dc:type rdf:resource=\"http://purl.org/dc/dcmitype/StillImage\"/>\n    <dc:date>2025-03-18T14:43:40.382388</dc:date>\n    <dc:format>image/svg+xml</dc:format>\n    <dc:creator>\n     <cc:Agent>\n      <dc:title>Matplotlib v3.10.0, https://matplotlib.org/</dc:title>\n     </cc:Agent>\n    </dc:creator>\n   </cc:Work>\n  </rdf:RDF>\n </metadata>\n <defs>\n  <style type=\"text/css\">*{stroke-linejoin: round; stroke-linecap: butt}</style>\n </defs>\n <g id=\"figure_1\">\n  <g id=\"patch_1\">\n   <path d=\"M 0 69.84 \nL 572.4 69.84 \nL 572.4 0 \nL 0 0 \nz\n\" style=\"fill: #ffffff\"/>\n  </g>\n  <g id=\"axes_1\">\n   <g id=\"patch_2\">\n    <path d=\"M 7.2 62.64 \nL 63 62.64 \nL 63 7.2 \nL 7.2 7.2 \nz\n\" clip-path=\"url(#pf757a2e93b)\" style=\"fill: #67001f\"/>\n   </g>\n   <g id=\"patch_3\">\n    <path d=\"M 63 62.64 \nL 118.8 62.64 \nL 118.8 7.2 \nL 63 7.2 \nz\n\" clip-path=\"url(#pf757a2e93b)\" style=\"fill: #b61f2e\"/>\n   </g>\n   <g id=\"patch_4\">\n    <path d=\"M 118.8 62.64 \nL 174.6 62.64 \nL 174.6 7.2 \nL 118.8 7.2 \nz\n\" clip-path=\"url(#pf757a2e93b)\" style=\"fill: #dc6e57\"/>\n   </g>\n   <g id=\"patch_5\">\n    <path d=\"M 174.6 62.64 \nL 230.4 62.64 \nL 230.4 7.2 \nL 174.6 7.2 \nz\n\" clip-path=\"url(#pf757a2e93b)\" style=\"fill: #f7b799\"/>\n   </g>\n   <g id=\"patch_6\">\n    <path d=\"M 230.4 62.64 \nL 286.2 62.64 \nL 286.2 7.2 \nL 230.4 7.2 \nz\n\" clip-path=\"url(#pf757a2e93b)\" style=\"fill: #feebdf\"/>\n   </g>\n   <g id=\"patch_7\">\n    <path d=\"M 286.2 62.64 \nL 342 62.64 \nL 342 7.2 \nL 286.2 7.2 \nz\n\" clip-path=\"url(#pf757a2e93b)\" style=\"fill: #ededed\"/>\n   </g>\n   <g id=\"patch_8\">\n    <path d=\"M 342 62.64 \nL 397.8 62.64 \nL 397.8 7.2 \nL 342 7.2 \nz\n\" clip-path=\"url(#pf757a2e93b)\" style=\"fill: #c7c7c7\"/>\n   </g>\n   <g id=\"patch_9\">\n    <path d=\"M 397.8 62.64 \nL 453.6 62.64 \nL 453.6 7.2 \nL 397.8 7.2 \nz\n\" clip-path=\"url(#pf757a2e93b)\" style=\"fill: #919191\"/>\n   </g>\n   <g id=\"patch_10\">\n    <path d=\"M 453.6 62.64 \nL 509.4 62.64 \nL 509.4 7.2 \nL 453.6 7.2 \nz\n\" clip-path=\"url(#pf757a2e93b)\" style=\"fill: #535353\"/>\n   </g>\n   <g id=\"patch_11\">\n    <path d=\"M 509.4 62.64 \nL 565.2 62.64 \nL 565.2 7.2 \nL 509.4 7.2 \nz\n\" clip-path=\"url(#pf757a2e93b)\" style=\"fill: #1a1a1a\"/>\n   </g>\n  </g>\n </g>\n <defs>\n  <clipPath id=\"pf757a2e93b\">\n   <rect x=\"7.2\" y=\"7.2\" width=\"558\" height=\"55.44\"/>\n  </clipPath>\n </defs>\n</svg>\n"
     },
     "metadata": {},
     "output_type": "display_data"
    }
   ],
   "execution_count": 49
  },
  {
   "cell_type": "code",
   "metadata": {
    "ExecuteTime": {
     "end_time": "2025-03-18T13:43:40.415525Z",
     "start_time": "2025-03-18T13:43:40.413939Z"
    }
   },
   "source": [],
   "outputs": [],
   "execution_count": null
  },
  {
   "cell_type": "code",
   "metadata": {
    "ExecuteTime": {
     "end_time": "2025-03-18T13:43:40.436291Z",
     "start_time": "2025-03-18T13:43:40.426543Z"
    }
   },
   "source": [
    "plot_color_grid([mpl.colormaps['tab10'](112)])"
   ],
   "outputs": [
    {
     "data": {
      "text/plain": [
       "<Figure size 100x100 with 1 Axes>"
      ],
      "image/svg+xml": "<?xml version=\"1.0\" encoding=\"utf-8\" standalone=\"no\"?>\n<!DOCTYPE svg PUBLIC \"-//W3C//DTD SVG 1.1//EN\"\n  \"http://www.w3.org/Graphics/SVG/1.1/DTD/svg11.dtd\">\n<svg xmlns:xlink=\"http://www.w3.org/1999/xlink\" width=\"70.2pt\" height=\"69.84pt\" viewBox=\"0 0 70.2 69.84\" xmlns=\"http://www.w3.org/2000/svg\" version=\"1.1\">\n <metadata>\n  <rdf:RDF xmlns:dc=\"http://purl.org/dc/elements/1.1/\" xmlns:cc=\"http://creativecommons.org/ns#\" xmlns:rdf=\"http://www.w3.org/1999/02/22-rdf-syntax-ns#\">\n   <cc:Work>\n    <dc:type rdf:resource=\"http://purl.org/dc/dcmitype/StillImage\"/>\n    <dc:date>2025-03-18T14:43:40.433244</dc:date>\n    <dc:format>image/svg+xml</dc:format>\n    <dc:creator>\n     <cc:Agent>\n      <dc:title>Matplotlib v3.10.0, https://matplotlib.org/</dc:title>\n     </cc:Agent>\n    </dc:creator>\n   </cc:Work>\n  </rdf:RDF>\n </metadata>\n <defs>\n  <style type=\"text/css\">*{stroke-linejoin: round; stroke-linecap: butt}</style>\n </defs>\n <g id=\"figure_1\">\n  <g id=\"patch_1\">\n   <path d=\"M 0 69.84 \nL 70.2 69.84 \nL 70.2 0 \nL 0 0 \nz\n\" style=\"fill: #ffffff\"/>\n  </g>\n  <g id=\"axes_1\">\n   <g id=\"patch_2\">\n    <path d=\"M 7.2 62.64 \nL 63 62.64 \nL 63 7.2 \nL 7.2 7.2 \nz\n\" clip-path=\"url(#p3d86e92f90)\" style=\"fill: #17becf\"/>\n   </g>\n  </g>\n </g>\n <defs>\n  <clipPath id=\"p3d86e92f90\">\n   <rect x=\"7.2\" y=\"7.2\" width=\"55.8\" height=\"55.44\"/>\n  </clipPath>\n </defs>\n</svg>\n"
     },
     "metadata": {},
     "output_type": "display_data"
    }
   ],
   "execution_count": 50
  },
  {
   "cell_type": "code",
   "metadata": {
    "ExecuteTime": {
     "end_time": "2025-03-18T13:43:40.468095Z",
     "start_time": "2025-03-18T13:43:40.452057Z"
    }
   },
   "source": [
    "plot_color_grid([mpl.colormaps['tab10'](i) for i in np.linspace(0, 1.0, 10)])"
   ],
   "outputs": [
    {
     "data": {
      "text/plain": [
       "<Figure size 1000x100 with 1 Axes>"
      ],
      "image/svg+xml": "<?xml version=\"1.0\" encoding=\"utf-8\" standalone=\"no\"?>\n<!DOCTYPE svg PUBLIC \"-//W3C//DTD SVG 1.1//EN\"\n  \"http://www.w3.org/Graphics/SVG/1.1/DTD/svg11.dtd\">\n<svg xmlns:xlink=\"http://www.w3.org/1999/xlink\" width=\"572.4pt\" height=\"69.84pt\" viewBox=\"0 0 572.4 69.84\" xmlns=\"http://www.w3.org/2000/svg\" version=\"1.1\">\n <metadata>\n  <rdf:RDF xmlns:dc=\"http://purl.org/dc/elements/1.1/\" xmlns:cc=\"http://creativecommons.org/ns#\" xmlns:rdf=\"http://www.w3.org/1999/02/22-rdf-syntax-ns#\">\n   <cc:Work>\n    <dc:type rdf:resource=\"http://purl.org/dc/dcmitype/StillImage\"/>\n    <dc:date>2025-03-18T14:43:40.463952</dc:date>\n    <dc:format>image/svg+xml</dc:format>\n    <dc:creator>\n     <cc:Agent>\n      <dc:title>Matplotlib v3.10.0, https://matplotlib.org/</dc:title>\n     </cc:Agent>\n    </dc:creator>\n   </cc:Work>\n  </rdf:RDF>\n </metadata>\n <defs>\n  <style type=\"text/css\">*{stroke-linejoin: round; stroke-linecap: butt}</style>\n </defs>\n <g id=\"figure_1\">\n  <g id=\"patch_1\">\n   <path d=\"M 0 69.84 \nL 572.4 69.84 \nL 572.4 0 \nL 0 0 \nz\n\" style=\"fill: #ffffff\"/>\n  </g>\n  <g id=\"axes_1\">\n   <g id=\"patch_2\">\n    <path d=\"M 7.2 62.64 \nL 63 62.64 \nL 63 7.2 \nL 7.2 7.2 \nz\n\" clip-path=\"url(#pc51e48ad07)\" style=\"fill: #1f77b4\"/>\n   </g>\n   <g id=\"patch_3\">\n    <path d=\"M 63 62.64 \nL 118.8 62.64 \nL 118.8 7.2 \nL 63 7.2 \nz\n\" clip-path=\"url(#pc51e48ad07)\" style=\"fill: #ff7f0e\"/>\n   </g>\n   <g id=\"patch_4\">\n    <path d=\"M 118.8 62.64 \nL 174.6 62.64 \nL 174.6 7.2 \nL 118.8 7.2 \nz\n\" clip-path=\"url(#pc51e48ad07)\" style=\"fill: #2ca02c\"/>\n   </g>\n   <g id=\"patch_5\">\n    <path d=\"M 174.6 62.64 \nL 230.4 62.64 \nL 230.4 7.2 \nL 174.6 7.2 \nz\n\" clip-path=\"url(#pc51e48ad07)\" style=\"fill: #d62728\"/>\n   </g>\n   <g id=\"patch_6\">\n    <path d=\"M 230.4 62.64 \nL 286.2 62.64 \nL 286.2 7.2 \nL 230.4 7.2 \nz\n\" clip-path=\"url(#pc51e48ad07)\" style=\"fill: #9467bd\"/>\n   </g>\n   <g id=\"patch_7\">\n    <path d=\"M 286.2 62.64 \nL 342 62.64 \nL 342 7.2 \nL 286.2 7.2 \nz\n\" clip-path=\"url(#pc51e48ad07)\" style=\"fill: #8c564b\"/>\n   </g>\n   <g id=\"patch_8\">\n    <path d=\"M 342 62.64 \nL 397.8 62.64 \nL 397.8 7.2 \nL 342 7.2 \nz\n\" clip-path=\"url(#pc51e48ad07)\" style=\"fill: #e377c2\"/>\n   </g>\n   <g id=\"patch_9\">\n    <path d=\"M 397.8 62.64 \nL 453.6 62.64 \nL 453.6 7.2 \nL 397.8 7.2 \nz\n\" clip-path=\"url(#pc51e48ad07)\" style=\"fill: #7f7f7f\"/>\n   </g>\n   <g id=\"patch_10\">\n    <path d=\"M 453.6 62.64 \nL 509.4 62.64 \nL 509.4 7.2 \nL 453.6 7.2 \nz\n\" clip-path=\"url(#pc51e48ad07)\" style=\"fill: #bcbd22\"/>\n   </g>\n   <g id=\"patch_11\">\n    <path d=\"M 509.4 62.64 \nL 565.2 62.64 \nL 565.2 7.2 \nL 509.4 7.2 \nz\n\" clip-path=\"url(#pc51e48ad07)\" style=\"fill: #17becf\"/>\n   </g>\n  </g>\n </g>\n <defs>\n  <clipPath id=\"pc51e48ad07\">\n   <rect x=\"7.2\" y=\"7.2\" width=\"558\" height=\"55.44\"/>\n  </clipPath>\n </defs>\n</svg>\n"
     },
     "metadata": {},
     "output_type": "display_data"
    }
   ],
   "execution_count": 51
  },
  {
   "cell_type": "code",
   "metadata": {
    "ExecuteTime": {
     "end_time": "2025-03-18T13:43:40.488993Z",
     "start_time": "2025-03-18T13:43:40.475486Z"
    }
   },
   "source": [
    "plot_color_grid([mpl.colormaps['tab10'](i) for i in range(0, 10, 1)])"
   ],
   "outputs": [
    {
     "data": {
      "text/plain": [
       "<Figure size 1000x100 with 1 Axes>"
      ],
      "image/svg+xml": "<?xml version=\"1.0\" encoding=\"utf-8\" standalone=\"no\"?>\n<!DOCTYPE svg PUBLIC \"-//W3C//DTD SVG 1.1//EN\"\n  \"http://www.w3.org/Graphics/SVG/1.1/DTD/svg11.dtd\">\n<svg xmlns:xlink=\"http://www.w3.org/1999/xlink\" width=\"572.4pt\" height=\"69.84pt\" viewBox=\"0 0 572.4 69.84\" xmlns=\"http://www.w3.org/2000/svg\" version=\"1.1\">\n <metadata>\n  <rdf:RDF xmlns:dc=\"http://purl.org/dc/elements/1.1/\" xmlns:cc=\"http://creativecommons.org/ns#\" xmlns:rdf=\"http://www.w3.org/1999/02/22-rdf-syntax-ns#\">\n   <cc:Work>\n    <dc:type rdf:resource=\"http://purl.org/dc/dcmitype/StillImage\"/>\n    <dc:date>2025-03-18T14:43:40.484854</dc:date>\n    <dc:format>image/svg+xml</dc:format>\n    <dc:creator>\n     <cc:Agent>\n      <dc:title>Matplotlib v3.10.0, https://matplotlib.org/</dc:title>\n     </cc:Agent>\n    </dc:creator>\n   </cc:Work>\n  </rdf:RDF>\n </metadata>\n <defs>\n  <style type=\"text/css\">*{stroke-linejoin: round; stroke-linecap: butt}</style>\n </defs>\n <g id=\"figure_1\">\n  <g id=\"patch_1\">\n   <path d=\"M 0 69.84 \nL 572.4 69.84 \nL 572.4 0 \nL 0 0 \nz\n\" style=\"fill: #ffffff\"/>\n  </g>\n  <g id=\"axes_1\">\n   <g id=\"patch_2\">\n    <path d=\"M 7.2 62.64 \nL 63 62.64 \nL 63 7.2 \nL 7.2 7.2 \nz\n\" clip-path=\"url(#p27a0e9ef53)\" style=\"fill: #1f77b4\"/>\n   </g>\n   <g id=\"patch_3\">\n    <path d=\"M 63 62.64 \nL 118.8 62.64 \nL 118.8 7.2 \nL 63 7.2 \nz\n\" clip-path=\"url(#p27a0e9ef53)\" style=\"fill: #ff7f0e\"/>\n   </g>\n   <g id=\"patch_4\">\n    <path d=\"M 118.8 62.64 \nL 174.6 62.64 \nL 174.6 7.2 \nL 118.8 7.2 \nz\n\" clip-path=\"url(#p27a0e9ef53)\" style=\"fill: #2ca02c\"/>\n   </g>\n   <g id=\"patch_5\">\n    <path d=\"M 174.6 62.64 \nL 230.4 62.64 \nL 230.4 7.2 \nL 174.6 7.2 \nz\n\" clip-path=\"url(#p27a0e9ef53)\" style=\"fill: #d62728\"/>\n   </g>\n   <g id=\"patch_6\">\n    <path d=\"M 230.4 62.64 \nL 286.2 62.64 \nL 286.2 7.2 \nL 230.4 7.2 \nz\n\" clip-path=\"url(#p27a0e9ef53)\" style=\"fill: #9467bd\"/>\n   </g>\n   <g id=\"patch_7\">\n    <path d=\"M 286.2 62.64 \nL 342 62.64 \nL 342 7.2 \nL 286.2 7.2 \nz\n\" clip-path=\"url(#p27a0e9ef53)\" style=\"fill: #8c564b\"/>\n   </g>\n   <g id=\"patch_8\">\n    <path d=\"M 342 62.64 \nL 397.8 62.64 \nL 397.8 7.2 \nL 342 7.2 \nz\n\" clip-path=\"url(#p27a0e9ef53)\" style=\"fill: #e377c2\"/>\n   </g>\n   <g id=\"patch_9\">\n    <path d=\"M 397.8 62.64 \nL 453.6 62.64 \nL 453.6 7.2 \nL 397.8 7.2 \nz\n\" clip-path=\"url(#p27a0e9ef53)\" style=\"fill: #7f7f7f\"/>\n   </g>\n   <g id=\"patch_10\">\n    <path d=\"M 453.6 62.64 \nL 509.4 62.64 \nL 509.4 7.2 \nL 453.6 7.2 \nz\n\" clip-path=\"url(#p27a0e9ef53)\" style=\"fill: #bcbd22\"/>\n   </g>\n   <g id=\"patch_11\">\n    <path d=\"M 509.4 62.64 \nL 565.2 62.64 \nL 565.2 7.2 \nL 509.4 7.2 \nz\n\" clip-path=\"url(#p27a0e9ef53)\" style=\"fill: #17becf\"/>\n   </g>\n  </g>\n </g>\n <defs>\n  <clipPath id=\"p27a0e9ef53\">\n   <rect x=\"7.2\" y=\"7.2\" width=\"558\" height=\"55.44\"/>\n  </clipPath>\n </defs>\n</svg>\n"
     },
     "metadata": {},
     "output_type": "display_data"
    }
   ],
   "execution_count": 52
  },
  {
   "cell_type": "code",
   "metadata": {
    "ExecuteTime": {
     "end_time": "2025-03-18T13:43:40.515184Z",
     "start_time": "2025-03-18T13:43:40.496201Z"
    }
   },
   "source": [
    "plot_color_grid([mpl.colormaps['Accent'](i) for i in range(0, 10, 1)])"
   ],
   "outputs": [
    {
     "data": {
      "text/plain": [
       "<Figure size 1000x100 with 1 Axes>"
      ],
      "image/svg+xml": "<?xml version=\"1.0\" encoding=\"utf-8\" standalone=\"no\"?>\n<!DOCTYPE svg PUBLIC \"-//W3C//DTD SVG 1.1//EN\"\n  \"http://www.w3.org/Graphics/SVG/1.1/DTD/svg11.dtd\">\n<svg xmlns:xlink=\"http://www.w3.org/1999/xlink\" width=\"572.4pt\" height=\"69.84pt\" viewBox=\"0 0 572.4 69.84\" xmlns=\"http://www.w3.org/2000/svg\" version=\"1.1\">\n <metadata>\n  <rdf:RDF xmlns:dc=\"http://purl.org/dc/elements/1.1/\" xmlns:cc=\"http://creativecommons.org/ns#\" xmlns:rdf=\"http://www.w3.org/1999/02/22-rdf-syntax-ns#\">\n   <cc:Work>\n    <dc:type rdf:resource=\"http://purl.org/dc/dcmitype/StillImage\"/>\n    <dc:date>2025-03-18T14:43:40.506082</dc:date>\n    <dc:format>image/svg+xml</dc:format>\n    <dc:creator>\n     <cc:Agent>\n      <dc:title>Matplotlib v3.10.0, https://matplotlib.org/</dc:title>\n     </cc:Agent>\n    </dc:creator>\n   </cc:Work>\n  </rdf:RDF>\n </metadata>\n <defs>\n  <style type=\"text/css\">*{stroke-linejoin: round; stroke-linecap: butt}</style>\n </defs>\n <g id=\"figure_1\">\n  <g id=\"patch_1\">\n   <path d=\"M 0 69.84 \nL 572.4 69.84 \nL 572.4 0 \nL 0 0 \nz\n\" style=\"fill: #ffffff\"/>\n  </g>\n  <g id=\"axes_1\">\n   <g id=\"patch_2\">\n    <path d=\"M 7.2 62.64 \nL 63 62.64 \nL 63 7.2 \nL 7.2 7.2 \nz\n\" clip-path=\"url(#pc324e84f1c)\" style=\"fill: #7fc97f\"/>\n   </g>\n   <g id=\"patch_3\">\n    <path d=\"M 63 62.64 \nL 118.8 62.64 \nL 118.8 7.2 \nL 63 7.2 \nz\n\" clip-path=\"url(#pc324e84f1c)\" style=\"fill: #beaed4\"/>\n   </g>\n   <g id=\"patch_4\">\n    <path d=\"M 118.8 62.64 \nL 174.6 62.64 \nL 174.6 7.2 \nL 118.8 7.2 \nz\n\" clip-path=\"url(#pc324e84f1c)\" style=\"fill: #fdc086\"/>\n   </g>\n   <g id=\"patch_5\">\n    <path d=\"M 174.6 62.64 \nL 230.4 62.64 \nL 230.4 7.2 \nL 174.6 7.2 \nz\n\" clip-path=\"url(#pc324e84f1c)\" style=\"fill: #ffff99\"/>\n   </g>\n   <g id=\"patch_6\">\n    <path d=\"M 230.4 62.64 \nL 286.2 62.64 \nL 286.2 7.2 \nL 230.4 7.2 \nz\n\" clip-path=\"url(#pc324e84f1c)\" style=\"fill: #386cb0\"/>\n   </g>\n   <g id=\"patch_7\">\n    <path d=\"M 286.2 62.64 \nL 342 62.64 \nL 342 7.2 \nL 286.2 7.2 \nz\n\" clip-path=\"url(#pc324e84f1c)\" style=\"fill: #f0027f\"/>\n   </g>\n   <g id=\"patch_8\">\n    <path d=\"M 342 62.64 \nL 397.8 62.64 \nL 397.8 7.2 \nL 342 7.2 \nz\n\" clip-path=\"url(#pc324e84f1c)\" style=\"fill: #bf5b17\"/>\n   </g>\n   <g id=\"patch_9\">\n    <path d=\"M 397.8 62.64 \nL 453.6 62.64 \nL 453.6 7.2 \nL 397.8 7.2 \nz\n\" clip-path=\"url(#pc324e84f1c)\" style=\"fill: #666666\"/>\n   </g>\n   <g id=\"patch_10\">\n    <path d=\"M 453.6 62.64 \nL 509.4 62.64 \nL 509.4 7.2 \nL 453.6 7.2 \nz\n\" clip-path=\"url(#pc324e84f1c)\" style=\"fill: #666666\"/>\n   </g>\n   <g id=\"patch_11\">\n    <path d=\"M 509.4 62.64 \nL 565.2 62.64 \nL 565.2 7.2 \nL 509.4 7.2 \nz\n\" clip-path=\"url(#pc324e84f1c)\" style=\"fill: #666666\"/>\n   </g>\n  </g>\n </g>\n <defs>\n  <clipPath id=\"pc324e84f1c\">\n   <rect x=\"7.2\" y=\"7.2\" width=\"558\" height=\"55.44\"/>\n  </clipPath>\n </defs>\n</svg>\n"
     },
     "metadata": {},
     "output_type": "display_data"
    }
   ],
   "execution_count": 53
  },
  {
   "cell_type": "code",
   "metadata": {
    "ExecuteTime": {
     "end_time": "2025-03-18T13:43:40.544094Z",
     "start_time": "2025-03-18T13:43:40.527959Z"
    }
   },
   "source": [
    "# all colors from a qualitative colormap:\n",
    "plot_color_grid([plt.cm.Accent(i) for i in range(plt.cm.Accent.N)])"
   ],
   "outputs": [
    {
     "data": {
      "text/plain": [
       "<Figure size 800x100 with 1 Axes>"
      ],
      "image/svg+xml": "<?xml version=\"1.0\" encoding=\"utf-8\" standalone=\"no\"?>\n<!DOCTYPE svg PUBLIC \"-//W3C//DTD SVG 1.1//EN\"\n  \"http://www.w3.org/Graphics/SVG/1.1/DTD/svg11.dtd\">\n<svg xmlns:xlink=\"http://www.w3.org/1999/xlink\" width=\"460.8pt\" height=\"69.84pt\" viewBox=\"0 0 460.8 69.84\" xmlns=\"http://www.w3.org/2000/svg\" version=\"1.1\">\n <metadata>\n  <rdf:RDF xmlns:dc=\"http://purl.org/dc/elements/1.1/\" xmlns:cc=\"http://creativecommons.org/ns#\" xmlns:rdf=\"http://www.w3.org/1999/02/22-rdf-syntax-ns#\">\n   <cc:Work>\n    <dc:type rdf:resource=\"http://purl.org/dc/dcmitype/StillImage\"/>\n    <dc:date>2025-03-18T14:43:40.539786</dc:date>\n    <dc:format>image/svg+xml</dc:format>\n    <dc:creator>\n     <cc:Agent>\n      <dc:title>Matplotlib v3.10.0, https://matplotlib.org/</dc:title>\n     </cc:Agent>\n    </dc:creator>\n   </cc:Work>\n  </rdf:RDF>\n </metadata>\n <defs>\n  <style type=\"text/css\">*{stroke-linejoin: round; stroke-linecap: butt}</style>\n </defs>\n <g id=\"figure_1\">\n  <g id=\"patch_1\">\n   <path d=\"M 0 69.84 \nL 460.8 69.84 \nL 460.8 0 \nL 0 0 \nz\n\" style=\"fill: #ffffff\"/>\n  </g>\n  <g id=\"axes_1\">\n   <g id=\"patch_2\">\n    <path d=\"M 7.2 62.64 \nL 63 62.64 \nL 63 7.2 \nL 7.2 7.2 \nz\n\" clip-path=\"url(#pc3de03724f)\" style=\"fill: #7fc97f\"/>\n   </g>\n   <g id=\"patch_3\">\n    <path d=\"M 63 62.64 \nL 118.8 62.64 \nL 118.8 7.2 \nL 63 7.2 \nz\n\" clip-path=\"url(#pc3de03724f)\" style=\"fill: #beaed4\"/>\n   </g>\n   <g id=\"patch_4\">\n    <path d=\"M 118.8 62.64 \nL 174.6 62.64 \nL 174.6 7.2 \nL 118.8 7.2 \nz\n\" clip-path=\"url(#pc3de03724f)\" style=\"fill: #fdc086\"/>\n   </g>\n   <g id=\"patch_5\">\n    <path d=\"M 174.6 62.64 \nL 230.4 62.64 \nL 230.4 7.2 \nL 174.6 7.2 \nz\n\" clip-path=\"url(#pc3de03724f)\" style=\"fill: #ffff99\"/>\n   </g>\n   <g id=\"patch_6\">\n    <path d=\"M 230.4 62.64 \nL 286.2 62.64 \nL 286.2 7.2 \nL 230.4 7.2 \nz\n\" clip-path=\"url(#pc3de03724f)\" style=\"fill: #386cb0\"/>\n   </g>\n   <g id=\"patch_7\">\n    <path d=\"M 286.2 62.64 \nL 342 62.64 \nL 342 7.2 \nL 286.2 7.2 \nz\n\" clip-path=\"url(#pc3de03724f)\" style=\"fill: #f0027f\"/>\n   </g>\n   <g id=\"patch_8\">\n    <path d=\"M 342 62.64 \nL 397.8 62.64 \nL 397.8 7.2 \nL 342 7.2 \nz\n\" clip-path=\"url(#pc3de03724f)\" style=\"fill: #bf5b17\"/>\n   </g>\n   <g id=\"patch_9\">\n    <path d=\"M 397.8 62.64 \nL 453.6 62.64 \nL 453.6 7.2 \nL 397.8 7.2 \nz\n\" clip-path=\"url(#pc3de03724f)\" style=\"fill: #666666\"/>\n   </g>\n  </g>\n </g>\n <defs>\n  <clipPath id=\"pc3de03724f\">\n   <rect x=\"7.2\" y=\"7.2\" width=\"446.4\" height=\"55.44\"/>\n  </clipPath>\n </defs>\n</svg>\n"
     },
     "metadata": {},
     "output_type": "display_data"
    }
   ],
   "execution_count": 54
  },
  {
   "cell_type": "code",
   "metadata": {
    "ExecuteTime": {
     "end_time": "2025-03-18T13:43:40.552726Z",
     "start_time": "2025-03-18T13:43:40.550962Z"
    }
   },
   "source": [],
   "outputs": [],
   "execution_count": null
  },
  {
   "cell_type": "code",
   "metadata": {
    "ExecuteTime": {
     "end_time": "2025-03-18T13:43:40.560743Z",
     "start_time": "2025-03-18T13:43:40.558915Z"
    }
   },
   "source": [],
   "outputs": [],
   "execution_count": null
  },
  {
   "cell_type": "code",
   "metadata": {
    "ExecuteTime": {
     "end_time": "2025-03-18T13:43:40.576942Z",
     "start_time": "2025-03-18T13:43:40.572180Z"
    }
   },
   "source": [
    "# Generate sample data\n",
    "np.random.seed(42)  # For reproducibility\n",
    "n_points = 100\n",
    "\n",
    "# Two continuous numerical variables for x and y\n",
    "x = np.random.normal(loc=0, scale=1, size=n_points)\n",
    "y = x + np.random.normal(loc=0, scale=1, size=n_points)\n",
    "\n",
    "# Third variable: categorical with values 1, 2, 3\n",
    "categories = np.random.randint(1, 4, size=n_points)  # Values 1, 2, or 3\n",
    "\n",
    "# Fourth variable: continuous numerical\n",
    "continuous_var = np.random.uniform(0, 10, size=n_points)"
   ],
   "outputs": [],
   "execution_count": 55
  },
  {
   "cell_type": "code",
   "metadata": {
    "ExecuteTime": {
     "end_time": "2025-03-18T13:43:40.618831Z",
     "start_time": "2025-03-18T13:43:40.599308Z"
    }
   },
   "source": [
    "from mpl.colors import ListedColormap\n",
    "\n",
    "# Create a 1x3 subplot grid\n",
    "fig, axes = plt.subplots(1, 3, figsize=(18, 6))\n",
    "fig.suptitle('Scatter Plot Coloring Examples', fontsize=16)\n",
    "\n",
    "# Plot 1: Single color for all points\n",
    "axes[0].scatter(x, y, color='blue', s=100, alpha=0.7)\n",
    "axes[0].set_title('1. Single Color for All Points')\n",
    "axes[0].set_xlabel('X Variable')\n",
    "axes[0].set_ylabel('Y Variable')\n",
    "axes[0].grid(True, alpha=0.3)\n",
    "\n",
    "# Plot 2: Categorical variable mapped to colors\n",
    "# Use just the first 3 colors from the 'Accent' colormap\n",
    "accent_colors = plt.cm.Accent(np.linspace(0, 1, 8))[:3]  # Get first 3 colors from Accent\n",
    "cat_cmap = ListedColormap(accent_colors)\n",
    "\n",
    "scatter2 = axes[1].scatter(x, y, c=categories, cmap=cat_cmap, \n",
    "                         s=100, alpha=0.7, vmin=1, vmax=3)\n",
    "axes[1].set_title('2. Categorical Variable (1, 2, 3) Mapped to Colors')\n",
    "axes[1].set_xlabel('X Variable')\n",
    "axes[1].set_ylabel('Y Variable')\n",
    "axes[1].grid(True, alpha=0.3)\n",
    "\n",
    "# Create a colorbar with discrete ticks for the categories\n",
    "cbar2 = plt.colorbar(scatter2, ax=axes[1], ticks=[1.33, 2, 2.67])\n",
    "cbar2.set_label('Category')\n",
    "cbar2.set_ticklabels(['Category 1', 'Category 2', 'Category 3'])\n",
    "\n",
    "# Plot 3: Continuous variable mapped to colors\n",
    "scatter3 = axes[2].scatter(x, y, c=continuous_var, cmap='viridis', \n",
    "                         s=100, alpha=0.7)\n",
    "axes[2].set_title('3. Continuous Variable Mapped to Colors')\n",
    "axes[2].set_xlabel('X Variable')\n",
    "axes[2].set_ylabel('Y Variable')\n",
    "axes[2].grid(True, alpha=0.3)\n",
    "\n",
    "# Add a colorbar for the continuous variable\n",
    "cbar3 = plt.colorbar(scatter3, ax=axes[2])\n",
    "cbar3.set_label('Continuous Variable Value')\n",
    "\n",
    "plt.tight_layout()\n",
    "plt.subplots_adjust(top=0.88)\n",
    "plt.show()\n",
    "\n",
    "# Bonus plot: Combined visualization showing both categorical and continuous variables\n",
    "plt.figure(figsize=(10, 8))\n",
    "\n",
    "# Use categorical variable for colors and continuous variable for size\n",
    "scatter = plt.scatter(x, y, c=categories, cmap=cat_cmap, \n",
    "                     s=continuous_var*20, alpha=0.7, vmin=1, vmax=3)\n",
    "\n",
    "plt.title('Combined Visualization: Colors (Categories) and Sizes (Continuous Variable)')\n",
    "plt.xlabel('X Variable')\n",
    "plt.ylabel('Y Variable')\n",
    "plt.grid(True, alpha=0.3)\n",
    "\n",
    "# Create a colorbar with discrete ticks for the categories\n",
    "cbar = plt.colorbar(scatter, ticks=[1.33, 2, 2.67])\n",
    "cbar.set_label('Category')\n",
    "cbar.set_ticklabels(['Category 1', 'Category 2', 'Category 3'])\n",
    "\n",
    "# Add a legend for the size scale\n",
    "sizes = [2, 5, 8]\n",
    "labels = ['Low', 'Medium', 'High']\n",
    "handles = []\n",
    "for size in sizes:\n",
    "    handles.append(plt.scatter([], [], c='gray', s=size*20, alpha=0.7))\n",
    "plt.legend(handles, labels, title=\"Continuous Variable\", loc=\"upper left\")\n",
    "\n",
    "plt.tight_layout()\n",
    "plt.show()"
   ],
   "outputs": [
    {
     "ename": "ModuleNotFoundError",
     "evalue": "No module named 'mpl'",
     "output_type": "error",
     "traceback": [
      "\u001B[0;31m---------------------------------------------------------------------------\u001B[0m",
      "\u001B[0;31mModuleNotFoundError\u001B[0m                       Traceback (most recent call last)",
      "Cell \u001B[0;32mIn[56], line 1\u001B[0m\n\u001B[0;32m----> 1\u001B[0m \u001B[38;5;28;01mfrom\u001B[39;00m\u001B[38;5;250m \u001B[39m\u001B[38;5;21;01mmpl\u001B[39;00m\u001B[38;5;21;01m.\u001B[39;00m\u001B[38;5;21;01mcolors\u001B[39;00m\u001B[38;5;250m \u001B[39m\u001B[38;5;28;01mimport\u001B[39;00m ListedColormap\n\u001B[1;32m      3\u001B[0m \u001B[38;5;66;03m# Create a 1x3 subplot grid\u001B[39;00m\n\u001B[1;32m      4\u001B[0m fig, axes \u001B[38;5;241m=\u001B[39m plt\u001B[38;5;241m.\u001B[39msubplots(\u001B[38;5;241m1\u001B[39m, \u001B[38;5;241m3\u001B[39m, figsize\u001B[38;5;241m=\u001B[39m(\u001B[38;5;241m18\u001B[39m, \u001B[38;5;241m6\u001B[39m))\n",
      "\u001B[0;31mModuleNotFoundError\u001B[0m: No module named 'mpl'"
     ]
    }
   ],
   "execution_count": 56
  },
  {
   "cell_type": "markdown",
   "metadata": {},
   "source": [
    "## Challenge: How many visual variables can we manage in a graph?\n",
    "We use a cars dataset:"
   ]
  },
  {
   "cell_type": "code",
   "metadata": {
    "ExecuteTime": {
     "end_time": "2025-03-18T14:00:24.817602Z",
     "start_time": "2025-03-18T14:00:24.777492Z"
    }
   },
   "source": [
    "df = pd.read_csv(os.path.join(data_folder, 'motortrends', 'mtcars.csv'), delimiter=',')\n",
    "df"
   ],
   "outputs": [
    {
     "data": {
      "text/plain": [
       "                  model   mpg  cyl   disp   hp  drat     wt   qsec  vs  am  \\\n",
       "0             Mazda RX4  21.0    6  160.0  110  3.90  2.620  16.46   0   1   \n",
       "1         Mazda RX4 Wag  21.0    6  160.0  110  3.90  2.875  17.02   0   1   \n",
       "2            Datsun 710  22.8    4  108.0   93  3.85  2.320  18.61   1   1   \n",
       "3        Hornet 4 Drive  21.4    6  258.0  110  3.08  3.215  19.44   1   0   \n",
       "4     Hornet Sportabout  18.7    8  360.0  175  3.15  3.440  17.02   0   0   \n",
       "5               Valiant  18.1    6  225.0  105  2.76  3.460  20.22   1   0   \n",
       "6            Duster 360  14.3    8  360.0  245  3.21  3.570  15.84   0   0   \n",
       "7             Merc 240D  24.4    4  146.7   62  3.69  3.190  20.00   1   0   \n",
       "8              Merc 230  22.8    4  140.8   95  3.92  3.150  22.90   1   0   \n",
       "9              Merc 280  19.2    6  167.6  123  3.92  3.440  18.30   1   0   \n",
       "10            Merc 280C  17.8    6  167.6  123  3.92  3.440  18.90   1   0   \n",
       "11           Merc 450SE  16.4    8  275.8  180  3.07  4.070  17.40   0   0   \n",
       "12           Merc 450SL  17.3    8  275.8  180  3.07  3.730  17.60   0   0   \n",
       "13          Merc 450SLC  15.2    8  275.8  180  3.07  3.780  18.00   0   0   \n",
       "14   Cadillac Fleetwood  10.4    8  472.0  205  2.93  5.250  17.98   0   0   \n",
       "15  Lincoln Continental  10.4    8  460.0  215  3.00  5.424  17.82   0   0   \n",
       "16    Chrysler Imperial  14.7    8  440.0  230  3.23  5.345  17.42   0   0   \n",
       "17             Fiat 128  32.4    4   78.7   66  4.08  2.200  19.47   1   1   \n",
       "18          Honda Civic  30.4    4   75.7   52  4.93  1.615  18.52   1   1   \n",
       "19       Toyota Corolla  33.9    4   71.1   65  4.22  1.835  19.90   1   1   \n",
       "20        Toyota Corona  21.5    4  120.1   97  3.70  2.465  20.01   1   0   \n",
       "21     Dodge Challenger  15.5    8  318.0  150  2.76  3.520  16.87   0   0   \n",
       "22          AMC Javelin  15.2    8  304.0  150  3.15  3.435  17.30   0   0   \n",
       "23           Camaro Z28  13.3    8  350.0  245  3.73  3.840  15.41   0   0   \n",
       "24     Pontiac Firebird  19.2    8  400.0  175  3.08  3.845  17.05   0   0   \n",
       "25            Fiat X1-9  27.3    4   79.0   66  4.08  1.935  18.90   1   1   \n",
       "26        Porsche 914-2  26.0    4  120.3   91  4.43  2.140  16.70   0   1   \n",
       "27         Lotus Europa  30.4    4   95.1  113  3.77  1.513  16.90   1   1   \n",
       "28       Ford Pantera L  15.8    8  351.0  264  4.22  3.170  14.50   0   1   \n",
       "29         Ferrari Dino  19.7    6  145.0  175  3.62  2.770  15.50   0   1   \n",
       "30        Maserati Bora  15.0    8  301.0  335  3.54  3.570  14.60   0   1   \n",
       "31           Volvo 142E  21.4    4  121.0  109  4.11  2.780  18.60   1   1   \n",
       "\n",
       "    gear  carb  \n",
       "0      4     4  \n",
       "1      4     4  \n",
       "2      4     1  \n",
       "3      3     1  \n",
       "4      3     2  \n",
       "5      3     1  \n",
       "6      3     4  \n",
       "7      4     2  \n",
       "8      4     2  \n",
       "9      4     4  \n",
       "10     4     4  \n",
       "11     3     3  \n",
       "12     3     3  \n",
       "13     3     3  \n",
       "14     3     4  \n",
       "15     3     4  \n",
       "16     3     4  \n",
       "17     4     1  \n",
       "18     4     2  \n",
       "19     4     1  \n",
       "20     3     1  \n",
       "21     3     2  \n",
       "22     3     2  \n",
       "23     3     4  \n",
       "24     3     2  \n",
       "25     4     1  \n",
       "26     5     2  \n",
       "27     5     2  \n",
       "28     5     4  \n",
       "29     5     6  \n",
       "30     5     8  \n",
       "31     4     2  "
      ],
      "text/html": [
       "<div>\n",
       "<style scoped>\n",
       "    .dataframe tbody tr th:only-of-type {\n",
       "        vertical-align: middle;\n",
       "    }\n",
       "\n",
       "    .dataframe tbody tr th {\n",
       "        vertical-align: top;\n",
       "    }\n",
       "\n",
       "    .dataframe thead th {\n",
       "        text-align: right;\n",
       "    }\n",
       "</style>\n",
       "<table border=\"1\" class=\"dataframe\">\n",
       "  <thead>\n",
       "    <tr style=\"text-align: right;\">\n",
       "      <th></th>\n",
       "      <th>model</th>\n",
       "      <th>mpg</th>\n",
       "      <th>cyl</th>\n",
       "      <th>disp</th>\n",
       "      <th>hp</th>\n",
       "      <th>drat</th>\n",
       "      <th>wt</th>\n",
       "      <th>qsec</th>\n",
       "      <th>vs</th>\n",
       "      <th>am</th>\n",
       "      <th>gear</th>\n",
       "      <th>carb</th>\n",
       "    </tr>\n",
       "  </thead>\n",
       "  <tbody>\n",
       "    <tr>\n",
       "      <th>0</th>\n",
       "      <td>Mazda RX4</td>\n",
       "      <td>21.0</td>\n",
       "      <td>6</td>\n",
       "      <td>160.0</td>\n",
       "      <td>110</td>\n",
       "      <td>3.90</td>\n",
       "      <td>2.620</td>\n",
       "      <td>16.46</td>\n",
       "      <td>0</td>\n",
       "      <td>1</td>\n",
       "      <td>4</td>\n",
       "      <td>4</td>\n",
       "    </tr>\n",
       "    <tr>\n",
       "      <th>1</th>\n",
       "      <td>Mazda RX4 Wag</td>\n",
       "      <td>21.0</td>\n",
       "      <td>6</td>\n",
       "      <td>160.0</td>\n",
       "      <td>110</td>\n",
       "      <td>3.90</td>\n",
       "      <td>2.875</td>\n",
       "      <td>17.02</td>\n",
       "      <td>0</td>\n",
       "      <td>1</td>\n",
       "      <td>4</td>\n",
       "      <td>4</td>\n",
       "    </tr>\n",
       "    <tr>\n",
       "      <th>2</th>\n",
       "      <td>Datsun 710</td>\n",
       "      <td>22.8</td>\n",
       "      <td>4</td>\n",
       "      <td>108.0</td>\n",
       "      <td>93</td>\n",
       "      <td>3.85</td>\n",
       "      <td>2.320</td>\n",
       "      <td>18.61</td>\n",
       "      <td>1</td>\n",
       "      <td>1</td>\n",
       "      <td>4</td>\n",
       "      <td>1</td>\n",
       "    </tr>\n",
       "    <tr>\n",
       "      <th>3</th>\n",
       "      <td>Hornet 4 Drive</td>\n",
       "      <td>21.4</td>\n",
       "      <td>6</td>\n",
       "      <td>258.0</td>\n",
       "      <td>110</td>\n",
       "      <td>3.08</td>\n",
       "      <td>3.215</td>\n",
       "      <td>19.44</td>\n",
       "      <td>1</td>\n",
       "      <td>0</td>\n",
       "      <td>3</td>\n",
       "      <td>1</td>\n",
       "    </tr>\n",
       "    <tr>\n",
       "      <th>4</th>\n",
       "      <td>Hornet Sportabout</td>\n",
       "      <td>18.7</td>\n",
       "      <td>8</td>\n",
       "      <td>360.0</td>\n",
       "      <td>175</td>\n",
       "      <td>3.15</td>\n",
       "      <td>3.440</td>\n",
       "      <td>17.02</td>\n",
       "      <td>0</td>\n",
       "      <td>0</td>\n",
       "      <td>3</td>\n",
       "      <td>2</td>\n",
       "    </tr>\n",
       "    <tr>\n",
       "      <th>5</th>\n",
       "      <td>Valiant</td>\n",
       "      <td>18.1</td>\n",
       "      <td>6</td>\n",
       "      <td>225.0</td>\n",
       "      <td>105</td>\n",
       "      <td>2.76</td>\n",
       "      <td>3.460</td>\n",
       "      <td>20.22</td>\n",
       "      <td>1</td>\n",
       "      <td>0</td>\n",
       "      <td>3</td>\n",
       "      <td>1</td>\n",
       "    </tr>\n",
       "    <tr>\n",
       "      <th>6</th>\n",
       "      <td>Duster 360</td>\n",
       "      <td>14.3</td>\n",
       "      <td>8</td>\n",
       "      <td>360.0</td>\n",
       "      <td>245</td>\n",
       "      <td>3.21</td>\n",
       "      <td>3.570</td>\n",
       "      <td>15.84</td>\n",
       "      <td>0</td>\n",
       "      <td>0</td>\n",
       "      <td>3</td>\n",
       "      <td>4</td>\n",
       "    </tr>\n",
       "    <tr>\n",
       "      <th>7</th>\n",
       "      <td>Merc 240D</td>\n",
       "      <td>24.4</td>\n",
       "      <td>4</td>\n",
       "      <td>146.7</td>\n",
       "      <td>62</td>\n",
       "      <td>3.69</td>\n",
       "      <td>3.190</td>\n",
       "      <td>20.00</td>\n",
       "      <td>1</td>\n",
       "      <td>0</td>\n",
       "      <td>4</td>\n",
       "      <td>2</td>\n",
       "    </tr>\n",
       "    <tr>\n",
       "      <th>8</th>\n",
       "      <td>Merc 230</td>\n",
       "      <td>22.8</td>\n",
       "      <td>4</td>\n",
       "      <td>140.8</td>\n",
       "      <td>95</td>\n",
       "      <td>3.92</td>\n",
       "      <td>3.150</td>\n",
       "      <td>22.90</td>\n",
       "      <td>1</td>\n",
       "      <td>0</td>\n",
       "      <td>4</td>\n",
       "      <td>2</td>\n",
       "    </tr>\n",
       "    <tr>\n",
       "      <th>9</th>\n",
       "      <td>Merc 280</td>\n",
       "      <td>19.2</td>\n",
       "      <td>6</td>\n",
       "      <td>167.6</td>\n",
       "      <td>123</td>\n",
       "      <td>3.92</td>\n",
       "      <td>3.440</td>\n",
       "      <td>18.30</td>\n",
       "      <td>1</td>\n",
       "      <td>0</td>\n",
       "      <td>4</td>\n",
       "      <td>4</td>\n",
       "    </tr>\n",
       "    <tr>\n",
       "      <th>10</th>\n",
       "      <td>Merc 280C</td>\n",
       "      <td>17.8</td>\n",
       "      <td>6</td>\n",
       "      <td>167.6</td>\n",
       "      <td>123</td>\n",
       "      <td>3.92</td>\n",
       "      <td>3.440</td>\n",
       "      <td>18.90</td>\n",
       "      <td>1</td>\n",
       "      <td>0</td>\n",
       "      <td>4</td>\n",
       "      <td>4</td>\n",
       "    </tr>\n",
       "    <tr>\n",
       "      <th>11</th>\n",
       "      <td>Merc 450SE</td>\n",
       "      <td>16.4</td>\n",
       "      <td>8</td>\n",
       "      <td>275.8</td>\n",
       "      <td>180</td>\n",
       "      <td>3.07</td>\n",
       "      <td>4.070</td>\n",
       "      <td>17.40</td>\n",
       "      <td>0</td>\n",
       "      <td>0</td>\n",
       "      <td>3</td>\n",
       "      <td>3</td>\n",
       "    </tr>\n",
       "    <tr>\n",
       "      <th>12</th>\n",
       "      <td>Merc 450SL</td>\n",
       "      <td>17.3</td>\n",
       "      <td>8</td>\n",
       "      <td>275.8</td>\n",
       "      <td>180</td>\n",
       "      <td>3.07</td>\n",
       "      <td>3.730</td>\n",
       "      <td>17.60</td>\n",
       "      <td>0</td>\n",
       "      <td>0</td>\n",
       "      <td>3</td>\n",
       "      <td>3</td>\n",
       "    </tr>\n",
       "    <tr>\n",
       "      <th>13</th>\n",
       "      <td>Merc 450SLC</td>\n",
       "      <td>15.2</td>\n",
       "      <td>8</td>\n",
       "      <td>275.8</td>\n",
       "      <td>180</td>\n",
       "      <td>3.07</td>\n",
       "      <td>3.780</td>\n",
       "      <td>18.00</td>\n",
       "      <td>0</td>\n",
       "      <td>0</td>\n",
       "      <td>3</td>\n",
       "      <td>3</td>\n",
       "    </tr>\n",
       "    <tr>\n",
       "      <th>14</th>\n",
       "      <td>Cadillac Fleetwood</td>\n",
       "      <td>10.4</td>\n",
       "      <td>8</td>\n",
       "      <td>472.0</td>\n",
       "      <td>205</td>\n",
       "      <td>2.93</td>\n",
       "      <td>5.250</td>\n",
       "      <td>17.98</td>\n",
       "      <td>0</td>\n",
       "      <td>0</td>\n",
       "      <td>3</td>\n",
       "      <td>4</td>\n",
       "    </tr>\n",
       "    <tr>\n",
       "      <th>15</th>\n",
       "      <td>Lincoln Continental</td>\n",
       "      <td>10.4</td>\n",
       "      <td>8</td>\n",
       "      <td>460.0</td>\n",
       "      <td>215</td>\n",
       "      <td>3.00</td>\n",
       "      <td>5.424</td>\n",
       "      <td>17.82</td>\n",
       "      <td>0</td>\n",
       "      <td>0</td>\n",
       "      <td>3</td>\n",
       "      <td>4</td>\n",
       "    </tr>\n",
       "    <tr>\n",
       "      <th>16</th>\n",
       "      <td>Chrysler Imperial</td>\n",
       "      <td>14.7</td>\n",
       "      <td>8</td>\n",
       "      <td>440.0</td>\n",
       "      <td>230</td>\n",
       "      <td>3.23</td>\n",
       "      <td>5.345</td>\n",
       "      <td>17.42</td>\n",
       "      <td>0</td>\n",
       "      <td>0</td>\n",
       "      <td>3</td>\n",
       "      <td>4</td>\n",
       "    </tr>\n",
       "    <tr>\n",
       "      <th>17</th>\n",
       "      <td>Fiat 128</td>\n",
       "      <td>32.4</td>\n",
       "      <td>4</td>\n",
       "      <td>78.7</td>\n",
       "      <td>66</td>\n",
       "      <td>4.08</td>\n",
       "      <td>2.200</td>\n",
       "      <td>19.47</td>\n",
       "      <td>1</td>\n",
       "      <td>1</td>\n",
       "      <td>4</td>\n",
       "      <td>1</td>\n",
       "    </tr>\n",
       "    <tr>\n",
       "      <th>18</th>\n",
       "      <td>Honda Civic</td>\n",
       "      <td>30.4</td>\n",
       "      <td>4</td>\n",
       "      <td>75.7</td>\n",
       "      <td>52</td>\n",
       "      <td>4.93</td>\n",
       "      <td>1.615</td>\n",
       "      <td>18.52</td>\n",
       "      <td>1</td>\n",
       "      <td>1</td>\n",
       "      <td>4</td>\n",
       "      <td>2</td>\n",
       "    </tr>\n",
       "    <tr>\n",
       "      <th>19</th>\n",
       "      <td>Toyota Corolla</td>\n",
       "      <td>33.9</td>\n",
       "      <td>4</td>\n",
       "      <td>71.1</td>\n",
       "      <td>65</td>\n",
       "      <td>4.22</td>\n",
       "      <td>1.835</td>\n",
       "      <td>19.90</td>\n",
       "      <td>1</td>\n",
       "      <td>1</td>\n",
       "      <td>4</td>\n",
       "      <td>1</td>\n",
       "    </tr>\n",
       "    <tr>\n",
       "      <th>20</th>\n",
       "      <td>Toyota Corona</td>\n",
       "      <td>21.5</td>\n",
       "      <td>4</td>\n",
       "      <td>120.1</td>\n",
       "      <td>97</td>\n",
       "      <td>3.70</td>\n",
       "      <td>2.465</td>\n",
       "      <td>20.01</td>\n",
       "      <td>1</td>\n",
       "      <td>0</td>\n",
       "      <td>3</td>\n",
       "      <td>1</td>\n",
       "    </tr>\n",
       "    <tr>\n",
       "      <th>21</th>\n",
       "      <td>Dodge Challenger</td>\n",
       "      <td>15.5</td>\n",
       "      <td>8</td>\n",
       "      <td>318.0</td>\n",
       "      <td>150</td>\n",
       "      <td>2.76</td>\n",
       "      <td>3.520</td>\n",
       "      <td>16.87</td>\n",
       "      <td>0</td>\n",
       "      <td>0</td>\n",
       "      <td>3</td>\n",
       "      <td>2</td>\n",
       "    </tr>\n",
       "    <tr>\n",
       "      <th>22</th>\n",
       "      <td>AMC Javelin</td>\n",
       "      <td>15.2</td>\n",
       "      <td>8</td>\n",
       "      <td>304.0</td>\n",
       "      <td>150</td>\n",
       "      <td>3.15</td>\n",
       "      <td>3.435</td>\n",
       "      <td>17.30</td>\n",
       "      <td>0</td>\n",
       "      <td>0</td>\n",
       "      <td>3</td>\n",
       "      <td>2</td>\n",
       "    </tr>\n",
       "    <tr>\n",
       "      <th>23</th>\n",
       "      <td>Camaro Z28</td>\n",
       "      <td>13.3</td>\n",
       "      <td>8</td>\n",
       "      <td>350.0</td>\n",
       "      <td>245</td>\n",
       "      <td>3.73</td>\n",
       "      <td>3.840</td>\n",
       "      <td>15.41</td>\n",
       "      <td>0</td>\n",
       "      <td>0</td>\n",
       "      <td>3</td>\n",
       "      <td>4</td>\n",
       "    </tr>\n",
       "    <tr>\n",
       "      <th>24</th>\n",
       "      <td>Pontiac Firebird</td>\n",
       "      <td>19.2</td>\n",
       "      <td>8</td>\n",
       "      <td>400.0</td>\n",
       "      <td>175</td>\n",
       "      <td>3.08</td>\n",
       "      <td>3.845</td>\n",
       "      <td>17.05</td>\n",
       "      <td>0</td>\n",
       "      <td>0</td>\n",
       "      <td>3</td>\n",
       "      <td>2</td>\n",
       "    </tr>\n",
       "    <tr>\n",
       "      <th>25</th>\n",
       "      <td>Fiat X1-9</td>\n",
       "      <td>27.3</td>\n",
       "      <td>4</td>\n",
       "      <td>79.0</td>\n",
       "      <td>66</td>\n",
       "      <td>4.08</td>\n",
       "      <td>1.935</td>\n",
       "      <td>18.90</td>\n",
       "      <td>1</td>\n",
       "      <td>1</td>\n",
       "      <td>4</td>\n",
       "      <td>1</td>\n",
       "    </tr>\n",
       "    <tr>\n",
       "      <th>26</th>\n",
       "      <td>Porsche 914-2</td>\n",
       "      <td>26.0</td>\n",
       "      <td>4</td>\n",
       "      <td>120.3</td>\n",
       "      <td>91</td>\n",
       "      <td>4.43</td>\n",
       "      <td>2.140</td>\n",
       "      <td>16.70</td>\n",
       "      <td>0</td>\n",
       "      <td>1</td>\n",
       "      <td>5</td>\n",
       "      <td>2</td>\n",
       "    </tr>\n",
       "    <tr>\n",
       "      <th>27</th>\n",
       "      <td>Lotus Europa</td>\n",
       "      <td>30.4</td>\n",
       "      <td>4</td>\n",
       "      <td>95.1</td>\n",
       "      <td>113</td>\n",
       "      <td>3.77</td>\n",
       "      <td>1.513</td>\n",
       "      <td>16.90</td>\n",
       "      <td>1</td>\n",
       "      <td>1</td>\n",
       "      <td>5</td>\n",
       "      <td>2</td>\n",
       "    </tr>\n",
       "    <tr>\n",
       "      <th>28</th>\n",
       "      <td>Ford Pantera L</td>\n",
       "      <td>15.8</td>\n",
       "      <td>8</td>\n",
       "      <td>351.0</td>\n",
       "      <td>264</td>\n",
       "      <td>4.22</td>\n",
       "      <td>3.170</td>\n",
       "      <td>14.50</td>\n",
       "      <td>0</td>\n",
       "      <td>1</td>\n",
       "      <td>5</td>\n",
       "      <td>4</td>\n",
       "    </tr>\n",
       "    <tr>\n",
       "      <th>29</th>\n",
       "      <td>Ferrari Dino</td>\n",
       "      <td>19.7</td>\n",
       "      <td>6</td>\n",
       "      <td>145.0</td>\n",
       "      <td>175</td>\n",
       "      <td>3.62</td>\n",
       "      <td>2.770</td>\n",
       "      <td>15.50</td>\n",
       "      <td>0</td>\n",
       "      <td>1</td>\n",
       "      <td>5</td>\n",
       "      <td>6</td>\n",
       "    </tr>\n",
       "    <tr>\n",
       "      <th>30</th>\n",
       "      <td>Maserati Bora</td>\n",
       "      <td>15.0</td>\n",
       "      <td>8</td>\n",
       "      <td>301.0</td>\n",
       "      <td>335</td>\n",
       "      <td>3.54</td>\n",
       "      <td>3.570</td>\n",
       "      <td>14.60</td>\n",
       "      <td>0</td>\n",
       "      <td>1</td>\n",
       "      <td>5</td>\n",
       "      <td>8</td>\n",
       "    </tr>\n",
       "    <tr>\n",
       "      <th>31</th>\n",
       "      <td>Volvo 142E</td>\n",
       "      <td>21.4</td>\n",
       "      <td>4</td>\n",
       "      <td>121.0</td>\n",
       "      <td>109</td>\n",
       "      <td>4.11</td>\n",
       "      <td>2.780</td>\n",
       "      <td>18.60</td>\n",
       "      <td>1</td>\n",
       "      <td>1</td>\n",
       "      <td>4</td>\n",
       "      <td>2</td>\n",
       "    </tr>\n",
       "  </tbody>\n",
       "</table>\n",
       "</div>"
      ]
     },
     "execution_count": 57,
     "metadata": {},
     "output_type": "execute_result"
    }
   ],
   "execution_count": 57
  },
  {
   "cell_type": "markdown",
   "metadata": {},
   "source": [
    "**To Do: Assign the Variable Types**\n",
    "* model (name of the car model): \n",
    "* mpg (fuel efficiency in miles/(US) gallon):\n",
    "* cyl (number of cylinders):\n",
    "* disp (displacement in cubic inches):\n",
    "* hp (horsepower):\n",
    "* drat (rear axle ratio):\n",
    "* wt (weight in 1000 lbs):\n",
    "* qsec (acceleration in 1/4 mile per sec^2):\n",
    "* vs (engine type 0=V-shaped, 1=straight):\n",
    "* am (transmission 0=automatic, 1=manual):\n",
    "* gear (number of forward gears):\n",
    "* carb (number of carburators):"
   ]
  },
  {
   "cell_type": "code",
   "execution_count": null,
   "metadata": {},
   "outputs": [],
   "source": []
  },
  {
   "cell_type": "markdown",
   "metadata": {},
   "source": [
    "**To Do: Create a scatterplot using matplotlib that shows fuel efficiency in relation to displacement**   "
   ]
  },
  {
   "cell_type": "code",
   "execution_count": null,
   "metadata": {},
   "outputs": [],
   "source": []
  },
  {
   "cell_type": "markdown",
   "metadata": {},
   "source": [
    "**To Do: How many additional variables do you manage to fit into the graph? Which ones?**"
   ]
  },
  {
   "cell_type": "code",
   "metadata": {
    "ExecuteTime": {
     "end_time": "2025-03-18T14:20:57.703544Z",
     "start_time": "2025-03-18T14:20:57.483897Z"
    }
   },
   "source": [
    "fig, ax = plt.subplots(figsize=(12, 8))\n",
    "\n",
    "# Split data by transmission type for different markers\n",
    "automatic = df[df['am'] == 0]\n",
    "manual = df[df['am'] == 1]\n",
    "\n",
    "# Create a normalization object for the colorbar\n",
    "norm = plt.Normalize(df['carb'].min(), df['carb'].max())\n",
    "\n",
    "# Normalize mpg for alpha scaling\n",
    "alpha_norm = (df['mpg'] - df['mpg'].min()) / (df['mpg'].max() - df['mpg'].min())\n",
    "\n",
    "# For automatic transmission cars\n",
    "for i in range(len(automatic)):\n",
    "    marker = '^' if automatic['vs'].iloc[i] == 0 else '<'  # Triangle for V-shaped, Left arrow for Straight\n",
    "    ax.scatter(automatic['wt'].iloc[i],\n",
    "               automatic['hp'].iloc[i],\n",
    "               s=automatic['disp'].iloc[i]*3,\n",
    "               alpha=alpha_norm[automatic.index[i]],  # Alpha based on normalized mpg\n",
    "               c=[automatic['carb'].iloc[i]],\n",
    "               cmap='viridis',  # Updated colormap\n",
    "               norm=norm,\n",
    "               marker=marker,\n",
    "               label='Automatic' if i == 0 else \"\")\n",
    "\n",
    "# For manual transmission cars\n",
    "for i in range(len(manual)):\n",
    "    marker = 'D' if manual['vs'].iloc[i] == 0 else '*'  # Diamond for V-shaped, Star for Straight\n",
    "    ax.scatter(manual['wt'].iloc[i],\n",
    "               manual['hp'].iloc[i],\n",
    "               s=manual['disp'].iloc[i]*3,\n",
    "               alpha=alpha_norm[manual.index[i]],  # Alpha based on normalized mpg\n",
    "               c=[manual['carb'].iloc[i]],\n",
    "               cmap='viridis',  # Updated colormap\n",
    "               norm=norm,\n",
    "               marker=marker,\n",
    "               label='Manual' if i == 0 else \"\")\n",
    "\n",
    "# Add labels and title\n",
    "ax.set_xlabel('Weight (1000 lbs)')\n",
    "ax.set_ylabel('Horsepower')\n",
    "ax.set_title('Car Characteristics Visualization')\n",
    "\n",
    "# Create colorbar\n",
    "sm = plt.cm.ScalarMappable(cmap='viridis', norm=norm)  # Updated colormap\n",
    "sm.set_array([])\n",
    "cbar = plt.colorbar(sm, ax=ax, label='Number of Carburetors')\n",
    "\n",
    "# Create custom legend\n",
    "legend_elements = [\n",
    "    plt.scatter([], [], s=100, c='gray', marker='^', label='Automatic - V-shaped'),\n",
    "    plt.scatter([], [], s=100, c='gray', marker='<', label='Automatic - Straight'),\n",
    "    plt.scatter([], [], s=100, c='gray', marker='D', label='Manual - V-shaped'),\n",
    "    plt.scatter([], [], s=100, c='gray', marker='*', label='Manual - Straight'),\n",
    "    plt.scatter([], [], s=100, c='gray', label='Small displacement'),\n",
    "    plt.scatter([], [], s=300, c='gray', label='Large displacement'),\n",
    "    plt.Line2D([0], [0], color='gray', alpha=1.0, lw=4, label='High mpg (transparent)'),\n",
    "    plt.Line2D([0], [0], color='gray', alpha=0.3, lw=4, label='Low mpg (opaque)')\n",
    "]\n",
    "ax.legend(handles=legend_elements, title='Transmission, Engine & Displacement\\n(Alpha = Fuel Efficiency)',\n",
    "          loc='upper left', bbox_to_anchor=(1.15, 1))\n",
    "\n",
    "ax.grid(True, alpha=0.3)\n",
    "\n",
    "# Adjust layout to prevent legend cutoff\n",
    "plt.tight_layout()\n",
    "\n",
    "plt.show()"
   ],
   "outputs": [
    {
     "data": {
      "text/plain": [
       "<Figure size 1200x800 with 2 Axes>"
      ],
      "image/svg+xml": "<?xml version=\"1.0\" encoding=\"utf-8\" standalone=\"no\"?>\n<!DOCTYPE svg PUBLIC \"-//W3C//DTD SVG 1.1//EN\"\n  \"http://www.w3.org/Graphics/SVG/1.1/DTD/svg11.dtd\">\n<svg xmlns:xlink=\"http://www.w3.org/1999/xlink\" width=\"857.782897pt\" height=\"568.474375pt\" viewBox=\"0 0 857.782897 568.474375\" xmlns=\"http://www.w3.org/2000/svg\" version=\"1.1\">\n <metadata>\n  <rdf:RDF xmlns:dc=\"http://purl.org/dc/elements/1.1/\" xmlns:cc=\"http://creativecommons.org/ns#\" xmlns:rdf=\"http://www.w3.org/1999/02/22-rdf-syntax-ns#\">\n   <cc:Work>\n    <dc:type rdf:resource=\"http://purl.org/dc/dcmitype/StillImage\"/>\n    <dc:date>2025-03-18T15:20:57.647821</dc:date>\n    <dc:format>image/svg+xml</dc:format>\n    <dc:creator>\n     <cc:Agent>\n      <dc:title>Matplotlib v3.10.0, https://matplotlib.org/</dc:title>\n     </cc:Agent>\n    </dc:creator>\n   </cc:Work>\n  </rdf:RDF>\n </metadata>\n <defs>\n  <style type=\"text/css\">*{stroke-linejoin: round; stroke-linecap: butt}</style>\n </defs>\n <g id=\"figure_1\">\n  <g id=\"patch_1\">\n   <path d=\"M 0 568.474375 \nL 857.782897 568.474375 \nL 857.782897 0 \nL 0 0 \nz\n\" style=\"fill: #ffffff\"/>\n  </g>\n  <g id=\"axes_1\">\n   <g id=\"patch_2\">\n    <path d=\"M 46.965625 530.918125 \nL 570.876025 530.918125 \nL 570.876025 22.318125 \nL 46.965625 22.318125 \nz\n\" style=\"fill: #ffffff\"/>\n   </g>\n   <g id=\"PathCollection_1\">\n    <defs>\n     <path id=\"m10ba5c5dfb\" d=\"M -13.910428 -0 \nL 13.910428 13.910428 \nL 13.910428 -13.910428 \nz\n\" style=\"stroke: #440154; stroke-opacity: 0.468085\"/>\n    </defs>\n    <g clip-path=\"url(#pc0d09a8451)\">\n     <use xlink:href=\"#m10ba5c5dfb\" x=\"278.049556\" y=\"413.039905\" style=\"fill: #440154; fill-opacity: 0.468085; stroke: #440154; stroke-opacity: 0.468085\"/>\n    </g>\n   </g>\n   <g id=\"PathCollection_2\">\n    <defs>\n     <path id=\"m1d66ac7a6f\" d=\"M 0 -16.431677 \nL -16.431677 16.431677 \nL 16.431677 16.431677 \nz\n\" style=\"stroke: #46327e; stroke-opacity: 0.353191\"/>\n    </defs>\n    <g clip-path=\"url(#pc0d09a8451)\">\n     <use xlink:href=\"#m1d66ac7a6f\" x=\"305.450091\" y=\"306.84331\" style=\"fill: #46327e; fill-opacity: 0.353191; stroke: #46327e; stroke-opacity: 0.353191\"/>\n    </g>\n   </g>\n   <g id=\"PathCollection_3\">\n    <defs>\n     <path id=\"mcbabf72e0b\" d=\"M -12.990381 -0 \nL 12.990381 12.990381 \nL 12.990381 -12.990381 \nz\n\" style=\"stroke: #440154; stroke-opacity: 0.32766\"/>\n    </defs>\n    <g clip-path=\"url(#pc0d09a8451)\">\n     <use xlink:href=\"#mcbabf72e0b\" x=\"307.885694\" y=\"421.208873\" style=\"fill: #440154; fill-opacity: 0.32766; stroke: #440154; stroke-opacity: 0.32766\"/>\n    </g>\n   </g>\n   <g id=\"PathCollection_4\">\n    <defs>\n     <path id=\"m07facd60a3\" d=\"M 0 -16.431677 \nL -16.431677 16.431677 \nL 16.431677 16.431677 \nz\n\" style=\"stroke: #277f8e; stroke-opacity: 0.165957\"/>\n    </defs>\n    <g clip-path=\"url(#pc0d09a8451)\">\n     <use xlink:href=\"#m07facd60a3\" x=\"321.281511\" y=\"192.477746\" style=\"fill: #277f8e; fill-opacity: 0.165957; stroke: #277f8e; stroke-opacity: 0.165957\"/>\n    </g>\n   </g>\n   <g id=\"PathCollection_5\">\n    <defs>\n     <path id=\"m1ba57ace59\" d=\"M -10.48928 -0 \nL 10.48928 10.48928 \nL 10.48928 -10.48928 \nz\n\" style=\"stroke: #46327e; stroke-opacity: 0.595745\"/>\n    </defs>\n    <g clip-path=\"url(#pc0d09a8451)\">\n     <use xlink:href=\"#m1ba57ace59\" x=\"275.005052\" y=\"491.462006\" style=\"fill: #46327e; fill-opacity: 0.595745; stroke: #46327e; stroke-opacity: 0.595745\"/>\n    </g>\n   </g>\n   <g id=\"PathCollection_6\">\n    <defs>\n     <path id=\"m8fe9e70ae3\" d=\"M -10.276186 -0 \nL 10.276186 10.276186 \nL 10.276186 -10.276186 \nz\n\" style=\"stroke: #46327e; stroke-opacity: 0.52766\"/>\n    </defs>\n    <g clip-path=\"url(#pc0d09a8451)\">\n     <use xlink:href=\"#m8fe9e70ae3\" x=\"270.133846\" y=\"437.546811\" style=\"fill: #46327e; fill-opacity: 0.52766; stroke: #46327e; stroke-opacity: 0.52766\"/>\n    </g>\n   </g>\n   <g id=\"PathCollection_7\">\n    <defs>\n     <path id=\"m4f0f09be92\" d=\"M -11.211601 -0 \nL 11.211601 11.211601 \nL 11.211601 -11.211601 \nz\n\" style=\"stroke: #277f8e; stroke-opacity: 0.374468\"/>\n    </defs>\n    <g clip-path=\"url(#pc0d09a8451)\">\n     <use xlink:href=\"#m4f0f09be92\" x=\"305.450091\" y=\"391.800586\" style=\"fill: #277f8e; fill-opacity: 0.374468; stroke: #277f8e; stroke-opacity: 0.374468\"/>\n    </g>\n   </g>\n   <g id=\"PathCollection_8\">\n    <defs>\n     <path id=\"m909822caf1\" d=\"M -11.211601 -0 \nL 11.211601 11.211601 \nL 11.211601 -11.211601 \nz\n\" style=\"stroke: #277f8e; stroke-opacity: 0.314894\"/>\n    </defs>\n    <g clip-path=\"url(#pc0d09a8451)\">\n     <use xlink:href=\"#m909822caf1\" x=\"305.450091\" y=\"391.800586\" style=\"fill: #277f8e; fill-opacity: 0.314894; stroke: #277f8e; stroke-opacity: 0.314894\"/>\n    </g>\n   </g>\n   <g id=\"PathCollection_9\">\n    <defs>\n     <path id=\"mdbefc4aa63\" d=\"M 0 -14.382281 \nL -14.382281 14.382281 \nL 14.382281 14.382281 \nz\n\" style=\"stroke: #365c8d; stroke-opacity: 0.255319\"/>\n    </defs>\n    <g clip-path=\"url(#pc0d09a8451)\">\n     <use xlink:href=\"#mdbefc4aa63\" x=\"382.171588\" y=\"298.674341\" style=\"fill: #365c8d; fill-opacity: 0.255319; stroke: #365c8d; stroke-opacity: 0.255319\"/>\n    </g>\n   </g>\n   <g id=\"PathCollection_10\">\n    <defs>\n     <path id=\"m880ed775b0\" d=\"M 0 -14.382281 \nL -14.382281 14.382281 \nL 14.382281 14.382281 \nz\n\" style=\"stroke: #365c8d; stroke-opacity: 0.293617\"/>\n    </defs>\n    <g clip-path=\"url(#pc0d09a8451)\">\n     <use xlink:href=\"#m880ed775b0\" x=\"340.766335\" y=\"298.674341\" style=\"fill: #365c8d; fill-opacity: 0.293617; stroke: #365c8d; stroke-opacity: 0.293617\"/>\n    </g>\n   </g>\n   <g id=\"PathCollection_11\">\n    <defs>\n     <path id=\"m107ba11b6e\" d=\"M 0 -14.382281 \nL -14.382281 14.382281 \nL 14.382281 14.382281 \nz\n\" style=\"stroke: #365c8d; stroke-opacity: 0.204255\"/>\n    </defs>\n    <g clip-path=\"url(#pc0d09a8451)\">\n     <use xlink:href=\"#m107ba11b6e\" x=\"346.855343\" y=\"298.674341\" style=\"fill: #365c8d; fill-opacity: 0.204255; stroke: #365c8d; stroke-opacity: 0.204255\"/>\n    </g>\n   </g>\n   <g id=\"PathCollection_12\">\n    <defs>\n     <path id=\"me45313b23f\" d=\"M 0 -18.814888 \nL -18.814888 18.814888 \nL 18.814888 18.814888 \nz\n\" style=\"stroke: #277f8e; stroke-opacity: 0\"/>\n    </defs>\n    <g clip-path=\"url(#pc0d09a8451)\">\n     <use xlink:href=\"#me45313b23f\" x=\"525.872169\" y=\"257.829497\" style=\"fill: #277f8e; fill-opacity: 0; stroke: #277f8e; stroke-opacity: 0\"/>\n    </g>\n   </g>\n   <g id=\"PathCollection_13\">\n    <defs>\n     <path id=\"mff5ebd4a24\" d=\"M 0 -18.574176 \nL -18.574176 18.574176 \nL 18.574176 18.574176 \nz\n\" style=\"stroke: #277f8e; stroke-opacity: 0\"/>\n    </defs>\n    <g clip-path=\"url(#pc0d09a8451)\">\n     <use xlink:href=\"#mff5ebd4a24\" x=\"547.061916\" y=\"241.491559\" style=\"fill: #277f8e; fill-opacity: 0; stroke: #277f8e; stroke-opacity: 0\"/>\n    </g>\n   </g>\n   <g id=\"PathCollection_14\">\n    <defs>\n     <path id=\"m7f0d62ef7b\" d=\"M 0 -18.165902 \nL -18.165902 18.165902 \nL 18.165902 18.165902 \nz\n\" style=\"stroke: #277f8e; stroke-opacity: 0.182979\"/>\n    </defs>\n    <g clip-path=\"url(#pc0d09a8451)\">\n     <use xlink:href=\"#m7f0d62ef7b\" x=\"537.441284\" y=\"216.984652\" style=\"fill: #277f8e; fill-opacity: 0.182979; stroke: #277f8e; stroke-opacity: 0.182979\"/>\n    </g>\n   </g>\n   <g id=\"PathCollection_15\">\n    <defs>\n     <path id=\"me4f41043c3\" d=\"M -9.490785 -0 \nL 9.490785 9.490785 \nL 9.490785 -9.490785 \nz\n\" style=\"stroke: #440154; stroke-opacity: 0.47234\"/>\n    </defs>\n    <g clip-path=\"url(#pc0d09a8451)\">\n     <use xlink:href=\"#me4f41043c3\" x=\"186.714441\" y=\"434.279224\" style=\"fill: #440154; fill-opacity: 0.47234; stroke: #440154; stroke-opacity: 0.47234\"/>\n    </g>\n   </g>\n   <g id=\"PathCollection_16\">\n    <defs>\n     <path id=\"md1368cee81\" d=\"M 0 -15.443445 \nL -15.443445 15.443445 \nL 15.443445 15.443445 \nz\n\" style=\"stroke: #46327e; stroke-opacity: 0.217021\"/>\n    </defs>\n    <g clip-path=\"url(#pc0d09a8451)\">\n     <use xlink:href=\"#md1368cee81\" x=\"315.192503\" y=\"347.688154\" style=\"fill: #46327e; fill-opacity: 0.217021; stroke: #46327e; stroke-opacity: 0.217021\"/>\n    </g>\n   </g>\n   <g id=\"PathCollection_17\">\n    <defs>\n     <path id=\"m4b405ce757\" d=\"M 0 -15.099669 \nL -15.099669 15.099669 \nL 15.099669 15.099669 \nz\n\" style=\"stroke: #46327e; stroke-opacity: 0.204255\"/>\n    </defs>\n    <g clip-path=\"url(#pc0d09a8451)\">\n     <use xlink:href=\"#m4b405ce757\" x=\"304.84119\" y=\"347.688154\" style=\"fill: #46327e; fill-opacity: 0.204255; stroke: #46327e; stroke-opacity: 0.204255\"/>\n    </g>\n   </g>\n   <g id=\"PathCollection_18\">\n    <defs>\n     <path id=\"m762cee9e9e\" d=\"M 0 -16.201852 \nL -16.201852 16.201852 \nL 16.201852 16.201852 \nz\n\" style=\"stroke: #277f8e; stroke-opacity: 0.123404\"/>\n    </defs>\n    <g clip-path=\"url(#pc0d09a8451)\">\n     <use xlink:href=\"#m762cee9e9e\" x=\"354.162152\" y=\"192.477746\" style=\"fill: #277f8e; fill-opacity: 0.123404; stroke: #277f8e; stroke-opacity: 0.123404\"/>\n    </g>\n   </g>\n   <g id=\"PathCollection_19\">\n    <defs>\n     <path id=\"m7de23937ee\" d=\"M 0 -17.320508 \nL -17.320508 17.320508 \nL 17.320508 17.320508 \nz\n\" style=\"stroke: #46327e; stroke-opacity: 0.374468\"/>\n    </defs>\n    <g clip-path=\"url(#pc0d09a8451)\">\n     <use xlink:href=\"#m7de23937ee\" x=\"354.771053\" y=\"306.84331\" style=\"fill: #46327e; fill-opacity: 0.374468; stroke: #46327e; stroke-opacity: 0.374468\"/>\n    </g>\n   </g>\n   <g id=\"PathCollection_20\">\n    <defs>\n     <path id=\"mc40b2c3a7e\" d=\"M -0 15.491933 \nL 15.491933 0 \nL 0 -15.491933 \nL -15.491933 -0 \nz\n\" style=\"stroke: #277f8e; stroke-opacity: 0.451064\"/>\n    </defs>\n    <g clip-path=\"url(#pc0d09a8451)\">\n     <use xlink:href=\"#mc40b2c3a7e\" x=\"205.590364\" y=\"413.039905\" style=\"fill: #277f8e; fill-opacity: 0.451064; stroke: #277f8e; stroke-opacity: 0.451064\"/>\n    </g>\n   </g>\n   <g id=\"PathCollection_21\">\n    <g clip-path=\"url(#pc0d09a8451)\">\n     <use xlink:href=\"#mc40b2c3a7e\" x=\"236.644304\" y=\"413.039905\" style=\"fill: #277f8e; fill-opacity: 0.451064; stroke: #277f8e; stroke-opacity: 0.451064\"/>\n    </g>\n   </g>\n   <g id=\"PathCollection_22\">\n    <defs>\n     <path id=\"mc06fc47872\" d=\"M 0 -9 \nL -2.020626 -2.781153 \nL -8.559509 -2.781153 \nL -3.269441 1.062306 \nL -5.290067 7.281153 \nL -0 3.437694 \nL 5.290067 7.281153 \nL 3.269441 1.062306 \nL 8.559509 -2.781153 \nL 2.020626 -2.781153 \nz\n\" style=\"stroke: #440154; stroke-opacity: 0.52766\"/>\n    </defs>\n    <g clip-path=\"url(#pc0d09a8451)\">\n     <use xlink:href=\"#mc06fc47872\" x=\"169.056318\" y=\"440.814399\" style=\"fill: #440154; fill-opacity: 0.52766; stroke: #440154; stroke-opacity: 0.52766\"/>\n    </g>\n   </g>\n   <g id=\"PathCollection_23\">\n    <defs>\n     <path id=\"ma4855c2338\" d=\"M 0 -7.682773 \nL -1.72489 -2.374107 \nL -7.306751 -2.374107 \nL -2.790931 0.906828 \nL -4.515821 6.215494 \nL -0 2.934558 \nL 4.515821 6.215494 \nL 2.790931 0.906828 \nL 7.306751 -2.374107 \nL 1.72489 -2.374107 \nz\n\" style=\"stroke: #440154; stroke-opacity: 0.93617\"/>\n    </defs>\n    <g clip-path=\"url(#pc0d09a8451)\">\n     <use xlink:href=\"#ma4855c2338\" x=\"154.4427\" y=\"484.92683\" style=\"fill: #440154; fill-opacity: 0.93617; stroke: #440154; stroke-opacity: 0.93617\"/>\n    </g>\n   </g>\n   <g id=\"PathCollection_24\">\n    <defs>\n     <path id=\"m93c81139c5\" d=\"M 0 -7.534919 \nL -1.691695 -2.328418 \nL -7.166134 -2.328418 \nL -2.737219 0.889376 \nL -4.428914 6.095877 \nL -0 2.878083 \nL 4.428914 6.095877 \nL 2.737219 0.889376 \nL 7.166134 -2.328418 \nL 1.691695 -2.328418 \nz\n\" style=\"stroke: #46327e; stroke-opacity: 0.851064\"/>\n    </defs>\n    <g clip-path=\"url(#pc0d09a8451)\">\n     <use xlink:href=\"#m93c81139c5\" x=\"83.20131\" y=\"507.799943\" style=\"fill: #46327e; fill-opacity: 0.851064; stroke: #46327e; stroke-opacity: 0.851064\"/>\n    </g>\n   </g>\n   <g id=\"PathCollection_25\">\n    <defs>\n     <path id=\"m63a443a5a8\" d=\"M 0 -7.302397 \nL -1.63949 -2.256565 \nL -6.944992 -2.256565 \nL -2.652751 0.861931 \nL -4.292241 5.907763 \nL -0 2.789267 \nL 4.292241 5.907763 \nL 2.652751 0.861931 \nL 6.944992 -2.256565 \nL 1.63949 -2.256565 \nz\n\" style=\"stroke: #440154\"/>\n    </defs>\n    <g clip-path=\"url(#pc0d09a8451)\">\n     <use xlink:href=\"#m63a443a5a8\" x=\"109.992944\" y=\"486.560624\" style=\"fill: #440154; stroke: #440154\"/>\n    </g>\n   </g>\n   <g id=\"PathCollection_26\">\n    <defs>\n     <path id=\"mb0d3d7b72b\" d=\"M 0 -7.697402 \nL -1.728174 -2.378628 \nL -7.320664 -2.378628 \nL -2.796245 0.908555 \nL -4.524419 6.227329 \nL -0 2.940146 \nL 4.524419 6.227329 \nL 2.796245 0.908555 \nL 7.320664 -2.378628 \nL 1.728174 -2.378628 \nz\n\" style=\"stroke: #440154; stroke-opacity: 0.719149\"/>\n    </defs>\n    <g clip-path=\"url(#pc0d09a8451)\">\n     <use xlink:href=\"#mb0d3d7b72b\" x=\"122.170959\" y=\"484.92683\" style=\"fill: #440154; fill-opacity: 0.719149; stroke: #440154; stroke-opacity: 0.719149\"/>\n    </g>\n   </g>\n   <g id=\"PathCollection_27\">\n    <defs>\n     <path id=\"m426bcc975c\" d=\"M -0 13.433168 \nL 13.433168 0 \nL 0 -13.433168 \nL -13.433168 -0 \nz\n\" style=\"stroke: #46327e; stroke-opacity: 0.66383\"/>\n    </defs>\n    <g clip-path=\"url(#pc0d09a8451)\">\n     <use xlink:href=\"#m426bcc975c\" x=\"147.135891\" y=\"444.081986\" style=\"fill: #46327e; fill-opacity: 0.66383; stroke: #46327e; stroke-opacity: 0.66383\"/>\n    </g>\n   </g>\n   <g id=\"PathCollection_28\">\n    <defs>\n     <path id=\"m333f8bd13e\" d=\"M 0 -8.445413 \nL -1.896113 -2.609776 \nL -8.032065 -2.609776 \nL -3.067976 0.996846 \nL -4.964089 6.832483 \nL -0 3.225861 \nL 4.964089 6.832483 \nL 3.067976 0.996846 \nL 8.032065 -2.609776 \nL 1.896113 -2.609776 \nz\n\" style=\"stroke: #46327e; stroke-opacity: 0.851064\"/>\n    </defs>\n    <g clip-path=\"url(#pc0d09a8451)\">\n     <use xlink:href=\"#m333f8bd13e\" x=\"70.779734\" y=\"408.138523\" style=\"fill: #46327e; fill-opacity: 0.851064; stroke: #46327e; stroke-opacity: 0.851064\"/>\n    </g>\n   </g>\n   <g id=\"PathCollection_29\">\n    <defs>\n     <path id=\"m873a36cdef\" d=\"M -0 22.945588 \nL 22.945588 0 \nL 0 -22.945588 \nL -22.945588 -0 \nz\n\" style=\"stroke: #277f8e; stroke-opacity: 0.229787\"/>\n    </defs>\n    <g clip-path=\"url(#pc0d09a8451)\">\n     <use xlink:href=\"#m873a36cdef\" x=\"272.569449\" y=\"161.435664\" style=\"fill: #277f8e; fill-opacity: 0.229787; stroke: #277f8e; stroke-opacity: 0.229787\"/>\n    </g>\n   </g>\n   <g id=\"PathCollection_30\">\n    <defs>\n     <path id=\"m95e49710ca\" d=\"M -0 14.747881 \nL 14.747881 0 \nL 0 -14.747881 \nL -14.747881 -0 \nz\n\" style=\"stroke: #4ac16d; stroke-opacity: 0.395745\"/>\n    </defs>\n    <g clip-path=\"url(#pc0d09a8451)\">\n     <use xlink:href=\"#m95e49710ca\" x=\"223.857388\" y=\"306.84331\" style=\"fill: #4ac16d; fill-opacity: 0.395745; stroke: #4ac16d; stroke-opacity: 0.395745\"/>\n    </g>\n   </g>\n   <g id=\"PathCollection_31\">\n    <defs>\n     <path id=\"m5d6f746263\" d=\"M -0 21.248529 \nL 21.248529 0 \nL 0 -21.248529 \nL -21.248529 -0 \nz\n\" style=\"stroke: #fde725; stroke-opacity: 0.195745\"/>\n    </defs>\n    <g clip-path=\"url(#pc0d09a8451)\">\n     <use xlink:href=\"#m5d6f746263\" x=\"321.281511\" y=\"45.436307\" style=\"fill: #fde725; fill-opacity: 0.195745; stroke: #fde725; stroke-opacity: 0.195745\"/>\n    </g>\n   </g>\n   <g id=\"PathCollection_32\">\n    <defs>\n     <path id=\"m914fc5d64f\" d=\"M 0 -9.526279 \nL -2.138783 -2.943782 \nL -9.06003 -2.943782 \nL -3.460623 1.124425 \nL -5.599407 7.706922 \nL -0 3.638715 \nL 5.599407 7.706922 \nL 3.460623 1.124425 \nL 9.06003 -2.943782 \nL 2.138783 -2.943782 \nz\n\" style=\"stroke: #46327e; stroke-opacity: 0.468085\"/>\n    </defs>\n    <g clip-path=\"url(#pc0d09a8451)\">\n     <use xlink:href=\"#m914fc5d64f\" x=\"225.075189\" y=\"414.673698\" style=\"fill: #46327e; fill-opacity: 0.468085; stroke: #46327e; stroke-opacity: 0.468085\"/>\n    </g>\n   </g>\n   <g id=\"PathCollection_33\"/>\n   <g id=\"PathCollection_34\"/>\n   <g id=\"PathCollection_35\"/>\n   <g id=\"PathCollection_36\"/>\n   <g id=\"PathCollection_37\"/>\n   <g id=\"PathCollection_38\"/>\n   <g id=\"matplotlib.axis_1\">\n    <g id=\"xtick_1\">\n     <g id=\"line2d_1\">\n      <path d=\"M 69.196592 530.918125 \nL 69.196592 22.318125 \n\" clip-path=\"url(#pc0d09a8451)\" style=\"fill: none; stroke: #b0b0b0; stroke-opacity: 0.3; stroke-width: 0.8; stroke-linecap: square\"/>\n     </g>\n     <g id=\"line2d_2\">\n      <defs>\n       <path id=\"m1126cc75f1\" d=\"M 0 0 \nL 0 3.5 \n\" style=\"stroke: #000000; stroke-width: 0.8\"/>\n      </defs>\n      <g>\n       <use xlink:href=\"#m1126cc75f1\" x=\"69.196592\" y=\"530.918125\" style=\"stroke: #000000; stroke-width: 0.8\"/>\n      </g>\n     </g>\n     <g id=\"text_1\">\n      <!-- 1.5 -->\n      <g transform=\"translate(61.24503 545.516562) scale(0.1 -0.1)\">\n       <defs>\n        <path id=\"DejaVuSans-31\" d=\"M 794 531 \nL 1825 531 \nL 1825 4091 \nL 703 3866 \nL 703 4441 \nL 1819 4666 \nL 2450 4666 \nL 2450 531 \nL 3481 531 \nL 3481 0 \nL 794 0 \nL 794 531 \nz\n\" transform=\"scale(0.015625)\"/>\n        <path id=\"DejaVuSans-2e\" d=\"M 684 794 \nL 1344 794 \nL 1344 0 \nL 684 0 \nL 684 794 \nz\n\" transform=\"scale(0.015625)\"/>\n        <path id=\"DejaVuSans-35\" d=\"M 691 4666 \nL 3169 4666 \nL 3169 4134 \nL 1269 4134 \nL 1269 2991 \nQ 1406 3038 1543 3061 \nQ 1681 3084 1819 3084 \nQ 2600 3084 3056 2656 \nQ 3513 2228 3513 1497 \nQ 3513 744 3044 326 \nQ 2575 -91 1722 -91 \nQ 1428 -91 1123 -41 \nQ 819 9 494 109 \nL 494 744 \nQ 775 591 1075 516 \nQ 1375 441 1709 441 \nQ 2250 441 2565 725 \nQ 2881 1009 2881 1497 \nQ 2881 1984 2565 2268 \nQ 2250 2553 1709 2553 \nQ 1456 2553 1204 2497 \nQ 953 2441 691 2322 \nL 691 4666 \nz\n\" transform=\"scale(0.015625)\"/>\n       </defs>\n       <use xlink:href=\"#DejaVuSans-31\"/>\n       <use xlink:href=\"#DejaVuSans-2e\" transform=\"translate(63.623047 0)\"/>\n       <use xlink:href=\"#DejaVuSans-35\" transform=\"translate(95.410156 0)\"/>\n      </g>\n     </g>\n    </g>\n    <g id=\"xtick_2\">\n     <g id=\"line2d_3\">\n      <path d=\"M 130.086669 530.918125 \nL 130.086669 22.318125 \n\" clip-path=\"url(#pc0d09a8451)\" style=\"fill: none; stroke: #b0b0b0; stroke-opacity: 0.3; stroke-width: 0.8; stroke-linecap: square\"/>\n     </g>\n     <g id=\"line2d_4\">\n      <g>\n       <use xlink:href=\"#m1126cc75f1\" x=\"130.086669\" y=\"530.918125\" style=\"stroke: #000000; stroke-width: 0.8\"/>\n      </g>\n     </g>\n     <g id=\"text_2\">\n      <!-- 2.0 -->\n      <g transform=\"translate(122.135107 545.516562) scale(0.1 -0.1)\">\n       <defs>\n        <path id=\"DejaVuSans-32\" d=\"M 1228 531 \nL 3431 531 \nL 3431 0 \nL 469 0 \nL 469 531 \nQ 828 903 1448 1529 \nQ 2069 2156 2228 2338 \nQ 2531 2678 2651 2914 \nQ 2772 3150 2772 3378 \nQ 2772 3750 2511 3984 \nQ 2250 4219 1831 4219 \nQ 1534 4219 1204 4116 \nQ 875 4013 500 3803 \nL 500 4441 \nQ 881 4594 1212 4672 \nQ 1544 4750 1819 4750 \nQ 2544 4750 2975 4387 \nQ 3406 4025 3406 3419 \nQ 3406 3131 3298 2873 \nQ 3191 2616 2906 2266 \nQ 2828 2175 2409 1742 \nQ 1991 1309 1228 531 \nz\n\" transform=\"scale(0.015625)\"/>\n        <path id=\"DejaVuSans-30\" d=\"M 2034 4250 \nQ 1547 4250 1301 3770 \nQ 1056 3291 1056 2328 \nQ 1056 1369 1301 889 \nQ 1547 409 2034 409 \nQ 2525 409 2770 889 \nQ 3016 1369 3016 2328 \nQ 3016 3291 2770 3770 \nQ 2525 4250 2034 4250 \nz\nM 2034 4750 \nQ 2819 4750 3233 4129 \nQ 3647 3509 3647 2328 \nQ 3647 1150 3233 529 \nQ 2819 -91 2034 -91 \nQ 1250 -91 836 529 \nQ 422 1150 422 2328 \nQ 422 3509 836 4129 \nQ 1250 4750 2034 4750 \nz\n\" transform=\"scale(0.015625)\"/>\n       </defs>\n       <use xlink:href=\"#DejaVuSans-32\"/>\n       <use xlink:href=\"#DejaVuSans-2e\" transform=\"translate(63.623047 0)\"/>\n       <use xlink:href=\"#DejaVuSans-30\" transform=\"translate(95.410156 0)\"/>\n      </g>\n     </g>\n    </g>\n    <g id=\"xtick_3\">\n     <g id=\"line2d_5\">\n      <path d=\"M 190.976746 530.918125 \nL 190.976746 22.318125 \n\" clip-path=\"url(#pc0d09a8451)\" style=\"fill: none; stroke: #b0b0b0; stroke-opacity: 0.3; stroke-width: 0.8; stroke-linecap: square\"/>\n     </g>\n     <g id=\"line2d_6\">\n      <g>\n       <use xlink:href=\"#m1126cc75f1\" x=\"190.976746\" y=\"530.918125\" style=\"stroke: #000000; stroke-width: 0.8\"/>\n      </g>\n     </g>\n     <g id=\"text_3\">\n      <!-- 2.5 -->\n      <g transform=\"translate(183.025183 545.516562) scale(0.1 -0.1)\">\n       <use xlink:href=\"#DejaVuSans-32\"/>\n       <use xlink:href=\"#DejaVuSans-2e\" transform=\"translate(63.623047 0)\"/>\n       <use xlink:href=\"#DejaVuSans-35\" transform=\"translate(95.410156 0)\"/>\n      </g>\n     </g>\n    </g>\n    <g id=\"xtick_4\">\n     <g id=\"line2d_7\">\n      <path d=\"M 251.866823 530.918125 \nL 251.866823 22.318125 \n\" clip-path=\"url(#pc0d09a8451)\" style=\"fill: none; stroke: #b0b0b0; stroke-opacity: 0.3; stroke-width: 0.8; stroke-linecap: square\"/>\n     </g>\n     <g id=\"line2d_8\">\n      <g>\n       <use xlink:href=\"#m1126cc75f1\" x=\"251.866823\" y=\"530.918125\" style=\"stroke: #000000; stroke-width: 0.8\"/>\n      </g>\n     </g>\n     <g id=\"text_4\">\n      <!-- 3.0 -->\n      <g transform=\"translate(243.91526 545.516562) scale(0.1 -0.1)\">\n       <defs>\n        <path id=\"DejaVuSans-33\" d=\"M 2597 2516 \nQ 3050 2419 3304 2112 \nQ 3559 1806 3559 1356 \nQ 3559 666 3084 287 \nQ 2609 -91 1734 -91 \nQ 1441 -91 1130 -33 \nQ 819 25 488 141 \nL 488 750 \nQ 750 597 1062 519 \nQ 1375 441 1716 441 \nQ 2309 441 2620 675 \nQ 2931 909 2931 1356 \nQ 2931 1769 2642 2001 \nQ 2353 2234 1838 2234 \nL 1294 2234 \nL 1294 2753 \nL 1863 2753 \nQ 2328 2753 2575 2939 \nQ 2822 3125 2822 3475 \nQ 2822 3834 2567 4026 \nQ 2313 4219 1838 4219 \nQ 1578 4219 1281 4162 \nQ 984 4106 628 3988 \nL 628 4550 \nQ 988 4650 1302 4700 \nQ 1616 4750 1894 4750 \nQ 2613 4750 3031 4423 \nQ 3450 4097 3450 3541 \nQ 3450 3153 3228 2886 \nQ 3006 2619 2597 2516 \nz\n\" transform=\"scale(0.015625)\"/>\n       </defs>\n       <use xlink:href=\"#DejaVuSans-33\"/>\n       <use xlink:href=\"#DejaVuSans-2e\" transform=\"translate(63.623047 0)\"/>\n       <use xlink:href=\"#DejaVuSans-30\" transform=\"translate(95.410156 0)\"/>\n      </g>\n     </g>\n    </g>\n    <g id=\"xtick_5\">\n     <g id=\"line2d_9\">\n      <path d=\"M 312.7569 530.918125 \nL 312.7569 22.318125 \n\" clip-path=\"url(#pc0d09a8451)\" style=\"fill: none; stroke: #b0b0b0; stroke-opacity: 0.3; stroke-width: 0.8; stroke-linecap: square\"/>\n     </g>\n     <g id=\"line2d_10\">\n      <g>\n       <use xlink:href=\"#m1126cc75f1\" x=\"312.7569\" y=\"530.918125\" style=\"stroke: #000000; stroke-width: 0.8\"/>\n      </g>\n     </g>\n     <g id=\"text_5\">\n      <!-- 3.5 -->\n      <g transform=\"translate(304.805337 545.516562) scale(0.1 -0.1)\">\n       <use xlink:href=\"#DejaVuSans-33\"/>\n       <use xlink:href=\"#DejaVuSans-2e\" transform=\"translate(63.623047 0)\"/>\n       <use xlink:href=\"#DejaVuSans-35\" transform=\"translate(95.410156 0)\"/>\n      </g>\n     </g>\n    </g>\n    <g id=\"xtick_6\">\n     <g id=\"line2d_11\">\n      <path d=\"M 373.646977 530.918125 \nL 373.646977 22.318125 \n\" clip-path=\"url(#pc0d09a8451)\" style=\"fill: none; stroke: #b0b0b0; stroke-opacity: 0.3; stroke-width: 0.8; stroke-linecap: square\"/>\n     </g>\n     <g id=\"line2d_12\">\n      <g>\n       <use xlink:href=\"#m1126cc75f1\" x=\"373.646977\" y=\"530.918125\" style=\"stroke: #000000; stroke-width: 0.8\"/>\n      </g>\n     </g>\n     <g id=\"text_6\">\n      <!-- 4.0 -->\n      <g transform=\"translate(365.695414 545.516562) scale(0.1 -0.1)\">\n       <defs>\n        <path id=\"DejaVuSans-34\" d=\"M 2419 4116 \nL 825 1625 \nL 2419 1625 \nL 2419 4116 \nz\nM 2253 4666 \nL 3047 4666 \nL 3047 1625 \nL 3713 1625 \nL 3713 1100 \nL 3047 1100 \nL 3047 0 \nL 2419 0 \nL 2419 1100 \nL 313 1100 \nL 313 1709 \nL 2253 4666 \nz\n\" transform=\"scale(0.015625)\"/>\n       </defs>\n       <use xlink:href=\"#DejaVuSans-34\"/>\n       <use xlink:href=\"#DejaVuSans-2e\" transform=\"translate(63.623047 0)\"/>\n       <use xlink:href=\"#DejaVuSans-30\" transform=\"translate(95.410156 0)\"/>\n      </g>\n     </g>\n    </g>\n    <g id=\"xtick_7\">\n     <g id=\"line2d_13\">\n      <path d=\"M 434.537054 530.918125 \nL 434.537054 22.318125 \n\" clip-path=\"url(#pc0d09a8451)\" style=\"fill: none; stroke: #b0b0b0; stroke-opacity: 0.3; stroke-width: 0.8; stroke-linecap: square\"/>\n     </g>\n     <g id=\"line2d_14\">\n      <g>\n       <use xlink:href=\"#m1126cc75f1\" x=\"434.537054\" y=\"530.918125\" style=\"stroke: #000000; stroke-width: 0.8\"/>\n      </g>\n     </g>\n     <g id=\"text_7\">\n      <!-- 4.5 -->\n      <g transform=\"translate(426.585491 545.516562) scale(0.1 -0.1)\">\n       <use xlink:href=\"#DejaVuSans-34\"/>\n       <use xlink:href=\"#DejaVuSans-2e\" transform=\"translate(63.623047 0)\"/>\n       <use xlink:href=\"#DejaVuSans-35\" transform=\"translate(95.410156 0)\"/>\n      </g>\n     </g>\n    </g>\n    <g id=\"xtick_8\">\n     <g id=\"line2d_15\">\n      <path d=\"M 495.427131 530.918125 \nL 495.427131 22.318125 \n\" clip-path=\"url(#pc0d09a8451)\" style=\"fill: none; stroke: #b0b0b0; stroke-opacity: 0.3; stroke-width: 0.8; stroke-linecap: square\"/>\n     </g>\n     <g id=\"line2d_16\">\n      <g>\n       <use xlink:href=\"#m1126cc75f1\" x=\"495.427131\" y=\"530.918125\" style=\"stroke: #000000; stroke-width: 0.8\"/>\n      </g>\n     </g>\n     <g id=\"text_8\">\n      <!-- 5.0 -->\n      <g transform=\"translate(487.475568 545.516562) scale(0.1 -0.1)\">\n       <use xlink:href=\"#DejaVuSans-35\"/>\n       <use xlink:href=\"#DejaVuSans-2e\" transform=\"translate(63.623047 0)\"/>\n       <use xlink:href=\"#DejaVuSans-30\" transform=\"translate(95.410156 0)\"/>\n      </g>\n     </g>\n    </g>\n    <g id=\"xtick_9\">\n     <g id=\"line2d_17\">\n      <path d=\"M 556.317208 530.918125 \nL 556.317208 22.318125 \n\" clip-path=\"url(#pc0d09a8451)\" style=\"fill: none; stroke: #b0b0b0; stroke-opacity: 0.3; stroke-width: 0.8; stroke-linecap: square\"/>\n     </g>\n     <g id=\"line2d_18\">\n      <g>\n       <use xlink:href=\"#m1126cc75f1\" x=\"556.317208\" y=\"530.918125\" style=\"stroke: #000000; stroke-width: 0.8\"/>\n      </g>\n     </g>\n     <g id=\"text_9\">\n      <!-- 5.5 -->\n      <g transform=\"translate(548.365645 545.516562) scale(0.1 -0.1)\">\n       <use xlink:href=\"#DejaVuSans-35\"/>\n       <use xlink:href=\"#DejaVuSans-2e\" transform=\"translate(63.623047 0)\"/>\n       <use xlink:href=\"#DejaVuSans-35\" transform=\"translate(95.410156 0)\"/>\n      </g>\n     </g>\n    </g>\n    <g id=\"text_10\">\n     <!-- Weight (1000 lbs) -->\n     <g transform=\"translate(264.529419 559.194687) scale(0.1 -0.1)\">\n      <defs>\n       <path id=\"DejaVuSans-57\" d=\"M 213 4666 \nL 850 4666 \nL 1831 722 \nL 2809 4666 \nL 3519 4666 \nL 4500 722 \nL 5478 4666 \nL 6119 4666 \nL 4947 0 \nL 4153 0 \nL 3169 4050 \nL 2175 0 \nL 1381 0 \nL 213 4666 \nz\n\" transform=\"scale(0.015625)\"/>\n       <path id=\"DejaVuSans-65\" d=\"M 3597 1894 \nL 3597 1613 \nL 953 1613 \nQ 991 1019 1311 708 \nQ 1631 397 2203 397 \nQ 2534 397 2845 478 \nQ 3156 559 3463 722 \nL 3463 178 \nQ 3153 47 2828 -22 \nQ 2503 -91 2169 -91 \nQ 1331 -91 842 396 \nQ 353 884 353 1716 \nQ 353 2575 817 3079 \nQ 1281 3584 2069 3584 \nQ 2775 3584 3186 3129 \nQ 3597 2675 3597 1894 \nz\nM 3022 2063 \nQ 3016 2534 2758 2815 \nQ 2500 3097 2075 3097 \nQ 1594 3097 1305 2825 \nQ 1016 2553 972 2059 \nL 3022 2063 \nz\n\" transform=\"scale(0.015625)\"/>\n       <path id=\"DejaVuSans-69\" d=\"M 603 3500 \nL 1178 3500 \nL 1178 0 \nL 603 0 \nL 603 3500 \nz\nM 603 4863 \nL 1178 4863 \nL 1178 4134 \nL 603 4134 \nL 603 4863 \nz\n\" transform=\"scale(0.015625)\"/>\n       <path id=\"DejaVuSans-67\" d=\"M 2906 1791 \nQ 2906 2416 2648 2759 \nQ 2391 3103 1925 3103 \nQ 1463 3103 1205 2759 \nQ 947 2416 947 1791 \nQ 947 1169 1205 825 \nQ 1463 481 1925 481 \nQ 2391 481 2648 825 \nQ 2906 1169 2906 1791 \nz\nM 3481 434 \nQ 3481 -459 3084 -895 \nQ 2688 -1331 1869 -1331 \nQ 1566 -1331 1297 -1286 \nQ 1028 -1241 775 -1147 \nL 775 -588 \nQ 1028 -725 1275 -790 \nQ 1522 -856 1778 -856 \nQ 2344 -856 2625 -561 \nQ 2906 -266 2906 331 \nL 2906 616 \nQ 2728 306 2450 153 \nQ 2172 0 1784 0 \nQ 1141 0 747 490 \nQ 353 981 353 1791 \nQ 353 2603 747 3093 \nQ 1141 3584 1784 3584 \nQ 2172 3584 2450 3431 \nQ 2728 3278 2906 2969 \nL 2906 3500 \nL 3481 3500 \nL 3481 434 \nz\n\" transform=\"scale(0.015625)\"/>\n       <path id=\"DejaVuSans-68\" d=\"M 3513 2113 \nL 3513 0 \nL 2938 0 \nL 2938 2094 \nQ 2938 2591 2744 2837 \nQ 2550 3084 2163 3084 \nQ 1697 3084 1428 2787 \nQ 1159 2491 1159 1978 \nL 1159 0 \nL 581 0 \nL 581 4863 \nL 1159 4863 \nL 1159 2956 \nQ 1366 3272 1645 3428 \nQ 1925 3584 2291 3584 \nQ 2894 3584 3203 3211 \nQ 3513 2838 3513 2113 \nz\n\" transform=\"scale(0.015625)\"/>\n       <path id=\"DejaVuSans-74\" d=\"M 1172 4494 \nL 1172 3500 \nL 2356 3500 \nL 2356 3053 \nL 1172 3053 \nL 1172 1153 \nQ 1172 725 1289 603 \nQ 1406 481 1766 481 \nL 2356 481 \nL 2356 0 \nL 1766 0 \nQ 1100 0 847 248 \nQ 594 497 594 1153 \nL 594 3053 \nL 172 3053 \nL 172 3500 \nL 594 3500 \nL 594 4494 \nL 1172 4494 \nz\n\" transform=\"scale(0.015625)\"/>\n       <path id=\"DejaVuSans-20\" transform=\"scale(0.015625)\"/>\n       <path id=\"DejaVuSans-28\" d=\"M 1984 4856 \nQ 1566 4138 1362 3434 \nQ 1159 2731 1159 2009 \nQ 1159 1288 1364 580 \nQ 1569 -128 1984 -844 \nL 1484 -844 \nQ 1016 -109 783 600 \nQ 550 1309 550 2009 \nQ 550 2706 781 3412 \nQ 1013 4119 1484 4856 \nL 1984 4856 \nz\n\" transform=\"scale(0.015625)\"/>\n       <path id=\"DejaVuSans-6c\" d=\"M 603 4863 \nL 1178 4863 \nL 1178 0 \nL 603 0 \nL 603 4863 \nz\n\" transform=\"scale(0.015625)\"/>\n       <path id=\"DejaVuSans-62\" d=\"M 3116 1747 \nQ 3116 2381 2855 2742 \nQ 2594 3103 2138 3103 \nQ 1681 3103 1420 2742 \nQ 1159 2381 1159 1747 \nQ 1159 1113 1420 752 \nQ 1681 391 2138 391 \nQ 2594 391 2855 752 \nQ 3116 1113 3116 1747 \nz\nM 1159 2969 \nQ 1341 3281 1617 3432 \nQ 1894 3584 2278 3584 \nQ 2916 3584 3314 3078 \nQ 3713 2572 3713 1747 \nQ 3713 922 3314 415 \nQ 2916 -91 2278 -91 \nQ 1894 -91 1617 61 \nQ 1341 213 1159 525 \nL 1159 0 \nL 581 0 \nL 581 4863 \nL 1159 4863 \nL 1159 2969 \nz\n\" transform=\"scale(0.015625)\"/>\n       <path id=\"DejaVuSans-73\" d=\"M 2834 3397 \nL 2834 2853 \nQ 2591 2978 2328 3040 \nQ 2066 3103 1784 3103 \nQ 1356 3103 1142 2972 \nQ 928 2841 928 2578 \nQ 928 2378 1081 2264 \nQ 1234 2150 1697 2047 \nL 1894 2003 \nQ 2506 1872 2764 1633 \nQ 3022 1394 3022 966 \nQ 3022 478 2636 193 \nQ 2250 -91 1575 -91 \nQ 1294 -91 989 -36 \nQ 684 19 347 128 \nL 347 722 \nQ 666 556 975 473 \nQ 1284 391 1588 391 \nQ 1994 391 2212 530 \nQ 2431 669 2431 922 \nQ 2431 1156 2273 1281 \nQ 2116 1406 1581 1522 \nL 1381 1569 \nQ 847 1681 609 1914 \nQ 372 2147 372 2553 \nQ 372 3047 722 3315 \nQ 1072 3584 1716 3584 \nQ 2034 3584 2315 3537 \nQ 2597 3491 2834 3397 \nz\n\" transform=\"scale(0.015625)\"/>\n       <path id=\"DejaVuSans-29\" d=\"M 513 4856 \nL 1013 4856 \nQ 1481 4119 1714 3412 \nQ 1947 2706 1947 2009 \nQ 1947 1309 1714 600 \nQ 1481 -109 1013 -844 \nL 513 -844 \nQ 928 -128 1133 580 \nQ 1338 1288 1338 2009 \nQ 1338 2731 1133 3434 \nQ 928 4138 513 4856 \nz\n\" transform=\"scale(0.015625)\"/>\n      </defs>\n      <use xlink:href=\"#DejaVuSans-57\"/>\n      <use xlink:href=\"#DejaVuSans-65\" transform=\"translate(93.001953 0)\"/>\n      <use xlink:href=\"#DejaVuSans-69\" transform=\"translate(154.525391 0)\"/>\n      <use xlink:href=\"#DejaVuSans-67\" transform=\"translate(182.308594 0)\"/>\n      <use xlink:href=\"#DejaVuSans-68\" transform=\"translate(245.785156 0)\"/>\n      <use xlink:href=\"#DejaVuSans-74\" transform=\"translate(309.164062 0)\"/>\n      <use xlink:href=\"#DejaVuSans-20\" transform=\"translate(348.373047 0)\"/>\n      <use xlink:href=\"#DejaVuSans-28\" transform=\"translate(380.160156 0)\"/>\n      <use xlink:href=\"#DejaVuSans-31\" transform=\"translate(419.173828 0)\"/>\n      <use xlink:href=\"#DejaVuSans-30\" transform=\"translate(482.796875 0)\"/>\n      <use xlink:href=\"#DejaVuSans-30\" transform=\"translate(546.419922 0)\"/>\n      <use xlink:href=\"#DejaVuSans-30\" transform=\"translate(610.042969 0)\"/>\n      <use xlink:href=\"#DejaVuSans-20\" transform=\"translate(673.666016 0)\"/>\n      <use xlink:href=\"#DejaVuSans-6c\" transform=\"translate(705.453125 0)\"/>\n      <use xlink:href=\"#DejaVuSans-62\" transform=\"translate(733.236328 0)\"/>\n      <use xlink:href=\"#DejaVuSans-73\" transform=\"translate(796.712891 0)\"/>\n      <use xlink:href=\"#DejaVuSans-29\" transform=\"translate(848.8125 0)\"/>\n     </g>\n    </g>\n   </g>\n   <g id=\"matplotlib.axis_2\">\n    <g id=\"ytick_1\">\n     <g id=\"line2d_19\">\n      <path d=\"M 46.965625 511.067531 \nL 570.876025 511.067531 \n\" clip-path=\"url(#pc0d09a8451)\" style=\"fill: none; stroke: #b0b0b0; stroke-opacity: 0.3; stroke-width: 0.8; stroke-linecap: square\"/>\n     </g>\n     <g id=\"line2d_20\">\n      <defs>\n       <path id=\"m2f3abfa883\" d=\"M 0 0 \nL -3.5 0 \n\" style=\"stroke: #000000; stroke-width: 0.8\"/>\n      </defs>\n      <g>\n       <use xlink:href=\"#m2f3abfa883\" x=\"46.965625\" y=\"511.067531\" style=\"stroke: #000000; stroke-width: 0.8\"/>\n      </g>\n     </g>\n     <g id=\"text_11\">\n      <!-- 50 -->\n      <g transform=\"translate(27.240625 514.866749) scale(0.1 -0.1)\">\n       <use xlink:href=\"#DejaVuSans-35\"/>\n       <use xlink:href=\"#DejaVuSans-30\" transform=\"translate(63.623047 0)\"/>\n      </g>\n     </g>\n    </g>\n    <g id=\"ytick_2\">\n     <g id=\"line2d_21\">\n      <path d=\"M 46.965625 429.377842 \nL 570.876025 429.377842 \n\" clip-path=\"url(#pc0d09a8451)\" style=\"fill: none; stroke: #b0b0b0; stroke-opacity: 0.3; stroke-width: 0.8; stroke-linecap: square\"/>\n     </g>\n     <g id=\"line2d_22\">\n      <g>\n       <use xlink:href=\"#m2f3abfa883\" x=\"46.965625\" y=\"429.377842\" style=\"stroke: #000000; stroke-width: 0.8\"/>\n      </g>\n     </g>\n     <g id=\"text_12\">\n      <!-- 100 -->\n      <g transform=\"translate(20.878125 433.177061) scale(0.1 -0.1)\">\n       <use xlink:href=\"#DejaVuSans-31\"/>\n       <use xlink:href=\"#DejaVuSans-30\" transform=\"translate(63.623047 0)\"/>\n       <use xlink:href=\"#DejaVuSans-30\" transform=\"translate(127.246094 0)\"/>\n      </g>\n     </g>\n    </g>\n    <g id=\"ytick_3\">\n     <g id=\"line2d_23\">\n      <path d=\"M 46.965625 347.688154 \nL 570.876025 347.688154 \n\" clip-path=\"url(#pc0d09a8451)\" style=\"fill: none; stroke: #b0b0b0; stroke-opacity: 0.3; stroke-width: 0.8; stroke-linecap: square\"/>\n     </g>\n     <g id=\"line2d_24\">\n      <g>\n       <use xlink:href=\"#m2f3abfa883\" x=\"46.965625\" y=\"347.688154\" style=\"stroke: #000000; stroke-width: 0.8\"/>\n      </g>\n     </g>\n     <g id=\"text_13\">\n      <!-- 150 -->\n      <g transform=\"translate(20.878125 351.487373) scale(0.1 -0.1)\">\n       <use xlink:href=\"#DejaVuSans-31\"/>\n       <use xlink:href=\"#DejaVuSans-35\" transform=\"translate(63.623047 0)\"/>\n       <use xlink:href=\"#DejaVuSans-30\" transform=\"translate(127.246094 0)\"/>\n      </g>\n     </g>\n    </g>\n    <g id=\"ytick_4\">\n     <g id=\"line2d_25\">\n      <path d=\"M 46.965625 265.998466 \nL 570.876025 265.998466 \n\" clip-path=\"url(#pc0d09a8451)\" style=\"fill: none; stroke: #b0b0b0; stroke-opacity: 0.3; stroke-width: 0.8; stroke-linecap: square\"/>\n     </g>\n     <g id=\"line2d_26\">\n      <g>\n       <use xlink:href=\"#m2f3abfa883\" x=\"46.965625\" y=\"265.998466\" style=\"stroke: #000000; stroke-width: 0.8\"/>\n      </g>\n     </g>\n     <g id=\"text_14\">\n      <!-- 200 -->\n      <g transform=\"translate(20.878125 269.797684) scale(0.1 -0.1)\">\n       <use xlink:href=\"#DejaVuSans-32\"/>\n       <use xlink:href=\"#DejaVuSans-30\" transform=\"translate(63.623047 0)\"/>\n       <use xlink:href=\"#DejaVuSans-30\" transform=\"translate(127.246094 0)\"/>\n      </g>\n     </g>\n    </g>\n    <g id=\"ytick_5\">\n     <g id=\"line2d_27\">\n      <path d=\"M 46.965625 184.308777 \nL 570.876025 184.308777 \n\" clip-path=\"url(#pc0d09a8451)\" style=\"fill: none; stroke: #b0b0b0; stroke-opacity: 0.3; stroke-width: 0.8; stroke-linecap: square\"/>\n     </g>\n     <g id=\"line2d_28\">\n      <g>\n       <use xlink:href=\"#m2f3abfa883\" x=\"46.965625\" y=\"184.308777\" style=\"stroke: #000000; stroke-width: 0.8\"/>\n      </g>\n     </g>\n     <g id=\"text_15\">\n      <!-- 250 -->\n      <g transform=\"translate(20.878125 188.107996) scale(0.1 -0.1)\">\n       <use xlink:href=\"#DejaVuSans-32\"/>\n       <use xlink:href=\"#DejaVuSans-35\" transform=\"translate(63.623047 0)\"/>\n       <use xlink:href=\"#DejaVuSans-30\" transform=\"translate(127.246094 0)\"/>\n      </g>\n     </g>\n    </g>\n    <g id=\"ytick_6\">\n     <g id=\"line2d_29\">\n      <path d=\"M 46.965625 102.619089 \nL 570.876025 102.619089 \n\" clip-path=\"url(#pc0d09a8451)\" style=\"fill: none; stroke: #b0b0b0; stroke-opacity: 0.3; stroke-width: 0.8; stroke-linecap: square\"/>\n     </g>\n     <g id=\"line2d_30\">\n      <g>\n       <use xlink:href=\"#m2f3abfa883\" x=\"46.965625\" y=\"102.619089\" style=\"stroke: #000000; stroke-width: 0.8\"/>\n      </g>\n     </g>\n     <g id=\"text_16\">\n      <!-- 300 -->\n      <g transform=\"translate(20.878125 106.418307) scale(0.1 -0.1)\">\n       <use xlink:href=\"#DejaVuSans-33\"/>\n       <use xlink:href=\"#DejaVuSans-30\" transform=\"translate(63.623047 0)\"/>\n       <use xlink:href=\"#DejaVuSans-30\" transform=\"translate(127.246094 0)\"/>\n      </g>\n     </g>\n    </g>\n    <g id=\"text_17\">\n     <!-- Horsepower -->\n     <g transform=\"translate(14.798437 306.629062) rotate(-90) scale(0.1 -0.1)\">\n      <defs>\n       <path id=\"DejaVuSans-48\" d=\"M 628 4666 \nL 1259 4666 \nL 1259 2753 \nL 3553 2753 \nL 3553 4666 \nL 4184 4666 \nL 4184 0 \nL 3553 0 \nL 3553 2222 \nL 1259 2222 \nL 1259 0 \nL 628 0 \nL 628 4666 \nz\n\" transform=\"scale(0.015625)\"/>\n       <path id=\"DejaVuSans-6f\" d=\"M 1959 3097 \nQ 1497 3097 1228 2736 \nQ 959 2375 959 1747 \nQ 959 1119 1226 758 \nQ 1494 397 1959 397 \nQ 2419 397 2687 759 \nQ 2956 1122 2956 1747 \nQ 2956 2369 2687 2733 \nQ 2419 3097 1959 3097 \nz\nM 1959 3584 \nQ 2709 3584 3137 3096 \nQ 3566 2609 3566 1747 \nQ 3566 888 3137 398 \nQ 2709 -91 1959 -91 \nQ 1206 -91 779 398 \nQ 353 888 353 1747 \nQ 353 2609 779 3096 \nQ 1206 3584 1959 3584 \nz\n\" transform=\"scale(0.015625)\"/>\n       <path id=\"DejaVuSans-72\" d=\"M 2631 2963 \nQ 2534 3019 2420 3045 \nQ 2306 3072 2169 3072 \nQ 1681 3072 1420 2755 \nQ 1159 2438 1159 1844 \nL 1159 0 \nL 581 0 \nL 581 3500 \nL 1159 3500 \nL 1159 2956 \nQ 1341 3275 1631 3429 \nQ 1922 3584 2338 3584 \nQ 2397 3584 2469 3576 \nQ 2541 3569 2628 3553 \nL 2631 2963 \nz\n\" transform=\"scale(0.015625)\"/>\n       <path id=\"DejaVuSans-70\" d=\"M 1159 525 \nL 1159 -1331 \nL 581 -1331 \nL 581 3500 \nL 1159 3500 \nL 1159 2969 \nQ 1341 3281 1617 3432 \nQ 1894 3584 2278 3584 \nQ 2916 3584 3314 3078 \nQ 3713 2572 3713 1747 \nQ 3713 922 3314 415 \nQ 2916 -91 2278 -91 \nQ 1894 -91 1617 61 \nQ 1341 213 1159 525 \nz\nM 3116 1747 \nQ 3116 2381 2855 2742 \nQ 2594 3103 2138 3103 \nQ 1681 3103 1420 2742 \nQ 1159 2381 1159 1747 \nQ 1159 1113 1420 752 \nQ 1681 391 2138 391 \nQ 2594 391 2855 752 \nQ 3116 1113 3116 1747 \nz\n\" transform=\"scale(0.015625)\"/>\n       <path id=\"DejaVuSans-77\" d=\"M 269 3500 \nL 844 3500 \nL 1563 769 \nL 2278 3500 \nL 2956 3500 \nL 3675 769 \nL 4391 3500 \nL 4966 3500 \nL 4050 0 \nL 3372 0 \nL 2619 2869 \nL 1863 0 \nL 1184 0 \nL 269 3500 \nz\n\" transform=\"scale(0.015625)\"/>\n      </defs>\n      <use xlink:href=\"#DejaVuSans-48\"/>\n      <use xlink:href=\"#DejaVuSans-6f\" transform=\"translate(75.195312 0)\"/>\n      <use xlink:href=\"#DejaVuSans-72\" transform=\"translate(136.376953 0)\"/>\n      <use xlink:href=\"#DejaVuSans-73\" transform=\"translate(177.490234 0)\"/>\n      <use xlink:href=\"#DejaVuSans-65\" transform=\"translate(229.589844 0)\"/>\n      <use xlink:href=\"#DejaVuSans-70\" transform=\"translate(291.113281 0)\"/>\n      <use xlink:href=\"#DejaVuSans-6f\" transform=\"translate(354.589844 0)\"/>\n      <use xlink:href=\"#DejaVuSans-77\" transform=\"translate(415.771484 0)\"/>\n      <use xlink:href=\"#DejaVuSans-65\" transform=\"translate(497.558594 0)\"/>\n      <use xlink:href=\"#DejaVuSans-72\" transform=\"translate(559.082031 0)\"/>\n     </g>\n    </g>\n   </g>\n   <g id=\"patch_3\">\n    <path d=\"M 46.965625 530.918125 \nL 46.965625 22.318125 \n\" style=\"fill: none; stroke: #000000; stroke-width: 0.8; stroke-linejoin: miter; stroke-linecap: square\"/>\n   </g>\n   <g id=\"patch_4\">\n    <path d=\"M 570.876025 530.918125 \nL 570.876025 22.318125 \n\" style=\"fill: none; stroke: #000000; stroke-width: 0.8; stroke-linejoin: miter; stroke-linecap: square\"/>\n   </g>\n   <g id=\"patch_5\">\n    <path d=\"M 46.965625 530.918125 \nL 570.876025 530.918125 \n\" style=\"fill: none; stroke: #000000; stroke-width: 0.8; stroke-linejoin: miter; stroke-linecap: square\"/>\n   </g>\n   <g id=\"patch_6\">\n    <path d=\"M 46.965625 22.318125 \nL 570.876025 22.318125 \n\" style=\"fill: none; stroke: #000000; stroke-width: 0.8; stroke-linejoin: miter; stroke-linecap: square\"/>\n   </g>\n   <g id=\"text_18\">\n    <!-- Car Characteristics Visualization -->\n    <g transform=\"translate(212.021762 16.318125) scale(0.12 -0.12)\">\n     <defs>\n      <path id=\"DejaVuSans-43\" d=\"M 4122 4306 \nL 4122 3641 \nQ 3803 3938 3442 4084 \nQ 3081 4231 2675 4231 \nQ 1875 4231 1450 3742 \nQ 1025 3253 1025 2328 \nQ 1025 1406 1450 917 \nQ 1875 428 2675 428 \nQ 3081 428 3442 575 \nQ 3803 722 4122 1019 \nL 4122 359 \nQ 3791 134 3420 21 \nQ 3050 -91 2638 -91 \nQ 1578 -91 968 557 \nQ 359 1206 359 2328 \nQ 359 3453 968 4101 \nQ 1578 4750 2638 4750 \nQ 3056 4750 3426 4639 \nQ 3797 4528 4122 4306 \nz\n\" transform=\"scale(0.015625)\"/>\n      <path id=\"DejaVuSans-61\" d=\"M 2194 1759 \nQ 1497 1759 1228 1600 \nQ 959 1441 959 1056 \nQ 959 750 1161 570 \nQ 1363 391 1709 391 \nQ 2188 391 2477 730 \nQ 2766 1069 2766 1631 \nL 2766 1759 \nL 2194 1759 \nz\nM 3341 1997 \nL 3341 0 \nL 2766 0 \nL 2766 531 \nQ 2569 213 2275 61 \nQ 1981 -91 1556 -91 \nQ 1019 -91 701 211 \nQ 384 513 384 1019 \nQ 384 1609 779 1909 \nQ 1175 2209 1959 2209 \nL 2766 2209 \nL 2766 2266 \nQ 2766 2663 2505 2880 \nQ 2244 3097 1772 3097 \nQ 1472 3097 1187 3025 \nQ 903 2953 641 2809 \nL 641 3341 \nQ 956 3463 1253 3523 \nQ 1550 3584 1831 3584 \nQ 2591 3584 2966 3190 \nQ 3341 2797 3341 1997 \nz\n\" transform=\"scale(0.015625)\"/>\n      <path id=\"DejaVuSans-63\" d=\"M 3122 3366 \nL 3122 2828 \nQ 2878 2963 2633 3030 \nQ 2388 3097 2138 3097 \nQ 1578 3097 1268 2742 \nQ 959 2388 959 1747 \nQ 959 1106 1268 751 \nQ 1578 397 2138 397 \nQ 2388 397 2633 464 \nQ 2878 531 3122 666 \nL 3122 134 \nQ 2881 22 2623 -34 \nQ 2366 -91 2075 -91 \nQ 1284 -91 818 406 \nQ 353 903 353 1747 \nQ 353 2603 823 3093 \nQ 1294 3584 2113 3584 \nQ 2378 3584 2631 3529 \nQ 2884 3475 3122 3366 \nz\n\" transform=\"scale(0.015625)\"/>\n      <path id=\"DejaVuSans-56\" d=\"M 1831 0 \nL 50 4666 \nL 709 4666 \nL 2188 738 \nL 3669 4666 \nL 4325 4666 \nL 2547 0 \nL 1831 0 \nz\n\" transform=\"scale(0.015625)\"/>\n      <path id=\"DejaVuSans-75\" d=\"M 544 1381 \nL 544 3500 \nL 1119 3500 \nL 1119 1403 \nQ 1119 906 1312 657 \nQ 1506 409 1894 409 \nQ 2359 409 2629 706 \nQ 2900 1003 2900 1516 \nL 2900 3500 \nL 3475 3500 \nL 3475 0 \nL 2900 0 \nL 2900 538 \nQ 2691 219 2414 64 \nQ 2138 -91 1772 -91 \nQ 1169 -91 856 284 \nQ 544 659 544 1381 \nz\nM 1991 3584 \nL 1991 3584 \nz\n\" transform=\"scale(0.015625)\"/>\n      <path id=\"DejaVuSans-7a\" d=\"M 353 3500 \nL 3084 3500 \nL 3084 2975 \nL 922 459 \nL 3084 459 \nL 3084 0 \nL 275 0 \nL 275 525 \nL 2438 3041 \nL 353 3041 \nL 353 3500 \nz\n\" transform=\"scale(0.015625)\"/>\n      <path id=\"DejaVuSans-6e\" d=\"M 3513 2113 \nL 3513 0 \nL 2938 0 \nL 2938 2094 \nQ 2938 2591 2744 2837 \nQ 2550 3084 2163 3084 \nQ 1697 3084 1428 2787 \nQ 1159 2491 1159 1978 \nL 1159 0 \nL 581 0 \nL 581 3500 \nL 1159 3500 \nL 1159 2956 \nQ 1366 3272 1645 3428 \nQ 1925 3584 2291 3584 \nQ 2894 3584 3203 3211 \nQ 3513 2838 3513 2113 \nz\n\" transform=\"scale(0.015625)\"/>\n     </defs>\n     <use xlink:href=\"#DejaVuSans-43\"/>\n     <use xlink:href=\"#DejaVuSans-61\" transform=\"translate(69.824219 0)\"/>\n     <use xlink:href=\"#DejaVuSans-72\" transform=\"translate(131.103516 0)\"/>\n     <use xlink:href=\"#DejaVuSans-20\" transform=\"translate(172.216797 0)\"/>\n     <use xlink:href=\"#DejaVuSans-43\" transform=\"translate(204.003906 0)\"/>\n     <use xlink:href=\"#DejaVuSans-68\" transform=\"translate(273.828125 0)\"/>\n     <use xlink:href=\"#DejaVuSans-61\" transform=\"translate(337.207031 0)\"/>\n     <use xlink:href=\"#DejaVuSans-72\" transform=\"translate(398.486328 0)\"/>\n     <use xlink:href=\"#DejaVuSans-61\" transform=\"translate(439.599609 0)\"/>\n     <use xlink:href=\"#DejaVuSans-63\" transform=\"translate(500.878906 0)\"/>\n     <use xlink:href=\"#DejaVuSans-74\" transform=\"translate(555.859375 0)\"/>\n     <use xlink:href=\"#DejaVuSans-65\" transform=\"translate(595.068359 0)\"/>\n     <use xlink:href=\"#DejaVuSans-72\" transform=\"translate(656.591797 0)\"/>\n     <use xlink:href=\"#DejaVuSans-69\" transform=\"translate(697.705078 0)\"/>\n     <use xlink:href=\"#DejaVuSans-73\" transform=\"translate(725.488281 0)\"/>\n     <use xlink:href=\"#DejaVuSans-74\" transform=\"translate(777.587891 0)\"/>\n     <use xlink:href=\"#DejaVuSans-69\" transform=\"translate(816.796875 0)\"/>\n     <use xlink:href=\"#DejaVuSans-63\" transform=\"translate(844.580078 0)\"/>\n     <use xlink:href=\"#DejaVuSans-73\" transform=\"translate(899.560547 0)\"/>\n     <use xlink:href=\"#DejaVuSans-20\" transform=\"translate(951.660156 0)\"/>\n     <use xlink:href=\"#DejaVuSans-56\" transform=\"translate(983.447266 0)\"/>\n     <use xlink:href=\"#DejaVuSans-69\" transform=\"translate(1049.605469 0)\"/>\n     <use xlink:href=\"#DejaVuSans-73\" transform=\"translate(1077.388672 0)\"/>\n     <use xlink:href=\"#DejaVuSans-75\" transform=\"translate(1129.488281 0)\"/>\n     <use xlink:href=\"#DejaVuSans-61\" transform=\"translate(1192.867188 0)\"/>\n     <use xlink:href=\"#DejaVuSans-6c\" transform=\"translate(1254.146484 0)\"/>\n     <use xlink:href=\"#DejaVuSans-69\" transform=\"translate(1281.929688 0)\"/>\n     <use xlink:href=\"#DejaVuSans-7a\" transform=\"translate(1309.712891 0)\"/>\n     <use xlink:href=\"#DejaVuSans-61\" transform=\"translate(1362.203125 0)\"/>\n     <use xlink:href=\"#DejaVuSans-74\" transform=\"translate(1423.482422 0)\"/>\n     <use xlink:href=\"#DejaVuSans-69\" transform=\"translate(1462.691406 0)\"/>\n     <use xlink:href=\"#DejaVuSans-6f\" transform=\"translate(1490.474609 0)\"/>\n     <use xlink:href=\"#DejaVuSans-6e\" transform=\"translate(1551.65625 0)\"/>\n    </g>\n   </g>\n   <g id=\"legend_1\">\n    <g id=\"patch_7\">\n     <path d=\"M 656.462585 173.619062 \nL 848.582897 173.619062 \nQ 850.582897 173.619062 850.582897 171.619062 \nL 850.582897 29.318125 \nQ 850.582897 27.318125 848.582897 27.318125 \nL 656.462585 27.318125 \nQ 654.462585 27.318125 654.462585 29.318125 \nL 654.462585 171.619062 \nQ 654.462585 173.619062 656.462585 173.619062 \nz\n\" style=\"fill: #ffffff; opacity: 0.8; stroke: #cccccc; stroke-linejoin: miter\"/>\n    </g>\n    <g id=\"text_19\">\n     <!-- Transmission, Engine &amp; Displacement -->\n     <g transform=\"translate(658.462585 38.916562) scale(0.1 -0.1)\">\n      <defs>\n       <path id=\"DejaVuSans-54\" d=\"M -19 4666 \nL 3928 4666 \nL 3928 4134 \nL 2272 4134 \nL 2272 0 \nL 1638 0 \nL 1638 4134 \nL -19 4134 \nL -19 4666 \nz\n\" transform=\"scale(0.015625)\"/>\n       <path id=\"DejaVuSans-6d\" d=\"M 3328 2828 \nQ 3544 3216 3844 3400 \nQ 4144 3584 4550 3584 \nQ 5097 3584 5394 3201 \nQ 5691 2819 5691 2113 \nL 5691 0 \nL 5113 0 \nL 5113 2094 \nQ 5113 2597 4934 2840 \nQ 4756 3084 4391 3084 \nQ 3944 3084 3684 2787 \nQ 3425 2491 3425 1978 \nL 3425 0 \nL 2847 0 \nL 2847 2094 \nQ 2847 2600 2669 2842 \nQ 2491 3084 2119 3084 \nQ 1678 3084 1418 2786 \nQ 1159 2488 1159 1978 \nL 1159 0 \nL 581 0 \nL 581 3500 \nL 1159 3500 \nL 1159 2956 \nQ 1356 3278 1631 3431 \nQ 1906 3584 2284 3584 \nQ 2666 3584 2933 3390 \nQ 3200 3197 3328 2828 \nz\n\" transform=\"scale(0.015625)\"/>\n       <path id=\"DejaVuSans-2c\" d=\"M 750 794 \nL 1409 794 \nL 1409 256 \nL 897 -744 \nL 494 -744 \nL 750 256 \nL 750 794 \nz\n\" transform=\"scale(0.015625)\"/>\n       <path id=\"DejaVuSans-45\" d=\"M 628 4666 \nL 3578 4666 \nL 3578 4134 \nL 1259 4134 \nL 1259 2753 \nL 3481 2753 \nL 3481 2222 \nL 1259 2222 \nL 1259 531 \nL 3634 531 \nL 3634 0 \nL 628 0 \nL 628 4666 \nz\n\" transform=\"scale(0.015625)\"/>\n       <path id=\"DejaVuSans-26\" d=\"M 1556 2509 \nQ 1272 2256 1139 2004 \nQ 1006 1753 1006 1478 \nQ 1006 1022 1337 719 \nQ 1669 416 2169 416 \nQ 2466 416 2725 514 \nQ 2984 613 3213 813 \nL 1556 2509 \nz\nM 1997 2859 \nL 3584 1234 \nQ 3769 1513 3872 1830 \nQ 3975 2147 3994 2503 \nL 4575 2503 \nQ 4538 2091 4375 1687 \nQ 4213 1284 3922 891 \nL 4794 0 \nL 4006 0 \nL 3559 459 \nQ 3234 181 2878 45 \nQ 2522 -91 2113 -91 \nQ 1359 -91 881 339 \nQ 403 769 403 1441 \nQ 403 1841 612 2192 \nQ 822 2544 1241 2853 \nQ 1091 3050 1012 3245 \nQ 934 3441 934 3628 \nQ 934 4134 1281 4442 \nQ 1628 4750 2203 4750 \nQ 2463 4750 2720 4694 \nQ 2978 4638 3244 4525 \nL 3244 3956 \nQ 2972 4103 2725 4179 \nQ 2478 4256 2266 4256 \nQ 1938 4256 1733 4082 \nQ 1528 3909 1528 3634 \nQ 1528 3475 1620 3314 \nQ 1713 3153 1997 2859 \nz\n\" transform=\"scale(0.015625)\"/>\n       <path id=\"DejaVuSans-44\" d=\"M 1259 4147 \nL 1259 519 \nL 2022 519 \nQ 2988 519 3436 956 \nQ 3884 1394 3884 2338 \nQ 3884 3275 3436 3711 \nQ 2988 4147 2022 4147 \nL 1259 4147 \nz\nM 628 4666 \nL 1925 4666 \nQ 3281 4666 3915 4102 \nQ 4550 3538 4550 2338 \nQ 4550 1131 3912 565 \nQ 3275 0 1925 0 \nL 628 0 \nL 628 4666 \nz\n\" transform=\"scale(0.015625)\"/>\n      </defs>\n      <use xlink:href=\"#DejaVuSans-54\"/>\n      <use xlink:href=\"#DejaVuSans-72\" transform=\"translate(46.333984 0)\"/>\n      <use xlink:href=\"#DejaVuSans-61\" transform=\"translate(87.447266 0)\"/>\n      <use xlink:href=\"#DejaVuSans-6e\" transform=\"translate(148.726562 0)\"/>\n      <use xlink:href=\"#DejaVuSans-73\" transform=\"translate(212.105469 0)\"/>\n      <use xlink:href=\"#DejaVuSans-6d\" transform=\"translate(264.205078 0)\"/>\n      <use xlink:href=\"#DejaVuSans-69\" transform=\"translate(361.617188 0)\"/>\n      <use xlink:href=\"#DejaVuSans-73\" transform=\"translate(389.400391 0)\"/>\n      <use xlink:href=\"#DejaVuSans-73\" transform=\"translate(441.5 0)\"/>\n      <use xlink:href=\"#DejaVuSans-69\" transform=\"translate(493.599609 0)\"/>\n      <use xlink:href=\"#DejaVuSans-6f\" transform=\"translate(521.382812 0)\"/>\n      <use xlink:href=\"#DejaVuSans-6e\" transform=\"translate(582.564453 0)\"/>\n      <use xlink:href=\"#DejaVuSans-2c\" transform=\"translate(645.943359 0)\"/>\n      <use xlink:href=\"#DejaVuSans-20\" transform=\"translate(677.730469 0)\"/>\n      <use xlink:href=\"#DejaVuSans-45\" transform=\"translate(709.517578 0)\"/>\n      <use xlink:href=\"#DejaVuSans-6e\" transform=\"translate(772.701172 0)\"/>\n      <use xlink:href=\"#DejaVuSans-67\" transform=\"translate(836.080078 0)\"/>\n      <use xlink:href=\"#DejaVuSans-69\" transform=\"translate(899.556641 0)\"/>\n      <use xlink:href=\"#DejaVuSans-6e\" transform=\"translate(927.339844 0)\"/>\n      <use xlink:href=\"#DejaVuSans-65\" transform=\"translate(990.71875 0)\"/>\n      <use xlink:href=\"#DejaVuSans-20\" transform=\"translate(1052.242188 0)\"/>\n      <use xlink:href=\"#DejaVuSans-26\" transform=\"translate(1084.029297 0)\"/>\n      <use xlink:href=\"#DejaVuSans-20\" transform=\"translate(1162.007812 0)\"/>\n      <use xlink:href=\"#DejaVuSans-44\" transform=\"translate(1193.794922 0)\"/>\n      <use xlink:href=\"#DejaVuSans-69\" transform=\"translate(1270.796875 0)\"/>\n      <use xlink:href=\"#DejaVuSans-73\" transform=\"translate(1298.580078 0)\"/>\n      <use xlink:href=\"#DejaVuSans-70\" transform=\"translate(1350.679688 0)\"/>\n      <use xlink:href=\"#DejaVuSans-6c\" transform=\"translate(1414.15625 0)\"/>\n      <use xlink:href=\"#DejaVuSans-61\" transform=\"translate(1441.939453 0)\"/>\n      <use xlink:href=\"#DejaVuSans-63\" transform=\"translate(1503.21875 0)\"/>\n      <use xlink:href=\"#DejaVuSans-65\" transform=\"translate(1558.199219 0)\"/>\n      <use xlink:href=\"#DejaVuSans-6d\" transform=\"translate(1619.722656 0)\"/>\n      <use xlink:href=\"#DejaVuSans-65\" transform=\"translate(1717.134766 0)\"/>\n      <use xlink:href=\"#DejaVuSans-6e\" transform=\"translate(1778.658203 0)\"/>\n      <use xlink:href=\"#DejaVuSans-74\" transform=\"translate(1842.037109 0)\"/>\n     </g>\n     <!-- (Alpha = Fuel Efficiency) -->\n     <g transform=\"translate(658.462585 50.114375) scale(0.1 -0.1)\">\n      <defs>\n       <path id=\"DejaVuSans-41\" d=\"M 2188 4044 \nL 1331 1722 \nL 3047 1722 \nL 2188 4044 \nz\nM 1831 4666 \nL 2547 4666 \nL 4325 0 \nL 3669 0 \nL 3244 1197 \nL 1141 1197 \nL 716 0 \nL 50 0 \nL 1831 4666 \nz\n\" transform=\"scale(0.015625)\"/>\n       <path id=\"DejaVuSans-3d\" d=\"M 678 2906 \nL 4684 2906 \nL 4684 2381 \nL 678 2381 \nL 678 2906 \nz\nM 678 1631 \nL 4684 1631 \nL 4684 1100 \nL 678 1100 \nL 678 1631 \nz\n\" transform=\"scale(0.015625)\"/>\n       <path id=\"DejaVuSans-46\" d=\"M 628 4666 \nL 3309 4666 \nL 3309 4134 \nL 1259 4134 \nL 1259 2759 \nL 3109 2759 \nL 3109 2228 \nL 1259 2228 \nL 1259 0 \nL 628 0 \nL 628 4666 \nz\n\" transform=\"scale(0.015625)\"/>\n       <path id=\"DejaVuSans-66\" d=\"M 2375 4863 \nL 2375 4384 \nL 1825 4384 \nQ 1516 4384 1395 4259 \nQ 1275 4134 1275 3809 \nL 1275 3500 \nL 2222 3500 \nL 2222 3053 \nL 1275 3053 \nL 1275 0 \nL 697 0 \nL 697 3053 \nL 147 3053 \nL 147 3500 \nL 697 3500 \nL 697 3744 \nQ 697 4328 969 4595 \nQ 1241 4863 1831 4863 \nL 2375 4863 \nz\n\" transform=\"scale(0.015625)\"/>\n       <path id=\"DejaVuSans-79\" d=\"M 2059 -325 \nQ 1816 -950 1584 -1140 \nQ 1353 -1331 966 -1331 \nL 506 -1331 \nL 506 -850 \nL 844 -850 \nQ 1081 -850 1212 -737 \nQ 1344 -625 1503 -206 \nL 1606 56 \nL 191 3500 \nL 800 3500 \nL 1894 763 \nL 2988 3500 \nL 3597 3500 \nL 2059 -325 \nz\n\" transform=\"scale(0.015625)\"/>\n      </defs>\n      <use xlink:href=\"#DejaVuSans-28\"/>\n      <use xlink:href=\"#DejaVuSans-41\" transform=\"translate(39.013672 0)\"/>\n      <use xlink:href=\"#DejaVuSans-6c\" transform=\"translate(107.421875 0)\"/>\n      <use xlink:href=\"#DejaVuSans-70\" transform=\"translate(135.205078 0)\"/>\n      <use xlink:href=\"#DejaVuSans-68\" transform=\"translate(198.681641 0)\"/>\n      <use xlink:href=\"#DejaVuSans-61\" transform=\"translate(262.060547 0)\"/>\n      <use xlink:href=\"#DejaVuSans-20\" transform=\"translate(323.339844 0)\"/>\n      <use xlink:href=\"#DejaVuSans-3d\" transform=\"translate(355.126953 0)\"/>\n      <use xlink:href=\"#DejaVuSans-20\" transform=\"translate(438.916016 0)\"/>\n      <use xlink:href=\"#DejaVuSans-46\" transform=\"translate(470.703125 0)\"/>\n      <use xlink:href=\"#DejaVuSans-75\" transform=\"translate(522.722656 0)\"/>\n      <use xlink:href=\"#DejaVuSans-65\" transform=\"translate(586.101562 0)\"/>\n      <use xlink:href=\"#DejaVuSans-6c\" transform=\"translate(647.625 0)\"/>\n      <use xlink:href=\"#DejaVuSans-20\" transform=\"translate(675.408203 0)\"/>\n      <use xlink:href=\"#DejaVuSans-45\" transform=\"translate(707.195312 0)\"/>\n      <use xlink:href=\"#DejaVuSans-66\" transform=\"translate(770.378906 0)\"/>\n      <use xlink:href=\"#DejaVuSans-66\" transform=\"translate(805.583984 0)\"/>\n      <use xlink:href=\"#DejaVuSans-69\" transform=\"translate(840.789062 0)\"/>\n      <use xlink:href=\"#DejaVuSans-63\" transform=\"translate(868.572266 0)\"/>\n      <use xlink:href=\"#DejaVuSans-69\" transform=\"translate(923.552734 0)\"/>\n      <use xlink:href=\"#DejaVuSans-65\" transform=\"translate(951.335938 0)\"/>\n      <use xlink:href=\"#DejaVuSans-6e\" transform=\"translate(1012.859375 0)\"/>\n      <use xlink:href=\"#DejaVuSans-63\" transform=\"translate(1076.238281 0)\"/>\n      <use xlink:href=\"#DejaVuSans-79\" transform=\"translate(1131.21875 0)\"/>\n      <use xlink:href=\"#DejaVuSans-29\" transform=\"translate(1190.398438 0)\"/>\n     </g>\n    </g>\n    <g id=\"PathCollection_39\">\n     <defs>\n      <path id=\"m473977e606\" d=\"M 0 -5 \nL -5 5 \nL 5 5 \nz\n\" style=\"stroke: #808080\"/>\n     </defs>\n     <g>\n      <use xlink:href=\"#m473977e606\" x=\"689.492272\" y=\"62.1675\" style=\"fill: #808080; stroke: #808080\"/>\n     </g>\n    </g>\n    <g id=\"text_20\">\n     <!-- Automatic - V-shaped -->\n     <g transform=\"translate(707.492272 64.7925) scale(0.1 -0.1)\">\n      <defs>\n       <path id=\"DejaVuSans-2d\" d=\"M 313 2009 \nL 1997 2009 \nL 1997 1497 \nL 313 1497 \nL 313 2009 \nz\n\" transform=\"scale(0.015625)\"/>\n       <path id=\"DejaVuSans-64\" d=\"M 2906 2969 \nL 2906 4863 \nL 3481 4863 \nL 3481 0 \nL 2906 0 \nL 2906 525 \nQ 2725 213 2448 61 \nQ 2172 -91 1784 -91 \nQ 1150 -91 751 415 \nQ 353 922 353 1747 \nQ 353 2572 751 3078 \nQ 1150 3584 1784 3584 \nQ 2172 3584 2448 3432 \nQ 2725 3281 2906 2969 \nz\nM 947 1747 \nQ 947 1113 1208 752 \nQ 1469 391 1925 391 \nQ 2381 391 2643 752 \nQ 2906 1113 2906 1747 \nQ 2906 2381 2643 2742 \nQ 2381 3103 1925 3103 \nQ 1469 3103 1208 2742 \nQ 947 2381 947 1747 \nz\n\" transform=\"scale(0.015625)\"/>\n      </defs>\n      <use xlink:href=\"#DejaVuSans-41\"/>\n      <use xlink:href=\"#DejaVuSans-75\" transform=\"translate(68.408203 0)\"/>\n      <use xlink:href=\"#DejaVuSans-74\" transform=\"translate(131.787109 0)\"/>\n      <use xlink:href=\"#DejaVuSans-6f\" transform=\"translate(170.996094 0)\"/>\n      <use xlink:href=\"#DejaVuSans-6d\" transform=\"translate(232.177734 0)\"/>\n      <use xlink:href=\"#DejaVuSans-61\" transform=\"translate(329.589844 0)\"/>\n      <use xlink:href=\"#DejaVuSans-74\" transform=\"translate(390.869141 0)\"/>\n      <use xlink:href=\"#DejaVuSans-69\" transform=\"translate(430.078125 0)\"/>\n      <use xlink:href=\"#DejaVuSans-63\" transform=\"translate(457.861328 0)\"/>\n      <use xlink:href=\"#DejaVuSans-20\" transform=\"translate(512.841797 0)\"/>\n      <use xlink:href=\"#DejaVuSans-2d\" transform=\"translate(544.628906 0)\"/>\n      <use xlink:href=\"#DejaVuSans-20\" transform=\"translate(580.712891 0)\"/>\n      <use xlink:href=\"#DejaVuSans-56\" transform=\"translate(612.5 0)\"/>\n      <use xlink:href=\"#DejaVuSans-2d\" transform=\"translate(675.033203 0)\"/>\n      <use xlink:href=\"#DejaVuSans-73\" transform=\"translate(711.117188 0)\"/>\n      <use xlink:href=\"#DejaVuSans-68\" transform=\"translate(763.216797 0)\"/>\n      <use xlink:href=\"#DejaVuSans-61\" transform=\"translate(826.595703 0)\"/>\n      <use xlink:href=\"#DejaVuSans-70\" transform=\"translate(887.875 0)\"/>\n      <use xlink:href=\"#DejaVuSans-65\" transform=\"translate(951.351562 0)\"/>\n      <use xlink:href=\"#DejaVuSans-64\" transform=\"translate(1012.875 0)\"/>\n     </g>\n    </g>\n    <g id=\"PathCollection_40\">\n     <defs>\n      <path id=\"m867592ea20\" d=\"M -5 -0 \nL 5 5 \nL 5 -5 \nz\n\" style=\"stroke: #808080\"/>\n     </defs>\n     <g>\n      <use xlink:href=\"#m867592ea20\" x=\"689.492272\" y=\"76.845625\" style=\"fill: #808080; stroke: #808080\"/>\n     </g>\n    </g>\n    <g id=\"text_21\">\n     <!-- Automatic - Straight -->\n     <g transform=\"translate(707.492272 79.470625) scale(0.1 -0.1)\">\n      <defs>\n       <path id=\"DejaVuSans-53\" d=\"M 3425 4513 \nL 3425 3897 \nQ 3066 4069 2747 4153 \nQ 2428 4238 2131 4238 \nQ 1616 4238 1336 4038 \nQ 1056 3838 1056 3469 \nQ 1056 3159 1242 3001 \nQ 1428 2844 1947 2747 \nL 2328 2669 \nQ 3034 2534 3370 2195 \nQ 3706 1856 3706 1288 \nQ 3706 609 3251 259 \nQ 2797 -91 1919 -91 \nQ 1588 -91 1214 -16 \nQ 841 59 441 206 \nL 441 856 \nQ 825 641 1194 531 \nQ 1563 422 1919 422 \nQ 2459 422 2753 634 \nQ 3047 847 3047 1241 \nQ 3047 1584 2836 1778 \nQ 2625 1972 2144 2069 \nL 1759 2144 \nQ 1053 2284 737 2584 \nQ 422 2884 422 3419 \nQ 422 4038 858 4394 \nQ 1294 4750 2059 4750 \nQ 2388 4750 2728 4690 \nQ 3069 4631 3425 4513 \nz\n\" transform=\"scale(0.015625)\"/>\n      </defs>\n      <use xlink:href=\"#DejaVuSans-41\"/>\n      <use xlink:href=\"#DejaVuSans-75\" transform=\"translate(68.408203 0)\"/>\n      <use xlink:href=\"#DejaVuSans-74\" transform=\"translate(131.787109 0)\"/>\n      <use xlink:href=\"#DejaVuSans-6f\" transform=\"translate(170.996094 0)\"/>\n      <use xlink:href=\"#DejaVuSans-6d\" transform=\"translate(232.177734 0)\"/>\n      <use xlink:href=\"#DejaVuSans-61\" transform=\"translate(329.589844 0)\"/>\n      <use xlink:href=\"#DejaVuSans-74\" transform=\"translate(390.869141 0)\"/>\n      <use xlink:href=\"#DejaVuSans-69\" transform=\"translate(430.078125 0)\"/>\n      <use xlink:href=\"#DejaVuSans-63\" transform=\"translate(457.861328 0)\"/>\n      <use xlink:href=\"#DejaVuSans-20\" transform=\"translate(512.841797 0)\"/>\n      <use xlink:href=\"#DejaVuSans-2d\" transform=\"translate(544.628906 0)\"/>\n      <use xlink:href=\"#DejaVuSans-20\" transform=\"translate(580.712891 0)\"/>\n      <use xlink:href=\"#DejaVuSans-53\" transform=\"translate(612.5 0)\"/>\n      <use xlink:href=\"#DejaVuSans-74\" transform=\"translate(675.976562 0)\"/>\n      <use xlink:href=\"#DejaVuSans-72\" transform=\"translate(715.185547 0)\"/>\n      <use xlink:href=\"#DejaVuSans-61\" transform=\"translate(756.298828 0)\"/>\n      <use xlink:href=\"#DejaVuSans-69\" transform=\"translate(817.578125 0)\"/>\n      <use xlink:href=\"#DejaVuSans-67\" transform=\"translate(845.361328 0)\"/>\n      <use xlink:href=\"#DejaVuSans-68\" transform=\"translate(908.837891 0)\"/>\n      <use xlink:href=\"#DejaVuSans-74\" transform=\"translate(972.216797 0)\"/>\n     </g>\n    </g>\n    <g id=\"PathCollection_41\">\n     <defs>\n      <path id=\"m335b19d63e\" d=\"M -0 7.071068 \nL 7.071068 0 \nL 0 -7.071068 \nL -7.071068 -0 \nz\n\" style=\"stroke: #808080\"/>\n     </defs>\n     <g>\n      <use xlink:href=\"#m335b19d63e\" x=\"689.492272\" y=\"91.52375\" style=\"fill: #808080; stroke: #808080\"/>\n     </g>\n    </g>\n    <g id=\"text_22\">\n     <!-- Manual - V-shaped -->\n     <g transform=\"translate(707.492272 94.14875) scale(0.1 -0.1)\">\n      <defs>\n       <path id=\"DejaVuSans-4d\" d=\"M 628 4666 \nL 1569 4666 \nL 2759 1491 \nL 3956 4666 \nL 4897 4666 \nL 4897 0 \nL 4281 0 \nL 4281 4097 \nL 3078 897 \nL 2444 897 \nL 1241 4097 \nL 1241 0 \nL 628 0 \nL 628 4666 \nz\n\" transform=\"scale(0.015625)\"/>\n      </defs>\n      <use xlink:href=\"#DejaVuSans-4d\"/>\n      <use xlink:href=\"#DejaVuSans-61\" transform=\"translate(86.279297 0)\"/>\n      <use xlink:href=\"#DejaVuSans-6e\" transform=\"translate(147.558594 0)\"/>\n      <use xlink:href=\"#DejaVuSans-75\" transform=\"translate(210.9375 0)\"/>\n      <use xlink:href=\"#DejaVuSans-61\" transform=\"translate(274.316406 0)\"/>\n      <use xlink:href=\"#DejaVuSans-6c\" transform=\"translate(335.595703 0)\"/>\n      <use xlink:href=\"#DejaVuSans-20\" transform=\"translate(363.378906 0)\"/>\n      <use xlink:href=\"#DejaVuSans-2d\" transform=\"translate(395.166016 0)\"/>\n      <use xlink:href=\"#DejaVuSans-20\" transform=\"translate(431.25 0)\"/>\n      <use xlink:href=\"#DejaVuSans-56\" transform=\"translate(463.037109 0)\"/>\n      <use xlink:href=\"#DejaVuSans-2d\" transform=\"translate(525.570312 0)\"/>\n      <use xlink:href=\"#DejaVuSans-73\" transform=\"translate(561.654297 0)\"/>\n      <use xlink:href=\"#DejaVuSans-68\" transform=\"translate(613.753906 0)\"/>\n      <use xlink:href=\"#DejaVuSans-61\" transform=\"translate(677.132812 0)\"/>\n      <use xlink:href=\"#DejaVuSans-70\" transform=\"translate(738.412109 0)\"/>\n      <use xlink:href=\"#DejaVuSans-65\" transform=\"translate(801.888672 0)\"/>\n      <use xlink:href=\"#DejaVuSans-64\" transform=\"translate(863.412109 0)\"/>\n     </g>\n    </g>\n    <g id=\"PathCollection_42\">\n     <defs>\n      <path id=\"ma38ad719bd\" d=\"M 0 -5 \nL -1.12257 -1.545085 \nL -4.755283 -1.545085 \nL -1.816356 0.59017 \nL -2.938926 4.045085 \nL -0 1.90983 \nL 2.938926 4.045085 \nL 1.816356 0.59017 \nL 4.755283 -1.545085 \nL 1.12257 -1.545085 \nz\n\" style=\"stroke: #808080\"/>\n     </defs>\n     <g>\n      <use xlink:href=\"#ma38ad719bd\" x=\"689.492272\" y=\"106.201875\" style=\"fill: #808080; stroke: #808080\"/>\n     </g>\n    </g>\n    <g id=\"text_23\">\n     <!-- Manual - Straight -->\n     <g transform=\"translate(707.492272 108.826875) scale(0.1 -0.1)\">\n      <use xlink:href=\"#DejaVuSans-4d\"/>\n      <use xlink:href=\"#DejaVuSans-61\" transform=\"translate(86.279297 0)\"/>\n      <use xlink:href=\"#DejaVuSans-6e\" transform=\"translate(147.558594 0)\"/>\n      <use xlink:href=\"#DejaVuSans-75\" transform=\"translate(210.9375 0)\"/>\n      <use xlink:href=\"#DejaVuSans-61\" transform=\"translate(274.316406 0)\"/>\n      <use xlink:href=\"#DejaVuSans-6c\" transform=\"translate(335.595703 0)\"/>\n      <use xlink:href=\"#DejaVuSans-20\" transform=\"translate(363.378906 0)\"/>\n      <use xlink:href=\"#DejaVuSans-2d\" transform=\"translate(395.166016 0)\"/>\n      <use xlink:href=\"#DejaVuSans-20\" transform=\"translate(431.25 0)\"/>\n      <use xlink:href=\"#DejaVuSans-53\" transform=\"translate(463.037109 0)\"/>\n      <use xlink:href=\"#DejaVuSans-74\" transform=\"translate(526.513672 0)\"/>\n      <use xlink:href=\"#DejaVuSans-72\" transform=\"translate(565.722656 0)\"/>\n      <use xlink:href=\"#DejaVuSans-61\" transform=\"translate(606.835938 0)\"/>\n      <use xlink:href=\"#DejaVuSans-69\" transform=\"translate(668.115234 0)\"/>\n      <use xlink:href=\"#DejaVuSans-67\" transform=\"translate(695.898438 0)\"/>\n      <use xlink:href=\"#DejaVuSans-68\" transform=\"translate(759.375 0)\"/>\n      <use xlink:href=\"#DejaVuSans-74\" transform=\"translate(822.753906 0)\"/>\n     </g>\n    </g>\n    <g id=\"PathCollection_43\">\n     <defs>\n      <path id=\"m7de9a0c117\" d=\"M 0 5 \nC 1.326016 5 2.597899 4.473168 3.535534 3.535534 \nC 4.473168 2.597899 5 1.326016 5 0 \nC 5 -1.326016 4.473168 -2.597899 3.535534 -3.535534 \nC 2.597899 -4.473168 1.326016 -5 0 -5 \nC -1.326016 -5 -2.597899 -4.473168 -3.535534 -3.535534 \nC -4.473168 -2.597899 -5 -1.326016 -5 0 \nC -5 1.326016 -4.473168 2.597899 -3.535534 3.535534 \nC -2.597899 4.473168 -1.326016 5 0 5 \nz\n\" style=\"stroke: #808080\"/>\n     </defs>\n     <g>\n      <use xlink:href=\"#m7de9a0c117\" x=\"689.492272\" y=\"120.88\" style=\"fill: #808080; stroke: #808080\"/>\n     </g>\n    </g>\n    <g id=\"text_24\">\n     <!-- Small displacement -->\n     <g transform=\"translate(707.492272 123.505) scale(0.1 -0.1)\">\n      <use xlink:href=\"#DejaVuSans-53\"/>\n      <use xlink:href=\"#DejaVuSans-6d\" transform=\"translate(63.476562 0)\"/>\n      <use xlink:href=\"#DejaVuSans-61\" transform=\"translate(160.888672 0)\"/>\n      <use xlink:href=\"#DejaVuSans-6c\" transform=\"translate(222.167969 0)\"/>\n      <use xlink:href=\"#DejaVuSans-6c\" transform=\"translate(249.951172 0)\"/>\n      <use xlink:href=\"#DejaVuSans-20\" transform=\"translate(277.734375 0)\"/>\n      <use xlink:href=\"#DejaVuSans-64\" transform=\"translate(309.521484 0)\"/>\n      <use xlink:href=\"#DejaVuSans-69\" transform=\"translate(372.998047 0)\"/>\n      <use xlink:href=\"#DejaVuSans-73\" transform=\"translate(400.78125 0)\"/>\n      <use xlink:href=\"#DejaVuSans-70\" transform=\"translate(452.880859 0)\"/>\n      <use xlink:href=\"#DejaVuSans-6c\" transform=\"translate(516.357422 0)\"/>\n      <use xlink:href=\"#DejaVuSans-61\" transform=\"translate(544.140625 0)\"/>\n      <use xlink:href=\"#DejaVuSans-63\" transform=\"translate(605.419922 0)\"/>\n      <use xlink:href=\"#DejaVuSans-65\" transform=\"translate(660.400391 0)\"/>\n      <use xlink:href=\"#DejaVuSans-6d\" transform=\"translate(721.923828 0)\"/>\n      <use xlink:href=\"#DejaVuSans-65\" transform=\"translate(819.335938 0)\"/>\n      <use xlink:href=\"#DejaVuSans-6e\" transform=\"translate(880.859375 0)\"/>\n      <use xlink:href=\"#DejaVuSans-74\" transform=\"translate(944.238281 0)\"/>\n     </g>\n    </g>\n    <g id=\"PathCollection_44\">\n     <defs>\n      <path id=\"m05b90cf2eb\" d=\"M 0 8.660254 \nC 2.296726 8.660254 4.499694 7.747755 6.123724 6.123724 \nC 7.747755 4.499694 8.660254 2.296726 8.660254 0 \nC 8.660254 -2.296726 7.747755 -4.499694 6.123724 -6.123724 \nC 4.499694 -7.747755 2.296726 -8.660254 0 -8.660254 \nC -2.296726 -8.660254 -4.499694 -7.747755 -6.123724 -6.123724 \nC -7.747755 -4.499694 -8.660254 -2.296726 -8.660254 0 \nC -8.660254 2.296726 -7.747755 4.499694 -6.123724 6.123724 \nC -4.499694 7.747755 -2.296726 8.660254 0 8.660254 \nz\n\" style=\"stroke: #808080\"/>\n     </defs>\n     <g>\n      <use xlink:href=\"#m05b90cf2eb\" x=\"689.492272\" y=\"135.558125\" style=\"fill: #808080; stroke: #808080\"/>\n     </g>\n    </g>\n    <g id=\"text_25\">\n     <!-- Large displacement -->\n     <g transform=\"translate(707.492272 138.183125) scale(0.1 -0.1)\">\n      <defs>\n       <path id=\"DejaVuSans-4c\" d=\"M 628 4666 \nL 1259 4666 \nL 1259 531 \nL 3531 531 \nL 3531 0 \nL 628 0 \nL 628 4666 \nz\n\" transform=\"scale(0.015625)\"/>\n      </defs>\n      <use xlink:href=\"#DejaVuSans-4c\"/>\n      <use xlink:href=\"#DejaVuSans-61\" transform=\"translate(55.712891 0)\"/>\n      <use xlink:href=\"#DejaVuSans-72\" transform=\"translate(116.992188 0)\"/>\n      <use xlink:href=\"#DejaVuSans-67\" transform=\"translate(156.355469 0)\"/>\n      <use xlink:href=\"#DejaVuSans-65\" transform=\"translate(219.832031 0)\"/>\n      <use xlink:href=\"#DejaVuSans-20\" transform=\"translate(281.355469 0)\"/>\n      <use xlink:href=\"#DejaVuSans-64\" transform=\"translate(313.142578 0)\"/>\n      <use xlink:href=\"#DejaVuSans-69\" transform=\"translate(376.619141 0)\"/>\n      <use xlink:href=\"#DejaVuSans-73\" transform=\"translate(404.402344 0)\"/>\n      <use xlink:href=\"#DejaVuSans-70\" transform=\"translate(456.501953 0)\"/>\n      <use xlink:href=\"#DejaVuSans-6c\" transform=\"translate(519.978516 0)\"/>\n      <use xlink:href=\"#DejaVuSans-61\" transform=\"translate(547.761719 0)\"/>\n      <use xlink:href=\"#DejaVuSans-63\" transform=\"translate(609.041016 0)\"/>\n      <use xlink:href=\"#DejaVuSans-65\" transform=\"translate(664.021484 0)\"/>\n      <use xlink:href=\"#DejaVuSans-6d\" transform=\"translate(725.544922 0)\"/>\n      <use xlink:href=\"#DejaVuSans-65\" transform=\"translate(822.957031 0)\"/>\n      <use xlink:href=\"#DejaVuSans-6e\" transform=\"translate(884.480469 0)\"/>\n      <use xlink:href=\"#DejaVuSans-74\" transform=\"translate(947.859375 0)\"/>\n     </g>\n    </g>\n    <g id=\"line2d_31\">\n     <path d=\"M 679.492272 149.36125 \nL 689.492272 149.36125 \nL 699.492272 149.36125 \n\" style=\"fill: none; stroke: #808080; stroke-width: 4; stroke-linecap: square\"/>\n    </g>\n    <g id=\"text_26\">\n     <!-- High mpg (transparent) -->\n     <g transform=\"translate(707.492272 152.86125) scale(0.1 -0.1)\">\n      <use xlink:href=\"#DejaVuSans-48\"/>\n      <use xlink:href=\"#DejaVuSans-69\" transform=\"translate(75.195312 0)\"/>\n      <use xlink:href=\"#DejaVuSans-67\" transform=\"translate(102.978516 0)\"/>\n      <use xlink:href=\"#DejaVuSans-68\" transform=\"translate(166.455078 0)\"/>\n      <use xlink:href=\"#DejaVuSans-20\" transform=\"translate(229.833984 0)\"/>\n      <use xlink:href=\"#DejaVuSans-6d\" transform=\"translate(261.621094 0)\"/>\n      <use xlink:href=\"#DejaVuSans-70\" transform=\"translate(359.033203 0)\"/>\n      <use xlink:href=\"#DejaVuSans-67\" transform=\"translate(422.509766 0)\"/>\n      <use xlink:href=\"#DejaVuSans-20\" transform=\"translate(485.986328 0)\"/>\n      <use xlink:href=\"#DejaVuSans-28\" transform=\"translate(517.773438 0)\"/>\n      <use xlink:href=\"#DejaVuSans-74\" transform=\"translate(556.787109 0)\"/>\n      <use xlink:href=\"#DejaVuSans-72\" transform=\"translate(595.996094 0)\"/>\n      <use xlink:href=\"#DejaVuSans-61\" transform=\"translate(637.109375 0)\"/>\n      <use xlink:href=\"#DejaVuSans-6e\" transform=\"translate(698.388672 0)\"/>\n      <use xlink:href=\"#DejaVuSans-73\" transform=\"translate(761.767578 0)\"/>\n      <use xlink:href=\"#DejaVuSans-70\" transform=\"translate(813.867188 0)\"/>\n      <use xlink:href=\"#DejaVuSans-61\" transform=\"translate(877.34375 0)\"/>\n      <use xlink:href=\"#DejaVuSans-72\" transform=\"translate(938.623047 0)\"/>\n      <use xlink:href=\"#DejaVuSans-65\" transform=\"translate(977.486328 0)\"/>\n      <use xlink:href=\"#DejaVuSans-6e\" transform=\"translate(1039.009766 0)\"/>\n      <use xlink:href=\"#DejaVuSans-74\" transform=\"translate(1102.388672 0)\"/>\n      <use xlink:href=\"#DejaVuSans-29\" transform=\"translate(1141.597656 0)\"/>\n     </g>\n    </g>\n    <g id=\"line2d_32\">\n     <path d=\"M 679.492272 164.039375 \nL 689.492272 164.039375 \nL 699.492272 164.039375 \n\" style=\"fill: none; stroke: #808080; stroke-opacity: 0.3; stroke-width: 4; stroke-linecap: square\"/>\n    </g>\n    <g id=\"text_27\">\n     <!-- Low mpg (opaque) -->\n     <g transform=\"translate(707.492272 167.539375) scale(0.1 -0.1)\">\n      <defs>\n       <path id=\"DejaVuSans-71\" d=\"M 947 1747 \nQ 947 1113 1208 752 \nQ 1469 391 1925 391 \nQ 2381 391 2643 752 \nQ 2906 1113 2906 1747 \nQ 2906 2381 2643 2742 \nQ 2381 3103 1925 3103 \nQ 1469 3103 1208 2742 \nQ 947 2381 947 1747 \nz\nM 2906 525 \nQ 2725 213 2448 61 \nQ 2172 -91 1784 -91 \nQ 1150 -91 751 415 \nQ 353 922 353 1747 \nQ 353 2572 751 3078 \nQ 1150 3584 1784 3584 \nQ 2172 3584 2448 3432 \nQ 2725 3281 2906 2969 \nL 2906 3500 \nL 3481 3500 \nL 3481 -1331 \nL 2906 -1331 \nL 2906 525 \nz\n\" transform=\"scale(0.015625)\"/>\n      </defs>\n      <use xlink:href=\"#DejaVuSans-4c\"/>\n      <use xlink:href=\"#DejaVuSans-6f\" transform=\"translate(53.962891 0)\"/>\n      <use xlink:href=\"#DejaVuSans-77\" transform=\"translate(115.144531 0)\"/>\n      <use xlink:href=\"#DejaVuSans-20\" transform=\"translate(196.931641 0)\"/>\n      <use xlink:href=\"#DejaVuSans-6d\" transform=\"translate(228.71875 0)\"/>\n      <use xlink:href=\"#DejaVuSans-70\" transform=\"translate(326.130859 0)\"/>\n      <use xlink:href=\"#DejaVuSans-67\" transform=\"translate(389.607422 0)\"/>\n      <use xlink:href=\"#DejaVuSans-20\" transform=\"translate(453.083984 0)\"/>\n      <use xlink:href=\"#DejaVuSans-28\" transform=\"translate(484.871094 0)\"/>\n      <use xlink:href=\"#DejaVuSans-6f\" transform=\"translate(523.884766 0)\"/>\n      <use xlink:href=\"#DejaVuSans-70\" transform=\"translate(585.066406 0)\"/>\n      <use xlink:href=\"#DejaVuSans-61\" transform=\"translate(648.542969 0)\"/>\n      <use xlink:href=\"#DejaVuSans-71\" transform=\"translate(709.822266 0)\"/>\n      <use xlink:href=\"#DejaVuSans-75\" transform=\"translate(773.298828 0)\"/>\n      <use xlink:href=\"#DejaVuSans-65\" transform=\"translate(836.677734 0)\"/>\n      <use xlink:href=\"#DejaVuSans-29\" transform=\"translate(898.201172 0)\"/>\n     </g>\n    </g>\n   </g>\n  </g>\n  <g id=\"axes_2\">\n   <g id=\"patch_8\">\n    <path d=\"M 603.620425 530.918125 \nL 629.050425 530.918125 \nL 629.050425 22.318125 \nL 603.620425 22.318125 \nz\n\" style=\"fill: #ffffff\"/>\n   </g>\n   <image xlink:href=\"data:image/png;base64,\niVBORw0KGgoAAAANSUhEUgAAACQAAALDCAYAAAB93qKLAAAEjUlEQVR4nO2dsXUDMQzFJB1HywjZf5Rc6qQQSqMAJsATyU/J9kv21/5+l4jzaYH/6IRmbZeTy2YJhWaf/WmHP/hOqKYGdEI1NaETasoIndCspuzOrN0JXdEJzT4uJ5fNEgo1ZYROaFZTdkcn1JQR3YcIndDsXh13dEJNGaETanUQnRChE+oKS+iEmjJCJ1TJiE6I0Al1hSV0Qk0ZoRPqG0WiHCJ0QuUQoROqZIROqJIRrQ5CJ1RTEzqheSvZHZ3Q2JRkOuUQoxOqZIROqJIROqG2PdFyJXRC5RChE6pkhE6o1UHohNplRDlE6ITKIUInNMtVMd8J6YQKRmJemZJMRyhUUxM6oXldFfOdkE6oKSO6DxE6oV4dhE6oTz8InVBTRrQ6CJ1QV1hCJ9QVltAJNWVEq4PQCfUTeEInVA4ROqGCkaipCZ1QV1hCJ9SUETqhVgehE2rKiFYHoROqqQmdUKuD0An1ky+ipiZ0Qq0OQifUBY3QCTVlRKuD0AnV1IROqCkjdEJNGVFTEzqhmprQCTVlhE6o31MTNTWhE2p1EDqhpozQCVUyohwidEI1NaETasoInVBTRuiEmjKipiZ0QpWM0AmVQ4ROqCkj5v20wT90J6QTqqkJnVAlI3RCbXuipiZ0QjU1oRNqygidUCUjyiFCJ1RTEzqhSkbohApGoqYmdEI1NaETasoInVAlI8ohQidUUxMJEQkRBSNRDhE6oUpG6ITKIUIn1JQROqGmjKipCZ3QrO36JaPuhHRC5RChEyoYiU6I0AmVQ4ROqCkjdEKVjOgKS+iEWh1EQkRCRKuDKIcInVDbntAJlUOETqiSEZ0QoRNqdRA6oaaM0Al1pybKIUInVA4ROqGR/Zl83wnphApGQidUMBKdEKETmrXKoSs6oaaM0AnNbtvfqakJnVBNTeiEmjJCJ9TbnugpTeiEWh2ETqgcInRCTRnRfYjQCdXUhE5oZEPmOyGdUFNGdEKETqgrLKETmtOU3dEJFYxEJ0TohFodhE6o1UHohApGYk4/17mjE2p1EDqhVgehE2p1EDqhpoyoqQmdUE1N6IS6UxM6oYKRKIcInVAlI3RClYzQCVUyovsQoROqqQmdUCUjdEKVjOiECJ1Q257QCTVlhE5ozv75tMMfjCdUU1/RCbU6CJ1QU0bohFodxDw19R2dUKuD0AmVQ4ROqG1P6ITmKRjvlEOETqgcInRC3akJndCcVTBeKYcIndA8NfUdnVBTRuiE5ulOfacPrAidUE1N6IR62xM6oT6wImpqQidUUxM6oaaM0An1tid6ShM6oZqa0An1UCR0Qn0cQ9TUhE6oL/AInVBfkxM6oS5oRE9pQidUUxM6oVYHoRPqgkbohHoGEa0OQifUpx+ETqgcInRCfQlMdB8idELlEKETKocInVDf2xO9OgidUDlE6ITKIUIn1JQRnRChE5rT/8C7oxNqygid0NiMbD5rnnLojk5onuWqme6EdELlEKETmkf2X4p9J3TKoTs6oVYHoRNqygidUKuD0AnNkTm5bFY5xOiE5tkuJ5fNEgqVQ4RO6BdICpCI1ucoNwAAAABJRU5ErkJggg==\" id=\"image6f78f8efc1\" transform=\"scale(1 -1) translate(0 -509.04)\" x=\"603.36\" y=\"-21.6\" width=\"25.92\" height=\"509.04\"/>\n   <g id=\"matplotlib.axis_3\"/>\n   <g id=\"matplotlib.axis_4\">\n    <g id=\"ytick_7\">\n     <g id=\"line2d_33\">\n      <defs>\n       <path id=\"m8e354e0872\" d=\"M 0 0 \nL 3.5 0 \n\" style=\"stroke: #000000; stroke-width: 0.8\"/>\n      </defs>\n      <g>\n       <use xlink:href=\"#m8e354e0872\" x=\"629.050425\" y=\"530.918125\" style=\"stroke: #000000; stroke-width: 0.8\"/>\n      </g>\n     </g>\n     <g id=\"text_28\">\n      <!-- 1 -->\n      <g transform=\"translate(636.050425 534.717344) scale(0.1 -0.1)\">\n       <use xlink:href=\"#DejaVuSans-31\"/>\n      </g>\n     </g>\n    </g>\n    <g id=\"ytick_8\">\n     <g id=\"line2d_34\">\n      <g>\n       <use xlink:href=\"#m8e354e0872\" x=\"629.050425\" y=\"458.260982\" style=\"stroke: #000000; stroke-width: 0.8\"/>\n      </g>\n     </g>\n     <g id=\"text_29\">\n      <!-- 2 -->\n      <g transform=\"translate(636.050425 462.060201) scale(0.1 -0.1)\">\n       <use xlink:href=\"#DejaVuSans-32\"/>\n      </g>\n     </g>\n    </g>\n    <g id=\"ytick_9\">\n     <g id=\"line2d_35\">\n      <g>\n       <use xlink:href=\"#m8e354e0872\" x=\"629.050425\" y=\"385.603839\" style=\"stroke: #000000; stroke-width: 0.8\"/>\n      </g>\n     </g>\n     <g id=\"text_30\">\n      <!-- 3 -->\n      <g transform=\"translate(636.050425 389.403058) scale(0.1 -0.1)\">\n       <use xlink:href=\"#DejaVuSans-33\"/>\n      </g>\n     </g>\n    </g>\n    <g id=\"ytick_10\">\n     <g id=\"line2d_36\">\n      <g>\n       <use xlink:href=\"#m8e354e0872\" x=\"629.050425\" y=\"312.946696\" style=\"stroke: #000000; stroke-width: 0.8\"/>\n      </g>\n     </g>\n     <g id=\"text_31\">\n      <!-- 4 -->\n      <g transform=\"translate(636.050425 316.745915) scale(0.1 -0.1)\">\n       <use xlink:href=\"#DejaVuSans-34\"/>\n      </g>\n     </g>\n    </g>\n    <g id=\"ytick_11\">\n     <g id=\"line2d_37\">\n      <g>\n       <use xlink:href=\"#m8e354e0872\" x=\"629.050425\" y=\"240.289554\" style=\"stroke: #000000; stroke-width: 0.8\"/>\n      </g>\n     </g>\n     <g id=\"text_32\">\n      <!-- 5 -->\n      <g transform=\"translate(636.050425 244.088772) scale(0.1 -0.1)\">\n       <use xlink:href=\"#DejaVuSans-35\"/>\n      </g>\n     </g>\n    </g>\n    <g id=\"ytick_12\">\n     <g id=\"line2d_38\">\n      <g>\n       <use xlink:href=\"#m8e354e0872\" x=\"629.050425\" y=\"167.632411\" style=\"stroke: #000000; stroke-width: 0.8\"/>\n      </g>\n     </g>\n     <g id=\"text_33\">\n      <!-- 6 -->\n      <g transform=\"translate(636.050425 171.431629) scale(0.1 -0.1)\">\n       <defs>\n        <path id=\"DejaVuSans-36\" d=\"M 2113 2584 \nQ 1688 2584 1439 2293 \nQ 1191 2003 1191 1497 \nQ 1191 994 1439 701 \nQ 1688 409 2113 409 \nQ 2538 409 2786 701 \nQ 3034 994 3034 1497 \nQ 3034 2003 2786 2293 \nQ 2538 2584 2113 2584 \nz\nM 3366 4563 \nL 3366 3988 \nQ 3128 4100 2886 4159 \nQ 2644 4219 2406 4219 \nQ 1781 4219 1451 3797 \nQ 1122 3375 1075 2522 \nQ 1259 2794 1537 2939 \nQ 1816 3084 2150 3084 \nQ 2853 3084 3261 2657 \nQ 3669 2231 3669 1497 \nQ 3669 778 3244 343 \nQ 2819 -91 2113 -91 \nQ 1303 -91 875 529 \nQ 447 1150 447 2328 \nQ 447 3434 972 4092 \nQ 1497 4750 2381 4750 \nQ 2619 4750 2861 4703 \nQ 3103 4656 3366 4563 \nz\n\" transform=\"scale(0.015625)\"/>\n       </defs>\n       <use xlink:href=\"#DejaVuSans-36\"/>\n      </g>\n     </g>\n    </g>\n    <g id=\"ytick_13\">\n     <g id=\"line2d_39\">\n      <g>\n       <use xlink:href=\"#m8e354e0872\" x=\"629.050425\" y=\"94.975268\" style=\"stroke: #000000; stroke-width: 0.8\"/>\n      </g>\n     </g>\n     <g id=\"text_34\">\n      <!-- 7 -->\n      <g transform=\"translate(636.050425 98.774487) scale(0.1 -0.1)\">\n       <defs>\n        <path id=\"DejaVuSans-37\" d=\"M 525 4666 \nL 3525 4666 \nL 3525 4397 \nL 1831 0 \nL 1172 0 \nL 2766 4134 \nL 525 4134 \nL 525 4666 \nz\n\" transform=\"scale(0.015625)\"/>\n       </defs>\n       <use xlink:href=\"#DejaVuSans-37\"/>\n      </g>\n     </g>\n    </g>\n    <g id=\"ytick_14\">\n     <g id=\"line2d_40\">\n      <g>\n       <use xlink:href=\"#m8e354e0872\" x=\"629.050425\" y=\"22.318125\" style=\"stroke: #000000; stroke-width: 0.8\"/>\n      </g>\n     </g>\n     <g id=\"text_35\">\n      <!-- 8 -->\n      <g transform=\"translate(636.050425 26.117344) scale(0.1 -0.1)\">\n       <defs>\n        <path id=\"DejaVuSans-38\" d=\"M 2034 2216 \nQ 1584 2216 1326 1975 \nQ 1069 1734 1069 1313 \nQ 1069 891 1326 650 \nQ 1584 409 2034 409 \nQ 2484 409 2743 651 \nQ 3003 894 3003 1313 \nQ 3003 1734 2745 1975 \nQ 2488 2216 2034 2216 \nz\nM 1403 2484 \nQ 997 2584 770 2862 \nQ 544 3141 544 3541 \nQ 544 4100 942 4425 \nQ 1341 4750 2034 4750 \nQ 2731 4750 3128 4425 \nQ 3525 4100 3525 3541 \nQ 3525 3141 3298 2862 \nQ 3072 2584 2669 2484 \nQ 3125 2378 3379 2068 \nQ 3634 1759 3634 1313 \nQ 3634 634 3220 271 \nQ 2806 -91 2034 -91 \nQ 1263 -91 848 271 \nQ 434 634 434 1313 \nQ 434 1759 690 2068 \nQ 947 2378 1403 2484 \nz\nM 1172 3481 \nQ 1172 3119 1398 2916 \nQ 1625 2713 2034 2713 \nQ 2441 2713 2670 2916 \nQ 2900 3119 2900 3481 \nQ 2900 3844 2670 4047 \nQ 2441 4250 2034 4250 \nQ 1625 4250 1398 4047 \nQ 1172 3844 1172 3481 \nz\n\" transform=\"scale(0.015625)\"/>\n       </defs>\n       <use xlink:href=\"#DejaVuSans-38\"/>\n      </g>\n     </g>\n    </g>\n    <g id=\"text_36\">\n     <!-- Number of Carburetors -->\n     <g transform=\"translate(654.011362 334.354844) rotate(-90) scale(0.1 -0.1)\">\n      <defs>\n       <path id=\"DejaVuSans-4e\" d=\"M 628 4666 \nL 1478 4666 \nL 3547 763 \nL 3547 4666 \nL 4159 4666 \nL 4159 0 \nL 3309 0 \nL 1241 3903 \nL 1241 0 \nL 628 0 \nL 628 4666 \nz\n\" transform=\"scale(0.015625)\"/>\n      </defs>\n      <use xlink:href=\"#DejaVuSans-4e\"/>\n      <use xlink:href=\"#DejaVuSans-75\" transform=\"translate(74.804688 0)\"/>\n      <use xlink:href=\"#DejaVuSans-6d\" transform=\"translate(138.183594 0)\"/>\n      <use xlink:href=\"#DejaVuSans-62\" transform=\"translate(235.595703 0)\"/>\n      <use xlink:href=\"#DejaVuSans-65\" transform=\"translate(299.072266 0)\"/>\n      <use xlink:href=\"#DejaVuSans-72\" transform=\"translate(360.595703 0)\"/>\n      <use xlink:href=\"#DejaVuSans-20\" transform=\"translate(401.708984 0)\"/>\n      <use xlink:href=\"#DejaVuSans-6f\" transform=\"translate(433.496094 0)\"/>\n      <use xlink:href=\"#DejaVuSans-66\" transform=\"translate(494.677734 0)\"/>\n      <use xlink:href=\"#DejaVuSans-20\" transform=\"translate(529.882812 0)\"/>\n      <use xlink:href=\"#DejaVuSans-43\" transform=\"translate(561.669922 0)\"/>\n      <use xlink:href=\"#DejaVuSans-61\" transform=\"translate(631.494141 0)\"/>\n      <use xlink:href=\"#DejaVuSans-72\" transform=\"translate(692.773438 0)\"/>\n      <use xlink:href=\"#DejaVuSans-62\" transform=\"translate(733.886719 0)\"/>\n      <use xlink:href=\"#DejaVuSans-75\" transform=\"translate(797.363281 0)\"/>\n      <use xlink:href=\"#DejaVuSans-72\" transform=\"translate(860.742188 0)\"/>\n      <use xlink:href=\"#DejaVuSans-65\" transform=\"translate(899.605469 0)\"/>\n      <use xlink:href=\"#DejaVuSans-74\" transform=\"translate(961.128906 0)\"/>\n      <use xlink:href=\"#DejaVuSans-6f\" transform=\"translate(1000.337891 0)\"/>\n      <use xlink:href=\"#DejaVuSans-72\" transform=\"translate(1061.519531 0)\"/>\n      <use xlink:href=\"#DejaVuSans-73\" transform=\"translate(1102.632812 0)\"/>\n     </g>\n    </g>\n   </g>\n   <g id=\"LineCollection_1\"/>\n   <g id=\"patch_9\">\n    <path d=\"M 603.620425 530.918125 \nL 616.335425 530.918125 \nL 629.050425 530.918125 \nL 629.050425 22.318125 \nL 616.335425 22.318125 \nL 603.620425 22.318125 \nL 603.620425 530.918125 \nz\n\" style=\"fill: none; stroke: #000000; stroke-width: 0.8; stroke-linejoin: miter; stroke-linecap: square\"/>\n   </g>\n  </g>\n </g>\n <defs>\n  <clipPath id=\"pc0d09a8451\">\n   <rect x=\"46.965625\" y=\"22.318125\" width=\"523.9104\" height=\"508.6\"/>\n  </clipPath>\n </defs>\n</svg>\n"
     },
     "metadata": {},
     "output_type": "display_data"
    }
   ],
   "execution_count": 71
  }
 ],
 "metadata": {
  "kernelspec": {
   "display_name": "vdss",
   "language": "python",
   "name": "python3"
  },
  "language_info": {
   "codemirror_mode": {
    "name": "ipython",
    "version": 3
   },
   "file_extension": ".py",
   "mimetype": "text/x-python",
   "name": "python",
   "nbconvert_exporter": "python",
   "pygments_lexer": "ipython3",
   "version": "3.10.13"
  }
 },
 "nbformat": 4,
 "nbformat_minor": 2
}
