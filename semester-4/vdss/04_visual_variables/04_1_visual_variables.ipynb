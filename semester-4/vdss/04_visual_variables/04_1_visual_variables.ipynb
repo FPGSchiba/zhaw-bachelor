{
 "cells": [
  {
   "cell_type": "markdown",
   "metadata": {},
   "source": [
    "# Introduction to visual variables\n",
    "\n",
    "Accompanying notebook to the introduction to visual variables. From a tooling perspective it illustrates the use of patches in matplotlib to draw all sorts of shapes like rectangles, circles, stars. etc."
   ]
  },
  {
   "cell_type": "code",
   "metadata": {
    "ExecuteTime": {
     "end_time": "2025-03-15T10:53:25.939759Z",
     "start_time": "2025-03-15T10:53:25.934768Z"
    }
   },
   "source": [
    "import os\n",
    "import glob\n",
    "from dotenv import load_dotenv, find_dotenv\n",
    "\n",
    "import matplotlib.pyplot as plt\n",
    "from matplotlib import patches\n",
    "import matplotlib as mpl\n",
    "\n",
    "import colorsys\n",
    "\n",
    "import datetime\n",
    "\n",
    "import numpy as np\n",
    "import pandas as pd\n",
    "\n",
    "load_dotenv()\n",
    "data_folder=os.getenv('DATA_FOLDER')"
   ],
   "outputs": [],
   "execution_count": 2
  },
  {
   "cell_type": "code",
   "metadata": {
    "ExecuteTime": {
     "end_time": "2025-03-15T10:53:25.955372Z",
     "start_time": "2025-03-15T10:53:25.952140Z"
    }
   },
   "source": [
    "# makes the inline-figures in notebooks look crisper\n",
    "%config InlineBackend.figure_format = 'svg'"
   ],
   "outputs": [],
   "execution_count": 3
  },
  {
   "cell_type": "code",
   "metadata": {
    "ExecuteTime": {
     "end_time": "2025-03-15T10:53:25.971455Z",
     "start_time": "2025-03-15T10:53:25.968106Z"
    }
   },
   "source": [
    "greys = [mpl.colormaps['tab20c_r'](i) for i in range(4)]\n",
    "lw = 2\n",
    "edgecolor = 'black'\n",
    "facecolor = greys[2]\n",
    "\n",
    "figsize_rect = (12,6)"
   ],
   "outputs": [],
   "execution_count": 4
  },
  {
   "cell_type": "code",
   "metadata": {
    "ExecuteTime": {
     "end_time": "2025-03-15T10:53:25.984922Z",
     "start_time": "2025-03-15T10:53:25.982379Z"
    }
   },
   "source": [
    "def prep_fig_ax():\n",
    "    fig, ax = plt.subplots(figsize=figsize_rect)\n",
    "    ax.set_xlim(0,6)\n",
    "    ax.set_ylim(0,4)\n",
    "\n",
    "    ax.spines[:].set_visible(False)    \n",
    "    ax.set_xticks([])\n",
    "    ax.set_yticks([])\n",
    "    return fig, ax"
   ],
   "outputs": [],
   "execution_count": 5
  },
  {
   "cell_type": "code",
   "metadata": {
    "ExecuteTime": {
     "end_time": "2025-03-15T10:53:26.029883Z",
     "start_time": "2025-03-15T10:53:25.998705Z"
    }
   },
   "source": [
    "fig, ax = plt.subplots(figsize=(6, 4))\n",
    "\n",
    "ax.set_xlim(0,6)\n",
    "ax.set_ylim(0,4)\n",
    "\n",
    "ax.spines[:].set_visible(False)    \n",
    "ax.set_xticks([])\n",
    "ax.set_yticks([])\n",
    "\n",
    "ax.add_artist(patches.Circle((4, 2.5), 0.5, edgecolor=edgecolor, facecolor=facecolor, lw=lw))\n",
    "\n",
    "plt.show()"
   ],
   "outputs": [
    {
     "data": {
      "text/plain": [
       "<Figure size 600x400 with 1 Axes>"
      ],
      "image/svg+xml": "<?xml version=\"1.0\" encoding=\"utf-8\" standalone=\"no\"?>\n<!DOCTYPE svg PUBLIC \"-//W3C//DTD SVG 1.1//EN\"\n  \"http://www.w3.org/Graphics/SVG/1.1/DTD/svg11.dtd\">\n<svg xmlns:xlink=\"http://www.w3.org/1999/xlink\" width=\"349.2pt\" height=\"236.16pt\" viewBox=\"0 0 349.2 236.16\" xmlns=\"http://www.w3.org/2000/svg\" version=\"1.1\">\n <metadata>\n  <rdf:RDF xmlns:dc=\"http://purl.org/dc/elements/1.1/\" xmlns:cc=\"http://creativecommons.org/ns#\" xmlns:rdf=\"http://www.w3.org/1999/02/22-rdf-syntax-ns#\">\n   <cc:Work>\n    <dc:type rdf:resource=\"http://purl.org/dc/dcmitype/StillImage\"/>\n    <dc:date>2025-03-15T11:53:26.026246</dc:date>\n    <dc:format>image/svg+xml</dc:format>\n    <dc:creator>\n     <cc:Agent>\n      <dc:title>Matplotlib v3.10.0, https://matplotlib.org/</dc:title>\n     </cc:Agent>\n    </dc:creator>\n   </cc:Work>\n  </rdf:RDF>\n </metadata>\n <defs>\n  <style type=\"text/css\">*{stroke-linejoin: round; stroke-linecap: butt}</style>\n </defs>\n <g id=\"figure_1\">\n  <g id=\"patch_1\">\n   <path d=\"M 0 236.16 \nL 349.2 236.16 \nL 349.2 0 \nL 0 0 \nz\n\" style=\"fill: #ffffff\"/>\n  </g>\n  <g id=\"axes_1\">\n   <g id=\"patch_2\">\n    <path d=\"M 7.2 228.96 \nL 342 228.96 \nL 342 7.2 \nL 7.2 7.2 \nz\n\" style=\"fill: #ffffff\"/>\n   </g>\n   <g id=\"patch_3\">\n    <path d=\"M 230.4 118.08 \nC 237.799166 118.08 244.896278 115.159246 250.128279 109.961 \nC 255.36028 104.762754 258.3 97.71143 258.3 90.36 \nC 258.3 83.00857 255.36028 75.957246 250.128279 70.759 \nC 244.896278 65.560754 237.799166 62.64 230.4 62.64 \nC 223.000834 62.64 215.903722 65.560754 210.671721 70.759 \nC 205.43972 75.957246 202.5 83.00857 202.5 90.36 \nC 202.5 97.71143 205.43972 104.762754 210.671721 109.961 \nC 215.903722 115.159246 223.000834 118.08 230.4 118.08 \nz\n\" clip-path=\"url(#p5fbc9a3ca5)\" style=\"fill: #969696; stroke: #000000; stroke-width: 2; stroke-linejoin: miter\"/>\n   </g>\n   <g id=\"matplotlib.axis_1\"/>\n   <g id=\"matplotlib.axis_2\"/>\n  </g>\n </g>\n <defs>\n  <clipPath id=\"p5fbc9a3ca5\">\n   <rect x=\"7.2\" y=\"7.2\" width=\"334.8\" height=\"221.76\"/>\n  </clipPath>\n </defs>\n</svg>\n"
     },
     "metadata": {},
     "output_type": "display_data"
    }
   ],
   "execution_count": 6
  },
  {
   "cell_type": "code",
   "metadata": {
    "ExecuteTime": {
     "end_time": "2025-03-15T10:53:26.054187Z",
     "start_time": "2025-03-15T10:53:26.038239Z"
    }
   },
   "source": [
    "\n",
    "fig, ax = plt.subplots(figsize=(6, 4))\n",
    "\n",
    "ax.set_xlim(0,6)\n",
    "ax.set_ylim(0,4)\n",
    "\n",
    "ax.spines[:].set_visible(False)    \n",
    "ax.set_xticks([])\n",
    "ax.set_yticks([])\n",
    "\n",
    "# ax.add_artist(patches.Circle((4, 2.5), 0.5, edgecolor='black', facecolor=greys[2], lw=2))\n",
    "ax.add_artist(patches.Rectangle((3.5, 2.0), 1, 1,\n",
    "                edgecolor = edgecolor,\n",
    "                facecolor = facecolor,\n",
    "                fill=True,\n",
    "                lw=lw))\n",
    "\n",
    "#display plot\n",
    "plt.show()"
   ],
   "outputs": [
    {
     "data": {
      "text/plain": [
       "<Figure size 600x400 with 1 Axes>"
      ],
      "image/svg+xml": "<?xml version=\"1.0\" encoding=\"utf-8\" standalone=\"no\"?>\n<!DOCTYPE svg PUBLIC \"-//W3C//DTD SVG 1.1//EN\"\n  \"http://www.w3.org/Graphics/SVG/1.1/DTD/svg11.dtd\">\n<svg xmlns:xlink=\"http://www.w3.org/1999/xlink\" width=\"349.2pt\" height=\"236.16pt\" viewBox=\"0 0 349.2 236.16\" xmlns=\"http://www.w3.org/2000/svg\" version=\"1.1\">\n <metadata>\n  <rdf:RDF xmlns:dc=\"http://purl.org/dc/elements/1.1/\" xmlns:cc=\"http://creativecommons.org/ns#\" xmlns:rdf=\"http://www.w3.org/1999/02/22-rdf-syntax-ns#\">\n   <cc:Work>\n    <dc:type rdf:resource=\"http://purl.org/dc/dcmitype/StillImage\"/>\n    <dc:date>2025-03-15T11:53:26.048603</dc:date>\n    <dc:format>image/svg+xml</dc:format>\n    <dc:creator>\n     <cc:Agent>\n      <dc:title>Matplotlib v3.10.0, https://matplotlib.org/</dc:title>\n     </cc:Agent>\n    </dc:creator>\n   </cc:Work>\n  </rdf:RDF>\n </metadata>\n <defs>\n  <style type=\"text/css\">*{stroke-linejoin: round; stroke-linecap: butt}</style>\n </defs>\n <g id=\"figure_1\">\n  <g id=\"patch_1\">\n   <path d=\"M 0 236.16 \nL 349.2 236.16 \nL 349.2 0 \nL 0 0 \nz\n\" style=\"fill: #ffffff\"/>\n  </g>\n  <g id=\"axes_1\">\n   <g id=\"patch_2\">\n    <path d=\"M 7.2 228.96 \nL 342 228.96 \nL 342 7.2 \nL 7.2 7.2 \nz\n\" style=\"fill: #ffffff\"/>\n   </g>\n   <g id=\"patch_3\">\n    <path d=\"M 202.5 118.08 \nL 258.3 118.08 \nL 258.3 62.64 \nL 202.5 62.64 \nz\n\" clip-path=\"url(#p0de65646ad)\" style=\"fill: #969696; stroke: #000000; stroke-width: 2; stroke-linejoin: miter\"/>\n   </g>\n   <g id=\"matplotlib.axis_1\"/>\n   <g id=\"matplotlib.axis_2\"/>\n  </g>\n </g>\n <defs>\n  <clipPath id=\"p0de65646ad\">\n   <rect x=\"7.2\" y=\"7.2\" width=\"334.8\" height=\"221.76\"/>\n  </clipPath>\n </defs>\n</svg>\n"
     },
     "metadata": {},
     "output_type": "display_data"
    }
   ],
   "execution_count": 7
  },
  {
   "cell_type": "code",
   "metadata": {
    "ExecuteTime": {
     "end_time": "2025-03-15T10:53:26.084379Z",
     "start_time": "2025-03-15T10:53:26.070591Z"
    }
   },
   "source": [
    "fig, ax = plt.subplots(figsize=(6, 4))\n",
    "\n",
    "ax.set_xlim(0,6)\n",
    "ax.set_ylim(0,4)\n",
    "\n",
    "ax.spines[:].set_visible(False)    \n",
    "ax.set_xticks([])\n",
    "ax.set_yticks([])\n",
    "\n",
    "# Create the vertices of a triangle\n",
    "triangle_vertices = [(3.5, 2.0), (4.0, 3.0), (4.5, 2.0)]\n",
    "triangle = patches.Polygon(triangle_vertices, closed=True, edgecolor='black', facecolor=greys[2], lw=2)\n",
    "ax.add_artist(triangle)\n",
    "\n",
    "plt.show()"
   ],
   "outputs": [
    {
     "data": {
      "text/plain": [
       "<Figure size 600x400 with 1 Axes>"
      ],
      "image/svg+xml": "<?xml version=\"1.0\" encoding=\"utf-8\" standalone=\"no\"?>\n<!DOCTYPE svg PUBLIC \"-//W3C//DTD SVG 1.1//EN\"\n  \"http://www.w3.org/Graphics/SVG/1.1/DTD/svg11.dtd\">\n<svg xmlns:xlink=\"http://www.w3.org/1999/xlink\" width=\"349.2pt\" height=\"236.16pt\" viewBox=\"0 0 349.2 236.16\" xmlns=\"http://www.w3.org/2000/svg\" version=\"1.1\">\n <metadata>\n  <rdf:RDF xmlns:dc=\"http://purl.org/dc/elements/1.1/\" xmlns:cc=\"http://creativecommons.org/ns#\" xmlns:rdf=\"http://www.w3.org/1999/02/22-rdf-syntax-ns#\">\n   <cc:Work>\n    <dc:type rdf:resource=\"http://purl.org/dc/dcmitype/StillImage\"/>\n    <dc:date>2025-03-15T11:53:26.080968</dc:date>\n    <dc:format>image/svg+xml</dc:format>\n    <dc:creator>\n     <cc:Agent>\n      <dc:title>Matplotlib v3.10.0, https://matplotlib.org/</dc:title>\n     </cc:Agent>\n    </dc:creator>\n   </cc:Work>\n  </rdf:RDF>\n </metadata>\n <defs>\n  <style type=\"text/css\">*{stroke-linejoin: round; stroke-linecap: butt}</style>\n </defs>\n <g id=\"figure_1\">\n  <g id=\"patch_1\">\n   <path d=\"M 0 236.16 \nL 349.2 236.16 \nL 349.2 0 \nL 0 0 \nz\n\" style=\"fill: #ffffff\"/>\n  </g>\n  <g id=\"axes_1\">\n   <g id=\"patch_2\">\n    <path d=\"M 7.2 228.96 \nL 342 228.96 \nL 342 7.2 \nL 7.2 7.2 \nz\n\" style=\"fill: #ffffff\"/>\n   </g>\n   <g id=\"patch_3\">\n    <path d=\"M 202.5 118.08 \nL 230.4 62.64 \nL 258.3 118.08 \nz\n\" clip-path=\"url(#p5e2c8b5d73)\" style=\"fill: #969696; stroke: #000000; stroke-width: 2; stroke-linejoin: miter\"/>\n   </g>\n   <g id=\"matplotlib.axis_1\"/>\n   <g id=\"matplotlib.axis_2\"/>\n  </g>\n </g>\n <defs>\n  <clipPath id=\"p5e2c8b5d73\">\n   <rect x=\"7.2\" y=\"7.2\" width=\"334.8\" height=\"221.76\"/>\n  </clipPath>\n </defs>\n</svg>\n"
     },
     "metadata": {},
     "output_type": "display_data"
    }
   ],
   "execution_count": 8
  },
  {
   "cell_type": "code",
   "metadata": {
    "ExecuteTime": {
     "end_time": "2025-03-15T10:53:26.106524Z",
     "start_time": "2025-03-15T10:53:26.092310Z"
    }
   },
   "source": [
    "fig, ax = plt.subplots(figsize=(6, 4))\n",
    "\n",
    "ax.set_xlim(0,6)\n",
    "ax.set_ylim(0,4)\n",
    "\n",
    "ax.spines[:].set_visible(False)    \n",
    "ax.set_xticks([])\n",
    "ax.set_yticks([])\n",
    "\n",
    "# Create the vertices of a star\n",
    "num_points = 5\n",
    "rotation = np.pi / 2 + np.pi / num_points\n",
    "angles = 2 * np.pi * np.arange(num_points) / num_points + rotation\n",
    "inner_ratio = 0.5  # Can adjust to change the shape of the star\n",
    "xy = np.empty((2 * num_points, 2))\n",
    "xy[::2, 0] = 0.5 * np.cos(angles)\n",
    "xy[::2, 1] = 0.5 * np.sin(angles)\n",
    "xy[1::2, 0] = inner_ratio * 0.5 * np.cos(angles + np.pi / num_points)\n",
    "xy[1::2, 1] = inner_ratio * 0.5 * np.sin(angles + np.pi / num_points)\n",
    "# Change the position of the star\n",
    "x_shift = 4.0  # Change this to shift the star horizontally\n",
    "y_shift = 2.5  # Change this to shift the star vertically\n",
    "xy[:, 0] += x_shift\n",
    "xy[:, 1] += y_shift\n",
    "star = patches.Polygon(xy, closed=True, edgecolor='black', facecolor=facecolor, lw=lw)\n",
    "ax.add_artist(star)\n",
    "\n",
    "plt.show()"
   ],
   "outputs": [
    {
     "data": {
      "text/plain": [
       "<Figure size 600x400 with 1 Axes>"
      ],
      "image/svg+xml": "<?xml version=\"1.0\" encoding=\"utf-8\" standalone=\"no\"?>\n<!DOCTYPE svg PUBLIC \"-//W3C//DTD SVG 1.1//EN\"\n  \"http://www.w3.org/Graphics/SVG/1.1/DTD/svg11.dtd\">\n<svg xmlns:xlink=\"http://www.w3.org/1999/xlink\" width=\"349.2pt\" height=\"236.16pt\" viewBox=\"0 0 349.2 236.16\" xmlns=\"http://www.w3.org/2000/svg\" version=\"1.1\">\n <metadata>\n  <rdf:RDF xmlns:dc=\"http://purl.org/dc/elements/1.1/\" xmlns:cc=\"http://creativecommons.org/ns#\" xmlns:rdf=\"http://www.w3.org/1999/02/22-rdf-syntax-ns#\">\n   <cc:Work>\n    <dc:type rdf:resource=\"http://purl.org/dc/dcmitype/StillImage\"/>\n    <dc:date>2025-03-15T11:53:26.102853</dc:date>\n    <dc:format>image/svg+xml</dc:format>\n    <dc:creator>\n     <cc:Agent>\n      <dc:title>Matplotlib v3.10.0, https://matplotlib.org/</dc:title>\n     </cc:Agent>\n    </dc:creator>\n   </cc:Work>\n  </rdf:RDF>\n </metadata>\n <defs>\n  <style type=\"text/css\">*{stroke-linejoin: round; stroke-linecap: butt}</style>\n </defs>\n <g id=\"figure_1\">\n  <g id=\"patch_1\">\n   <path d=\"M 0 236.16 \nL 349.2 236.16 \nL 349.2 0 \nL 0 0 \nz\n\" style=\"fill: #ffffff\"/>\n  </g>\n  <g id=\"axes_1\">\n   <g id=\"patch_2\">\n    <path d=\"M 7.2 228.96 \nL 342 228.96 \nL 342 7.2 \nL 7.2 7.2 \nz\n\" style=\"fill: #ffffff\"/>\n   </g>\n   <g id=\"patch_3\">\n    <path d=\"M 214.000791 67.934049 \nL 217.132762 86.077024 \nL 203.865523 98.925951 \nL 222.200396 101.572976 \nL 230.4 118.08 \nL 238.599604 101.572976 \nL 256.934477 98.925951 \nL 243.667238 86.077024 \nL 246.799209 67.934049 \nL 230.4 76.5 \nz\n\" clip-path=\"url(#p22774037ca)\" style=\"fill: #969696; stroke: #000000; stroke-width: 2; stroke-linejoin: miter\"/>\n   </g>\n   <g id=\"matplotlib.axis_1\"/>\n   <g id=\"matplotlib.axis_2\"/>\n  </g>\n </g>\n <defs>\n  <clipPath id=\"p22774037ca\">\n   <rect x=\"7.2\" y=\"7.2\" width=\"334.8\" height=\"221.76\"/>\n  </clipPath>\n </defs>\n</svg>\n"
     },
     "metadata": {},
     "output_type": "display_data"
    }
   ],
   "execution_count": 9
  },
  {
   "cell_type": "code",
   "metadata": {
    "ExecuteTime": {
     "end_time": "2025-03-15T10:53:26.137298Z",
     "start_time": "2025-03-15T10:53:26.124478Z"
    }
   },
   "source": [
    "fig, ax = plt.subplots(figsize=(6, 4))\n",
    "\n",
    "ax.set_xlim(0,6)\n",
    "ax.set_ylim(0,4)\n",
    "\n",
    "ax.spines[:].set_visible(False)    \n",
    "ax.set_xticks([])\n",
    "ax.set_yticks([])\n",
    "\n",
    "ax.add_artist(patches.Ellipse((4, 2.5), width=0.4, height=1.5, angle=0, facecolor=facecolor, lw=lw, edgecolor=edgecolor))\n",
    "\n",
    "plt.show()"
   ],
   "outputs": [
    {
     "data": {
      "text/plain": [
       "<Figure size 600x400 with 1 Axes>"
      ],
      "image/svg+xml": "<?xml version=\"1.0\" encoding=\"utf-8\" standalone=\"no\"?>\n<!DOCTYPE svg PUBLIC \"-//W3C//DTD SVG 1.1//EN\"\n  \"http://www.w3.org/Graphics/SVG/1.1/DTD/svg11.dtd\">\n<svg xmlns:xlink=\"http://www.w3.org/1999/xlink\" width=\"349.2pt\" height=\"236.16pt\" viewBox=\"0 0 349.2 236.16\" xmlns=\"http://www.w3.org/2000/svg\" version=\"1.1\">\n <metadata>\n  <rdf:RDF xmlns:dc=\"http://purl.org/dc/elements/1.1/\" xmlns:cc=\"http://creativecommons.org/ns#\" xmlns:rdf=\"http://www.w3.org/1999/02/22-rdf-syntax-ns#\">\n   <cc:Work>\n    <dc:type rdf:resource=\"http://purl.org/dc/dcmitype/StillImage\"/>\n    <dc:date>2025-03-15T11:53:26.133172</dc:date>\n    <dc:format>image/svg+xml</dc:format>\n    <dc:creator>\n     <cc:Agent>\n      <dc:title>Matplotlib v3.10.0, https://matplotlib.org/</dc:title>\n     </cc:Agent>\n    </dc:creator>\n   </cc:Work>\n  </rdf:RDF>\n </metadata>\n <defs>\n  <style type=\"text/css\">*{stroke-linejoin: round; stroke-linecap: butt}</style>\n </defs>\n <g id=\"figure_1\">\n  <g id=\"patch_1\">\n   <path d=\"M 0 236.16 \nL 349.2 236.16 \nL 349.2 0 \nL 0 0 \nz\n\" style=\"fill: #ffffff\"/>\n  </g>\n  <g id=\"axes_1\">\n   <g id=\"patch_2\">\n    <path d=\"M 7.2 228.96 \nL 342 228.96 \nL 342 7.2 \nL 7.2 7.2 \nz\n\" style=\"fill: #ffffff\"/>\n   </g>\n   <g id=\"patch_3\">\n    <path d=\"M 230.4 131.94 \nC 233.359667 131.94 236.198511 127.558869 238.291312 119.7615 \nC 240.384112 111.964131 241.56 101.387145 241.56 90.36 \nC 241.56 79.332855 240.384112 68.755869 238.291312 60.9585 \nC 236.198511 53.161131 233.359667 48.78 230.4 48.78 \nC 227.440333 48.78 224.601489 53.161131 222.508688 60.9585 \nC 220.415888 68.755869 219.24 79.332855 219.24 90.36 \nC 219.24 101.387145 220.415888 111.964131 222.508688 119.7615 \nC 224.601489 127.558869 227.440333 131.94 230.4 131.94 \nz\n\" clip-path=\"url(#pfd2228f0d2)\" style=\"fill: #969696; stroke: #000000; stroke-width: 2; stroke-linejoin: miter\"/>\n   </g>\n   <g id=\"matplotlib.axis_1\"/>\n   <g id=\"matplotlib.axis_2\"/>\n  </g>\n </g>\n <defs>\n  <clipPath id=\"pfd2228f0d2\">\n   <rect x=\"7.2\" y=\"7.2\" width=\"334.8\" height=\"221.76\"/>\n  </clipPath>\n </defs>\n</svg>\n"
     },
     "metadata": {},
     "output_type": "display_data"
    }
   ],
   "execution_count": 10
  },
  {
   "cell_type": "code",
   "metadata": {
    "ExecuteTime": {
     "end_time": "2025-03-15T10:53:26.175098Z",
     "start_time": "2025-03-15T10:53:26.154452Z"
    }
   },
   "source": [
    "fig, ax = plt.subplots(figsize=(6, 4))\n",
    "\n",
    "ax.set_xlim(0,6)\n",
    "ax.set_ylim(0,4)\n",
    "\n",
    "ax.spines[:].set_visible(False)    \n",
    "ax.set_xticks([])\n",
    "ax.set_yticks([])\n",
    "\n",
    "ax.add_artist(patches.FancyArrow(0.5, 0.25, 0, 3.5, width=0.05, head_length=0.3, length_includes_head=True, edgecolor='black', facecolor='black', lw=0))\n",
    "# Add a text box\n",
    "ax.text(0.25, 3.5, 'y',\n",
    "        fontsize=16, \n",
    "        fontweight='bold', \n",
    "        color='black', \n",
    "        ha='center', \n",
    "        va='bottom',\n",
    "        bbox=None)\n",
    "\n",
    "ax.add_artist(patches.FancyArrow(0.25, 0.5, 5.5, 0, width=0.05, head_length=0.3, length_includes_head=True, edgecolor='black', facecolor='black', lw=0))\n",
    "\n",
    "ax.text(5.75, 0.25, 'x',\n",
    "        fontsize=16, \n",
    "        fontweight='bold', \n",
    "        color='black', \n",
    "        ha='right', \n",
    "        va='top',\n",
    "        bbox=None)\n",
    "\n",
    "ax.add_artist(patches.Ellipse((4, 2.5), width=0.4, height=1.5, angle=0, facecolor=facecolor, lw=lw, edgecolor=edgecolor))\n",
    "\n",
    "plt.show()"
   ],
   "outputs": [
    {
     "data": {
      "text/plain": [
       "<Figure size 600x400 with 1 Axes>"
      ],
      "image/svg+xml": "<?xml version=\"1.0\" encoding=\"utf-8\" standalone=\"no\"?>\n<!DOCTYPE svg PUBLIC \"-//W3C//DTD SVG 1.1//EN\"\n  \"http://www.w3.org/Graphics/SVG/1.1/DTD/svg11.dtd\">\n<svg xmlns:xlink=\"http://www.w3.org/1999/xlink\" width=\"349.2pt\" height=\"237.785pt\" viewBox=\"0 0 349.2 237.785\" xmlns=\"http://www.w3.org/2000/svg\" version=\"1.1\">\n <metadata>\n  <rdf:RDF xmlns:dc=\"http://purl.org/dc/elements/1.1/\" xmlns:cc=\"http://creativecommons.org/ns#\" xmlns:rdf=\"http://www.w3.org/1999/02/22-rdf-syntax-ns#\">\n   <cc:Work>\n    <dc:type rdf:resource=\"http://purl.org/dc/dcmitype/StillImage\"/>\n    <dc:date>2025-03-15T11:53:26.171216</dc:date>\n    <dc:format>image/svg+xml</dc:format>\n    <dc:creator>\n     <cc:Agent>\n      <dc:title>Matplotlib v3.10.0, https://matplotlib.org/</dc:title>\n     </cc:Agent>\n    </dc:creator>\n   </cc:Work>\n  </rdf:RDF>\n </metadata>\n <defs>\n  <style type=\"text/css\">*{stroke-linejoin: round; stroke-linecap: butt}</style>\n </defs>\n <g id=\"figure_1\">\n  <g id=\"patch_1\">\n   <path d=\"M 0 237.785 \nL 349.2 237.785 \nL 349.2 0 \nL 0 0 \nz\n\" style=\"fill: #ffffff\"/>\n  </g>\n  <g id=\"axes_1\">\n   <g id=\"patch_2\">\n    <path d=\"M 7.2 228.96 \nL 342 228.96 \nL 342 7.2 \nL 7.2 7.2 \nz\n\" style=\"fill: #ffffff\"/>\n   </g>\n   <g id=\"patch_3\">\n    <path d=\"M 35.1 21.06 \nL 39.285 37.692 \nL 36.495 37.692 \nL 36.495 215.1 \nL 33.705 215.1 \nL 33.705 37.692 \nL 30.915 37.692 \nz\n\" clip-path=\"url(#p6b9aca6112)\"/>\n   </g>\n   <g id=\"patch_4\">\n    <path d=\"M 328.05 201.24 \nL 311.31 205.398 \nL 311.31 202.626 \nL 21.15 202.626 \nL 21.15 199.854 \nL 311.31 199.854 \nL 311.31 197.082 \nz\n\" clip-path=\"url(#p6b9aca6112)\"/>\n   </g>\n   <g id=\"patch_5\">\n    <path d=\"M 230.4 131.94 \nC 233.359667 131.94 236.198511 127.558869 238.291312 119.7615 \nC 240.384112 111.964131 241.56 101.387145 241.56 90.36 \nC 241.56 79.332855 240.384112 68.755869 238.291312 60.9585 \nC 236.198511 53.161131 233.359667 48.78 230.4 48.78 \nC 227.440333 48.78 224.601489 53.161131 222.508688 60.9585 \nC 220.415888 68.755869 219.24 79.332855 219.24 90.36 \nC 219.24 101.387145 220.415888 111.964131 222.508688 119.7615 \nC 224.601489 127.558869 227.440333 131.94 230.4 131.94 \nz\n\" clip-path=\"url(#p6b9aca6112)\" style=\"fill: #969696; stroke: #000000; stroke-width: 2; stroke-linejoin: miter\"/>\n   </g>\n   <g id=\"matplotlib.axis_1\"/>\n   <g id=\"matplotlib.axis_2\"/>\n   <g id=\"text_1\">\n    <!-- y -->\n    <g transform=\"translate(15.935 31.4675) scale(0.16 -0.16)\">\n     <defs>\n      <path id=\"DejaVuSans-Bold-79\" d=\"M 78 3500 \nL 1197 3500 \nL 2138 1125 \nL 2938 3500 \nL 4056 3500 \nL 2584 -331 \nQ 2363 -916 2067 -1148 \nQ 1772 -1381 1288 -1381 \nL 641 -1381 \nL 641 -647 \nL 991 -647 \nQ 1275 -647 1404 -556 \nQ 1534 -466 1606 -231 \nL 1638 -134 \nL 78 3500 \nz\n\" transform=\"scale(0.015625)\"/>\n     </defs>\n     <use xlink:href=\"#DejaVuSans-Bold-79\"/>\n    </g>\n   </g>\n   <g id=\"text_2\">\n    <!-- x -->\n    <g transform=\"translate(317.73 227.2575) scale(0.16 -0.16)\">\n     <defs>\n      <path id=\"DejaVuSans-Bold-78\" d=\"M 1422 1791 \nL 159 3500 \nL 1344 3500 \nL 2059 2463 \nL 2784 3500 \nL 3969 3500 \nL 2706 1797 \nL 4031 0 \nL 2847 0 \nL 2059 1106 \nL 1281 0 \nL 97 0 \nL 1422 1791 \nz\n\" transform=\"scale(0.015625)\"/>\n     </defs>\n     <use xlink:href=\"#DejaVuSans-Bold-78\"/>\n    </g>\n   </g>\n  </g>\n </g>\n <defs>\n  <clipPath id=\"p6b9aca6112\">\n   <rect x=\"7.2\" y=\"7.2\" width=\"334.8\" height=\"221.76\"/>\n  </clipPath>\n </defs>\n</svg>\n"
     },
     "metadata": {},
     "output_type": "display_data"
    }
   ],
   "execution_count": 11
  },
  {
   "cell_type": "code",
   "metadata": {
    "ExecuteTime": {
     "end_time": "2025-03-15T10:53:26.202661Z",
     "start_time": "2025-03-15T10:53:26.184753Z"
    }
   },
   "source": [
    "fig, ax = plt.subplots(figsize=(6, 4))\n",
    "\n",
    "ax.set_xlim(0,6)\n",
    "ax.set_ylim(0,4)\n",
    "\n",
    "ax.spines[:].set_visible(False)    \n",
    "ax.set_xticks([])\n",
    "ax.set_yticks([])\n",
    "\n",
    "ax.add_artist(patches.FancyArrow(0.5, 0.25, 0, 3.5, width=0.05, head_length=0.3, length_includes_head=True, edgecolor='black', facecolor='black', lw=0))\n",
    "# Add a text box\n",
    "ax.text(0.25, 3.5, 'y',\n",
    "        fontsize=16, \n",
    "        fontweight='bold', \n",
    "        color='black', \n",
    "        ha='center', \n",
    "        va='bottom',\n",
    "        bbox=None)\n",
    "\n",
    "ax.add_artist(patches.FancyArrow(0.25, 0.5, 5.5, 0, width=0.05, head_length=0.3, length_includes_head=True, edgecolor='black', facecolor='black', lw=0))\n",
    "\n",
    "ax.text(5.75, 0.25, 'x',\n",
    "        fontsize=16, \n",
    "        fontweight='bold', \n",
    "        color='black', \n",
    "        ha='right', \n",
    "        va='top',\n",
    "        bbox=None)\n",
    "\n",
    "ax.add_artist(patches.Ellipse((2, 1.5), width=0.4, height=1.5, angle=0, facecolor=facecolor, lw=lw, edgecolor=edgecolor))\n",
    "\n",
    "plt.show()"
   ],
   "outputs": [
    {
     "data": {
      "text/plain": [
       "<Figure size 600x400 with 1 Axes>"
      ],
      "image/svg+xml": "<?xml version=\"1.0\" encoding=\"utf-8\" standalone=\"no\"?>\n<!DOCTYPE svg PUBLIC \"-//W3C//DTD SVG 1.1//EN\"\n  \"http://www.w3.org/Graphics/SVG/1.1/DTD/svg11.dtd\">\n<svg xmlns:xlink=\"http://www.w3.org/1999/xlink\" width=\"349.2pt\" height=\"237.785pt\" viewBox=\"0 0 349.2 237.785\" xmlns=\"http://www.w3.org/2000/svg\" version=\"1.1\">\n <metadata>\n  <rdf:RDF xmlns:dc=\"http://purl.org/dc/elements/1.1/\" xmlns:cc=\"http://creativecommons.org/ns#\" xmlns:rdf=\"http://www.w3.org/1999/02/22-rdf-syntax-ns#\">\n   <cc:Work>\n    <dc:type rdf:resource=\"http://purl.org/dc/dcmitype/StillImage\"/>\n    <dc:date>2025-03-15T11:53:26.197339</dc:date>\n    <dc:format>image/svg+xml</dc:format>\n    <dc:creator>\n     <cc:Agent>\n      <dc:title>Matplotlib v3.10.0, https://matplotlib.org/</dc:title>\n     </cc:Agent>\n    </dc:creator>\n   </cc:Work>\n  </rdf:RDF>\n </metadata>\n <defs>\n  <style type=\"text/css\">*{stroke-linejoin: round; stroke-linecap: butt}</style>\n </defs>\n <g id=\"figure_1\">\n  <g id=\"patch_1\">\n   <path d=\"M 0 237.785 \nL 349.2 237.785 \nL 349.2 0 \nL 0 0 \nz\n\" style=\"fill: #ffffff\"/>\n  </g>\n  <g id=\"axes_1\">\n   <g id=\"patch_2\">\n    <path d=\"M 7.2 228.96 \nL 342 228.96 \nL 342 7.2 \nL 7.2 7.2 \nz\n\" style=\"fill: #ffffff\"/>\n   </g>\n   <g id=\"patch_3\">\n    <path d=\"M 35.1 21.06 \nL 39.285 37.692 \nL 36.495 37.692 \nL 36.495 215.1 \nL 33.705 215.1 \nL 33.705 37.692 \nL 30.915 37.692 \nz\n\" clip-path=\"url(#pd6db3b3e38)\"/>\n   </g>\n   <g id=\"patch_4\">\n    <path d=\"M 328.05 201.24 \nL 311.31 205.398 \nL 311.31 202.626 \nL 21.15 202.626 \nL 21.15 199.854 \nL 311.31 199.854 \nL 311.31 197.082 \nz\n\" clip-path=\"url(#pd6db3b3e38)\"/>\n   </g>\n   <g id=\"patch_5\">\n    <path d=\"M 118.8 187.38 \nC 121.759667 187.38 124.598511 182.998869 126.691312 175.2015 \nC 128.784112 167.404131 129.96 156.827145 129.96 145.8 \nC 129.96 134.772855 128.784112 124.195869 126.691312 116.3985 \nC 124.598511 108.601131 121.759667 104.22 118.8 104.22 \nC 115.840333 104.22 113.001489 108.601131 110.908688 116.3985 \nC 108.815888 124.195869 107.64 134.772855 107.64 145.8 \nC 107.64 156.827145 108.815888 167.404131 110.908688 175.2015 \nC 113.001489 182.998869 115.840333 187.38 118.8 187.38 \nz\n\" clip-path=\"url(#pd6db3b3e38)\" style=\"fill: #969696; stroke: #000000; stroke-width: 2; stroke-linejoin: miter\"/>\n   </g>\n   <g id=\"matplotlib.axis_1\"/>\n   <g id=\"matplotlib.axis_2\"/>\n   <g id=\"text_1\">\n    <!-- y -->\n    <g transform=\"translate(15.935 31.4675) scale(0.16 -0.16)\">\n     <defs>\n      <path id=\"DejaVuSans-Bold-79\" d=\"M 78 3500 \nL 1197 3500 \nL 2138 1125 \nL 2938 3500 \nL 4056 3500 \nL 2584 -331 \nQ 2363 -916 2067 -1148 \nQ 1772 -1381 1288 -1381 \nL 641 -1381 \nL 641 -647 \nL 991 -647 \nQ 1275 -647 1404 -556 \nQ 1534 -466 1606 -231 \nL 1638 -134 \nL 78 3500 \nz\n\" transform=\"scale(0.015625)\"/>\n     </defs>\n     <use xlink:href=\"#DejaVuSans-Bold-79\"/>\n    </g>\n   </g>\n   <g id=\"text_2\">\n    <!-- x -->\n    <g transform=\"translate(317.73 227.2575) scale(0.16 -0.16)\">\n     <defs>\n      <path id=\"DejaVuSans-Bold-78\" d=\"M 1422 1791 \nL 159 3500 \nL 1344 3500 \nL 2059 2463 \nL 2784 3500 \nL 3969 3500 \nL 2706 1797 \nL 4031 0 \nL 2847 0 \nL 2059 1106 \nL 1281 0 \nL 97 0 \nL 1422 1791 \nz\n\" transform=\"scale(0.015625)\"/>\n     </defs>\n     <use xlink:href=\"#DejaVuSans-Bold-78\"/>\n    </g>\n   </g>\n  </g>\n </g>\n <defs>\n  <clipPath id=\"pd6db3b3e38\">\n   <rect x=\"7.2\" y=\"7.2\" width=\"334.8\" height=\"221.76\"/>\n  </clipPath>\n </defs>\n</svg>\n"
     },
     "metadata": {},
     "output_type": "display_data"
    }
   ],
   "execution_count": 12
  },
  {
   "cell_type": "code",
   "metadata": {
    "ExecuteTime": {
     "end_time": "2025-03-15T10:53:26.225617Z",
     "start_time": "2025-03-15T10:53:26.211754Z"
    }
   },
   "source": [
    "fig, ax = plt.subplots(figsize=(6, 4))\n",
    "\n",
    "ax.set_xlim(0,6)\n",
    "ax.set_ylim(0,4)\n",
    "\n",
    "ax.spines[:].set_visible(False)    \n",
    "ax.set_xticks([])\n",
    "ax.set_yticks([])\n",
    "\n",
    "ax.add_artist(patches.Ellipse((2, 1.5), width=0.4, height=1.5, angle=0, facecolor=facecolor, lw=lw, edgecolor=edgecolor))\n",
    "\n",
    "plt.show()"
   ],
   "outputs": [
    {
     "data": {
      "text/plain": [
       "<Figure size 600x400 with 1 Axes>"
      ],
      "image/svg+xml": "<?xml version=\"1.0\" encoding=\"utf-8\" standalone=\"no\"?>\n<!DOCTYPE svg PUBLIC \"-//W3C//DTD SVG 1.1//EN\"\n  \"http://www.w3.org/Graphics/SVG/1.1/DTD/svg11.dtd\">\n<svg xmlns:xlink=\"http://www.w3.org/1999/xlink\" width=\"349.2pt\" height=\"236.16pt\" viewBox=\"0 0 349.2 236.16\" xmlns=\"http://www.w3.org/2000/svg\" version=\"1.1\">\n <metadata>\n  <rdf:RDF xmlns:dc=\"http://purl.org/dc/elements/1.1/\" xmlns:cc=\"http://creativecommons.org/ns#\" xmlns:rdf=\"http://www.w3.org/1999/02/22-rdf-syntax-ns#\">\n   <cc:Work>\n    <dc:type rdf:resource=\"http://purl.org/dc/dcmitype/StillImage\"/>\n    <dc:date>2025-03-15T11:53:26.222060</dc:date>\n    <dc:format>image/svg+xml</dc:format>\n    <dc:creator>\n     <cc:Agent>\n      <dc:title>Matplotlib v3.10.0, https://matplotlib.org/</dc:title>\n     </cc:Agent>\n    </dc:creator>\n   </cc:Work>\n  </rdf:RDF>\n </metadata>\n <defs>\n  <style type=\"text/css\">*{stroke-linejoin: round; stroke-linecap: butt}</style>\n </defs>\n <g id=\"figure_1\">\n  <g id=\"patch_1\">\n   <path d=\"M 0 236.16 \nL 349.2 236.16 \nL 349.2 0 \nL 0 0 \nz\n\" style=\"fill: #ffffff\"/>\n  </g>\n  <g id=\"axes_1\">\n   <g id=\"patch_2\">\n    <path d=\"M 7.2 228.96 \nL 342 228.96 \nL 342 7.2 \nL 7.2 7.2 \nz\n\" style=\"fill: #ffffff\"/>\n   </g>\n   <g id=\"patch_3\">\n    <path d=\"M 118.8 187.38 \nC 121.759667 187.38 124.598511 182.998869 126.691312 175.2015 \nC 128.784112 167.404131 129.96 156.827145 129.96 145.8 \nC 129.96 134.772855 128.784112 124.195869 126.691312 116.3985 \nC 124.598511 108.601131 121.759667 104.22 118.8 104.22 \nC 115.840333 104.22 113.001489 108.601131 110.908688 116.3985 \nC 108.815888 124.195869 107.64 134.772855 107.64 145.8 \nC 107.64 156.827145 108.815888 167.404131 110.908688 175.2015 \nC 113.001489 182.998869 115.840333 187.38 118.8 187.38 \nz\n\" clip-path=\"url(#pcfecfe2614)\" style=\"fill: #969696; stroke: #000000; stroke-width: 2; stroke-linejoin: miter\"/>\n   </g>\n   <g id=\"matplotlib.axis_1\"/>\n   <g id=\"matplotlib.axis_2\"/>\n  </g>\n </g>\n <defs>\n  <clipPath id=\"pcfecfe2614\">\n   <rect x=\"7.2\" y=\"7.2\" width=\"334.8\" height=\"221.76\"/>\n  </clipPath>\n </defs>\n</svg>\n"
     },
     "metadata": {},
     "output_type": "display_data"
    }
   ],
   "execution_count": 13
  },
  {
   "cell_type": "code",
   "metadata": {
    "ExecuteTime": {
     "end_time": "2025-03-15T10:53:26.252065Z",
     "start_time": "2025-03-15T10:53:26.237465Z"
    }
   },
   "source": [
    "fig, ax = plt.subplots(figsize=(6, 4))\n",
    "\n",
    "ax.set_xlim(0,6)\n",
    "ax.set_ylim(0,4)\n",
    "\n",
    "ax.spines[:].set_visible(False)    \n",
    "ax.set_xticks([])\n",
    "ax.set_yticks([])\n",
    "\n",
    "ax.add_artist(patches.Ellipse((2, 1.5), width=0.4, height=1.5, angle=-20, facecolor=facecolor, lw=lw, edgecolor=edgecolor))\n",
    "\n",
    "plt.show()"
   ],
   "outputs": [
    {
     "data": {
      "text/plain": [
       "<Figure size 600x400 with 1 Axes>"
      ],
      "image/svg+xml": "<?xml version=\"1.0\" encoding=\"utf-8\" standalone=\"no\"?>\n<!DOCTYPE svg PUBLIC \"-//W3C//DTD SVG 1.1//EN\"\n  \"http://www.w3.org/Graphics/SVG/1.1/DTD/svg11.dtd\">\n<svg xmlns:xlink=\"http://www.w3.org/1999/xlink\" width=\"349.2pt\" height=\"236.16pt\" viewBox=\"0 0 349.2 236.16\" xmlns=\"http://www.w3.org/2000/svg\" version=\"1.1\">\n <metadata>\n  <rdf:RDF xmlns:dc=\"http://purl.org/dc/elements/1.1/\" xmlns:cc=\"http://creativecommons.org/ns#\" xmlns:rdf=\"http://www.w3.org/1999/02/22-rdf-syntax-ns#\">\n   <cc:Work>\n    <dc:type rdf:resource=\"http://purl.org/dc/dcmitype/StillImage\"/>\n    <dc:date>2025-03-15T11:53:26.246964</dc:date>\n    <dc:format>image/svg+xml</dc:format>\n    <dc:creator>\n     <cc:Agent>\n      <dc:title>Matplotlib v3.10.0, https://matplotlib.org/</dc:title>\n     </cc:Agent>\n    </dc:creator>\n   </cc:Work>\n  </rdf:RDF>\n </metadata>\n <defs>\n  <style type=\"text/css\">*{stroke-linejoin: round; stroke-linecap: butt}</style>\n </defs>\n <g id=\"figure_1\">\n  <g id=\"patch_1\">\n   <path d=\"M 0 236.16 \nL 349.2 236.16 \nL 349.2 0 \nL 0 0 \nz\n\" style=\"fill: #ffffff\"/>\n  </g>\n  <g id=\"axes_1\">\n   <g id=\"patch_2\">\n    <path d=\"M 7.2 228.96 \nL 342 228.96 \nL 342 7.2 \nL 7.2 7.2 \nz\n\" style=\"fill: #ffffff\"/>\n   </g>\n   <g id=\"patch_3\">\n    <path d=\"M 104.486457 184.872419 \nC 107.267634 185.878154 111.443441 182.725915 116.094204 176.109947 \nC 120.744968 169.493979 125.490974 159.954446 129.28697 149.592319 \nC 133.082966 139.230193 135.619025 128.891494 136.336611 120.853202 \nC 137.054196 112.81491 135.89472 107.733316 133.113543 106.727581 \nC 130.332366 105.721846 126.156559 108.874085 121.505796 115.490053 \nC 116.855032 122.106021 112.109026 131.645554 108.31303 142.007681 \nC 104.517034 152.369807 101.980975 162.708506 101.263389 170.746798 \nC 100.545804 178.78509 101.70528 183.866684 104.486457 184.872419 \nz\n\" clip-path=\"url(#p23fb2151b5)\" style=\"fill: #969696; stroke: #000000; stroke-width: 2; stroke-linejoin: miter\"/>\n   </g>\n   <g id=\"matplotlib.axis_1\"/>\n   <g id=\"matplotlib.axis_2\"/>\n  </g>\n </g>\n <defs>\n  <clipPath id=\"p23fb2151b5\">\n   <rect x=\"7.2\" y=\"7.2\" width=\"334.8\" height=\"221.76\"/>\n  </clipPath>\n </defs>\n</svg>\n"
     },
     "metadata": {},
     "output_type": "display_data"
    }
   ],
   "execution_count": 14
  },
  {
   "cell_type": "code",
   "metadata": {
    "ExecuteTime": {
     "end_time": "2025-03-15T10:53:26.282525Z",
     "start_time": "2025-03-15T10:53:26.266483Z"
    }
   },
   "source": [
    "fig, ax = plt.subplots(figsize=(6, 4))\n",
    "\n",
    "ax.set_xlim(0,6)\n",
    "ax.set_ylim(0,4)\n",
    "\n",
    "ax.spines[:].set_visible(False)    \n",
    "ax.set_xticks([])\n",
    "ax.set_yticks([])\n",
    "\n",
    "ax.add_artist(patches.Ellipse((2, 1.5), width=0.4, height=1.5, angle=-45, facecolor=facecolor, lw=lw, edgecolor=edgecolor))\n",
    "\n",
    "plt.show()"
   ],
   "outputs": [
    {
     "data": {
      "text/plain": [
       "<Figure size 600x400 with 1 Axes>"
      ],
      "image/svg+xml": "<?xml version=\"1.0\" encoding=\"utf-8\" standalone=\"no\"?>\n<!DOCTYPE svg PUBLIC \"-//W3C//DTD SVG 1.1//EN\"\n  \"http://www.w3.org/Graphics/SVG/1.1/DTD/svg11.dtd\">\n<svg xmlns:xlink=\"http://www.w3.org/1999/xlink\" width=\"349.2pt\" height=\"236.16pt\" viewBox=\"0 0 349.2 236.16\" xmlns=\"http://www.w3.org/2000/svg\" version=\"1.1\">\n <metadata>\n  <rdf:RDF xmlns:dc=\"http://purl.org/dc/elements/1.1/\" xmlns:cc=\"http://creativecommons.org/ns#\" xmlns:rdf=\"http://www.w3.org/1999/02/22-rdf-syntax-ns#\">\n   <cc:Work>\n    <dc:type rdf:resource=\"http://purl.org/dc/dcmitype/StillImage\"/>\n    <dc:date>2025-03-15T11:53:26.277547</dc:date>\n    <dc:format>image/svg+xml</dc:format>\n    <dc:creator>\n     <cc:Agent>\n      <dc:title>Matplotlib v3.10.0, https://matplotlib.org/</dc:title>\n     </cc:Agent>\n    </dc:creator>\n   </cc:Work>\n  </rdf:RDF>\n </metadata>\n <defs>\n  <style type=\"text/css\">*{stroke-linejoin: round; stroke-linecap: butt}</style>\n </defs>\n <g id=\"figure_1\">\n  <g id=\"patch_1\">\n   <path d=\"M 0 236.16 \nL 349.2 236.16 \nL 349.2 0 \nL 0 0 \nz\n\" style=\"fill: #ffffff\"/>\n  </g>\n  <g id=\"axes_1\">\n   <g id=\"patch_2\">\n    <path d=\"M 7.2 228.96 \nL 342 228.96 \nL 342 7.2 \nL 7.2 7.2 \nz\n\" style=\"fill: #ffffff\"/>\n   </g>\n   <g id=\"patch_3\">\n    <path d=\"M 89.207581 175.2015 \nC 91.300382 177.280798 96.425792 176.177286 103.455 172.134 \nC 110.484208 168.090714 118.84331 161.437769 126.691312 153.6404 \nC 134.539313 145.843031 141.235458 137.537858 145.305 130.554 \nC 149.374542 123.570142 150.485219 118.477798 148.392419 116.3985 \nC 146.299618 114.319202 141.174208 115.422714 134.145 119.466 \nC 127.115792 123.509286 118.75669 130.162231 110.908688 137.9596 \nC 103.060687 145.756969 96.364542 154.062142 92.295 161.046 \nC 88.225458 168.029858 87.114781 173.122202 89.207581 175.2015 \nz\n\" clip-path=\"url(#pdb93d4d546)\" style=\"fill: #969696; stroke: #000000; stroke-width: 2; stroke-linejoin: miter\"/>\n   </g>\n   <g id=\"matplotlib.axis_1\"/>\n   <g id=\"matplotlib.axis_2\"/>\n  </g>\n </g>\n <defs>\n  <clipPath id=\"pdb93d4d546\">\n   <rect x=\"7.2\" y=\"7.2\" width=\"334.8\" height=\"221.76\"/>\n  </clipPath>\n </defs>\n</svg>\n"
     },
     "metadata": {},
     "output_type": "display_data"
    }
   ],
   "execution_count": 15
  },
  {
   "cell_type": "code",
   "metadata": {
    "ExecuteTime": {
     "end_time": "2025-03-15T10:53:26.310325Z",
     "start_time": "2025-03-15T10:53:26.296545Z"
    }
   },
   "source": [
    "fig, ax = plt.subplots(figsize=(6, 4))\n",
    "\n",
    "ax.set_xlim(0,6)\n",
    "ax.set_ylim(0,4)\n",
    "\n",
    "ax.spines[:].set_visible(False)    \n",
    "ax.set_xticks([])\n",
    "ax.set_yticks([])\n",
    "\n",
    "ax.add_artist(patches.Ellipse((2, 1.5), width=0.4, height=1.5, angle=-90, facecolor=facecolor, lw=lw, edgecolor=edgecolor))\n",
    "\n",
    "plt.show()"
   ],
   "outputs": [
    {
     "data": {
      "text/plain": [
       "<Figure size 600x400 with 1 Axes>"
      ],
      "image/svg+xml": "<?xml version=\"1.0\" encoding=\"utf-8\" standalone=\"no\"?>\n<!DOCTYPE svg PUBLIC \"-//W3C//DTD SVG 1.1//EN\"\n  \"http://www.w3.org/Graphics/SVG/1.1/DTD/svg11.dtd\">\n<svg xmlns:xlink=\"http://www.w3.org/1999/xlink\" width=\"349.2pt\" height=\"236.16pt\" viewBox=\"0 0 349.2 236.16\" xmlns=\"http://www.w3.org/2000/svg\" version=\"1.1\">\n <metadata>\n  <rdf:RDF xmlns:dc=\"http://purl.org/dc/elements/1.1/\" xmlns:cc=\"http://creativecommons.org/ns#\" xmlns:rdf=\"http://www.w3.org/1999/02/22-rdf-syntax-ns#\">\n   <cc:Work>\n    <dc:type rdf:resource=\"http://purl.org/dc/dcmitype/StillImage\"/>\n    <dc:date>2025-03-15T11:53:26.305397</dc:date>\n    <dc:format>image/svg+xml</dc:format>\n    <dc:creator>\n     <cc:Agent>\n      <dc:title>Matplotlib v3.10.0, https://matplotlib.org/</dc:title>\n     </cc:Agent>\n    </dc:creator>\n   </cc:Work>\n  </rdf:RDF>\n </metadata>\n <defs>\n  <style type=\"text/css\">*{stroke-linejoin: round; stroke-linecap: butt}</style>\n </defs>\n <g id=\"figure_1\">\n  <g id=\"patch_1\">\n   <path d=\"M 0 236.16 \nL 349.2 236.16 \nL 349.2 0 \nL 0 0 \nz\n\" style=\"fill: #ffffff\"/>\n  </g>\n  <g id=\"axes_1\">\n   <g id=\"patch_2\">\n    <path d=\"M 7.2 228.96 \nL 342 228.96 \nL 342 7.2 \nL 7.2 7.2 \nz\n\" style=\"fill: #ffffff\"/>\n   </g>\n   <g id=\"patch_3\">\n    <path d=\"M 76.95 145.8 \nC 76.95 148.740572 81.35958 151.561102 89.207581 153.6404 \nC 97.055582 155.719698 107.70125 156.888 118.8 156.888 \nC 129.89875 156.888 140.544418 155.719698 148.392419 153.6404 \nC 156.24042 151.561102 160.65 148.740572 160.65 145.8 \nC 160.65 142.859428 156.24042 140.038898 148.392419 137.9596 \nC 140.544418 135.880302 129.89875 134.712 118.8 134.712 \nC 107.70125 134.712 97.055582 135.880302 89.207581 137.9596 \nC 81.35958 140.038898 76.95 142.859428 76.95 145.8 \nz\n\" clip-path=\"url(#p5432c3ff77)\" style=\"fill: #969696; stroke: #000000; stroke-width: 2; stroke-linejoin: miter\"/>\n   </g>\n   <g id=\"matplotlib.axis_1\"/>\n   <g id=\"matplotlib.axis_2\"/>\n  </g>\n </g>\n <defs>\n  <clipPath id=\"p5432c3ff77\">\n   <rect x=\"7.2\" y=\"7.2\" width=\"334.8\" height=\"221.76\"/>\n  </clipPath>\n </defs>\n</svg>\n"
     },
     "metadata": {},
     "output_type": "display_data"
    }
   ],
   "execution_count": 16
  },
  {
   "cell_type": "code",
   "metadata": {
    "ExecuteTime": {
     "end_time": "2025-03-15T10:53:26.339121Z",
     "start_time": "2025-03-15T10:53:26.325157Z"
    }
   },
   "source": [
    "fig, ax = plt.subplots(figsize=(6, 4))\n",
    "\n",
    "ax.set_xlim(0,6)\n",
    "ax.set_ylim(0,4)\n",
    "\n",
    "ax.spines[:].set_visible(False)    \n",
    "ax.set_xticks([])\n",
    "ax.set_yticks([])\n",
    "\n",
    "ax.add_artist(patches.Ellipse((2, 1.5), width=0.6, height=1.7, angle=-90, facecolor=facecolor, lw=lw, edgecolor=edgecolor))\n",
    "\n",
    "plt.show()"
   ],
   "outputs": [
    {
     "data": {
      "text/plain": [
       "<Figure size 600x400 with 1 Axes>"
      ],
      "image/svg+xml": "<?xml version=\"1.0\" encoding=\"utf-8\" standalone=\"no\"?>\n<!DOCTYPE svg PUBLIC \"-//W3C//DTD SVG 1.1//EN\"\n  \"http://www.w3.org/Graphics/SVG/1.1/DTD/svg11.dtd\">\n<svg xmlns:xlink=\"http://www.w3.org/1999/xlink\" width=\"349.2pt\" height=\"236.16pt\" viewBox=\"0 0 349.2 236.16\" xmlns=\"http://www.w3.org/2000/svg\" version=\"1.1\">\n <metadata>\n  <rdf:RDF xmlns:dc=\"http://purl.org/dc/elements/1.1/\" xmlns:cc=\"http://creativecommons.org/ns#\" xmlns:rdf=\"http://www.w3.org/1999/02/22-rdf-syntax-ns#\">\n   <cc:Work>\n    <dc:type rdf:resource=\"http://purl.org/dc/dcmitype/StillImage\"/>\n    <dc:date>2025-03-15T11:53:26.335308</dc:date>\n    <dc:format>image/svg+xml</dc:format>\n    <dc:creator>\n     <cc:Agent>\n      <dc:title>Matplotlib v3.10.0, https://matplotlib.org/</dc:title>\n     </cc:Agent>\n    </dc:creator>\n   </cc:Work>\n  </rdf:RDF>\n </metadata>\n <defs>\n  <style type=\"text/css\">*{stroke-linejoin: round; stroke-linecap: butt}</style>\n </defs>\n <g id=\"figure_1\">\n  <g id=\"patch_1\">\n   <path d=\"M 0 236.16 \nL 349.2 236.16 \nL 349.2 0 \nL 0 0 \nz\n\" style=\"fill: #ffffff\"/>\n  </g>\n  <g id=\"axes_1\">\n   <g id=\"patch_2\">\n    <path d=\"M 7.2 228.96 \nL 342 228.96 \nL 342 7.2 \nL 7.2 7.2 \nz\n\" style=\"fill: #ffffff\"/>\n   </g>\n   <g id=\"patch_3\">\n    <path d=\"M 71.37 145.8 \nC 71.37 150.210858 76.367524 154.441652 85.261925 157.5606 \nC 94.156327 160.679548 106.221417 162.432 118.8 162.432 \nC 131.378583 162.432 143.443673 160.679548 152.338075 157.5606 \nC 161.232476 154.441652 166.23 150.210858 166.23 145.8 \nC 166.23 141.389142 161.232476 137.158348 152.338075 134.0394 \nC 143.443673 130.920452 131.378583 129.168 118.8 129.168 \nC 106.221417 129.168 94.156327 130.920452 85.261925 134.0394 \nC 76.367524 137.158348 71.37 141.389142 71.37 145.8 \nz\n\" clip-path=\"url(#pae39ebcfb3)\" style=\"fill: #969696; stroke: #000000; stroke-width: 2; stroke-linejoin: miter\"/>\n   </g>\n   <g id=\"matplotlib.axis_1\"/>\n   <g id=\"matplotlib.axis_2\"/>\n  </g>\n </g>\n <defs>\n  <clipPath id=\"pae39ebcfb3\">\n   <rect x=\"7.2\" y=\"7.2\" width=\"334.8\" height=\"221.76\"/>\n  </clipPath>\n </defs>\n</svg>\n"
     },
     "metadata": {},
     "output_type": "display_data"
    }
   ],
   "execution_count": 17
  },
  {
   "cell_type": "code",
   "metadata": {
    "ExecuteTime": {
     "end_time": "2025-03-15T10:53:26.385050Z",
     "start_time": "2025-03-15T10:53:26.359408Z"
    }
   },
   "source": [
    "fig, ax = plt.subplots(figsize=(6, 4))\n",
    "\n",
    "ax.set_xlim(0,6)\n",
    "ax.set_ylim(0,4)\n",
    "\n",
    "ax.spines[:].set_visible(False)    \n",
    "ax.set_xticks([])\n",
    "ax.set_yticks([])\n",
    "\n",
    "ax.add_artist(patches.Ellipse((2, 1.5), width=1.0, height=2.5, angle=-90, facecolor=facecolor, lw=lw, edgecolor=edgecolor))\n",
    "plt.show()"
   ],
   "outputs": [
    {
     "data": {
      "text/plain": [
       "<Figure size 600x400 with 1 Axes>"
      ],
      "image/svg+xml": "<?xml version=\"1.0\" encoding=\"utf-8\" standalone=\"no\"?>\n<!DOCTYPE svg PUBLIC \"-//W3C//DTD SVG 1.1//EN\"\n  \"http://www.w3.org/Graphics/SVG/1.1/DTD/svg11.dtd\">\n<svg xmlns:xlink=\"http://www.w3.org/1999/xlink\" width=\"349.2pt\" height=\"236.16pt\" viewBox=\"0 0 349.2 236.16\" xmlns=\"http://www.w3.org/2000/svg\" version=\"1.1\">\n <metadata>\n  <rdf:RDF xmlns:dc=\"http://purl.org/dc/elements/1.1/\" xmlns:cc=\"http://creativecommons.org/ns#\" xmlns:rdf=\"http://www.w3.org/1999/02/22-rdf-syntax-ns#\">\n   <cc:Work>\n    <dc:type rdf:resource=\"http://purl.org/dc/dcmitype/StillImage\"/>\n    <dc:date>2025-03-15T11:53:26.381323</dc:date>\n    <dc:format>image/svg+xml</dc:format>\n    <dc:creator>\n     <cc:Agent>\n      <dc:title>Matplotlib v3.10.0, https://matplotlib.org/</dc:title>\n     </cc:Agent>\n    </dc:creator>\n   </cc:Work>\n  </rdf:RDF>\n </metadata>\n <defs>\n  <style type=\"text/css\">*{stroke-linejoin: round; stroke-linecap: butt}</style>\n </defs>\n <g id=\"figure_1\">\n  <g id=\"patch_1\">\n   <path d=\"M 0 236.16 \nL 349.2 236.16 \nL 349.2 0 \nL 0 0 \nz\n\" style=\"fill: #ffffff\"/>\n  </g>\n  <g id=\"axes_1\">\n   <g id=\"patch_2\">\n    <path d=\"M 7.2 228.96 \nL 342 228.96 \nL 342 7.2 \nL 7.2 7.2 \nz\n\" style=\"fill: #ffffff\"/>\n   </g>\n   <g id=\"patch_3\">\n    <path d=\"M 49.05 145.8 \nC 49.05 153.15143 56.3993 160.202754 69.479302 165.401 \nC 82.559304 170.599246 100.302084 173.52 118.8 173.52 \nC 137.297916 173.52 155.040696 170.599246 168.120698 165.401 \nC 181.2007 160.202754 188.55 153.15143 188.55 145.8 \nC 188.55 138.44857 181.2007 131.397246 168.120698 126.199 \nC 155.040696 121.000754 137.297916 118.08 118.8 118.08 \nC 100.302084 118.08 82.559304 121.000754 69.479302 126.199 \nC 56.3993 131.397246 49.05 138.44857 49.05 145.8 \nz\n\" clip-path=\"url(#p97551b0827)\" style=\"fill: #969696; stroke: #000000; stroke-width: 2; stroke-linejoin: miter\"/>\n   </g>\n   <g id=\"matplotlib.axis_1\"/>\n   <g id=\"matplotlib.axis_2\"/>\n  </g>\n </g>\n <defs>\n  <clipPath id=\"p97551b0827\">\n   <rect x=\"7.2\" y=\"7.2\" width=\"334.8\" height=\"221.76\"/>\n  </clipPath>\n </defs>\n</svg>\n"
     },
     "metadata": {},
     "output_type": "display_data"
    }
   ],
   "execution_count": 18
  },
  {
   "cell_type": "code",
   "metadata": {
    "ExecuteTime": {
     "end_time": "2025-03-15T10:53:26.409435Z",
     "start_time": "2025-03-15T10:53:26.396845Z"
    }
   },
   "source": [
    "fig, ax = plt.subplots(figsize=(6, 4))\n",
    "\n",
    "ax.set_xlim(0,6)\n",
    "ax.set_ylim(0,4)\n",
    "\n",
    "ax.spines[:].set_visible(False)    \n",
    "ax.set_xticks([])\n",
    "ax.set_yticks([])\n",
    "\n",
    "ax.add_artist(patches.Ellipse((2, 1.5), width=1.5, height=3.5, angle=-90, facecolor=facecolor, lw=lw, edgecolor=edgecolor))\n",
    "plt.show()"
   ],
   "outputs": [
    {
     "data": {
      "text/plain": [
       "<Figure size 600x400 with 1 Axes>"
      ],
      "image/svg+xml": "<?xml version=\"1.0\" encoding=\"utf-8\" standalone=\"no\"?>\n<!DOCTYPE svg PUBLIC \"-//W3C//DTD SVG 1.1//EN\"\n  \"http://www.w3.org/Graphics/SVG/1.1/DTD/svg11.dtd\">\n<svg xmlns:xlink=\"http://www.w3.org/1999/xlink\" width=\"349.2pt\" height=\"236.16pt\" viewBox=\"0 0 349.2 236.16\" xmlns=\"http://www.w3.org/2000/svg\" version=\"1.1\">\n <metadata>\n  <rdf:RDF xmlns:dc=\"http://purl.org/dc/elements/1.1/\" xmlns:cc=\"http://creativecommons.org/ns#\" xmlns:rdf=\"http://www.w3.org/1999/02/22-rdf-syntax-ns#\">\n   <cc:Work>\n    <dc:type rdf:resource=\"http://purl.org/dc/dcmitype/StillImage\"/>\n    <dc:date>2025-03-15T11:53:26.405398</dc:date>\n    <dc:format>image/svg+xml</dc:format>\n    <dc:creator>\n     <cc:Agent>\n      <dc:title>Matplotlib v3.10.0, https://matplotlib.org/</dc:title>\n     </cc:Agent>\n    </dc:creator>\n   </cc:Work>\n  </rdf:RDF>\n </metadata>\n <defs>\n  <style type=\"text/css\">*{stroke-linejoin: round; stroke-linecap: butt}</style>\n </defs>\n <g id=\"figure_1\">\n  <g id=\"patch_1\">\n   <path d=\"M 0 236.16 \nL 349.2 236.16 \nL 349.2 0 \nL 0 0 \nz\n\" style=\"fill: #ffffff\"/>\n  </g>\n  <g id=\"axes_1\">\n   <g id=\"patch_2\">\n    <path d=\"M 7.2 228.96 \nL 342 228.96 \nL 342 7.2 \nL 7.2 7.2 \nz\n\" style=\"fill: #ffffff\"/>\n   </g>\n   <g id=\"patch_3\">\n    <path d=\"M 21.15 145.8 \nC 21.15 156.827145 31.43902 167.404131 49.751023 175.2015 \nC 68.063026 182.998869 92.902917 187.38 118.8 187.38 \nC 144.697083 187.38 169.536974 182.998869 187.848977 175.2015 \nC 206.16098 167.404131 216.45 156.827145 216.45 145.8 \nC 216.45 134.772855 206.16098 124.195869 187.848977 116.3985 \nC 169.536974 108.601131 144.697083 104.22 118.8 104.22 \nC 92.902917 104.22 68.063026 108.601131 49.751023 116.3985 \nC 31.43902 124.195869 21.15 134.772855 21.15 145.8 \nz\n\" clip-path=\"url(#p3ec8eb0698)\" style=\"fill: #969696; stroke: #000000; stroke-width: 2; stroke-linejoin: miter\"/>\n   </g>\n   <g id=\"matplotlib.axis_1\"/>\n   <g id=\"matplotlib.axis_2\"/>\n  </g>\n </g>\n <defs>\n  <clipPath id=\"p3ec8eb0698\">\n   <rect x=\"7.2\" y=\"7.2\" width=\"334.8\" height=\"221.76\"/>\n  </clipPath>\n </defs>\n</svg>\n"
     },
     "metadata": {},
     "output_type": "display_data"
    }
   ],
   "execution_count": 19
  },
  {
   "cell_type": "code",
   "metadata": {
    "ExecuteTime": {
     "end_time": "2025-03-15T10:53:26.436631Z",
     "start_time": "2025-03-15T10:53:26.423275Z"
    }
   },
   "source": [
    "fig, ax = plt.subplots(figsize=(6, 4))\n",
    "\n",
    "ax.set_xlim(0,6)\n",
    "ax.set_ylim(0,4)\n",
    "\n",
    "ax.spines[:].set_visible(False)    \n",
    "ax.set_xticks([])\n",
    "ax.set_yticks([])\n",
    "\n",
    "height = 0.05\n",
    "\n",
    "ax.add_artist(patches.Rectangle((0.5, 2-height/2), height=height, width=5, facecolor='black', lw=0.0))\n",
    "\n",
    "plt.show()"
   ],
   "outputs": [
    {
     "data": {
      "text/plain": [
       "<Figure size 600x400 with 1 Axes>"
      ],
      "image/svg+xml": "<?xml version=\"1.0\" encoding=\"utf-8\" standalone=\"no\"?>\n<!DOCTYPE svg PUBLIC \"-//W3C//DTD SVG 1.1//EN\"\n  \"http://www.w3.org/Graphics/SVG/1.1/DTD/svg11.dtd\">\n<svg xmlns:xlink=\"http://www.w3.org/1999/xlink\" width=\"349.2pt\" height=\"236.16pt\" viewBox=\"0 0 349.2 236.16\" xmlns=\"http://www.w3.org/2000/svg\" version=\"1.1\">\n <metadata>\n  <rdf:RDF xmlns:dc=\"http://purl.org/dc/elements/1.1/\" xmlns:cc=\"http://creativecommons.org/ns#\" xmlns:rdf=\"http://www.w3.org/1999/02/22-rdf-syntax-ns#\">\n   <cc:Work>\n    <dc:type rdf:resource=\"http://purl.org/dc/dcmitype/StillImage\"/>\n    <dc:date>2025-03-15T11:53:26.432180</dc:date>\n    <dc:format>image/svg+xml</dc:format>\n    <dc:creator>\n     <cc:Agent>\n      <dc:title>Matplotlib v3.10.0, https://matplotlib.org/</dc:title>\n     </cc:Agent>\n    </dc:creator>\n   </cc:Work>\n  </rdf:RDF>\n </metadata>\n <defs>\n  <style type=\"text/css\">*{stroke-linejoin: round; stroke-linecap: butt}</style>\n </defs>\n <g id=\"figure_1\">\n  <g id=\"patch_1\">\n   <path d=\"M 0 236.16 \nL 349.2 236.16 \nL 349.2 0 \nL 0 0 \nz\n\" style=\"fill: #ffffff\"/>\n  </g>\n  <g id=\"axes_1\">\n   <g id=\"patch_2\">\n    <path d=\"M 7.2 228.96 \nL 342 228.96 \nL 342 7.2 \nL 7.2 7.2 \nz\n\" style=\"fill: #ffffff\"/>\n   </g>\n   <g id=\"patch_3\">\n    <path d=\"M 35.1 119.466 \nL 314.1 119.466 \nL 314.1 116.694 \nL 35.1 116.694 \nz\n\" clip-path=\"url(#p18fc6e05b0)\"/>\n   </g>\n   <g id=\"matplotlib.axis_1\"/>\n   <g id=\"matplotlib.axis_2\"/>\n  </g>\n </g>\n <defs>\n  <clipPath id=\"p18fc6e05b0\">\n   <rect x=\"7.2\" y=\"7.2\" width=\"334.8\" height=\"221.76\"/>\n  </clipPath>\n </defs>\n</svg>\n"
     },
     "metadata": {},
     "output_type": "display_data"
    }
   ],
   "execution_count": 20
  },
  {
   "cell_type": "code",
   "metadata": {
    "ExecuteTime": {
     "end_time": "2025-03-15T10:53:26.462499Z",
     "start_time": "2025-03-15T10:53:26.447041Z"
    }
   },
   "source": [
    "fig, ax = plt.subplots(figsize=(6, 4))\n",
    "\n",
    "ax.set_xlim(0,6)\n",
    "ax.set_ylim(0,4)\n",
    "\n",
    "ax.spines[:].set_visible(False)    \n",
    "ax.set_xticks([])\n",
    "ax.set_yticks([])\n",
    "\n",
    "height = 0.2\n",
    "\n",
    "ax.add_artist(patches.Rectangle((0.5, 2-height/2), height=height, width=5, facecolor='black', lw=0.0))\n",
    "\n",
    "plt.show()"
   ],
   "outputs": [
    {
     "data": {
      "text/plain": [
       "<Figure size 600x400 with 1 Axes>"
      ],
      "image/svg+xml": "<?xml version=\"1.0\" encoding=\"utf-8\" standalone=\"no\"?>\n<!DOCTYPE svg PUBLIC \"-//W3C//DTD SVG 1.1//EN\"\n  \"http://www.w3.org/Graphics/SVG/1.1/DTD/svg11.dtd\">\n<svg xmlns:xlink=\"http://www.w3.org/1999/xlink\" width=\"349.2pt\" height=\"236.16pt\" viewBox=\"0 0 349.2 236.16\" xmlns=\"http://www.w3.org/2000/svg\" version=\"1.1\">\n <metadata>\n  <rdf:RDF xmlns:dc=\"http://purl.org/dc/elements/1.1/\" xmlns:cc=\"http://creativecommons.org/ns#\" xmlns:rdf=\"http://www.w3.org/1999/02/22-rdf-syntax-ns#\">\n   <cc:Work>\n    <dc:type rdf:resource=\"http://purl.org/dc/dcmitype/StillImage\"/>\n    <dc:date>2025-03-15T11:53:26.458950</dc:date>\n    <dc:format>image/svg+xml</dc:format>\n    <dc:creator>\n     <cc:Agent>\n      <dc:title>Matplotlib v3.10.0, https://matplotlib.org/</dc:title>\n     </cc:Agent>\n    </dc:creator>\n   </cc:Work>\n  </rdf:RDF>\n </metadata>\n <defs>\n  <style type=\"text/css\">*{stroke-linejoin: round; stroke-linecap: butt}</style>\n </defs>\n <g id=\"figure_1\">\n  <g id=\"patch_1\">\n   <path d=\"M 0 236.16 \nL 349.2 236.16 \nL 349.2 0 \nL 0 0 \nz\n\" style=\"fill: #ffffff\"/>\n  </g>\n  <g id=\"axes_1\">\n   <g id=\"patch_2\">\n    <path d=\"M 7.2 228.96 \nL 342 228.96 \nL 342 7.2 \nL 7.2 7.2 \nz\n\" style=\"fill: #ffffff\"/>\n   </g>\n   <g id=\"patch_3\">\n    <path d=\"M 35.1 123.624 \nL 314.1 123.624 \nL 314.1 112.536 \nL 35.1 112.536 \nz\n\" clip-path=\"url(#p7a20d6e75e)\"/>\n   </g>\n   <g id=\"matplotlib.axis_1\"/>\n   <g id=\"matplotlib.axis_2\"/>\n  </g>\n </g>\n <defs>\n  <clipPath id=\"p7a20d6e75e\">\n   <rect x=\"7.2\" y=\"7.2\" width=\"334.8\" height=\"221.76\"/>\n  </clipPath>\n </defs>\n</svg>\n"
     },
     "metadata": {},
     "output_type": "display_data"
    }
   ],
   "execution_count": 21
  },
  {
   "cell_type": "code",
   "metadata": {
    "ExecuteTime": {
     "end_time": "2025-03-15T10:53:26.482765Z",
     "start_time": "2025-03-15T10:53:26.469640Z"
    }
   },
   "source": [
    "fig, ax = plt.subplots(figsize=(6, 4))\n",
    "\n",
    "ax.set_xlim(0,6)\n",
    "ax.set_ylim(0,4)\n",
    "\n",
    "ax.spines[:].set_visible(False)    \n",
    "ax.set_xticks([])\n",
    "ax.set_yticks([])\n",
    "\n",
    "height = 1.0\n",
    "\n",
    "ax.add_artist(patches.Rectangle((0.5, 2-height/2), height=height, width=5, facecolor='black', lw=0.0))\n",
    "\n",
    "plt.show()"
   ],
   "outputs": [
    {
     "data": {
      "text/plain": [
       "<Figure size 600x400 with 1 Axes>"
      ],
      "image/svg+xml": "<?xml version=\"1.0\" encoding=\"utf-8\" standalone=\"no\"?>\n<!DOCTYPE svg PUBLIC \"-//W3C//DTD SVG 1.1//EN\"\n  \"http://www.w3.org/Graphics/SVG/1.1/DTD/svg11.dtd\">\n<svg xmlns:xlink=\"http://www.w3.org/1999/xlink\" width=\"349.2pt\" height=\"236.16pt\" viewBox=\"0 0 349.2 236.16\" xmlns=\"http://www.w3.org/2000/svg\" version=\"1.1\">\n <metadata>\n  <rdf:RDF xmlns:dc=\"http://purl.org/dc/elements/1.1/\" xmlns:cc=\"http://creativecommons.org/ns#\" xmlns:rdf=\"http://www.w3.org/1999/02/22-rdf-syntax-ns#\">\n   <cc:Work>\n    <dc:type rdf:resource=\"http://purl.org/dc/dcmitype/StillImage\"/>\n    <dc:date>2025-03-15T11:53:26.479212</dc:date>\n    <dc:format>image/svg+xml</dc:format>\n    <dc:creator>\n     <cc:Agent>\n      <dc:title>Matplotlib v3.10.0, https://matplotlib.org/</dc:title>\n     </cc:Agent>\n    </dc:creator>\n   </cc:Work>\n  </rdf:RDF>\n </metadata>\n <defs>\n  <style type=\"text/css\">*{stroke-linejoin: round; stroke-linecap: butt}</style>\n </defs>\n <g id=\"figure_1\">\n  <g id=\"patch_1\">\n   <path d=\"M 0 236.16 \nL 349.2 236.16 \nL 349.2 0 \nL 0 0 \nz\n\" style=\"fill: #ffffff\"/>\n  </g>\n  <g id=\"axes_1\">\n   <g id=\"patch_2\">\n    <path d=\"M 7.2 228.96 \nL 342 228.96 \nL 342 7.2 \nL 7.2 7.2 \nz\n\" style=\"fill: #ffffff\"/>\n   </g>\n   <g id=\"patch_3\">\n    <path d=\"M 35.1 145.8 \nL 314.1 145.8 \nL 314.1 90.36 \nL 35.1 90.36 \nz\n\" clip-path=\"url(#pb041b08713)\"/>\n   </g>\n   <g id=\"matplotlib.axis_1\"/>\n   <g id=\"matplotlib.axis_2\"/>\n  </g>\n </g>\n <defs>\n  <clipPath id=\"pb041b08713\">\n   <rect x=\"7.2\" y=\"7.2\" width=\"334.8\" height=\"221.76\"/>\n  </clipPath>\n </defs>\n</svg>\n"
     },
     "metadata": {},
     "output_type": "display_data"
    }
   ],
   "execution_count": 22
  },
  {
   "cell_type": "code",
   "metadata": {
    "ExecuteTime": {
     "end_time": "2025-03-15T10:53:26.509649Z",
     "start_time": "2025-03-15T10:53:26.495651Z"
    }
   },
   "source": [
    "fig, ax = plt.subplots(figsize=(6, 4))\n",
    "\n",
    "ax.set_xlim(0,6)\n",
    "ax.set_ylim(0,4)\n",
    "\n",
    "ax.spines[:].set_visible(False)    \n",
    "ax.set_xticks([])\n",
    "ax.set_yticks([])\n",
    "\n",
    "height = 2.0\n",
    "\n",
    "ax.add_artist(patches.Rectangle((0.5, 2-height/2), height=height, width=5, facecolor='black', lw=0.0))\n",
    "\n",
    "plt.show()"
   ],
   "outputs": [
    {
     "data": {
      "text/plain": [
       "<Figure size 600x400 with 1 Axes>"
      ],
      "image/svg+xml": "<?xml version=\"1.0\" encoding=\"utf-8\" standalone=\"no\"?>\n<!DOCTYPE svg PUBLIC \"-//W3C//DTD SVG 1.1//EN\"\n  \"http://www.w3.org/Graphics/SVG/1.1/DTD/svg11.dtd\">\n<svg xmlns:xlink=\"http://www.w3.org/1999/xlink\" width=\"349.2pt\" height=\"236.16pt\" viewBox=\"0 0 349.2 236.16\" xmlns=\"http://www.w3.org/2000/svg\" version=\"1.1\">\n <metadata>\n  <rdf:RDF xmlns:dc=\"http://purl.org/dc/elements/1.1/\" xmlns:cc=\"http://creativecommons.org/ns#\" xmlns:rdf=\"http://www.w3.org/1999/02/22-rdf-syntax-ns#\">\n   <cc:Work>\n    <dc:type rdf:resource=\"http://purl.org/dc/dcmitype/StillImage\"/>\n    <dc:date>2025-03-15T11:53:26.505607</dc:date>\n    <dc:format>image/svg+xml</dc:format>\n    <dc:creator>\n     <cc:Agent>\n      <dc:title>Matplotlib v3.10.0, https://matplotlib.org/</dc:title>\n     </cc:Agent>\n    </dc:creator>\n   </cc:Work>\n  </rdf:RDF>\n </metadata>\n <defs>\n  <style type=\"text/css\">*{stroke-linejoin: round; stroke-linecap: butt}</style>\n </defs>\n <g id=\"figure_1\">\n  <g id=\"patch_1\">\n   <path d=\"M 0 236.16 \nL 349.2 236.16 \nL 349.2 0 \nL 0 0 \nz\n\" style=\"fill: #ffffff\"/>\n  </g>\n  <g id=\"axes_1\">\n   <g id=\"patch_2\">\n    <path d=\"M 7.2 228.96 \nL 342 228.96 \nL 342 7.2 \nL 7.2 7.2 \nz\n\" style=\"fill: #ffffff\"/>\n   </g>\n   <g id=\"patch_3\">\n    <path d=\"M 35.1 173.52 \nL 314.1 173.52 \nL 314.1 62.64 \nL 35.1 62.64 \nz\n\" clip-path=\"url(#peb42d1c8ab)\"/>\n   </g>\n   <g id=\"matplotlib.axis_1\"/>\n   <g id=\"matplotlib.axis_2\"/>\n  </g>\n </g>\n <defs>\n  <clipPath id=\"peb42d1c8ab\">\n   <rect x=\"7.2\" y=\"7.2\" width=\"334.8\" height=\"221.76\"/>\n  </clipPath>\n </defs>\n</svg>\n"
     },
     "metadata": {},
     "output_type": "display_data"
    }
   ],
   "execution_count": 23
  },
  {
   "cell_type": "code",
   "metadata": {
    "ExecuteTime": {
     "end_time": "2025-03-15T10:53:26.535975Z",
     "start_time": "2025-03-15T10:53:26.523079Z"
    }
   },
   "source": [
    "fig, ax = plt.subplots(figsize=(6, 4))\n",
    "\n",
    "ax.set_xlim(0,6)\n",
    "ax.set_ylim(0,4)\n",
    "\n",
    "ax.spines[:].set_visible(False)    \n",
    "ax.set_xticks([])\n",
    "ax.set_yticks([])\n",
    "\n",
    "height = 2.0\n",
    "\n",
    "ax.add_artist(patches.Rectangle((0.5, 2-height/2), height=height, width=5, facecolor=mpl.colormaps['tab10'](0), lw=0.0))\n",
    "\n",
    "plt.show()"
   ],
   "outputs": [
    {
     "data": {
      "text/plain": [
       "<Figure size 600x400 with 1 Axes>"
      ],
      "image/svg+xml": "<?xml version=\"1.0\" encoding=\"utf-8\" standalone=\"no\"?>\n<!DOCTYPE svg PUBLIC \"-//W3C//DTD SVG 1.1//EN\"\n  \"http://www.w3.org/Graphics/SVG/1.1/DTD/svg11.dtd\">\n<svg xmlns:xlink=\"http://www.w3.org/1999/xlink\" width=\"349.2pt\" height=\"236.16pt\" viewBox=\"0 0 349.2 236.16\" xmlns=\"http://www.w3.org/2000/svg\" version=\"1.1\">\n <metadata>\n  <rdf:RDF xmlns:dc=\"http://purl.org/dc/elements/1.1/\" xmlns:cc=\"http://creativecommons.org/ns#\" xmlns:rdf=\"http://www.w3.org/1999/02/22-rdf-syntax-ns#\">\n   <cc:Work>\n    <dc:type rdf:resource=\"http://purl.org/dc/dcmitype/StillImage\"/>\n    <dc:date>2025-03-15T11:53:26.532242</dc:date>\n    <dc:format>image/svg+xml</dc:format>\n    <dc:creator>\n     <cc:Agent>\n      <dc:title>Matplotlib v3.10.0, https://matplotlib.org/</dc:title>\n     </cc:Agent>\n    </dc:creator>\n   </cc:Work>\n  </rdf:RDF>\n </metadata>\n <defs>\n  <style type=\"text/css\">*{stroke-linejoin: round; stroke-linecap: butt}</style>\n </defs>\n <g id=\"figure_1\">\n  <g id=\"patch_1\">\n   <path d=\"M 0 236.16 \nL 349.2 236.16 \nL 349.2 0 \nL 0 0 \nz\n\" style=\"fill: #ffffff\"/>\n  </g>\n  <g id=\"axes_1\">\n   <g id=\"patch_2\">\n    <path d=\"M 7.2 228.96 \nL 342 228.96 \nL 342 7.2 \nL 7.2 7.2 \nz\n\" style=\"fill: #ffffff\"/>\n   </g>\n   <g id=\"patch_3\">\n    <path d=\"M 35.1 173.52 \nL 314.1 173.52 \nL 314.1 62.64 \nL 35.1 62.64 \nz\n\" clip-path=\"url(#peadb8cc73e)\" style=\"fill: #1f77b4\"/>\n   </g>\n   <g id=\"matplotlib.axis_1\"/>\n   <g id=\"matplotlib.axis_2\"/>\n  </g>\n </g>\n <defs>\n  <clipPath id=\"peadb8cc73e\">\n   <rect x=\"7.2\" y=\"7.2\" width=\"334.8\" height=\"221.76\"/>\n  </clipPath>\n </defs>\n</svg>\n"
     },
     "metadata": {},
     "output_type": "display_data"
    }
   ],
   "execution_count": 24
  },
  {
   "cell_type": "code",
   "metadata": {
    "ExecuteTime": {
     "end_time": "2025-03-15T10:53:26.560942Z",
     "start_time": "2025-03-15T10:53:26.545622Z"
    }
   },
   "source": [
    "fig, ax = plt.subplots(figsize=(6, 4))\n",
    "\n",
    "ax.set_xlim(0,6)\n",
    "ax.set_ylim(0,4)\n",
    "\n",
    "ax.spines[:].set_visible(False)    \n",
    "ax.set_xticks([])\n",
    "ax.set_yticks([])\n",
    "\n",
    "height = 2.0\n",
    "\n",
    "ax.add_artist(patches.Rectangle((0.5, 2-height/2), height=height, width=5, facecolor=mpl.colormaps['tab10'](1), lw=0.0))\n",
    "\n",
    "plt.show()"
   ],
   "outputs": [
    {
     "data": {
      "text/plain": [
       "<Figure size 600x400 with 1 Axes>"
      ],
      "image/svg+xml": "<?xml version=\"1.0\" encoding=\"utf-8\" standalone=\"no\"?>\n<!DOCTYPE svg PUBLIC \"-//W3C//DTD SVG 1.1//EN\"\n  \"http://www.w3.org/Graphics/SVG/1.1/DTD/svg11.dtd\">\n<svg xmlns:xlink=\"http://www.w3.org/1999/xlink\" width=\"349.2pt\" height=\"236.16pt\" viewBox=\"0 0 349.2 236.16\" xmlns=\"http://www.w3.org/2000/svg\" version=\"1.1\">\n <metadata>\n  <rdf:RDF xmlns:dc=\"http://purl.org/dc/elements/1.1/\" xmlns:cc=\"http://creativecommons.org/ns#\" xmlns:rdf=\"http://www.w3.org/1999/02/22-rdf-syntax-ns#\">\n   <cc:Work>\n    <dc:type rdf:resource=\"http://purl.org/dc/dcmitype/StillImage\"/>\n    <dc:date>2025-03-15T11:53:26.557452</dc:date>\n    <dc:format>image/svg+xml</dc:format>\n    <dc:creator>\n     <cc:Agent>\n      <dc:title>Matplotlib v3.10.0, https://matplotlib.org/</dc:title>\n     </cc:Agent>\n    </dc:creator>\n   </cc:Work>\n  </rdf:RDF>\n </metadata>\n <defs>\n  <style type=\"text/css\">*{stroke-linejoin: round; stroke-linecap: butt}</style>\n </defs>\n <g id=\"figure_1\">\n  <g id=\"patch_1\">\n   <path d=\"M 0 236.16 \nL 349.2 236.16 \nL 349.2 0 \nL 0 0 \nz\n\" style=\"fill: #ffffff\"/>\n  </g>\n  <g id=\"axes_1\">\n   <g id=\"patch_2\">\n    <path d=\"M 7.2 228.96 \nL 342 228.96 \nL 342 7.2 \nL 7.2 7.2 \nz\n\" style=\"fill: #ffffff\"/>\n   </g>\n   <g id=\"patch_3\">\n    <path d=\"M 35.1 173.52 \nL 314.1 173.52 \nL 314.1 62.64 \nL 35.1 62.64 \nz\n\" clip-path=\"url(#pc5b5f273b4)\" style=\"fill: #ff7f0e\"/>\n   </g>\n   <g id=\"matplotlib.axis_1\"/>\n   <g id=\"matplotlib.axis_2\"/>\n  </g>\n </g>\n <defs>\n  <clipPath id=\"pc5b5f273b4\">\n   <rect x=\"7.2\" y=\"7.2\" width=\"334.8\" height=\"221.76\"/>\n  </clipPath>\n </defs>\n</svg>\n"
     },
     "metadata": {},
     "output_type": "display_data"
    }
   ],
   "execution_count": 25
  },
  {
   "cell_type": "code",
   "metadata": {
    "ExecuteTime": {
     "end_time": "2025-03-15T10:53:26.581844Z",
     "start_time": "2025-03-15T10:53:26.568436Z"
    }
   },
   "source": [
    "fig, ax = plt.subplots(figsize=(6, 4))\n",
    "\n",
    "ax.set_xlim(0,6)\n",
    "ax.set_ylim(0,4)\n",
    "\n",
    "ax.spines[:].set_visible(False)    \n",
    "ax.set_xticks([])\n",
    "ax.set_yticks([])\n",
    "\n",
    "height = 2.0\n",
    "\n",
    "ax.add_artist(patches.Rectangle((0.5, 2-height/2), height=height, width=5, facecolor=mpl.colormaps['tab10'](2), lw=0.0))\n",
    "\n",
    "plt.show()"
   ],
   "outputs": [
    {
     "data": {
      "text/plain": [
       "<Figure size 600x400 with 1 Axes>"
      ],
      "image/svg+xml": "<?xml version=\"1.0\" encoding=\"utf-8\" standalone=\"no\"?>\n<!DOCTYPE svg PUBLIC \"-//W3C//DTD SVG 1.1//EN\"\n  \"http://www.w3.org/Graphics/SVG/1.1/DTD/svg11.dtd\">\n<svg xmlns:xlink=\"http://www.w3.org/1999/xlink\" width=\"349.2pt\" height=\"236.16pt\" viewBox=\"0 0 349.2 236.16\" xmlns=\"http://www.w3.org/2000/svg\" version=\"1.1\">\n <metadata>\n  <rdf:RDF xmlns:dc=\"http://purl.org/dc/elements/1.1/\" xmlns:cc=\"http://creativecommons.org/ns#\" xmlns:rdf=\"http://www.w3.org/1999/02/22-rdf-syntax-ns#\">\n   <cc:Work>\n    <dc:type rdf:resource=\"http://purl.org/dc/dcmitype/StillImage\"/>\n    <dc:date>2025-03-15T11:53:26.577588</dc:date>\n    <dc:format>image/svg+xml</dc:format>\n    <dc:creator>\n     <cc:Agent>\n      <dc:title>Matplotlib v3.10.0, https://matplotlib.org/</dc:title>\n     </cc:Agent>\n    </dc:creator>\n   </cc:Work>\n  </rdf:RDF>\n </metadata>\n <defs>\n  <style type=\"text/css\">*{stroke-linejoin: round; stroke-linecap: butt}</style>\n </defs>\n <g id=\"figure_1\">\n  <g id=\"patch_1\">\n   <path d=\"M 0 236.16 \nL 349.2 236.16 \nL 349.2 0 \nL 0 0 \nz\n\" style=\"fill: #ffffff\"/>\n  </g>\n  <g id=\"axes_1\">\n   <g id=\"patch_2\">\n    <path d=\"M 7.2 228.96 \nL 342 228.96 \nL 342 7.2 \nL 7.2 7.2 \nz\n\" style=\"fill: #ffffff\"/>\n   </g>\n   <g id=\"patch_3\">\n    <path d=\"M 35.1 173.52 \nL 314.1 173.52 \nL 314.1 62.64 \nL 35.1 62.64 \nz\n\" clip-path=\"url(#p97813c24a7)\" style=\"fill: #2ca02c\"/>\n   </g>\n   <g id=\"matplotlib.axis_1\"/>\n   <g id=\"matplotlib.axis_2\"/>\n  </g>\n </g>\n <defs>\n  <clipPath id=\"p97813c24a7\">\n   <rect x=\"7.2\" y=\"7.2\" width=\"334.8\" height=\"221.76\"/>\n  </clipPath>\n </defs>\n</svg>\n"
     },
     "metadata": {},
     "output_type": "display_data"
    }
   ],
   "execution_count": 26
  },
  {
   "cell_type": "code",
   "metadata": {
    "ExecuteTime": {
     "end_time": "2025-03-15T10:53:26.605191Z",
     "start_time": "2025-03-15T10:53:26.593918Z"
    }
   },
   "source": [
    "fig, ax = plt.subplots(figsize=(6, 4))\n",
    "\n",
    "ax.set_xlim(0,6)\n",
    "ax.set_ylim(0,4)\n",
    "\n",
    "ax.spines[:].set_visible(False)    \n",
    "ax.set_xticks([])\n",
    "ax.set_yticks([])\n",
    "\n",
    "height = 2.0\n",
    "\n",
    "ax.add_artist(patches.Rectangle((0.5, 2-height/2), height=height, width=5, facecolor=mpl.colormaps['tab10'](3), lw=0.0))\n",
    "\n",
    "plt.show()"
   ],
   "outputs": [
    {
     "data": {
      "text/plain": [
       "<Figure size 600x400 with 1 Axes>"
      ],
      "image/svg+xml": "<?xml version=\"1.0\" encoding=\"utf-8\" standalone=\"no\"?>\n<!DOCTYPE svg PUBLIC \"-//W3C//DTD SVG 1.1//EN\"\n  \"http://www.w3.org/Graphics/SVG/1.1/DTD/svg11.dtd\">\n<svg xmlns:xlink=\"http://www.w3.org/1999/xlink\" width=\"349.2pt\" height=\"236.16pt\" viewBox=\"0 0 349.2 236.16\" xmlns=\"http://www.w3.org/2000/svg\" version=\"1.1\">\n <metadata>\n  <rdf:RDF xmlns:dc=\"http://purl.org/dc/elements/1.1/\" xmlns:cc=\"http://creativecommons.org/ns#\" xmlns:rdf=\"http://www.w3.org/1999/02/22-rdf-syntax-ns#\">\n   <cc:Work>\n    <dc:type rdf:resource=\"http://purl.org/dc/dcmitype/StillImage\"/>\n    <dc:date>2025-03-15T11:53:26.602067</dc:date>\n    <dc:format>image/svg+xml</dc:format>\n    <dc:creator>\n     <cc:Agent>\n      <dc:title>Matplotlib v3.10.0, https://matplotlib.org/</dc:title>\n     </cc:Agent>\n    </dc:creator>\n   </cc:Work>\n  </rdf:RDF>\n </metadata>\n <defs>\n  <style type=\"text/css\">*{stroke-linejoin: round; stroke-linecap: butt}</style>\n </defs>\n <g id=\"figure_1\">\n  <g id=\"patch_1\">\n   <path d=\"M 0 236.16 \nL 349.2 236.16 \nL 349.2 0 \nL 0 0 \nz\n\" style=\"fill: #ffffff\"/>\n  </g>\n  <g id=\"axes_1\">\n   <g id=\"patch_2\">\n    <path d=\"M 7.2 228.96 \nL 342 228.96 \nL 342 7.2 \nL 7.2 7.2 \nz\n\" style=\"fill: #ffffff\"/>\n   </g>\n   <g id=\"patch_3\">\n    <path d=\"M 35.1 173.52 \nL 314.1 173.52 \nL 314.1 62.64 \nL 35.1 62.64 \nz\n\" clip-path=\"url(#p9e143a9adf)\" style=\"fill: #d62728\"/>\n   </g>\n   <g id=\"matplotlib.axis_1\"/>\n   <g id=\"matplotlib.axis_2\"/>\n  </g>\n </g>\n <defs>\n  <clipPath id=\"p9e143a9adf\">\n   <rect x=\"7.2\" y=\"7.2\" width=\"334.8\" height=\"221.76\"/>\n  </clipPath>\n </defs>\n</svg>\n"
     },
     "metadata": {},
     "output_type": "display_data"
    }
   ],
   "execution_count": 27
  },
  {
   "cell_type": "code",
   "metadata": {
    "ExecuteTime": {
     "end_time": "2025-03-15T10:53:26.638171Z",
     "start_time": "2025-03-15T10:53:26.624789Z"
    }
   },
   "source": [
    "fig, ax = plt.subplots(figsize=(6, 4))\n",
    "\n",
    "ax.set_xlim(0,6)\n",
    "ax.set_ylim(0,4)\n",
    "\n",
    "ax.spines[:].set_visible(False)    \n",
    "ax.set_xticks([])\n",
    "ax.set_yticks([])\n",
    "\n",
    "height = 2.0\n",
    "\n",
    "hatches = ['-', 'x', '.', 'o', '*' ]\n",
    "ax.add_artist(patches.Rectangle((0.5, 2-height/2), height=height, width=5, fill=False, lw=2.0, hatch='-'))\n",
    "\n",
    "plt.show()"
   ],
   "outputs": [
    {
     "data": {
      "text/plain": [
       "<Figure size 600x400 with 1 Axes>"
      ],
      "image/svg+xml": "<?xml version=\"1.0\" encoding=\"utf-8\" standalone=\"no\"?>\n<!DOCTYPE svg PUBLIC \"-//W3C//DTD SVG 1.1//EN\"\n  \"http://www.w3.org/Graphics/SVG/1.1/DTD/svg11.dtd\">\n<svg xmlns:xlink=\"http://www.w3.org/1999/xlink\" width=\"349.2pt\" height=\"236.16pt\" viewBox=\"0 0 349.2 236.16\" xmlns=\"http://www.w3.org/2000/svg\" version=\"1.1\">\n <metadata>\n  <rdf:RDF xmlns:dc=\"http://purl.org/dc/elements/1.1/\" xmlns:cc=\"http://creativecommons.org/ns#\" xmlns:rdf=\"http://www.w3.org/1999/02/22-rdf-syntax-ns#\">\n   <cc:Work>\n    <dc:type rdf:resource=\"http://purl.org/dc/dcmitype/StillImage\"/>\n    <dc:date>2025-03-15T11:53:26.634002</dc:date>\n    <dc:format>image/svg+xml</dc:format>\n    <dc:creator>\n     <cc:Agent>\n      <dc:title>Matplotlib v3.10.0, https://matplotlib.org/</dc:title>\n     </cc:Agent>\n    </dc:creator>\n   </cc:Work>\n  </rdf:RDF>\n </metadata>\n <defs>\n  <style type=\"text/css\">*{stroke-linejoin: round; stroke-linecap: butt}</style>\n </defs>\n <g id=\"figure_1\">\n  <g id=\"patch_1\">\n   <path d=\"M 0 236.16 \nL 349.2 236.16 \nL 349.2 0 \nL 0 0 \nz\n\" style=\"fill: #ffffff\"/>\n  </g>\n  <g id=\"axes_1\">\n   <g id=\"patch_2\">\n    <path d=\"M 7.2 228.96 \nL 342 228.96 \nL 342 7.2 \nL 7.2 7.2 \nz\n\" style=\"fill: #ffffff\"/>\n   </g>\n   <g id=\"patch_3\">\n    <path d=\"M 35.1 173.52 \nL 314.1 173.52 \nL 314.1 62.64 \nL 35.1 62.64 \nz\n\" clip-path=\"url(#pabf1c97924)\" style=\"fill: url(#h36ac6bbe46); stroke: #000000; stroke-width: 2; stroke-linejoin: miter\"/>\n   </g>\n   <g id=\"matplotlib.axis_1\"/>\n   <g id=\"matplotlib.axis_2\"/>\n  </g>\n </g>\n <defs>\n  <clipPath id=\"pabf1c97924\">\n   <rect x=\"7.2\" y=\"7.2\" width=\"334.8\" height=\"221.76\"/>\n  </clipPath>\n </defs>\n <defs>\n  <pattern id=\"h36ac6bbe46\" patternUnits=\"userSpaceOnUse\" x=\"0\" y=\"0\" width=\"72\" height=\"72\">\n   <rect x=\"0\" y=\"0\" width=\"73\" height=\"73\" fill=\"none\"/>\n   <path d=\"M 0 66 \nL 72 66 \nM 0 54 \nL 72 54 \nM 0 42 \nL 72 42 \nM 0 30 \nL 72 30 \nM 0 18 \nL 72 18 \nM 0 6 \nL 72 6 \n\" style=\"fill: #000000; stroke: #000000; stroke-width: 1.0; stroke-linecap: butt; stroke-linejoin: miter\"/>\n  </pattern>\n </defs>\n</svg>\n"
     },
     "metadata": {},
     "output_type": "display_data"
    }
   ],
   "execution_count": 28
  },
  {
   "cell_type": "code",
   "metadata": {
    "ExecuteTime": {
     "end_time": "2025-03-15T10:53:26.661800Z",
     "start_time": "2025-03-15T10:53:26.646287Z"
    }
   },
   "source": [
    "fig, ax = plt.subplots(figsize=(6, 4))\n",
    "\n",
    "ax.set_xlim(0,6)\n",
    "ax.set_ylim(0,4)\n",
    "\n",
    "ax.spines[:].set_visible(False)    \n",
    "ax.set_xticks([])\n",
    "ax.set_yticks([])\n",
    "\n",
    "height = 2.0\n",
    "\n",
    "hatches = ['-', 'x', '.', 'o', '*' ]\n",
    "ax.add_artist(patches.Rectangle((0.5, 2-height/2), height=height, width=5, fill=False, lw=2.0, hatch='x'))\n",
    "\n",
    "plt.show()"
   ],
   "outputs": [
    {
     "data": {
      "text/plain": [
       "<Figure size 600x400 with 1 Axes>"
      ],
      "image/svg+xml": "<?xml version=\"1.0\" encoding=\"utf-8\" standalone=\"no\"?>\n<!DOCTYPE svg PUBLIC \"-//W3C//DTD SVG 1.1//EN\"\n  \"http://www.w3.org/Graphics/SVG/1.1/DTD/svg11.dtd\">\n<svg xmlns:xlink=\"http://www.w3.org/1999/xlink\" width=\"349.2pt\" height=\"236.16pt\" viewBox=\"0 0 349.2 236.16\" xmlns=\"http://www.w3.org/2000/svg\" version=\"1.1\">\n <metadata>\n  <rdf:RDF xmlns:dc=\"http://purl.org/dc/elements/1.1/\" xmlns:cc=\"http://creativecommons.org/ns#\" xmlns:rdf=\"http://www.w3.org/1999/02/22-rdf-syntax-ns#\">\n   <cc:Work>\n    <dc:type rdf:resource=\"http://purl.org/dc/dcmitype/StillImage\"/>\n    <dc:date>2025-03-15T11:53:26.657979</dc:date>\n    <dc:format>image/svg+xml</dc:format>\n    <dc:creator>\n     <cc:Agent>\n      <dc:title>Matplotlib v3.10.0, https://matplotlib.org/</dc:title>\n     </cc:Agent>\n    </dc:creator>\n   </cc:Work>\n  </rdf:RDF>\n </metadata>\n <defs>\n  <style type=\"text/css\">*{stroke-linejoin: round; stroke-linecap: butt}</style>\n </defs>\n <g id=\"figure_1\">\n  <g id=\"patch_1\">\n   <path d=\"M 0 236.16 \nL 349.2 236.16 \nL 349.2 0 \nL 0 0 \nz\n\" style=\"fill: #ffffff\"/>\n  </g>\n  <g id=\"axes_1\">\n   <g id=\"patch_2\">\n    <path d=\"M 7.2 228.96 \nL 342 228.96 \nL 342 7.2 \nL 7.2 7.2 \nz\n\" style=\"fill: #ffffff\"/>\n   </g>\n   <g id=\"patch_3\">\n    <path d=\"M 35.1 173.52 \nL 314.1 173.52 \nL 314.1 62.64 \nL 35.1 62.64 \nz\n\" clip-path=\"url(#pc5724e71b8)\" style=\"fill: url(#hd3e349fea7); stroke: #000000; stroke-width: 2; stroke-linejoin: miter\"/>\n   </g>\n   <g id=\"matplotlib.axis_1\"/>\n   <g id=\"matplotlib.axis_2\"/>\n  </g>\n </g>\n <defs>\n  <clipPath id=\"pc5724e71b8\">\n   <rect x=\"7.2\" y=\"7.2\" width=\"334.8\" height=\"221.76\"/>\n  </clipPath>\n </defs>\n <defs>\n  <pattern id=\"hd3e349fea7\" patternUnits=\"userSpaceOnUse\" x=\"0\" y=\"0\" width=\"72\" height=\"72\">\n   <rect x=\"0\" y=\"0\" width=\"73\" height=\"73\" fill=\"none\"/>\n   <path d=\"M -36 36 \nL 36 -36 \nM -24 48 \nL 48 -24 \nM -12 60 \nL 60 -12 \nM 0 72 \nL 72 0 \nM 12 84 \nL 84 12 \nM 24 96 \nL 96 24 \nM 36 108 \nL 108 36 \nM -36 36 \nL 36 108 \nM -24 24 \nL 48 96 \nM -12 12 \nL 60 84 \nM 0 0 \nL 72 72 \nM 12 -12 \nL 84 60 \nM 24 -24 \nL 96 48 \nM 36 -36 \nL 108 36 \n\" style=\"fill: #000000; stroke: #000000; stroke-width: 1.0; stroke-linecap: butt; stroke-linejoin: miter\"/>\n  </pattern>\n </defs>\n</svg>\n"
     },
     "metadata": {},
     "output_type": "display_data"
    }
   ],
   "execution_count": 29
  },
  {
   "cell_type": "code",
   "metadata": {
    "ExecuteTime": {
     "end_time": "2025-03-15T10:53:26.685947Z",
     "start_time": "2025-03-15T10:53:26.669862Z"
    }
   },
   "source": [
    "fig, ax = plt.subplots(figsize=(6, 4))\n",
    "\n",
    "ax.set_xlim(0,6)\n",
    "ax.set_ylim(0,4)\n",
    "\n",
    "ax.spines[:].set_visible(False)    \n",
    "ax.set_xticks([])\n",
    "ax.set_yticks([])\n",
    "\n",
    "height = 2.0\n",
    "\n",
    "hatches = ['-', 'x', '.', 'o', '*' ]\n",
    "ax.add_artist(patches.Rectangle((0.5, 2-height/2), height=height, width=5, fill=False, lw=2.0, hatch='o'))\n",
    "\n",
    "plt.show()"
   ],
   "outputs": [
    {
     "data": {
      "text/plain": [
       "<Figure size 600x400 with 1 Axes>"
      ],
      "image/svg+xml": "<?xml version=\"1.0\" encoding=\"utf-8\" standalone=\"no\"?>\n<!DOCTYPE svg PUBLIC \"-//W3C//DTD SVG 1.1//EN\"\n  \"http://www.w3.org/Graphics/SVG/1.1/DTD/svg11.dtd\">\n<svg xmlns:xlink=\"http://www.w3.org/1999/xlink\" width=\"349.2pt\" height=\"236.16pt\" viewBox=\"0 0 349.2 236.16\" xmlns=\"http://www.w3.org/2000/svg\" version=\"1.1\">\n <metadata>\n  <rdf:RDF xmlns:dc=\"http://purl.org/dc/elements/1.1/\" xmlns:cc=\"http://creativecommons.org/ns#\" xmlns:rdf=\"http://www.w3.org/1999/02/22-rdf-syntax-ns#\">\n   <cc:Work>\n    <dc:type rdf:resource=\"http://purl.org/dc/dcmitype/StillImage\"/>\n    <dc:date>2025-03-15T11:53:26.681035</dc:date>\n    <dc:format>image/svg+xml</dc:format>\n    <dc:creator>\n     <cc:Agent>\n      <dc:title>Matplotlib v3.10.0, https://matplotlib.org/</dc:title>\n     </cc:Agent>\n    </dc:creator>\n   </cc:Work>\n  </rdf:RDF>\n </metadata>\n <defs>\n  <style type=\"text/css\">*{stroke-linejoin: round; stroke-linecap: butt}</style>\n </defs>\n <g id=\"figure_1\">\n  <g id=\"patch_1\">\n   <path d=\"M 0 236.16 \nL 349.2 236.16 \nL 349.2 0 \nL 0 0 \nz\n\" style=\"fill: #ffffff\"/>\n  </g>\n  <g id=\"axes_1\">\n   <g id=\"patch_2\">\n    <path d=\"M 7.2 228.96 \nL 342 228.96 \nL 342 7.2 \nL 7.2 7.2 \nz\n\" style=\"fill: #ffffff\"/>\n   </g>\n   <g id=\"patch_3\">\n    <path d=\"M 35.1 173.52 \nL 314.1 173.52 \nL 314.1 62.64 \nL 35.1 62.64 \nz\n\" clip-path=\"url(#p07a32fd1a5)\" style=\"fill: url(#h64b2a3262e); stroke: #000000; stroke-width: 2; stroke-linejoin: miter\"/>\n   </g>\n   <g id=\"matplotlib.axis_1\"/>\n   <g id=\"matplotlib.axis_2\"/>\n  </g>\n </g>\n <defs>\n  <clipPath id=\"p07a32fd1a5\">\n   <rect x=\"7.2\" y=\"7.2\" width=\"334.8\" height=\"221.76\"/>\n  </clipPath>\n </defs>\n <defs>\n  <pattern id=\"h64b2a3262e\" patternUnits=\"userSpaceOnUse\" x=\"0\" y=\"0\" width=\"72\" height=\"72\">\n   <rect x=\"0\" y=\"0\" width=\"73\" height=\"73\" fill=\"none\"/>\n   <path d=\"M 0 74.4 \nC 0.636487 74.4 1.246992 74.147121 1.697056 73.697056 \nC 2.147121 73.246992 2.4 72.636487 2.4 72 \nC 2.4 71.363513 2.147121 70.753008 1.697056 70.302944 \nC 1.246992 69.852879 0.636487 69.6 0 69.6 \nC -0.636487 69.6 -1.246992 69.852879 -1.697056 70.302944 \nC -2.147121 70.753008 -2.4 71.363513 -2.4 72 \nC -2.4 72.636487 -2.147121 73.246992 -1.697056 73.697056 \nC -1.246992 74.147121 -0.636487 74.4 0 74.4 \nz\nM 0 74.16 \nC 0 74.16 -0.572839 74.16 -1.122293 73.932409 \nC -1.527351 73.527351 -1.932409 73.122293 -2.16 72.572839 \nC -2.16 72 -2.16 71.427161 -1.932409 70.877707 \nC -1.527351 70.472649 -1.122293 70.067591 -0.572839 69.84 \nC 0 69.84 0.572839 69.84 1.122293 70.067591 \nC 1.527351 70.472649 1.932409 70.877707 2.16 71.427161 \nC 2.16 72 2.16 72.572839 1.932409 73.122293 \nC 1.527351 73.527351 1.122293 73.932409 0.572839 74.16 \nz\nM 12 74.4 \nC 12.636487 74.4 13.246992 74.147121 13.697056 73.697056 \nC 14.147121 73.246992 14.4 72.636487 14.4 72 \nC 14.4 71.363513 14.147121 70.753008 13.697056 70.302944 \nC 13.246992 69.852879 12.636487 69.6 12 69.6 \nC 11.363513 69.6 10.753008 69.852879 10.302944 70.302944 \nC 9.852879 70.753008 9.6 71.363513 9.6 72 \nC 9.6 72.636487 9.852879 73.246992 10.302944 73.697056 \nC 10.753008 74.147121 11.363513 74.4 12 74.4 \nz\nM 12 74.16 \nC 12 74.16 11.427161 74.16 10.877707 73.932409 \nC 10.472649 73.527351 10.067591 73.122293 9.84 72.572839 \nC 9.84 72 9.84 71.427161 10.067591 70.877707 \nC 10.472649 70.472649 10.877707 70.067591 11.427161 69.84 \nC 12 69.84 12.572839 69.84 13.122293 70.067591 \nC 13.527351 70.472649 13.932409 70.877707 14.16 71.427161 \nC 14.16 72 14.16 72.572839 13.932409 73.122293 \nC 13.527351 73.527351 13.122293 73.932409 12.572839 74.16 \nz\nM 24 74.4 \nC 24.636487 74.4 25.246992 74.147121 25.697056 73.697056 \nC 26.147121 73.246992 26.4 72.636487 26.4 72 \nC 26.4 71.363513 26.147121 70.753008 25.697056 70.302944 \nC 25.246992 69.852879 24.636487 69.6 24 69.6 \nC 23.363513 69.6 22.753008 69.852879 22.302944 70.302944 \nC 21.852879 70.753008 21.6 71.363513 21.6 72 \nC 21.6 72.636487 21.852879 73.246992 22.302944 73.697056 \nC 22.753008 74.147121 23.363513 74.4 24 74.4 \nz\nM 24 74.16 \nC 24 74.16 23.427161 74.16 22.877707 73.932409 \nC 22.472649 73.527351 22.067591 73.122293 21.84 72.572839 \nC 21.84 72 21.84 71.427161 22.067591 70.877707 \nC 22.472649 70.472649 22.877707 70.067591 23.427161 69.84 \nC 24 69.84 24.572839 69.84 25.122293 70.067591 \nC 25.527351 70.472649 25.932409 70.877707 26.16 71.427161 \nC 26.16 72 26.16 72.572839 25.932409 73.122293 \nC 25.527351 73.527351 25.122293 73.932409 24.572839 74.16 \nz\nM 36 74.4 \nC 36.636487 74.4 37.246992 74.147121 37.697056 73.697056 \nC 38.147121 73.246992 38.4 72.636487 38.4 72 \nC 38.4 71.363513 38.147121 70.753008 37.697056 70.302944 \nC 37.246992 69.852879 36.636487 69.6 36 69.6 \nC 35.363513 69.6 34.753008 69.852879 34.302944 70.302944 \nC 33.852879 70.753008 33.6 71.363513 33.6 72 \nC 33.6 72.636487 33.852879 73.246992 34.302944 73.697056 \nC 34.753008 74.147121 35.363513 74.4 36 74.4 \nz\nM 36 74.16 \nC 36 74.16 35.427161 74.16 34.877707 73.932409 \nC 34.472649 73.527351 34.067591 73.122293 33.84 72.572839 \nC 33.84 72 33.84 71.427161 34.067591 70.877707 \nC 34.472649 70.472649 34.877707 70.067591 35.427161 69.84 \nC 36 69.84 36.572839 69.84 37.122293 70.067591 \nC 37.527351 70.472649 37.932409 70.877707 38.16 71.427161 \nC 38.16 72 38.16 72.572839 37.932409 73.122293 \nC 37.527351 73.527351 37.122293 73.932409 36.572839 74.16 \nz\nM 48 74.4 \nC 48.636487 74.4 49.246992 74.147121 49.697056 73.697056 \nC 50.147121 73.246992 50.4 72.636487 50.4 72 \nC 50.4 71.363513 50.147121 70.753008 49.697056 70.302944 \nC 49.246992 69.852879 48.636487 69.6 48 69.6 \nC 47.363513 69.6 46.753008 69.852879 46.302944 70.302944 \nC 45.852879 70.753008 45.6 71.363513 45.6 72 \nC 45.6 72.636487 45.852879 73.246992 46.302944 73.697056 \nC 46.753008 74.147121 47.363513 74.4 48 74.4 \nz\nM 48 74.16 \nC 48 74.16 47.427161 74.16 46.877707 73.932409 \nC 46.472649 73.527351 46.067591 73.122293 45.84 72.572839 \nC 45.84 72 45.84 71.427161 46.067591 70.877707 \nC 46.472649 70.472649 46.877707 70.067591 47.427161 69.84 \nC 48 69.84 48.572839 69.84 49.122293 70.067591 \nC 49.527351 70.472649 49.932409 70.877707 50.16 71.427161 \nC 50.16 72 50.16 72.572839 49.932409 73.122293 \nC 49.527351 73.527351 49.122293 73.932409 48.572839 74.16 \nz\nM 60 74.4 \nC 60.636487 74.4 61.246992 74.147121 61.697056 73.697056 \nC 62.147121 73.246992 62.4 72.636487 62.4 72 \nC 62.4 71.363513 62.147121 70.753008 61.697056 70.302944 \nC 61.246992 69.852879 60.636487 69.6 60 69.6 \nC 59.363513 69.6 58.753008 69.852879 58.302944 70.302944 \nC 57.852879 70.753008 57.6 71.363513 57.6 72 \nC 57.6 72.636487 57.852879 73.246992 58.302944 73.697056 \nC 58.753008 74.147121 59.363513 74.4 60 74.4 \nz\nM 60 74.16 \nC 60 74.16 59.427161 74.16 58.877707 73.932409 \nC 58.472649 73.527351 58.067591 73.122293 57.84 72.572839 \nC 57.84 72 57.84 71.427161 58.067591 70.877707 \nC 58.472649 70.472649 58.877707 70.067591 59.427161 69.84 \nC 60 69.84 60.572839 69.84 61.122293 70.067591 \nC 61.527351 70.472649 61.932409 70.877707 62.16 71.427161 \nC 62.16 72 62.16 72.572839 61.932409 73.122293 \nC 61.527351 73.527351 61.122293 73.932409 60.572839 74.16 \nz\nM 72 74.4 \nC 72.636487 74.4 73.246992 74.147121 73.697056 73.697056 \nC 74.147121 73.246992 74.4 72.636487 74.4 72 \nC 74.4 71.363513 74.147121 70.753008 73.697056 70.302944 \nC 73.246992 69.852879 72.636487 69.6 72 69.6 \nC 71.363513 69.6 70.753008 69.852879 70.302944 70.302944 \nC 69.852879 70.753008 69.6 71.363513 69.6 72 \nC 69.6 72.636487 69.852879 73.246992 70.302944 73.697056 \nC 70.753008 74.147121 71.363513 74.4 72 74.4 \nz\nM 72 74.16 \nC 72 74.16 71.427161 74.16 70.877707 73.932409 \nC 70.472649 73.527351 70.067591 73.122293 69.84 72.572839 \nC 69.84 72 69.84 71.427161 70.067591 70.877707 \nC 70.472649 70.472649 70.877707 70.067591 71.427161 69.84 \nC 72 69.84 72.572839 69.84 73.122293 70.067591 \nC 73.527351 70.472649 73.932409 70.877707 74.16 71.427161 \nC 74.16 72 74.16 72.572839 73.932409 73.122293 \nC 73.527351 73.527351 73.122293 73.932409 72.572839 74.16 \nz\nM 6 62.4 \nC 6.636487 62.4 7.246992 62.147121 7.697056 61.697056 \nC 8.147121 61.246992 8.4 60.636487 8.4 60 \nC 8.4 59.363513 8.147121 58.753008 7.697056 58.302944 \nC 7.246992 57.852879 6.636487 57.6 6 57.6 \nC 5.363513 57.6 4.753008 57.852879 4.302944 58.302944 \nC 3.852879 58.753008 3.6 59.363513 3.6 60 \nC 3.6 60.636487 3.852879 61.246992 4.302944 61.697056 \nC 4.753008 62.147121 5.363513 62.4 6 62.4 \nz\nM 6 62.16 \nC 6 62.16 5.427161 62.16 4.877707 61.932409 \nC 4.472649 61.527351 4.067591 61.122293 3.84 60.572839 \nC 3.84 60 3.84 59.427161 4.067591 58.877707 \nC 4.472649 58.472649 4.877707 58.067591 5.427161 57.84 \nC 6 57.84 6.572839 57.84 7.122293 58.067591 \nC 7.527351 58.472649 7.932409 58.877707 8.16 59.427161 \nC 8.16 60 8.16 60.572839 7.932409 61.122293 \nC 7.527351 61.527351 7.122293 61.932409 6.572839 62.16 \nz\nM 18 62.4 \nC 18.636487 62.4 19.246992 62.147121 19.697056 61.697056 \nC 20.147121 61.246992 20.4 60.636487 20.4 60 \nC 20.4 59.363513 20.147121 58.753008 19.697056 58.302944 \nC 19.246992 57.852879 18.636487 57.6 18 57.6 \nC 17.363513 57.6 16.753008 57.852879 16.302944 58.302944 \nC 15.852879 58.753008 15.6 59.363513 15.6 60 \nC 15.6 60.636487 15.852879 61.246992 16.302944 61.697056 \nC 16.753008 62.147121 17.363513 62.4 18 62.4 \nz\nM 18 62.16 \nC 18 62.16 17.427161 62.16 16.877707 61.932409 \nC 16.472649 61.527351 16.067591 61.122293 15.84 60.572839 \nC 15.84 60 15.84 59.427161 16.067591 58.877707 \nC 16.472649 58.472649 16.877707 58.067591 17.427161 57.84 \nC 18 57.84 18.572839 57.84 19.122293 58.067591 \nC 19.527351 58.472649 19.932409 58.877707 20.16 59.427161 \nC 20.16 60 20.16 60.572839 19.932409 61.122293 \nC 19.527351 61.527351 19.122293 61.932409 18.572839 62.16 \nz\nM 30 62.4 \nC 30.636487 62.4 31.246992 62.147121 31.697056 61.697056 \nC 32.147121 61.246992 32.4 60.636487 32.4 60 \nC 32.4 59.363513 32.147121 58.753008 31.697056 58.302944 \nC 31.246992 57.852879 30.636487 57.6 30 57.6 \nC 29.363513 57.6 28.753008 57.852879 28.302944 58.302944 \nC 27.852879 58.753008 27.6 59.363513 27.6 60 \nC 27.6 60.636487 27.852879 61.246992 28.302944 61.697056 \nC 28.753008 62.147121 29.363513 62.4 30 62.4 \nz\nM 30 62.16 \nC 30 62.16 29.427161 62.16 28.877707 61.932409 \nC 28.472649 61.527351 28.067591 61.122293 27.84 60.572839 \nC 27.84 60 27.84 59.427161 28.067591 58.877707 \nC 28.472649 58.472649 28.877707 58.067591 29.427161 57.84 \nC 30 57.84 30.572839 57.84 31.122293 58.067591 \nC 31.527351 58.472649 31.932409 58.877707 32.16 59.427161 \nC 32.16 60 32.16 60.572839 31.932409 61.122293 \nC 31.527351 61.527351 31.122293 61.932409 30.572839 62.16 \nz\nM 42 62.4 \nC 42.636487 62.4 43.246992 62.147121 43.697056 61.697056 \nC 44.147121 61.246992 44.4 60.636487 44.4 60 \nC 44.4 59.363513 44.147121 58.753008 43.697056 58.302944 \nC 43.246992 57.852879 42.636487 57.6 42 57.6 \nC 41.363513 57.6 40.753008 57.852879 40.302944 58.302944 \nC 39.852879 58.753008 39.6 59.363513 39.6 60 \nC 39.6 60.636487 39.852879 61.246992 40.302944 61.697056 \nC 40.753008 62.147121 41.363513 62.4 42 62.4 \nz\nM 42 62.16 \nC 42 62.16 41.427161 62.16 40.877707 61.932409 \nC 40.472649 61.527351 40.067591 61.122293 39.84 60.572839 \nC 39.84 60 39.84 59.427161 40.067591 58.877707 \nC 40.472649 58.472649 40.877707 58.067591 41.427161 57.84 \nC 42 57.84 42.572839 57.84 43.122293 58.067591 \nC 43.527351 58.472649 43.932409 58.877707 44.16 59.427161 \nC 44.16 60 44.16 60.572839 43.932409 61.122293 \nC 43.527351 61.527351 43.122293 61.932409 42.572839 62.16 \nz\nM 54 62.4 \nC 54.636487 62.4 55.246992 62.147121 55.697056 61.697056 \nC 56.147121 61.246992 56.4 60.636487 56.4 60 \nC 56.4 59.363513 56.147121 58.753008 55.697056 58.302944 \nC 55.246992 57.852879 54.636487 57.6 54 57.6 \nC 53.363513 57.6 52.753008 57.852879 52.302944 58.302944 \nC 51.852879 58.753008 51.6 59.363513 51.6 60 \nC 51.6 60.636487 51.852879 61.246992 52.302944 61.697056 \nC 52.753008 62.147121 53.363513 62.4 54 62.4 \nz\nM 54 62.16 \nC 54 62.16 53.427161 62.16 52.877707 61.932409 \nC 52.472649 61.527351 52.067591 61.122293 51.84 60.572839 \nC 51.84 60 51.84 59.427161 52.067591 58.877707 \nC 52.472649 58.472649 52.877707 58.067591 53.427161 57.84 \nC 54 57.84 54.572839 57.84 55.122293 58.067591 \nC 55.527351 58.472649 55.932409 58.877707 56.16 59.427161 \nC 56.16 60 56.16 60.572839 55.932409 61.122293 \nC 55.527351 61.527351 55.122293 61.932409 54.572839 62.16 \nz\nM 66 62.4 \nC 66.636487 62.4 67.246992 62.147121 67.697056 61.697056 \nC 68.147121 61.246992 68.4 60.636487 68.4 60 \nC 68.4 59.363513 68.147121 58.753008 67.697056 58.302944 \nC 67.246992 57.852879 66.636487 57.6 66 57.6 \nC 65.363513 57.6 64.753008 57.852879 64.302944 58.302944 \nC 63.852879 58.753008 63.6 59.363513 63.6 60 \nC 63.6 60.636487 63.852879 61.246992 64.302944 61.697056 \nC 64.753008 62.147121 65.363513 62.4 66 62.4 \nz\nM 66 62.16 \nC 66 62.16 65.427161 62.16 64.877707 61.932409 \nC 64.472649 61.527351 64.067591 61.122293 63.84 60.572839 \nC 63.84 60 63.84 59.427161 64.067591 58.877707 \nC 64.472649 58.472649 64.877707 58.067591 65.427161 57.84 \nC 66 57.84 66.572839 57.84 67.122293 58.067591 \nC 67.527351 58.472649 67.932409 58.877707 68.16 59.427161 \nC 68.16 60 68.16 60.572839 67.932409 61.122293 \nC 67.527351 61.527351 67.122293 61.932409 66.572839 62.16 \nz\nM 0 50.4 \nC 0.636487 50.4 1.246992 50.147121 1.697056 49.697056 \nC 2.147121 49.246992 2.4 48.636487 2.4 48 \nC 2.4 47.363513 2.147121 46.753008 1.697056 46.302944 \nC 1.246992 45.852879 0.636487 45.6 0 45.6 \nC -0.636487 45.6 -1.246992 45.852879 -1.697056 46.302944 \nC -2.147121 46.753008 -2.4 47.363513 -2.4 48 \nC -2.4 48.636487 -2.147121 49.246992 -1.697056 49.697056 \nC -1.246992 50.147121 -0.636487 50.4 0 50.4 \nz\nM 0 50.16 \nC 0 50.16 -0.572839 50.16 -1.122293 49.932409 \nC -1.527351 49.527351 -1.932409 49.122293 -2.16 48.572839 \nC -2.16 48 -2.16 47.427161 -1.932409 46.877707 \nC -1.527351 46.472649 -1.122293 46.067591 -0.572839 45.84 \nC 0 45.84 0.572839 45.84 1.122293 46.067591 \nC 1.527351 46.472649 1.932409 46.877707 2.16 47.427161 \nC 2.16 48 2.16 48.572839 1.932409 49.122293 \nC 1.527351 49.527351 1.122293 49.932409 0.572839 50.16 \nz\nM 12 50.4 \nC 12.636487 50.4 13.246992 50.147121 13.697056 49.697056 \nC 14.147121 49.246992 14.4 48.636487 14.4 48 \nC 14.4 47.363513 14.147121 46.753008 13.697056 46.302944 \nC 13.246992 45.852879 12.636487 45.6 12 45.6 \nC 11.363513 45.6 10.753008 45.852879 10.302944 46.302944 \nC 9.852879 46.753008 9.6 47.363513 9.6 48 \nC 9.6 48.636487 9.852879 49.246992 10.302944 49.697056 \nC 10.753008 50.147121 11.363513 50.4 12 50.4 \nz\nM 12 50.16 \nC 12 50.16 11.427161 50.16 10.877707 49.932409 \nC 10.472649 49.527351 10.067591 49.122293 9.84 48.572839 \nC 9.84 48 9.84 47.427161 10.067591 46.877707 \nC 10.472649 46.472649 10.877707 46.067591 11.427161 45.84 \nC 12 45.84 12.572839 45.84 13.122293 46.067591 \nC 13.527351 46.472649 13.932409 46.877707 14.16 47.427161 \nC 14.16 48 14.16 48.572839 13.932409 49.122293 \nC 13.527351 49.527351 13.122293 49.932409 12.572839 50.16 \nz\nM 24 50.4 \nC 24.636487 50.4 25.246992 50.147121 25.697056 49.697056 \nC 26.147121 49.246992 26.4 48.636487 26.4 48 \nC 26.4 47.363513 26.147121 46.753008 25.697056 46.302944 \nC 25.246992 45.852879 24.636487 45.6 24 45.6 \nC 23.363513 45.6 22.753008 45.852879 22.302944 46.302944 \nC 21.852879 46.753008 21.6 47.363513 21.6 48 \nC 21.6 48.636487 21.852879 49.246992 22.302944 49.697056 \nC 22.753008 50.147121 23.363513 50.4 24 50.4 \nz\nM 24 50.16 \nC 24 50.16 23.427161 50.16 22.877707 49.932409 \nC 22.472649 49.527351 22.067591 49.122293 21.84 48.572839 \nC 21.84 48 21.84 47.427161 22.067591 46.877707 \nC 22.472649 46.472649 22.877707 46.067591 23.427161 45.84 \nC 24 45.84 24.572839 45.84 25.122293 46.067591 \nC 25.527351 46.472649 25.932409 46.877707 26.16 47.427161 \nC 26.16 48 26.16 48.572839 25.932409 49.122293 \nC 25.527351 49.527351 25.122293 49.932409 24.572839 50.16 \nz\nM 36 50.4 \nC 36.636487 50.4 37.246992 50.147121 37.697056 49.697056 \nC 38.147121 49.246992 38.4 48.636487 38.4 48 \nC 38.4 47.363513 38.147121 46.753008 37.697056 46.302944 \nC 37.246992 45.852879 36.636487 45.6 36 45.6 \nC 35.363513 45.6 34.753008 45.852879 34.302944 46.302944 \nC 33.852879 46.753008 33.6 47.363513 33.6 48 \nC 33.6 48.636487 33.852879 49.246992 34.302944 49.697056 \nC 34.753008 50.147121 35.363513 50.4 36 50.4 \nz\nM 36 50.16 \nC 36 50.16 35.427161 50.16 34.877707 49.932409 \nC 34.472649 49.527351 34.067591 49.122293 33.84 48.572839 \nC 33.84 48 33.84 47.427161 34.067591 46.877707 \nC 34.472649 46.472649 34.877707 46.067591 35.427161 45.84 \nC 36 45.84 36.572839 45.84 37.122293 46.067591 \nC 37.527351 46.472649 37.932409 46.877707 38.16 47.427161 \nC 38.16 48 38.16 48.572839 37.932409 49.122293 \nC 37.527351 49.527351 37.122293 49.932409 36.572839 50.16 \nz\nM 48 50.4 \nC 48.636487 50.4 49.246992 50.147121 49.697056 49.697056 \nC 50.147121 49.246992 50.4 48.636487 50.4 48 \nC 50.4 47.363513 50.147121 46.753008 49.697056 46.302944 \nC 49.246992 45.852879 48.636487 45.6 48 45.6 \nC 47.363513 45.6 46.753008 45.852879 46.302944 46.302944 \nC 45.852879 46.753008 45.6 47.363513 45.6 48 \nC 45.6 48.636487 45.852879 49.246992 46.302944 49.697056 \nC 46.753008 50.147121 47.363513 50.4 48 50.4 \nz\nM 48 50.16 \nC 48 50.16 47.427161 50.16 46.877707 49.932409 \nC 46.472649 49.527351 46.067591 49.122293 45.84 48.572839 \nC 45.84 48 45.84 47.427161 46.067591 46.877707 \nC 46.472649 46.472649 46.877707 46.067591 47.427161 45.84 \nC 48 45.84 48.572839 45.84 49.122293 46.067591 \nC 49.527351 46.472649 49.932409 46.877707 50.16 47.427161 \nC 50.16 48 50.16 48.572839 49.932409 49.122293 \nC 49.527351 49.527351 49.122293 49.932409 48.572839 50.16 \nz\nM 60 50.4 \nC 60.636487 50.4 61.246992 50.147121 61.697056 49.697056 \nC 62.147121 49.246992 62.4 48.636487 62.4 48 \nC 62.4 47.363513 62.147121 46.753008 61.697056 46.302944 \nC 61.246992 45.852879 60.636487 45.6 60 45.6 \nC 59.363513 45.6 58.753008 45.852879 58.302944 46.302944 \nC 57.852879 46.753008 57.6 47.363513 57.6 48 \nC 57.6 48.636487 57.852879 49.246992 58.302944 49.697056 \nC 58.753008 50.147121 59.363513 50.4 60 50.4 \nz\nM 60 50.16 \nC 60 50.16 59.427161 50.16 58.877707 49.932409 \nC 58.472649 49.527351 58.067591 49.122293 57.84 48.572839 \nC 57.84 48 57.84 47.427161 58.067591 46.877707 \nC 58.472649 46.472649 58.877707 46.067591 59.427161 45.84 \nC 60 45.84 60.572839 45.84 61.122293 46.067591 \nC 61.527351 46.472649 61.932409 46.877707 62.16 47.427161 \nC 62.16 48 62.16 48.572839 61.932409 49.122293 \nC 61.527351 49.527351 61.122293 49.932409 60.572839 50.16 \nz\nM 72 50.4 \nC 72.636487 50.4 73.246992 50.147121 73.697056 49.697056 \nC 74.147121 49.246992 74.4 48.636487 74.4 48 \nC 74.4 47.363513 74.147121 46.753008 73.697056 46.302944 \nC 73.246992 45.852879 72.636487 45.6 72 45.6 \nC 71.363513 45.6 70.753008 45.852879 70.302944 46.302944 \nC 69.852879 46.753008 69.6 47.363513 69.6 48 \nC 69.6 48.636487 69.852879 49.246992 70.302944 49.697056 \nC 70.753008 50.147121 71.363513 50.4 72 50.4 \nz\nM 72 50.16 \nC 72 50.16 71.427161 50.16 70.877707 49.932409 \nC 70.472649 49.527351 70.067591 49.122293 69.84 48.572839 \nC 69.84 48 69.84 47.427161 70.067591 46.877707 \nC 70.472649 46.472649 70.877707 46.067591 71.427161 45.84 \nC 72 45.84 72.572839 45.84 73.122293 46.067591 \nC 73.527351 46.472649 73.932409 46.877707 74.16 47.427161 \nC 74.16 48 74.16 48.572839 73.932409 49.122293 \nC 73.527351 49.527351 73.122293 49.932409 72.572839 50.16 \nz\nM 6 38.4 \nC 6.636487 38.4 7.246992 38.147121 7.697056 37.697056 \nC 8.147121 37.246992 8.4 36.636487 8.4 36 \nC 8.4 35.363513 8.147121 34.753008 7.697056 34.302944 \nC 7.246992 33.852879 6.636487 33.6 6 33.6 \nC 5.363513 33.6 4.753008 33.852879 4.302944 34.302944 \nC 3.852879 34.753008 3.6 35.363513 3.6 36 \nC 3.6 36.636487 3.852879 37.246992 4.302944 37.697056 \nC 4.753008 38.147121 5.363513 38.4 6 38.4 \nz\nM 6 38.16 \nC 6 38.16 5.427161 38.16 4.877707 37.932409 \nC 4.472649 37.527351 4.067591 37.122293 3.84 36.572839 \nC 3.84 36 3.84 35.427161 4.067591 34.877707 \nC 4.472649 34.472649 4.877707 34.067591 5.427161 33.84 \nC 6 33.84 6.572839 33.84 7.122293 34.067591 \nC 7.527351 34.472649 7.932409 34.877707 8.16 35.427161 \nC 8.16 36 8.16 36.572839 7.932409 37.122293 \nC 7.527351 37.527351 7.122293 37.932409 6.572839 38.16 \nz\nM 18 38.4 \nC 18.636487 38.4 19.246992 38.147121 19.697056 37.697056 \nC 20.147121 37.246992 20.4 36.636487 20.4 36 \nC 20.4 35.363513 20.147121 34.753008 19.697056 34.302944 \nC 19.246992 33.852879 18.636487 33.6 18 33.6 \nC 17.363513 33.6 16.753008 33.852879 16.302944 34.302944 \nC 15.852879 34.753008 15.6 35.363513 15.6 36 \nC 15.6 36.636487 15.852879 37.246992 16.302944 37.697056 \nC 16.753008 38.147121 17.363513 38.4 18 38.4 \nz\nM 18 38.16 \nC 18 38.16 17.427161 38.16 16.877707 37.932409 \nC 16.472649 37.527351 16.067591 37.122293 15.84 36.572839 \nC 15.84 36 15.84 35.427161 16.067591 34.877707 \nC 16.472649 34.472649 16.877707 34.067591 17.427161 33.84 \nC 18 33.84 18.572839 33.84 19.122293 34.067591 \nC 19.527351 34.472649 19.932409 34.877707 20.16 35.427161 \nC 20.16 36 20.16 36.572839 19.932409 37.122293 \nC 19.527351 37.527351 19.122293 37.932409 18.572839 38.16 \nz\nM 30 38.4 \nC 30.636487 38.4 31.246992 38.147121 31.697056 37.697056 \nC 32.147121 37.246992 32.4 36.636487 32.4 36 \nC 32.4 35.363513 32.147121 34.753008 31.697056 34.302944 \nC 31.246992 33.852879 30.636487 33.6 30 33.6 \nC 29.363513 33.6 28.753008 33.852879 28.302944 34.302944 \nC 27.852879 34.753008 27.6 35.363513 27.6 36 \nC 27.6 36.636487 27.852879 37.246992 28.302944 37.697056 \nC 28.753008 38.147121 29.363513 38.4 30 38.4 \nz\nM 30 38.16 \nC 30 38.16 29.427161 38.16 28.877707 37.932409 \nC 28.472649 37.527351 28.067591 37.122293 27.84 36.572839 \nC 27.84 36 27.84 35.427161 28.067591 34.877707 \nC 28.472649 34.472649 28.877707 34.067591 29.427161 33.84 \nC 30 33.84 30.572839 33.84 31.122293 34.067591 \nC 31.527351 34.472649 31.932409 34.877707 32.16 35.427161 \nC 32.16 36 32.16 36.572839 31.932409 37.122293 \nC 31.527351 37.527351 31.122293 37.932409 30.572839 38.16 \nz\nM 42 38.4 \nC 42.636487 38.4 43.246992 38.147121 43.697056 37.697056 \nC 44.147121 37.246992 44.4 36.636487 44.4 36 \nC 44.4 35.363513 44.147121 34.753008 43.697056 34.302944 \nC 43.246992 33.852879 42.636487 33.6 42 33.6 \nC 41.363513 33.6 40.753008 33.852879 40.302944 34.302944 \nC 39.852879 34.753008 39.6 35.363513 39.6 36 \nC 39.6 36.636487 39.852879 37.246992 40.302944 37.697056 \nC 40.753008 38.147121 41.363513 38.4 42 38.4 \nz\nM 42 38.16 \nC 42 38.16 41.427161 38.16 40.877707 37.932409 \nC 40.472649 37.527351 40.067591 37.122293 39.84 36.572839 \nC 39.84 36 39.84 35.427161 40.067591 34.877707 \nC 40.472649 34.472649 40.877707 34.067591 41.427161 33.84 \nC 42 33.84 42.572839 33.84 43.122293 34.067591 \nC 43.527351 34.472649 43.932409 34.877707 44.16 35.427161 \nC 44.16 36 44.16 36.572839 43.932409 37.122293 \nC 43.527351 37.527351 43.122293 37.932409 42.572839 38.16 \nz\nM 54 38.4 \nC 54.636487 38.4 55.246992 38.147121 55.697056 37.697056 \nC 56.147121 37.246992 56.4 36.636487 56.4 36 \nC 56.4 35.363513 56.147121 34.753008 55.697056 34.302944 \nC 55.246992 33.852879 54.636487 33.6 54 33.6 \nC 53.363513 33.6 52.753008 33.852879 52.302944 34.302944 \nC 51.852879 34.753008 51.6 35.363513 51.6 36 \nC 51.6 36.636487 51.852879 37.246992 52.302944 37.697056 \nC 52.753008 38.147121 53.363513 38.4 54 38.4 \nz\nM 54 38.16 \nC 54 38.16 53.427161 38.16 52.877707 37.932409 \nC 52.472649 37.527351 52.067591 37.122293 51.84 36.572839 \nC 51.84 36 51.84 35.427161 52.067591 34.877707 \nC 52.472649 34.472649 52.877707 34.067591 53.427161 33.84 \nC 54 33.84 54.572839 33.84 55.122293 34.067591 \nC 55.527351 34.472649 55.932409 34.877707 56.16 35.427161 \nC 56.16 36 56.16 36.572839 55.932409 37.122293 \nC 55.527351 37.527351 55.122293 37.932409 54.572839 38.16 \nz\nM 66 38.4 \nC 66.636487 38.4 67.246992 38.147121 67.697056 37.697056 \nC 68.147121 37.246992 68.4 36.636487 68.4 36 \nC 68.4 35.363513 68.147121 34.753008 67.697056 34.302944 \nC 67.246992 33.852879 66.636487 33.6 66 33.6 \nC 65.363513 33.6 64.753008 33.852879 64.302944 34.302944 \nC 63.852879 34.753008 63.6 35.363513 63.6 36 \nC 63.6 36.636487 63.852879 37.246992 64.302944 37.697056 \nC 64.753008 38.147121 65.363513 38.4 66 38.4 \nz\nM 66 38.16 \nC 66 38.16 65.427161 38.16 64.877707 37.932409 \nC 64.472649 37.527351 64.067591 37.122293 63.84 36.572839 \nC 63.84 36 63.84 35.427161 64.067591 34.877707 \nC 64.472649 34.472649 64.877707 34.067591 65.427161 33.84 \nC 66 33.84 66.572839 33.84 67.122293 34.067591 \nC 67.527351 34.472649 67.932409 34.877707 68.16 35.427161 \nC 68.16 36 68.16 36.572839 67.932409 37.122293 \nC 67.527351 37.527351 67.122293 37.932409 66.572839 38.16 \nz\nM 0 26.4 \nC 0.636487 26.4 1.246992 26.147121 1.697056 25.697056 \nC 2.147121 25.246992 2.4 24.636487 2.4 24 \nC 2.4 23.363513 2.147121 22.753008 1.697056 22.302944 \nC 1.246992 21.852879 0.636487 21.6 0 21.6 \nC -0.636487 21.6 -1.246992 21.852879 -1.697056 22.302944 \nC -2.147121 22.753008 -2.4 23.363513 -2.4 24 \nC -2.4 24.636487 -2.147121 25.246992 -1.697056 25.697056 \nC -1.246992 26.147121 -0.636487 26.4 0 26.4 \nz\nM 0 26.16 \nC 0 26.16 -0.572839 26.16 -1.122293 25.932409 \nC -1.527351 25.527351 -1.932409 25.122293 -2.16 24.572839 \nC -2.16 24 -2.16 23.427161 -1.932409 22.877707 \nC -1.527351 22.472649 -1.122293 22.067591 -0.572839 21.84 \nC 0 21.84 0.572839 21.84 1.122293 22.067591 \nC 1.527351 22.472649 1.932409 22.877707 2.16 23.427161 \nC 2.16 24 2.16 24.572839 1.932409 25.122293 \nC 1.527351 25.527351 1.122293 25.932409 0.572839 26.16 \nz\nM 12 26.4 \nC 12.636487 26.4 13.246992 26.147121 13.697056 25.697056 \nC 14.147121 25.246992 14.4 24.636487 14.4 24 \nC 14.4 23.363513 14.147121 22.753008 13.697056 22.302944 \nC 13.246992 21.852879 12.636487 21.6 12 21.6 \nC 11.363513 21.6 10.753008 21.852879 10.302944 22.302944 \nC 9.852879 22.753008 9.6 23.363513 9.6 24 \nC 9.6 24.636487 9.852879 25.246992 10.302944 25.697056 \nC 10.753008 26.147121 11.363513 26.4 12 26.4 \nz\nM 12 26.16 \nC 12 26.16 11.427161 26.16 10.877707 25.932409 \nC 10.472649 25.527351 10.067591 25.122293 9.84 24.572839 \nC 9.84 24 9.84 23.427161 10.067591 22.877707 \nC 10.472649 22.472649 10.877707 22.067591 11.427161 21.84 \nC 12 21.84 12.572839 21.84 13.122293 22.067591 \nC 13.527351 22.472649 13.932409 22.877707 14.16 23.427161 \nC 14.16 24 14.16 24.572839 13.932409 25.122293 \nC 13.527351 25.527351 13.122293 25.932409 12.572839 26.16 \nz\nM 24 26.4 \nC 24.636487 26.4 25.246992 26.147121 25.697056 25.697056 \nC 26.147121 25.246992 26.4 24.636487 26.4 24 \nC 26.4 23.363513 26.147121 22.753008 25.697056 22.302944 \nC 25.246992 21.852879 24.636487 21.6 24 21.6 \nC 23.363513 21.6 22.753008 21.852879 22.302944 22.302944 \nC 21.852879 22.753008 21.6 23.363513 21.6 24 \nC 21.6 24.636487 21.852879 25.246992 22.302944 25.697056 \nC 22.753008 26.147121 23.363513 26.4 24 26.4 \nz\nM 24 26.16 \nC 24 26.16 23.427161 26.16 22.877707 25.932409 \nC 22.472649 25.527351 22.067591 25.122293 21.84 24.572839 \nC 21.84 24 21.84 23.427161 22.067591 22.877707 \nC 22.472649 22.472649 22.877707 22.067591 23.427161 21.84 \nC 24 21.84 24.572839 21.84 25.122293 22.067591 \nC 25.527351 22.472649 25.932409 22.877707 26.16 23.427161 \nC 26.16 24 26.16 24.572839 25.932409 25.122293 \nC 25.527351 25.527351 25.122293 25.932409 24.572839 26.16 \nz\nM 36 26.4 \nC 36.636487 26.4 37.246992 26.147121 37.697056 25.697056 \nC 38.147121 25.246992 38.4 24.636487 38.4 24 \nC 38.4 23.363513 38.147121 22.753008 37.697056 22.302944 \nC 37.246992 21.852879 36.636487 21.6 36 21.6 \nC 35.363513 21.6 34.753008 21.852879 34.302944 22.302944 \nC 33.852879 22.753008 33.6 23.363513 33.6 24 \nC 33.6 24.636487 33.852879 25.246992 34.302944 25.697056 \nC 34.753008 26.147121 35.363513 26.4 36 26.4 \nz\nM 36 26.16 \nC 36 26.16 35.427161 26.16 34.877707 25.932409 \nC 34.472649 25.527351 34.067591 25.122293 33.84 24.572839 \nC 33.84 24 33.84 23.427161 34.067591 22.877707 \nC 34.472649 22.472649 34.877707 22.067591 35.427161 21.84 \nC 36 21.84 36.572839 21.84 37.122293 22.067591 \nC 37.527351 22.472649 37.932409 22.877707 38.16 23.427161 \nC 38.16 24 38.16 24.572839 37.932409 25.122293 \nC 37.527351 25.527351 37.122293 25.932409 36.572839 26.16 \nz\nM 48 26.4 \nC 48.636487 26.4 49.246992 26.147121 49.697056 25.697056 \nC 50.147121 25.246992 50.4 24.636487 50.4 24 \nC 50.4 23.363513 50.147121 22.753008 49.697056 22.302944 \nC 49.246992 21.852879 48.636487 21.6 48 21.6 \nC 47.363513 21.6 46.753008 21.852879 46.302944 22.302944 \nC 45.852879 22.753008 45.6 23.363513 45.6 24 \nC 45.6 24.636487 45.852879 25.246992 46.302944 25.697056 \nC 46.753008 26.147121 47.363513 26.4 48 26.4 \nz\nM 48 26.16 \nC 48 26.16 47.427161 26.16 46.877707 25.932409 \nC 46.472649 25.527351 46.067591 25.122293 45.84 24.572839 \nC 45.84 24 45.84 23.427161 46.067591 22.877707 \nC 46.472649 22.472649 46.877707 22.067591 47.427161 21.84 \nC 48 21.84 48.572839 21.84 49.122293 22.067591 \nC 49.527351 22.472649 49.932409 22.877707 50.16 23.427161 \nC 50.16 24 50.16 24.572839 49.932409 25.122293 \nC 49.527351 25.527351 49.122293 25.932409 48.572839 26.16 \nz\nM 60 26.4 \nC 60.636487 26.4 61.246992 26.147121 61.697056 25.697056 \nC 62.147121 25.246992 62.4 24.636487 62.4 24 \nC 62.4 23.363513 62.147121 22.753008 61.697056 22.302944 \nC 61.246992 21.852879 60.636487 21.6 60 21.6 \nC 59.363513 21.6 58.753008 21.852879 58.302944 22.302944 \nC 57.852879 22.753008 57.6 23.363513 57.6 24 \nC 57.6 24.636487 57.852879 25.246992 58.302944 25.697056 \nC 58.753008 26.147121 59.363513 26.4 60 26.4 \nz\nM 60 26.16 \nC 60 26.16 59.427161 26.16 58.877707 25.932409 \nC 58.472649 25.527351 58.067591 25.122293 57.84 24.572839 \nC 57.84 24 57.84 23.427161 58.067591 22.877707 \nC 58.472649 22.472649 58.877707 22.067591 59.427161 21.84 \nC 60 21.84 60.572839 21.84 61.122293 22.067591 \nC 61.527351 22.472649 61.932409 22.877707 62.16 23.427161 \nC 62.16 24 62.16 24.572839 61.932409 25.122293 \nC 61.527351 25.527351 61.122293 25.932409 60.572839 26.16 \nz\nM 72 26.4 \nC 72.636487 26.4 73.246992 26.147121 73.697056 25.697056 \nC 74.147121 25.246992 74.4 24.636487 74.4 24 \nC 74.4 23.363513 74.147121 22.753008 73.697056 22.302944 \nC 73.246992 21.852879 72.636487 21.6 72 21.6 \nC 71.363513 21.6 70.753008 21.852879 70.302944 22.302944 \nC 69.852879 22.753008 69.6 23.363513 69.6 24 \nC 69.6 24.636487 69.852879 25.246992 70.302944 25.697056 \nC 70.753008 26.147121 71.363513 26.4 72 26.4 \nz\nM 72 26.16 \nC 72 26.16 71.427161 26.16 70.877707 25.932409 \nC 70.472649 25.527351 70.067591 25.122293 69.84 24.572839 \nC 69.84 24 69.84 23.427161 70.067591 22.877707 \nC 70.472649 22.472649 70.877707 22.067591 71.427161 21.84 \nC 72 21.84 72.572839 21.84 73.122293 22.067591 \nC 73.527351 22.472649 73.932409 22.877707 74.16 23.427161 \nC 74.16 24 74.16 24.572839 73.932409 25.122293 \nC 73.527351 25.527351 73.122293 25.932409 72.572839 26.16 \nz\nM 6 14.4 \nC 6.636487 14.4 7.246992 14.147121 7.697056 13.697056 \nC 8.147121 13.246992 8.4 12.636487 8.4 12 \nC 8.4 11.363513 8.147121 10.753008 7.697056 10.302944 \nC 7.246992 9.852879 6.636487 9.6 6 9.6 \nC 5.363513 9.6 4.753008 9.852879 4.302944 10.302944 \nC 3.852879 10.753008 3.6 11.363513 3.6 12 \nC 3.6 12.636487 3.852879 13.246992 4.302944 13.697056 \nC 4.753008 14.147121 5.363513 14.4 6 14.4 \nz\nM 6 14.16 \nC 6 14.16 5.427161 14.16 4.877707 13.932409 \nC 4.472649 13.527351 4.067591 13.122293 3.84 12.572839 \nC 3.84 12 3.84 11.427161 4.067591 10.877707 \nC 4.472649 10.472649 4.877707 10.067591 5.427161 9.84 \nC 6 9.84 6.572839 9.84 7.122293 10.067591 \nC 7.527351 10.472649 7.932409 10.877707 8.16 11.427161 \nC 8.16 12 8.16 12.572839 7.932409 13.122293 \nC 7.527351 13.527351 7.122293 13.932409 6.572839 14.16 \nz\nM 18 14.4 \nC 18.636487 14.4 19.246992 14.147121 19.697056 13.697056 \nC 20.147121 13.246992 20.4 12.636487 20.4 12 \nC 20.4 11.363513 20.147121 10.753008 19.697056 10.302944 \nC 19.246992 9.852879 18.636487 9.6 18 9.6 \nC 17.363513 9.6 16.753008 9.852879 16.302944 10.302944 \nC 15.852879 10.753008 15.6 11.363513 15.6 12 \nC 15.6 12.636487 15.852879 13.246992 16.302944 13.697056 \nC 16.753008 14.147121 17.363513 14.4 18 14.4 \nz\nM 18 14.16 \nC 18 14.16 17.427161 14.16 16.877707 13.932409 \nC 16.472649 13.527351 16.067591 13.122293 15.84 12.572839 \nC 15.84 12 15.84 11.427161 16.067591 10.877707 \nC 16.472649 10.472649 16.877707 10.067591 17.427161 9.84 \nC 18 9.84 18.572839 9.84 19.122293 10.067591 \nC 19.527351 10.472649 19.932409 10.877707 20.16 11.427161 \nC 20.16 12 20.16 12.572839 19.932409 13.122293 \nC 19.527351 13.527351 19.122293 13.932409 18.572839 14.16 \nz\nM 30 14.4 \nC 30.636487 14.4 31.246992 14.147121 31.697056 13.697056 \nC 32.147121 13.246992 32.4 12.636487 32.4 12 \nC 32.4 11.363513 32.147121 10.753008 31.697056 10.302944 \nC 31.246992 9.852879 30.636487 9.6 30 9.6 \nC 29.363513 9.6 28.753008 9.852879 28.302944 10.302944 \nC 27.852879 10.753008 27.6 11.363513 27.6 12 \nC 27.6 12.636487 27.852879 13.246992 28.302944 13.697056 \nC 28.753008 14.147121 29.363513 14.4 30 14.4 \nz\nM 30 14.16 \nC 30 14.16 29.427161 14.16 28.877707 13.932409 \nC 28.472649 13.527351 28.067591 13.122293 27.84 12.572839 \nC 27.84 12 27.84 11.427161 28.067591 10.877707 \nC 28.472649 10.472649 28.877707 10.067591 29.427161 9.84 \nC 30 9.84 30.572839 9.84 31.122293 10.067591 \nC 31.527351 10.472649 31.932409 10.877707 32.16 11.427161 \nC 32.16 12 32.16 12.572839 31.932409 13.122293 \nC 31.527351 13.527351 31.122293 13.932409 30.572839 14.16 \nz\nM 42 14.4 \nC 42.636487 14.4 43.246992 14.147121 43.697056 13.697056 \nC 44.147121 13.246992 44.4 12.636487 44.4 12 \nC 44.4 11.363513 44.147121 10.753008 43.697056 10.302944 \nC 43.246992 9.852879 42.636487 9.6 42 9.6 \nC 41.363513 9.6 40.753008 9.852879 40.302944 10.302944 \nC 39.852879 10.753008 39.6 11.363513 39.6 12 \nC 39.6 12.636487 39.852879 13.246992 40.302944 13.697056 \nC 40.753008 14.147121 41.363513 14.4 42 14.4 \nz\nM 42 14.16 \nC 42 14.16 41.427161 14.16 40.877707 13.932409 \nC 40.472649 13.527351 40.067591 13.122293 39.84 12.572839 \nC 39.84 12 39.84 11.427161 40.067591 10.877707 \nC 40.472649 10.472649 40.877707 10.067591 41.427161 9.84 \nC 42 9.84 42.572839 9.84 43.122293 10.067591 \nC 43.527351 10.472649 43.932409 10.877707 44.16 11.427161 \nC 44.16 12 44.16 12.572839 43.932409 13.122293 \nC 43.527351 13.527351 43.122293 13.932409 42.572839 14.16 \nz\nM 54 14.4 \nC 54.636487 14.4 55.246992 14.147121 55.697056 13.697056 \nC 56.147121 13.246992 56.4 12.636487 56.4 12 \nC 56.4 11.363513 56.147121 10.753008 55.697056 10.302944 \nC 55.246992 9.852879 54.636487 9.6 54 9.6 \nC 53.363513 9.6 52.753008 9.852879 52.302944 10.302944 \nC 51.852879 10.753008 51.6 11.363513 51.6 12 \nC 51.6 12.636487 51.852879 13.246992 52.302944 13.697056 \nC 52.753008 14.147121 53.363513 14.4 54 14.4 \nz\nM 54 14.16 \nC 54 14.16 53.427161 14.16 52.877707 13.932409 \nC 52.472649 13.527351 52.067591 13.122293 51.84 12.572839 \nC 51.84 12 51.84 11.427161 52.067591 10.877707 \nC 52.472649 10.472649 52.877707 10.067591 53.427161 9.84 \nC 54 9.84 54.572839 9.84 55.122293 10.067591 \nC 55.527351 10.472649 55.932409 10.877707 56.16 11.427161 \nC 56.16 12 56.16 12.572839 55.932409 13.122293 \nC 55.527351 13.527351 55.122293 13.932409 54.572839 14.16 \nz\nM 66 14.4 \nC 66.636487 14.4 67.246992 14.147121 67.697056 13.697056 \nC 68.147121 13.246992 68.4 12.636487 68.4 12 \nC 68.4 11.363513 68.147121 10.753008 67.697056 10.302944 \nC 67.246992 9.852879 66.636487 9.6 66 9.6 \nC 65.363513 9.6 64.753008 9.852879 64.302944 10.302944 \nC 63.852879 10.753008 63.6 11.363513 63.6 12 \nC 63.6 12.636487 63.852879 13.246992 64.302944 13.697056 \nC 64.753008 14.147121 65.363513 14.4 66 14.4 \nz\nM 66 14.16 \nC 66 14.16 65.427161 14.16 64.877707 13.932409 \nC 64.472649 13.527351 64.067591 13.122293 63.84 12.572839 \nC 63.84 12 63.84 11.427161 64.067591 10.877707 \nC 64.472649 10.472649 64.877707 10.067591 65.427161 9.84 \nC 66 9.84 66.572839 9.84 67.122293 10.067591 \nC 67.527351 10.472649 67.932409 10.877707 68.16 11.427161 \nC 68.16 12 68.16 12.572839 67.932409 13.122293 \nC 67.527351 13.527351 67.122293 13.932409 66.572839 14.16 \nz\nM 0 2.4 \nC 0.636487 2.4 1.246992 2.147121 1.697056 1.697056 \nC 2.147121 1.246992 2.4 0.636487 2.4 0 \nC 2.4 -0.636487 2.147121 -1.246992 1.697056 -1.697056 \nC 1.246992 -2.147121 0.636487 -2.4 0 -2.4 \nC -0.636487 -2.4 -1.246992 -2.147121 -1.697056 -1.697056 \nC -2.147121 -1.246992 -2.4 -0.636487 -2.4 0 \nC -2.4 0.636487 -2.147121 1.246992 -1.697056 1.697056 \nC -1.246992 2.147121 -0.636487 2.4 0 2.4 \nz\nM 0 2.16 \nC 0 2.16 -0.572839 2.16 -1.122293 1.932409 \nC -1.527351 1.527351 -1.932409 1.122293 -2.16 0.572839 \nC -2.16 0 -2.16 -0.572839 -1.932409 -1.122293 \nC -1.527351 -1.527351 -1.122293 -1.932409 -0.572839 -2.16 \nC 0 -2.16 0.572839 -2.16 1.122293 -1.932409 \nC 1.527351 -1.527351 1.932409 -1.122293 2.16 -0.572839 \nC 2.16 0 2.16 0.572839 1.932409 1.122293 \nC 1.527351 1.527351 1.122293 1.932409 0.572839 2.16 \nz\nM 12 2.4 \nC 12.636487 2.4 13.246992 2.147121 13.697056 1.697056 \nC 14.147121 1.246992 14.4 0.636487 14.4 0 \nC 14.4 -0.636487 14.147121 -1.246992 13.697056 -1.697056 \nC 13.246992 -2.147121 12.636487 -2.4 12 -2.4 \nC 11.363513 -2.4 10.753008 -2.147121 10.302944 -1.697056 \nC 9.852879 -1.246992 9.6 -0.636487 9.6 0 \nC 9.6 0.636487 9.852879 1.246992 10.302944 1.697056 \nC 10.753008 2.147121 11.363513 2.4 12 2.4 \nz\nM 12 2.16 \nC 12 2.16 11.427161 2.16 10.877707 1.932409 \nC 10.472649 1.527351 10.067591 1.122293 9.84 0.572839 \nC 9.84 0 9.84 -0.572839 10.067591 -1.122293 \nC 10.472649 -1.527351 10.877707 -1.932409 11.427161 -2.16 \nC 12 -2.16 12.572839 -2.16 13.122293 -1.932409 \nC 13.527351 -1.527351 13.932409 -1.122293 14.16 -0.572839 \nC 14.16 0 14.16 0.572839 13.932409 1.122293 \nC 13.527351 1.527351 13.122293 1.932409 12.572839 2.16 \nz\nM 24 2.4 \nC 24.636487 2.4 25.246992 2.147121 25.697056 1.697056 \nC 26.147121 1.246992 26.4 0.636487 26.4 0 \nC 26.4 -0.636487 26.147121 -1.246992 25.697056 -1.697056 \nC 25.246992 -2.147121 24.636487 -2.4 24 -2.4 \nC 23.363513 -2.4 22.753008 -2.147121 22.302944 -1.697056 \nC 21.852879 -1.246992 21.6 -0.636487 21.6 0 \nC 21.6 0.636487 21.852879 1.246992 22.302944 1.697056 \nC 22.753008 2.147121 23.363513 2.4 24 2.4 \nz\nM 24 2.16 \nC 24 2.16 23.427161 2.16 22.877707 1.932409 \nC 22.472649 1.527351 22.067591 1.122293 21.84 0.572839 \nC 21.84 0 21.84 -0.572839 22.067591 -1.122293 \nC 22.472649 -1.527351 22.877707 -1.932409 23.427161 -2.16 \nC 24 -2.16 24.572839 -2.16 25.122293 -1.932409 \nC 25.527351 -1.527351 25.932409 -1.122293 26.16 -0.572839 \nC 26.16 0 26.16 0.572839 25.932409 1.122293 \nC 25.527351 1.527351 25.122293 1.932409 24.572839 2.16 \nz\nM 36 2.4 \nC 36.636487 2.4 37.246992 2.147121 37.697056 1.697056 \nC 38.147121 1.246992 38.4 0.636487 38.4 0 \nC 38.4 -0.636487 38.147121 -1.246992 37.697056 -1.697056 \nC 37.246992 -2.147121 36.636487 -2.4 36 -2.4 \nC 35.363513 -2.4 34.753008 -2.147121 34.302944 -1.697056 \nC 33.852879 -1.246992 33.6 -0.636487 33.6 0 \nC 33.6 0.636487 33.852879 1.246992 34.302944 1.697056 \nC 34.753008 2.147121 35.363513 2.4 36 2.4 \nz\nM 36 2.16 \nC 36 2.16 35.427161 2.16 34.877707 1.932409 \nC 34.472649 1.527351 34.067591 1.122293 33.84 0.572839 \nC 33.84 0 33.84 -0.572839 34.067591 -1.122293 \nC 34.472649 -1.527351 34.877707 -1.932409 35.427161 -2.16 \nC 36 -2.16 36.572839 -2.16 37.122293 -1.932409 \nC 37.527351 -1.527351 37.932409 -1.122293 38.16 -0.572839 \nC 38.16 0 38.16 0.572839 37.932409 1.122293 \nC 37.527351 1.527351 37.122293 1.932409 36.572839 2.16 \nz\nM 48 2.4 \nC 48.636487 2.4 49.246992 2.147121 49.697056 1.697056 \nC 50.147121 1.246992 50.4 0.636487 50.4 0 \nC 50.4 -0.636487 50.147121 -1.246992 49.697056 -1.697056 \nC 49.246992 -2.147121 48.636487 -2.4 48 -2.4 \nC 47.363513 -2.4 46.753008 -2.147121 46.302944 -1.697056 \nC 45.852879 -1.246992 45.6 -0.636487 45.6 0 \nC 45.6 0.636487 45.852879 1.246992 46.302944 1.697056 \nC 46.753008 2.147121 47.363513 2.4 48 2.4 \nz\nM 48 2.16 \nC 48 2.16 47.427161 2.16 46.877707 1.932409 \nC 46.472649 1.527351 46.067591 1.122293 45.84 0.572839 \nC 45.84 0 45.84 -0.572839 46.067591 -1.122293 \nC 46.472649 -1.527351 46.877707 -1.932409 47.427161 -2.16 \nC 48 -2.16 48.572839 -2.16 49.122293 -1.932409 \nC 49.527351 -1.527351 49.932409 -1.122293 50.16 -0.572839 \nC 50.16 0 50.16 0.572839 49.932409 1.122293 \nC 49.527351 1.527351 49.122293 1.932409 48.572839 2.16 \nz\nM 60 2.4 \nC 60.636487 2.4 61.246992 2.147121 61.697056 1.697056 \nC 62.147121 1.246992 62.4 0.636487 62.4 0 \nC 62.4 -0.636487 62.147121 -1.246992 61.697056 -1.697056 \nC 61.246992 -2.147121 60.636487 -2.4 60 -2.4 \nC 59.363513 -2.4 58.753008 -2.147121 58.302944 -1.697056 \nC 57.852879 -1.246992 57.6 -0.636487 57.6 0 \nC 57.6 0.636487 57.852879 1.246992 58.302944 1.697056 \nC 58.753008 2.147121 59.363513 2.4 60 2.4 \nz\nM 60 2.16 \nC 60 2.16 59.427161 2.16 58.877707 1.932409 \nC 58.472649 1.527351 58.067591 1.122293 57.84 0.572839 \nC 57.84 0 57.84 -0.572839 58.067591 -1.122293 \nC 58.472649 -1.527351 58.877707 -1.932409 59.427161 -2.16 \nC 60 -2.16 60.572839 -2.16 61.122293 -1.932409 \nC 61.527351 -1.527351 61.932409 -1.122293 62.16 -0.572839 \nC 62.16 0 62.16 0.572839 61.932409 1.122293 \nC 61.527351 1.527351 61.122293 1.932409 60.572839 2.16 \nz\nM 72 2.4 \nC 72.636487 2.4 73.246992 2.147121 73.697056 1.697056 \nC 74.147121 1.246992 74.4 0.636487 74.4 0 \nC 74.4 -0.636487 74.147121 -1.246992 73.697056 -1.697056 \nC 73.246992 -2.147121 72.636487 -2.4 72 -2.4 \nC 71.363513 -2.4 70.753008 -2.147121 70.302944 -1.697056 \nC 69.852879 -1.246992 69.6 -0.636487 69.6 0 \nC 69.6 0.636487 69.852879 1.246992 70.302944 1.697056 \nC 70.753008 2.147121 71.363513 2.4 72 2.4 \nz\nM 72 2.16 \nC 72 2.16 71.427161 2.16 70.877707 1.932409 \nC 70.472649 1.527351 70.067591 1.122293 69.84 0.572839 \nC 69.84 0 69.84 -0.572839 70.067591 -1.122293 \nC 70.472649 -1.527351 70.877707 -1.932409 71.427161 -2.16 \nC 72 -2.16 72.572839 -2.16 73.122293 -1.932409 \nC 73.527351 -1.527351 73.932409 -1.122293 74.16 -0.572839 \nC 74.16 0 74.16 0.572839 73.932409 1.122293 \nC 73.527351 1.527351 73.122293 1.932409 72.572839 2.16 \nz\n\" style=\"fill: #000000; stroke: #000000; stroke-width: 1.0; stroke-linecap: butt; stroke-linejoin: miter\"/>\n  </pattern>\n </defs>\n</svg>\n"
     },
     "metadata": {},
     "output_type": "display_data"
    }
   ],
   "execution_count": 30
  },
  {
   "cell_type": "code",
   "metadata": {
    "ExecuteTime": {
     "end_time": "2025-03-15T10:53:26.707622Z",
     "start_time": "2025-03-15T10:53:26.694119Z"
    }
   },
   "source": [
    "fig, ax = plt.subplots(figsize=(6, 4))\n",
    "\n",
    "ax.set_xlim(0,6)\n",
    "ax.set_ylim(0,4)\n",
    "\n",
    "ax.spines[:].set_visible(False)    \n",
    "ax.set_xticks([])\n",
    "ax.set_yticks([])\n",
    "\n",
    "height = 2.0\n",
    "\n",
    "hatches = ['-', 'x', '.', 'o', '*' ]\n",
    "ax.add_artist(patches.Rectangle((0.5, 2-height/2), height=height, width=5, fill=False, lw=2.0, hatch='*'))\n",
    "\n",
    "plt.show()"
   ],
   "outputs": [
    {
     "data": {
      "text/plain": [
       "<Figure size 600x400 with 1 Axes>"
      ],
      "image/svg+xml": "<?xml version=\"1.0\" encoding=\"utf-8\" standalone=\"no\"?>\n<!DOCTYPE svg PUBLIC \"-//W3C//DTD SVG 1.1//EN\"\n  \"http://www.w3.org/Graphics/SVG/1.1/DTD/svg11.dtd\">\n<svg xmlns:xlink=\"http://www.w3.org/1999/xlink\" width=\"349.2pt\" height=\"236.16pt\" viewBox=\"0 0 349.2 236.16\" xmlns=\"http://www.w3.org/2000/svg\" version=\"1.1\">\n <metadata>\n  <rdf:RDF xmlns:dc=\"http://purl.org/dc/elements/1.1/\" xmlns:cc=\"http://creativecommons.org/ns#\" xmlns:rdf=\"http://www.w3.org/1999/02/22-rdf-syntax-ns#\">\n   <cc:Work>\n    <dc:type rdf:resource=\"http://purl.org/dc/dcmitype/StillImage\"/>\n    <dc:date>2025-03-15T11:53:26.703374</dc:date>\n    <dc:format>image/svg+xml</dc:format>\n    <dc:creator>\n     <cc:Agent>\n      <dc:title>Matplotlib v3.10.0, https://matplotlib.org/</dc:title>\n     </cc:Agent>\n    </dc:creator>\n   </cc:Work>\n  </rdf:RDF>\n </metadata>\n <defs>\n  <style type=\"text/css\">*{stroke-linejoin: round; stroke-linecap: butt}</style>\n </defs>\n <g id=\"figure_1\">\n  <g id=\"patch_1\">\n   <path d=\"M 0 236.16 \nL 349.2 236.16 \nL 349.2 0 \nL 0 0 \nz\n\" style=\"fill: #ffffff\"/>\n  </g>\n  <g id=\"axes_1\">\n   <g id=\"patch_2\">\n    <path d=\"M 7.2 228.96 \nL 342 228.96 \nL 342 7.2 \nL 7.2 7.2 \nz\n\" style=\"fill: #ffffff\"/>\n   </g>\n   <g id=\"patch_3\">\n    <path d=\"M 35.1 173.52 \nL 314.1 173.52 \nL 314.1 62.64 \nL 35.1 62.64 \nz\n\" clip-path=\"url(#p47590b80b2)\" style=\"fill: url(#hcd43548c35); stroke: #000000; stroke-width: 2; stroke-linejoin: miter\"/>\n   </g>\n   <g id=\"matplotlib.axis_1\"/>\n   <g id=\"matplotlib.axis_2\"/>\n  </g>\n </g>\n <defs>\n  <clipPath id=\"p47590b80b2\">\n   <rect x=\"7.2\" y=\"7.2\" width=\"334.8\" height=\"221.76\"/>\n  </clipPath>\n </defs>\n <defs>\n  <pattern id=\"hcd43548c35\" patternUnits=\"userSpaceOnUse\" x=\"0\" y=\"0\" width=\"72\" height=\"72\">\n   <rect x=\"0\" y=\"0\" width=\"73\" height=\"73\" fill=\"none\"/>\n   <path d=\"M 0 68 \nL -1.175571 70.381966 \nL -3.804226 70.763932 \nL -1.902113 72.618034 \nL -2.351141 75.236068 \nL -0 74 \nL 2.351141 75.236068 \nL 1.902113 72.618034 \nL 3.804226 70.763932 \nL 1.175571 70.381966 \nL 0 68 \nM 12 68 \nL 10.824429 70.381966 \nL 8.195774 70.763932 \nL 10.097887 72.618034 \nL 9.648859 75.236068 \nL 12 74 \nL 14.351141 75.236068 \nL 13.902113 72.618034 \nL 15.804226 70.763932 \nL 13.175571 70.381966 \nL 12 68 \nM 24 68 \nL 22.824429 70.381966 \nL 20.195774 70.763932 \nL 22.097887 72.618034 \nL 21.648859 75.236068 \nL 24 74 \nL 26.351141 75.236068 \nL 25.902113 72.618034 \nL 27.804226 70.763932 \nL 25.175571 70.381966 \nL 24 68 \nM 36 68 \nL 34.824429 70.381966 \nL 32.195774 70.763932 \nL 34.097887 72.618034 \nL 33.648859 75.236068 \nL 36 74 \nL 38.351141 75.236068 \nL 37.902113 72.618034 \nL 39.804226 70.763932 \nL 37.175571 70.381966 \nL 36 68 \nM 48 68 \nL 46.824429 70.381966 \nL 44.195774 70.763932 \nL 46.097887 72.618034 \nL 45.648859 75.236068 \nL 48 74 \nL 50.351141 75.236068 \nL 49.902113 72.618034 \nL 51.804226 70.763932 \nL 49.175571 70.381966 \nL 48 68 \nM 60 68 \nL 58.824429 70.381966 \nL 56.195774 70.763932 \nL 58.097887 72.618034 \nL 57.648859 75.236068 \nL 60 74 \nL 62.351141 75.236068 \nL 61.902113 72.618034 \nL 63.804226 70.763932 \nL 61.175571 70.381966 \nL 60 68 \nM 72 68 \nL 70.824429 70.381966 \nL 68.195774 70.763932 \nL 70.097887 72.618034 \nL 69.648859 75.236068 \nL 72 74 \nL 74.351141 75.236068 \nL 73.902113 72.618034 \nL 75.804226 70.763932 \nL 73.175571 70.381966 \nL 72 68 \nM 6 56 \nL 4.824429 58.381966 \nL 2.195774 58.763932 \nL 4.097887 60.618034 \nL 3.648859 63.236068 \nL 6 62 \nL 8.351141 63.236068 \nL 7.902113 60.618034 \nL 9.804226 58.763932 \nL 7.175571 58.381966 \nL 6 56 \nM 18 56 \nL 16.824429 58.381966 \nL 14.195774 58.763932 \nL 16.097887 60.618034 \nL 15.648859 63.236068 \nL 18 62 \nL 20.351141 63.236068 \nL 19.902113 60.618034 \nL 21.804226 58.763932 \nL 19.175571 58.381966 \nL 18 56 \nM 30 56 \nL 28.824429 58.381966 \nL 26.195774 58.763932 \nL 28.097887 60.618034 \nL 27.648859 63.236068 \nL 30 62 \nL 32.351141 63.236068 \nL 31.902113 60.618034 \nL 33.804226 58.763932 \nL 31.175571 58.381966 \nL 30 56 \nM 42 56 \nL 40.824429 58.381966 \nL 38.195774 58.763932 \nL 40.097887 60.618034 \nL 39.648859 63.236068 \nL 42 62 \nL 44.351141 63.236068 \nL 43.902113 60.618034 \nL 45.804226 58.763932 \nL 43.175571 58.381966 \nL 42 56 \nM 54 56 \nL 52.824429 58.381966 \nL 50.195774 58.763932 \nL 52.097887 60.618034 \nL 51.648859 63.236068 \nL 54 62 \nL 56.351141 63.236068 \nL 55.902113 60.618034 \nL 57.804226 58.763932 \nL 55.175571 58.381966 \nL 54 56 \nM 66 56 \nL 64.824429 58.381966 \nL 62.195774 58.763932 \nL 64.097887 60.618034 \nL 63.648859 63.236068 \nL 66 62 \nL 68.351141 63.236068 \nL 67.902113 60.618034 \nL 69.804226 58.763932 \nL 67.175571 58.381966 \nL 66 56 \nM 0 44 \nL -1.175571 46.381966 \nL -3.804226 46.763932 \nL -1.902113 48.618034 \nL -2.351141 51.236068 \nL -0 50 \nL 2.351141 51.236068 \nL 1.902113 48.618034 \nL 3.804226 46.763932 \nL 1.175571 46.381966 \nL 0 44 \nM 12 44 \nL 10.824429 46.381966 \nL 8.195774 46.763932 \nL 10.097887 48.618034 \nL 9.648859 51.236068 \nL 12 50 \nL 14.351141 51.236068 \nL 13.902113 48.618034 \nL 15.804226 46.763932 \nL 13.175571 46.381966 \nL 12 44 \nM 24 44 \nL 22.824429 46.381966 \nL 20.195774 46.763932 \nL 22.097887 48.618034 \nL 21.648859 51.236068 \nL 24 50 \nL 26.351141 51.236068 \nL 25.902113 48.618034 \nL 27.804226 46.763932 \nL 25.175571 46.381966 \nL 24 44 \nM 36 44 \nL 34.824429 46.381966 \nL 32.195774 46.763932 \nL 34.097887 48.618034 \nL 33.648859 51.236068 \nL 36 50 \nL 38.351141 51.236068 \nL 37.902113 48.618034 \nL 39.804226 46.763932 \nL 37.175571 46.381966 \nL 36 44 \nM 48 44 \nL 46.824429 46.381966 \nL 44.195774 46.763932 \nL 46.097887 48.618034 \nL 45.648859 51.236068 \nL 48 50 \nL 50.351141 51.236068 \nL 49.902113 48.618034 \nL 51.804226 46.763932 \nL 49.175571 46.381966 \nL 48 44 \nM 60 44 \nL 58.824429 46.381966 \nL 56.195774 46.763932 \nL 58.097887 48.618034 \nL 57.648859 51.236068 \nL 60 50 \nL 62.351141 51.236068 \nL 61.902113 48.618034 \nL 63.804226 46.763932 \nL 61.175571 46.381966 \nL 60 44 \nM 72 44 \nL 70.824429 46.381966 \nL 68.195774 46.763932 \nL 70.097887 48.618034 \nL 69.648859 51.236068 \nL 72 50 \nL 74.351141 51.236068 \nL 73.902113 48.618034 \nL 75.804226 46.763932 \nL 73.175571 46.381966 \nL 72 44 \nM 6 32 \nL 4.824429 34.381966 \nL 2.195774 34.763932 \nL 4.097887 36.618034 \nL 3.648859 39.236068 \nL 6 38 \nL 8.351141 39.236068 \nL 7.902113 36.618034 \nL 9.804226 34.763932 \nL 7.175571 34.381966 \nL 6 32 \nM 18 32 \nL 16.824429 34.381966 \nL 14.195774 34.763932 \nL 16.097887 36.618034 \nL 15.648859 39.236068 \nL 18 38 \nL 20.351141 39.236068 \nL 19.902113 36.618034 \nL 21.804226 34.763932 \nL 19.175571 34.381966 \nL 18 32 \nM 30 32 \nL 28.824429 34.381966 \nL 26.195774 34.763932 \nL 28.097887 36.618034 \nL 27.648859 39.236068 \nL 30 38 \nL 32.351141 39.236068 \nL 31.902113 36.618034 \nL 33.804226 34.763932 \nL 31.175571 34.381966 \nL 30 32 \nM 42 32 \nL 40.824429 34.381966 \nL 38.195774 34.763932 \nL 40.097887 36.618034 \nL 39.648859 39.236068 \nL 42 38 \nL 44.351141 39.236068 \nL 43.902113 36.618034 \nL 45.804226 34.763932 \nL 43.175571 34.381966 \nL 42 32 \nM 54 32 \nL 52.824429 34.381966 \nL 50.195774 34.763932 \nL 52.097887 36.618034 \nL 51.648859 39.236068 \nL 54 38 \nL 56.351141 39.236068 \nL 55.902113 36.618034 \nL 57.804226 34.763932 \nL 55.175571 34.381966 \nL 54 32 \nM 66 32 \nL 64.824429 34.381966 \nL 62.195774 34.763932 \nL 64.097887 36.618034 \nL 63.648859 39.236068 \nL 66 38 \nL 68.351141 39.236068 \nL 67.902113 36.618034 \nL 69.804226 34.763932 \nL 67.175571 34.381966 \nL 66 32 \nM 0 20 \nL -1.175571 22.381966 \nL -3.804226 22.763932 \nL -1.902113 24.618034 \nL -2.351141 27.236068 \nL -0 26 \nL 2.351141 27.236068 \nL 1.902113 24.618034 \nL 3.804226 22.763932 \nL 1.175571 22.381966 \nL 0 20 \nM 12 20 \nL 10.824429 22.381966 \nL 8.195774 22.763932 \nL 10.097887 24.618034 \nL 9.648859 27.236068 \nL 12 26 \nL 14.351141 27.236068 \nL 13.902113 24.618034 \nL 15.804226 22.763932 \nL 13.175571 22.381966 \nL 12 20 \nM 24 20 \nL 22.824429 22.381966 \nL 20.195774 22.763932 \nL 22.097887 24.618034 \nL 21.648859 27.236068 \nL 24 26 \nL 26.351141 27.236068 \nL 25.902113 24.618034 \nL 27.804226 22.763932 \nL 25.175571 22.381966 \nL 24 20 \nM 36 20 \nL 34.824429 22.381966 \nL 32.195774 22.763932 \nL 34.097887 24.618034 \nL 33.648859 27.236068 \nL 36 26 \nL 38.351141 27.236068 \nL 37.902113 24.618034 \nL 39.804226 22.763932 \nL 37.175571 22.381966 \nL 36 20 \nM 48 20 \nL 46.824429 22.381966 \nL 44.195774 22.763932 \nL 46.097887 24.618034 \nL 45.648859 27.236068 \nL 48 26 \nL 50.351141 27.236068 \nL 49.902113 24.618034 \nL 51.804226 22.763932 \nL 49.175571 22.381966 \nL 48 20 \nM 60 20 \nL 58.824429 22.381966 \nL 56.195774 22.763932 \nL 58.097887 24.618034 \nL 57.648859 27.236068 \nL 60 26 \nL 62.351141 27.236068 \nL 61.902113 24.618034 \nL 63.804226 22.763932 \nL 61.175571 22.381966 \nL 60 20 \nM 72 20 \nL 70.824429 22.381966 \nL 68.195774 22.763932 \nL 70.097887 24.618034 \nL 69.648859 27.236068 \nL 72 26 \nL 74.351141 27.236068 \nL 73.902113 24.618034 \nL 75.804226 22.763932 \nL 73.175571 22.381966 \nL 72 20 \nM 6 8 \nL 4.824429 10.381966 \nL 2.195774 10.763932 \nL 4.097887 12.618034 \nL 3.648859 15.236068 \nL 6 14 \nL 8.351141 15.236068 \nL 7.902113 12.618034 \nL 9.804226 10.763932 \nL 7.175571 10.381966 \nL 6 8 \nM 18 8 \nL 16.824429 10.381966 \nL 14.195774 10.763932 \nL 16.097887 12.618034 \nL 15.648859 15.236068 \nL 18 14 \nL 20.351141 15.236068 \nL 19.902113 12.618034 \nL 21.804226 10.763932 \nL 19.175571 10.381966 \nL 18 8 \nM 30 8 \nL 28.824429 10.381966 \nL 26.195774 10.763932 \nL 28.097887 12.618034 \nL 27.648859 15.236068 \nL 30 14 \nL 32.351141 15.236068 \nL 31.902113 12.618034 \nL 33.804226 10.763932 \nL 31.175571 10.381966 \nL 30 8 \nM 42 8 \nL 40.824429 10.381966 \nL 38.195774 10.763932 \nL 40.097887 12.618034 \nL 39.648859 15.236068 \nL 42 14 \nL 44.351141 15.236068 \nL 43.902113 12.618034 \nL 45.804226 10.763932 \nL 43.175571 10.381966 \nL 42 8 \nM 54 8 \nL 52.824429 10.381966 \nL 50.195774 10.763932 \nL 52.097887 12.618034 \nL 51.648859 15.236068 \nL 54 14 \nL 56.351141 15.236068 \nL 55.902113 12.618034 \nL 57.804226 10.763932 \nL 55.175571 10.381966 \nL 54 8 \nM 66 8 \nL 64.824429 10.381966 \nL 62.195774 10.763932 \nL 64.097887 12.618034 \nL 63.648859 15.236068 \nL 66 14 \nL 68.351141 15.236068 \nL 67.902113 12.618034 \nL 69.804226 10.763932 \nL 67.175571 10.381966 \nL 66 8 \nM 0 -4 \nL -1.175571 -1.618034 \nL -3.804226 -1.236068 \nL -1.902113 0.618034 \nL -2.351141 3.236068 \nL -0 2 \nL 2.351141 3.236068 \nL 1.902113 0.618034 \nL 3.804226 -1.236068 \nL 1.175571 -1.618034 \nL 0 -4 \nM 12 -4 \nL 10.824429 -1.618034 \nL 8.195774 -1.236068 \nL 10.097887 0.618034 \nL 9.648859 3.236068 \nL 12 2 \nL 14.351141 3.236068 \nL 13.902113 0.618034 \nL 15.804226 -1.236068 \nL 13.175571 -1.618034 \nL 12 -4 \nM 24 -4 \nL 22.824429 -1.618034 \nL 20.195774 -1.236068 \nL 22.097887 0.618034 \nL 21.648859 3.236068 \nL 24 2 \nL 26.351141 3.236068 \nL 25.902113 0.618034 \nL 27.804226 -1.236068 \nL 25.175571 -1.618034 \nL 24 -4 \nM 36 -4 \nL 34.824429 -1.618034 \nL 32.195774 -1.236068 \nL 34.097887 0.618034 \nL 33.648859 3.236068 \nL 36 2 \nL 38.351141 3.236068 \nL 37.902113 0.618034 \nL 39.804226 -1.236068 \nL 37.175571 -1.618034 \nL 36 -4 \nM 48 -4 \nL 46.824429 -1.618034 \nL 44.195774 -1.236068 \nL 46.097887 0.618034 \nL 45.648859 3.236068 \nL 48 2 \nL 50.351141 3.236068 \nL 49.902113 0.618034 \nL 51.804226 -1.236068 \nL 49.175571 -1.618034 \nL 48 -4 \nM 60 -4 \nL 58.824429 -1.618034 \nL 56.195774 -1.236068 \nL 58.097887 0.618034 \nL 57.648859 3.236068 \nL 60 2 \nL 62.351141 3.236068 \nL 61.902113 0.618034 \nL 63.804226 -1.236068 \nL 61.175571 -1.618034 \nL 60 -4 \nM 72 -4 \nL 70.824429 -1.618034 \nL 68.195774 -1.236068 \nL 70.097887 0.618034 \nL 69.648859 3.236068 \nL 72 2 \nL 74.351141 3.236068 \nL 73.902113 0.618034 \nL 75.804226 -1.236068 \nL 73.175571 -1.618034 \nL 72 -4 \n\" style=\"fill: #000000; stroke: #000000; stroke-width: 1.0; stroke-linecap: butt; stroke-linejoin: miter\"/>\n  </pattern>\n </defs>\n</svg>\n"
     },
     "metadata": {},
     "output_type": "display_data"
    }
   ],
   "execution_count": 31
  },
  {
   "cell_type": "code",
   "metadata": {
    "ExecuteTime": {
     "end_time": "2025-03-15T10:53:26.746832Z",
     "start_time": "2025-03-15T10:53:26.734248Z"
    }
   },
   "source": [
    "fig, ax = plt.subplots(figsize=(6, 4))\n",
    "\n",
    "ax.set_xlim(0,6)\n",
    "ax.set_ylim(0,4)\n",
    "\n",
    "ax.spines[:].set_visible(False)    \n",
    "ax.set_xticks([])\n",
    "ax.set_yticks([])\n",
    "\n",
    "lstyles = ['-', '--', '-.', ':']\n",
    "\n",
    "ax.plot([1.0, 5.0], [2.0, 2.0], lw=5, ls='-', color='black')\n",
    "\n",
    "plt.show()"
   ],
   "outputs": [
    {
     "data": {
      "text/plain": [
       "<Figure size 600x400 with 1 Axes>"
      ],
      "image/svg+xml": "<?xml version=\"1.0\" encoding=\"utf-8\" standalone=\"no\"?>\n<!DOCTYPE svg PUBLIC \"-//W3C//DTD SVG 1.1//EN\"\n  \"http://www.w3.org/Graphics/SVG/1.1/DTD/svg11.dtd\">\n<svg xmlns:xlink=\"http://www.w3.org/1999/xlink\" width=\"349.2pt\" height=\"236.16pt\" viewBox=\"0 0 349.2 236.16\" xmlns=\"http://www.w3.org/2000/svg\" version=\"1.1\">\n <metadata>\n  <rdf:RDF xmlns:dc=\"http://purl.org/dc/elements/1.1/\" xmlns:cc=\"http://creativecommons.org/ns#\" xmlns:rdf=\"http://www.w3.org/1999/02/22-rdf-syntax-ns#\">\n   <cc:Work>\n    <dc:type rdf:resource=\"http://purl.org/dc/dcmitype/StillImage\"/>\n    <dc:date>2025-03-15T11:53:26.743483</dc:date>\n    <dc:format>image/svg+xml</dc:format>\n    <dc:creator>\n     <cc:Agent>\n      <dc:title>Matplotlib v3.10.0, https://matplotlib.org/</dc:title>\n     </cc:Agent>\n    </dc:creator>\n   </cc:Work>\n  </rdf:RDF>\n </metadata>\n <defs>\n  <style type=\"text/css\">*{stroke-linejoin: round; stroke-linecap: butt}</style>\n </defs>\n <g id=\"figure_1\">\n  <g id=\"patch_1\">\n   <path d=\"M 0 236.16 \nL 349.2 236.16 \nL 349.2 0 \nL 0 0 \nz\n\" style=\"fill: #ffffff\"/>\n  </g>\n  <g id=\"axes_1\">\n   <g id=\"patch_2\">\n    <path d=\"M 7.2 228.96 \nL 342 228.96 \nL 342 7.2 \nL 7.2 7.2 \nz\n\" style=\"fill: #ffffff\"/>\n   </g>\n   <g id=\"matplotlib.axis_1\"/>\n   <g id=\"matplotlib.axis_2\"/>\n   <g id=\"line2d_1\">\n    <path d=\"M 63 118.08 \nL 286.2 118.08 \n\" clip-path=\"url(#pda139457c1)\" style=\"fill: none; stroke: #000000; stroke-width: 5; stroke-linecap: square\"/>\n   </g>\n  </g>\n </g>\n <defs>\n  <clipPath id=\"pda139457c1\">\n   <rect x=\"7.2\" y=\"7.2\" width=\"334.8\" height=\"221.76\"/>\n  </clipPath>\n </defs>\n</svg>\n"
     },
     "metadata": {},
     "output_type": "display_data"
    }
   ],
   "execution_count": 32
  },
  {
   "cell_type": "code",
   "metadata": {
    "ExecuteTime": {
     "end_time": "2025-03-15T10:53:26.786138Z",
     "start_time": "2025-03-15T10:53:26.771442Z"
    }
   },
   "source": [
    "fig, ax = plt.subplots(figsize=(6, 4))\n",
    "\n",
    "ax.set_xlim(0,6)\n",
    "ax.set_ylim(0,4)\n",
    "\n",
    "ax.spines[:].set_visible(False)    \n",
    "ax.set_xticks([])\n",
    "ax.set_yticks([])\n",
    "\n",
    "lstyles = ['-', '--', '-.', ':']\n",
    "\n",
    "ax.plot([1.0, 5.0], [2.0, 2.0], lw=5, ls='--', color='black')\n",
    "\n",
    "plt.show()"
   ],
   "outputs": [
    {
     "data": {
      "text/plain": [
       "<Figure size 600x400 with 1 Axes>"
      ],
      "image/svg+xml": "<?xml version=\"1.0\" encoding=\"utf-8\" standalone=\"no\"?>\n<!DOCTYPE svg PUBLIC \"-//W3C//DTD SVG 1.1//EN\"\n  \"http://www.w3.org/Graphics/SVG/1.1/DTD/svg11.dtd\">\n<svg xmlns:xlink=\"http://www.w3.org/1999/xlink\" width=\"349.2pt\" height=\"236.16pt\" viewBox=\"0 0 349.2 236.16\" xmlns=\"http://www.w3.org/2000/svg\" version=\"1.1\">\n <metadata>\n  <rdf:RDF xmlns:dc=\"http://purl.org/dc/elements/1.1/\" xmlns:cc=\"http://creativecommons.org/ns#\" xmlns:rdf=\"http://www.w3.org/1999/02/22-rdf-syntax-ns#\">\n   <cc:Work>\n    <dc:type rdf:resource=\"http://purl.org/dc/dcmitype/StillImage\"/>\n    <dc:date>2025-03-15T11:53:26.781824</dc:date>\n    <dc:format>image/svg+xml</dc:format>\n    <dc:creator>\n     <cc:Agent>\n      <dc:title>Matplotlib v3.10.0, https://matplotlib.org/</dc:title>\n     </cc:Agent>\n    </dc:creator>\n   </cc:Work>\n  </rdf:RDF>\n </metadata>\n <defs>\n  <style type=\"text/css\">*{stroke-linejoin: round; stroke-linecap: butt}</style>\n </defs>\n <g id=\"figure_1\">\n  <g id=\"patch_1\">\n   <path d=\"M 0 236.16 \nL 349.2 236.16 \nL 349.2 0 \nL 0 0 \nz\n\" style=\"fill: #ffffff\"/>\n  </g>\n  <g id=\"axes_1\">\n   <g id=\"patch_2\">\n    <path d=\"M 7.2 228.96 \nL 342 228.96 \nL 342 7.2 \nL 7.2 7.2 \nz\n\" style=\"fill: #ffffff\"/>\n   </g>\n   <g id=\"matplotlib.axis_1\"/>\n   <g id=\"matplotlib.axis_2\"/>\n   <g id=\"line2d_1\">\n    <path d=\"M 63 118.08 \nL 286.2 118.08 \n\" clip-path=\"url(#p98fd9f0b27)\" style=\"fill: none; stroke-dasharray: 18.5,8; stroke-dashoffset: 0; stroke: #000000; stroke-width: 5\"/>\n   </g>\n  </g>\n </g>\n <defs>\n  <clipPath id=\"p98fd9f0b27\">\n   <rect x=\"7.2\" y=\"7.2\" width=\"334.8\" height=\"221.76\"/>\n  </clipPath>\n </defs>\n</svg>\n"
     },
     "metadata": {},
     "output_type": "display_data"
    }
   ],
   "execution_count": 33
  },
  {
   "cell_type": "code",
   "metadata": {
    "ExecuteTime": {
     "end_time": "2025-03-15T10:53:26.833034Z",
     "start_time": "2025-03-15T10:53:26.821298Z"
    }
   },
   "source": [
    "fig, ax = plt.subplots(figsize=(6, 4))\n",
    "\n",
    "ax.set_xlim(0,6)\n",
    "ax.set_ylim(0,4)\n",
    "\n",
    "ax.spines[:].set_visible(False)    \n",
    "ax.set_xticks([])\n",
    "ax.set_yticks([])\n",
    "\n",
    "lstyles = ['-', '--', '-.', ':']\n",
    "\n",
    "ax.plot([1.0, 5.0], [2.0, 2.0], lw=5, ls='-.', color='black')\n",
    "\n",
    "plt.show()"
   ],
   "outputs": [
    {
     "data": {
      "text/plain": [
       "<Figure size 600x400 with 1 Axes>"
      ],
      "image/svg+xml": "<?xml version=\"1.0\" encoding=\"utf-8\" standalone=\"no\"?>\n<!DOCTYPE svg PUBLIC \"-//W3C//DTD SVG 1.1//EN\"\n  \"http://www.w3.org/Graphics/SVG/1.1/DTD/svg11.dtd\">\n<svg xmlns:xlink=\"http://www.w3.org/1999/xlink\" width=\"349.2pt\" height=\"236.16pt\" viewBox=\"0 0 349.2 236.16\" xmlns=\"http://www.w3.org/2000/svg\" version=\"1.1\">\n <metadata>\n  <rdf:RDF xmlns:dc=\"http://purl.org/dc/elements/1.1/\" xmlns:cc=\"http://creativecommons.org/ns#\" xmlns:rdf=\"http://www.w3.org/1999/02/22-rdf-syntax-ns#\">\n   <cc:Work>\n    <dc:type rdf:resource=\"http://purl.org/dc/dcmitype/StillImage\"/>\n    <dc:date>2025-03-15T11:53:26.829509</dc:date>\n    <dc:format>image/svg+xml</dc:format>\n    <dc:creator>\n     <cc:Agent>\n      <dc:title>Matplotlib v3.10.0, https://matplotlib.org/</dc:title>\n     </cc:Agent>\n    </dc:creator>\n   </cc:Work>\n  </rdf:RDF>\n </metadata>\n <defs>\n  <style type=\"text/css\">*{stroke-linejoin: round; stroke-linecap: butt}</style>\n </defs>\n <g id=\"figure_1\">\n  <g id=\"patch_1\">\n   <path d=\"M 0 236.16 \nL 349.2 236.16 \nL 349.2 0 \nL 0 0 \nz\n\" style=\"fill: #ffffff\"/>\n  </g>\n  <g id=\"axes_1\">\n   <g id=\"patch_2\">\n    <path d=\"M 7.2 228.96 \nL 342 228.96 \nL 342 7.2 \nL 7.2 7.2 \nz\n\" style=\"fill: #ffffff\"/>\n   </g>\n   <g id=\"matplotlib.axis_1\"/>\n   <g id=\"matplotlib.axis_2\"/>\n   <g id=\"line2d_1\">\n    <path d=\"M 63 118.08 \nL 286.2 118.08 \n\" clip-path=\"url(#p6d4b7181c0)\" style=\"fill: none; stroke-dasharray: 32,8,5,8; stroke-dashoffset: 0; stroke: #000000; stroke-width: 5\"/>\n   </g>\n  </g>\n </g>\n <defs>\n  <clipPath id=\"p6d4b7181c0\">\n   <rect x=\"7.2\" y=\"7.2\" width=\"334.8\" height=\"221.76\"/>\n  </clipPath>\n </defs>\n</svg>\n"
     },
     "metadata": {},
     "output_type": "display_data"
    }
   ],
   "execution_count": 34
  },
  {
   "cell_type": "code",
   "metadata": {
    "ExecuteTime": {
     "end_time": "2025-03-15T10:53:26.866030Z",
     "start_time": "2025-03-15T10:53:26.854121Z"
    }
   },
   "source": [
    "\n",
    "fig, ax = plt.subplots(figsize=(6, 4))\n",
    "\n",
    "ax.set_xlim(0,6)\n",
    "ax.set_ylim(0,4)\n",
    "\n",
    "ax.spines[:].set_visible(False)    \n",
    "ax.set_xticks([])\n",
    "ax.set_yticks([])\n",
    "\n",
    "lstyles = ['-', '--', '-.', ':']\n",
    "\n",
    "ax.plot([1.0, 5.0], [2.0, 2.0], lw=5, ls=':', color='black')\n",
    "\n",
    "plt.show()"
   ],
   "outputs": [
    {
     "data": {
      "text/plain": [
       "<Figure size 600x400 with 1 Axes>"
      ],
      "image/svg+xml": "<?xml version=\"1.0\" encoding=\"utf-8\" standalone=\"no\"?>\n<!DOCTYPE svg PUBLIC \"-//W3C//DTD SVG 1.1//EN\"\n  \"http://www.w3.org/Graphics/SVG/1.1/DTD/svg11.dtd\">\n<svg xmlns:xlink=\"http://www.w3.org/1999/xlink\" width=\"349.2pt\" height=\"236.16pt\" viewBox=\"0 0 349.2 236.16\" xmlns=\"http://www.w3.org/2000/svg\" version=\"1.1\">\n <metadata>\n  <rdf:RDF xmlns:dc=\"http://purl.org/dc/elements/1.1/\" xmlns:cc=\"http://creativecommons.org/ns#\" xmlns:rdf=\"http://www.w3.org/1999/02/22-rdf-syntax-ns#\">\n   <cc:Work>\n    <dc:type rdf:resource=\"http://purl.org/dc/dcmitype/StillImage\"/>\n    <dc:date>2025-03-15T11:53:26.861874</dc:date>\n    <dc:format>image/svg+xml</dc:format>\n    <dc:creator>\n     <cc:Agent>\n      <dc:title>Matplotlib v3.10.0, https://matplotlib.org/</dc:title>\n     </cc:Agent>\n    </dc:creator>\n   </cc:Work>\n  </rdf:RDF>\n </metadata>\n <defs>\n  <style type=\"text/css\">*{stroke-linejoin: round; stroke-linecap: butt}</style>\n </defs>\n <g id=\"figure_1\">\n  <g id=\"patch_1\">\n   <path d=\"M 0 236.16 \nL 349.2 236.16 \nL 349.2 0 \nL 0 0 \nz\n\" style=\"fill: #ffffff\"/>\n  </g>\n  <g id=\"axes_1\">\n   <g id=\"patch_2\">\n    <path d=\"M 7.2 228.96 \nL 342 228.96 \nL 342 7.2 \nL 7.2 7.2 \nz\n\" style=\"fill: #ffffff\"/>\n   </g>\n   <g id=\"matplotlib.axis_1\"/>\n   <g id=\"matplotlib.axis_2\"/>\n   <g id=\"line2d_1\">\n    <path d=\"M 63 118.08 \nL 286.2 118.08 \n\" clip-path=\"url(#p31766bb776)\" style=\"fill: none; stroke-dasharray: 5,8.25; stroke-dashoffset: 0; stroke: #000000; stroke-width: 5\"/>\n   </g>\n  </g>\n </g>\n <defs>\n  <clipPath id=\"p31766bb776\">\n   <rect x=\"7.2\" y=\"7.2\" width=\"334.8\" height=\"221.76\"/>\n  </clipPath>\n </defs>\n</svg>\n"
     },
     "metadata": {},
     "output_type": "display_data"
    }
   ],
   "execution_count": 35
  },
  {
   "cell_type": "markdown",
   "metadata": {},
   "source": []
  },
  {
   "cell_type": "code",
   "metadata": {
    "ExecuteTime": {
     "end_time": "2025-03-15T10:53:26.880889Z",
     "start_time": "2025-03-15T10:53:26.879164Z"
    }
   },
   "source": [],
   "outputs": [],
   "execution_count": null
  },
  {
   "cell_type": "code",
   "metadata": {
    "ExecuteTime": {
     "end_time": "2025-03-15T10:53:26.895760Z",
     "start_time": "2025-03-15T10:53:26.894281Z"
    }
   },
   "source": [],
   "outputs": [],
   "execution_count": null
  },
  {
   "cell_type": "code",
   "metadata": {
    "ExecuteTime": {
     "end_time": "2025-03-15T10:53:26.910143Z",
     "start_time": "2025-03-15T10:53:26.906645Z"
    }
   },
   "source": [
    "def draw_arrows_tilted(ax):\n",
    "    ax.set_xlim(0,6)\n",
    "    ax.set_ylim(0,4)\n",
    "\n",
    "    ax.spines[:].set_visible(False)    \n",
    "    ax.set_xticks([])\n",
    "    ax.set_yticks([])\n",
    "\n",
    "    length = 1.0\n",
    "\n",
    "    angles = [90, 70, 45, 0.0]\n",
    "    # Convert the angles to radians\n",
    "    angles = [np.deg2rad(angle) for angle in angles]\n",
    "    \n",
    "    xs = [1.0, 2.0, 3.0, 4.0]\n",
    "\n",
    "    for x, angle in list(zip(xs, angles)):\n",
    "        dx = length * np.cos(angle)\n",
    "        dy = length * np.sin(angle)\n",
    "        \n",
    "        ax.add_artist(patches.FancyArrow(x, 1.5, dx, dy, width=0.1, head_length=0.3,\n",
    "                                        length_includes_head=True, edgecolor='black',\n",
    "                                        facecolor='black', lw=0))\n",
    "    \n",
    "    return ax"
   ],
   "outputs": [],
   "execution_count": 36
  },
  {
   "cell_type": "code",
   "metadata": {
    "ExecuteTime": {
     "end_time": "2025-03-15T10:53:26.941295Z",
     "start_time": "2025-03-15T10:53:26.936405Z"
    }
   },
   "source": [
    "def draw_shapes(ax):\n",
    "    ax.set_xlim(0,6)\n",
    "    ax.set_ylim(0,4)\n",
    "\n",
    "    ax.spines[:].set_visible(False)    \n",
    "    ax.set_xticks([])\n",
    "    ax.set_yticks([])\n",
    "\n",
    "    lw = 2\n",
    "    edgecolor = 'black'\n",
    "    facecolor = greys[2]\n",
    "\n",
    "    #add rectangle to plot\n",
    "    ax.add_artist(patches.Rectangle((0.5, 1.5), 1, 1,\n",
    "                edgecolor = edgecolor,\n",
    "                facecolor = facecolor,\n",
    "                fill=True,\n",
    "                lw=lw))\n",
    "\n",
    "    ax.add_artist(patches.Circle((2.5, 2), 0.5, edgecolor='black', facecolor=facecolor, lw=lw))\n",
    "\n",
    "    # Create the vertices of a star\n",
    "    num_points = 5\n",
    "    rotation = np.pi / 2 + np.pi / num_points\n",
    "    angles = 2 * np.pi * np.arange(num_points) / num_points + rotation\n",
    "    inner_ratio = 0.5  # Can adjust to change the shape of the star\n",
    "    xy = np.empty((2 * num_points, 2))\n",
    "    xy[::2, 0] = 0.5 * np.cos(angles)\n",
    "    xy[::2, 1] = 0.5 * np.sin(angles)\n",
    "    xy[1::2, 0] = inner_ratio * 0.5 * np.cos(angles + np.pi / num_points)\n",
    "    xy[1::2, 1] = inner_ratio * 0.5 * np.sin(angles + np.pi / num_points)\n",
    "    # Change the position of the star\n",
    "    x_shift = 3.9  # Change this to shift the star horizontally\n",
    "    y_shift = 2.0  # Change this to shift the star vertically\n",
    "    xy[:, 0] += x_shift\n",
    "    xy[:, 1] += y_shift\n",
    "    star = patches.Polygon(xy, closed=True, edgecolor='black', facecolor=facecolor, lw=lw)\n",
    "    ax.add_artist(star)\n",
    "\n",
    "    # Create the vertices of a triangle\n",
    "    triangle_vertices = [(4.7, 1.5), (5.2, 2.5), (5.7, 1.5)]\n",
    "    triangle = patches.Polygon(triangle_vertices, closed=True, edgecolor='black', facecolor=greys[2], lw=2)\n",
    "    ax.add_artist(triangle)\n",
    "    return ax"
   ],
   "outputs": [],
   "execution_count": 37
  },
  {
   "cell_type": "code",
   "metadata": {
    "ExecuteTime": {
     "end_time": "2025-03-15T10:53:26.962796Z",
     "start_time": "2025-03-15T10:53:26.958940Z"
    }
   },
   "source": [
    "def draw_circles_sizes(ax):\n",
    "    ax.set_xlim(0,6)\n",
    "    ax.set_ylim(0,4)\n",
    "\n",
    "    ax.spines[:].set_visible(False)    \n",
    "    ax.set_xticks([])\n",
    "    ax.set_yticks([])\n",
    "\n",
    "    ax.add_artist(patches.Circle((0.3, 2), 0.1, edgecolor='black', facecolor=greys[2], lw=1.5))\n",
    "    ax.add_artist(patches.Circle((1.1, 2), 0.2, edgecolor='black', facecolor=greys[2], lw=1.5))\n",
    "    ax.add_artist(patches.Circle((2.1, 2), 0.3, edgecolor='black', facecolor=greys[2], lw=1.5))\n",
    "    ax.add_artist(patches.Circle((3.4, 2), 0.5, edgecolor='black', facecolor=greys[2], lw=1.5))\n",
    "    ax.add_artist(patches.Circle((5.1, 2), 0.7, edgecolor='black', facecolor=greys[2], lw=1.5))\n",
    "\n",
    "    return ax"
   ],
   "outputs": [],
   "execution_count": 38
  },
  {
   "cell_type": "code",
   "metadata": {
    "ExecuteTime": {
     "end_time": "2025-03-15T10:53:26.974024Z",
     "start_time": "2025-03-15T10:53:26.971082Z"
    }
   },
   "source": [
    "def draw_circles_colors(ax):\n",
    "    ax.set_xlim(0,6)\n",
    "    ax.set_ylim(0,4)\n",
    "\n",
    "    ax.spines[:].set_visible(False)    \n",
    "    ax.set_xticks([])\n",
    "    ax.set_yticks([])\n",
    "\n",
    "    colors = mpl.colormaps['tab10']\n",
    "\n",
    "    for i, x in enumerate([1.0, 2.0, 3.0, 4.0, 5.0]):\n",
    "        ax.add_artist(patches.Circle((x, 2), 0.4, facecolor=colors(i), lw=0))\n",
    "    \n",
    "    return ax"
   ],
   "outputs": [],
   "execution_count": 39
  },
  {
   "cell_type": "code",
   "metadata": {
    "ExecuteTime": {
     "end_time": "2025-03-15T10:53:26.988544Z",
     "start_time": "2025-03-15T10:53:26.985979Z"
    }
   },
   "source": [
    "def draw_circles_hatches(ax):\n",
    "    ax.set_xlim(0,6)\n",
    "    ax.set_ylim(0,4)\n",
    "\n",
    "    ax.spines[:].set_visible(False)    \n",
    "    ax.set_xticks([])\n",
    "    ax.set_yticks([])\n",
    "\n",
    "    hatches = ['-', 'x', '.', 'o', '*' ]\n",
    "\n",
    "    for i, hatch in enumerate(hatches):\n",
    "        ax.add_artist(patches.Circle((1.0+i, 2), 0.4, fill=False, lw=2, hatch=hatch))\n",
    "    \n",
    "    return ax"
   ],
   "outputs": [],
   "execution_count": 40
  },
  {
   "cell_type": "markdown",
   "metadata": {},
   "source": [
    "## Overview of visual variables"
   ]
  },
  {
   "cell_type": "code",
   "metadata": {
    "ExecuteTime": {
     "end_time": "2025-03-15T10:53:27.118218Z",
     "start_time": "2025-03-15T10:53:27.004387Z"
    }
   },
   "source": [
    "fig, axs = plt.subplots(2,3, figsize=(9, 4))\n",
    "\n",
    "for ax in axs.flatten():\n",
    "    ax.set_xlim(0,6)\n",
    "    ax.set_ylim(0,4)\n",
    "\n",
    "    ax.spines[:].set_visible(False)    \n",
    "    ax.set_xticks([])\n",
    "    ax.set_yticks([])\n",
    "\n",
    "axs[0,0].set_title('position', fontsize=16, color='black')\n",
    "\n",
    "axs[0,0].add_artist(patches.FancyArrow(0.5, 0.25, 0, 3.5, width=0.1, head_length=0.3, length_includes_head=True, edgecolor='black', facecolor='black', lw=0))\n",
    "# Add a text box\n",
    "axs[0,0].text(0.75, 3.85, 'y',\n",
    "        fontsize=14, \n",
    "        fontweight='bold', \n",
    "        color='black', \n",
    "        ha='left', \n",
    "        va='top',\n",
    "        bbox=None)\n",
    "\n",
    "axs[0,0].add_artist(patches.FancyArrow(0.25, 0.5, 5.5, 0, width=0.1, head_length=0.3, length_includes_head=True, edgecolor='black', facecolor='black', lw=0))\n",
    "\n",
    "axs[0,0].text(5.75, 0.75, 'x',\n",
    "        fontsize=14, \n",
    "        fontweight='bold', \n",
    "        color='black', \n",
    "        ha='right', \n",
    "        va='bottom',\n",
    "        bbox=None)\n",
    "\n",
    "axs[0,1].set_title('orientation', fontsize=16, color='black')\n",
    "axs[0,1] = draw_arrows_tilted(axs[0,1])\n",
    "\n",
    "axs[0,2].set_title('shape', fontsize=16, color='black')\n",
    "axs[0,2] = draw_shapes(axs[0,2])\n",
    "\n",
    "axs[1,0].set_title('size', fontsize=16, color='black')\n",
    "axs[1,0] = draw_circles_sizes(axs[1,0])\n",
    "\n",
    "axs[1,1].set_title('color', fontsize=16, color='black')\n",
    "axs[1,1] = draw_circles_colors(axs[1,1])\n",
    "\n",
    "axs[1,2].set_title('texture', fontsize=16, color='black')\n",
    "axs[1,2] = draw_circles_hatches(axs[1,2])\n",
    "\n",
    "plt.show()"
   ],
   "outputs": [
    {
     "data": {
      "text/plain": [
       "<Figure size 900x400 with 6 Axes>"
      ],
      "image/svg+xml": "<?xml version=\"1.0\" encoding=\"utf-8\" standalone=\"no\"?>\n<!DOCTYPE svg PUBLIC \"-//W3C//DTD SVG 1.1//EN\"\n  \"http://www.w3.org/Graphics/SVG/1.1/DTD/svg11.dtd\">\n<svg xmlns:xlink=\"http://www.w3.org/1999/xlink\" width=\"516.6pt\" height=\"254.3175pt\" viewBox=\"0 0 516.6 254.3175\" xmlns=\"http://www.w3.org/2000/svg\" version=\"1.1\">\n <metadata>\n  <rdf:RDF xmlns:dc=\"http://purl.org/dc/elements/1.1/\" xmlns:cc=\"http://creativecommons.org/ns#\" xmlns:rdf=\"http://www.w3.org/1999/02/22-rdf-syntax-ns#\">\n   <cc:Work>\n    <dc:type rdf:resource=\"http://purl.org/dc/dcmitype/StillImage\"/>\n    <dc:date>2025-03-15T11:53:27.100034</dc:date>\n    <dc:format>image/svg+xml</dc:format>\n    <dc:creator>\n     <cc:Agent>\n      <dc:title>Matplotlib v3.10.0, https://matplotlib.org/</dc:title>\n     </cc:Agent>\n    </dc:creator>\n   </cc:Work>\n  </rdf:RDF>\n </metadata>\n <defs>\n  <style type=\"text/css\">*{stroke-linejoin: round; stroke-linecap: butt}</style>\n </defs>\n <g id=\"figure_1\">\n  <g id=\"patch_1\">\n   <path d=\"M 0 254.3175 \nL 516.6 254.3175 \nL 516.6 0 \nL 0 0 \nz\n\" style=\"fill: #ffffff\"/>\n  </g>\n  <g id=\"axes_1\">\n   <g id=\"patch_2\">\n    <path d=\"M 7.2 126.1575 \nL 154.905882 126.1575 \nL 154.905882 25.3575 \nL 7.2 25.3575 \nz\n\" style=\"fill: #ffffff\"/>\n   </g>\n   <g id=\"patch_3\">\n    <path d=\"M 19.508824 31.6575 \nL 23.201471 39.2175 \nL 20.739706 39.2175 \nL 20.739706 119.8575 \nL 18.277941 119.8575 \nL 18.277941 39.2175 \nL 15.816176 39.2175 \nz\n\" clip-path=\"url(#pf9bdd20171)\"/>\n   </g>\n   <g id=\"patch_4\">\n    <path d=\"M 148.751471 113.5575 \nL 141.366176 117.3375 \nL 141.366176 114.8175 \nL 13.354412 114.8175 \nL 13.354412 112.2975 \nL 141.366176 112.2975 \nL 141.366176 109.7775 \nz\n\" clip-path=\"url(#pf9bdd20171)\"/>\n   </g>\n   <g id=\"matplotlib.axis_1\"/>\n   <g id=\"matplotlib.axis_2\"/>\n   <g id=\"text_1\">\n    <!-- y -->\n    <g transform=\"translate(25.663235 39.665938) scale(0.14 -0.14)\">\n     <defs>\n      <path id=\"DejaVuSans-Bold-79\" d=\"M 78 3500 \nL 1197 3500 \nL 2138 1125 \nL 2938 3500 \nL 4056 3500 \nL 2584 -331 \nQ 2363 -916 2067 -1148 \nQ 1772 -1381 1288 -1381 \nL 641 -1381 \nL 641 -647 \nL 991 -647 \nQ 1275 -647 1404 -556 \nQ 1534 -466 1606 -231 \nL 1638 -134 \nL 78 3500 \nz\n\" transform=\"scale(0.015625)\"/>\n     </defs>\n     <use xlink:href=\"#DejaVuSans-Bold-79\"/>\n    </g>\n   </g>\n   <g id=\"text_2\">\n    <!-- x -->\n    <g transform=\"translate(139.721471 104.345937) scale(0.14 -0.14)\">\n     <defs>\n      <path id=\"DejaVuSans-Bold-78\" d=\"M 1422 1791 \nL 159 3500 \nL 1344 3500 \nL 2059 2463 \nL 2784 3500 \nL 3969 3500 \nL 2706 1797 \nL 4031 0 \nL 2847 0 \nL 2059 1106 \nL 1281 0 \nL 97 0 \nL 1422 1791 \nz\n\" transform=\"scale(0.015625)\"/>\n     </defs>\n     <use xlink:href=\"#DejaVuSans-Bold-78\"/>\n    </g>\n   </g>\n   <g id=\"text_3\">\n    <!-- position -->\n    <g transform=\"translate(49.365441 19.3575) scale(0.16 -0.16)\">\n     <defs>\n      <path id=\"DejaVuSans-70\" d=\"M 1159 525 \nL 1159 -1331 \nL 581 -1331 \nL 581 3500 \nL 1159 3500 \nL 1159 2969 \nQ 1341 3281 1617 3432 \nQ 1894 3584 2278 3584 \nQ 2916 3584 3314 3078 \nQ 3713 2572 3713 1747 \nQ 3713 922 3314 415 \nQ 2916 -91 2278 -91 \nQ 1894 -91 1617 61 \nQ 1341 213 1159 525 \nz\nM 3116 1747 \nQ 3116 2381 2855 2742 \nQ 2594 3103 2138 3103 \nQ 1681 3103 1420 2742 \nQ 1159 2381 1159 1747 \nQ 1159 1113 1420 752 \nQ 1681 391 2138 391 \nQ 2594 391 2855 752 \nQ 3116 1113 3116 1747 \nz\n\" transform=\"scale(0.015625)\"/>\n      <path id=\"DejaVuSans-6f\" d=\"M 1959 3097 \nQ 1497 3097 1228 2736 \nQ 959 2375 959 1747 \nQ 959 1119 1226 758 \nQ 1494 397 1959 397 \nQ 2419 397 2687 759 \nQ 2956 1122 2956 1747 \nQ 2956 2369 2687 2733 \nQ 2419 3097 1959 3097 \nz\nM 1959 3584 \nQ 2709 3584 3137 3096 \nQ 3566 2609 3566 1747 \nQ 3566 888 3137 398 \nQ 2709 -91 1959 -91 \nQ 1206 -91 779 398 \nQ 353 888 353 1747 \nQ 353 2609 779 3096 \nQ 1206 3584 1959 3584 \nz\n\" transform=\"scale(0.015625)\"/>\n      <path id=\"DejaVuSans-73\" d=\"M 2834 3397 \nL 2834 2853 \nQ 2591 2978 2328 3040 \nQ 2066 3103 1784 3103 \nQ 1356 3103 1142 2972 \nQ 928 2841 928 2578 \nQ 928 2378 1081 2264 \nQ 1234 2150 1697 2047 \nL 1894 2003 \nQ 2506 1872 2764 1633 \nQ 3022 1394 3022 966 \nQ 3022 478 2636 193 \nQ 2250 -91 1575 -91 \nQ 1294 -91 989 -36 \nQ 684 19 347 128 \nL 347 722 \nQ 666 556 975 473 \nQ 1284 391 1588 391 \nQ 1994 391 2212 530 \nQ 2431 669 2431 922 \nQ 2431 1156 2273 1281 \nQ 2116 1406 1581 1522 \nL 1381 1569 \nQ 847 1681 609 1914 \nQ 372 2147 372 2553 \nQ 372 3047 722 3315 \nQ 1072 3584 1716 3584 \nQ 2034 3584 2315 3537 \nQ 2597 3491 2834 3397 \nz\n\" transform=\"scale(0.015625)\"/>\n      <path id=\"DejaVuSans-69\" d=\"M 603 3500 \nL 1178 3500 \nL 1178 0 \nL 603 0 \nL 603 3500 \nz\nM 603 4863 \nL 1178 4863 \nL 1178 4134 \nL 603 4134 \nL 603 4863 \nz\n\" transform=\"scale(0.015625)\"/>\n      <path id=\"DejaVuSans-74\" d=\"M 1172 4494 \nL 1172 3500 \nL 2356 3500 \nL 2356 3053 \nL 1172 3053 \nL 1172 1153 \nQ 1172 725 1289 603 \nQ 1406 481 1766 481 \nL 2356 481 \nL 2356 0 \nL 1766 0 \nQ 1100 0 847 248 \nQ 594 497 594 1153 \nL 594 3053 \nL 172 3053 \nL 172 3500 \nL 594 3500 \nL 594 4494 \nL 1172 4494 \nz\n\" transform=\"scale(0.015625)\"/>\n      <path id=\"DejaVuSans-6e\" d=\"M 3513 2113 \nL 3513 0 \nL 2938 0 \nL 2938 2094 \nQ 2938 2591 2744 2837 \nQ 2550 3084 2163 3084 \nQ 1697 3084 1428 2787 \nQ 1159 2491 1159 1978 \nL 1159 0 \nL 581 0 \nL 581 3500 \nL 1159 3500 \nL 1159 2956 \nQ 1366 3272 1645 3428 \nQ 1925 3584 2291 3584 \nQ 2894 3584 3203 3211 \nQ 3513 2838 3513 2113 \nz\n\" transform=\"scale(0.015625)\"/>\n     </defs>\n     <use xlink:href=\"#DejaVuSans-70\"/>\n     <use xlink:href=\"#DejaVuSans-6f\" transform=\"translate(63.476562 0)\"/>\n     <use xlink:href=\"#DejaVuSans-73\" transform=\"translate(124.658203 0)\"/>\n     <use xlink:href=\"#DejaVuSans-69\" transform=\"translate(176.757812 0)\"/>\n     <use xlink:href=\"#DejaVuSans-74\" transform=\"translate(204.541016 0)\"/>\n     <use xlink:href=\"#DejaVuSans-69\" transform=\"translate(243.75 0)\"/>\n     <use xlink:href=\"#DejaVuSans-6f\" transform=\"translate(271.533203 0)\"/>\n     <use xlink:href=\"#DejaVuSans-6e\" transform=\"translate(332.714844 0)\"/>\n    </g>\n   </g>\n  </g>\n  <g id=\"axes_2\">\n   <g id=\"patch_5\">\n    <path d=\"M 184.447059 126.1575 \nL 332.152941 126.1575 \nL 332.152941 25.3575 \nL 184.447059 25.3575 \nz\n\" style=\"fill: #ffffff\"/>\n   </g>\n   <g id=\"patch_6\">\n    <path d=\"M 209.064706 63.1575 \nL 212.757353 70.7175 \nL 210.295588 70.7175 \nL 210.295588 88.3575 \nL 207.833824 88.3575 \nL 207.833824 70.7175 \nL 205.372059 70.7175 \nz\n\" clip-path=\"url(#p384e8dfd33)\"/>\n   </g>\n   <g id=\"patch_7\">\n    <path d=\"M 242.102084 64.677246 \nL 243.046118 73.074158 \nL 240.732816 72.212268 \nL 234.839004 88.788445 \nL 232.525702 87.926555 \nL 238.419514 71.350377 \nL 236.106212 70.488486 \nz\n\" clip-path=\"url(#p384e8dfd33)\"/>\n   </g>\n   <g id=\"patch_8\">\n    <path d=\"M 275.707305 70.538409 \nL 273.096209 78.557 \nL 271.355479 76.775091 \nL 259.170365 89.248455 \nL 257.429635 87.466545 \nL 269.614748 74.993182 \nL 267.874018 73.211273 \nz\n\" clip-path=\"url(#p384e8dfd33)\"/>\n   </g>\n   <g id=\"patch_9\">\n    <path d=\"M 307.535294 88.3575 \nL 300.15 92.1375 \nL 300.15 89.6175 \nL 282.917647 89.6175 \nL 282.917647 87.0975 \nL 300.15 87.0975 \nL 300.15 84.5775 \nz\n\" clip-path=\"url(#p384e8dfd33)\"/>\n   </g>\n   <g id=\"matplotlib.axis_3\"/>\n   <g id=\"matplotlib.axis_4\"/>\n   <g id=\"text_4\">\n    <!-- orientation -->\n    <g transform=\"translate(214.53875 19.3575) scale(0.16 -0.16)\">\n     <defs>\n      <path id=\"DejaVuSans-72\" d=\"M 2631 2963 \nQ 2534 3019 2420 3045 \nQ 2306 3072 2169 3072 \nQ 1681 3072 1420 2755 \nQ 1159 2438 1159 1844 \nL 1159 0 \nL 581 0 \nL 581 3500 \nL 1159 3500 \nL 1159 2956 \nQ 1341 3275 1631 3429 \nQ 1922 3584 2338 3584 \nQ 2397 3584 2469 3576 \nQ 2541 3569 2628 3553 \nL 2631 2963 \nz\n\" transform=\"scale(0.015625)\"/>\n      <path id=\"DejaVuSans-65\" d=\"M 3597 1894 \nL 3597 1613 \nL 953 1613 \nQ 991 1019 1311 708 \nQ 1631 397 2203 397 \nQ 2534 397 2845 478 \nQ 3156 559 3463 722 \nL 3463 178 \nQ 3153 47 2828 -22 \nQ 2503 -91 2169 -91 \nQ 1331 -91 842 396 \nQ 353 884 353 1716 \nQ 353 2575 817 3079 \nQ 1281 3584 2069 3584 \nQ 2775 3584 3186 3129 \nQ 3597 2675 3597 1894 \nz\nM 3022 2063 \nQ 3016 2534 2758 2815 \nQ 2500 3097 2075 3097 \nQ 1594 3097 1305 2825 \nQ 1016 2553 972 2059 \nL 3022 2063 \nz\n\" transform=\"scale(0.015625)\"/>\n      <path id=\"DejaVuSans-61\" d=\"M 2194 1759 \nQ 1497 1759 1228 1600 \nQ 959 1441 959 1056 \nQ 959 750 1161 570 \nQ 1363 391 1709 391 \nQ 2188 391 2477 730 \nQ 2766 1069 2766 1631 \nL 2766 1759 \nL 2194 1759 \nz\nM 3341 1997 \nL 3341 0 \nL 2766 0 \nL 2766 531 \nQ 2569 213 2275 61 \nQ 1981 -91 1556 -91 \nQ 1019 -91 701 211 \nQ 384 513 384 1019 \nQ 384 1609 779 1909 \nQ 1175 2209 1959 2209 \nL 2766 2209 \nL 2766 2266 \nQ 2766 2663 2505 2880 \nQ 2244 3097 1772 3097 \nQ 1472 3097 1187 3025 \nQ 903 2953 641 2809 \nL 641 3341 \nQ 956 3463 1253 3523 \nQ 1550 3584 1831 3584 \nQ 2591 3584 2966 3190 \nQ 3341 2797 3341 1997 \nz\n\" transform=\"scale(0.015625)\"/>\n     </defs>\n     <use xlink:href=\"#DejaVuSans-6f\"/>\n     <use xlink:href=\"#DejaVuSans-72\" transform=\"translate(61.181641 0)\"/>\n     <use xlink:href=\"#DejaVuSans-69\" transform=\"translate(102.294922 0)\"/>\n     <use xlink:href=\"#DejaVuSans-65\" transform=\"translate(130.078125 0)\"/>\n     <use xlink:href=\"#DejaVuSans-6e\" transform=\"translate(191.601562 0)\"/>\n     <use xlink:href=\"#DejaVuSans-74\" transform=\"translate(254.980469 0)\"/>\n     <use xlink:href=\"#DejaVuSans-61\" transform=\"translate(294.189453 0)\"/>\n     <use xlink:href=\"#DejaVuSans-74\" transform=\"translate(355.46875 0)\"/>\n     <use xlink:href=\"#DejaVuSans-69\" transform=\"translate(394.677734 0)\"/>\n     <use xlink:href=\"#DejaVuSans-6f\" transform=\"translate(422.460938 0)\"/>\n     <use xlink:href=\"#DejaVuSans-6e\" transform=\"translate(483.642578 0)\"/>\n    </g>\n   </g>\n  </g>\n  <g id=\"axes_3\">\n   <g id=\"patch_10\">\n    <path d=\"M 361.694118 126.1575 \nL 509.4 126.1575 \nL 509.4 25.3575 \nL 361.694118 25.3575 \nz\n\" style=\"fill: #ffffff\"/>\n   </g>\n   <g id=\"patch_11\">\n    <path d=\"M 374.002941 88.3575 \nL 398.620588 88.3575 \nL 398.620588 63.1575 \nL 374.002941 63.1575 \nz\n\" clip-path=\"url(#pa55dda1e43)\" style=\"fill: #969696; stroke: #000000; stroke-width: 2; stroke-linejoin: miter\"/>\n   </g>\n   <g id=\"patch_12\">\n    <path d=\"M 423.238235 88.3575 \nC 426.502573 88.3575 429.633652 87.029885 431.941888 84.667045 \nC 434.250124 82.304206 435.547059 79.099059 435.547059 75.7575 \nC 435.547059 72.415941 434.250124 69.210794 431.941888 66.847955 \nC 429.633652 64.485115 426.502573 63.1575 423.238235 63.1575 \nC 419.973897 63.1575 416.842818 64.485115 414.534583 66.847955 \nC 412.226347 69.210794 410.929412 72.415941 410.929412 75.7575 \nC 410.929412 79.099059 412.226347 82.304206 414.534583 84.667045 \nC 416.842818 87.029885 419.973897 88.3575 423.238235 88.3575 \nz\n\" clip-path=\"url(#pa55dda1e43)\" style=\"fill: #969696; stroke: #000000; stroke-width: 2; stroke-linejoin: miter\"/>\n   </g>\n   <g id=\"patch_13\">\n    <path d=\"M 450.467996 65.563886 \nL 451.849748 73.810693 \nL 445.996554 79.651114 \nL 454.085469 80.854307 \nL 457.702941 88.3575 \nL 461.320414 80.854307 \nL 469.409328 79.651114 \nL 463.556135 73.810693 \nL 464.937886 65.563886 \nL 457.702941 69.4575 \nz\n\" clip-path=\"url(#pa55dda1e43)\" style=\"fill: #969696; stroke: #000000; stroke-width: 2; stroke-linejoin: miter\"/>\n   </g>\n   <g id=\"patch_14\">\n    <path d=\"M 477.397059 88.3575 \nL 489.705882 63.1575 \nL 502.014706 88.3575 \nz\n\" clip-path=\"url(#pa55dda1e43)\" style=\"fill: #969696; stroke: #000000; stroke-width: 2; stroke-linejoin: miter\"/>\n   </g>\n   <g id=\"matplotlib.axis_5\"/>\n   <g id=\"matplotlib.axis_6\"/>\n   <g id=\"text_5\">\n    <!-- shape -->\n    <g transform=\"translate(411.405809 19.3575) scale(0.16 -0.16)\">\n     <defs>\n      <path id=\"DejaVuSans-68\" d=\"M 3513 2113 \nL 3513 0 \nL 2938 0 \nL 2938 2094 \nQ 2938 2591 2744 2837 \nQ 2550 3084 2163 3084 \nQ 1697 3084 1428 2787 \nQ 1159 2491 1159 1978 \nL 1159 0 \nL 581 0 \nL 581 4863 \nL 1159 4863 \nL 1159 2956 \nQ 1366 3272 1645 3428 \nQ 1925 3584 2291 3584 \nQ 2894 3584 3203 3211 \nQ 3513 2838 3513 2113 \nz\n\" transform=\"scale(0.015625)\"/>\n     </defs>\n     <use xlink:href=\"#DejaVuSans-73\"/>\n     <use xlink:href=\"#DejaVuSans-68\" transform=\"translate(52.099609 0)\"/>\n     <use xlink:href=\"#DejaVuSans-61\" transform=\"translate(115.478516 0)\"/>\n     <use xlink:href=\"#DejaVuSans-70\" transform=\"translate(176.757812 0)\"/>\n     <use xlink:href=\"#DejaVuSans-65\" transform=\"translate(240.234375 0)\"/>\n    </g>\n   </g>\n  </g>\n  <g id=\"axes_4\">\n   <g id=\"patch_15\">\n    <path d=\"M 7.2 247.1175 \nL 154.905882 247.1175 \nL 154.905882 146.3175 \nL 7.2 146.3175 \nz\n\" style=\"fill: #ffffff\"/>\n   </g>\n   <g id=\"patch_16\">\n    <path d=\"M 14.585294 199.2375 \nC 15.238162 199.2375 15.864378 198.971977 16.326025 198.499409 \nC 16.787672 198.026841 17.047059 197.385812 17.047059 196.7175 \nC 17.047059 196.049188 16.787672 195.408159 16.326025 194.935591 \nC 15.864378 194.463023 15.238162 194.1975 14.585294 194.1975 \nC 13.932426 194.1975 13.306211 194.463023 12.844564 194.935591 \nC 12.382916 195.408159 12.123529 196.049188 12.123529 196.7175 \nC 12.123529 197.385812 12.382916 198.026841 12.844564 198.499409 \nC 13.306211 198.971977 13.932426 199.2375 14.585294 199.2375 \nz\n\" clip-path=\"url(#p7bb2a0177d)\" style=\"fill: #969696; stroke: #000000; stroke-width: 1.5; stroke-linejoin: miter\"/>\n   </g>\n   <g id=\"patch_17\">\n    <path d=\"M 34.279412 201.7575 \nC 35.585147 201.7575 36.837579 201.226454 37.760873 200.281318 \nC 38.684167 199.336183 39.202941 198.054124 39.202941 196.7175 \nC 39.202941 195.380876 38.684167 194.098817 37.760873 193.153682 \nC 36.837579 192.208546 35.585147 191.6775 34.279412 191.6775 \nC 32.973677 191.6775 31.721245 192.208546 30.797951 193.153682 \nC 29.874656 194.098817 29.355882 195.380876 29.355882 196.7175 \nC 29.355882 198.054124 29.874656 199.336183 30.797951 200.281318 \nC 31.721245 201.226454 32.973677 201.7575 34.279412 201.7575 \nz\n\" clip-path=\"url(#p7bb2a0177d)\" style=\"fill: #969696; stroke: #000000; stroke-width: 1.5; stroke-linejoin: miter\"/>\n   </g>\n   <g id=\"patch_18\">\n    <path d=\"M 58.897059 204.2775 \nC 60.855662 204.2775 62.734309 203.480931 64.11925 202.063227 \nC 65.504192 200.645524 66.282353 198.722435 66.282353 196.7175 \nC 66.282353 194.712565 65.504192 192.789476 64.11925 191.371773 \nC 62.734309 189.954069 60.855662 189.1575 58.897059 189.1575 \nC 56.938456 189.1575 55.059809 189.954069 53.674867 191.371773 \nC 52.289926 192.789476 51.511765 194.712565 51.511765 196.7175 \nC 51.511765 198.722435 52.289926 200.645524 53.674867 202.063227 \nC 55.059809 203.480931 56.938456 204.2775 58.897059 204.2775 \nz\n\" clip-path=\"url(#p7bb2a0177d)\" style=\"fill: #969696; stroke: #000000; stroke-width: 1.5; stroke-linejoin: miter\"/>\n   </g>\n   <g id=\"patch_19\">\n    <path d=\"M 90.9 209.3175 \nC 94.164338 209.3175 97.295417 207.989885 99.603653 205.627045 \nC 101.911888 203.264206 103.208824 200.059059 103.208824 196.7175 \nC 103.208824 193.375941 101.911888 190.170794 99.603653 187.807955 \nC 97.295417 185.445115 94.164338 184.1175 90.9 184.1175 \nC 87.635662 184.1175 84.504583 185.445115 82.196347 187.807955 \nC 79.888112 190.170794 78.591176 193.375941 78.591176 196.7175 \nC 78.591176 200.059059 79.888112 203.264206 82.196347 205.627045 \nC 84.504583 207.989885 87.635662 209.3175 90.9 209.3175 \nz\n\" clip-path=\"url(#p7bb2a0177d)\" style=\"fill: #969696; stroke: #000000; stroke-width: 1.5; stroke-linejoin: miter\"/>\n   </g>\n   <g id=\"patch_20\">\n    <path d=\"M 132.75 214.3575 \nC 137.320073 214.3575 141.703584 212.498838 144.935114 209.190864 \nC 148.166644 205.882889 149.982353 201.395683 149.982353 196.7175 \nC 149.982353 192.039317 148.166644 187.552111 144.935114 184.244136 \nC 141.703584 180.936162 137.320073 179.0775 132.75 179.0775 \nC 128.179927 179.0775 123.796416 180.936162 120.564886 184.244136 \nC 117.333356 187.552111 115.517647 192.039317 115.517647 196.7175 \nC 115.517647 201.395683 117.333356 205.882889 120.564886 209.190864 \nC 123.796416 212.498838 128.179927 214.3575 132.75 214.3575 \nz\n\" clip-path=\"url(#p7bb2a0177d)\" style=\"fill: #969696; stroke: #000000; stroke-width: 1.5; stroke-linejoin: miter\"/>\n   </g>\n   <g id=\"matplotlib.axis_7\"/>\n   <g id=\"matplotlib.axis_8\"/>\n   <g id=\"text_6\">\n    <!-- size -->\n    <g transform=\"translate(65.541691 140.3175) scale(0.16 -0.16)\">\n     <defs>\n      <path id=\"DejaVuSans-7a\" d=\"M 353 3500 \nL 3084 3500 \nL 3084 2975 \nL 922 459 \nL 3084 459 \nL 3084 0 \nL 275 0 \nL 275 525 \nL 2438 3041 \nL 353 3041 \nL 353 3500 \nz\n\" transform=\"scale(0.015625)\"/>\n     </defs>\n     <use xlink:href=\"#DejaVuSans-73\"/>\n     <use xlink:href=\"#DejaVuSans-69\" transform=\"translate(52.099609 0)\"/>\n     <use xlink:href=\"#DejaVuSans-7a\" transform=\"translate(79.882812 0)\"/>\n     <use xlink:href=\"#DejaVuSans-65\" transform=\"translate(132.373047 0)\"/>\n    </g>\n   </g>\n  </g>\n  <g id=\"axes_5\">\n   <g id=\"patch_21\">\n    <path d=\"M 184.447059 247.1175 \nL 332.152941 247.1175 \nL 332.152941 146.3175 \nL 184.447059 146.3175 \nz\n\" style=\"fill: #ffffff\"/>\n   </g>\n   <g id=\"patch_22\">\n    <path d=\"M 209.064706 206.7975 \nC 211.676176 206.7975 214.181039 205.735408 216.027628 203.845136 \nC 217.874216 201.954865 218.911765 199.390747 218.911765 196.7175 \nC 218.911765 194.044253 217.874216 191.480135 216.027628 189.589864 \nC 214.181039 187.699592 211.676176 186.6375 209.064706 186.6375 \nC 206.453235 186.6375 203.948372 187.699592 202.101784 189.589864 \nC 200.255195 191.480135 199.217647 194.044253 199.217647 196.7175 \nC 199.217647 199.390747 200.255195 201.954865 202.101784 203.845136 \nC 203.948372 205.735408 206.453235 206.7975 209.064706 206.7975 \nz\n\" clip-path=\"url(#pf5eb391218)\" style=\"fill: #1f77b4\"/>\n   </g>\n   <g id=\"patch_23\">\n    <path d=\"M 233.682353 206.7975 \nC 236.293823 206.7975 238.798686 205.735408 240.645275 203.845136 \nC 242.491864 201.954865 243.529412 199.390747 243.529412 196.7175 \nC 243.529412 194.044253 242.491864 191.480135 240.645275 189.589864 \nC 238.798686 187.699592 236.293823 186.6375 233.682353 186.6375 \nC 231.070882 186.6375 228.566019 187.699592 226.719431 189.589864 \nC 224.872842 191.480135 223.835294 194.044253 223.835294 196.7175 \nC 223.835294 199.390747 224.872842 201.954865 226.719431 203.845136 \nC 228.566019 205.735408 231.070882 206.7975 233.682353 206.7975 \nz\n\" clip-path=\"url(#pf5eb391218)\" style=\"fill: #ff7f0e\"/>\n   </g>\n   <g id=\"patch_24\">\n    <path d=\"M 258.3 206.7975 \nC 260.911471 206.7975 263.416334 205.735408 265.262922 203.845136 \nC 267.109511 201.954865 268.147059 199.390747 268.147059 196.7175 \nC 268.147059 194.044253 267.109511 191.480135 265.262922 189.589864 \nC 263.416334 187.699592 260.911471 186.6375 258.3 186.6375 \nC 255.688529 186.6375 253.183666 187.699592 251.337078 189.589864 \nC 249.490489 191.480135 248.452941 194.044253 248.452941 196.7175 \nC 248.452941 199.390747 249.490489 201.954865 251.337078 203.845136 \nC 253.183666 205.735408 255.688529 206.7975 258.3 206.7975 \nz\n\" clip-path=\"url(#pf5eb391218)\" style=\"fill: #2ca02c\"/>\n   </g>\n   <g id=\"patch_25\">\n    <path d=\"M 282.917647 206.7975 \nC 285.529118 206.7975 288.033981 205.735408 289.880569 203.845136 \nC 291.727158 201.954865 292.764706 199.390747 292.764706 196.7175 \nC 292.764706 194.044253 291.727158 191.480135 289.880569 189.589864 \nC 288.033981 187.699592 285.529118 186.6375 282.917647 186.6375 \nC 280.306177 186.6375 277.801314 187.699592 275.954725 189.589864 \nC 274.108136 191.480135 273.070588 194.044253 273.070588 196.7175 \nC 273.070588 199.390747 274.108136 201.954865 275.954725 203.845136 \nC 277.801314 205.735408 280.306177 206.7975 282.917647 206.7975 \nz\n\" clip-path=\"url(#pf5eb391218)\" style=\"fill: #d62728\"/>\n   </g>\n   <g id=\"patch_26\">\n    <path d=\"M 307.535294 206.7975 \nC 310.146765 206.7975 312.651628 205.735408 314.498216 203.845136 \nC 316.344805 201.954865 317.382353 199.390747 317.382353 196.7175 \nC 317.382353 194.044253 316.344805 191.480135 314.498216 189.589864 \nC 312.651628 187.699592 310.146765 186.6375 307.535294 186.6375 \nC 304.923824 186.6375 302.418961 187.699592 300.572372 189.589864 \nC 298.725784 191.480135 297.688235 194.044253 297.688235 196.7175 \nC 297.688235 199.390747 298.725784 201.954865 300.572372 203.845136 \nC 302.418961 205.735408 304.923824 206.7975 307.535294 206.7975 \nz\n\" clip-path=\"url(#pf5eb391218)\" style=\"fill: #9467bd\"/>\n   </g>\n   <g id=\"matplotlib.axis_9\"/>\n   <g id=\"matplotlib.axis_10\"/>\n   <g id=\"text_7\">\n    <!-- color -->\n    <g transform=\"translate(238.6 140.3175) scale(0.16 -0.16)\">\n     <defs>\n      <path id=\"DejaVuSans-63\" d=\"M 3122 3366 \nL 3122 2828 \nQ 2878 2963 2633 3030 \nQ 2388 3097 2138 3097 \nQ 1578 3097 1268 2742 \nQ 959 2388 959 1747 \nQ 959 1106 1268 751 \nQ 1578 397 2138 397 \nQ 2388 397 2633 464 \nQ 2878 531 3122 666 \nL 3122 134 \nQ 2881 22 2623 -34 \nQ 2366 -91 2075 -91 \nQ 1284 -91 818 406 \nQ 353 903 353 1747 \nQ 353 2603 823 3093 \nQ 1294 3584 2113 3584 \nQ 2378 3584 2631 3529 \nQ 2884 3475 3122 3366 \nz\n\" transform=\"scale(0.015625)\"/>\n      <path id=\"DejaVuSans-6c\" d=\"M 603 4863 \nL 1178 4863 \nL 1178 0 \nL 603 0 \nL 603 4863 \nz\n\" transform=\"scale(0.015625)\"/>\n     </defs>\n     <use xlink:href=\"#DejaVuSans-63\"/>\n     <use xlink:href=\"#DejaVuSans-6f\" transform=\"translate(54.980469 0)\"/>\n     <use xlink:href=\"#DejaVuSans-6c\" transform=\"translate(116.162109 0)\"/>\n     <use xlink:href=\"#DejaVuSans-6f\" transform=\"translate(143.945312 0)\"/>\n     <use xlink:href=\"#DejaVuSans-72\" transform=\"translate(205.126953 0)\"/>\n    </g>\n   </g>\n  </g>\n  <g id=\"axes_6\">\n   <g id=\"patch_27\">\n    <path d=\"M 361.694118 247.1175 \nL 509.4 247.1175 \nL 509.4 146.3175 \nL 361.694118 146.3175 \nz\n\" style=\"fill: #ffffff\"/>\n   </g>\n   <g id=\"patch_28\">\n    <path d=\"M 386.311765 206.7975 \nC 388.923235 206.7975 391.428098 205.735408 393.274687 203.845136 \nC 395.121275 201.954865 396.158824 199.390747 396.158824 196.7175 \nC 396.158824 194.044253 395.121275 191.480135 393.274687 189.589864 \nC 391.428098 187.699592 388.923235 186.6375 386.311765 186.6375 \nC 383.700294 186.6375 381.195431 187.699592 379.348843 189.589864 \nC 377.502254 191.480135 376.464706 194.044253 376.464706 196.7175 \nC 376.464706 199.390747 377.502254 201.954865 379.348843 203.845136 \nC 381.195431 205.735408 383.700294 206.7975 386.311765 206.7975 \nz\n\" clip-path=\"url(#p58e936e5ba)\" style=\"fill: url(#hc66e62158d); stroke: #000000; stroke-width: 2; stroke-linejoin: miter\"/>\n   </g>\n   <g id=\"patch_29\">\n    <path d=\"M 410.929412 206.7975 \nC 413.540882 206.7975 416.045745 205.735408 417.892334 203.845136 \nC 419.738922 201.954865 420.776471 199.390747 420.776471 196.7175 \nC 420.776471 194.044253 419.738922 191.480135 417.892334 189.589864 \nC 416.045745 187.699592 413.540882 186.6375 410.929412 186.6375 \nC 408.317941 186.6375 405.813078 187.699592 403.96649 189.589864 \nC 402.119901 191.480135 401.082353 194.044253 401.082353 196.7175 \nC 401.082353 199.390747 402.119901 201.954865 403.96649 203.845136 \nC 405.813078 205.735408 408.317941 206.7975 410.929412 206.7975 \nz\n\" clip-path=\"url(#p58e936e5ba)\" style=\"fill: url(#hb1f0ae0f26); stroke: #000000; stroke-width: 2; stroke-linejoin: miter\"/>\n   </g>\n   <g id=\"patch_30\">\n    <path d=\"M 435.547059 206.7975 \nC 438.158529 206.7975 440.663392 205.735408 442.509981 203.845136 \nC 444.356569 201.954865 445.394118 199.390747 445.394118 196.7175 \nC 445.394118 194.044253 444.356569 191.480135 442.509981 189.589864 \nC 440.663392 187.699592 438.158529 186.6375 435.547059 186.6375 \nC 432.935588 186.6375 430.430725 187.699592 428.584137 189.589864 \nC 426.737548 191.480135 425.7 194.044253 425.7 196.7175 \nC 425.7 199.390747 426.737548 201.954865 428.584137 203.845136 \nC 430.430725 205.735408 432.935588 206.7975 435.547059 206.7975 \nz\n\" clip-path=\"url(#p58e936e5ba)\" style=\"fill: url(#h510903de16); stroke: #000000; stroke-width: 2; stroke-linejoin: miter\"/>\n   </g>\n   <g id=\"patch_31\">\n    <path d=\"M 460.164706 206.7975 \nC 462.776176 206.7975 465.281039 205.735408 467.127628 203.845136 \nC 468.974216 201.954865 470.011765 199.390747 470.011765 196.7175 \nC 470.011765 194.044253 468.974216 191.480135 467.127628 189.589864 \nC 465.281039 187.699592 462.776176 186.6375 460.164706 186.6375 \nC 457.553235 186.6375 455.048372 187.699592 453.201784 189.589864 \nC 451.355195 191.480135 450.317647 194.044253 450.317647 196.7175 \nC 450.317647 199.390747 451.355195 201.954865 453.201784 203.845136 \nC 455.048372 205.735408 457.553235 206.7975 460.164706 206.7975 \nz\n\" clip-path=\"url(#p58e936e5ba)\" style=\"fill: url(#h77910b5bdb); stroke: #000000; stroke-width: 2; stroke-linejoin: miter\"/>\n   </g>\n   <g id=\"patch_32\">\n    <path d=\"M 484.782353 206.7975 \nC 487.393823 206.7975 489.898686 205.735408 491.745275 203.845136 \nC 493.591864 201.954865 494.629412 199.390747 494.629412 196.7175 \nC 494.629412 194.044253 493.591864 191.480135 491.745275 189.589864 \nC 489.898686 187.699592 487.393823 186.6375 484.782353 186.6375 \nC 482.170882 186.6375 479.666019 187.699592 477.819431 189.589864 \nC 475.972842 191.480135 474.935294 194.044253 474.935294 196.7175 \nC 474.935294 199.390747 475.972842 201.954865 477.819431 203.845136 \nC 479.666019 205.735408 482.170882 206.7975 484.782353 206.7975 \nz\n\" clip-path=\"url(#p58e936e5ba)\" style=\"fill: url(#h2437fcf4dd); stroke: #000000; stroke-width: 2; stroke-linejoin: miter\"/>\n   </g>\n   <g id=\"matplotlib.axis_11\"/>\n   <g id=\"matplotlib.axis_12\"/>\n   <g id=\"text_8\">\n    <!-- texture -->\n    <g transform=\"translate(406.655809 140.3175) scale(0.16 -0.16)\">\n     <defs>\n      <path id=\"DejaVuSans-78\" d=\"M 3513 3500 \nL 2247 1797 \nL 3578 0 \nL 2900 0 \nL 1881 1375 \nL 863 0 \nL 184 0 \nL 1544 1831 \nL 300 3500 \nL 978 3500 \nL 1906 2253 \nL 2834 3500 \nL 3513 3500 \nz\n\" transform=\"scale(0.015625)\"/>\n      <path id=\"DejaVuSans-75\" d=\"M 544 1381 \nL 544 3500 \nL 1119 3500 \nL 1119 1403 \nQ 1119 906 1312 657 \nQ 1506 409 1894 409 \nQ 2359 409 2629 706 \nQ 2900 1003 2900 1516 \nL 2900 3500 \nL 3475 3500 \nL 3475 0 \nL 2900 0 \nL 2900 538 \nQ 2691 219 2414 64 \nQ 2138 -91 1772 -91 \nQ 1169 -91 856 284 \nQ 544 659 544 1381 \nz\nM 1991 3584 \nL 1991 3584 \nz\n\" transform=\"scale(0.015625)\"/>\n     </defs>\n     <use xlink:href=\"#DejaVuSans-74\"/>\n     <use xlink:href=\"#DejaVuSans-65\" transform=\"translate(39.208984 0)\"/>\n     <use xlink:href=\"#DejaVuSans-78\" transform=\"translate(98.982422 0)\"/>\n     <use xlink:href=\"#DejaVuSans-74\" transform=\"translate(158.162109 0)\"/>\n     <use xlink:href=\"#DejaVuSans-75\" transform=\"translate(197.371094 0)\"/>\n     <use xlink:href=\"#DejaVuSans-72\" transform=\"translate(260.75 0)\"/>\n     <use xlink:href=\"#DejaVuSans-65\" transform=\"translate(299.613281 0)\"/>\n    </g>\n   </g>\n  </g>\n </g>\n <defs>\n  <clipPath id=\"pf9bdd20171\">\n   <rect x=\"7.2\" y=\"25.3575\" width=\"147.705882\" height=\"100.8\"/>\n  </clipPath>\n  <clipPath id=\"p384e8dfd33\">\n   <rect x=\"184.447059\" y=\"25.3575\" width=\"147.705882\" height=\"100.8\"/>\n  </clipPath>\n  <clipPath id=\"pa55dda1e43\">\n   <rect x=\"361.694118\" y=\"25.3575\" width=\"147.705882\" height=\"100.8\"/>\n  </clipPath>\n  <clipPath id=\"p7bb2a0177d\">\n   <rect x=\"7.2\" y=\"146.3175\" width=\"147.705882\" height=\"100.8\"/>\n  </clipPath>\n  <clipPath id=\"pf5eb391218\">\n   <rect x=\"184.447059\" y=\"146.3175\" width=\"147.705882\" height=\"100.8\"/>\n  </clipPath>\n  <clipPath id=\"p58e936e5ba\">\n   <rect x=\"361.694118\" y=\"146.3175\" width=\"147.705882\" height=\"100.8\"/>\n  </clipPath>\n </defs>\n <defs>\n  <pattern id=\"hc66e62158d\" patternUnits=\"userSpaceOnUse\" x=\"0\" y=\"0\" width=\"72\" height=\"72\">\n   <rect x=\"0\" y=\"0\" width=\"73\" height=\"73\" fill=\"none\"/>\n   <path d=\"M 0 66 \nL 72 66 \nM 0 54 \nL 72 54 \nM 0 42 \nL 72 42 \nM 0 30 \nL 72 30 \nM 0 18 \nL 72 18 \nM 0 6 \nL 72 6 \n\" style=\"fill: #000000; stroke: #000000; stroke-width: 1.0; stroke-linecap: butt; stroke-linejoin: miter\"/>\n  </pattern>\n  <pattern id=\"hb1f0ae0f26\" patternUnits=\"userSpaceOnUse\" x=\"0\" y=\"0\" width=\"72\" height=\"72\">\n   <rect x=\"0\" y=\"0\" width=\"73\" height=\"73\" fill=\"none\"/>\n   <path d=\"M -36 36 \nL 36 -36 \nM -24 48 \nL 48 -24 \nM -12 60 \nL 60 -12 \nM 0 72 \nL 72 0 \nM 12 84 \nL 84 12 \nM 24 96 \nL 96 24 \nM 36 108 \nL 108 36 \nM -36 36 \nL 36 108 \nM -24 24 \nL 48 96 \nM -12 12 \nL 60 84 \nM 0 0 \nL 72 72 \nM 12 -12 \nL 84 60 \nM 24 -24 \nL 96 48 \nM 36 -36 \nL 108 36 \n\" style=\"fill: #000000; stroke: #000000; stroke-width: 1.0; stroke-linecap: butt; stroke-linejoin: miter\"/>\n  </pattern>\n  <pattern id=\"h510903de16\" patternUnits=\"userSpaceOnUse\" x=\"0\" y=\"0\" width=\"72\" height=\"72\">\n   <rect x=\"0\" y=\"0\" width=\"73\" height=\"73\" fill=\"none\"/>\n   <path d=\"M 0 73.2 \nC 0.318244 73.2 0.623496 73.07356 0.848528 72.848528 \nC 1.07356 72.623496 1.2 72.318244 1.2 72 \nC 1.2 71.681756 1.07356 71.376504 0.848528 71.151472 \nC 0.623496 70.92644 0.318244 70.8 0 70.8 \nC -0.318244 70.8 -0.623496 70.92644 -0.848528 71.151472 \nC -1.07356 71.376504 -1.2 71.681756 -1.2 72 \nC -1.2 72.318244 -1.07356 72.623496 -0.848528 72.848528 \nC -0.623496 73.07356 -0.318244 73.2 0 73.2 \nz\nM 12 73.2 \nC 12.318244 73.2 12.623496 73.07356 12.848528 72.848528 \nC 13.07356 72.623496 13.2 72.318244 13.2 72 \nC 13.2 71.681756 13.07356 71.376504 12.848528 71.151472 \nC 12.623496 70.92644 12.318244 70.8 12 70.8 \nC 11.681756 70.8 11.376504 70.92644 11.151472 71.151472 \nC 10.92644 71.376504 10.8 71.681756 10.8 72 \nC 10.8 72.318244 10.92644 72.623496 11.151472 72.848528 \nC 11.376504 73.07356 11.681756 73.2 12 73.2 \nz\nM 24 73.2 \nC 24.318244 73.2 24.623496 73.07356 24.848528 72.848528 \nC 25.07356 72.623496 25.2 72.318244 25.2 72 \nC 25.2 71.681756 25.07356 71.376504 24.848528 71.151472 \nC 24.623496 70.92644 24.318244 70.8 24 70.8 \nC 23.681756 70.8 23.376504 70.92644 23.151472 71.151472 \nC 22.92644 71.376504 22.8 71.681756 22.8 72 \nC 22.8 72.318244 22.92644 72.623496 23.151472 72.848528 \nC 23.376504 73.07356 23.681756 73.2 24 73.2 \nz\nM 36 73.2 \nC 36.318244 73.2 36.623496 73.07356 36.848528 72.848528 \nC 37.07356 72.623496 37.2 72.318244 37.2 72 \nC 37.2 71.681756 37.07356 71.376504 36.848528 71.151472 \nC 36.623496 70.92644 36.318244 70.8 36 70.8 \nC 35.681756 70.8 35.376504 70.92644 35.151472 71.151472 \nC 34.92644 71.376504 34.8 71.681756 34.8 72 \nC 34.8 72.318244 34.92644 72.623496 35.151472 72.848528 \nC 35.376504 73.07356 35.681756 73.2 36 73.2 \nz\nM 48 73.2 \nC 48.318244 73.2 48.623496 73.07356 48.848528 72.848528 \nC 49.07356 72.623496 49.2 72.318244 49.2 72 \nC 49.2 71.681756 49.07356 71.376504 48.848528 71.151472 \nC 48.623496 70.92644 48.318244 70.8 48 70.8 \nC 47.681756 70.8 47.376504 70.92644 47.151472 71.151472 \nC 46.92644 71.376504 46.8 71.681756 46.8 72 \nC 46.8 72.318244 46.92644 72.623496 47.151472 72.848528 \nC 47.376504 73.07356 47.681756 73.2 48 73.2 \nz\nM 60 73.2 \nC 60.318244 73.2 60.623496 73.07356 60.848528 72.848528 \nC 61.07356 72.623496 61.2 72.318244 61.2 72 \nC 61.2 71.681756 61.07356 71.376504 60.848528 71.151472 \nC 60.623496 70.92644 60.318244 70.8 60 70.8 \nC 59.681756 70.8 59.376504 70.92644 59.151472 71.151472 \nC 58.92644 71.376504 58.8 71.681756 58.8 72 \nC 58.8 72.318244 58.92644 72.623496 59.151472 72.848528 \nC 59.376504 73.07356 59.681756 73.2 60 73.2 \nz\nM 72 73.2 \nC 72.318244 73.2 72.623496 73.07356 72.848528 72.848528 \nC 73.07356 72.623496 73.2 72.318244 73.2 72 \nC 73.2 71.681756 73.07356 71.376504 72.848528 71.151472 \nC 72.623496 70.92644 72.318244 70.8 72 70.8 \nC 71.681756 70.8 71.376504 70.92644 71.151472 71.151472 \nC 70.92644 71.376504 70.8 71.681756 70.8 72 \nC 70.8 72.318244 70.92644 72.623496 71.151472 72.848528 \nC 71.376504 73.07356 71.681756 73.2 72 73.2 \nz\nM 6 61.2 \nC 6.318244 61.2 6.623496 61.07356 6.848528 60.848528 \nC 7.07356 60.623496 7.2 60.318244 7.2 60 \nC 7.2 59.681756 7.07356 59.376504 6.848528 59.151472 \nC 6.623496 58.92644 6.318244 58.8 6 58.8 \nC 5.681756 58.8 5.376504 58.92644 5.151472 59.151472 \nC 4.92644 59.376504 4.8 59.681756 4.8 60 \nC 4.8 60.318244 4.92644 60.623496 5.151472 60.848528 \nC 5.376504 61.07356 5.681756 61.2 6 61.2 \nz\nM 18 61.2 \nC 18.318244 61.2 18.623496 61.07356 18.848528 60.848528 \nC 19.07356 60.623496 19.2 60.318244 19.2 60 \nC 19.2 59.681756 19.07356 59.376504 18.848528 59.151472 \nC 18.623496 58.92644 18.318244 58.8 18 58.8 \nC 17.681756 58.8 17.376504 58.92644 17.151472 59.151472 \nC 16.92644 59.376504 16.8 59.681756 16.8 60 \nC 16.8 60.318244 16.92644 60.623496 17.151472 60.848528 \nC 17.376504 61.07356 17.681756 61.2 18 61.2 \nz\nM 30 61.2 \nC 30.318244 61.2 30.623496 61.07356 30.848528 60.848528 \nC 31.07356 60.623496 31.2 60.318244 31.2 60 \nC 31.2 59.681756 31.07356 59.376504 30.848528 59.151472 \nC 30.623496 58.92644 30.318244 58.8 30 58.8 \nC 29.681756 58.8 29.376504 58.92644 29.151472 59.151472 \nC 28.92644 59.376504 28.8 59.681756 28.8 60 \nC 28.8 60.318244 28.92644 60.623496 29.151472 60.848528 \nC 29.376504 61.07356 29.681756 61.2 30 61.2 \nz\nM 42 61.2 \nC 42.318244 61.2 42.623496 61.07356 42.848528 60.848528 \nC 43.07356 60.623496 43.2 60.318244 43.2 60 \nC 43.2 59.681756 43.07356 59.376504 42.848528 59.151472 \nC 42.623496 58.92644 42.318244 58.8 42 58.8 \nC 41.681756 58.8 41.376504 58.92644 41.151472 59.151472 \nC 40.92644 59.376504 40.8 59.681756 40.8 60 \nC 40.8 60.318244 40.92644 60.623496 41.151472 60.848528 \nC 41.376504 61.07356 41.681756 61.2 42 61.2 \nz\nM 54 61.2 \nC 54.318244 61.2 54.623496 61.07356 54.848528 60.848528 \nC 55.07356 60.623496 55.2 60.318244 55.2 60 \nC 55.2 59.681756 55.07356 59.376504 54.848528 59.151472 \nC 54.623496 58.92644 54.318244 58.8 54 58.8 \nC 53.681756 58.8 53.376504 58.92644 53.151472 59.151472 \nC 52.92644 59.376504 52.8 59.681756 52.8 60 \nC 52.8 60.318244 52.92644 60.623496 53.151472 60.848528 \nC 53.376504 61.07356 53.681756 61.2 54 61.2 \nz\nM 66 61.2 \nC 66.318244 61.2 66.623496 61.07356 66.848528 60.848528 \nC 67.07356 60.623496 67.2 60.318244 67.2 60 \nC 67.2 59.681756 67.07356 59.376504 66.848528 59.151472 \nC 66.623496 58.92644 66.318244 58.8 66 58.8 \nC 65.681756 58.8 65.376504 58.92644 65.151472 59.151472 \nC 64.92644 59.376504 64.8 59.681756 64.8 60 \nC 64.8 60.318244 64.92644 60.623496 65.151472 60.848528 \nC 65.376504 61.07356 65.681756 61.2 66 61.2 \nz\nM 0 49.2 \nC 0.318244 49.2 0.623496 49.07356 0.848528 48.848528 \nC 1.07356 48.623496 1.2 48.318244 1.2 48 \nC 1.2 47.681756 1.07356 47.376504 0.848528 47.151472 \nC 0.623496 46.92644 0.318244 46.8 0 46.8 \nC -0.318244 46.8 -0.623496 46.92644 -0.848528 47.151472 \nC -1.07356 47.376504 -1.2 47.681756 -1.2 48 \nC -1.2 48.318244 -1.07356 48.623496 -0.848528 48.848528 \nC -0.623496 49.07356 -0.318244 49.2 0 49.2 \nz\nM 12 49.2 \nC 12.318244 49.2 12.623496 49.07356 12.848528 48.848528 \nC 13.07356 48.623496 13.2 48.318244 13.2 48 \nC 13.2 47.681756 13.07356 47.376504 12.848528 47.151472 \nC 12.623496 46.92644 12.318244 46.8 12 46.8 \nC 11.681756 46.8 11.376504 46.92644 11.151472 47.151472 \nC 10.92644 47.376504 10.8 47.681756 10.8 48 \nC 10.8 48.318244 10.92644 48.623496 11.151472 48.848528 \nC 11.376504 49.07356 11.681756 49.2 12 49.2 \nz\nM 24 49.2 \nC 24.318244 49.2 24.623496 49.07356 24.848528 48.848528 \nC 25.07356 48.623496 25.2 48.318244 25.2 48 \nC 25.2 47.681756 25.07356 47.376504 24.848528 47.151472 \nC 24.623496 46.92644 24.318244 46.8 24 46.8 \nC 23.681756 46.8 23.376504 46.92644 23.151472 47.151472 \nC 22.92644 47.376504 22.8 47.681756 22.8 48 \nC 22.8 48.318244 22.92644 48.623496 23.151472 48.848528 \nC 23.376504 49.07356 23.681756 49.2 24 49.2 \nz\nM 36 49.2 \nC 36.318244 49.2 36.623496 49.07356 36.848528 48.848528 \nC 37.07356 48.623496 37.2 48.318244 37.2 48 \nC 37.2 47.681756 37.07356 47.376504 36.848528 47.151472 \nC 36.623496 46.92644 36.318244 46.8 36 46.8 \nC 35.681756 46.8 35.376504 46.92644 35.151472 47.151472 \nC 34.92644 47.376504 34.8 47.681756 34.8 48 \nC 34.8 48.318244 34.92644 48.623496 35.151472 48.848528 \nC 35.376504 49.07356 35.681756 49.2 36 49.2 \nz\nM 48 49.2 \nC 48.318244 49.2 48.623496 49.07356 48.848528 48.848528 \nC 49.07356 48.623496 49.2 48.318244 49.2 48 \nC 49.2 47.681756 49.07356 47.376504 48.848528 47.151472 \nC 48.623496 46.92644 48.318244 46.8 48 46.8 \nC 47.681756 46.8 47.376504 46.92644 47.151472 47.151472 \nC 46.92644 47.376504 46.8 47.681756 46.8 48 \nC 46.8 48.318244 46.92644 48.623496 47.151472 48.848528 \nC 47.376504 49.07356 47.681756 49.2 48 49.2 \nz\nM 60 49.2 \nC 60.318244 49.2 60.623496 49.07356 60.848528 48.848528 \nC 61.07356 48.623496 61.2 48.318244 61.2 48 \nC 61.2 47.681756 61.07356 47.376504 60.848528 47.151472 \nC 60.623496 46.92644 60.318244 46.8 60 46.8 \nC 59.681756 46.8 59.376504 46.92644 59.151472 47.151472 \nC 58.92644 47.376504 58.8 47.681756 58.8 48 \nC 58.8 48.318244 58.92644 48.623496 59.151472 48.848528 \nC 59.376504 49.07356 59.681756 49.2 60 49.2 \nz\nM 72 49.2 \nC 72.318244 49.2 72.623496 49.07356 72.848528 48.848528 \nC 73.07356 48.623496 73.2 48.318244 73.2 48 \nC 73.2 47.681756 73.07356 47.376504 72.848528 47.151472 \nC 72.623496 46.92644 72.318244 46.8 72 46.8 \nC 71.681756 46.8 71.376504 46.92644 71.151472 47.151472 \nC 70.92644 47.376504 70.8 47.681756 70.8 48 \nC 70.8 48.318244 70.92644 48.623496 71.151472 48.848528 \nC 71.376504 49.07356 71.681756 49.2 72 49.2 \nz\nM 6 37.2 \nC 6.318244 37.2 6.623496 37.07356 6.848528 36.848528 \nC 7.07356 36.623496 7.2 36.318244 7.2 36 \nC 7.2 35.681756 7.07356 35.376504 6.848528 35.151472 \nC 6.623496 34.92644 6.318244 34.8 6 34.8 \nC 5.681756 34.8 5.376504 34.92644 5.151472 35.151472 \nC 4.92644 35.376504 4.8 35.681756 4.8 36 \nC 4.8 36.318244 4.92644 36.623496 5.151472 36.848528 \nC 5.376504 37.07356 5.681756 37.2 6 37.2 \nz\nM 18 37.2 \nC 18.318244 37.2 18.623496 37.07356 18.848528 36.848528 \nC 19.07356 36.623496 19.2 36.318244 19.2 36 \nC 19.2 35.681756 19.07356 35.376504 18.848528 35.151472 \nC 18.623496 34.92644 18.318244 34.8 18 34.8 \nC 17.681756 34.8 17.376504 34.92644 17.151472 35.151472 \nC 16.92644 35.376504 16.8 35.681756 16.8 36 \nC 16.8 36.318244 16.92644 36.623496 17.151472 36.848528 \nC 17.376504 37.07356 17.681756 37.2 18 37.2 \nz\nM 30 37.2 \nC 30.318244 37.2 30.623496 37.07356 30.848528 36.848528 \nC 31.07356 36.623496 31.2 36.318244 31.2 36 \nC 31.2 35.681756 31.07356 35.376504 30.848528 35.151472 \nC 30.623496 34.92644 30.318244 34.8 30 34.8 \nC 29.681756 34.8 29.376504 34.92644 29.151472 35.151472 \nC 28.92644 35.376504 28.8 35.681756 28.8 36 \nC 28.8 36.318244 28.92644 36.623496 29.151472 36.848528 \nC 29.376504 37.07356 29.681756 37.2 30 37.2 \nz\nM 42 37.2 \nC 42.318244 37.2 42.623496 37.07356 42.848528 36.848528 \nC 43.07356 36.623496 43.2 36.318244 43.2 36 \nC 43.2 35.681756 43.07356 35.376504 42.848528 35.151472 \nC 42.623496 34.92644 42.318244 34.8 42 34.8 \nC 41.681756 34.8 41.376504 34.92644 41.151472 35.151472 \nC 40.92644 35.376504 40.8 35.681756 40.8 36 \nC 40.8 36.318244 40.92644 36.623496 41.151472 36.848528 \nC 41.376504 37.07356 41.681756 37.2 42 37.2 \nz\nM 54 37.2 \nC 54.318244 37.2 54.623496 37.07356 54.848528 36.848528 \nC 55.07356 36.623496 55.2 36.318244 55.2 36 \nC 55.2 35.681756 55.07356 35.376504 54.848528 35.151472 \nC 54.623496 34.92644 54.318244 34.8 54 34.8 \nC 53.681756 34.8 53.376504 34.92644 53.151472 35.151472 \nC 52.92644 35.376504 52.8 35.681756 52.8 36 \nC 52.8 36.318244 52.92644 36.623496 53.151472 36.848528 \nC 53.376504 37.07356 53.681756 37.2 54 37.2 \nz\nM 66 37.2 \nC 66.318244 37.2 66.623496 37.07356 66.848528 36.848528 \nC 67.07356 36.623496 67.2 36.318244 67.2 36 \nC 67.2 35.681756 67.07356 35.376504 66.848528 35.151472 \nC 66.623496 34.92644 66.318244 34.8 66 34.8 \nC 65.681756 34.8 65.376504 34.92644 65.151472 35.151472 \nC 64.92644 35.376504 64.8 35.681756 64.8 36 \nC 64.8 36.318244 64.92644 36.623496 65.151472 36.848528 \nC 65.376504 37.07356 65.681756 37.2 66 37.2 \nz\nM 0 25.2 \nC 0.318244 25.2 0.623496 25.07356 0.848528 24.848528 \nC 1.07356 24.623496 1.2 24.318244 1.2 24 \nC 1.2 23.681756 1.07356 23.376504 0.848528 23.151472 \nC 0.623496 22.92644 0.318244 22.8 0 22.8 \nC -0.318244 22.8 -0.623496 22.92644 -0.848528 23.151472 \nC -1.07356 23.376504 -1.2 23.681756 -1.2 24 \nC -1.2 24.318244 -1.07356 24.623496 -0.848528 24.848528 \nC -0.623496 25.07356 -0.318244 25.2 0 25.2 \nz\nM 12 25.2 \nC 12.318244 25.2 12.623496 25.07356 12.848528 24.848528 \nC 13.07356 24.623496 13.2 24.318244 13.2 24 \nC 13.2 23.681756 13.07356 23.376504 12.848528 23.151472 \nC 12.623496 22.92644 12.318244 22.8 12 22.8 \nC 11.681756 22.8 11.376504 22.92644 11.151472 23.151472 \nC 10.92644 23.376504 10.8 23.681756 10.8 24 \nC 10.8 24.318244 10.92644 24.623496 11.151472 24.848528 \nC 11.376504 25.07356 11.681756 25.2 12 25.2 \nz\nM 24 25.2 \nC 24.318244 25.2 24.623496 25.07356 24.848528 24.848528 \nC 25.07356 24.623496 25.2 24.318244 25.2 24 \nC 25.2 23.681756 25.07356 23.376504 24.848528 23.151472 \nC 24.623496 22.92644 24.318244 22.8 24 22.8 \nC 23.681756 22.8 23.376504 22.92644 23.151472 23.151472 \nC 22.92644 23.376504 22.8 23.681756 22.8 24 \nC 22.8 24.318244 22.92644 24.623496 23.151472 24.848528 \nC 23.376504 25.07356 23.681756 25.2 24 25.2 \nz\nM 36 25.2 \nC 36.318244 25.2 36.623496 25.07356 36.848528 24.848528 \nC 37.07356 24.623496 37.2 24.318244 37.2 24 \nC 37.2 23.681756 37.07356 23.376504 36.848528 23.151472 \nC 36.623496 22.92644 36.318244 22.8 36 22.8 \nC 35.681756 22.8 35.376504 22.92644 35.151472 23.151472 \nC 34.92644 23.376504 34.8 23.681756 34.8 24 \nC 34.8 24.318244 34.92644 24.623496 35.151472 24.848528 \nC 35.376504 25.07356 35.681756 25.2 36 25.2 \nz\nM 48 25.2 \nC 48.318244 25.2 48.623496 25.07356 48.848528 24.848528 \nC 49.07356 24.623496 49.2 24.318244 49.2 24 \nC 49.2 23.681756 49.07356 23.376504 48.848528 23.151472 \nC 48.623496 22.92644 48.318244 22.8 48 22.8 \nC 47.681756 22.8 47.376504 22.92644 47.151472 23.151472 \nC 46.92644 23.376504 46.8 23.681756 46.8 24 \nC 46.8 24.318244 46.92644 24.623496 47.151472 24.848528 \nC 47.376504 25.07356 47.681756 25.2 48 25.2 \nz\nM 60 25.2 \nC 60.318244 25.2 60.623496 25.07356 60.848528 24.848528 \nC 61.07356 24.623496 61.2 24.318244 61.2 24 \nC 61.2 23.681756 61.07356 23.376504 60.848528 23.151472 \nC 60.623496 22.92644 60.318244 22.8 60 22.8 \nC 59.681756 22.8 59.376504 22.92644 59.151472 23.151472 \nC 58.92644 23.376504 58.8 23.681756 58.8 24 \nC 58.8 24.318244 58.92644 24.623496 59.151472 24.848528 \nC 59.376504 25.07356 59.681756 25.2 60 25.2 \nz\nM 72 25.2 \nC 72.318244 25.2 72.623496 25.07356 72.848528 24.848528 \nC 73.07356 24.623496 73.2 24.318244 73.2 24 \nC 73.2 23.681756 73.07356 23.376504 72.848528 23.151472 \nC 72.623496 22.92644 72.318244 22.8 72 22.8 \nC 71.681756 22.8 71.376504 22.92644 71.151472 23.151472 \nC 70.92644 23.376504 70.8 23.681756 70.8 24 \nC 70.8 24.318244 70.92644 24.623496 71.151472 24.848528 \nC 71.376504 25.07356 71.681756 25.2 72 25.2 \nz\nM 6 13.2 \nC 6.318244 13.2 6.623496 13.07356 6.848528 12.848528 \nC 7.07356 12.623496 7.2 12.318244 7.2 12 \nC 7.2 11.681756 7.07356 11.376504 6.848528 11.151472 \nC 6.623496 10.92644 6.318244 10.8 6 10.8 \nC 5.681756 10.8 5.376504 10.92644 5.151472 11.151472 \nC 4.92644 11.376504 4.8 11.681756 4.8 12 \nC 4.8 12.318244 4.92644 12.623496 5.151472 12.848528 \nC 5.376504 13.07356 5.681756 13.2 6 13.2 \nz\nM 18 13.2 \nC 18.318244 13.2 18.623496 13.07356 18.848528 12.848528 \nC 19.07356 12.623496 19.2 12.318244 19.2 12 \nC 19.2 11.681756 19.07356 11.376504 18.848528 11.151472 \nC 18.623496 10.92644 18.318244 10.8 18 10.8 \nC 17.681756 10.8 17.376504 10.92644 17.151472 11.151472 \nC 16.92644 11.376504 16.8 11.681756 16.8 12 \nC 16.8 12.318244 16.92644 12.623496 17.151472 12.848528 \nC 17.376504 13.07356 17.681756 13.2 18 13.2 \nz\nM 30 13.2 \nC 30.318244 13.2 30.623496 13.07356 30.848528 12.848528 \nC 31.07356 12.623496 31.2 12.318244 31.2 12 \nC 31.2 11.681756 31.07356 11.376504 30.848528 11.151472 \nC 30.623496 10.92644 30.318244 10.8 30 10.8 \nC 29.681756 10.8 29.376504 10.92644 29.151472 11.151472 \nC 28.92644 11.376504 28.8 11.681756 28.8 12 \nC 28.8 12.318244 28.92644 12.623496 29.151472 12.848528 \nC 29.376504 13.07356 29.681756 13.2 30 13.2 \nz\nM 42 13.2 \nC 42.318244 13.2 42.623496 13.07356 42.848528 12.848528 \nC 43.07356 12.623496 43.2 12.318244 43.2 12 \nC 43.2 11.681756 43.07356 11.376504 42.848528 11.151472 \nC 42.623496 10.92644 42.318244 10.8 42 10.8 \nC 41.681756 10.8 41.376504 10.92644 41.151472 11.151472 \nC 40.92644 11.376504 40.8 11.681756 40.8 12 \nC 40.8 12.318244 40.92644 12.623496 41.151472 12.848528 \nC 41.376504 13.07356 41.681756 13.2 42 13.2 \nz\nM 54 13.2 \nC 54.318244 13.2 54.623496 13.07356 54.848528 12.848528 \nC 55.07356 12.623496 55.2 12.318244 55.2 12 \nC 55.2 11.681756 55.07356 11.376504 54.848528 11.151472 \nC 54.623496 10.92644 54.318244 10.8 54 10.8 \nC 53.681756 10.8 53.376504 10.92644 53.151472 11.151472 \nC 52.92644 11.376504 52.8 11.681756 52.8 12 \nC 52.8 12.318244 52.92644 12.623496 53.151472 12.848528 \nC 53.376504 13.07356 53.681756 13.2 54 13.2 \nz\nM 66 13.2 \nC 66.318244 13.2 66.623496 13.07356 66.848528 12.848528 \nC 67.07356 12.623496 67.2 12.318244 67.2 12 \nC 67.2 11.681756 67.07356 11.376504 66.848528 11.151472 \nC 66.623496 10.92644 66.318244 10.8 66 10.8 \nC 65.681756 10.8 65.376504 10.92644 65.151472 11.151472 \nC 64.92644 11.376504 64.8 11.681756 64.8 12 \nC 64.8 12.318244 64.92644 12.623496 65.151472 12.848528 \nC 65.376504 13.07356 65.681756 13.2 66 13.2 \nz\nM 0 1.2 \nC 0.318244 1.2 0.623496 1.07356 0.848528 0.848528 \nC 1.07356 0.623496 1.2 0.318244 1.2 0 \nC 1.2 -0.318244 1.07356 -0.623496 0.848528 -0.848528 \nC 0.623496 -1.07356 0.318244 -1.2 0 -1.2 \nC -0.318244 -1.2 -0.623496 -1.07356 -0.848528 -0.848528 \nC -1.07356 -0.623496 -1.2 -0.318244 -1.2 0 \nC -1.2 0.318244 -1.07356 0.623496 -0.848528 0.848528 \nC -0.623496 1.07356 -0.318244 1.2 0 1.2 \nz\nM 12 1.2 \nC 12.318244 1.2 12.623496 1.07356 12.848528 0.848528 \nC 13.07356 0.623496 13.2 0.318244 13.2 0 \nC 13.2 -0.318244 13.07356 -0.623496 12.848528 -0.848528 \nC 12.623496 -1.07356 12.318244 -1.2 12 -1.2 \nC 11.681756 -1.2 11.376504 -1.07356 11.151472 -0.848528 \nC 10.92644 -0.623496 10.8 -0.318244 10.8 0 \nC 10.8 0.318244 10.92644 0.623496 11.151472 0.848528 \nC 11.376504 1.07356 11.681756 1.2 12 1.2 \nz\nM 24 1.2 \nC 24.318244 1.2 24.623496 1.07356 24.848528 0.848528 \nC 25.07356 0.623496 25.2 0.318244 25.2 0 \nC 25.2 -0.318244 25.07356 -0.623496 24.848528 -0.848528 \nC 24.623496 -1.07356 24.318244 -1.2 24 -1.2 \nC 23.681756 -1.2 23.376504 -1.07356 23.151472 -0.848528 \nC 22.92644 -0.623496 22.8 -0.318244 22.8 0 \nC 22.8 0.318244 22.92644 0.623496 23.151472 0.848528 \nC 23.376504 1.07356 23.681756 1.2 24 1.2 \nz\nM 36 1.2 \nC 36.318244 1.2 36.623496 1.07356 36.848528 0.848528 \nC 37.07356 0.623496 37.2 0.318244 37.2 0 \nC 37.2 -0.318244 37.07356 -0.623496 36.848528 -0.848528 \nC 36.623496 -1.07356 36.318244 -1.2 36 -1.2 \nC 35.681756 -1.2 35.376504 -1.07356 35.151472 -0.848528 \nC 34.92644 -0.623496 34.8 -0.318244 34.8 0 \nC 34.8 0.318244 34.92644 0.623496 35.151472 0.848528 \nC 35.376504 1.07356 35.681756 1.2 36 1.2 \nz\nM 48 1.2 \nC 48.318244 1.2 48.623496 1.07356 48.848528 0.848528 \nC 49.07356 0.623496 49.2 0.318244 49.2 0 \nC 49.2 -0.318244 49.07356 -0.623496 48.848528 -0.848528 \nC 48.623496 -1.07356 48.318244 -1.2 48 -1.2 \nC 47.681756 -1.2 47.376504 -1.07356 47.151472 -0.848528 \nC 46.92644 -0.623496 46.8 -0.318244 46.8 0 \nC 46.8 0.318244 46.92644 0.623496 47.151472 0.848528 \nC 47.376504 1.07356 47.681756 1.2 48 1.2 \nz\nM 60 1.2 \nC 60.318244 1.2 60.623496 1.07356 60.848528 0.848528 \nC 61.07356 0.623496 61.2 0.318244 61.2 0 \nC 61.2 -0.318244 61.07356 -0.623496 60.848528 -0.848528 \nC 60.623496 -1.07356 60.318244 -1.2 60 -1.2 \nC 59.681756 -1.2 59.376504 -1.07356 59.151472 -0.848528 \nC 58.92644 -0.623496 58.8 -0.318244 58.8 0 \nC 58.8 0.318244 58.92644 0.623496 59.151472 0.848528 \nC 59.376504 1.07356 59.681756 1.2 60 1.2 \nz\nM 72 1.2 \nC 72.318244 1.2 72.623496 1.07356 72.848528 0.848528 \nC 73.07356 0.623496 73.2 0.318244 73.2 0 \nC 73.2 -0.318244 73.07356 -0.623496 72.848528 -0.848528 \nC 72.623496 -1.07356 72.318244 -1.2 72 -1.2 \nC 71.681756 -1.2 71.376504 -1.07356 71.151472 -0.848528 \nC 70.92644 -0.623496 70.8 -0.318244 70.8 0 \nC 70.8 0.318244 70.92644 0.623496 71.151472 0.848528 \nC 71.376504 1.07356 71.681756 1.2 72 1.2 \nz\n\" style=\"fill: #000000; stroke: #000000; stroke-width: 1.0; stroke-linecap: butt; stroke-linejoin: miter\"/>\n  </pattern>\n  <pattern id=\"h77910b5bdb\" patternUnits=\"userSpaceOnUse\" x=\"0\" y=\"0\" width=\"72\" height=\"72\">\n   <rect x=\"0\" y=\"0\" width=\"73\" height=\"73\" fill=\"none\"/>\n   <path d=\"M 0 74.4 \nC 0.636487 74.4 1.246992 74.147121 1.697056 73.697056 \nC 2.147121 73.246992 2.4 72.636487 2.4 72 \nC 2.4 71.363513 2.147121 70.753008 1.697056 70.302944 \nC 1.246992 69.852879 0.636487 69.6 0 69.6 \nC -0.636487 69.6 -1.246992 69.852879 -1.697056 70.302944 \nC -2.147121 70.753008 -2.4 71.363513 -2.4 72 \nC -2.4 72.636487 -2.147121 73.246992 -1.697056 73.697056 \nC -1.246992 74.147121 -0.636487 74.4 0 74.4 \nz\nM 0 74.16 \nC 0 74.16 -0.572839 74.16 -1.122293 73.932409 \nC -1.527351 73.527351 -1.932409 73.122293 -2.16 72.572839 \nC -2.16 72 -2.16 71.427161 -1.932409 70.877707 \nC -1.527351 70.472649 -1.122293 70.067591 -0.572839 69.84 \nC 0 69.84 0.572839 69.84 1.122293 70.067591 \nC 1.527351 70.472649 1.932409 70.877707 2.16 71.427161 \nC 2.16 72 2.16 72.572839 1.932409 73.122293 \nC 1.527351 73.527351 1.122293 73.932409 0.572839 74.16 \nz\nM 12 74.4 \nC 12.636487 74.4 13.246992 74.147121 13.697056 73.697056 \nC 14.147121 73.246992 14.4 72.636487 14.4 72 \nC 14.4 71.363513 14.147121 70.753008 13.697056 70.302944 \nC 13.246992 69.852879 12.636487 69.6 12 69.6 \nC 11.363513 69.6 10.753008 69.852879 10.302944 70.302944 \nC 9.852879 70.753008 9.6 71.363513 9.6 72 \nC 9.6 72.636487 9.852879 73.246992 10.302944 73.697056 \nC 10.753008 74.147121 11.363513 74.4 12 74.4 \nz\nM 12 74.16 \nC 12 74.16 11.427161 74.16 10.877707 73.932409 \nC 10.472649 73.527351 10.067591 73.122293 9.84 72.572839 \nC 9.84 72 9.84 71.427161 10.067591 70.877707 \nC 10.472649 70.472649 10.877707 70.067591 11.427161 69.84 \nC 12 69.84 12.572839 69.84 13.122293 70.067591 \nC 13.527351 70.472649 13.932409 70.877707 14.16 71.427161 \nC 14.16 72 14.16 72.572839 13.932409 73.122293 \nC 13.527351 73.527351 13.122293 73.932409 12.572839 74.16 \nz\nM 24 74.4 \nC 24.636487 74.4 25.246992 74.147121 25.697056 73.697056 \nC 26.147121 73.246992 26.4 72.636487 26.4 72 \nC 26.4 71.363513 26.147121 70.753008 25.697056 70.302944 \nC 25.246992 69.852879 24.636487 69.6 24 69.6 \nC 23.363513 69.6 22.753008 69.852879 22.302944 70.302944 \nC 21.852879 70.753008 21.6 71.363513 21.6 72 \nC 21.6 72.636487 21.852879 73.246992 22.302944 73.697056 \nC 22.753008 74.147121 23.363513 74.4 24 74.4 \nz\nM 24 74.16 \nC 24 74.16 23.427161 74.16 22.877707 73.932409 \nC 22.472649 73.527351 22.067591 73.122293 21.84 72.572839 \nC 21.84 72 21.84 71.427161 22.067591 70.877707 \nC 22.472649 70.472649 22.877707 70.067591 23.427161 69.84 \nC 24 69.84 24.572839 69.84 25.122293 70.067591 \nC 25.527351 70.472649 25.932409 70.877707 26.16 71.427161 \nC 26.16 72 26.16 72.572839 25.932409 73.122293 \nC 25.527351 73.527351 25.122293 73.932409 24.572839 74.16 \nz\nM 36 74.4 \nC 36.636487 74.4 37.246992 74.147121 37.697056 73.697056 \nC 38.147121 73.246992 38.4 72.636487 38.4 72 \nC 38.4 71.363513 38.147121 70.753008 37.697056 70.302944 \nC 37.246992 69.852879 36.636487 69.6 36 69.6 \nC 35.363513 69.6 34.753008 69.852879 34.302944 70.302944 \nC 33.852879 70.753008 33.6 71.363513 33.6 72 \nC 33.6 72.636487 33.852879 73.246992 34.302944 73.697056 \nC 34.753008 74.147121 35.363513 74.4 36 74.4 \nz\nM 36 74.16 \nC 36 74.16 35.427161 74.16 34.877707 73.932409 \nC 34.472649 73.527351 34.067591 73.122293 33.84 72.572839 \nC 33.84 72 33.84 71.427161 34.067591 70.877707 \nC 34.472649 70.472649 34.877707 70.067591 35.427161 69.84 \nC 36 69.84 36.572839 69.84 37.122293 70.067591 \nC 37.527351 70.472649 37.932409 70.877707 38.16 71.427161 \nC 38.16 72 38.16 72.572839 37.932409 73.122293 \nC 37.527351 73.527351 37.122293 73.932409 36.572839 74.16 \nz\nM 48 74.4 \nC 48.636487 74.4 49.246992 74.147121 49.697056 73.697056 \nC 50.147121 73.246992 50.4 72.636487 50.4 72 \nC 50.4 71.363513 50.147121 70.753008 49.697056 70.302944 \nC 49.246992 69.852879 48.636487 69.6 48 69.6 \nC 47.363513 69.6 46.753008 69.852879 46.302944 70.302944 \nC 45.852879 70.753008 45.6 71.363513 45.6 72 \nC 45.6 72.636487 45.852879 73.246992 46.302944 73.697056 \nC 46.753008 74.147121 47.363513 74.4 48 74.4 \nz\nM 48 74.16 \nC 48 74.16 47.427161 74.16 46.877707 73.932409 \nC 46.472649 73.527351 46.067591 73.122293 45.84 72.572839 \nC 45.84 72 45.84 71.427161 46.067591 70.877707 \nC 46.472649 70.472649 46.877707 70.067591 47.427161 69.84 \nC 48 69.84 48.572839 69.84 49.122293 70.067591 \nC 49.527351 70.472649 49.932409 70.877707 50.16 71.427161 \nC 50.16 72 50.16 72.572839 49.932409 73.122293 \nC 49.527351 73.527351 49.122293 73.932409 48.572839 74.16 \nz\nM 60 74.4 \nC 60.636487 74.4 61.246992 74.147121 61.697056 73.697056 \nC 62.147121 73.246992 62.4 72.636487 62.4 72 \nC 62.4 71.363513 62.147121 70.753008 61.697056 70.302944 \nC 61.246992 69.852879 60.636487 69.6 60 69.6 \nC 59.363513 69.6 58.753008 69.852879 58.302944 70.302944 \nC 57.852879 70.753008 57.6 71.363513 57.6 72 \nC 57.6 72.636487 57.852879 73.246992 58.302944 73.697056 \nC 58.753008 74.147121 59.363513 74.4 60 74.4 \nz\nM 60 74.16 \nC 60 74.16 59.427161 74.16 58.877707 73.932409 \nC 58.472649 73.527351 58.067591 73.122293 57.84 72.572839 \nC 57.84 72 57.84 71.427161 58.067591 70.877707 \nC 58.472649 70.472649 58.877707 70.067591 59.427161 69.84 \nC 60 69.84 60.572839 69.84 61.122293 70.067591 \nC 61.527351 70.472649 61.932409 70.877707 62.16 71.427161 \nC 62.16 72 62.16 72.572839 61.932409 73.122293 \nC 61.527351 73.527351 61.122293 73.932409 60.572839 74.16 \nz\nM 72 74.4 \nC 72.636487 74.4 73.246992 74.147121 73.697056 73.697056 \nC 74.147121 73.246992 74.4 72.636487 74.4 72 \nC 74.4 71.363513 74.147121 70.753008 73.697056 70.302944 \nC 73.246992 69.852879 72.636487 69.6 72 69.6 \nC 71.363513 69.6 70.753008 69.852879 70.302944 70.302944 \nC 69.852879 70.753008 69.6 71.363513 69.6 72 \nC 69.6 72.636487 69.852879 73.246992 70.302944 73.697056 \nC 70.753008 74.147121 71.363513 74.4 72 74.4 \nz\nM 72 74.16 \nC 72 74.16 71.427161 74.16 70.877707 73.932409 \nC 70.472649 73.527351 70.067591 73.122293 69.84 72.572839 \nC 69.84 72 69.84 71.427161 70.067591 70.877707 \nC 70.472649 70.472649 70.877707 70.067591 71.427161 69.84 \nC 72 69.84 72.572839 69.84 73.122293 70.067591 \nC 73.527351 70.472649 73.932409 70.877707 74.16 71.427161 \nC 74.16 72 74.16 72.572839 73.932409 73.122293 \nC 73.527351 73.527351 73.122293 73.932409 72.572839 74.16 \nz\nM 6 62.4 \nC 6.636487 62.4 7.246992 62.147121 7.697056 61.697056 \nC 8.147121 61.246992 8.4 60.636487 8.4 60 \nC 8.4 59.363513 8.147121 58.753008 7.697056 58.302944 \nC 7.246992 57.852879 6.636487 57.6 6 57.6 \nC 5.363513 57.6 4.753008 57.852879 4.302944 58.302944 \nC 3.852879 58.753008 3.6 59.363513 3.6 60 \nC 3.6 60.636487 3.852879 61.246992 4.302944 61.697056 \nC 4.753008 62.147121 5.363513 62.4 6 62.4 \nz\nM 6 62.16 \nC 6 62.16 5.427161 62.16 4.877707 61.932409 \nC 4.472649 61.527351 4.067591 61.122293 3.84 60.572839 \nC 3.84 60 3.84 59.427161 4.067591 58.877707 \nC 4.472649 58.472649 4.877707 58.067591 5.427161 57.84 \nC 6 57.84 6.572839 57.84 7.122293 58.067591 \nC 7.527351 58.472649 7.932409 58.877707 8.16 59.427161 \nC 8.16 60 8.16 60.572839 7.932409 61.122293 \nC 7.527351 61.527351 7.122293 61.932409 6.572839 62.16 \nz\nM 18 62.4 \nC 18.636487 62.4 19.246992 62.147121 19.697056 61.697056 \nC 20.147121 61.246992 20.4 60.636487 20.4 60 \nC 20.4 59.363513 20.147121 58.753008 19.697056 58.302944 \nC 19.246992 57.852879 18.636487 57.6 18 57.6 \nC 17.363513 57.6 16.753008 57.852879 16.302944 58.302944 \nC 15.852879 58.753008 15.6 59.363513 15.6 60 \nC 15.6 60.636487 15.852879 61.246992 16.302944 61.697056 \nC 16.753008 62.147121 17.363513 62.4 18 62.4 \nz\nM 18 62.16 \nC 18 62.16 17.427161 62.16 16.877707 61.932409 \nC 16.472649 61.527351 16.067591 61.122293 15.84 60.572839 \nC 15.84 60 15.84 59.427161 16.067591 58.877707 \nC 16.472649 58.472649 16.877707 58.067591 17.427161 57.84 \nC 18 57.84 18.572839 57.84 19.122293 58.067591 \nC 19.527351 58.472649 19.932409 58.877707 20.16 59.427161 \nC 20.16 60 20.16 60.572839 19.932409 61.122293 \nC 19.527351 61.527351 19.122293 61.932409 18.572839 62.16 \nz\nM 30 62.4 \nC 30.636487 62.4 31.246992 62.147121 31.697056 61.697056 \nC 32.147121 61.246992 32.4 60.636487 32.4 60 \nC 32.4 59.363513 32.147121 58.753008 31.697056 58.302944 \nC 31.246992 57.852879 30.636487 57.6 30 57.6 \nC 29.363513 57.6 28.753008 57.852879 28.302944 58.302944 \nC 27.852879 58.753008 27.6 59.363513 27.6 60 \nC 27.6 60.636487 27.852879 61.246992 28.302944 61.697056 \nC 28.753008 62.147121 29.363513 62.4 30 62.4 \nz\nM 30 62.16 \nC 30 62.16 29.427161 62.16 28.877707 61.932409 \nC 28.472649 61.527351 28.067591 61.122293 27.84 60.572839 \nC 27.84 60 27.84 59.427161 28.067591 58.877707 \nC 28.472649 58.472649 28.877707 58.067591 29.427161 57.84 \nC 30 57.84 30.572839 57.84 31.122293 58.067591 \nC 31.527351 58.472649 31.932409 58.877707 32.16 59.427161 \nC 32.16 60 32.16 60.572839 31.932409 61.122293 \nC 31.527351 61.527351 31.122293 61.932409 30.572839 62.16 \nz\nM 42 62.4 \nC 42.636487 62.4 43.246992 62.147121 43.697056 61.697056 \nC 44.147121 61.246992 44.4 60.636487 44.4 60 \nC 44.4 59.363513 44.147121 58.753008 43.697056 58.302944 \nC 43.246992 57.852879 42.636487 57.6 42 57.6 \nC 41.363513 57.6 40.753008 57.852879 40.302944 58.302944 \nC 39.852879 58.753008 39.6 59.363513 39.6 60 \nC 39.6 60.636487 39.852879 61.246992 40.302944 61.697056 \nC 40.753008 62.147121 41.363513 62.4 42 62.4 \nz\nM 42 62.16 \nC 42 62.16 41.427161 62.16 40.877707 61.932409 \nC 40.472649 61.527351 40.067591 61.122293 39.84 60.572839 \nC 39.84 60 39.84 59.427161 40.067591 58.877707 \nC 40.472649 58.472649 40.877707 58.067591 41.427161 57.84 \nC 42 57.84 42.572839 57.84 43.122293 58.067591 \nC 43.527351 58.472649 43.932409 58.877707 44.16 59.427161 \nC 44.16 60 44.16 60.572839 43.932409 61.122293 \nC 43.527351 61.527351 43.122293 61.932409 42.572839 62.16 \nz\nM 54 62.4 \nC 54.636487 62.4 55.246992 62.147121 55.697056 61.697056 \nC 56.147121 61.246992 56.4 60.636487 56.4 60 \nC 56.4 59.363513 56.147121 58.753008 55.697056 58.302944 \nC 55.246992 57.852879 54.636487 57.6 54 57.6 \nC 53.363513 57.6 52.753008 57.852879 52.302944 58.302944 \nC 51.852879 58.753008 51.6 59.363513 51.6 60 \nC 51.6 60.636487 51.852879 61.246992 52.302944 61.697056 \nC 52.753008 62.147121 53.363513 62.4 54 62.4 \nz\nM 54 62.16 \nC 54 62.16 53.427161 62.16 52.877707 61.932409 \nC 52.472649 61.527351 52.067591 61.122293 51.84 60.572839 \nC 51.84 60 51.84 59.427161 52.067591 58.877707 \nC 52.472649 58.472649 52.877707 58.067591 53.427161 57.84 \nC 54 57.84 54.572839 57.84 55.122293 58.067591 \nC 55.527351 58.472649 55.932409 58.877707 56.16 59.427161 \nC 56.16 60 56.16 60.572839 55.932409 61.122293 \nC 55.527351 61.527351 55.122293 61.932409 54.572839 62.16 \nz\nM 66 62.4 \nC 66.636487 62.4 67.246992 62.147121 67.697056 61.697056 \nC 68.147121 61.246992 68.4 60.636487 68.4 60 \nC 68.4 59.363513 68.147121 58.753008 67.697056 58.302944 \nC 67.246992 57.852879 66.636487 57.6 66 57.6 \nC 65.363513 57.6 64.753008 57.852879 64.302944 58.302944 \nC 63.852879 58.753008 63.6 59.363513 63.6 60 \nC 63.6 60.636487 63.852879 61.246992 64.302944 61.697056 \nC 64.753008 62.147121 65.363513 62.4 66 62.4 \nz\nM 66 62.16 \nC 66 62.16 65.427161 62.16 64.877707 61.932409 \nC 64.472649 61.527351 64.067591 61.122293 63.84 60.572839 \nC 63.84 60 63.84 59.427161 64.067591 58.877707 \nC 64.472649 58.472649 64.877707 58.067591 65.427161 57.84 \nC 66 57.84 66.572839 57.84 67.122293 58.067591 \nC 67.527351 58.472649 67.932409 58.877707 68.16 59.427161 \nC 68.16 60 68.16 60.572839 67.932409 61.122293 \nC 67.527351 61.527351 67.122293 61.932409 66.572839 62.16 \nz\nM 0 50.4 \nC 0.636487 50.4 1.246992 50.147121 1.697056 49.697056 \nC 2.147121 49.246992 2.4 48.636487 2.4 48 \nC 2.4 47.363513 2.147121 46.753008 1.697056 46.302944 \nC 1.246992 45.852879 0.636487 45.6 0 45.6 \nC -0.636487 45.6 -1.246992 45.852879 -1.697056 46.302944 \nC -2.147121 46.753008 -2.4 47.363513 -2.4 48 \nC -2.4 48.636487 -2.147121 49.246992 -1.697056 49.697056 \nC -1.246992 50.147121 -0.636487 50.4 0 50.4 \nz\nM 0 50.16 \nC 0 50.16 -0.572839 50.16 -1.122293 49.932409 \nC -1.527351 49.527351 -1.932409 49.122293 -2.16 48.572839 \nC -2.16 48 -2.16 47.427161 -1.932409 46.877707 \nC -1.527351 46.472649 -1.122293 46.067591 -0.572839 45.84 \nC 0 45.84 0.572839 45.84 1.122293 46.067591 \nC 1.527351 46.472649 1.932409 46.877707 2.16 47.427161 \nC 2.16 48 2.16 48.572839 1.932409 49.122293 \nC 1.527351 49.527351 1.122293 49.932409 0.572839 50.16 \nz\nM 12 50.4 \nC 12.636487 50.4 13.246992 50.147121 13.697056 49.697056 \nC 14.147121 49.246992 14.4 48.636487 14.4 48 \nC 14.4 47.363513 14.147121 46.753008 13.697056 46.302944 \nC 13.246992 45.852879 12.636487 45.6 12 45.6 \nC 11.363513 45.6 10.753008 45.852879 10.302944 46.302944 \nC 9.852879 46.753008 9.6 47.363513 9.6 48 \nC 9.6 48.636487 9.852879 49.246992 10.302944 49.697056 \nC 10.753008 50.147121 11.363513 50.4 12 50.4 \nz\nM 12 50.16 \nC 12 50.16 11.427161 50.16 10.877707 49.932409 \nC 10.472649 49.527351 10.067591 49.122293 9.84 48.572839 \nC 9.84 48 9.84 47.427161 10.067591 46.877707 \nC 10.472649 46.472649 10.877707 46.067591 11.427161 45.84 \nC 12 45.84 12.572839 45.84 13.122293 46.067591 \nC 13.527351 46.472649 13.932409 46.877707 14.16 47.427161 \nC 14.16 48 14.16 48.572839 13.932409 49.122293 \nC 13.527351 49.527351 13.122293 49.932409 12.572839 50.16 \nz\nM 24 50.4 \nC 24.636487 50.4 25.246992 50.147121 25.697056 49.697056 \nC 26.147121 49.246992 26.4 48.636487 26.4 48 \nC 26.4 47.363513 26.147121 46.753008 25.697056 46.302944 \nC 25.246992 45.852879 24.636487 45.6 24 45.6 \nC 23.363513 45.6 22.753008 45.852879 22.302944 46.302944 \nC 21.852879 46.753008 21.6 47.363513 21.6 48 \nC 21.6 48.636487 21.852879 49.246992 22.302944 49.697056 \nC 22.753008 50.147121 23.363513 50.4 24 50.4 \nz\nM 24 50.16 \nC 24 50.16 23.427161 50.16 22.877707 49.932409 \nC 22.472649 49.527351 22.067591 49.122293 21.84 48.572839 \nC 21.84 48 21.84 47.427161 22.067591 46.877707 \nC 22.472649 46.472649 22.877707 46.067591 23.427161 45.84 \nC 24 45.84 24.572839 45.84 25.122293 46.067591 \nC 25.527351 46.472649 25.932409 46.877707 26.16 47.427161 \nC 26.16 48 26.16 48.572839 25.932409 49.122293 \nC 25.527351 49.527351 25.122293 49.932409 24.572839 50.16 \nz\nM 36 50.4 \nC 36.636487 50.4 37.246992 50.147121 37.697056 49.697056 \nC 38.147121 49.246992 38.4 48.636487 38.4 48 \nC 38.4 47.363513 38.147121 46.753008 37.697056 46.302944 \nC 37.246992 45.852879 36.636487 45.6 36 45.6 \nC 35.363513 45.6 34.753008 45.852879 34.302944 46.302944 \nC 33.852879 46.753008 33.6 47.363513 33.6 48 \nC 33.6 48.636487 33.852879 49.246992 34.302944 49.697056 \nC 34.753008 50.147121 35.363513 50.4 36 50.4 \nz\nM 36 50.16 \nC 36 50.16 35.427161 50.16 34.877707 49.932409 \nC 34.472649 49.527351 34.067591 49.122293 33.84 48.572839 \nC 33.84 48 33.84 47.427161 34.067591 46.877707 \nC 34.472649 46.472649 34.877707 46.067591 35.427161 45.84 \nC 36 45.84 36.572839 45.84 37.122293 46.067591 \nC 37.527351 46.472649 37.932409 46.877707 38.16 47.427161 \nC 38.16 48 38.16 48.572839 37.932409 49.122293 \nC 37.527351 49.527351 37.122293 49.932409 36.572839 50.16 \nz\nM 48 50.4 \nC 48.636487 50.4 49.246992 50.147121 49.697056 49.697056 \nC 50.147121 49.246992 50.4 48.636487 50.4 48 \nC 50.4 47.363513 50.147121 46.753008 49.697056 46.302944 \nC 49.246992 45.852879 48.636487 45.6 48 45.6 \nC 47.363513 45.6 46.753008 45.852879 46.302944 46.302944 \nC 45.852879 46.753008 45.6 47.363513 45.6 48 \nC 45.6 48.636487 45.852879 49.246992 46.302944 49.697056 \nC 46.753008 50.147121 47.363513 50.4 48 50.4 \nz\nM 48 50.16 \nC 48 50.16 47.427161 50.16 46.877707 49.932409 \nC 46.472649 49.527351 46.067591 49.122293 45.84 48.572839 \nC 45.84 48 45.84 47.427161 46.067591 46.877707 \nC 46.472649 46.472649 46.877707 46.067591 47.427161 45.84 \nC 48 45.84 48.572839 45.84 49.122293 46.067591 \nC 49.527351 46.472649 49.932409 46.877707 50.16 47.427161 \nC 50.16 48 50.16 48.572839 49.932409 49.122293 \nC 49.527351 49.527351 49.122293 49.932409 48.572839 50.16 \nz\nM 60 50.4 \nC 60.636487 50.4 61.246992 50.147121 61.697056 49.697056 \nC 62.147121 49.246992 62.4 48.636487 62.4 48 \nC 62.4 47.363513 62.147121 46.753008 61.697056 46.302944 \nC 61.246992 45.852879 60.636487 45.6 60 45.6 \nC 59.363513 45.6 58.753008 45.852879 58.302944 46.302944 \nC 57.852879 46.753008 57.6 47.363513 57.6 48 \nC 57.6 48.636487 57.852879 49.246992 58.302944 49.697056 \nC 58.753008 50.147121 59.363513 50.4 60 50.4 \nz\nM 60 50.16 \nC 60 50.16 59.427161 50.16 58.877707 49.932409 \nC 58.472649 49.527351 58.067591 49.122293 57.84 48.572839 \nC 57.84 48 57.84 47.427161 58.067591 46.877707 \nC 58.472649 46.472649 58.877707 46.067591 59.427161 45.84 \nC 60 45.84 60.572839 45.84 61.122293 46.067591 \nC 61.527351 46.472649 61.932409 46.877707 62.16 47.427161 \nC 62.16 48 62.16 48.572839 61.932409 49.122293 \nC 61.527351 49.527351 61.122293 49.932409 60.572839 50.16 \nz\nM 72 50.4 \nC 72.636487 50.4 73.246992 50.147121 73.697056 49.697056 \nC 74.147121 49.246992 74.4 48.636487 74.4 48 \nC 74.4 47.363513 74.147121 46.753008 73.697056 46.302944 \nC 73.246992 45.852879 72.636487 45.6 72 45.6 \nC 71.363513 45.6 70.753008 45.852879 70.302944 46.302944 \nC 69.852879 46.753008 69.6 47.363513 69.6 48 \nC 69.6 48.636487 69.852879 49.246992 70.302944 49.697056 \nC 70.753008 50.147121 71.363513 50.4 72 50.4 \nz\nM 72 50.16 \nC 72 50.16 71.427161 50.16 70.877707 49.932409 \nC 70.472649 49.527351 70.067591 49.122293 69.84 48.572839 \nC 69.84 48 69.84 47.427161 70.067591 46.877707 \nC 70.472649 46.472649 70.877707 46.067591 71.427161 45.84 \nC 72 45.84 72.572839 45.84 73.122293 46.067591 \nC 73.527351 46.472649 73.932409 46.877707 74.16 47.427161 \nC 74.16 48 74.16 48.572839 73.932409 49.122293 \nC 73.527351 49.527351 73.122293 49.932409 72.572839 50.16 \nz\nM 6 38.4 \nC 6.636487 38.4 7.246992 38.147121 7.697056 37.697056 \nC 8.147121 37.246992 8.4 36.636487 8.4 36 \nC 8.4 35.363513 8.147121 34.753008 7.697056 34.302944 \nC 7.246992 33.852879 6.636487 33.6 6 33.6 \nC 5.363513 33.6 4.753008 33.852879 4.302944 34.302944 \nC 3.852879 34.753008 3.6 35.363513 3.6 36 \nC 3.6 36.636487 3.852879 37.246992 4.302944 37.697056 \nC 4.753008 38.147121 5.363513 38.4 6 38.4 \nz\nM 6 38.16 \nC 6 38.16 5.427161 38.16 4.877707 37.932409 \nC 4.472649 37.527351 4.067591 37.122293 3.84 36.572839 \nC 3.84 36 3.84 35.427161 4.067591 34.877707 \nC 4.472649 34.472649 4.877707 34.067591 5.427161 33.84 \nC 6 33.84 6.572839 33.84 7.122293 34.067591 \nC 7.527351 34.472649 7.932409 34.877707 8.16 35.427161 \nC 8.16 36 8.16 36.572839 7.932409 37.122293 \nC 7.527351 37.527351 7.122293 37.932409 6.572839 38.16 \nz\nM 18 38.4 \nC 18.636487 38.4 19.246992 38.147121 19.697056 37.697056 \nC 20.147121 37.246992 20.4 36.636487 20.4 36 \nC 20.4 35.363513 20.147121 34.753008 19.697056 34.302944 \nC 19.246992 33.852879 18.636487 33.6 18 33.6 \nC 17.363513 33.6 16.753008 33.852879 16.302944 34.302944 \nC 15.852879 34.753008 15.6 35.363513 15.6 36 \nC 15.6 36.636487 15.852879 37.246992 16.302944 37.697056 \nC 16.753008 38.147121 17.363513 38.4 18 38.4 \nz\nM 18 38.16 \nC 18 38.16 17.427161 38.16 16.877707 37.932409 \nC 16.472649 37.527351 16.067591 37.122293 15.84 36.572839 \nC 15.84 36 15.84 35.427161 16.067591 34.877707 \nC 16.472649 34.472649 16.877707 34.067591 17.427161 33.84 \nC 18 33.84 18.572839 33.84 19.122293 34.067591 \nC 19.527351 34.472649 19.932409 34.877707 20.16 35.427161 \nC 20.16 36 20.16 36.572839 19.932409 37.122293 \nC 19.527351 37.527351 19.122293 37.932409 18.572839 38.16 \nz\nM 30 38.4 \nC 30.636487 38.4 31.246992 38.147121 31.697056 37.697056 \nC 32.147121 37.246992 32.4 36.636487 32.4 36 \nC 32.4 35.363513 32.147121 34.753008 31.697056 34.302944 \nC 31.246992 33.852879 30.636487 33.6 30 33.6 \nC 29.363513 33.6 28.753008 33.852879 28.302944 34.302944 \nC 27.852879 34.753008 27.6 35.363513 27.6 36 \nC 27.6 36.636487 27.852879 37.246992 28.302944 37.697056 \nC 28.753008 38.147121 29.363513 38.4 30 38.4 \nz\nM 30 38.16 \nC 30 38.16 29.427161 38.16 28.877707 37.932409 \nC 28.472649 37.527351 28.067591 37.122293 27.84 36.572839 \nC 27.84 36 27.84 35.427161 28.067591 34.877707 \nC 28.472649 34.472649 28.877707 34.067591 29.427161 33.84 \nC 30 33.84 30.572839 33.84 31.122293 34.067591 \nC 31.527351 34.472649 31.932409 34.877707 32.16 35.427161 \nC 32.16 36 32.16 36.572839 31.932409 37.122293 \nC 31.527351 37.527351 31.122293 37.932409 30.572839 38.16 \nz\nM 42 38.4 \nC 42.636487 38.4 43.246992 38.147121 43.697056 37.697056 \nC 44.147121 37.246992 44.4 36.636487 44.4 36 \nC 44.4 35.363513 44.147121 34.753008 43.697056 34.302944 \nC 43.246992 33.852879 42.636487 33.6 42 33.6 \nC 41.363513 33.6 40.753008 33.852879 40.302944 34.302944 \nC 39.852879 34.753008 39.6 35.363513 39.6 36 \nC 39.6 36.636487 39.852879 37.246992 40.302944 37.697056 \nC 40.753008 38.147121 41.363513 38.4 42 38.4 \nz\nM 42 38.16 \nC 42 38.16 41.427161 38.16 40.877707 37.932409 \nC 40.472649 37.527351 40.067591 37.122293 39.84 36.572839 \nC 39.84 36 39.84 35.427161 40.067591 34.877707 \nC 40.472649 34.472649 40.877707 34.067591 41.427161 33.84 \nC 42 33.84 42.572839 33.84 43.122293 34.067591 \nC 43.527351 34.472649 43.932409 34.877707 44.16 35.427161 \nC 44.16 36 44.16 36.572839 43.932409 37.122293 \nC 43.527351 37.527351 43.122293 37.932409 42.572839 38.16 \nz\nM 54 38.4 \nC 54.636487 38.4 55.246992 38.147121 55.697056 37.697056 \nC 56.147121 37.246992 56.4 36.636487 56.4 36 \nC 56.4 35.363513 56.147121 34.753008 55.697056 34.302944 \nC 55.246992 33.852879 54.636487 33.6 54 33.6 \nC 53.363513 33.6 52.753008 33.852879 52.302944 34.302944 \nC 51.852879 34.753008 51.6 35.363513 51.6 36 \nC 51.6 36.636487 51.852879 37.246992 52.302944 37.697056 \nC 52.753008 38.147121 53.363513 38.4 54 38.4 \nz\nM 54 38.16 \nC 54 38.16 53.427161 38.16 52.877707 37.932409 \nC 52.472649 37.527351 52.067591 37.122293 51.84 36.572839 \nC 51.84 36 51.84 35.427161 52.067591 34.877707 \nC 52.472649 34.472649 52.877707 34.067591 53.427161 33.84 \nC 54 33.84 54.572839 33.84 55.122293 34.067591 \nC 55.527351 34.472649 55.932409 34.877707 56.16 35.427161 \nC 56.16 36 56.16 36.572839 55.932409 37.122293 \nC 55.527351 37.527351 55.122293 37.932409 54.572839 38.16 \nz\nM 66 38.4 \nC 66.636487 38.4 67.246992 38.147121 67.697056 37.697056 \nC 68.147121 37.246992 68.4 36.636487 68.4 36 \nC 68.4 35.363513 68.147121 34.753008 67.697056 34.302944 \nC 67.246992 33.852879 66.636487 33.6 66 33.6 \nC 65.363513 33.6 64.753008 33.852879 64.302944 34.302944 \nC 63.852879 34.753008 63.6 35.363513 63.6 36 \nC 63.6 36.636487 63.852879 37.246992 64.302944 37.697056 \nC 64.753008 38.147121 65.363513 38.4 66 38.4 \nz\nM 66 38.16 \nC 66 38.16 65.427161 38.16 64.877707 37.932409 \nC 64.472649 37.527351 64.067591 37.122293 63.84 36.572839 \nC 63.84 36 63.84 35.427161 64.067591 34.877707 \nC 64.472649 34.472649 64.877707 34.067591 65.427161 33.84 \nC 66 33.84 66.572839 33.84 67.122293 34.067591 \nC 67.527351 34.472649 67.932409 34.877707 68.16 35.427161 \nC 68.16 36 68.16 36.572839 67.932409 37.122293 \nC 67.527351 37.527351 67.122293 37.932409 66.572839 38.16 \nz\nM 0 26.4 \nC 0.636487 26.4 1.246992 26.147121 1.697056 25.697056 \nC 2.147121 25.246992 2.4 24.636487 2.4 24 \nC 2.4 23.363513 2.147121 22.753008 1.697056 22.302944 \nC 1.246992 21.852879 0.636487 21.6 0 21.6 \nC -0.636487 21.6 -1.246992 21.852879 -1.697056 22.302944 \nC -2.147121 22.753008 -2.4 23.363513 -2.4 24 \nC -2.4 24.636487 -2.147121 25.246992 -1.697056 25.697056 \nC -1.246992 26.147121 -0.636487 26.4 0 26.4 \nz\nM 0 26.16 \nC 0 26.16 -0.572839 26.16 -1.122293 25.932409 \nC -1.527351 25.527351 -1.932409 25.122293 -2.16 24.572839 \nC -2.16 24 -2.16 23.427161 -1.932409 22.877707 \nC -1.527351 22.472649 -1.122293 22.067591 -0.572839 21.84 \nC 0 21.84 0.572839 21.84 1.122293 22.067591 \nC 1.527351 22.472649 1.932409 22.877707 2.16 23.427161 \nC 2.16 24 2.16 24.572839 1.932409 25.122293 \nC 1.527351 25.527351 1.122293 25.932409 0.572839 26.16 \nz\nM 12 26.4 \nC 12.636487 26.4 13.246992 26.147121 13.697056 25.697056 \nC 14.147121 25.246992 14.4 24.636487 14.4 24 \nC 14.4 23.363513 14.147121 22.753008 13.697056 22.302944 \nC 13.246992 21.852879 12.636487 21.6 12 21.6 \nC 11.363513 21.6 10.753008 21.852879 10.302944 22.302944 \nC 9.852879 22.753008 9.6 23.363513 9.6 24 \nC 9.6 24.636487 9.852879 25.246992 10.302944 25.697056 \nC 10.753008 26.147121 11.363513 26.4 12 26.4 \nz\nM 12 26.16 \nC 12 26.16 11.427161 26.16 10.877707 25.932409 \nC 10.472649 25.527351 10.067591 25.122293 9.84 24.572839 \nC 9.84 24 9.84 23.427161 10.067591 22.877707 \nC 10.472649 22.472649 10.877707 22.067591 11.427161 21.84 \nC 12 21.84 12.572839 21.84 13.122293 22.067591 \nC 13.527351 22.472649 13.932409 22.877707 14.16 23.427161 \nC 14.16 24 14.16 24.572839 13.932409 25.122293 \nC 13.527351 25.527351 13.122293 25.932409 12.572839 26.16 \nz\nM 24 26.4 \nC 24.636487 26.4 25.246992 26.147121 25.697056 25.697056 \nC 26.147121 25.246992 26.4 24.636487 26.4 24 \nC 26.4 23.363513 26.147121 22.753008 25.697056 22.302944 \nC 25.246992 21.852879 24.636487 21.6 24 21.6 \nC 23.363513 21.6 22.753008 21.852879 22.302944 22.302944 \nC 21.852879 22.753008 21.6 23.363513 21.6 24 \nC 21.6 24.636487 21.852879 25.246992 22.302944 25.697056 \nC 22.753008 26.147121 23.363513 26.4 24 26.4 \nz\nM 24 26.16 \nC 24 26.16 23.427161 26.16 22.877707 25.932409 \nC 22.472649 25.527351 22.067591 25.122293 21.84 24.572839 \nC 21.84 24 21.84 23.427161 22.067591 22.877707 \nC 22.472649 22.472649 22.877707 22.067591 23.427161 21.84 \nC 24 21.84 24.572839 21.84 25.122293 22.067591 \nC 25.527351 22.472649 25.932409 22.877707 26.16 23.427161 \nC 26.16 24 26.16 24.572839 25.932409 25.122293 \nC 25.527351 25.527351 25.122293 25.932409 24.572839 26.16 \nz\nM 36 26.4 \nC 36.636487 26.4 37.246992 26.147121 37.697056 25.697056 \nC 38.147121 25.246992 38.4 24.636487 38.4 24 \nC 38.4 23.363513 38.147121 22.753008 37.697056 22.302944 \nC 37.246992 21.852879 36.636487 21.6 36 21.6 \nC 35.363513 21.6 34.753008 21.852879 34.302944 22.302944 \nC 33.852879 22.753008 33.6 23.363513 33.6 24 \nC 33.6 24.636487 33.852879 25.246992 34.302944 25.697056 \nC 34.753008 26.147121 35.363513 26.4 36 26.4 \nz\nM 36 26.16 \nC 36 26.16 35.427161 26.16 34.877707 25.932409 \nC 34.472649 25.527351 34.067591 25.122293 33.84 24.572839 \nC 33.84 24 33.84 23.427161 34.067591 22.877707 \nC 34.472649 22.472649 34.877707 22.067591 35.427161 21.84 \nC 36 21.84 36.572839 21.84 37.122293 22.067591 \nC 37.527351 22.472649 37.932409 22.877707 38.16 23.427161 \nC 38.16 24 38.16 24.572839 37.932409 25.122293 \nC 37.527351 25.527351 37.122293 25.932409 36.572839 26.16 \nz\nM 48 26.4 \nC 48.636487 26.4 49.246992 26.147121 49.697056 25.697056 \nC 50.147121 25.246992 50.4 24.636487 50.4 24 \nC 50.4 23.363513 50.147121 22.753008 49.697056 22.302944 \nC 49.246992 21.852879 48.636487 21.6 48 21.6 \nC 47.363513 21.6 46.753008 21.852879 46.302944 22.302944 \nC 45.852879 22.753008 45.6 23.363513 45.6 24 \nC 45.6 24.636487 45.852879 25.246992 46.302944 25.697056 \nC 46.753008 26.147121 47.363513 26.4 48 26.4 \nz\nM 48 26.16 \nC 48 26.16 47.427161 26.16 46.877707 25.932409 \nC 46.472649 25.527351 46.067591 25.122293 45.84 24.572839 \nC 45.84 24 45.84 23.427161 46.067591 22.877707 \nC 46.472649 22.472649 46.877707 22.067591 47.427161 21.84 \nC 48 21.84 48.572839 21.84 49.122293 22.067591 \nC 49.527351 22.472649 49.932409 22.877707 50.16 23.427161 \nC 50.16 24 50.16 24.572839 49.932409 25.122293 \nC 49.527351 25.527351 49.122293 25.932409 48.572839 26.16 \nz\nM 60 26.4 \nC 60.636487 26.4 61.246992 26.147121 61.697056 25.697056 \nC 62.147121 25.246992 62.4 24.636487 62.4 24 \nC 62.4 23.363513 62.147121 22.753008 61.697056 22.302944 \nC 61.246992 21.852879 60.636487 21.6 60 21.6 \nC 59.363513 21.6 58.753008 21.852879 58.302944 22.302944 \nC 57.852879 22.753008 57.6 23.363513 57.6 24 \nC 57.6 24.636487 57.852879 25.246992 58.302944 25.697056 \nC 58.753008 26.147121 59.363513 26.4 60 26.4 \nz\nM 60 26.16 \nC 60 26.16 59.427161 26.16 58.877707 25.932409 \nC 58.472649 25.527351 58.067591 25.122293 57.84 24.572839 \nC 57.84 24 57.84 23.427161 58.067591 22.877707 \nC 58.472649 22.472649 58.877707 22.067591 59.427161 21.84 \nC 60 21.84 60.572839 21.84 61.122293 22.067591 \nC 61.527351 22.472649 61.932409 22.877707 62.16 23.427161 \nC 62.16 24 62.16 24.572839 61.932409 25.122293 \nC 61.527351 25.527351 61.122293 25.932409 60.572839 26.16 \nz\nM 72 26.4 \nC 72.636487 26.4 73.246992 26.147121 73.697056 25.697056 \nC 74.147121 25.246992 74.4 24.636487 74.4 24 \nC 74.4 23.363513 74.147121 22.753008 73.697056 22.302944 \nC 73.246992 21.852879 72.636487 21.6 72 21.6 \nC 71.363513 21.6 70.753008 21.852879 70.302944 22.302944 \nC 69.852879 22.753008 69.6 23.363513 69.6 24 \nC 69.6 24.636487 69.852879 25.246992 70.302944 25.697056 \nC 70.753008 26.147121 71.363513 26.4 72 26.4 \nz\nM 72 26.16 \nC 72 26.16 71.427161 26.16 70.877707 25.932409 \nC 70.472649 25.527351 70.067591 25.122293 69.84 24.572839 \nC 69.84 24 69.84 23.427161 70.067591 22.877707 \nC 70.472649 22.472649 70.877707 22.067591 71.427161 21.84 \nC 72 21.84 72.572839 21.84 73.122293 22.067591 \nC 73.527351 22.472649 73.932409 22.877707 74.16 23.427161 \nC 74.16 24 74.16 24.572839 73.932409 25.122293 \nC 73.527351 25.527351 73.122293 25.932409 72.572839 26.16 \nz\nM 6 14.4 \nC 6.636487 14.4 7.246992 14.147121 7.697056 13.697056 \nC 8.147121 13.246992 8.4 12.636487 8.4 12 \nC 8.4 11.363513 8.147121 10.753008 7.697056 10.302944 \nC 7.246992 9.852879 6.636487 9.6 6 9.6 \nC 5.363513 9.6 4.753008 9.852879 4.302944 10.302944 \nC 3.852879 10.753008 3.6 11.363513 3.6 12 \nC 3.6 12.636487 3.852879 13.246992 4.302944 13.697056 \nC 4.753008 14.147121 5.363513 14.4 6 14.4 \nz\nM 6 14.16 \nC 6 14.16 5.427161 14.16 4.877707 13.932409 \nC 4.472649 13.527351 4.067591 13.122293 3.84 12.572839 \nC 3.84 12 3.84 11.427161 4.067591 10.877707 \nC 4.472649 10.472649 4.877707 10.067591 5.427161 9.84 \nC 6 9.84 6.572839 9.84 7.122293 10.067591 \nC 7.527351 10.472649 7.932409 10.877707 8.16 11.427161 \nC 8.16 12 8.16 12.572839 7.932409 13.122293 \nC 7.527351 13.527351 7.122293 13.932409 6.572839 14.16 \nz\nM 18 14.4 \nC 18.636487 14.4 19.246992 14.147121 19.697056 13.697056 \nC 20.147121 13.246992 20.4 12.636487 20.4 12 \nC 20.4 11.363513 20.147121 10.753008 19.697056 10.302944 \nC 19.246992 9.852879 18.636487 9.6 18 9.6 \nC 17.363513 9.6 16.753008 9.852879 16.302944 10.302944 \nC 15.852879 10.753008 15.6 11.363513 15.6 12 \nC 15.6 12.636487 15.852879 13.246992 16.302944 13.697056 \nC 16.753008 14.147121 17.363513 14.4 18 14.4 \nz\nM 18 14.16 \nC 18 14.16 17.427161 14.16 16.877707 13.932409 \nC 16.472649 13.527351 16.067591 13.122293 15.84 12.572839 \nC 15.84 12 15.84 11.427161 16.067591 10.877707 \nC 16.472649 10.472649 16.877707 10.067591 17.427161 9.84 \nC 18 9.84 18.572839 9.84 19.122293 10.067591 \nC 19.527351 10.472649 19.932409 10.877707 20.16 11.427161 \nC 20.16 12 20.16 12.572839 19.932409 13.122293 \nC 19.527351 13.527351 19.122293 13.932409 18.572839 14.16 \nz\nM 30 14.4 \nC 30.636487 14.4 31.246992 14.147121 31.697056 13.697056 \nC 32.147121 13.246992 32.4 12.636487 32.4 12 \nC 32.4 11.363513 32.147121 10.753008 31.697056 10.302944 \nC 31.246992 9.852879 30.636487 9.6 30 9.6 \nC 29.363513 9.6 28.753008 9.852879 28.302944 10.302944 \nC 27.852879 10.753008 27.6 11.363513 27.6 12 \nC 27.6 12.636487 27.852879 13.246992 28.302944 13.697056 \nC 28.753008 14.147121 29.363513 14.4 30 14.4 \nz\nM 30 14.16 \nC 30 14.16 29.427161 14.16 28.877707 13.932409 \nC 28.472649 13.527351 28.067591 13.122293 27.84 12.572839 \nC 27.84 12 27.84 11.427161 28.067591 10.877707 \nC 28.472649 10.472649 28.877707 10.067591 29.427161 9.84 \nC 30 9.84 30.572839 9.84 31.122293 10.067591 \nC 31.527351 10.472649 31.932409 10.877707 32.16 11.427161 \nC 32.16 12 32.16 12.572839 31.932409 13.122293 \nC 31.527351 13.527351 31.122293 13.932409 30.572839 14.16 \nz\nM 42 14.4 \nC 42.636487 14.4 43.246992 14.147121 43.697056 13.697056 \nC 44.147121 13.246992 44.4 12.636487 44.4 12 \nC 44.4 11.363513 44.147121 10.753008 43.697056 10.302944 \nC 43.246992 9.852879 42.636487 9.6 42 9.6 \nC 41.363513 9.6 40.753008 9.852879 40.302944 10.302944 \nC 39.852879 10.753008 39.6 11.363513 39.6 12 \nC 39.6 12.636487 39.852879 13.246992 40.302944 13.697056 \nC 40.753008 14.147121 41.363513 14.4 42 14.4 \nz\nM 42 14.16 \nC 42 14.16 41.427161 14.16 40.877707 13.932409 \nC 40.472649 13.527351 40.067591 13.122293 39.84 12.572839 \nC 39.84 12 39.84 11.427161 40.067591 10.877707 \nC 40.472649 10.472649 40.877707 10.067591 41.427161 9.84 \nC 42 9.84 42.572839 9.84 43.122293 10.067591 \nC 43.527351 10.472649 43.932409 10.877707 44.16 11.427161 \nC 44.16 12 44.16 12.572839 43.932409 13.122293 \nC 43.527351 13.527351 43.122293 13.932409 42.572839 14.16 \nz\nM 54 14.4 \nC 54.636487 14.4 55.246992 14.147121 55.697056 13.697056 \nC 56.147121 13.246992 56.4 12.636487 56.4 12 \nC 56.4 11.363513 56.147121 10.753008 55.697056 10.302944 \nC 55.246992 9.852879 54.636487 9.6 54 9.6 \nC 53.363513 9.6 52.753008 9.852879 52.302944 10.302944 \nC 51.852879 10.753008 51.6 11.363513 51.6 12 \nC 51.6 12.636487 51.852879 13.246992 52.302944 13.697056 \nC 52.753008 14.147121 53.363513 14.4 54 14.4 \nz\nM 54 14.16 \nC 54 14.16 53.427161 14.16 52.877707 13.932409 \nC 52.472649 13.527351 52.067591 13.122293 51.84 12.572839 \nC 51.84 12 51.84 11.427161 52.067591 10.877707 \nC 52.472649 10.472649 52.877707 10.067591 53.427161 9.84 \nC 54 9.84 54.572839 9.84 55.122293 10.067591 \nC 55.527351 10.472649 55.932409 10.877707 56.16 11.427161 \nC 56.16 12 56.16 12.572839 55.932409 13.122293 \nC 55.527351 13.527351 55.122293 13.932409 54.572839 14.16 \nz\nM 66 14.4 \nC 66.636487 14.4 67.246992 14.147121 67.697056 13.697056 \nC 68.147121 13.246992 68.4 12.636487 68.4 12 \nC 68.4 11.363513 68.147121 10.753008 67.697056 10.302944 \nC 67.246992 9.852879 66.636487 9.6 66 9.6 \nC 65.363513 9.6 64.753008 9.852879 64.302944 10.302944 \nC 63.852879 10.753008 63.6 11.363513 63.6 12 \nC 63.6 12.636487 63.852879 13.246992 64.302944 13.697056 \nC 64.753008 14.147121 65.363513 14.4 66 14.4 \nz\nM 66 14.16 \nC 66 14.16 65.427161 14.16 64.877707 13.932409 \nC 64.472649 13.527351 64.067591 13.122293 63.84 12.572839 \nC 63.84 12 63.84 11.427161 64.067591 10.877707 \nC 64.472649 10.472649 64.877707 10.067591 65.427161 9.84 \nC 66 9.84 66.572839 9.84 67.122293 10.067591 \nC 67.527351 10.472649 67.932409 10.877707 68.16 11.427161 \nC 68.16 12 68.16 12.572839 67.932409 13.122293 \nC 67.527351 13.527351 67.122293 13.932409 66.572839 14.16 \nz\nM 0 2.4 \nC 0.636487 2.4 1.246992 2.147121 1.697056 1.697056 \nC 2.147121 1.246992 2.4 0.636487 2.4 0 \nC 2.4 -0.636487 2.147121 -1.246992 1.697056 -1.697056 \nC 1.246992 -2.147121 0.636487 -2.4 0 -2.4 \nC -0.636487 -2.4 -1.246992 -2.147121 -1.697056 -1.697056 \nC -2.147121 -1.246992 -2.4 -0.636487 -2.4 0 \nC -2.4 0.636487 -2.147121 1.246992 -1.697056 1.697056 \nC -1.246992 2.147121 -0.636487 2.4 0 2.4 \nz\nM 0 2.16 \nC 0 2.16 -0.572839 2.16 -1.122293 1.932409 \nC -1.527351 1.527351 -1.932409 1.122293 -2.16 0.572839 \nC -2.16 0 -2.16 -0.572839 -1.932409 -1.122293 \nC -1.527351 -1.527351 -1.122293 -1.932409 -0.572839 -2.16 \nC 0 -2.16 0.572839 -2.16 1.122293 -1.932409 \nC 1.527351 -1.527351 1.932409 -1.122293 2.16 -0.572839 \nC 2.16 0 2.16 0.572839 1.932409 1.122293 \nC 1.527351 1.527351 1.122293 1.932409 0.572839 2.16 \nz\nM 12 2.4 \nC 12.636487 2.4 13.246992 2.147121 13.697056 1.697056 \nC 14.147121 1.246992 14.4 0.636487 14.4 0 \nC 14.4 -0.636487 14.147121 -1.246992 13.697056 -1.697056 \nC 13.246992 -2.147121 12.636487 -2.4 12 -2.4 \nC 11.363513 -2.4 10.753008 -2.147121 10.302944 -1.697056 \nC 9.852879 -1.246992 9.6 -0.636487 9.6 0 \nC 9.6 0.636487 9.852879 1.246992 10.302944 1.697056 \nC 10.753008 2.147121 11.363513 2.4 12 2.4 \nz\nM 12 2.16 \nC 12 2.16 11.427161 2.16 10.877707 1.932409 \nC 10.472649 1.527351 10.067591 1.122293 9.84 0.572839 \nC 9.84 0 9.84 -0.572839 10.067591 -1.122293 \nC 10.472649 -1.527351 10.877707 -1.932409 11.427161 -2.16 \nC 12 -2.16 12.572839 -2.16 13.122293 -1.932409 \nC 13.527351 -1.527351 13.932409 -1.122293 14.16 -0.572839 \nC 14.16 0 14.16 0.572839 13.932409 1.122293 \nC 13.527351 1.527351 13.122293 1.932409 12.572839 2.16 \nz\nM 24 2.4 \nC 24.636487 2.4 25.246992 2.147121 25.697056 1.697056 \nC 26.147121 1.246992 26.4 0.636487 26.4 0 \nC 26.4 -0.636487 26.147121 -1.246992 25.697056 -1.697056 \nC 25.246992 -2.147121 24.636487 -2.4 24 -2.4 \nC 23.363513 -2.4 22.753008 -2.147121 22.302944 -1.697056 \nC 21.852879 -1.246992 21.6 -0.636487 21.6 0 \nC 21.6 0.636487 21.852879 1.246992 22.302944 1.697056 \nC 22.753008 2.147121 23.363513 2.4 24 2.4 \nz\nM 24 2.16 \nC 24 2.16 23.427161 2.16 22.877707 1.932409 \nC 22.472649 1.527351 22.067591 1.122293 21.84 0.572839 \nC 21.84 0 21.84 -0.572839 22.067591 -1.122293 \nC 22.472649 -1.527351 22.877707 -1.932409 23.427161 -2.16 \nC 24 -2.16 24.572839 -2.16 25.122293 -1.932409 \nC 25.527351 -1.527351 25.932409 -1.122293 26.16 -0.572839 \nC 26.16 0 26.16 0.572839 25.932409 1.122293 \nC 25.527351 1.527351 25.122293 1.932409 24.572839 2.16 \nz\nM 36 2.4 \nC 36.636487 2.4 37.246992 2.147121 37.697056 1.697056 \nC 38.147121 1.246992 38.4 0.636487 38.4 0 \nC 38.4 -0.636487 38.147121 -1.246992 37.697056 -1.697056 \nC 37.246992 -2.147121 36.636487 -2.4 36 -2.4 \nC 35.363513 -2.4 34.753008 -2.147121 34.302944 -1.697056 \nC 33.852879 -1.246992 33.6 -0.636487 33.6 0 \nC 33.6 0.636487 33.852879 1.246992 34.302944 1.697056 \nC 34.753008 2.147121 35.363513 2.4 36 2.4 \nz\nM 36 2.16 \nC 36 2.16 35.427161 2.16 34.877707 1.932409 \nC 34.472649 1.527351 34.067591 1.122293 33.84 0.572839 \nC 33.84 0 33.84 -0.572839 34.067591 -1.122293 \nC 34.472649 -1.527351 34.877707 -1.932409 35.427161 -2.16 \nC 36 -2.16 36.572839 -2.16 37.122293 -1.932409 \nC 37.527351 -1.527351 37.932409 -1.122293 38.16 -0.572839 \nC 38.16 0 38.16 0.572839 37.932409 1.122293 \nC 37.527351 1.527351 37.122293 1.932409 36.572839 2.16 \nz\nM 48 2.4 \nC 48.636487 2.4 49.246992 2.147121 49.697056 1.697056 \nC 50.147121 1.246992 50.4 0.636487 50.4 0 \nC 50.4 -0.636487 50.147121 -1.246992 49.697056 -1.697056 \nC 49.246992 -2.147121 48.636487 -2.4 48 -2.4 \nC 47.363513 -2.4 46.753008 -2.147121 46.302944 -1.697056 \nC 45.852879 -1.246992 45.6 -0.636487 45.6 0 \nC 45.6 0.636487 45.852879 1.246992 46.302944 1.697056 \nC 46.753008 2.147121 47.363513 2.4 48 2.4 \nz\nM 48 2.16 \nC 48 2.16 47.427161 2.16 46.877707 1.932409 \nC 46.472649 1.527351 46.067591 1.122293 45.84 0.572839 \nC 45.84 0 45.84 -0.572839 46.067591 -1.122293 \nC 46.472649 -1.527351 46.877707 -1.932409 47.427161 -2.16 \nC 48 -2.16 48.572839 -2.16 49.122293 -1.932409 \nC 49.527351 -1.527351 49.932409 -1.122293 50.16 -0.572839 \nC 50.16 0 50.16 0.572839 49.932409 1.122293 \nC 49.527351 1.527351 49.122293 1.932409 48.572839 2.16 \nz\nM 60 2.4 \nC 60.636487 2.4 61.246992 2.147121 61.697056 1.697056 \nC 62.147121 1.246992 62.4 0.636487 62.4 0 \nC 62.4 -0.636487 62.147121 -1.246992 61.697056 -1.697056 \nC 61.246992 -2.147121 60.636487 -2.4 60 -2.4 \nC 59.363513 -2.4 58.753008 -2.147121 58.302944 -1.697056 \nC 57.852879 -1.246992 57.6 -0.636487 57.6 0 \nC 57.6 0.636487 57.852879 1.246992 58.302944 1.697056 \nC 58.753008 2.147121 59.363513 2.4 60 2.4 \nz\nM 60 2.16 \nC 60 2.16 59.427161 2.16 58.877707 1.932409 \nC 58.472649 1.527351 58.067591 1.122293 57.84 0.572839 \nC 57.84 0 57.84 -0.572839 58.067591 -1.122293 \nC 58.472649 -1.527351 58.877707 -1.932409 59.427161 -2.16 \nC 60 -2.16 60.572839 -2.16 61.122293 -1.932409 \nC 61.527351 -1.527351 61.932409 -1.122293 62.16 -0.572839 \nC 62.16 0 62.16 0.572839 61.932409 1.122293 \nC 61.527351 1.527351 61.122293 1.932409 60.572839 2.16 \nz\nM 72 2.4 \nC 72.636487 2.4 73.246992 2.147121 73.697056 1.697056 \nC 74.147121 1.246992 74.4 0.636487 74.4 0 \nC 74.4 -0.636487 74.147121 -1.246992 73.697056 -1.697056 \nC 73.246992 -2.147121 72.636487 -2.4 72 -2.4 \nC 71.363513 -2.4 70.753008 -2.147121 70.302944 -1.697056 \nC 69.852879 -1.246992 69.6 -0.636487 69.6 0 \nC 69.6 0.636487 69.852879 1.246992 70.302944 1.697056 \nC 70.753008 2.147121 71.363513 2.4 72 2.4 \nz\nM 72 2.16 \nC 72 2.16 71.427161 2.16 70.877707 1.932409 \nC 70.472649 1.527351 70.067591 1.122293 69.84 0.572839 \nC 69.84 0 69.84 -0.572839 70.067591 -1.122293 \nC 70.472649 -1.527351 70.877707 -1.932409 71.427161 -2.16 \nC 72 -2.16 72.572839 -2.16 73.122293 -1.932409 \nC 73.527351 -1.527351 73.932409 -1.122293 74.16 -0.572839 \nC 74.16 0 74.16 0.572839 73.932409 1.122293 \nC 73.527351 1.527351 73.122293 1.932409 72.572839 2.16 \nz\n\" style=\"fill: #000000; stroke: #000000; stroke-width: 1.0; stroke-linecap: butt; stroke-linejoin: miter\"/>\n  </pattern>\n  <pattern id=\"h2437fcf4dd\" patternUnits=\"userSpaceOnUse\" x=\"0\" y=\"0\" width=\"72\" height=\"72\">\n   <rect x=\"0\" y=\"0\" width=\"73\" height=\"73\" fill=\"none\"/>\n   <path d=\"M 0 68 \nL -1.175571 70.381966 \nL -3.804226 70.763932 \nL -1.902113 72.618034 \nL -2.351141 75.236068 \nL -0 74 \nL 2.351141 75.236068 \nL 1.902113 72.618034 \nL 3.804226 70.763932 \nL 1.175571 70.381966 \nL 0 68 \nM 12 68 \nL 10.824429 70.381966 \nL 8.195774 70.763932 \nL 10.097887 72.618034 \nL 9.648859 75.236068 \nL 12 74 \nL 14.351141 75.236068 \nL 13.902113 72.618034 \nL 15.804226 70.763932 \nL 13.175571 70.381966 \nL 12 68 \nM 24 68 \nL 22.824429 70.381966 \nL 20.195774 70.763932 \nL 22.097887 72.618034 \nL 21.648859 75.236068 \nL 24 74 \nL 26.351141 75.236068 \nL 25.902113 72.618034 \nL 27.804226 70.763932 \nL 25.175571 70.381966 \nL 24 68 \nM 36 68 \nL 34.824429 70.381966 \nL 32.195774 70.763932 \nL 34.097887 72.618034 \nL 33.648859 75.236068 \nL 36 74 \nL 38.351141 75.236068 \nL 37.902113 72.618034 \nL 39.804226 70.763932 \nL 37.175571 70.381966 \nL 36 68 \nM 48 68 \nL 46.824429 70.381966 \nL 44.195774 70.763932 \nL 46.097887 72.618034 \nL 45.648859 75.236068 \nL 48 74 \nL 50.351141 75.236068 \nL 49.902113 72.618034 \nL 51.804226 70.763932 \nL 49.175571 70.381966 \nL 48 68 \nM 60 68 \nL 58.824429 70.381966 \nL 56.195774 70.763932 \nL 58.097887 72.618034 \nL 57.648859 75.236068 \nL 60 74 \nL 62.351141 75.236068 \nL 61.902113 72.618034 \nL 63.804226 70.763932 \nL 61.175571 70.381966 \nL 60 68 \nM 72 68 \nL 70.824429 70.381966 \nL 68.195774 70.763932 \nL 70.097887 72.618034 \nL 69.648859 75.236068 \nL 72 74 \nL 74.351141 75.236068 \nL 73.902113 72.618034 \nL 75.804226 70.763932 \nL 73.175571 70.381966 \nL 72 68 \nM 6 56 \nL 4.824429 58.381966 \nL 2.195774 58.763932 \nL 4.097887 60.618034 \nL 3.648859 63.236068 \nL 6 62 \nL 8.351141 63.236068 \nL 7.902113 60.618034 \nL 9.804226 58.763932 \nL 7.175571 58.381966 \nL 6 56 \nM 18 56 \nL 16.824429 58.381966 \nL 14.195774 58.763932 \nL 16.097887 60.618034 \nL 15.648859 63.236068 \nL 18 62 \nL 20.351141 63.236068 \nL 19.902113 60.618034 \nL 21.804226 58.763932 \nL 19.175571 58.381966 \nL 18 56 \nM 30 56 \nL 28.824429 58.381966 \nL 26.195774 58.763932 \nL 28.097887 60.618034 \nL 27.648859 63.236068 \nL 30 62 \nL 32.351141 63.236068 \nL 31.902113 60.618034 \nL 33.804226 58.763932 \nL 31.175571 58.381966 \nL 30 56 \nM 42 56 \nL 40.824429 58.381966 \nL 38.195774 58.763932 \nL 40.097887 60.618034 \nL 39.648859 63.236068 \nL 42 62 \nL 44.351141 63.236068 \nL 43.902113 60.618034 \nL 45.804226 58.763932 \nL 43.175571 58.381966 \nL 42 56 \nM 54 56 \nL 52.824429 58.381966 \nL 50.195774 58.763932 \nL 52.097887 60.618034 \nL 51.648859 63.236068 \nL 54 62 \nL 56.351141 63.236068 \nL 55.902113 60.618034 \nL 57.804226 58.763932 \nL 55.175571 58.381966 \nL 54 56 \nM 66 56 \nL 64.824429 58.381966 \nL 62.195774 58.763932 \nL 64.097887 60.618034 \nL 63.648859 63.236068 \nL 66 62 \nL 68.351141 63.236068 \nL 67.902113 60.618034 \nL 69.804226 58.763932 \nL 67.175571 58.381966 \nL 66 56 \nM 0 44 \nL -1.175571 46.381966 \nL -3.804226 46.763932 \nL -1.902113 48.618034 \nL -2.351141 51.236068 \nL -0 50 \nL 2.351141 51.236068 \nL 1.902113 48.618034 \nL 3.804226 46.763932 \nL 1.175571 46.381966 \nL 0 44 \nM 12 44 \nL 10.824429 46.381966 \nL 8.195774 46.763932 \nL 10.097887 48.618034 \nL 9.648859 51.236068 \nL 12 50 \nL 14.351141 51.236068 \nL 13.902113 48.618034 \nL 15.804226 46.763932 \nL 13.175571 46.381966 \nL 12 44 \nM 24 44 \nL 22.824429 46.381966 \nL 20.195774 46.763932 \nL 22.097887 48.618034 \nL 21.648859 51.236068 \nL 24 50 \nL 26.351141 51.236068 \nL 25.902113 48.618034 \nL 27.804226 46.763932 \nL 25.175571 46.381966 \nL 24 44 \nM 36 44 \nL 34.824429 46.381966 \nL 32.195774 46.763932 \nL 34.097887 48.618034 \nL 33.648859 51.236068 \nL 36 50 \nL 38.351141 51.236068 \nL 37.902113 48.618034 \nL 39.804226 46.763932 \nL 37.175571 46.381966 \nL 36 44 \nM 48 44 \nL 46.824429 46.381966 \nL 44.195774 46.763932 \nL 46.097887 48.618034 \nL 45.648859 51.236068 \nL 48 50 \nL 50.351141 51.236068 \nL 49.902113 48.618034 \nL 51.804226 46.763932 \nL 49.175571 46.381966 \nL 48 44 \nM 60 44 \nL 58.824429 46.381966 \nL 56.195774 46.763932 \nL 58.097887 48.618034 \nL 57.648859 51.236068 \nL 60 50 \nL 62.351141 51.236068 \nL 61.902113 48.618034 \nL 63.804226 46.763932 \nL 61.175571 46.381966 \nL 60 44 \nM 72 44 \nL 70.824429 46.381966 \nL 68.195774 46.763932 \nL 70.097887 48.618034 \nL 69.648859 51.236068 \nL 72 50 \nL 74.351141 51.236068 \nL 73.902113 48.618034 \nL 75.804226 46.763932 \nL 73.175571 46.381966 \nL 72 44 \nM 6 32 \nL 4.824429 34.381966 \nL 2.195774 34.763932 \nL 4.097887 36.618034 \nL 3.648859 39.236068 \nL 6 38 \nL 8.351141 39.236068 \nL 7.902113 36.618034 \nL 9.804226 34.763932 \nL 7.175571 34.381966 \nL 6 32 \nM 18 32 \nL 16.824429 34.381966 \nL 14.195774 34.763932 \nL 16.097887 36.618034 \nL 15.648859 39.236068 \nL 18 38 \nL 20.351141 39.236068 \nL 19.902113 36.618034 \nL 21.804226 34.763932 \nL 19.175571 34.381966 \nL 18 32 \nM 30 32 \nL 28.824429 34.381966 \nL 26.195774 34.763932 \nL 28.097887 36.618034 \nL 27.648859 39.236068 \nL 30 38 \nL 32.351141 39.236068 \nL 31.902113 36.618034 \nL 33.804226 34.763932 \nL 31.175571 34.381966 \nL 30 32 \nM 42 32 \nL 40.824429 34.381966 \nL 38.195774 34.763932 \nL 40.097887 36.618034 \nL 39.648859 39.236068 \nL 42 38 \nL 44.351141 39.236068 \nL 43.902113 36.618034 \nL 45.804226 34.763932 \nL 43.175571 34.381966 \nL 42 32 \nM 54 32 \nL 52.824429 34.381966 \nL 50.195774 34.763932 \nL 52.097887 36.618034 \nL 51.648859 39.236068 \nL 54 38 \nL 56.351141 39.236068 \nL 55.902113 36.618034 \nL 57.804226 34.763932 \nL 55.175571 34.381966 \nL 54 32 \nM 66 32 \nL 64.824429 34.381966 \nL 62.195774 34.763932 \nL 64.097887 36.618034 \nL 63.648859 39.236068 \nL 66 38 \nL 68.351141 39.236068 \nL 67.902113 36.618034 \nL 69.804226 34.763932 \nL 67.175571 34.381966 \nL 66 32 \nM 0 20 \nL -1.175571 22.381966 \nL -3.804226 22.763932 \nL -1.902113 24.618034 \nL -2.351141 27.236068 \nL -0 26 \nL 2.351141 27.236068 \nL 1.902113 24.618034 \nL 3.804226 22.763932 \nL 1.175571 22.381966 \nL 0 20 \nM 12 20 \nL 10.824429 22.381966 \nL 8.195774 22.763932 \nL 10.097887 24.618034 \nL 9.648859 27.236068 \nL 12 26 \nL 14.351141 27.236068 \nL 13.902113 24.618034 \nL 15.804226 22.763932 \nL 13.175571 22.381966 \nL 12 20 \nM 24 20 \nL 22.824429 22.381966 \nL 20.195774 22.763932 \nL 22.097887 24.618034 \nL 21.648859 27.236068 \nL 24 26 \nL 26.351141 27.236068 \nL 25.902113 24.618034 \nL 27.804226 22.763932 \nL 25.175571 22.381966 \nL 24 20 \nM 36 20 \nL 34.824429 22.381966 \nL 32.195774 22.763932 \nL 34.097887 24.618034 \nL 33.648859 27.236068 \nL 36 26 \nL 38.351141 27.236068 \nL 37.902113 24.618034 \nL 39.804226 22.763932 \nL 37.175571 22.381966 \nL 36 20 \nM 48 20 \nL 46.824429 22.381966 \nL 44.195774 22.763932 \nL 46.097887 24.618034 \nL 45.648859 27.236068 \nL 48 26 \nL 50.351141 27.236068 \nL 49.902113 24.618034 \nL 51.804226 22.763932 \nL 49.175571 22.381966 \nL 48 20 \nM 60 20 \nL 58.824429 22.381966 \nL 56.195774 22.763932 \nL 58.097887 24.618034 \nL 57.648859 27.236068 \nL 60 26 \nL 62.351141 27.236068 \nL 61.902113 24.618034 \nL 63.804226 22.763932 \nL 61.175571 22.381966 \nL 60 20 \nM 72 20 \nL 70.824429 22.381966 \nL 68.195774 22.763932 \nL 70.097887 24.618034 \nL 69.648859 27.236068 \nL 72 26 \nL 74.351141 27.236068 \nL 73.902113 24.618034 \nL 75.804226 22.763932 \nL 73.175571 22.381966 \nL 72 20 \nM 6 8 \nL 4.824429 10.381966 \nL 2.195774 10.763932 \nL 4.097887 12.618034 \nL 3.648859 15.236068 \nL 6 14 \nL 8.351141 15.236068 \nL 7.902113 12.618034 \nL 9.804226 10.763932 \nL 7.175571 10.381966 \nL 6 8 \nM 18 8 \nL 16.824429 10.381966 \nL 14.195774 10.763932 \nL 16.097887 12.618034 \nL 15.648859 15.236068 \nL 18 14 \nL 20.351141 15.236068 \nL 19.902113 12.618034 \nL 21.804226 10.763932 \nL 19.175571 10.381966 \nL 18 8 \nM 30 8 \nL 28.824429 10.381966 \nL 26.195774 10.763932 \nL 28.097887 12.618034 \nL 27.648859 15.236068 \nL 30 14 \nL 32.351141 15.236068 \nL 31.902113 12.618034 \nL 33.804226 10.763932 \nL 31.175571 10.381966 \nL 30 8 \nM 42 8 \nL 40.824429 10.381966 \nL 38.195774 10.763932 \nL 40.097887 12.618034 \nL 39.648859 15.236068 \nL 42 14 \nL 44.351141 15.236068 \nL 43.902113 12.618034 \nL 45.804226 10.763932 \nL 43.175571 10.381966 \nL 42 8 \nM 54 8 \nL 52.824429 10.381966 \nL 50.195774 10.763932 \nL 52.097887 12.618034 \nL 51.648859 15.236068 \nL 54 14 \nL 56.351141 15.236068 \nL 55.902113 12.618034 \nL 57.804226 10.763932 \nL 55.175571 10.381966 \nL 54 8 \nM 66 8 \nL 64.824429 10.381966 \nL 62.195774 10.763932 \nL 64.097887 12.618034 \nL 63.648859 15.236068 \nL 66 14 \nL 68.351141 15.236068 \nL 67.902113 12.618034 \nL 69.804226 10.763932 \nL 67.175571 10.381966 \nL 66 8 \nM 0 -4 \nL -1.175571 -1.618034 \nL -3.804226 -1.236068 \nL -1.902113 0.618034 \nL -2.351141 3.236068 \nL -0 2 \nL 2.351141 3.236068 \nL 1.902113 0.618034 \nL 3.804226 -1.236068 \nL 1.175571 -1.618034 \nL 0 -4 \nM 12 -4 \nL 10.824429 -1.618034 \nL 8.195774 -1.236068 \nL 10.097887 0.618034 \nL 9.648859 3.236068 \nL 12 2 \nL 14.351141 3.236068 \nL 13.902113 0.618034 \nL 15.804226 -1.236068 \nL 13.175571 -1.618034 \nL 12 -4 \nM 24 -4 \nL 22.824429 -1.618034 \nL 20.195774 -1.236068 \nL 22.097887 0.618034 \nL 21.648859 3.236068 \nL 24 2 \nL 26.351141 3.236068 \nL 25.902113 0.618034 \nL 27.804226 -1.236068 \nL 25.175571 -1.618034 \nL 24 -4 \nM 36 -4 \nL 34.824429 -1.618034 \nL 32.195774 -1.236068 \nL 34.097887 0.618034 \nL 33.648859 3.236068 \nL 36 2 \nL 38.351141 3.236068 \nL 37.902113 0.618034 \nL 39.804226 -1.236068 \nL 37.175571 -1.618034 \nL 36 -4 \nM 48 -4 \nL 46.824429 -1.618034 \nL 44.195774 -1.236068 \nL 46.097887 0.618034 \nL 45.648859 3.236068 \nL 48 2 \nL 50.351141 3.236068 \nL 49.902113 0.618034 \nL 51.804226 -1.236068 \nL 49.175571 -1.618034 \nL 48 -4 \nM 60 -4 \nL 58.824429 -1.618034 \nL 56.195774 -1.236068 \nL 58.097887 0.618034 \nL 57.648859 3.236068 \nL 60 2 \nL 62.351141 3.236068 \nL 61.902113 0.618034 \nL 63.804226 -1.236068 \nL 61.175571 -1.618034 \nL 60 -4 \nM 72 -4 \nL 70.824429 -1.618034 \nL 68.195774 -1.236068 \nL 70.097887 0.618034 \nL 69.648859 3.236068 \nL 72 2 \nL 74.351141 3.236068 \nL 73.902113 0.618034 \nL 75.804226 -1.236068 \nL 73.175571 -1.618034 \nL 72 -4 \n\" style=\"fill: #000000; stroke: #000000; stroke-width: 1.0; stroke-linecap: butt; stroke-linejoin: miter\"/>\n  </pattern>\n </defs>\n</svg>\n"
     },
     "metadata": {},
     "output_type": "display_data"
    }
   ],
   "execution_count": 41
  },
  {
   "cell_type": "markdown",
   "metadata": {},
   "source": [
    "## Mapping data to visual variables"
   ]
  },
  {
   "cell_type": "code",
   "metadata": {
    "ExecuteTime": {
     "end_time": "2025-03-15T10:53:27.179751Z",
     "start_time": "2025-03-15T10:53:27.125561Z"
    }
   },
   "source": [
    "# Create the Data\n",
    "xs = np.arange(1, 5)\n",
    "ys = np.ones(4)\n",
    "# Create the figure and the subplots\n",
    "fig, axs = plt.subplots(3, 1, figsize=figsize_rect)\n",
    "\n",
    "for i, label in enumerate(['position', 'color', 'shape']):\n",
    "    axs[i].spines[:].set_visible(False) \n",
    "    axs[i].set_xticks([])\n",
    "    axs[i].set_yticks([1])\n",
    "    axs[i].set_yticklabels([label], fontsize=24)\n",
    "    axs[i].set_xlim(0.7, 4.4)\n",
    "    axs[i].xaxis.tick_top()\n",
    "    axs[i].set_xlabel('')\n",
    "    axs[i].tick_params(axis='both', length=0)\n",
    "\n",
    "# Numerical scale plot\n",
    "axs[0].set_xticks(np.arange(1, 5))\n",
    "axs[0].set_xticklabels(['1', '2', '3', '4'], fontsize=24)\n",
    "\n",
    "axs[0].grid(True, which='major', color='grey', linestyle='-', linewidth=0.25)\n",
    "axs[0].scatter(x=xs, y=ys, s=1000, color=greys[2], edgecolor='black', lw=0)\n",
    "\n",
    "# Color scale plot\n",
    "axs[1].scatter(x=xs, y=ys, s=1000, c=xs, cmap=mpl.colormaps['tab10'], edgecolor='black', lw=0)\n",
    "\n",
    "# Shape scale plot\n",
    "markers = ['o', 's', 'P', 'X']\n",
    "for i, x in enumerate(xs):\n",
    "    axs[2].scatter(x=x, y=1.0, s=1000, color=greys[2], edgecolor='black', marker=markers[i - 1], lw=0)\n",
    "\n",
    "\n",
    "plt.show()"
   ],
   "outputs": [
    {
     "data": {
      "text/plain": [
       "<Figure size 1200x600 with 3 Axes>"
      ],
      "image/svg+xml": "<?xml version=\"1.0\" encoding=\"utf-8\" standalone=\"no\"?>\n<!DOCTYPE svg PUBLIC \"-//W3C//DTD SVG 1.1//EN\"\n  \"http://www.w3.org/Graphics/SVG/1.1/DTD/svg11.dtd\">\n<svg xmlns:xlink=\"http://www.w3.org/1999/xlink\" width=\"782.5625pt\" height=\"373.7675pt\" viewBox=\"0 0 782.5625 373.7675\" xmlns=\"http://www.w3.org/2000/svg\" version=\"1.1\">\n <metadata>\n  <rdf:RDF xmlns:dc=\"http://purl.org/dc/elements/1.1/\" xmlns:cc=\"http://creativecommons.org/ns#\" xmlns:rdf=\"http://www.w3.org/1999/02/22-rdf-syntax-ns#\">\n   <cc:Work>\n    <dc:type rdf:resource=\"http://purl.org/dc/dcmitype/StillImage\"/>\n    <dc:date>2025-03-15T11:53:27.167628</dc:date>\n    <dc:format>image/svg+xml</dc:format>\n    <dc:creator>\n     <cc:Agent>\n      <dc:title>Matplotlib v3.10.0, https://matplotlib.org/</dc:title>\n     </cc:Agent>\n    </dc:creator>\n   </cc:Work>\n  </rdf:RDF>\n </metadata>\n <defs>\n  <style type=\"text/css\">*{stroke-linejoin: round; stroke-linecap: butt}</style>\n </defs>\n <g id=\"figure_1\">\n  <g id=\"patch_1\">\n   <path d=\"M 0 373.7675 \nL 782.5625 373.7675 \nL 782.5625 0 \nL 0 0 \nz\n\" style=\"fill: #ffffff\"/>\n  </g>\n  <g id=\"axes_1\">\n   <g id=\"patch_2\">\n    <path d=\"M 105.7625 131.762794 \nL 775.3625 131.762794 \nL 775.3625 33.9275 \nL 105.7625 33.9275 \nz\n\" style=\"fill: #ffffff\"/>\n   </g>\n   <g id=\"PathCollection_1\">\n    <defs>\n     <path id=\"m1436975fcc\" d=\"M 0 15.811388 \nC 4.193229 15.811388 8.215279 14.145401 11.18034 11.18034 \nC 14.145401 8.215279 15.811388 4.193229 15.811388 0 \nC 15.811388 -4.193229 14.145401 -8.215279 11.18034 -11.18034 \nC 8.215279 -14.145401 4.193229 -15.811388 0 -15.811388 \nC -4.193229 -15.811388 -8.215279 -14.145401 -11.18034 -11.18034 \nC -14.145401 -8.215279 -15.811388 -4.193229 -15.811388 0 \nC -15.811388 4.193229 -14.145401 8.215279 -11.18034 11.18034 \nC -8.215279 14.145401 -4.193229 15.811388 0 15.811388 \nz\n\"/>\n    </defs>\n    <g clip-path=\"url(#pb4c6a8ce63)\">\n     <use xlink:href=\"#m1436975fcc\" x=\"160.054392\" y=\"82.845147\" style=\"fill: #969696\"/>\n     <use xlink:href=\"#m1436975fcc\" x=\"341.027365\" y=\"82.845147\" style=\"fill: #969696\"/>\n     <use xlink:href=\"#m1436975fcc\" x=\"522.000338\" y=\"82.845147\" style=\"fill: #969696\"/>\n     <use xlink:href=\"#m1436975fcc\" x=\"702.973311\" y=\"82.845147\" style=\"fill: #969696\"/>\n    </g>\n   </g>\n   <g id=\"matplotlib.axis_1\">\n    <g id=\"xtick_1\">\n     <g id=\"line2d_1\">\n      <path d=\"M 160.054392 131.762794 \nL 160.054392 33.9275 \n\" clip-path=\"url(#pb4c6a8ce63)\" style=\"fill: none; stroke: #808080; stroke-width: 0.25; stroke-linecap: square\"/>\n     </g>\n     <g id=\"line2d_2\"/>\n     <g id=\"text_1\">\n      <!-- 1 -->\n      <g transform=\"translate(152.419392 25.43625) scale(0.24 -0.24)\">\n       <defs>\n        <path id=\"DejaVuSans-31\" d=\"M 794 531 \nL 1825 531 \nL 1825 4091 \nL 703 3866 \nL 703 4441 \nL 1819 4666 \nL 2450 4666 \nL 2450 531 \nL 3481 531 \nL 3481 0 \nL 794 0 \nL 794 531 \nz\n\" transform=\"scale(0.015625)\"/>\n       </defs>\n       <use xlink:href=\"#DejaVuSans-31\"/>\n      </g>\n     </g>\n    </g>\n    <g id=\"xtick_2\">\n     <g id=\"line2d_3\">\n      <path d=\"M 341.027365 131.762794 \nL 341.027365 33.9275 \n\" clip-path=\"url(#pb4c6a8ce63)\" style=\"fill: none; stroke: #808080; stroke-width: 0.25; stroke-linecap: square\"/>\n     </g>\n     <g id=\"line2d_4\"/>\n     <g id=\"text_2\">\n      <!-- 2 -->\n      <g transform=\"translate(333.392365 25.43625) scale(0.24 -0.24)\">\n       <defs>\n        <path id=\"DejaVuSans-32\" d=\"M 1228 531 \nL 3431 531 \nL 3431 0 \nL 469 0 \nL 469 531 \nQ 828 903 1448 1529 \nQ 2069 2156 2228 2338 \nQ 2531 2678 2651 2914 \nQ 2772 3150 2772 3378 \nQ 2772 3750 2511 3984 \nQ 2250 4219 1831 4219 \nQ 1534 4219 1204 4116 \nQ 875 4013 500 3803 \nL 500 4441 \nQ 881 4594 1212 4672 \nQ 1544 4750 1819 4750 \nQ 2544 4750 2975 4387 \nQ 3406 4025 3406 3419 \nQ 3406 3131 3298 2873 \nQ 3191 2616 2906 2266 \nQ 2828 2175 2409 1742 \nQ 1991 1309 1228 531 \nz\n\" transform=\"scale(0.015625)\"/>\n       </defs>\n       <use xlink:href=\"#DejaVuSans-32\"/>\n      </g>\n     </g>\n    </g>\n    <g id=\"xtick_3\">\n     <g id=\"line2d_5\">\n      <path d=\"M 522.000338 131.762794 \nL 522.000338 33.9275 \n\" clip-path=\"url(#pb4c6a8ce63)\" style=\"fill: none; stroke: #808080; stroke-width: 0.25; stroke-linecap: square\"/>\n     </g>\n     <g id=\"line2d_6\"/>\n     <g id=\"text_3\">\n      <!-- 3 -->\n      <g transform=\"translate(514.365338 25.43625) scale(0.24 -0.24)\">\n       <defs>\n        <path id=\"DejaVuSans-33\" d=\"M 2597 2516 \nQ 3050 2419 3304 2112 \nQ 3559 1806 3559 1356 \nQ 3559 666 3084 287 \nQ 2609 -91 1734 -91 \nQ 1441 -91 1130 -33 \nQ 819 25 488 141 \nL 488 750 \nQ 750 597 1062 519 \nQ 1375 441 1716 441 \nQ 2309 441 2620 675 \nQ 2931 909 2931 1356 \nQ 2931 1769 2642 2001 \nQ 2353 2234 1838 2234 \nL 1294 2234 \nL 1294 2753 \nL 1863 2753 \nQ 2328 2753 2575 2939 \nQ 2822 3125 2822 3475 \nQ 2822 3834 2567 4026 \nQ 2313 4219 1838 4219 \nQ 1578 4219 1281 4162 \nQ 984 4106 628 3988 \nL 628 4550 \nQ 988 4650 1302 4700 \nQ 1616 4750 1894 4750 \nQ 2613 4750 3031 4423 \nQ 3450 4097 3450 3541 \nQ 3450 3153 3228 2886 \nQ 3006 2619 2597 2516 \nz\n\" transform=\"scale(0.015625)\"/>\n       </defs>\n       <use xlink:href=\"#DejaVuSans-33\"/>\n      </g>\n     </g>\n    </g>\n    <g id=\"xtick_4\">\n     <g id=\"line2d_7\">\n      <path d=\"M 702.973311 131.762794 \nL 702.973311 33.9275 \n\" clip-path=\"url(#pb4c6a8ce63)\" style=\"fill: none; stroke: #808080; stroke-width: 0.25; stroke-linecap: square\"/>\n     </g>\n     <g id=\"line2d_8\"/>\n     <g id=\"text_4\">\n      <!-- 4 -->\n      <g transform=\"translate(695.338311 25.43625) scale(0.24 -0.24)\">\n       <defs>\n        <path id=\"DejaVuSans-34\" d=\"M 2419 4116 \nL 825 1625 \nL 2419 1625 \nL 2419 4116 \nz\nM 2253 4666 \nL 3047 4666 \nL 3047 1625 \nL 3713 1625 \nL 3713 1100 \nL 3047 1100 \nL 3047 0 \nL 2419 0 \nL 2419 1100 \nL 313 1100 \nL 313 1709 \nL 2253 4666 \nz\n\" transform=\"scale(0.015625)\"/>\n       </defs>\n       <use xlink:href=\"#DejaVuSans-34\"/>\n      </g>\n     </g>\n    </g>\n   </g>\n   <g id=\"matplotlib.axis_2\">\n    <g id=\"ytick_1\">\n     <g id=\"line2d_9\">\n      <path d=\"M 105.7625 82.845147 \nL 775.3625 82.845147 \n\" clip-path=\"url(#pb4c6a8ce63)\" style=\"fill: none; stroke: #808080; stroke-width: 0.25; stroke-linecap: square\"/>\n     </g>\n     <g id=\"line2d_10\"/>\n     <g id=\"text_5\">\n      <!-- position -->\n      <g transform=\"translate(7.2 91.963272) scale(0.24 -0.24)\">\n       <defs>\n        <path id=\"DejaVuSans-70\" d=\"M 1159 525 \nL 1159 -1331 \nL 581 -1331 \nL 581 3500 \nL 1159 3500 \nL 1159 2969 \nQ 1341 3281 1617 3432 \nQ 1894 3584 2278 3584 \nQ 2916 3584 3314 3078 \nQ 3713 2572 3713 1747 \nQ 3713 922 3314 415 \nQ 2916 -91 2278 -91 \nQ 1894 -91 1617 61 \nQ 1341 213 1159 525 \nz\nM 3116 1747 \nQ 3116 2381 2855 2742 \nQ 2594 3103 2138 3103 \nQ 1681 3103 1420 2742 \nQ 1159 2381 1159 1747 \nQ 1159 1113 1420 752 \nQ 1681 391 2138 391 \nQ 2594 391 2855 752 \nQ 3116 1113 3116 1747 \nz\n\" transform=\"scale(0.015625)\"/>\n        <path id=\"DejaVuSans-6f\" d=\"M 1959 3097 \nQ 1497 3097 1228 2736 \nQ 959 2375 959 1747 \nQ 959 1119 1226 758 \nQ 1494 397 1959 397 \nQ 2419 397 2687 759 \nQ 2956 1122 2956 1747 \nQ 2956 2369 2687 2733 \nQ 2419 3097 1959 3097 \nz\nM 1959 3584 \nQ 2709 3584 3137 3096 \nQ 3566 2609 3566 1747 \nQ 3566 888 3137 398 \nQ 2709 -91 1959 -91 \nQ 1206 -91 779 398 \nQ 353 888 353 1747 \nQ 353 2609 779 3096 \nQ 1206 3584 1959 3584 \nz\n\" transform=\"scale(0.015625)\"/>\n        <path id=\"DejaVuSans-73\" d=\"M 2834 3397 \nL 2834 2853 \nQ 2591 2978 2328 3040 \nQ 2066 3103 1784 3103 \nQ 1356 3103 1142 2972 \nQ 928 2841 928 2578 \nQ 928 2378 1081 2264 \nQ 1234 2150 1697 2047 \nL 1894 2003 \nQ 2506 1872 2764 1633 \nQ 3022 1394 3022 966 \nQ 3022 478 2636 193 \nQ 2250 -91 1575 -91 \nQ 1294 -91 989 -36 \nQ 684 19 347 128 \nL 347 722 \nQ 666 556 975 473 \nQ 1284 391 1588 391 \nQ 1994 391 2212 530 \nQ 2431 669 2431 922 \nQ 2431 1156 2273 1281 \nQ 2116 1406 1581 1522 \nL 1381 1569 \nQ 847 1681 609 1914 \nQ 372 2147 372 2553 \nQ 372 3047 722 3315 \nQ 1072 3584 1716 3584 \nQ 2034 3584 2315 3537 \nQ 2597 3491 2834 3397 \nz\n\" transform=\"scale(0.015625)\"/>\n        <path id=\"DejaVuSans-69\" d=\"M 603 3500 \nL 1178 3500 \nL 1178 0 \nL 603 0 \nL 603 3500 \nz\nM 603 4863 \nL 1178 4863 \nL 1178 4134 \nL 603 4134 \nL 603 4863 \nz\n\" transform=\"scale(0.015625)\"/>\n        <path id=\"DejaVuSans-74\" d=\"M 1172 4494 \nL 1172 3500 \nL 2356 3500 \nL 2356 3053 \nL 1172 3053 \nL 1172 1153 \nQ 1172 725 1289 603 \nQ 1406 481 1766 481 \nL 2356 481 \nL 2356 0 \nL 1766 0 \nQ 1100 0 847 248 \nQ 594 497 594 1153 \nL 594 3053 \nL 172 3053 \nL 172 3500 \nL 594 3500 \nL 594 4494 \nL 1172 4494 \nz\n\" transform=\"scale(0.015625)\"/>\n        <path id=\"DejaVuSans-6e\" d=\"M 3513 2113 \nL 3513 0 \nL 2938 0 \nL 2938 2094 \nQ 2938 2591 2744 2837 \nQ 2550 3084 2163 3084 \nQ 1697 3084 1428 2787 \nQ 1159 2491 1159 1978 \nL 1159 0 \nL 581 0 \nL 581 3500 \nL 1159 3500 \nL 1159 2956 \nQ 1366 3272 1645 3428 \nQ 1925 3584 2291 3584 \nQ 2894 3584 3203 3211 \nQ 3513 2838 3513 2113 \nz\n\" transform=\"scale(0.015625)\"/>\n       </defs>\n       <use xlink:href=\"#DejaVuSans-70\"/>\n       <use xlink:href=\"#DejaVuSans-6f\" transform=\"translate(63.476562 0)\"/>\n       <use xlink:href=\"#DejaVuSans-73\" transform=\"translate(124.658203 0)\"/>\n       <use xlink:href=\"#DejaVuSans-69\" transform=\"translate(176.757812 0)\"/>\n       <use xlink:href=\"#DejaVuSans-74\" transform=\"translate(204.541016 0)\"/>\n       <use xlink:href=\"#DejaVuSans-69\" transform=\"translate(243.75 0)\"/>\n       <use xlink:href=\"#DejaVuSans-6f\" transform=\"translate(271.533203 0)\"/>\n       <use xlink:href=\"#DejaVuSans-6e\" transform=\"translate(332.714844 0)\"/>\n      </g>\n     </g>\n    </g>\n   </g>\n  </g>\n  <g id=\"axes_2\">\n   <g id=\"patch_3\">\n    <path d=\"M 105.7625 249.165147 \nL 775.3625 249.165147 \nL 775.3625 151.329853 \nL 105.7625 151.329853 \nz\n\" style=\"fill: #ffffff\"/>\n   </g>\n   <g id=\"PathCollection_2\">\n    <defs>\n     <path id=\"C0_0_5a1381374b\" d=\"M 0 15.811388 \nC 4.193229 15.811388 8.215279 14.145401 11.18034 11.18034 \nC 14.145401 8.215279 15.811388 4.193229 15.811388 -0 \nC 15.811388 -4.193229 14.145401 -8.215279 11.18034 -11.18034 \nC 8.215279 -14.145401 4.193229 -15.811388 0 -15.811388 \nC -4.193229 -15.811388 -8.215279 -14.145401 -11.18034 -11.18034 \nC -14.145401 -8.215279 -15.811388 -4.193229 -15.811388 0 \nC -15.811388 4.193229 -14.145401 8.215279 -11.18034 11.18034 \nC -8.215279 14.145401 -4.193229 15.811388 0 15.811388 \nz\n\"/>\n    </defs>\n    <g clip-path=\"url(#pa34c69ff7c)\">\n     <use xlink:href=\"#C0_0_5a1381374b\" x=\"160.054392\" y=\"200.2475\" style=\"fill: #1f77b4\"/>\n    </g>\n    <g clip-path=\"url(#pa34c69ff7c)\">\n     <use xlink:href=\"#C0_0_5a1381374b\" x=\"341.027365\" y=\"200.2475\" style=\"fill: #d62728\"/>\n    </g>\n    <g clip-path=\"url(#pa34c69ff7c)\">\n     <use xlink:href=\"#C0_0_5a1381374b\" x=\"522.000338\" y=\"200.2475\" style=\"fill: #e377c2\"/>\n    </g>\n    <g clip-path=\"url(#pa34c69ff7c)\">\n     <use xlink:href=\"#C0_0_5a1381374b\" x=\"702.973311\" y=\"200.2475\" style=\"fill: #17becf\"/>\n    </g>\n   </g>\n   <g id=\"matplotlib.axis_3\"/>\n   <g id=\"matplotlib.axis_4\">\n    <g id=\"ytick_2\">\n     <g id=\"line2d_11\"/>\n     <g id=\"text_6\">\n      <!-- color -->\n      <g transform=\"translate(43.1625 209.365625) scale(0.24 -0.24)\">\n       <defs>\n        <path id=\"DejaVuSans-63\" d=\"M 3122 3366 \nL 3122 2828 \nQ 2878 2963 2633 3030 \nQ 2388 3097 2138 3097 \nQ 1578 3097 1268 2742 \nQ 959 2388 959 1747 \nQ 959 1106 1268 751 \nQ 1578 397 2138 397 \nQ 2388 397 2633 464 \nQ 2878 531 3122 666 \nL 3122 134 \nQ 2881 22 2623 -34 \nQ 2366 -91 2075 -91 \nQ 1284 -91 818 406 \nQ 353 903 353 1747 \nQ 353 2603 823 3093 \nQ 1294 3584 2113 3584 \nQ 2378 3584 2631 3529 \nQ 2884 3475 3122 3366 \nz\n\" transform=\"scale(0.015625)\"/>\n        <path id=\"DejaVuSans-6c\" d=\"M 603 4863 \nL 1178 4863 \nL 1178 0 \nL 603 0 \nL 603 4863 \nz\n\" transform=\"scale(0.015625)\"/>\n        <path id=\"DejaVuSans-72\" d=\"M 2631 2963 \nQ 2534 3019 2420 3045 \nQ 2306 3072 2169 3072 \nQ 1681 3072 1420 2755 \nQ 1159 2438 1159 1844 \nL 1159 0 \nL 581 0 \nL 581 3500 \nL 1159 3500 \nL 1159 2956 \nQ 1341 3275 1631 3429 \nQ 1922 3584 2338 3584 \nQ 2397 3584 2469 3576 \nQ 2541 3569 2628 3553 \nL 2631 2963 \nz\n\" transform=\"scale(0.015625)\"/>\n       </defs>\n       <use xlink:href=\"#DejaVuSans-63\"/>\n       <use xlink:href=\"#DejaVuSans-6f\" transform=\"translate(54.980469 0)\"/>\n       <use xlink:href=\"#DejaVuSans-6c\" transform=\"translate(116.162109 0)\"/>\n       <use xlink:href=\"#DejaVuSans-6f\" transform=\"translate(143.945312 0)\"/>\n       <use xlink:href=\"#DejaVuSans-72\" transform=\"translate(205.126953 0)\"/>\n      </g>\n     </g>\n    </g>\n   </g>\n  </g>\n  <g id=\"axes_3\">\n   <g id=\"patch_4\">\n    <path d=\"M 105.7625 366.5675 \nL 775.3625 366.5675 \nL 775.3625 268.732206 \nL 105.7625 268.732206 \nz\n\" style=\"fill: #ffffff\"/>\n   </g>\n   <g id=\"PathCollection_3\">\n    <defs>\n     <path id=\"ma6a3e5823e\" d=\"M -7.905694 15.811388 \nL 0 7.905694 \nL 7.905694 15.811388 \nL 15.811388 7.905694 \nL 7.905694 0 \nL 15.811388 -7.905694 \nL 7.905694 -15.811388 \nL 0 -7.905694 \nL -7.905694 -15.811388 \nL -15.811388 -7.905694 \nL -7.905694 0 \nL -15.811388 7.905694 \nz\n\"/>\n    </defs>\n    <g clip-path=\"url(#p503ec550a6)\">\n     <use xlink:href=\"#ma6a3e5823e\" x=\"160.054392\" y=\"317.649853\" style=\"fill: #969696\"/>\n    </g>\n   </g>\n   <g id=\"PathCollection_4\">\n    <g clip-path=\"url(#p503ec550a6)\">\n     <use xlink:href=\"#m1436975fcc\" x=\"341.027365\" y=\"317.649853\" style=\"fill: #969696\"/>\n    </g>\n   </g>\n   <g id=\"PathCollection_5\">\n    <defs>\n     <path id=\"m6bc31f230f\" d=\"M -15.811388 15.811388 \nL 15.811388 15.811388 \nL 15.811388 -15.811388 \nL -15.811388 -15.811388 \nz\n\"/>\n    </defs>\n    <g clip-path=\"url(#p503ec550a6)\">\n     <use xlink:href=\"#m6bc31f230f\" x=\"522.000338\" y=\"317.649853\" style=\"fill: #969696\"/>\n    </g>\n   </g>\n   <g id=\"PathCollection_6\">\n    <defs>\n     <path id=\"m0bde144ff3\" d=\"M -5.270463 15.811388 \nL 5.270463 15.811388 \nL 5.270463 5.270463 \nL 15.811388 5.270463 \nL 15.811388 -5.270463 \nL 5.270463 -5.270463 \nL 5.270463 -15.811388 \nL -5.270463 -15.811388 \nL -5.270463 -5.270463 \nL -15.811388 -5.270463 \nL -15.811388 5.270463 \nL -5.270463 5.270463 \nz\n\"/>\n    </defs>\n    <g clip-path=\"url(#p503ec550a6)\">\n     <use xlink:href=\"#m0bde144ff3\" x=\"702.973311\" y=\"317.649853\" style=\"fill: #969696\"/>\n    </g>\n   </g>\n   <g id=\"matplotlib.axis_5\"/>\n   <g id=\"matplotlib.axis_6\">\n    <g id=\"ytick_3\">\n     <g id=\"line2d_12\"/>\n     <g id=\"text_7\">\n      <!-- shape -->\n      <g transform=\"translate(29.83875 326.767978) scale(0.24 -0.24)\">\n       <defs>\n        <path id=\"DejaVuSans-68\" d=\"M 3513 2113 \nL 3513 0 \nL 2938 0 \nL 2938 2094 \nQ 2938 2591 2744 2837 \nQ 2550 3084 2163 3084 \nQ 1697 3084 1428 2787 \nQ 1159 2491 1159 1978 \nL 1159 0 \nL 581 0 \nL 581 4863 \nL 1159 4863 \nL 1159 2956 \nQ 1366 3272 1645 3428 \nQ 1925 3584 2291 3584 \nQ 2894 3584 3203 3211 \nQ 3513 2838 3513 2113 \nz\n\" transform=\"scale(0.015625)\"/>\n        <path id=\"DejaVuSans-61\" d=\"M 2194 1759 \nQ 1497 1759 1228 1600 \nQ 959 1441 959 1056 \nQ 959 750 1161 570 \nQ 1363 391 1709 391 \nQ 2188 391 2477 730 \nQ 2766 1069 2766 1631 \nL 2766 1759 \nL 2194 1759 \nz\nM 3341 1997 \nL 3341 0 \nL 2766 0 \nL 2766 531 \nQ 2569 213 2275 61 \nQ 1981 -91 1556 -91 \nQ 1019 -91 701 211 \nQ 384 513 384 1019 \nQ 384 1609 779 1909 \nQ 1175 2209 1959 2209 \nL 2766 2209 \nL 2766 2266 \nQ 2766 2663 2505 2880 \nQ 2244 3097 1772 3097 \nQ 1472 3097 1187 3025 \nQ 903 2953 641 2809 \nL 641 3341 \nQ 956 3463 1253 3523 \nQ 1550 3584 1831 3584 \nQ 2591 3584 2966 3190 \nQ 3341 2797 3341 1997 \nz\n\" transform=\"scale(0.015625)\"/>\n        <path id=\"DejaVuSans-65\" d=\"M 3597 1894 \nL 3597 1613 \nL 953 1613 \nQ 991 1019 1311 708 \nQ 1631 397 2203 397 \nQ 2534 397 2845 478 \nQ 3156 559 3463 722 \nL 3463 178 \nQ 3153 47 2828 -22 \nQ 2503 -91 2169 -91 \nQ 1331 -91 842 396 \nQ 353 884 353 1716 \nQ 353 2575 817 3079 \nQ 1281 3584 2069 3584 \nQ 2775 3584 3186 3129 \nQ 3597 2675 3597 1894 \nz\nM 3022 2063 \nQ 3016 2534 2758 2815 \nQ 2500 3097 2075 3097 \nQ 1594 3097 1305 2825 \nQ 1016 2553 972 2059 \nL 3022 2063 \nz\n\" transform=\"scale(0.015625)\"/>\n       </defs>\n       <use xlink:href=\"#DejaVuSans-73\"/>\n       <use xlink:href=\"#DejaVuSans-68\" transform=\"translate(52.099609 0)\"/>\n       <use xlink:href=\"#DejaVuSans-61\" transform=\"translate(115.478516 0)\"/>\n       <use xlink:href=\"#DejaVuSans-70\" transform=\"translate(176.757812 0)\"/>\n       <use xlink:href=\"#DejaVuSans-65\" transform=\"translate(240.234375 0)\"/>\n      </g>\n     </g>\n    </g>\n   </g>\n  </g>\n </g>\n <defs>\n  <clipPath id=\"pb4c6a8ce63\">\n   <rect x=\"105.7625\" y=\"33.9275\" width=\"669.6\" height=\"97.835294\"/>\n  </clipPath>\n  <clipPath id=\"pa34c69ff7c\">\n   <rect x=\"105.7625\" y=\"151.329853\" width=\"669.6\" height=\"97.835294\"/>\n  </clipPath>\n  <clipPath id=\"p503ec550a6\">\n   <rect x=\"105.7625\" y=\"268.732206\" width=\"669.6\" height=\"97.835294\"/>\n  </clipPath>\n </defs>\n</svg>\n"
     },
     "metadata": {},
     "output_type": "display_data"
    }
   ],
   "execution_count": 42
  },
  {
   "cell_type": "markdown",
   "metadata": {},
   "source": [
    "## Line plot"
   ]
  },
  {
   "cell_type": "code",
   "metadata": {
    "ExecuteTime": {
     "end_time": "2025-03-15T10:53:27.220951Z",
     "start_time": "2025-03-15T10:53:27.187386Z"
    }
   },
   "source": [
    "# Read in the data\n",
    "\n",
    "# A list of all csv files in the uscn-folder:\n",
    "files_list_uscn = glob.glob(os.path.join(os.path.join(data_folder, 'uscn'), \"*.csv\"))\n",
    "\n",
    "def read_csv_cols(f, usecols = ['STATION', 'NAME', 'DATE', 'LATITUDE', 'LONGITUDE', 'ELEVATION',  'DLY-TAVG-NORMAL']):\n",
    "    return pd.read_csv(f, usecols=usecols)\n",
    "\n",
    "# read all the files into one dataframe\n",
    "df = pd.concat(map(read_csv_cols, files_list_uscn), ignore_index=True, axis=0)\n",
    "\n",
    "# convert datetime\n",
    "df['DATETIME'] = pd.to_datetime(df['DATE'], format='%m-%d', errors='coerce')\n",
    "\n",
    "# rearrange columns\n",
    "df = df[['STATION', 'NAME', 'LATITUDE', 'LONGITUDE', 'ELEVATION', 'DATE', 'DATETIME', 'DLY-TAVG-NORMAL']]\n",
    "\n",
    "station_codes = {'USW00014819': 'Chicago',\n",
    "                 'USC00516128': 'Honolulu',\n",
    "                 'USW00027502':'Barrow, Airport',\n",
    "                 'USC00042319': 'Death Valley, CA',\n",
    "                 'USW00093107': 'San Diego, CA',\n",
    "                 'USW00012918': 'Houston, TX'\n",
    "                }\n",
    "\n"
   ],
   "outputs": [],
   "execution_count": 43
  },
  {
   "cell_type": "code",
   "metadata": {
    "ExecuteTime": {
     "end_time": "2025-03-15T10:53:27.240646Z",
     "start_time": "2025-03-15T10:53:27.230876Z"
    }
   },
   "source": [
    "df"
   ],
   "outputs": [
    {
     "data": {
      "text/plain": [
       "          STATION                     NAME  LATITUDE  LONGITUDE  ELEVATION  \\\n",
       "0     USC00042319   DEATH VALLEY NP, CA US   36.4622  -116.8669      -59.1   \n",
       "1     USC00042319   DEATH VALLEY NP, CA US   36.4622  -116.8669      -59.1   \n",
       "2     USC00042319   DEATH VALLEY NP, CA US   36.4622  -116.8669      -59.1   \n",
       "3     USC00042319   DEATH VALLEY NP, CA US   36.4622  -116.8669      -59.1   \n",
       "4     USC00042319   DEATH VALLEY NP, CA US   36.4622  -116.8669      -59.1   \n",
       "...           ...                      ...       ...        ...        ...   \n",
       "2191  USW00012918  HOUSTON HOBBY AP, TX US   29.6381   -95.2819       13.4   \n",
       "2192  USW00012918  HOUSTON HOBBY AP, TX US   29.6381   -95.2819       13.4   \n",
       "2193  USW00012918  HOUSTON HOBBY AP, TX US   29.6381   -95.2819       13.4   \n",
       "2194  USW00012918  HOUSTON HOBBY AP, TX US   29.6381   -95.2819       13.4   \n",
       "2195  USW00012918  HOUSTON HOBBY AP, TX US   29.6381   -95.2819       13.4   \n",
       "\n",
       "       DATE   DATETIME  DLY-TAVG-NORMAL  \n",
       "0     01-01 1900-01-01             52.4  \n",
       "1     01-02 1900-01-02             52.5  \n",
       "2     01-03 1900-01-03             52.6  \n",
       "3     01-04 1900-01-04             52.7  \n",
       "4     01-05 1900-01-05             52.9  \n",
       "...     ...        ...              ...  \n",
       "2191  12-27 1900-12-27             55.2  \n",
       "2192  12-28 1900-12-28             55.1  \n",
       "2193  12-29 1900-12-29             55.1  \n",
       "2194  12-30 1900-12-30             55.0  \n",
       "2195  12-31 1900-12-31             54.9  \n",
       "\n",
       "[2196 rows x 8 columns]"
      ],
      "text/html": [
       "<div>\n",
       "<style scoped>\n",
       "    .dataframe tbody tr th:only-of-type {\n",
       "        vertical-align: middle;\n",
       "    }\n",
       "\n",
       "    .dataframe tbody tr th {\n",
       "        vertical-align: top;\n",
       "    }\n",
       "\n",
       "    .dataframe thead th {\n",
       "        text-align: right;\n",
       "    }\n",
       "</style>\n",
       "<table border=\"1\" class=\"dataframe\">\n",
       "  <thead>\n",
       "    <tr style=\"text-align: right;\">\n",
       "      <th></th>\n",
       "      <th>STATION</th>\n",
       "      <th>NAME</th>\n",
       "      <th>LATITUDE</th>\n",
       "      <th>LONGITUDE</th>\n",
       "      <th>ELEVATION</th>\n",
       "      <th>DATE</th>\n",
       "      <th>DATETIME</th>\n",
       "      <th>DLY-TAVG-NORMAL</th>\n",
       "    </tr>\n",
       "  </thead>\n",
       "  <tbody>\n",
       "    <tr>\n",
       "      <th>0</th>\n",
       "      <td>USC00042319</td>\n",
       "      <td>DEATH VALLEY NP, CA US</td>\n",
       "      <td>36.4622</td>\n",
       "      <td>-116.8669</td>\n",
       "      <td>-59.1</td>\n",
       "      <td>01-01</td>\n",
       "      <td>1900-01-01</td>\n",
       "      <td>52.4</td>\n",
       "    </tr>\n",
       "    <tr>\n",
       "      <th>1</th>\n",
       "      <td>USC00042319</td>\n",
       "      <td>DEATH VALLEY NP, CA US</td>\n",
       "      <td>36.4622</td>\n",
       "      <td>-116.8669</td>\n",
       "      <td>-59.1</td>\n",
       "      <td>01-02</td>\n",
       "      <td>1900-01-02</td>\n",
       "      <td>52.5</td>\n",
       "    </tr>\n",
       "    <tr>\n",
       "      <th>2</th>\n",
       "      <td>USC00042319</td>\n",
       "      <td>DEATH VALLEY NP, CA US</td>\n",
       "      <td>36.4622</td>\n",
       "      <td>-116.8669</td>\n",
       "      <td>-59.1</td>\n",
       "      <td>01-03</td>\n",
       "      <td>1900-01-03</td>\n",
       "      <td>52.6</td>\n",
       "    </tr>\n",
       "    <tr>\n",
       "      <th>3</th>\n",
       "      <td>USC00042319</td>\n",
       "      <td>DEATH VALLEY NP, CA US</td>\n",
       "      <td>36.4622</td>\n",
       "      <td>-116.8669</td>\n",
       "      <td>-59.1</td>\n",
       "      <td>01-04</td>\n",
       "      <td>1900-01-04</td>\n",
       "      <td>52.7</td>\n",
       "    </tr>\n",
       "    <tr>\n",
       "      <th>4</th>\n",
       "      <td>USC00042319</td>\n",
       "      <td>DEATH VALLEY NP, CA US</td>\n",
       "      <td>36.4622</td>\n",
       "      <td>-116.8669</td>\n",
       "      <td>-59.1</td>\n",
       "      <td>01-05</td>\n",
       "      <td>1900-01-05</td>\n",
       "      <td>52.9</td>\n",
       "    </tr>\n",
       "    <tr>\n",
       "      <th>...</th>\n",
       "      <td>...</td>\n",
       "      <td>...</td>\n",
       "      <td>...</td>\n",
       "      <td>...</td>\n",
       "      <td>...</td>\n",
       "      <td>...</td>\n",
       "      <td>...</td>\n",
       "      <td>...</td>\n",
       "    </tr>\n",
       "    <tr>\n",
       "      <th>2191</th>\n",
       "      <td>USW00012918</td>\n",
       "      <td>HOUSTON HOBBY AP, TX US</td>\n",
       "      <td>29.6381</td>\n",
       "      <td>-95.2819</td>\n",
       "      <td>13.4</td>\n",
       "      <td>12-27</td>\n",
       "      <td>1900-12-27</td>\n",
       "      <td>55.2</td>\n",
       "    </tr>\n",
       "    <tr>\n",
       "      <th>2192</th>\n",
       "      <td>USW00012918</td>\n",
       "      <td>HOUSTON HOBBY AP, TX US</td>\n",
       "      <td>29.6381</td>\n",
       "      <td>-95.2819</td>\n",
       "      <td>13.4</td>\n",
       "      <td>12-28</td>\n",
       "      <td>1900-12-28</td>\n",
       "      <td>55.1</td>\n",
       "    </tr>\n",
       "    <tr>\n",
       "      <th>2193</th>\n",
       "      <td>USW00012918</td>\n",
       "      <td>HOUSTON HOBBY AP, TX US</td>\n",
       "      <td>29.6381</td>\n",
       "      <td>-95.2819</td>\n",
       "      <td>13.4</td>\n",
       "      <td>12-29</td>\n",
       "      <td>1900-12-29</td>\n",
       "      <td>55.1</td>\n",
       "    </tr>\n",
       "    <tr>\n",
       "      <th>2194</th>\n",
       "      <td>USW00012918</td>\n",
       "      <td>HOUSTON HOBBY AP, TX US</td>\n",
       "      <td>29.6381</td>\n",
       "      <td>-95.2819</td>\n",
       "      <td>13.4</td>\n",
       "      <td>12-30</td>\n",
       "      <td>1900-12-30</td>\n",
       "      <td>55.0</td>\n",
       "    </tr>\n",
       "    <tr>\n",
       "      <th>2195</th>\n",
       "      <td>USW00012918</td>\n",
       "      <td>HOUSTON HOBBY AP, TX US</td>\n",
       "      <td>29.6381</td>\n",
       "      <td>-95.2819</td>\n",
       "      <td>13.4</td>\n",
       "      <td>12-31</td>\n",
       "      <td>1900-12-31</td>\n",
       "      <td>54.9</td>\n",
       "    </tr>\n",
       "  </tbody>\n",
       "</table>\n",
       "<p>2196 rows × 8 columns</p>\n",
       "</div>"
      ]
     },
     "execution_count": 44,
     "metadata": {},
     "output_type": "execute_result"
    }
   ],
   "execution_count": 44
  },
  {
   "cell_type": "code",
   "metadata": {
    "ExecuteTime": {
     "end_time": "2025-03-15T10:53:27.519743Z",
     "start_time": "2025-03-15T10:53:27.350029Z"
    }
   },
   "source": [
    "fig, ax = plt.subplots(figsize=figsize_rect)\n",
    "ax.spines[:].set_visible(False)\n",
    "\n",
    "ax.grid(linestyle='-', color='lightgrey')\n",
    "\n",
    "ax.xaxis.set_major_locator(mpl.dates.MonthLocator(bymonth=(1,4,7,10)))\n",
    "ax.xaxis.set_major_formatter(mpl.dates.DateFormatter('%b'))\n",
    "\n",
    "ax.set_xlim([datetime.date(1899, 12, 25), datetime.date(1901, 1, 5)])\n",
    "\n",
    "ax.set_xlabel('Month', fontsize=24)\n",
    "\n",
    "ax.yaxis.set_major_locator(mpl.ticker.MultipleLocator(10))\n",
    "\n",
    "# ax.set_ylim([48, 91])\n",
    "\n",
    "ax.set_ylabel('Temperature ($\\degree$F)', fontsize=24)\n",
    "\n",
    "# hide the tick markers of both axes by setting length to 0\n",
    "ax.tick_params(axis='both', which='both',length=0, labelsize=24)\n",
    "\n",
    "for i, station in enumerate(['USC00042319', 'USW00012918', 'USW00093107', 'USW00014819']):\n",
    "    ax.plot(df[df['STATION']==station]['DATETIME'],\n",
    "            df[df['STATION']==station]['DLY-TAVG-NORMAL'], color=mpl.colormaps['tab10'](i),\n",
    "            linewidth=3, label=station_codes[station])\n",
    "\n",
    "# Add the legend to the right of the plot area, aligned vertically to the middle\n",
    "ax.legend(bbox_to_anchor=(1.05, 0.5), loc='center left', frameon=False, fontsize=24)\n",
    "\n",
    "plt.show()"
   ],
   "outputs": [
    {
     "data": {
      "text/plain": [
       "<Figure size 1200x600 with 1 Axes>"
      ],
      "image/svg+xml": "<?xml version=\"1.0\" encoding=\"utf-8\" standalone=\"no\"?>\n<!DOCTYPE svg PUBLIC \"-//W3C//DTD SVG 1.1//EN\"\n  \"http://www.w3.org/Graphics/SVG/1.1/DTD/svg11.dtd\">\n<svg xmlns:xlink=\"http://www.w3.org/1999/xlink\" width=\"1092.675pt\" height=\"400.995pt\" viewBox=\"0 0 1092.675 400.995\" xmlns=\"http://www.w3.org/2000/svg\" version=\"1.1\">\n <metadata>\n  <rdf:RDF xmlns:dc=\"http://purl.org/dc/elements/1.1/\" xmlns:cc=\"http://creativecommons.org/ns#\" xmlns:rdf=\"http://www.w3.org/1999/02/22-rdf-syntax-ns#\">\n   <cc:Work>\n    <dc:type rdf:resource=\"http://purl.org/dc/dcmitype/StillImage\"/>\n    <dc:date>2025-03-15T11:53:27.462025</dc:date>\n    <dc:format>image/svg+xml</dc:format>\n    <dc:creator>\n     <cc:Agent>\n      <dc:title>Matplotlib v3.10.0, https://matplotlib.org/</dc:title>\n     </cc:Agent>\n    </dc:creator>\n   </cc:Work>\n  </rdf:RDF>\n </metadata>\n <defs>\n  <style type=\"text/css\">*{stroke-linejoin: round; stroke-linecap: butt}</style>\n </defs>\n <g id=\"figure_1\">\n  <g id=\"patch_1\">\n   <path d=\"M 0 400.995 \nL 1092.675 400.995 \nL 1092.675 0 \nL 0 0 \nz\n\" style=\"fill: #ffffff\"/>\n  </g>\n  <g id=\"axes_1\">\n   <g id=\"patch_2\">\n    <path d=\"M 83.79 339.84 \nL 753.39 339.84 \nL 753.39 7.2 \nL 83.79 7.2 \nz\n\" style=\"fill: #ffffff\"/>\n   </g>\n   <g id=\"matplotlib.axis_1\">\n    <g id=\"xtick_1\">\n     <g id=\"line2d_1\">\n      <path d=\"M 96.255957 339.84 \nL 96.255957 7.2 \n\" clip-path=\"url(#p4952ce1ec7)\" style=\"fill: none; stroke: #d3d3d3; stroke-width: 0.8; stroke-linecap: square\"/>\n     </g>\n     <g id=\"line2d_2\"/>\n     <g id=\"text_1\">\n      <!-- Jan -->\n      <g transform=\"translate(77.757207 361.57625) scale(0.24 -0.24)\">\n       <defs>\n        <path id=\"DejaVuSans-4a\" d=\"M 628 4666 \nL 1259 4666 \nL 1259 325 \nQ 1259 -519 939 -900 \nQ 619 -1281 -91 -1281 \nL -331 -1281 \nL -331 -750 \nL -134 -750 \nQ 284 -750 456 -515 \nQ 628 -281 628 325 \nL 628 4666 \nz\n\" transform=\"scale(0.015625)\"/>\n        <path id=\"DejaVuSans-61\" d=\"M 2194 1759 \nQ 1497 1759 1228 1600 \nQ 959 1441 959 1056 \nQ 959 750 1161 570 \nQ 1363 391 1709 391 \nQ 2188 391 2477 730 \nQ 2766 1069 2766 1631 \nL 2766 1759 \nL 2194 1759 \nz\nM 3341 1997 \nL 3341 0 \nL 2766 0 \nL 2766 531 \nQ 2569 213 2275 61 \nQ 1981 -91 1556 -91 \nQ 1019 -91 701 211 \nQ 384 513 384 1019 \nQ 384 1609 779 1909 \nQ 1175 2209 1959 2209 \nL 2766 2209 \nL 2766 2266 \nQ 2766 2663 2505 2880 \nQ 2244 3097 1772 3097 \nQ 1472 3097 1187 3025 \nQ 903 2953 641 2809 \nL 641 3341 \nQ 956 3463 1253 3523 \nQ 1550 3584 1831 3584 \nQ 2591 3584 2966 3190 \nQ 3341 2797 3341 1997 \nz\n\" transform=\"scale(0.015625)\"/>\n        <path id=\"DejaVuSans-6e\" d=\"M 3513 2113 \nL 3513 0 \nL 2938 0 \nL 2938 2094 \nQ 2938 2591 2744 2837 \nQ 2550 3084 2163 3084 \nQ 1697 3084 1428 2787 \nQ 1159 2491 1159 1978 \nL 1159 0 \nL 581 0 \nL 581 3500 \nL 1159 3500 \nL 1159 2956 \nQ 1366 3272 1645 3428 \nQ 1925 3584 2291 3584 \nQ 2894 3584 3203 3211 \nQ 3513 2838 3513 2113 \nz\n\" transform=\"scale(0.015625)\"/>\n       </defs>\n       <use xlink:href=\"#DejaVuSans-4a\"/>\n       <use xlink:href=\"#DejaVuSans-61\" transform=\"translate(29.492188 0)\"/>\n       <use xlink:href=\"#DejaVuSans-6e\" transform=\"translate(90.771484 0)\"/>\n      </g>\n     </g>\n    </g>\n    <g id=\"xtick_2\">\n     <g id=\"line2d_3\">\n      <path d=\"M 256.532553 339.84 \nL 256.532553 7.2 \n\" clip-path=\"url(#p4952ce1ec7)\" style=\"fill: none; stroke: #d3d3d3; stroke-width: 0.8; stroke-linecap: square\"/>\n     </g>\n     <g id=\"line2d_4\"/>\n     <g id=\"text_2\">\n      <!-- Apr -->\n      <g transform=\"translate(235.772553 361.57625) scale(0.24 -0.24)\">\n       <defs>\n        <path id=\"DejaVuSans-41\" d=\"M 2188 4044 \nL 1331 1722 \nL 3047 1722 \nL 2188 4044 \nz\nM 1831 4666 \nL 2547 4666 \nL 4325 0 \nL 3669 0 \nL 3244 1197 \nL 1141 1197 \nL 716 0 \nL 50 0 \nL 1831 4666 \nz\n\" transform=\"scale(0.015625)\"/>\n        <path id=\"DejaVuSans-70\" d=\"M 1159 525 \nL 1159 -1331 \nL 581 -1331 \nL 581 3500 \nL 1159 3500 \nL 1159 2969 \nQ 1341 3281 1617 3432 \nQ 1894 3584 2278 3584 \nQ 2916 3584 3314 3078 \nQ 3713 2572 3713 1747 \nQ 3713 922 3314 415 \nQ 2916 -91 2278 -91 \nQ 1894 -91 1617 61 \nQ 1341 213 1159 525 \nz\nM 3116 1747 \nQ 3116 2381 2855 2742 \nQ 2594 3103 2138 3103 \nQ 1681 3103 1420 2742 \nQ 1159 2381 1159 1747 \nQ 1159 1113 1420 752 \nQ 1681 391 2138 391 \nQ 2594 391 2855 752 \nQ 3116 1113 3116 1747 \nz\n\" transform=\"scale(0.015625)\"/>\n        <path id=\"DejaVuSans-72\" d=\"M 2631 2963 \nQ 2534 3019 2420 3045 \nQ 2306 3072 2169 3072 \nQ 1681 3072 1420 2755 \nQ 1159 2438 1159 1844 \nL 1159 0 \nL 581 0 \nL 581 3500 \nL 1159 3500 \nL 1159 2956 \nQ 1341 3275 1631 3429 \nQ 1922 3584 2338 3584 \nQ 2397 3584 2469 3576 \nQ 2541 3569 2628 3553 \nL 2631 2963 \nz\n\" transform=\"scale(0.015625)\"/>\n       </defs>\n       <use xlink:href=\"#DejaVuSans-41\"/>\n       <use xlink:href=\"#DejaVuSans-70\" transform=\"translate(68.408203 0)\"/>\n       <use xlink:href=\"#DejaVuSans-72\" transform=\"translate(131.884766 0)\"/>\n      </g>\n     </g>\n    </g>\n    <g id=\"xtick_3\">\n     <g id=\"line2d_5\">\n      <path d=\"M 418.59 339.84 \nL 418.59 7.2 \n\" clip-path=\"url(#p4952ce1ec7)\" style=\"fill: none; stroke: #d3d3d3; stroke-width: 0.8; stroke-linecap: square\"/>\n     </g>\n     <g id=\"line2d_6\"/>\n     <g id=\"text_3\">\n      <!-- Jul -->\n      <g transform=\"translate(404.11125 361.57625) scale(0.24 -0.24)\">\n       <defs>\n        <path id=\"DejaVuSans-75\" d=\"M 544 1381 \nL 544 3500 \nL 1119 3500 \nL 1119 1403 \nQ 1119 906 1312 657 \nQ 1506 409 1894 409 \nQ 2359 409 2629 706 \nQ 2900 1003 2900 1516 \nL 2900 3500 \nL 3475 3500 \nL 3475 0 \nL 2900 0 \nL 2900 538 \nQ 2691 219 2414 64 \nQ 2138 -91 1772 -91 \nQ 1169 -91 856 284 \nQ 544 659 544 1381 \nz\nM 1991 3584 \nL 1991 3584 \nz\n\" transform=\"scale(0.015625)\"/>\n        <path id=\"DejaVuSans-6c\" d=\"M 603 4863 \nL 1178 4863 \nL 1178 0 \nL 603 0 \nL 603 4863 \nz\n\" transform=\"scale(0.015625)\"/>\n       </defs>\n       <use xlink:href=\"#DejaVuSans-4a\"/>\n       <use xlink:href=\"#DejaVuSans-75\" transform=\"translate(29.492188 0)\"/>\n       <use xlink:href=\"#DejaVuSans-6c\" transform=\"translate(92.871094 0)\"/>\n      </g>\n     </g>\n    </g>\n    <g id=\"xtick_4\">\n     <g id=\"line2d_7\">\n      <path d=\"M 582.428298 339.84 \nL 582.428298 7.2 \n\" clip-path=\"url(#p4952ce1ec7)\" style=\"fill: none; stroke: #d3d3d3; stroke-width: 0.8; stroke-linecap: square\"/>\n     </g>\n     <g id=\"line2d_8\"/>\n     <g id=\"text_4\">\n      <!-- Oct -->\n      <g transform=\"translate(561.679548 361.57625) scale(0.24 -0.24)\">\n       <defs>\n        <path id=\"DejaVuSans-4f\" d=\"M 2522 4238 \nQ 1834 4238 1429 3725 \nQ 1025 3213 1025 2328 \nQ 1025 1447 1429 934 \nQ 1834 422 2522 422 \nQ 3209 422 3611 934 \nQ 4013 1447 4013 2328 \nQ 4013 3213 3611 3725 \nQ 3209 4238 2522 4238 \nz\nM 2522 4750 \nQ 3503 4750 4090 4092 \nQ 4678 3434 4678 2328 \nQ 4678 1225 4090 567 \nQ 3503 -91 2522 -91 \nQ 1538 -91 948 565 \nQ 359 1222 359 2328 \nQ 359 3434 948 4092 \nQ 1538 4750 2522 4750 \nz\n\" transform=\"scale(0.015625)\"/>\n        <path id=\"DejaVuSans-63\" d=\"M 3122 3366 \nL 3122 2828 \nQ 2878 2963 2633 3030 \nQ 2388 3097 2138 3097 \nQ 1578 3097 1268 2742 \nQ 959 2388 959 1747 \nQ 959 1106 1268 751 \nQ 1578 397 2138 397 \nQ 2388 397 2633 464 \nQ 2878 531 3122 666 \nL 3122 134 \nQ 2881 22 2623 -34 \nQ 2366 -91 2075 -91 \nQ 1284 -91 818 406 \nQ 353 903 353 1747 \nQ 353 2603 823 3093 \nQ 1294 3584 2113 3584 \nQ 2378 3584 2631 3529 \nQ 2884 3475 3122 3366 \nz\n\" transform=\"scale(0.015625)\"/>\n        <path id=\"DejaVuSans-74\" d=\"M 1172 4494 \nL 1172 3500 \nL 2356 3500 \nL 2356 3053 \nL 1172 3053 \nL 1172 1153 \nQ 1172 725 1289 603 \nQ 1406 481 1766 481 \nL 2356 481 \nL 2356 0 \nL 1766 0 \nQ 1100 0 847 248 \nQ 594 497 594 1153 \nL 594 3053 \nL 172 3053 \nL 172 3500 \nL 594 3500 \nL 594 4494 \nL 1172 4494 \nz\n\" transform=\"scale(0.015625)\"/>\n       </defs>\n       <use xlink:href=\"#DejaVuSans-4f\"/>\n       <use xlink:href=\"#DejaVuSans-63\" transform=\"translate(78.710938 0)\"/>\n       <use xlink:href=\"#DejaVuSans-74\" transform=\"translate(133.691406 0)\"/>\n      </g>\n     </g>\n    </g>\n    <g id=\"xtick_5\">\n     <g id=\"line2d_9\">\n      <path d=\"M 746.266596 339.84 \nL 746.266596 7.2 \n\" clip-path=\"url(#p4952ce1ec7)\" style=\"fill: none; stroke: #d3d3d3; stroke-width: 0.8; stroke-linecap: square\"/>\n     </g>\n     <g id=\"line2d_10\"/>\n     <g id=\"text_5\">\n      <!-- Jan -->\n      <g transform=\"translate(727.767846 361.57625) scale(0.24 -0.24)\">\n       <use xlink:href=\"#DejaVuSans-4a\"/>\n       <use xlink:href=\"#DejaVuSans-61\" transform=\"translate(29.492188 0)\"/>\n       <use xlink:href=\"#DejaVuSans-6e\" transform=\"translate(90.771484 0)\"/>\n      </g>\n     </g>\n    </g>\n    <g id=\"text_6\">\n     <!-- Month -->\n     <g transform=\"translate(380.979375 388.80375) scale(0.24 -0.24)\">\n      <defs>\n       <path id=\"DejaVuSans-4d\" d=\"M 628 4666 \nL 1569 4666 \nL 2759 1491 \nL 3956 4666 \nL 4897 4666 \nL 4897 0 \nL 4281 0 \nL 4281 4097 \nL 3078 897 \nL 2444 897 \nL 1241 4097 \nL 1241 0 \nL 628 0 \nL 628 4666 \nz\n\" transform=\"scale(0.015625)\"/>\n       <path id=\"DejaVuSans-6f\" d=\"M 1959 3097 \nQ 1497 3097 1228 2736 \nQ 959 2375 959 1747 \nQ 959 1119 1226 758 \nQ 1494 397 1959 397 \nQ 2419 397 2687 759 \nQ 2956 1122 2956 1747 \nQ 2956 2369 2687 2733 \nQ 2419 3097 1959 3097 \nz\nM 1959 3584 \nQ 2709 3584 3137 3096 \nQ 3566 2609 3566 1747 \nQ 3566 888 3137 398 \nQ 2709 -91 1959 -91 \nQ 1206 -91 779 398 \nQ 353 888 353 1747 \nQ 353 2609 779 3096 \nQ 1206 3584 1959 3584 \nz\n\" transform=\"scale(0.015625)\"/>\n       <path id=\"DejaVuSans-68\" d=\"M 3513 2113 \nL 3513 0 \nL 2938 0 \nL 2938 2094 \nQ 2938 2591 2744 2837 \nQ 2550 3084 2163 3084 \nQ 1697 3084 1428 2787 \nQ 1159 2491 1159 1978 \nL 1159 0 \nL 581 0 \nL 581 4863 \nL 1159 4863 \nL 1159 2956 \nQ 1366 3272 1645 3428 \nQ 1925 3584 2291 3584 \nQ 2894 3584 3203 3211 \nQ 3513 2838 3513 2113 \nz\n\" transform=\"scale(0.015625)\"/>\n      </defs>\n      <use xlink:href=\"#DejaVuSans-4d\"/>\n      <use xlink:href=\"#DejaVuSans-6f\" transform=\"translate(86.279297 0)\"/>\n      <use xlink:href=\"#DejaVuSans-6e\" transform=\"translate(147.460938 0)\"/>\n      <use xlink:href=\"#DejaVuSans-74\" transform=\"translate(210.839844 0)\"/>\n      <use xlink:href=\"#DejaVuSans-68\" transform=\"translate(250.048828 0)\"/>\n     </g>\n    </g>\n   </g>\n   <g id=\"matplotlib.axis_2\">\n    <g id=\"ytick_1\">\n     <g id=\"line2d_11\">\n      <path d=\"M 83.79 307.603019 \nL 753.39 307.603019 \n\" clip-path=\"url(#p4952ce1ec7)\" style=\"fill: none; stroke: #d3d3d3; stroke-width: 0.8; stroke-linecap: square\"/>\n     </g>\n     <g id=\"line2d_12\"/>\n     <g id=\"text_7\">\n      <!-- 30 -->\n      <g transform=\"translate(49.75 316.721144) scale(0.24 -0.24)\">\n       <defs>\n        <path id=\"DejaVuSans-33\" d=\"M 2597 2516 \nQ 3050 2419 3304 2112 \nQ 3559 1806 3559 1356 \nQ 3559 666 3084 287 \nQ 2609 -91 1734 -91 \nQ 1441 -91 1130 -33 \nQ 819 25 488 141 \nL 488 750 \nQ 750 597 1062 519 \nQ 1375 441 1716 441 \nQ 2309 441 2620 675 \nQ 2931 909 2931 1356 \nQ 2931 1769 2642 2001 \nQ 2353 2234 1838 2234 \nL 1294 2234 \nL 1294 2753 \nL 1863 2753 \nQ 2328 2753 2575 2939 \nQ 2822 3125 2822 3475 \nQ 2822 3834 2567 4026 \nQ 2313 4219 1838 4219 \nQ 1578 4219 1281 4162 \nQ 984 4106 628 3988 \nL 628 4550 \nQ 988 4650 1302 4700 \nQ 1616 4750 1894 4750 \nQ 2613 4750 3031 4423 \nQ 3450 4097 3450 3541 \nQ 3450 3153 3228 2886 \nQ 3006 2619 2597 2516 \nz\n\" transform=\"scale(0.015625)\"/>\n        <path id=\"DejaVuSans-30\" d=\"M 2034 4250 \nQ 1547 4250 1301 3770 \nQ 1056 3291 1056 2328 \nQ 1056 1369 1301 889 \nQ 1547 409 2034 409 \nQ 2525 409 2770 889 \nQ 3016 1369 3016 2328 \nQ 3016 3291 2770 3770 \nQ 2525 4250 2034 4250 \nz\nM 2034 4750 \nQ 2819 4750 3233 4129 \nQ 3647 3509 3647 2328 \nQ 3647 1150 3233 529 \nQ 2819 -91 2034 -91 \nQ 1250 -91 836 529 \nQ 422 1150 422 2328 \nQ 422 3509 836 4129 \nQ 1250 4750 2034 4750 \nz\n\" transform=\"scale(0.015625)\"/>\n       </defs>\n       <use xlink:href=\"#DejaVuSans-33\"/>\n       <use xlink:href=\"#DejaVuSans-30\" transform=\"translate(63.623047 0)\"/>\n      </g>\n     </g>\n    </g>\n    <g id=\"ytick_2\">\n     <g id=\"line2d_13\">\n      <path d=\"M 83.79 269.565283 \nL 753.39 269.565283 \n\" clip-path=\"url(#p4952ce1ec7)\" style=\"fill: none; stroke: #d3d3d3; stroke-width: 0.8; stroke-linecap: square\"/>\n     </g>\n     <g id=\"line2d_14\"/>\n     <g id=\"text_8\">\n      <!-- 40 -->\n      <g transform=\"translate(49.75 278.683408) scale(0.24 -0.24)\">\n       <defs>\n        <path id=\"DejaVuSans-34\" d=\"M 2419 4116 \nL 825 1625 \nL 2419 1625 \nL 2419 4116 \nz\nM 2253 4666 \nL 3047 4666 \nL 3047 1625 \nL 3713 1625 \nL 3713 1100 \nL 3047 1100 \nL 3047 0 \nL 2419 0 \nL 2419 1100 \nL 313 1100 \nL 313 1709 \nL 2253 4666 \nz\n\" transform=\"scale(0.015625)\"/>\n       </defs>\n       <use xlink:href=\"#DejaVuSans-34\"/>\n       <use xlink:href=\"#DejaVuSans-30\" transform=\"translate(63.623047 0)\"/>\n      </g>\n     </g>\n    </g>\n    <g id=\"ytick_3\">\n     <g id=\"line2d_15\">\n      <path d=\"M 83.79 231.527547 \nL 753.39 231.527547 \n\" clip-path=\"url(#p4952ce1ec7)\" style=\"fill: none; stroke: #d3d3d3; stroke-width: 0.8; stroke-linecap: square\"/>\n     </g>\n     <g id=\"line2d_16\"/>\n     <g id=\"text_9\">\n      <!-- 50 -->\n      <g transform=\"translate(49.75 240.645672) scale(0.24 -0.24)\">\n       <defs>\n        <path id=\"DejaVuSans-35\" d=\"M 691 4666 \nL 3169 4666 \nL 3169 4134 \nL 1269 4134 \nL 1269 2991 \nQ 1406 3038 1543 3061 \nQ 1681 3084 1819 3084 \nQ 2600 3084 3056 2656 \nQ 3513 2228 3513 1497 \nQ 3513 744 3044 326 \nQ 2575 -91 1722 -91 \nQ 1428 -91 1123 -41 \nQ 819 9 494 109 \nL 494 744 \nQ 775 591 1075 516 \nQ 1375 441 1709 441 \nQ 2250 441 2565 725 \nQ 2881 1009 2881 1497 \nQ 2881 1984 2565 2268 \nQ 2250 2553 1709 2553 \nQ 1456 2553 1204 2497 \nQ 953 2441 691 2322 \nL 691 4666 \nz\n\" transform=\"scale(0.015625)\"/>\n       </defs>\n       <use xlink:href=\"#DejaVuSans-35\"/>\n       <use xlink:href=\"#DejaVuSans-30\" transform=\"translate(63.623047 0)\"/>\n      </g>\n     </g>\n    </g>\n    <g id=\"ytick_4\">\n     <g id=\"line2d_17\">\n      <path d=\"M 83.79 193.489811 \nL 753.39 193.489811 \n\" clip-path=\"url(#p4952ce1ec7)\" style=\"fill: none; stroke: #d3d3d3; stroke-width: 0.8; stroke-linecap: square\"/>\n     </g>\n     <g id=\"line2d_18\"/>\n     <g id=\"text_10\">\n      <!-- 60 -->\n      <g transform=\"translate(49.75 202.607936) scale(0.24 -0.24)\">\n       <defs>\n        <path id=\"DejaVuSans-36\" d=\"M 2113 2584 \nQ 1688 2584 1439 2293 \nQ 1191 2003 1191 1497 \nQ 1191 994 1439 701 \nQ 1688 409 2113 409 \nQ 2538 409 2786 701 \nQ 3034 994 3034 1497 \nQ 3034 2003 2786 2293 \nQ 2538 2584 2113 2584 \nz\nM 3366 4563 \nL 3366 3988 \nQ 3128 4100 2886 4159 \nQ 2644 4219 2406 4219 \nQ 1781 4219 1451 3797 \nQ 1122 3375 1075 2522 \nQ 1259 2794 1537 2939 \nQ 1816 3084 2150 3084 \nQ 2853 3084 3261 2657 \nQ 3669 2231 3669 1497 \nQ 3669 778 3244 343 \nQ 2819 -91 2113 -91 \nQ 1303 -91 875 529 \nQ 447 1150 447 2328 \nQ 447 3434 972 4092 \nQ 1497 4750 2381 4750 \nQ 2619 4750 2861 4703 \nQ 3103 4656 3366 4563 \nz\n\" transform=\"scale(0.015625)\"/>\n       </defs>\n       <use xlink:href=\"#DejaVuSans-36\"/>\n       <use xlink:href=\"#DejaVuSans-30\" transform=\"translate(63.623047 0)\"/>\n      </g>\n     </g>\n    </g>\n    <g id=\"ytick_5\">\n     <g id=\"line2d_19\">\n      <path d=\"M 83.79 155.452075 \nL 753.39 155.452075 \n\" clip-path=\"url(#p4952ce1ec7)\" style=\"fill: none; stroke: #d3d3d3; stroke-width: 0.8; stroke-linecap: square\"/>\n     </g>\n     <g id=\"line2d_20\"/>\n     <g id=\"text_11\">\n      <!-- 70 -->\n      <g transform=\"translate(49.75 164.5702) scale(0.24 -0.24)\">\n       <defs>\n        <path id=\"DejaVuSans-37\" d=\"M 525 4666 \nL 3525 4666 \nL 3525 4397 \nL 1831 0 \nL 1172 0 \nL 2766 4134 \nL 525 4134 \nL 525 4666 \nz\n\" transform=\"scale(0.015625)\"/>\n       </defs>\n       <use xlink:href=\"#DejaVuSans-37\"/>\n       <use xlink:href=\"#DejaVuSans-30\" transform=\"translate(63.623047 0)\"/>\n      </g>\n     </g>\n    </g>\n    <g id=\"ytick_6\">\n     <g id=\"line2d_21\">\n      <path d=\"M 83.79 117.41434 \nL 753.39 117.41434 \n\" clip-path=\"url(#p4952ce1ec7)\" style=\"fill: none; stroke: #d3d3d3; stroke-width: 0.8; stroke-linecap: square\"/>\n     </g>\n     <g id=\"line2d_22\"/>\n     <g id=\"text_12\">\n      <!-- 80 -->\n      <g transform=\"translate(49.75 126.532465) scale(0.24 -0.24)\">\n       <defs>\n        <path id=\"DejaVuSans-38\" d=\"M 2034 2216 \nQ 1584 2216 1326 1975 \nQ 1069 1734 1069 1313 \nQ 1069 891 1326 650 \nQ 1584 409 2034 409 \nQ 2484 409 2743 651 \nQ 3003 894 3003 1313 \nQ 3003 1734 2745 1975 \nQ 2488 2216 2034 2216 \nz\nM 1403 2484 \nQ 997 2584 770 2862 \nQ 544 3141 544 3541 \nQ 544 4100 942 4425 \nQ 1341 4750 2034 4750 \nQ 2731 4750 3128 4425 \nQ 3525 4100 3525 3541 \nQ 3525 3141 3298 2862 \nQ 3072 2584 2669 2484 \nQ 3125 2378 3379 2068 \nQ 3634 1759 3634 1313 \nQ 3634 634 3220 271 \nQ 2806 -91 2034 -91 \nQ 1263 -91 848 271 \nQ 434 634 434 1313 \nQ 434 1759 690 2068 \nQ 947 2378 1403 2484 \nz\nM 1172 3481 \nQ 1172 3119 1398 2916 \nQ 1625 2713 2034 2713 \nQ 2441 2713 2670 2916 \nQ 2900 3119 2900 3481 \nQ 2900 3844 2670 4047 \nQ 2441 4250 2034 4250 \nQ 1625 4250 1398 4047 \nQ 1172 3844 1172 3481 \nz\n\" transform=\"scale(0.015625)\"/>\n       </defs>\n       <use xlink:href=\"#DejaVuSans-38\"/>\n       <use xlink:href=\"#DejaVuSans-30\" transform=\"translate(63.623047 0)\"/>\n      </g>\n     </g>\n    </g>\n    <g id=\"ytick_7\">\n     <g id=\"line2d_23\">\n      <path d=\"M 83.79 79.376604 \nL 753.39 79.376604 \n\" clip-path=\"url(#p4952ce1ec7)\" style=\"fill: none; stroke: #d3d3d3; stroke-width: 0.8; stroke-linecap: square\"/>\n     </g>\n     <g id=\"line2d_24\"/>\n     <g id=\"text_13\">\n      <!-- 90 -->\n      <g transform=\"translate(49.75 88.494729) scale(0.24 -0.24)\">\n       <defs>\n        <path id=\"DejaVuSans-39\" d=\"M 703 97 \nL 703 672 \nQ 941 559 1184 500 \nQ 1428 441 1663 441 \nQ 2288 441 2617 861 \nQ 2947 1281 2994 2138 \nQ 2813 1869 2534 1725 \nQ 2256 1581 1919 1581 \nQ 1219 1581 811 2004 \nQ 403 2428 403 3163 \nQ 403 3881 828 4315 \nQ 1253 4750 1959 4750 \nQ 2769 4750 3195 4129 \nQ 3622 3509 3622 2328 \nQ 3622 1225 3098 567 \nQ 2575 -91 1691 -91 \nQ 1453 -91 1209 -44 \nQ 966 3 703 97 \nz\nM 1959 2075 \nQ 2384 2075 2632 2365 \nQ 2881 2656 2881 3163 \nQ 2881 3666 2632 3958 \nQ 2384 4250 1959 4250 \nQ 1534 4250 1286 3958 \nQ 1038 3666 1038 3163 \nQ 1038 2656 1286 2365 \nQ 1534 2075 1959 2075 \nz\n\" transform=\"scale(0.015625)\"/>\n       </defs>\n       <use xlink:href=\"#DejaVuSans-39\"/>\n       <use xlink:href=\"#DejaVuSans-30\" transform=\"translate(63.623047 0)\"/>\n      </g>\n     </g>\n    </g>\n    <g id=\"ytick_8\">\n     <g id=\"line2d_25\">\n      <path d=\"M 83.79 41.338868 \nL 753.39 41.338868 \n\" clip-path=\"url(#p4952ce1ec7)\" style=\"fill: none; stroke: #d3d3d3; stroke-width: 0.8; stroke-linecap: square\"/>\n     </g>\n     <g id=\"line2d_26\"/>\n     <g id=\"text_14\">\n      <!-- 100 -->\n      <g transform=\"translate(34.48 50.456993) scale(0.24 -0.24)\">\n       <defs>\n        <path id=\"DejaVuSans-31\" d=\"M 794 531 \nL 1825 531 \nL 1825 4091 \nL 703 3866 \nL 703 4441 \nL 1819 4666 \nL 2450 4666 \nL 2450 531 \nL 3481 531 \nL 3481 0 \nL 794 0 \nL 794 531 \nz\n\" transform=\"scale(0.015625)\"/>\n       </defs>\n       <use xlink:href=\"#DejaVuSans-31\"/>\n       <use xlink:href=\"#DejaVuSans-30\" transform=\"translate(63.623047 0)\"/>\n       <use xlink:href=\"#DejaVuSans-30\" transform=\"translate(127.246094 0)\"/>\n      </g>\n     </g>\n    </g>\n    <g id=\"text_15\">\n     <!-- Temperature ($\\degree$F) -->\n     <g transform=\"translate(25.44 277.92) rotate(-90) scale(0.24 -0.24)\">\n      <defs>\n       <path id=\"DejaVuSans-54\" d=\"M -19 4666 \nL 3928 4666 \nL 3928 4134 \nL 2272 4134 \nL 2272 0 \nL 1638 0 \nL 1638 4134 \nL -19 4134 \nL -19 4666 \nz\n\" transform=\"scale(0.015625)\"/>\n       <path id=\"DejaVuSans-65\" d=\"M 3597 1894 \nL 3597 1613 \nL 953 1613 \nQ 991 1019 1311 708 \nQ 1631 397 2203 397 \nQ 2534 397 2845 478 \nQ 3156 559 3463 722 \nL 3463 178 \nQ 3153 47 2828 -22 \nQ 2503 -91 2169 -91 \nQ 1331 -91 842 396 \nQ 353 884 353 1716 \nQ 353 2575 817 3079 \nQ 1281 3584 2069 3584 \nQ 2775 3584 3186 3129 \nQ 3597 2675 3597 1894 \nz\nM 3022 2063 \nQ 3016 2534 2758 2815 \nQ 2500 3097 2075 3097 \nQ 1594 3097 1305 2825 \nQ 1016 2553 972 2059 \nL 3022 2063 \nz\n\" transform=\"scale(0.015625)\"/>\n       <path id=\"DejaVuSans-6d\" d=\"M 3328 2828 \nQ 3544 3216 3844 3400 \nQ 4144 3584 4550 3584 \nQ 5097 3584 5394 3201 \nQ 5691 2819 5691 2113 \nL 5691 0 \nL 5113 0 \nL 5113 2094 \nQ 5113 2597 4934 2840 \nQ 4756 3084 4391 3084 \nQ 3944 3084 3684 2787 \nQ 3425 2491 3425 1978 \nL 3425 0 \nL 2847 0 \nL 2847 2094 \nQ 2847 2600 2669 2842 \nQ 2491 3084 2119 3084 \nQ 1678 3084 1418 2786 \nQ 1159 2488 1159 1978 \nL 1159 0 \nL 581 0 \nL 581 3500 \nL 1159 3500 \nL 1159 2956 \nQ 1356 3278 1631 3431 \nQ 1906 3584 2284 3584 \nQ 2666 3584 2933 3390 \nQ 3200 3197 3328 2828 \nz\n\" transform=\"scale(0.015625)\"/>\n       <path id=\"DejaVuSans-20\" transform=\"scale(0.015625)\"/>\n       <path id=\"DejaVuSans-28\" d=\"M 1984 4856 \nQ 1566 4138 1362 3434 \nQ 1159 2731 1159 2009 \nQ 1159 1288 1364 580 \nQ 1569 -128 1984 -844 \nL 1484 -844 \nQ 1016 -109 783 600 \nQ 550 1309 550 2009 \nQ 550 2706 781 3412 \nQ 1013 4119 1484 4856 \nL 1984 4856 \nz\n\" transform=\"scale(0.015625)\"/>\n       <path id=\"DejaVuSans-b0\" d=\"M 1600 4347 \nQ 1350 4347 1178 4173 \nQ 1006 4000 1006 3750 \nQ 1006 3503 1178 3333 \nQ 1350 3163 1600 3163 \nQ 1850 3163 2022 3333 \nQ 2194 3503 2194 3750 \nQ 2194 3997 2020 4172 \nQ 1847 4347 1600 4347 \nz\nM 1600 4750 \nQ 1800 4750 1984 4673 \nQ 2169 4597 2303 4453 \nQ 2447 4313 2519 4134 \nQ 2591 3956 2591 3750 \nQ 2591 3338 2302 3052 \nQ 2013 2766 1594 2766 \nQ 1172 2766 890 3047 \nQ 609 3328 609 3750 \nQ 609 4169 896 4459 \nQ 1184 4750 1600 4750 \nz\n\" transform=\"scale(0.015625)\"/>\n       <path id=\"DejaVuSans-46\" d=\"M 628 4666 \nL 3309 4666 \nL 3309 4134 \nL 1259 4134 \nL 1259 2759 \nL 3109 2759 \nL 3109 2228 \nL 1259 2228 \nL 1259 0 \nL 628 0 \nL 628 4666 \nz\n\" transform=\"scale(0.015625)\"/>\n       <path id=\"DejaVuSans-29\" d=\"M 513 4856 \nL 1013 4856 \nQ 1481 4119 1714 3412 \nQ 1947 2706 1947 2009 \nQ 1947 1309 1714 600 \nQ 1481 -109 1013 -844 \nL 513 -844 \nQ 928 -128 1133 580 \nQ 1338 1288 1338 2009 \nQ 1338 2731 1133 3434 \nQ 928 4138 513 4856 \nz\n\" transform=\"scale(0.015625)\"/>\n      </defs>\n      <use xlink:href=\"#DejaVuSans-54\" transform=\"translate(0 0.125)\"/>\n      <use xlink:href=\"#DejaVuSans-65\" transform=\"translate(61.083984 0.125)\"/>\n      <use xlink:href=\"#DejaVuSans-6d\" transform=\"translate(122.607422 0.125)\"/>\n      <use xlink:href=\"#DejaVuSans-70\" transform=\"translate(220.019531 0.125)\"/>\n      <use xlink:href=\"#DejaVuSans-65\" transform=\"translate(283.496094 0.125)\"/>\n      <use xlink:href=\"#DejaVuSans-72\" transform=\"translate(345.019531 0.125)\"/>\n      <use xlink:href=\"#DejaVuSans-61\" transform=\"translate(386.132812 0.125)\"/>\n      <use xlink:href=\"#DejaVuSans-74\" transform=\"translate(447.412109 0.125)\"/>\n      <use xlink:href=\"#DejaVuSans-75\" transform=\"translate(486.621094 0.125)\"/>\n      <use xlink:href=\"#DejaVuSans-72\" transform=\"translate(550 0.125)\"/>\n      <use xlink:href=\"#DejaVuSans-65\" transform=\"translate(591.113281 0.125)\"/>\n      <use xlink:href=\"#DejaVuSans-20\" transform=\"translate(652.636719 0.125)\"/>\n      <use xlink:href=\"#DejaVuSans-28\" transform=\"translate(684.423828 0.125)\"/>\n      <use xlink:href=\"#DejaVuSans-b0\" transform=\"translate(723.4375 0.125)\"/>\n      <use xlink:href=\"#DejaVuSans-46\" transform=\"translate(773.4375 0.125)\"/>\n      <use xlink:href=\"#DejaVuSans-29\" transform=\"translate(830.957031 0.125)\"/>\n     </g>\n    </g>\n   </g>\n   <g id=\"line2d_27\">\n    <path d=\"M 96.255957 222.398491 \nL 101.598511 221.257358 \nL 103.379362 220.496604 \nL 105.160213 220.116226 \nL 106.941064 219.355472 \nL 108.721915 218.975094 \nL 112.283617 217.453585 \nL 114.064468 217.073208 \nL 121.187872 214.030189 \nL 122.968723 213.649811 \nL 147.900638 202.999245 \nL 149.681489 201.858113 \nL 156.804894 198.815094 \nL 158.585745 197.673962 \nL 162.147447 196.152453 \nL 163.928298 195.011321 \nL 165.709149 194.250566 \nL 167.49 193.109434 \nL 169.270851 192.348679 \nL 171.051702 191.207547 \nL 172.832553 190.446792 \nL 176.394255 188.164528 \nL 178.175106 187.403774 \nL 185.298511 182.839245 \nL 187.079362 182.078491 \nL 194.202766 177.513962 \nL 195.983617 175.992453 \nL 199.545319 173.710189 \nM 201.32617 172.569057 \nL 229.819787 154.310943 \nL 231.600638 153.550189 \nL 235.16234 151.267925 \nL 236.943191 150.50717 \nL 238.724043 149.366038 \nL 240.504894 148.605283 \nL 242.285745 147.464151 \nL 244.066596 146.703396 \nL 245.847447 145.562264 \nL 247.628298 144.801509 \nL 249.409149 143.660377 \nL 251.19 142.899623 \nL 252.970851 141.758491 \nL 256.532553 140.236981 \nL 258.313404 139.095849 \nL 260.094255 138.335094 \nL 261.875106 137.193962 \nL 265.436809 135.672453 \nL 267.21766 134.531321 \nL 268.998511 133.770566 \nL 272.560213 131.488302 \nL 274.341064 130.727547 \nL 276.121915 129.586415 \nL 277.902766 128.82566 \nL 299.272979 115.132075 \nL 301.05383 113.610566 \nL 304.615532 111.328302 \nL 306.396383 109.806792 \nL 308.177234 108.66566 \nL 309.958085 107.144151 \nL 311.738936 106.003019 \nL 313.519787 104.481509 \nL 315.300638 103.340377 \nL 317.081489 101.818868 \nL 318.86234 100.677736 \nL 320.643191 99.156226 \nL 322.424043 98.015094 \nL 324.204894 96.493585 \nL 325.985745 95.352453 \nL 327.766596 93.830943 \nL 329.547447 92.689811 \nL 331.328298 91.168302 \nL 333.109149 90.02717 \nL 334.89 88.50566 \nL 336.670851 87.364528 \nL 338.451702 85.843019 \nL 342.013404 83.560755 \nL 343.794255 82.039245 \nL 347.355957 79.756981 \nL 349.136809 78.235472 \nL 354.479362 74.812075 \nL 356.260213 73.290566 \nL 366.945319 66.443774 \nL 368.72617 64.922264 \nL 391.877234 50.087547 \nL 393.658085 48.566038 \nL 399.000638 45.142642 \nL 400.781489 44.381887 \nL 411.466596 37.535094 \nL 413.247447 36.77434 \nL 416.809149 34.492075 \nL 418.59 33.731321 \nL 420.370851 32.590189 \nL 425.713404 30.307925 \nL 427.494255 29.166792 \nL 429.275106 28.406038 \nL 431.055957 28.02566 \nL 436.398511 25.743396 \nL 439.960213 24.982642 \nL 441.741064 24.221887 \nL 447.083617 23.080755 \nL 448.864468 23.080755 \nL 450.645319 22.700377 \nL 452.42617 22.700377 \nL 454.207021 22.32 \nL 464.892128 22.32 \nL 466.672979 22.700377 \nL 468.45383 22.700377 \nL 472.015532 23.461132 \nL 473.796383 23.461132 \nL 479.138936 24.602264 \nL 480.919787 25.363019 \nL 484.481489 26.123774 \nL 486.26234 26.884528 \nL 489.824043 27.645283 \nL 493.385745 29.166792 \nL 495.166596 29.54717 \nL 514.755957 37.915472 \nL 516.536809 39.056604 \nL 518.31766 39.817358 \nL 520.098511 40.958491 \nL 521.879362 41.719245 \nL 523.660213 42.860377 \nL 525.441064 43.621132 \nL 537.907021 51.609057 \nL 539.687872 53.130566 \nL 541.468723 54.271698 \nL 543.249574 55.793208 \nL 545.030426 56.93434 \nL 557.496383 67.584906 \nL 559.277234 69.486792 \nL 562.838936 72.529811 \nL 566.400638 76.333585 \nL 568.181489 77.855094 \nL 594.894255 106.383396 \nL 596.675106 108.66566 \nL 623.387872 137.193962 \nL 625.168723 138.715472 \nL 635.85383 150.126792 \nL 637.634681 151.648302 \nL 648.319787 163.059623 \nL 650.100638 164.581132 \nL 664.347447 179.796226 \nL 666.128298 181.317736 \nL 673.251702 188.925283 \nL 675.032553 190.446792 \nL 678.594255 194.250566 \nL 680.375106 195.772075 \nL 682.155957 197.673962 \nL 685.71766 200.716981 \nL 687.498511 202.618868 \nL 691.060213 205.661887 \nL 692.841064 206.803019 \nL 696.402766 209.846038 \nL 698.183617 210.98717 \nL 699.964468 212.508679 \nL 705.307021 215.932075 \nL 707.087872 216.69283 \nL 708.868723 217.833962 \nL 717.772979 221.637736 \nL 726.677234 223.539623 \nL 728.458085 223.539623 \nL 730.238936 223.92 \nL 735.581489 223.92 \nL 737.36234 223.539623 \nL 739.143191 223.539623 \nL 740.924043 223.159245 \nL 742.704894 223.159245 \nL 744.485745 222.778868 \nL 744.485745 222.778868 \n\" clip-path=\"url(#p4952ce1ec7)\" style=\"fill: none; stroke: #1f77b4; stroke-width: 3; stroke-linecap: square\"/>\n   </g>\n   <g id=\"line2d_28\">\n    <path d=\"M 96.255957 213.269434 \nL 98.036809 213.649811 \nL 99.81766 213.649811 \nL 101.598511 214.030189 \nL 103.379362 214.030189 \nL 105.160213 214.410566 \nL 119.407021 214.410566 \nL 121.187872 214.030189 \nL 122.968723 214.030189 \nL 124.749574 213.649811 \nL 126.530426 213.649811 \nL 142.558085 210.226415 \nL 144.338936 209.46566 \nL 146.119787 209.085283 \nL 147.900638 208.324528 \nL 149.681489 207.944151 \nL 151.46234 207.183396 \nL 153.243191 206.803019 \nL 156.804894 205.281509 \nL 158.585745 204.901132 \nL 165.709149 201.858113 \nL 167.49 201.477736 \nL 199.545319 187.784151 \nM 201.32617 187.023396 \nL 231.600638 174.090566 \nL 233.381489 173.710189 \nL 249.409149 166.863396 \nL 251.19 166.483019 \nL 261.875106 161.918491 \nL 263.655957 161.538113 \nL 293.930426 148.605283 \nL 295.711277 147.464151 \nL 302.834681 144.421132 \nL 304.615532 143.28 \nL 306.396383 142.519245 \nL 308.177234 141.378113 \nL 311.738936 139.856604 \nL 313.519787 138.715472 \nL 315.300638 137.954717 \nL 317.081489 136.813585 \nL 318.86234 136.05283 \nL 320.643191 134.911698 \nL 322.424043 134.150943 \nL 324.204894 133.009811 \nL 325.985745 132.249057 \nL 329.547447 129.966792 \nL 331.328298 129.206038 \nL 333.109149 128.064906 \nL 334.89 127.304151 \nL 336.670851 126.163019 \nL 338.451702 125.402264 \nL 340.232553 124.261132 \nL 342.013404 123.500377 \nL 343.794255 122.359245 \nL 347.355957 120.837736 \nL 349.136809 119.696604 \nL 354.479362 117.41434 \nL 356.260213 116.273208 \nL 363.383617 113.230189 \nL 365.164468 112.849811 \nL 368.72617 111.328302 \nL 370.507021 110.947925 \nL 374.068723 109.426415 \nL 377.630426 108.66566 \nL 379.411277 107.904906 \nL 393.658085 104.861887 \nL 395.438936 104.861887 \nL 399.000638 104.101132 \nL 400.781489 104.101132 \nL 404.343191 103.340377 \nL 406.124043 103.340377 \nL 407.904894 102.96 \nL 409.685745 102.96 \nL 411.466596 102.579623 \nL 415.028298 102.579623 \nL 416.809149 102.199245 \nL 418.59 102.199245 \nL 420.370851 101.818868 \nL 422.151702 101.818868 \nL 423.932553 101.438491 \nL 427.494255 101.438491 \nL 429.275106 101.058113 \nL 431.055957 101.058113 \nL 432.836809 100.677736 \nL 434.61766 100.677736 \nL 436.398511 100.297358 \nL 438.179362 100.297358 \nL 439.960213 99.916981 \nL 441.741064 99.916981 \nL 443.521915 99.536604 \nL 445.302766 99.536604 \nL 447.083617 99.156226 \nL 448.864468 99.156226 \nL 452.42617 98.395472 \nL 454.207021 98.395472 \nL 455.987872 98.015094 \nL 457.768723 98.015094 \nL 459.549574 97.634717 \nL 461.330426 97.634717 \nL 463.111277 97.25434 \nL 464.892128 97.25434 \nL 466.672979 96.873962 \nL 470.234681 96.873962 \nL 472.015532 96.493585 \nL 477.358085 96.493585 \nL 479.138936 96.113208 \nL 489.824043 96.113208 \nL 491.604894 96.493585 \nL 495.166596 96.493585 \nL 496.947447 96.873962 \nL 498.728298 96.873962 \nL 500.509149 97.25434 \nL 502.29 97.25434 \nL 505.851702 98.015094 \nL 507.632553 98.015094 \nL 521.879362 101.058113 \nL 523.660213 101.818868 \nL 527.221915 102.579623 \nL 529.002766 103.340377 \nL 530.783617 103.720755 \nL 532.564468 104.481509 \nL 534.345319 104.861887 \nL 536.12617 105.622642 \nL 537.907021 106.003019 \nL 541.468723 107.524528 \nL 543.249574 107.904906 \nL 566.400638 117.794717 \nL 568.181489 118.935849 \nL 571.743191 120.457358 \nL 573.524043 121.598491 \nL 575.304894 122.359245 \nL 577.085745 123.500377 \nL 578.866596 124.261132 \nL 580.647447 125.402264 \nL 582.428298 126.163019 \nL 587.770851 129.586415 \nL 589.551702 130.34717 \nL 598.455957 136.05283 \nL 600.236809 137.57434 \nL 605.579362 140.997736 \nL 607.360213 142.519245 \nL 610.921915 144.801509 \nL 612.702766 146.323019 \nL 616.264468 148.605283 \nL 618.045319 150.126792 \nL 619.82617 151.267925 \nL 621.607021 152.789434 \nL 623.387872 153.930566 \nL 625.168723 155.452075 \nL 626.949574 156.593208 \nL 628.730426 158.114717 \nL 630.511277 159.255849 \nL 632.292128 160.777358 \nL 635.85383 163.059623 \nL 637.634681 164.581132 \nL 639.415532 165.722264 \nL 641.196383 167.243774 \nL 646.538936 170.66717 \nL 648.319787 172.188679 \nL 660.785745 180.176604 \nL 662.566596 180.937358 \nL 667.909149 184.360755 \nL 669.69 185.121509 \nL 671.470851 186.262642 \nL 673.251702 187.023396 \nL 675.032553 188.164528 \nL 678.594255 189.686038 \nL 680.375106 190.82717 \nL 683.936809 192.348679 \nL 685.71766 193.489811 \nL 703.52617 201.097358 \nL 705.307021 201.477736 \nL 710.649574 203.76 \nL 712.430426 204.140377 \nL 714.211277 204.901132 \nL 715.992128 205.281509 \nL 719.55383 206.803019 \nL 721.334681 207.183396 \nL 723.115532 207.944151 \nL 726.677234 208.704906 \nL 728.458085 209.46566 \nL 735.581489 210.98717 \nL 737.36234 211.747925 \nL 739.143191 212.128302 \nL 740.924043 212.128302 \nL 744.485745 212.889057 \nL 744.485745 212.889057 \n\" clip-path=\"url(#p4952ce1ec7)\" style=\"fill: none; stroke: #ff7f0e; stroke-width: 3; stroke-linecap: square\"/>\n   </g>\n   <g id=\"line2d_29\">\n    <path d=\"M 96.255957 207.563774 \nL 99.81766 206.803019 \nL 101.598511 206.803019 \nL 106.941064 205.661887 \nL 108.721915 205.661887 \nL 114.064468 204.520755 \nL 115.845319 204.520755 \nL 117.62617 204.140377 \nL 119.407021 204.140377 \nL 121.187872 203.76 \nL 122.968723 203.76 \nL 124.749574 203.379623 \nL 126.530426 203.379623 \nL 128.311277 202.999245 \nL 131.872979 202.999245 \nL 133.65383 202.618868 \nL 185.298511 202.618868 \nL 187.079362 202.238491 \nL 192.421915 202.238491 \nL 194.202766 201.858113 \nL 197.764468 201.858113 \nL 199.545319 201.477736 \nM 201.32617 201.477736 \nL 203.107021 201.477736 \nL 204.887872 201.097358 \nL 206.668723 201.097358 \nL 208.449574 200.716981 \nL 210.230426 200.716981 \nL 212.011277 200.336604 \nL 213.792128 200.336604 \nL 215.572979 199.956226 \nL 217.35383 199.956226 \nL 219.134681 199.575849 \nL 220.915532 199.575849 \nL 222.696383 199.195472 \nL 224.477234 199.195472 \nL 228.038936 198.434717 \nL 229.819787 198.434717 \nL 231.600638 198.05434 \nL 233.381489 198.05434 \nL 236.943191 197.293585 \nL 238.724043 197.293585 \nL 242.285745 196.53283 \nL 244.066596 196.53283 \nL 247.628298 195.772075 \nL 249.409149 195.772075 \nL 258.313404 193.870189 \nL 260.094255 193.870189 \nL 279.683617 189.686038 \nL 281.464468 188.925283 \nL 292.149574 186.643019 \nL 293.930426 185.882264 \nL 308.177234 182.839245 \nL 309.958085 182.078491 \nL 317.081489 180.556981 \nL 318.86234 180.556981 \nL 329.547447 178.274717 \nL 331.328298 178.274717 \nL 336.670851 177.133585 \nL 338.451702 177.133585 \nL 343.794255 175.992453 \nL 345.575106 175.992453 \nL 352.698511 174.470943 \nL 354.479362 174.470943 \nL 372.287872 170.66717 \nL 374.068723 169.906415 \nL 377.630426 169.14566 \nL 379.411277 168.384906 \nL 382.972979 167.624151 \nL 384.75383 166.863396 \nL 386.534681 166.483019 \nL 390.096383 164.961509 \nL 391.877234 164.581132 \nL 395.438936 163.059623 \nL 397.219787 162.679245 \nL 402.56234 160.396981 \nL 404.343191 160.016604 \nL 409.685745 157.73434 \nL 411.466596 157.353962 \nL 416.809149 155.071698 \nL 418.59 154.691321 \nL 420.370851 153.930566 \nL 422.151702 153.550189 \nL 425.713404 152.028679 \nL 429.275106 151.267925 \nL 431.055957 150.50717 \nL 432.836809 150.126792 \nL 434.61766 149.366038 \nL 454.207021 145.181887 \nL 455.987872 145.181887 \nL 459.549574 144.421132 \nL 461.330426 144.421132 \nL 464.892128 143.660377 \nL 466.672979 143.660377 \nL 468.45383 143.28 \nL 470.234681 143.28 \nL 472.015532 142.899623 \nL 473.796383 142.899623 \nL 475.577234 142.519245 \nL 479.138936 142.519245 \nL 480.919787 142.138868 \nL 482.700638 142.138868 \nL 484.481489 141.758491 \nL 486.26234 141.758491 \nL 488.043191 141.378113 \nL 491.604894 141.378113 \nL 493.385745 140.997736 \nL 496.947447 140.997736 \nL 498.728298 140.617358 \nL 504.070851 140.617358 \nL 505.851702 140.236981 \nL 525.441064 140.236981 \nL 527.221915 140.617358 \nL 529.002766 140.617358 \nL 530.783617 140.997736 \nL 532.564468 140.997736 \nL 534.345319 141.378113 \nL 536.12617 141.378113 \nL 550.372979 144.421132 \nL 552.15383 145.181887 \nL 555.715532 145.942642 \nL 557.496383 146.703396 \nL 559.277234 147.083774 \nL 561.058085 147.844528 \nL 562.838936 148.224906 \nL 566.400638 149.746415 \nL 568.181489 150.126792 \nL 571.743191 151.648302 \nL 573.524043 152.028679 \nL 578.866596 154.310943 \nL 580.647447 154.691321 \nL 584.209149 156.21283 \nL 585.99 156.593208 \nL 591.332553 158.875472 \nL 593.113404 159.255849 \nL 596.675106 160.777358 \nL 598.455957 161.157736 \nL 600.236809 161.918491 \nL 602.01766 162.298868 \nL 603.798511 163.059623 \nL 605.579362 163.44 \nL 609.141064 164.961509 \nL 610.921915 165.341887 \nL 612.702766 166.102642 \nL 614.483617 166.483019 \nL 616.264468 167.243774 \nL 618.045319 167.624151 \nL 619.82617 168.384906 \nL 621.607021 168.765283 \nL 625.168723 170.286792 \nL 626.949574 170.66717 \nL 630.511277 172.188679 \nL 632.292128 172.569057 \nL 650.100638 180.176604 \nL 651.881489 181.317736 \nL 655.443191 182.839245 \nL 657.224043 183.980377 \nL 659.004894 184.741132 \nL 660.785745 185.882264 \nL 662.566596 186.643019 \nL 664.347447 187.784151 \nL 666.128298 188.544906 \nL 667.909149 189.686038 \nL 669.69 190.446792 \nL 671.470851 191.587925 \nL 673.251702 192.348679 \nL 675.032553 193.489811 \nL 676.813404 194.250566 \nL 678.594255 195.391698 \nL 680.375106 196.152453 \nL 682.155957 197.293585 \nL 685.71766 198.815094 \nL 687.498511 199.956226 \nL 698.183617 204.520755 \nL 699.964468 204.901132 \nL 701.745319 205.661887 \nL 703.52617 206.042264 \nL 705.307021 206.803019 \nL 714.211277 208.704906 \nL 715.992128 208.704906 \nL 717.772979 209.085283 \nL 721.334681 209.085283 \nL 723.115532 209.46566 \nL 728.458085 209.46566 \nL 730.238936 209.085283 \nL 733.800638 209.085283 \nL 735.581489 208.704906 \nL 737.36234 208.704906 \nL 739.143191 208.324528 \nL 740.924043 208.324528 \nL 742.704894 207.944151 \nL 744.485745 207.944151 \nL 744.485745 207.944151 \n\" clip-path=\"url(#p4952ce1ec7)\" style=\"fill: none; stroke: #2ca02c; stroke-width: 3; stroke-linecap: square\"/>\n   </g>\n   <g id=\"line2d_30\">\n    <path d=\"M 96.255957 317.49283 \nL 98.036809 318.253585 \nL 99.81766 318.633962 \nL 103.379362 320.155472 \nL 106.941064 320.916226 \nL 108.721915 321.676981 \nL 119.407021 323.959245 \nL 121.187872 323.959245 \nL 122.968723 324.339623 \nL 124.749574 324.339623 \nL 126.530426 324.72 \nL 133.65383 324.72 \nL 135.434681 324.339623 \nL 137.215532 324.339623 \nL 138.996383 323.959245 \nL 140.777234 323.959245 \nL 149.681489 322.057358 \nL 151.46234 321.296604 \nL 153.243191 320.916226 \nL 163.928298 316.351698 \nL 165.709149 315.210566 \nL 167.49 314.449811 \nL 169.270851 313.308679 \nL 171.051702 312.547925 \nL 183.51766 304.56 \nL 185.298511 303.038491 \nL 188.860213 300.756226 \nL 190.641064 299.234717 \nL 192.421915 298.093585 \nL 194.202766 296.572075 \nL 195.983617 295.430943 \nL 197.764468 293.909434 \nL 199.545319 292.768302 \nM 201.32617 291.246792 \nL 203.107021 290.10566 \nL 206.668723 287.062642 \nL 208.449574 285.921509 \nL 210.230426 284.4 \nL 212.011277 283.258868 \nL 215.572979 280.215849 \nL 217.35383 279.074717 \nL 219.134681 277.553208 \nL 220.915532 276.412075 \nL 224.477234 273.369057 \nL 226.258085 272.227925 \nL 228.038936 270.706415 \nL 229.819787 269.565283 \nL 231.600638 268.043774 \nL 233.381489 266.902642 \nL 235.16234 265.381132 \nL 236.943191 264.24 \nL 238.724043 262.718491 \nL 240.504894 261.577358 \nL 242.285745 260.055849 \nL 244.066596 258.914717 \nL 247.628298 255.871698 \nL 249.409149 254.730566 \nL 251.19 253.209057 \nL 252.970851 252.067925 \nL 254.751702 250.546415 \nL 256.532553 249.405283 \nL 260.094255 246.362264 \nL 261.875106 245.221132 \nL 263.655957 243.699623 \nL 265.436809 242.558491 \nL 268.998511 239.515472 \nL 270.779362 238.37434 \nL 274.341064 235.331321 \nL 276.121915 234.190189 \nL 281.464468 229.62566 \nL 283.245319 228.484528 \nL 286.807021 225.441509 \nL 288.587872 224.300377 \nL 293.930426 219.735849 \nL 295.711277 218.594717 \nL 299.272979 215.551698 \nL 301.05383 214.410566 \nL 304.615532 211.367547 \nL 306.396383 210.226415 \nL 308.177234 208.704906 \nL 309.958085 207.563774 \nL 311.738936 206.042264 \nL 313.519787 204.901132 \nL 317.081489 201.858113 \nL 318.86234 200.716981 \nL 320.643191 199.195472 \nL 322.424043 198.05434 \nL 324.204894 196.53283 \nL 327.766596 194.250566 \nL 329.547447 192.729057 \nL 331.328298 191.587925 \nL 333.109149 190.066415 \nL 334.89 188.925283 \nL 336.670851 187.403774 \nL 340.232553 185.121509 \nL 342.013404 183.6 \nL 343.794255 182.458868 \nL 345.575106 180.937358 \nL 347.355957 179.796226 \nL 349.136809 178.274717 \nL 352.698511 175.992453 \nL 354.479362 174.470943 \nL 356.260213 173.329811 \nL 358.041064 171.808302 \nL 359.821915 170.66717 \nL 361.602766 169.14566 \nL 363.383617 168.004528 \nL 365.164468 166.483019 \nL 368.72617 164.200755 \nL 370.507021 162.679245 \nL 372.287872 161.538113 \nL 374.068723 160.016604 \nL 377.630426 157.73434 \nL 379.411277 156.21283 \nL 384.75383 152.789434 \nL 386.534681 151.267925 \nL 395.438936 145.562264 \nL 397.219787 144.801509 \nL 400.781489 142.519245 \nL 402.56234 141.758491 \nL 404.343191 140.617358 \nL 407.904894 139.095849 \nL 409.685745 137.954717 \nL 413.247447 136.433208 \nL 415.028298 136.05283 \nL 418.59 134.531321 \nL 420.370851 134.150943 \nL 422.151702 133.390189 \nL 434.61766 130.727547 \nL 436.398511 130.727547 \nL 438.179362 130.34717 \nL 441.741064 130.34717 \nL 443.521915 129.966792 \nL 448.864468 129.966792 \nL 450.645319 130.34717 \nL 455.987872 130.34717 \nL 457.768723 130.727547 \nL 461.330426 130.727547 \nL 464.892128 131.488302 \nL 466.672979 131.488302 \nL 468.45383 131.868679 \nL 470.234681 131.868679 \nL 473.796383 132.629434 \nL 475.577234 132.629434 \nL 480.919787 133.770566 \nL 482.700638 133.770566 \nL 507.632553 139.095849 \nL 509.413404 139.856604 \nL 511.194255 140.236981 \nL 512.975106 140.997736 \nL 514.755957 141.378113 \nL 516.536809 142.138868 \nL 518.31766 142.519245 \nL 529.002766 147.083774 \nL 530.783617 148.224906 \nL 532.564468 148.98566 \nL 534.345319 150.126792 \nL 536.12617 150.887547 \nL 548.592128 158.875472 \nL 550.372979 160.396981 \nL 552.15383 161.538113 \nL 553.934681 163.059623 \nL 555.715532 164.200755 \nL 573.524043 179.415849 \nL 575.304894 181.317736 \nL 578.866596 184.360755 \nL 580.647447 186.262642 \nL 584.209149 189.30566 \nL 585.99 191.207547 \nL 587.770851 192.729057 \nL 589.551702 194.630943 \nL 593.113404 197.673962 \nL 594.894255 199.575849 \nL 596.675106 201.097358 \nL 598.455957 202.999245 \nL 602.01766 206.042264 \nL 603.798511 207.944151 \nL 605.579362 209.46566 \nL 607.360213 211.367547 \nL 612.702766 215.932075 \nL 614.483617 217.833962 \nL 618.045319 220.876981 \nL 619.82617 222.778868 \nL 625.168723 227.343396 \nL 626.949574 229.245283 \nL 632.292128 233.809811 \nL 634.072979 235.711698 \nL 639.415532 240.276226 \nL 641.196383 242.178113 \nL 648.319787 248.264151 \nL 650.100638 250.166038 \nL 655.443191 254.730566 \nL 657.224043 256.632453 \nL 667.909149 265.761509 \nL 669.69 267.663396 \nL 680.375106 276.792453 \nL 682.155957 277.933585 \nL 689.279362 284.019623 \nL 691.060213 285.160755 \nL 692.841064 286.682264 \nL 694.621915 287.823396 \nL 696.402766 289.344906 \nL 698.183617 290.486038 \nL 699.964468 292.007547 \nL 703.52617 294.289811 \nL 705.307021 295.811321 \nL 715.992128 302.658113 \nL 717.772979 303.418868 \nL 721.334681 305.701132 \nL 723.115532 306.461887 \nL 726.677234 308.744151 \nL 730.238936 310.26566 \nL 732.019787 311.406792 \nL 744.485745 316.732075 \nL 744.485745 316.732075 \n\" clip-path=\"url(#p4952ce1ec7)\" style=\"fill: none; stroke: #d62728; stroke-width: 3; stroke-linecap: square\"/>\n   </g>\n   <g id=\"legend_1\">\n    <g id=\"line2d_31\">\n     <path d=\"M 808.47 118.90125 \nL 832.47 118.90125 \nL 856.47 118.90125 \n\" style=\"fill: none; stroke: #1f77b4; stroke-width: 3; stroke-linecap: square\"/>\n    </g>\n    <g id=\"text_16\">\n     <!-- Death Valley, CA -->\n     <g transform=\"translate(875.67 127.30125) scale(0.24 -0.24)\">\n      <defs>\n       <path id=\"DejaVuSans-44\" d=\"M 1259 4147 \nL 1259 519 \nL 2022 519 \nQ 2988 519 3436 956 \nQ 3884 1394 3884 2338 \nQ 3884 3275 3436 3711 \nQ 2988 4147 2022 4147 \nL 1259 4147 \nz\nM 628 4666 \nL 1925 4666 \nQ 3281 4666 3915 4102 \nQ 4550 3538 4550 2338 \nQ 4550 1131 3912 565 \nQ 3275 0 1925 0 \nL 628 0 \nL 628 4666 \nz\n\" transform=\"scale(0.015625)\"/>\n       <path id=\"DejaVuSans-56\" d=\"M 1831 0 \nL 50 4666 \nL 709 4666 \nL 2188 738 \nL 3669 4666 \nL 4325 4666 \nL 2547 0 \nL 1831 0 \nz\n\" transform=\"scale(0.015625)\"/>\n       <path id=\"DejaVuSans-79\" d=\"M 2059 -325 \nQ 1816 -950 1584 -1140 \nQ 1353 -1331 966 -1331 \nL 506 -1331 \nL 506 -850 \nL 844 -850 \nQ 1081 -850 1212 -737 \nQ 1344 -625 1503 -206 \nL 1606 56 \nL 191 3500 \nL 800 3500 \nL 1894 763 \nL 2988 3500 \nL 3597 3500 \nL 2059 -325 \nz\n\" transform=\"scale(0.015625)\"/>\n       <path id=\"DejaVuSans-2c\" d=\"M 750 794 \nL 1409 794 \nL 1409 256 \nL 897 -744 \nL 494 -744 \nL 750 256 \nL 750 794 \nz\n\" transform=\"scale(0.015625)\"/>\n       <path id=\"DejaVuSans-43\" d=\"M 4122 4306 \nL 4122 3641 \nQ 3803 3938 3442 4084 \nQ 3081 4231 2675 4231 \nQ 1875 4231 1450 3742 \nQ 1025 3253 1025 2328 \nQ 1025 1406 1450 917 \nQ 1875 428 2675 428 \nQ 3081 428 3442 575 \nQ 3803 722 4122 1019 \nL 4122 359 \nQ 3791 134 3420 21 \nQ 3050 -91 2638 -91 \nQ 1578 -91 968 557 \nQ 359 1206 359 2328 \nQ 359 3453 968 4101 \nQ 1578 4750 2638 4750 \nQ 3056 4750 3426 4639 \nQ 3797 4528 4122 4306 \nz\n\" transform=\"scale(0.015625)\"/>\n      </defs>\n      <use xlink:href=\"#DejaVuSans-44\"/>\n      <use xlink:href=\"#DejaVuSans-65\" transform=\"translate(77.001953 0)\"/>\n      <use xlink:href=\"#DejaVuSans-61\" transform=\"translate(138.525391 0)\"/>\n      <use xlink:href=\"#DejaVuSans-74\" transform=\"translate(199.804688 0)\"/>\n      <use xlink:href=\"#DejaVuSans-68\" transform=\"translate(239.013672 0)\"/>\n      <use xlink:href=\"#DejaVuSans-20\" transform=\"translate(302.392578 0)\"/>\n      <use xlink:href=\"#DejaVuSans-56\" transform=\"translate(334.179688 0)\"/>\n      <use xlink:href=\"#DejaVuSans-61\" transform=\"translate(394.837891 0)\"/>\n      <use xlink:href=\"#DejaVuSans-6c\" transform=\"translate(456.117188 0)\"/>\n      <use xlink:href=\"#DejaVuSans-6c\" transform=\"translate(483.900391 0)\"/>\n      <use xlink:href=\"#DejaVuSans-65\" transform=\"translate(511.683594 0)\"/>\n      <use xlink:href=\"#DejaVuSans-79\" transform=\"translate(573.207031 0)\"/>\n      <use xlink:href=\"#DejaVuSans-2c\" transform=\"translate(632.386719 0)\"/>\n      <use xlink:href=\"#DejaVuSans-20\" transform=\"translate(664.173828 0)\"/>\n      <use xlink:href=\"#DejaVuSans-43\" transform=\"translate(695.960938 0)\"/>\n      <use xlink:href=\"#DejaVuSans-41\" transform=\"translate(765.785156 0)\"/>\n     </g>\n    </g>\n    <g id=\"line2d_32\">\n     <path d=\"M 808.47 154.12875 \nL 832.47 154.12875 \nL 856.47 154.12875 \n\" style=\"fill: none; stroke: #ff7f0e; stroke-width: 3; stroke-linecap: square\"/>\n    </g>\n    <g id=\"text_17\">\n     <!-- Houston, TX -->\n     <g transform=\"translate(875.67 162.52875) scale(0.24 -0.24)\">\n      <defs>\n       <path id=\"DejaVuSans-48\" d=\"M 628 4666 \nL 1259 4666 \nL 1259 2753 \nL 3553 2753 \nL 3553 4666 \nL 4184 4666 \nL 4184 0 \nL 3553 0 \nL 3553 2222 \nL 1259 2222 \nL 1259 0 \nL 628 0 \nL 628 4666 \nz\n\" transform=\"scale(0.015625)\"/>\n       <path id=\"DejaVuSans-73\" d=\"M 2834 3397 \nL 2834 2853 \nQ 2591 2978 2328 3040 \nQ 2066 3103 1784 3103 \nQ 1356 3103 1142 2972 \nQ 928 2841 928 2578 \nQ 928 2378 1081 2264 \nQ 1234 2150 1697 2047 \nL 1894 2003 \nQ 2506 1872 2764 1633 \nQ 3022 1394 3022 966 \nQ 3022 478 2636 193 \nQ 2250 -91 1575 -91 \nQ 1294 -91 989 -36 \nQ 684 19 347 128 \nL 347 722 \nQ 666 556 975 473 \nQ 1284 391 1588 391 \nQ 1994 391 2212 530 \nQ 2431 669 2431 922 \nQ 2431 1156 2273 1281 \nQ 2116 1406 1581 1522 \nL 1381 1569 \nQ 847 1681 609 1914 \nQ 372 2147 372 2553 \nQ 372 3047 722 3315 \nQ 1072 3584 1716 3584 \nQ 2034 3584 2315 3537 \nQ 2597 3491 2834 3397 \nz\n\" transform=\"scale(0.015625)\"/>\n       <path id=\"DejaVuSans-58\" d=\"M 403 4666 \nL 1081 4666 \nL 2241 2931 \nL 3406 4666 \nL 4084 4666 \nL 2584 2425 \nL 4184 0 \nL 3506 0 \nL 2194 1984 \nL 872 0 \nL 191 0 \nL 1856 2491 \nL 403 4666 \nz\n\" transform=\"scale(0.015625)\"/>\n      </defs>\n      <use xlink:href=\"#DejaVuSans-48\"/>\n      <use xlink:href=\"#DejaVuSans-6f\" transform=\"translate(75.195312 0)\"/>\n      <use xlink:href=\"#DejaVuSans-75\" transform=\"translate(136.376953 0)\"/>\n      <use xlink:href=\"#DejaVuSans-73\" transform=\"translate(199.755859 0)\"/>\n      <use xlink:href=\"#DejaVuSans-74\" transform=\"translate(251.855469 0)\"/>\n      <use xlink:href=\"#DejaVuSans-6f\" transform=\"translate(291.064453 0)\"/>\n      <use xlink:href=\"#DejaVuSans-6e\" transform=\"translate(352.246094 0)\"/>\n      <use xlink:href=\"#DejaVuSans-2c\" transform=\"translate(415.625 0)\"/>\n      <use xlink:href=\"#DejaVuSans-20\" transform=\"translate(447.412109 0)\"/>\n      <use xlink:href=\"#DejaVuSans-54\" transform=\"translate(479.199219 0)\"/>\n      <use xlink:href=\"#DejaVuSans-58\" transform=\"translate(540.283203 0)\"/>\n     </g>\n    </g>\n    <g id=\"line2d_33\">\n     <path d=\"M 808.47 189.35625 \nL 832.47 189.35625 \nL 856.47 189.35625 \n\" style=\"fill: none; stroke: #2ca02c; stroke-width: 3; stroke-linecap: square\"/>\n    </g>\n    <g id=\"text_18\">\n     <!-- San Diego, CA -->\n     <g transform=\"translate(875.67 197.75625) scale(0.24 -0.24)\">\n      <defs>\n       <path id=\"DejaVuSans-53\" d=\"M 3425 4513 \nL 3425 3897 \nQ 3066 4069 2747 4153 \nQ 2428 4238 2131 4238 \nQ 1616 4238 1336 4038 \nQ 1056 3838 1056 3469 \nQ 1056 3159 1242 3001 \nQ 1428 2844 1947 2747 \nL 2328 2669 \nQ 3034 2534 3370 2195 \nQ 3706 1856 3706 1288 \nQ 3706 609 3251 259 \nQ 2797 -91 1919 -91 \nQ 1588 -91 1214 -16 \nQ 841 59 441 206 \nL 441 856 \nQ 825 641 1194 531 \nQ 1563 422 1919 422 \nQ 2459 422 2753 634 \nQ 3047 847 3047 1241 \nQ 3047 1584 2836 1778 \nQ 2625 1972 2144 2069 \nL 1759 2144 \nQ 1053 2284 737 2584 \nQ 422 2884 422 3419 \nQ 422 4038 858 4394 \nQ 1294 4750 2059 4750 \nQ 2388 4750 2728 4690 \nQ 3069 4631 3425 4513 \nz\n\" transform=\"scale(0.015625)\"/>\n       <path id=\"DejaVuSans-69\" d=\"M 603 3500 \nL 1178 3500 \nL 1178 0 \nL 603 0 \nL 603 3500 \nz\nM 603 4863 \nL 1178 4863 \nL 1178 4134 \nL 603 4134 \nL 603 4863 \nz\n\" transform=\"scale(0.015625)\"/>\n       <path id=\"DejaVuSans-67\" d=\"M 2906 1791 \nQ 2906 2416 2648 2759 \nQ 2391 3103 1925 3103 \nQ 1463 3103 1205 2759 \nQ 947 2416 947 1791 \nQ 947 1169 1205 825 \nQ 1463 481 1925 481 \nQ 2391 481 2648 825 \nQ 2906 1169 2906 1791 \nz\nM 3481 434 \nQ 3481 -459 3084 -895 \nQ 2688 -1331 1869 -1331 \nQ 1566 -1331 1297 -1286 \nQ 1028 -1241 775 -1147 \nL 775 -588 \nQ 1028 -725 1275 -790 \nQ 1522 -856 1778 -856 \nQ 2344 -856 2625 -561 \nQ 2906 -266 2906 331 \nL 2906 616 \nQ 2728 306 2450 153 \nQ 2172 0 1784 0 \nQ 1141 0 747 490 \nQ 353 981 353 1791 \nQ 353 2603 747 3093 \nQ 1141 3584 1784 3584 \nQ 2172 3584 2450 3431 \nQ 2728 3278 2906 2969 \nL 2906 3500 \nL 3481 3500 \nL 3481 434 \nz\n\" transform=\"scale(0.015625)\"/>\n      </defs>\n      <use xlink:href=\"#DejaVuSans-53\"/>\n      <use xlink:href=\"#DejaVuSans-61\" transform=\"translate(63.476562 0)\"/>\n      <use xlink:href=\"#DejaVuSans-6e\" transform=\"translate(124.755859 0)\"/>\n      <use xlink:href=\"#DejaVuSans-20\" transform=\"translate(188.134766 0)\"/>\n      <use xlink:href=\"#DejaVuSans-44\" transform=\"translate(219.921875 0)\"/>\n      <use xlink:href=\"#DejaVuSans-69\" transform=\"translate(296.923828 0)\"/>\n      <use xlink:href=\"#DejaVuSans-65\" transform=\"translate(324.707031 0)\"/>\n      <use xlink:href=\"#DejaVuSans-67\" transform=\"translate(386.230469 0)\"/>\n      <use xlink:href=\"#DejaVuSans-6f\" transform=\"translate(449.707031 0)\"/>\n      <use xlink:href=\"#DejaVuSans-2c\" transform=\"translate(510.888672 0)\"/>\n      <use xlink:href=\"#DejaVuSans-20\" transform=\"translate(542.675781 0)\"/>\n      <use xlink:href=\"#DejaVuSans-43\" transform=\"translate(574.462891 0)\"/>\n      <use xlink:href=\"#DejaVuSans-41\" transform=\"translate(644.287109 0)\"/>\n     </g>\n    </g>\n    <g id=\"line2d_34\">\n     <path d=\"M 808.47 224.58375 \nL 832.47 224.58375 \nL 856.47 224.58375 \n\" style=\"fill: none; stroke: #d62728; stroke-width: 3; stroke-linecap: square\"/>\n    </g>\n    <g id=\"text_19\">\n     <!-- Chicago -->\n     <g transform=\"translate(875.67 232.98375) scale(0.24 -0.24)\">\n      <use xlink:href=\"#DejaVuSans-43\"/>\n      <use xlink:href=\"#DejaVuSans-68\" transform=\"translate(69.824219 0)\"/>\n      <use xlink:href=\"#DejaVuSans-69\" transform=\"translate(133.203125 0)\"/>\n      <use xlink:href=\"#DejaVuSans-63\" transform=\"translate(160.986328 0)\"/>\n      <use xlink:href=\"#DejaVuSans-61\" transform=\"translate(215.966797 0)\"/>\n      <use xlink:href=\"#DejaVuSans-67\" transform=\"translate(277.246094 0)\"/>\n      <use xlink:href=\"#DejaVuSans-6f\" transform=\"translate(340.722656 0)\"/>\n     </g>\n    </g>\n   </g>\n  </g>\n </g>\n <defs>\n  <clipPath id=\"p4952ce1ec7\">\n   <rect x=\"83.79\" y=\"7.2\" width=\"669.6\" height=\"332.64\"/>\n  </clipPath>\n </defs>\n</svg>\n"
     },
     "metadata": {},
     "output_type": "display_data"
    }
   ],
   "execution_count": 45
  },
  {
   "cell_type": "code",
   "metadata": {
    "ExecuteTime": {
     "end_time": "2025-03-15T10:53:27.554257Z",
     "start_time": "2025-03-15T10:53:27.547831Z"
    }
   },
   "source": [
    "def heatmap(data, row_labels, col_labels, ax=None, **kwargs):\n",
    "    \"\"\"\n",
    "    Create a heatmap from a numpy array and two lists of labels.\n",
    "\n",
    "    Parameters\n",
    "    -\n",
    "    data\n",
    "        A 2D numpy array of shape (M, N).\n",
    "    row_labels\n",
    "        A list or array of length M with the labels for the rows.\n",
    "    col_labels\n",
    "        A list or array of length N with the labels for the columns.\n",
    "    ax\n",
    "        A `matplotlib.axes.Axes` instance to which the heatmap is plotted.  If\n",
    "        not provided, use current axes or create a new one.  Optional.\n",
    "    **kwargs\n",
    "        All other arguments are forwarded to `imshow`.\n",
    "    \"\"\"\n",
    "\n",
    "\n",
    "    # Plot the heatmap\n",
    "    im = ax.imshow(data, aspect='equal',  **kwargs)\n",
    "\n",
    "    # Show all ticks and label them with the respective list entries.\n",
    "    ax.set_xticks(np.arange(data.shape[1]), labels=col_labels)\n",
    "    ax.set_yticks(np.arange(data.shape[0]), labels=row_labels)\n",
    "\n",
    "    # Let the horizontal axes labeling appear on top.\n",
    "    ax.tick_params(top=False, bottom=False, left=False,\n",
    "                   labeltop=True, labelbottom=False)\n",
    "    \n",
    "    # Change the fontsize of the y-axis tick labels\n",
    "    ax.tick_params(axis='both', labelsize=18)\n",
    "\n",
    "    # Rotate the tick labels and set their alignment.\n",
    "    plt.setp(ax.get_xticklabels(), ha=\"center\"\n",
    "             #, rotation=0\n",
    "             #, rotation_mode=\"anchor\"\n",
    "             )\n",
    "\n",
    "    # Turn spines off and create white grid.\n",
    "    ax.spines[:].set_visible(False)\n",
    "\n",
    "    ax.set_xticks(np.arange(data.shape[1]+1)-.5, minor=True)\n",
    "    ax.set_yticks(np.arange(data.shape[0]+1)-.5, minor=True)\n",
    "    ax.grid(which=\"minor\", color=\"w\", linestyle='-', linewidth=3)\n",
    "    ax.tick_params(which=\"minor\", bottom=False, left=False)\n",
    "\n",
    "    return im\n",
    "\n",
    "\n",
    "def annotate_heatmap(im, data=None, valfmt=\"{x:.2f}\",\n",
    "                     textcolors=(\"black\", \"white\"),\n",
    "                     threshold=None, **textkw):\n",
    "    \"\"\"\n",
    "    A function to annotate a heatmap.\n",
    "\n",
    "    Parameters\n",
    "    -\n",
    "    im\n",
    "        The AxesImage to be labeled.\n",
    "    data\n",
    "        Data used to annotate.  If None, the image's data is used.  Optional.\n",
    "    valfmt\n",
    "        The format of the annotations inside the heatmap.  This should either\n",
    "        use the string format method, e.g. \"$ {x:.2f}\", or be a\n",
    "        `matplotlib.ticker.Formatter`.  Optional.\n",
    "    textcolors\n",
    "        A pair of colors.  The first is used for values below a threshold,\n",
    "        the second for those above.  Optional.\n",
    "    threshold\n",
    "        Value in data units according to which the colors from textcolors are\n",
    "        applied.  If None (the default) uses the middle of the colormap as\n",
    "        separation.  Optional.\n",
    "    **kwargs\n",
    "        All other arguments are forwarded to each call to `text` used to create\n",
    "        the text labels.\n",
    "    \"\"\"\n",
    "\n",
    "    if not isinstance(data, (list, np.ndarray)):\n",
    "        data = im.get_array()\n",
    "\n",
    "    # Normalize the threshold to the images color range.\n",
    "    if threshold is not None:\n",
    "        threshold = im.norm(threshold)\n",
    "    else:\n",
    "        threshold = im.norm(data.max())/2.\n",
    "\n",
    "    # Set default alignment to center, but allow it to be\n",
    "    # overwritten by textkw.\n",
    "    kw = dict(horizontalalignment=\"center\",\n",
    "              verticalalignment=\"center\")\n",
    "    kw.update(textkw)\n",
    "\n",
    "    # Get the formatter in case a string is supplied\n",
    "    if isinstance(valfmt, str):\n",
    "        valfmt = mpl.ticker.StrMethodFormatter(valfmt)\n",
    "\n",
    "    # Loop over the data and create a `Text` for each \"pixel\".\n",
    "    # Change the text's color depending on the data.\n",
    "    texts = []\n",
    "    for i in range(data.shape[0]):\n",
    "        for j in range(data.shape[1]):\n",
    "            kw.update(color=textcolors[int(im.norm(data[i, j]) > threshold)])\n",
    "            text = im.axes.text(j, i, valfmt(data[i, j], None), **kw)\n",
    "            texts.append(text)\n",
    "\n",
    "    return texts"
   ],
   "outputs": [],
   "execution_count": 46
  },
  {
   "cell_type": "code",
   "metadata": {
    "ExecuteTime": {
     "end_time": "2025-03-15T10:53:27.578707Z",
     "start_time": "2025-03-15T10:53:27.570860Z"
    }
   },
   "source": [
    "df"
   ],
   "outputs": [
    {
     "data": {
      "text/plain": [
       "          STATION                     NAME  LATITUDE  LONGITUDE  ELEVATION  \\\n",
       "0     USC00042319   DEATH VALLEY NP, CA US   36.4622  -116.8669      -59.1   \n",
       "1     USC00042319   DEATH VALLEY NP, CA US   36.4622  -116.8669      -59.1   \n",
       "2     USC00042319   DEATH VALLEY NP, CA US   36.4622  -116.8669      -59.1   \n",
       "3     USC00042319   DEATH VALLEY NP, CA US   36.4622  -116.8669      -59.1   \n",
       "4     USC00042319   DEATH VALLEY NP, CA US   36.4622  -116.8669      -59.1   \n",
       "...           ...                      ...       ...        ...        ...   \n",
       "2191  USW00012918  HOUSTON HOBBY AP, TX US   29.6381   -95.2819       13.4   \n",
       "2192  USW00012918  HOUSTON HOBBY AP, TX US   29.6381   -95.2819       13.4   \n",
       "2193  USW00012918  HOUSTON HOBBY AP, TX US   29.6381   -95.2819       13.4   \n",
       "2194  USW00012918  HOUSTON HOBBY AP, TX US   29.6381   -95.2819       13.4   \n",
       "2195  USW00012918  HOUSTON HOBBY AP, TX US   29.6381   -95.2819       13.4   \n",
       "\n",
       "       DATE   DATETIME  DLY-TAVG-NORMAL  \n",
       "0     01-01 1900-01-01             52.4  \n",
       "1     01-02 1900-01-02             52.5  \n",
       "2     01-03 1900-01-03             52.6  \n",
       "3     01-04 1900-01-04             52.7  \n",
       "4     01-05 1900-01-05             52.9  \n",
       "...     ...        ...              ...  \n",
       "2191  12-27 1900-12-27             55.2  \n",
       "2192  12-28 1900-12-28             55.1  \n",
       "2193  12-29 1900-12-29             55.1  \n",
       "2194  12-30 1900-12-30             55.0  \n",
       "2195  12-31 1900-12-31             54.9  \n",
       "\n",
       "[2196 rows x 8 columns]"
      ],
      "text/html": [
       "<div>\n",
       "<style scoped>\n",
       "    .dataframe tbody tr th:only-of-type {\n",
       "        vertical-align: middle;\n",
       "    }\n",
       "\n",
       "    .dataframe tbody tr th {\n",
       "        vertical-align: top;\n",
       "    }\n",
       "\n",
       "    .dataframe thead th {\n",
       "        text-align: right;\n",
       "    }\n",
       "</style>\n",
       "<table border=\"1\" class=\"dataframe\">\n",
       "  <thead>\n",
       "    <tr style=\"text-align: right;\">\n",
       "      <th></th>\n",
       "      <th>STATION</th>\n",
       "      <th>NAME</th>\n",
       "      <th>LATITUDE</th>\n",
       "      <th>LONGITUDE</th>\n",
       "      <th>ELEVATION</th>\n",
       "      <th>DATE</th>\n",
       "      <th>DATETIME</th>\n",
       "      <th>DLY-TAVG-NORMAL</th>\n",
       "    </tr>\n",
       "  </thead>\n",
       "  <tbody>\n",
       "    <tr>\n",
       "      <th>0</th>\n",
       "      <td>USC00042319</td>\n",
       "      <td>DEATH VALLEY NP, CA US</td>\n",
       "      <td>36.4622</td>\n",
       "      <td>-116.8669</td>\n",
       "      <td>-59.1</td>\n",
       "      <td>01-01</td>\n",
       "      <td>1900-01-01</td>\n",
       "      <td>52.4</td>\n",
       "    </tr>\n",
       "    <tr>\n",
       "      <th>1</th>\n",
       "      <td>USC00042319</td>\n",
       "      <td>DEATH VALLEY NP, CA US</td>\n",
       "      <td>36.4622</td>\n",
       "      <td>-116.8669</td>\n",
       "      <td>-59.1</td>\n",
       "      <td>01-02</td>\n",
       "      <td>1900-01-02</td>\n",
       "      <td>52.5</td>\n",
       "    </tr>\n",
       "    <tr>\n",
       "      <th>2</th>\n",
       "      <td>USC00042319</td>\n",
       "      <td>DEATH VALLEY NP, CA US</td>\n",
       "      <td>36.4622</td>\n",
       "      <td>-116.8669</td>\n",
       "      <td>-59.1</td>\n",
       "      <td>01-03</td>\n",
       "      <td>1900-01-03</td>\n",
       "      <td>52.6</td>\n",
       "    </tr>\n",
       "    <tr>\n",
       "      <th>3</th>\n",
       "      <td>USC00042319</td>\n",
       "      <td>DEATH VALLEY NP, CA US</td>\n",
       "      <td>36.4622</td>\n",
       "      <td>-116.8669</td>\n",
       "      <td>-59.1</td>\n",
       "      <td>01-04</td>\n",
       "      <td>1900-01-04</td>\n",
       "      <td>52.7</td>\n",
       "    </tr>\n",
       "    <tr>\n",
       "      <th>4</th>\n",
       "      <td>USC00042319</td>\n",
       "      <td>DEATH VALLEY NP, CA US</td>\n",
       "      <td>36.4622</td>\n",
       "      <td>-116.8669</td>\n",
       "      <td>-59.1</td>\n",
       "      <td>01-05</td>\n",
       "      <td>1900-01-05</td>\n",
       "      <td>52.9</td>\n",
       "    </tr>\n",
       "    <tr>\n",
       "      <th>...</th>\n",
       "      <td>...</td>\n",
       "      <td>...</td>\n",
       "      <td>...</td>\n",
       "      <td>...</td>\n",
       "      <td>...</td>\n",
       "      <td>...</td>\n",
       "      <td>...</td>\n",
       "      <td>...</td>\n",
       "    </tr>\n",
       "    <tr>\n",
       "      <th>2191</th>\n",
       "      <td>USW00012918</td>\n",
       "      <td>HOUSTON HOBBY AP, TX US</td>\n",
       "      <td>29.6381</td>\n",
       "      <td>-95.2819</td>\n",
       "      <td>13.4</td>\n",
       "      <td>12-27</td>\n",
       "      <td>1900-12-27</td>\n",
       "      <td>55.2</td>\n",
       "    </tr>\n",
       "    <tr>\n",
       "      <th>2192</th>\n",
       "      <td>USW00012918</td>\n",
       "      <td>HOUSTON HOBBY AP, TX US</td>\n",
       "      <td>29.6381</td>\n",
       "      <td>-95.2819</td>\n",
       "      <td>13.4</td>\n",
       "      <td>12-28</td>\n",
       "      <td>1900-12-28</td>\n",
       "      <td>55.1</td>\n",
       "    </tr>\n",
       "    <tr>\n",
       "      <th>2193</th>\n",
       "      <td>USW00012918</td>\n",
       "      <td>HOUSTON HOBBY AP, TX US</td>\n",
       "      <td>29.6381</td>\n",
       "      <td>-95.2819</td>\n",
       "      <td>13.4</td>\n",
       "      <td>12-29</td>\n",
       "      <td>1900-12-29</td>\n",
       "      <td>55.1</td>\n",
       "    </tr>\n",
       "    <tr>\n",
       "      <th>2194</th>\n",
       "      <td>USW00012918</td>\n",
       "      <td>HOUSTON HOBBY AP, TX US</td>\n",
       "      <td>29.6381</td>\n",
       "      <td>-95.2819</td>\n",
       "      <td>13.4</td>\n",
       "      <td>12-30</td>\n",
       "      <td>1900-12-30</td>\n",
       "      <td>55.0</td>\n",
       "    </tr>\n",
       "    <tr>\n",
       "      <th>2195</th>\n",
       "      <td>USW00012918</td>\n",
       "      <td>HOUSTON HOBBY AP, TX US</td>\n",
       "      <td>29.6381</td>\n",
       "      <td>-95.2819</td>\n",
       "      <td>13.4</td>\n",
       "      <td>12-31</td>\n",
       "      <td>1900-12-31</td>\n",
       "      <td>54.9</td>\n",
       "    </tr>\n",
       "  </tbody>\n",
       "</table>\n",
       "<p>2196 rows × 8 columns</p>\n",
       "</div>"
      ]
     },
     "execution_count": 47,
     "metadata": {},
     "output_type": "execute_result"
    }
   ],
   "execution_count": 47
  },
  {
   "cell_type": "code",
   "metadata": {
    "ExecuteTime": {
     "end_time": "2025-03-15T10:53:27.727620Z",
     "start_time": "2025-03-15T10:53:27.711756Z"
    }
   },
   "source": [
    "df['MONTH'] = df['DATETIME'].dt.month  # Add a 'MONTH' column\n",
    "\n",
    "# Group by 'MONTH' and 'NAME' and calculate the mean\n",
    "mean_df = df.groupby(['STATION', 'MONTH'])['DLY-TAVG-NORMAL'].mean().reset_index()\n",
    "\n",
    "# Pivot the mean_df DataFrame\n",
    "pivot_df = mean_df.pivot(index='STATION', columns='MONTH', values='DLY-TAVG-NORMAL')\n",
    "\n",
    "# Create a dictionary mapping month numbers to names\n",
    "month_dict = {1: 'Jan', 2: 'Feb', 3: 'Mar', 4: 'Apr', 5: 'May', 6: 'Jun', \n",
    "              7: 'Jul', 8: 'Aug', 9: 'Sep', 10: 'Oct', 11: 'Nov', 12: 'Dec'}\n",
    "\n",
    "# Replace the month values with month names\n",
    "pivot_df.columns = pivot_df.columns.to_series().replace(month_dict)\n",
    "\n",
    "# ['USC00042319', 'USW00012918', 'USW00093107', 'USW00014819']\n",
    "\n",
    "pivot_df = pivot_df.loc[['USC00042319', 'USW00012918', 'USW00093107', 'USW00014819']]\n",
    "\n",
    "pivot_df.index = pivot_df.index.to_series().replace(station_codes)\n",
    "\n",
    "pivot_df"
   ],
   "outputs": [
    {
     "data": {
      "text/plain": [
       "MONTH                   Jan        Feb        Mar        Apr        May  \\\n",
       "STATION                                                                   \n",
       "Death Valley, CA  54.841935  61.353571  69.838710  77.906667  87.851613   \n",
       "Houston, TX       54.945161  58.850000  64.648387  70.553333  77.606452   \n",
       "San Diego, CA     57.193548  57.646429  58.700000  61.240000  64.251613   \n",
       "Chicago           26.045161  29.700000  39.648387  50.650000  61.548387   \n",
       "\n",
       "MONTH                   Jun         Jul         Aug        Sep        Oct  \\\n",
       "STATION                                                                     \n",
       "Death Valley, CA  97.546667  104.200000  102.300000  93.396667  78.848387   \n",
       "Houston, TX       82.950000   84.748387   85.103226  81.086667  73.006452   \n",
       "San Diego, CA     67.650000   72.048387   73.796774  72.350000  67.551613   \n",
       "Chicago           71.603333   76.348387   74.545161  67.550000  54.954839   \n",
       "\n",
       "MONTH                   Nov        Dec  \n",
       "STATION                                 \n",
       "Death Valley, CA  63.950000  53.345161  \n",
       "Houston, TX       63.293333  56.848387  \n",
       "San Diego, CA     61.600000  56.345161  \n",
       "Chicago           42.043333  31.300000  "
      ],
      "text/html": [
       "<div>\n",
       "<style scoped>\n",
       "    .dataframe tbody tr th:only-of-type {\n",
       "        vertical-align: middle;\n",
       "    }\n",
       "\n",
       "    .dataframe tbody tr th {\n",
       "        vertical-align: top;\n",
       "    }\n",
       "\n",
       "    .dataframe thead th {\n",
       "        text-align: right;\n",
       "    }\n",
       "</style>\n",
       "<table border=\"1\" class=\"dataframe\">\n",
       "  <thead>\n",
       "    <tr style=\"text-align: right;\">\n",
       "      <th>MONTH</th>\n",
       "      <th>Jan</th>\n",
       "      <th>Feb</th>\n",
       "      <th>Mar</th>\n",
       "      <th>Apr</th>\n",
       "      <th>May</th>\n",
       "      <th>Jun</th>\n",
       "      <th>Jul</th>\n",
       "      <th>Aug</th>\n",
       "      <th>Sep</th>\n",
       "      <th>Oct</th>\n",
       "      <th>Nov</th>\n",
       "      <th>Dec</th>\n",
       "    </tr>\n",
       "    <tr>\n",
       "      <th>STATION</th>\n",
       "      <th></th>\n",
       "      <th></th>\n",
       "      <th></th>\n",
       "      <th></th>\n",
       "      <th></th>\n",
       "      <th></th>\n",
       "      <th></th>\n",
       "      <th></th>\n",
       "      <th></th>\n",
       "      <th></th>\n",
       "      <th></th>\n",
       "      <th></th>\n",
       "    </tr>\n",
       "  </thead>\n",
       "  <tbody>\n",
       "    <tr>\n",
       "      <th>Death Valley, CA</th>\n",
       "      <td>54.841935</td>\n",
       "      <td>61.353571</td>\n",
       "      <td>69.838710</td>\n",
       "      <td>77.906667</td>\n",
       "      <td>87.851613</td>\n",
       "      <td>97.546667</td>\n",
       "      <td>104.200000</td>\n",
       "      <td>102.300000</td>\n",
       "      <td>93.396667</td>\n",
       "      <td>78.848387</td>\n",
       "      <td>63.950000</td>\n",
       "      <td>53.345161</td>\n",
       "    </tr>\n",
       "    <tr>\n",
       "      <th>Houston, TX</th>\n",
       "      <td>54.945161</td>\n",
       "      <td>58.850000</td>\n",
       "      <td>64.648387</td>\n",
       "      <td>70.553333</td>\n",
       "      <td>77.606452</td>\n",
       "      <td>82.950000</td>\n",
       "      <td>84.748387</td>\n",
       "      <td>85.103226</td>\n",
       "      <td>81.086667</td>\n",
       "      <td>73.006452</td>\n",
       "      <td>63.293333</td>\n",
       "      <td>56.848387</td>\n",
       "    </tr>\n",
       "    <tr>\n",
       "      <th>San Diego, CA</th>\n",
       "      <td>57.193548</td>\n",
       "      <td>57.646429</td>\n",
       "      <td>58.700000</td>\n",
       "      <td>61.240000</td>\n",
       "      <td>64.251613</td>\n",
       "      <td>67.650000</td>\n",
       "      <td>72.048387</td>\n",
       "      <td>73.796774</td>\n",
       "      <td>72.350000</td>\n",
       "      <td>67.551613</td>\n",
       "      <td>61.600000</td>\n",
       "      <td>56.345161</td>\n",
       "    </tr>\n",
       "    <tr>\n",
       "      <th>Chicago</th>\n",
       "      <td>26.045161</td>\n",
       "      <td>29.700000</td>\n",
       "      <td>39.648387</td>\n",
       "      <td>50.650000</td>\n",
       "      <td>61.548387</td>\n",
       "      <td>71.603333</td>\n",
       "      <td>76.348387</td>\n",
       "      <td>74.545161</td>\n",
       "      <td>67.550000</td>\n",
       "      <td>54.954839</td>\n",
       "      <td>42.043333</td>\n",
       "      <td>31.300000</td>\n",
       "    </tr>\n",
       "  </tbody>\n",
       "</table>\n",
       "</div>"
      ]
     },
     "execution_count": 48,
     "metadata": {},
     "output_type": "execute_result"
    }
   ],
   "execution_count": 48
  },
  {
   "cell_type": "code",
   "metadata": {
    "ExecuteTime": {
     "end_time": "2025-03-15T10:53:27.923037Z",
     "start_time": "2025-03-15T10:53:27.799763Z"
    }
   },
   "source": [
    "fig, ax = plt.subplots(figsize=figsize_rect)\n",
    "\n",
    "im = heatmap(pivot_df.to_numpy(), pivot_df.index.to_list(), pivot_df.columns.to_list(), ax=ax)\n",
    "\n",
    "# Create and style the colorbar in a separate axes\n",
    "cax = fig.add_axes([1.01, 0.3, 0.03, 0.35])\n",
    "cax.spines[:].set_visible(False)\n",
    "cbar = mpl.colorbar.Colorbar(ax=cax, mappable=im, orientation='vertical')\n",
    "\n",
    "cbar.outline.set_visible(False)\n",
    "cbar.ax.tick_params(direction='in', colors='white')\n",
    "# Get the current tick locations and labels\n",
    "# locations = cbar.ax.get_yticks()\n",
    "# labels = cbar.ax.get_yticklabels()\n",
    "# Set the tick labels with black color\n",
    "cbar.ax.set_yticks([40.0, 60.0, 80.0, 100.0])\n",
    "cbar.ax.set_yticklabels([40.0, 60.0, 80.0, 100.0], color='black', fontsize=18)\n",
    "cbar.ax.set_title('Temperature ($\\degree$F)', fontsize=18, pad=10)\n",
    "\n",
    "# Add ticks on the right side of the colorbar\n",
    "cbar.ax.tick_params(labelright=True, right=True, left=True, width=2)\n",
    "\n",
    "# annotate_heatmap(im, data=pivot_df.to_numpy(), valfmt=\"{x:.0f}\",\n",
    " #                     textcolors=(\"white\", \"black\"),\n",
    "  #                    threshold=80.0, fontsize=18)\n",
    "\n",
    "plt.show()"
   ],
   "outputs": [
    {
     "data": {
      "text/plain": [
       "<Figure size 1200x600 with 2 Axes>"
      ],
      "image/svg+xml": "<?xml version=\"1.0\" encoding=\"utf-8\" standalone=\"no\"?>\n<!DOCTYPE svg PUBLIC \"-//W3C//DTD SVG 1.1//EN\"\n  \"http://www.w3.org/Graphics/SVG/1.1/DTD/svg11.dtd\">\n<svg xmlns:xlink=\"http://www.w3.org/1999/xlink\" width=\"1027.45375pt\" height=\"262.020625pt\" viewBox=\"0 0 1027.45375 262.020625\" xmlns=\"http://www.w3.org/2000/svg\" version=\"1.1\">\n <metadata>\n  <rdf:RDF xmlns:dc=\"http://purl.org/dc/elements/1.1/\" xmlns:cc=\"http://creativecommons.org/ns#\" xmlns:rdf=\"http://www.w3.org/1999/02/22-rdf-syntax-ns#\">\n   <cc:Work>\n    <dc:type rdf:resource=\"http://purl.org/dc/dcmitype/StillImage\"/>\n    <dc:date>2025-03-15T11:53:27.874382</dc:date>\n    <dc:format>image/svg+xml</dc:format>\n    <dc:creator>\n     <cc:Agent>\n      <dc:title>Matplotlib v3.10.0, https://matplotlib.org/</dc:title>\n     </cc:Agent>\n    </dc:creator>\n   </cc:Work>\n  </rdf:RDF>\n </metadata>\n <defs>\n  <style type=\"text/css\">*{stroke-linejoin: round; stroke-linecap: butt}</style>\n </defs>\n <g id=\"figure_1\">\n  <g id=\"patch_1\">\n   <path d=\"M 0 262.020625 \nL 1027.45375 262.020625 \nL 1027.45375 0 \nL 0 0 \nz\n\" style=\"fill: #ffffff\"/>\n  </g>\n  <g id=\"axes_1\">\n   <g id=\"patch_2\">\n    <path d=\"M 164.35375 254.820625 \nL 833.95375 254.820625 \nL 833.95375 31.620625 \nL 164.35375 31.620625 \nz\n\" style=\"fill: #ffffff\"/>\n   </g>\n   <g clip-path=\"url(#p9fd474eed6)\">\n    <image xlink:href=\"data:image/png;base64,\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\" id=\"image3a73ccc34c\" transform=\"scale(1 -1) translate(0 -223.2)\" x=\"164.35375\" y=\"-31.620625\" width=\"669.6\" height=\"223.2\"/>\n   </g>\n   <g id=\"matplotlib.axis_1\">\n    <g id=\"xtick_1\">\n     <g id=\"text_1\">\n      <!-- Jan -->\n      <g transform=\"translate(178.379687 20.877187) scale(0.18 -0.18)\">\n       <defs>\n        <path id=\"DejaVuSans-4a\" d=\"M 628 4666 \nL 1259 4666 \nL 1259 325 \nQ 1259 -519 939 -900 \nQ 619 -1281 -91 -1281 \nL -331 -1281 \nL -331 -750 \nL -134 -750 \nQ 284 -750 456 -515 \nQ 628 -281 628 325 \nL 628 4666 \nz\n\" transform=\"scale(0.015625)\"/>\n        <path id=\"DejaVuSans-61\" d=\"M 2194 1759 \nQ 1497 1759 1228 1600 \nQ 959 1441 959 1056 \nQ 959 750 1161 570 \nQ 1363 391 1709 391 \nQ 2188 391 2477 730 \nQ 2766 1069 2766 1631 \nL 2766 1759 \nL 2194 1759 \nz\nM 3341 1997 \nL 3341 0 \nL 2766 0 \nL 2766 531 \nQ 2569 213 2275 61 \nQ 1981 -91 1556 -91 \nQ 1019 -91 701 211 \nQ 384 513 384 1019 \nQ 384 1609 779 1909 \nQ 1175 2209 1959 2209 \nL 2766 2209 \nL 2766 2266 \nQ 2766 2663 2505 2880 \nQ 2244 3097 1772 3097 \nQ 1472 3097 1187 3025 \nQ 903 2953 641 2809 \nL 641 3341 \nQ 956 3463 1253 3523 \nQ 1550 3584 1831 3584 \nQ 2591 3584 2966 3190 \nQ 3341 2797 3341 1997 \nz\n\" transform=\"scale(0.015625)\"/>\n        <path id=\"DejaVuSans-6e\" d=\"M 3513 2113 \nL 3513 0 \nL 2938 0 \nL 2938 2094 \nQ 2938 2591 2744 2837 \nQ 2550 3084 2163 3084 \nQ 1697 3084 1428 2787 \nQ 1159 2491 1159 1978 \nL 1159 0 \nL 581 0 \nL 581 3500 \nL 1159 3500 \nL 1159 2956 \nQ 1366 3272 1645 3428 \nQ 1925 3584 2291 3584 \nQ 2894 3584 3203 3211 \nQ 3513 2838 3513 2113 \nz\n\" transform=\"scale(0.015625)\"/>\n       </defs>\n       <use xlink:href=\"#DejaVuSans-4a\"/>\n       <use xlink:href=\"#DejaVuSans-61\" transform=\"translate(29.492188 0)\"/>\n       <use xlink:href=\"#DejaVuSans-6e\" transform=\"translate(90.771484 0)\"/>\n      </g>\n     </g>\n    </g>\n    <g id=\"xtick_2\">\n     <g id=\"text_2\">\n      <!-- Feb -->\n      <g transform=\"translate(232.120937 20.877187) scale(0.18 -0.18)\">\n       <defs>\n        <path id=\"DejaVuSans-46\" d=\"M 628 4666 \nL 3309 4666 \nL 3309 4134 \nL 1259 4134 \nL 1259 2759 \nL 3109 2759 \nL 3109 2228 \nL 1259 2228 \nL 1259 0 \nL 628 0 \nL 628 4666 \nz\n\" transform=\"scale(0.015625)\"/>\n        <path id=\"DejaVuSans-65\" d=\"M 3597 1894 \nL 3597 1613 \nL 953 1613 \nQ 991 1019 1311 708 \nQ 1631 397 2203 397 \nQ 2534 397 2845 478 \nQ 3156 559 3463 722 \nL 3463 178 \nQ 3153 47 2828 -22 \nQ 2503 -91 2169 -91 \nQ 1331 -91 842 396 \nQ 353 884 353 1716 \nQ 353 2575 817 3079 \nQ 1281 3584 2069 3584 \nQ 2775 3584 3186 3129 \nQ 3597 2675 3597 1894 \nz\nM 3022 2063 \nQ 3016 2534 2758 2815 \nQ 2500 3097 2075 3097 \nQ 1594 3097 1305 2825 \nQ 1016 2553 972 2059 \nL 3022 2063 \nz\n\" transform=\"scale(0.015625)\"/>\n        <path id=\"DejaVuSans-62\" d=\"M 3116 1747 \nQ 3116 2381 2855 2742 \nQ 2594 3103 2138 3103 \nQ 1681 3103 1420 2742 \nQ 1159 2381 1159 1747 \nQ 1159 1113 1420 752 \nQ 1681 391 2138 391 \nQ 2594 391 2855 752 \nQ 3116 1113 3116 1747 \nz\nM 1159 2969 \nQ 1341 3281 1617 3432 \nQ 1894 3584 2278 3584 \nQ 2916 3584 3314 3078 \nQ 3713 2572 3713 1747 \nQ 3713 922 3314 415 \nQ 2916 -91 2278 -91 \nQ 1894 -91 1617 61 \nQ 1341 213 1159 525 \nL 1159 0 \nL 581 0 \nL 581 4863 \nL 1159 4863 \nL 1159 2969 \nz\n\" transform=\"scale(0.015625)\"/>\n       </defs>\n       <use xlink:href=\"#DejaVuSans-46\"/>\n       <use xlink:href=\"#DejaVuSans-65\" transform=\"translate(52.019531 0)\"/>\n       <use xlink:href=\"#DejaVuSans-62\" transform=\"translate(113.542969 0)\"/>\n      </g>\n     </g>\n    </g>\n    <g id=\"xtick_3\">\n     <g id=\"text_3\">\n      <!-- Mar -->\n      <g transform=\"translate(286.873281 20.877187) scale(0.18 -0.18)\">\n       <defs>\n        <path id=\"DejaVuSans-4d\" d=\"M 628 4666 \nL 1569 4666 \nL 2759 1491 \nL 3956 4666 \nL 4897 4666 \nL 4897 0 \nL 4281 0 \nL 4281 4097 \nL 3078 897 \nL 2444 897 \nL 1241 4097 \nL 1241 0 \nL 628 0 \nL 628 4666 \nz\n\" transform=\"scale(0.015625)\"/>\n        <path id=\"DejaVuSans-72\" d=\"M 2631 2963 \nQ 2534 3019 2420 3045 \nQ 2306 3072 2169 3072 \nQ 1681 3072 1420 2755 \nQ 1159 2438 1159 1844 \nL 1159 0 \nL 581 0 \nL 581 3500 \nL 1159 3500 \nL 1159 2956 \nQ 1341 3275 1631 3429 \nQ 1922 3584 2338 3584 \nQ 2397 3584 2469 3576 \nQ 2541 3569 2628 3553 \nL 2631 2963 \nz\n\" transform=\"scale(0.015625)\"/>\n       </defs>\n       <use xlink:href=\"#DejaVuSans-4d\"/>\n       <use xlink:href=\"#DejaVuSans-61\" transform=\"translate(86.279297 0)\"/>\n       <use xlink:href=\"#DejaVuSans-72\" transform=\"translate(147.558594 0)\"/>\n      </g>\n     </g>\n    </g>\n    <g id=\"xtick_4\">\n     <g id=\"text_4\">\n      <!-- Apr -->\n      <g transform=\"translate(344.08375 20.877187) scale(0.18 -0.18)\">\n       <defs>\n        <path id=\"DejaVuSans-41\" d=\"M 2188 4044 \nL 1331 1722 \nL 3047 1722 \nL 2188 4044 \nz\nM 1831 4666 \nL 2547 4666 \nL 4325 0 \nL 3669 0 \nL 3244 1197 \nL 1141 1197 \nL 716 0 \nL 50 0 \nL 1831 4666 \nz\n\" transform=\"scale(0.015625)\"/>\n        <path id=\"DejaVuSans-70\" d=\"M 1159 525 \nL 1159 -1331 \nL 581 -1331 \nL 581 3500 \nL 1159 3500 \nL 1159 2969 \nQ 1341 3281 1617 3432 \nQ 1894 3584 2278 3584 \nQ 2916 3584 3314 3078 \nQ 3713 2572 3713 1747 \nQ 3713 922 3314 415 \nQ 2916 -91 2278 -91 \nQ 1894 -91 1617 61 \nQ 1341 213 1159 525 \nz\nM 3116 1747 \nQ 3116 2381 2855 2742 \nQ 2594 3103 2138 3103 \nQ 1681 3103 1420 2742 \nQ 1159 2381 1159 1747 \nQ 1159 1113 1420 752 \nQ 1681 391 2138 391 \nQ 2594 391 2855 752 \nQ 3116 1113 3116 1747 \nz\n\" transform=\"scale(0.015625)\"/>\n       </defs>\n       <use xlink:href=\"#DejaVuSans-41\"/>\n       <use xlink:href=\"#DejaVuSans-70\" transform=\"translate(68.408203 0)\"/>\n       <use xlink:href=\"#DejaVuSans-72\" transform=\"translate(131.884766 0)\"/>\n      </g>\n     </g>\n    </g>\n    <g id=\"xtick_5\">\n     <g id=\"text_5\">\n      <!-- May -->\n      <g transform=\"translate(396.84625 20.877187) scale(0.18 -0.18)\">\n       <defs>\n        <path id=\"DejaVuSans-79\" d=\"M 2059 -325 \nQ 1816 -950 1584 -1140 \nQ 1353 -1331 966 -1331 \nL 506 -1331 \nL 506 -850 \nL 844 -850 \nQ 1081 -850 1212 -737 \nQ 1344 -625 1503 -206 \nL 1606 56 \nL 191 3500 \nL 800 3500 \nL 1894 763 \nL 2988 3500 \nL 3597 3500 \nL 2059 -325 \nz\n\" transform=\"scale(0.015625)\"/>\n       </defs>\n       <use xlink:href=\"#DejaVuSans-4d\"/>\n       <use xlink:href=\"#DejaVuSans-61\" transform=\"translate(86.279297 0)\"/>\n       <use xlink:href=\"#DejaVuSans-79\" transform=\"translate(147.558594 0)\"/>\n      </g>\n     </g>\n    </g>\n    <g id=\"xtick_6\">\n     <g id=\"text_6\">\n      <!-- Jun -->\n      <g transform=\"translate(457.19125 20.877187) scale(0.18 -0.18)\">\n       <defs>\n        <path id=\"DejaVuSans-75\" d=\"M 544 1381 \nL 544 3500 \nL 1119 3500 \nL 1119 1403 \nQ 1119 906 1312 657 \nQ 1506 409 1894 409 \nQ 2359 409 2629 706 \nQ 2900 1003 2900 1516 \nL 2900 3500 \nL 3475 3500 \nL 3475 0 \nL 2900 0 \nL 2900 538 \nQ 2691 219 2414 64 \nQ 2138 -91 1772 -91 \nQ 1169 -91 856 284 \nQ 544 659 544 1381 \nz\nM 1991 3584 \nL 1991 3584 \nz\n\" transform=\"scale(0.015625)\"/>\n       </defs>\n       <use xlink:href=\"#DejaVuSans-4a\"/>\n       <use xlink:href=\"#DejaVuSans-75\" transform=\"translate(29.492188 0)\"/>\n       <use xlink:href=\"#DejaVuSans-6e\" transform=\"translate(92.871094 0)\"/>\n      </g>\n     </g>\n    </g>\n    <g id=\"xtick_7\">\n     <g id=\"text_7\">\n      <!-- Jul -->\n      <g transform=\"translate(516.194687 20.877187) scale(0.18 -0.18)\">\n       <defs>\n        <path id=\"DejaVuSans-6c\" d=\"M 603 4863 \nL 1178 4863 \nL 1178 0 \nL 603 0 \nL 603 4863 \nz\n\" transform=\"scale(0.015625)\"/>\n       </defs>\n       <use xlink:href=\"#DejaVuSans-4a\"/>\n       <use xlink:href=\"#DejaVuSans-75\" transform=\"translate(29.492188 0)\"/>\n       <use xlink:href=\"#DejaVuSans-6c\" transform=\"translate(92.871094 0)\"/>\n      </g>\n     </g>\n    </g>\n    <g id=\"xtick_8\">\n     <g id=\"text_8\">\n      <!-- Aug -->\n      <g transform=\"translate(565.279844 20.877187) scale(0.18 -0.18)\">\n       <defs>\n        <path id=\"DejaVuSans-67\" d=\"M 2906 1791 \nQ 2906 2416 2648 2759 \nQ 2391 3103 1925 3103 \nQ 1463 3103 1205 2759 \nQ 947 2416 947 1791 \nQ 947 1169 1205 825 \nQ 1463 481 1925 481 \nQ 2391 481 2648 825 \nQ 2906 1169 2906 1791 \nz\nM 3481 434 \nQ 3481 -459 3084 -895 \nQ 2688 -1331 1869 -1331 \nQ 1566 -1331 1297 -1286 \nQ 1028 -1241 775 -1147 \nL 775 -588 \nQ 1028 -725 1275 -790 \nQ 1522 -856 1778 -856 \nQ 2344 -856 2625 -561 \nQ 2906 -266 2906 331 \nL 2906 616 \nQ 2728 306 2450 153 \nQ 2172 0 1784 0 \nQ 1141 0 747 490 \nQ 353 981 353 1791 \nQ 353 2603 747 3093 \nQ 1141 3584 1784 3584 \nQ 2172 3584 2450 3431 \nQ 2728 3278 2906 2969 \nL 2906 3500 \nL 3481 3500 \nL 3481 434 \nz\n\" transform=\"scale(0.015625)\"/>\n       </defs>\n       <use xlink:href=\"#DejaVuSans-41\"/>\n       <use xlink:href=\"#DejaVuSans-75\" transform=\"translate(68.408203 0)\"/>\n       <use xlink:href=\"#DejaVuSans-67\" transform=\"translate(131.787109 0)\"/>\n      </g>\n     </g>\n    </g>\n    <g id=\"xtick_9\">\n     <g id=\"text_9\">\n      <!-- Sep -->\n      <g transform=\"translate(621.68875 20.877187) scale(0.18 -0.18)\">\n       <defs>\n        <path id=\"DejaVuSans-53\" d=\"M 3425 4513 \nL 3425 3897 \nQ 3066 4069 2747 4153 \nQ 2428 4238 2131 4238 \nQ 1616 4238 1336 4038 \nQ 1056 3838 1056 3469 \nQ 1056 3159 1242 3001 \nQ 1428 2844 1947 2747 \nL 2328 2669 \nQ 3034 2534 3370 2195 \nQ 3706 1856 3706 1288 \nQ 3706 609 3251 259 \nQ 2797 -91 1919 -91 \nQ 1588 -91 1214 -16 \nQ 841 59 441 206 \nL 441 856 \nQ 825 641 1194 531 \nQ 1563 422 1919 422 \nQ 2459 422 2753 634 \nQ 3047 847 3047 1241 \nQ 3047 1584 2836 1778 \nQ 2625 1972 2144 2069 \nL 1759 2144 \nQ 1053 2284 737 2584 \nQ 422 2884 422 3419 \nQ 422 4038 858 4394 \nQ 1294 4750 2059 4750 \nQ 2388 4750 2728 4690 \nQ 3069 4631 3425 4513 \nz\n\" transform=\"scale(0.015625)\"/>\n       </defs>\n       <use xlink:href=\"#DejaVuSans-53\"/>\n       <use xlink:href=\"#DejaVuSans-65\" transform=\"translate(63.476562 0)\"/>\n       <use xlink:href=\"#DejaVuSans-70\" transform=\"translate(125 0)\"/>\n      </g>\n     </g>\n    </g>\n    <g id=\"xtick_10\">\n     <g id=\"text_10\">\n      <!-- Oct -->\n      <g transform=\"translate(678.892187 20.877187) scale(0.18 -0.18)\">\n       <defs>\n        <path id=\"DejaVuSans-4f\" d=\"M 2522 4238 \nQ 1834 4238 1429 3725 \nQ 1025 3213 1025 2328 \nQ 1025 1447 1429 934 \nQ 1834 422 2522 422 \nQ 3209 422 3611 934 \nQ 4013 1447 4013 2328 \nQ 4013 3213 3611 3725 \nQ 3209 4238 2522 4238 \nz\nM 2522 4750 \nQ 3503 4750 4090 4092 \nQ 4678 3434 4678 2328 \nQ 4678 1225 4090 567 \nQ 3503 -91 2522 -91 \nQ 1538 -91 948 565 \nQ 359 1222 359 2328 \nQ 359 3434 948 4092 \nQ 1538 4750 2522 4750 \nz\n\" transform=\"scale(0.015625)\"/>\n        <path id=\"DejaVuSans-63\" d=\"M 3122 3366 \nL 3122 2828 \nQ 2878 2963 2633 3030 \nQ 2388 3097 2138 3097 \nQ 1578 3097 1268 2742 \nQ 959 2388 959 1747 \nQ 959 1106 1268 751 \nQ 1578 397 2138 397 \nQ 2388 397 2633 464 \nQ 2878 531 3122 666 \nL 3122 134 \nQ 2881 22 2623 -34 \nQ 2366 -91 2075 -91 \nQ 1284 -91 818 406 \nQ 353 903 353 1747 \nQ 353 2603 823 3093 \nQ 1294 3584 2113 3584 \nQ 2378 3584 2631 3529 \nQ 2884 3475 3122 3366 \nz\n\" transform=\"scale(0.015625)\"/>\n        <path id=\"DejaVuSans-74\" d=\"M 1172 4494 \nL 1172 3500 \nL 2356 3500 \nL 2356 3053 \nL 1172 3053 \nL 1172 1153 \nQ 1172 725 1289 603 \nQ 1406 481 1766 481 \nL 2356 481 \nL 2356 0 \nL 1766 0 \nQ 1100 0 847 248 \nQ 594 497 594 1153 \nL 594 3053 \nL 172 3053 \nL 172 3500 \nL 594 3500 \nL 594 4494 \nL 1172 4494 \nz\n\" transform=\"scale(0.015625)\"/>\n       </defs>\n       <use xlink:href=\"#DejaVuSans-4f\"/>\n       <use xlink:href=\"#DejaVuSans-63\" transform=\"translate(78.710938 0)\"/>\n       <use xlink:href=\"#DejaVuSans-74\" transform=\"translate(133.691406 0)\"/>\n      </g>\n     </g>\n    </g>\n    <g id=\"xtick_11\">\n     <g id=\"text_11\">\n      <!-- Nov -->\n      <g transform=\"translate(732.686875 20.877187) scale(0.18 -0.18)\">\n       <defs>\n        <path id=\"DejaVuSans-4e\" d=\"M 628 4666 \nL 1478 4666 \nL 3547 763 \nL 3547 4666 \nL 4159 4666 \nL 4159 0 \nL 3309 0 \nL 1241 3903 \nL 1241 0 \nL 628 0 \nL 628 4666 \nz\n\" transform=\"scale(0.015625)\"/>\n        <path id=\"DejaVuSans-6f\" d=\"M 1959 3097 \nQ 1497 3097 1228 2736 \nQ 959 2375 959 1747 \nQ 959 1119 1226 758 \nQ 1494 397 1959 397 \nQ 2419 397 2687 759 \nQ 2956 1122 2956 1747 \nQ 2956 2369 2687 2733 \nQ 2419 3097 1959 3097 \nz\nM 1959 3584 \nQ 2709 3584 3137 3096 \nQ 3566 2609 3566 1747 \nQ 3566 888 3137 398 \nQ 2709 -91 1959 -91 \nQ 1206 -91 779 398 \nQ 353 888 353 1747 \nQ 353 2609 779 3096 \nQ 1206 3584 1959 3584 \nz\n\" transform=\"scale(0.015625)\"/>\n        <path id=\"DejaVuSans-76\" d=\"M 191 3500 \nL 800 3500 \nL 1894 563 \nL 2988 3500 \nL 3597 3500 \nL 2284 0 \nL 1503 0 \nL 191 3500 \nz\n\" transform=\"scale(0.015625)\"/>\n       </defs>\n       <use xlink:href=\"#DejaVuSans-4e\"/>\n       <use xlink:href=\"#DejaVuSans-6f\" transform=\"translate(74.804688 0)\"/>\n       <use xlink:href=\"#DejaVuSans-76\" transform=\"translate(135.986328 0)\"/>\n      </g>\n     </g>\n    </g>\n    <g id=\"xtick_12\">\n     <g id=\"text_12\">\n      <!-- Dec -->\n      <g transform=\"translate(788.637344 20.877187) scale(0.18 -0.18)\">\n       <defs>\n        <path id=\"DejaVuSans-44\" d=\"M 1259 4147 \nL 1259 519 \nL 2022 519 \nQ 2988 519 3436 956 \nQ 3884 1394 3884 2338 \nQ 3884 3275 3436 3711 \nQ 2988 4147 2022 4147 \nL 1259 4147 \nz\nM 628 4666 \nL 1925 4666 \nQ 3281 4666 3915 4102 \nQ 4550 3538 4550 2338 \nQ 4550 1131 3912 565 \nQ 3275 0 1925 0 \nL 628 0 \nL 628 4666 \nz\n\" transform=\"scale(0.015625)\"/>\n       </defs>\n       <use xlink:href=\"#DejaVuSans-44\"/>\n       <use xlink:href=\"#DejaVuSans-65\" transform=\"translate(77.001953 0)\"/>\n       <use xlink:href=\"#DejaVuSans-63\" transform=\"translate(138.525391 0)\"/>\n      </g>\n     </g>\n    </g>\n    <g id=\"xtick_13\">\n     <g id=\"line2d_1\">\n      <path d=\"M 164.35375 254.820625 \nL 164.35375 31.620625 \n\" clip-path=\"url(#p9fd474eed6)\" style=\"fill: none; stroke: #ffffff; stroke-width: 3; stroke-linecap: square\"/>\n     </g>\n    </g>\n    <g id=\"xtick_14\">\n     <g id=\"line2d_2\">\n      <path d=\"M 220.15375 254.820625 \nL 220.15375 31.620625 \n\" clip-path=\"url(#p9fd474eed6)\" style=\"fill: none; stroke: #ffffff; stroke-width: 3; stroke-linecap: square\"/>\n     </g>\n    </g>\n    <g id=\"xtick_15\">\n     <g id=\"line2d_3\">\n      <path d=\"M 275.95375 254.820625 \nL 275.95375 31.620625 \n\" clip-path=\"url(#p9fd474eed6)\" style=\"fill: none; stroke: #ffffff; stroke-width: 3; stroke-linecap: square\"/>\n     </g>\n    </g>\n    <g id=\"xtick_16\">\n     <g id=\"line2d_4\">\n      <path d=\"M 331.75375 254.820625 \nL 331.75375 31.620625 \n\" clip-path=\"url(#p9fd474eed6)\" style=\"fill: none; stroke: #ffffff; stroke-width: 3; stroke-linecap: square\"/>\n     </g>\n    </g>\n    <g id=\"xtick_17\">\n     <g id=\"line2d_5\">\n      <path d=\"M 387.55375 254.820625 \nL 387.55375 31.620625 \n\" clip-path=\"url(#p9fd474eed6)\" style=\"fill: none; stroke: #ffffff; stroke-width: 3; stroke-linecap: square\"/>\n     </g>\n    </g>\n    <g id=\"xtick_18\">\n     <g id=\"line2d_6\">\n      <path d=\"M 443.35375 254.820625 \nL 443.35375 31.620625 \n\" clip-path=\"url(#p9fd474eed6)\" style=\"fill: none; stroke: #ffffff; stroke-width: 3; stroke-linecap: square\"/>\n     </g>\n    </g>\n    <g id=\"xtick_19\">\n     <g id=\"line2d_7\">\n      <path d=\"M 499.15375 254.820625 \nL 499.15375 31.620625 \n\" clip-path=\"url(#p9fd474eed6)\" style=\"fill: none; stroke: #ffffff; stroke-width: 3; stroke-linecap: square\"/>\n     </g>\n    </g>\n    <g id=\"xtick_20\">\n     <g id=\"line2d_8\">\n      <path d=\"M 554.95375 254.820625 \nL 554.95375 31.620625 \n\" clip-path=\"url(#p9fd474eed6)\" style=\"fill: none; stroke: #ffffff; stroke-width: 3; stroke-linecap: square\"/>\n     </g>\n    </g>\n    <g id=\"xtick_21\">\n     <g id=\"line2d_9\">\n      <path d=\"M 610.75375 254.820625 \nL 610.75375 31.620625 \n\" clip-path=\"url(#p9fd474eed6)\" style=\"fill: none; stroke: #ffffff; stroke-width: 3; stroke-linecap: square\"/>\n     </g>\n    </g>\n    <g id=\"xtick_22\">\n     <g id=\"line2d_10\">\n      <path d=\"M 666.55375 254.820625 \nL 666.55375 31.620625 \n\" clip-path=\"url(#p9fd474eed6)\" style=\"fill: none; stroke: #ffffff; stroke-width: 3; stroke-linecap: square\"/>\n     </g>\n    </g>\n    <g id=\"xtick_23\">\n     <g id=\"line2d_11\">\n      <path d=\"M 722.35375 254.820625 \nL 722.35375 31.620625 \n\" clip-path=\"url(#p9fd474eed6)\" style=\"fill: none; stroke: #ffffff; stroke-width: 3; stroke-linecap: square\"/>\n     </g>\n    </g>\n    <g id=\"xtick_24\">\n     <g id=\"line2d_12\">\n      <path d=\"M 778.15375 254.820625 \nL 778.15375 31.620625 \n\" clip-path=\"url(#p9fd474eed6)\" style=\"fill: none; stroke: #ffffff; stroke-width: 3; stroke-linecap: square\"/>\n     </g>\n    </g>\n    <g id=\"xtick_25\">\n     <g id=\"line2d_13\">\n      <path d=\"M 833.95375 254.820625 \nL 833.95375 31.620625 \n\" clip-path=\"url(#p9fd474eed6)\" style=\"fill: none; stroke: #ffffff; stroke-width: 3; stroke-linecap: square\"/>\n     </g>\n    </g>\n   </g>\n   <g id=\"matplotlib.axis_2\">\n    <g id=\"ytick_1\">\n     <g id=\"text_13\">\n      <!-- Death Valley, CA -->\n      <g transform=\"translate(7.2 66.359219) scale(0.18 -0.18)\">\n       <defs>\n        <path id=\"DejaVuSans-68\" d=\"M 3513 2113 \nL 3513 0 \nL 2938 0 \nL 2938 2094 \nQ 2938 2591 2744 2837 \nQ 2550 3084 2163 3084 \nQ 1697 3084 1428 2787 \nQ 1159 2491 1159 1978 \nL 1159 0 \nL 581 0 \nL 581 4863 \nL 1159 4863 \nL 1159 2956 \nQ 1366 3272 1645 3428 \nQ 1925 3584 2291 3584 \nQ 2894 3584 3203 3211 \nQ 3513 2838 3513 2113 \nz\n\" transform=\"scale(0.015625)\"/>\n        <path id=\"DejaVuSans-20\" transform=\"scale(0.015625)\"/>\n        <path id=\"DejaVuSans-56\" d=\"M 1831 0 \nL 50 4666 \nL 709 4666 \nL 2188 738 \nL 3669 4666 \nL 4325 4666 \nL 2547 0 \nL 1831 0 \nz\n\" transform=\"scale(0.015625)\"/>\n        <path id=\"DejaVuSans-2c\" d=\"M 750 794 \nL 1409 794 \nL 1409 256 \nL 897 -744 \nL 494 -744 \nL 750 256 \nL 750 794 \nz\n\" transform=\"scale(0.015625)\"/>\n        <path id=\"DejaVuSans-43\" d=\"M 4122 4306 \nL 4122 3641 \nQ 3803 3938 3442 4084 \nQ 3081 4231 2675 4231 \nQ 1875 4231 1450 3742 \nQ 1025 3253 1025 2328 \nQ 1025 1406 1450 917 \nQ 1875 428 2675 428 \nQ 3081 428 3442 575 \nQ 3803 722 4122 1019 \nL 4122 359 \nQ 3791 134 3420 21 \nQ 3050 -91 2638 -91 \nQ 1578 -91 968 557 \nQ 359 1206 359 2328 \nQ 359 3453 968 4101 \nQ 1578 4750 2638 4750 \nQ 3056 4750 3426 4639 \nQ 3797 4528 4122 4306 \nz\n\" transform=\"scale(0.015625)\"/>\n       </defs>\n       <use xlink:href=\"#DejaVuSans-44\"/>\n       <use xlink:href=\"#DejaVuSans-65\" transform=\"translate(77.001953 0)\"/>\n       <use xlink:href=\"#DejaVuSans-61\" transform=\"translate(138.525391 0)\"/>\n       <use xlink:href=\"#DejaVuSans-74\" transform=\"translate(199.804688 0)\"/>\n       <use xlink:href=\"#DejaVuSans-68\" transform=\"translate(239.013672 0)\"/>\n       <use xlink:href=\"#DejaVuSans-20\" transform=\"translate(302.392578 0)\"/>\n       <use xlink:href=\"#DejaVuSans-56\" transform=\"translate(334.179688 0)\"/>\n       <use xlink:href=\"#DejaVuSans-61\" transform=\"translate(394.837891 0)\"/>\n       <use xlink:href=\"#DejaVuSans-6c\" transform=\"translate(456.117188 0)\"/>\n       <use xlink:href=\"#DejaVuSans-6c\" transform=\"translate(483.900391 0)\"/>\n       <use xlink:href=\"#DejaVuSans-65\" transform=\"translate(511.683594 0)\"/>\n       <use xlink:href=\"#DejaVuSans-79\" transform=\"translate(573.207031 0)\"/>\n       <use xlink:href=\"#DejaVuSans-2c\" transform=\"translate(632.386719 0)\"/>\n       <use xlink:href=\"#DejaVuSans-20\" transform=\"translate(664.173828 0)\"/>\n       <use xlink:href=\"#DejaVuSans-43\" transform=\"translate(695.960938 0)\"/>\n       <use xlink:href=\"#DejaVuSans-41\" transform=\"translate(765.785156 0)\"/>\n      </g>\n     </g>\n    </g>\n    <g id=\"ytick_2\">\n     <g id=\"text_14\">\n      <!-- Houston, TX -->\n      <g transform=\"translate(47.775937 122.159219) scale(0.18 -0.18)\">\n       <defs>\n        <path id=\"DejaVuSans-48\" d=\"M 628 4666 \nL 1259 4666 \nL 1259 2753 \nL 3553 2753 \nL 3553 4666 \nL 4184 4666 \nL 4184 0 \nL 3553 0 \nL 3553 2222 \nL 1259 2222 \nL 1259 0 \nL 628 0 \nL 628 4666 \nz\n\" transform=\"scale(0.015625)\"/>\n        <path id=\"DejaVuSans-73\" d=\"M 2834 3397 \nL 2834 2853 \nQ 2591 2978 2328 3040 \nQ 2066 3103 1784 3103 \nQ 1356 3103 1142 2972 \nQ 928 2841 928 2578 \nQ 928 2378 1081 2264 \nQ 1234 2150 1697 2047 \nL 1894 2003 \nQ 2506 1872 2764 1633 \nQ 3022 1394 3022 966 \nQ 3022 478 2636 193 \nQ 2250 -91 1575 -91 \nQ 1294 -91 989 -36 \nQ 684 19 347 128 \nL 347 722 \nQ 666 556 975 473 \nQ 1284 391 1588 391 \nQ 1994 391 2212 530 \nQ 2431 669 2431 922 \nQ 2431 1156 2273 1281 \nQ 2116 1406 1581 1522 \nL 1381 1569 \nQ 847 1681 609 1914 \nQ 372 2147 372 2553 \nQ 372 3047 722 3315 \nQ 1072 3584 1716 3584 \nQ 2034 3584 2315 3537 \nQ 2597 3491 2834 3397 \nz\n\" transform=\"scale(0.015625)\"/>\n        <path id=\"DejaVuSans-54\" d=\"M -19 4666 \nL 3928 4666 \nL 3928 4134 \nL 2272 4134 \nL 2272 0 \nL 1638 0 \nL 1638 4134 \nL -19 4134 \nL -19 4666 \nz\n\" transform=\"scale(0.015625)\"/>\n        <path id=\"DejaVuSans-58\" d=\"M 403 4666 \nL 1081 4666 \nL 2241 2931 \nL 3406 4666 \nL 4084 4666 \nL 2584 2425 \nL 4184 0 \nL 3506 0 \nL 2194 1984 \nL 872 0 \nL 191 0 \nL 1856 2491 \nL 403 4666 \nz\n\" transform=\"scale(0.015625)\"/>\n       </defs>\n       <use xlink:href=\"#DejaVuSans-48\"/>\n       <use xlink:href=\"#DejaVuSans-6f\" transform=\"translate(75.195312 0)\"/>\n       <use xlink:href=\"#DejaVuSans-75\" transform=\"translate(136.376953 0)\"/>\n       <use xlink:href=\"#DejaVuSans-73\" transform=\"translate(199.755859 0)\"/>\n       <use xlink:href=\"#DejaVuSans-74\" transform=\"translate(251.855469 0)\"/>\n       <use xlink:href=\"#DejaVuSans-6f\" transform=\"translate(291.064453 0)\"/>\n       <use xlink:href=\"#DejaVuSans-6e\" transform=\"translate(352.246094 0)\"/>\n       <use xlink:href=\"#DejaVuSans-2c\" transform=\"translate(415.625 0)\"/>\n       <use xlink:href=\"#DejaVuSans-20\" transform=\"translate(447.412109 0)\"/>\n       <use xlink:href=\"#DejaVuSans-54\" transform=\"translate(479.199219 0)\"/>\n       <use xlink:href=\"#DejaVuSans-58\" transform=\"translate(540.283203 0)\"/>\n      </g>\n     </g>\n    </g>\n    <g id=\"ytick_3\">\n     <g id=\"text_15\">\n      <!-- San Diego, CA -->\n      <g transform=\"translate(29.067187 177.959219) scale(0.18 -0.18)\">\n       <defs>\n        <path id=\"DejaVuSans-69\" d=\"M 603 3500 \nL 1178 3500 \nL 1178 0 \nL 603 0 \nL 603 3500 \nz\nM 603 4863 \nL 1178 4863 \nL 1178 4134 \nL 603 4134 \nL 603 4863 \nz\n\" transform=\"scale(0.015625)\"/>\n       </defs>\n       <use xlink:href=\"#DejaVuSans-53\"/>\n       <use xlink:href=\"#DejaVuSans-61\" transform=\"translate(63.476562 0)\"/>\n       <use xlink:href=\"#DejaVuSans-6e\" transform=\"translate(124.755859 0)\"/>\n       <use xlink:href=\"#DejaVuSans-20\" transform=\"translate(188.134766 0)\"/>\n       <use xlink:href=\"#DejaVuSans-44\" transform=\"translate(219.921875 0)\"/>\n       <use xlink:href=\"#DejaVuSans-69\" transform=\"translate(296.923828 0)\"/>\n       <use xlink:href=\"#DejaVuSans-65\" transform=\"translate(324.707031 0)\"/>\n       <use xlink:href=\"#DejaVuSans-67\" transform=\"translate(386.230469 0)\"/>\n       <use xlink:href=\"#DejaVuSans-6f\" transform=\"translate(449.707031 0)\"/>\n       <use xlink:href=\"#DejaVuSans-2c\" transform=\"translate(510.888672 0)\"/>\n       <use xlink:href=\"#DejaVuSans-20\" transform=\"translate(542.675781 0)\"/>\n       <use xlink:href=\"#DejaVuSans-43\" transform=\"translate(574.462891 0)\"/>\n       <use xlink:href=\"#DejaVuSans-41\" transform=\"translate(644.287109 0)\"/>\n      </g>\n     </g>\n    </g>\n    <g id=\"ytick_4\">\n     <g id=\"text_16\">\n      <!-- Chicago -->\n      <g transform=\"translate(85.007812 233.759219) scale(0.18 -0.18)\">\n       <use xlink:href=\"#DejaVuSans-43\"/>\n       <use xlink:href=\"#DejaVuSans-68\" transform=\"translate(69.824219 0)\"/>\n       <use xlink:href=\"#DejaVuSans-69\" transform=\"translate(133.203125 0)\"/>\n       <use xlink:href=\"#DejaVuSans-63\" transform=\"translate(160.986328 0)\"/>\n       <use xlink:href=\"#DejaVuSans-61\" transform=\"translate(215.966797 0)\"/>\n       <use xlink:href=\"#DejaVuSans-67\" transform=\"translate(277.246094 0)\"/>\n       <use xlink:href=\"#DejaVuSans-6f\" transform=\"translate(340.722656 0)\"/>\n      </g>\n     </g>\n    </g>\n    <g id=\"ytick_5\">\n     <g id=\"line2d_14\">\n      <path d=\"M 164.35375 31.620625 \nL 833.95375 31.620625 \n\" clip-path=\"url(#p9fd474eed6)\" style=\"fill: none; stroke: #ffffff; stroke-width: 3; stroke-linecap: square\"/>\n     </g>\n    </g>\n    <g id=\"ytick_6\">\n     <g id=\"line2d_15\">\n      <path d=\"M 164.35375 87.420625 \nL 833.95375 87.420625 \n\" clip-path=\"url(#p9fd474eed6)\" style=\"fill: none; stroke: #ffffff; stroke-width: 3; stroke-linecap: square\"/>\n     </g>\n    </g>\n    <g id=\"ytick_7\">\n     <g id=\"line2d_16\">\n      <path d=\"M 164.35375 143.220625 \nL 833.95375 143.220625 \n\" clip-path=\"url(#p9fd474eed6)\" style=\"fill: none; stroke: #ffffff; stroke-width: 3; stroke-linecap: square\"/>\n     </g>\n    </g>\n    <g id=\"ytick_8\">\n     <g id=\"line2d_17\">\n      <path d=\"M 164.35375 199.020625 \nL 833.95375 199.020625 \n\" clip-path=\"url(#p9fd474eed6)\" style=\"fill: none; stroke: #ffffff; stroke-width: 3; stroke-linecap: square\"/>\n     </g>\n    </g>\n    <g id=\"ytick_9\">\n     <g id=\"line2d_18\">\n      <path d=\"M 164.35375 254.820625 \nL 833.95375 254.820625 \n\" clip-path=\"url(#p9fd474eed6)\" style=\"fill: none; stroke: #ffffff; stroke-width: 3; stroke-linecap: square\"/>\n     </g>\n    </g>\n   </g>\n  </g>\n  <g id=\"axes_2\">\n   <g id=\"patch_3\">\n    <path d=\"M 928.99375 227.460625 \nL 954.91375 227.460625 \nL 954.91375 76.260625 \nL 928.99375 76.260625 \nz\n\" style=\"fill: #ffffff\"/>\n   </g>\n   <image xlink:href=\"data:image/png;base64,\niVBORw0KGgoAAAANSUhEUgAAACQAAADSCAYAAAAiy2KcAAACDUlEQVR4nO3cwdXdIBBDYcDjv7KUkP4rSeKs2TBLvoVuBTqSGPB72PPX/P0NiBpz3dawUfN5bmvYqLnmbQ0bXmTDcwgTxJV6LK1DWmRcqb0OcZFxgrLKzoAOacveiyzHjzNgqbkOcZFpDn0PJohzKIIa6tMEjZT6DBiZtZWN+rzN9baEHbDUVmKkQ5ggrtQZjA1ehz5Lj7jsLT3isvdOjLcl7IgdshR5x49E1iA6dFvCTn3Wn0FkZJYi0aHbEnYyqTvAyDhB2mNQImvwHOIEZTA2gJFpgrwfrDiHNEHUVeFBOqSV2nNIE+Q5lA6d8QSl1A0pdUc61IE1KKXuSak7xA5Zx/x0qMMTBJb6toSdrLIOLzLQIaxDXGSeoJXIjmSVdRT2vhvoEFdqT9DAIpsZjGdqZpWdKeyC1ai5/t3WsAE6lFKfqaU5xEUGCrotYcfr0MpgPONFxq2yRxOUyBriUEfV5AYj5hDXIU5QaZvr0n5s4CKLoAZvMHIOrTh0RuwQJsg7U3tbBxbZqwniHOLmELjKsMje+fe2hg2xQ1hk3KR+15/bGjbq0RziJnUcavAG46NtHRmMDfVObTBym6tWam4OcQ55gzGRnfEG44/WIe65DCw11iHuQfFnaKXWHOI6xAnCPmE16tUcwj4LO+rBLjIW9tLCqBd7j0KMDBP0YNf0amEfJah3Wt9h5Rz6D51UfkzK3G86AAAAAElFTkSuQmCC\" id=\"imageabe58545fd\" transform=\"scale(1 -1) translate(0 -151.2)\" x=\"928.8\" y=\"-75.6\" width=\"25.92\" height=\"151.2\"/>\n   <g id=\"matplotlib.axis_3\"/>\n   <g id=\"matplotlib.axis_4\">\n    <g id=\"ytick_10\">\n     <g id=\"line2d_19\">\n      <defs>\n       <path id=\"m45ec2817ba\" d=\"M 0 0 \nL 3.5 0 \n\" style=\"stroke: #ffffff; stroke-width: 2\"/>\n      </defs>\n      <g>\n       <use xlink:href=\"#m45ec2817ba\" x=\"928.99375\" y=\"200.4633\" style=\"fill: #ffffff; stroke: #ffffff; stroke-width: 2\"/>\n      </g>\n     </g>\n     <g id=\"line2d_20\">\n      <defs>\n       <path id=\"ma7af22ddcd\" d=\"M 0 0 \nL -3.5 0 \n\" style=\"stroke: #ffffff; stroke-width: 2\"/>\n      </defs>\n      <g>\n       <use xlink:href=\"#ma7af22ddcd\" x=\"954.91375\" y=\"200.4633\" style=\"fill: #ffffff; stroke: #ffffff; stroke-width: 2\"/>\n      </g>\n     </g>\n     <g id=\"text_17\">\n      <!-- 40.0 -->\n      <g transform=\"translate(958.41375 207.301893) scale(0.18 -0.18)\">\n       <defs>\n        <path id=\"DejaVuSans-34\" d=\"M 2419 4116 \nL 825 1625 \nL 2419 1625 \nL 2419 4116 \nz\nM 2253 4666 \nL 3047 4666 \nL 3047 1625 \nL 3713 1625 \nL 3713 1100 \nL 3047 1100 \nL 3047 0 \nL 2419 0 \nL 2419 1100 \nL 313 1100 \nL 313 1709 \nL 2253 4666 \nz\n\" transform=\"scale(0.015625)\"/>\n        <path id=\"DejaVuSans-30\" d=\"M 2034 4250 \nQ 1547 4250 1301 3770 \nQ 1056 3291 1056 2328 \nQ 1056 1369 1301 889 \nQ 1547 409 2034 409 \nQ 2525 409 2770 889 \nQ 3016 1369 3016 2328 \nQ 3016 3291 2770 3770 \nQ 2525 4250 2034 4250 \nz\nM 2034 4750 \nQ 2819 4750 3233 4129 \nQ 3647 3509 3647 2328 \nQ 3647 1150 3233 529 \nQ 2819 -91 2034 -91 \nQ 1250 -91 836 529 \nQ 422 1150 422 2328 \nQ 422 3509 836 4129 \nQ 1250 4750 2034 4750 \nz\n\" transform=\"scale(0.015625)\"/>\n        <path id=\"DejaVuSans-2e\" d=\"M 684 794 \nL 1344 794 \nL 1344 0 \nL 684 0 \nL 684 794 \nz\n\" transform=\"scale(0.015625)\"/>\n       </defs>\n       <use xlink:href=\"#DejaVuSans-34\"/>\n       <use xlink:href=\"#DejaVuSans-30\" transform=\"translate(63.623047 0)\"/>\n       <use xlink:href=\"#DejaVuSans-2e\" transform=\"translate(127.246094 0)\"/>\n       <use xlink:href=\"#DejaVuSans-30\" transform=\"translate(159.033203 0)\"/>\n      </g>\n     </g>\n    </g>\n    <g id=\"ytick_11\">\n     <g id=\"line2d_21\">\n      <g>\n       <use xlink:href=\"#m45ec2817ba\" x=\"928.99375\" y=\"161.770878\" style=\"fill: #ffffff; stroke: #ffffff; stroke-width: 2\"/>\n      </g>\n     </g>\n     <g id=\"line2d_22\">\n      <g>\n       <use xlink:href=\"#ma7af22ddcd\" x=\"954.91375\" y=\"161.770878\" style=\"fill: #ffffff; stroke: #ffffff; stroke-width: 2\"/>\n      </g>\n     </g>\n     <g id=\"text_18\">\n      <!-- 60.0 -->\n      <g transform=\"translate(958.41375 168.609471) scale(0.18 -0.18)\">\n       <defs>\n        <path id=\"DejaVuSans-36\" d=\"M 2113 2584 \nQ 1688 2584 1439 2293 \nQ 1191 2003 1191 1497 \nQ 1191 994 1439 701 \nQ 1688 409 2113 409 \nQ 2538 409 2786 701 \nQ 3034 994 3034 1497 \nQ 3034 2003 2786 2293 \nQ 2538 2584 2113 2584 \nz\nM 3366 4563 \nL 3366 3988 \nQ 3128 4100 2886 4159 \nQ 2644 4219 2406 4219 \nQ 1781 4219 1451 3797 \nQ 1122 3375 1075 2522 \nQ 1259 2794 1537 2939 \nQ 1816 3084 2150 3084 \nQ 2853 3084 3261 2657 \nQ 3669 2231 3669 1497 \nQ 3669 778 3244 343 \nQ 2819 -91 2113 -91 \nQ 1303 -91 875 529 \nQ 447 1150 447 2328 \nQ 447 3434 972 4092 \nQ 1497 4750 2381 4750 \nQ 2619 4750 2861 4703 \nQ 3103 4656 3366 4563 \nz\n\" transform=\"scale(0.015625)\"/>\n       </defs>\n       <use xlink:href=\"#DejaVuSans-36\"/>\n       <use xlink:href=\"#DejaVuSans-30\" transform=\"translate(63.623047 0)\"/>\n       <use xlink:href=\"#DejaVuSans-2e\" transform=\"translate(127.246094 0)\"/>\n       <use xlink:href=\"#DejaVuSans-30\" transform=\"translate(159.033203 0)\"/>\n      </g>\n     </g>\n    </g>\n    <g id=\"ytick_12\">\n     <g id=\"line2d_23\">\n      <g>\n       <use xlink:href=\"#m45ec2817ba\" x=\"928.99375\" y=\"123.078456\" style=\"fill: #ffffff; stroke: #ffffff; stroke-width: 2\"/>\n      </g>\n     </g>\n     <g id=\"line2d_24\">\n      <g>\n       <use xlink:href=\"#ma7af22ddcd\" x=\"954.91375\" y=\"123.078456\" style=\"fill: #ffffff; stroke: #ffffff; stroke-width: 2\"/>\n      </g>\n     </g>\n     <g id=\"text_19\">\n      <!-- 80.0 -->\n      <g transform=\"translate(958.41375 129.917049) scale(0.18 -0.18)\">\n       <defs>\n        <path id=\"DejaVuSans-38\" d=\"M 2034 2216 \nQ 1584 2216 1326 1975 \nQ 1069 1734 1069 1313 \nQ 1069 891 1326 650 \nQ 1584 409 2034 409 \nQ 2484 409 2743 651 \nQ 3003 894 3003 1313 \nQ 3003 1734 2745 1975 \nQ 2488 2216 2034 2216 \nz\nM 1403 2484 \nQ 997 2584 770 2862 \nQ 544 3141 544 3541 \nQ 544 4100 942 4425 \nQ 1341 4750 2034 4750 \nQ 2731 4750 3128 4425 \nQ 3525 4100 3525 3541 \nQ 3525 3141 3298 2862 \nQ 3072 2584 2669 2484 \nQ 3125 2378 3379 2068 \nQ 3634 1759 3634 1313 \nQ 3634 634 3220 271 \nQ 2806 -91 2034 -91 \nQ 1263 -91 848 271 \nQ 434 634 434 1313 \nQ 434 1759 690 2068 \nQ 947 2378 1403 2484 \nz\nM 1172 3481 \nQ 1172 3119 1398 2916 \nQ 1625 2713 2034 2713 \nQ 2441 2713 2670 2916 \nQ 2900 3119 2900 3481 \nQ 2900 3844 2670 4047 \nQ 2441 4250 2034 4250 \nQ 1625 4250 1398 4047 \nQ 1172 3844 1172 3481 \nz\n\" transform=\"scale(0.015625)\"/>\n       </defs>\n       <use xlink:href=\"#DejaVuSans-38\"/>\n       <use xlink:href=\"#DejaVuSans-30\" transform=\"translate(63.623047 0)\"/>\n       <use xlink:href=\"#DejaVuSans-2e\" transform=\"translate(127.246094 0)\"/>\n       <use xlink:href=\"#DejaVuSans-30\" transform=\"translate(159.033203 0)\"/>\n      </g>\n     </g>\n    </g>\n    <g id=\"ytick_13\">\n     <g id=\"line2d_25\">\n      <g>\n       <use xlink:href=\"#m45ec2817ba\" x=\"928.99375\" y=\"84.386034\" style=\"fill: #ffffff; stroke: #ffffff; stroke-width: 2\"/>\n      </g>\n     </g>\n     <g id=\"line2d_26\">\n      <g>\n       <use xlink:href=\"#ma7af22ddcd\" x=\"954.91375\" y=\"84.386034\" style=\"fill: #ffffff; stroke: #ffffff; stroke-width: 2\"/>\n      </g>\n     </g>\n     <g id=\"text_20\">\n      <!-- 100.0 -->\n      <g transform=\"translate(958.41375 91.224627) scale(0.18 -0.18)\">\n       <defs>\n        <path id=\"DejaVuSans-31\" d=\"M 794 531 \nL 1825 531 \nL 1825 4091 \nL 703 3866 \nL 703 4441 \nL 1819 4666 \nL 2450 4666 \nL 2450 531 \nL 3481 531 \nL 3481 0 \nL 794 0 \nL 794 531 \nz\n\" transform=\"scale(0.015625)\"/>\n       </defs>\n       <use xlink:href=\"#DejaVuSans-31\"/>\n       <use xlink:href=\"#DejaVuSans-30\" transform=\"translate(63.623047 0)\"/>\n       <use xlink:href=\"#DejaVuSans-30\" transform=\"translate(127.246094 0)\"/>\n       <use xlink:href=\"#DejaVuSans-2e\" transform=\"translate(190.869141 0)\"/>\n       <use xlink:href=\"#DejaVuSans-30\" transform=\"translate(222.65625 0)\"/>\n      </g>\n     </g>\n    </g>\n   </g>\n   <g id=\"LineCollection_1\"/>\n   <g id=\"text_21\">\n    <!-- Temperature ($\\degree$F) -->\n    <g transform=\"translate(863.65375 66.260625) scale(0.18 -0.18)\">\n     <defs>\n      <path id=\"DejaVuSans-6d\" d=\"M 3328 2828 \nQ 3544 3216 3844 3400 \nQ 4144 3584 4550 3584 \nQ 5097 3584 5394 3201 \nQ 5691 2819 5691 2113 \nL 5691 0 \nL 5113 0 \nL 5113 2094 \nQ 5113 2597 4934 2840 \nQ 4756 3084 4391 3084 \nQ 3944 3084 3684 2787 \nQ 3425 2491 3425 1978 \nL 3425 0 \nL 2847 0 \nL 2847 2094 \nQ 2847 2600 2669 2842 \nQ 2491 3084 2119 3084 \nQ 1678 3084 1418 2786 \nQ 1159 2488 1159 1978 \nL 1159 0 \nL 581 0 \nL 581 3500 \nL 1159 3500 \nL 1159 2956 \nQ 1356 3278 1631 3431 \nQ 1906 3584 2284 3584 \nQ 2666 3584 2933 3390 \nQ 3200 3197 3328 2828 \nz\n\" transform=\"scale(0.015625)\"/>\n      <path id=\"DejaVuSans-28\" d=\"M 1984 4856 \nQ 1566 4138 1362 3434 \nQ 1159 2731 1159 2009 \nQ 1159 1288 1364 580 \nQ 1569 -128 1984 -844 \nL 1484 -844 \nQ 1016 -109 783 600 \nQ 550 1309 550 2009 \nQ 550 2706 781 3412 \nQ 1013 4119 1484 4856 \nL 1984 4856 \nz\n\" transform=\"scale(0.015625)\"/>\n      <path id=\"DejaVuSans-b0\" d=\"M 1600 4347 \nQ 1350 4347 1178 4173 \nQ 1006 4000 1006 3750 \nQ 1006 3503 1178 3333 \nQ 1350 3163 1600 3163 \nQ 1850 3163 2022 3333 \nQ 2194 3503 2194 3750 \nQ 2194 3997 2020 4172 \nQ 1847 4347 1600 4347 \nz\nM 1600 4750 \nQ 1800 4750 1984 4673 \nQ 2169 4597 2303 4453 \nQ 2447 4313 2519 4134 \nQ 2591 3956 2591 3750 \nQ 2591 3338 2302 3052 \nQ 2013 2766 1594 2766 \nQ 1172 2766 890 3047 \nQ 609 3328 609 3750 \nQ 609 4169 896 4459 \nQ 1184 4750 1600 4750 \nz\n\" transform=\"scale(0.015625)\"/>\n      <path id=\"DejaVuSans-29\" d=\"M 513 4856 \nL 1013 4856 \nQ 1481 4119 1714 3412 \nQ 1947 2706 1947 2009 \nQ 1947 1309 1714 600 \nQ 1481 -109 1013 -844 \nL 513 -844 \nQ 928 -128 1133 580 \nQ 1338 1288 1338 2009 \nQ 1338 2731 1133 3434 \nQ 928 4138 513 4856 \nz\n\" transform=\"scale(0.015625)\"/>\n     </defs>\n     <use xlink:href=\"#DejaVuSans-54\" transform=\"translate(0 0.125)\"/>\n     <use xlink:href=\"#DejaVuSans-65\" transform=\"translate(61.083984 0.125)\"/>\n     <use xlink:href=\"#DejaVuSans-6d\" transform=\"translate(122.607422 0.125)\"/>\n     <use xlink:href=\"#DejaVuSans-70\" transform=\"translate(220.019531 0.125)\"/>\n     <use xlink:href=\"#DejaVuSans-65\" transform=\"translate(283.496094 0.125)\"/>\n     <use xlink:href=\"#DejaVuSans-72\" transform=\"translate(345.019531 0.125)\"/>\n     <use xlink:href=\"#DejaVuSans-61\" transform=\"translate(386.132812 0.125)\"/>\n     <use xlink:href=\"#DejaVuSans-74\" transform=\"translate(447.412109 0.125)\"/>\n     <use xlink:href=\"#DejaVuSans-75\" transform=\"translate(486.621094 0.125)\"/>\n     <use xlink:href=\"#DejaVuSans-72\" transform=\"translate(550 0.125)\"/>\n     <use xlink:href=\"#DejaVuSans-65\" transform=\"translate(591.113281 0.125)\"/>\n     <use xlink:href=\"#DejaVuSans-20\" transform=\"translate(652.636719 0.125)\"/>\n     <use xlink:href=\"#DejaVuSans-28\" transform=\"translate(684.423828 0.125)\"/>\n     <use xlink:href=\"#DejaVuSans-b0\" transform=\"translate(723.4375 0.125)\"/>\n     <use xlink:href=\"#DejaVuSans-46\" transform=\"translate(773.4375 0.125)\"/>\n     <use xlink:href=\"#DejaVuSans-29\" transform=\"translate(830.957031 0.125)\"/>\n    </g>\n   </g>\n  </g>\n </g>\n <defs>\n  <clipPath id=\"p9fd474eed6\">\n   <rect x=\"164.35375\" y=\"31.620625\" width=\"669.6\" height=\"223.2\"/>\n  </clipPath>\n </defs>\n</svg>\n"
     },
     "metadata": {},
     "output_type": "display_data"
    }
   ],
   "execution_count": 49
  },
  {
   "cell_type": "code",
   "metadata": {
    "ExecuteTime": {
     "end_time": "2025-03-15T10:53:28.106310Z",
     "start_time": "2025-03-15T10:53:28.104568Z"
    }
   },
   "source": [],
   "outputs": [],
   "execution_count": null
  },
  {
   "cell_type": "code",
   "metadata": {
    "ExecuteTime": {
     "end_time": "2025-03-15T10:53:28.164763Z",
     "start_time": "2025-03-15T10:53:28.162447Z"
    }
   },
   "source": [],
   "outputs": [],
   "execution_count": null
  },
  {
   "cell_type": "markdown",
   "metadata": {},
   "source": [
    "## Appendix"
   ]
  },
  {
   "cell_type": "code",
   "metadata": {
    "ExecuteTime": {
     "end_time": "2025-03-15T10:53:28.227278Z",
     "start_time": "2025-03-15T10:53:28.223817Z"
    }
   },
   "source": [
    "def draw_ellipses_tilted(ax):\n",
    "    ax.set_xlim(0,6)\n",
    "    ax.set_ylim(0,4)\n",
    "\n",
    "    ax.spines[:].set_visible(False)    \n",
    "    ax.set_xticks([])\n",
    "    ax.set_yticks([])\n",
    "\n",
    "    rots = [0, -20, -45, -90]\n",
    "    xs = [0.7, 1.7, 3.0, 4.8]\n",
    "    for x, angle in list(zip(xs, rots)):\n",
    "        ax.add_artist(patches.Ellipse((x, 2), width=0.5, height=2, angle=angle, facecolor=greys[2], lw=2, edgecolor='black'))\n",
    "    \n",
    "    return ax"
   ],
   "outputs": [],
   "execution_count": 50
  },
  {
   "cell_type": "code",
   "metadata": {
    "ExecuteTime": {
     "end_time": "2025-03-15T10:53:28.305507Z",
     "start_time": "2025-03-15T10:53:28.302444Z"
    }
   },
   "source": [
    "def draw_lines_styles(ax):\n",
    "    ax.set_xlim(0,6)\n",
    "    ax.set_ylim(0,4)\n",
    "\n",
    "    ax.spines[:].set_visible(False)    \n",
    "    ax.set_xticks([])\n",
    "    ax.set_yticks([])\n",
    "\n",
    "    lstyles = ['-', '--', '-.', ':']\n",
    "\n",
    "    for i, lstyle in enumerate(lstyles):\n",
    "        ax.plot([1.0, 5.0], [0.5+i, 0.5+i], lw=4, ls=lstyle, color='black')\n",
    "    \n",
    "    return ax"
   ],
   "outputs": [],
   "execution_count": 51
  },
  {
   "cell_type": "code",
   "metadata": {
    "ExecuteTime": {
     "end_time": "2025-03-15T10:53:28.376223Z",
     "start_time": "2025-03-15T10:53:28.362169Z"
    }
   },
   "source": [
    "fig, ax = plt.subplots(figsize=(6, 4))\n",
    "\n",
    "ax = draw_lines_styles(ax)\n",
    "\n",
    "plt.show()"
   ],
   "outputs": [
    {
     "data": {
      "text/plain": [
       "<Figure size 600x400 with 1 Axes>"
      ],
      "image/svg+xml": "<?xml version=\"1.0\" encoding=\"utf-8\" standalone=\"no\"?>\n<!DOCTYPE svg PUBLIC \"-//W3C//DTD SVG 1.1//EN\"\n  \"http://www.w3.org/Graphics/SVG/1.1/DTD/svg11.dtd\">\n<svg xmlns:xlink=\"http://www.w3.org/1999/xlink\" width=\"349.2pt\" height=\"236.16pt\" viewBox=\"0 0 349.2 236.16\" xmlns=\"http://www.w3.org/2000/svg\" version=\"1.1\">\n <metadata>\n  <rdf:RDF xmlns:dc=\"http://purl.org/dc/elements/1.1/\" xmlns:cc=\"http://creativecommons.org/ns#\" xmlns:rdf=\"http://www.w3.org/1999/02/22-rdf-syntax-ns#\">\n   <cc:Work>\n    <dc:type rdf:resource=\"http://purl.org/dc/dcmitype/StillImage\"/>\n    <dc:date>2025-03-15T11:53:28.371145</dc:date>\n    <dc:format>image/svg+xml</dc:format>\n    <dc:creator>\n     <cc:Agent>\n      <dc:title>Matplotlib v3.10.0, https://matplotlib.org/</dc:title>\n     </cc:Agent>\n    </dc:creator>\n   </cc:Work>\n  </rdf:RDF>\n </metadata>\n <defs>\n  <style type=\"text/css\">*{stroke-linejoin: round; stroke-linecap: butt}</style>\n </defs>\n <g id=\"figure_1\">\n  <g id=\"patch_1\">\n   <path d=\"M 0 236.16 \nL 349.2 236.16 \nL 349.2 0 \nL 0 0 \nz\n\" style=\"fill: #ffffff\"/>\n  </g>\n  <g id=\"axes_1\">\n   <g id=\"patch_2\">\n    <path d=\"M 7.2 228.96 \nL 342 228.96 \nL 342 7.2 \nL 7.2 7.2 \nz\n\" style=\"fill: #ffffff\"/>\n   </g>\n   <g id=\"matplotlib.axis_1\"/>\n   <g id=\"matplotlib.axis_2\"/>\n   <g id=\"line2d_1\">\n    <path d=\"M 63 201.24 \nL 286.2 201.24 \n\" clip-path=\"url(#p3d1a462b64)\" style=\"fill: none; stroke: #000000; stroke-width: 4; stroke-linecap: square\"/>\n   </g>\n   <g id=\"line2d_2\">\n    <path d=\"M 63 145.8 \nL 286.2 145.8 \n\" clip-path=\"url(#p3d1a462b64)\" style=\"fill: none; stroke-dasharray: 14.8,6.4; stroke-dashoffset: 0; stroke: #000000; stroke-width: 4\"/>\n   </g>\n   <g id=\"line2d_3\">\n    <path d=\"M 63 90.36 \nL 286.2 90.36 \n\" clip-path=\"url(#p3d1a462b64)\" style=\"fill: none; stroke-dasharray: 25.6,6.4,4,6.4; stroke-dashoffset: 0; stroke: #000000; stroke-width: 4\"/>\n   </g>\n   <g id=\"line2d_4\">\n    <path d=\"M 63 34.92 \nL 286.2 34.92 \n\" clip-path=\"url(#p3d1a462b64)\" style=\"fill: none; stroke-dasharray: 4,6.6; stroke-dashoffset: 0; stroke: #000000; stroke-width: 4\"/>\n   </g>\n  </g>\n </g>\n <defs>\n  <clipPath id=\"p3d1a462b64\">\n   <rect x=\"7.2\" y=\"7.2\" width=\"334.8\" height=\"221.76\"/>\n  </clipPath>\n </defs>\n</svg>\n"
     },
     "metadata": {},
     "output_type": "display_data"
    }
   ],
   "execution_count": 52
  },
  {
   "cell_type": "code",
   "metadata": {
    "ExecuteTime": {
     "end_time": "2025-03-15T10:53:28.401830Z",
     "start_time": "2025-03-15T10:53:28.397816Z"
    }
   },
   "source": [
    "def draw_rectangles_sizes(ax):\n",
    "    ax.set_xlim(0,6)\n",
    "    ax.set_ylim(0,4)\n",
    "\n",
    "    ax.spines[:].set_visible(False)    \n",
    "    ax.set_xticks([])\n",
    "    ax.set_yticks([])\n",
    "\n",
    "    for i, y in enumerate([0.5, 1.5, 2.5, 3.5]):\n",
    "        ax.add_artist(patches.Rectangle((0.5, y-(i+1)*0.1), 5, (i+1)*0.1, facecolor='black', lw=0.1))\n",
    "    \n",
    "    return ax"
   ],
   "outputs": [],
   "execution_count": 53
  },
  {
   "cell_type": "code",
   "metadata": {
    "ExecuteTime": {
     "end_time": "2025-03-15T10:53:28.443068Z",
     "start_time": "2025-03-15T10:53:28.430044Z"
    }
   },
   "source": [
    "fig, ax = plt.subplots(figsize=(6, 4))\n",
    "\n",
    "ax = draw_rectangles_sizes(ax)\n",
    "\n",
    "plt.show()"
   ],
   "outputs": [
    {
     "data": {
      "text/plain": [
       "<Figure size 600x400 with 1 Axes>"
      ],
      "image/svg+xml": "<?xml version=\"1.0\" encoding=\"utf-8\" standalone=\"no\"?>\n<!DOCTYPE svg PUBLIC \"-//W3C//DTD SVG 1.1//EN\"\n  \"http://www.w3.org/Graphics/SVG/1.1/DTD/svg11.dtd\">\n<svg xmlns:xlink=\"http://www.w3.org/1999/xlink\" width=\"349.2pt\" height=\"236.16pt\" viewBox=\"0 0 349.2 236.16\" xmlns=\"http://www.w3.org/2000/svg\" version=\"1.1\">\n <metadata>\n  <rdf:RDF xmlns:dc=\"http://purl.org/dc/elements/1.1/\" xmlns:cc=\"http://creativecommons.org/ns#\" xmlns:rdf=\"http://www.w3.org/1999/02/22-rdf-syntax-ns#\">\n   <cc:Work>\n    <dc:type rdf:resource=\"http://purl.org/dc/dcmitype/StillImage\"/>\n    <dc:date>2025-03-15T11:53:28.437818</dc:date>\n    <dc:format>image/svg+xml</dc:format>\n    <dc:creator>\n     <cc:Agent>\n      <dc:title>Matplotlib v3.10.0, https://matplotlib.org/</dc:title>\n     </cc:Agent>\n    </dc:creator>\n   </cc:Work>\n  </rdf:RDF>\n </metadata>\n <defs>\n  <style type=\"text/css\">*{stroke-linejoin: round; stroke-linecap: butt}</style>\n </defs>\n <g id=\"figure_1\">\n  <g id=\"patch_1\">\n   <path d=\"M 0 236.16 \nL 349.2 236.16 \nL 349.2 0 \nL 0 0 \nz\n\" style=\"fill: #ffffff\"/>\n  </g>\n  <g id=\"axes_1\">\n   <g id=\"patch_2\">\n    <path d=\"M 7.2 228.96 \nL 342 228.96 \nL 342 7.2 \nL 7.2 7.2 \nz\n\" style=\"fill: #ffffff\"/>\n   </g>\n   <g id=\"patch_3\">\n    <path d=\"M 35.1 206.784 \nL 314.1 206.784 \nL 314.1 201.24 \nL 35.1 201.24 \nz\n\" clip-path=\"url(#pc66b3a933e)\"/>\n   </g>\n   <g id=\"patch_4\">\n    <path d=\"M 35.1 156.888 \nL 314.1 156.888 \nL 314.1 145.8 \nL 35.1 145.8 \nz\n\" clip-path=\"url(#pc66b3a933e)\"/>\n   </g>\n   <g id=\"patch_5\">\n    <path d=\"M 35.1 106.992 \nL 314.1 106.992 \nL 314.1 90.36 \nL 35.1 90.36 \nz\n\" clip-path=\"url(#pc66b3a933e)\"/>\n   </g>\n   <g id=\"patch_6\">\n    <path d=\"M 35.1 57.096 \nL 314.1 57.096 \nL 314.1 34.92 \nL 35.1 34.92 \nz\n\" clip-path=\"url(#pc66b3a933e)\"/>\n   </g>\n   <g id=\"matplotlib.axis_1\"/>\n   <g id=\"matplotlib.axis_2\"/>\n  </g>\n </g>\n <defs>\n  <clipPath id=\"pc66b3a933e\">\n   <rect x=\"7.2\" y=\"7.2\" width=\"334.8\" height=\"221.76\"/>\n  </clipPath>\n </defs>\n</svg>\n"
     },
     "metadata": {},
     "output_type": "display_data"
    }
   ],
   "execution_count": 54
  },
  {
   "cell_type": "code",
   "metadata": {
    "ExecuteTime": {
     "end_time": "2025-03-15T10:53:28.465959Z",
     "start_time": "2025-03-15T10:53:28.464001Z"
    }
   },
   "source": [],
   "outputs": [],
   "execution_count": null
  }
 ],
 "metadata": {
  "kernelspec": {
   "display_name": "vdss",
   "language": "python",
   "name": "python3"
  },
  "language_info": {
   "codemirror_mode": {
    "name": "ipython",
    "version": 3
   },
   "file_extension": ".py",
   "mimetype": "text/x-python",
   "name": "python",
   "nbconvert_exporter": "python",
   "pygments_lexer": "ipython3",
   "version": "3.10.13"
  }
 },
 "nbformat": 4,
 "nbformat_minor": 2
}
