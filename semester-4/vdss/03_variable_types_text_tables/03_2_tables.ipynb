{
 "cells": [
  {
   "cell_type": "markdown",
   "id": "03f72a95-1c4b-4e17-9dac-e5a2dfd48b39",
   "metadata": {},
   "source": [
    "# Tables\n",
    "The examples are based on chapter 2 - section \"Simple Text\" in in Cole Nussbaumer Knaflic (2015): Storytelling with Data.\n",
    "\n",
    "The following cells contain the code from the presentation on tables so you can follow along the video. Please note, however, that the Jupyter Notebooks html rendering engine interfers with the styling of the pandas Dataframes when displaying them inline. Therefore, the Dataframes are rendered differently in the notebook as they are styled in css/html. For example, cell borders are not shown.   \n",
    "To circumvent this problem, the html/css representation of the styled dataframe can be saved to a html file (e.g. in the working folder) and opened in a browser, where it is rendered correctly.\n",
    "\n",
    "Styled dataframes can also be exported to Excel files with the `to_excel()` method (use the `engine='openpyxl'` argument because the default Excel writer engine in pandas does not support writing styled DataFrames). However, not all styles can be saved to Excel. Excel has a more limited set of styling options compared to HTML/CSS. For example, Excel does not support gradient color scales, text alignment within cells, or text rotation.\n",
    "\n",
    "A more detailed tutorial on table styling is included in the pandas User Guide: [Table Visualization](https://pandas.pydata.org/docs/user_guide/style.html)"
   ]
  },
  {
   "cell_type": "code",
   "id": "994ec616-03a3-49e3-bb8a-ec41c5da73df",
   "metadata": {
    "ExecuteTime": {
     "end_time": "2025-03-10T10:17:18.691349Z",
     "start_time": "2025-03-10T10:17:18.687882Z"
    }
   },
   "source": [
    "import pandas as pd"
   ],
   "outputs": [],
   "execution_count": 22
  },
  {
   "cell_type": "code",
   "id": "c0556eee",
   "metadata": {
    "ExecuteTime": {
     "end_time": "2025-03-10T10:17:18.710859Z",
     "start_time": "2025-03-10T10:17:18.707489Z"
    }
   },
   "source": [
    "import os\n",
    "from dotenv import load_dotenv"
   ],
   "outputs": [],
   "execution_count": 23
  },
  {
   "cell_type": "code",
   "id": "28713aed",
   "metadata": {
    "ExecuteTime": {
     "end_time": "2025-03-10T10:17:18.724998Z",
     "start_time": "2025-03-10T10:17:18.720079Z"
    }
   },
   "source": [
    "load_dotenv()\n",
    "data_folder = os.getenv('DATA_FOLDER')\n",
    "\n",
    "work_path = os.path.join(os.getenv('OUTPUT_FOLDER'), '03_variable_types_text_tables', '03_2_tables')\n",
    "if work_path and not os.path.exists(work_path):\n",
    "    os.makedirs(work_path)"
   ],
   "outputs": [],
   "execution_count": 24
  },
  {
   "cell_type": "code",
   "id": "a75f8a0d-0a0c-48ee-b6dd-06c7d9b58f84",
   "metadata": {
    "ExecuteTime": {
     "end_time": "2025-03-10T10:17:18.741324Z",
     "start_time": "2025-03-10T10:17:18.737729Z"
    }
   },
   "source": [
    "data = [\n",
    "    {'Category': 'Fruit', 'Food': 'Blueberries', 'Color': 'Blue', 'Calories per serving': 42},\n",
    "    {'Category': 'Fruit', 'Food': 'Banana', 'Color': 'Yellow', 'Calories per serving': 105},\n",
    "    {'Category': 'Vegetable', 'Food': 'Carrot', 'Color': 'Orange', 'Calories per serving': 26},\n",
    "    {'Category': 'Vegetable', 'Food': 'Eggplant', 'Color': 'Purple', 'Calories per serving': 10},\n",
    "    {'Category': 'Fruit', 'Food': 'Apple', 'Color': 'Red', 'Calories per serving': 95},\n",
    "    {'Category': 'Vegetable', 'Food': 'Kale', 'Color': 'Green', 'Calories per serving': 34}\n",
    "]\n",
    "df = pd.DataFrame(data)"
   ],
   "outputs": [],
   "execution_count": 25
  },
  {
   "cell_type": "markdown",
   "id": "969b53ce-667b-4e45-b382-34df0154cc80",
   "metadata": {},
   "source": [
    "## Example"
   ]
  },
  {
   "cell_type": "code",
   "id": "74820889-db5a-4f68-9406-45f756eafbeb",
   "metadata": {
    "ExecuteTime": {
     "end_time": "2025-03-10T10:17:18.765889Z",
     "start_time": "2025-03-10T10:17:18.758184Z"
    }
   },
   "source": [
    "def adjust_style(styler):\n",
    "    styler.hide() # hide index column\n",
    "    \n",
    "    # formatting the table header\n",
    "    # and the value cells\n",
    "    styler.set_table_styles(\n",
    "        [\n",
    "            {'selector': 'th', 'props': 'font-weight: normal; border: None;'}, # cells of header row\n",
    "            {'selector': 'td', 'props': 'background-color: white; border: None;'}, # body cells for data\n",
    "            \n",
    "        ],\n",
    "        overwrite=True\n",
    "    )\n",
    "    \n",
    "    return styler\n",
    "\n",
    "# This will display inline\n",
    "df.style.pipe(adjust_style)"
   ],
   "outputs": [
    {
     "data": {
      "text/plain": [
       "<pandas.io.formats.style.Styler at 0x1284238e0>"
      ],
      "text/html": [
       "<style type=\"text/css\">\n",
       "#T_74712 th {\n",
       "  font-weight: normal;\n",
       "  border: None;\n",
       "}\n",
       "#T_74712 td {\n",
       "  background-color: white;\n",
       "  border: None;\n",
       "}\n",
       "</style>\n",
       "<table id=\"T_74712\">\n",
       "  <thead>\n",
       "    <tr>\n",
       "      <th id=\"T_74712_level0_col0\" class=\"col_heading level0 col0\" >Category</th>\n",
       "      <th id=\"T_74712_level0_col1\" class=\"col_heading level0 col1\" >Food</th>\n",
       "      <th id=\"T_74712_level0_col2\" class=\"col_heading level0 col2\" >Color</th>\n",
       "      <th id=\"T_74712_level0_col3\" class=\"col_heading level0 col3\" >Calories per serving</th>\n",
       "    </tr>\n",
       "  </thead>\n",
       "  <tbody>\n",
       "    <tr>\n",
       "      <td id=\"T_74712_row0_col0\" class=\"data row0 col0\" >Fruit</td>\n",
       "      <td id=\"T_74712_row0_col1\" class=\"data row0 col1\" >Blueberries</td>\n",
       "      <td id=\"T_74712_row0_col2\" class=\"data row0 col2\" >Blue</td>\n",
       "      <td id=\"T_74712_row0_col3\" class=\"data row0 col3\" >42</td>\n",
       "    </tr>\n",
       "    <tr>\n",
       "      <td id=\"T_74712_row1_col0\" class=\"data row1 col0\" >Fruit</td>\n",
       "      <td id=\"T_74712_row1_col1\" class=\"data row1 col1\" >Banana</td>\n",
       "      <td id=\"T_74712_row1_col2\" class=\"data row1 col2\" >Yellow</td>\n",
       "      <td id=\"T_74712_row1_col3\" class=\"data row1 col3\" >105</td>\n",
       "    </tr>\n",
       "    <tr>\n",
       "      <td id=\"T_74712_row2_col0\" class=\"data row2 col0\" >Vegetable</td>\n",
       "      <td id=\"T_74712_row2_col1\" class=\"data row2 col1\" >Carrot</td>\n",
       "      <td id=\"T_74712_row2_col2\" class=\"data row2 col2\" >Orange</td>\n",
       "      <td id=\"T_74712_row2_col3\" class=\"data row2 col3\" >26</td>\n",
       "    </tr>\n",
       "    <tr>\n",
       "      <td id=\"T_74712_row3_col0\" class=\"data row3 col0\" >Vegetable</td>\n",
       "      <td id=\"T_74712_row3_col1\" class=\"data row3 col1\" >Eggplant</td>\n",
       "      <td id=\"T_74712_row3_col2\" class=\"data row3 col2\" >Purple</td>\n",
       "      <td id=\"T_74712_row3_col3\" class=\"data row3 col3\" >10</td>\n",
       "    </tr>\n",
       "    <tr>\n",
       "      <td id=\"T_74712_row4_col0\" class=\"data row4 col0\" >Fruit</td>\n",
       "      <td id=\"T_74712_row4_col1\" class=\"data row4 col1\" >Apple</td>\n",
       "      <td id=\"T_74712_row4_col2\" class=\"data row4 col2\" >Red</td>\n",
       "      <td id=\"T_74712_row4_col3\" class=\"data row4 col3\" >95</td>\n",
       "    </tr>\n",
       "    <tr>\n",
       "      <td id=\"T_74712_row5_col0\" class=\"data row5 col0\" >Vegetable</td>\n",
       "      <td id=\"T_74712_row5_col1\" class=\"data row5 col1\" >Kale</td>\n",
       "      <td id=\"T_74712_row5_col2\" class=\"data row5 col2\" >Green</td>\n",
       "      <td id=\"T_74712_row5_col3\" class=\"data row5 col3\" >34</td>\n",
       "    </tr>\n",
       "  </tbody>\n",
       "</table>\n"
      ]
     },
     "execution_count": 26,
     "metadata": {},
     "output_type": "execute_result"
    }
   ],
   "execution_count": 26
  },
  {
   "cell_type": "markdown",
   "id": "e27f0065",
   "metadata": {},
   "source": [
    "This will save to a file:"
   ]
  },
  {
   "cell_type": "code",
   "id": "a943b3f1",
   "metadata": {
    "ExecuteTime": {
     "end_time": "2025-03-10T10:17:18.800478Z",
     "start_time": "2025-03-10T10:17:18.795447Z"
    }
   },
   "source": [
    "df.style.pipe(adjust_style).to_html(os.path.join(work_path, 'fruits_example.html'))"
   ],
   "outputs": [],
   "execution_count": 27
  },
  {
   "cell_type": "markdown",
   "id": "0c5146c0",
   "metadata": {},
   "source": [
    "In `<our output folder>/03_variable_types_text_tables/03_2_tables/` you will now find the file `fruits_example.html`, which you can open in the browser.\n",
    "\n",
    "If you are working in vscode or another integrated development environment you can add this folder to the workspace and preview (you might need to install a plugin) the produced html file in your development environment next to your code."
   ]
  },
  {
   "cell_type": "markdown",
   "id": "b17b20f9-64aa-4023-9062-45dce0475fbc",
   "metadata": {},
   "source": [
    "## Column Headers\n",
    "Make column headers stand out above the data.  "
   ]
  },
  {
   "cell_type": "code",
   "id": "936ba243-35de-44d9-94c5-c1a6f2778e40",
   "metadata": {
    "ExecuteTime": {
     "end_time": "2025-03-10T10:17:18.855732Z",
     "start_time": "2025-03-10T10:17:18.849677Z"
    }
   },
   "source": [
    "def adjust_style(styler):\n",
    "    styler.hide() # hide index column\n",
    "    \n",
    "    # formatting the table header\n",
    "    # and the value cells\n",
    "    styler.set_table_styles(\n",
    "        [\n",
    "            {'selector': 'th', 'props': 'font-weight: bold; border: None;'},\n",
    "            {'selector': 'td', 'props': 'background-color: white; border: None;'},\n",
    "            \n",
    "        ],\n",
    "        overwrite=False\n",
    "    )\n",
    "    return styler\n",
    "df.style.pipe(adjust_style)"
   ],
   "outputs": [
    {
     "data": {
      "text/plain": [
       "<pandas.io.formats.style.Styler at 0x11aef6140>"
      ],
      "text/html": [
       "<style type=\"text/css\">\n",
       "#T_7a05e th {\n",
       "  font-weight: bold;\n",
       "  border: None;\n",
       "}\n",
       "#T_7a05e td {\n",
       "  background-color: white;\n",
       "  border: None;\n",
       "}\n",
       "</style>\n",
       "<table id=\"T_7a05e\">\n",
       "  <thead>\n",
       "    <tr>\n",
       "      <th id=\"T_7a05e_level0_col0\" class=\"col_heading level0 col0\" >Category</th>\n",
       "      <th id=\"T_7a05e_level0_col1\" class=\"col_heading level0 col1\" >Food</th>\n",
       "      <th id=\"T_7a05e_level0_col2\" class=\"col_heading level0 col2\" >Color</th>\n",
       "      <th id=\"T_7a05e_level0_col3\" class=\"col_heading level0 col3\" >Calories per serving</th>\n",
       "    </tr>\n",
       "  </thead>\n",
       "  <tbody>\n",
       "    <tr>\n",
       "      <td id=\"T_7a05e_row0_col0\" class=\"data row0 col0\" >Fruit</td>\n",
       "      <td id=\"T_7a05e_row0_col1\" class=\"data row0 col1\" >Blueberries</td>\n",
       "      <td id=\"T_7a05e_row0_col2\" class=\"data row0 col2\" >Blue</td>\n",
       "      <td id=\"T_7a05e_row0_col3\" class=\"data row0 col3\" >42</td>\n",
       "    </tr>\n",
       "    <tr>\n",
       "      <td id=\"T_7a05e_row1_col0\" class=\"data row1 col0\" >Fruit</td>\n",
       "      <td id=\"T_7a05e_row1_col1\" class=\"data row1 col1\" >Banana</td>\n",
       "      <td id=\"T_7a05e_row1_col2\" class=\"data row1 col2\" >Yellow</td>\n",
       "      <td id=\"T_7a05e_row1_col3\" class=\"data row1 col3\" >105</td>\n",
       "    </tr>\n",
       "    <tr>\n",
       "      <td id=\"T_7a05e_row2_col0\" class=\"data row2 col0\" >Vegetable</td>\n",
       "      <td id=\"T_7a05e_row2_col1\" class=\"data row2 col1\" >Carrot</td>\n",
       "      <td id=\"T_7a05e_row2_col2\" class=\"data row2 col2\" >Orange</td>\n",
       "      <td id=\"T_7a05e_row2_col3\" class=\"data row2 col3\" >26</td>\n",
       "    </tr>\n",
       "    <tr>\n",
       "      <td id=\"T_7a05e_row3_col0\" class=\"data row3 col0\" >Vegetable</td>\n",
       "      <td id=\"T_7a05e_row3_col1\" class=\"data row3 col1\" >Eggplant</td>\n",
       "      <td id=\"T_7a05e_row3_col2\" class=\"data row3 col2\" >Purple</td>\n",
       "      <td id=\"T_7a05e_row3_col3\" class=\"data row3 col3\" >10</td>\n",
       "    </tr>\n",
       "    <tr>\n",
       "      <td id=\"T_7a05e_row4_col0\" class=\"data row4 col0\" >Fruit</td>\n",
       "      <td id=\"T_7a05e_row4_col1\" class=\"data row4 col1\" >Apple</td>\n",
       "      <td id=\"T_7a05e_row4_col2\" class=\"data row4 col2\" >Red</td>\n",
       "      <td id=\"T_7a05e_row4_col3\" class=\"data row4 col3\" >95</td>\n",
       "    </tr>\n",
       "    <tr>\n",
       "      <td id=\"T_7a05e_row5_col0\" class=\"data row5 col0\" >Vegetable</td>\n",
       "      <td id=\"T_7a05e_row5_col1\" class=\"data row5 col1\" >Kale</td>\n",
       "      <td id=\"T_7a05e_row5_col2\" class=\"data row5 col2\" >Green</td>\n",
       "      <td id=\"T_7a05e_row5_col3\" class=\"data row5 col3\" >34</td>\n",
       "    </tr>\n",
       "  </tbody>\n",
       "</table>\n"
      ]
     },
     "execution_count": 28,
     "metadata": {},
     "output_type": "execute_result"
    }
   ],
   "execution_count": 28
  },
  {
   "cell_type": "code",
   "id": "b8023c07",
   "metadata": {
    "ExecuteTime": {
     "end_time": "2025-03-10T10:17:18.878652Z",
     "start_time": "2025-03-10T10:17:18.873960Z"
    }
   },
   "source": [
    "df.style.pipe(adjust_style).to_html(os.path.join(work_path, 'column_headers.html'))"
   ],
   "outputs": [],
   "execution_count": 29
  },
  {
   "cell_type": "markdown",
   "id": "25edb25f-623e-4243-9669-4bd726960e64",
   "metadata": {},
   "source": [
    "## Alignment\n",
    "Left-align text and right-align numbers for easier reading."
   ]
  },
  {
   "cell_type": "code",
   "id": "c6b4d88b-f4c5-4c37-bf76-8717e30ebb21",
   "metadata": {
    "ExecuteTime": {
     "end_time": "2025-03-10T10:17:18.903106Z",
     "start_time": "2025-03-10T10:17:18.896635Z"
    }
   },
   "source": [
    "def adjust_style(styler):\n",
    "    styler.hide() # hide index column\n",
    "    \n",
    "    # some column specific formatting\n",
    "    # text entries are aligned left and numerical entries right, to increase readability\n",
    "    styler.set_table_styles(\n",
    "        {\n",
    "            'Category': [{'selector': '','props': 'text-align: left;'}],\n",
    "            'Food': [{'selector': '','props': 'text-align: left;'}],\n",
    "            'Color': [{'selector': '','props': 'text-align: left;'}],\n",
    "            'Calories per serving': [{'selector': '','props': 'text-align: right;'}],\n",
    "        }, overwrite=False\n",
    "    )\n",
    "    \n",
    "    # formatting the table header\n",
    "    # and the value cells\n",
    "    styler.set_table_styles(\n",
    "        [\n",
    "            {'selector': 'th', 'props': 'font-weight: bold; border: None;'},\n",
    "            {'selector': 'td', 'props': 'background-color: white; border: None;'},\n",
    "            \n",
    "        ],\n",
    "        overwrite=False\n",
    "    )\n",
    "    \n",
    "    return styler\n",
    "df.style.pipe(adjust_style)"
   ],
   "outputs": [
    {
     "data": {
      "text/plain": [
       "<pandas.io.formats.style.Styler at 0x128423b20>"
      ],
      "text/html": [
       "<style type=\"text/css\">\n",
       "#T_149e8 .col0 {\n",
       "  text-align: left;\n",
       "}\n",
       "#T_149e8 .col1 {\n",
       "  text-align: left;\n",
       "}\n",
       "#T_149e8 .col2 {\n",
       "  text-align: left;\n",
       "}\n",
       "#T_149e8 .col3 {\n",
       "  text-align: right;\n",
       "}\n",
       "#T_149e8 th {\n",
       "  font-weight: bold;\n",
       "  border: None;\n",
       "}\n",
       "#T_149e8 td {\n",
       "  background-color: white;\n",
       "  border: None;\n",
       "}\n",
       "</style>\n",
       "<table id=\"T_149e8\">\n",
       "  <thead>\n",
       "    <tr>\n",
       "      <th id=\"T_149e8_level0_col0\" class=\"col_heading level0 col0\" >Category</th>\n",
       "      <th id=\"T_149e8_level0_col1\" class=\"col_heading level0 col1\" >Food</th>\n",
       "      <th id=\"T_149e8_level0_col2\" class=\"col_heading level0 col2\" >Color</th>\n",
       "      <th id=\"T_149e8_level0_col3\" class=\"col_heading level0 col3\" >Calories per serving</th>\n",
       "    </tr>\n",
       "  </thead>\n",
       "  <tbody>\n",
       "    <tr>\n",
       "      <td id=\"T_149e8_row0_col0\" class=\"data row0 col0\" >Fruit</td>\n",
       "      <td id=\"T_149e8_row0_col1\" class=\"data row0 col1\" >Blueberries</td>\n",
       "      <td id=\"T_149e8_row0_col2\" class=\"data row0 col2\" >Blue</td>\n",
       "      <td id=\"T_149e8_row0_col3\" class=\"data row0 col3\" >42</td>\n",
       "    </tr>\n",
       "    <tr>\n",
       "      <td id=\"T_149e8_row1_col0\" class=\"data row1 col0\" >Fruit</td>\n",
       "      <td id=\"T_149e8_row1_col1\" class=\"data row1 col1\" >Banana</td>\n",
       "      <td id=\"T_149e8_row1_col2\" class=\"data row1 col2\" >Yellow</td>\n",
       "      <td id=\"T_149e8_row1_col3\" class=\"data row1 col3\" >105</td>\n",
       "    </tr>\n",
       "    <tr>\n",
       "      <td id=\"T_149e8_row2_col0\" class=\"data row2 col0\" >Vegetable</td>\n",
       "      <td id=\"T_149e8_row2_col1\" class=\"data row2 col1\" >Carrot</td>\n",
       "      <td id=\"T_149e8_row2_col2\" class=\"data row2 col2\" >Orange</td>\n",
       "      <td id=\"T_149e8_row2_col3\" class=\"data row2 col3\" >26</td>\n",
       "    </tr>\n",
       "    <tr>\n",
       "      <td id=\"T_149e8_row3_col0\" class=\"data row3 col0\" >Vegetable</td>\n",
       "      <td id=\"T_149e8_row3_col1\" class=\"data row3 col1\" >Eggplant</td>\n",
       "      <td id=\"T_149e8_row3_col2\" class=\"data row3 col2\" >Purple</td>\n",
       "      <td id=\"T_149e8_row3_col3\" class=\"data row3 col3\" >10</td>\n",
       "    </tr>\n",
       "    <tr>\n",
       "      <td id=\"T_149e8_row4_col0\" class=\"data row4 col0\" >Fruit</td>\n",
       "      <td id=\"T_149e8_row4_col1\" class=\"data row4 col1\" >Apple</td>\n",
       "      <td id=\"T_149e8_row4_col2\" class=\"data row4 col2\" >Red</td>\n",
       "      <td id=\"T_149e8_row4_col3\" class=\"data row4 col3\" >95</td>\n",
       "    </tr>\n",
       "    <tr>\n",
       "      <td id=\"T_149e8_row5_col0\" class=\"data row5 col0\" >Vegetable</td>\n",
       "      <td id=\"T_149e8_row5_col1\" class=\"data row5 col1\" >Kale</td>\n",
       "      <td id=\"T_149e8_row5_col2\" class=\"data row5 col2\" >Green</td>\n",
       "      <td id=\"T_149e8_row5_col3\" class=\"data row5 col3\" >34</td>\n",
       "    </tr>\n",
       "  </tbody>\n",
       "</table>\n"
      ]
     },
     "execution_count": 30,
     "metadata": {},
     "output_type": "execute_result"
    }
   ],
   "execution_count": 30
  },
  {
   "cell_type": "code",
   "id": "ab46e794",
   "metadata": {
    "ExecuteTime": {
     "end_time": "2025-03-10T10:17:18.920374Z",
     "start_time": "2025-03-10T10:17:18.916125Z"
    }
   },
   "source": [
    "df.style.pipe(adjust_style).to_html(os.path.join(work_path, 'alignment.html'))"
   ],
   "outputs": [],
   "execution_count": 31
  },
  {
   "cell_type": "markdown",
   "id": "2fd1c714-a8a2-4ad3-be90-0171f0a31ecb",
   "metadata": {},
   "source": [
    "## Heavy Borders"
   ]
  },
  {
   "cell_type": "code",
   "id": "1151eb7e-9a74-415c-8d83-769541121c6b",
   "metadata": {
    "ExecuteTime": {
     "end_time": "2025-03-10T10:17:18.934359Z",
     "start_time": "2025-03-10T10:17:18.928799Z"
    }
   },
   "source": [
    "def adjust_style(styler):\n",
    "    styler.hide() # hide index column\n",
    "    \n",
    "    # some column specific formatting\n",
    "    # text entries are aligned left and numerical entries right, to increase readability\n",
    "    styler.set_table_styles(\n",
    "        {\n",
    "            'Category': [{'selector': '','props': 'text-align: left;'}],\n",
    "            'Food': [{'selector': '','props': 'text-align: left;'}],\n",
    "            'Color': [{'selector': '','props': 'text-align: left;'}],\n",
    "            'Calories per serving': [{'selector': '','props': 'text-align: right;'}],\n",
    "        }, overwrite=False\n",
    "    )\n",
    "    \n",
    "    # formatting the table header\n",
    "    # and the value cells\n",
    "    styler.set_table_styles(\n",
    "        [\n",
    "            # this is needed to avoid double borders from neighboring cells:\n",
    "            {'selector': '', 'props': 'border-collapse: collapse;'},\n",
    "            {'selector': 'th', 'props': 'font-weight: bold; background-color: black; color: white; border: 6px solid black;'},\n",
    "            {'selector': 'td', 'props': 'background-color: white; border: 6px solid black;'}\n",
    "        ],\n",
    "        overwrite=False\n",
    "    )\n",
    "    \n",
    "    return styler\n",
    "df.style.pipe(adjust_style)"
   ],
   "outputs": [
    {
     "data": {
      "text/plain": [
       "<pandas.io.formats.style.Styler at 0x128422050>"
      ],
      "text/html": [
       "<style type=\"text/css\">\n",
       "#T_01f55 .col0 {\n",
       "  text-align: left;\n",
       "}\n",
       "#T_01f55 .col1 {\n",
       "  text-align: left;\n",
       "}\n",
       "#T_01f55 .col2 {\n",
       "  text-align: left;\n",
       "}\n",
       "#T_01f55 .col3 {\n",
       "  text-align: right;\n",
       "}\n",
       "#T_01f55  {\n",
       "  border-collapse: collapse;\n",
       "}\n",
       "#T_01f55 th {\n",
       "  font-weight: bold;\n",
       "  background-color: black;\n",
       "  color: white;\n",
       "  border: 6px solid black;\n",
       "}\n",
       "#T_01f55 td {\n",
       "  background-color: white;\n",
       "  border: 6px solid black;\n",
       "}\n",
       "</style>\n",
       "<table id=\"T_01f55\">\n",
       "  <thead>\n",
       "    <tr>\n",
       "      <th id=\"T_01f55_level0_col0\" class=\"col_heading level0 col0\" >Category</th>\n",
       "      <th id=\"T_01f55_level0_col1\" class=\"col_heading level0 col1\" >Food</th>\n",
       "      <th id=\"T_01f55_level0_col2\" class=\"col_heading level0 col2\" >Color</th>\n",
       "      <th id=\"T_01f55_level0_col3\" class=\"col_heading level0 col3\" >Calories per serving</th>\n",
       "    </tr>\n",
       "  </thead>\n",
       "  <tbody>\n",
       "    <tr>\n",
       "      <td id=\"T_01f55_row0_col0\" class=\"data row0 col0\" >Fruit</td>\n",
       "      <td id=\"T_01f55_row0_col1\" class=\"data row0 col1\" >Blueberries</td>\n",
       "      <td id=\"T_01f55_row0_col2\" class=\"data row0 col2\" >Blue</td>\n",
       "      <td id=\"T_01f55_row0_col3\" class=\"data row0 col3\" >42</td>\n",
       "    </tr>\n",
       "    <tr>\n",
       "      <td id=\"T_01f55_row1_col0\" class=\"data row1 col0\" >Fruit</td>\n",
       "      <td id=\"T_01f55_row1_col1\" class=\"data row1 col1\" >Banana</td>\n",
       "      <td id=\"T_01f55_row1_col2\" class=\"data row1 col2\" >Yellow</td>\n",
       "      <td id=\"T_01f55_row1_col3\" class=\"data row1 col3\" >105</td>\n",
       "    </tr>\n",
       "    <tr>\n",
       "      <td id=\"T_01f55_row2_col0\" class=\"data row2 col0\" >Vegetable</td>\n",
       "      <td id=\"T_01f55_row2_col1\" class=\"data row2 col1\" >Carrot</td>\n",
       "      <td id=\"T_01f55_row2_col2\" class=\"data row2 col2\" >Orange</td>\n",
       "      <td id=\"T_01f55_row2_col3\" class=\"data row2 col3\" >26</td>\n",
       "    </tr>\n",
       "    <tr>\n",
       "      <td id=\"T_01f55_row3_col0\" class=\"data row3 col0\" >Vegetable</td>\n",
       "      <td id=\"T_01f55_row3_col1\" class=\"data row3 col1\" >Eggplant</td>\n",
       "      <td id=\"T_01f55_row3_col2\" class=\"data row3 col2\" >Purple</td>\n",
       "      <td id=\"T_01f55_row3_col3\" class=\"data row3 col3\" >10</td>\n",
       "    </tr>\n",
       "    <tr>\n",
       "      <td id=\"T_01f55_row4_col0\" class=\"data row4 col0\" >Fruit</td>\n",
       "      <td id=\"T_01f55_row4_col1\" class=\"data row4 col1\" >Apple</td>\n",
       "      <td id=\"T_01f55_row4_col2\" class=\"data row4 col2\" >Red</td>\n",
       "      <td id=\"T_01f55_row4_col3\" class=\"data row4 col3\" >95</td>\n",
       "    </tr>\n",
       "    <tr>\n",
       "      <td id=\"T_01f55_row5_col0\" class=\"data row5 col0\" >Vegetable</td>\n",
       "      <td id=\"T_01f55_row5_col1\" class=\"data row5 col1\" >Kale</td>\n",
       "      <td id=\"T_01f55_row5_col2\" class=\"data row5 col2\" >Green</td>\n",
       "      <td id=\"T_01f55_row5_col3\" class=\"data row5 col3\" >34</td>\n",
       "    </tr>\n",
       "  </tbody>\n",
       "</table>\n"
      ]
     },
     "execution_count": 32,
     "metadata": {},
     "output_type": "execute_result"
    }
   ],
   "execution_count": 32
  },
  {
   "cell_type": "code",
   "id": "774d45b4",
   "metadata": {
    "ExecuteTime": {
     "end_time": "2025-03-10T10:17:18.952837Z",
     "start_time": "2025-03-10T10:17:18.948727Z"
    }
   },
   "source": [
    "df.style.pipe(adjust_style).to_html(os.path.join(work_path, 'heavy_borders.html'))"
   ],
   "outputs": [],
   "execution_count": 33
  },
  {
   "cell_type": "markdown",
   "id": "e4fa1f2c-3f6a-41c8-92d0-c31702f6ad6e",
   "metadata": {},
   "source": [
    "## General Rule in Table Design\n",
    "\n",
    "The structural elements ot the table should not distract from the data.\n"
   ]
  },
  {
   "cell_type": "markdown",
   "id": "1ce193c8-928b-46b4-805f-b868e14e0196",
   "metadata": {},
   "source": [
    "## Light Borders"
   ]
  },
  {
   "cell_type": "code",
   "id": "e91c475f-636d-4aba-96a3-996ff8bf3707",
   "metadata": {
    "ExecuteTime": {
     "end_time": "2025-03-10T10:17:18.981748Z",
     "start_time": "2025-03-10T10:17:18.967957Z"
    }
   },
   "source": [
    "def adjust_style(styler):\n",
    "    styler.hide() # hide index column\n",
    "    \n",
    "    # some column specific formatting\n",
    "    # text entries are aligned left and numerical entries right, to increase readability\n",
    "    styler.set_table_styles(\n",
    "        {\n",
    "            'Category': [{'selector': '','props': 'text-align: left;'}],\n",
    "            'Food': [{'selector': '','props': 'text-align: left;'}],\n",
    "            'Color': [{'selector': '','props': 'text-align: left;'}],\n",
    "            'Calories per serving': [{'selector': '','props': 'text-align: right;'}],\n",
    "        }, overwrite=False\n",
    "    )\n",
    "    \n",
    "    # formatting the table header\n",
    "    # and the value cells\n",
    "    styler.set_table_styles(\n",
    "        [\n",
    "            # this is needed to avoid double borders from neighboring cells:\n",
    "            {'selector': '', 'props': 'border-collapse: collapse;'},\n",
    "            {'selector': 'th', 'props': 'font-weight: bold; background-color: silver; color: white; border: 1px solid white;'},\n",
    "            {'selector': 'td', 'props': 'background-color: white; border: 1px solid silver;'},\n",
    "            \n",
    "        ],\n",
    "        overwrite=False\n",
    "    )\n",
    "    styler.set_table_styles([{'selector' : '', 'props' : 'border: 2px solid white;'}], overwrite=False)\n",
    "    \n",
    "    return styler\n",
    "df.style.pipe(adjust_style)"
   ],
   "outputs": [
    {
     "data": {
      "text/plain": [
       "<pandas.io.formats.style.Styler at 0x11aef65f0>"
      ],
      "text/html": [
       "<style type=\"text/css\">\n",
       "#T_361fd .col0 {\n",
       "  text-align: left;\n",
       "}\n",
       "#T_361fd .col1 {\n",
       "  text-align: left;\n",
       "}\n",
       "#T_361fd .col2 {\n",
       "  text-align: left;\n",
       "}\n",
       "#T_361fd .col3 {\n",
       "  text-align: right;\n",
       "}\n",
       "#T_361fd  {\n",
       "  border-collapse: collapse;\n",
       "}\n",
       "#T_361fd th {\n",
       "  font-weight: bold;\n",
       "  background-color: silver;\n",
       "  color: white;\n",
       "  border: 1px solid white;\n",
       "}\n",
       "#T_361fd td {\n",
       "  background-color: white;\n",
       "  border: 1px solid silver;\n",
       "}\n",
       "#T_361fd  {\n",
       "  border: 2px solid white;\n",
       "}\n",
       "</style>\n",
       "<table id=\"T_361fd\">\n",
       "  <thead>\n",
       "    <tr>\n",
       "      <th id=\"T_361fd_level0_col0\" class=\"col_heading level0 col0\" >Category</th>\n",
       "      <th id=\"T_361fd_level0_col1\" class=\"col_heading level0 col1\" >Food</th>\n",
       "      <th id=\"T_361fd_level0_col2\" class=\"col_heading level0 col2\" >Color</th>\n",
       "      <th id=\"T_361fd_level0_col3\" class=\"col_heading level0 col3\" >Calories per serving</th>\n",
       "    </tr>\n",
       "  </thead>\n",
       "  <tbody>\n",
       "    <tr>\n",
       "      <td id=\"T_361fd_row0_col0\" class=\"data row0 col0\" >Fruit</td>\n",
       "      <td id=\"T_361fd_row0_col1\" class=\"data row0 col1\" >Blueberries</td>\n",
       "      <td id=\"T_361fd_row0_col2\" class=\"data row0 col2\" >Blue</td>\n",
       "      <td id=\"T_361fd_row0_col3\" class=\"data row0 col3\" >42</td>\n",
       "    </tr>\n",
       "    <tr>\n",
       "      <td id=\"T_361fd_row1_col0\" class=\"data row1 col0\" >Fruit</td>\n",
       "      <td id=\"T_361fd_row1_col1\" class=\"data row1 col1\" >Banana</td>\n",
       "      <td id=\"T_361fd_row1_col2\" class=\"data row1 col2\" >Yellow</td>\n",
       "      <td id=\"T_361fd_row1_col3\" class=\"data row1 col3\" >105</td>\n",
       "    </tr>\n",
       "    <tr>\n",
       "      <td id=\"T_361fd_row2_col0\" class=\"data row2 col0\" >Vegetable</td>\n",
       "      <td id=\"T_361fd_row2_col1\" class=\"data row2 col1\" >Carrot</td>\n",
       "      <td id=\"T_361fd_row2_col2\" class=\"data row2 col2\" >Orange</td>\n",
       "      <td id=\"T_361fd_row2_col3\" class=\"data row2 col3\" >26</td>\n",
       "    </tr>\n",
       "    <tr>\n",
       "      <td id=\"T_361fd_row3_col0\" class=\"data row3 col0\" >Vegetable</td>\n",
       "      <td id=\"T_361fd_row3_col1\" class=\"data row3 col1\" >Eggplant</td>\n",
       "      <td id=\"T_361fd_row3_col2\" class=\"data row3 col2\" >Purple</td>\n",
       "      <td id=\"T_361fd_row3_col3\" class=\"data row3 col3\" >10</td>\n",
       "    </tr>\n",
       "    <tr>\n",
       "      <td id=\"T_361fd_row4_col0\" class=\"data row4 col0\" >Fruit</td>\n",
       "      <td id=\"T_361fd_row4_col1\" class=\"data row4 col1\" >Apple</td>\n",
       "      <td id=\"T_361fd_row4_col2\" class=\"data row4 col2\" >Red</td>\n",
       "      <td id=\"T_361fd_row4_col3\" class=\"data row4 col3\" >95</td>\n",
       "    </tr>\n",
       "    <tr>\n",
       "      <td id=\"T_361fd_row5_col0\" class=\"data row5 col0\" >Vegetable</td>\n",
       "      <td id=\"T_361fd_row5_col1\" class=\"data row5 col1\" >Kale</td>\n",
       "      <td id=\"T_361fd_row5_col2\" class=\"data row5 col2\" >Green</td>\n",
       "      <td id=\"T_361fd_row5_col3\" class=\"data row5 col3\" >34</td>\n",
       "    </tr>\n",
       "  </tbody>\n",
       "</table>\n"
      ]
     },
     "execution_count": 34,
     "metadata": {},
     "output_type": "execute_result"
    }
   ],
   "execution_count": 34
  },
  {
   "cell_type": "code",
   "id": "98849d17",
   "metadata": {
    "ExecuteTime": {
     "end_time": "2025-03-10T10:17:19.001506Z",
     "start_time": "2025-03-10T10:17:18.997446Z"
    }
   },
   "source": [
    "df.style.pipe(adjust_style).to_html(os.path.join(work_path, 'light_borders.html'))"
   ],
   "outputs": [],
   "execution_count": 35
  },
  {
   "cell_type": "markdown",
   "id": "411f940d-c094-4e56-bd27-da0eae380078",
   "metadata": {},
   "source": [
    "## Minimal Borders"
   ]
  },
  {
   "cell_type": "code",
   "id": "aa7a479c-6eaf-4e07-b36e-4e2d29f6c96d",
   "metadata": {
    "ExecuteTime": {
     "end_time": "2025-03-10T10:17:19.017935Z",
     "start_time": "2025-03-10T10:17:19.011610Z"
    }
   },
   "source": [
    "def adjust_style(styler):\n",
    "    styler.hide() # hide index column\n",
    "    \n",
    "    # some column specific formatting\n",
    "    styler.set_table_styles(\n",
    "        {\n",
    "            'Category': [{'selector': '','props': 'text-align: left;'}],\n",
    "            'Food': [{'selector': '','props': 'text-align: left;'}],\n",
    "            'Color': [{'selector': '','props': 'text-align: left;'}],\n",
    "            'Calories per serving': [{'selector': '','props': 'text-align: right;'}],\n",
    "        }, overwrite=False\n",
    "    )\n",
    "    \n",
    "    # formatting the table header\n",
    "    # and the value cells\n",
    "    styler.set_table_styles(\n",
    "        [\n",
    "            # this is needed to avoid double borders from neighboring cells:\n",
    "            {'selector': '', 'props': 'border-collapse: collapse;'},\n",
    "            {'selector': 'th', 'props': 'font-weight: bold; border-bottom: 1px solid grey;'},\n",
    "            {'selector': 'td', 'props': 'background-color: white; border: None;'},\n",
    "            \n",
    "        ],\n",
    "        overwrite=False\n",
    "    )\n",
    "    \n",
    "    return styler\n",
    "df.style.pipe(adjust_style)"
   ],
   "outputs": [
    {
     "data": {
      "text/plain": [
       "<pandas.io.formats.style.Styler at 0x1284220b0>"
      ],
      "text/html": [
       "<style type=\"text/css\">\n",
       "#T_63b99 .col0 {\n",
       "  text-align: left;\n",
       "}\n",
       "#T_63b99 .col1 {\n",
       "  text-align: left;\n",
       "}\n",
       "#T_63b99 .col2 {\n",
       "  text-align: left;\n",
       "}\n",
       "#T_63b99 .col3 {\n",
       "  text-align: right;\n",
       "}\n",
       "#T_63b99  {\n",
       "  border-collapse: collapse;\n",
       "}\n",
       "#T_63b99 th {\n",
       "  font-weight: bold;\n",
       "  border-bottom: 1px solid grey;\n",
       "}\n",
       "#T_63b99 td {\n",
       "  background-color: white;\n",
       "  border: None;\n",
       "}\n",
       "</style>\n",
       "<table id=\"T_63b99\">\n",
       "  <thead>\n",
       "    <tr>\n",
       "      <th id=\"T_63b99_level0_col0\" class=\"col_heading level0 col0\" >Category</th>\n",
       "      <th id=\"T_63b99_level0_col1\" class=\"col_heading level0 col1\" >Food</th>\n",
       "      <th id=\"T_63b99_level0_col2\" class=\"col_heading level0 col2\" >Color</th>\n",
       "      <th id=\"T_63b99_level0_col3\" class=\"col_heading level0 col3\" >Calories per serving</th>\n",
       "    </tr>\n",
       "  </thead>\n",
       "  <tbody>\n",
       "    <tr>\n",
       "      <td id=\"T_63b99_row0_col0\" class=\"data row0 col0\" >Fruit</td>\n",
       "      <td id=\"T_63b99_row0_col1\" class=\"data row0 col1\" >Blueberries</td>\n",
       "      <td id=\"T_63b99_row0_col2\" class=\"data row0 col2\" >Blue</td>\n",
       "      <td id=\"T_63b99_row0_col3\" class=\"data row0 col3\" >42</td>\n",
       "    </tr>\n",
       "    <tr>\n",
       "      <td id=\"T_63b99_row1_col0\" class=\"data row1 col0\" >Fruit</td>\n",
       "      <td id=\"T_63b99_row1_col1\" class=\"data row1 col1\" >Banana</td>\n",
       "      <td id=\"T_63b99_row1_col2\" class=\"data row1 col2\" >Yellow</td>\n",
       "      <td id=\"T_63b99_row1_col3\" class=\"data row1 col3\" >105</td>\n",
       "    </tr>\n",
       "    <tr>\n",
       "      <td id=\"T_63b99_row2_col0\" class=\"data row2 col0\" >Vegetable</td>\n",
       "      <td id=\"T_63b99_row2_col1\" class=\"data row2 col1\" >Carrot</td>\n",
       "      <td id=\"T_63b99_row2_col2\" class=\"data row2 col2\" >Orange</td>\n",
       "      <td id=\"T_63b99_row2_col3\" class=\"data row2 col3\" >26</td>\n",
       "    </tr>\n",
       "    <tr>\n",
       "      <td id=\"T_63b99_row3_col0\" class=\"data row3 col0\" >Vegetable</td>\n",
       "      <td id=\"T_63b99_row3_col1\" class=\"data row3 col1\" >Eggplant</td>\n",
       "      <td id=\"T_63b99_row3_col2\" class=\"data row3 col2\" >Purple</td>\n",
       "      <td id=\"T_63b99_row3_col3\" class=\"data row3 col3\" >10</td>\n",
       "    </tr>\n",
       "    <tr>\n",
       "      <td id=\"T_63b99_row4_col0\" class=\"data row4 col0\" >Fruit</td>\n",
       "      <td id=\"T_63b99_row4_col1\" class=\"data row4 col1\" >Apple</td>\n",
       "      <td id=\"T_63b99_row4_col2\" class=\"data row4 col2\" >Red</td>\n",
       "      <td id=\"T_63b99_row4_col3\" class=\"data row4 col3\" >95</td>\n",
       "    </tr>\n",
       "    <tr>\n",
       "      <td id=\"T_63b99_row5_col0\" class=\"data row5 col0\" >Vegetable</td>\n",
       "      <td id=\"T_63b99_row5_col1\" class=\"data row5 col1\" >Kale</td>\n",
       "      <td id=\"T_63b99_row5_col2\" class=\"data row5 col2\" >Green</td>\n",
       "      <td id=\"T_63b99_row5_col3\" class=\"data row5 col3\" >34</td>\n",
       "    </tr>\n",
       "  </tbody>\n",
       "</table>\n"
      ]
     },
     "execution_count": 36,
     "metadata": {},
     "output_type": "execute_result"
    }
   ],
   "execution_count": 36
  },
  {
   "cell_type": "code",
   "id": "42dda11c",
   "metadata": {
    "ExecuteTime": {
     "end_time": "2025-03-10T10:17:19.034296Z",
     "start_time": "2025-03-10T10:17:19.030295Z"
    }
   },
   "source": [
    "df.style.pipe(adjust_style).to_html(os.path.join(work_path, 'minimal_borders.html'))"
   ],
   "outputs": [],
   "execution_count": 37
  },
  {
   "cell_type": "markdown",
   "id": "b992d574-3d0d-4301-8145-614a4f6bc24b",
   "metadata": {},
   "source": [
    "## Light Shading to Separate Rows or Columns"
   ]
  },
  {
   "cell_type": "code",
   "id": "a09171ce-23cd-4a35-bc9e-dacf0ba6bb4e",
   "metadata": {
    "ExecuteTime": {
     "end_time": "2025-03-10T10:17:19.048663Z",
     "start_time": "2025-03-10T10:17:19.042397Z"
    }
   },
   "source": [
    "def adjust_style(styler):\n",
    "    styler.hide() # hide index column\n",
    "    \n",
    "    # some column specific formatting\n",
    "    styler.set_table_styles(\n",
    "        {\n",
    "            'Category': [{'selector': '','props': 'text-align: left;'}],\n",
    "            'Food': [{'selector': '','props': 'text-align: left;'}],\n",
    "            'Color': [{'selector': '','props': 'text-align: left;'}],\n",
    "            'Calories per serving': [{'selector': '','props': 'text-align: right;'}],\n",
    "        }, overwrite=True\n",
    "    )\n",
    "    \n",
    "    # formatting the table header\n",
    "    # and every 2nd row\n",
    "    styler.set_table_styles(\n",
    "        [\n",
    "            {'selector': '', 'props': 'border-collapse: collapse;'},\n",
    "            {'selector': 'th', 'props': 'font-weight: bold; border-bottom: 1px solid grey;'},\n",
    "            # select every even-numbered row from the body:\n",
    "            {'selector': 'tbody tr:nth-child(2n)', 'props': 'background-color: #d3d3d3;'},\n",
    "            # to select every odd-numbered row from the table body:\n",
    "            # {'selector': 'tbody tr:nth-child(2n+1)', 'props': 'background-color: #d3d3d3;'},\n",
    "            {'selector': 'td', 'props': 'border: none;'}\n",
    "            \n",
    "        ],\n",
    "        overwrite=False\n",
    "    )\n",
    "    \n",
    "    return styler\n",
    "df.style.pipe(adjust_style)"
   ],
   "outputs": [
    {
     "data": {
      "text/plain": [
       "<pandas.io.formats.style.Styler at 0x1284205e0>"
      ],
      "text/html": [
       "<style type=\"text/css\">\n",
       "#T_6f16e .col0 {\n",
       "  text-align: left;\n",
       "}\n",
       "#T_6f16e .col1 {\n",
       "  text-align: left;\n",
       "}\n",
       "#T_6f16e .col2 {\n",
       "  text-align: left;\n",
       "}\n",
       "#T_6f16e .col3 {\n",
       "  text-align: right;\n",
       "}\n",
       "#T_6f16e  {\n",
       "  border-collapse: collapse;\n",
       "}\n",
       "#T_6f16e th {\n",
       "  font-weight: bold;\n",
       "  border-bottom: 1px solid grey;\n",
       "}\n",
       "#T_6f16e tbody tr:nth-child(2n) {\n",
       "  background-color: #d3d3d3;\n",
       "}\n",
       "#T_6f16e td {\n",
       "  border: none;\n",
       "}\n",
       "</style>\n",
       "<table id=\"T_6f16e\">\n",
       "  <thead>\n",
       "    <tr>\n",
       "      <th id=\"T_6f16e_level0_col0\" class=\"col_heading level0 col0\" >Category</th>\n",
       "      <th id=\"T_6f16e_level0_col1\" class=\"col_heading level0 col1\" >Food</th>\n",
       "      <th id=\"T_6f16e_level0_col2\" class=\"col_heading level0 col2\" >Color</th>\n",
       "      <th id=\"T_6f16e_level0_col3\" class=\"col_heading level0 col3\" >Calories per serving</th>\n",
       "    </tr>\n",
       "  </thead>\n",
       "  <tbody>\n",
       "    <tr>\n",
       "      <td id=\"T_6f16e_row0_col0\" class=\"data row0 col0\" >Fruit</td>\n",
       "      <td id=\"T_6f16e_row0_col1\" class=\"data row0 col1\" >Blueberries</td>\n",
       "      <td id=\"T_6f16e_row0_col2\" class=\"data row0 col2\" >Blue</td>\n",
       "      <td id=\"T_6f16e_row0_col3\" class=\"data row0 col3\" >42</td>\n",
       "    </tr>\n",
       "    <tr>\n",
       "      <td id=\"T_6f16e_row1_col0\" class=\"data row1 col0\" >Fruit</td>\n",
       "      <td id=\"T_6f16e_row1_col1\" class=\"data row1 col1\" >Banana</td>\n",
       "      <td id=\"T_6f16e_row1_col2\" class=\"data row1 col2\" >Yellow</td>\n",
       "      <td id=\"T_6f16e_row1_col3\" class=\"data row1 col3\" >105</td>\n",
       "    </tr>\n",
       "    <tr>\n",
       "      <td id=\"T_6f16e_row2_col0\" class=\"data row2 col0\" >Vegetable</td>\n",
       "      <td id=\"T_6f16e_row2_col1\" class=\"data row2 col1\" >Carrot</td>\n",
       "      <td id=\"T_6f16e_row2_col2\" class=\"data row2 col2\" >Orange</td>\n",
       "      <td id=\"T_6f16e_row2_col3\" class=\"data row2 col3\" >26</td>\n",
       "    </tr>\n",
       "    <tr>\n",
       "      <td id=\"T_6f16e_row3_col0\" class=\"data row3 col0\" >Vegetable</td>\n",
       "      <td id=\"T_6f16e_row3_col1\" class=\"data row3 col1\" >Eggplant</td>\n",
       "      <td id=\"T_6f16e_row3_col2\" class=\"data row3 col2\" >Purple</td>\n",
       "      <td id=\"T_6f16e_row3_col3\" class=\"data row3 col3\" >10</td>\n",
       "    </tr>\n",
       "    <tr>\n",
       "      <td id=\"T_6f16e_row4_col0\" class=\"data row4 col0\" >Fruit</td>\n",
       "      <td id=\"T_6f16e_row4_col1\" class=\"data row4 col1\" >Apple</td>\n",
       "      <td id=\"T_6f16e_row4_col2\" class=\"data row4 col2\" >Red</td>\n",
       "      <td id=\"T_6f16e_row4_col3\" class=\"data row4 col3\" >95</td>\n",
       "    </tr>\n",
       "    <tr>\n",
       "      <td id=\"T_6f16e_row5_col0\" class=\"data row5 col0\" >Vegetable</td>\n",
       "      <td id=\"T_6f16e_row5_col1\" class=\"data row5 col1\" >Kale</td>\n",
       "      <td id=\"T_6f16e_row5_col2\" class=\"data row5 col2\" >Green</td>\n",
       "      <td id=\"T_6f16e_row5_col3\" class=\"data row5 col3\" >34</td>\n",
       "    </tr>\n",
       "  </tbody>\n",
       "</table>\n"
      ]
     },
     "execution_count": 38,
     "metadata": {},
     "output_type": "execute_result"
    }
   ],
   "execution_count": 38
  },
  {
   "cell_type": "code",
   "id": "d6ad3e02-b794-41ad-8590-53a151855425",
   "metadata": {
    "ExecuteTime": {
     "end_time": "2025-03-10T10:17:19.069572Z",
     "start_time": "2025-03-10T10:17:19.065466Z"
    }
   },
   "source": [
    "df.style.pipe(adjust_style).to_html(os.path.join(work_path, 'light_shading.html'))"
   ],
   "outputs": [],
   "execution_count": 39
  },
  {
   "cell_type": "markdown",
   "id": "23951088-4ebb-4776-9a3c-7a75e6001ad9",
   "metadata": {},
   "source": [
    "## Highlight Meaningful Patterns\n",
    "by grouping and sorting"
   ]
  },
  {
   "cell_type": "code",
   "id": "137f9c5a-294d-4a7c-a1fe-d2747f67930e",
   "metadata": {
    "ExecuteTime": {
     "end_time": "2025-03-10T10:17:19.084704Z",
     "start_time": "2025-03-10T10:17:19.076666Z"
    }
   },
   "source": [
    "def adjust_style(styler):\n",
    "    styler.hide() # hide index column\n",
    "    \n",
    "    # some column specific formatting\n",
    "    styler.set_table_styles(\n",
    "        {\n",
    "            'Category': [{'selector': '','props': 'text-align: left;'}],\n",
    "            'Food': [{'selector': '','props': 'text-align: left;'}],\n",
    "            'Color': [{'selector': '','props': 'text-align: left;'}],\n",
    "            'Calories per serving': [{'selector': '','props': 'text-align: right;'}],\n",
    "        }, overwrite=False\n",
    "    )\n",
    "    \n",
    "    # formatting the table header\n",
    "    # and every 2nd row\n",
    "    styler.set_table_styles(\n",
    "        [\n",
    "            {'selector': '', 'props': 'border-collapse: collapse;'},\n",
    "            {'selector': 'th', 'props': 'font-weight: bold; border-bottom: 1px solid grey;'},\n",
    "            # select every even-numbered row from the body:\n",
    "            {'selector': 'tbody tr:nth-child(2n)', 'props': 'background-color: #d3d3d3;'},\n",
    "            {'selector': 'td', 'props': 'border: none;'}\n",
    "            \n",
    "        ],\n",
    "        overwrite=False\n",
    "    )\n",
    "    return styler\n",
    "\n",
    "df_dedupl = df.copy(deep=True) # create a copy of the original DataFrame\n",
    "df_dedupl.sort_values(by=['Category', 'Calories per serving'], ascending=[True, False], inplace=True)\n",
    "df_dedupl.loc[df_dedupl['Category'].duplicated(), 'Category']='' # Keep only first occurence of each level in the column 'Category'\n",
    "df_dedupl.style.pipe(adjust_style)"
   ],
   "outputs": [
    {
     "data": {
      "text/plain": [
       "<pandas.io.formats.style.Styler at 0x11aef7b80>"
      ],
      "text/html": [
       "<style type=\"text/css\">\n",
       "#T_01088 .col0 {\n",
       "  text-align: left;\n",
       "}\n",
       "#T_01088 .col1 {\n",
       "  text-align: left;\n",
       "}\n",
       "#T_01088 .col2 {\n",
       "  text-align: left;\n",
       "}\n",
       "#T_01088 .col3 {\n",
       "  text-align: right;\n",
       "}\n",
       "#T_01088  {\n",
       "  border-collapse: collapse;\n",
       "}\n",
       "#T_01088 th {\n",
       "  font-weight: bold;\n",
       "  border-bottom: 1px solid grey;\n",
       "}\n",
       "#T_01088 tbody tr:nth-child(2n) {\n",
       "  background-color: #d3d3d3;\n",
       "}\n",
       "#T_01088 td {\n",
       "  border: none;\n",
       "}\n",
       "</style>\n",
       "<table id=\"T_01088\">\n",
       "  <thead>\n",
       "    <tr>\n",
       "      <th id=\"T_01088_level0_col0\" class=\"col_heading level0 col0\" >Category</th>\n",
       "      <th id=\"T_01088_level0_col1\" class=\"col_heading level0 col1\" >Food</th>\n",
       "      <th id=\"T_01088_level0_col2\" class=\"col_heading level0 col2\" >Color</th>\n",
       "      <th id=\"T_01088_level0_col3\" class=\"col_heading level0 col3\" >Calories per serving</th>\n",
       "    </tr>\n",
       "  </thead>\n",
       "  <tbody>\n",
       "    <tr>\n",
       "      <td id=\"T_01088_row0_col0\" class=\"data row0 col0\" >Fruit</td>\n",
       "      <td id=\"T_01088_row0_col1\" class=\"data row0 col1\" >Banana</td>\n",
       "      <td id=\"T_01088_row0_col2\" class=\"data row0 col2\" >Yellow</td>\n",
       "      <td id=\"T_01088_row0_col3\" class=\"data row0 col3\" >105</td>\n",
       "    </tr>\n",
       "    <tr>\n",
       "      <td id=\"T_01088_row1_col0\" class=\"data row1 col0\" ></td>\n",
       "      <td id=\"T_01088_row1_col1\" class=\"data row1 col1\" >Apple</td>\n",
       "      <td id=\"T_01088_row1_col2\" class=\"data row1 col2\" >Red</td>\n",
       "      <td id=\"T_01088_row1_col3\" class=\"data row1 col3\" >95</td>\n",
       "    </tr>\n",
       "    <tr>\n",
       "      <td id=\"T_01088_row2_col0\" class=\"data row2 col0\" ></td>\n",
       "      <td id=\"T_01088_row2_col1\" class=\"data row2 col1\" >Blueberries</td>\n",
       "      <td id=\"T_01088_row2_col2\" class=\"data row2 col2\" >Blue</td>\n",
       "      <td id=\"T_01088_row2_col3\" class=\"data row2 col3\" >42</td>\n",
       "    </tr>\n",
       "    <tr>\n",
       "      <td id=\"T_01088_row3_col0\" class=\"data row3 col0\" >Vegetable</td>\n",
       "      <td id=\"T_01088_row3_col1\" class=\"data row3 col1\" >Kale</td>\n",
       "      <td id=\"T_01088_row3_col2\" class=\"data row3 col2\" >Green</td>\n",
       "      <td id=\"T_01088_row3_col3\" class=\"data row3 col3\" >34</td>\n",
       "    </tr>\n",
       "    <tr>\n",
       "      <td id=\"T_01088_row4_col0\" class=\"data row4 col0\" ></td>\n",
       "      <td id=\"T_01088_row4_col1\" class=\"data row4 col1\" >Carrot</td>\n",
       "      <td id=\"T_01088_row4_col2\" class=\"data row4 col2\" >Orange</td>\n",
       "      <td id=\"T_01088_row4_col3\" class=\"data row4 col3\" >26</td>\n",
       "    </tr>\n",
       "    <tr>\n",
       "      <td id=\"T_01088_row5_col0\" class=\"data row5 col0\" ></td>\n",
       "      <td id=\"T_01088_row5_col1\" class=\"data row5 col1\" >Eggplant</td>\n",
       "      <td id=\"T_01088_row5_col2\" class=\"data row5 col2\" >Purple</td>\n",
       "      <td id=\"T_01088_row5_col3\" class=\"data row5 col3\" >10</td>\n",
       "    </tr>\n",
       "  </tbody>\n",
       "</table>\n"
      ]
     },
     "execution_count": 40,
     "metadata": {},
     "output_type": "execute_result"
    }
   ],
   "execution_count": 40
  },
  {
   "cell_type": "code",
   "id": "d2321203",
   "metadata": {
    "ExecuteTime": {
     "end_time": "2025-03-10T10:17:19.107660Z",
     "start_time": "2025-03-10T10:17:19.101480Z"
    }
   },
   "source": [
    "df_dedupl.style.pipe(adjust_style).to_html(os.path.join(work_path, 'table_patterns.html'))"
   ],
   "outputs": [],
   "execution_count": 41
  },
  {
   "cell_type": "markdown",
   "id": "d27636ec",
   "metadata": {},
   "source": [
    "## Extra: Including fonts in the css/html\n",
    "\n",
    "The font-family used in the presentation slides is \"Source Sans Pro\""
   ]
  },
  {
   "cell_type": "code",
   "id": "6780a3a4",
   "metadata": {
    "ExecuteTime": {
     "end_time": "2025-03-10T10:25:06.594921Z",
     "start_time": "2025-03-10T10:25:06.582161Z"
    }
   },
   "source": [
    "# for demo purposes we pipe an extra method to the styler\n",
    "# but the style could also be added directly in the adjust_style method\n",
    "def add_font_prop(styler):\n",
    "    styler.set_table_styles(\n",
    "        [\n",
    "            {'selector': '', 'props': 'font-family: \"Source Sans Pro\";'}\n",
    "        ],\n",
    "\n",
    "        # now it is important not to overwrite the properties defined in\n",
    "        # adjust style\n",
    "        overwrite=False\n",
    "    )\n",
    "    return styler\n",
    "\n",
    "# Render to HTML\n",
    "html = df_dedupl.style.pipe(adjust_style).pipe(add_font_prop).to_html(None)\n",
    "\n",
    "# The \"Source Sans Pro\" might not be installed on your system.\n",
    "# So we add the respective Google Fonts link to the HTML\n",
    "html_with_font = '<link href=\"https://fonts.googleapis.com/css2?family=Source+Sans+Pro&display=swap\" rel=\"stylesheet\">\\n' + html\n",
    "\n",
    "# Write to file\n",
    "with open(os.path.join(work_path, 'table_patterns_fancy_font.html'), 'w') as f:\n",
    "    f.write(html_with_font)"
   ],
   "outputs": [],
   "execution_count": 43
  },
  {
   "cell_type": "markdown",
   "id": "07d49aee-6ae0-48b4-8f5d-bf0866dc2944",
   "metadata": {},
   "source": [
    "## Table Design Principles\n",
    "1. Make column headers stand out above the data.\n",
    "2. Left-align text and right-align numbers for easier reading.\n",
    "3. Let the structural components of the table not distract from the data.\n",
    "4. Use light shading to separate rows or columns.\n",
    "5. Group and sort data to highlight meaningful patterns.  "
   ]
  }
 ],
 "metadata": {
  "kernelspec": {
   "display_name": "Python 3 (ipykernel)",
   "language": "python",
   "name": "python3"
  },
  "language_info": {
   "codemirror_mode": {
    "name": "ipython",
    "version": 3
   },
   "file_extension": ".py",
   "mimetype": "text/x-python",
   "name": "python",
   "nbconvert_exporter": "python",
   "pygments_lexer": "ipython3",
   "version": "3.10.13"
  }
 },
 "nbformat": 4,
 "nbformat_minor": 5
}
