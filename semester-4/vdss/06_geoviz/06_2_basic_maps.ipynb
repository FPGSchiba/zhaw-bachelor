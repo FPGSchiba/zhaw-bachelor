{
 "cells": [
  {
   "cell_type": "markdown",
   "id": "68895a10-5e7b-429a-8fb8-36d29d5e2123",
   "metadata": {},
   "source": [
    "# Static Visualisations with Matplotlib"
   ]
  },
  {
   "cell_type": "code",
   "execution_count": null,
   "id": "17c7c745-4a4b-47c1-976d-2355b45e7d3c",
   "metadata": {
    "tags": []
   },
   "outputs": [],
   "source": [
    "import os\n",
    "import geopandas as gpd\n",
    "import contextily as cx\n",
    "import geoplot.crs as gcrs\n",
    "import numpy as np\n",
    "import matplotlib as mpl\n",
    "import matplotlib.pyplot as plt\n",
    "import geoplot as gplt\n",
    "import mapclassify as mc\n",
    "import pandas as pd\n",
    "from dotenv import load_dotenv, find_dotenv"
   ]
  },
  {
   "cell_type": "code",
   "execution_count": null,
   "id": "3d3268e2-7b97-4f07-a8c8-208cb0a249ae",
   "metadata": {
    "tags": []
   },
   "outputs": [],
   "source": [
    "# makes the inline-figures in notebooks look crisper\n",
    "%config InlineBackend.figure_format = 'svg'"
   ]
  },
  {
   "cell_type": "code",
   "execution_count": null,
   "id": "9e5a4c99-68e4-4ee1-b6d8-13aa0d1a919d",
   "metadata": {
    "tags": []
   },
   "outputs": [],
   "source": [
    "load_dotenv(find_dotenv(usecwd=True));"
   ]
  },
  {
   "cell_type": "code",
   "execution_count": null,
   "id": "448c6bca-79ac-42f4-bc68-01191f049630",
   "metadata": {
    "tags": []
   },
   "outputs": [],
   "source": [
    "data_folder=os.getenv('DATA_FOLDER')"
   ]
  },
  {
   "cell_type": "markdown",
   "id": "d587bd37-b9f6-42d6-bd0b-727e65bdc5ad",
   "metadata": {},
   "source": [
    "## Visualising the Swiss cantons"
   ]
  },
  {
   "cell_type": "code",
   "execution_count": null,
   "id": "3b095a32-5c15-415c-9e8f-ac58f6fe993f",
   "metadata": {
    "tags": []
   },
   "outputs": [],
   "source": [
    "cantons = gpd.read_file(os.path.join(data_folder, 'swissboundaries', 'swissBOUNDARIES3D_1_4_TLM_KANTONSGEBIET.shp'))"
   ]
  },
  {
   "cell_type": "code",
   "execution_count": null,
   "id": "d046e78e-ee0b-4ebd-a7aa-d8fdf59048b5",
   "metadata": {
    "tags": []
   },
   "outputs": [],
   "source": [
    "cantons.columns"
   ]
  },
  {
   "cell_type": "code",
   "execution_count": null,
   "id": "dc765beb-3f0c-4eab-bb49-4e872676c267",
   "metadata": {
    "tags": []
   },
   "outputs": [],
   "source": [
    "cantons.head()"
   ]
  },
  {
   "cell_type": "markdown",
   "id": "625ae7e0-d657-4be9-8b42-db55903288cf",
   "metadata": {},
   "source": [
    "**To do**: limit the content of the tooltips!"
   ]
  },
  {
   "cell_type": "code",
   "execution_count": null,
   "id": "61f8e49b-74f3-46a1-a0f8-1ce4b7a44466",
   "metadata": {
    "tags": []
   },
   "outputs": [],
   "source": [
    "cantons.explore()"
   ]
  },
  {
   "cell_type": "markdown",
   "id": "97748fa0-e19d-411a-8391-d644557ada70",
   "metadata": {},
   "source": [
    "## Pointplots"
   ]
  },
  {
   "cell_type": "markdown",
   "id": "165d8ce3-f06f-46dc-b693-91e5dd8c5842",
   "metadata": {},
   "source": [
    "**To Do:** \n",
    "* Scale the markersize by population number\n",
    "* add a legend to the plot\n",
    "* annotate each point with the canton name"
   ]
  },
  {
   "cell_type": "code",
   "execution_count": null,
   "id": "04147a8d-d5a3-48fa-bcd7-7d25da226654",
   "metadata": {
    "tags": []
   },
   "outputs": [],
   "source": [
    "fig, ax = plt.subplots(figsize=(12,12))\n",
    "\n",
    "cantons.boundary.plot(ax=ax, color='grey', linewidth=0.6, alpha=0.5)\n",
    "\n",
    "cantons[~cantons['EINWOHNERZ'].isna()].centroid.plot(ax=ax, marker='o', color='tab:blue', markersize=20)\n",
    "\n",
    "ax.spines[:].set_visible(False)\n",
    "\n",
    "\n",
    "ax.tick_params(left = False, right = False , labelleft = False ,\n",
    "                labelbottom = False, bottom = False)\n",
    "\n",
    "plt.show()"
   ]
  },
  {
   "cell_type": "markdown",
   "id": "863b71f5-d516-44b4-8497-e013f4c6c6f6",
   "metadata": {},
   "source": [
    "## From Pointplots to density plots"
   ]
  },
  {
   "cell_type": "code",
   "execution_count": null,
   "id": "086df253-37d6-437f-985f-7741b08982e2",
   "metadata": {
    "tags": []
   },
   "outputs": [],
   "source": [
    "boroughs = gpd.read_file(gplt.datasets.get_path(\"nyc_boroughs\"))\n",
    "collisions = gpd.read_file(gplt.datasets.get_path(\"nyc_collision_factors\"))"
   ]
  },
  {
   "cell_type": "code",
   "execution_count": null,
   "id": "5b961f44-b66f-4f23-9960-c5d3bea1eae3",
   "metadata": {
    "tags": []
   },
   "outputs": [],
   "source": [
    "boroughs"
   ]
  },
  {
   "cell_type": "code",
   "execution_count": null,
   "id": "f9b1c7a7-e93c-4c6d-8596-cb364f6ced6c",
   "metadata": {
    "tags": []
   },
   "outputs": [],
   "source": [
    "boroughs.crs"
   ]
  },
  {
   "cell_type": "code",
   "execution_count": null,
   "id": "e23d7ab7-c280-44d0-a93b-b8907b993865",
   "metadata": {
    "tags": []
   },
   "outputs": [],
   "source": [
    "collisions"
   ]
  },
  {
   "cell_type": "code",
   "execution_count": null,
   "id": "43bfe7f7-e38e-49ac-b402-2df863c63da0",
   "metadata": {
    "tags": []
   },
   "outputs": [],
   "source": [
    "collisions.explore()"
   ]
  },
  {
   "cell_type": "code",
   "execution_count": null,
   "id": "7ac89492-5b18-49a1-b734-0ee279b934ab",
   "metadata": {
    "tags": []
   },
   "outputs": [],
   "source": [
    "fig, ax = plt.subplots(figsize=(10,10))\n",
    "\n",
    "# boroughs.to_crs(epsg=3857).plot(ax=ax, cmap='Pastel1', alpha=0.8)\n",
    "\n",
    "collisions.to_crs(epsg=3857).plot(ax=ax, marker='o', color='tab:blue', markersize=10)\n",
    "\n",
    "# cx.add_basemap(ax)\n",
    "\n",
    "ax.spines[:].set_visible(False)\n",
    "\n",
    "\n",
    "ax.tick_params(left = False, right = False , labelleft = False ,\n",
    "                labelbottom = False, bottom = False)\n",
    "\n",
    "plt.show()"
   ]
  },
  {
   "cell_type": "code",
   "execution_count": null,
   "id": "e95ab63f-6b76-4070-9acf-fe6e0548799a",
   "metadata": {
    "tags": []
   },
   "outputs": [],
   "source": [
    "collisions.crs"
   ]
  },
  {
   "cell_type": "code",
   "execution_count": null,
   "id": "0476e0b4-103b-41bc-8fa8-d86e3a681d62",
   "metadata": {
    "tags": []
   },
   "outputs": [],
   "source": [
    "ax = gplt.kdeplot(\n",
    "    collisions.head(1000), \n",
    "    # clip=boroughs,\n",
    "     cmap='Reds', fill=True, alpha=0.8\n",
    ")\n",
    "\n",
    "cx.add_basemap(ax, crs=collisions.crs) # 'EPSG:5070'\n",
    "\n",
    "# ax = gplt.polyplot(boroughs, projection=gcrs.AlbersEqualArea())\n",
    "# gplt.kdeplot(collisions, cmap=\"Reds\", fill=True, clip=boroughs, ax=ax)\n",
    "plt.show()"
   ]
  },
  {
   "cell_type": "markdown",
   "id": "7c7cebca-62db-4448-89ac-a00d468c91a3",
   "metadata": {},
   "source": [
    "## Choropleth maps"
   ]
  },
  {
   "cell_type": "code",
   "execution_count": null,
   "id": "d0b3b76e-6fc8-414a-9807-84a78f308c1b",
   "metadata": {
    "tags": []
   },
   "outputs": [],
   "source": [
    "cantons['EWZ_REL'] = cantons['EINWOHNERZ']/cantons.area"
   ]
  },
  {
   "cell_type": "code",
   "execution_count": null,
   "id": "392fba65-3ada-4683-8912-d8de8b579726",
   "metadata": {
    "tags": []
   },
   "outputs": [],
   "source": [
    "fig, ax = plt.subplots(figsize=(12,12))\n",
    "\n",
    "cantons.boundary.plot(ax=ax, color='grey', linewidth=0.6)\n",
    "cantons.plot(ax=ax, column='EWZ_REL', cmap='RdBu_r', \n",
    "             norm=mpl.colors.LogNorm(vmin=cantons.EWZ_REL.min(), vmax=cantons.EWZ_REL.max()),\n",
    "             legend=True,\n",
    "            legend_kwds={\"label\": \"Population in 2014 relative to area\", \"orientation\": \"vertical\",\n",
    "                        'location': 'right', 'shrink': 0.5}\n",
    "            )\n",
    "\n",
    "ax.spines[:].set_visible(False)\n",
    "\n",
    "\n",
    "ax.tick_params(left = False, right = False , labelleft = False ,\n",
    "                labelbottom = False, bottom = False)\n",
    "\n",
    "plt.show()"
   ]
  },
  {
   "cell_type": "markdown",
   "id": "218a1177-7e41-446e-9239-e3809b8396c9",
   "metadata": {},
   "source": [
    "## The Big Mac-price on a worldmap\n",
    "**To do**:\n",
    "* Merge the data frame with the big mac prizes with the geo dataframe of the world's countries boundaries\n",
    "* Create a choropleth map coloring each country by big mac price"
   ]
  },
  {
   "cell_type": "code",
   "execution_count": null,
   "id": "aecf62b0-df6b-45a1-87e3-e8414395140c",
   "metadata": {
    "tags": []
   },
   "outputs": [],
   "source": [
    "df_mac = pd.read_csv(os.path.join(data_folder, 'bigmac', 'big_mac_2020.csv'))"
   ]
  },
  {
   "cell_type": "code",
   "execution_count": null,
   "id": "7a805f0c",
   "metadata": {},
   "outputs": [],
   "source": [
    "worldne = gpd.read_file(os.path.join(data_folder, 'natural_earth', '110m_cultural', 'ne_110m_admin_0_countries.shp'))\n",
    "for c in worldne.columns:\n",
    "    print(c)"
   ]
  },
  {
   "cell_type": "code",
   "execution_count": null,
   "id": "41ba9eb5",
   "metadata": {},
   "outputs": [],
   "source": [
    "worldne[['POP_EST', 'CONTINENT', 'NAME', 'ISO_A3', 'GDP_MD', 'geometry']]"
   ]
  },
  {
   "cell_type": "code",
   "execution_count": null,
   "id": "0f4477a5-91ce-4d18-8656-54f872ea1143",
   "metadata": {
    "tags": []
   },
   "outputs": [],
   "source": [
    "world = gpd.read_file(gpd.datasets.get_path('naturalearth_lowres'))"
   ]
  },
  {
   "cell_type": "code",
   "execution_count": null,
   "id": "39a20e44",
   "metadata": {},
   "outputs": [],
   "source": [
    "world"
   ]
  },
  {
   "cell_type": "code",
   "execution_count": null,
   "id": "b475b5de-7a89-4c5e-8190-e410ab5458b1",
   "metadata": {
    "tags": []
   },
   "outputs": [],
   "source": [
    "world_merged = ..."
   ]
  },
  {
   "cell_type": "markdown",
   "id": "783e4840-33ce-40b1-8b35-3beb9f9c6df2",
   "metadata": {},
   "source": [
    "## Cartograms"
   ]
  },
  {
   "cell_type": "code",
   "execution_count": null,
   "id": "c31f8a68-5d40-472e-a591-e3a791cce160",
   "metadata": {
    "tags": []
   },
   "outputs": [],
   "source": [
    "contiguous_usa = gpd.read_file (gplt.datasets.get_path ('contiguous_usa'))"
   ]
  },
  {
   "cell_type": "code",
   "execution_count": null,
   "id": "9e5ee866-dcb4-470a-9395-e1d6790a0c3d",
   "metadata": {
    "tags": []
   },
   "outputs": [],
   "source": [
    "scheme = mc.Quantiles(contiguous_usa['population'], k=5)"
   ]
  },
  {
   "cell_type": "code",
   "execution_count": null,
   "id": "ef886354-20c0-49a9-978d-0e093736ed68",
   "metadata": {
    "tags": []
   },
   "outputs": [],
   "source": [
    "ax = gplt.cartogram(\n",
    "    contiguous_usa, scale='population', projection=gcrs.AlbersEqualArea(),\n",
    "    legend=True, legend_kwargs={'bbox_to_anchor': (1, 0.9)}, legend_var='hue',\n",
    "    hue='population', scheme=scheme, cmap='Greens',\n",
    "    legend_labels=[\n",
    "        '<1.4 million', '1.4-3.2 million', '3.2-5.6 million',\n",
    "        '5.6-9 million', '9-37 million'\n",
    "    ],\n",
    "    limits=(0.5, 1)\n",
    ")\n",
    "gplt.polyplot(contiguous_usa, facecolor='lightgray', edgecolor='white', ax=ax)\n",
    "\n",
    "plt.show()"
   ]
  },
  {
   "cell_type": "code",
   "execution_count": null,
   "id": "6f48756e-16fa-43b5-99ac-1cce56da7085",
   "metadata": {},
   "outputs": [],
   "source": []
  }
 ],
 "metadata": {
  "kernelspec": {
   "display_name": "Python 3 (ipykernel)",
   "language": "python",
   "name": "python3"
  },
  "language_info": {
   "codemirror_mode": {
    "name": "ipython",
    "version": 3
   },
   "file_extension": ".py",
   "mimetype": "text/x-python",
   "name": "python",
   "nbconvert_exporter": "python",
   "pygments_lexer": "ipython3",
   "version": "3.10.13"
  }
 },
 "nbformat": 4,
 "nbformat_minor": 5
}
