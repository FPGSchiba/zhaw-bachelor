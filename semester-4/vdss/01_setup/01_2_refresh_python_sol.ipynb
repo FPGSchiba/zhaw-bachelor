{
 "cells": [
  {
   "cell_type": "markdown",
   "id": "db917835-ad1d-4013-85c3-0d3076c5471d",
   "metadata": {
    "id": "N6tSs9sf0F9B",
    "tags": []
   },
   "source": [
    "# Exercises\n",
    "##### __(a) Print each character line by line for the sentence \"Im ready and super excited for the course Visualisation and Data Science Storytelling\"__"
   ]
  },
  {
   "cell_type": "code",
   "id": "00cd5a22-3fa4-47cd-bd7a-1702c976d59c",
   "metadata": {
    "colab": {
     "base_uri": "https://localhost:8080/"
    },
    "executionInfo": {
     "elapsed": 161,
     "status": "ok",
     "timestamp": 1632566432517,
     "user": {
      "displayName": "Javier Montoya",
      "photoUrl": "https://lh3.googleusercontent.com/a/default-user=s64",
      "userId": "02745862715554225302"
     },
     "user_tz": -120
    },
    "id": "-3weLoDV0F9B",
    "outputId": "5405168c-75cc-4b95-c0bd-4627ec263904",
    "tags": [],
    "ExecuteTime": {
     "end_time": "2025-02-18T13:36:30.877778Z",
     "start_time": "2025-02-18T13:36:30.876056Z"
    }
   },
   "source": [
    "sentence = \"Im ready and super excited for the course!\""
   ],
   "outputs": [],
   "execution_count": 1
  },
  {
   "cell_type": "code",
   "id": "02e20e7b-1e64-4be5-9207-2c631bf04fbf",
   "metadata": {
    "tags": [],
    "ExecuteTime": {
     "end_time": "2025-02-18T13:36:30.884685Z",
     "start_time": "2025-02-18T13:36:30.882485Z"
    }
   },
   "source": [
    "for c in sentence:\n",
    "    print(c)"
   ],
   "outputs": [
    {
     "name": "stdout",
     "output_type": "stream",
     "text": [
      "I\n",
      "m\n",
      " \n",
      "r\n",
      "e\n",
      "a\n",
      "d\n",
      "y\n",
      " \n",
      "a\n",
      "n\n",
      "d\n",
      " \n",
      "s\n",
      "u\n",
      "p\n",
      "e\n",
      "r\n",
      " \n",
      "e\n",
      "x\n",
      "c\n",
      "i\n",
      "t\n",
      "e\n",
      "d\n",
      " \n",
      "f\n",
      "o\n",
      "r\n",
      " \n",
      "t\n",
      "h\n",
      "e\n",
      " \n",
      "c\n",
      "o\n",
      "u\n",
      "r\n",
      "s\n",
      "e\n",
      "!\n"
     ]
    }
   ],
   "execution_count": 2
  },
  {
   "cell_type": "markdown",
   "id": "f4d1673b-f44f-40bc-8cbb-8a08f8fe82d6",
   "metadata": {},
   "source": [
    "##### __(b) Write a list comprehension to produce a list that contains all integers squared in the range from 0 to 4__"
   ]
  },
  {
   "cell_type": "code",
   "id": "738ac8f6-d172-47b1-aedf-be2da9d7a92b",
   "metadata": {
    "ExecuteTime": {
     "end_time": "2025-02-18T13:36:30.974931Z",
     "start_time": "2025-02-18T13:36:30.971263Z"
    }
   },
   "source": [
    "[x**2 for x in range(5)]"
   ],
   "outputs": [
    {
     "data": {
      "text/plain": [
       "[0, 1, 4, 9, 16]"
      ]
     },
     "execution_count": 3,
     "metadata": {},
     "output_type": "execute_result"
    }
   ],
   "execution_count": 3
  },
  {
   "cell_type": "markdown",
   "id": "7fa62cad-c0f6-48fc-8c4b-44289b25dee1",
   "metadata": {},
   "source": [
    "##### __(c) Create a Dictionary {question: answer} out of the following two lists__"
   ]
  },
  {
   "cell_type": "code",
   "id": "f0ef6abb-5e47-4523-aea7-f9a27194fb1e",
   "metadata": {
    "ExecuteTime": {
     "end_time": "2025-02-18T13:36:30.984750Z",
     "start_time": "2025-02-18T13:36:30.982649Z"
    }
   },
   "source": [
    "questions = ['name', 'quest', 'favorite color']\n",
    "answers = ['lancelot', 'the holy grail', 'blue']"
   ],
   "outputs": [],
   "execution_count": 4
  },
  {
   "cell_type": "code",
   "id": "ff81abcf-3210-4f8a-925b-82d16f706e51",
   "metadata": {
    "ExecuteTime": {
     "end_time": "2025-02-18T13:36:30.994293Z",
     "start_time": "2025-02-18T13:36:30.991123Z"
    }
   },
   "source": [
    "dict(zip(questions, answers))"
   ],
   "outputs": [
    {
     "data": {
      "text/plain": [
       "{'name': 'lancelot', 'quest': 'the holy grail', 'favorite color': 'blue'}"
      ]
     },
     "execution_count": 5,
     "metadata": {},
     "output_type": "execute_result"
    }
   ],
   "execution_count": 5
  },
  {
   "cell_type": "markdown",
   "id": "ec4a66f0-2039-432a-aa61-c2a071bbcdc6",
   "metadata": {
    "tags": []
   },
   "source": [
    "##### __(d) Using Modules: The `sys`-Module__\n",
    "Check your installed Python version. We need a version higher or equal Python 3.8."
   ]
  },
  {
   "cell_type": "code",
   "id": "7e67208a-90aa-4cee-bde9-f5b37afddcfb",
   "metadata": {
    "colab": {
     "base_uri": "https://localhost:8080/"
    },
    "executionInfo": {
     "elapsed": 156,
     "status": "ok",
     "timestamp": 1632566269080,
     "user": {
      "displayName": "Javier Montoya",
      "photoUrl": "https://lh3.googleusercontent.com/a/default-user=s64",
      "userId": "02745862715554225302"
     },
     "user_tz": -120
    },
    "id": "0Jadj57a0F9A",
    "outputId": "497ee09b-7c03-4967-affc-18c9c537e0cc",
    "ExecuteTime": {
     "end_time": "2025-02-18T13:36:31.005711Z",
     "start_time": "2025-02-18T13:36:31.003759Z"
    }
   },
   "source": [
    "import sys"
   ],
   "outputs": [],
   "execution_count": 6
  },
  {
   "cell_type": "code",
   "id": "4fe3d5f8-51bf-4816-99fb-5183959b8978",
   "metadata": {
    "ExecuteTime": {
     "end_time": "2025-02-18T13:36:31.017696Z",
     "start_time": "2025-02-18T13:36:31.015338Z"
    }
   },
   "source": [
    "if sys.version_info >= (3, 8):\n",
    "    print(\"Done. Python >= 3.8 already installed.\")\n",
    "else:\n",
    "    print(\"Python >= 3.8 not installed. Please install a corresponding version.\")"
   ],
   "outputs": [
    {
     "name": "stdout",
     "output_type": "stream",
     "text": [
      "Done. Python >= 3.8 already installed.\n"
     ]
    }
   ],
   "execution_count": 7
  },
  {
   "cell_type": "markdown",
   "id": "e6755a67-ccf0-4ac6-95e4-ffd3432298f8",
   "metadata": {
    "tags": []
   },
   "source": [
    "##### __(e) Install and Use Additional Third-Party Packages__\n",
    "Install the package `wordcloud` into the vdss-conda environment https://anaconda.org/conda-forge/wordcloud\n",
    "\n",
    "Documentation: http://amueller.github.io/word_cloud/"
   ]
  },
  {
   "cell_type": "raw",
   "id": "521d37d3",
   "metadata": {},
   "source": [
    "%conda install -c conda-forge wordcloud"
   ]
  },
  {
   "cell_type": "code",
   "id": "acce64b8-4d72-45f0-8294-bb15e5993b7c",
   "metadata": {
    "tags": [],
    "ExecuteTime": {
     "end_time": "2025-02-18T13:36:31.295985Z",
     "start_time": "2025-02-18T13:36:31.025443Z"
    }
   },
   "source": [
    "from wordcloud import WordCloud\n",
    "import matplotlib.pyplot as plt"
   ],
   "outputs": [],
   "execution_count": 8
  },
  {
   "cell_type": "code",
   "id": "1add1df3-9505-4078-ba43-41d29c0a43b8",
   "metadata": {
    "tags": [],
    "ExecuteTime": {
     "end_time": "2025-02-18T13:36:31.304613Z",
     "start_time": "2025-02-18T13:36:31.301485Z"
    }
   },
   "source": [
    "%config InlineBackend.figure_format = 'svg'"
   ],
   "outputs": [],
   "execution_count": 9
  },
  {
   "cell_type": "code",
   "id": "3b492fb2-9c88-4fc8-bc9f-e311cacb43c1",
   "metadata": {
    "tags": [],
    "ExecuteTime": {
     "end_time": "2025-02-18T13:36:31.385637Z",
     "start_time": "2025-02-18T13:36:31.310310Z"
    }
   },
   "source": [
    "# Generate a word cloud image\n",
    "wordcloud = WordCloud().generate(sentence)\n",
    "\n",
    "# Display the generated image:\n",
    "# the matplotlib way:\n",
    "\n",
    "plt.imshow(wordcloud, interpolation='bilinear')\n",
    "plt.axis('off')\n",
    "plt.show()"
   ],
   "outputs": [
    {
     "data": {
      "text/plain": [
       "<Figure size 640x480 with 1 Axes>"
      ],
      "image/svg+xml": "<?xml version=\"1.0\" encoding=\"utf-8\" standalone=\"no\"?>\n<!DOCTYPE svg PUBLIC \"-//W3C//DTD SVG 1.1//EN\"\n  \"http://www.w3.org/Graphics/SVG/1.1/DTD/svg11.dtd\">\n<svg xmlns:xlink=\"http://www.w3.org/1999/xlink\" width=\"371.52pt\" height=\"192.96pt\" viewBox=\"0 0 371.52 192.96\" xmlns=\"http://www.w3.org/2000/svg\" version=\"1.1\">\n <metadata>\n  <rdf:RDF xmlns:dc=\"http://purl.org/dc/elements/1.1/\" xmlns:cc=\"http://creativecommons.org/ns#\" xmlns:rdf=\"http://www.w3.org/1999/02/22-rdf-syntax-ns#\">\n   <cc:Work>\n    <dc:type rdf:resource=\"http://purl.org/dc/dcmitype/StillImage\"/>\n    <dc:date>2025-02-18T14:36:31.370550</dc:date>\n    <dc:format>image/svg+xml</dc:format>\n    <dc:creator>\n     <cc:Agent>\n      <dc:title>Matplotlib v3.10.0, https://matplotlib.org/</dc:title>\n     </cc:Agent>\n    </dc:creator>\n   </cc:Work>\n  </rdf:RDF>\n </metadata>\n <defs>\n  <style type=\"text/css\">*{stroke-linejoin: round; stroke-linecap: butt}</style>\n </defs>\n <g id=\"figure_1\">\n  <g id=\"patch_1\">\n   <path d=\"M 0 192.96 \nL 371.52 192.96 \nL 371.52 0 \nL 0 0 \nz\n\" style=\"fill: #ffffff\"/>\n  </g>\n  <g id=\"axes_1\">\n   <g clip-path=\"url(#p6ec3e1f196)\">\n    <image xlink:href=\"data:image/png;base64,\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\" id=\"image6c5be6c124\" transform=\"scale(1 -1) translate(0 -178.56)\" x=\"7.2\" y=\"-7.2\" width=\"357.84\" height=\"178.56\"/>\n   </g>\n  </g>\n </g>\n <defs>\n  <clipPath id=\"p6ec3e1f196\">\n   <rect x=\"7.2\" y=\"7.2\" width=\"357.12\" height=\"178.56\"/>\n  </clipPath>\n </defs>\n</svg>\n"
     },
     "metadata": {},
     "output_type": "display_data"
    }
   ],
   "execution_count": 10
  }
 ],
 "metadata": {
  "kernelspec": {
   "display_name": "vdss",
   "language": "python",
   "name": "python3"
  },
  "language_info": {
   "codemirror_mode": {
    "name": "ipython",
    "version": 3
   },
   "file_extension": ".py",
   "mimetype": "text/x-python",
   "name": "python",
   "nbconvert_exporter": "python",
   "pygments_lexer": "ipython3",
   "version": "3.10.16"
  }
 },
 "nbformat": 4,
 "nbformat_minor": 5
}
