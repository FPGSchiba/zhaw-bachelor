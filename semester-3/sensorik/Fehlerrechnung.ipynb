{
 "cells": [
  {
   "cell_type": "markdown",
   "metadata": {},
   "source": [
    "#Fehlerrechnung/Fehlerfortpflanzung\n",
    "--- No warranty that this works with any function ---<br>\n",
    "#### Jens Wagner 06/2015\n",
    "\n",
    "<a  href=\"http://www.physi.uni-heidelberg.de/Einrichtungen/AP/python/Fehlerrechnung.ipynb\"<font> Download this notebook</font></a>\n"
   ]
  },
  {
   "cell_type": "code",
   "metadata": {
    "ExecuteTime": {
     "end_time": "2024-09-30T08:06:51.406471Z",
     "start_time": "2024-09-30T08:06:44.953399Z"
    }
   },
   "source": [
    "# %pip install sympy\n",
    "import sympy as sp\n",
    "from IPython.display import display, Math, Latex"
   ],
   "outputs": [
    {
     "name": "stdout",
     "output_type": "stream",
     "text": [
      "Collecting sympy\r\n",
      "  Downloading sympy-1.13.3-py3-none-any.whl.metadata (12 kB)\r\n",
      "Collecting mpmath<1.4,>=1.1.0 (from sympy)\r\n",
      "  Downloading mpmath-1.3.0-py3-none-any.whl.metadata (8.6 kB)\r\n",
      "Downloading sympy-1.13.3-py3-none-any.whl (6.2 MB)\r\n",
      "\u001B[2K   \u001B[90m━━━━━━━━━━━━━━━━━━━━━━━━━━━━━━━━━━━━━━━━\u001B[0m \u001B[32m6.2/6.2 MB\u001B[0m \u001B[31m32.0 MB/s\u001B[0m eta \u001B[36m0:00:00\u001B[0ma \u001B[36m0:00:01\u001B[0m\r\n",
      "\u001B[?25hDownloading mpmath-1.3.0-py3-none-any.whl (536 kB)\r\n",
      "\u001B[2K   \u001B[90m━━━━━━━━━━━━━━━━━━━━━━━━━━━━━━━━━━━━━━━━\u001B[0m \u001B[32m536.2/536.2 kB\u001B[0m \u001B[31m23.4 MB/s\u001B[0m eta \u001B[36m0:00:00\u001B[0m\r\n",
      "\u001B[?25hInstalling collected packages: mpmath, sympy\r\n",
      "Successfully installed mpmath-1.3.0 sympy-1.13.3\r\n",
      "Note: you may need to restart the kernel to use updated packages.\n"
     ]
    }
   ],
   "execution_count": 1
  },
  {
   "cell_type": "code",
   "metadata": {
    "ExecuteTime": {
     "end_time": "2024-09-30T08:07:37.009454Z",
     "start_time": "2024-09-30T08:07:37.006141Z"
    }
   },
   "source": [
    "#Hier die Variablen deklarieren/ \"d\" ist reserviert und darf nicht verwendet werden\n",
    "p, l,T,R = sp.symbols('p l R T') #hier Eure Variablennamen einsetzen\n",
    "variablen = [p,l,T,R]         #hier Eure Variablennamen einsetzen\n",
    "#Zahlenwerte und Fehlerwerte\n",
    "variablen_werte = [46.3,23.8,301.4,8.1]  #Werte h=2.8, r=4.2, T=2.4 /hier Eure Werte einsetzen\n",
    "fehler_werte = [0.1,0.2,0.6,0.0]   # dito fuer die Fehler /hier Eure Werte einsetzen"
   ],
   "outputs": [],
   "execution_count": 2
  },
  {
   "cell_type": "code",
   "metadata": {
    "ExecuteTime": {
     "end_time": "2024-09-30T08:07:43.934953Z",
     "start_time": "2024-09-30T08:07:43.929032Z"
    }
   },
   "source": [
    "\"\"\"\n",
    "Hier die Funktion deklarieren\n",
    "Potenzen a hoch b: a**b\n",
    "bei Funktionen wie sin, sqrt, etc. den Namensraum \"sp\" vorransetzen z.B. sp.sin()\n",
    "\"\"\"\n",
    "\n",
    "funktion = (p*l**3/(R*T))\n",
    "funktion"
   ],
   "outputs": [
    {
     "data": {
      "text/plain": [
       "l**3*p/(R*T)"
      ],
      "text/latex": "$\\displaystyle \\frac{l^{3} p}{R T}$"
     },
     "execution_count": 3,
     "metadata": {},
     "output_type": "execute_result"
    }
   ],
   "execution_count": 3
  },
  {
   "cell_type": "code",
   "metadata": {
    "ExecuteTime": {
     "end_time": "2024-09-30T08:08:21.246444Z",
     "start_time": "2024-09-30T08:08:21.124838Z"
    }
   },
   "source": [
    "fehler = 0\n",
    "fehlersymbole=[]\n",
    "ableitungen_quadr = []\n",
    "\n",
    "for var in variablen:\n",
    "    d = sp.symbols('d' + var.name)        #Symbole fuer die Fehler generieren\n",
    "    fehlersymbole.append(d)               #Fehlersymbole in Liste eintragen\n",
    "    partial = sp.diff(funktion, var) * d  #Partielle Differentation und mit mit Fehlersymbol 'd' multiplizieren\n",
    "    ableitungen_quadr.append(partial**2)  \n",
    "    fehler = fehler + partial**2\n",
    "\n",
    "fehler_abs=sp.sqrt(fehler)         #Latex Format fuer den absoluten Fehler\n",
    "fehler_rel=sp.simplify(sp.sqrt(fehler/funktion**2))  #Latex Format fuer den relativen Fehler"
   ],
   "outputs": [],
   "execution_count": 4
  },
  {
   "cell_type": "code",
   "metadata": {
    "ExecuteTime": {
     "end_time": "2024-09-30T08:08:23.687745Z",
     "start_time": "2024-09-30T08:08:23.678070Z"
    }
   },
   "source": [
    "#Berechnung der Zahlenwerte\n",
    "funktions_wert=sp.Subs(funktion,variablen,variablen_werte).doit() #Variablenwerte (Zahlen) in Formel einsetzen und\n",
    "                                                                  #Funktionswert berechnen\n",
    "err1=sp.Subs(fehler,variablen,variablen_werte).doit()             #Variablenwerte (Zahlen) in FehlerFormel einsetzen \n",
    "\n",
    "err2=sp.Subs(err1,fehlersymbole,fehler_werte).doit()              #Variablenwerte (Zahlen) in FehlerFormel einsetzen und\n",
    "                                                                  #Funktionswert berechnen"
   ],
   "outputs": [],
   "execution_count": 5
  },
  {
   "cell_type": "code",
   "metadata": {
    "scrolled": true,
    "ExecuteTime": {
     "end_time": "2024-09-30T08:08:26.520357Z",
     "start_time": "2024-09-30T08:08:26.505585Z"
    }
   },
   "source": [
    "#Latex Darstellungen\n",
    "print('Funktion:')\n",
    "display(Math(\"f=\"+sp.latex(funktion)))\n",
    "\n",
    "print('Messwerte:')\n",
    "for i in range(len(variablen)):\n",
    "    display(Math(str(variablen[i])+'='+ str(variablen_werte[i])+'\\pm '+ str(fehler_werte[i])))  #Messwerte mit Fehler\n",
    "\n",
    "print('Absoluter Fehler:')\n",
    "display(Math(r'\\sigma f='+sp.latex(fehler_abs).replace('d',r'\\sigma ')))   #Formel absoluter Fehler\n",
    "print('Relativer Fehler:')\n",
    "display(Math(r\"\\sigma_f/f=\"+sp.latex(fehler_rel).replace('d',r' \\sigma '))) #Formel relativer Fehler\n",
    "display(Math(\"f= %6.2f \\pm %6.2f\" %(funktions_wert,sp.sqrt(err2))))        #Messwert und Wert des absoluten Fehler\n",
    "display(Math(\"f= %6.2f \\pm %6.1f %s\" %(funktions_wert,sp.sqrt(err2)/funktions_wert*100,\" \\%\"))) #dito als relativer Fehler"
   ],
   "outputs": [
    {
     "name": "stdout",
     "output_type": "stream",
     "text": [
      "Funktion:\n"
     ]
    },
    {
     "data": {
      "text/plain": [
       "<IPython.core.display.Math object>"
      ],
      "text/latex": "$\\displaystyle f=\\frac{l^{3} p}{R T}$"
     },
     "metadata": {},
     "output_type": "display_data"
    },
    {
     "name": "stdout",
     "output_type": "stream",
     "text": [
      "Messwerte:\n"
     ]
    },
    {
     "data": {
      "text/plain": [
       "<IPython.core.display.Math object>"
      ],
      "text/latex": "$\\displaystyle p=46.3\\pm 0.1$"
     },
     "metadata": {},
     "output_type": "display_data"
    },
    {
     "data": {
      "text/plain": [
       "<IPython.core.display.Math object>"
      ],
      "text/latex": "$\\displaystyle l=23.8\\pm 0.2$"
     },
     "metadata": {},
     "output_type": "display_data"
    },
    {
     "data": {
      "text/plain": [
       "<IPython.core.display.Math object>"
      ],
      "text/latex": "$\\displaystyle R=301.4\\pm 0.6$"
     },
     "metadata": {},
     "output_type": "display_data"
    },
    {
     "data": {
      "text/plain": [
       "<IPython.core.display.Math object>"
      ],
      "text/latex": "$\\displaystyle T=8.1\\pm 0.0$"
     },
     "metadata": {},
     "output_type": "display_data"
    },
    {
     "name": "stdout",
     "output_type": "stream",
     "text": [
      "Absoluter Fehler:\n"
     ]
    },
    {
     "data": {
      "text/plain": [
       "<IPython.core.display.Math object>"
      ],
      "text/latex": "$\\displaystyle \\sigma f=\\sqrt{\\frac{9 \\sigma l^{2} l^{4} p^{2}}{R^{2} T^{2}} + \\frac{\\sigma p^{2} l^{6}}{R^{2} T^{2}} + \\frac{\\sigma T^{2} l^{6} p^{2}}{R^{2} T^{4}} + \\frac{\\sigma R^{2} l^{6} p^{2}}{R^{4} T^{2}}}$"
     },
     "metadata": {},
     "output_type": "display_data"
    },
    {
     "name": "stdout",
     "output_type": "stream",
     "text": [
      "Relativer Fehler:\n"
     ]
    },
    {
     "data": {
      "text/plain": [
       "<IPython.core.display.Math object>"
      ],
      "text/latex": "$\\displaystyle \\sigma_f/f=\\sqrt{\\frac{9  \\sigma l^{2}}{l^{2}} + \\frac{ \\sigma p^{2}}{p^{2}} + \\frac{ \\sigma T^{2}}{T^{2}} + \\frac{ \\sigma R^{2}}{R^{2}}}$"
     },
     "metadata": {},
     "output_type": "display_data"
    },
    {
     "data": {
      "text/plain": [
       "<IPython.core.display.Math object>"
      ],
      "text/latex": "$\\displaystyle f= 255.67 \\pm   6.49$"
     },
     "metadata": {},
     "output_type": "display_data"
    },
    {
     "data": {
      "text/plain": [
       "<IPython.core.display.Math object>"
      ],
      "text/latex": "$\\displaystyle f= 255.67 \\pm    2.5  \\%$"
     },
     "metadata": {},
     "output_type": "display_data"
    }
   ],
   "execution_count": 6
  },
  {
   "cell_type": "code",
   "execution_count": null,
   "metadata": {},
   "outputs": [],
   "source": []
  },
  {
   "cell_type": "code",
   "execution_count": null,
   "metadata": {},
   "outputs": [],
   "source": []
  },
  {
   "cell_type": "code",
   "execution_count": null,
   "metadata": {},
   "outputs": [],
   "source": []
  },
  {
   "cell_type": "code",
   "execution_count": null,
   "metadata": {},
   "outputs": [],
   "source": []
  }
 ],
 "metadata": {
  "kernelspec": {
   "display_name": "Python 3",
   "language": "python",
   "name": "python3"
  },
  "language_info": {
   "codemirror_mode": {
    "name": "ipython",
    "version": 3
   },
   "file_extension": ".py",
   "mimetype": "text/x-python",
   "name": "python",
   "nbconvert_exporter": "python",
   "pygments_lexer": "ipython3",
   "version": "3.8.3"
  }
 },
 "nbformat": 4,
 "nbformat_minor": 1
}
