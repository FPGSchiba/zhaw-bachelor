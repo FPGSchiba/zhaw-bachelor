{
 "cells": [
  {
   "cell_type": "code",
   "id": "initial_id",
   "metadata": {
    "collapsed": true,
    "ExecuteTime": {
     "end_time": "2024-09-24T09:09:47.243796Z",
     "start_time": "2024-09-24T09:09:47.239060Z"
    }
   },
   "source": "0.8**2/(1-0.8)",
   "outputs": [
    {
     "data": {
      "text/plain": [
       "3.2000000000000015"
      ]
     },
     "execution_count": 2,
     "metadata": {},
     "output_type": "execute_result"
    }
   ],
   "execution_count": 2
  },
  {
   "metadata": {
    "ExecuteTime": {
     "end_time": "2024-09-24T09:24:36.442004Z",
     "start_time": "2024-09-24T09:24:36.438744Z"
    }
   },
   "cell_type": "code",
   "source": "(1-0.8)+0.8*(1-0.8)+0.8**2*(1-0.8)+0.8**3*(1-0.8)",
   "id": "1d13d42390741bd6",
   "outputs": [
    {
     "data": {
      "text/plain": [
       "0.5903999999999999"
      ]
     },
     "execution_count": 7,
     "metadata": {},
     "output_type": "execute_result"
    }
   ],
   "execution_count": 7
  }
 ],
 "metadata": {
  "kernelspec": {
   "display_name": "Python 3",
   "language": "python",
   "name": "python3"
  },
  "language_info": {
   "codemirror_mode": {
    "name": "ipython",
    "version": 2
   },
   "file_extension": ".py",
   "mimetype": "text/x-python",
   "name": "python",
   "nbconvert_exporter": "python",
   "pygments_lexer": "ipython2",
   "version": "2.7.6"
  }
 },
 "nbformat": 4,
 "nbformat_minor": 5
}
