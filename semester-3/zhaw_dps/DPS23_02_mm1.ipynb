{
 "cells": [
  {
   "cell_type": "code",
   "metadata": {
    "ExecuteTime": {
     "end_time": "2024-09-27T09:21:20.099422Z",
     "start_time": "2024-09-27T09:21:20.080455Z"
    }
   },
   "source": [
    "import numpy as np\n",
    "#%pip install simpy seaborn matplotlib\n",
    "import simpy\n",
    "import random\n",
    "import matplotlib.pyplot as plt\n",
    "import seaborn as sns"
   ],
   "outputs": [],
   "execution_count": 1
  },
  {
   "cell_type": "code",
   "metadata": {
    "ExecuteTime": {
     "end_time": "2024-09-27T09:21:21.330226Z",
     "start_time": "2024-09-27T09:21:21.327934Z"
    }
   },
   "source": [
    "# Parameters\n",
    "LAMBDA = 1.0  # Average arrival rate (customers per time unit)\n",
    "MU = 0.1\n",
    "RHO = LAMBDA / MU  # Utilization factor\n",
    "SIM_TIME = 10000  # Simulation time in number of time units\n",
    "\n",
    "times_in_system = []  # List to record time spent in system for each customer\n",
    "num_customers_in_system = []  # Number of customers in the system at regular intervals\n",
    "\n"
   ],
   "outputs": [],
   "execution_count": 2
  },
  {
   "cell_type": "code",
   "metadata": {
    "ExecuteTime": {
     "end_time": "2024-09-27T09:21:23.682767Z",
     "start_time": "2024-09-27T09:21:23.679854Z"
    }
   },
   "source": [
    "# calculation of expected lenght and waiting time in the system \n",
    "LS = RHO/(1-RHO) # Length of the system\n",
    "WS = LS/LAMBDA # Waiting time in the system"
   ],
   "outputs": [
    {
     "name": "stdout",
     "output_type": "stream",
     "text": [
      "Expected number of customers in the system: -1.1111111111111112\n",
      "Expected time a customer spends in the system: -1.1111111111111112\n"
     ]
    }
   ],
   "execution_count": 3
  },
  {
   "cell_type": "code",
   "metadata": {
    "ExecuteTime": {
     "end_time": "2024-09-27T09:21:35.199371Z",
     "start_time": "2024-09-27T09:21:35.196420Z"
    }
   },
   "source": [
    "# simulation processes\n",
    "def customer(env, name, server):\n",
    "    \"\"\"Customer process. Customers arrive and get served.\"\"\"\n",
    "    arrival_time = env.now\n",
    "\n",
    "    # Request a server\n",
    "    with server.request() as req:\n",
    "        yield req\n",
    "\n",
    "        # Server is available, start service\n",
    "        service_time = random.expovariate(MU)\n",
    "        yield env.timeout(service_time)\n",
    "        \n",
    "        # Record the time spent in the system\n",
    "        times_in_system.append(env.now - arrival_time)\n",
    "\n",
    "def source(env, server):\n",
    "    \"\"\"Generate new customers.\"\"\"\n",
    "    i = 0\n",
    "    while True:\n",
    "        yield env.timeout(random.expovariate(LAMBDA)) # Generate new customers at random times\n",
    "        i += 1\n",
    "        env.process(customer(env, f\"Customer-{i}\", server))\n",
    "\n",
    "def monitor(env, server, interval=1):\n",
    "    \"\"\"Monitor the number of customers in the system at regular intervals.\"\"\"\n",
    "    while True:\n",
    "        num_customers_in_system.append(len(server.queue) + server.count)  # server.count is the number of customers currently being served\n",
    "        yield env.timeout(interval)"
   ],
   "outputs": [],
   "execution_count": 4
  },
  {
   "cell_type": "code",
   "metadata": {
    "ExecuteTime": {
     "end_time": "2024-09-27T09:23:31.369209Z",
     "start_time": "2024-09-27T09:23:26.215250Z"
    }
   },
   "source": [
    "# Setup and start the simulation\n",
    "reached = False\n",
    "MU = 0.1\n",
    "quantile_90 = np.float16(0)\n",
    "while not reached:\n",
    "    random.seed(42)\n",
    "    env = simpy.Environment()\n",
    "    \n",
    "    # Start processes and run\n",
    "    server = simpy.Resource(env, capacity=1)\n",
    "    env.process(source(env, server))\n",
    "    env.process(monitor(env, server))\n",
    "    env.run(until=SIM_TIME)\n",
    "    quantile_90 = np.quantile(times_in_system, 0.9)\n",
    "    if quantile_90 < np.float16(1):\n",
    "        reached = True\n",
    "    else:\n",
    "        print(f'Got 90th percentile of {quantile_90}, with service rate {MU}')\n",
    "        MU += 0.05\n",
    "        times_in_system = []  # List to record time spent in system for each customer\n",
    "        num_customers_in_system = []  # Number of customers in the system at regular intervals\n",
    "\n",
    "print(\"Adjusted service rate: {}\".format(MU))\n",
    "print(\"90th percentile of time spent in the system: {}\".format(quantile_90))"
   ],
   "outputs": [
    {
     "name": "stdout",
     "output_type": "stream",
     "text": [
      "Got 90th percentile of 1.813789061661737, with service rate 0.1\n",
      "Got 90th percentile of 7771.557936687285, with service rate 0.15000000000000002\n",
      "Got 90th percentile of 7240.768654421324, with service rate 0.2\n",
      "Got 90th percentile of 6706.64328911752, with service rate 0.25\n",
      "Got 90th percentile of 6250.583888477268, with service rate 0.3\n",
      "Got 90th percentile of 5850.177118607894, with service rate 0.35\n",
      "Got 90th percentile of 5541.525692958584, with service rate 0.39999999999999997\n",
      "Got 90th percentile of 5121.260724824652, with service rate 0.44999999999999996\n",
      "Got 90th percentile of 4384.935973191263, with service rate 0.49999999999999994\n",
      "Got 90th percentile of 4088.9110069483777, with service rate 0.5499999999999999\n",
      "Got 90th percentile of 3588.704441018304, with service rate 0.6\n",
      "Got 90th percentile of 3172.2128516780017, with service rate 0.65\n",
      "Got 90th percentile of 2888.2462165037355, with service rate 0.7000000000000001\n",
      "Got 90th percentile of 2298.4226879541093, with service rate 0.7500000000000001\n",
      "Got 90th percentile of 1740.388499532366, with service rate 0.8000000000000002\n",
      "Got 90th percentile of 1429.6447348011052, with service rate 0.8500000000000002\n",
      "Got 90th percentile of 825.9950519912148, with service rate 0.9000000000000002\n",
      "Got 90th percentile of 360.9473361859583, with service rate 0.9500000000000003\n",
      "Got 90th percentile of 72.14208882734101, with service rate 1.0000000000000002\n",
      "Got 90th percentile of 45.33291632867755, with service rate 1.0500000000000003\n",
      "Got 90th percentile of 35.82489722860402, with service rate 1.1000000000000003\n",
      "Got 90th percentile of 21.955493963391746, with service rate 1.1500000000000004\n",
      "Got 90th percentile of 12.019193109255319, with service rate 1.2000000000000004\n",
      "Got 90th percentile of 11.522736237145905, with service rate 1.2500000000000004\n",
      "Got 90th percentile of 7.131888258622486, with service rate 1.3000000000000005\n",
      "Got 90th percentile of 5.814685602652389, with service rate 1.3500000000000005\n",
      "Got 90th percentile of 5.828162783985249, with service rate 1.4000000000000006\n",
      "Got 90th percentile of 5.076375298679977, with service rate 1.4500000000000006\n",
      "Got 90th percentile of 4.650514993193974, with service rate 1.5000000000000007\n",
      "Got 90th percentile of 4.102359243580964, with service rate 1.5500000000000007\n",
      "Got 90th percentile of 3.990732809650402, with service rate 1.6000000000000008\n",
      "Got 90th percentile of 3.779918022532911, with service rate 1.6500000000000008\n",
      "Got 90th percentile of 3.441502447565565, with service rate 1.7000000000000008\n",
      "Got 90th percentile of 3.1324991069584938, with service rate 1.7500000000000009\n",
      "Got 90th percentile of 2.782622311300112, with service rate 1.800000000000001\n",
      "Got 90th percentile of 2.633659347643334, with service rate 1.850000000000001\n",
      "Got 90th percentile of 2.5670392562248714, with service rate 1.900000000000001\n",
      "Got 90th percentile of 2.446644357047862, with service rate 1.950000000000001\n",
      "Got 90th percentile of 2.43115404004343, with service rate 2.000000000000001\n",
      "Got 90th percentile of 2.281857048534903, with service rate 2.0500000000000007\n",
      "Got 90th percentile of 2.130158574457846, with service rate 2.1000000000000005\n",
      "Got 90th percentile of 1.9928916414210103, with service rate 2.1500000000000004\n",
      "Got 90th percentile of 1.8678264231543154, with service rate 2.2\n",
      "Got 90th percentile of 1.7828758441719401, with service rate 2.25\n",
      "Got 90th percentile of 1.7712298608136736, with service rate 2.3\n",
      "Got 90th percentile of 1.6952256029633197, with service rate 2.3499999999999996\n",
      "Got 90th percentile of 1.665105050769792, with service rate 2.3999999999999995\n",
      "Got 90th percentile of 1.6211947663363393, with service rate 2.4499999999999993\n",
      "Got 90th percentile of 1.5280730136237255, with service rate 2.499999999999999\n",
      "Got 90th percentile of 1.4892872411181548, with service rate 2.549999999999999\n",
      "Got 90th percentile of 1.4578719672707172, with service rate 2.5999999999999988\n",
      "Got 90th percentile of 1.4370166781818174, with service rate 2.6499999999999986\n",
      "Got 90th percentile of 1.3960576990289157, with service rate 2.6999999999999984\n",
      "Got 90th percentile of 1.3583344404020865, with service rate 2.7499999999999982\n",
      "Got 90th percentile of 1.328477223424852, with service rate 2.799999999999998\n",
      "Got 90th percentile of 1.270040165151022, with service rate 2.849999999999998\n",
      "Got 90th percentile of 1.2306581163787087, with service rate 2.8999999999999977\n",
      "Got 90th percentile of 1.2047597615584893, with service rate 2.9499999999999975\n",
      "Got 90th percentile of 1.1890863655975408, with service rate 2.9999999999999973\n",
      "Got 90th percentile of 1.1604617372095052, with service rate 3.049999999999997\n",
      "Got 90th percentile of 1.1425936623908228, with service rate 3.099999999999997\n",
      "Got 90th percentile of 1.1126554124974803, with service rate 3.149999999999997\n",
      "Got 90th percentile of 1.0763077645060553, with service rate 3.1999999999999966\n",
      "Got 90th percentile of 1.0614527168306098, with service rate 3.2499999999999964\n",
      "Got 90th percentile of 1.0339573062516145, with service rate 3.2999999999999963\n",
      "Got 90th percentile of 1.0155213788146287, with service rate 3.349999999999996\n",
      "Adjusted service rate: 3.399999999999996\n",
      "90th percentile of time spent in the system: 0.9895675730857874\n"
     ]
    }
   ],
   "execution_count": 10
  },
  {
   "cell_type": "code",
   "metadata": {},
   "source": [
    "# Set the Seaborn style\n",
    "sns.set_style(\"whitegrid\")\n",
    "\n",
    "# Compute the average time in system\n",
    "avg_time = sum(times_in_system) / len(times_in_system)\n",
    "\n",
    "# Plotting the times in system\n",
    "plt.figure(figsize=(12, 7))\n",
    "sns.lineplot(x=range(len(times_in_system)), y=times_in_system, marker='o', linestyle='-', label='Time Spent in System')\n",
    "plt.axhline(avg_time, color='red', linestyle='--', label=f'Average: {avg_time:.2f}')\n",
    "plt.title(\"Time Spent in System by Each Customer\")\n",
    "plt.xlabel(\"Customer\")\n",
    "plt.ylabel(\"Time in System\")\n",
    "plt.legend()\n",
    "plt.show()"
   ],
   "outputs": [],
   "execution_count": null
  },
  {
   "cell_type": "code",
   "metadata": {},
   "source": [
    "# create a histogram of the time spent in the system use 0.2 as the bin size\n",
    "plt.figure(figsize=(12, 7))\n",
    "sns.histplot(x=times_in_system, binwidth=0.2, stat=\"probability\", color='red')\n",
    "plt.title(\"Time Spent in System by Each Customer\")\n",
    "plt.xlabel(\"Time in System\")\n",
    "plt.ylabel(\"Probability\")\n",
    "plt.show()\n"
   ],
   "outputs": [],
   "execution_count": null
  },
  {
   "cell_type": "code",
   "metadata": {},
   "source": [
    "# compare expected and simulated average time in system\n",
    "print(\"simulated average time in system: {}\".format(avg_time))\n",
    "print(\"calculated average time in system: {}\".format(WS))"
   ],
   "outputs": [],
   "execution_count": null
  },
  {
   "cell_type": "code",
   "metadata": {},
   "source": [
    "# Plotting the number of customers in the system\n",
    "plt.figure(figsize=(12, 7))\n",
    "sns.lineplot(x=range(len(num_customers_in_system)), y=num_customers_in_system, marker='o', linestyle='-', label='Number of Customers')\n",
    "avg_customers = sum(num_customers_in_system) / len(num_customers_in_system)\n",
    "plt.axhline(avg_customers, color='red', linestyle='--', label=f'Average Customers: {avg_customers:.2f}')\n",
    "plt.title(\"Number of Customers in the System Over Time\")\n",
    "plt.xlabel(\"Time\")\n",
    "plt.ylabel(\"Number of Customers\")\n",
    "plt.legend()\n",
    "plt.show()"
   ],
   "outputs": [],
   "execution_count": null
  },
  {
   "cell_type": "code",
   "metadata": {},
   "source": [
    "# compare simulated and expected average number of customers in the system\n",
    "print(\"simulated average customers in system: {}\".format(avg_customers))\n",
    "print(\"calculated average customers in system: {}\".format(LS))"
   ],
   "outputs": [],
   "execution_count": null
  },
  {
   "cell_type": "code",
   "metadata": {},
   "source": [
    "# histogram of numof customers in the system, x-axis ticks should be each integer\n",
    "plt.figure(figsize=(12, 7))\n",
    "sns.histplot(x=num_customers_in_system, stat=\"probability\", color='red', discrete=True)\n",
    "plt.title(\"Number of Customers in the System\")\n",
    "plt.xlabel(\"Number of Customers\")\n",
    "plt.ylabel(\"Probability\")\n",
    "plt.xticks(range(max(num_customers_in_system)+1))\n",
    "plt.show()\n"
   ],
   "outputs": [],
   "execution_count": null
  }
 ],
 "metadata": {
  "kernelspec": {
   "display_name": "base",
   "language": "python",
   "name": "python3"
  },
  "language_info": {
   "codemirror_mode": {
    "name": "ipython",
    "version": 3
   },
   "file_extension": ".py",
   "mimetype": "text/x-python",
   "name": "python",
   "nbconvert_exporter": "python",
   "pygments_lexer": "ipython3",
   "version": "3.7.3"
  },
  "orig_nbformat": 4
 },
 "nbformat": 4,
 "nbformat_minor": 2
}
