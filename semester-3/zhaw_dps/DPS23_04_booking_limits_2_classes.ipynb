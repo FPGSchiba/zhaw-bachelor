{
 "cells": [
  {
   "cell_type": "code",
   "execution_count": 1,
   "id": "1a911cfc",
   "metadata": {},
   "outputs": [],
   "source": [
    "# documentation scipy.stats.norm: https://docs.scipy.org/doc/scipy/reference/generated/scipy.stats.norm.html"
   ]
  },
  {
   "cell_type": "code",
   "execution_count": 2,
   "id": "483cde22",
   "metadata": {},
   "outputs": [],
   "source": [
    "from scipy.stats import norm\n",
    "import numpy as np"
   ]
  },
  {
   "cell_type": "code",
   "execution_count": 3,
   "id": "0593117c",
   "metadata": {},
   "outputs": [],
   "source": [
    "# Variables\n",
    "r1 = 300\n",
    "r2 = 100\n",
    "C = 160\n",
    "mu1 = 35\n",
    "sigma1 = 10"
   ]
  },
  {
   "cell_type": "code",
   "execution_count": 4,
   "id": "1d84e277",
   "metadata": {},
   "outputs": [
    {
     "name": "stdout",
     "output_type": "stream",
     "text": [
      "protection limit class 1 : 39.0\n",
      "booking limit class 2: 121.0\n"
     ]
    }
   ],
   "source": [
    "#protection limit class 1 (Littlewood) and booking limit class 2\n",
    "G1 = np.round(norm(mu1, sigma1).ppf(1-r2/r1),0)  #ppf=percent point function (inverse of cumulative distribution function)\n",
    "B2 = C-G1\n",
    "print(\"protection limit class 1 : {}\".format(G1))\n",
    "print(\"booking limit class 2: {}\".format(B2))"
   ]
  },
  {
   "cell_type": "code",
   "execution_count": 5,
   "id": "f9cd90e1",
   "metadata": {},
   "outputs": [
    {
     "name": "stdout",
     "output_type": "stream",
     "text": [
      "revenue if all class 1 tickets are sold: 23800.0\n"
     ]
    }
   ],
   "source": [
    "# revenue\n",
    "revenue = r1*G1 + r2*B2\n",
    "print(\"revenue if all class 1 tickets are sold: {}\".format(revenue))"
   ]
  },
  {
   "metadata": {},
   "cell_type": "markdown",
   "source": [
    "# Exercise 6\n",
    "\n",
    "Next, you are supposed to set the price r1 for the last-minute customers. Assume that the demand of last-minute customers is normally distributed with standard deviation sigma1=2. The mean value depends on the price r1 and follows the function mu1 = 30 – 0.2 * r1. The capacity remains at C=30 and the price r2 at CHF 85. Tips: Use the Python function minimize from the scipy.optimize package introduced last week. Create a scipy.optimize.Bounds Object: Bounds([86],[150]). You can also use the Python object scipy.stats.norm shown this week. The function to be maximized is r1*G1+r2*B2. (Solution. Optimal price r1 = 122.42)"
   ],
   "id": "3c72bb207b710931"
  },
  {
   "metadata": {
    "ExecuteTime": {
     "end_time": "2024-10-13T09:06:08.664353Z",
     "start_time": "2024-10-13T09:06:08.661717Z"
    }
   },
   "cell_type": "code",
   "source": [
    "from scipy.stats import norm\n",
    "from scipy.optimize import minimize\n",
    "import numpy as np"
   ],
   "id": "e71340f178f7c25a",
   "outputs": [],
   "execution_count": 3
  },
  {
   "metadata": {
    "ExecuteTime": {
     "end_time": "2024-10-13T09:14:34.701024Z",
     "start_time": "2024-10-13T09:14:34.669471Z"
    }
   },
   "cell_type": "code",
   "source": [
    "def optimal_price(params):\n",
    "    r1 = params[0]\n",
    "    r2 = 85\n",
    "    C = 30\n",
    "    mu1 = C - 0.2 * r1\n",
    "    G1 = np.round(norm(mu1, 2).ppf(1-r2/r1),0)\n",
    "    B2 = C-G1\n",
    "    return -1*(r1*G1+r2*B2)\n",
    "\n",
    "result = minimize(optimal_price, np.array([120]), bounds=[(86,150)], method='Powell')\n",
    "if result.success:\n",
    "    print(\"Optimal price r1: {}\".format(result.x[0]))\n",
    "    print(\"Optimal revenue: {}\".format(result.fun/-1))\n",
    "else:\n",
    "    raise ValueError(result.message)"
   ],
   "id": "f7fd12c54fac7634",
   "outputs": [
    {
     "name": "stdout",
     "output_type": "stream",
     "text": [
      "r1: 120.0\n",
      "2725.0\n",
      "r1: 110.44582472000673\n",
      "2702.67494832004\n",
      "r1: 125.55417527999327\n",
      "2712.216701119973\n",
      "r1: 134.89164944001345\n",
      "2649.783298880027\n",
      "r1: 119.05487361737774\n",
      "2720.274368086889\n",
      "r1: 119.4527339966914\n",
      "2722.263669983457\n",
      "r1: 121.69837993286673\n",
      "2733.4918996643337\n",
      "r1: 123.17116270180537\n",
      "2702.6846508072213\n",
      "r1: 120.84061951194583\n",
      "2729.203097559729\n",
      "r1: 122.26093289255611\n",
      "2736.3046644627807\n",
      "r1: 122.60860974211599\n",
      "2700.434438968464\n",
      "r1: 122.04605678242662\n",
      "2735.230283912133\n",
      "r1: 122.3937336319865\n",
      "2736.9686681599323\n",
      "r1: 122.4758090026856\n",
      "2699.903236010742\n",
      "r1: 122.34300826325521\n",
      "2736.7150413162763\n",
      "r1: 122.42508363395432\n",
      "2699.700334535817\n",
      "r1: 122.37435826522302\n",
      "2736.8717913261153\n",
      "r1: 122.40570826719083\n",
      "2737.0285413359543\n",
      "r1: 122.41310899874998\n",
      "2737.06554499375\n",
      "r1: 122.41768290239516\n",
      "2737.0884145119758\n",
      "r1: 122.42050973030913\n",
      "2699.6820389212367\n",
      "r1: 122.41593582666397\n",
      "2737.0796791333196\n",
      "r1: 122.41876265457795\n",
      "2699.6750506183116\n",
      "r1: 122.41701557884676\n",
      "2737.085077894234\n",
      "r1: 122.41809533102956\n",
      "2699.6723813241183\n",
      "r1: 122.41742800748116\n",
      "2737.087140037406\n",
      "r1: 122.41784043611557\n",
      "2737.0892021805776\n",
      "r1: 122.41793779730915\n",
      "2737.0896889865458\n",
      "r1: 122.41799796983597\n",
      "2737.08998984918\n",
      "r1: 122.41803515850273\n",
      "2737.090175792514\n",
      "r1: 124.83607031700546\n",
      "2709.344281268022\n",
      "r1: 110.44582472000673\n",
      "2702.67494832004\n",
      "r1: 125.55417527999327\n",
      "2712.216701119973\n",
      "r1: 134.89164944001345\n",
      "2649.783298880027\n",
      "r1: 119.05487361737774\n",
      "2720.274368086889\n",
      "r1: 119.4527339966914\n",
      "2722.263669983457\n",
      "r1: 121.69837993286673\n",
      "2733.4918996643337\n",
      "r1: 123.17116270180537\n",
      "2702.6846508072213\n",
      "r1: 120.84061951194583\n",
      "2729.203097559729\n",
      "r1: 122.26093289255611\n",
      "2736.3046644627807\n",
      "r1: 122.60860974211599\n",
      "2700.434438968464\n",
      "r1: 122.04605678242662\n",
      "2735.230283912133\n",
      "r1: 122.3937336319865\n",
      "2736.9686681599323\n",
      "r1: 122.4758090026856\n",
      "2699.903236010742\n",
      "r1: 122.34300826325521\n",
      "2736.7150413162763\n",
      "r1: 122.42508363395432\n",
      "2699.700334535817\n",
      "r1: 122.37435826522302\n",
      "2736.8717913261153\n",
      "r1: 122.40570826719083\n",
      "2737.0285413359543\n",
      "r1: 122.41310899874998\n",
      "2737.06554499375\n",
      "r1: 122.41768290239516\n",
      "2737.0884145119758\n",
      "r1: 122.42050973030913\n",
      "2699.6820389212367\n",
      "r1: 122.41593582666397\n",
      "2737.0796791333196\n",
      "r1: 122.41876265457795\n",
      "2699.6750506183116\n",
      "r1: 122.41701557884676\n",
      "2737.085077894234\n",
      "r1: 122.41809533102956\n",
      "2699.6723813241183\n",
      "r1: 122.41742800748116\n",
      "2737.087140037406\n",
      "r1: 122.41784043611557\n",
      "2737.0892021805776\n",
      "r1: 122.41793779730915\n",
      "2737.0896889865458\n",
      "r1: 122.41799796983597\n",
      "2737.08998984918\n",
      "r1: 122.41803515850273\n",
      "2737.090175792514\n",
      "Optimal price r1: 122.41803515850273\n",
      "Optimal revenue: 2737.090175792514\n"
     ]
    }
   ],
   "execution_count": 15
  }
 ],
 "metadata": {
  "kernelspec": {
   "display_name": "Python 3 (ipykernel)",
   "language": "python",
   "name": "python3"
  },
  "language_info": {
   "codemirror_mode": {
    "name": "ipython",
    "version": 3
   },
   "file_extension": ".py",
   "mimetype": "text/x-python",
   "name": "python",
   "nbconvert_exporter": "python",
   "pygments_lexer": "ipython3",
   "version": "3.7.3"
  }
 },
 "nbformat": 4,
 "nbformat_minor": 5
}
