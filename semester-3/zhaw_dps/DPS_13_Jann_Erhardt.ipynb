{
 "cells": [
  {
   "cell_type": "code",
   "id": "initial_id",
   "metadata": {
    "collapsed": true,
    "ExecuteTime": {
     "end_time": "2024-12-16T10:09:39.887716Z",
     "start_time": "2024-12-16T10:09:39.795718Z"
    }
   },
   "source": "import numpy as np",
   "outputs": [],
   "execution_count": 2
  },
  {
   "metadata": {},
   "cell_type": "markdown",
   "source": [
    "## Exercise 6\n",
    "### a)"
   ],
   "id": "26c569342ef21131"
  },
  {
   "metadata": {
    "ExecuteTime": {
     "end_time": "2024-12-16T10:26:14.897086Z",
     "start_time": "2024-12-16T10:26:14.879087Z"
    }
   },
   "cell_type": "code",
   "source": [
    "# Revenue vector [prospect, customer]\n",
    "r = np.array([[0], [30]])\n",
    "\n",
    "# Transition matrix\n",
    "# [[P->P, P->C],\n",
    "#  [C->P, C->C]]\n",
    "p = np.array([[0.999, 0.001],\n",
    "              [0.2, 0.8]])\n",
    "\n",
    "# Number of periods\n",
    "n_periods = 400"
   ],
   "id": "58342f447e5868c8",
   "outputs": [],
   "execution_count": 30
  },
  {
   "metadata": {
    "ExecuteTime": {
     "end_time": "2024-12-16T10:27:28.131331Z",
     "start_time": "2024-12-16T10:27:28.106330Z"
    }
   },
   "cell_type": "code",
   "source": [
    "periods = []\n",
    "profits = np.zeros((2, 1))\n",
    "for period in range(n_periods + 1):\n",
    "    profit = np.dot(np.linalg.matrix_power(p, period), r)\n",
    "    periods.append(profit)\n",
    "    profits += profit\n",
    "\n",
    "print(f\"After {n_periods} quarters:\")\n",
    "print(f\"Prospect expected profit: {profits[0][0]:.2f}\")\n",
    "print(f\"Customer expected profit: {profits[1][0]:.2f}\")"
   ],
   "id": "819aa290a2be528e",
   "outputs": [
    {
     "name": "stdout",
     "output_type": "stream",
     "text": [
      "After 400 quarters:\n",
      "Prospect expected profit: 59.11\n",
      "Customer expected profit: 208.36\n"
     ]
    }
   ],
   "execution_count": 36
  },
  {
   "metadata": {},
   "cell_type": "markdown",
   "source": "### b)",
   "id": "5587c08a322504a2"
  },
  {
   "metadata": {
    "ExecuteTime": {
     "end_time": "2024-12-16T10:27:18.358041Z",
     "start_time": "2024-12-16T10:27:18.343038Z"
    }
   },
   "cell_type": "code",
   "source": [
    "# Revenue vector [prospect, customer]\n",
    "r_b = np.array([[-0.20], [30]])\n",
    "\n",
    "# Transition matrix\n",
    "# [[P->P, P->C],\n",
    "#  [C->P, C->C]]\n",
    "p_b = np.array([[0.99, 0.01],\n",
    "              [0.2, 0.8]])\n",
    "\n",
    "# Number of periods\n",
    "n_periods_b = 400"
   ],
   "id": "f0fe3eaa1b3417c",
   "outputs": [],
   "execution_count": 33
  },
  {
   "metadata": {
    "ExecuteTime": {
     "end_time": "2024-12-16T10:27:19.831558Z",
     "start_time": "2024-12-16T10:27:19.802567Z"
    }
   },
   "cell_type": "code",
   "source": [
    "periods = []\n",
    "profits = np.zeros((2, 1))\n",
    "for period in range(n_periods_b + 1):\n",
    "    profit = np.dot(np.linalg.matrix_power(p_b, period), r_b)\n",
    "    periods.append(profit)\n",
    "    profits += profit\n",
    "\n",
    "print(f\"After {n_periods} quarters:\")\n",
    "print(f\"Prospect expected profit: {profits[0][0]:.2f}\")\n",
    "print(f\"Customer expected profit: {profits[1][0]:.2f}\")"
   ],
   "id": "c94c6342ebd78753",
   "outputs": [
    {
     "name": "stdout",
     "output_type": "stream",
     "text": [
      "After 400 quarters:\n",
      "Prospect expected profit: 489.63\n",
      "Customer expected profit: 633.44\n"
     ]
    }
   ],
   "execution_count": 34
  }
 ],
 "metadata": {
  "kernelspec": {
   "display_name": "Python 3",
   "language": "python",
   "name": "python3"
  },
  "language_info": {
   "codemirror_mode": {
    "name": "ipython",
    "version": 2
   },
   "file_extension": ".py",
   "mimetype": "text/x-python",
   "name": "python",
   "nbconvert_exporter": "python",
   "pygments_lexer": "ipython2",
   "version": "2.7.6"
  }
 },
 "nbformat": 4,
 "nbformat_minor": 5
}
