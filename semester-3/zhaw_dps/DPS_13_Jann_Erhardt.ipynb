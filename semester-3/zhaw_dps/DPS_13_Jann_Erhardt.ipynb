{
 "cells": [
  {
   "cell_type": "code",
   "id": "initial_id",
   "metadata": {
    "collapsed": true,
    "ExecuteTime": {
     "end_time": "2024-12-17T07:36:35.437210Z",
     "start_time": "2024-12-17T07:36:35.330211Z"
    }
   },
   "source": "import numpy as np",
   "outputs": [],
   "execution_count": 2
  },
  {
   "metadata": {},
   "cell_type": "markdown",
   "source": [
    "## Exercise 6\n",
    "### a)"
   ],
   "id": "26c569342ef21131"
  },
  {
   "metadata": {
    "ExecuteTime": {
     "end_time": "2024-12-17T07:54:42.623387Z",
     "start_time": "2024-12-17T07:54:42.608357Z"
    }
   },
   "cell_type": "code",
   "source": [
    "# Revenue vector [prospect, customer, former customers]\n",
    "r = np.array([[0.0], [30.0], [0.0]])\n",
    "\n",
    "# Transition matrix\n",
    "p = np.array([[0.999, 0.001, 0.0],\n",
    "              [0.0, 0.8, 0.2],\n",
    "              [0.0, 0.0, 1.0]])\n",
    "\n",
    "# Number of periods\n",
    "n_periods = 400"
   ],
   "id": "58342f447e5868c8",
   "outputs": [],
   "execution_count": 10
  },
  {
   "metadata": {
    "ExecuteTime": {
     "end_time": "2024-12-17T07:54:44.049750Z",
     "start_time": "2024-12-17T07:54:44.031237Z"
    }
   },
   "cell_type": "code",
   "source": [
    "profits = np.zeros((3, 1))\n",
    "for period in range(n_periods):\n",
    "    profits += np.dot(np.linalg.matrix_power(p, period), r)\n",
    "\n",
    "print(f\"After {n_periods} quarters:\")\n",
    "print(f\"Prospect expected profit: {profits[0][0]:.2f}\")\n",
    "print(f\"Customer expected profit: {profits[1][0]:.2f}\")"
   ],
   "id": "819aa290a2be528e",
   "outputs": [
    {
     "name": "stdout",
     "output_type": "stream",
     "text": [
      "After 400 quarters:\n",
      "Prospect expected profit: 48.97\n",
      "Customer expected profit: 150.00\n"
     ]
    }
   ],
   "execution_count": 11
  },
  {
   "metadata": {},
   "cell_type": "markdown",
   "source": "### b)",
   "id": "5587c08a322504a2"
  },
  {
   "metadata": {
    "ExecuteTime": {
     "end_time": "2024-12-17T07:54:51.206273Z",
     "start_time": "2024-12-17T07:54:51.189273Z"
    }
   },
   "cell_type": "code",
   "source": [
    "# Revenue vector [prospect, customer, former customers]\n",
    "r_b = np.array([[-0.20], [30], [0.0]])\n",
    "\n",
    "# Transition matrix\n",
    "p_b = np.array([[0.99, 0.01, 0.0],\n",
    "                [0.0, 0.8, 0.2],\n",
    "                [0.0, 0.0, 1.0]])\n",
    "\n",
    "# Number of periods\n",
    "n_periods_b = 400"
   ],
   "id": "f0fe3eaa1b3417c",
   "outputs": [],
   "execution_count": 12
  },
  {
   "metadata": {
    "ExecuteTime": {
     "end_time": "2024-12-17T07:54:52.665076Z",
     "start_time": "2024-12-17T07:54:52.651051Z"
    }
   },
   "cell_type": "code",
   "source": [
    "profits = np.zeros((3, 1))\n",
    "for period in range(n_periods_b):\n",
    "    profits += np.dot(np.linalg.matrix_power(p_b, period), r_b)\n",
    "\n",
    "print(f\"After {n_periods} quarters:\")\n",
    "print(f\"Prospect expected profit: {profits[0][0]:.2f}\")\n",
    "print(f\"Customer expected profit: {profits[1][0]:.2f}\")"
   ],
   "id": "c94c6342ebd78753",
   "outputs": [
    {
     "name": "stdout",
     "output_type": "stream",
     "text": [
      "After 400 quarters:\n",
      "Prospect expected profit: 127.55\n",
      "Customer expected profit: 150.00\n"
     ]
    }
   ],
   "execution_count": 13
  }
 ],
 "metadata": {
  "kernelspec": {
   "display_name": "Python 3",
   "language": "python",
   "name": "python3"
  },
  "language_info": {
   "codemirror_mode": {
    "name": "ipython",
    "version": 2
   },
   "file_extension": ".py",
   "mimetype": "text/x-python",
   "name": "python",
   "nbconvert_exporter": "python",
   "pygments_lexer": "ipython2",
   "version": "2.7.6"
  }
 },
 "nbformat": 4,
 "nbformat_minor": 5
}
