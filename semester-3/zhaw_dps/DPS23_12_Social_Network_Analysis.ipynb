{
 "cells": [
  {
   "attachments": {},
   "cell_type": "markdown",
   "metadata": {},
   "source": [
    "# Social Network Analysis"
   ]
  },
  {
   "cell_type": "code",
   "metadata": {
    "ExecuteTime": {
     "end_time": "2024-12-03T08:19:02.184616Z",
     "start_time": "2024-12-03T08:19:02.041718Z"
    }
   },
   "source": [
    "import pandas as pd\n",
    "import numpy as np\n",
    "from datetime import date\n",
    "from IPython.display import Markdown, display\n",
    "import matplotlib.pyplot as plt\n",
    "import seaborn as sns\n",
    "import networkx as nx"
   ],
   "outputs": [],
   "execution_count": 1
  },
  {
   "cell_type": "code",
   "metadata": {
    "ExecuteTime": {
     "end_time": "2024-12-03T08:19:02.542304Z",
     "start_time": "2024-12-03T08:19:02.193399Z"
    }
   },
   "source": [
    "#!pip install pm4py --user\n",
    "from pm4py.objects.conversion.log import converter as log_converter\n",
    "from pm4py.objects.log.importer.xes import importer as xes_importer\n",
    "\n",
    "# process mining \n",
    "from pm4py.algo.discovery.alpha import algorithm as alpha_miner\n",
    "from pm4py.algo.discovery.inductive import algorithm as inductive_miner\n",
    "from pm4py.algo.discovery.heuristics import algorithm as heuristics_miner\n",
    "from pm4py.algo.discovery.dfg import algorithm as dfg_discovery\n",
    "from pm4py.algo.discovery.footprints import algorithm as footprints_discovery\n",
    "\n",
    "\n",
    "# viz\n",
    "from pm4py.visualization.petri_net import visualizer as pn_visualizer\n",
    "from pm4py.visualization.footprints import visualizer as fp_visualizer\n",
    "from pm4py.visualization.transition_system import visualizer as ts_visualizer\n",
    "from pm4py.visualization.process_tree import visualizer as pt_visualizer\n",
    "from pm4py.visualization.heuristics_net import visualizer as hn_visualizer\n",
    "from pm4py.visualization.dfg import visualizer as dfg_visualization\n",
    "\n",
    "# conformance\n",
    "from pm4py.algo.conformance.footprints import algorithm as fp_conformance\n",
    "from pm4py import conformance_diagnostics_token_based_replay\n",
    "from pm4py.algo.conformance.alignments.edit_distance import algorithm as logs_alignments\n",
    "\n",
    "# misc \n",
    "from pm4py.objects.petri_net.utils import reachability_graph\n",
    "from pm4py.objects.conversion.process_tree import converter as pt_converter\n",
    "from pm4py.objects.petri_net.obj import PetriNet, Marking\n",
    "\n",
    "import pm4py"
   ],
   "outputs": [],
   "execution_count": 2
  },
  {
   "cell_type": "code",
   "metadata": {
    "ExecuteTime": {
     "end_time": "2024-12-03T08:19:02.586232Z",
     "start_time": "2024-12-03T08:19:02.578922Z"
    }
   },
   "source": [
    "events_array = [\n",
    "    [1, \"Bestellen\", pd.to_datetime(\"01/01/1970\"),\"Sue\"],\n",
    "    [1, \"Servieren\", pd.to_datetime(\"01/02/1970\"),\"Alan\"],\n",
    "    [1, \"Kassieren\", pd.to_datetime(\"01/03/1970\"),\"Sara\"],\n",
    "    [2, \"Bestellen\", pd.to_datetime(\"01/01/1970\"),\"Cara\"],\n",
    "    [2, \"Servieren\", pd.to_datetime(\"01/02/1970\"),\"Alan\"],\n",
    "    [2, \"Kassieren\", pd.to_datetime(\"01/03/1970\"),\"Sara\"],\n",
    "]"
   ],
   "outputs": [],
   "execution_count": 3
  },
  {
   "cell_type": "code",
   "metadata": {
    "ExecuteTime": {
     "end_time": "2024-12-03T08:19:02.599625Z",
     "start_time": "2024-12-03T08:19:02.594961Z"
    }
   },
   "source": [
    "events = pd.DataFrame(events_array, columns=[ 'case:concept:name', 'concept:name', 'time:timestamp', 'org:resource'])"
   ],
   "outputs": [],
   "execution_count": 4
  },
  {
   "cell_type": "code",
   "metadata": {
    "ExecuteTime": {
     "end_time": "2024-12-03T08:19:02.651915Z",
     "start_time": "2024-12-03T08:19:02.647153Z"
    }
   },
   "source": [
    "log = log_converter.apply(events)"
   ],
   "outputs": [],
   "execution_count": 5
  },
  {
   "cell_type": "code",
   "metadata": {
    "ExecuteTime": {
     "end_time": "2024-12-03T08:19:02.666266Z",
     "start_time": "2024-12-03T08:19:02.662646Z"
    }
   },
   "source": [
    "# footprint\n",
    "from pm4py.algo.discovery.footprints import algorithm as footprints_discovery\n",
    "footprint = footprints_discovery.apply(log, variant=footprints_discovery.Variants.ENTIRE_EVENT_LOG)\n",
    "footprint['sequence']\n",
    "\n",
    "\n"
   ],
   "outputs": [
    {
     "data": {
      "text/plain": [
       "{('Bestellen', 'Servieren'), ('Servieren', 'Kassieren')}"
      ]
     },
     "execution_count": 6,
     "metadata": {},
     "output_type": "execute_result"
    }
   ],
   "execution_count": 6
  },
  {
   "cell_type": "code",
   "metadata": {
    "ExecuteTime": {
     "end_time": "2024-12-03T08:19:03.522170Z",
     "start_time": "2024-12-03T08:19:02.782001Z"
    }
   },
   "source": [
    "from pm4py.visualization.footprints import visualizer as fp_visualizer\n",
    "\n",
    "gviz = fp_visualizer.apply(footprint)\n",
    "fp_visualizer.view(gviz)"
   ],
   "outputs": [
    {
     "data": {
      "image/png": "[encoded data removed]",
      "text/plain": [
       "<IPython.core.display.Image object>"
      ]
     },
     "metadata": {},
     "output_type": "display_data"
    }
   ],
   "execution_count": 7
  },
  {
   "cell_type": "code",
   "metadata": {
    "ExecuteTime": {
     "end_time": "2024-12-03T08:19:03.534748Z",
     "start_time": "2024-12-03T08:19:03.531687Z"
    }
   },
   "source": [
    "hw_values = pm4py.discover_handover_of_work_network(log, beta=0)"
   ],
   "outputs": [
    {
     "name": "stderr",
     "output_type": "stream",
     "text": [
      "/Users/schiba/miniforge3/envs/zhaw-dps/lib/python3.11/site-packages/pm4py/utils.py:503: UserWarning: the EventLog class has been deprecated and will be removed in a future release.\n",
      "  warnings.warn(\"the EventLog class has been deprecated and will be removed in a future release.\")\n"
     ]
    }
   ],
   "execution_count": 8
  },
  {
   "cell_type": "code",
   "metadata": {
    "ExecuteTime": {
     "end_time": "2024-12-03T08:19:03.579004Z",
     "start_time": "2024-12-03T08:19:03.572099Z"
    }
   },
   "source": [
    "# hw_values to dataframe\n",
    "connections=hw_values.connections\n",
    "names = list(set([connection[0] for connection in connections]+[connection[1] for connection in connections]))\n",
    "rows = []\n",
    "for name in names:\n",
    "    cols = []\n",
    "    for subname in names:\n",
    "        try:\n",
    "            cols.append(connections[(name, subname)])\n",
    "        except KeyError:\n",
    "            cols.append(0)\n",
    "    rows.append(cols)\n",
    "\n",
    "df = pd.DataFrame(rows, index=names, columns=names)\n",
    "df"
   ],
   "outputs": [
    {
     "data": {
      "text/plain": [
       "      Sara  Sue  Cara  Alan\n",
       "Sara   0.0    0     0  0.00\n",
       "Sue    0.0    0     0  0.25\n",
       "Cara   0.0    0     0  0.25\n",
       "Alan   0.5    0     0  0.00"
      ],
      "text/html": [
       "<div>\n",
       "<style scoped>\n",
       "    .dataframe tbody tr th:only-of-type {\n",
       "        vertical-align: middle;\n",
       "    }\n",
       "\n",
       "    .dataframe tbody tr th {\n",
       "        vertical-align: top;\n",
       "    }\n",
       "\n",
       "    .dataframe thead th {\n",
       "        text-align: right;\n",
       "    }\n",
       "</style>\n",
       "<table border=\"1\" class=\"dataframe\">\n",
       "  <thead>\n",
       "    <tr style=\"text-align: right;\">\n",
       "      <th></th>\n",
       "      <th>Sara</th>\n",
       "      <th>Sue</th>\n",
       "      <th>Cara</th>\n",
       "      <th>Alan</th>\n",
       "    </tr>\n",
       "  </thead>\n",
       "  <tbody>\n",
       "    <tr>\n",
       "      <th>Sara</th>\n",
       "      <td>0.0</td>\n",
       "      <td>0</td>\n",
       "      <td>0</td>\n",
       "      <td>0.00</td>\n",
       "    </tr>\n",
       "    <tr>\n",
       "      <th>Sue</th>\n",
       "      <td>0.0</td>\n",
       "      <td>0</td>\n",
       "      <td>0</td>\n",
       "      <td>0.25</td>\n",
       "    </tr>\n",
       "    <tr>\n",
       "      <th>Cara</th>\n",
       "      <td>0.0</td>\n",
       "      <td>0</td>\n",
       "      <td>0</td>\n",
       "      <td>0.25</td>\n",
       "    </tr>\n",
       "    <tr>\n",
       "      <th>Alan</th>\n",
       "      <td>0.5</td>\n",
       "      <td>0</td>\n",
       "      <td>0</td>\n",
       "      <td>0.00</td>\n",
       "    </tr>\n",
       "  </tbody>\n",
       "</table>\n",
       "</div>"
      ]
     },
     "execution_count": 9,
     "metadata": {},
     "output_type": "execute_result"
    }
   ],
   "execution_count": 9
  },
  {
   "cell_type": "code",
   "metadata": {
    "ExecuteTime": {
     "end_time": "2024-12-03T08:19:03.788321Z",
     "start_time": "2024-12-03T08:19:03.700074Z"
    }
   },
   "source": [
    "# depict distances as network with networkx\n",
    "G_hw = nx.from_pandas_adjacency(df)\n",
    "mywidth = [i * 10 for i in list(nx.get_edge_attributes(G_hw,'weight').values())]\n",
    "nx.draw(G_hw, with_labels=True, node_size=500, font_size=8, width=mywidth)\n"
   ],
   "outputs": [
    {
     "data": {
      "text/plain": [
       "<Figure size 640x480 with 1 Axes>"
      ],
      "image/png": "[encoded data removed]"
     },
     "metadata": {},
     "output_type": "display_data"
    }
   ],
   "execution_count": 10
  },
  {
   "cell_type": "code",
   "metadata": {
    "ExecuteTime": {
     "end_time": "2024-12-03T08:19:03.816521Z",
     "start_time": "2024-12-03T08:19:03.811657Z"
    }
   },
   "source": [
    "# degree centrality for edges in G_hw that ignores edge weights\n",
    "nx.degree_centrality(G_hw)"
   ],
   "outputs": [
    {
     "data": {
      "text/plain": [
       "{'Sara': 0.3333333333333333,\n",
       " 'Sue': 0.3333333333333333,\n",
       " 'Cara': 0.3333333333333333,\n",
       " 'Alan': 1.0}"
      ]
     },
     "execution_count": 11,
     "metadata": {},
     "output_type": "execute_result"
    }
   ],
   "execution_count": 11
  },
  {
   "cell_type": "code",
   "metadata": {
    "ExecuteTime": {
     "end_time": "2024-12-03T08:19:03.973722Z",
     "start_time": "2024-12-03T08:19:03.970852Z"
    }
   },
   "source": [
    "# degree centrality for edges in G_hw considering edge weights\n",
    "G_hw.degree(weight='weight')"
   ],
   "outputs": [
    {
     "data": {
      "text/plain": [
       "DegreeView({'Sara': 0.5, 'Sue': 0.25, 'Cara': 0.25, 'Alan': 1.0})"
      ]
     },
     "execution_count": 12,
     "metadata": {},
     "output_type": "execute_result"
    }
   ],
   "execution_count": 12
  },
  {
   "cell_type": "code",
   "metadata": {
    "ExecuteTime": {
     "end_time": "2024-12-03T08:19:04.115835Z",
     "start_time": "2024-12-03T08:19:04.113768Z"
    }
   },
   "source": [
    "# add distance attribute to G_hw\n",
    "g_distance_dict = {(e1, e2): 1 / weight for e1, e2, weight in G_hw.edges(data='weight')}\n",
    "nx.set_edge_attributes(G_hw, g_distance_dict, 'distance')"
   ],
   "outputs": [],
   "execution_count": 13
  },
  {
   "cell_type": "code",
   "metadata": {
    "ExecuteTime": {
     "end_time": "2024-12-03T08:19:04.191682Z",
     "start_time": "2024-12-03T08:19:04.187882Z"
    }
   },
   "source": [
    "nx.betweenness_centrality(G_hw, weight='distance', normalized=False)"
   ],
   "outputs": [
    {
     "data": {
      "text/plain": [
       "{'Sara': 0.0, 'Sue': 0.0, 'Cara': 0.0, 'Alan': 3.0}"
      ]
     },
     "execution_count": 14,
     "metadata": {},
     "output_type": "execute_result"
    }
   ],
   "execution_count": 14
  },
  {
   "cell_type": "code",
   "metadata": {
    "ExecuteTime": {
     "end_time": "2024-12-03T08:19:04.335083Z",
     "start_time": "2024-12-03T08:19:04.231743Z"
    }
   },
   "source": [
    "mydistance = [i  for i in list(nx.get_edge_attributes(G_hw,'distance').values())]\n",
    "nx.draw(G_hw, with_labels=True, node_size=500, font_size=8, width=mydistance)"
   ],
   "outputs": [
    {
     "data": {
      "text/plain": [
       "<Figure size 640x480 with 1 Axes>"
      ],
      "image/png": "[encoded data removed]"
     },
     "metadata": {},
     "output_type": "display_data"
    }
   ],
   "execution_count": 15
  },
  {
   "cell_type": "code",
   "metadata": {
    "ExecuteTime": {
     "end_time": "2024-12-03T08:19:04.349596Z",
     "start_time": "2024-12-03T08:19:04.347908Z"
    }
   },
   "source": [],
   "outputs": [],
   "execution_count": null
  }
 ],
 "metadata": {
  "kernelspec": {
   "display_name": "base",
   "language": "python",
   "name": "python3"
  },
  "language_info": {
   "codemirror_mode": {
    "name": "ipython",
    "version": 3
   },
   "file_extension": ".py",
   "mimetype": "text/x-python",
   "name": "python",
   "nbconvert_exporter": "python",
   "pygments_lexer": "ipython3",
   "version": "3.7.3"
  },
  "vscode": {
   "interpreter": {
    "hash": "deb4792152b8b9767403eeef0a1b0f34b83d442136ccee9184cd7d1131f09aa0"
   }
  }
 },
 "nbformat": 4,
 "nbformat_minor": 2
}
