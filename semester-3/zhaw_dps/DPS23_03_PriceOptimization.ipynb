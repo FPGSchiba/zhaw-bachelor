{
 "cells": [
  {
   "cell_type": "markdown",
   "id": "e667056a",
   "metadata": {},
   "source": [
    "# Price Optimization with 2 Segments"
   ]
  },
  {
   "cell_type": "code",
   "execution_count": 1,
   "id": "5e222f02",
   "metadata": {},
   "outputs": [],
   "source": [
    "# package: scipy.optimize\n",
    "# https://docs.scipy.org/doc/scipy/reference/optimize.html\n",
    "# https://docs.scipy.org/doc/scipy/tutorial/optimize.html\n",
    "# https://stackoverflow.com/questions/13670333/multiple-variables-in-scipys-optimize-minimize"
   ]
  },
  {
   "cell_type": "code",
   "id": "f6aa55c9",
   "metadata": {
    "ExecuteTime": {
     "end_time": "2024-10-04T11:34:11.894585Z",
     "start_time": "2024-10-04T11:34:11.892249Z"
    }
   },
   "source": [
    "import numpy as np\n",
    "import scipy.optimize as optimize"
   ],
   "outputs": [],
   "execution_count": 3
  },
  {
   "cell_type": "code",
   "execution_count": 3,
   "id": "0847d643",
   "metadata": {},
   "outputs": [],
   "source": [
    "# case with 2 classes"
   ]
  },
  {
   "cell_type": "code",
   "id": "4924a8ab",
   "metadata": {
    "ExecuteTime": {
     "end_time": "2024-10-01T07:27:17.915966Z",
     "start_time": "2024-10-01T07:27:17.913393Z"
    }
   },
   "source": [
    "# demand function and variable cost\n",
    "a=100\n",
    "b=0.1\n",
    "c=200"
   ],
   "outputs": [],
   "execution_count": 4
  },
  {
   "cell_type": "code",
   "id": "9ddbdcc1",
   "metadata": {
    "ExecuteTime": {
     "end_time": "2024-10-01T07:27:11.727065Z",
     "start_time": "2024-10-01T07:27:11.724401Z"
    }
   },
   "source": [
    "# revenue function with two segments\n",
    "def f1(params):   \n",
    "    r1, r2 = params\n",
    "    # helper function demand to read out the demand for a set price\n",
    "    def demand(x):\n",
    "        return a-b*x\n",
    "    return -((r1-c)*demand(r1) + (r2-c)*(demand(r2)-demand(r1))) # negative value because we need to minimize"
   ],
   "outputs": [],
   "execution_count": 2
  },
  {
   "cell_type": "code",
   "id": "f777006b",
   "metadata": {
    "ExecuteTime": {
     "end_time": "2024-10-01T07:29:47.076982Z",
     "start_time": "2024-10-01T07:29:47.072353Z"
    }
   },
   "source": [
    "initial_guess = [2, 1]\n",
    "result = optimize.minimize(f1, initial_guess, method=\"Powell\")\n",
    "if result.success:\n",
    "    fitted_params = result.x\n",
    "    print(\"Optimal prices: {}\".format(fitted_params))\n",
    "    print(\"Maximized revenue: {}\".format(-1*result.fun))\n",
    "else:\n",
    "    raise ValueError(result.message)"
   ],
   "outputs": [
    {
     "name": "stdout",
     "output_type": "stream",
     "text": [
      "Optimal prices: [733.30258827 466.76624223]\n",
      "Maximized revenue: 21333.33194113239\n"
     ]
    }
   ],
   "execution_count": 7
  },
  {
   "metadata": {
    "ExecuteTime": {
     "end_time": "2024-10-04T12:13:28.612620Z",
     "start_time": "2024-10-04T12:13:28.610458Z"
    }
   },
   "cell_type": "code",
   "source": [
    "# Values\n",
    "a = 40_000\n",
    "b = 500"
   ],
   "id": "fcd66633d9942192",
   "outputs": [],
   "execution_count": 79
  },
  {
   "metadata": {
    "ExecuteTime": {
     "end_time": "2024-10-04T12:13:29.436813Z",
     "start_time": "2024-10-04T12:13:29.433094Z"
    }
   },
   "cell_type": "code",
   "source": [
    "def segments_f1(params):\n",
    "    c = 50_000 * len(params)\n",
    "    segments = []\n",
    "    \n",
    "    def demand(x):\n",
    "        return a-b*x\n",
    "    \n",
    "    if len(params) == 1:\n",
    "        x_value = (params[0]-c)\n",
    "        y_value = demand(params[0])\n",
    "        r_star_1 = x_value*y_value\n",
    "        return -r_star_1\n",
    "    elif len(params) == 2:\n",
    "        x_value = (params[0]-c)\n",
    "        y_value = demand(params[0])\n",
    "        r_star_1 = x_value*y_value\n",
    "        x_value = (params[1]-c)\n",
    "        y_value = (demand(params[1])-demand(params[0]))\n",
    "        r_star_2 = x_value*y_value\n",
    "        return -(r_star_1 + r_star_2)\n",
    "    \n",
    "    for rn in range(len(params)):\n",
    "        r = params[rn]\n",
    "        last_r = params[rn-1] if rn != 0 else 0\n",
    "        x_value = r-c\n",
    "        y_value = demand(r)-demand(last_r) if rn != 0 else demand(r)\n",
    "        segments.append(x_value*y_value)\n",
    "    \n",
    "    return -sum(segments) # negative value because we need to minimize"
   ],
   "id": "f3304288664d3973",
   "outputs": [],
   "execution_count": 80
  },
  {
   "metadata": {
    "ExecuteTime": {
     "end_time": "2024-10-04T13:00:25.180023Z",
     "start_time": "2024-10-04T13:00:25.168684Z"
    }
   },
   "cell_type": "code",
   "source": [
    "max_revenue = 0\n",
    "optimal_num_segments = 0\n",
    "\n",
    "for i in range(1, 20):\n",
    "    initial_guess = [1 for _ in range(1, i+1)]\n",
    "    result = optimize.minimize(segments_f1, initial_guess, method=\"Powell\")\n",
    "    if result.success:\n",
    "        fitted_params = result.x\n",
    "        if -1*result.fun > max_revenue:\n",
    "            max_revenue = -1*result.fun\n",
    "            optimal_num_segments = i\n",
    "    else:\n",
    "        raise ValueError(result.message)\n",
    "\n",
    "print(\"Optimal number of segments: {}\".format(optimal_num_segments))\n",
    "print(\"Maximized revenue: {}\".format(max_revenue))"
   ],
   "id": "d82ca2b7931a9e41",
   "outputs": [
    {
     "name": "stdout",
     "output_type": "stream",
     "text": [
      "Optimal number of segments: 4\n",
      "Maximized revenue: 7993553008371.891\n"
     ]
    }
   ],
   "execution_count": 83
  }
 ],
 "metadata": {
  "kernelspec": {
   "display_name": "Python 3 (ipykernel)",
   "language": "python",
   "name": "python3"
  },
  "language_info": {
   "codemirror_mode": {
    "name": "ipython",
    "version": 3
   },
   "file_extension": ".py",
   "mimetype": "text/x-python",
   "name": "python",
   "nbconvert_exporter": "python",
   "pygments_lexer": "ipython3",
   "version": "3.7.3"
  }
 },
 "nbformat": 4,
 "nbformat_minor": 5
}
