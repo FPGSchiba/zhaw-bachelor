{
 "cells": [
  {
   "cell_type": "code",
   "id": "1a911cfc",
   "metadata": {},
   "source": [
    "# documentation scipy.stats.norm: https://docs.scipy.org/doc/scipy/reference/generated/scipy.stats.norm.html"
   ],
   "outputs": [],
   "execution_count": null
  },
  {
   "cell_type": "code",
   "id": "483cde22",
   "metadata": {
    "ExecuteTime": {
     "end_time": "2024-10-20T16:31:39.571083Z",
     "start_time": "2024-10-20T16:31:36.341256Z"
    }
   },
   "source": [
    "from scipy.stats import norm\n",
    "import numpy as np"
   ],
   "outputs": [],
   "execution_count": 2
  },
  {
   "cell_type": "code",
   "id": "49f0f823",
   "metadata": {},
   "source": [
    "# EMSR a with 3 classes\n",
    "r = [300, 100, 50]  # prices\n",
    "mu = [35, 25, 500]  # means\n",
    "sigma = [2, 2, 2]  # sds\n",
    "C = 160  # capacity"
   ],
   "outputs": [],
   "execution_count": null
  },
  {
   "cell_type": "code",
   "id": "ef7f7b57",
   "metadata": {},
   "source": [
    "# Values for G2\n",
    "G_3_1 = np.round(norm(mu[0], sigma[0]).ppf(1-r[2]/r[0]),0)\n",
    "G_3_2 = np.round(norm(mu[1], sigma[1]).ppf(1-r[2]/r[1]),0)\n",
    "G2 = G_3_1 + G_3_2\n",
    "B3 = C - G2\n",
    "\n",
    "G1 = np.round(norm(mu[0], sigma[0]).ppf(1-r[1]/r[0]),0)  #ppf=percent point function (inverse of cumulative distribution function)\n",
    "B2 = C-G1\n",
    "B1 = C\n",
    "G3 = C\n"
   ],
   "outputs": [],
   "execution_count": null
  },
  {
   "cell_type": "code",
   "id": "d42fd4cd",
   "metadata": {},
   "source": [
    "print(\"G1: {}\".format(G1))\n",
    "print(\"G2: {}\".format(G2))\n",
    "print(\"G3: {}\".format(G3))\n",
    "print(\"B1: {}\".format(B1))\n",
    "print(\"B2: {}\".format(B2))\n",
    "print(\"B3: {}\".format(B3))\n"
   ],
   "outputs": [],
   "execution_count": null
  },
  {
   "cell_type": "code",
   "id": "fc7b77d2",
   "metadata": {},
   "source": [
    "# EMSR b with 3 classes\n",
    "r = [300, 100, 50]  # prices\n",
    "mu = [35, 25, 500]  # mean values\n",
    "sigma = [2, 2, 2]  # SDs\n",
    "C = 160  # capacity"
   ],
   "outputs": [],
   "execution_count": null
  },
  {
   "cell_type": "code",
   "id": "3a707935",
   "metadata": {},
   "source": [
    "# G2\n",
    "mu_2_est = mu[0] + mu[1] # estimated mu\n",
    "sigma_2_est = np.sqrt(sigma[0]**2 + sigma[1]**2)  # estimated sigma\n",
    "r_2_est = (mu[0]*r[0] + mu[1]*r[1])/(mu[0]+mu[1]) # weighted mean   \n",
    "G2 = np.round(norm(mu_2_est, sigma_2_est).ppf(1-r[2]/r_2_est),0)\n",
    "B3 = C-G2\n",
    "G1 = np.round(norm(mu[0], sigma[0]).ppf(1-r[1]/r[0]),0)  #ppf=percent point function (inverse of cumulative distribution function)\n",
    "B2 = C-G1\n",
    "B1= C\n",
    "G3 = C"
   ],
   "outputs": [],
   "execution_count": null
  },
  {
   "cell_type": "code",
   "id": "1e1ebcdf",
   "metadata": {},
   "source": [
    "print(\"G1: {}\".format(G1))\n",
    "print(\"G2: {}\".format(G2))\n",
    "print(\"G3: {}\".format(G3))\n",
    "print(\"B1: {}\".format(B1))\n",
    "print(\"B2: {}\".format(B2))\n",
    "print(\"B3: {}\".format(B3))"
   ],
   "outputs": [],
   "execution_count": null
  },
  {
   "metadata": {
    "ExecuteTime": {
     "end_time": "2024-10-20T16:48:22.150049Z",
     "start_time": "2024-10-20T16:48:22.141434Z"
    }
   },
   "cell_type": "code",
   "source": [
    "def emsr_a(c: int, r: list, mu: list, sigma: list):\n",
    "    if len(r) != len(mu) or len(r) != len(sigma):\n",
    "        raise ValueError('This does not work')\n",
    "    \n",
    "    num_classes = len(r)\n",
    "    booking_limits = []\n",
    "    protection_limits = []\n",
    "\n",
    "    booking_limits.append(c) # Adding B_1 to the booking limits\n",
    "\n",
    "    # From Class 1 to n-1\n",
    "    for i in range(1, num_classes):\n",
    "        G_limits = []\n",
    "        for j in range(i):\n",
    "            # Formula for G_i\n",
    "            G_limits.append(np.round(norm(mu[j], sigma[j]).ppf(1-r[i]/r[j]),0))\n",
    "        booking_limits.append(int(c-sum(G_limits)))  # Type conversion to int from numpy.int64\n",
    "        protection_limits.append(int(sum(G_limits))) # Type conversion to int from numpy.int64\n",
    "\n",
    "    protection_limits.append(c) # Adding G_n to the protection limits\n",
    "    \n",
    "    return booking_limits, protection_limits\n",
    "\n",
    "# Test case\n",
    "r = [300, 200, 100, 50, 25]  # ordered prices per class\n",
    "mu = [10, 15, 25, 50, 500]  # ordered class demand means\n",
    "sigma = [2, 2, 3, 3, 5]  # ordered class standard deviations\n",
    "C = 160  # capacity\n",
    "bl, pl = emsr_a(C, r, mu, sigma)\n",
    "print(f'Booking limits: {bl}')\n",
    "print(f'Protection limits: {pl}')"
   ],
   "id": "dc4246c4767954e3",
   "outputs": [
    {
     "name": "stdout",
     "output_type": "stream",
     "text": [
      "Booking limits: [160, 151, 134, 107, 53]\n",
      "Protection limits: [9, 26, 53, 107, 160]\n"
     ]
    }
   ],
   "execution_count": 23
  },
  {
   "metadata": {
    "ExecuteTime": {
     "end_time": "2024-10-20T17:01:14.114359Z",
     "start_time": "2024-10-20T17:01:14.103708Z"
    }
   },
   "cell_type": "code",
   "source": [
    "def emsr_b(c: int, r: list, mu: list, sigma: list):\n",
    "    if len(r) != len(mu) or len(r) != len(sigma):\n",
    "        raise ValueError('This does not work')\n",
    "    \n",
    "    num_classes = len(r)\n",
    "    booking_limits = []\n",
    "    protection_limits = []\n",
    "\n",
    "    booking_limits.append(c) # Adding B_1 to the booking limits\n",
    "    G1 = int(np.round(norm(mu[0], sigma[0]).ppf(1-r[1]/r[0]),0))\n",
    "    protection_limits.append(G1) # Adding G_1 to the protection limits\n",
    "    booking_limits.append(c-G1) # Adding B_2 to the booking limits\n",
    "\n",
    "    # From Class 1 to n-2 (Two classes are already done)\n",
    "    for i in range(1, num_classes-1):\n",
    "        mu_est = 0\n",
    "        sigma_est = 0\n",
    "        r_est = 0\n",
    "        \n",
    "        # Aggregation of the normal distributions\n",
    "        for j in range(i+1):\n",
    "            mu_est += mu[j]\n",
    "            sigma_est += sigma[j]**2\n",
    "            r_est += mu[j]*r[j]\n",
    "        sigma_est = np.sqrt(sigma_est) # SQRT of the sum of the variances\n",
    "        r_est = r_est/mu_est # Weighted mean\n",
    "        G_i = int(np.round(norm(mu_est, sigma_est).ppf(1-r[i+1]/r_est),0))\n",
    "        booking_limits.append(c-G_i) # Adding B_i+1 to the booking limits\n",
    "        protection_limits.append(G_i) # Adding G_i to the protection limits\n",
    "\n",
    "    protection_limits.append(c) # Adding G_n to the protection limits\n",
    "    \n",
    "    return booking_limits, protection_limits\n",
    "\n",
    "r = [500, 400, 200, 100, 50, 25]  # ordered prices per class \n",
    "mu = [4, 8, 15, 25, 50, 500]  # ordered class demand means\n",
    "sigma = [2, 2, 4, 10, 20, 50]  # ordered class standard deviations\n",
    "C = 200  # capacity\n",
    "bl, pl = emsr_b(C, r, mu, sigma)\n",
    "print(f'Booking limits: {bl}')\n",
    "print(f'Protection limits: {pl}')"
   ],
   "id": "5c88b22325a73aff",
   "outputs": [
    {
     "name": "stdout",
     "output_type": "stream",
     "text": [
      "Booking limits: [200, 198, 188, 171, 140, 78]\n",
      "Protection limits: [2, 12, 29, 60, 122, 200]\n"
     ]
    }
   ],
   "execution_count": 37
  }
 ],
 "metadata": {
  "kernelspec": {
   "display_name": "Python 3 (ipykernel)",
   "language": "python",
   "name": "python3"
  },
  "language_info": {
   "codemirror_mode": {
    "name": "ipython",
    "version": 3
   },
   "file_extension": ".py",
   "mimetype": "text/x-python",
   "name": "python",
   "nbconvert_exporter": "python",
   "pygments_lexer": "ipython3",
   "version": "3.7.3"
  }
 },
 "nbformat": 4,
 "nbformat_minor": 5
}
