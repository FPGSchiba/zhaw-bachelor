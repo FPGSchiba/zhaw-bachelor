{
 "cells": [
  {
   "cell_type": "code",
   "id": "initial_id",
   "metadata": {
    "collapsed": true,
    "ExecuteTime": {
     "end_time": "2024-10-22T12:38:20.717869Z",
     "start_time": "2024-10-22T12:38:18.796991Z"
    }
   },
   "source": [
    "#!pip install torch torchvision\n",
    "import torch\n",
    "import torchvision\n",
    "import torchvision.transforms as transforms"
   ],
   "outputs": [],
   "execution_count": 1
  },
  {
   "metadata": {
    "ExecuteTime": {
     "end_time": "2024-10-22T12:38:29.181393Z",
     "start_time": "2024-10-22T12:38:27.477970Z"
    }
   },
   "cell_type": "code",
   "source": [
    "transform = transforms.Compose(\n",
    "    [transforms.ToTensor(),\n",
    "     transforms.Normalize((0.5, 0.5, 0.5), (0.5, 0.5, 0.5))])\n",
    "\n",
    "batch_size = 4\n",
    "\n",
    "trainset = torchvision.datasets.CIFAR100(root='./data', train=True,\n",
    "                                        download=True, transform=transform)\n",
    "trainloader = torch.utils.data.DataLoader(trainset, batch_size=batch_size,\n",
    "                                          shuffle=True, num_workers=2)\n",
    "\n",
    "testset = torchvision.datasets.CIFAR100(root='./data', train=False,\n",
    "                                       download=True, transform=transform)\n",
    "testloader = torch.utils.data.DataLoader(testset, batch_size=batch_size,\n",
    "                                         shuffle=False, num_workers=2)\n",
    "\n",
    "classes = trainloader.dataset.classes"
   ],
   "id": "c8b5fab114f8fea7",
   "outputs": [
    {
     "name": "stdout",
     "output_type": "stream",
     "text": [
      "Files already downloaded and verified\n",
      "Files already downloaded and verified\n"
     ]
    }
   ],
   "execution_count": 2
  },
  {
   "metadata": {
    "ExecuteTime": {
     "end_time": "2024-10-22T12:38:36.008729Z",
     "start_time": "2024-10-22T12:38:30.957956Z"
    }
   },
   "cell_type": "code",
   "source": [
    "import matplotlib.pyplot as plt\n",
    "import numpy as np\n",
    "\n",
    "# functions to show an image\n",
    "\n",
    "\n",
    "def imshow(img):\n",
    "    img = img / 2 + 0.5     # unnormalize\n",
    "    npimg = img.numpy()\n",
    "    plt.imshow(np.transpose(npimg, (1, 2, 0)))\n",
    "    plt.show()\n",
    "\n",
    "\n",
    "# get some random training images\n",
    "dataiter = iter(trainloader)\n",
    "images, labels = next(dataiter)\n",
    "\n",
    "# show images\n",
    "imshow(torchvision.utils.make_grid(images))\n",
    "# print labels\n",
    "print(' '.join(f'{classes[labels[j]]:5s}' for j in range(batch_size)))"
   ],
   "id": "9f81d8e9b3cbfefc",
   "outputs": [
    {
     "data": {
      "text/plain": [
       "<Figure size 640x480 with 1 Axes>"
      ],
      "image/png": "[encoded data removed]"
     },
     "metadata": {},
     "output_type": "display_data"
    },
    {
     "name": "stdout",
     "output_type": "stream",
     "text": [
      "pear  ray   pickup_truck mushroom\n"
     ]
    }
   ],
   "execution_count": 3
  },
  {
   "metadata": {
    "ExecuteTime": {
     "end_time": "2024-10-22T12:42:19.468004Z",
     "start_time": "2024-10-22T12:42:19.460824Z"
    }
   },
   "cell_type": "code",
   "source": [
    "import torch.nn as nn\n",
    "import torch.nn.functional as F\n",
    "\n",
    "\n",
    "class Net(nn.Module):\n",
    "    def __init__(self):\n",
    "        super().__init__()\n",
    "        self.conv1 = nn.Conv2d(3, 6, 5)\n",
    "        self.pool = nn.MaxPool2d(2, 2)\n",
    "        self.conv2 = nn.Conv2d(6, 16, 5)\n",
    "        self.fc1 = nn.Linear(16 * 5 * 5, 120)\n",
    "        self.fc2 = nn.Linear(120, 84)\n",
    "        self.fc3 = nn.Linear(84, len(classes))\n",
    "\n",
    "    def forward(self, x):\n",
    "        x = self.pool(F.relu(self.conv1(x)))\n",
    "        x = self.pool(F.relu(self.conv2(x)))\n",
    "        x = torch.flatten(x, 1) # flatten all dimensions except batch\n",
    "        x = F.relu(self.fc1(x))\n",
    "        x = F.relu(self.fc2(x))\n",
    "        x = self.fc3(x)\n",
    "        return x\n",
    "\n",
    "device = torch.device('cuda:0' if torch.cuda.is_available() else 'cpu')\n",
    "net = Net()\n",
    "net.to(device)"
   ],
   "id": "74b3df231bba58e7",
   "outputs": [
    {
     "data": {
      "text/plain": [
       "Net(\n",
       "  (conv1): Conv2d(3, 6, kernel_size=(5, 5), stride=(1, 1))\n",
       "  (pool): MaxPool2d(kernel_size=2, stride=2, padding=0, dilation=1, ceil_mode=False)\n",
       "  (conv2): Conv2d(6, 16, kernel_size=(5, 5), stride=(1, 1))\n",
       "  (fc1): Linear(in_features=400, out_features=120, bias=True)\n",
       "  (fc2): Linear(in_features=120, out_features=84, bias=True)\n",
       "  (fc3): Linear(in_features=84, out_features=100, bias=True)\n",
       ")"
      ]
     },
     "execution_count": 9,
     "metadata": {},
     "output_type": "execute_result"
    }
   ],
   "execution_count": 9
  },
  {
   "metadata": {
    "ExecuteTime": {
     "end_time": "2024-10-22T12:42:23.559838Z",
     "start_time": "2024-10-22T12:42:23.557608Z"
    }
   },
   "cell_type": "code",
   "source": [
    "import torch.optim as optim\n",
    "\n",
    "criterion = nn.CrossEntropyLoss()\n",
    "optimizer = optim.SGD(net.parameters(), lr=0.001, momentum=0.9)"
   ],
   "id": "58e2983f0089153",
   "outputs": [],
   "execution_count": 10
  },
  {
   "metadata": {
    "ExecuteTime": {
     "end_time": "2024-10-22T12:48:22.670402Z",
     "start_time": "2024-10-22T12:42:25.150233Z"
    }
   },
   "cell_type": "code",
   "source": [
    "for epoch in range(8):  # loop over the dataset multiple times\n",
    "    running_loss = 0.0\n",
    "    for i, data in enumerate(trainloader, 0):\n",
    "        # get the inputs; data is a list of [inputs, labels]\n",
    "        inputs, labels = data\n",
    "\n",
    "        # zero the parameter gradients\n",
    "        optimizer.zero_grad()\n",
    "\n",
    "        # forward + backward + optimize\n",
    "        outputs = net(inputs)\n",
    "        loss = criterion(outputs, labels)\n",
    "        loss.backward()\n",
    "        optimizer.step()\n",
    "\n",
    "        # print statistics\n",
    "        running_loss += loss.item()\n",
    "        if i % 2000 == 1999:    # print every 2000 mini-batches\n",
    "            print(f'[{epoch + 1}, {i + 1:5d}] loss: {running_loss / 2000:.3f}')\n",
    "            running_loss = 0.0\n",
    "\n",
    "print('Finished Training')"
   ],
   "id": "b61812d0ebab8706",
   "outputs": [
    {
     "name": "stdout",
     "output_type": "stream",
     "text": [
      "[1,  2000] loss: 4.603\n",
      "[1,  4000] loss: 4.505\n",
      "[1,  6000] loss: 4.422\n",
      "[1,  8000] loss: 4.330\n",
      "[1, 10000] loss: 4.220\n",
      "[1, 12000] loss: 4.065\n",
      "[2,  2000] loss: 3.895\n",
      "[2,  4000] loss: 3.810\n",
      "[2,  6000] loss: 3.732\n",
      "[2,  8000] loss: 3.638\n",
      "[2, 10000] loss: 3.556\n",
      "[2, 12000] loss: 3.519\n",
      "[3,  2000] loss: 3.411\n",
      "[3,  4000] loss: 3.379\n",
      "[3,  6000] loss: 3.374\n",
      "[3,  8000] loss: 3.353\n",
      "[3, 10000] loss: 3.299\n",
      "[3, 12000] loss: 3.292\n",
      "[4,  2000] loss: 3.182\n",
      "[4,  4000] loss: 3.187\n",
      "[4,  6000] loss: 3.179\n",
      "[4,  8000] loss: 3.176\n",
      "[4, 10000] loss: 3.135\n",
      "[4, 12000] loss: 3.165\n",
      "[5,  2000] loss: 3.022\n",
      "[5,  4000] loss: 3.073\n",
      "[5,  6000] loss: 3.089\n",
      "[5,  8000] loss: 3.061\n",
      "[5, 10000] loss: 3.072\n",
      "[5, 12000] loss: 3.017\n",
      "[6,  2000] loss: 2.953\n",
      "[6,  4000] loss: 2.956\n",
      "[6,  6000] loss: 2.980\n",
      "[6,  8000] loss: 2.983\n",
      "[6, 10000] loss: 3.006\n",
      "[6, 12000] loss: 2.962\n",
      "[7,  2000] loss: 2.843\n",
      "[7,  4000] loss: 2.877\n",
      "[7,  6000] loss: 2.897\n",
      "[7,  8000] loss: 2.960\n",
      "[7, 10000] loss: 2.898\n",
      "[7, 12000] loss: 2.948\n",
      "[8,  2000] loss: 2.816\n",
      "[8,  4000] loss: 2.801\n",
      "[8,  6000] loss: 2.853\n",
      "[8,  8000] loss: 2.852\n",
      "[8, 10000] loss: 2.857\n",
      "[8, 12000] loss: 2.899\n",
      "[9,  2000] loss: 2.733\n",
      "[9,  4000] loss: 2.775\n",
      "[9,  6000] loss: 2.769\n",
      "[9,  8000] loss: 2.818\n",
      "[9, 10000] loss: 2.846\n",
      "[9, 12000] loss: 2.834\n",
      "[10,  2000] loss: 2.700\n",
      "[10,  4000] loss: 2.700\n",
      "[10,  6000] loss: 2.736\n",
      "[10,  8000] loss: 2.754\n",
      "[10, 10000] loss: 2.791\n",
      "[10, 12000] loss: 2.831\n",
      "Finished Training\n"
     ]
    }
   ],
   "execution_count": 11
  },
  {
   "metadata": {
    "ExecuteTime": {
     "end_time": "2024-10-22T12:48:27.315614Z",
     "start_time": "2024-10-22T12:48:27.308657Z"
    }
   },
   "cell_type": "code",
   "source": [
    "PATH = './cifar_net.pth'\n",
    "torch.save(net.state_dict(), PATH)"
   ],
   "id": "9222daa0388af247",
   "outputs": [],
   "execution_count": 12
  },
  {
   "metadata": {
    "ExecuteTime": {
     "end_time": "2024-10-22T12:48:34.282669Z",
     "start_time": "2024-10-22T12:48:30.133919Z"
    }
   },
   "cell_type": "code",
   "source": [
    "dataiter = iter(testloader)\n",
    "images, labels = next(dataiter)\n",
    "\n",
    "# print images\n",
    "imshow(torchvision.utils.make_grid(images))\n",
    "print('GroundTruth: ', ' '.join(f'{classes[labels[j]]:5s}' for j in range(4)))"
   ],
   "id": "62a8efc6052778f5",
   "outputs": [
    {
     "data": {
      "text/plain": [
       "<Figure size 640x480 with 1 Axes>"
      ],
      "image/png": "[encoded data removed]"
     },
     "metadata": {},
     "output_type": "display_data"
    },
    {
     "name": "stdout",
     "output_type": "stream",
     "text": [
      "GroundTruth:  mountain forest seal  mushroom\n"
     ]
    }
   ],
   "execution_count": 13
  },
  {
   "metadata": {
    "ExecuteTime": {
     "end_time": "2024-10-22T12:48:39.438773Z",
     "start_time": "2024-10-22T12:48:39.431156Z"
    }
   },
   "cell_type": "code",
   "source": [
    "# Predict\n",
    "net = Net()\n",
    "net.load_state_dict(torch.load(PATH, weights_only=True))"
   ],
   "id": "cdac928ce62331aa",
   "outputs": [
    {
     "data": {
      "text/plain": [
       "<All keys matched successfully>"
      ]
     },
     "execution_count": 14,
     "metadata": {},
     "output_type": "execute_result"
    }
   ],
   "execution_count": 14
  },
  {
   "metadata": {
    "ExecuteTime": {
     "end_time": "2024-10-22T12:48:42.144828Z",
     "start_time": "2024-10-22T12:48:42.141896Z"
    }
   },
   "cell_type": "code",
   "source": "outputs = net(images)",
   "id": "ec490eec56472d41",
   "outputs": [],
   "execution_count": 15
  },
  {
   "metadata": {
    "ExecuteTime": {
     "end_time": "2024-10-22T12:48:43.881105Z",
     "start_time": "2024-10-22T12:48:43.877626Z"
    }
   },
   "cell_type": "code",
   "source": [
    "_, predicted = torch.max(outputs, 1)\n",
    "\n",
    "print('Predicted: ', ' '.join(f'{classes[predicted[j]]:5s}'\n",
    "                              for j in range(4)))"
   ],
   "id": "a8e7900862f07942",
   "outputs": [
    {
     "name": "stdout",
     "output_type": "stream",
     "text": [
      "Predicted:  tank  kangaroo camel mushroom\n"
     ]
    }
   ],
   "execution_count": 16
  },
  {
   "metadata": {
    "ExecuteTime": {
     "end_time": "2024-10-22T12:49:03.391269Z",
     "start_time": "2024-10-22T12:48:47.351392Z"
    }
   },
   "cell_type": "code",
   "source": [
    "correct = 0\n",
    "total = 0\n",
    "# since we're not training, we don't need to calculate the gradients for our outputs\n",
    "with torch.no_grad():\n",
    "    for data in testloader:\n",
    "        images, labels = data\n",
    "        # calculate outputs by running images through the network\n",
    "        outputs = net(images)\n",
    "        # the class with the highest energy is what we choose as prediction\n",
    "        _, predicted = torch.max(outputs.data, 1)\n",
    "        total += labels.size(0)\n",
    "        correct += (predicted == labels).sum().item()\n",
    "\n",
    "print(f'Accuracy of the network on the 10000 test images: {100 * correct // total} %')"
   ],
   "id": "72aa5ead72932562",
   "outputs": [
    {
     "name": "stdout",
     "output_type": "stream",
     "text": [
      "Accuracy of the network on the 10000 test images: 25 %\n"
     ]
    }
   ],
   "execution_count": 17
  },
  {
   "metadata": {
    "ExecuteTime": {
     "end_time": "2024-10-22T12:49:23.748994Z",
     "start_time": "2024-10-22T12:49:07.797196Z"
    }
   },
   "cell_type": "code",
   "source": [
    "# prepare to count predictions for each class\n",
    "correct_pred = {classname: 0 for classname in classes}\n",
    "total_pred = {classname: 0 for classname in classes}\n",
    "\n",
    "# again no gradients needed\n",
    "with torch.no_grad():\n",
    "    for data in testloader:\n",
    "        images, labels = data\n",
    "        outputs = net(images)\n",
    "        _, predictions = torch.max(outputs, 1)\n",
    "        # collect the correct predictions for each class\n",
    "        for label, prediction in zip(labels, predictions):\n",
    "            if label == prediction:\n",
    "                correct_pred[classes[label]] += 1\n",
    "            total_pred[classes[label]] += 1\n",
    "\n",
    "\n",
    "# print accuracy for each class\n",
    "for classname, correct_count in correct_pred.items():\n",
    "    accuracy = 100 * float(correct_count) / total_pred[classname]\n",
    "    print(f'Accuracy for class: {classname:5s} is {accuracy:.1f} %')"
   ],
   "id": "c7a2facaa637c4ac",
   "outputs": [
    {
     "name": "stdout",
     "output_type": "stream",
     "text": [
      "Accuracy for class: apple is 45.0 %\n",
      "Accuracy for class: aquarium_fish is 43.0 %\n",
      "Accuracy for class: baby  is 15.0 %\n",
      "Accuracy for class: bear  is 11.0 %\n",
      "Accuracy for class: beaver is 2.0 %\n",
      "Accuracy for class: bed   is 21.0 %\n",
      "Accuracy for class: bee   is 33.0 %\n",
      "Accuracy for class: beetle is 30.0 %\n",
      "Accuracy for class: bicycle is 25.0 %\n",
      "Accuracy for class: bottle is 26.0 %\n",
      "Accuracy for class: bowl  is 6.0 %\n",
      "Accuracy for class: boy   is 10.0 %\n",
      "Accuracy for class: bridge is 15.0 %\n",
      "Accuracy for class: bus   is 17.0 %\n",
      "Accuracy for class: butterfly is 12.0 %\n",
      "Accuracy for class: camel is 4.0 %\n",
      "Accuracy for class: can   is 17.0 %\n",
      "Accuracy for class: castle is 46.0 %\n",
      "Accuracy for class: caterpillar is 26.0 %\n",
      "Accuracy for class: cattle is 23.0 %\n",
      "Accuracy for class: chair is 33.0 %\n",
      "Accuracy for class: chimpanzee is 19.0 %\n",
      "Accuracy for class: clock is 10.0 %\n",
      "Accuracy for class: cloud is 52.0 %\n",
      "Accuracy for class: cockroach is 56.0 %\n",
      "Accuracy for class: couch is 14.0 %\n",
      "Accuracy for class: crab  is 15.0 %\n",
      "Accuracy for class: crocodile is 14.0 %\n",
      "Accuracy for class: cup   is 32.0 %\n",
      "Accuracy for class: dinosaur is 23.0 %\n",
      "Accuracy for class: dolphin is 23.0 %\n",
      "Accuracy for class: elephant is 18.0 %\n",
      "Accuracy for class: flatfish is 27.0 %\n",
      "Accuracy for class: forest is 30.0 %\n",
      "Accuracy for class: fox   is 7.0 %\n",
      "Accuracy for class: girl  is 8.0 %\n",
      "Accuracy for class: hamster is 24.0 %\n",
      "Accuracy for class: house is 22.0 %\n",
      "Accuracy for class: kangaroo is 14.0 %\n",
      "Accuracy for class: keyboard is 21.0 %\n",
      "Accuracy for class: lamp  is 22.0 %\n",
      "Accuracy for class: lawn_mower is 54.0 %\n",
      "Accuracy for class: leopard is 9.0 %\n",
      "Accuracy for class: lion  is 9.0 %\n",
      "Accuracy for class: lizard is 14.0 %\n",
      "Accuracy for class: lobster is 10.0 %\n",
      "Accuracy for class: man   is 10.0 %\n",
      "Accuracy for class: maple_tree is 26.0 %\n",
      "Accuracy for class: motorcycle is 45.0 %\n",
      "Accuracy for class: mountain is 39.0 %\n",
      "Accuracy for class: mouse is 10.0 %\n",
      "Accuracy for class: mushroom is 20.0 %\n",
      "Accuracy for class: oak_tree is 79.0 %\n",
      "Accuracy for class: orange is 47.0 %\n",
      "Accuracy for class: orchid is 53.0 %\n",
      "Accuracy for class: otter is 2.0 %\n",
      "Accuracy for class: palm_tree is 24.0 %\n",
      "Accuracy for class: pear  is 23.0 %\n",
      "Accuracy for class: pickup_truck is 37.0 %\n",
      "Accuracy for class: pine_tree is 21.0 %\n",
      "Accuracy for class: plain is 80.0 %\n",
      "Accuracy for class: plate is 33.0 %\n",
      "Accuracy for class: poppy is 51.0 %\n",
      "Accuracy for class: porcupine is 25.0 %\n",
      "Accuracy for class: possum is 6.0 %\n",
      "Accuracy for class: rabbit is 8.0 %\n",
      "Accuracy for class: raccoon is 12.0 %\n",
      "Accuracy for class: ray   is 15.0 %\n",
      "Accuracy for class: road  is 61.0 %\n",
      "Accuracy for class: rocket is 49.0 %\n",
      "Accuracy for class: rose  is 31.0 %\n",
      "Accuracy for class: sea   is 26.0 %\n",
      "Accuracy for class: seal  is 1.0 %\n",
      "Accuracy for class: shark is 38.0 %\n",
      "Accuracy for class: shrew is 22.0 %\n",
      "Accuracy for class: skunk is 58.0 %\n",
      "Accuracy for class: skyscraper is 44.0 %\n",
      "Accuracy for class: snail is 9.0 %\n",
      "Accuracy for class: snake is 9.0 %\n",
      "Accuracy for class: spider is 15.0 %\n",
      "Accuracy for class: squirrel is 4.0 %\n",
      "Accuracy for class: streetcar is 24.0 %\n",
      "Accuracy for class: sunflower is 50.0 %\n",
      "Accuracy for class: sweet_pepper is 33.0 %\n",
      "Accuracy for class: table is 25.0 %\n",
      "Accuracy for class: tank  is 39.0 %\n",
      "Accuracy for class: telephone is 33.0 %\n",
      "Accuracy for class: television is 17.0 %\n",
      "Accuracy for class: tiger is 12.0 %\n",
      "Accuracy for class: tractor is 37.0 %\n",
      "Accuracy for class: train is 22.0 %\n",
      "Accuracy for class: trout is 46.0 %\n",
      "Accuracy for class: tulip is 6.0 %\n",
      "Accuracy for class: turtle is 22.0 %\n",
      "Accuracy for class: wardrobe is 43.0 %\n",
      "Accuracy for class: whale is 38.0 %\n",
      "Accuracy for class: willow_tree is 29.0 %\n",
      "Accuracy for class: wolf  is 21.0 %\n",
      "Accuracy for class: woman is 8.0 %\n",
      "Accuracy for class: worm  is 12.0 %\n"
     ]
    }
   ],
   "execution_count": 18
  }
 ],
 "metadata": {
  "kernelspec": {
   "display_name": "Python 3",
   "language": "python",
   "name": "python3"
  },
  "language_info": {
   "codemirror_mode": {
    "name": "ipython",
    "version": 2
   },
   "file_extension": ".py",
   "mimetype": "text/x-python",
   "name": "python",
   "nbconvert_exporter": "python",
   "pygments_lexer": "ipython2",
   "version": "2.7.6"
  }
 },
 "nbformat": 4,
 "nbformat_minor": 5
}
