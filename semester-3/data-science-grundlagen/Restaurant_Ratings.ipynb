{
 "cells": [
  {
   "metadata": {
    "ExecuteTime": {
     "end_time": "2024-10-08T11:58:13.202915Z",
     "start_time": "2024-10-08T11:58:13.200371Z"
    }
   },
   "cell_type": "code",
   "source": [
    "#%pip install googlemaps\n",
    "import googlemaps\n",
    "import time\n",
    "import pandas as pd\n",
    "import os\n",
    "from dotenv import load_dotenv"
   ],
   "id": "6f94bc0752afc934",
   "outputs": [],
   "execution_count": 2
  },
  {
   "metadata": {
    "ExecuteTime": {
     "end_time": "2024-10-08T12:07:57.811194Z",
     "start_time": "2024-10-08T12:07:57.805137Z"
    }
   },
   "cell_type": "code",
   "source": [
    "load_dotenv()\n",
    "gmaps = googlemaps.Client(key=os.getenv('GOOGLE_MAPS_API_KEY'))\n",
    "query = \"Winterthur, Switzerland\""
   ],
   "id": "3b244e4b66d683fb",
   "outputs": [],
   "execution_count": 28
  },
  {
   "metadata": {
    "ExecuteTime": {
     "end_time": "2024-10-08T12:04:09.012479Z",
     "start_time": "2024-10-08T12:04:09.010104Z"
    }
   },
   "cell_type": "code",
   "source": [
    "def restaurant_response(response_items):\n",
    "    restaurant_responses = []\n",
    "    for item in response_items:\n",
    "        item_dict = {}\n",
    "        item_dict['name'], item_dict['place_id'], item_dict['price_level'], item_dict['rating'], item_dict['user_ratings_total'], item_dict['address'] = item.get('name'), item.get('place_id'), item.get('price_level'), item.get('rating'), item.get('user_ratings_total'), item.get('formatted_address')\n",
    "        restaurant_responses.append(item_dict)\n",
    "    return restaurant_responses"
   ],
   "id": "91b1073d28b077c0",
   "outputs": [],
   "execution_count": 20
  },
  {
   "metadata": {
    "ExecuteTime": {
     "end_time": "2024-10-08T12:08:05.036735Z",
     "start_time": "2024-10-08T12:07:59.475604Z"
    }
   },
   "cell_type": "code",
   "source": [
    "restaurants = []\n",
    "query_result = gmaps.places(query, type=\"restaurant\", radius=10_000)\n",
    "restaurants.extend(restaurant_response(query_result['results']))\n",
    "while query_result.get('next_page_token') is not None:\n",
    "    print(f\"Finding more restaurants in Winterthur, Switzerland\")\n",
    "    time.sleep(2)\n",
    "    query_result = gmaps.places(page_token=query_result['next_page_token'])\n",
    "    response_items = query_result['results']\n",
    "    restaurants.extend(restaurant_response(response_items))"
   ],
   "id": "89e9130641c9f891",
   "outputs": [
    {
     "name": "stdout",
     "output_type": "stream",
     "text": [
      "Finding more restaurants in Winterthur, Switzerland\n",
      "Finding more restaurants in Winterthur, Switzerland\n"
     ]
    }
   ],
   "execution_count": 29
  },
  {
   "metadata": {
    "ExecuteTime": {
     "end_time": "2024-10-08T12:08:08.819039Z",
     "start_time": "2024-10-08T12:08:08.813190Z"
    }
   },
   "cell_type": "code",
   "source": "pd.DataFrame(restaurants).to_csv('restaurants.csv', index=False)",
   "id": "d252c82d2bcead4e",
   "outputs": [],
   "execution_count": 30
  },
  {
   "metadata": {
    "ExecuteTime": {
     "end_time": "2024-10-08T13:26:05.067180Z",
     "start_time": "2024-10-08T13:26:03.589405Z"
    }
   },
   "cell_type": "code",
   "source": [
    "#%pip install tqdm\n",
    "import requests\n",
    "from tqdm import tqdm"
   ],
   "id": "2d51809c9ab1bb6c",
   "outputs": [
    {
     "name": "stdout",
     "output_type": "stream",
     "text": [
      "Collecting tqdm\r\n",
      "  Downloading tqdm-4.66.5-py3-none-any.whl.metadata (57 kB)\r\n",
      "Downloading tqdm-4.66.5-py3-none-any.whl (78 kB)\r\n",
      "Installing collected packages: tqdm\r\n",
      "Successfully installed tqdm-4.66.5\r\n",
      "Note: you may need to restart the kernel to use updated packages.\n"
     ]
    }
   ],
   "execution_count": 40
  },
  {
   "metadata": {
    "ExecuteTime": {
     "end_time": "2024-10-08T18:43:32.519306Z",
     "start_time": "2024-10-08T18:41:16.660604Z"
    }
   },
   "cell_type": "code",
   "source": [
    "headers = {\n",
    "    'User-Agent': 'Mozilla/5.0 (Windows NT 10.0; Win64; x64) AppleWebKit/537.36 (KHTML, like Gecko) Chrome/58.0.3029.110 Safari/537.36',\n",
    "    'Referer': 'http://www.google.com'\n",
    "}\n",
    "\n",
    "osm_join_data = {\n",
    "    'google_places_id': [],\n",
    "    'osm_id': [],\n",
    "}\n",
    "\n",
    "osm_restaurants = []\n",
    "\n",
    "restaurant_iter = tqdm(restaurants)\n",
    "amenity_types = ['restaurant', 'cafe', 'fast_food', 'bar', 'pub', 'food_court', 'ice_cream', 'biergarten', 'bbq', 'deli', 'bakery', 'confectionery', 'pastery', 'tea', 'wine', 'juice', 'coffee', 'food']\n",
    "\n",
    "for restaurant in restaurant_iter:\n",
    "    restaurant_iter.set_description(f\"Finding OSM IDs\")\n",
    "    restaurant_iter.set_postfix({'restaurant': restaurant['name']})\n",
    "    response = requests.get(f'https://nominatim.openstreetmap.org/search?q={restaurant[\"address\"]}&format=json', headers=headers)\n",
    "    if response.status_code == 200:\n",
    "        for result in response.json():\n",
    "            if result['class'] == 'amenity' and result['type'] in amenity_types:\n",
    "                osm_join_data['google_places_id'].append(restaurant['place_id'])\n",
    "                osm_join_data['osm_id'].append(result['place_id'])\n",
    "                osm_restaurants.append(result)\n",
    "                \n",
    "    else:\n",
    "        print(f\"Error: {response.status_code}\")\n",
    "        print(response.content)\n",
    "    time.sleep(2)"
   ],
   "id": "4e854584be329965",
   "outputs": [
    {
     "name": "stderr",
     "output_type": "stream",
     "text": [
      "Finding OSM IDs: 100%|██████████| 60/60 [02:15<00:00,  2.26s/it, restaurant=Goldeneshorn]                                                   \n"
     ]
    }
   ],
   "execution_count": 48
  },
  {
   "metadata": {
    "ExecuteTime": {
     "end_time": "2024-10-08T18:43:36.186902Z",
     "start_time": "2024-10-08T18:43:36.182208Z"
    }
   },
   "cell_type": "code",
   "source": "pd.DataFrame(osm_join_data).to_csv('google_osm.csv', index=False)",
   "id": "dae6916d402408b1",
   "outputs": [],
   "execution_count": 49
  },
  {
   "metadata": {
    "ExecuteTime": {
     "end_time": "2024-10-08T18:43:38.819991Z",
     "start_time": "2024-10-08T18:43:38.814036Z"
    }
   },
   "cell_type": "code",
   "source": "pd.DataFrame(osm_restaurants).to_csv('osm_restaurants.csv', index=False)",
   "id": "4e54a4db197b45b4",
   "outputs": [],
   "execution_count": 50
  }
 ],
 "metadata": {
  "kernelspec": {
   "display_name": "Python 3",
   "language": "python",
   "name": "python3"
  },
  "language_info": {
   "codemirror_mode": {
    "name": "ipython",
    "version": 2
   },
   "file_extension": ".py",
   "mimetype": "text/x-python",
   "name": "python",
   "nbconvert_exporter": "python",
   "pygments_lexer": "ipython2",
   "version": "2.7.6"
  }
 },
 "nbformat": 4,
 "nbformat_minor": 5
}
