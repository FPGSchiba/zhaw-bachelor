{
 "cells": [
  {
   "cell_type": "code",
   "id": "initial_id",
   "metadata": {
    "collapsed": true,
    "ExecuteTime": {
     "end_time": "2025-09-26T06:35:44.561772Z",
     "start_time": "2025-09-26T06:35:44.559049Z"
    }
   },
   "source": "mu_y = (1+2+1.3+3.75+2.25)/5",
   "outputs": [],
   "execution_count": 3
  },
  {
   "metadata": {
    "ExecuteTime": {
     "end_time": "2025-09-26T06:36:08.351979Z",
     "start_time": "2025-09-26T06:36:08.349986Z"
    }
   },
   "cell_type": "code",
   "source": "mu_x = (1+2+3+4+5)/5",
   "id": "bb8cbacbdfb55b3c",
   "outputs": [],
   "execution_count": 5
  },
  {
   "metadata": {
    "ExecuteTime": {
     "end_time": "2025-09-26T06:40:36.674864Z",
     "start_time": "2025-09-26T06:40:36.672026Z"
    }
   },
   "cell_type": "code",
   "source": "((1-mu_y)*(1-mu_x)+(2-mu_y)*(2-mu_x)+(1.3-mu_y)*(3-mu_x)+(3.75-mu_y)*(4-mu_x)+(2.25-mu_y)*(5-mu_x))/((1-mu_x)**2+(2-mu_x)**2+(3-mu_x)**2+(4-mu_x)**2+(5-mu_x)**2)",
   "id": "8b79b58ed11c0a43",
   "outputs": [
    {
     "data": {
      "text/plain": [
       "0.425"
      ]
     },
     "execution_count": 6,
     "metadata": {},
     "output_type": "execute_result"
    }
   ],
   "execution_count": 6
  },
  {
   "metadata": {
    "ExecuteTime": {
     "end_time": "2025-09-26T06:41:30.337195Z",
     "start_time": "2025-09-26T06:41:30.334655Z"
    }
   },
   "cell_type": "code",
   "source": "mu_y - 0.425*mu_x",
   "id": "c5210b6aad796d9c",
   "outputs": [
    {
     "data": {
      "text/plain": [
       "0.7850000000000001"
      ]
     },
     "execution_count": 7,
     "metadata": {},
     "output_type": "execute_result"
    }
   ],
   "execution_count": 7
  },
  {
   "metadata": {
    "ExecuteTime": {
     "end_time": "2025-09-26T07:32:02.904555Z",
     "start_time": "2025-09-26T07:32:02.902234Z"
    }
   },
   "cell_type": "code",
   "source": "ss_tot = (1-mu_y)**2+(2-mu_y)**2+(1.3-mu_y)**2+(3.75-mu_y)**2+(2.25-mu_y)**2",
   "id": "a5c5d742c0b5bf2b",
   "outputs": [],
   "execution_count": 9
  },
  {
   "metadata": {
    "ExecuteTime": {
     "end_time": "2025-09-26T07:33:46.968255Z",
     "start_time": "2025-09-26T07:33:46.965783Z"
    }
   },
   "cell_type": "code",
   "source": "f = lambda x: 0.785 + 0.425*x",
   "id": "b1a9205910ab51fc",
   "outputs": [],
   "execution_count": 10
  },
  {
   "metadata": {
    "ExecuteTime": {
     "end_time": "2025-09-26T07:34:03.873858Z",
     "start_time": "2025-09-26T07:34:03.871254Z"
    }
   },
   "cell_type": "code",
   "source": [
    "for x in [1,2,3,4,5]:\n",
    "    print(f(x))"
   ],
   "id": "5962e9e51e48ccf2",
   "outputs": [
    {
     "name": "stdout",
     "output_type": "stream",
     "text": [
      "1.21\n",
      "1.635\n",
      "2.06\n",
      "2.485\n",
      "2.91\n"
     ]
    }
   ],
   "execution_count": 12
  },
  {
   "metadata": {
    "ExecuteTime": {
     "end_time": "2025-09-26T07:37:16.927256Z",
     "start_time": "2025-09-26T07:37:16.925228Z"
    }
   },
   "cell_type": "code",
   "source": "ss_res = (1-f(1))**2 + (2-f(2))**2 + (1.3-f(3))**2 + (3.75-f(4))**2 + (2.25-f(5))**2",
   "id": "332058a43a7dff18",
   "outputs": [],
   "execution_count": 15
  },
  {
   "metadata": {
    "ExecuteTime": {
     "end_time": "2025-09-26T07:37:18.022630Z",
     "start_time": "2025-09-26T07:37:18.020272Z"
    }
   },
   "cell_type": "code",
   "source": "1-ss_res/ss_tot",
   "id": "d56fac7d20eca0e5",
   "outputs": [
    {
     "data": {
      "text/plain": [
       "0.3929192951925169"
      ]
     },
     "execution_count": 16,
     "metadata": {},
     "output_type": "execute_result"
    }
   ],
   "execution_count": 16
  }
 ],
 "metadata": {
  "kernelspec": {
   "display_name": "Python 3",
   "language": "python",
   "name": "python3"
  },
  "language_info": {
   "codemirror_mode": {
    "name": "ipython",
    "version": 2
   },
   "file_extension": ".py",
   "mimetype": "text/x-python",
   "name": "python",
   "nbconvert_exporter": "python",
   "pygments_lexer": "ipython2",
   "version": "2.7.6"
  }
 },
 "nbformat": 4,
 "nbformat_minor": 5
}
