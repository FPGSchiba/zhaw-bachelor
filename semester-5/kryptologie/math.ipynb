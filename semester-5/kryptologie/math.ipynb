{
 "cells": [
  {
   "cell_type": "code",
   "id": "initial_id",
   "metadata": {
    "collapsed": true,
    "ExecuteTime": {
     "end_time": "2025-09-16T13:43:38.686923Z",
     "start_time": "2025-09-16T13:43:38.684069Z"
    }
   },
   "source": "5**82%83",
   "outputs": [
    {
     "data": {
      "text/plain": [
       "1"
      ]
     },
     "execution_count": 3,
     "metadata": {},
     "output_type": "execute_result"
    }
   ],
   "execution_count": 3
  },
  {
   "metadata": {
    "ExecuteTime": {
     "end_time": "2025-09-16T13:52:28.096651Z",
     "start_time": "2025-09-16T13:52:28.094165Z"
    }
   },
   "cell_type": "code",
   "source": "pow(2, 12, 37)",
   "id": "7611b3b55a46ac16",
   "outputs": [
    {
     "data": {
      "text/plain": [
       "26"
      ]
     },
     "execution_count": 6,
     "metadata": {},
     "output_type": "execute_result"
    }
   ],
   "execution_count": 6
  },
  {
   "metadata": {
    "ExecuteTime": {
     "end_time": "2025-09-16T14:11:45.585771Z",
     "start_time": "2025-09-16T14:11:45.582233Z"
    }
   },
   "cell_type": "code",
   "source": "9746%17",
   "id": "1a49fcfaffb7a32d",
   "outputs": [
    {
     "data": {
      "text/plain": [
       "5"
      ]
     },
     "execution_count": 7,
     "metadata": {},
     "output_type": "execute_result"
    }
   ],
   "execution_count": 7
  },
  {
   "metadata": {
    "ExecuteTime": {
     "end_time": "2025-09-16T14:17:32.671619Z",
     "start_time": "2025-09-16T14:17:32.669458Z"
    }
   },
   "cell_type": "code",
   "source": "9**23%143",
   "id": "d11fb1d3c11b675a",
   "outputs": [
    {
     "data": {
      "text/plain": [
       "3"
      ]
     },
     "execution_count": 8,
     "metadata": {},
     "output_type": "execute_result"
    }
   ],
   "execution_count": 8
  },
  {
   "metadata": {
    "ExecuteTime": {
     "end_time": "2025-09-16T14:17:50.963192Z",
     "start_time": "2025-09-16T14:17:50.960475Z"
    }
   },
   "cell_type": "code",
   "source": "3**47%143",
   "id": "efdb56e6bfeda6da",
   "outputs": [
    {
     "data": {
      "text/plain": [
       "9"
      ]
     },
     "execution_count": 9,
     "metadata": {},
     "output_type": "execute_result"
    }
   ],
   "execution_count": 9
  },
  {
   "metadata": {
    "ExecuteTime": {
     "end_time": "2025-09-16T14:24:03.799058Z",
     "start_time": "2025-09-16T14:24:03.796094Z"
    }
   },
   "cell_type": "code",
   "source": [
    "power = 1\n",
    "while True:\n",
    "    res = pow(2, power, 17)\n",
    "    power += 1\n",
    "    print(res)\n",
    "    if res == 1:\n",
    "        break"
   ],
   "id": "bb4c188263b1e665",
   "outputs": [
    {
     "name": "stdout",
     "output_type": "stream",
     "text": [
      "2\n",
      "4\n",
      "8\n",
      "16\n",
      "15\n",
      "13\n",
      "9\n",
      "1\n"
     ]
    }
   ],
   "execution_count": 11
  },
  {
   "metadata": {
    "ExecuteTime": {
     "end_time": "2025-09-16T14:28:12.910862Z",
     "start_time": "2025-09-16T14:28:12.907158Z"
    }
   },
   "cell_type": "code",
   "source": "pow(9, 5, 17)",
   "id": "580dbf1dee1b2dba",
   "outputs": [
    {
     "data": {
      "text/plain": [
       "8"
      ]
     },
     "execution_count": 12,
     "metadata": {},
     "output_type": "execute_result"
    }
   ],
   "execution_count": 12
  },
  {
   "metadata": {
    "ExecuteTime": {
     "end_time": "2025-09-16T14:43:48.825194Z",
     "start_time": "2025-09-16T14:43:48.823086Z"
    }
   },
   "cell_type": "code",
   "source": [
    "for elem in [2, 3, 103]:\n",
    "    print(pow(2, int(1236/elem), 1237))"
   ],
   "id": "ecd94c506402f554",
   "outputs": [
    {
     "name": "stdout",
     "output_type": "stream",
     "text": [
      "1236\n",
      "300\n",
      "385\n"
     ]
    }
   ],
   "execution_count": 20
  },
  {
   "metadata": {
    "ExecuteTime": {
     "end_time": "2025-09-16T14:55:05.844161Z",
     "start_time": "2025-09-16T14:55:05.841936Z"
    }
   },
   "cell_type": "code",
   "source": "pow(2, 12, 1237)",
   "id": "f1e57ebbd94ada8f",
   "outputs": [
    {
     "data": {
      "text/plain": [
       "385"
      ]
     },
     "execution_count": 23,
     "metadata": {},
     "output_type": "execute_result"
    }
   ],
   "execution_count": 23
  },
  {
   "metadata": {
    "ExecuteTime": {
     "end_time": "2025-09-16T15:07:17.113743Z",
     "start_time": "2025-09-16T15:07:17.111376Z"
    }
   },
   "cell_type": "code",
   "source": "pow(6, 8, 17)",
   "id": "2577c0245b9073fc",
   "outputs": [
    {
     "data": {
      "text/plain": [
       "16"
      ]
     },
     "execution_count": 24,
     "metadata": {},
     "output_type": "execute_result"
    }
   ],
   "execution_count": 24
  },
  {
   "metadata": {
    "ExecuteTime": {
     "end_time": "2025-09-16T15:46:52.126734Z",
     "start_time": "2025-09-16T15:46:52.124001Z"
    }
   },
   "cell_type": "code",
   "source": "400**611%899",
   "id": "451a4d27db18e47a",
   "outputs": [
    {
     "data": {
      "text/plain": [
       "297"
      ]
     },
     "execution_count": 32,
     "metadata": {},
     "output_type": "execute_result"
    }
   ],
   "execution_count": 32
  }
 ],
 "metadata": {
  "kernelspec": {
   "display_name": "Python 3",
   "language": "python",
   "name": "python3"
  },
  "language_info": {
   "codemirror_mode": {
    "name": "ipython",
    "version": 2
   },
   "file_extension": ".py",
   "mimetype": "text/x-python",
   "name": "python",
   "nbconvert_exporter": "python",
   "pygments_lexer": "ipython2",
   "version": "2.7.6"
  }
 },
 "nbformat": 4,
 "nbformat_minor": 5
}
