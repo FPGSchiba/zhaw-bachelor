{
 "cells": [
  {
   "cell_type": "code",
   "execution_count": 11,
   "id": "initial_id",
   "metadata": {
    "collapsed": true,
    "ExecuteTime": {
     "end_time": "2023-10-18T11:09:07.810292Z",
     "start_time": "2023-10-18T11:09:07.808296Z"
    }
   },
   "outputs": [
    {
     "data": {
      "text/plain": "21.167020476606307"
     },
     "execution_count": 11,
     "metadata": {},
     "output_type": "execute_result"
    }
   ],
   "source": [
    "import math\n",
    "math.degrees(math.acos(226/(math.sqrt(7**2 + (-8)**2 + (-11)**2)*math.sqrt(11**2 + (-9)**2 + (-7)**2))))"
   ]
  },
  {
   "cell_type": "code",
   "execution_count": 1,
   "outputs": [
    {
     "data": {
      "text/plain": "[0, 0, 0, 0, 0]"
     },
     "execution_count": 1,
     "metadata": {},
     "output_type": "execute_result"
    }
   ],
   "source": [
    "[0]*5"
   ],
   "metadata": {
    "collapsed": false,
    "ExecuteTime": {
     "end_time": "2023-11-15T15:30:05.854342Z",
     "start_time": "2023-11-15T15:30:05.849180Z"
    }
   },
   "id": "b25bc137d3bf620e"
  },
  {
   "cell_type": "code",
   "execution_count": 1,
   "outputs": [
    {
     "data": {
      "text/plain": "9.8"
     },
     "execution_count": 1,
     "metadata": {},
     "output_type": "execute_result"
    }
   ],
   "source": [
    "(7+8+9+9+10+10+10+11+12+12)/10"
   ],
   "metadata": {
    "collapsed": false,
    "ExecuteTime": {
     "end_time": "2023-10-18T12:36:32.339412Z",
     "start_time": "2023-10-18T12:36:32.330134Z"
    }
   },
   "id": "5095908d9f7db48c"
  },
  {
   "cell_type": "code",
   "execution_count": 3,
   "outputs": [
    {
     "data": {
      "text/plain": "10.0"
     },
     "execution_count": 3,
     "metadata": {},
     "output_type": "execute_result"
    }
   ],
   "source": [
    "(7+9+9+10+10+10+10+10+11+11+13)/11"
   ],
   "metadata": {
    "collapsed": false,
    "ExecuteTime": {
     "end_time": "2023-10-18T12:37:42.733024Z",
     "start_time": "2023-10-18T12:37:42.731058Z"
    }
   },
   "id": "aaff367263b05454"
  },
  {
   "cell_type": "code",
   "execution_count": 5,
   "outputs": [
    {
     "data": {
      "text/plain": "10.0"
     },
     "execution_count": 5,
     "metadata": {},
     "output_type": "execute_result"
    }
   ],
   "source": [
    "(3+3+6+7+7+10+10+10+11+13+30)/11"
   ],
   "metadata": {
    "collapsed": false,
    "ExecuteTime": {
     "end_time": "2023-10-18T12:38:59.359754Z",
     "start_time": "2023-10-18T12:38:59.354586Z"
    }
   },
   "id": "790a4f66b0aabda"
  },
  {
   "cell_type": "code",
   "execution_count": 7,
   "outputs": [
    {
     "ename": "ValueError",
     "evalue": "math domain error",
     "output_type": "error",
     "traceback": [
      "\u001B[0;31m---------------------------------------------------------------------------\u001B[0m",
      "\u001B[0;31mValueError\u001B[0m                                Traceback (most recent call last)",
      "Cell \u001B[0;32mIn[7], line 1\u001B[0m\n\u001B[0;32m----> 1\u001B[0m math\u001B[38;5;241m.\u001B[39macos(\u001B[38;5;241m14.774082180409863\u001B[39m)\n",
      "\u001B[0;31mValueError\u001B[0m: math domain error"
     ]
    }
   ],
   "source": [
    "math.acos(14.774082180409863)"
   ],
   "metadata": {
    "collapsed": false,
    "ExecuteTime": {
     "end_time": "2023-10-18T11:07:30.055812Z",
     "start_time": "2023-10-18T11:07:30.054378Z"
    }
   },
   "id": "f8433fd471ac47b4"
  },
  {
   "cell_type": "code",
   "execution_count": 17,
   "outputs": [
    {
     "data": {
      "text/plain": "10.88577052853862"
     },
     "execution_count": 17,
     "metadata": {},
     "output_type": "execute_result"
    }
   ],
   "source": [
    "import math\n",
    "math.sqrt(118.5)"
   ],
   "metadata": {
    "collapsed": false,
    "ExecuteTime": {
     "end_time": "2023-10-18T11:39:41.430921Z",
     "start_time": "2023-10-18T11:39:41.428274Z"
    }
   },
   "id": "7ab42fc7d799473b"
  },
  {
   "cell_type": "code",
   "execution_count": 19,
   "outputs": [
    {
     "data": {
      "text/plain": "-0.75"
     },
     "execution_count": 19,
     "metadata": {},
     "output_type": "execute_result"
    }
   ],
   "source": [
    "-2+1.25"
   ],
   "metadata": {
    "collapsed": false,
    "ExecuteTime": {
     "end_time": "2023-10-18T11:40:56.963224Z",
     "start_time": "2023-10-18T11:40:56.960223Z"
    }
   },
   "id": "ec06444dc8419ef1"
  },
  {
   "cell_type": "code",
   "execution_count": 6,
   "outputs": [
    {
     "data": {
      "text/plain": "2.5500000000000043"
     },
     "execution_count": 6,
     "metadata": {},
     "output_type": "execute_result"
    }
   ],
   "source": [
    "55.85-53.3"
   ],
   "metadata": {
    "collapsed": false,
    "ExecuteTime": {
     "end_time": "2023-10-18T12:48:24.176302Z",
     "start_time": "2023-10-18T12:48:24.173207Z"
    }
   },
   "id": "12dfaec79268bee4"
  },
  {
   "cell_type": "code",
   "execution_count": 7,
   "outputs": [
    {
     "data": {
      "text/plain": "0.6375"
     },
     "execution_count": 7,
     "metadata": {},
     "output_type": "execute_result"
    }
   ],
   "source": [
    "2.55/4"
   ],
   "metadata": {
    "collapsed": false,
    "ExecuteTime": {
     "end_time": "2023-10-18T12:48:46.789600Z",
     "start_time": "2023-10-18T12:48:46.787200Z"
    }
   },
   "id": "6a302b97fcc8909c"
  },
  {
   "cell_type": "code",
   "execution_count": 55,
   "outputs": [
    {
     "data": {
      "text/plain": "600.0"
     },
     "execution_count": 55,
     "metadata": {},
     "output_type": "execute_result"
    }
   ],
   "source": [
    "1800/3"
   ],
   "metadata": {
    "collapsed": false,
    "ExecuteTime": {
     "end_time": "2023-10-28T09:33:23.621834Z",
     "start_time": "2023-10-28T09:33:23.617722Z"
    }
   },
   "id": "88b4c0422a03039f"
  },
  {
   "cell_type": "code",
   "execution_count": 4,
   "outputs": [
    {
     "data": {
      "text/plain": "81"
     },
     "execution_count": 4,
     "metadata": {},
     "output_type": "execute_result"
    }
   ],
   "source": [
    "3**4"
   ],
   "metadata": {
    "collapsed": false,
    "ExecuteTime": {
     "end_time": "2023-11-04T09:22:58.827509Z",
     "start_time": "2023-11-04T09:22:58.824242Z"
    }
   },
   "id": "5c0826e87b002c44"
  },
  {
   "cell_type": "code",
   "execution_count": 5,
   "outputs": [
    {
     "data": {
      "text/plain": "81"
     },
     "execution_count": 5,
     "metadata": {},
     "output_type": "execute_result"
    }
   ],
   "source": [
    "27*2+27"
   ],
   "metadata": {
    "collapsed": false,
    "ExecuteTime": {
     "end_time": "2023-11-04T09:23:09.336079Z",
     "start_time": "2023-11-04T09:23:09.333125Z"
    }
   },
   "id": "a6e7c295f6c4c6e6"
  }
 ],
 "metadata": {
  "kernelspec": {
   "display_name": "Python 3",
   "language": "python",
   "name": "python3"
  },
  "language_info": {
   "codemirror_mode": {
    "name": "ipython",
    "version": 2
   },
   "file_extension": ".py",
   "mimetype": "text/x-python",
   "name": "python",
   "nbconvert_exporter": "python",
   "pygments_lexer": "ipython2",
   "version": "2.7.6"
  }
 },
 "nbformat": 4,
 "nbformat_minor": 5
}
